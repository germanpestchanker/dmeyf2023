{
 "cells": [
  {
   "cell_type": "markdown",
   "metadata": {},
   "source": [
    "## Importación de Librerías"
   ]
  },
  {
   "cell_type": "markdown",
   "metadata": {},
   "source": [
    "Este script esta pensado para correr en Google Cloud\n",
    "- 8 vCPU\n",
    "- 128 GB memoria RAM\n",
    "\n",
    "- se entrena con clase_binaria2  POS =  { BAJA+1, BAJA+2 }\n",
    "- Optimizacion Bayesiana de hiperparametros de  lightgbm,"
   ]
  },
  {
   "cell_type": "code",
   "execution_count": 1,
   "metadata": {
    "vscode": {
     "languageId": "r"
    }
   },
   "outputs": [
    {
     "data": {
      "text/html": [
       "<table class=\"dataframe\">\n",
       "<caption>A matrix: 2 × 6 of type dbl</caption>\n",
       "<thead>\n",
       "\t<tr><th></th><th scope=col>used</th><th scope=col>(Mb)</th><th scope=col>gc trigger</th><th scope=col>(Mb)</th><th scope=col>max used</th><th scope=col>(Mb)</th></tr>\n",
       "</thead>\n",
       "<tbody>\n",
       "\t<tr><th scope=row>Ncells</th><td> 631888</td><td>33.8</td><td>1412178</td><td>75.5</td><td> 984954</td><td>52.7</td></tr>\n",
       "\t<tr><th scope=row>Vcells</th><td>1170405</td><td> 9.0</td><td>8388608</td><td>64.0</td><td>1815603</td><td>13.9</td></tr>\n",
       "</tbody>\n",
       "</table>\n"
      ],
      "text/latex": [
       "A matrix: 2 × 6 of type dbl\n",
       "\\begin{tabular}{r|llllll}\n",
       "  & used & (Mb) & gc trigger & (Mb) & max used & (Mb)\\\\\n",
       "\\hline\n",
       "\tNcells &  631888 & 33.8 & 1412178 & 75.5 &  984954 & 52.7\\\\\n",
       "\tVcells & 1170405 &  9.0 & 8388608 & 64.0 & 1815603 & 13.9\\\\\n",
       "\\end{tabular}\n"
      ],
      "text/markdown": [
       "\n",
       "A matrix: 2 × 6 of type dbl\n",
       "\n",
       "| <!--/--> | used | (Mb) | gc trigger | (Mb) | max used | (Mb) |\n",
       "|---|---|---|---|---|---|---|\n",
       "| Ncells |  631888 | 33.8 | 1412178 | 75.5 |  984954 | 52.7 |\n",
       "| Vcells | 1170405 |  9.0 | 8388608 | 64.0 | 1815603 | 13.9 |\n",
       "\n"
      ],
      "text/plain": [
       "       used    (Mb) gc trigger (Mb) max used (Mb)\n",
       "Ncells  631888 33.8 1412178    75.5  984954  52.7\n",
       "Vcells 1170405  9.0 8388608    64.0 1815603  13.9"
      ]
     },
     "metadata": {},
     "output_type": "display_data"
    }
   ],
   "source": [
    "# limpio la memoria\n",
    "rm(list = ls()) # remove all objects\n",
    "gc() # garbage collection"
   ]
  },
  {
   "cell_type": "code",
   "execution_count": 2,
   "metadata": {
    "vscode": {
     "languageId": "r"
    }
   },
   "outputs": [
    {
     "name": "stderr",
     "output_type": "stream",
     "text": [
      "Loading required package: data.table\n",
      "\n",
      "Loading required package: rlist\n",
      "\n",
      "Loading required package: lightgbm\n",
      "\n"
     ]
    }
   ],
   "source": [
    "require(\"data.table\")\n",
    "require(\"rlist\")\n",
    "require(\"lightgbm\")"
   ]
  },
  {
   "cell_type": "code",
   "execution_count": 3,
   "metadata": {
    "vscode": {
     "languageId": "r"
    }
   },
   "outputs": [
    {
     "name": "stderr",
     "output_type": "stream",
     "text": [
      "Loading required package: DiceKriging\n",
      "\n"
     ]
    },
    {
     "name": "stderr",
     "output_type": "stream",
     "text": [
      "Loading required package: mlrMBO\n",
      "\n",
      "Loading required package: mlr\n",
      "\n",
      "Loading required package: ParamHelpers\n",
      "\n",
      "Warning message: 'mlr' is in 'maintenance-only' mode since July 2019.\n",
      "Future development will only happen in 'mlr3'\n",
      "(<https://mlr3.mlr-org.com>). Due to the focus on 'mlr3' there might be\n",
      "uncaught bugs meanwhile in {mlr} - please consider switching.\n",
      "\n",
      "Loading required package: smoof\n",
      "\n",
      "Loading required package: checkmate\n",
      "\n",
      "\n",
      "Attaching package: ‘checkmate’\n",
      "\n",
      "\n",
      "The following object is masked from ‘package:DiceKriging’:\n",
      "\n",
      "    checkNames\n",
      "\n",
      "\n"
     ]
    }
   ],
   "source": [
    "# paquetes necesarios para la Bayesian Optimization\n",
    "require(\"DiceKriging\")\n",
    "require(\"mlrMBO\")\n",
    "\n",
    "# para que se detenga ante el primer error\n",
    "# y muestre el stack de funciones invocadas\n",
    "options(error = function() {\n",
    "  traceback(20)\n",
    "  options(error = NULL)\n",
    "  stop(\"exiting after script error\")\n",
    "})"
   ]
  },
  {
   "cell_type": "markdown",
   "metadata": {},
   "source": [
    "# Definición de Parametros"
   ]
  },
  {
   "cell_type": "code",
   "execution_count": 4,
   "metadata": {
    "vscode": {
     "languageId": "r"
    }
   },
   "outputs": [],
   "source": [
    "# defino los parametros de la corrida, en una lista, la variable global  PARAM\n",
    "#  muy pronto esto se leera desde un archivo formato .yaml\n",
    "PARAM <- list()\n",
    "\n",
    "PARAM$experimento <- \"HT8230 (Clase 10-11, Ajustado Sem4)\"\n",
    "\n",
    "PARAM$input$dataset <- \"datasets/competencia_03_infla.csv.gz\"\n",
    "\n",
    "# los meses en los que vamos a entrenar\n",
    "#  mucha magia emerger de esta eleccion\n",
    "PARAM$input$testing <- c(202107) # Último mes, lo más cercano al 202109 de kaggle\n",
    "PARAM$input$validation <- c(202106)\n",
    "PARAM$input$training <- c(202105, 202104, 202103, 202102, 202101,\n",
    " 202012, 202011, 202010, 202009, 202008, 202002, 202001, 201912, 201911,\n",
    " 201910, 201909, 201908, 201907) #Tal como lo pide el pdf de la materia\n",
    "\n",
    "# un undersampling de 0.1  toma solo el 10% de los CONTINUA\n",
    "PARAM$trainingstrategy$undersampling <- 1.0\n",
    "PARAM$trainingstrategy$semilla_azar <- c(279511, 279523, 279541, 279551, 279571)  # Aqui poner su  primer  semilla/ pongo todas mis semillas\n",
    "\n",
    "PARAM$hyperparametertuning$POS_ganancia <- 273000\n",
    "PARAM$hyperparametertuning$NEG_ganancia <- -7000\n",
    "\n",
    "# Aqui poner su segunda semilla\n",
    "PARAM$lgb_semilla <- 279551"
   ]
  },
  {
   "cell_type": "code",
   "execution_count": 5,
   "metadata": {
    "vscode": {
     "languageId": "r"
    }
   },
   "outputs": [],
   "source": [
    "# Hiperparametros FIJOS de  lightgbm\n",
    "PARAM$lgb_basicos <- list(\n",
    "  boosting = \"gbdt\", # puede ir  dart  , ni pruebe random_forest\n",
    "  objective = \"binary\",\n",
    "  metric = \"custom\",\n",
    "  first_metric_only = TRUE,\n",
    "  boost_from_average = TRUE,\n",
    "  feature_pre_filter = FALSE,\n",
    "  force_row_wise = TRUE, # para reducir warnings\n",
    "  verbosity = -100,\n",
    "  max_depth = -1L, # -1 significa no limitar,  por ahora lo dejo fijo\n",
    "  min_gain_to_split = 0.0, # min_gain_to_split >= 0.0\n",
    "  min_sum_hessian_in_leaf = 0.001, #  min_sum_hessian_in_leaf >= 0.0\n",
    "  lambda_l1 = 0.0, # lambda_l1 >= 0.0\n",
    "  lambda_l2 = 0.0, # lambda_l2 >= 0.0\n",
    "  max_bin = 31L, # lo debo dejar fijo, no participa de la BO\n",
    "  num_iterations = 9999, # un numero muy grande, lo limita early_stopping_rounds\n",
    "\n",
    "  bagging_fraction = 1.0, # 0.0 < bagging_fraction <= 1.0\n",
    "  pos_bagging_fraction = 1.0, # 0.0 < pos_bagging_fraction <= 1.0\n",
    "  neg_bagging_fraction = 1.0, # 0.0 < neg_bagging_fraction <= 1.0\n",
    "  is_unbalance = FALSE, #\n",
    "  scale_pos_weight = 1.0, # scale_pos_weight > 0.0\n",
    "\n",
    "  drop_rate = 0.1, # 0.0 < neg_bagging_fraction <= 1.0\n",
    "  max_drop = 50, # <=0 means no limit\n",
    "  skip_drop = 0.5, # 0.0 <= skip_drop <= 1.0\n",
    "\n",
    "  extra_trees = TRUE, # Magic Sauce\n",
    "\n",
    "  seed = PARAM$lgb_semilla\n",
    ")"
   ]
  },
  {
   "cell_type": "code",
   "execution_count": 6,
   "metadata": {
    "vscode": {
     "languageId": "r"
    }
   },
   "outputs": [],
   "source": [
    "# Aqui se cargan los hiperparametros que se optimizan\n",
    "#  en la Bayesian Optimization\n",
    "PARAM$bo_lgb <- makeParamSet(\n",
    "  makeNumericParam(\"learning_rate\", lower = 0.02, upper = 0.3),\n",
    "  makeNumericParam(\"feature_fraction\", lower = 0.01, upper = 1.0),\n",
    "  makeIntegerParam(\"num_leaves\", lower = 8L, upper = 1024L),\n",
    "  makeIntegerParam(\"min_data_in_leaf\", lower = 100L, upper = 50000L)\n",
    ")\n",
    "\n",
    "# si usted es ambicioso, y tiene paciencia, podria subir este valor a 100\n",
    "PARAM$bo_iteraciones <- 50 # iteraciones de la Optimizacion Bayesiana"
   ]
  },
  {
   "cell_type": "code",
   "execution_count": 7,
   "metadata": {
    "vscode": {
     "languageId": "r"
    }
   },
   "outputs": [],
   "source": [
    "# graba a un archivo los componentes de lista\n",
    "# para el primer registro, escribe antes los titulos\n",
    "\n",
    "loguear <- function(\n",
    "    reg, arch = NA, folder = \"./exp/\",\n",
    "    ext = \".txt\", verbose = TRUE) {\n",
    "  archivo <- arch\n",
    "  if (is.na(arch)) archivo <- paste0(folder, substitute(reg), ext)\n",
    "\n",
    "  if (!file.exists(archivo)) # Escribo los titulos\n",
    "    {\n",
    "      linea <- paste0(\n",
    "        \"fecha\\t\",\n",
    "        paste(list.names(reg), collapse = \"\\t\"), \"\\n\"\n",
    "      )\n",
    "\n",
    "      cat(linea, file = archivo)\n",
    "    }\n",
    "\n",
    "  linea <- paste0(\n",
    "    format(Sys.time(), \"%Y%m%d %H%M%S\"), \"\\t\", # la fecha y hora\n",
    "    gsub(\", \", \"\\t\", toString(reg)), \"\\n\"\n",
    "  )\n",
    "\n",
    "  cat(linea, file = archivo, append = TRUE) # grabo al archivo\n",
    "\n",
    "  if (verbose) cat(linea) # imprimo por pantalla\n",
    "}"
   ]
  },
  {
   "cell_type": "code",
   "execution_count": 8,
   "metadata": {
    "vscode": {
     "languageId": "r"
    }
   },
   "outputs": [],
   "source": [
    "#------------------------------------------------------------------------------\n",
    "GLOBAL_arbol <- 0L\n",
    "GLOBAL_gan_max <- -Inf\n",
    "vcant_optima <- c()\n",
    "\n",
    "fganancia_lgbm_meseta <- function(probs, datos) {\n",
    "  vlabels <- get_field(datos, \"label\")\n",
    "  vpesos <- get_field(datos, \"weight\")\n",
    "\n",
    "\n",
    "  GLOBAL_arbol <<- GLOBAL_arbol + 1\n",
    "  tbl <- as.data.table(list(\n",
    "    \"prob\" = probs,\n",
    "    \"gan\" = ifelse(vlabels == 1 & vpesos > 1,\n",
    "      PARAM$hyperparametertuning$POS_ganancia,\n",
    "      PARAM$hyperparametertuning$NEG_ganancia  )\n",
    "  ))\n",
    "\n",
    "  setorder(tbl, -prob)\n",
    "  tbl[, posicion := .I]\n",
    "  tbl[, gan_acum := cumsum(gan)]\n",
    "\n",
    "  tbl[, gan_suavizada :=\n",
    "    frollmean(\n",
    "      x = gan_acum, n = 2001, align = \"center\",\n",
    "      na.rm = TRUE, hasNA = TRUE\n",
    "    )]\n",
    "\n",
    "  gan <- tbl[, max(gan_suavizada, na.rm = TRUE)]\n",
    "\n",
    "\n",
    "  pos <- which.max(tbl[, gan_suavizada])\n",
    "  vcant_optima <<- c(vcant_optima, pos)\n",
    "\n",
    "  if (GLOBAL_arbol %% 10 == 0) {\n",
    "    if (gan > GLOBAL_gan_max) GLOBAL_gan_max <<- gan\n",
    "\n",
    "    cat(\"\\r\")\n",
    "    cat(\n",
    "      \"Validate \", GLOBAL_iteracion, \" \", \" \",\n",
    "      GLOBAL_arbol, \"  \", gan, \"   \", GLOBAL_gan_max, \"   \"\n",
    "    )\n",
    "  }\n",
    "\n",
    "\n",
    "  return(list(\n",
    "    \"name\" = \"ganancia\",\n",
    "    \"value\" = gan,\n",
    "    \"higher_better\" = TRUE\n",
    "  ))\n",
    "}"
   ]
  },
  {
   "cell_type": "code",
   "execution_count": 9,
   "metadata": {
    "vscode": {
     "languageId": "r"
    }
   },
   "outputs": [],
   "source": [
    "#------------------------------------------------------------------------------\n",
    "\n",
    "EstimarGanancia_lightgbm <- function(x) {\n",
    "  gc()\n",
    "  GLOBAL_iteracion <<- GLOBAL_iteracion + 1L\n",
    "\n",
    "  # hago la union de los parametros basicos y los moviles que vienen en x\n",
    "  param_completo <- c(PARAM$lgb_basicos, x)\n",
    "\n",
    "  param_completo$early_stopping_rounds <-\n",
    "    as.integer(400 + 4 / param_completo$learning_rate)\n",
    "\n",
    "  GLOBAL_arbol <<- 0L\n",
    "  GLOBAL_gan_max <<- -Inf\n",
    "  vcant_optima <<- c()\n",
    "  set.seed(PARAM$lgb_semilla, kind = \"L'Ecuyer-CMRG\")\n",
    "  modelo_train <- lgb.train(\n",
    "    data = dtrain,\n",
    "    valids = list(valid = dvalidate),\n",
    "    eval = fganancia_lgbm_meseta,\n",
    "    param = param_completo,\n",
    "    verbose = -100\n",
    "  )\n",
    "\n",
    "  cat(\"\\n\")\n",
    "\n",
    "  cant_corte <- vcant_optima[modelo_train$best_iter]\n",
    "\n",
    "  # aplico el modelo a testing y calculo la ganancia\n",
    "  prediccion <- predict(\n",
    "    modelo_train,\n",
    "    data.matrix(dataset_test[, campos_buenos, with = FALSE])\n",
    "  )\n",
    "\n",
    "  tbl <- copy(dataset_test[, list(\"gan\" = ifelse(clase_ternaria == \"BAJA+2\",\n",
    "    PARAM$hyperparametertuning$POS_ganancia, \n",
    "    PARAM$hyperparametertuning$NEG_ganancia))])\n",
    "\n",
    "  tbl[, prob := prediccion]\n",
    "  setorder(tbl, -prob)\n",
    "  tbl[, gan_acum := cumsum(gan)]\n",
    "  tbl[, gan_suavizada := frollmean(\n",
    "    x = gan_acum, n = 2001,\n",
    "    align = \"center\", na.rm = TRUE, hasNA = TRUE\n",
    "  )]\n",
    "\n",
    "\n",
    "  ganancia_test <- tbl[, max(gan_suavizada, na.rm = TRUE)]\n",
    "\n",
    "  cantidad_test_normalizada <- which.max(tbl[, gan_suavizada])\n",
    "\n",
    "  rm(tbl)\n",
    "  gc()\n",
    "\n",
    "  ganancia_test_normalizada <- ganancia_test\n",
    "\n",
    "\n",
    "  # voy grabando las mejores column importance\n",
    "  if (ganancia_test_normalizada > GLOBAL_gananciamax) {\n",
    "    GLOBAL_gananciamax <<- ganancia_test_normalizada\n",
    "    tb_importancia <- as.data.table(lgb.importance(modelo_train))\n",
    "\n",
    "    fwrite(tb_importancia,\n",
    "      file = paste0(\"impo_\", sprintf(\"%03d\", GLOBAL_iteracion), \".txt\"),\n",
    "      sep = \"\\t\"\n",
    "    )\n",
    "\n",
    "    rm(tb_importancia)\n",
    "  }\n",
    "\n",
    "\n",
    "  # logueo final\n",
    "  ds <- list(\"cols\" = ncol(dtrain), \"rows\" = nrow(dtrain))\n",
    "  xx <- c(ds, copy(param_completo))\n",
    "\n",
    "  xx$early_stopping_rounds <- NULL\n",
    "  xx$num_iterations <- modelo_train$best_iter\n",
    "  xx$estimulos <- cantidad_test_normalizada\n",
    "  xx$ganancia <- ganancia_test_normalizada\n",
    "  xx$iteracion_bayesiana <- GLOBAL_iteracion\n",
    "\n",
    "  loguear(xx, arch = \"BO_log.txt\")\n",
    "\n",
    "  set.seed(PARAM$lgb_semilla, kind = \"L'Ecuyer-CMRG\")\n",
    "  return(ganancia_test_normalizada)\n",
    "}"
   ]
  },
  {
   "cell_type": "markdown",
   "metadata": {},
   "source": [
    "# Aquí empieza el programa"
   ]
  },
  {
   "cell_type": "code",
   "execution_count": 10,
   "metadata": {
    "vscode": {
     "languageId": "r"
    }
   },
   "outputs": [],
   "source": [
    "# Aqui empieza el programa\n",
    "\n",
    "# Aqui se debe poner la carpeta de la computadora local\n",
    "setwd(\"~/buckets/b1/\") # Establezco el Working Directory\n",
    "\n",
    "# cargo el dataset donde voy a entrenar el modelo\n",
    "dataset <- fread(PARAM$input$dataset)"
   ]
  },
  {
   "cell_type": "code",
   "execution_count": 11,
   "metadata": {
    "vscode": {
     "languageId": "r"
    }
   },
   "outputs": [],
   "source": [
    "# creo la carpeta donde va el experimento\n",
    "dir.create(\"./exp/\", showWarnings = FALSE)\n",
    "dir.create(paste0(\"./exp/\", PARAM$experimento, \"/\"), showWarnings = FALSE)\n",
    "\n",
    "# Establezco el Working Directory DEL EXPERIMENTO\n",
    "setwd(paste0(\"./exp/\", PARAM$experimento, \"/\"))\n",
    "\n",
    "# en estos archivos quedan los resultados\n",
    "kbayesiana <- paste0(PARAM$experimento, \".RDATA\")\n",
    "klog <- paste0(PARAM$experimento, \".txt\")\n"
   ]
  },
  {
   "cell_type": "code",
   "execution_count": 12,
   "metadata": {
    "vscode": {
     "languageId": "r"
    }
   },
   "outputs": [],
   "source": [
    "# Catastrophe Analysis  -------------------------------------------------------\n",
    "# deben ir cosas de este estilo\n",
    "#   dataset[foto_mes == 202006, active_quarter := NA]\n",
    "\n",
    "# Data Drifting\n",
    "# por ahora, no hago nada\n",
    "\n",
    "\n",
    "# Feature Engineering Historico  ----------------------------------------------\n",
    "#   aqui deben calcularse los  lags y  lag_delta\n",
    "#   Sin lags no hay paraiso !  corta la bocha"
   ]
  },
  {
   "cell_type": "code",
   "execution_count": null,
   "metadata": {
    "vscode": {
     "languageId": "r"
    }
   },
   "outputs": [],
   "source": []
  },
  {
   "cell_type": "code",
   "execution_count": 13,
   "metadata": {
    "vscode": {
     "languageId": "r"
    }
   },
   "outputs": [],
   "source": [
    "# ahora SI comienza la optimizacion Bayesiana\n",
    "\n",
    "GLOBAL_iteracion <- 0 # inicializo la variable global\n",
    "GLOBAL_gananciamax <- -1 # inicializo la variable global\n",
    "\n",
    "# si ya existe el archivo log, traigo hasta donde llegue\n",
    "if (file.exists(klog)) {\n",
    "  tabla_log <- fread(klog)\n",
    "  GLOBAL_iteracion <- nrow(tabla_log)\n",
    "  GLOBAL_gananciamax <- tabla_log[, max(ganancia)]\n",
    "}\n"
   ]
  },
  {
   "cell_type": "code",
   "execution_count": 14,
   "metadata": {
    "vscode": {
     "languageId": "r"
    }
   },
   "outputs": [],
   "source": [
    "# paso la clase a binaria que tome valores {0,1}  enteros\n",
    "dataset[, clase01 := ifelse(clase_ternaria == \"CONTINUA\", 0L, 1L)]\n",
    "\n",
    "\n",
    "# los campos que se van a utilizar\n",
    "campos_buenos <- setdiff(\n",
    "  colnames(dataset),\n",
    "  c(\"clase_ternaria\", \"clase01\", \"azar\", \"training\")\n",
    ")"
   ]
  },
  {
   "cell_type": "code",
   "execution_count": 15,
   "metadata": {
    "vscode": {
     "languageId": "r"
    }
   },
   "outputs": [],
   "source": [
    "# defino los datos que forma parte del training\n",
    "# aqui se hace el undersampling de los CONTINUA\n",
    "set.seed(PARAM$trainingstrategy$semilla_azar)\n",
    "dataset[, azar := runif(nrow(dataset))]\n",
    "dataset[, training := 0L]\n",
    "dataset[\n",
    "  foto_mes %in% PARAM$input$training &\n",
    "    (azar <= PARAM$trainingstrategy$undersampling | clase_ternaria %in% c(\"BAJA+1\", \"BAJA+2\")),\n",
    "  training := 1L\n",
    "]"
   ]
  },
  {
   "cell_type": "code",
   "execution_count": 16,
   "metadata": {
    "vscode": {
     "languageId": "r"
    }
   },
   "outputs": [],
   "source": [
    "# dejo los datos en el formato que necesita LightGBM\n",
    "dtrain <- lgb.Dataset(\n",
    "  data = data.matrix(dataset[training == 1L, campos_buenos, with = FALSE]),\n",
    "  label = dataset[training == 1L, clase01],\n",
    "  weight = dataset[training == 1L, \n",
    "    ifelse(clase_ternaria == \"BAJA+2\", 1.0000001, \n",
    "      ifelse(clase_ternaria == \"BAJA+1\", 1.0, 1.0))],\n",
    "  free_raw_data = FALSE\n",
    ")"
   ]
  },
  {
   "cell_type": "code",
   "execution_count": 17,
   "metadata": {
    "vscode": {
     "languageId": "r"
    }
   },
   "outputs": [],
   "source": [
    "# defino los datos que forman parte de validation\n",
    "#  no hay undersampling\n",
    "dataset[, validation := 0L]\n",
    "dataset[ foto_mes %in% PARAM$input$validation,  validation := 1L]\n",
    "\n",
    "dvalidate <- lgb.Dataset(\n",
    "  data = data.matrix(dataset[validation == 1L, campos_buenos, with = FALSE]),\n",
    "  label = dataset[validation == 1L, clase01],\n",
    "  weight = dataset[validation == 1L, \n",
    "    ifelse(clase_ternaria == \"BAJA+2\", 1.0000001, \n",
    "      ifelse(clase_ternaria == \"BAJA+1\", 1.0, 1.0))],\n",
    "  free_raw_data = FALSE\n",
    ")"
   ]
  },
  {
   "cell_type": "code",
   "execution_count": 18,
   "metadata": {
    "vscode": {
     "languageId": "r"
    }
   },
   "outputs": [],
   "source": [
    "# defino los datos de testing\n",
    "dataset[, testing := 0L]\n",
    "dataset[ foto_mes %in% PARAM$input$testing,  testing := 1L]\n",
    "\n",
    "\n",
    "dataset_test <- dataset[testing == 1, ]"
   ]
  },
  {
   "cell_type": "code",
   "execution_count": 19,
   "metadata": {
    "vscode": {
     "languageId": "r"
    }
   },
   "outputs": [
    {
     "data": {
      "text/html": [
       "<table class=\"dataframe\">\n",
       "<caption>A matrix: 2 × 6 of type dbl</caption>\n",
       "<thead>\n",
       "\t<tr><th></th><th scope=col>used</th><th scope=col>(Mb)</th><th scope=col>gc trigger</th><th scope=col>(Mb)</th><th scope=col>max used</th><th scope=col>(Mb)</th></tr>\n",
       "</thead>\n",
       "<tbody>\n",
       "\t<tr><th scope=row>Ncells</th><td>  2238702</td><td> 119.6</td><td>   4351991</td><td>  232.5</td><td>   2938848</td><td>  157.0</td></tr>\n",
       "\t<tr><th scope=row>Vcells</th><td>476928388</td><td>3638.7</td><td>1399159448</td><td>10674.8</td><td>1748948555</td><td>13343.5</td></tr>\n",
       "</tbody>\n",
       "</table>\n"
      ],
      "text/latex": [
       "A matrix: 2 × 6 of type dbl\n",
       "\\begin{tabular}{r|llllll}\n",
       "  & used & (Mb) & gc trigger & (Mb) & max used & (Mb)\\\\\n",
       "\\hline\n",
       "\tNcells &   2238702 &  119.6 &    4351991 &   232.5 &    2938848 &   157.0\\\\\n",
       "\tVcells & 476928388 & 3638.7 & 1399159448 & 10674.8 & 1748948555 & 13343.5\\\\\n",
       "\\end{tabular}\n"
      ],
      "text/markdown": [
       "\n",
       "A matrix: 2 × 6 of type dbl\n",
       "\n",
       "| <!--/--> | used | (Mb) | gc trigger | (Mb) | max used | (Mb) |\n",
       "|---|---|---|---|---|---|---|\n",
       "| Ncells |   2238702 |  119.6 |    4351991 |   232.5 |    2938848 |   157.0 |\n",
       "| Vcells | 476928388 | 3638.7 | 1399159448 | 10674.8 | 1748948555 | 13343.5 |\n",
       "\n"
      ],
      "text/plain": [
       "       used      (Mb)   gc trigger (Mb)    max used   (Mb)   \n",
       "Ncells   2238702  119.6    4351991   232.5    2938848   157.0\n",
       "Vcells 476928388 3638.7 1399159448 10674.8 1748948555 13343.5"
      ]
     },
     "metadata": {},
     "output_type": "display_data"
    }
   ],
   "source": [
    "# libero espacio\n",
    "rm(dataset)\n",
    "gc()"
   ]
  },
  {
   "cell_type": "code",
   "execution_count": 20,
   "metadata": {
    "vscode": {
     "languageId": "r"
    }
   },
   "outputs": [],
   "source": [
    "# Aqui comienza la configuracion de la Bayesian Optimization\n",
    "funcion_optimizar <- EstimarGanancia_lightgbm # la funcion que voy a maximizar\n",
    "\n",
    "configureMlr(show.learner.output = FALSE)\n",
    "\n",
    "# configuro la busqueda bayesiana,  los hiperparametros que se van a optimizar\n",
    "# por favor, no desesperarse por lo complejo\n",
    "obj.fun <- makeSingleObjectiveFunction(\n",
    "  fn = funcion_optimizar, # la funcion que voy a maximizar\n",
    "  minimize = FALSE, # estoy Maximizando la ganancia\n",
    "  noisy = TRUE,\n",
    "  par.set = PARAM$bo_lgb, # definido al comienzo del programa\n",
    "  has.simple.signature = FALSE # paso los parametros en una lista\n",
    ")\n",
    "\n",
    "# cada 600 segundos guardo el resultado intermedio\n",
    "ctrl <- makeMBOControl(\n",
    "  save.on.disk.at.time = 600, # se graba cada 600 segundos\n",
    "  save.file.path = kbayesiana\n",
    ") # se graba cada 600 segundos\n",
    "\n",
    "# indico la cantidad de iteraciones que va a tener la Bayesian Optimization\n",
    "ctrl <- setMBOControlTermination(\n",
    "  ctrl,\n",
    "  iters = PARAM$bo_iteraciones\n",
    ") # cantidad de iteraciones\n",
    "\n",
    "# defino el método estandar para la creacion de los puntos iniciales,\n",
    "# los \"No Inteligentes\"\n",
    "ctrl <- setMBOControlInfill(ctrl, crit = makeMBOInfillCritEI())\n",
    "\n",
    "\n",
    "# establezco la funcion que busca el maximo\n",
    "surr.km <- makeLearner(\n",
    "  \"regr.km\",\n",
    "  predict.type = \"se\",\n",
    "  covtype = \"matern3_2\",\n",
    "  control = list(trace = TRUE)\n",
    ")"
   ]
  },
  {
   "cell_type": "code",
   "execution_count": 21,
   "metadata": {
    "vscode": {
     "languageId": "r"
    }
   },
   "outputs": [
    {
     "name": "stderr",
     "output_type": "stream",
     "text": [
      "Computing y column(s) for design. Not provided.\n",
      "\n"
     ]
    },
    {
     "name": "stdout",
     "output_type": "stream",
     "text": [
      "Validate  1     440    101745826     106010071    \n",
      "20231101 122902\t156\t2714406\tgbdt\tbinary\tcustom\tTRUE\tTRUE\tFALSE\tTRUE\t-100\t-1\t0\t0.001\t0\t0\t31\t20\t1\t1\t1\tFALSE\t1\t0.1\t50\t0.5\tTRUE\t279551\t0.13694120913744\t0.511200065682206\t759\t20645\t11730\t142053438.28086\t1\n",
      "Validate  2     1440    106353554     106556361    \n",
      "20231101 124017\t156\t2714406\tgbdt\tbinary\tcustom\tTRUE\tTRUE\tFALSE\tTRUE\t-100\t-1\t0\t0.001\t0\t0\t31\t1008\t1\t1\t1\tFALSE\t1\t0.1\t50\t0.5\tTRUE\t279551\t0.10871455284534\t0.383395616570779\t371\t38535\t15502\t143180812.593703\t2\n",
      "Validate  3     450    101680324     107629019    \n",
      "20231101 124429\t156\t2714406\tgbdt\tbinary\tcustom\tTRUE\tTRUE\tFALSE\tTRUE\t-100\t-1\t0\t0.001\t0\t0\t31\t32\t1\t1\t1\tFALSE\t1\t0.1\t50\t0.5\tTRUE\t279551\t0.153177819112316\t0.276715104630857\t621\t15235\t11627\t137935937.531234\t3\n",
      "Validate  4     610    95895130     101898668     \n",
      "20231101 124932\t156\t2714406\tgbdt\tbinary\tcustom\tTRUE\tTRUE\tFALSE\tTRUE\t-100\t-1\t0\t0.001\t0\t0\t31\t203\t1\t1\t1\tFALSE\t1\t0.1\t50\t0.5\tTRUE\t279551\t0.271073784258333\t0.78185350669577\t116\t34014\t13574\t144191275.362319\t4\n",
      "Validate  5     950    98687770     100235998     \n",
      "20231101 125939\t156\t2714406\tgbdt\tbinary\tcustom\tTRUE\tTRUE\tFALSE\tTRUE\t-100\t-1\t0\t0.001\t0\t0\t31\t542\t1\t1\t1\tFALSE\t1\t0.1\t50\t0.5\tTRUE\t279551\t0.238883439445053\t0.644795008537039\t542\t2127\t11473\t136626031.484258\t5\n",
      "Validate  6     760    102337289     110231330    \n",
      "20231101 130304\t156\t2714406\tgbdt\tbinary\tcustom\tTRUE\tTRUE\tFALSE\tTRUE\t-100\t-1\t0\t0.001\t0\t0\t31\t320\t1\t1\t1\tFALSE\t1\t0.1\t50\t0.5\tTRUE\t279551\t0.0900664854224306\t0.0754280283300613\t412\t23029\t10530\t139747391.304348\t6\n",
      "Validate  7     580    94214119     100285726     \n",
      "20231101 130721\t156\t2714406\tgbdt\tbinary\tcustom\tTRUE\tTRUE\tFALSE\tTRUE\t-100\t-1\t0\t0.001\t0\t0\t31\t165\t1\t1\t1\tFALSE\t1\t0.1\t50\t0.5\tTRUE\t279551\t0.186720657731057\t0.696503204608016\t661\t16723\t13244\t145963524.237881\t7\n",
      "Validate  8     540    104538241     105492228    \n",
      "20231101 131028\t156\t2714406\tgbdt\tbinary\tcustom\tTRUE\tTRUE\tFALSE\tTRUE\t-100\t-1\t0\t0.001\t0\t0\t31\t54\t1\t1\t1\tFALSE\t1\t0.1\t50\t0.5\tTRUE\t279551\t0.0429818473849446\t0.840359180488013\t150\t42638\t14663\t139236181.409295\t8\n",
      "Validate  9     570    100331087     102721481    \n",
      "20231101 131627\t156\t2714406\tgbdt\tbinary\tcustom\tTRUE\tTRUE\tFALSE\tTRUE\t-100\t-1\t0\t0.001\t0\t0\t31\t149\t1\t1\t1\tFALSE\t1\t0.1\t50\t0.5\tTRUE\t279551\t0.166457323828363\t0.380679800144862\t905\t3322\t11634\t131977832.083958\t9\n",
      "Validate  10     500    104950941     110049197    \n",
      "20231101 132013\t156\t2714406\tgbdt\tbinary\tcustom\tTRUE\tTRUE\tFALSE\tTRUE\t-100\t-1\t0\t0.001\t0\t0\t31\t50\t1\t1\t1\tFALSE\t1\t0.1\t50\t0.5\tTRUE\t279551\t0.0768787990038982\t0.575646079617873\t831\t46409\t13067\t140872229.385307\t10\n",
      "Validate  11     610    102048319     104591170    \n",
      "20231101 132527\t156\t2714406\tgbdt\tbinary\tcustom\tTRUE\tTRUE\tFALSE\tTRUE\t-100\t-1\t0\t0.001\t0\t0\t31\t192\t1\t1\t1\tFALSE\t1\t0.1\t50\t0.5\tTRUE\t279551\t0.199060535248718\t0.482284466433484\t268\t29593\t14996\t143935966.016991\t11\n",
      "Validate  12     510    97425703     101083726     \n",
      "20231101 132715\t156\t2714406\tgbdt\tbinary\tcustom\tTRUE\tTRUE\tFALSE\tTRUE\t-100\t-1\t0\t0.001\t0\t0\t31\t97\t1\t1\t1\tFALSE\t1\t0.1\t50\t0.5\tTRUE\t279551\t0.218087663662154\t0.0349420346751867\t500\t8456\t14909\t130719178.910545\t12\n",
      "Validate  13     600    97879167     101820916     \n",
      "20231101 133035\t156\t2714406\tgbdt\tbinary\tcustom\tTRUE\tTRUE\tFALSE\tTRUE\t-100\t-1\t0\t0.001\t0\t0\t31\t193\t1\t1\t1\tFALSE\t1\t0.1\t50\t0.5\tTRUE\t279551\t0.247791156655876\t0.936292199923046\t887\t48584\t13779\t143580323.338331\t13\n",
      "Validate  14     700    103071148     110686253    \n",
      "20231101 133505\t156\t2714406\tgbdt\tbinary\tcustom\tTRUE\tTRUE\tFALSE\tTRUE\t-100\t-1\t0\t0.001\t0\t0\t31\t165\t1\t1\t1\tFALSE\t1\t0.1\t50\t0.5\tTRUE\t279551\t0.0278307219524868\t0.240808322774392\t56\t34450\t16231\t139188157.421289\t14\n",
      "Validate  15     760    102870251     110037537    \n",
      "20231101 133920\t156\t2714406\tgbdt\tbinary\tcustom\tTRUE\tTRUE\tFALSE\tTRUE\t-100\t-1\t0\t0.001\t0\t0\t31\t309\t1\t1\t1\tFALSE\t1\t0.1\t50\t0.5\tTRUE\t279551\t0.0708034699544078\t0.142060961340176\t995\t27067\t13071\t141831295.852074\t15\n",
      "Validate  16     1830    100774186     102020004    \n",
      "20231101 135410\t156\t2714406\tgbdt\tbinary\tcustom\tTRUE\tTRUE\tFALSE\tTRUE\t-100\t-1\t0\t0.001\t0\t0\t31\t1419\t1\t1\t1\tFALSE\t1\t0.1\t50\t0.5\tTRUE\t279551\t0.291614252373693\t0.946646284638409\t253\t10265\t12900\t129917551.224388\t16\n"
     ]
    },
    {
     "name": "stderr",
     "output_type": "stream",
     "text": [
      "[mbo] 0: learning_rate=0.137; feature_fraction=0.511; num_leaves=759; min_data_in_leaf=20645 : y = 1.42e+08 : 296.4 secs : initdesign\n",
      "\n",
      "[mbo] 0: learning_rate=0.109; feature_fraction=0.383; num_leaves=371; min_data_in_leaf=38535 : y = 1.43e+08 : 675.7 secs : initdesign\n",
      "\n",
      "[mbo] 0: learning_rate=0.153; feature_fraction=0.277; num_leaves=621; min_data_in_leaf=15235 : y = 1.38e+08 : 252.1 secs : initdesign\n",
      "\n",
      "[mbo] 0: learning_rate=0.271; feature_fraction=0.782; num_leaves=116; min_data_in_leaf=34014 : y = 1.44e+08 : 303.0 secs : initdesign\n",
      "\n",
      "[mbo] 0: learning_rate=0.239; feature_fraction=0.645; num_leaves=542; min_data_in_leaf=2127 : y = 1.37e+08 : 606.3 secs : initdesign\n",
      "\n",
      "[mbo] 0: learning_rate=0.0901; feature_fraction=0.0754; num_leaves=412; min_data_in_leaf=23029 : y = 1.4e+08 : 205.0 secs : initdesign\n",
      "\n",
      "[mbo] 0: learning_rate=0.187; feature_fraction=0.697; num_leaves=661; min_data_in_leaf=16723 : y = 1.46e+08 : 257.7 secs : initdesign\n",
      "\n",
      "[mbo] 0: learning_rate=0.043; feature_fraction=0.84; num_leaves=150; min_data_in_leaf=42638 : y = 1.39e+08 : 186.4 secs : initdesign\n",
      "\n",
      "[mbo] 0: learning_rate=0.166; feature_fraction=0.381; num_leaves=905; min_data_in_leaf=3322 : y = 1.32e+08 : 359.6 secs : initdesign\n",
      "\n",
      "[mbo] 0: learning_rate=0.0769; feature_fraction=0.576; num_leaves=831; min_data_in_leaf=46409 : y = 1.41e+08 : 225.7 secs : initdesign\n",
      "\n",
      "[mbo] 0: learning_rate=0.199; feature_fraction=0.482; num_leaves=268; min_data_in_leaf=29593 : y = 1.44e+08 : 314.4 secs : initdesign\n",
      "\n",
      "[mbo] 0: learning_rate=0.218; feature_fraction=0.0349; num_leaves=500; min_data_in_leaf=8456 : y = 1.31e+08 : 107.5 secs : initdesign\n",
      "\n",
      "[mbo] 0: learning_rate=0.248; feature_fraction=0.936; num_leaves=887; min_data_in_leaf=48584 : y = 1.44e+08 : 199.6 secs : initdesign\n",
      "\n",
      "[mbo] 0: learning_rate=0.0278; feature_fraction=0.241; num_leaves=56; min_data_in_leaf=34450 : y = 1.39e+08 : 270.1 secs : initdesign\n",
      "\n",
      "[mbo] 0: learning_rate=0.0708; feature_fraction=0.142; num_leaves=995; min_data_in_leaf=27067 : y = 1.42e+08 : 255.5 secs : initdesign\n",
      "\n",
      "[mbo] 0: learning_rate=0.292; feature_fraction=0.947; num_leaves=253; min_data_in_leaf=10265 : y = 1.3e+08 : 889.9 secs : initdesign\n",
      "\n",
      "Saved the current state after iteration 1 in the file HT8230 (Clase 10-11, Ajustado Sem4).RDATA.\n",
      "\n"
     ]
    },
    {
     "name": "stdout",
     "output_type": "stream",
     "text": [
      "Validate  17     640    101934969     106991572    \n",
      "20231101 135835\t156\t2714406\tgbdt\tbinary\tcustom\tTRUE\tTRUE\tFALSE\tTRUE\t-100\t-1\t0\t0.001\t0\t0\t31\t225\t1\t1\t1\tFALSE\t1\t0.1\t50\t0.5\tTRUE\t279551\t0.19359467815042\t0.717985736300337\t611\t34490\t13453\t146250629.185407\t17\n"
     ]
    },
    {
     "name": "stderr",
     "output_type": "stream",
     "text": [
      "[mbo] 1: learning_rate=0.194; feature_fraction=0.718; num_leaves=611; min_data_in_leaf=34490 : y = 1.46e+08 : 262.0 secs : infill_ei\n",
      "\n"
     ]
    },
    {
     "name": "stdout",
     "output_type": "stream",
     "text": [
      "Validate  18     800    98854714     105687987     \n",
      "20231101 140535\t156\t2714406\tgbdt\tbinary\tcustom\tTRUE\tTRUE\tFALSE\tTRUE\t-100\t-1\t0\t0.001\t0\t0\t31\t384\t1\t1\t1\tFALSE\t1\t0.1\t50\t0.5\tTRUE\t279551\t0.191415057212433\t0.743231418256374\t734\t25026\t12180\t146060719.64018\t18\n"
     ]
    },
    {
     "name": "stderr",
     "output_type": "stream",
     "text": [
      "[mbo] 2: learning_rate=0.191; feature_fraction=0.743; num_leaves=734; min_data_in_leaf=25026 : y = 1.46e+08 : 419.7 secs : infill_ei\n",
      "\n",
      "Saved the current state after iteration 3 in the file HT8230 (Clase 10-11, Ajustado Sem4).RDATA.\n",
      "\n"
     ]
    },
    {
     "name": "stdout",
     "output_type": "stream",
     "text": [
      "Validate  19     650    100078003     105301028    \n",
      "20231101 141101\t156\t2714406\tgbdt\tbinary\tcustom\tTRUE\tTRUE\tFALSE\tTRUE\t-100\t-1\t0\t0.001\t0\t0\t31\t234\t1\t1\t1\tFALSE\t1\t0.1\t50\t0.5\tTRUE\t279551\t0.175868766875827\t0.688698223734127\t99\t25873\t12542\t142318983.508246\t19\n"
     ]
    },
    {
     "name": "stderr",
     "output_type": "stream",
     "text": [
      "[mbo] 3: learning_rate=0.176; feature_fraction=0.689; num_leaves=99; min_data_in_leaf=25873 : y = 1.42e+08 : 323.3 secs : infill_ei\n",
      "\n"
     ]
    },
    {
     "name": "stdout",
     "output_type": "stream",
     "text": [
      "Validate  20     680    98468535     105964793     \n",
      "20231101 141514\t156\t2714406\tgbdt\tbinary\tcustom\tTRUE\tTRUE\tFALSE\tTRUE\t-100\t-1\t0\t0.001\t0\t0\t31\t263\t1\t1\t1\tFALSE\t1\t0.1\t50\t0.5\tTRUE\t279551\t0.225332669395644\t0.699572279020808\t1023\t32834\t13613\t144145381.809095\t20\n"
     ]
    },
    {
     "name": "stderr",
     "output_type": "stream",
     "text": [
      "[mbo] 4: learning_rate=0.225; feature_fraction=0.7; num_leaves=1023; min_data_in_leaf=32834 : y = 1.44e+08 : 252.4 secs : infill_ei\n",
      "\n"
     ]
    },
    {
     "name": "stdout",
     "output_type": "stream",
     "text": [
      "Validate  21     700    101244281     106114497    \n",
      "20231101 141930\t156\t2714406\tgbdt\tbinary\tcustom\tTRUE\tTRUE\tFALSE\tTRUE\t-100\t-1\t0\t0.001\t0\t0\t31\t285\t1\t1\t1\tFALSE\t1\t0.1\t50\t0.5\tTRUE\t279551\t0.245715302793785\t0.645407178420199\t404\t43068\t12551\t145896543.228386\t21\n"
     ]
    },
    {
     "name": "stderr",
     "output_type": "stream",
     "text": [
      "[mbo] 5: learning_rate=0.246; feature_fraction=0.645; num_leaves=404; min_data_in_leaf=43068 : y = 1.46e+08 : 255.6 secs : infill_ei\n",
      "\n",
      "Saved the current state after iteration 6 in the file HT8230 (Clase 10-11, Ajustado Sem4).RDATA.\n",
      "\n"
     ]
    },
    {
     "name": "stdout",
     "output_type": "stream",
     "text": [
      "Validate  22     620    100553807     106395522    \n",
      "20231101 142320\t156\t2714406\tgbdt\tbinary\tcustom\tTRUE\tTRUE\tFALSE\tTRUE\t-100\t-1\t0\t0.001\t0\t0\t31\t207\t1\t1\t1\tFALSE\t1\t0.1\t50\t0.5\tTRUE\t279551\t0.217154682815786\t0.784977877743551\t458\t39528\t13177\t146313583.708146\t22\n"
     ]
    },
    {
     "name": "stderr",
     "output_type": "stream",
     "text": [
      "[mbo] 6: learning_rate=0.217; feature_fraction=0.785; num_leaves=458; min_data_in_leaf=39528 : y = 1.46e+08 : 227.5 secs : infill_ei\n",
      "\n"
     ]
    },
    {
     "name": "stdout",
     "output_type": "stream",
     "text": [
      "Validate  23     430    100787585     106316259    \n",
      "20231101 142635\t156\t2714406\tgbdt\tbinary\tcustom\tTRUE\tTRUE\tFALSE\tTRUE\t-100\t-1\t0\t0.001\t0\t0\t31\t18\t1\t1\t1\tFALSE\t1\t0.1\t50\t0.5\tTRUE\t279551\t0.265348646385581\t0.384725144060942\t521\t39546\t13853\t137960054.472764\t23\n"
     ]
    },
    {
     "name": "stderr",
     "output_type": "stream",
     "text": [
      "[mbo] 7: learning_rate=0.265; feature_fraction=0.385; num_leaves=521; min_data_in_leaf=39546 : y = 1.38e+08 : 194.7 secs : infill_ei\n",
      "\n"
     ]
    },
    {
     "name": "stdout",
     "output_type": "stream",
     "text": [
      "Validate  24     420    99234963     100663922     \n",
      "20231101 142901\t156\t2714406\tgbdt\tbinary\tcustom\tTRUE\tTRUE\tFALSE\tTRUE\t-100\t-1\t0\t0.001\t0\t0\t31\t11\t1\t1\t1\tFALSE\t1\t0.1\t50\t0.5\tTRUE\t279551\t0.247301208046521\t0.766985538568805\t245\t49987\t13830\t131133368.315842\t24\n"
     ]
    },
    {
     "name": "stderr",
     "output_type": "stream",
     "text": [
      "[mbo] 8: learning_rate=0.247; feature_fraction=0.767; num_leaves=245; min_data_in_leaf=49987 : y = 1.31e+08 : 145.1 secs : infill_ei\n",
      "\n"
     ]
    },
    {
     "name": "stdout",
     "output_type": "stream",
     "text": [
      "Validate  25     640    103019553     104648450    \n",
      "20231101 143306\t156\t2714406\tgbdt\tbinary\tcustom\tTRUE\tTRUE\tFALSE\tTRUE\t-100\t-1\t0\t0.001\t0\t0\t31\t215\t1\t1\t1\tFALSE\t1\t0.1\t50\t0.5\tTRUE\t279551\t0.141387946739427\t0.659900378825519\t390\t35558\t14807\t147305022.988506\t25\n"
     ]
    },
    {
     "name": "stderr",
     "output_type": "stream",
     "text": [
      "[mbo] 9: learning_rate=0.141; feature_fraction=0.66; num_leaves=390; min_data_in_leaf=35558 : y = 1.47e+08 : 244.8 secs : infill_ei\n",
      "\n",
      "Saved the current state after iteration 10 in the file HT8230 (Clase 10-11, Ajustado Sem4).RDATA.\n",
      "\n"
     ]
    },
    {
     "name": "stdout",
     "output_type": "stream",
     "text": [
      "Validate  26     510    100011683     104532147    \n",
      "20231101 143622\t156\t2714406\tgbdt\tbinary\tcustom\tTRUE\tTRUE\tFALSE\tTRUE\t-100\t-1\t0\t0.001\t0\t0\t31\t105\t1\t1\t1\tFALSE\t1\t0.1\t50\t0.5\tTRUE\t279551\t0.267637071137063\t0.719856998889964\t428\t30839\t12584\t146052729.635182\t26\n"
     ]
    },
    {
     "name": "stderr",
     "output_type": "stream",
     "text": [
      "[mbo] 10: learning_rate=0.268; feature_fraction=0.72; num_leaves=428; min_data_in_leaf=30839 : y = 1.46e+08 : 193.2 secs : infill_ei\n",
      "\n"
     ]
    },
    {
     "name": "stdout",
     "output_type": "stream",
     "text": [
      "Validate  27     430    99285873     105119409     \n",
      "20231101 143859\t156\t2714406\tgbdt\tbinary\tcustom\tTRUE\tTRUE\tFALSE\tTRUE\t-100\t-1\t0\t0.001\t0\t0\t31\t20\t1\t1\t1\tFALSE\t1\t0.1\t50\t0.5\tTRUE\t279551\t0.20074138964805\t0.912659983469456\t811\t36482\t15374\t141032774.612694\t27\n"
     ]
    },
    {
     "name": "stderr",
     "output_type": "stream",
     "text": [
      "[mbo] 11: learning_rate=0.201; feature_fraction=0.913; num_leaves=811; min_data_in_leaf=36482 : y = 1.41e+08 : 156.6 secs : infill_ei\n",
      "\n"
     ]
    },
    {
     "name": "stdout",
     "output_type": "stream",
     "text": [
      "Validate  28     910    106077874     107355764    \n",
      "20231101 144442\t156\t2714406\tgbdt\tbinary\tcustom\tTRUE\tTRUE\tFALSE\tTRUE\t-100\t-1\t0\t0.001\t0\t0\t31\t450\t1\t1\t1\tFALSE\t1\t0.1\t50\t0.5\tTRUE\t279551\t0.0608625661185058\t0.654166458801166\t439\t39794\t12905\t148127748.625687\t28\n"
     ]
    },
    {
     "name": "stderr",
     "output_type": "stream",
     "text": [
      "[mbo] 12: learning_rate=0.0609; feature_fraction=0.654; num_leaves=439; min_data_in_leaf=39794 : y = 1.48e+08 : 342.2 secs : infill_ei\n",
      "\n",
      "Saved the current state after iteration 13 in the file HT8230 (Clase 10-11, Ajustado Sem4).RDATA.\n",
      "\n"
     ]
    },
    {
     "name": "stdout",
     "output_type": "stream",
     "text": [
      "Validate  29     710    104290964     107081949    \n",
      "20231101 144922\t156\t2714406\tgbdt\tbinary\tcustom\tTRUE\tTRUE\tFALSE\tTRUE\t-100\t-1\t0\t0.001\t0\t0\t31\t118\t1\t1\t1\tFALSE\t1\t0.1\t50\t0.5\tTRUE\t279551\t0.0202736410725546\t0.68507779903574\t575\t25931\t13275\t143610072.463768\t29\n"
     ]
    },
    {
     "name": "stderr",
     "output_type": "stream",
     "text": [
      "[mbo] 13: learning_rate=0.0203; feature_fraction=0.685; num_leaves=575; min_data_in_leaf=25931 : y = 1.44e+08 : 277.1 secs : infill_ei\n",
      "\n"
     ]
    },
    {
     "name": "stdout",
     "output_type": "stream",
     "text": [
      "Validate  30     890    103891390     106657699    \n",
      "20231101 145449\t156\t2714406\tgbdt\tbinary\tcustom\tTRUE\tTRUE\tFALSE\tTRUE\t-100\t-1\t0\t0.001\t0\t0\t31\t475\t1\t1\t1\tFALSE\t1\t0.1\t50\t0.5\tTRUE\t279551\t0.166691600786703\t0.64799356551226\t415\t38951\t13768\t143945719.14043\t30\n"
     ]
    },
    {
     "name": "stderr",
     "output_type": "stream",
     "text": [
      "[mbo] 14: learning_rate=0.167; feature_fraction=0.648; num_leaves=415; min_data_in_leaf=38951 : y = 1.44e+08 : 326.2 secs : infill_ei\n",
      "\n",
      "Saved the current state after iteration 15 in the file HT8230 (Clase 10-11, Ajustado Sem4).RDATA.\n",
      "\n"
     ]
    },
    {
     "name": "stdout",
     "output_type": "stream",
     "text": [
      "Validate  31     1560    105857628     106943453    \n",
      "20231101 150515\t156\t2714406\tgbdt\tbinary\tcustom\tTRUE\tTRUE\tFALSE\tTRUE\t-100\t-1\t0\t0.001\t0\t0\t31\t1101\t1\t1\t1\tFALSE\t1\t0.1\t50\t0.5\tTRUE\t279551\t0.0647135141709985\t0.656319390246987\t483\t35313\t12950\t149805072.463768\t31\n"
     ]
    },
    {
     "name": "stderr",
     "output_type": "stream",
     "text": [
      "[mbo] 15: learning_rate=0.0647; feature_fraction=0.656; num_leaves=483; min_data_in_leaf=35313 : y = 1.5e+08 : 622.7 secs : infill_ei\n",
      "\n",
      "Saved the current state after iteration 16 in the file HT8230 (Clase 10-11, Ajustado Sem4).RDATA.\n",
      "\n"
     ]
    },
    {
     "name": "stdout",
     "output_type": "stream",
     "text": [
      "Validate  32     820    103887486     106374508    \n",
      "20231101 151144\t156\t2714406\tgbdt\tbinary\tcustom\tTRUE\tTRUE\tFALSE\tTRUE\t-100\t-1\t0\t0.001\t0\t0\t31\t380\t1\t1\t1\tFALSE\t1\t0.1\t50\t0.5\tTRUE\t279551\t0.0823544828325369\t0.680202051284652\t441\t32707\t12966\t145136670.664668\t32\n"
     ]
    },
    {
     "name": "stderr",
     "output_type": "stream",
     "text": [
      "[mbo] 16: learning_rate=0.0824; feature_fraction=0.68; num_leaves=441; min_data_in_leaf=32707 : y = 1.45e+08 : 385.9 secs : infill_ei\n",
      "\n"
     ]
    },
    {
     "name": "stdout",
     "output_type": "stream",
     "text": [
      "Validate  33     600    104621608     106504304    \n",
      "20231101 151703\t156\t2714406\tgbdt\tbinary\tcustom\tTRUE\tTRUE\tFALSE\tTRUE\t-100\t-1\t0\t0.001\t0\t0\t31\t83\t1\t1\t1\tFALSE\t1\t0.1\t50\t0.5\tTRUE\t279551\t0.0321345686553661\t0.610444019543854\t506\t36410\t12248\t140986478.76062\t33\n"
     ]
    },
    {
     "name": "stderr",
     "output_type": "stream",
     "text": [
      "[mbo] 17: learning_rate=0.0321; feature_fraction=0.61; num_leaves=506; min_data_in_leaf=36410 : y = 1.41e+08 : 319.1 secs : infill_ei\n",
      "\n",
      "Saved the current state after iteration 18 in the file HT8230 (Clase 10-11, Ajustado Sem4).RDATA.\n",
      "\n"
     ]
    },
    {
     "name": "stdout",
     "output_type": "stream",
     "text": [
      "Validate  34     760    103843237     107918720    \n",
      "20231101 152232\t156\t2714406\tgbdt\tbinary\tcustom\tTRUE\tTRUE\tFALSE\tTRUE\t-100\t-1\t0\t0.001\t0\t0\t31\t168\t1\t1\t1\tFALSE\t1\t0.1\t50\t0.5\tTRUE\t279551\t0.0206143070306859\t0.660001332397075\t715\t35780\t13844\t144126662.668666\t34\n"
     ]
    },
    {
     "name": "stderr",
     "output_type": "stream",
     "text": [
      "[mbo] 18: learning_rate=0.0206; feature_fraction=0.66; num_leaves=715; min_data_in_leaf=35780 : y = 1.44e+08 : 325.3 secs : infill_ei\n",
      "\n"
     ]
    },
    {
     "name": "stdout",
     "output_type": "stream",
     "text": [
      "Validate  35     510    105000175     106159303    \n",
      "20231101 152543\t156\t2714406\tgbdt\tbinary\tcustom\tTRUE\tTRUE\tFALSE\tTRUE\t-100\t-1\t0\t0.001\t0\t0\t31\t53\t1\t1\t1\tFALSE\t1\t0.1\t50\t0.5\tTRUE\t279551\t0.0671259563835585\t0.655608455735897\t292\t35293\t13600\t142453673.163418\t35\n"
     ]
    },
    {
     "name": "stderr",
     "output_type": "stream",
     "text": [
      "[mbo] 19: learning_rate=0.0671; feature_fraction=0.656; num_leaves=292; min_data_in_leaf=35293 : y = 1.42e+08 : 190.9 secs : infill_ei\n",
      "\n"
     ]
    },
    {
     "name": "stdout",
     "output_type": "stream",
     "text": [
      "Validate  36     540    106072844     109481382    \n",
      "20231101 152900\t156\t2714406\tgbdt\tbinary\tcustom\tTRUE\tTRUE\tFALSE\tTRUE\t-100\t-1\t0\t0.001\t0\t0\t31\t67\t1\t1\t1\tFALSE\t1\t0.1\t50\t0.5\tTRUE\t279551\t0.0498650321345538\t0.661961410950606\t486\t40221\t14122\t143137084.457771\t36\n"
     ]
    },
    {
     "name": "stderr",
     "output_type": "stream",
     "text": [
      "[mbo] 20: learning_rate=0.0499; feature_fraction=0.662; num_leaves=486; min_data_in_leaf=40221 : y = 1.43e+08 : 196.2 secs : infill_ei\n",
      "\n",
      "Saved the current state after iteration 21 in the file HT8230 (Clase 10-11, Ajustado Sem4).RDATA.\n",
      "\n"
     ]
    },
    {
     "name": "stdout",
     "output_type": "stream",
     "text": [
      "Validate  37     490    105619624     105619624    \n",
      "20231101 153252\t156\t2714406\tgbdt\tbinary\tcustom\tTRUE\tTRUE\tFALSE\tTRUE\t-100\t-1\t0\t0.001\t0\t0\t31\t32\t1\t1\t1\tFALSE\t1\t0.1\t50\t0.5\tTRUE\t279551\t0.066821517360398\t0.583472368868987\t458\t36267\t14100\t141610104.947526\t37\n"
     ]
    },
    {
     "name": "stderr",
     "output_type": "stream",
     "text": [
      "[mbo] 21: learning_rate=0.0668; feature_fraction=0.583; num_leaves=458; min_data_in_leaf=36267 : y = 1.42e+08 : 229.0 secs : infill_ei\n",
      "\n"
     ]
    },
    {
     "name": "stdout",
     "output_type": "stream",
     "text": [
      "Validate  38     840    105769118     106479823    \n",
      "20231101 153808\t156\t2714406\tgbdt\tbinary\tcustom\tTRUE\tTRUE\tFALSE\tTRUE\t-100\t-1\t0\t0.001\t0\t0\t31\t391\t1\t1\t1\tFALSE\t1\t0.1\t50\t0.5\tTRUE\t279551\t0.0698732588702319\t0.652181044005066\t457\t36367\t14901\t148890241.37931\t38\n"
     ]
    },
    {
     "name": "stderr",
     "output_type": "stream",
     "text": [
      "[mbo] 22: learning_rate=0.0699; feature_fraction=0.652; num_leaves=457; min_data_in_leaf=36367 : y = 1.49e+08 : 316.0 secs : infill_ei\n",
      "\n"
     ]
    },
    {
     "name": "stdout",
     "output_type": "stream",
     "text": [
      "Validate  39     500    105867986     109357257    \n",
      "20231101 154123\t156\t2714406\tgbdt\tbinary\tcustom\tTRUE\tTRUE\tFALSE\tTRUE\t-100\t-1\t0\t0.001\t0\t0\t31\t37\t1\t1\t1\tFALSE\t1\t0.1\t50\t0.5\tTRUE\t279551\t0.0622006479071554\t0.658262611906525\t445\t33940\t12346\t141675711.144428\t39\n"
     ]
    },
    {
     "name": "stderr",
     "output_type": "stream",
     "text": [
      "[mbo] 23: learning_rate=0.0622; feature_fraction=0.658; num_leaves=445; min_data_in_leaf=33940 : y = 1.42e+08 : 194.0 secs : infill_ei\n",
      "\n",
      "Saved the current state after iteration 24 in the file HT8230 (Clase 10-11, Ajustado Sem4).RDATA.\n",
      "\n"
     ]
    },
    {
     "name": "stdout",
     "output_type": "stream",
     "text": [
      "Validate  40     750    101802592     105772662    \n",
      "20231101 154825\t156\t2714406\tgbdt\tbinary\tcustom\tTRUE\tTRUE\tFALSE\tTRUE\t-100\t-1\t0\t0.001\t0\t0\t31\t304\t1\t1\t1\tFALSE\t1\t0.1\t50\t0.5\tTRUE\t279551\t0.0819756760923147\t0.974616244780253\t517\t20341\t14185\t149936204.397801\t40\n"
     ]
    },
    {
     "name": "stderr",
     "output_type": "stream",
     "text": [
      "[mbo] 24: learning_rate=0.082; feature_fraction=0.975; num_leaves=517; min_data_in_leaf=20341 : y = 1.5e+08 : 418.9 secs : infill_ei\n",
      "\n"
     ]
    },
    {
     "name": "stdout",
     "output_type": "stream",
     "text": [
      "Validate  41     1060    99697418     104935184     \n",
      "20231101 155824\t156\t2714406\tgbdt\tbinary\tcustom\tTRUE\tTRUE\tFALSE\tTRUE\t-100\t-1\t0\t0.001\t0\t0\t31\t634\t1\t1\t1\tFALSE\t1\t0.1\t50\t0.5\tTRUE\t279551\t0.125783364152587\t0.571972846311198\t970\t25824\t13341\t144990811.094453\t41\n"
     ]
    },
    {
     "name": "stderr",
     "output_type": "stream",
     "text": [
      "[mbo] 25: learning_rate=0.126; feature_fraction=0.572; num_leaves=970; min_data_in_leaf=25824 : y = 1.45e+08 : 598.9 secs : infill_ei\n",
      "\n",
      "Saved the current state after iteration 26 in the file HT8230 (Clase 10-11, Ajustado Sem4).RDATA.\n",
      "\n"
     ]
    },
    {
     "name": "stdout",
     "output_type": "stream",
     "text": [
      "Validate  42     470    103711356     106193722    \n",
      "20231101 160200\t156\t2714406\tgbdt\tbinary\tcustom\tTRUE\tTRUE\tFALSE\tTRUE\t-100\t-1\t0\t0.001\t0\t0\t31\t39\t1\t1\t1\tFALSE\t1\t0.1\t50\t0.5\tTRUE\t279551\t0.123394124223641\t0.350721480100059\t385\t31552\t13900\t138629875.062469\t42\n"
     ]
    },
    {
     "name": "stderr",
     "output_type": "stream",
     "text": [
      "[mbo] 26: learning_rate=0.123; feature_fraction=0.351; num_leaves=385; min_data_in_leaf=31552 : y = 1.39e+08 : 212.2 secs : infill_ei\n",
      "\n"
     ]
    },
    {
     "name": "stdout",
     "output_type": "stream",
     "text": [
      "Validate  43     470    98595745     105150131    \n",
      "20231101 160540\t156\t2714406\tgbdt\tbinary\tcustom\tTRUE\tTRUE\tFALSE\tTRUE\t-100\t-1\t0\t0.001\t0\t0\t31\t47\t1\t1\t1\tFALSE\t1\t0.1\t50\t0.5\tTRUE\t279551\t0.153408568339558\t0.188395173424707\t629\t4144\t11568\t138210966.516742\t43\n"
     ]
    },
    {
     "name": "stderr",
     "output_type": "stream",
     "text": [
      "[mbo] 27: learning_rate=0.153; feature_fraction=0.188; num_leaves=629; min_data_in_leaf=4144 : y = 1.38e+08 : 220.2 secs : infill_ei\n",
      "\n"
     ]
    },
    {
     "name": "stdout",
     "output_type": "stream",
     "text": [
      "Validate  44     940    101116490     106556302    \n",
      "20231101 161538\t156\t2714406\tgbdt\tbinary\tcustom\tTRUE\tTRUE\tFALSE\tTRUE\t-100\t-1\t0\t0.001\t0\t0\t31\t503\t1\t1\t1\tFALSE\t1\t0.1\t50\t0.5\tTRUE\t279551\t0.0878434133142489\t0.815810371357654\t660\t13202\t12096\t146666910.544728\t44\n"
     ]
    },
    {
     "name": "stderr",
     "output_type": "stream",
     "text": [
      "[mbo] 28: learning_rate=0.0878; feature_fraction=0.816; num_leaves=660; min_data_in_leaf=13202 : y = 1.47e+08 : 597.2 secs : infill_ei\n",
      "\n",
      "Saved the current state after iteration 29 in the file HT8230 (Clase 10-11, Ajustado Sem4).RDATA.\n",
      "\n"
     ]
    },
    {
     "name": "stdout",
     "output_type": "stream",
     "text": [
      "Validate  45     1440    100213826     103022687    \n",
      "20231101 162812\t156\t2714406\tgbdt\tbinary\tcustom\tTRUE\tTRUE\tFALSE\tTRUE\t-100\t-1\t0\t0.001\t0\t0\t31\t1022\t1\t1\t1\tFALSE\t1\t0.1\t50\t0.5\tTRUE\t279551\t0.208436094166103\t0.715217671528448\t580\t7994\t12597\t138277191.904048\t45\n"
     ]
    },
    {
     "name": "stderr",
     "output_type": "stream",
     "text": [
      "[mbo] 29: learning_rate=0.208; feature_fraction=0.715; num_leaves=580; min_data_in_leaf=7994 : y = 1.38e+08 : 751.0 secs : infill_ei\n",
      "\n",
      "Saved the current state after iteration 30 in the file HT8230 (Clase 10-11, Ajustado Sem4).RDATA.\n",
      "\n"
     ]
    },
    {
     "name": "stdout",
     "output_type": "stream",
     "text": [
      "Validate  46     420    99934988     103556258     \n",
      "20231101 163126\t156\t2714406\tgbdt\tbinary\tcustom\tTRUE\tTRUE\tFALSE\tTRUE\t-100\t-1\t0\t0.001\t0\t0\t31\t11\t1\t1\t1\tFALSE\t1\t0.1\t50\t0.5\tTRUE\t279551\t0.216814233838003\t0.941129939035405\t468\t16510\t15026\t138242667.666167\t46\n"
     ]
    },
    {
     "name": "stderr",
     "output_type": "stream",
     "text": [
      "[mbo] 30: learning_rate=0.217; feature_fraction=0.941; num_leaves=468; min_data_in_leaf=16510 : y = 1.38e+08 : 191.2 secs : infill_ei\n",
      "\n"
     ]
    },
    {
     "name": "stdout",
     "output_type": "stream",
     "text": [
      "Validate  47     460    101662882     105564051    \n",
      "20231101 163404\t156\t2714406\tgbdt\tbinary\tcustom\tTRUE\tTRUE\tFALSE\tTRUE\t-100\t-1\t0\t0.001\t0\t0\t31\t31\t1\t1\t1\tFALSE\t1\t0.1\t50\t0.5\tTRUE\t279551\t0.10828413288156\t0.945185586534383\t414\t49048\t12768\t143057723.138431\t47\n"
     ]
    },
    {
     "name": "stderr",
     "output_type": "stream",
     "text": [
      "[mbo] 31: learning_rate=0.108; feature_fraction=0.945; num_leaves=414; min_data_in_leaf=49048 : y = 1.43e+08 : 156.8 secs : infill_ei\n",
      "\n"
     ]
    },
    {
     "name": "stdout",
     "output_type": "stream",
     "text": [
      "Validate  48     490    95437195     97988316    \n",
      "20231101 163814\t156\t2714406\tgbdt\tbinary\tcustom\tTRUE\tTRUE\tFALSE\tTRUE\t-100\t-1\t0\t0.001\t0\t0\t31\t84\t1\t1\t1\tFALSE\t1\t0.1\t50\t0.5\tTRUE\t279551\t0.272230099278367\t0.682647555554558\t335\t10083\t13575\t142235469.765117\t48\n"
     ]
    },
    {
     "name": "stderr",
     "output_type": "stream",
     "text": [
      "[mbo] 32: learning_rate=0.272; feature_fraction=0.683; num_leaves=335; min_data_in_leaf=10083 : y = 1.42e+08 : 249.7 secs : infill_ei\n",
      "\n"
     ]
    },
    {
     "name": "stdout",
     "output_type": "stream",
     "text": [
      "Validate  49     550    100893158     107074687    \n",
      "20231101 164045\t156\t2714406\tgbdt\tbinary\tcustom\tTRUE\tTRUE\tFALSE\tTRUE\t-100\t-1\t0\t0.001\t0\t0\t31\t140\t1\t1\t1\tFALSE\t1\t0.1\t50\t0.5\tTRUE\t279551\t0.206258360888674\t0.078352308585262\t116\t27637\t12097\t140833223.888056\t49\n"
     ]
    },
    {
     "name": "stderr",
     "output_type": "stream",
     "text": [
      "[mbo] 33: learning_rate=0.206; feature_fraction=0.0784; num_leaves=116; min_data_in_leaf=27637 : y = 1.41e+08 : 151.0 secs : infill_ei\n",
      "\n",
      "Saved the current state after iteration 34 in the file HT8230 (Clase 10-11, Ajustado Sem4).RDATA.\n",
      "\n"
     ]
    },
    {
     "name": "stdout",
     "output_type": "stream",
     "text": [
      "Validate  50     450    99279527     105073946     \n",
      "20231101 164402\t156\t2714406\tgbdt\tbinary\tcustom\tTRUE\tTRUE\tFALSE\tTRUE\t-100\t-1\t0\t0.001\t0\t0\t31\t25\t1\t1\t1\tFALSE\t1\t0.1\t50\t0.5\tTRUE\t279551\t0.155888972707825\t0.18136861866572\t717\t8622\t16378\t132978667.666167\t50\n"
     ]
    },
    {
     "name": "stderr",
     "output_type": "stream",
     "text": [
      "[mbo] 34: learning_rate=0.156; feature_fraction=0.181; num_leaves=717; min_data_in_leaf=8622 : y = 1.33e+08 : 193.1 secs : infill_ei\n",
      "\n"
     ]
    },
    {
     "name": "stdout",
     "output_type": "stream",
     "text": [
      "Validate  51     1200    105405048     107705176    \n",
      "20231101 165300\t156\t2714406\tgbdt\tbinary\tcustom\tTRUE\tTRUE\tFALSE\tTRUE\t-100\t-1\t0\t0.001\t0\t0\t31\t739\t1\t1\t1\tFALSE\t1\t0.1\t50\t0.5\tTRUE\t279551\t0.0609387482901895\t0.60478124023511\t232\t37093\t13550\t146804692.653673\t51\n"
     ]
    },
    {
     "name": "stderr",
     "output_type": "stream",
     "text": [
      "[mbo] 35: learning_rate=0.0609; feature_fraction=0.605; num_leaves=232; min_data_in_leaf=37093 : y = 1.47e+08 : 538.0 secs : infill_ei\n",
      "\n",
      "Saved the current state after iteration 36 in the file HT8230 (Clase 10-11, Ajustado Sem4).RDATA.\n",
      "\n"
     ]
    },
    {
     "name": "stdout",
     "output_type": "stream",
     "text": [
      "Validate  52     650    103491579     106864610    \n",
      "20231101 165745\t156\t2714406\tgbdt\tbinary\tcustom\tTRUE\tTRUE\tFALSE\tTRUE\t-100\t-1\t0\t0.001\t0\t0\t31\t228\t1\t1\t1\tFALSE\t1\t0.1\t50\t0.5\tTRUE\t279551\t0.134048980753372\t0.618615897063871\t184\t31418\t12382\t147120962.518741\t52\n"
     ]
    },
    {
     "name": "stderr",
     "output_type": "stream",
     "text": [
      "[mbo] 36: learning_rate=0.134; feature_fraction=0.619; num_leaves=184; min_data_in_leaf=31418 : y = 1.47e+08 : 281.2 secs : infill_ei\n",
      "\n"
     ]
    },
    {
     "name": "stdout",
     "output_type": "stream",
     "text": [
      "Validate  53     450    104578415     105565461    \n",
      "20231101 170038\t156\t2714406\tgbdt\tbinary\tcustom\tTRUE\tTRUE\tFALSE\tTRUE\t-100\t-1\t0\t0.001\t0\t0\t31\t24\t1\t1\t1\tFALSE\t1\t0.1\t50\t0.5\tTRUE\t279551\t0.115678986224017\t0.917889258681712\t71\t37901\t14513\t142177615.692154\t53\n"
     ]
    },
    {
     "name": "stderr",
     "output_type": "stream",
     "text": [
      "[mbo] 37: learning_rate=0.116; feature_fraction=0.918; num_leaves=71; min_data_in_leaf=37901 : y = 1.42e+08 : 172.5 secs : infill_ei\n",
      "\n"
     ]
    },
    {
     "name": "stdout",
     "output_type": "stream",
     "text": [
      "Validate  54     700    98494009     103889781     \n",
      "20231101 170822\t156\t2714406\tgbdt\tbinary\tcustom\tTRUE\tTRUE\tFALSE\tTRUE\t-100\t-1\t0\t0.001\t0\t0\t31\t276\t1\t1\t1\tFALSE\t1\t0.1\t50\t0.5\tTRUE\t279551\t0.118924839631945\t0.506578870921029\t798\t6538\t13594\t139828046.976512\t54\n"
     ]
    },
    {
     "name": "stderr",
     "output_type": "stream",
     "text": [
      "[mbo] 38: learning_rate=0.119; feature_fraction=0.507; num_leaves=798; min_data_in_leaf=6538 : y = 1.4e+08 : 464.3 secs : infill_ei\n",
      "\n",
      "Saved the current state after iteration 39 in the file HT8230 (Clase 10-11, Ajustado Sem4).RDATA.\n",
      "\n"
     ]
    },
    {
     "name": "stdout",
     "output_type": "stream",
     "text": [
      "Validate  55     440    104444772     105951706    \n",
      "20231101 171204\t156\t2714406\tgbdt\tbinary\tcustom\tTRUE\tTRUE\tFALSE\tTRUE\t-100\t-1\t0\t0.001\t0\t0\t31\t22\t1\t1\t1\tFALSE\t1\t0.1\t50\t0.5\tTRUE\t279551\t0.151764583127898\t0.49849945585071\t499\t46599\t12615\t139148053.473263\t55\n"
     ]
    },
    {
     "name": "stderr",
     "output_type": "stream",
     "text": [
      "[mbo] 39: learning_rate=0.152; feature_fraction=0.498; num_leaves=499; min_data_in_leaf=46599 : y = 1.39e+08 : 218.8 secs : infill_ei\n",
      "\n"
     ]
    },
    {
     "name": "stdout",
     "output_type": "stream",
     "text": [
      "Validate  56     690    103123818     108704095    \n",
      "20231101 171725\t156\t2714406\tgbdt\tbinary\tcustom\tTRUE\tTRUE\tFALSE\tTRUE\t-100\t-1\t0\t0.001\t0\t0\t31\t159\t1\t1\t1\tFALSE\t1\t0.1\t50\t0.5\tTRUE\t279551\t0.0287094006729022\t0.380709247557522\t923\t32660\t13507\t143440505.247376\t56\n"
     ]
    },
    {
     "name": "stderr",
     "output_type": "stream",
     "text": [
      "[mbo] 40: learning_rate=0.0287; feature_fraction=0.381; num_leaves=923; min_data_in_leaf=32660 : y = 1.43e+08 : 319.9 secs : infill_ei\n",
      "\n"
     ]
    },
    {
     "name": "stdout",
     "output_type": "stream",
     "text": [
      "Validate  57     770    106141486     106305197    \n",
      "20231101 172207\t156\t2714406\tgbdt\tbinary\tcustom\tTRUE\tTRUE\tFALSE\tTRUE\t-100\t-1\t0\t0.001\t0\t0\t31\t340\t1\t1\t1\tFALSE\t1\t0.1\t50\t0.5\tTRUE\t279551\t0.102969406697526\t0.829579877786537\t616\t33605\t13226\t146614401.7991\t57\n"
     ]
    },
    {
     "name": "stderr",
     "output_type": "stream",
     "text": [
      "[mbo] 41: learning_rate=0.103; feature_fraction=0.83; num_leaves=616; min_data_in_leaf=33605 : y = 1.47e+08 : 282.1 secs : infill_ei\n",
      "\n",
      "Saved the current state after iteration 42 in the file HT8230 (Clase 10-11, Ajustado Sem4).RDATA.\n",
      "\n"
     ]
    },
    {
     "name": "stdout",
     "output_type": "stream",
     "text": [
      "Validate  58     660    102649343     107916030    \n",
      "20231101 172619\t156\t2714406\tgbdt\tbinary\tcustom\tTRUE\tTRUE\tFALSE\tTRUE\t-100\t-1\t0\t0.001\t0\t0\t31\t248\t1\t1\t1\tFALSE\t1\t0.1\t50\t0.5\tTRUE\t279551\t0.216244528770405\t0.678605202128697\t876\t32091\t12980\t144924627.686157\t58\n"
     ]
    },
    {
     "name": "stderr",
     "output_type": "stream",
     "text": [
      "[mbo] 42: learning_rate=0.216; feature_fraction=0.679; num_leaves=876; min_data_in_leaf=32091 : y = 1.45e+08 : 248.5 secs : infill_ei\n",
      "\n"
     ]
    },
    {
     "name": "stdout",
     "output_type": "stream",
     "text": [
      "Validate  59     730    99345511     102916865     \n",
      "20231101 173211\t156\t2714406\tgbdt\tbinary\tcustom\tTRUE\tTRUE\tFALSE\tTRUE\t-100\t-1\t0\t0.001\t0\t0\t31\t298\t1\t1\t1\tFALSE\t1\t0.1\t50\t0.5\tTRUE\t279551\t0.113035283221169\t0.879902868693263\t690\t11163\t14745\t143971546.726637\t59\n"
     ]
    },
    {
     "name": "stderr",
     "output_type": "stream",
     "text": [
      "[mbo] 43: learning_rate=0.113; feature_fraction=0.88; num_leaves=690; min_data_in_leaf=11163 : y = 1.44e+08 : 351.3 secs : infill_ei\n",
      "\n",
      "Saved the current state after iteration 44 in the file HT8230 (Clase 10-11, Ajustado Sem4).RDATA.\n",
      "\n"
     ]
    },
    {
     "name": "stdout",
     "output_type": "stream",
     "text": [
      "Validate  60     540    97405500     102093429     \n",
      "20231101 173643\t156\t2714406\tgbdt\tbinary\tcustom\tTRUE\tTRUE\tFALSE\tTRUE\t-100\t-1\t0\t0.001\t0\t0\t31\t125\t1\t1\t1\tFALSE\t1\t0.1\t50\t0.5\tTRUE\t279551\t0.200459976912112\t0.614564169250873\t812\t14384\t13921\t145933869.565217\t60\n"
     ]
    },
    {
     "name": "stderr",
     "output_type": "stream",
     "text": [
      "[mbo] 44: learning_rate=0.2; feature_fraction=0.615; num_leaves=812; min_data_in_leaf=14384 : y = 1.46e+08 : 268.7 secs : infill_ei\n",
      "\n"
     ]
    },
    {
     "name": "stdout",
     "output_type": "stream",
     "text": [
      "Validate  61     560    100946181     107723126    \n",
      "20231101 174146\t156\t2714406\tgbdt\tbinary\tcustom\tTRUE\tTRUE\tFALSE\tTRUE\t-100\t-1\t0\t0.001\t0\t0\t31\t140\t1\t1\t1\tFALSE\t1\t0.1\t50\t0.5\tTRUE\t279551\t0.175086113409268\t0.545572121089727\t974\t23023\t14944\t146081975.012494\t61\n"
     ]
    },
    {
     "name": "stderr",
     "output_type": "stream",
     "text": [
      "[mbo] 45: learning_rate=0.175; feature_fraction=0.546; num_leaves=974; min_data_in_leaf=23023 : y = 1.46e+08 : 302.3 secs : infill_ei\n",
      "\n"
     ]
    },
    {
     "name": "stdout",
     "output_type": "stream",
     "text": [
      "Validate  62     490    104185656     106334919    \n",
      "20231101 174542\t156\t2714406\tgbdt\tbinary\tcustom\tTRUE\tTRUE\tFALSE\tTRUE\t-100\t-1\t0\t0.001\t0\t0\t31\t49\t1\t1\t1\tFALSE\t1\t0.1\t50\t0.5\tTRUE\t279551\t0.0912156693620931\t0.430247739064002\t266\t35124\t11027\t141046162.418791\t62\n"
     ]
    },
    {
     "name": "stderr",
     "output_type": "stream",
     "text": [
      "[mbo] 46: learning_rate=0.0912; feature_fraction=0.43; num_leaves=266; min_data_in_leaf=35124 : y = 1.41e+08 : 236.4 secs : infill_ei\n",
      "\n",
      "Saved the current state after iteration 47 in the file HT8230 (Clase 10-11, Ajustado Sem4).RDATA.\n",
      "\n"
     ]
    },
    {
     "name": "stdout",
     "output_type": "stream",
     "text": [
      "Validate  63     610    104735207     107874586    \n",
      "20231101 174917\t156\t2714406\tgbdt\tbinary\tcustom\tTRUE\tTRUE\tFALSE\tTRUE\t-100\t-1\t0\t0.001\t0\t0\t31\t81\t1\t1\t1\tFALSE\t1\t0.1\t50\t0.5\tTRUE\t279551\t0.0309419650348203\t0.742617162817847\t576\t45465\t12615\t139406504.247876\t63\n"
     ]
    },
    {
     "name": "stderr",
     "output_type": "stream",
     "text": [
      "[mbo] 47: learning_rate=0.0309; feature_fraction=0.743; num_leaves=576; min_data_in_leaf=45465 : y = 1.39e+08 : 211.3 secs : infill_ei\n",
      "\n"
     ]
    },
    {
     "name": "stdout",
     "output_type": "stream",
     "text": [
      "Validate  64     450    104663759     105650230    \n",
      "20231101 175211\t156\t2714406\tgbdt\tbinary\tcustom\tTRUE\tTRUE\tFALSE\tTRUE\t-100\t-1\t0\t0.001\t0\t0\t31\t20\t1\t1\t1\tFALSE\t1\t0.1\t50\t0.5\tTRUE\t279551\t0.122784533476965\t0.914559179257937\t510\t28870\t11252\t140956659.670165\t64\n"
     ]
    },
    {
     "name": "stderr",
     "output_type": "stream",
     "text": [
      "[mbo] 48: learning_rate=0.123; feature_fraction=0.915; num_leaves=510; min_data_in_leaf=28870 : y = 1.41e+08 : 173.2 secs : infill_ei\n",
      "\n"
     ]
    },
    {
     "name": "stdout",
     "output_type": "stream",
     "text": [
      "Validate  65     570    100823837     104677937    \n",
      "20231101 175454\t156\t2714406\tgbdt\tbinary\tcustom\tTRUE\tTRUE\tFALSE\tTRUE\t-100\t-1\t0\t0.001\t0\t0\t31\t157\t1\t1\t1\tFALSE\t1\t0.1\t50\t0.5\tTRUE\t279551\t0.251974441204631\t0.0799895906949474\t427\t14489\t11514\t142139411.294353\t65\n"
     ]
    },
    {
     "name": "stderr",
     "output_type": "stream",
     "text": [
      "[mbo] 49: learning_rate=0.252; feature_fraction=0.08; num_leaves=427; min_data_in_leaf=14489 : y = 1.42e+08 : 163.4 secs : infill_ei\n",
      "\n"
     ]
    },
    {
     "name": "stdout",
     "output_type": "stream",
     "text": [
      "Validate  66     650    100403837     105028045    \n",
      "20231101 175906\t156\t2714406\tgbdt\tbinary\tcustom\tTRUE\tTRUE\tFALSE\tTRUE\t-100\t-1\t0\t0.001\t0\t0\t31\t230\t1\t1\t1\tFALSE\t1\t0.1\t50\t0.5\tTRUE\t279551\t0.137118562102881\t0.817609808356108\t96\t29676\t12980\t148116571.714143\t66\n"
     ]
    },
    {
     "name": "stderr",
     "output_type": "stream",
     "text": [
      "[mbo] 50: learning_rate=0.137; feature_fraction=0.818; num_leaves=96; min_data_in_leaf=29676 : y = 1.48e+08 : 251.5 secs : infill_ei\n",
      "\n",
      "Saved the final state in the file HT8230 (Clase 10-11, Ajustado Sem4).RDATA\n",
      "\n",
      "Saved the final state in the file HT8230 (Clase 10-11, Ajustado Sem4).RDATA\n",
      "\n"
     ]
    },
    {
     "name": "stdout",
     "output_type": "stream",
     "text": [
      "\n",
      "\n",
      "La optimizacion Bayesiana ha terminado\n"
     ]
    }
   ],
   "source": [
    "# inicio la optimizacion bayesiana\n",
    "if (!file.exists(kbayesiana)) {\n",
    "  run <- mbo(obj.fun, learner = surr.km, control = ctrl)\n",
    "} else {\n",
    "  run <- mboContinue(kbayesiana) # retomo en caso que ya exista\n",
    "}\n",
    "\n",
    "\n",
    "cat(\"\\n\\nLa optimizacion Bayesiana ha terminado\\n\")\n"
   ]
  }
 ],
 "metadata": {
  "kernelspec": {
   "display_name": "R",
   "language": "R",
   "name": "ir"
  },
  "language_info": {
   "codemirror_mode": "r",
   "file_extension": ".r",
   "mimetype": "text/x-r-source",
   "name": "R",
   "pygments_lexer": "r",
   "version": "4.3.1"
  },
  "orig_nbformat": 4
 },
 "nbformat": 4,
 "nbformat_minor": 2
}
