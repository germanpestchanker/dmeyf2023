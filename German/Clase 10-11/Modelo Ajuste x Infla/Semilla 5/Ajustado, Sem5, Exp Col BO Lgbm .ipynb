{
 "cells": [
  {
   "cell_type": "markdown",
   "metadata": {},
   "source": [
    "## Importación de Librerías"
   ]
  },
  {
   "cell_type": "markdown",
   "metadata": {},
   "source": [
    "Este script esta pensado para correr en Google Cloud\n",
    "- 8 vCPU\n",
    "- 128 GB memoria RAM\n",
    "\n",
    "- se entrena con clase_binaria2  POS =  { BAJA+1, BAJA+2 }\n",
    "- Optimizacion Bayesiana de hiperparametros de  lightgbm,"
   ]
  },
  {
   "cell_type": "code",
   "execution_count": 1,
   "metadata": {
    "vscode": {
     "languageId": "r"
    }
   },
   "outputs": [
    {
     "data": {
      "text/html": [
       "<table class=\"dataframe\">\n",
       "<caption>A matrix: 2 × 6 of type dbl</caption>\n",
       "<thead>\n",
       "\t<tr><th></th><th scope=col>used</th><th scope=col>(Mb)</th><th scope=col>gc trigger</th><th scope=col>(Mb)</th><th scope=col>max used</th><th scope=col>(Mb)</th></tr>\n",
       "</thead>\n",
       "<tbody>\n",
       "\t<tr><th scope=row>Ncells</th><td> 631888</td><td>33.8</td><td>1412190</td><td>75.5</td><td> 984954</td><td>52.7</td></tr>\n",
       "\t<tr><th scope=row>Vcells</th><td>1170380</td><td> 9.0</td><td>8388608</td><td>64.0</td><td>1815603</td><td>13.9</td></tr>\n",
       "</tbody>\n",
       "</table>\n"
      ],
      "text/latex": [
       "A matrix: 2 × 6 of type dbl\n",
       "\\begin{tabular}{r|llllll}\n",
       "  & used & (Mb) & gc trigger & (Mb) & max used & (Mb)\\\\\n",
       "\\hline\n",
       "\tNcells &  631888 & 33.8 & 1412190 & 75.5 &  984954 & 52.7\\\\\n",
       "\tVcells & 1170380 &  9.0 & 8388608 & 64.0 & 1815603 & 13.9\\\\\n",
       "\\end{tabular}\n"
      ],
      "text/markdown": [
       "\n",
       "A matrix: 2 × 6 of type dbl\n",
       "\n",
       "| <!--/--> | used | (Mb) | gc trigger | (Mb) | max used | (Mb) |\n",
       "|---|---|---|---|---|---|---|\n",
       "| Ncells |  631888 | 33.8 | 1412190 | 75.5 |  984954 | 52.7 |\n",
       "| Vcells | 1170380 |  9.0 | 8388608 | 64.0 | 1815603 | 13.9 |\n",
       "\n"
      ],
      "text/plain": [
       "       used    (Mb) gc trigger (Mb) max used (Mb)\n",
       "Ncells  631888 33.8 1412190    75.5  984954  52.7\n",
       "Vcells 1170380  9.0 8388608    64.0 1815603  13.9"
      ]
     },
     "metadata": {},
     "output_type": "display_data"
    }
   ],
   "source": [
    "# limpio la memoria\n",
    "rm(list = ls()) # remove all objects\n",
    "gc() # garbage collection"
   ]
  },
  {
   "cell_type": "code",
   "execution_count": 2,
   "metadata": {
    "vscode": {
     "languageId": "r"
    }
   },
   "outputs": [
    {
     "name": "stderr",
     "output_type": "stream",
     "text": [
      "Loading required package: data.table\n",
      "\n",
      "Loading required package: rlist\n",
      "\n",
      "Loading required package: lightgbm\n",
      "\n"
     ]
    }
   ],
   "source": [
    "require(\"data.table\")\n",
    "require(\"rlist\")\n",
    "require(\"lightgbm\")"
   ]
  },
  {
   "cell_type": "code",
   "execution_count": 3,
   "metadata": {
    "vscode": {
     "languageId": "r"
    }
   },
   "outputs": [
    {
     "name": "stderr",
     "output_type": "stream",
     "text": [
      "Loading required package: DiceKriging\n",
      "\n",
      "Loading required package: mlrMBO\n",
      "\n",
      "Loading required package: mlr\n",
      "\n",
      "Loading required package: ParamHelpers\n",
      "\n",
      "Warning message: 'mlr' is in 'maintenance-only' mode since July 2019.\n",
      "Future development will only happen in 'mlr3'\n",
      "(<https://mlr3.mlr-org.com>). Due to the focus on 'mlr3' there might be\n",
      "uncaught bugs meanwhile in {mlr} - please consider switching.\n",
      "\n",
      "Loading required package: smoof\n",
      "\n",
      "Loading required package: checkmate\n",
      "\n",
      "\n",
      "Attaching package: ‘checkmate’\n",
      "\n",
      "\n",
      "The following object is masked from ‘package:DiceKriging’:\n",
      "\n",
      "    checkNames\n",
      "\n",
      "\n"
     ]
    }
   ],
   "source": [
    "# paquetes necesarios para la Bayesian Optimization\n",
    "require(\"DiceKriging\")\n",
    "require(\"mlrMBO\")\n",
    "\n",
    "# para que se detenga ante el primer error\n",
    "# y muestre el stack de funciones invocadas\n",
    "options(error = function() {\n",
    "  traceback(20)\n",
    "  options(error = NULL)\n",
    "  stop(\"exiting after script error\")\n",
    "})"
   ]
  },
  {
   "cell_type": "markdown",
   "metadata": {},
   "source": [
    "# Definición de Parametros"
   ]
  },
  {
   "cell_type": "code",
   "execution_count": 4,
   "metadata": {
    "vscode": {
     "languageId": "r"
    }
   },
   "outputs": [],
   "source": [
    "# defino los parametros de la corrida, en una lista, la variable global  PARAM\n",
    "#  muy pronto esto se leera desde un archivo formato .yaml\n",
    "PARAM <- list()\n",
    "\n",
    "PARAM$experimento <- \"HT8230 (Clase 10-11, Ajustado Sem5)\"\n",
    "\n",
    "PARAM$input$dataset <- \"datasets/competencia_03_infla.csv.gz\"\n",
    "\n",
    "# los meses en los que vamos a entrenar\n",
    "#  mucha magia emerger de esta eleccion\n",
    "PARAM$input$testing <- c(202107) # Último mes, lo más cercano al 202109 de kaggle\n",
    "PARAM$input$validation <- c(202106)\n",
    "PARAM$input$training <- c(202105, 202104, 202103, 202102, 202101,\n",
    " 202012, 202011, 202010, 202009, 202008, 202002, 202001, 201912, 201911,\n",
    " 201910, 201909, 201908, 201907) #Tal como lo pide el pdf de la materia\n",
    "\n",
    "# un undersampling de 0.1  toma solo el 10% de los CONTINUA\n",
    "PARAM$trainingstrategy$undersampling <- 1.0\n",
    "PARAM$trainingstrategy$semilla_azar <- c(279511, 279523, 279541, 279551, 279571)  # Aqui poner su  primer  semilla/ pongo todas mis semillas\n",
    "\n",
    "PARAM$hyperparametertuning$POS_ganancia <- 273000\n",
    "PARAM$hyperparametertuning$NEG_ganancia <- -7000\n",
    "\n",
    "# Aqui poner su segunda semilla\n",
    "PARAM$lgb_semilla <- 279571"
   ]
  },
  {
   "cell_type": "code",
   "execution_count": 5,
   "metadata": {
    "vscode": {
     "languageId": "r"
    }
   },
   "outputs": [],
   "source": [
    "# Hiperparametros FIJOS de  lightgbm\n",
    "PARAM$lgb_basicos <- list(\n",
    "  boosting = \"gbdt\", # puede ir  dart  , ni pruebe random_forest\n",
    "  objective = \"binary\",\n",
    "  metric = \"custom\",\n",
    "  first_metric_only = TRUE,\n",
    "  boost_from_average = TRUE,\n",
    "  feature_pre_filter = FALSE,\n",
    "  force_row_wise = TRUE, # para reducir warnings\n",
    "  verbosity = -100,\n",
    "  max_depth = -1L, # -1 significa no limitar,  por ahora lo dejo fijo\n",
    "  min_gain_to_split = 0.0, # min_gain_to_split >= 0.0\n",
    "  min_sum_hessian_in_leaf = 0.001, #  min_sum_hessian_in_leaf >= 0.0\n",
    "  lambda_l1 = 0.0, # lambda_l1 >= 0.0\n",
    "  lambda_l2 = 0.0, # lambda_l2 >= 0.0\n",
    "  max_bin = 31L, # lo debo dejar fijo, no participa de la BO\n",
    "  num_iterations = 9999, # un numero muy grande, lo limita early_stopping_rounds\n",
    "\n",
    "  bagging_fraction = 1.0, # 0.0 < bagging_fraction <= 1.0\n",
    "  pos_bagging_fraction = 1.0, # 0.0 < pos_bagging_fraction <= 1.0\n",
    "  neg_bagging_fraction = 1.0, # 0.0 < neg_bagging_fraction <= 1.0\n",
    "  is_unbalance = FALSE, #\n",
    "  scale_pos_weight = 1.0, # scale_pos_weight > 0.0\n",
    "\n",
    "  drop_rate = 0.1, # 0.0 < neg_bagging_fraction <= 1.0\n",
    "  max_drop = 50, # <=0 means no limit\n",
    "  skip_drop = 0.5, # 0.0 <= skip_drop <= 1.0\n",
    "\n",
    "  extra_trees = TRUE, # Magic Sauce\n",
    "\n",
    "  seed = PARAM$lgb_semilla\n",
    ")"
   ]
  },
  {
   "cell_type": "code",
   "execution_count": 6,
   "metadata": {
    "vscode": {
     "languageId": "r"
    }
   },
   "outputs": [],
   "source": [
    "# Aqui se cargan los hiperparametros que se optimizan\n",
    "#  en la Bayesian Optimization\n",
    "PARAM$bo_lgb <- makeParamSet(\n",
    "  makeNumericParam(\"learning_rate\", lower = 0.02, upper = 0.3),\n",
    "  makeNumericParam(\"feature_fraction\", lower = 0.01, upper = 1.0),\n",
    "  makeIntegerParam(\"num_leaves\", lower = 8L, upper = 1024L),\n",
    "  makeIntegerParam(\"min_data_in_leaf\", lower = 100L, upper = 50000L)\n",
    ")\n",
    "\n",
    "# si usted es ambicioso, y tiene paciencia, podria subir este valor a 100\n",
    "PARAM$bo_iteraciones <- 50 # iteraciones de la Optimizacion Bayesiana"
   ]
  },
  {
   "cell_type": "code",
   "execution_count": 7,
   "metadata": {
    "vscode": {
     "languageId": "r"
    }
   },
   "outputs": [],
   "source": [
    "# graba a un archivo los componentes de lista\n",
    "# para el primer registro, escribe antes los titulos\n",
    "\n",
    "loguear <- function(\n",
    "    reg, arch = NA, folder = \"./exp/\",\n",
    "    ext = \".txt\", verbose = TRUE) {\n",
    "  archivo <- arch\n",
    "  if (is.na(arch)) archivo <- paste0(folder, substitute(reg), ext)\n",
    "\n",
    "  if (!file.exists(archivo)) # Escribo los titulos\n",
    "    {\n",
    "      linea <- paste0(\n",
    "        \"fecha\\t\",\n",
    "        paste(list.names(reg), collapse = \"\\t\"), \"\\n\"\n",
    "      )\n",
    "\n",
    "      cat(linea, file = archivo)\n",
    "    }\n",
    "\n",
    "  linea <- paste0(\n",
    "    format(Sys.time(), \"%Y%m%d %H%M%S\"), \"\\t\", # la fecha y hora\n",
    "    gsub(\", \", \"\\t\", toString(reg)), \"\\n\"\n",
    "  )\n",
    "\n",
    "  cat(linea, file = archivo, append = TRUE) # grabo al archivo\n",
    "\n",
    "  if (verbose) cat(linea) # imprimo por pantalla\n",
    "}"
   ]
  },
  {
   "cell_type": "code",
   "execution_count": 8,
   "metadata": {
    "vscode": {
     "languageId": "r"
    }
   },
   "outputs": [],
   "source": [
    "#------------------------------------------------------------------------------\n",
    "GLOBAL_arbol <- 0L\n",
    "GLOBAL_gan_max <- -Inf\n",
    "vcant_optima <- c()\n",
    "\n",
    "fganancia_lgbm_meseta <- function(probs, datos) {\n",
    "  vlabels <- get_field(datos, \"label\")\n",
    "  vpesos <- get_field(datos, \"weight\")\n",
    "\n",
    "\n",
    "  GLOBAL_arbol <<- GLOBAL_arbol + 1\n",
    "  tbl <- as.data.table(list(\n",
    "    \"prob\" = probs,\n",
    "    \"gan\" = ifelse(vlabels == 1 & vpesos > 1,\n",
    "      PARAM$hyperparametertuning$POS_ganancia,\n",
    "      PARAM$hyperparametertuning$NEG_ganancia  )\n",
    "  ))\n",
    "\n",
    "  setorder(tbl, -prob)\n",
    "  tbl[, posicion := .I]\n",
    "  tbl[, gan_acum := cumsum(gan)]\n",
    "\n",
    "  tbl[, gan_suavizada :=\n",
    "    frollmean(\n",
    "      x = gan_acum, n = 2001, align = \"center\",\n",
    "      na.rm = TRUE, hasNA = TRUE\n",
    "    )]\n",
    "\n",
    "  gan <- tbl[, max(gan_suavizada, na.rm = TRUE)]\n",
    "\n",
    "\n",
    "  pos <- which.max(tbl[, gan_suavizada])\n",
    "  vcant_optima <<- c(vcant_optima, pos)\n",
    "\n",
    "  if (GLOBAL_arbol %% 10 == 0) {\n",
    "    if (gan > GLOBAL_gan_max) GLOBAL_gan_max <<- gan\n",
    "\n",
    "    cat(\"\\r\")\n",
    "    cat(\n",
    "      \"Validate \", GLOBAL_iteracion, \" \", \" \",\n",
    "      GLOBAL_arbol, \"  \", gan, \"   \", GLOBAL_gan_max, \"   \"\n",
    "    )\n",
    "  }\n",
    "\n",
    "\n",
    "  return(list(\n",
    "    \"name\" = \"ganancia\",\n",
    "    \"value\" = gan,\n",
    "    \"higher_better\" = TRUE\n",
    "  ))\n",
    "}"
   ]
  },
  {
   "cell_type": "code",
   "execution_count": 9,
   "metadata": {
    "vscode": {
     "languageId": "r"
    }
   },
   "outputs": [],
   "source": [
    "#------------------------------------------------------------------------------\n",
    "\n",
    "EstimarGanancia_lightgbm <- function(x) {\n",
    "  gc()\n",
    "  GLOBAL_iteracion <<- GLOBAL_iteracion + 1L\n",
    "\n",
    "  # hago la union de los parametros basicos y los moviles que vienen en x\n",
    "  param_completo <- c(PARAM$lgb_basicos, x)\n",
    "\n",
    "  param_completo$early_stopping_rounds <-\n",
    "    as.integer(400 + 4 / param_completo$learning_rate)\n",
    "\n",
    "  GLOBAL_arbol <<- 0L\n",
    "  GLOBAL_gan_max <<- -Inf\n",
    "  vcant_optima <<- c()\n",
    "  set.seed(PARAM$lgb_semilla, kind = \"L'Ecuyer-CMRG\")\n",
    "  modelo_train <- lgb.train(\n",
    "    data = dtrain,\n",
    "    valids = list(valid = dvalidate),\n",
    "    eval = fganancia_lgbm_meseta,\n",
    "    param = param_completo,\n",
    "    verbose = -100\n",
    "  )\n",
    "\n",
    "  cat(\"\\n\")\n",
    "\n",
    "  cant_corte <- vcant_optima[modelo_train$best_iter]\n",
    "\n",
    "  # aplico el modelo a testing y calculo la ganancia\n",
    "  prediccion <- predict(\n",
    "    modelo_train,\n",
    "    data.matrix(dataset_test[, campos_buenos, with = FALSE])\n",
    "  )\n",
    "\n",
    "  tbl <- copy(dataset_test[, list(\"gan\" = ifelse(clase_ternaria == \"BAJA+2\",\n",
    "    PARAM$hyperparametertuning$POS_ganancia, \n",
    "    PARAM$hyperparametertuning$NEG_ganancia))])\n",
    "\n",
    "  tbl[, prob := prediccion]\n",
    "  setorder(tbl, -prob)\n",
    "  tbl[, gan_acum := cumsum(gan)]\n",
    "  tbl[, gan_suavizada := frollmean(\n",
    "    x = gan_acum, n = 2001,\n",
    "    align = \"center\", na.rm = TRUE, hasNA = TRUE\n",
    "  )]\n",
    "\n",
    "\n",
    "  ganancia_test <- tbl[, max(gan_suavizada, na.rm = TRUE)]\n",
    "\n",
    "  cantidad_test_normalizada <- which.max(tbl[, gan_suavizada])\n",
    "\n",
    "  rm(tbl)\n",
    "  gc()\n",
    "\n",
    "  ganancia_test_normalizada <- ganancia_test\n",
    "\n",
    "\n",
    "  # voy grabando las mejores column importance\n",
    "  if (ganancia_test_normalizada > GLOBAL_gananciamax) {\n",
    "    GLOBAL_gananciamax <<- ganancia_test_normalizada\n",
    "    tb_importancia <- as.data.table(lgb.importance(modelo_train))\n",
    "\n",
    "    fwrite(tb_importancia,\n",
    "      file = paste0(\"impo_\", sprintf(\"%03d\", GLOBAL_iteracion), \".txt\"),\n",
    "      sep = \"\\t\"\n",
    "    )\n",
    "\n",
    "    rm(tb_importancia)\n",
    "  }\n",
    "\n",
    "\n",
    "  # logueo final\n",
    "  ds <- list(\"cols\" = ncol(dtrain), \"rows\" = nrow(dtrain))\n",
    "  xx <- c(ds, copy(param_completo))\n",
    "\n",
    "  xx$early_stopping_rounds <- NULL\n",
    "  xx$num_iterations <- modelo_train$best_iter\n",
    "  xx$estimulos <- cantidad_test_normalizada\n",
    "  xx$ganancia <- ganancia_test_normalizada\n",
    "  xx$iteracion_bayesiana <- GLOBAL_iteracion\n",
    "\n",
    "  loguear(xx, arch = \"BO_log.txt\")\n",
    "\n",
    "  set.seed(PARAM$lgb_semilla, kind = \"L'Ecuyer-CMRG\")\n",
    "  return(ganancia_test_normalizada)\n",
    "}"
   ]
  },
  {
   "cell_type": "markdown",
   "metadata": {},
   "source": [
    "# Aquí empieza el programa"
   ]
  },
  {
   "cell_type": "code",
   "execution_count": 10,
   "metadata": {
    "vscode": {
     "languageId": "r"
    }
   },
   "outputs": [],
   "source": [
    "# Aqui empieza el programa\n",
    "\n",
    "# Aqui se debe poner la carpeta de la computadora local\n",
    "setwd(\"~/buckets/b1/\") # Establezco el Working Directory\n",
    "\n",
    "# cargo el dataset donde voy a entrenar el modelo\n",
    "dataset <- fread(PARAM$input$dataset)"
   ]
  },
  {
   "cell_type": "code",
   "execution_count": 11,
   "metadata": {
    "vscode": {
     "languageId": "r"
    }
   },
   "outputs": [],
   "source": [
    "# creo la carpeta donde va el experimento\n",
    "dir.create(\"./exp/\", showWarnings = FALSE)\n",
    "dir.create(paste0(\"./exp/\", PARAM$experimento, \"/\"), showWarnings = FALSE)\n",
    "\n",
    "# Establezco el Working Directory DEL EXPERIMENTO\n",
    "setwd(paste0(\"./exp/\", PARAM$experimento, \"/\"))\n",
    "\n",
    "# en estos archivos quedan los resultados\n",
    "kbayesiana <- paste0(PARAM$experimento, \".RDATA\")\n",
    "klog <- paste0(PARAM$experimento, \".txt\")\n"
   ]
  },
  {
   "cell_type": "code",
   "execution_count": 12,
   "metadata": {
    "vscode": {
     "languageId": "r"
    }
   },
   "outputs": [],
   "source": [
    "# Catastrophe Analysis  -------------------------------------------------------\n",
    "# deben ir cosas de este estilo\n",
    "#   dataset[foto_mes == 202006, active_quarter := NA]\n",
    "\n",
    "# Data Drifting\n",
    "# por ahora, no hago nada\n",
    "\n",
    "\n",
    "# Feature Engineering Historico  ----------------------------------------------\n",
    "#   aqui deben calcularse los  lags y  lag_delta\n",
    "#   Sin lags no hay paraiso !  corta la bocha"
   ]
  },
  {
   "cell_type": "code",
   "execution_count": null,
   "metadata": {
    "vscode": {
     "languageId": "r"
    }
   },
   "outputs": [],
   "source": []
  },
  {
   "cell_type": "code",
   "execution_count": 13,
   "metadata": {
    "vscode": {
     "languageId": "r"
    }
   },
   "outputs": [],
   "source": [
    "# ahora SI comienza la optimizacion Bayesiana\n",
    "\n",
    "GLOBAL_iteracion <- 0 # inicializo la variable global\n",
    "GLOBAL_gananciamax <- -1 # inicializo la variable global\n",
    "\n",
    "# si ya existe el archivo log, traigo hasta donde llegue\n",
    "if (file.exists(klog)) {\n",
    "  tabla_log <- fread(klog)\n",
    "  GLOBAL_iteracion <- nrow(tabla_log)\n",
    "  GLOBAL_gananciamax <- tabla_log[, max(ganancia)]\n",
    "}\n"
   ]
  },
  {
   "cell_type": "code",
   "execution_count": 14,
   "metadata": {
    "vscode": {
     "languageId": "r"
    }
   },
   "outputs": [],
   "source": [
    "# paso la clase a binaria que tome valores {0,1}  enteros\n",
    "dataset[, clase01 := ifelse(clase_ternaria == \"CONTINUA\", 0L, 1L)]\n",
    "\n",
    "\n",
    "# los campos que se van a utilizar\n",
    "campos_buenos <- setdiff(\n",
    "  colnames(dataset),\n",
    "  c(\"clase_ternaria\", \"clase01\", \"azar\", \"training\")\n",
    ")"
   ]
  },
  {
   "cell_type": "code",
   "execution_count": 15,
   "metadata": {
    "vscode": {
     "languageId": "r"
    }
   },
   "outputs": [],
   "source": [
    "# defino los datos que forma parte del training\n",
    "# aqui se hace el undersampling de los CONTINUA\n",
    "set.seed(PARAM$trainingstrategy$semilla_azar)\n",
    "dataset[, azar := runif(nrow(dataset))]\n",
    "dataset[, training := 0L]\n",
    "dataset[\n",
    "  foto_mes %in% PARAM$input$training &\n",
    "    (azar <= PARAM$trainingstrategy$undersampling | clase_ternaria %in% c(\"BAJA+1\", \"BAJA+2\")),\n",
    "  training := 1L\n",
    "]"
   ]
  },
  {
   "cell_type": "code",
   "execution_count": 16,
   "metadata": {
    "vscode": {
     "languageId": "r"
    }
   },
   "outputs": [],
   "source": [
    "# dejo los datos en el formato que necesita LightGBM\n",
    "dtrain <- lgb.Dataset(\n",
    "  data = data.matrix(dataset[training == 1L, campos_buenos, with = FALSE]),\n",
    "  label = dataset[training == 1L, clase01],\n",
    "  weight = dataset[training == 1L, \n",
    "    ifelse(clase_ternaria == \"BAJA+2\", 1.0000001, \n",
    "      ifelse(clase_ternaria == \"BAJA+1\", 1.0, 1.0))],\n",
    "  free_raw_data = FALSE\n",
    ")"
   ]
  },
  {
   "cell_type": "code",
   "execution_count": 17,
   "metadata": {
    "vscode": {
     "languageId": "r"
    }
   },
   "outputs": [],
   "source": [
    "# defino los datos que forman parte de validation\n",
    "#  no hay undersampling\n",
    "dataset[, validation := 0L]\n",
    "dataset[ foto_mes %in% PARAM$input$validation,  validation := 1L]\n",
    "\n",
    "dvalidate <- lgb.Dataset(\n",
    "  data = data.matrix(dataset[validation == 1L, campos_buenos, with = FALSE]),\n",
    "  label = dataset[validation == 1L, clase01],\n",
    "  weight = dataset[validation == 1L, \n",
    "    ifelse(clase_ternaria == \"BAJA+2\", 1.0000001, \n",
    "      ifelse(clase_ternaria == \"BAJA+1\", 1.0, 1.0))],\n",
    "  free_raw_data = FALSE\n",
    ")"
   ]
  },
  {
   "cell_type": "code",
   "execution_count": 18,
   "metadata": {
    "vscode": {
     "languageId": "r"
    }
   },
   "outputs": [],
   "source": [
    "# defino los datos de testing\n",
    "dataset[, testing := 0L]\n",
    "dataset[ foto_mes %in% PARAM$input$testing,  testing := 1L]\n",
    "\n",
    "\n",
    "dataset_test <- dataset[testing == 1, ]"
   ]
  },
  {
   "cell_type": "code",
   "execution_count": 19,
   "metadata": {
    "vscode": {
     "languageId": "r"
    }
   },
   "outputs": [
    {
     "data": {
      "text/html": [
       "<table class=\"dataframe\">\n",
       "<caption>A matrix: 2 × 6 of type dbl</caption>\n",
       "<thead>\n",
       "\t<tr><th></th><th scope=col>used</th><th scope=col>(Mb)</th><th scope=col>gc trigger</th><th scope=col>(Mb)</th><th scope=col>max used</th><th scope=col>(Mb)</th></tr>\n",
       "</thead>\n",
       "<tbody>\n",
       "\t<tr><th scope=row>Ncells</th><td>  2238694</td><td> 119.6</td><td>   4351987</td><td>  232.5</td><td>   2938851</td><td>  157.0</td></tr>\n",
       "\t<tr><th scope=row>Vcells</th><td>470923552</td><td>3592.9</td><td>1397068810</td><td>10658.8</td><td>1746222062</td><td>13322.7</td></tr>\n",
       "</tbody>\n",
       "</table>\n"
      ],
      "text/latex": [
       "A matrix: 2 × 6 of type dbl\n",
       "\\begin{tabular}{r|llllll}\n",
       "  & used & (Mb) & gc trigger & (Mb) & max used & (Mb)\\\\\n",
       "\\hline\n",
       "\tNcells &   2238694 &  119.6 &    4351987 &   232.5 &    2938851 &   157.0\\\\\n",
       "\tVcells & 470923552 & 3592.9 & 1397068810 & 10658.8 & 1746222062 & 13322.7\\\\\n",
       "\\end{tabular}\n"
      ],
      "text/markdown": [
       "\n",
       "A matrix: 2 × 6 of type dbl\n",
       "\n",
       "| <!--/--> | used | (Mb) | gc trigger | (Mb) | max used | (Mb) |\n",
       "|---|---|---|---|---|---|---|\n",
       "| Ncells |   2238694 |  119.6 |    4351987 |   232.5 |    2938851 |   157.0 |\n",
       "| Vcells | 470923552 | 3592.9 | 1397068810 | 10658.8 | 1746222062 | 13322.7 |\n",
       "\n"
      ],
      "text/plain": [
       "       used      (Mb)   gc trigger (Mb)    max used   (Mb)   \n",
       "Ncells   2238694  119.6    4351987   232.5    2938851   157.0\n",
       "Vcells 470923552 3592.9 1397068810 10658.8 1746222062 13322.7"
      ]
     },
     "metadata": {},
     "output_type": "display_data"
    }
   ],
   "source": [
    "# libero espacio\n",
    "rm(dataset)\n",
    "gc()"
   ]
  },
  {
   "cell_type": "code",
   "execution_count": 20,
   "metadata": {
    "vscode": {
     "languageId": "r"
    }
   },
   "outputs": [],
   "source": [
    "# Aqui comienza la configuracion de la Bayesian Optimization\n",
    "funcion_optimizar <- EstimarGanancia_lightgbm # la funcion que voy a maximizar\n",
    "\n",
    "configureMlr(show.learner.output = FALSE)\n",
    "\n",
    "# configuro la busqueda bayesiana,  los hiperparametros que se van a optimizar\n",
    "# por favor, no desesperarse por lo complejo\n",
    "obj.fun <- makeSingleObjectiveFunction(\n",
    "  fn = funcion_optimizar, # la funcion que voy a maximizar\n",
    "  minimize = FALSE, # estoy Maximizando la ganancia\n",
    "  noisy = TRUE,\n",
    "  par.set = PARAM$bo_lgb, # definido al comienzo del programa\n",
    "  has.simple.signature = FALSE # paso los parametros en una lista\n",
    ")\n",
    "\n",
    "# cada 600 segundos guardo el resultado intermedio\n",
    "ctrl <- makeMBOControl(\n",
    "  save.on.disk.at.time = 600, # se graba cada 600 segundos\n",
    "  save.file.path = kbayesiana\n",
    ") # se graba cada 600 segundos\n",
    "\n",
    "# indico la cantidad de iteraciones que va a tener la Bayesian Optimization\n",
    "ctrl <- setMBOControlTermination(\n",
    "  ctrl,\n",
    "  iters = PARAM$bo_iteraciones\n",
    ") # cantidad de iteraciones\n",
    "\n",
    "# defino el método estandar para la creacion de los puntos iniciales,\n",
    "# los \"No Inteligentes\"\n",
    "ctrl <- setMBOControlInfill(ctrl, crit = makeMBOInfillCritEI())\n",
    "\n",
    "\n",
    "# establezco la funcion que busca el maximo\n",
    "surr.km <- makeLearner(\n",
    "  \"regr.km\",\n",
    "  predict.type = \"se\",\n",
    "  covtype = \"matern3_2\",\n",
    "  control = list(trace = TRUE)\n",
    ")"
   ]
  },
  {
   "cell_type": "code",
   "execution_count": 21,
   "metadata": {
    "vscode": {
     "languageId": "r"
    }
   },
   "outputs": [
    {
     "name": "stderr",
     "output_type": "stream",
     "text": [
      "Computing y column(s) for design. Not provided.\n",
      "\n"
     ]
    },
    {
     "name": "stdout",
     "output_type": "stream",
     "text": [
      "Validate  1     450    103948114     106377373    \n",
      "20231029 194039\t154\t2714406\tgbdt\tbinary\tcustom\tTRUE\tTRUE\tFALSE\tTRUE\t-100\t-1\t0\t0.001\t0\t0\t31\t23\t1\t1\t1\tFALSE\t1\t0.1\t50\t0.5\tTRUE\t279523\t0.13694120913744\t0.511200065682206\t759\t20645\t13069\t138547844.577711\t1\n",
      "Validate  2     480    105772127     108091366    \n",
      "20231029 194532\t154\t2714406\tgbdt\tbinary\tcustom\tTRUE\tTRUE\tFALSE\tTRUE\t-100\t-1\t0\t0.001\t0\t0\t31\t49\t1\t1\t1\tFALSE\t1\t0.1\t50\t0.5\tTRUE\t279523\t0.10871455284534\t0.383395616570779\t371\t38535\t13326\t141950743.628186\t2\n",
      "Validate  3     570    104159496     108226122    \n",
      "20231029 195005\t154\t2714406\tgbdt\tbinary\tcustom\tTRUE\tTRUE\tFALSE\tTRUE\t-100\t-1\t0\t0.001\t0\t0\t31\t147\t1\t1\t1\tFALSE\t1\t0.1\t50\t0.5\tTRUE\t279523\t0.153177819112316\t0.276715104630857\t621\t15235\t11500\t143817641.17941\t3\n",
      "Validate  4     570    99057882     104126385     \n",
      "20231029 195342\t154\t2714406\tgbdt\tbinary\tcustom\tTRUE\tTRUE\tFALSE\tTRUE\t-100\t-1\t0\t0.001\t0\t0\t31\t159\t1\t1\t1\tFALSE\t1\t0.1\t50\t0.5\tTRUE\t279523\t0.271073784258333\t0.78185350669577\t116\t34014\t12555\t144754560.21989\t4\n",
      "Validate  5     980    101432932     104087681    \n",
      "20231029 200439\t154\t2714406\tgbdt\tbinary\tcustom\tTRUE\tTRUE\tFALSE\tTRUE\t-100\t-1\t0\t0.001\t0\t0\t31\t564\t1\t1\t1\tFALSE\t1\t0.1\t50\t0.5\tTRUE\t279523\t0.238883439445053\t0.644795008537039\t542\t2127\t13397\t132649485.757121\t5\n",
      "Validate  6     640    103124273     104843590    \n",
      "20231029 200721\t154\t2714406\tgbdt\tbinary\tcustom\tTRUE\tTRUE\tFALSE\tTRUE\t-100\t-1\t0\t0.001\t0\t0\t31\t198\t1\t1\t1\tFALSE\t1\t0.1\t50\t0.5\tTRUE\t279523\t0.0900664854224306\t0.0754280283300613\t412\t23029\t12180\t139032733.633183\t6\n",
      "Validate  7     620    99437407     105884470     \n",
      "20231029 201129\t154\t2714406\tgbdt\tbinary\tcustom\tTRUE\tTRUE\tFALSE\tTRUE\t-100\t-1\t0\t0.001\t0\t0\t31\t203\t1\t1\t1\tFALSE\t1\t0.1\t50\t0.5\tTRUE\t279523\t0.186720657731057\t0.696503204608016\t661\t16723\t13735\t139875969.515242\t7\n",
      "Validate  8     560    107445785     108750944    \n",
      "20231029 201428\t154\t2714406\tgbdt\tbinary\tcustom\tTRUE\tTRUE\tFALSE\tTRUE\t-100\t-1\t0\t0.001\t0\t0\t31\t69\t1\t1\t1\tFALSE\t1\t0.1\t50\t0.5\tTRUE\t279523\t0.0429818473849446\t0.840359180488013\t150\t42638\t11886\t143791383.308346\t8\n",
      "Validate  9     1520    106819769     108062425    \n",
      "20231029 202908\t154\t2714406\tgbdt\tbinary\tcustom\tTRUE\tTRUE\tFALSE\tTRUE\t-100\t-1\t0\t0.001\t0\t0\t31\t1101\t1\t1\t1\tFALSE\t1\t0.1\t50\t0.5\tTRUE\t279523\t0.166457323828363\t0.380679800144862\t905\t3322\t12455\t139035829.585207\t9\n",
      "Validate  10     550    107332298     108004980    \n",
      "20231029 203329\t154\t2714406\tgbdt\tbinary\tcustom\tTRUE\tTRUE\tFALSE\tTRUE\t-100\t-1\t0\t0.001\t0\t0\t31\t98\t1\t1\t1\tFALSE\t1\t0.1\t50\t0.5\tTRUE\t279523\t0.0768787990038982\t0.575646079617873\t831\t46409\t12393\t141077345.827086\t10\n",
      "Validate  11     780    101604328     108907252    \n",
      "20231029 204001\t154\t2714406\tgbdt\tbinary\tcustom\tTRUE\tTRUE\tFALSE\tTRUE\t-100\t-1\t0\t0.001\t0\t0\t31\t363\t1\t1\t1\tFALSE\t1\t0.1\t50\t0.5\tTRUE\t279523\t0.199060535248718\t0.482284466433484\t268\t29593\t13883\t143386156.421789\t11\n",
      "Validate  12     710    103750848     106757290    \n",
      "20231029 204224\t154\t2714406\tgbdt\tbinary\tcustom\tTRUE\tTRUE\tFALSE\tTRUE\t-100\t-1\t0\t0.001\t0\t0\t31\t300\t1\t1\t1\tFALSE\t1\t0.1\t50\t0.5\tTRUE\t279523\t0.218087663662154\t0.0349420346751867\t500\t8456\t15080\t138832003.998001\t12\n",
      "Validate  13     680    101007264     106081071    \n",
      "20231029 204601\t154\t2714406\tgbdt\tbinary\tcustom\tTRUE\tTRUE\tFALSE\tTRUE\t-100\t-1\t0\t0.001\t0\t0\t31\t271\t1\t1\t1\tFALSE\t1\t0.1\t50\t0.5\tTRUE\t279523\t0.247791156655876\t0.936292199923046\t887\t48584\t12744\t145420805.597201\t13\n",
      "Validate  14     760    108399404     110361311    \n",
      "20231029 205108\t154\t2714406\tgbdt\tbinary\tcustom\tTRUE\tTRUE\tFALSE\tTRUE\t-100\t-1\t0\t0.001\t0\t0\t31\t218\t1\t1\t1\tFALSE\t1\t0.1\t50\t0.5\tTRUE\t279523\t0.0278307219524868\t0.240808322774392\t56\t34450\t12514\t142449216.391804\t14\n",
      "Validate  15     560    105813399     109024083    \n",
      "20231029 205428\t154\t2714406\tgbdt\tbinary\tcustom\tTRUE\tTRUE\tFALSE\tTRUE\t-100\t-1\t0\t0.001\t0\t0\t31\t110\t1\t1\t1\tFALSE\t1\t0.1\t50\t0.5\tTRUE\t279523\t0.0708034699544078\t0.142060961340176\t995\t27067\t13037\t143220640.17991\t15\n",
      "Validate  16     420    96351761     103751467    \n",
      "20231029 205809\t154\t2714406\tgbdt\tbinary\tcustom\tTRUE\tTRUE\tFALSE\tTRUE\t-100\t-1\t0\t0.001\t0\t0\t31\t13\t1\t1\t1\tFALSE\t1\t0.1\t50\t0.5\tTRUE\t279523\t0.291614252373693\t0.946646284638409\t253\t10265\t11368\t128984539.730135\t16\n"
     ]
    },
    {
     "name": "stderr",
     "output_type": "stream",
     "text": [
      "[mbo] 0: learning_rate=0.137; feature_fraction=0.511; num_leaves=759; min_data_in_leaf=20645 : y = 1.39e+08 : 265.6 secs : initdesign\n",
      "\n",
      "[mbo] 0: learning_rate=0.109; feature_fraction=0.383; num_leaves=371; min_data_in_leaf=38535 : y = 1.42e+08 : 292.7 secs : initdesign\n",
      "\n",
      "[mbo] 0: learning_rate=0.153; feature_fraction=0.277; num_leaves=621; min_data_in_leaf=15235 : y = 1.44e+08 : 273.4 secs : initdesign\n",
      "\n",
      "[mbo] 0: learning_rate=0.271; feature_fraction=0.782; num_leaves=116; min_data_in_leaf=34014 : y = 1.45e+08 : 217.1 secs : initdesign\n",
      "\n",
      "[mbo] 0: learning_rate=0.239; feature_fraction=0.645; num_leaves=542; min_data_in_leaf=2127 : y = 1.33e+08 : 656.6 secs : initdesign\n",
      "\n",
      "[mbo] 0: learning_rate=0.0901; feature_fraction=0.0754; num_leaves=412; min_data_in_leaf=23029 : y = 1.39e+08 : 162.1 secs : initdesign\n",
      "\n",
      "[mbo] 0: learning_rate=0.187; feature_fraction=0.697; num_leaves=661; min_data_in_leaf=16723 : y = 1.4e+08 : 247.5 secs : initdesign\n",
      "\n",
      "[mbo] 0: learning_rate=0.043; feature_fraction=0.84; num_leaves=150; min_data_in_leaf=42638 : y = 1.44e+08 : 179.8 secs : initdesign\n",
      "\n",
      "[mbo] 0: learning_rate=0.166; feature_fraction=0.381; num_leaves=905; min_data_in_leaf=3322 : y = 1.39e+08 : 879.8 secs : initdesign\n",
      "\n",
      "[mbo] 0: learning_rate=0.0769; feature_fraction=0.576; num_leaves=831; min_data_in_leaf=46409 : y = 1.41e+08 : 261.3 secs : initdesign\n",
      "\n",
      "[mbo] 0: learning_rate=0.199; feature_fraction=0.482; num_leaves=268; min_data_in_leaf=29593 : y = 1.43e+08 : 391.5 secs : initdesign\n",
      "\n",
      "[mbo] 0: learning_rate=0.218; feature_fraction=0.0349; num_leaves=500; min_data_in_leaf=8456 : y = 1.39e+08 : 142.8 secs : initdesign\n",
      "\n",
      "[mbo] 0: learning_rate=0.248; feature_fraction=0.936; num_leaves=887; min_data_in_leaf=48584 : y = 1.45e+08 : 217.5 secs : initdesign\n",
      "\n",
      "[mbo] 0: learning_rate=0.0278; feature_fraction=0.241; num_leaves=56; min_data_in_leaf=34450 : y = 1.42e+08 : 307.1 secs : initdesign\n",
      "\n",
      "[mbo] 0: learning_rate=0.0708; feature_fraction=0.142; num_leaves=995; min_data_in_leaf=27067 : y = 1.43e+08 : 200.0 secs : initdesign\n",
      "\n",
      "[mbo] 0: learning_rate=0.292; feature_fraction=0.947; num_leaves=253; min_data_in_leaf=10265 : y = 1.29e+08 : 221.0 secs : initdesign\n",
      "\n",
      "Saved the current state after iteration 1 in the file HT8230 (Clase 10-11).RDATA.\n",
      "\n"
     ]
    },
    {
     "name": "stdout",
     "output_type": "stream",
     "text": [
      "Validate  17     800    102074819     107200652    \n",
      "20231029 210226\t154\t2714406\tgbdt\tbinary\tcustom\tTRUE\tTRUE\tFALSE\tTRUE\t-100\t-1\t0\t0.001\t0\t0\t31\t396\t1\t1\t1\tFALSE\t1\t0.1\t50\t0.5\tTRUE\t279523\t0.29981056801827\t0.999785866486143\t372\t49774\t11271\t146866958.02099\t17\n"
     ]
    },
    {
     "name": "stderr",
     "output_type": "stream",
     "text": [
      "[mbo] 1: learning_rate=0.3; feature_fraction=1; num_leaves=372; min_data_in_leaf=49774 : y = 1.47e+08 : 253.9 secs : infill_ei\n",
      "\n"
     ]
    },
    {
     "name": "stdout",
     "output_type": "stream",
     "text": [
      "Validate  18     700    106117051     108115217    \n",
      "20231029 210438\t154\t2714406\tgbdt\tbinary\tcustom\tTRUE\tTRUE\tFALSE\tTRUE\t-100\t-1\t0\t0.001\t0\t0\t31\t287\t1\t1\t1\tFALSE\t1\t0.1\t50\t0.5\tTRUE\t279523\t0.299583797504065\t0.999936458141745\t10\t44318\t10326\t144576530.734633\t18\n"
     ]
    },
    {
     "name": "stderr",
     "output_type": "stream",
     "text": [
      "[mbo] 2: learning_rate=0.3; feature_fraction=1; num_leaves=10; min_data_in_leaf=44318 : y = 1.45e+08 : 131.9 secs : infill_ei\n",
      "\n"
     ]
    },
    {
     "name": "stdout",
     "output_type": "stream",
     "text": [
      "Validate  19     1760    102515969     104565808    \n",
      "20231029 211003\t154\t2714406\tgbdt\tbinary\tcustom\tTRUE\tTRUE\tFALSE\tTRUE\t-100\t-1\t0\t0.001\t0\t0\t31\t1345\t1\t1\t1\tFALSE\t1\t0.1\t50\t0.5\tTRUE\t279523\t0.191533065961418\t0.999236369074537\t9\t49990\t13906\t144226355.822089\t19\n"
     ]
    },
    {
     "name": "stderr",
     "output_type": "stream",
     "text": [
      "[mbo] 3: learning_rate=0.192; feature_fraction=0.999; num_leaves=9; min_data_in_leaf=49990 : y = 1.44e+08 : 324.4 secs : infill_ei\n",
      "\n",
      "Saved the current state after iteration 4 in the file HT8230 (Clase 10-11).RDATA.\n",
      "\n"
     ]
    },
    {
     "name": "stdout",
     "output_type": "stream",
     "text": [
      "Validate  20     700    105084780     108385089    \n",
      "20231029 211410\t154\t2714406\tgbdt\tbinary\tcustom\tTRUE\tTRUE\tFALSE\tTRUE\t-100\t-1\t0\t0.001\t0\t0\t31\t107\t1\t1\t1\tFALSE\t1\t0.1\t50\t0.5\tTRUE\t279523\t0.0206227016985705\t0.999138438551699\t987\t33295\t11291\t141729356.821589\t20\n"
     ]
    },
    {
     "name": "stderr",
     "output_type": "stream",
     "text": [
      "[mbo] 4: learning_rate=0.0206; feature_fraction=0.999; num_leaves=987; min_data_in_leaf=33295 : y = 1.42e+08 : 244.8 secs : infill_ei\n",
      "\n"
     ]
    },
    {
     "name": "stdout",
     "output_type": "stream",
     "text": [
      "Validate  21     4930    105050616     105829082    \n",
      "20231029 212730\t154\t2714406\tgbdt\tbinary\tcustom\tTRUE\tTRUE\tFALSE\tTRUE\t-100\t-1\t0\t0.001\t0\t0\t31\t4337\t1\t1\t1\tFALSE\t1\t0.1\t50\t0.5\tTRUE\t279523\t0.0201762748311142\t0.0101608761834976\t1024\t14316\t15876\t135204751.624188\t21\n"
     ]
    },
    {
     "name": "stderr",
     "output_type": "stream",
     "text": [
      "[mbo] 5: learning_rate=0.0202; feature_fraction=0.0102; num_leaves=1024; min_data_in_leaf=14316 : y = 1.35e+08 : 799.4 secs : infill_ei\n",
      "\n",
      "Saved the current state after iteration 6 in the file HT8230 (Clase 10-11).RDATA.\n",
      "\n"
     ]
    },
    {
     "name": "stdout",
     "output_type": "stream",
     "text": [
      "Validate  22     580    98576890     105170830     \n",
      "20231029 213040\t154\t2714406\tgbdt\tbinary\tcustom\tTRUE\tTRUE\tFALSE\tTRUE\t-100\t-1\t0\t0.001\t0\t0\t31\t168\t1\t1\t1\tFALSE\t1\t0.1\t50\t0.5\tTRUE\t279523\t0.299891303601824\t0.856559404261322\t312\t49892\t12595\t147284215.392304\t22\n"
     ]
    },
    {
     "name": "stderr",
     "output_type": "stream",
     "text": [
      "[mbo] 6: learning_rate=0.3; feature_fraction=0.857; num_leaves=312; min_data_in_leaf=49892 : y = 1.47e+08 : 186.3 secs : infill_ei\n",
      "\n"
     ]
    },
    {
     "name": "stdout",
     "output_type": "stream",
     "text": [
      "Validate  23     610    102331198     107062873    \n",
      "20231029 213355\t154\t2714406\tgbdt\tbinary\tcustom\tTRUE\tTRUE\tFALSE\tTRUE\t-100\t-1\t0\t0.001\t0\t0\t31\t195\t1\t1\t1\tFALSE\t1\t0.1\t50\t0.5\tTRUE\t279523\t0.254727843255262\t0.807881825498589\t317\t47377\t12435\t138950542.228886\t23\n"
     ]
    },
    {
     "name": "stderr",
     "output_type": "stream",
     "text": [
      "[mbo] 7: learning_rate=0.255; feature_fraction=0.808; num_leaves=317; min_data_in_leaf=47377 : y = 1.39e+08 : 195.1 secs : infill_ei\n",
      "\n"
     ]
    },
    {
     "name": "stdout",
     "output_type": "stream",
     "text": [
      "Validate  24     430    99797842     103935111     \n",
      "20231029 213611\t154\t2714406\tgbdt\tbinary\tcustom\tTRUE\tTRUE\tFALSE\tTRUE\t-100\t-1\t0\t0.001\t0\t0\t31\t21\t1\t1\t1\tFALSE\t1\t0.1\t50\t0.5\tTRUE\t279523\t0.298813469100028\t0.750711974336566\t228\t49126\t14547\t136249080.95952\t24\n"
     ]
    },
    {
     "name": "stderr",
     "output_type": "stream",
     "text": [
      "[mbo] 8: learning_rate=0.299; feature_fraction=0.751; num_leaves=228; min_data_in_leaf=49126 : y = 1.36e+08 : 135.9 secs : infill_ei\n",
      "\n"
     ]
    },
    {
     "name": "stdout",
     "output_type": "stream",
     "text": [
      "Validate  25     440    102893885     105915524    \n",
      "20231029 213840\t154\t2714406\tgbdt\tbinary\tcustom\tTRUE\tTRUE\tFALSE\tTRUE\t-100\t-1\t0\t0.001\t0\t0\t31\t20\t1\t1\t1\tFALSE\t1\t0.1\t50\t0.5\tTRUE\t279523\t0.177448971082403\t0.855182187358143\t212\t37575\t13020\t138414382.808596\t25\n"
     ]
    },
    {
     "name": "stderr",
     "output_type": "stream",
     "text": [
      "[mbo] 9: learning_rate=0.177; feature_fraction=0.855; num_leaves=212; min_data_in_leaf=37575 : y = 1.38e+08 : 148.0 secs : infill_ei\n",
      "\n",
      "Saved the current state after iteration 10 in the file HT8230 (Clase 10-11).RDATA.\n",
      "\n"
     ]
    },
    {
     "name": "stdout",
     "output_type": "stream",
     "text": [
      "Validate  26     790    107036038     109101339    \n",
      "20231029 214337\t154\t2714406\tgbdt\tbinary\tcustom\tTRUE\tTRUE\tFALSE\tTRUE\t-100\t-1\t0\t0.001\t0\t0\t31\t224\t1\t1\t1\tFALSE\t1\t0.1\t50\t0.5\tTRUE\t279523\t0.0228835085643292\t0.28687401657649\t585\t45516\t12734\t142868516.741629\t26\n"
     ]
    },
    {
     "name": "stderr",
     "output_type": "stream",
     "text": [
      "[mbo] 10: learning_rate=0.0229; feature_fraction=0.287; num_leaves=585; min_data_in_leaf=45516 : y = 1.43e+08 : 293.8 secs : infill_ei\n",
      "\n"
     ]
    },
    {
     "name": "stdout",
     "output_type": "stream",
     "text": [
      "Validate  27     1010    106192610     106479022    \n",
      "20231029 215213\t154\t2714406\tgbdt\tbinary\tcustom\tTRUE\tTRUE\tFALSE\tTRUE\t-100\t-1\t0\t0.001\t0\t0\t31\t575\t1\t1\t1\tFALSE\t1\t0.1\t50\t0.5\tTRUE\t279523\t0.113831974433914\t0.939550955386741\t440\t2387\t12791\t141139901.549225\t27\n"
     ]
    },
    {
     "name": "stderr",
     "output_type": "stream",
     "text": [
      "[mbo] 11: learning_rate=0.114; feature_fraction=0.94; num_leaves=440; min_data_in_leaf=2387 : y = 1.41e+08 : 516.3 secs : infill_ei\n",
      "\n",
      "Saved the current state after iteration 12 in the file HT8230 (Clase 10-11).RDATA.\n",
      "\n"
     ]
    },
    {
     "name": "stdout",
     "output_type": "stream",
     "text": [
      "Validate  28     500    105964293     107563273    \n",
      "20231029 215455\t154\t2714406\tgbdt\tbinary\tcustom\tTRUE\tTRUE\tFALSE\tTRUE\t-100\t-1\t0\t0.001\t0\t0\t31\t64\t1\t1\t1\tFALSE\t1\t0.1\t50\t0.5\tTRUE\t279523\t0.0994529245551974\t0.155670195406256\t66\t16267\t12749\t141484136.431784\t28\n"
     ]
    },
    {
     "name": "stderr",
     "output_type": "stream",
     "text": [
      "[mbo] 12: learning_rate=0.0995; feature_fraction=0.156; num_leaves=66; min_data_in_leaf=16267 : y = 1.41e+08 : 158.8 secs : infill_ei\n",
      "\n"
     ]
    },
    {
     "name": "stdout",
     "output_type": "stream",
     "text": [
      "Validate  29     430    103657410     108058601    \n",
      "20231029 215735\t154\t2714406\tgbdt\tbinary\tcustom\tTRUE\tTRUE\tFALSE\tTRUE\t-100\t-1\t0\t0.001\t0\t0\t31\t14\t1\t1\t1\tFALSE\t1\t0.1\t50\t0.5\tTRUE\t279523\t0.187984097010263\t0.992539653660722\t987\t19447\t14525\t139543810.594703\t29\n"
     ]
    },
    {
     "name": "stderr",
     "output_type": "stream",
     "text": [
      "[mbo] 13: learning_rate=0.188; feature_fraction=0.993; num_leaves=987; min_data_in_leaf=19447 : y = 1.4e+08 : 159.6 secs : infill_ei\n",
      "\n"
     ]
    },
    {
     "name": "stdout",
     "output_type": "stream",
     "text": [
      "Validate  30     430    96572574     105821032     \n",
      "20231029 220030\t154\t2714406\tgbdt\tbinary\tcustom\tTRUE\tTRUE\tFALSE\tTRUE\t-100\t-1\t0\t0.001\t0\t0\t31\t20\t1\t1\t1\tFALSE\t1\t0.1\t50\t0.5\tTRUE\t279523\t0.21486489627466\t0.73114644606353\t994\t14329\t13056\t144888399.8001\t30\n"
     ]
    },
    {
     "name": "stderr",
     "output_type": "stream",
     "text": [
      "[mbo] 14: learning_rate=0.215; feature_fraction=0.731; num_leaves=994; min_data_in_leaf=14329 : y = 1.45e+08 : 174.8 secs : infill_ei\n",
      "\n"
     ]
    },
    {
     "name": "stdout",
     "output_type": "stream",
     "text": [
      "Validate  31     470    101555472     104138220    \n",
      "20231029 220231\t154\t2714406\tgbdt\tbinary\tcustom\tTRUE\tTRUE\tFALSE\tTRUE\t-100\t-1\t0\t0.001\t0\t0\t31\t62\t1\t1\t1\tFALSE\t1\t0.1\t50\t0.5\tTRUE\t279523\t0.23183732664914\t0.0967048329253251\t622\t40535\t14540\t135666016.991504\t31\n"
     ]
    },
    {
     "name": "stderr",
     "output_type": "stream",
     "text": [
      "[mbo] 15: learning_rate=0.232; feature_fraction=0.0967; num_leaves=622; min_data_in_leaf=40535 : y = 1.36e+08 : 119.7 secs : infill_ei\n",
      "\n",
      "Saved the current state after iteration 16 in the file HT8230 (Clase 10-11).RDATA.\n",
      "\n"
     ]
    },
    {
     "name": "stdout",
     "output_type": "stream",
     "text": [
      "Validate  32     1710    99872649     102485916     \n",
      "20231029 220653\t154\t2714406\tgbdt\tbinary\tcustom\tTRUE\tTRUE\tFALSE\tTRUE\t-100\t-1\t0\t0.001\t0\t0\t31\t1290\t1\t1\t1\tFALSE\t1\t0.1\t50\t0.5\tTRUE\t279523\t0.188510769635448\t0.0160009792923074\t20\t46521\t14128\t136908497.751124\t32\n"
     ]
    },
    {
     "name": "stderr",
     "output_type": "stream",
     "text": [
      "[mbo] 16: learning_rate=0.189; feature_fraction=0.016; num_leaves=20; min_data_in_leaf=46521 : y = 1.37e+08 : 259.7 secs : infill_ei\n",
      "\n"
     ]
    },
    {
     "name": "stdout",
     "output_type": "stream",
     "text": [
      "Validate  33     430    101130700     101594344    \n",
      "20231029 221105\t154\t2714406\tgbdt\tbinary\tcustom\tTRUE\tTRUE\tFALSE\tTRUE\t-100\t-1\t0\t0.001\t0\t0\t31\t16\t1\t1\t1\tFALSE\t1\t0.1\t50\t0.5\tTRUE\t279523\t0.207759407162936\t0.363749616031018\t866\t2414\t12910\t139760474.762619\t33\n"
     ]
    },
    {
     "name": "stderr",
     "output_type": "stream",
     "text": [
      "[mbo] 17: learning_rate=0.208; feature_fraction=0.364; num_leaves=866; min_data_in_leaf=2414 : y = 1.4e+08 : 251.6 secs : infill_ei\n",
      "\n"
     ]
    },
    {
     "name": "stdout",
     "output_type": "stream",
     "text": [
      "Validate  34     480    105703425     110643816    \n",
      "20231029 221422\t154\t2714406\tgbdt\tbinary\tcustom\tTRUE\tTRUE\tFALSE\tTRUE\t-100\t-1\t0\t0.001\t0\t0\t31\t42\t1\t1\t1\tFALSE\t1\t0.1\t50\t0.5\tTRUE\t279523\t0.0862693665594208\t0.367803098479063\t141\t1495\t12408\t140094284.857571\t34\n"
     ]
    },
    {
     "name": "stderr",
     "output_type": "stream",
     "text": [
      "[mbo] 18: learning_rate=0.0863; feature_fraction=0.368; num_leaves=141; min_data_in_leaf=1495 : y = 1.4e+08 : 196.8 secs : infill_ei\n",
      "\n",
      "Saved the current state after iteration 19 in the file HT8230 (Clase 10-11).RDATA.\n",
      "\n"
     ]
    },
    {
     "name": "stdout",
     "output_type": "stream",
     "text": [
      "Validate  35     610    100236621     101626353    \n",
      "20231029 221809\t154\t2714406\tgbdt\tbinary\tcustom\tTRUE\tTRUE\tFALSE\tTRUE\t-100\t-1\t0\t0.001\t0\t0\t31\t193\t1\t1\t1\tFALSE\t1\t0.1\t50\t0.5\tTRUE\t279523\t0.201494440229396\t0.230863219716859\t91\t16658\t13394\t144088216.891554\t35\n"
     ]
    },
    {
     "name": "stderr",
     "output_type": "stream",
     "text": [
      "[mbo] 19: learning_rate=0.201; feature_fraction=0.231; num_leaves=91; min_data_in_leaf=16658 : y = 1.44e+08 : 223.3 secs : infill_ei\n",
      "\n"
     ]
    },
    {
     "name": "stdout",
     "output_type": "stream",
     "text": [
      "Validate  36     640    107543624     110543426    \n",
      "20231029 222121\t154\t2714406\tgbdt\tbinary\tcustom\tTRUE\tTRUE\tFALSE\tTRUE\t-100\t-1\t0\t0.001\t0\t0\t31\t116\t1\t1\t1\tFALSE\t1\t0.1\t50\t0.5\tTRUE\t279523\t0.0312102471790676\t0.947599405081835\t341\t49600\t12447\t143741004.997501\t36\n"
     ]
    },
    {
     "name": "stderr",
     "output_type": "stream",
     "text": [
      "[mbo] 20: learning_rate=0.0312; feature_fraction=0.948; num_leaves=341; min_data_in_leaf=49600 : y = 1.44e+08 : 192.2 secs : infill_ei\n",
      "\n"
     ]
    },
    {
     "name": "stdout",
     "output_type": "stream",
     "text": [
      "Validate  37     430    96905464     102679519    \n",
      "20231029 222427\t154\t2714406\tgbdt\tbinary\tcustom\tTRUE\tTRUE\tFALSE\tTRUE\t-100\t-1\t0\t0.001\t0\t0\t31\t14\t1\t1\t1\tFALSE\t1\t0.1\t50\t0.5\tTRUE\t279523\t0.218010056024513\t0.982859935984685\t399\t9546\t14118\t134845544.227886\t37\n"
     ]
    },
    {
     "name": "stderr",
     "output_type": "stream",
     "text": [
      "[mbo] 21: learning_rate=0.218; feature_fraction=0.983; num_leaves=399; min_data_in_leaf=9546 : y = 1.35e+08 : 185.6 secs : infill_ei\n",
      "\n",
      "Saved the current state after iteration 22 in the file HT8230 (Clase 10-11).RDATA.\n",
      "\n"
     ]
    },
    {
     "name": "stdout",
     "output_type": "stream",
     "text": [
      "Validate  38     710    107377261     110799162    \n",
      "20231029 222938\t154\t2714406\tgbdt\tbinary\tcustom\tTRUE\tTRUE\tFALSE\tTRUE\t-100\t-1\t0\t0.001\t0\t0\t31\t216\t1\t1\t1\tFALSE\t1\t0.1\t50\t0.5\tTRUE\t279523\t0.0395327590028695\t0.26333513839646\t1006\t10586\t12789\t147004236.381809\t38\n"
     ]
    },
    {
     "name": "stderr",
     "output_type": "stream",
     "text": [
      "[mbo] 22: learning_rate=0.0395; feature_fraction=0.263; num_leaves=1006; min_data_in_leaf=10586 : y = 1.47e+08 : 307.4 secs : infill_ei\n",
      "\n"
     ]
    },
    {
     "name": "stdout",
     "output_type": "stream",
     "text": [
      "Validate  39     1230    104313041     108346623    \n",
      "20231029 223655\t154\t2714406\tgbdt\tbinary\tcustom\tTRUE\tTRUE\tFALSE\tTRUE\t-100\t-1\t0\t0.001\t0\t0\t31\t777\t1\t1\t1\tFALSE\t1\t0.1\t50\t0.5\tTRUE\t279523\t0.0688364978338479\t0.883629598794234\t618\t40211\t13629\t148098209.395302\t39\n"
     ]
    },
    {
     "name": "stderr",
     "output_type": "stream",
     "text": [
      "[mbo] 23: learning_rate=0.0688; feature_fraction=0.884; num_leaves=618; min_data_in_leaf=40211 : y = 1.48e+08 : 436.9 secs : infill_ei\n",
      "\n",
      "Saved the current state after iteration 24 in the file HT8230 (Clase 10-11).RDATA.\n",
      "\n"
     ]
    },
    {
     "name": "stdout",
     "output_type": "stream",
     "text": [
      "Validate  40     540    106704243     110131126    \n",
      "20231029 224013\t154\t2714406\tgbdt\tbinary\tcustom\tTRUE\tTRUE\tFALSE\tTRUE\t-100\t-1\t0\t0.001\t0\t0\t31\t67\t1\t1\t1\tFALSE\t1\t0.1\t50\t0.5\tTRUE\t279523\t0.0503323401668963\t0.657551057420429\t330\t31213\t13976\t143557665.167416\t40\n"
     ]
    },
    {
     "name": "stderr",
     "output_type": "stream",
     "text": [
      "[mbo] 24: learning_rate=0.0503; feature_fraction=0.658; num_leaves=330; min_data_in_leaf=31213 : y = 1.44e+08 : 193.7 secs : infill_ei\n",
      "\n"
     ]
    },
    {
     "name": "stdout",
     "output_type": "stream",
     "text": [
      "Validate  41     440    103227611     105234866    \n",
      "20231029 224408\t154\t2714406\tgbdt\tbinary\tcustom\tTRUE\tTRUE\tFALSE\tTRUE\t-100\t-1\t0\t0.001\t0\t0\t31\t21\t1\t1\t1\tFALSE\t1\t0.1\t50\t0.5\tTRUE\t279523\t0.198826848253567\t0.19463110197156\t928\t1255\t14448\t120399832.083958\t41\n"
     ]
    },
    {
     "name": "stderr",
     "output_type": "stream",
     "text": [
      "[mbo] 25: learning_rate=0.199; feature_fraction=0.195; num_leaves=928; min_data_in_leaf=1255 : y = 1.2e+08 : 235.0 secs : infill_ei\n",
      "\n"
     ]
    },
    {
     "name": "stdout",
     "output_type": "stream",
     "text": [
      "Validate  42     450    105043497     105079305    \n",
      "20231029 224731\t154\t2714406\tgbdt\tbinary\tcustom\tTRUE\tTRUE\tFALSE\tTRUE\t-100\t-1\t0\t0.001\t0\t0\t31\t22\t1\t1\t1\tFALSE\t1\t0.1\t50\t0.5\tTRUE\t279523\t0.127045100986078\t0.238003119838871\t911\t11445\t13068\t144006938.530735\t42\n"
     ]
    },
    {
     "name": "stderr",
     "output_type": "stream",
     "text": [
      "[mbo] 26: learning_rate=0.127; feature_fraction=0.238; num_leaves=911; min_data_in_leaf=11445 : y = 1.44e+08 : 202.3 secs : infill_ei\n",
      "\n",
      "Saved the current state after iteration 27 in the file HT8230 (Clase 10-11).RDATA.\n",
      "\n"
     ]
    },
    {
     "name": "stdout",
     "output_type": "stream",
     "text": [
      "Validate  43     760    100460960     104346887    \n",
      "20231029 225322\t154\t2714406\tgbdt\tbinary\tcustom\tTRUE\tTRUE\tFALSE\tTRUE\t-100\t-1\t0\t0.001\t0\t0\t31\t338\t1\t1\t1\tFALSE\t1\t0.1\t50\t0.5\tTRUE\t279523\t0.165861892585315\t0.685844735472054\t764\t15744\t14164\t134400825.587206\t43\n"
     ]
    },
    {
     "name": "stderr",
     "output_type": "stream",
     "text": [
      "[mbo] 27: learning_rate=0.166; feature_fraction=0.686; num_leaves=764; min_data_in_leaf=15744 : y = 1.34e+08 : 348.4 secs : infill_ei\n",
      "\n"
     ]
    },
    {
     "name": "stdout",
     "output_type": "stream",
     "text": [
      "Validate  44     470    104275096     106055548    \n",
      "20231029 225613\t154\t2714406\tgbdt\tbinary\tcustom\tTRUE\tTRUE\tFALSE\tTRUE\t-100\t-1\t0\t0.001\t0\t0\t31\t55\t1\t1\t1\tFALSE\t1\t0.1\t50\t0.5\tTRUE\t279523\t0.178284161387343\t0.207320006196336\t743\t44445\t13148\t142322740.629685\t44\n"
     ]
    },
    {
     "name": "stderr",
     "output_type": "stream",
     "text": [
      "[mbo] 28: learning_rate=0.178; feature_fraction=0.207; num_leaves=743; min_data_in_leaf=44445 : y = 1.42e+08 : 170.7 secs : infill_ei\n",
      "\n"
     ]
    },
    {
     "name": "stdout",
     "output_type": "stream",
     "text": [
      "Validate  45     570    100895352     106083272    \n",
      "20231029 225958\t154\t2714406\tgbdt\tbinary\tcustom\tTRUE\tTRUE\tFALSE\tTRUE\t-100\t-1\t0\t0.001\t0\t0\t31\t159\t1\t1\t1\tFALSE\t1\t0.1\t50\t0.5\tTRUE\t279523\t0.213218114886863\t0.83433932040716\t451\t27342\t12499\t143190898.050975\t45\n"
     ]
    },
    {
     "name": "stderr",
     "output_type": "stream",
     "text": [
      "[mbo] 29: learning_rate=0.213; feature_fraction=0.834; num_leaves=451; min_data_in_leaf=27342 : y = 1.43e+08 : 224.2 secs : infill_ei\n",
      "\n",
      "Saved the current state after iteration 30 in the file HT8230 (Clase 10-11).RDATA.\n",
      "\n"
     ]
    },
    {
     "name": "stdout",
     "output_type": "stream",
     "text": [
      "Validate  46     880    106914680     110046612    \n",
      "20231029 230513\t154\t2714406\tgbdt\tbinary\tcustom\tTRUE\tTRUE\tFALSE\tTRUE\t-100\t-1\t0\t0.001\t0\t0\t31\t386\t1\t1\t1\tFALSE\t1\t0.1\t50\t0.5\tTRUE\t279523\t0.0417724200900978\t0.130578295568776\t309\t11539\t13682\t144682751.624188\t46\n"
     ]
    },
    {
     "name": "stderr",
     "output_type": "stream",
     "text": [
      "[mbo] 30: learning_rate=0.0418; feature_fraction=0.131; num_leaves=309; min_data_in_leaf=11539 : y = 1.45e+08 : 311.8 secs : infill_ei\n",
      "\n"
     ]
    },
    {
     "name": "stdout",
     "output_type": "stream",
     "text": [
      "Validate  47     1010    104433084     106339606    \n",
      "20231029 230917\t154\t2714406\tgbdt\tbinary\tcustom\tTRUE\tTRUE\tFALSE\tTRUE\t-100\t-1\t0\t0.001\t0\t0\t31\t512\t1\t1\t1\tFALSE\t1\t0.1\t50\t0.5\tTRUE\t279523\t0.040551364638024\t0.0542385882349187\t951\t17707\t14910\t139487471.264368\t47\n"
     ]
    },
    {
     "name": "stderr",
     "output_type": "stream",
     "text": [
      "[mbo] 31: learning_rate=0.0406; feature_fraction=0.0542; num_leaves=951; min_data_in_leaf=17707 : y = 1.39e+08 : 243.8 secs : infill_ei\n",
      "\n"
     ]
    },
    {
     "name": "stdout",
     "output_type": "stream",
     "text": [
      "Validate  48     440    104445842     105637703    \n",
      "20231029 231258\t154\t2714406\tgbdt\tbinary\tcustom\tTRUE\tTRUE\tFALSE\tTRUE\t-100\t-1\t0\t0.001\t0\t0\t31\t23\t1\t1\t1\tFALSE\t1\t0.1\t50\t0.5\tTRUE\t279523\t0.161191127476458\t0.462083494035706\t255\t25396\t14837\t140978261.369315\t48\n"
     ]
    },
    {
     "name": "stderr",
     "output_type": "stream",
     "text": [
      "[mbo] 32: learning_rate=0.161; feature_fraction=0.462; num_leaves=255; min_data_in_leaf=25396 : y = 1.41e+08 : 220.4 secs : infill_ei\n",
      "\n",
      "Saved the current state after iteration 33 in the file HT8230 (Clase 10-11).RDATA.\n",
      "\n"
     ]
    },
    {
     "name": "stdout",
     "output_type": "stream",
     "text": [
      "Validate  49     500    105785781     106485637    \n",
      "20231029 231638\t154\t2714406\tgbdt\tbinary\tcustom\tTRUE\tTRUE\tFALSE\tTRUE\t-100\t-1\t0\t0.001\t0\t0\t31\t52\t1\t1\t1\tFALSE\t1\t0.1\t50\t0.5\tTRUE\t279523\t0.0718277960143754\t0.297849825894326\t275\t25142\t13178\t143140246.876562\t49\n"
     ]
    },
    {
     "name": "stderr",
     "output_type": "stream",
     "text": [
      "[mbo] 33: learning_rate=0.0718; feature_fraction=0.298; num_leaves=275; min_data_in_leaf=25142 : y = 1.43e+08 : 216.5 secs : infill_ei\n",
      "\n"
     ]
    },
    {
     "name": "stdout",
     "output_type": "stream",
     "text": [
      "Validate  50     530    102132613     106323231    \n",
      "20231029 232036\t154\t2714406\tgbdt\tbinary\tcustom\tTRUE\tTRUE\tFALSE\tTRUE\t-100\t-1\t0\t0.001\t0\t0\t31\t121\t1\t1\t1\tFALSE\t1\t0.1\t50\t0.5\tTRUE\t279523\t0.255435497505382\t0.596521325363993\t334\t34931\t13586\t141598049.975012\t50\n"
     ]
    },
    {
     "name": "stderr",
     "output_type": "stream",
     "text": [
      "[mbo] 34: learning_rate=0.255; feature_fraction=0.597; num_leaves=334; min_data_in_leaf=34931 : y = 1.42e+08 : 237.9 secs : infill_ei\n",
      "\n"
     ]
    },
    {
     "name": "stdout",
     "output_type": "stream",
     "text": [
      "Validate  51     610    103010681     104663059    \n",
      "20231029 232647\t154\t2714406\tgbdt\tbinary\tcustom\tTRUE\tTRUE\tFALSE\tTRUE\t-100\t-1\t0\t0.001\t0\t0\t31\t199\t1\t1\t1\tFALSE\t1\t0.1\t50\t0.5\tTRUE\t279523\t0.258786070085238\t0.3749562374781\t770\t4103\t13423\t138362038.48076\t51\n"
     ]
    },
    {
     "name": "stderr",
     "output_type": "stream",
     "text": [
      "[mbo] 35: learning_rate=0.259; feature_fraction=0.375; num_leaves=770; min_data_in_leaf=4103 : y = 1.38e+08 : 370.7 secs : infill_ei\n",
      "\n",
      "Saved the current state after iteration 36 in the file HT8230 (Clase 10-11).RDATA.\n",
      "\n"
     ]
    },
    {
     "name": "stdout",
     "output_type": "stream",
     "text": [
      "Validate  52     440    103282604     107040726    \n",
      "20231029 232944\t154\t2714406\tgbdt\tbinary\tcustom\tTRUE\tTRUE\tFALSE\tTRUE\t-100\t-1\t0\t0.001\t0\t0\t31\t19\t1\t1\t1\tFALSE\t1\t0.1\t50\t0.5\tTRUE\t279523\t0.153360025965507\t0.753346426470034\t280\t22518\t12568\t142928427.786107\t52\n"
     ]
    },
    {
     "name": "stderr",
     "output_type": "stream",
     "text": [
      "[mbo] 36: learning_rate=0.153; feature_fraction=0.753; num_leaves=280; min_data_in_leaf=22518 : y = 1.43e+08 : 173.4 secs : infill_ei\n",
      "\n"
     ]
    },
    {
     "name": "stdout",
     "output_type": "stream",
     "text": [
      "Validate  53     440    98405174     105465904     \n",
      "20231029 233228\t154\t2714406\tgbdt\tbinary\tcustom\tTRUE\tTRUE\tFALSE\tTRUE\t-100\t-1\t0\t0.001\t0\t0\t31\t11\t1\t1\t1\tFALSE\t1\t0.1\t50\t0.5\tTRUE\t279523\t0.136560488809445\t0.836445873708031\t112\t5242\t15295\t139034850.074963\t53\n"
     ]
    },
    {
     "name": "stderr",
     "output_type": "stream",
     "text": [
      "[mbo] 37: learning_rate=0.137; feature_fraction=0.836; num_leaves=112; min_data_in_leaf=5242 : y = 1.39e+08 : 164.0 secs : infill_ei\n",
      "\n"
     ]
    },
    {
     "name": "stdout",
     "output_type": "stream",
     "text": [
      "Validate  54     550    99781474     106153482     \n",
      "20231029 233628\t154\t2714406\tgbdt\tbinary\tcustom\tTRUE\tTRUE\tFALSE\tTRUE\t-100\t-1\t0\t0.001\t0\t0\t31\t133\t1\t1\t1\tFALSE\t1\t0.1\t50\t0.5\tTRUE\t279523\t0.212551235045487\t0.665658624600946\t942\t19129\t13775\t141788113.443278\t54\n"
     ]
    },
    {
     "name": "stderr",
     "output_type": "stream",
     "text": [
      "[mbo] 38: learning_rate=0.213; feature_fraction=0.666; num_leaves=942; min_data_in_leaf=19129 : y = 1.42e+08 : 239.4 secs : infill_ei\n",
      "\n"
     ]
    },
    {
     "name": "stdout",
     "output_type": "stream",
     "text": [
      "Validate  55     580    99573093     104029970     \n",
      "20231029 234122\t154\t2714406\tgbdt\tbinary\tcustom\tTRUE\tTRUE\tFALSE\tTRUE\t-100\t-1\t0\t0.001\t0\t0\t31\t165\t1\t1\t1\tFALSE\t1\t0.1\t50\t0.5\tTRUE\t279523\t0.25321865366607\t0.448758293491342\t971\t24120\t13897\t140928376.311844\t55\n"
     ]
    },
    {
     "name": "stderr",
     "output_type": "stream",
     "text": [
      "[mbo] 39: learning_rate=0.253; feature_fraction=0.449; num_leaves=971; min_data_in_leaf=24120 : y = 1.41e+08 : 293.5 secs : infill_ei\n",
      "\n",
      "Saved the current state after iteration 40 in the file HT8230 (Clase 10-11).RDATA.\n",
      "\n"
     ]
    },
    {
     "name": "stdout",
     "output_type": "stream",
     "text": [
      "Validate  56     430    103885751     106389404    \n",
      "20231029 234346\t154\t2714406\tgbdt\tbinary\tcustom\tTRUE\tTRUE\tFALSE\tTRUE\t-100\t-1\t0\t0.001\t0\t0\t31\t18\t1\t1\t1\tFALSE\t1\t0.1\t50\t0.5\tTRUE\t279523\t0.188637059644681\t0.988666620378563\t30\t45043\t13648\t131842890.554723\t56\n"
     ]
    },
    {
     "name": "stderr",
     "output_type": "stream",
     "text": [
      "[mbo] 40: learning_rate=0.189; feature_fraction=0.989; num_leaves=30; min_data_in_leaf=45043 : y = 1.32e+08 : 141.0 secs : infill_ei\n",
      "\n"
     ]
    },
    {
     "name": "stdout",
     "output_type": "stream",
     "text": [
      "Validate  57     920    106334212     108095938    \n",
      "20231029 234839\t154\t2714406\tgbdt\tbinary\tcustom\tTRUE\tTRUE\tFALSE\tTRUE\t-100\t-1\t0\t0.001\t0\t0\t31\t366\t1\t1\t1\tFALSE\t1\t0.1\t50\t0.5\tTRUE\t279523\t0.0258575184084205\t0.109535193372164\t815\t16089\t11875\t141877738.630685\t57\n"
     ]
    },
    {
     "name": "stderr",
     "output_type": "stream",
     "text": [
      "[mbo] 41: learning_rate=0.0259; feature_fraction=0.11; num_leaves=815; min_data_in_leaf=16089 : y = 1.42e+08 : 292.0 secs : infill_ei\n",
      "\n"
     ]
    },
    {
     "name": "stdout",
     "output_type": "stream",
     "text": [
      "Validate  58     490    98109597     102053367    \n",
      "20231029 235210\t154\t2714406\tgbdt\tbinary\tcustom\tTRUE\tTRUE\tFALSE\tTRUE\t-100\t-1\t0\t0.001\t0\t0\t31\t80\t1\t1\t1\tFALSE\t1\t0.1\t50\t0.5\tTRUE\t279523\t0.241942433972542\t0.275592356413668\t159\t6390\t12216\t137484001.999\t58\n"
     ]
    },
    {
     "name": "stderr",
     "output_type": "stream",
     "text": [
      "[mbo] 42: learning_rate=0.242; feature_fraction=0.276; num_leaves=159; min_data_in_leaf=6390 : y = 1.37e+08 : 210.6 secs : infill_ei\n",
      "\n",
      "Saved the current state after iteration 43 in the file HT8230 (Clase 10-11).RDATA.\n",
      "\n"
     ]
    },
    {
     "name": "stdout",
     "output_type": "stream",
     "text": [
      "Validate  59     480    106258447     109114825    \n",
      "20231029 235600\t154\t2714406\tgbdt\tbinary\tcustom\tTRUE\tTRUE\tFALSE\tTRUE\t-100\t-1\t0\t0.001\t0\t0\t31\t37\t1\t1\t1\tFALSE\t1\t0.1\t50\t0.5\tTRUE\t279523\t0.0895488234071329\t0.40053616616068\t1014\t20076\t11610\t141880344.827586\t59\n"
     ]
    },
    {
     "name": "stderr",
     "output_type": "stream",
     "text": [
      "[mbo] 43: learning_rate=0.0895; feature_fraction=0.401; num_leaves=1014; min_data_in_leaf=20076 : y = 1.42e+08 : 226.5 secs : infill_ei\n",
      "\n"
     ]
    },
    {
     "name": "stdout",
     "output_type": "stream",
     "text": [
      "Validate  60     530    105501954     105784210    \n",
      "20231029 235945\t154\t2714406\tgbdt\tbinary\tcustom\tTRUE\tTRUE\tFALSE\tTRUE\t-100\t-1\t0\t0.001\t0\t0\t31\t82\t1\t1\t1\tFALSE\t1\t0.1\t50\t0.5\tTRUE\t279523\t0.0726932984928428\t0.313688852271308\t726\t38378\t14017\t141325217.891054\t60\n"
     ]
    },
    {
     "name": "stderr",
     "output_type": "stream",
     "text": [
      "[mbo] 44: learning_rate=0.0727; feature_fraction=0.314; num_leaves=726; min_data_in_leaf=38378 : y = 1.41e+08 : 224.5 secs : infill_ei\n",
      "\n"
     ]
    },
    {
     "name": "stdout",
     "output_type": "stream",
     "text": [
      "Validate  61     1130    107026631     109122965    \n",
      "20231030 000723\t154\t2714406\tgbdt\tbinary\tcustom\tTRUE\tTRUE\tFALSE\tTRUE\t-100\t-1\t0\t0.001\t0\t0\t31\t692\t1\t1\t1\tFALSE\t1\t0.1\t50\t0.5\tTRUE\t279523\t0.0839941999434758\t0.238815186120218\t820\t12296\t14972\t147531972.013993\t61\n"
     ]
    },
    {
     "name": "stderr",
     "output_type": "stream",
     "text": [
      "[mbo] 45: learning_rate=0.084; feature_fraction=0.239; num_leaves=820; min_data_in_leaf=12296 : y = 1.48e+08 : 458.2 secs : infill_ei\n",
      "\n",
      "Saved the current state after iteration 46 in the file HT8230 (Clase 10-11).RDATA.\n",
      "\n"
     ]
    },
    {
     "name": "stdout",
     "output_type": "stream",
     "text": [
      "Validate  62     1230    107029062     107974391    \n",
      "20231030 001544\t154\t2714406\tgbdt\tbinary\tcustom\tTRUE\tTRUE\tFALSE\tTRUE\t-100\t-1\t0\t0.001\t0\t0\t31\t783\t1\t1\t1\tFALSE\t1\t0.1\t50\t0.5\tTRUE\t279523\t0.0706999069695037\t0.1537552299545\t841\t12589\t13346\t149507875.062469\t62\n"
     ]
    },
    {
     "name": "stderr",
     "output_type": "stream",
     "text": [
      "[mbo] 46: learning_rate=0.0707; feature_fraction=0.154; num_leaves=841; min_data_in_leaf=12589 : y = 1.5e+08 : 497.7 secs : infill_ei\n",
      "\n"
     ]
    },
    {
     "name": "stdout",
     "output_type": "stream",
     "text": [
      "Validate  63     430    103460504     105412640    \n",
      "20231030 001820\t154\t2714406\tgbdt\tbinary\tcustom\tTRUE\tTRUE\tFALSE\tTRUE\t-100\t-1\t0\t0.001\t0\t0\t31\t21\t1\t1\t1\tFALSE\t1\t0.1\t50\t0.5\tTRUE\t279523\t0.215057994443146\t0.820894776439118\t865\t45401\t13443\t139338960.01999\t63\n"
     ]
    },
    {
     "name": "stderr",
     "output_type": "stream",
     "text": [
      "[mbo] 47: learning_rate=0.215; feature_fraction=0.821; num_leaves=865; min_data_in_leaf=45401 : y = 1.39e+08 : 154.9 secs : infill_ei\n",
      "\n",
      "Saved the current state after iteration 48 in the file HT8230 (Clase 10-11).RDATA.\n",
      "\n"
     ]
    },
    {
     "name": "stdout",
     "output_type": "stream",
     "text": [
      "Validate  64     440    99868059     110058593     \n",
      "20231030 002157\t154\t2714406\tgbdt\tbinary\tcustom\tTRUE\tTRUE\tFALSE\tTRUE\t-100\t-1\t0\t0.001\t0\t0\t31\t19\t1\t1\t1\tFALSE\t1\t0.1\t50\t0.5\tTRUE\t279523\t0.151954579320353\t0.679382764649972\t630\t15332\t14689\t138590733.133433\t64\n"
     ]
    },
    {
     "name": "stderr",
     "output_type": "stream",
     "text": [
      "[mbo] 48: learning_rate=0.152; feature_fraction=0.679; num_leaves=630; min_data_in_leaf=15332 : y = 1.39e+08 : 214.3 secs : infill_ei\n",
      "\n"
     ]
    },
    {
     "name": "stdout",
     "output_type": "stream",
     "text": [
      "Validate  65     1490    108211762     110503949    \n",
      "20231030 003511\t154\t2714406\tgbdt\tbinary\tcustom\tTRUE\tTRUE\tFALSE\tTRUE\t-100\t-1\t0\t0.001\t0\t0\t31\t1015\t1\t1\t1\tFALSE\t1\t0.1\t50\t0.5\tTRUE\t279523\t0.0497217186181707\t0.760671760749241\t414\t1078\t11578\t141920756.621689\t65\n"
     ]
    },
    {
     "name": "stderr",
     "output_type": "stream",
     "text": [
      "[mbo] 49: learning_rate=0.0497; feature_fraction=0.761; num_leaves=414; min_data_in_leaf=1078 : y = 1.42e+08 : 793.2 secs : infill_ei\n",
      "\n",
      "Saved the current state after iteration 50 in the file HT8230 (Clase 10-11).RDATA.\n",
      "\n"
     ]
    },
    {
     "name": "stdout",
     "output_type": "stream",
     "text": [
      "Validate  66     660    103948919     109247667    \n",
      "20231030 003809\t154\t2714406\tgbdt\tbinary\tcustom\tTRUE\tTRUE\tFALSE\tTRUE\t-100\t-1\t0\t0.001\t0\t0\t31\t219\t1\t1\t1\tFALSE\t1\t0.1\t50\t0.5\tTRUE\t279523\t0.0837983764051046\t0.0740860343369667\t968\t49386\t12626\t138954211.894053\t66\n"
     ]
    },
    {
     "name": "stderr",
     "output_type": "stream",
     "text": [
      "[mbo] 50: learning_rate=0.0838; feature_fraction=0.0741; num_leaves=968; min_data_in_leaf=49386 : y = 1.39e+08 : 175.2 secs : infill_ei\n",
      "\n",
      "Saved the final state in the file HT8230 (Clase 10-11).RDATA\n",
      "\n"
     ]
    },
    {
     "name": "stdout",
     "output_type": "stream",
     "text": [
      "\n",
      "\n",
      "La optimizacion Bayesiana ha terminado\n"
     ]
    }
   ],
   "source": [
    "# inicio la optimizacion bayesiana\n",
    "if (!file.exists(kbayesiana)) {\n",
    "  run <- mbo(obj.fun, learner = surr.km, control = ctrl)\n",
    "} else {\n",
    "  run <- mboContinue(kbayesiana) # retomo en caso que ya exista\n",
    "}\n",
    "\n",
    "\n",
    "cat(\"\\n\\nLa optimizacion Bayesiana ha terminado\\n\")\n"
   ]
  }
 ],
 "metadata": {
  "kernelspec": {
   "display_name": "R",
   "language": "R",
   "name": "ir"
  },
  "language_info": {
   "codemirror_mode": "r",
   "file_extension": ".r",
   "mimetype": "text/x-r-source",
   "name": "R",
   "pygments_lexer": "r",
   "version": "4.3.1"
  },
  "orig_nbformat": 4
 },
 "nbformat": 4,
 "nbformat_minor": 2
}
