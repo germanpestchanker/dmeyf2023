{
 "cells": [
  {
   "cell_type": "markdown",
   "metadata": {},
   "source": [
    "## Importación de Librerías"
   ]
  },
  {
   "cell_type": "markdown",
   "metadata": {},
   "source": [
    "Este script esta pensado para correr en Google Cloud\n",
    "- 8 vCPU\n",
    "- 128 GB memoria RAM\n",
    "\n",
    "- se entrena con clase_binaria2  POS =  { BAJA+1, BAJA+2 }\n",
    "- Optimizacion Bayesiana de hiperparametros de  lightgbm,"
   ]
  },
  {
   "cell_type": "code",
   "execution_count": 1,
   "metadata": {
    "vscode": {
     "languageId": "r"
    }
   },
   "outputs": [
    {
     "data": {
      "text/html": [
       "<table class=\"dataframe\">\n",
       "<caption>A matrix: 2 × 6 of type dbl</caption>\n",
       "<thead>\n",
       "\t<tr><th></th><th scope=col>used</th><th scope=col>(Mb)</th><th scope=col>gc trigger</th><th scope=col>(Mb)</th><th scope=col>max used</th><th scope=col>(Mb)</th></tr>\n",
       "</thead>\n",
       "<tbody>\n",
       "\t<tr><th scope=row>Ncells</th><td> 631888</td><td>33.8</td><td>1412150</td><td>75.5</td><td> 984932</td><td>52.7</td></tr>\n",
       "\t<tr><th scope=row>Vcells</th><td>1170405</td><td> 9.0</td><td>8388608</td><td>64.0</td><td>1815603</td><td>13.9</td></tr>\n",
       "</tbody>\n",
       "</table>\n"
      ],
      "text/latex": [
       "A matrix: 2 × 6 of type dbl\n",
       "\\begin{tabular}{r|llllll}\n",
       "  & used & (Mb) & gc trigger & (Mb) & max used & (Mb)\\\\\n",
       "\\hline\n",
       "\tNcells &  631888 & 33.8 & 1412150 & 75.5 &  984932 & 52.7\\\\\n",
       "\tVcells & 1170405 &  9.0 & 8388608 & 64.0 & 1815603 & 13.9\\\\\n",
       "\\end{tabular}\n"
      ],
      "text/markdown": [
       "\n",
       "A matrix: 2 × 6 of type dbl\n",
       "\n",
       "| <!--/--> | used | (Mb) | gc trigger | (Mb) | max used | (Mb) |\n",
       "|---|---|---|---|---|---|---|\n",
       "| Ncells |  631888 | 33.8 | 1412150 | 75.5 |  984932 | 52.7 |\n",
       "| Vcells | 1170405 |  9.0 | 8388608 | 64.0 | 1815603 | 13.9 |\n",
       "\n"
      ],
      "text/plain": [
       "       used    (Mb) gc trigger (Mb) max used (Mb)\n",
       "Ncells  631888 33.8 1412150    75.5  984932  52.7\n",
       "Vcells 1170405  9.0 8388608    64.0 1815603  13.9"
      ]
     },
     "metadata": {},
     "output_type": "display_data"
    }
   ],
   "source": [
    "# limpio la memoria\n",
    "rm(list = ls()) # remove all objects\n",
    "gc() # garbage collection"
   ]
  },
  {
   "cell_type": "code",
   "execution_count": 2,
   "metadata": {
    "vscode": {
     "languageId": "r"
    }
   },
   "outputs": [
    {
     "name": "stderr",
     "output_type": "stream",
     "text": [
      "Loading required package: data.table\n",
      "\n",
      "Loading required package: rlist\n",
      "\n",
      "Loading required package: lightgbm\n",
      "\n"
     ]
    }
   ],
   "source": [
    "require(\"data.table\")\n",
    "require(\"rlist\")\n",
    "require(\"lightgbm\")"
   ]
  },
  {
   "cell_type": "code",
   "execution_count": 3,
   "metadata": {
    "vscode": {
     "languageId": "r"
    }
   },
   "outputs": [
    {
     "name": "stderr",
     "output_type": "stream",
     "text": [
      "Loading required package: DiceKriging\n",
      "\n",
      "Loading required package: mlrMBO\n",
      "\n",
      "Loading required package: mlr\n",
      "\n",
      "Loading required package: ParamHelpers\n",
      "\n",
      "Warning message: 'mlr' is in 'maintenance-only' mode since July 2019.\n",
      "Future development will only happen in 'mlr3'\n",
      "(<https://mlr3.mlr-org.com>). Due to the focus on 'mlr3' there might be\n",
      "uncaught bugs meanwhile in {mlr} - please consider switching.\n",
      "\n",
      "Loading required package: smoof\n",
      "\n",
      "Loading required package: checkmate\n",
      "\n",
      "\n",
      "Attaching package: ‘checkmate’\n",
      "\n",
      "\n",
      "The following object is masked from ‘package:DiceKriging’:\n",
      "\n",
      "    checkNames\n",
      "\n",
      "\n"
     ]
    }
   ],
   "source": [
    "# paquetes necesarios para la Bayesian Optimization\n",
    "require(\"DiceKriging\")\n",
    "require(\"mlrMBO\")\n",
    "\n",
    "# para que se detenga ante el primer error\n",
    "# y muestre el stack de funciones invocadas\n",
    "options(error = function() {\n",
    "  traceback(20)\n",
    "  options(error = NULL)\n",
    "  stop(\"exiting after script error\")\n",
    "})"
   ]
  },
  {
   "cell_type": "markdown",
   "metadata": {},
   "source": [
    "# Definición de Parametros"
   ]
  },
  {
   "cell_type": "code",
   "execution_count": 4,
   "metadata": {
    "vscode": {
     "languageId": "r"
    }
   },
   "outputs": [],
   "source": [
    "#Paso previo de transformar caracteres especiales\n",
    "# Carga el dataset desde el archivo CSV comprimido\n",
    "#df <- read.csv(\"/home/germanpestchanker/buckets/b1/datasets/competencia_03_infla.csv.gz\")\n",
    "\n",
    "# Limpiar los nombres de las columnas\n",
    "#colnames(df) <- gsub(\"[^A-Za-z0-9_]\", \"_\", colnames(df))\n",
    "\n",
    "#write.csv(df, file = \"/home/germanpestchanker/buckets/b1/datasets/competencia_03_infla.csv.gz\", row.names = FALSE, quote = FALSE)\n"
   ]
  },
  {
   "cell_type": "code",
   "execution_count": 5,
   "metadata": {
    "vscode": {
     "languageId": "r"
    }
   },
   "outputs": [],
   "source": [
    "# defino los parametros de la corrida, en una lista, la variable global  PARAM\n",
    "#  muy pronto esto se leera desde un archivo formato .yaml\n",
    "PARAM <- list()\n",
    "\n",
    "PARAM$experimento <- \"HT8230 (Clase 10-11, Ajustado Sem1)\"\n",
    "\n",
    "PARAM$input$dataset <- \"datasets/competencia_03_infla.csv.gz\"\n",
    "\n",
    "# los meses en los que vamos a entrenar\n",
    "#  mucha magia emerger de esta eleccion\n",
    "PARAM$input$testing <- c(202107) # Último mes, lo más cercano al 202109 de kaggle\n",
    "PARAM$input$validation <- c(202106)\n",
    "PARAM$input$training <- c(202105, 202104, 202103, 202102, 202101,\n",
    " 202012, 202011, 202010, 202009, 202008, 202002, 202001, 201912, 201911,\n",
    " 201910, 201909, 201908, 201907) #Tal como lo pide el pdf de la materia\n",
    "\n",
    "# un undersampling de 0.1  toma solo el 10% de los CONTINUA\n",
    "PARAM$trainingstrategy$undersampling <- 1.0\n",
    "PARAM$trainingstrategy$semilla_azar <- c(279511, 279523, 279541, 279551, 279571)  # Aqui poner su  primer  semilla/ pongo todas mis semillas\n",
    "\n",
    "PARAM$hyperparametertuning$POS_ganancia <- 273000\n",
    "PARAM$hyperparametertuning$NEG_ganancia <- -7000\n",
    "\n",
    "# Aqui poner su segunda semilla\n",
    "PARAM$lgb_semilla <- 279511"
   ]
  },
  {
   "cell_type": "code",
   "execution_count": 6,
   "metadata": {
    "vscode": {
     "languageId": "r"
    }
   },
   "outputs": [],
   "source": [
    "# Hiperparametros FIJOS de  lightgbm\n",
    "PARAM$lgb_basicos <- list(\n",
    "  boosting = \"gbdt\", # puede ir  dart  , ni pruebe random_forest\n",
    "  objective = \"binary\",\n",
    "  metric = \"custom\",\n",
    "  first_metric_only = TRUE,\n",
    "  boost_from_average = TRUE,\n",
    "  feature_pre_filter = FALSE,\n",
    "  force_row_wise = TRUE, # para reducir warnings\n",
    "  verbosity = -100,\n",
    "  max_depth = -1L, # -1 significa no limitar,  por ahora lo dejo fijo\n",
    "  min_gain_to_split = 0.0, # min_gain_to_split >= 0.0\n",
    "  min_sum_hessian_in_leaf = 0.001, #  min_sum_hessian_in_leaf >= 0.0\n",
    "  lambda_l1 = 0.0, # lambda_l1 >= 0.0\n",
    "  lambda_l2 = 0.0, # lambda_l2 >= 0.0\n",
    "  max_bin = 31L, # lo debo dejar fijo, no participa de la BO\n",
    "  num_iterations = 9999, # un numero muy grande, lo limita early_stopping_rounds\n",
    "\n",
    "  bagging_fraction = 1.0, # 0.0 < bagging_fraction <= 1.0\n",
    "  pos_bagging_fraction = 1.0, # 0.0 < pos_bagging_fraction <= 1.0\n",
    "  neg_bagging_fraction = 1.0, # 0.0 < neg_bagging_fraction <= 1.0\n",
    "  is_unbalance = FALSE, #\n",
    "  scale_pos_weight = 1.0, # scale_pos_weight > 0.0\n",
    "\n",
    "  drop_rate = 0.1, # 0.0 < neg_bagging_fraction <= 1.0\n",
    "  max_drop = 50, # <=0 means no limit\n",
    "  skip_drop = 0.5, # 0.0 <= skip_drop <= 1.0\n",
    "\n",
    "  extra_trees = TRUE, # Magic Sauce\n",
    "\n",
    "  seed = PARAM$lgb_semilla\n",
    ")"
   ]
  },
  {
   "cell_type": "code",
   "execution_count": 7,
   "metadata": {
    "vscode": {
     "languageId": "r"
    }
   },
   "outputs": [],
   "source": [
    "# Aqui se cargan los hiperparametros que se optimizan\n",
    "#  en la Bayesian Optimization\n",
    "PARAM$bo_lgb <- makeParamSet(\n",
    "  makeNumericParam(\"learning_rate\", lower = 0.02, upper = 0.3),\n",
    "  makeNumericParam(\"feature_fraction\", lower = 0.01, upper = 1.0),\n",
    "  makeIntegerParam(\"num_leaves\", lower = 8L, upper = 1024L),\n",
    "  makeIntegerParam(\"min_data_in_leaf\", lower = 100L, upper = 50000L)\n",
    ")\n",
    "\n",
    "# si usted es ambicioso, y tiene paciencia, podria subir este valor a 100\n",
    "PARAM$bo_iteraciones <- 50 # iteraciones de la Optimizacion Bayesiana"
   ]
  },
  {
   "cell_type": "code",
   "execution_count": 8,
   "metadata": {
    "vscode": {
     "languageId": "r"
    }
   },
   "outputs": [],
   "source": [
    "# graba a un archivo los componentes de lista\n",
    "# para el primer registro, escribe antes los titulos\n",
    "\n",
    "loguear <- function(\n",
    "    reg, arch = NA, folder = \"./exp/\",\n",
    "    ext = \".txt\", verbose = TRUE) {\n",
    "  archivo <- arch\n",
    "  if (is.na(arch)) archivo <- paste0(folder, substitute(reg), ext)\n",
    "\n",
    "  if (!file.exists(archivo)) # Escribo los titulos\n",
    "    {\n",
    "      linea <- paste0(\n",
    "        \"fecha\\t\",\n",
    "        paste(list.names(reg), collapse = \"\\t\"), \"\\n\"\n",
    "      )\n",
    "\n",
    "      cat(linea, file = archivo)\n",
    "    }\n",
    "\n",
    "  linea <- paste0(\n",
    "    format(Sys.time(), \"%Y%m%d %H%M%S\"), \"\\t\", # la fecha y hora\n",
    "    gsub(\", \", \"\\t\", toString(reg)), \"\\n\"\n",
    "  )\n",
    "\n",
    "  cat(linea, file = archivo, append = TRUE) # grabo al archivo\n",
    "\n",
    "  if (verbose) cat(linea) # imprimo por pantalla\n",
    "}"
   ]
  },
  {
   "cell_type": "code",
   "execution_count": 9,
   "metadata": {
    "vscode": {
     "languageId": "r"
    }
   },
   "outputs": [],
   "source": [
    "#------------------------------------------------------------------------------\n",
    "GLOBAL_arbol <- 0L\n",
    "GLOBAL_gan_max <- -Inf\n",
    "vcant_optima <- c()\n",
    "\n",
    "fganancia_lgbm_meseta <- function(probs, datos) {\n",
    "  vlabels <- get_field(datos, \"label\")\n",
    "  vpesos <- get_field(datos, \"weight\")\n",
    "\n",
    "\n",
    "  GLOBAL_arbol <<- GLOBAL_arbol + 1\n",
    "  tbl <- as.data.table(list(\n",
    "    \"prob\" = probs,\n",
    "    \"gan\" = ifelse(vlabels == 1 & vpesos > 1,\n",
    "      PARAM$hyperparametertuning$POS_ganancia,\n",
    "      PARAM$hyperparametertuning$NEG_ganancia  )\n",
    "  ))\n",
    "\n",
    "  setorder(tbl, -prob)\n",
    "  tbl[, posicion := .I]\n",
    "  tbl[, gan_acum := cumsum(gan)]\n",
    "\n",
    "  tbl[, gan_suavizada :=\n",
    "    frollmean(\n",
    "      x = gan_acum, n = 2001, align = \"center\",\n",
    "      na.rm = TRUE, hasNA = TRUE\n",
    "    )]\n",
    "\n",
    "  gan <- tbl[, max(gan_suavizada, na.rm = TRUE)]\n",
    "\n",
    "\n",
    "  pos <- which.max(tbl[, gan_suavizada])\n",
    "  vcant_optima <<- c(vcant_optima, pos)\n",
    "\n",
    "  if (GLOBAL_arbol %% 10 == 0) {\n",
    "    if (gan > GLOBAL_gan_max) GLOBAL_gan_max <<- gan\n",
    "\n",
    "    cat(\"\\r\")\n",
    "    cat(\n",
    "      \"Validate \", GLOBAL_iteracion, \" \", \" \",\n",
    "      GLOBAL_arbol, \"  \", gan, \"   \", GLOBAL_gan_max, \"   \"\n",
    "    )\n",
    "  }\n",
    "\n",
    "\n",
    "  return(list(\n",
    "    \"name\" = \"ganancia\",\n",
    "    \"value\" = gan,\n",
    "    \"higher_better\" = TRUE\n",
    "  ))\n",
    "}"
   ]
  },
  {
   "cell_type": "code",
   "execution_count": 10,
   "metadata": {
    "vscode": {
     "languageId": "r"
    }
   },
   "outputs": [],
   "source": [
    "#------------------------------------------------------------------------------\n",
    "\n",
    "EstimarGanancia_lightgbm <- function(x) {\n",
    "  gc()\n",
    "  GLOBAL_iteracion <<- GLOBAL_iteracion + 1L\n",
    "\n",
    "  # hago la union de los parametros basicos y los moviles que vienen en x\n",
    "  param_completo <- c(PARAM$lgb_basicos, x)\n",
    "\n",
    "  param_completo$early_stopping_rounds <-\n",
    "    as.integer(400 + 4 / param_completo$learning_rate)\n",
    "\n",
    "  GLOBAL_arbol <<- 0L\n",
    "  GLOBAL_gan_max <<- -Inf\n",
    "  vcant_optima <<- c()\n",
    "  set.seed(PARAM$lgb_semilla, kind = \"L'Ecuyer-CMRG\")\n",
    "  modelo_train <- lgb.train(\n",
    "    data = dtrain,\n",
    "    valids = list(valid = dvalidate),\n",
    "    eval = fganancia_lgbm_meseta,\n",
    "    param = param_completo,\n",
    "    verbose = -100\n",
    "  )\n",
    "\n",
    "  cat(\"\\n\")\n",
    "\n",
    "  cant_corte <- vcant_optima[modelo_train$best_iter]\n",
    "\n",
    "  # aplico el modelo a testing y calculo la ganancia\n",
    "  prediccion <- predict(\n",
    "    modelo_train,\n",
    "    data.matrix(dataset_test[, campos_buenos, with = FALSE])\n",
    "  )\n",
    "\n",
    "  tbl <- copy(dataset_test[, list(\"gan\" = ifelse(clase_ternaria == \"BAJA+2\",\n",
    "    PARAM$hyperparametertuning$POS_ganancia, \n",
    "    PARAM$hyperparametertuning$NEG_ganancia))])\n",
    "\n",
    "  tbl[, prob := prediccion]\n",
    "  setorder(tbl, -prob)\n",
    "  tbl[, gan_acum := cumsum(gan)]\n",
    "  tbl[, gan_suavizada := frollmean(\n",
    "    x = gan_acum, n = 2001,\n",
    "    align = \"center\", na.rm = TRUE, hasNA = TRUE\n",
    "  )]\n",
    "\n",
    "\n",
    "  ganancia_test <- tbl[, max(gan_suavizada, na.rm = TRUE)]\n",
    "\n",
    "  cantidad_test_normalizada <- which.max(tbl[, gan_suavizada])\n",
    "\n",
    "  rm(tbl)\n",
    "  gc()\n",
    "\n",
    "  ganancia_test_normalizada <- ganancia_test\n",
    "\n",
    "\n",
    "  # voy grabando las mejores column importance\n",
    "  if (ganancia_test_normalizada > GLOBAL_gananciamax) {\n",
    "    GLOBAL_gananciamax <<- ganancia_test_normalizada\n",
    "    tb_importancia <- as.data.table(lgb.importance(modelo_train))\n",
    "\n",
    "    fwrite(tb_importancia,\n",
    "      file = paste0(\"impo_\", sprintf(\"%03d\", GLOBAL_iteracion), \".txt\"),\n",
    "      sep = \"\\t\"\n",
    "    )\n",
    "\n",
    "    rm(tb_importancia)\n",
    "  }\n",
    "\n",
    "\n",
    "  # logueo final\n",
    "  ds <- list(\"cols\" = ncol(dtrain), \"rows\" = nrow(dtrain))\n",
    "  xx <- c(ds, copy(param_completo))\n",
    "\n",
    "  xx$early_stopping_rounds <- NULL\n",
    "  xx$num_iterations <- modelo_train$best_iter\n",
    "  xx$estimulos <- cantidad_test_normalizada\n",
    "  xx$ganancia <- ganancia_test_normalizada\n",
    "  xx$iteracion_bayesiana <- GLOBAL_iteracion\n",
    "\n",
    "  loguear(xx, arch = \"BO_log.txt\")\n",
    "\n",
    "  set.seed(PARAM$lgb_semilla, kind = \"L'Ecuyer-CMRG\")\n",
    "  return(ganancia_test_normalizada)\n",
    "}"
   ]
  },
  {
   "cell_type": "markdown",
   "metadata": {},
   "source": [
    "# Aquí empieza el programa"
   ]
  },
  {
   "cell_type": "code",
   "execution_count": 11,
   "metadata": {
    "vscode": {
     "languageId": "r"
    }
   },
   "outputs": [],
   "source": [
    "# Aqui empieza el programa\n",
    "\n",
    "# Aqui se debe poner la carpeta de la computadora local\n",
    "setwd(\"~/buckets/b1/\") # Establezco el Working Directory\n",
    "\n",
    "# cargo el dataset donde voy a entrenar el modelo\n",
    "dataset <- fread(PARAM$input$dataset)"
   ]
  },
  {
   "cell_type": "code",
   "execution_count": 12,
   "metadata": {
    "vscode": {
     "languageId": "r"
    }
   },
   "outputs": [],
   "source": [
    "# creo la carpeta donde va el experimento\n",
    "dir.create(\"./exp/\", showWarnings = FALSE)\n",
    "dir.create(paste0(\"./exp/\", PARAM$experimento, \"/\"), showWarnings = FALSE)\n",
    "\n",
    "# Establezco el Working Directory DEL EXPERIMENTO\n",
    "setwd(paste0(\"./exp/\", PARAM$experimento, \"/\"))\n",
    "\n",
    "# en estos archivos quedan los resultados\n",
    "kbayesiana <- paste0(PARAM$experimento, \".RDATA\")\n",
    "klog <- paste0(PARAM$experimento, \".txt\")\n"
   ]
  },
  {
   "cell_type": "code",
   "execution_count": 13,
   "metadata": {
    "vscode": {
     "languageId": "r"
    }
   },
   "outputs": [],
   "source": [
    "# Catastrophe Analysis  -------------------------------------------------------\n",
    "# deben ir cosas de este estilo\n",
    "#   dataset[foto_mes == 202006, active_quarter := NA]\n",
    "\n",
    "# Data Drifting\n",
    "# por ahora, no hago nada\n",
    "\n",
    "\n",
    "# Feature Engineering Historico  ----------------------------------------------\n",
    "#   aqui deben calcularse los  lags y  lag_delta\n",
    "#   Sin lags no hay paraiso !  corta la bocha"
   ]
  },
  {
   "cell_type": "code",
   "execution_count": null,
   "metadata": {
    "vscode": {
     "languageId": "r"
    }
   },
   "outputs": [],
   "source": []
  },
  {
   "cell_type": "code",
   "execution_count": 14,
   "metadata": {
    "vscode": {
     "languageId": "r"
    }
   },
   "outputs": [],
   "source": [
    "# ahora SI comienza la optimizacion Bayesiana\n",
    "\n",
    "GLOBAL_iteracion <- 0 # inicializo la variable global\n",
    "GLOBAL_gananciamax <- -1 # inicializo la variable global\n",
    "\n",
    "# si ya existe el archivo log, traigo hasta donde llegue\n",
    "if (file.exists(klog)) {\n",
    "  tabla_log <- fread(klog)\n",
    "  GLOBAL_iteracion <- nrow(tabla_log)\n",
    "  GLOBAL_gananciamax <- tabla_log[, max(ganancia)]\n",
    "}\n"
   ]
  },
  {
   "cell_type": "code",
   "execution_count": 15,
   "metadata": {
    "vscode": {
     "languageId": "r"
    }
   },
   "outputs": [],
   "source": [
    "# paso la clase a binaria que tome valores {0,1}  enteros\n",
    "dataset[, clase01 := ifelse(clase_ternaria == \"CONTINUA\", 0L, 1L)]\n",
    "\n",
    "\n",
    "# los campos que se van a utilizar\n",
    "campos_buenos <- setdiff(\n",
    "  colnames(dataset),\n",
    "  c(\"clase_ternaria\", \"clase01\", \"azar\", \"training\")\n",
    ")"
   ]
  },
  {
   "cell_type": "code",
   "execution_count": 16,
   "metadata": {
    "vscode": {
     "languageId": "r"
    }
   },
   "outputs": [],
   "source": [
    "# defino los datos que forma parte del training\n",
    "# aqui se hace el undersampling de los CONTINUA\n",
    "set.seed(PARAM$trainingstrategy$semilla_azar)\n",
    "dataset[, azar := runif(nrow(dataset))]\n",
    "dataset[, training := 0L]\n",
    "dataset[\n",
    "  foto_mes %in% PARAM$input$training &\n",
    "    (azar <= PARAM$trainingstrategy$undersampling | clase_ternaria %in% c(\"BAJA+1\", \"BAJA+2\")),\n",
    "  training := 1L\n",
    "]"
   ]
  },
  {
   "cell_type": "code",
   "execution_count": 17,
   "metadata": {
    "vscode": {
     "languageId": "r"
    }
   },
   "outputs": [],
   "source": [
    "# dejo los datos en el formato que necesita LightGBM\n",
    "dtrain <- lgb.Dataset(\n",
    "  data = data.matrix(dataset[training == 1L, campos_buenos, with = FALSE]),\n",
    "  label = dataset[training == 1L, clase01],\n",
    "  weight = dataset[training == 1L, \n",
    "    ifelse(clase_ternaria == \"BAJA+2\", 1.0000001, \n",
    "      ifelse(clase_ternaria == \"BAJA+1\", 1.0, 1.0))],\n",
    "  free_raw_data = FALSE\n",
    ")"
   ]
  },
  {
   "cell_type": "code",
   "execution_count": 18,
   "metadata": {
    "vscode": {
     "languageId": "r"
    }
   },
   "outputs": [],
   "source": [
    "# defino los datos que forman parte de validation\n",
    "#  no hay undersampling\n",
    "dataset[, validation := 0L]\n",
    "dataset[ foto_mes %in% PARAM$input$validation,  validation := 1L]\n",
    "\n",
    "dvalidate <- lgb.Dataset(\n",
    "  data = data.matrix(dataset[validation == 1L, campos_buenos, with = FALSE]),\n",
    "  label = dataset[validation == 1L, clase01],\n",
    "  weight = dataset[validation == 1L, \n",
    "    ifelse(clase_ternaria == \"BAJA+2\", 1.0000001, \n",
    "      ifelse(clase_ternaria == \"BAJA+1\", 1.0, 1.0))],\n",
    "  free_raw_data = FALSE\n",
    ")"
   ]
  },
  {
   "cell_type": "code",
   "execution_count": 19,
   "metadata": {
    "vscode": {
     "languageId": "r"
    }
   },
   "outputs": [],
   "source": [
    "# defino los datos de testing\n",
    "dataset[, testing := 0L]\n",
    "dataset[ foto_mes %in% PARAM$input$testing,  testing := 1L]\n",
    "\n",
    "\n",
    "dataset_test <- dataset[testing == 1, ]"
   ]
  },
  {
   "cell_type": "code",
   "execution_count": 20,
   "metadata": {
    "vscode": {
     "languageId": "r"
    }
   },
   "outputs": [
    {
     "data": {
      "text/html": [
       "<table class=\"dataframe\">\n",
       "<caption>A matrix: 2 × 6 of type dbl</caption>\n",
       "<thead>\n",
       "\t<tr><th></th><th scope=col>used</th><th scope=col>(Mb)</th><th scope=col>gc trigger</th><th scope=col>(Mb)</th><th scope=col>max used</th><th scope=col>(Mb)</th></tr>\n",
       "</thead>\n",
       "<tbody>\n",
       "\t<tr><th scope=row>Ncells</th><td>  2238702</td><td> 119.6</td><td>   4351992</td><td>  232.5</td><td>   2938860</td><td>  157.0</td></tr>\n",
       "\t<tr><th scope=row>Vcells</th><td>476928388</td><td>3638.7</td><td>1399159448</td><td>10674.8</td><td>1748948555</td><td>13343.5</td></tr>\n",
       "</tbody>\n",
       "</table>\n"
      ],
      "text/latex": [
       "A matrix: 2 × 6 of type dbl\n",
       "\\begin{tabular}{r|llllll}\n",
       "  & used & (Mb) & gc trigger & (Mb) & max used & (Mb)\\\\\n",
       "\\hline\n",
       "\tNcells &   2238702 &  119.6 &    4351992 &   232.5 &    2938860 &   157.0\\\\\n",
       "\tVcells & 476928388 & 3638.7 & 1399159448 & 10674.8 & 1748948555 & 13343.5\\\\\n",
       "\\end{tabular}\n"
      ],
      "text/markdown": [
       "\n",
       "A matrix: 2 × 6 of type dbl\n",
       "\n",
       "| <!--/--> | used | (Mb) | gc trigger | (Mb) | max used | (Mb) |\n",
       "|---|---|---|---|---|---|---|\n",
       "| Ncells |   2238702 |  119.6 |    4351992 |   232.5 |    2938860 |   157.0 |\n",
       "| Vcells | 476928388 | 3638.7 | 1399159448 | 10674.8 | 1748948555 | 13343.5 |\n",
       "\n"
      ],
      "text/plain": [
       "       used      (Mb)   gc trigger (Mb)    max used   (Mb)   \n",
       "Ncells   2238702  119.6    4351992   232.5    2938860   157.0\n",
       "Vcells 476928388 3638.7 1399159448 10674.8 1748948555 13343.5"
      ]
     },
     "metadata": {},
     "output_type": "display_data"
    }
   ],
   "source": [
    "# libero espacio\n",
    "rm(dataset)\n",
    "gc()"
   ]
  },
  {
   "cell_type": "code",
   "execution_count": 21,
   "metadata": {
    "vscode": {
     "languageId": "r"
    }
   },
   "outputs": [],
   "source": [
    "# Aqui comienza la configuracion de la Bayesian Optimization\n",
    "funcion_optimizar <- EstimarGanancia_lightgbm # la funcion que voy a maximizar\n",
    "\n",
    "configureMlr(show.learner.output = FALSE)\n",
    "\n",
    "# configuro la busqueda bayesiana,  los hiperparametros que se van a optimizar\n",
    "# por favor, no desesperarse por lo complejo\n",
    "obj.fun <- makeSingleObjectiveFunction(\n",
    "  fn = funcion_optimizar, # la funcion que voy a maximizar\n",
    "  minimize = FALSE, # estoy Maximizando la ganancia\n",
    "  noisy = TRUE,\n",
    "  par.set = PARAM$bo_lgb, # definido al comienzo del programa\n",
    "  has.simple.signature = FALSE # paso los parametros en una lista\n",
    ")\n",
    "\n",
    "# cada 600 segundos guardo el resultado intermedio\n",
    "ctrl <- makeMBOControl(\n",
    "  save.on.disk.at.time = 600, # se graba cada 600 segundos\n",
    "  save.file.path = kbayesiana\n",
    ") # se graba cada 600 segundos\n",
    "\n",
    "# indico la cantidad de iteraciones que va a tener la Bayesian Optimization\n",
    "ctrl <- setMBOControlTermination(\n",
    "  ctrl,\n",
    "  iters = PARAM$bo_iteraciones\n",
    ") # cantidad de iteraciones\n",
    "\n",
    "# defino el método estandar para la creacion de los puntos iniciales,\n",
    "# los \"No Inteligentes\"\n",
    "ctrl <- setMBOControlInfill(ctrl, crit = makeMBOInfillCritEI())\n",
    "\n",
    "\n",
    "# establezco la funcion que busca el maximo\n",
    "surr.km <- makeLearner(\n",
    "  \"regr.km\",\n",
    "  predict.type = \"se\",\n",
    "  covtype = \"matern3_2\",\n",
    "  control = list(trace = TRUE)\n",
    ")"
   ]
  },
  {
   "cell_type": "code",
   "execution_count": 22,
   "metadata": {
    "vscode": {
     "languageId": "r"
    }
   },
   "outputs": [
    {
     "name": "stderr",
     "output_type": "stream",
     "text": [
      "Computing y column(s) for design. Not provided.\n",
      "\n"
     ]
    },
    {
     "name": "stdout",
     "output_type": "stream",
     "text": [
      "Validate  1     620    102774899     104315627    \n",
      "20231031 131818\t156\t2714406\tgbdt\tbinary\tcustom\tTRUE\tTRUE\tFALSE\tTRUE\t-100\t-1\t0\t0.001\t0\t0\t31\t198\t1\t1\t1\tFALSE\t1\t0.1\t50\t0.5\tTRUE\t279511\t0.13694120913744\t0.511200065682206\t759\t20645\t13143\t146258990.004997\t1\n",
      "Validate  2     480    102856016     103735379    \n",
      "20231031 132159\t156\t2714406\tgbdt\tbinary\tcustom\tTRUE\tTRUE\tFALSE\tTRUE\t-100\t-1\t0\t0.001\t0\t0\t31\t46\t1\t1\t1\tFALSE\t1\t0.1\t50\t0.5\tTRUE\t279511\t0.10871455284534\t0.383395616570779\t371\t38535\t11623\t143067465.767116\t2\n",
      "Validate  3     650    101979306     103956398    \n",
      "20231031 132655\t156\t2714406\tgbdt\tbinary\tcustom\tTRUE\tTRUE\tFALSE\tTRUE\t-100\t-1\t0\t0.001\t0\t0\t31\t228\t1\t1\t1\tFALSE\t1\t0.1\t50\t0.5\tTRUE\t279511\t0.153177819112316\t0.276715104630857\t621\t15235\t12296\t149166060.969515\t3\n",
      "Validate  4     580    97884978     107011620     \n",
      "20231031 133014\t156\t2714406\tgbdt\tbinary\tcustom\tTRUE\tTRUE\tFALSE\tTRUE\t-100\t-1\t0\t0.001\t0\t0\t31\t171\t1\t1\t1\tFALSE\t1\t0.1\t50\t0.5\tTRUE\t279511\t0.271073784258333\t0.78185350669577\t116\t34014\t13821\t144759226.886557\t4\n",
      "Validate  5     1170    102647122     106472620    \n",
      "20231031 134257\t156\t2714406\tgbdt\tbinary\tcustom\tTRUE\tTRUE\tFALSE\tTRUE\t-100\t-1\t0\t0.001\t0\t0\t31\t761\t1\t1\t1\tFALSE\t1\t0.1\t50\t0.5\tTRUE\t279511\t0.238883439445053\t0.644795008537039\t542\t2127\t11818\t136581306.346827\t5\n",
      "Validate  6     850    103287921     104958322    \n",
      "20231031 134647\t156\t2714406\tgbdt\tbinary\tcustom\tTRUE\tTRUE\tFALSE\tTRUE\t-100\t-1\t0\t0.001\t0\t0\t31\t408\t1\t1\t1\tFALSE\t1\t0.1\t50\t0.5\tTRUE\t279511\t0.0900664854224306\t0.0754280283300613\t412\t23029\t13967\t141670320.33983\t6\n",
      "Validate  7     650    99651405     106256698     \n",
      "20231031 135106\t156\t2714406\tgbdt\tbinary\tcustom\tTRUE\tTRUE\tFALSE\tTRUE\t-100\t-1\t0\t0.001\t0\t0\t31\t229\t1\t1\t1\tFALSE\t1\t0.1\t50\t0.5\tTRUE\t279511\t0.186720657731057\t0.696503204608016\t661\t16723\t13672\t141223296.351824\t7\n",
      "Validate  8     540    105827826     107094466    \n",
      "20231031 135412\t156\t2714406\tgbdt\tbinary\tcustom\tTRUE\tTRUE\tFALSE\tTRUE\t-100\t-1\t0\t0.001\t0\t0\t31\t55\t1\t1\t1\tFALSE\t1\t0.1\t50\t0.5\tTRUE\t279511\t0.0429818473849446\t0.840359180488013\t150\t42638\t11637\t141749835.582209\t8\n",
      "Validate  9     1490    103695754     105549222    \n",
      "20231031 141028\t156\t2714406\tgbdt\tbinary\tcustom\tTRUE\tTRUE\tFALSE\tTRUE\t-100\t-1\t0\t0.001\t0\t0\t31\t1071\t1\t1\t1\tFALSE\t1\t0.1\t50\t0.5\tTRUE\t279511\t0.166457323828363\t0.380679800144862\t905\t3322\t11268\t132360141.929035\t9\n",
      "Validate  10     530    106358367     107715524    \n",
      "20231031 141448\t156\t2714406\tgbdt\tbinary\tcustom\tTRUE\tTRUE\tFALSE\tTRUE\t-100\t-1\t0\t0.001\t0\t0\t31\t86\t1\t1\t1\tFALSE\t1\t0.1\t50\t0.5\tTRUE\t279511\t0.0768787990038982\t0.575646079617873\t831\t46409\t14056\t142713467.266367\t10\n",
      "Validate  11     510    101951036     103458797    \n",
      "20231031 141914\t156\t2714406\tgbdt\tbinary\tcustom\tTRUE\tTRUE\tFALSE\tTRUE\t-100\t-1\t0\t0.001\t0\t0\t31\t95\t1\t1\t1\tFALSE\t1\t0.1\t50\t0.5\tTRUE\t279511\t0.199060535248718\t0.482284466433484\t268\t29593\t12689\t140619858.570715\t11\n",
      "Validate  12     560    102598447     105893320    \n",
      "20231031 142115\t156\t2714406\tgbdt\tbinary\tcustom\tTRUE\tTRUE\tFALSE\tTRUE\t-100\t-1\t0\t0.001\t0\t0\t31\t146\t1\t1\t1\tFALSE\t1\t0.1\t50\t0.5\tTRUE\t279511\t0.218087663662154\t0.0349420346751867\t500\t8456\t14101\t132743714.642679\t12\n",
      "Validate  13     440    98544331     101370407     \n",
      "20231031 142346\t156\t2714406\tgbdt\tbinary\tcustom\tTRUE\tTRUE\tFALSE\tTRUE\t-100\t-1\t0\t0.001\t0\t0\t31\t24\t1\t1\t1\tFALSE\t1\t0.1\t50\t0.5\tTRUE\t279511\t0.247791156655876\t0.936292199923046\t887\t48584\t12814\t136139001.49925\t13\n",
      "Validate  14     720    102463838     109507783    \n",
      "20231031 142803\t156\t2714406\tgbdt\tbinary\tcustom\tTRUE\tTRUE\tFALSE\tTRUE\t-100\t-1\t0\t0.001\t0\t0\t31\t178\t1\t1\t1\tFALSE\t1\t0.1\t50\t0.5\tTRUE\t279511\t0.0278307219524868\t0.240808322774392\t56\t34450\t11712\t138894300.849575\t14\n",
      "Validate  15     580    105163008     108919003    \n",
      "20231031 143101\t156\t2714406\tgbdt\tbinary\tcustom\tTRUE\tTRUE\tFALSE\tTRUE\t-100\t-1\t0\t0.001\t0\t0\t31\t125\t1\t1\t1\tFALSE\t1\t0.1\t50\t0.5\tTRUE\t279511\t0.0708034699544078\t0.142060961340176\t995\t27067\t12252\t141241837.081459\t15\n",
      "Validate  16     420    95861407     100752630    \n",
      "20231031 143406\t156\t2714406\tgbdt\tbinary\tcustom\tTRUE\tTRUE\tFALSE\tTRUE\t-100\t-1\t0\t0.001\t0\t0\t31\t15\t1\t1\t1\tFALSE\t1\t0.1\t50\t0.5\tTRUE\t279511\t0.291614252373693\t0.946646284638409\t253\t10265\t11824\t133435658.170915\t16\n"
     ]
    },
    {
     "name": "stderr",
     "output_type": "stream",
     "text": [
      "[mbo] 0: learning_rate=0.137; feature_fraction=0.511; num_leaves=759; min_data_in_leaf=20645 : y = 1.46e+08 : 356.6 secs : initdesign\n",
      "\n",
      "[mbo] 0: learning_rate=0.109; feature_fraction=0.383; num_leaves=371; min_data_in_leaf=38535 : y = 1.43e+08 : 221.1 secs : initdesign\n",
      "\n",
      "[mbo] 0: learning_rate=0.153; feature_fraction=0.277; num_leaves=621; min_data_in_leaf=15235 : y = 1.49e+08 : 296.4 secs : initdesign\n",
      "\n",
      "[mbo] 0: learning_rate=0.271; feature_fraction=0.782; num_leaves=116; min_data_in_leaf=34014 : y = 1.45e+08 : 199.2 secs : initdesign\n",
      "\n",
      "[mbo] 0: learning_rate=0.239; feature_fraction=0.645; num_leaves=542; min_data_in_leaf=2127 : y = 1.37e+08 : 762.5 secs : initdesign\n",
      "\n",
      "[mbo] 0: learning_rate=0.0901; feature_fraction=0.0754; num_leaves=412; min_data_in_leaf=23029 : y = 1.42e+08 : 230.4 secs : initdesign\n",
      "\n",
      "[mbo] 0: learning_rate=0.187; feature_fraction=0.697; num_leaves=661; min_data_in_leaf=16723 : y = 1.41e+08 : 259.2 secs : initdesign\n",
      "\n",
      "[mbo] 0: learning_rate=0.043; feature_fraction=0.84; num_leaves=150; min_data_in_leaf=42638 : y = 1.42e+08 : 185.4 secs : initdesign\n",
      "\n",
      "[mbo] 0: learning_rate=0.166; feature_fraction=0.381; num_leaves=905; min_data_in_leaf=3322 : y = 1.32e+08 : 976.0 secs : initdesign\n",
      "\n",
      "[mbo] 0: learning_rate=0.0769; feature_fraction=0.576; num_leaves=831; min_data_in_leaf=46409 : y = 1.43e+08 : 260.3 secs : initdesign\n",
      "\n",
      "[mbo] 0: learning_rate=0.199; feature_fraction=0.482; num_leaves=268; min_data_in_leaf=29593 : y = 1.41e+08 : 265.5 secs : initdesign\n",
      "\n",
      "[mbo] 0: learning_rate=0.218; feature_fraction=0.0349; num_leaves=500; min_data_in_leaf=8456 : y = 1.33e+08 : 121.1 secs : initdesign\n",
      "\n",
      "[mbo] 0: learning_rate=0.248; feature_fraction=0.936; num_leaves=887; min_data_in_leaf=48584 : y = 1.36e+08 : 151.2 secs : initdesign\n",
      "\n",
      "[mbo] 0: learning_rate=0.0278; feature_fraction=0.241; num_leaves=56; min_data_in_leaf=34450 : y = 1.39e+08 : 257.2 secs : initdesign\n",
      "\n",
      "[mbo] 0: learning_rate=0.0708; feature_fraction=0.142; num_leaves=995; min_data_in_leaf=27067 : y = 1.41e+08 : 177.9 secs : initdesign\n",
      "\n",
      "[mbo] 0: learning_rate=0.292; feature_fraction=0.947; num_leaves=253; min_data_in_leaf=10265 : y = 1.33e+08 : 185.3 secs : initdesign\n",
      "\n",
      "Saved the current state after iteration 1 in the file HT8230 (Clase 10-11, Ajustado Sem1).RDATA.\n",
      "\n"
     ]
    },
    {
     "name": "stdout",
     "output_type": "stream",
     "text": [
      "Validate  17     570    102814951     105101435    \n",
      "20231031 143636\t156\t2714406\tgbdt\tbinary\tcustom\tTRUE\tTRUE\tFALSE\tTRUE\t-100\t-1\t0\t0.001\t0\t0\t31\t140\t1\t1\t1\tFALSE\t1\t0.1\t50\t0.5\tTRUE\t279511\t0.122320111896963\t0.0764718215932364\t410\t14936\t14103\t142556441.27936\t17\n"
     ]
    },
    {
     "name": "stderr",
     "output_type": "stream",
     "text": [
      "[mbo] 1: learning_rate=0.122; feature_fraction=0.0765; num_leaves=410; min_data_in_leaf=14936 : y = 1.43e+08 : 146.7 secs : infill_ei\n",
      "\n"
     ]
    },
    {
     "name": "stdout",
     "output_type": "stream",
     "text": [
      "Validate  18     1230    100599592     103361983    \n",
      "20231031 144525\t156\t2714406\tgbdt\tbinary\tcustom\tTRUE\tTRUE\tFALSE\tTRUE\t-100\t-1\t0\t0.001\t0\t0\t31\t808\t1\t1\t1\tFALSE\t1\t0.1\t50\t0.5\tTRUE\t279511\t0.13229845819356\t0.312490593140245\t739\t17311\t12251\t145879261.869065\t18\n"
     ]
    },
    {
     "name": "stderr",
     "output_type": "stream",
     "text": [
      "[mbo] 2: learning_rate=0.132; feature_fraction=0.312; num_leaves=739; min_data_in_leaf=17311 : y = 1.46e+08 : 528.7 secs : infill_ei\n",
      "\n",
      "Saved the current state after iteration 3 in the file HT8230 (Clase 10-11, Ajustado Sem1).RDATA.\n",
      "\n"
     ]
    },
    {
     "name": "stdout",
     "output_type": "stream",
     "text": [
      "Validate  19     970    98575028     105055524     \n",
      "20231031 145212\t156\t2714406\tgbdt\tbinary\tcustom\tTRUE\tTRUE\tFALSE\tTRUE\t-100\t-1\t0\t0.001\t0\t0\t31\t550\t1\t1\t1\tFALSE\t1\t0.1\t50\t0.5\tTRUE\t279511\t0.185493473524664\t0.280159619661838\t109\t14964\t12234\t141323199.4003\t19\n"
     ]
    },
    {
     "name": "stderr",
     "output_type": "stream",
     "text": [
      "[mbo] 3: learning_rate=0.185; feature_fraction=0.28; num_leaves=109; min_data_in_leaf=14964 : y = 1.41e+08 : 404.3 secs : infill_ei\n",
      "\n"
     ]
    },
    {
     "name": "stdout",
     "output_type": "stream",
     "text": [
      "Validate  20     710    101421352     103780191    \n",
      "20231031 145737\t156\t2714406\tgbdt\tbinary\tcustom\tTRUE\tTRUE\tFALSE\tTRUE\t-100\t-1\t0\t0.001\t0\t0\t31\t292\t1\t1\t1\tFALSE\t1\t0.1\t50\t0.5\tTRUE\t279511\t0.150866642413552\t0.351763674715204\t853\t15413\t12971\t145087257.871064\t20\n"
     ]
    },
    {
     "name": "stderr",
     "output_type": "stream",
     "text": [
      "[mbo] 4: learning_rate=0.151; feature_fraction=0.352; num_leaves=853; min_data_in_leaf=15413 : y = 1.45e+08 : 324.7 secs : infill_ei\n",
      "\n",
      "Saved the current state after iteration 5 in the file HT8230 (Clase 10-11, Ajustado Sem1).RDATA.\n",
      "\n"
     ]
    },
    {
     "name": "stdout",
     "output_type": "stream",
     "text": [
      "Validate  21     910    102284966     105106105    \n",
      "20231031 150343\t156\t2714406\tgbdt\tbinary\tcustom\tTRUE\tTRUE\tFALSE\tTRUE\t-100\t-1\t0\t0.001\t0\t0\t31\t491\t1\t1\t1\tFALSE\t1\t0.1\t50\t0.5\tTRUE\t279511\t0.153175984671986\t0.183225874805378\t475\t17750\t12246\t144208374.812594\t21\n"
     ]
    },
    {
     "name": "stderr",
     "output_type": "stream",
     "text": [
      "[mbo] 5: learning_rate=0.153; feature_fraction=0.183; num_leaves=475; min_data_in_leaf=17750 : y = 1.44e+08 : 363.7 secs : infill_ei\n",
      "\n"
     ]
    },
    {
     "name": "stdout",
     "output_type": "stream",
     "text": [
      "Validate  22     710    99159772     104715585     \n",
      "20231031 150909\t156\t2714406\tgbdt\tbinary\tcustom\tTRUE\tTRUE\tFALSE\tTRUE\t-100\t-1\t0\t0.001\t0\t0\t31\t290\t1\t1\t1\tFALSE\t1\t0.1\t50\t0.5\tTRUE\t279511\t0.139418235745498\t0.253487891658222\t610\t15350\t14822\t142252376.811594\t22\n"
     ]
    },
    {
     "name": "stderr",
     "output_type": "stream",
     "text": [
      "[mbo] 6: learning_rate=0.139; feature_fraction=0.253; num_leaves=610; min_data_in_leaf=15350 : y = 1.42e+08 : 325.2 secs : infill_ei\n",
      "\n",
      "Saved the current state after iteration 7 in the file HT8230 (Clase 10-11, Ajustado Sem1).RDATA.\n",
      "\n"
     ]
    },
    {
     "name": "stdout",
     "output_type": "stream",
     "text": [
      "Validate  23     770    98919904     101449006     \n",
      "20231031 151437\t156\t2714406\tgbdt\tbinary\tcustom\tTRUE\tTRUE\tFALSE\tTRUE\t-100\t-1\t0\t0.001\t0\t0\t31\t352\t1\t1\t1\tFALSE\t1\t0.1\t50\t0.5\tTRUE\t279511\t0.203677970921507\t0.308058084859087\t625\t17322\t12702\t146306569.715142\t23\n"
     ]
    },
    {
     "name": "stderr",
     "output_type": "stream",
     "text": [
      "[mbo] 7: learning_rate=0.204; feature_fraction=0.308; num_leaves=625; min_data_in_leaf=17322 : y = 1.46e+08 : 325.4 secs : infill_ei\n",
      "\n"
     ]
    },
    {
     "name": "stdout",
     "output_type": "stream",
     "text": [
      "Validate  24     550    101137833     108160915    \n",
      "20231031 151748\t156\t2714406\tgbdt\tbinary\tcustom\tTRUE\tTRUE\tFALSE\tTRUE\t-100\t-1\t0\t0.001\t0\t0\t31\t112\t1\t1\t1\tFALSE\t1\t0.1\t50\t0.5\tTRUE\t279511\t0.0953087339998861\t0.0707478667006988\t621\t588\t14210\t139624812.593703\t24\n"
     ]
    },
    {
     "name": "stderr",
     "output_type": "stream",
     "text": [
      "[mbo] 8: learning_rate=0.0953; feature_fraction=0.0707; num_leaves=621; min_data_in_leaf=588 : y = 1.4e+08 : 191.4 secs : infill_ei\n",
      "\n"
     ]
    },
    {
     "name": "stdout",
     "output_type": "stream",
     "text": [
      "Validate  25     660    97534922     102957179     \n",
      "20231031 152345\t156\t2714406\tgbdt\tbinary\tcustom\tTRUE\tTRUE\tFALSE\tTRUE\t-100\t-1\t0\t0.001\t0\t0\t31\t250\t1\t1\t1\tFALSE\t1\t0.1\t50\t0.5\tTRUE\t279511\t0.219295176006098\t0.533428394957128\t379\t30892\t14353\t139872548.225887\t25\n"
     ]
    },
    {
     "name": "stderr",
     "output_type": "stream",
     "text": [
      "[mbo] 9: learning_rate=0.219; feature_fraction=0.533; num_leaves=379; min_data_in_leaf=30892 : y = 1.4e+08 : 356.7 secs : infill_ei\n",
      "\n",
      "Saved the current state after iteration 10 in the file HT8230 (Clase 10-11, Ajustado Sem1).RDATA.\n",
      "\n"
     ]
    },
    {
     "name": "stdout",
     "output_type": "stream",
     "text": [
      "Validate  26     530    106207880     108476663    \n",
      "20231031 152833\t156\t2714406\tgbdt\tbinary\tcustom\tTRUE\tTRUE\tFALSE\tTRUE\t-100\t-1\t0\t0.001\t0\t0\t31\t79\t1\t1\t1\tFALSE\t1\t0.1\t50\t0.5\tTRUE\t279511\t0.0679463801090529\t0.519576129272802\t1024\t32800\t13485\t142564060.469765\t26\n"
     ]
    },
    {
     "name": "stderr",
     "output_type": "stream",
     "text": [
      "[mbo] 10: learning_rate=0.0679; feature_fraction=0.52; num_leaves=1024; min_data_in_leaf=32800 : y = 1.43e+08 : 284.6 secs : infill_ei\n",
      "\n"
     ]
    },
    {
     "name": "stdout",
     "output_type": "stream",
     "text": [
      "Validate  27     700    99523443     101653279     \n",
      "20231031 153151\t156\t2714406\tgbdt\tbinary\tcustom\tTRUE\tTRUE\tFALSE\tTRUE\t-100\t-1\t0\t0.001\t0\t0\t31\t295\t1\t1\t1\tFALSE\t1\t0.1\t50\t0.5\tTRUE\t279511\t0.299691394519305\t0.64672403506852\t23\t22695\t15497\t132191424.787606\t27\n"
     ]
    },
    {
     "name": "stderr",
     "output_type": "stream",
     "text": [
      "[mbo] 11: learning_rate=0.3; feature_fraction=0.647; num_leaves=23; min_data_in_leaf=22695 : y = 1.32e+08 : 197.9 secs : infill_ei\n",
      "\n"
     ]
    },
    {
     "name": "stdout",
     "output_type": "stream",
     "text": [
      "Validate  28     1230    104543870     106625508    \n",
      "20231031 153652\t156\t2714406\tgbdt\tbinary\tcustom\tTRUE\tTRUE\tFALSE\tTRUE\t-100\t-1\t0\t0.001\t0\t0\t31\t681\t1\t1\t1\tFALSE\t1\t0.1\t50\t0.5\tTRUE\t279511\t0.0255868075238671\t0.0382536196312106\t419\t3467\t15043\t136820499.250375\t28\n"
     ]
    },
    {
     "name": "stderr",
     "output_type": "stream",
     "text": [
      "[mbo] 12: learning_rate=0.0256; feature_fraction=0.0383; num_leaves=419; min_data_in_leaf=3467 : y = 1.37e+08 : 301.2 secs : infill_ei\n",
      "\n",
      "Saved the current state after iteration 13 in the file HT8230 (Clase 10-11, Ajustado Sem1).RDATA.\n",
      "\n"
     ]
    },
    {
     "name": "stdout",
     "output_type": "stream",
     "text": [
      "Validate  29     480    103879258     107279117    \n",
      "20231031 154032\t156\t2714406\tgbdt\tbinary\tcustom\tTRUE\tTRUE\tFALSE\tTRUE\t-100\t-1\t0\t0.001\t0\t0\t31\t48\t1\t1\t1\tFALSE\t1\t0.1\t50\t0.5\tTRUE\t279511\t0.110472577592436\t0.394277099015684\t865\t41216\t12931\t139249936.531734\t29\n"
     ]
    },
    {
     "name": "stderr",
     "output_type": "stream",
     "text": [
      "[mbo] 13: learning_rate=0.11; feature_fraction=0.394; num_leaves=865; min_data_in_leaf=41216 : y = 1.39e+08 : 216.8 secs : infill_ei\n",
      "\n"
     ]
    },
    {
     "name": "stdout",
     "output_type": "stream",
     "text": [
      "Validate  30     800    107074879     108198584    \n",
      "20231031 154645\t156\t2714406\tgbdt\tbinary\tcustom\tTRUE\tTRUE\tFALSE\tTRUE\t-100\t-1\t0\t0.001\t0\t0\t31\t305\t1\t1\t1\tFALSE\t1\t0.1\t50\t0.5\tTRUE\t279511\t0.0419489395878789\t0.84226222783401\t622\t9623\t13091\t149110386.306847\t30\n"
     ]
    },
    {
     "name": "stderr",
     "output_type": "stream",
     "text": [
      "[mbo] 14: learning_rate=0.0419; feature_fraction=0.842; num_leaves=622; min_data_in_leaf=9623 : y = 1.49e+08 : 372.6 secs : infill_ei\n",
      "\n"
     ]
    },
    {
     "name": "stdout",
     "output_type": "stream",
     "text": [
      "Validate  31     1020    100416214     103254628    \n",
      "20231031 155218\t156\t2714406\tgbdt\tbinary\tcustom\tTRUE\tTRUE\tFALSE\tTRUE\t-100\t-1\t0\t0.001\t0\t0\t31\t602\t1\t1\t1\tFALSE\t1\t0.1\t50\t0.5\tTRUE\t279511\t0.169387332471536\t0.939534645981941\t711\t42638\t14636\t141968969.515242\t31\n"
     ]
    },
    {
     "name": "stderr",
     "output_type": "stream",
     "text": [
      "[mbo] 15: learning_rate=0.169; feature_fraction=0.94; num_leaves=711; min_data_in_leaf=42638 : y = 1.42e+08 : 332.7 secs : infill_ei\n",
      "\n",
      "Saved the current state after iteration 16 in the file HT8230 (Clase 10-11, Ajustado Sem1).RDATA.\n",
      "\n"
     ]
    },
    {
     "name": "stdout",
     "output_type": "stream",
     "text": [
      "Validate  32     440    101022814     104006063    \n",
      "20231031 155543\t156\t2714406\tgbdt\tbinary\tcustom\tTRUE\tTRUE\tFALSE\tTRUE\t-100\t-1\t0\t0.001\t0\t0\t31\t23\t1\t1\t1\tFALSE\t1\t0.1\t50\t0.5\tTRUE\t279511\t0.231584919452235\t0.173097595043487\t920\t2080\t10916\t135416605.697151\t32\n"
     ]
    },
    {
     "name": "stderr",
     "output_type": "stream",
     "text": [
      "[mbo] 16: learning_rate=0.232; feature_fraction=0.173; num_leaves=920; min_data_in_leaf=2080 : y = 1.35e+08 : 202.1 secs : infill_ei\n",
      "\n"
     ]
    },
    {
     "name": "stdout",
     "output_type": "stream",
     "text": [
      "Validate  33     820    101765657     103774426    \n",
      "20231031 155759\t156\t2714406\tgbdt\tbinary\tcustom\tTRUE\tTRUE\tFALSE\tTRUE\t-100\t-1\t0\t0.001\t0\t0\t31\t412\t1\t1\t1\tFALSE\t1\t0.1\t50\t0.5\tTRUE\t279511\t0.285965586658801\t0.0141181996187581\t180\t41347\t14024\t132166632.683658\t33\n"
     ]
    },
    {
     "name": "stderr",
     "output_type": "stream",
     "text": [
      "[mbo] 17: learning_rate=0.286; feature_fraction=0.0141; num_leaves=180; min_data_in_leaf=41347 : y = 1.32e+08 : 136.2 secs : infill_ei\n",
      "\n"
     ]
    },
    {
     "name": "stdout",
     "output_type": "stream",
     "text": [
      "Validate  34     770    100175779     104318628    \n",
      "20231031 160403\t156\t2714406\tgbdt\tbinary\tcustom\tTRUE\tTRUE\tFALSE\tTRUE\t-100\t-1\t0\t0.001\t0\t0\t31\t351\t1\t1\t1\tFALSE\t1\t0.1\t50\t0.5\tTRUE\t279511\t0.13902323326852\t0.827545999227408\t324\t15442\t13196\t139790538.730635\t34\n"
     ]
    },
    {
     "name": "stderr",
     "output_type": "stream",
     "text": [
      "[mbo] 18: learning_rate=0.139; feature_fraction=0.828; num_leaves=324; min_data_in_leaf=15442 : y = 1.4e+08 : 363.0 secs : infill_ei\n",
      "\n",
      "Saved the current state after iteration 19 in the file HT8230 (Clase 10-11, Ajustado Sem1).RDATA.\n",
      "\n"
     ]
    },
    {
     "name": "stdout",
     "output_type": "stream",
     "text": [
      "Validate  35     2260    105203581     106491812    \n",
      "20231031 162907\t156\t2714406\tgbdt\tbinary\tcustom\tTRUE\tTRUE\tFALSE\tTRUE\t-100\t-1\t0\t0.001\t0\t0\t31\t1844\t1\t1\t1\tFALSE\t1\t0.1\t50\t0.5\tTRUE\t279511\t0.169078910679355\t0.477624603136291\t924\t3355\t12556\t132110198.90055\t35\n"
     ]
    },
    {
     "name": "stderr",
     "output_type": "stream",
     "text": [
      "[mbo] 19: learning_rate=0.169; feature_fraction=0.478; num_leaves=924; min_data_in_leaf=3355 : y = 1.32e+08 : 1501.4 secs : infill_ei\n",
      "\n",
      "Saved the current state after iteration 20 in the file HT8230 (Clase 10-11, Ajustado Sem1).RDATA.\n",
      "\n"
     ]
    },
    {
     "name": "stdout",
     "output_type": "stream",
     "text": [
      "Validate  36     460    100858655     104413144    \n",
      "20231031 163332\t156\t2714406\tgbdt\tbinary\tcustom\tTRUE\tTRUE\tFALSE\tTRUE\t-100\t-1\t0\t0.001\t0\t0\t31\t35\t1\t1\t1\tFALSE\t1\t0.1\t50\t0.5\tTRUE\t279511\t0.148165910621518\t0.553368149906438\t623\t17000\t15083\t141914932.033983\t36\n"
     ]
    },
    {
     "name": "stderr",
     "output_type": "stream",
     "text": [
      "[mbo] 20: learning_rate=0.148; feature_fraction=0.553; num_leaves=623; min_data_in_leaf=17000 : y = 1.42e+08 : 262.1 secs : infill_ei\n",
      "\n"
     ]
    },
    {
     "name": "stdout",
     "output_type": "stream",
     "text": [
      "Validate  37     1990    100717658     102367769    \n",
      "20231031 165140\t156\t2714406\tgbdt\tbinary\tcustom\tTRUE\tTRUE\tFALSE\tTRUE\t-100\t-1\t0\t0.001\t0\t0\t31\t1582\t1\t1\t1\tFALSE\t1\t0.1\t50\t0.5\tTRUE\t279511\t0.26444843462048\t0.794464204651032\t965\t6633\t12006\t132346785.607196\t37\n"
     ]
    },
    {
     "name": "stderr",
     "output_type": "stream",
     "text": [
      "[mbo] 21: learning_rate=0.264; feature_fraction=0.794; num_leaves=965; min_data_in_leaf=6633 : y = 1.32e+08 : 1088.1 secs : infill_ei\n",
      "\n",
      "Saved the current state after iteration 22 in the file HT8230 (Clase 10-11, Ajustado Sem1).RDATA.\n",
      "\n"
     ]
    },
    {
     "name": "stdout",
     "output_type": "stream",
     "text": [
      "Validate  38     600    102438966     105763535    \n",
      "20231031 165703\t156\t2714406\tgbdt\tbinary\tcustom\tTRUE\tTRUE\tFALSE\tTRUE\t-100\t-1\t0\t0.001\t0\t0\t31\t145\t1\t1\t1\tFALSE\t1\t0.1\t50\t0.5\tTRUE\t279511\t0.0716026909889653\t0.938601369674891\t506\t10341\t12903\t146910084.457771\t38\n"
     ]
    },
    {
     "name": "stderr",
     "output_type": "stream",
     "text": [
      "[mbo] 22: learning_rate=0.0716; feature_fraction=0.939; num_leaves=506; min_data_in_leaf=10341 : y = 1.47e+08 : 320.1 secs : infill_ei\n",
      "\n"
     ]
    },
    {
     "name": "stdout",
     "output_type": "stream",
     "text": [
      "Validate  39     1030    106036570     107046778    \n",
      "20231031 170433\t156\t2714406\tgbdt\tbinary\tcustom\tTRUE\tTRUE\tFALSE\tTRUE\t-100\t-1\t0\t0.001\t0\t0\t31\t597\t1\t1\t1\tFALSE\t1\t0.1\t50\t0.5\tTRUE\t279511\t0.105073615669699\t0.363749007146848\t820\t38314\t13688\t146965969.015492\t39\n"
     ]
    },
    {
     "name": "stderr",
     "output_type": "stream",
     "text": [
      "[mbo] 23: learning_rate=0.105; feature_fraction=0.364; num_leaves=820; min_data_in_leaf=38314 : y = 1.47e+08 : 449.5 secs : infill_ei\n",
      "\n",
      "Saved the current state after iteration 24 in the file HT8230 (Clase 10-11, Ajustado Sem1).RDATA.\n",
      "\n"
     ]
    },
    {
     "name": "stdout",
     "output_type": "stream",
     "text": [
      "Validate  40     690    100319078     104733850    \n",
      "20231031 170904\t156\t2714406\tgbdt\tbinary\tcustom\tTRUE\tTRUE\tFALSE\tTRUE\t-100\t-1\t0\t0.001\t0\t0\t31\t280\t1\t1\t1\tFALSE\t1\t0.1\t50\t0.5\tTRUE\t279511\t0.272804857940276\t0.309934916273431\t516\t37566\t13399\t142685960.51974\t40\n"
     ]
    },
    {
     "name": "stderr",
     "output_type": "stream",
     "text": [
      "[mbo] 24: learning_rate=0.273; feature_fraction=0.31; num_leaves=516; min_data_in_leaf=37566 : y = 1.43e+08 : 268.4 secs : infill_ei\n",
      "\n"
     ]
    },
    {
     "name": "stdout",
     "output_type": "stream",
     "text": [
      "Validate  41     1040    100536043     103595239    \n",
      "20231031 171625\t156\t2714406\tgbdt\tbinary\tcustom\tTRUE\tTRUE\tFALSE\tTRUE\t-100\t-1\t0\t0.001\t0\t0\t31\t631\t1\t1\t1\tFALSE\t1\t0.1\t50\t0.5\tTRUE\t279511\t0.280918030410593\t0.407511616658682\t503\t49398\t11751\t136158112.443778\t41\n"
     ]
    },
    {
     "name": "stderr",
     "output_type": "stream",
     "text": [
      "[mbo] 25: learning_rate=0.281; feature_fraction=0.408; num_leaves=503; min_data_in_leaf=49398 : y = 1.36e+08 : 440.1 secs : infill_ei\n",
      "\n",
      "Saved the current state after iteration 26 in the file HT8230 (Clase 10-11, Ajustado Sem1).RDATA.\n",
      "\n"
     ]
    },
    {
     "name": "stdout",
     "output_type": "stream",
     "text": [
      "Validate  42     430    97042504     101770257    \n",
      "20231031 171910\t156\t2714406\tgbdt\tbinary\tcustom\tTRUE\tTRUE\tFALSE\tTRUE\t-100\t-1\t0\t0.001\t0\t0\t31\t21\t1\t1\t1\tFALSE\t1\t0.1\t50\t0.5\tTRUE\t279511\t0.269658782215395\t0.293410377101067\t539\t44955\t13076\t133851068.465767\t42\n"
     ]
    },
    {
     "name": "stderr",
     "output_type": "stream",
     "text": [
      "[mbo] 26: learning_rate=0.27; feature_fraction=0.293; num_leaves=539; min_data_in_leaf=44955 : y = 1.34e+08 : 162.5 secs : infill_ei\n",
      "\n"
     ]
    },
    {
     "name": "stdout",
     "output_type": "stream",
     "text": [
      "Validate  43     520    105015018     106484917    \n",
      "20231031 172156\t156\t2714406\tgbdt\tbinary\tcustom\tTRUE\tTRUE\tFALSE\tTRUE\t-100\t-1\t0\t0.001\t0\t0\t31\t83\t1\t1\t1\tFALSE\t1\t0.1\t50\t0.5\tTRUE\t279511\t0.106375663572088\t0.165346264801995\t415\t36107\t15622\t134941312.343828\t43\n"
     ]
    },
    {
     "name": "stderr",
     "output_type": "stream",
     "text": [
      "[mbo] 27: learning_rate=0.106; feature_fraction=0.165; num_leaves=415; min_data_in_leaf=36107 : y = 1.35e+08 : 165.1 secs : infill_ei\n",
      "\n"
     ]
    },
    {
     "name": "stdout",
     "output_type": "stream",
     "text": [
      "Validate  44     570    98250349     102560960     \n",
      "20231031 172517\t156\t2714406\tgbdt\tbinary\tcustom\tTRUE\tTRUE\tFALSE\tTRUE\t-100\t-1\t0\t0.001\t0\t0\t31\t155\t1\t1\t1\tFALSE\t1\t0.1\t50\t0.5\tTRUE\t279511\t0.226842459986376\t0.853135126530786\t754\t26666\t12960\t145038880.55972\t44\n"
     ]
    },
    {
     "name": "stderr",
     "output_type": "stream",
     "text": [
      "[mbo] 28: learning_rate=0.227; feature_fraction=0.853; num_leaves=754; min_data_in_leaf=26666 : y = 1.45e+08 : 201.1 secs : infill_ei\n",
      "\n"
     ]
    },
    {
     "name": "stdout",
     "output_type": "stream",
     "text": [
      "Validate  45     770    95858157     101234808     \n",
      "20231031 173112\t156\t2714406\tgbdt\tbinary\tcustom\tTRUE\tTRUE\tFALSE\tTRUE\t-100\t-1\t0\t0.001\t0\t0\t31\t366\t1\t1\t1\tFALSE\t1\t0.1\t50\t0.5\tTRUE\t279511\t0.292970490781251\t0.488700571514026\t740\t40599\t12615\t143922606.196902\t45\n"
     ]
    },
    {
     "name": "stderr",
     "output_type": "stream",
     "text": [
      "[mbo] 29: learning_rate=0.293; feature_fraction=0.489; num_leaves=740; min_data_in_leaf=40599 : y = 1.44e+08 : 354.8 secs : infill_ei\n",
      "\n",
      "Saved the current state after iteration 30 in the file HT8230 (Clase 10-11, Ajustado Sem1).RDATA.\n",
      "\n"
     ]
    },
    {
     "name": "stdout",
     "output_type": "stream",
     "text": [
      "Validate  46     610    105406969     108677487    \n",
      "20231031 173502\t156\t2714406\tgbdt\tbinary\tcustom\tTRUE\tTRUE\tFALSE\tTRUE\t-100\t-1\t0\t0.001\t0\t0\t31\t162\t1\t1\t1\tFALSE\t1\t0.1\t50\t0.5\tTRUE\t279511\t0.0709510212063353\t0.149150602368406\t983\t21400\t13048\t141310836.581709\t46\n"
     ]
    },
    {
     "name": "stderr",
     "output_type": "stream",
     "text": [
      "[mbo] 30: learning_rate=0.071; feature_fraction=0.149; num_leaves=983; min_data_in_leaf=21400 : y = 1.41e+08 : 226.4 secs : infill_ei\n",
      "\n"
     ]
    },
    {
     "name": "stdout",
     "output_type": "stream",
     "text": [
      "Validate  47     1090    101960674     103931022    \n",
      "20231031 174143\t156\t2714406\tgbdt\tbinary\tcustom\tTRUE\tTRUE\tFALSE\tTRUE\t-100\t-1\t0\t0.001\t0\t0\t31\t671\t1\t1\t1\tFALSE\t1\t0.1\t50\t0.5\tTRUE\t279511\t0.19547436514964\t0.305046615094262\t18\t25558\t14725\t141173995.502249\t47\n"
     ]
    },
    {
     "name": "stderr",
     "output_type": "stream",
     "text": [
      "[mbo] 31: learning_rate=0.195; feature_fraction=0.305; num_leaves=18; min_data_in_leaf=25558 : y = 1.41e+08 : 400.8 secs : infill_ei\n",
      "\n",
      "Saved the current state after iteration 32 in the file HT8230 (Clase 10-11, Ajustado Sem1).RDATA.\n",
      "\n"
     ]
    },
    {
     "name": "stdout",
     "output_type": "stream",
     "text": [
      "Validate  48     540    106203675     106373063    \n",
      "20231031 174447\t156\t2714406\tgbdt\tbinary\tcustom\tTRUE\tTRUE\tFALSE\tTRUE\t-100\t-1\t0\t0.001\t0\t0\t31\t99\t1\t1\t1\tFALSE\t1\t0.1\t50\t0.5\tTRUE\t279511\t0.086461430790028\t0.11402842974274\t667\t16154\t12764\t138211680.15992\t48\n"
     ]
    },
    {
     "name": "stderr",
     "output_type": "stream",
     "text": [
      "[mbo] 32: learning_rate=0.0865; feature_fraction=0.114; num_leaves=667; min_data_in_leaf=16154 : y = 1.38e+08 : 181.5 secs : infill_ei\n",
      "\n"
     ]
    },
    {
     "name": "stdout",
     "output_type": "stream",
     "text": [
      "Validate  49     1200    93980272     97238231    \n",
      "20231031 175758\t156\t2714406\tgbdt\tbinary\tcustom\tTRUE\tTRUE\tFALSE\tTRUE\t-100\t-1\t0\t0.001\t0\t0\t31\t793\t1\t1\t1\tFALSE\t1\t0.1\t50\t0.5\tTRUE\t279511\t0.284711794150233\t0.493000620373161\t344\t2520\t12644\t129800485.757121\t49\n"
     ]
    },
    {
     "name": "stderr",
     "output_type": "stream",
     "text": [
      "[mbo] 33: learning_rate=0.285; feature_fraction=0.493; num_leaves=344; min_data_in_leaf=2520 : y = 1.3e+08 : 790.0 secs : infill_ei\n",
      "\n",
      "Saved the current state after iteration 34 in the file HT8230 (Clase 10-11, Ajustado Sem1).RDATA.\n",
      "\n"
     ]
    },
    {
     "name": "stdout",
     "output_type": "stream",
     "text": [
      "Validate  50     520    103070001     106025939    \n",
      "20231031 180121\t156\t2714406\tgbdt\tbinary\tcustom\tTRUE\tTRUE\tFALSE\tTRUE\t-100\t-1\t0\t0.001\t0\t0\t31\t90\t1\t1\t1\tFALSE\t1\t0.1\t50\t0.5\tTRUE\t279511\t0.10888489240711\t0.924031176311012\t130\t2987\t12758\t144507013.493253\t50\n"
     ]
    },
    {
     "name": "stderr",
     "output_type": "stream",
     "text": [
      "[mbo] 34: learning_rate=0.109; feature_fraction=0.924; num_leaves=130; min_data_in_leaf=2987 : y = 1.45e+08 : 200.1 secs : infill_ei\n",
      "\n"
     ]
    },
    {
     "name": "stdout",
     "output_type": "stream",
     "text": [
      "Validate  51     760    103777004     105229968    \n",
      "20231031 180720\t156\t2714406\tgbdt\tbinary\tcustom\tTRUE\tTRUE\tFALSE\tTRUE\t-100\t-1\t0\t0.001\t0\t0\t31\t336\t1\t1\t1\tFALSE\t1\t0.1\t50\t0.5\tTRUE\t279511\t0.125551790570675\t0.398817350596899\t359\t22591\t13137\t147013793.603198\t51\n"
     ]
    },
    {
     "name": "stderr",
     "output_type": "stream",
     "text": [
      "[mbo] 35: learning_rate=0.126; feature_fraction=0.399; num_leaves=359; min_data_in_leaf=22591 : y = 1.47e+08 : 358.8 secs : infill_ei\n",
      "\n"
     ]
    },
    {
     "name": "stdout",
     "output_type": "stream",
     "text": [
      "Validate  52     470    100550620     105968890    \n",
      "20231031 181010\t156\t2714406\tgbdt\tbinary\tcustom\tTRUE\tTRUE\tFALSE\tTRUE\t-100\t-1\t0\t0.001\t0\t0\t31\t45\t1\t1\t1\tFALSE\t1\t0.1\t50\t0.5\tTRUE\t279511\t0.128833770345874\t0.133067864709428\t974\t5457\t12830\t134138225.887056\t52\n"
     ]
    },
    {
     "name": "stderr",
     "output_type": "stream",
     "text": [
      "[mbo] 36: learning_rate=0.129; feature_fraction=0.133; num_leaves=974; min_data_in_leaf=5457 : y = 1.34e+08 : 169.5 secs : infill_ei\n",
      "\n",
      "Saved the current state after iteration 37 in the file HT8230 (Clase 10-11, Ajustado Sem1).RDATA.\n",
      "\n"
     ]
    },
    {
     "name": "stdout",
     "output_type": "stream",
     "text": [
      "Validate  53     510    108714282     109029093    \n",
      "20231031 181335\t156\t2714406\tgbdt\tbinary\tcustom\tTRUE\tTRUE\tFALSE\tTRUE\t-100\t-1\t0\t0.001\t0\t0\t31\t48\t1\t1\t1\tFALSE\t1\t0.1\t50\t0.5\tTRUE\t279511\t0.0571398002266601\t0.665752443346846\t1021\t16604\t13236\t146506200.89955\t53\n"
     ]
    },
    {
     "name": "stderr",
     "output_type": "stream",
     "text": [
      "[mbo] 37: learning_rate=0.0571; feature_fraction=0.666; num_leaves=1021; min_data_in_leaf=16604 : y = 1.47e+08 : 203.1 secs : infill_ei\n",
      "\n"
     ]
    },
    {
     "name": "stdout",
     "output_type": "stream",
     "text": [
      "Validate  54     470    104488958     107016731    \n",
      "20231031 181637\t156\t2714406\tgbdt\tbinary\tcustom\tTRUE\tTRUE\tFALSE\tTRUE\t-100\t-1\t0\t0.001\t0\t0\t31\t36\t1\t1\t1\tFALSE\t1\t0.1\t50\t0.5\tTRUE\t279511\t0.108103123941508\t0.296785164270516\t168\t33304\t10775\t138244105.447276\t54\n"
     ]
    },
    {
     "name": "stderr",
     "output_type": "stream",
     "text": [
      "[mbo] 38: learning_rate=0.108; feature_fraction=0.297; num_leaves=168; min_data_in_leaf=33304 : y = 1.38e+08 : 181.5 secs : infill_ei\n",
      "\n"
     ]
    },
    {
     "name": "stdout",
     "output_type": "stream",
     "text": [
      "Validate  55     780    99320831     103340342     \n",
      "20231031 182154\t156\t2714406\tgbdt\tbinary\tcustom\tTRUE\tTRUE\tFALSE\tTRUE\t-100\t-1\t0\t0.001\t0\t0\t31\t374\t1\t1\t1\tFALSE\t1\t0.1\t50\t0.5\tTRUE\t279511\t0.292096829640814\t0.270888155342756\t281\t43983\t13387\t139124223.388306\t55\n"
     ]
    },
    {
     "name": "stderr",
     "output_type": "stream",
     "text": [
      "[mbo] 39: learning_rate=0.292; feature_fraction=0.271; num_leaves=281; min_data_in_leaf=43983 : y = 1.39e+08 : 316.5 secs : infill_ei\n",
      "\n",
      "Saved the current state after iteration 40 in the file HT8230 (Clase 10-11, Ajustado Sem1).RDATA.\n",
      "\n"
     ]
    },
    {
     "name": "stdout",
     "output_type": "stream",
     "text": [
      "Validate  56     800    102348756     106938748    \n",
      "20231031 182831\t156\t2714406\tgbdt\tbinary\tcustom\tTRUE\tTRUE\tFALSE\tTRUE\t-100\t-1\t0\t0.001\t0\t0\t31\t359\t1\t1\t1\tFALSE\t1\t0.1\t50\t0.5\tTRUE\t279511\t0.0924780665120291\t0.902730003955532\t903\t11552\t12400\t144559340.329835\t56\n"
     ]
    },
    {
     "name": "stderr",
     "output_type": "stream",
     "text": [
      "[mbo] 40: learning_rate=0.0925; feature_fraction=0.903; num_leaves=903; min_data_in_leaf=11552 : y = 1.45e+08 : 394.1 secs : infill_ei\n",
      "\n"
     ]
    },
    {
     "name": "stdout",
     "output_type": "stream",
     "text": [
      "Validate  57     1600    101254020     103535485    \n",
      "20231031 184633\t156\t2714406\tgbdt\tbinary\tcustom\tTRUE\tTRUE\tFALSE\tTRUE\t-100\t-1\t0\t0.001\t0\t0\t31\t1188\t1\t1\t1\tFALSE\t1\t0.1\t50\t0.5\tTRUE\t279511\t0.222619243825433\t0.607601747462694\t589\t3938\t15285\t131768738.130935\t57\n"
     ]
    },
    {
     "name": "stderr",
     "output_type": "stream",
     "text": [
      "[mbo] 41: learning_rate=0.223; feature_fraction=0.608; num_leaves=589; min_data_in_leaf=3938 : y = 1.32e+08 : 1081.1 secs : infill_ei\n",
      "\n",
      "Saved the current state after iteration 42 in the file HT8230 (Clase 10-11, Ajustado Sem1).RDATA.\n",
      "\n"
     ]
    },
    {
     "name": "stdout",
     "output_type": "stream",
     "text": [
      "Validate  58     940    98919414     103458975     \n",
      "20231031 185221\t156\t2714406\tgbdt\tbinary\tcustom\tTRUE\tTRUE\tFALSE\tTRUE\t-100\t-1\t0\t0.001\t0\t0\t31\t529\t1\t1\t1\tFALSE\t1\t0.1\t50\t0.5\tTRUE\t279511\t0.216822454386053\t0.110137457048744\t185\t8986\t14279\t135279603.698151\t58\n"
     ]
    },
    {
     "name": "stderr",
     "output_type": "stream",
     "text": [
      "[mbo] 42: learning_rate=0.217; feature_fraction=0.11; num_leaves=185; min_data_in_leaf=8986 : y = 1.35e+08 : 345.7 secs : infill_ei\n",
      "\n"
     ]
    },
    {
     "name": "stdout",
     "output_type": "stream",
     "text": [
      "Validate  59     450    98852387     103418070     \n",
      "20231031 185629\t156\t2714406\tgbdt\tbinary\tcustom\tTRUE\tTRUE\tFALSE\tTRUE\t-100\t-1\t0\t0.001\t0\t0\t31\t17\t1\t1\t1\tFALSE\t1\t0.1\t50\t0.5\tTRUE\t279511\t0.115263606182819\t0.955540002846599\t664\t8468\t13330\t139565622.188906\t59\n"
     ]
    },
    {
     "name": "stderr",
     "output_type": "stream",
     "text": [
      "[mbo] 43: learning_rate=0.115; feature_fraction=0.956; num_leaves=664; min_data_in_leaf=8468 : y = 1.4e+08 : 247.8 secs : infill_ei\n",
      "\n"
     ]
    },
    {
     "name": "stdout",
     "output_type": "stream",
     "text": [
      "Validate  60     670    101801787     106848875    \n",
      "20231031 190026\t156\t2714406\tgbdt\tbinary\tcustom\tTRUE\tTRUE\tFALSE\tTRUE\t-100\t-1\t0\t0.001\t0\t0\t31\t241\t1\t1\t1\tFALSE\t1\t0.1\t50\t0.5\tTRUE\t279511\t0.120306532064099\t0.991333544147971\t534\t26044\t14860\t144436551.724138\t60\n"
     ]
    },
    {
     "name": "stderr",
     "output_type": "stream",
     "text": [
      "[mbo] 44: learning_rate=0.12; feature_fraction=0.991; num_leaves=534; min_data_in_leaf=26044 : y = 1.44e+08 : 236.1 secs : infill_ei\n",
      "\n",
      "Saved the current state after iteration 45 in the file HT8230 (Clase 10-11, Ajustado Sem1).RDATA.\n",
      "\n"
     ]
    },
    {
     "name": "stdout",
     "output_type": "stream",
     "text": [
      "Validate  61     650    103237795     104313069    \n",
      "20231031 190511\t156\t2714406\tgbdt\tbinary\tcustom\tTRUE\tTRUE\tFALSE\tTRUE\t-100\t-1\t0\t0.001\t0\t0\t31\t221\t1\t1\t1\tFALSE\t1\t0.1\t50\t0.5\tTRUE\t279511\t0.129870841464413\t0.345546408276365\t736\t20491\t13631\t143220101.449275\t61\n"
     ]
    },
    {
     "name": "stderr",
     "output_type": "stream",
     "text": [
      "[mbo] 45: learning_rate=0.13; feature_fraction=0.346; num_leaves=736; min_data_in_leaf=20491 : y = 1.43e+08 : 281.9 secs : infill_ei\n",
      "\n"
     ]
    },
    {
     "name": "stdout",
     "output_type": "stream",
     "text": [
      "Validate  62     620    103010790     107108014    \n",
      "20231031 190852\t156\t2714406\tgbdt\tbinary\tcustom\tTRUE\tTRUE\tFALSE\tTRUE\t-100\t-1\t0\t0.001\t0\t0\t31\t201\t1\t1\t1\tFALSE\t1\t0.1\t50\t0.5\tTRUE\t279511\t0.14931170769316\t0.63608184173622\t225\t35605\t12880\t145584047.976012\t62\n"
     ]
    },
    {
     "name": "stderr",
     "output_type": "stream",
     "text": [
      "[mbo] 46: learning_rate=0.149; feature_fraction=0.636; num_leaves=225; min_data_in_leaf=35605 : y = 1.46e+08 : 221.0 secs : infill_ei\n",
      "\n"
     ]
    },
    {
     "name": "stdout",
     "output_type": "stream",
     "text": [
      "Validate  63     470    104505046     107486721    \n",
      "20231031 191137\t156\t2714406\tgbdt\tbinary\tcustom\tTRUE\tTRUE\tFALSE\tTRUE\t-100\t-1\t0\t0.001\t0\t0\t31\t31\t1\t1\t1\tFALSE\t1\t0.1\t50\t0.5\tTRUE\t279511\t0.0860455615108918\t0.66525449579991\t204\t29904\t13215\t145444905.047476\t63\n"
     ]
    },
    {
     "name": "stderr",
     "output_type": "stream",
     "text": [
      "[mbo] 47: learning_rate=0.086; feature_fraction=0.665; num_leaves=204; min_data_in_leaf=29904 : y = 1.45e+08 : 164.1 secs : infill_ei\n",
      "\n",
      "Saved the current state after iteration 48 in the file HT8230 (Clase 10-11, Ajustado Sem1).RDATA.\n",
      "\n"
     ]
    },
    {
     "name": "stdout",
     "output_type": "stream",
     "text": [
      "Validate  64     690    102050513     104638260    \n",
      "20231031 191555\t156\t2714406\tgbdt\tbinary\tcustom\tTRUE\tTRUE\tFALSE\tTRUE\t-100\t-1\t0\t0.001\t0\t0\t31\t271\t1\t1\t1\tFALSE\t1\t0.1\t50\t0.5\tTRUE\t279511\t0.153472472591604\t0.203979377763206\t540\t17870\t13186\t147192312.843578\t64\n"
     ]
    },
    {
     "name": "stderr",
     "output_type": "stream",
     "text": [
      "[mbo] 48: learning_rate=0.153; feature_fraction=0.204; num_leaves=540; min_data_in_leaf=17870 : y = 1.47e+08 : 255.2 secs : infill_ei\n",
      "\n"
     ]
    },
    {
     "name": "stdout",
     "output_type": "stream",
     "text": [
      "Validate  65     730    102939376     105260791    \n",
      "20231031 191800\t156\t2714406\tgbdt\tbinary\tcustom\tTRUE\tTRUE\tFALSE\tTRUE\t-100\t-1\t0\t0.001\t0\t0\t31\t314\t1\t1\t1\tFALSE\t1\t0.1\t50\t0.5\tTRUE\t279511\t0.18573353026993\t0.0178510419926831\t1013\t40888\t15002\t132513176.411794\t65\n"
     ]
    },
    {
     "name": "stderr",
     "output_type": "stream",
     "text": [
      "[mbo] 49: learning_rate=0.186; feature_fraction=0.0179; num_leaves=1013; min_data_in_leaf=40888 : y = 1.33e+08 : 124.7 secs : infill_ei\n",
      "\n"
     ]
    },
    {
     "name": "stdout",
     "output_type": "stream",
     "text": [
      "Validate  66     1470    98380172     99361435    \n",
      "20231031 192803\t156\t2714406\tgbdt\tbinary\tcustom\tTRUE\tTRUE\tFALSE\tTRUE\t-100\t-1\t0\t0.001\t0\t0\t31\t1066\t1\t1\t1\tFALSE\t1\t0.1\t50\t0.5\tTRUE\t279511\t0.286320794431354\t0.291417681565331\t145\t3266\t11911\t136784159.42029\t66\n"
     ]
    },
    {
     "name": "stderr",
     "output_type": "stream",
     "text": [
      "[mbo] 50: learning_rate=0.286; feature_fraction=0.291; num_leaves=145; min_data_in_leaf=3266 : y = 1.37e+08 : 602.4 secs : infill_ei\n",
      "\n",
      "Saved the final state in the file HT8230 (Clase 10-11, Ajustado Sem1).RDATA\n",
      "\n",
      "Saved the final state in the file HT8230 (Clase 10-11, Ajustado Sem1).RDATA\n",
      "\n"
     ]
    },
    {
     "name": "stdout",
     "output_type": "stream",
     "text": [
      "\n",
      "\n",
      "La optimizacion Bayesiana ha terminado\n"
     ]
    }
   ],
   "source": [
    "# inicio la optimizacion bayesiana\n",
    "if (!file.exists(kbayesiana)) {\n",
    "  run <- mbo(obj.fun, learner = surr.km, control = ctrl)\n",
    "} else {\n",
    "  run <- mboContinue(kbayesiana) # retomo en caso que ya exista\n",
    "}\n",
    "\n",
    "\n",
    "cat(\"\\n\\nLa optimizacion Bayesiana ha terminado\\n\")\n"
   ]
  }
 ],
 "metadata": {
  "kernelspec": {
   "display_name": "R",
   "language": "R",
   "name": "ir"
  },
  "language_info": {
   "codemirror_mode": "r",
   "file_extension": ".r",
   "mimetype": "text/x-r-source",
   "name": "R",
   "pygments_lexer": "r",
   "version": "4.3.1"
  },
  "orig_nbformat": 4
 },
 "nbformat": 4,
 "nbformat_minor": 2
}
