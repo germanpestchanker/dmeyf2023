{
 "cells": [
  {
   "cell_type": "markdown",
   "metadata": {},
   "source": [
    "## Importación de Librerías"
   ]
  },
  {
   "cell_type": "markdown",
   "metadata": {},
   "source": [
    "Este script esta pensado para correr en Google Cloud\n",
    "- 8 vCPU\n",
    "- 128 GB memoria RAM\n",
    "\n",
    "- se entrena con clase_binaria2  POS =  { BAJA+1, BAJA+2 }\n",
    "- Optimizacion Bayesiana de hiperparametros de  lightgbm,"
   ]
  },
  {
   "cell_type": "code",
   "execution_count": 1,
   "metadata": {
    "vscode": {
     "languageId": "r"
    }
   },
   "outputs": [
    {
     "data": {
      "text/html": [
       "<table class=\"dataframe\">\n",
       "<caption>A matrix: 2 × 6 of type dbl</caption>\n",
       "<thead>\n",
       "\t<tr><th></th><th scope=col>used</th><th scope=col>(Mb)</th><th scope=col>gc trigger</th><th scope=col>(Mb)</th><th scope=col>max used</th><th scope=col>(Mb)</th></tr>\n",
       "</thead>\n",
       "<tbody>\n",
       "\t<tr><th scope=row>Ncells</th><td> 631888</td><td>33.8</td><td>1412190</td><td>75.5</td><td> 984950</td><td>52.7</td></tr>\n",
       "\t<tr><th scope=row>Vcells</th><td>1170403</td><td> 9.0</td><td>8388608</td><td>64.0</td><td>1815603</td><td>13.9</td></tr>\n",
       "</tbody>\n",
       "</table>\n"
      ],
      "text/latex": [
       "A matrix: 2 × 6 of type dbl\n",
       "\\begin{tabular}{r|llllll}\n",
       "  & used & (Mb) & gc trigger & (Mb) & max used & (Mb)\\\\\n",
       "\\hline\n",
       "\tNcells &  631888 & 33.8 & 1412190 & 75.5 &  984950 & 52.7\\\\\n",
       "\tVcells & 1170403 &  9.0 & 8388608 & 64.0 & 1815603 & 13.9\\\\\n",
       "\\end{tabular}\n"
      ],
      "text/markdown": [
       "\n",
       "A matrix: 2 × 6 of type dbl\n",
       "\n",
       "| <!--/--> | used | (Mb) | gc trigger | (Mb) | max used | (Mb) |\n",
       "|---|---|---|---|---|---|---|\n",
       "| Ncells |  631888 | 33.8 | 1412190 | 75.5 |  984950 | 52.7 |\n",
       "| Vcells | 1170403 |  9.0 | 8388608 | 64.0 | 1815603 | 13.9 |\n",
       "\n"
      ],
      "text/plain": [
       "       used    (Mb) gc trigger (Mb) max used (Mb)\n",
       "Ncells  631888 33.8 1412190    75.5  984950  52.7\n",
       "Vcells 1170403  9.0 8388608    64.0 1815603  13.9"
      ]
     },
     "metadata": {},
     "output_type": "display_data"
    }
   ],
   "source": [
    "# limpio la memoria\n",
    "rm(list = ls()) # remove all objects\n",
    "gc() # garbage collection"
   ]
  },
  {
   "cell_type": "code",
   "execution_count": 2,
   "metadata": {
    "vscode": {
     "languageId": "r"
    }
   },
   "outputs": [
    {
     "name": "stderr",
     "output_type": "stream",
     "text": [
      "Loading required package: data.table\n",
      "\n"
     ]
    },
    {
     "name": "stderr",
     "output_type": "stream",
     "text": [
      "Loading required package: rlist\n",
      "\n",
      "Loading required package: lightgbm\n",
      "\n"
     ]
    }
   ],
   "source": [
    "require(\"data.table\")\n",
    "require(\"rlist\")\n",
    "require(\"lightgbm\")"
   ]
  },
  {
   "cell_type": "code",
   "execution_count": 3,
   "metadata": {
    "vscode": {
     "languageId": "r"
    }
   },
   "outputs": [
    {
     "name": "stderr",
     "output_type": "stream",
     "text": [
      "Loading required package: DiceKriging\n",
      "\n"
     ]
    },
    {
     "name": "stderr",
     "output_type": "stream",
     "text": [
      "Loading required package: mlrMBO\n",
      "\n",
      "Loading required package: mlr\n",
      "\n",
      "Loading required package: ParamHelpers\n",
      "\n",
      "Warning message: 'mlr' is in 'maintenance-only' mode since July 2019.\n",
      "Future development will only happen in 'mlr3'\n",
      "(<https://mlr3.mlr-org.com>). Due to the focus on 'mlr3' there might be\n",
      "uncaught bugs meanwhile in {mlr} - please consider switching.\n",
      "\n",
      "Loading required package: smoof\n",
      "\n",
      "Loading required package: checkmate\n",
      "\n",
      "\n",
      "Attaching package: ‘checkmate’\n",
      "\n",
      "\n",
      "The following object is masked from ‘package:DiceKriging’:\n",
      "\n",
      "    checkNames\n",
      "\n",
      "\n"
     ]
    }
   ],
   "source": [
    "# paquetes necesarios para la Bayesian Optimization\n",
    "require(\"DiceKriging\")\n",
    "require(\"mlrMBO\")\n",
    "\n",
    "# para que se detenga ante el primer error\n",
    "# y muestre el stack de funciones invocadas\n",
    "options(error = function() {\n",
    "  traceback(20)\n",
    "  options(error = NULL)\n",
    "  stop(\"exiting after script error\")\n",
    "})"
   ]
  },
  {
   "cell_type": "markdown",
   "metadata": {},
   "source": [
    "# Definición de Parametros"
   ]
  },
  {
   "cell_type": "code",
   "execution_count": 4,
   "metadata": {
    "vscode": {
     "languageId": "r"
    }
   },
   "outputs": [],
   "source": [
    "# defino los parametros de la corrida, en una lista, la variable global  PARAM\n",
    "#  muy pronto esto se leera desde un archivo formato .yaml\n",
    "PARAM <- list()\n",
    "\n",
    "PARAM$experimento <- \"KA8240 (Clase 10-11, Ajustado sem2)\"\n",
    "\n",
    "PARAM$input$dataset <- \"datasets/competencia_03_infla.csv.gz\"\n",
    "\n",
    "# los meses en los que vamos a entrenar\n",
    "#  mucha magia emerger de esta eleccion\n",
    "PARAM$input$testing <- c(202107) # Último mes, lo más cercano al 202109 de kaggle\n",
    "PARAM$input$validation <- c(202106)\n",
    "PARAM$input$training <- c(202105, 202104, 202103, 202102, 202101,\n",
    " 202012, 202011, 202010, 202009, 202008, 202002, 202001, 201912, 201911,\n",
    " 201910, 201909, 201908, 201907) #Tal como lo pide el pdf de la materia\n",
    "\n",
    "# un undersampling de 0.1  toma solo el 10% de los CONTINUA\n",
    "PARAM$trainingstrategy$undersampling <- 1.0\n",
    "PARAM$trainingstrategy$semilla_azar <- c(279511, 279523, 279541, 279551, 279571)  # Aqui poner su  primer  semilla/ pongo todas mis semillas\n",
    "\n",
    "PARAM$hyperparametertuning$POS_ganancia <- 273000\n",
    "PARAM$hyperparametertuning$NEG_ganancia <- -7000\n",
    "\n",
    "# Aqui poner su segunda semilla\n",
    "PARAM$lgb_semilla <- 279523"
   ]
  },
  {
   "cell_type": "code",
   "execution_count": 5,
   "metadata": {
    "vscode": {
     "languageId": "r"
    }
   },
   "outputs": [],
   "source": [
    "# Hiperparametros FIJOS de  lightgbm\n",
    "PARAM$lgb_basicos <- list(\n",
    "  boosting = \"gbdt\", # puede ir  dart  , ni pruebe random_forest\n",
    "  objective = \"binary\",\n",
    "  metric = \"custom\",\n",
    "  first_metric_only = TRUE,\n",
    "  boost_from_average = TRUE,\n",
    "  feature_pre_filter = FALSE,\n",
    "  force_row_wise = TRUE, # para reducir warnings\n",
    "  verbosity = -100,\n",
    "  max_depth = -1L, # -1 significa no limitar,  por ahora lo dejo fijo\n",
    "  min_gain_to_split = 0.0, # min_gain_to_split >= 0.0\n",
    "  min_sum_hessian_in_leaf = 0.001, #  min_sum_hessian_in_leaf >= 0.0\n",
    "  lambda_l1 = 0.0, # lambda_l1 >= 0.0\n",
    "  lambda_l2 = 0.0, # lambda_l2 >= 0.0\n",
    "  max_bin = 31L, # lo debo dejar fijo, no participa de la BO\n",
    "  num_iterations = 9999, # un numero muy grande, lo limita early_stopping_rounds\n",
    "\n",
    "  bagging_fraction = 1.0, # 0.0 < bagging_fraction <= 1.0\n",
    "  pos_bagging_fraction = 1.0, # 0.0 < pos_bagging_fraction <= 1.0\n",
    "  neg_bagging_fraction = 1.0, # 0.0 < neg_bagging_fraction <= 1.0\n",
    "  is_unbalance = FALSE, #\n",
    "  scale_pos_weight = 1.0, # scale_pos_weight > 0.0\n",
    "\n",
    "  drop_rate = 0.1, # 0.0 < neg_bagging_fraction <= 1.0\n",
    "  max_drop = 50, # <=0 means no limit\n",
    "  skip_drop = 0.5, # 0.0 <= skip_drop <= 1.0\n",
    "\n",
    "  extra_trees = TRUE, # Magic Sauce\n",
    "\n",
    "  seed = PARAM$lgb_semilla\n",
    ")"
   ]
  },
  {
   "cell_type": "code",
   "execution_count": 6,
   "metadata": {
    "vscode": {
     "languageId": "r"
    }
   },
   "outputs": [],
   "source": [
    "# Aqui se cargan los hiperparametros que se optimizan\n",
    "#  en la Bayesian Optimization\n",
    "PARAM$bo_lgb <- makeParamSet(\n",
    "  makeNumericParam(\"learning_rate\", lower = 0.02, upper = 0.3),\n",
    "  makeNumericParam(\"feature_fraction\", lower = 0.01, upper = 1.0),\n",
    "  makeIntegerParam(\"num_leaves\", lower = 8L, upper = 1024L),\n",
    "  makeIntegerParam(\"min_data_in_leaf\", lower = 100L, upper = 50000L)\n",
    ")\n",
    "\n",
    "# si usted es ambicioso, y tiene paciencia, podria subir este valor a 100\n",
    "PARAM$bo_iteraciones <- 50 # iteraciones de la Optimizacion Bayesiana"
   ]
  },
  {
   "cell_type": "code",
   "execution_count": 7,
   "metadata": {
    "vscode": {
     "languageId": "r"
    }
   },
   "outputs": [],
   "source": [
    "# graba a un archivo los componentes de lista\n",
    "# para el primer registro, escribe antes los titulos\n",
    "\n",
    "loguear <- function(\n",
    "    reg, arch = NA, folder = \"./exp/\",\n",
    "    ext = \".txt\", verbose = TRUE) {\n",
    "  archivo <- arch\n",
    "  if (is.na(arch)) archivo <- paste0(folder, substitute(reg), ext)\n",
    "\n",
    "  if (!file.exists(archivo)) # Escribo los titulos\n",
    "    {\n",
    "      linea <- paste0(\n",
    "        \"fecha\\t\",\n",
    "        paste(list.names(reg), collapse = \"\\t\"), \"\\n\"\n",
    "      )\n",
    "\n",
    "      cat(linea, file = archivo)\n",
    "    }\n",
    "\n",
    "  linea <- paste0(\n",
    "    format(Sys.time(), \"%Y%m%d %H%M%S\"), \"\\t\", # la fecha y hora\n",
    "    gsub(\", \", \"\\t\", toString(reg)), \"\\n\"\n",
    "  )\n",
    "\n",
    "  cat(linea, file = archivo, append = TRUE) # grabo al archivo\n",
    "\n",
    "  if (verbose) cat(linea) # imprimo por pantalla\n",
    "}"
   ]
  },
  {
   "cell_type": "code",
   "execution_count": 8,
   "metadata": {
    "vscode": {
     "languageId": "r"
    }
   },
   "outputs": [],
   "source": [
    "#------------------------------------------------------------------------------\n",
    "GLOBAL_arbol <- 0L\n",
    "GLOBAL_gan_max <- -Inf\n",
    "vcant_optima <- c()\n",
    "\n",
    "fganancia_lgbm_meseta <- function(probs, datos) {\n",
    "  vlabels <- get_field(datos, \"label\")\n",
    "  vpesos <- get_field(datos, \"weight\")\n",
    "\n",
    "\n",
    "  GLOBAL_arbol <<- GLOBAL_arbol + 1\n",
    "  tbl <- as.data.table(list(\n",
    "    \"prob\" = probs,\n",
    "    \"gan\" = ifelse(vlabels == 1 & vpesos > 1,\n",
    "      PARAM$hyperparametertuning$POS_ganancia,\n",
    "      PARAM$hyperparametertuning$NEG_ganancia  )\n",
    "  ))\n",
    "\n",
    "  setorder(tbl, -prob)\n",
    "  tbl[, posicion := .I]\n",
    "  tbl[, gan_acum := cumsum(gan)]\n",
    "\n",
    "  tbl[, gan_suavizada :=\n",
    "    frollmean(\n",
    "      x = gan_acum, n = 2001, align = \"center\",\n",
    "      na.rm = TRUE, hasNA = TRUE\n",
    "    )]\n",
    "\n",
    "  gan <- tbl[, max(gan_suavizada, na.rm = TRUE)]\n",
    "\n",
    "\n",
    "  pos <- which.max(tbl[, gan_suavizada])\n",
    "  vcant_optima <<- c(vcant_optima, pos)\n",
    "\n",
    "  if (GLOBAL_arbol %% 10 == 0) {\n",
    "    if (gan > GLOBAL_gan_max) GLOBAL_gan_max <<- gan\n",
    "\n",
    "    cat(\"\\r\")\n",
    "    cat(\n",
    "      \"Validate \", GLOBAL_iteracion, \" \", \" \",\n",
    "      GLOBAL_arbol, \"  \", gan, \"   \", GLOBAL_gan_max, \"   \"\n",
    "    )\n",
    "  }\n",
    "\n",
    "\n",
    "  return(list(\n",
    "    \"name\" = \"ganancia\",\n",
    "    \"value\" = gan,\n",
    "    \"higher_better\" = TRUE\n",
    "  ))\n",
    "}"
   ]
  },
  {
   "cell_type": "code",
   "execution_count": 9,
   "metadata": {
    "vscode": {
     "languageId": "r"
    }
   },
   "outputs": [],
   "source": [
    "#------------------------------------------------------------------------------\n",
    "\n",
    "EstimarGanancia_lightgbm <- function(x) {\n",
    "  gc()\n",
    "  GLOBAL_iteracion <<- GLOBAL_iteracion + 1L\n",
    "\n",
    "  # hago la union de los parametros basicos y los moviles que vienen en x\n",
    "  param_completo <- c(PARAM$lgb_basicos, x)\n",
    "\n",
    "  param_completo$early_stopping_rounds <-\n",
    "    as.integer(400 + 4 / param_completo$learning_rate)\n",
    "\n",
    "  GLOBAL_arbol <<- 0L\n",
    "  GLOBAL_gan_max <<- -Inf\n",
    "  vcant_optima <<- c()\n",
    "  set.seed(PARAM$lgb_semilla, kind = \"L'Ecuyer-CMRG\")\n",
    "  modelo_train <- lgb.train(\n",
    "    data = dtrain,\n",
    "    valids = list(valid = dvalidate),\n",
    "    eval = fganancia_lgbm_meseta,\n",
    "    param = param_completo,\n",
    "    verbose = -100\n",
    "  )\n",
    "\n",
    "  cat(\"\\n\")\n",
    "\n",
    "  cant_corte <- vcant_optima[modelo_train$best_iter]\n",
    "\n",
    "  # aplico el modelo a testing y calculo la ganancia\n",
    "  prediccion <- predict(\n",
    "    modelo_train,\n",
    "    data.matrix(dataset_test[, campos_buenos, with = FALSE])\n",
    "  )\n",
    "\n",
    "  tbl <- copy(dataset_test[, list(\"gan\" = ifelse(clase_ternaria == \"BAJA+2\",\n",
    "    PARAM$hyperparametertuning$POS_ganancia, \n",
    "    PARAM$hyperparametertuning$NEG_ganancia))])\n",
    "\n",
    "  tbl[, prob := prediccion]\n",
    "  setorder(tbl, -prob)\n",
    "  tbl[, gan_acum := cumsum(gan)]\n",
    "  tbl[, gan_suavizada := frollmean(\n",
    "    x = gan_acum, n = 2001,\n",
    "    align = \"center\", na.rm = TRUE, hasNA = TRUE\n",
    "  )]\n",
    "\n",
    "\n",
    "  ganancia_test <- tbl[, max(gan_suavizada, na.rm = TRUE)]\n",
    "\n",
    "  cantidad_test_normalizada <- which.max(tbl[, gan_suavizada])\n",
    "\n",
    "  rm(tbl)\n",
    "  gc()\n",
    "\n",
    "  ganancia_test_normalizada <- ganancia_test\n",
    "\n",
    "\n",
    "  # voy grabando las mejores column importance\n",
    "  if (ganancia_test_normalizada > GLOBAL_gananciamax) {\n",
    "    GLOBAL_gananciamax <<- ganancia_test_normalizada\n",
    "    tb_importancia <- as.data.table(lgb.importance(modelo_train))\n",
    "\n",
    "    fwrite(tb_importancia,\n",
    "      file = paste0(\"impo_\", sprintf(\"%03d\", GLOBAL_iteracion), \".txt\"),\n",
    "      sep = \"\\t\"\n",
    "    )\n",
    "\n",
    "    rm(tb_importancia)\n",
    "  }\n",
    "\n",
    "\n",
    "  # logueo final\n",
    "  ds <- list(\"cols\" = ncol(dtrain), \"rows\" = nrow(dtrain))\n",
    "  xx <- c(ds, copy(param_completo))\n",
    "\n",
    "  xx$early_stopping_rounds <- NULL\n",
    "  xx$num_iterations <- modelo_train$best_iter\n",
    "  xx$estimulos <- cantidad_test_normalizada\n",
    "  xx$ganancia <- ganancia_test_normalizada\n",
    "  xx$iteracion_bayesiana <- GLOBAL_iteracion\n",
    "\n",
    "  loguear(xx, arch = \"BO_log.txt\")\n",
    "\n",
    "  set.seed(PARAM$lgb_semilla, kind = \"L'Ecuyer-CMRG\")\n",
    "  return(ganancia_test_normalizada)\n",
    "}"
   ]
  },
  {
   "cell_type": "markdown",
   "metadata": {},
   "source": [
    "# Aquí empieza el programa"
   ]
  },
  {
   "cell_type": "code",
   "execution_count": 10,
   "metadata": {
    "vscode": {
     "languageId": "r"
    }
   },
   "outputs": [],
   "source": [
    "# Aqui empieza el programa\n",
    "\n",
    "# Aqui se debe poner la carpeta de la computadora local\n",
    "setwd(\"~/buckets/b1/\") # Establezco el Working Directory\n",
    "\n",
    "# cargo el dataset donde voy a entrenar el modelo\n",
    "dataset <- fread(PARAM$input$dataset)"
   ]
  },
  {
   "cell_type": "code",
   "execution_count": 11,
   "metadata": {
    "vscode": {
     "languageId": "r"
    }
   },
   "outputs": [],
   "source": [
    "# creo la carpeta donde va el experimento\n",
    "dir.create(\"./exp/\", showWarnings = FALSE)\n",
    "dir.create(paste0(\"./exp/\", PARAM$experimento, \"/\"), showWarnings = FALSE)\n",
    "\n",
    "# Establezco el Working Directory DEL EXPERIMENTO\n",
    "setwd(paste0(\"./exp/\", PARAM$experimento, \"/\"))\n",
    "\n",
    "# en estos archivos quedan los resultados\n",
    "kbayesiana <- paste0(PARAM$experimento, \".RDATA\")\n",
    "klog <- paste0(PARAM$experimento, \".txt\")\n"
   ]
  },
  {
   "cell_type": "code",
   "execution_count": 12,
   "metadata": {
    "vscode": {
     "languageId": "r"
    }
   },
   "outputs": [],
   "source": [
    "# Catastrophe Analysis  -------------------------------------------------------\n",
    "# deben ir cosas de este estilo\n",
    "#   dataset[foto_mes == 202006, active_quarter := NA]\n",
    "\n",
    "# Data Drifting\n",
    "# por ahora, no hago nada\n",
    "\n",
    "\n",
    "# Feature Engineering Historico  ----------------------------------------------\n",
    "#   aqui deben calcularse los  lags y  lag_delta\n",
    "#   Sin lags no hay paraiso !  corta la bocha"
   ]
  },
  {
   "cell_type": "code",
   "execution_count": null,
   "metadata": {
    "vscode": {
     "languageId": "r"
    }
   },
   "outputs": [],
   "source": []
  },
  {
   "cell_type": "code",
   "execution_count": 13,
   "metadata": {
    "vscode": {
     "languageId": "r"
    }
   },
   "outputs": [],
   "source": [
    "# ahora SI comienza la optimizacion Bayesiana\n",
    "\n",
    "GLOBAL_iteracion <- 0 # inicializo la variable global\n",
    "GLOBAL_gananciamax <- -1 # inicializo la variable global\n",
    "\n",
    "# si ya existe el archivo log, traigo hasta donde llegue\n",
    "if (file.exists(klog)) {\n",
    "  tabla_log <- fread(klog)\n",
    "  GLOBAL_iteracion <- nrow(tabla_log)\n",
    "  GLOBAL_gananciamax <- tabla_log[, max(ganancia)]\n",
    "}\n"
   ]
  },
  {
   "cell_type": "code",
   "execution_count": 14,
   "metadata": {
    "vscode": {
     "languageId": "r"
    }
   },
   "outputs": [],
   "source": [
    "# paso la clase a binaria que tome valores {0,1}  enteros\n",
    "dataset[, clase01 := ifelse(clase_ternaria == \"CONTINUA\", 0L, 1L)]\n",
    "\n",
    "\n",
    "# los campos que se van a utilizar\n",
    "campos_buenos <- setdiff(\n",
    "  colnames(dataset),\n",
    "  c(\"clase_ternaria\", \"clase01\", \"azar\", \"training\")\n",
    ")"
   ]
  },
  {
   "cell_type": "code",
   "execution_count": 15,
   "metadata": {
    "vscode": {
     "languageId": "r"
    }
   },
   "outputs": [],
   "source": [
    "# defino los datos que forma parte del training\n",
    "# aqui se hace el undersampling de los CONTINUA\n",
    "set.seed(PARAM$trainingstrategy$semilla_azar)\n",
    "dataset[, azar := runif(nrow(dataset))]\n",
    "dataset[, training := 0L]\n",
    "dataset[\n",
    "  foto_mes %in% PARAM$input$training &\n",
    "    (azar <= PARAM$trainingstrategy$undersampling | clase_ternaria %in% c(\"BAJA+1\", \"BAJA+2\")),\n",
    "  training := 1L\n",
    "]"
   ]
  },
  {
   "cell_type": "code",
   "execution_count": 16,
   "metadata": {
    "vscode": {
     "languageId": "r"
    }
   },
   "outputs": [],
   "source": [
    "# dejo los datos en el formato que necesita LightGBM\n",
    "dtrain <- lgb.Dataset(\n",
    "  data = data.matrix(dataset[training == 1L, campos_buenos, with = FALSE]),\n",
    "  label = dataset[training == 1L, clase01],\n",
    "  weight = dataset[training == 1L, \n",
    "    ifelse(clase_ternaria == \"BAJA+2\", 1.0000001, \n",
    "      ifelse(clase_ternaria == \"BAJA+1\", 1.0, 1.0))],\n",
    "  free_raw_data = FALSE\n",
    ")"
   ]
  },
  {
   "cell_type": "code",
   "execution_count": 17,
   "metadata": {
    "vscode": {
     "languageId": "r"
    }
   },
   "outputs": [],
   "source": [
    "# defino los datos que forman parte de validation\n",
    "#  no hay undersampling\n",
    "dataset[, validation := 0L]\n",
    "dataset[ foto_mes %in% PARAM$input$validation,  validation := 1L]\n",
    "\n",
    "dvalidate <- lgb.Dataset(\n",
    "  data = data.matrix(dataset[validation == 1L, campos_buenos, with = FALSE]),\n",
    "  label = dataset[validation == 1L, clase01],\n",
    "  weight = dataset[validation == 1L, \n",
    "    ifelse(clase_ternaria == \"BAJA+2\", 1.0000001, \n",
    "      ifelse(clase_ternaria == \"BAJA+1\", 1.0, 1.0))],\n",
    "  free_raw_data = FALSE\n",
    ")"
   ]
  },
  {
   "cell_type": "code",
   "execution_count": 18,
   "metadata": {
    "vscode": {
     "languageId": "r"
    }
   },
   "outputs": [],
   "source": [
    "# defino los datos de testing\n",
    "dataset[, testing := 0L]\n",
    "dataset[ foto_mes %in% PARAM$input$testing,  testing := 1L]\n",
    "\n",
    "\n",
    "dataset_test <- dataset[testing == 1, ]"
   ]
  },
  {
   "cell_type": "code",
   "execution_count": 19,
   "metadata": {
    "vscode": {
     "languageId": "r"
    }
   },
   "outputs": [
    {
     "data": {
      "text/html": [
       "<table class=\"dataframe\">\n",
       "<caption>A matrix: 2 × 6 of type dbl</caption>\n",
       "<thead>\n",
       "\t<tr><th></th><th scope=col>used</th><th scope=col>(Mb)</th><th scope=col>gc trigger</th><th scope=col>(Mb)</th><th scope=col>max used</th><th scope=col>(Mb)</th></tr>\n",
       "</thead>\n",
       "<tbody>\n",
       "\t<tr><th scope=row>Ncells</th><td>  2238702</td><td> 119.6</td><td>   4351991</td><td>  232.5</td><td>   2938842</td><td>  157.0</td></tr>\n",
       "\t<tr><th scope=row>Vcells</th><td>476928388</td><td>3638.7</td><td>1399159448</td><td>10674.8</td><td>1748948564</td><td>13343.5</td></tr>\n",
       "</tbody>\n",
       "</table>\n"
      ],
      "text/latex": [
       "A matrix: 2 × 6 of type dbl\n",
       "\\begin{tabular}{r|llllll}\n",
       "  & used & (Mb) & gc trigger & (Mb) & max used & (Mb)\\\\\n",
       "\\hline\n",
       "\tNcells &   2238702 &  119.6 &    4351991 &   232.5 &    2938842 &   157.0\\\\\n",
       "\tVcells & 476928388 & 3638.7 & 1399159448 & 10674.8 & 1748948564 & 13343.5\\\\\n",
       "\\end{tabular}\n"
      ],
      "text/markdown": [
       "\n",
       "A matrix: 2 × 6 of type dbl\n",
       "\n",
       "| <!--/--> | used | (Mb) | gc trigger | (Mb) | max used | (Mb) |\n",
       "|---|---|---|---|---|---|---|\n",
       "| Ncells |   2238702 |  119.6 |    4351991 |   232.5 |    2938842 |   157.0 |\n",
       "| Vcells | 476928388 | 3638.7 | 1399159448 | 10674.8 | 1748948564 | 13343.5 |\n",
       "\n"
      ],
      "text/plain": [
       "       used      (Mb)   gc trigger (Mb)    max used   (Mb)   \n",
       "Ncells   2238702  119.6    4351991   232.5    2938842   157.0\n",
       "Vcells 476928388 3638.7 1399159448 10674.8 1748948564 13343.5"
      ]
     },
     "metadata": {},
     "output_type": "display_data"
    }
   ],
   "source": [
    "# libero espacio\n",
    "rm(dataset)\n",
    "gc()"
   ]
  },
  {
   "cell_type": "code",
   "execution_count": 20,
   "metadata": {
    "vscode": {
     "languageId": "r"
    }
   },
   "outputs": [],
   "source": [
    "# Aqui comienza la configuracion de la Bayesian Optimization\n",
    "funcion_optimizar <- EstimarGanancia_lightgbm # la funcion que voy a maximizar\n",
    "\n",
    "configureMlr(show.learner.output = FALSE)\n",
    "\n",
    "# configuro la busqueda bayesiana,  los hiperparametros que se van a optimizar\n",
    "# por favor, no desesperarse por lo complejo\n",
    "obj.fun <- makeSingleObjectiveFunction(\n",
    "  fn = funcion_optimizar, # la funcion que voy a maximizar\n",
    "  minimize = FALSE, # estoy Maximizando la ganancia\n",
    "  noisy = TRUE,\n",
    "  par.set = PARAM$bo_lgb, # definido al comienzo del programa\n",
    "  has.simple.signature = FALSE # paso los parametros en una lista\n",
    ")\n",
    "\n",
    "# cada 600 segundos guardo el resultado intermedio\n",
    "ctrl <- makeMBOControl(\n",
    "  save.on.disk.at.time = 600, # se graba cada 600 segundos\n",
    "  save.file.path = kbayesiana\n",
    ") # se graba cada 600 segundos\n",
    "\n",
    "# indico la cantidad de iteraciones que va a tener la Bayesian Optimization\n",
    "ctrl <- setMBOControlTermination(\n",
    "  ctrl,\n",
    "  iters = PARAM$bo_iteraciones\n",
    ") # cantidad de iteraciones\n",
    "\n",
    "# defino el método estandar para la creacion de los puntos iniciales,\n",
    "# los \"No Inteligentes\"\n",
    "ctrl <- setMBOControlInfill(ctrl, crit = makeMBOInfillCritEI())\n",
    "\n",
    "\n",
    "# establezco la funcion que busca el maximo\n",
    "surr.km <- makeLearner(\n",
    "  \"regr.km\",\n",
    "  predict.type = \"se\",\n",
    "  covtype = \"matern3_2\",\n",
    "  control = list(trace = TRUE)\n",
    ")"
   ]
  },
  {
   "cell_type": "code",
   "execution_count": 21,
   "metadata": {
    "vscode": {
     "languageId": "r"
    }
   },
   "outputs": [
    {
     "name": "stderr",
     "output_type": "stream",
     "text": [
      "Computing y column(s) for design. Not provided.\n",
      "\n"
     ]
    },
    {
     "name": "stdout",
     "output_type": "stream",
     "text": [
      "Validate  1     770    102544746     107850630    \n",
      "20231031 195352\t156\t2714406\tgbdt\tbinary\tcustom\tTRUE\tTRUE\tFALSE\tTRUE\t-100\t-1\t0\t0.001\t0\t0\t31\t342\t1\t1\t1\tFALSE\t1\t0.1\t50\t0.5\tTRUE\t279523\t0.13694120913744\t0.511200065682206\t759\t20645\t11049\t141701937.531234\t1\n",
      "Validate  2     460    105090276     109235406    \n",
      "20231031 195738\t156\t2714406\tgbdt\tbinary\tcustom\tTRUE\tTRUE\tFALSE\tTRUE\t-100\t-1\t0\t0.001\t0\t0\t31\t32\t1\t1\t1\tFALSE\t1\t0.1\t50\t0.5\tTRUE\t279523\t0.10871455284534\t0.383395616570779\t371\t38535\t13936\t141153387.306347\t2\n",
      "Validate  3     470    102413624     111242104    \n",
      "20231031 200106\t156\t2714406\tgbdt\tbinary\tcustom\tTRUE\tTRUE\tFALSE\tTRUE\t-100\t-1\t0\t0.001\t0\t0\t31\t48\t1\t1\t1\tFALSE\t1\t0.1\t50\t0.5\tTRUE\t279523\t0.153177819112316\t0.276715104630857\t621\t15235\t14058\t142587523.238381\t3\n",
      "Validate  4     580    100970393     105107155    \n",
      "20231031 200435\t156\t2714406\tgbdt\tbinary\tcustom\tTRUE\tTRUE\tFALSE\tTRUE\t-100\t-1\t0\t0.001\t0\t0\t31\t168\t1\t1\t1\tFALSE\t1\t0.1\t50\t0.5\tTRUE\t279523\t0.271073784258333\t0.78185350669577\t116\t34014\t11876\t145912897.551224\t4\n",
      "Validate  5     1060    103421054     107294373    \n",
      "20231031 201516\t156\t2714406\tgbdt\tbinary\tcustom\tTRUE\tTRUE\tFALSE\tTRUE\t-100\t-1\t0\t0.001\t0\t0\t31\t646\t1\t1\t1\tFALSE\t1\t0.1\t50\t0.5\tTRUE\t279523\t0.238883439445053\t0.644795008537039\t542\t2127\t13069\t129920878.06097\t5\n",
      "Validate  6     790    105100333     105773183    \n",
      "20231031 201959\t156\t2714406\tgbdt\tbinary\tcustom\tTRUE\tTRUE\tFALSE\tTRUE\t-100\t-1\t0\t0.001\t0\t0\t31\t350\t1\t1\t1\tFALSE\t1\t0.1\t50\t0.5\tTRUE\t279523\t0.0900664854224306\t0.0754280283300613\t412\t23029\t15849\t141951572.713643\t6\n",
      "Validate  7     530    96788727     104675103     \n",
      "20231031 202340\t156\t2714406\tgbdt\tbinary\tcustom\tTRUE\tTRUE\tFALSE\tTRUE\t-100\t-1\t0\t0.001\t0\t0\t31\t114\t1\t1\t1\tFALSE\t1\t0.1\t50\t0.5\tTRUE\t279523\t0.186720657731057\t0.696503204608016\t661\t16723\t12574\t145579521.23938\t7\n",
      "Validate  8     560    104040906     109723233    \n",
      "20231031 202646\t156\t2714406\tgbdt\tbinary\tcustom\tTRUE\tTRUE\tFALSE\tTRUE\t-100\t-1\t0\t0.001\t0\t0\t31\t68\t1\t1\t1\tFALSE\t1\t0.1\t50\t0.5\tTRUE\t279523\t0.0429818473849446\t0.840359180488013\t150\t42638\t12129\t143242147.426287\t8\n",
      "Validate  9     430    101762243     105859303    \n",
      "20231031 203112\t156\t2714406\tgbdt\tbinary\tcustom\tTRUE\tTRUE\tFALSE\tTRUE\t-100\t-1\t0\t0.001\t0\t0\t31\t12\t1\t1\t1\tFALSE\t1\t0.1\t50\t0.5\tTRUE\t279523\t0.166457323828363\t0.380679800144862\t905\t3322\t14747\t127846282.358821\t9\n",
      "Validate  10     490    104661114     108161257    \n",
      "20231031 203450\t156\t2714406\tgbdt\tbinary\tcustom\tTRUE\tTRUE\tFALSE\tTRUE\t-100\t-1\t0\t0.001\t0\t0\t31\t45\t1\t1\t1\tFALSE\t1\t0.1\t50\t0.5\tTRUE\t279523\t0.0768787990038982\t0.575646079617873\t831\t46409\t15095\t142103935.532234\t10\n",
      "Validate  11     1150    102885171     104309956    \n",
      "20231031 204513\t156\t2714406\tgbdt\tbinary\tcustom\tTRUE\tTRUE\tFALSE\tTRUE\t-100\t-1\t0\t0.001\t0\t0\t31\t730\t1\t1\t1\tFALSE\t1\t0.1\t50\t0.5\tTRUE\t279523\t0.199060535248718\t0.482284466433484\t268\t29593\t13153\t138837065.967016\t11\n",
      "Validate  12     620    98561119     102466899     \n",
      "20231031 204753\t156\t2714406\tgbdt\tbinary\tcustom\tTRUE\tTRUE\tFALSE\tTRUE\t-100\t-1\t0\t0.001\t0\t0\t31\t206\t1\t1\t1\tFALSE\t1\t0.1\t50\t0.5\tTRUE\t279523\t0.218087663662154\t0.0349420346751867\t500\t8456\t15536\t139983292.353823\t12\n",
      "Validate  13     430    98645441     103906888     \n",
      "20231031 205057\t156\t2714406\tgbdt\tbinary\tcustom\tTRUE\tTRUE\tFALSE\tTRUE\t-100\t-1\t0\t0.001\t0\t0\t31\t18\t1\t1\t1\tFALSE\t1\t0.1\t50\t0.5\tTRUE\t279523\t0.247791156655876\t0.936292199923046\t887\t48584\t13062\t137233226.386807\t13\n",
      "Validate  14     690    102535052     108984746    \n",
      "20231031 205558\t156\t2714406\tgbdt\tbinary\tcustom\tTRUE\tTRUE\tFALSE\tTRUE\t-100\t-1\t0\t0.001\t0\t0\t31\t155\t1\t1\t1\tFALSE\t1\t0.1\t50\t0.5\tTRUE\t279523\t0.0278307219524868\t0.240808322774392\t56\t34450\t13144\t140099406.296852\t14\n",
      "Validate  15     580    104549789     106521071    \n",
      "20231031 205938\t156\t2714406\tgbdt\tbinary\tcustom\tTRUE\tTRUE\tFALSE\tTRUE\t-100\t-1\t0\t0.001\t0\t0\t31\t130\t1\t1\t1\tFALSE\t1\t0.1\t50\t0.5\tTRUE\t279523\t0.0708034699544078\t0.142060961340176\t995\t27067\t14901\t144440746.126937\t15\n",
      "Validate  16     500    98170088     100852897    \n",
      "20231031 210432\t156\t2714406\tgbdt\tbinary\tcustom\tTRUE\tTRUE\tFALSE\tTRUE\t-100\t-1\t0\t0.001\t0\t0\t31\t87\t1\t1\t1\tFALSE\t1\t0.1\t50\t0.5\tTRUE\t279523\t0.291614252373693\t0.946646284638409\t253\t10265\t13350\t141167471.264368\t16\n"
     ]
    },
    {
     "name": "stderr",
     "output_type": "stream",
     "text": [
      "[mbo] 0: learning_rate=0.137; feature_fraction=0.511; num_leaves=759; min_data_in_leaf=20645 : y = 1.42e+08 : 503.0 secs : initdesign\n",
      "\n",
      "[mbo] 0: learning_rate=0.109; feature_fraction=0.383; num_leaves=371; min_data_in_leaf=38535 : y = 1.41e+08 : 225.6 secs : initdesign\n",
      "\n",
      "[mbo] 0: learning_rate=0.153; feature_fraction=0.277; num_leaves=621; min_data_in_leaf=15235 : y = 1.43e+08 : 209.0 secs : initdesign\n",
      "\n",
      "[mbo] 0: learning_rate=0.271; feature_fraction=0.782; num_leaves=116; min_data_in_leaf=34014 : y = 1.46e+08 : 208.0 secs : initdesign\n",
      "\n",
      "[mbo] 0: learning_rate=0.239; feature_fraction=0.645; num_leaves=542; min_data_in_leaf=2127 : y = 1.3e+08 : 641.0 secs : initdesign\n",
      "\n",
      "[mbo] 0: learning_rate=0.0901; feature_fraction=0.0754; num_leaves=412; min_data_in_leaf=23029 : y = 1.42e+08 : 283.6 secs : initdesign\n",
      "\n",
      "[mbo] 0: learning_rate=0.187; feature_fraction=0.697; num_leaves=661; min_data_in_leaf=16723 : y = 1.46e+08 : 220.6 secs : initdesign\n",
      "\n",
      "[mbo] 0: learning_rate=0.043; feature_fraction=0.84; num_leaves=150; min_data_in_leaf=42638 : y = 1.43e+08 : 186.0 secs : initdesign\n",
      "\n",
      "[mbo] 0: learning_rate=0.166; feature_fraction=0.381; num_leaves=905; min_data_in_leaf=3322 : y = 1.28e+08 : 265.9 secs : initdesign\n",
      "\n",
      "[mbo] 0: learning_rate=0.0769; feature_fraction=0.576; num_leaves=831; min_data_in_leaf=46409 : y = 1.42e+08 : 218.6 secs : initdesign\n",
      "\n",
      "[mbo] 0: learning_rate=0.199; feature_fraction=0.482; num_leaves=268; min_data_in_leaf=29593 : y = 1.39e+08 : 622.5 secs : initdesign\n",
      "\n",
      "[mbo] 0: learning_rate=0.218; feature_fraction=0.0349; num_leaves=500; min_data_in_leaf=8456 : y = 1.4e+08 : 160.2 secs : initdesign\n",
      "\n",
      "[mbo] 0: learning_rate=0.248; feature_fraction=0.936; num_leaves=887; min_data_in_leaf=48584 : y = 1.37e+08 : 183.9 secs : initdesign\n",
      "\n",
      "[mbo] 0: learning_rate=0.0278; feature_fraction=0.241; num_leaves=56; min_data_in_leaf=34450 : y = 1.4e+08 : 301.1 secs : initdesign\n",
      "\n",
      "[mbo] 0: learning_rate=0.0708; feature_fraction=0.142; num_leaves=995; min_data_in_leaf=27067 : y = 1.44e+08 : 220.2 secs : initdesign\n",
      "\n",
      "[mbo] 0: learning_rate=0.292; feature_fraction=0.947; num_leaves=253; min_data_in_leaf=10265 : y = 1.41e+08 : 294.2 secs : initdesign\n",
      "\n",
      "Saved the current state after iteration 1 in the file KA8240 (Clase 10-11, Ajustado sem2).RDATA.\n",
      "\n"
     ]
    },
    {
     "name": "stdout",
     "output_type": "stream",
     "text": [
      "Validate  17     540    96243024     103372222     \n",
      "20231031 210853\t156\t2714406\tgbdt\tbinary\tcustom\tTRUE\tTRUE\tFALSE\tTRUE\t-100\t-1\t0\t0.001\t0\t0\t31\t134\t1\t1\t1\tFALSE\t1\t0.1\t50\t0.5\tTRUE\t279523\t0.288203226039578\t0.89658217156425\t714\t18981\t13173\t145766471.264368\t17\n"
     ]
    },
    {
     "name": "stderr",
     "output_type": "stream",
     "text": [
      "[mbo] 1: learning_rate=0.288; feature_fraction=0.897; num_leaves=714; min_data_in_leaf=18981 : y = 1.46e+08 : 257.9 secs : infill_ei\n",
      "\n"
     ]
    },
    {
     "name": "stdout",
     "output_type": "stream",
     "text": [
      "Validate  18     680    103832200     107465823    \n",
      "20231031 211345\t156\t2714406\tgbdt\tbinary\tcustom\tTRUE\tTRUE\tFALSE\tTRUE\t-100\t-1\t0\t0.001\t0\t0\t31\t244\t1\t1\t1\tFALSE\t1\t0.1\t50\t0.5\tTRUE\t279523\t0.0907367590790225\t0.946936701373573\t544\t17395\t12664\t147013909.045477\t18\n"
     ]
    },
    {
     "name": "stderr",
     "output_type": "stream",
     "text": [
      "[mbo] 2: learning_rate=0.0907; feature_fraction=0.947; num_leaves=544; min_data_in_leaf=17395 : y = 1.47e+08 : 291.8 secs : infill_ei\n",
      "\n"
     ]
    },
    {
     "name": "stdout",
     "output_type": "stream",
     "text": [
      "Validate  19     590    106079410     107946290    \n",
      "20231031 211714\t156\t2714406\tgbdt\tbinary\tcustom\tTRUE\tTRUE\tFALSE\tTRUE\t-100\t-1\t0\t0.001\t0\t0\t31\t64\t1\t1\t1\tFALSE\t1\t0.1\t50\t0.5\tTRUE\t279523\t0.0305761694832249\t0.881808476273555\t1024\t33310\t13390\t141974027.986007\t19\n"
     ]
    },
    {
     "name": "stderr",
     "output_type": "stream",
     "text": [
      "[mbo] 3: learning_rate=0.0306; feature_fraction=0.882; num_leaves=1024; min_data_in_leaf=33310 : y = 1.42e+08 : 209.2 secs : infill_ei\n",
      "\n",
      "Saved the current state after iteration 4 in the file KA8240 (Clase 10-11, Ajustado sem2).RDATA.\n",
      "\n"
     ]
    },
    {
     "name": "stdout",
     "output_type": "stream",
     "text": [
      "Validate  20     490    98349083     105453527     \n",
      "20231031 212039\t156\t2714406\tgbdt\tbinary\tcustom\tTRUE\tTRUE\tFALSE\tTRUE\t-100\t-1\t0\t0.001\t0\t0\t31\t75\t1\t1\t1\tFALSE\t1\t0.1\t50\t0.5\tTRUE\t279523\t0.211480448398829\t0.869574295130178\t398\t17911\t13142\t147633526.236882\t20\n"
     ]
    },
    {
     "name": "stderr",
     "output_type": "stream",
     "text": [
      "[mbo] 4: learning_rate=0.211; feature_fraction=0.87; num_leaves=398; min_data_in_leaf=17911 : y = 1.48e+08 : 202.3 secs : infill_ei\n",
      "\n"
     ]
    },
    {
     "name": "stdout",
     "output_type": "stream",
     "text": [
      "Validate  21     460    101871791     102024433    \n",
      "20231031 212203\t156\t2714406\tgbdt\tbinary\tcustom\tTRUE\tTRUE\tFALSE\tTRUE\t-100\t-1\t0\t0.001\t0\t0\t31\t26\t1\t1\t1\tFALSE\t1\t0.1\t50\t0.5\tTRUE\t279523\t0.104184212317161\t0.849272015560197\t8\t17938\t10981\t139736998.001\t21\n"
     ]
    },
    {
     "name": "stderr",
     "output_type": "stream",
     "text": [
      "[mbo] 5: learning_rate=0.104; feature_fraction=0.849; num_leaves=8; min_data_in_leaf=17938 : y = 1.4e+08 : 83.3 secs : infill_ei\n",
      "\n"
     ]
    },
    {
     "name": "stdout",
     "output_type": "stream",
     "text": [
      "Validate  22     550    98453356     103543668     \n",
      "20231031 212551\t156\t2714406\tgbdt\tbinary\tcustom\tTRUE\tTRUE\tFALSE\tTRUE\t-100\t-1\t0\t0.001\t0\t0\t31\t141\t1\t1\t1\tFALSE\t1\t0.1\t50\t0.5\tTRUE\t279523\t0.264752600631486\t0.999077847439146\t474\t17181\t12113\t142488540.229885\t22\n"
     ]
    },
    {
     "name": "stderr",
     "output_type": "stream",
     "text": [
      "[mbo] 6: learning_rate=0.265; feature_fraction=0.999; num_leaves=474; min_data_in_leaf=17181 : y = 1.42e+08 : 227.9 secs : infill_ei\n",
      "\n"
     ]
    },
    {
     "name": "stdout",
     "output_type": "stream",
     "text": [
      "Validate  23     490    104656367     105665724    \n",
      "20231031 212908\t156\t2714406\tgbdt\tbinary\tcustom\tTRUE\tTRUE\tFALSE\tTRUE\t-100\t-1\t0\t0.001\t0\t0\t31\t30\t1\t1\t1\tFALSE\t1\t0.1\t50\t0.5\tTRUE\t279523\t0.066255297593054\t0.838662592555771\t543\t18376\t13184\t142466042.978511\t23\n"
     ]
    },
    {
     "name": "stderr",
     "output_type": "stream",
     "text": [
      "[mbo] 7: learning_rate=0.0663; feature_fraction=0.839; num_leaves=543; min_data_in_leaf=18376 : y = 1.42e+08 : 196.9 secs : infill_ei\n",
      "\n",
      "Saved the current state after iteration 8 in the file KA8240 (Clase 10-11, Ajustado sem2).RDATA.\n",
      "\n"
     ]
    },
    {
     "name": "stdout",
     "output_type": "stream",
     "text": [
      "Validate  24     420    99463528     103713767     \n",
      "20231031 213204\t156\t2714406\tgbdt\tbinary\tcustom\tTRUE\tTRUE\tFALSE\tTRUE\t-100\t-1\t0\t0.001\t0\t0\t31\t6\t1\t1\t1\tFALSE\t1\t0.1\t50\t0.5\tTRUE\t279523\t0.1711227816926\t0.917398903493009\t607\t17829\t15119\t133585750.624688\t24\n"
     ]
    },
    {
     "name": "stderr",
     "output_type": "stream",
     "text": [
      "[mbo] 8: learning_rate=0.171; feature_fraction=0.917; num_leaves=607; min_data_in_leaf=17829 : y = 1.34e+08 : 173.4 secs : infill_ei\n",
      "\n"
     ]
    },
    {
     "name": "stdout",
     "output_type": "stream",
     "text": [
      "Validate  25     770    102417521     110774360    \n",
      "20231031 213705\t156\t2714406\tgbdt\tbinary\tcustom\tTRUE\tTRUE\tFALSE\tTRUE\t-100\t-1\t0\t0.001\t0\t0\t31\t200\t1\t1\t1\tFALSE\t1\t0.1\t50\t0.5\tTRUE\t279523\t0.0228835085643292\t0.28687401657649\t585\t45516\t12628\t143686918.54073\t25\n"
     ]
    },
    {
     "name": "stderr",
     "output_type": "stream",
     "text": [
      "[mbo] 9: learning_rate=0.0229; feature_fraction=0.287; num_leaves=585; min_data_in_leaf=45516 : y = 1.44e+08 : 300.0 secs : infill_ei\n",
      "\n"
     ]
    },
    {
     "name": "stdout",
     "output_type": "stream",
     "text": [
      "Validate  26     490    101958264     104087124    \n",
      "20231031 214137\t156\t2714406\tgbdt\tbinary\tcustom\tTRUE\tTRUE\tFALSE\tTRUE\t-100\t-1\t0\t0.001\t0\t0\t31\t62\t1\t1\t1\tFALSE\t1\t0.1\t50\t0.5\tTRUE\t279523\t0.113831974433914\t0.939550955386741\t440\t2387\t10802\t143135125.437281\t26\n"
     ]
    },
    {
     "name": "stderr",
     "output_type": "stream",
     "text": [
      "[mbo] 10: learning_rate=0.114; feature_fraction=0.94; num_leaves=440; min_data_in_leaf=2387 : y = 1.43e+08 : 271.9 secs : infill_ei\n",
      "\n",
      "Saved the current state after iteration 11 in the file KA8240 (Clase 10-11, Ajustado sem2).RDATA.\n",
      "\n"
     ]
    },
    {
     "name": "stdout",
     "output_type": "stream",
     "text": [
      "Validate  27     550    106587443     107326445    \n",
      "20231031 214446\t156\t2714406\tgbdt\tbinary\tcustom\tTRUE\tTRUE\tFALSE\tTRUE\t-100\t-1\t0\t0.001\t0\t0\t31\t114\t1\t1\t1\tFALSE\t1\t0.1\t50\t0.5\tTRUE\t279523\t0.0994529245551974\t0.155670195406256\t66\t16267\t12701\t142359006.996502\t27\n"
     ]
    },
    {
     "name": "stderr",
     "output_type": "stream",
     "text": [
      "[mbo] 11: learning_rate=0.0995; feature_fraction=0.156; num_leaves=66; min_data_in_leaf=16267 : y = 1.42e+08 : 186.4 secs : infill_ei\n",
      "\n"
     ]
    },
    {
     "name": "stdout",
     "output_type": "stream",
     "text": [
      "Validate  28     570    97567732     106939402     \n",
      "20231031 214837\t156\t2714406\tgbdt\tbinary\tcustom\tTRUE\tTRUE\tFALSE\tTRUE\t-100\t-1\t0\t0.001\t0\t0\t31\t153\t1\t1\t1\tFALSE\t1\t0.1\t50\t0.5\tTRUE\t279523\t0.187984097010263\t0.992539653660722\t987\t19447\t13840\t143179770.114943\t28\n"
     ]
    },
    {
     "name": "stderr",
     "output_type": "stream",
     "text": [
      "[mbo] 12: learning_rate=0.188; feature_fraction=0.993; num_leaves=987; min_data_in_leaf=19447 : y = 1.43e+08 : 230.6 secs : infill_ei\n",
      "\n"
     ]
    },
    {
     "name": "stdout",
     "output_type": "stream",
     "text": [
      "Validate  29     500    97098119     103003926     \n",
      "20231031 215209\t156\t2714406\tgbdt\tbinary\tcustom\tTRUE\tTRUE\tFALSE\tTRUE\t-100\t-1\t0\t0.001\t0\t0\t31\t82\t1\t1\t1\tFALSE\t1\t0.1\t50\t0.5\tTRUE\t279523\t0.21486489627466\t0.73114644606353\t994\t14329\t10596\t143045031.484258\t29\n"
     ]
    },
    {
     "name": "stderr",
     "output_type": "stream",
     "text": [
      "[mbo] 13: learning_rate=0.215; feature_fraction=0.731; num_leaves=994; min_data_in_leaf=14329 : y = 1.43e+08 : 212.2 secs : infill_ei\n",
      "\n",
      "Saved the current state after iteration 14 in the file KA8240 (Clase 10-11, Ajustado sem2).RDATA.\n",
      "\n"
     ]
    },
    {
     "name": "stdout",
     "output_type": "stream",
     "text": [
      "Validate  30     490    103929045     105113403    \n",
      "20231031 215425\t156\t2714406\tgbdt\tbinary\tcustom\tTRUE\tTRUE\tFALSE\tTRUE\t-100\t-1\t0\t0.001\t0\t0\t31\t74\t1\t1\t1\tFALSE\t1\t0.1\t50\t0.5\tTRUE\t279523\t0.23183732664914\t0.0967048329253251\t622\t40535\t14973\t140756556.221889\t30\n"
     ]
    },
    {
     "name": "stderr",
     "output_type": "stream",
     "text": [
      "[mbo] 14: learning_rate=0.232; feature_fraction=0.0967; num_leaves=622; min_data_in_leaf=40535 : y = 1.41e+08 : 133.2 secs : infill_ei\n",
      "\n"
     ]
    },
    {
     "name": "stdout",
     "output_type": "stream",
     "text": [
      "Validate  31     1300    103057355     105290712    \n",
      "20231031 215759\t156\t2714406\tgbdt\tbinary\tcustom\tTRUE\tTRUE\tFALSE\tTRUE\t-100\t-1\t0\t0.001\t0\t0\t31\t881\t1\t1\t1\tFALSE\t1\t0.1\t50\t0.5\tTRUE\t279523\t0.188510769635448\t0.0160009792923074\t20\t46521\t13992\t136858178.910545\t31\n"
     ]
    },
    {
     "name": "stderr",
     "output_type": "stream",
     "text": [
      "[mbo] 15: learning_rate=0.189; feature_fraction=0.016; num_leaves=20; min_data_in_leaf=46521 : y = 1.37e+08 : 213.4 secs : infill_ei\n",
      "\n"
     ]
    },
    {
     "name": "stdout",
     "output_type": "stream",
     "text": [
      "Validate  32     430    98298772     105104276     \n",
      "20231031 220235\t156\t2714406\tgbdt\tbinary\tcustom\tTRUE\tTRUE\tFALSE\tTRUE\t-100\t-1\t0\t0.001\t0\t0\t31\t16\t1\t1\t1\tFALSE\t1\t0.1\t50\t0.5\tTRUE\t279523\t0.207759407162936\t0.363749616031018\t866\t2414\t17083\t115818400.29985\t32\n"
     ]
    },
    {
     "name": "stderr",
     "output_type": "stream",
     "text": [
      "[mbo] 16: learning_rate=0.208; feature_fraction=0.364; num_leaves=866; min_data_in_leaf=2414 : y = 1.16e+08 : 276.2 secs : infill_ei\n",
      "\n",
      "Saved the current state after iteration 17 in the file KA8240 (Clase 10-11, Ajustado sem2).RDATA.\n",
      "\n"
     ]
    },
    {
     "name": "stdout",
     "output_type": "stream",
     "text": [
      "Validate  33     550    97418510     104901111     \n",
      "20231031 220616\t156\t2714406\tgbdt\tbinary\tcustom\tTRUE\tTRUE\tFALSE\tTRUE\t-100\t-1\t0\t0.001\t0\t0\t31\t138\t1\t1\t1\tFALSE\t1\t0.1\t50\t0.5\tTRUE\t279523\t0.272803664127069\t0.87502497970761\t541\t20112\t11807\t146489790.604698\t33\n"
     ]
    },
    {
     "name": "stderr",
     "output_type": "stream",
     "text": [
      "[mbo] 17: learning_rate=0.273; feature_fraction=0.875; num_leaves=541; min_data_in_leaf=20112 : y = 1.46e+08 : 217.9 secs : infill_ei\n",
      "\n"
     ]
    },
    {
     "name": "stdout",
     "output_type": "stream",
     "text": [
      "Validate  34     580    105491294     106230751    \n",
      "20231031 221005\t156\t2714406\tgbdt\tbinary\tcustom\tTRUE\tTRUE\tFALSE\tTRUE\t-100\t-1\t0\t0.001\t0\t0\t31\t44\t1\t1\t1\tFALSE\t1\t0.1\t50\t0.5\tTRUE\t279523\t0.0282690460016356\t0.956729682481961\t469\t20727\t12609\t143865255.872064\t34\n"
     ]
    },
    {
     "name": "stderr",
     "output_type": "stream",
     "text": [
      "[mbo] 18: learning_rate=0.0283; feature_fraction=0.957; num_leaves=469; min_data_in_leaf=20727 : y = 1.44e+08 : 228.8 secs : infill_ei\n",
      "\n"
     ]
    },
    {
     "name": "stdout",
     "output_type": "stream",
     "text": [
      "Validate  35     490    99746778     105121333     \n",
      "20231031 221316\t156\t2714406\tgbdt\tbinary\tcustom\tTRUE\tTRUE\tFALSE\tTRUE\t-100\t-1\t0\t0.001\t0\t0\t31\t76\t1\t1\t1\tFALSE\t1\t0.1\t50\t0.5\tTRUE\t279523\t0.220082483639581\t0.884101010900304\t266\t21596\t11825\t143194095.452274\t35\n"
     ]
    },
    {
     "name": "stderr",
     "output_type": "stream",
     "text": [
      "[mbo] 19: learning_rate=0.22; feature_fraction=0.884; num_leaves=266; min_data_in_leaf=21596 : y = 1.43e+08 : 191.1 secs : infill_ei\n",
      "\n",
      "Saved the current state after iteration 20 in the file KA8240 (Clase 10-11, Ajustado sem2).RDATA.\n",
      "\n"
     ]
    },
    {
     "name": "stdout",
     "output_type": "stream",
     "text": [
      "Validate  36     690    99452481     105171425     \n",
      "20231031 221717\t156\t2714406\tgbdt\tbinary\tcustom\tTRUE\tTRUE\tFALSE\tTRUE\t-100\t-1\t0\t0.001\t0\t0\t31\t272\t1\t1\t1\tFALSE\t1\t0.1\t50\t0.5\tTRUE\t279523\t0.220777208491011\t0.866730425705268\t727\t36280\t13085\t141170637.181409\t36\n"
     ]
    },
    {
     "name": "stderr",
     "output_type": "stream",
     "text": [
      "[mbo] 20: learning_rate=0.221; feature_fraction=0.867; num_leaves=727; min_data_in_leaf=36280 : y = 1.41e+08 : 237.5 secs : infill_ei\n",
      "\n"
     ]
    },
    {
     "name": "stdout",
     "output_type": "stream",
     "text": [
      "Validate  37     640    2518037     81872735     \n",
      "20231031 222026\t156\t2714406\tgbdt\tbinary\tcustom\tTRUE\tTRUE\tFALSE\tTRUE\t-100\t-1\t0\t0.001\t0\t0\t31\t233\t1\t1\t1\tFALSE\t1\t0.1\t50\t0.5\tTRUE\t279523\t0.298887814009228\t0.870765251056822\t307\t303\t13218\t92417008.4957521\t37\n"
     ]
    },
    {
     "name": "stderr",
     "output_type": "stream",
     "text": [
      "[mbo] 21: learning_rate=0.299; feature_fraction=0.871; num_leaves=307; min_data_in_leaf=303 : y = 9.24e+07 : 188.9 secs : infill_ei\n",
      "\n"
     ]
    },
    {
     "name": "stdout",
     "output_type": "stream",
     "text": [
      "Validate  38     1030    102762533     104573185    \n",
      "20231031 222540\t156\t2714406\tgbdt\tbinary\tcustom\tTRUE\tTRUE\tFALSE\tTRUE\t-100\t-1\t0\t0.001\t0\t0\t31\t619\t1\t1\t1\tFALSE\t1\t0.1\t50\t0.5\tTRUE\t279523\t0.284362675967551\t0.266548903691717\t8\t20288\t12591\t140742500.249875\t38\n"
     ]
    },
    {
     "name": "stderr",
     "output_type": "stream",
     "text": [
      "[mbo] 22: learning_rate=0.284; feature_fraction=0.267; num_leaves=8; min_data_in_leaf=20288 : y = 1.41e+08 : 313.7 secs : infill_ei\n",
      "\n",
      "Saved the current state after iteration 23 in the file KA8240 (Clase 10-11, Ajustado sem2).RDATA.\n",
      "\n"
     ]
    },
    {
     "name": "stdout",
     "output_type": "stream",
     "text": [
      "Validate  39     490    106538678     110778320    \n",
      "20231031 222958\t156\t2714406\tgbdt\tbinary\tcustom\tTRUE\tTRUE\tFALSE\tTRUE\t-100\t-1\t0\t0.001\t0\t0\t31\t50\t1\t1\t1\tFALSE\t1\t0.1\t50\t0.5\tTRUE\t279523\t0.0999151524047261\t0.418673075478312\t1024\t11864\t14352\t142587754.122939\t39\n"
     ]
    },
    {
     "name": "stderr",
     "output_type": "stream",
     "text": [
      "[mbo] 23: learning_rate=0.0999; feature_fraction=0.419; num_leaves=1024; min_data_in_leaf=11864 : y = 1.43e+08 : 254.6 secs : infill_ei\n",
      "\n"
     ]
    },
    {
     "name": "stdout",
     "output_type": "stream",
     "text": [
      "Validate  40     570    98055626     104849330     \n",
      "20231031 223322\t156\t2714406\tgbdt\tbinary\tcustom\tTRUE\tTRUE\tFALSE\tTRUE\t-100\t-1\t0\t0.001\t0\t0\t31\t160\t1\t1\t1\tFALSE\t1\t0.1\t50\t0.5\tTRUE\t279523\t0.285859377222606\t0.998477226514179\t470\t30186\t12717\t135176482.258871\t40\n"
     ]
    },
    {
     "name": "stderr",
     "output_type": "stream",
     "text": [
      "[mbo] 24: learning_rate=0.286; feature_fraction=0.998; num_leaves=470; min_data_in_leaf=30186 : y = 1.35e+08 : 204.0 secs : infill_ei\n",
      "\n"
     ]
    },
    {
     "name": "stdout",
     "output_type": "stream",
     "text": [
      "Validate  41     730    100136298     101664474    \n",
      "20231031 223523\t156\t2714406\tgbdt\tbinary\tcustom\tTRUE\tTRUE\tFALSE\tTRUE\t-100\t-1\t0\t0.001\t0\t0\t31\t312\t1\t1\t1\tFALSE\t1\t0.1\t50\t0.5\tTRUE\t279523\t0.196240643940687\t0.0114450205437932\t386\t17168\t15073\t125852118.44078\t41\n"
     ]
    },
    {
     "name": "stderr",
     "output_type": "stream",
     "text": [
      "[mbo] 25: learning_rate=0.196; feature_fraction=0.0114; num_leaves=386; min_data_in_leaf=17168 : y = 1.26e+08 : 120.4 secs : infill_ei\n",
      "\n"
     ]
    },
    {
     "name": "stdout",
     "output_type": "stream",
     "text": [
      "Validate  42     470    104259462     112815621    \n",
      "20231031 223858\t156\t2714406\tgbdt\tbinary\tcustom\tTRUE\tTRUE\tFALSE\tTRUE\t-100\t-1\t0\t0.001\t0\t0\t31\t32\t1\t1\t1\tFALSE\t1\t0.1\t50\t0.5\tTRUE\t279523\t0.0862693665594208\t0.367803098479063\t141\t1495\t15955\t139230822.088956\t42\n"
     ]
    },
    {
     "name": "stderr",
     "output_type": "stream",
     "text": [
      "[mbo] 26: learning_rate=0.0863; feature_fraction=0.368; num_leaves=141; min_data_in_leaf=1495 : y = 1.39e+08 : 214.5 secs : infill_ei\n",
      "\n",
      "Saved the current state after iteration 27 in the file KA8240 (Clase 10-11, Ajustado sem2).RDATA.\n",
      "\n"
     ]
    },
    {
     "name": "stdout",
     "output_type": "stream",
     "text": [
      "Validate  43     460    101223687     109886794    \n",
      "20231031 224201\t156\t2714406\tgbdt\tbinary\tcustom\tTRUE\tTRUE\tFALSE\tTRUE\t-100\t-1\t0\t0.001\t0\t0\t31\t41\t1\t1\t1\tFALSE\t1\t0.1\t50\t0.5\tTRUE\t279523\t0.201494440229396\t0.230863219716859\t91\t16658\t14727\t141169090.954523\t43\n"
     ]
    },
    {
     "name": "stderr",
     "output_type": "stream",
     "text": [
      "[mbo] 27: learning_rate=0.201; feature_fraction=0.231; num_leaves=91; min_data_in_leaf=16658 : y = 1.41e+08 : 180.6 secs : infill_ei\n",
      "\n"
     ]
    },
    {
     "name": "stdout",
     "output_type": "stream",
     "text": [
      "Validate  44     640    104865576     108551218    \n",
      "20231031 224526\t156\t2714406\tgbdt\tbinary\tcustom\tTRUE\tTRUE\tFALSE\tTRUE\t-100\t-1\t0\t0.001\t0\t0\t31\t118\t1\t1\t1\tFALSE\t1\t0.1\t50\t0.5\tTRUE\t279523\t0.0312102471790676\t0.947599405081835\t341\t49600\t13235\t144702086.456772\t44\n"
     ]
    },
    {
     "name": "stderr",
     "output_type": "stream",
     "text": [
      "[mbo] 28: learning_rate=0.0312; feature_fraction=0.948; num_leaves=341; min_data_in_leaf=49600 : y = 1.45e+08 : 204.9 secs : infill_ei\n",
      "\n"
     ]
    },
    {
     "name": "stdout",
     "output_type": "stream",
     "text": [
      "Validate  45     470    101923306     105708025    \n",
      "20231031 224906\t156\t2714406\tgbdt\tbinary\tcustom\tTRUE\tTRUE\tFALSE\tTRUE\t-100\t-1\t0\t0.001\t0\t0\t31\t60\t1\t1\t1\tFALSE\t1\t0.1\t50\t0.5\tTRUE\t279523\t0.218010056024513\t0.982859935984685\t399\t9546\t12415\t144258718.14093\t45\n"
     ]
    },
    {
     "name": "stderr",
     "output_type": "stream",
     "text": [
      "[mbo] 29: learning_rate=0.218; feature_fraction=0.983; num_leaves=399; min_data_in_leaf=9546 : y = 1.44e+08 : 219.7 secs : infill_ei\n",
      "\n",
      "Saved the current state after iteration 30 in the file KA8240 (Clase 10-11, Ajustado sem2).RDATA.\n",
      "\n"
     ]
    },
    {
     "name": "stdout",
     "output_type": "stream",
     "text": [
      "Validate  46     600    105894671     110137500    \n",
      "20231031 225348\t156\t2714406\tgbdt\tbinary\tcustom\tTRUE\tTRUE\tFALSE\tTRUE\t-100\t-1\t0\t0.001\t0\t0\t31\t106\t1\t1\t1\tFALSE\t1\t0.1\t50\t0.5\tTRUE\t279523\t0.0395327590028695\t0.26333513839646\t1006\t10586\t13049\t143662777.111444\t46\n"
     ]
    },
    {
     "name": "stderr",
     "output_type": "stream",
     "text": [
      "[mbo] 30: learning_rate=0.0395; feature_fraction=0.263; num_leaves=1006; min_data_in_leaf=10586 : y = 1.44e+08 : 278.9 secs : infill_ei\n",
      "\n"
     ]
    },
    {
     "name": "stdout",
     "output_type": "stream",
     "text": [
      "Validate  47     900    107216352     108465455    \n",
      "20231031 225850\t156\t2714406\tgbdt\tbinary\tcustom\tTRUE\tTRUE\tFALSE\tTRUE\t-100\t-1\t0\t0.001\t0\t0\t31\t450\t1\t1\t1\tFALSE\t1\t0.1\t50\t0.5\tTRUE\t279523\t0.0688364978338479\t0.883629598794234\t618\t40211\t13298\t146662005.997001\t47\n"
     ]
    },
    {
     "name": "stderr",
     "output_type": "stream",
     "text": [
      "[mbo] 31: learning_rate=0.0688; feature_fraction=0.884; num_leaves=618; min_data_in_leaf=40211 : y = 1.47e+08 : 301.6 secs : infill_ei\n",
      "\n"
     ]
    },
    {
     "name": "stdout",
     "output_type": "stream",
     "text": [
      "Validate  48     530    105591533     108539415    \n",
      "20231031 230220\t156\t2714406\tgbdt\tbinary\tcustom\tTRUE\tTRUE\tFALSE\tTRUE\t-100\t-1\t0\t0.001\t0\t0\t31\t59\t1\t1\t1\tFALSE\t1\t0.1\t50\t0.5\tTRUE\t279523\t0.0503323401668963\t0.657551057420429\t330\t31213\t13529\t142882947.026487\t48\n"
     ]
    },
    {
     "name": "stderr",
     "output_type": "stream",
     "text": [
      "[mbo] 32: learning_rate=0.0503; feature_fraction=0.658; num_leaves=330; min_data_in_leaf=31213 : y = 1.43e+08 : 210.3 secs : infill_ei\n",
      "\n",
      "Saved the current state after iteration 33 in the file KA8240 (Clase 10-11, Ajustado sem2).RDATA.\n",
      "\n"
     ]
    },
    {
     "name": "stdout",
     "output_type": "stream",
     "text": [
      "Validate  49     450    99130106     104681845     \n",
      "20231031 230713\t156\t2714406\tgbdt\tbinary\tcustom\tTRUE\tTRUE\tFALSE\tTRUE\t-100\t-1\t0\t0.001\t0\t0\t31\t32\t1\t1\t1\tFALSE\t1\t0.1\t50\t0.5\tTRUE\t279523\t0.198826848253567\t0.19463110197156\t928\t1255\t13490\t141996766.616692\t49\n"
     ]
    },
    {
     "name": "stderr",
     "output_type": "stream",
     "text": [
      "[mbo] 33: learning_rate=0.199; feature_fraction=0.195; num_leaves=928; min_data_in_leaf=1255 : y = 1.42e+08 : 290.3 secs : infill_ei\n",
      "\n"
     ]
    },
    {
     "name": "stdout",
     "output_type": "stream",
     "text": [
      "Validate  50     470    101496775     113725694    \n",
      "20231031 231100\t156\t2714406\tgbdt\tbinary\tcustom\tTRUE\tTRUE\tFALSE\tTRUE\t-100\t-1\t0\t0.001\t0\t0\t31\t41\t1\t1\t1\tFALSE\t1\t0.1\t50\t0.5\tTRUE\t279523\t0.127045100986078\t0.238003119838871\t911\t11445\t14672\t143821517.241379\t50\n"
     ]
    },
    {
     "name": "stderr",
     "output_type": "stream",
     "text": [
      "[mbo] 34: learning_rate=0.127; feature_fraction=0.238; num_leaves=911; min_data_in_leaf=11445 : y = 1.44e+08 : 228.2 secs : infill_ei\n",
      "\n"
     ]
    },
    {
     "name": "stdout",
     "output_type": "stream",
     "text": [
      "Validate  51     430    97911981     105625855     \n",
      "20231031 231432\t156\t2714406\tgbdt\tbinary\tcustom\tTRUE\tTRUE\tFALSE\tTRUE\t-100\t-1\t0\t0.001\t0\t0\t31\t12\t1\t1\t1\tFALSE\t1\t0.1\t50\t0.5\tTRUE\t279523\t0.165861892585315\t0.685844735472054\t764\t15744\t14282\t133730287.856072\t51\n"
     ]
    },
    {
     "name": "stderr",
     "output_type": "stream",
     "text": [
      "[mbo] 35: learning_rate=0.166; feature_fraction=0.686; num_leaves=764; min_data_in_leaf=15744 : y = 1.34e+08 : 209.4 secs : infill_ei\n",
      "\n",
      "Saved the current state after iteration 36 in the file KA8240 (Clase 10-11, Ajustado sem2).RDATA.\n",
      "\n"
     ]
    },
    {
     "name": "stdout",
     "output_type": "stream",
     "text": [
      "Validate  52     460    103394779     108379643    \n",
      "20231031 231721\t156\t2714406\tgbdt\tbinary\tcustom\tTRUE\tTRUE\tFALSE\tTRUE\t-100\t-1\t0\t0.001\t0\t0\t31\t39\t1\t1\t1\tFALSE\t1\t0.1\t50\t0.5\tTRUE\t279523\t0.178284161387343\t0.207320006196336\t743\t44445\t14519\t139733016.991504\t52\n"
     ]
    },
    {
     "name": "stderr",
     "output_type": "stream",
     "text": [
      "[mbo] 36: learning_rate=0.178; feature_fraction=0.207; num_leaves=743; min_data_in_leaf=44445 : y = 1.4e+08 : 167.0 secs : infill_ei\n",
      "\n"
     ]
    },
    {
     "name": "stdout",
     "output_type": "stream",
     "text": [
      "Validate  53     430    102574642     106222502    \n",
      "20231031 232000\t156\t2714406\tgbdt\tbinary\tcustom\tTRUE\tTRUE\tFALSE\tTRUE\t-100\t-1\t0\t0.001\t0\t0\t31\t18\t1\t1\t1\tFALSE\t1\t0.1\t50\t0.5\tTRUE\t279523\t0.213218114886863\t0.83433932040716\t451\t27342\t12585\t141833975.512244\t53\n"
     ]
    },
    {
     "name": "stderr",
     "output_type": "stream",
     "text": [
      "[mbo] 37: learning_rate=0.213; feature_fraction=0.834; num_leaves=451; min_data_in_leaf=27342 : y = 1.42e+08 : 158.4 secs : infill_ei\n",
      "\n"
     ]
    },
    {
     "name": "stdout",
     "output_type": "stream",
     "text": [
      "Validate  54     610    104509356     107828280    \n",
      "20231031 232334\t156\t2714406\tgbdt\tbinary\tcustom\tTRUE\tTRUE\tFALSE\tTRUE\t-100\t-1\t0\t0.001\t0\t0\t31\t118\t1\t1\t1\tFALSE\t1\t0.1\t50\t0.5\tTRUE\t279523\t0.0417724200900978\t0.130578295568776\t309\t11539\t15591\t141609226.886557\t54\n"
     ]
    },
    {
     "name": "stderr",
     "output_type": "stream",
     "text": [
      "[mbo] 38: learning_rate=0.0418; feature_fraction=0.131; num_leaves=309; min_data_in_leaf=11539 : y = 1.42e+08 : 213.1 secs : infill_ei\n",
      "\n"
     ]
    },
    {
     "name": "stdout",
     "output_type": "stream",
     "text": [
      "Validate  55     1080    105915503     108353924    \n",
      "20231031 232825\t156\t2714406\tgbdt\tbinary\tcustom\tTRUE\tTRUE\tFALSE\tTRUE\t-100\t-1\t0\t0.001\t0\t0\t31\t587\t1\t1\t1\tFALSE\t1\t0.1\t50\t0.5\tTRUE\t279523\t0.040551364638024\t0.0542385882349187\t951\t17707\t11446\t140784146.926537\t55\n"
     ]
    },
    {
     "name": "stderr",
     "output_type": "stream",
     "text": [
      "[mbo] 39: learning_rate=0.0406; feature_fraction=0.0542; num_leaves=951; min_data_in_leaf=17707 : y = 1.41e+08 : 291.0 secs : infill_ei\n",
      "\n",
      "Saved the current state after iteration 40 in the file KA8240 (Clase 10-11, Ajustado sem2).RDATA.\n",
      "\n"
     ]
    },
    {
     "name": "stdout",
     "output_type": "stream",
     "text": [
      "Validate  56     440    99664615     106094368     \n",
      "20231031 233237\t156\t2714406\tgbdt\tbinary\tcustom\tTRUE\tTRUE\tFALSE\tTRUE\t-100\t-1\t0\t0.001\t0\t0\t31\t20\t1\t1\t1\tFALSE\t1\t0.1\t50\t0.5\tTRUE\t279523\t0.161191127476458\t0.462083494035706\t255\t25396\t14707\t137954548.225887\t56\n"
     ]
    },
    {
     "name": "stderr",
     "output_type": "stream",
     "text": [
      "[mbo] 40: learning_rate=0.161; feature_fraction=0.462; num_leaves=255; min_data_in_leaf=25396 : y = 1.38e+08 : 249.5 secs : infill_ei\n",
      "\n"
     ]
    },
    {
     "name": "stdout",
     "output_type": "stream",
     "text": [
      "Validate  57     520    103977451     110685770    \n",
      "20231031 233650\t156\t2714406\tgbdt\tbinary\tcustom\tTRUE\tTRUE\tFALSE\tTRUE\t-100\t-1\t0\t0.001\t0\t0\t31\t65\t1\t1\t1\tFALSE\t1\t0.1\t50\t0.5\tTRUE\t279523\t0.0718277960143754\t0.297849825894326\t275\t25142\t14346\t142077590.204898\t57\n"
     ]
    },
    {
     "name": "stderr",
     "output_type": "stream",
     "text": [
      "[mbo] 41: learning_rate=0.0718; feature_fraction=0.298; num_leaves=275; min_data_in_leaf=25142 : y = 1.42e+08 : 252.0 secs : infill_ei\n",
      "\n"
     ]
    },
    {
     "name": "stdout",
     "output_type": "stream",
     "text": [
      "Validate  58     540    97127025     102582191     \n",
      "20231031 234125\t156\t2714406\tgbdt\tbinary\tcustom\tTRUE\tTRUE\tFALSE\tTRUE\t-100\t-1\t0\t0.001\t0\t0\t31\t127\t1\t1\t1\tFALSE\t1\t0.1\t50\t0.5\tTRUE\t279523\t0.255435497505382\t0.596521325363993\t334\t34931\t13310\t138111679.16042\t58\n"
     ]
    },
    {
     "name": "stderr",
     "output_type": "stream",
     "text": [
      "[mbo] 42: learning_rate=0.255; feature_fraction=0.597; num_leaves=334; min_data_in_leaf=34931 : y = 1.38e+08 : 275.1 secs : infill_ei\n",
      "\n",
      "Saved the current state after iteration 43 in the file KA8240 (Clase 10-11, Ajustado sem2).RDATA.\n",
      "\n"
     ]
    },
    {
     "name": "stdout",
     "output_type": "stream",
     "text": [
      "Validate  59     420    98522583     101340977     \n",
      "20231031 234550\t156\t2714406\tgbdt\tbinary\tcustom\tTRUE\tTRUE\tFALSE\tTRUE\t-100\t-1\t0\t0.001\t0\t0\t31\t13\t1\t1\t1\tFALSE\t1\t0.1\t50\t0.5\tTRUE\t279523\t0.258786070085238\t0.3749562374781\t770\t4103\t15865\t127033995.502249\t59\n"
     ]
    },
    {
     "name": "stderr",
     "output_type": "stream",
     "text": [
      "[mbo] 43: learning_rate=0.259; feature_fraction=0.375; num_leaves=770; min_data_in_leaf=4103 : y = 1.27e+08 : 262.1 secs : infill_ei\n",
      "\n"
     ]
    },
    {
     "name": "stdout",
     "output_type": "stream",
     "text": [
      "Validate  60     600    102609747     106034048    \n",
      "20231031 234941\t156\t2714406\tgbdt\tbinary\tcustom\tTRUE\tTRUE\tFALSE\tTRUE\t-100\t-1\t0\t0.001\t0\t0\t31\t181\t1\t1\t1\tFALSE\t1\t0.1\t50\t0.5\tTRUE\t279523\t0.153360025965507\t0.753346426470034\t280\t22518\t12245\t144882001.49925\t60\n"
     ]
    },
    {
     "name": "stderr",
     "output_type": "stream",
     "text": [
      "[mbo] 44: learning_rate=0.153; feature_fraction=0.753; num_leaves=280; min_data_in_leaf=22518 : y = 1.45e+08 : 230.8 secs : infill_ei\n",
      "\n"
     ]
    },
    {
     "name": "stdout",
     "output_type": "stream",
     "text": [
      "Validate  61     530    98719349     103151962     \n",
      "20231031 235311\t156\t2714406\tgbdt\tbinary\tcustom\tTRUE\tTRUE\tFALSE\tTRUE\t-100\t-1\t0\t0.001\t0\t0\t31\t105\t1\t1\t1\tFALSE\t1\t0.1\t50\t0.5\tTRUE\t279523\t0.136560488809445\t0.836445873708031\t112\t5242\t12569\t151488364.317841\t61\n"
     ]
    },
    {
     "name": "stderr",
     "output_type": "stream",
     "text": [
      "[mbo] 45: learning_rate=0.137; feature_fraction=0.836; num_leaves=112; min_data_in_leaf=5242 : y = 1.51e+08 : 209.3 secs : infill_ei\n",
      "\n",
      "Saved the current state after iteration 46 in the file KA8240 (Clase 10-11, Ajustado sem2).RDATA.\n",
      "\n"
     ]
    },
    {
     "name": "stdout",
     "output_type": "stream",
     "text": [
      "Validate  62     430    99511083     108938632     \n",
      "20231031 235639\t156\t2714406\tgbdt\tbinary\tcustom\tTRUE\tTRUE\tFALSE\tTRUE\t-100\t-1\t0\t0.001\t0\t0\t31\t18\t1\t1\t1\tFALSE\t1\t0.1\t50\t0.5\tTRUE\t279523\t0.212551235045487\t0.665658624600946\t942\t19129\t16981\t137821635.682159\t62\n"
     ]
    },
    {
     "name": "stderr",
     "output_type": "stream",
     "text": [
      "[mbo] 46: learning_rate=0.213; feature_fraction=0.666; num_leaves=942; min_data_in_leaf=19129 : y = 1.38e+08 : 205.1 secs : infill_ei\n",
      "\n"
     ]
    },
    {
     "name": "stdout",
     "output_type": "stream",
     "text": [
      "Validate  63     430    98786918     103357578     \n",
      "20231101 000037\t156\t2714406\tgbdt\tbinary\tcustom\tTRUE\tTRUE\tFALSE\tTRUE\t-100\t-1\t0\t0.001\t0\t0\t31\t15\t1\t1\t1\tFALSE\t1\t0.1\t50\t0.5\tTRUE\t279523\t0.25321865366607\t0.448758293491342\t971\t24120\t12168\t135490446.776612\t63\n"
     ]
    },
    {
     "name": "stderr",
     "output_type": "stream",
     "text": [
      "[mbo] 47: learning_rate=0.253; feature_fraction=0.449; num_leaves=971; min_data_in_leaf=24120 : y = 1.35e+08 : 237.7 secs : infill_ei\n",
      "\n"
     ]
    },
    {
     "name": "stdout",
     "output_type": "stream",
     "text": [
      "Validate  64     430    103301225     105564915    \n",
      "20231101 000248\t156\t2714406\tgbdt\tbinary\tcustom\tTRUE\tTRUE\tFALSE\tTRUE\t-100\t-1\t0\t0.001\t0\t0\t31\t16\t1\t1\t1\tFALSE\t1\t0.1\t50\t0.5\tTRUE\t279523\t0.188637059644681\t0.988666620378563\t30\t45043\t13137\t132772974.012993\t64\n"
     ]
    },
    {
     "name": "stderr",
     "output_type": "stream",
     "text": [
      "[mbo] 48: learning_rate=0.189; feature_fraction=0.989; num_leaves=30; min_data_in_leaf=45043 : y = 1.33e+08 : 130.3 secs : infill_ei\n",
      "\n"
     ]
    },
    {
     "name": "stdout",
     "output_type": "stream",
     "text": [
      "Validate  65     970    107449612     109826299    \n",
      "20231101 000752\t156\t2714406\tgbdt\tbinary\tcustom\tTRUE\tTRUE\tFALSE\tTRUE\t-100\t-1\t0\t0.001\t0\t0\t31\t423\t1\t1\t1\tFALSE\t1\t0.1\t50\t0.5\tTRUE\t279523\t0.0258575184084205\t0.109535193372164\t815\t16089\t13975\t144661156.921539\t65\n"
     ]
    },
    {
     "name": "stderr",
     "output_type": "stream",
     "text": [
      "[mbo] 49: learning_rate=0.0259; feature_fraction=0.11; num_leaves=815; min_data_in_leaf=16089 : y = 1.45e+08 : 304.1 secs : infill_ei\n",
      "\n",
      "Saved the current state after iteration 50 in the file KA8240 (Clase 10-11, Ajustado sem2).RDATA.\n",
      "\n"
     ]
    },
    {
     "name": "stdout",
     "output_type": "stream",
     "text": [
      "Validate  66     430    98861934     106917878     \n",
      "20231101 001140\t156\t2714406\tgbdt\tbinary\tcustom\tTRUE\tTRUE\tFALSE\tTRUE\t-100\t-1\t0\t0.001\t0\t0\t31\t15\t1\t1\t1\tFALSE\t1\t0.1\t50\t0.5\tTRUE\t279523\t0.241942433972542\t0.275592356413668\t159\t6390\t14779\t138056025.487256\t66\n"
     ]
    },
    {
     "name": "stderr",
     "output_type": "stream",
     "text": [
      "[mbo] 50: learning_rate=0.242; feature_fraction=0.276; num_leaves=159; min_data_in_leaf=6390 : y = 1.38e+08 : 225.3 secs : infill_ei\n",
      "\n",
      "Saved the final state in the file KA8240 (Clase 10-11, Ajustado sem2).RDATA\n",
      "\n"
     ]
    },
    {
     "name": "stdout",
     "output_type": "stream",
     "text": [
      "\n",
      "\n",
      "La optimizacion Bayesiana ha terminado\n"
     ]
    }
   ],
   "source": [
    "# inicio la optimizacion bayesiana\n",
    "if (!file.exists(kbayesiana)) {\n",
    "  run <- mbo(obj.fun, learner = surr.km, control = ctrl)\n",
    "} else {\n",
    "  run <- mboContinue(kbayesiana) # retomo en caso que ya exista\n",
    "}\n",
    "\n",
    "\n",
    "cat(\"\\n\\nLa optimizacion Bayesiana ha terminado\\n\")\n"
   ]
  }
 ],
 "metadata": {
  "kernelspec": {
   "display_name": "R",
   "language": "R",
   "name": "ir"
  },
  "language_info": {
   "codemirror_mode": "r",
   "file_extension": ".r",
   "mimetype": "text/x-r-source",
   "name": "R",
   "pygments_lexer": "r",
   "version": "4.3.1"
  },
  "orig_nbformat": 4
 },
 "nbformat": 4,
 "nbformat_minor": 2
}
