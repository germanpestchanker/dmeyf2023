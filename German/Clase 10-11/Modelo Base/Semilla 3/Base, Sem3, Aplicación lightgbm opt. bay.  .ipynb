{
 "cells": [
  {
   "cell_type": "markdown",
   "metadata": {},
   "source": [
    "## Importación de Librerías"
   ]
  },
  {
   "cell_type": "markdown",
   "metadata": {},
   "source": [
    "- Para correr el Google Cloud\n",
    "-   8 vCPU\n",
    "-  64 GB memoria RAM"
   ]
  },
  {
   "cell_type": "code",
   "execution_count": 1,
   "metadata": {
    "vscode": {
     "languageId": "r"
    }
   },
   "outputs": [
    {
     "data": {
      "text/html": [
       "<table class=\"dataframe\">\n",
       "<caption>A matrix: 2 × 6 of type dbl</caption>\n",
       "<thead>\n",
       "\t<tr><th></th><th scope=col>used</th><th scope=col>(Mb)</th><th scope=col>gc trigger</th><th scope=col>(Mb)</th><th scope=col>max used</th><th scope=col>(Mb)</th></tr>\n",
       "</thead>\n",
       "<tbody>\n",
       "\t<tr><th scope=row>Ncells</th><td> 631888</td><td>33.8</td><td>1412175</td><td>75.5</td><td> 984966</td><td>52.7</td></tr>\n",
       "\t<tr><th scope=row>Vcells</th><td>1170389</td><td> 9.0</td><td>8388608</td><td>64.0</td><td>1815603</td><td>13.9</td></tr>\n",
       "</tbody>\n",
       "</table>\n"
      ],
      "text/latex": [
       "A matrix: 2 × 6 of type dbl\n",
       "\\begin{tabular}{r|llllll}\n",
       "  & used & (Mb) & gc trigger & (Mb) & max used & (Mb)\\\\\n",
       "\\hline\n",
       "\tNcells &  631888 & 33.8 & 1412175 & 75.5 &  984966 & 52.7\\\\\n",
       "\tVcells & 1170389 &  9.0 & 8388608 & 64.0 & 1815603 & 13.9\\\\\n",
       "\\end{tabular}\n"
      ],
      "text/markdown": [
       "\n",
       "A matrix: 2 × 6 of type dbl\n",
       "\n",
       "| <!--/--> | used | (Mb) | gc trigger | (Mb) | max used | (Mb) |\n",
       "|---|---|---|---|---|---|---|\n",
       "| Ncells |  631888 | 33.8 | 1412175 | 75.5 |  984966 | 52.7 |\n",
       "| Vcells | 1170389 |  9.0 | 8388608 | 64.0 | 1815603 | 13.9 |\n",
       "\n"
      ],
      "text/plain": [
       "       used    (Mb) gc trigger (Mb) max used (Mb)\n",
       "Ncells  631888 33.8 1412175    75.5  984966  52.7\n",
       "Vcells 1170389  9.0 8388608    64.0 1815603  13.9"
      ]
     },
     "metadata": {},
     "output_type": "display_data"
    }
   ],
   "source": [
    "# limpio la memoria\n",
    "rm(list = ls()) # remove all objects\n",
    "gc() # garbage collection"
   ]
  },
  {
   "cell_type": "code",
   "execution_count": 2,
   "metadata": {
    "vscode": {
     "languageId": "r"
    }
   },
   "outputs": [
    {
     "name": "stderr",
     "output_type": "stream",
     "text": [
      "Loading required package: data.table\n",
      "\n",
      "Loading required package: lightgbm\n",
      "\n"
     ]
    }
   ],
   "source": [
    "require(\"data.table\")\n",
    "require(\"lightgbm\")"
   ]
  },
  {
   "cell_type": "code",
   "execution_count": 3,
   "metadata": {
    "vscode": {
     "languageId": "r"
    }
   },
   "outputs": [],
   "source": [
    "# defino los parametros de la corrida, en una lista, la variable global  PARAM\n",
    "#  muy pronto esto se leera desde un archivo formato .yaml\n",
    "PARAM <- list()\n",
    "PARAM$experimento <- \"KA8240 (Clase 10-11, base sem3)\"\n",
    "\n",
    "PARAM$input$dataset <- \"datasets/competencia_03 (base).csv.gz\"\n",
    "\n",
    "# meses donde se entrena el modelo\n",
    "PARAM$input$training <- c( 202107, 202106, 202105, 202104, 202103, 202102,202101, 202012, 202011, 202010, 202009, 202008, 202002, 202001, 201912, 201911, 201910, 201909)\n",
    "PARAM$input$future <- c(202109) # meses donde se aplica el modelo\n",
    "\n",
    "PARAM$finalmodel$semilla <- 279541\n",
    "\n",
    "# hiperparametros intencionalmente optimos\n",
    "PARAM$finalmodel$optim$num_iterations <- 710\n",
    "PARAM$finalmodel$optim$learning_rate <- 0.0429818473849446\n",
    "PARAM$finalmodel$optim$feature_fraction <- 0.840359180488013\n",
    "PARAM$finalmodel$optim$min_data_in_leaf <- 42638\n",
    "PARAM$finalmodel$optim$num_leaves <- 150"
   ]
  },
  {
   "cell_type": "code",
   "execution_count": 4,
   "metadata": {
    "vscode": {
     "languageId": "r"
    }
   },
   "outputs": [],
   "source": [
    "# Hiperparametros FIJOS de  lightgbm\n",
    "PARAM$finalmodel$lgb_basicos <- list(\n",
    "  boosting = \"gbdt\", # puede ir  dart  , ni pruebe random_forest\n",
    "  objective = \"binary\",\n",
    "  metric = \"custom\",\n",
    "  first_metric_only = TRUE,\n",
    "  boost_from_average = TRUE,\n",
    "  feature_pre_filter = FALSE,\n",
    "  force_row_wise = TRUE, # para reducir warnings\n",
    "  verbosity = -100,\n",
    "  max_depth = -1L, # -1 significa no limitar,  por ahora lo dejo fijo\n",
    "  min_gain_to_split = 0.0, # min_gain_to_split >= 0.0\n",
    "  min_sum_hessian_in_leaf = 0.001, #  min_sum_hessian_in_leaf >= 0.0\n",
    "  lambda_l1 = 0.0, # lambda_l1 >= 0.0\n",
    "  lambda_l2 = 0.0, # lambda_l2 >= 0.0\n",
    "  max_bin = 31L, # lo debo dejar fijo, no participa de la BO\n",
    "\n",
    "  bagging_fraction = 1.0, # 0.0 < bagging_fraction <= 1.0\n",
    "  pos_bagging_fraction = 1.0, # 0.0 < pos_bagging_fraction <= 1.0\n",
    "  neg_bagging_fraction = 1.0, # 0.0 < neg_bagging_fraction <= 1.0\n",
    "  is_unbalance = FALSE, #\n",
    "  scale_pos_weight = 1.0, # scale_pos_weight > 0.0\n",
    "\n",
    "  drop_rate = 0.1, # 0.0 < neg_bagging_fraction <= 1.0\n",
    "  max_drop = 50, # <=0 means no limit\n",
    "  skip_drop = 0.5, # 0.0 <= skip_drop <= 1.0\n",
    "\n",
    "  extra_trees = TRUE, # Magic Sauce\n",
    "\n",
    "  seed = PARAM$finalmodel$semilla\n",
    ")"
   ]
  },
  {
   "cell_type": "markdown",
   "metadata": {},
   "source": [
    "# Aqui empieza el programa"
   ]
  },
  {
   "cell_type": "code",
   "execution_count": 5,
   "metadata": {
    "vscode": {
     "languageId": "r"
    }
   },
   "outputs": [],
   "source": [
    "# Aqui empieza el programa\n",
    "setwd(\"~/buckets/b1\")\n",
    "\n",
    "# cargo el dataset donde voy a entrenar\n",
    "dataset <- fread(PARAM$input$dataset, stringsAsFactors = TRUE)"
   ]
  },
  {
   "cell_type": "code",
   "execution_count": 6,
   "metadata": {
    "vscode": {
     "languageId": "r"
    }
   },
   "outputs": [],
   "source": [
    "# Catastrophe Analysis  -------------------------------------------------------\n",
    "# deben ir cosas de este estilo\n",
    "#   dataset[foto_mes == 202006, active_quarter := NA]\n",
    "\n",
    "# Data Drifting\n",
    "# por ahora, no hago nada\n",
    "\n",
    "\n",
    "# Feature Engineering Historico  ----------------------------------------------\n",
    "#   aqui deben calcularse los  lags y  lag_delta\n",
    "#   Sin lags no hay paraiso ! corta la bocha\n",
    "#   https://rdrr.io/cran/data.table/man/shift.html\n",
    "\n"
   ]
  },
  {
   "cell_type": "code",
   "execution_count": 7,
   "metadata": {
    "vscode": {
     "languageId": "r"
    }
   },
   "outputs": [],
   "source": [
    "# paso la clase a binaria que tome valores {0,1}  enteros\n",
    "# set trabaja con la clase  POS = { BAJA+1, BAJA+2 }\n",
    "# esta estrategia es MUY importante\n",
    "dataset[, clase01 := ifelse(clase_ternaria %in% c(\"BAJA+2\", \"BAJA+1\"), 1L, 0L)]"
   ]
  },
  {
   "cell_type": "code",
   "execution_count": 8,
   "metadata": {
    "vscode": {
     "languageId": "r"
    }
   },
   "outputs": [],
   "source": [
    "# los campos que se van a utilizar\n",
    "campos_buenos <- setdiff(colnames(dataset), c(\"clase_ternaria\", \"clase01\"))"
   ]
  },
  {
   "cell_type": "code",
   "execution_count": 9,
   "metadata": {
    "vscode": {
     "languageId": "r"
    }
   },
   "outputs": [],
   "source": [
    "# establezco donde entreno\n",
    "dataset[, train := 0L]\n",
    "dataset[foto_mes %in% PARAM$input$training, train := 1L]\n"
   ]
  },
  {
   "cell_type": "code",
   "execution_count": 10,
   "metadata": {
    "vscode": {
     "languageId": "r"
    }
   },
   "outputs": [],
   "source": [
    "# creo las carpetas donde van los resultados\n",
    "# creo la carpeta donde va el experimento\n",
    "dir.create(\"./exp/\", showWarnings = FALSE)\n",
    "dir.create(paste0(\"./exp/\", PARAM$experimento, \"/\"), showWarnings = FALSE)\n",
    "\n",
    "# Establezco el Working Directory DEL EXPERIMENTO\n",
    "setwd(paste0(\"./exp/\", PARAM$experimento, \"/\"))"
   ]
  },
  {
   "cell_type": "code",
   "execution_count": 11,
   "metadata": {
    "vscode": {
     "languageId": "r"
    }
   },
   "outputs": [],
   "source": [
    "# dejo los datos en el formato que necesita LightGBM\n",
    "dtrain <- lgb.Dataset(\n",
    "  data = data.matrix(dataset[train == 1L, campos_buenos, with = FALSE]),\n",
    "  label = dataset[train == 1L, clase01]\n",
    ")"
   ]
  },
  {
   "cell_type": "code",
   "execution_count": 12,
   "metadata": {
    "vscode": {
     "languageId": "r"
    }
   },
   "outputs": [],
   "source": [
    "# genero el modelo\n",
    "param_completo <- c(PARAM$finalmodel$lgb_basicos,\n",
    "  PARAM$finalmodel$optim)\n",
    "\n",
    "modelo <- lgb.train(\n",
    "  data = dtrain,\n",
    "  param = param_completo,\n",
    ")"
   ]
  },
  {
   "cell_type": "code",
   "execution_count": 13,
   "metadata": {
    "vscode": {
     "languageId": "r"
    }
   },
   "outputs": [],
   "source": [
    "# ahora imprimo la importancia de variables\n",
    "tb_importancia <- as.data.table(lgb.importance(modelo))\n",
    "archivo_importancia <- \"impo.txt\"\n",
    "\n",
    "fwrite(tb_importancia,\n",
    "  file = archivo_importancia,\n",
    "  sep = \"\\t\"\n",
    ")\n"
   ]
  },
  {
   "cell_type": "code",
   "execution_count": 14,
   "metadata": {
    "vscode": {
     "languageId": "r"
    }
   },
   "outputs": [],
   "source": [
    "# aplico el modelo a los datos sin clase\n",
    "dapply <- dataset[foto_mes == PARAM$input$future]\n",
    "\n",
    "# aplico el modelo a los datos nuevos\n",
    "prediccion <- predict(\n",
    "  modelo,\n",
    "  data.matrix(dapply[, campos_buenos, with = FALSE])\n",
    ")\n",
    "\n",
    "# genero la tabla de entrega\n",
    "tb_entrega <- dapply[, list(numero_de_cliente, foto_mes)]\n",
    "tb_entrega[, prob := prediccion]\n",
    "\n",
    "# grabo las probabilidad del modelo\n",
    "fwrite(tb_entrega,\n",
    "  file = \"prediccion.txt\",\n",
    "  sep = \"\\t\"\n",
    ")\n",
    "\n",
    "# ordeno por probabilidad descendente\n",
    "setorder(tb_entrega, -prob)\n"
   ]
  },
  {
   "cell_type": "code",
   "execution_count": 15,
   "metadata": {
    "vscode": {
     "languageId": "r"
    }
   },
   "outputs": [
    {
     "name": "stdout",
     "output_type": "stream",
     "text": [
      "\n",
      "\n",
      "La generacion de los archivos para Kaggle ha terminado\n"
     ]
    }
   ],
   "source": [
    "# genero archivos con los  \"envios\" mejores\n",
    "# deben subirse \"inteligentemente\" a Kaggle para no malgastar submits\n",
    "# si la palabra inteligentemente no le significa nada aun\n",
    "# suba TODOS los archivos a Kaggle\n",
    "# espera a la siguiente clase sincronica en donde el tema sera explicado\n",
    "\n",
    "cortes <- seq(8000, 13000, by = 500)\n",
    "for (envios in cortes) {\n",
    "  tb_entrega[, Predicted := 0L]\n",
    "  tb_entrega[1:envios, Predicted := 1L]\n",
    "\n",
    "  fwrite(tb_entrega[, list(numero_de_cliente, Predicted)],\n",
    "    file = paste0(PARAM$experimento, \"_\", envios, \".csv\"),\n",
    "    sep = \",\"\n",
    "  )\n",
    "}\n",
    "\n",
    "cat(\"\\n\\nLa generacion de los archivos para Kaggle ha terminado\\n\")"
   ]
  }
 ],
 "metadata": {
  "kernelspec": {
   "display_name": "R",
   "language": "R",
   "name": "ir"
  },
  "language_info": {
   "codemirror_mode": "r",
   "file_extension": ".r",
   "mimetype": "text/x-r-source",
   "name": "R",
   "pygments_lexer": "r",
   "version": "4.3.1"
  }
 },
 "nbformat": 4,
 "nbformat_minor": 4
}
