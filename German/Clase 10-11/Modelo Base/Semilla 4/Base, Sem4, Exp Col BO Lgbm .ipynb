{
 "cells": [
  {
   "cell_type": "markdown",
   "metadata": {},
   "source": [
    "## Importación de Librerías"
   ]
  },
  {
   "cell_type": "markdown",
   "metadata": {},
   "source": [
    "Este script esta pensado para correr en Google Cloud\n",
    "- 8 vCPU\n",
    "- 128 GB memoria RAM\n",
    "\n",
    "- se entrena con clase_binaria2  POS =  { BAJA+1, BAJA+2 }\n",
    "- Optimizacion Bayesiana de hiperparametros de  lightgbm,"
   ]
  },
  {
   "cell_type": "code",
   "execution_count": 1,
   "metadata": {
    "vscode": {
     "languageId": "r"
    }
   },
   "outputs": [
    {
     "data": {
      "text/html": [
       "<table class=\"dataframe\">\n",
       "<caption>A matrix: 2 × 6 of type dbl</caption>\n",
       "<thead>\n",
       "\t<tr><th></th><th scope=col>used</th><th scope=col>(Mb)</th><th scope=col>gc trigger</th><th scope=col>(Mb)</th><th scope=col>max used</th><th scope=col>(Mb)</th></tr>\n",
       "</thead>\n",
       "<tbody>\n",
       "\t<tr><th scope=row>Ncells</th><td> 631888</td><td>33.8</td><td>1412195</td><td>75.5</td><td> 984953</td><td>52.7</td></tr>\n",
       "\t<tr><th scope=row>Vcells</th><td>1170401</td><td> 9.0</td><td>8388608</td><td>64.0</td><td>1815603</td><td>13.9</td></tr>\n",
       "</tbody>\n",
       "</table>\n"
      ],
      "text/latex": [
       "A matrix: 2 × 6 of type dbl\n",
       "\\begin{tabular}{r|llllll}\n",
       "  & used & (Mb) & gc trigger & (Mb) & max used & (Mb)\\\\\n",
       "\\hline\n",
       "\tNcells &  631888 & 33.8 & 1412195 & 75.5 &  984953 & 52.7\\\\\n",
       "\tVcells & 1170401 &  9.0 & 8388608 & 64.0 & 1815603 & 13.9\\\\\n",
       "\\end{tabular}\n"
      ],
      "text/markdown": [
       "\n",
       "A matrix: 2 × 6 of type dbl\n",
       "\n",
       "| <!--/--> | used | (Mb) | gc trigger | (Mb) | max used | (Mb) |\n",
       "|---|---|---|---|---|---|---|\n",
       "| Ncells |  631888 | 33.8 | 1412195 | 75.5 |  984953 | 52.7 |\n",
       "| Vcells | 1170401 |  9.0 | 8388608 | 64.0 | 1815603 | 13.9 |\n",
       "\n"
      ],
      "text/plain": [
       "       used    (Mb) gc trigger (Mb) max used (Mb)\n",
       "Ncells  631888 33.8 1412195    75.5  984953  52.7\n",
       "Vcells 1170401  9.0 8388608    64.0 1815603  13.9"
      ]
     },
     "metadata": {},
     "output_type": "display_data"
    }
   ],
   "source": [
    "# limpio la memoria\n",
    "rm(list = ls()) # remove all objects\n",
    "gc() # garbage collection"
   ]
  },
  {
   "cell_type": "code",
   "execution_count": 2,
   "metadata": {
    "vscode": {
     "languageId": "r"
    }
   },
   "outputs": [
    {
     "name": "stderr",
     "output_type": "stream",
     "text": [
      "Loading required package: data.table\n",
      "\n",
      "Loading required package: rlist\n",
      "\n",
      "Loading required package: lightgbm\n",
      "\n"
     ]
    }
   ],
   "source": [
    "require(\"data.table\")\n",
    "require(\"rlist\")\n",
    "require(\"lightgbm\")"
   ]
  },
  {
   "cell_type": "code",
   "execution_count": 3,
   "metadata": {
    "vscode": {
     "languageId": "r"
    }
   },
   "outputs": [
    {
     "name": "stderr",
     "output_type": "stream",
     "text": [
      "Loading required package: DiceKriging\n",
      "\n"
     ]
    },
    {
     "name": "stderr",
     "output_type": "stream",
     "text": [
      "Loading required package: mlrMBO\n",
      "\n",
      "Loading required package: mlr\n",
      "\n",
      "Loading required package: ParamHelpers\n",
      "\n",
      "Warning message: 'mlr' is in 'maintenance-only' mode since July 2019.\n",
      "Future development will only happen in 'mlr3'\n",
      "(<https://mlr3.mlr-org.com>). Due to the focus on 'mlr3' there might be\n",
      "uncaught bugs meanwhile in {mlr} - please consider switching.\n",
      "\n",
      "Loading required package: smoof\n",
      "\n",
      "Loading required package: checkmate\n",
      "\n",
      "\n",
      "Attaching package: ‘checkmate’\n",
      "\n",
      "\n",
      "The following object is masked from ‘package:DiceKriging’:\n",
      "\n",
      "    checkNames\n",
      "\n",
      "\n"
     ]
    }
   ],
   "source": [
    "# paquetes necesarios para la Bayesian Optimization\n",
    "require(\"DiceKriging\")\n",
    "require(\"mlrMBO\")\n",
    "\n",
    "# para que se detenga ante el primer error\n",
    "# y muestre el stack de funciones invocadas\n",
    "options(error = function() {\n",
    "  traceback(20)\n",
    "  options(error = NULL)\n",
    "  stop(\"exiting after script error\")\n",
    "})"
   ]
  },
  {
   "cell_type": "markdown",
   "metadata": {},
   "source": [
    "# Definición de Parametros"
   ]
  },
  {
   "cell_type": "code",
   "execution_count": 4,
   "metadata": {
    "vscode": {
     "languageId": "r"
    }
   },
   "outputs": [],
   "source": [
    "# defino los parametros de la corrida, en una lista, la variable global  PARAM\n",
    "#  muy pronto esto se leera desde un archivo formato .yaml\n",
    "PARAM <- list()\n",
    "\n",
    "PARAM$experimento <- \"HT8230 (Clase 10-11, Base Sem4)\"\n",
    "\n",
    "PARAM$input$dataset <- \"datasets/competencia_03 (base).csv.gz\"\n",
    "\n",
    "# los meses en los que vamos a entrenar\n",
    "#  mucha magia emerger de esta eleccion\n",
    "PARAM$input$testing <- c(202107) # Último mes, lo más cercano al 202109 de kaggle\n",
    "PARAM$input$validation <- c(202106)\n",
    "PARAM$input$training <- c(202105, 202104, 202103, 202102, 202101,\n",
    " 202012, 202011, 202010, 202009, 202008, 202002, 202001, 201912, 201911,\n",
    " 201910, 201909, 201908, 201907) #Tal como lo pide el pdf de la materia\n",
    "\n",
    "# un undersampling de 0.1  toma solo el 10% de los CONTINUA\n",
    "PARAM$trainingstrategy$undersampling <- 1.0\n",
    "PARAM$trainingstrategy$semilla_azar <- c(279511, 279523, 279541, 279551, 279571)  # Aqui poner su  primer  semilla/ pongo todas mis semillas\n",
    "\n",
    "PARAM$hyperparametertuning$POS_ganancia <- 273000\n",
    "PARAM$hyperparametertuning$NEG_ganancia <- -7000\n",
    "\n",
    "# Aqui poner su segunda semilla\n",
    "PARAM$lgb_semilla <- 279551"
   ]
  },
  {
   "cell_type": "code",
   "execution_count": 5,
   "metadata": {
    "vscode": {
     "languageId": "r"
    }
   },
   "outputs": [],
   "source": [
    "# Hiperparametros FIJOS de  lightgbm\n",
    "PARAM$lgb_basicos <- list(\n",
    "  boosting = \"gbdt\", # puede ir  dart  , ni pruebe random_forest\n",
    "  objective = \"binary\",\n",
    "  metric = \"custom\",\n",
    "  first_metric_only = TRUE,\n",
    "  boost_from_average = TRUE,\n",
    "  feature_pre_filter = FALSE,\n",
    "  force_row_wise = TRUE, # para reducir warnings\n",
    "  verbosity = -100,\n",
    "  max_depth = -1L, # -1 significa no limitar,  por ahora lo dejo fijo\n",
    "  min_gain_to_split = 0.0, # min_gain_to_split >= 0.0\n",
    "  min_sum_hessian_in_leaf = 0.001, #  min_sum_hessian_in_leaf >= 0.0\n",
    "  lambda_l1 = 0.0, # lambda_l1 >= 0.0\n",
    "  lambda_l2 = 0.0, # lambda_l2 >= 0.0\n",
    "  max_bin = 31L, # lo debo dejar fijo, no participa de la BO\n",
    "  num_iterations = 9999, # un numero muy grande, lo limita early_stopping_rounds\n",
    "\n",
    "  bagging_fraction = 1.0, # 0.0 < bagging_fraction <= 1.0\n",
    "  pos_bagging_fraction = 1.0, # 0.0 < pos_bagging_fraction <= 1.0\n",
    "  neg_bagging_fraction = 1.0, # 0.0 < neg_bagging_fraction <= 1.0\n",
    "  is_unbalance = FALSE, #\n",
    "  scale_pos_weight = 1.0, # scale_pos_weight > 0.0\n",
    "\n",
    "  drop_rate = 0.1, # 0.0 < neg_bagging_fraction <= 1.0\n",
    "  max_drop = 50, # <=0 means no limit\n",
    "  skip_drop = 0.5, # 0.0 <= skip_drop <= 1.0\n",
    "\n",
    "  extra_trees = TRUE, # Magic Sauce\n",
    "\n",
    "  seed = PARAM$lgb_semilla\n",
    ")"
   ]
  },
  {
   "cell_type": "code",
   "execution_count": 6,
   "metadata": {
    "vscode": {
     "languageId": "r"
    }
   },
   "outputs": [],
   "source": [
    "# Aqui se cargan los hiperparametros que se optimizan\n",
    "#  en la Bayesian Optimization\n",
    "PARAM$bo_lgb <- makeParamSet(\n",
    "  makeNumericParam(\"learning_rate\", lower = 0.02, upper = 0.3),\n",
    "  makeNumericParam(\"feature_fraction\", lower = 0.01, upper = 1.0),\n",
    "  makeIntegerParam(\"num_leaves\", lower = 8L, upper = 1024L),\n",
    "  makeIntegerParam(\"min_data_in_leaf\", lower = 100L, upper = 50000L)\n",
    ")\n",
    "\n",
    "# si usted es ambicioso, y tiene paciencia, podria subir este valor a 100\n",
    "PARAM$bo_iteraciones <- 50 # iteraciones de la Optimizacion Bayesiana"
   ]
  },
  {
   "cell_type": "code",
   "execution_count": 7,
   "metadata": {
    "vscode": {
     "languageId": "r"
    }
   },
   "outputs": [],
   "source": [
    "# graba a un archivo los componentes de lista\n",
    "# para el primer registro, escribe antes los titulos\n",
    "\n",
    "loguear <- function(\n",
    "    reg, arch = NA, folder = \"./exp/\",\n",
    "    ext = \".txt\", verbose = TRUE) {\n",
    "  archivo <- arch\n",
    "  if (is.na(arch)) archivo <- paste0(folder, substitute(reg), ext)\n",
    "\n",
    "  if (!file.exists(archivo)) # Escribo los titulos\n",
    "    {\n",
    "      linea <- paste0(\n",
    "        \"fecha\\t\",\n",
    "        paste(list.names(reg), collapse = \"\\t\"), \"\\n\"\n",
    "      )\n",
    "\n",
    "      cat(linea, file = archivo)\n",
    "    }\n",
    "\n",
    "  linea <- paste0(\n",
    "    format(Sys.time(), \"%Y%m%d %H%M%S\"), \"\\t\", # la fecha y hora\n",
    "    gsub(\", \", \"\\t\", toString(reg)), \"\\n\"\n",
    "  )\n",
    "\n",
    "  cat(linea, file = archivo, append = TRUE) # grabo al archivo\n",
    "\n",
    "  if (verbose) cat(linea) # imprimo por pantalla\n",
    "}"
   ]
  },
  {
   "cell_type": "code",
   "execution_count": 8,
   "metadata": {
    "vscode": {
     "languageId": "r"
    }
   },
   "outputs": [],
   "source": [
    "#------------------------------------------------------------------------------\n",
    "GLOBAL_arbol <- 0L\n",
    "GLOBAL_gan_max <- -Inf\n",
    "vcant_optima <- c()\n",
    "\n",
    "fganancia_lgbm_meseta <- function(probs, datos) {\n",
    "  vlabels <- get_field(datos, \"label\")\n",
    "  vpesos <- get_field(datos, \"weight\")\n",
    "\n",
    "\n",
    "  GLOBAL_arbol <<- GLOBAL_arbol + 1\n",
    "  tbl <- as.data.table(list(\n",
    "    \"prob\" = probs,\n",
    "    \"gan\" = ifelse(vlabels == 1 & vpesos > 1,\n",
    "      PARAM$hyperparametertuning$POS_ganancia,\n",
    "      PARAM$hyperparametertuning$NEG_ganancia  )\n",
    "  ))\n",
    "\n",
    "  setorder(tbl, -prob)\n",
    "  tbl[, posicion := .I]\n",
    "  tbl[, gan_acum := cumsum(gan)]\n",
    "\n",
    "  tbl[, gan_suavizada :=\n",
    "    frollmean(\n",
    "      x = gan_acum, n = 2001, align = \"center\",\n",
    "      na.rm = TRUE, hasNA = TRUE\n",
    "    )]\n",
    "\n",
    "  gan <- tbl[, max(gan_suavizada, na.rm = TRUE)]\n",
    "\n",
    "\n",
    "  pos <- which.max(tbl[, gan_suavizada])\n",
    "  vcant_optima <<- c(vcant_optima, pos)\n",
    "\n",
    "  if (GLOBAL_arbol %% 10 == 0) {\n",
    "    if (gan > GLOBAL_gan_max) GLOBAL_gan_max <<- gan\n",
    "\n",
    "    cat(\"\\r\")\n",
    "    cat(\n",
    "      \"Validate \", GLOBAL_iteracion, \" \", \" \",\n",
    "      GLOBAL_arbol, \"  \", gan, \"   \", GLOBAL_gan_max, \"   \"\n",
    "    )\n",
    "  }\n",
    "\n",
    "\n",
    "  return(list(\n",
    "    \"name\" = \"ganancia\",\n",
    "    \"value\" = gan,\n",
    "    \"higher_better\" = TRUE\n",
    "  ))\n",
    "}"
   ]
  },
  {
   "cell_type": "code",
   "execution_count": 9,
   "metadata": {
    "vscode": {
     "languageId": "r"
    }
   },
   "outputs": [],
   "source": [
    "#------------------------------------------------------------------------------\n",
    "\n",
    "EstimarGanancia_lightgbm <- function(x) {\n",
    "  gc()\n",
    "  GLOBAL_iteracion <<- GLOBAL_iteracion + 1L\n",
    "\n",
    "  # hago la union de los parametros basicos y los moviles que vienen en x\n",
    "  param_completo <- c(PARAM$lgb_basicos, x)\n",
    "\n",
    "  param_completo$early_stopping_rounds <-\n",
    "    as.integer(400 + 4 / param_completo$learning_rate)\n",
    "\n",
    "  GLOBAL_arbol <<- 0L\n",
    "  GLOBAL_gan_max <<- -Inf\n",
    "  vcant_optima <<- c()\n",
    "  set.seed(PARAM$lgb_semilla, kind = \"L'Ecuyer-CMRG\")\n",
    "  modelo_train <- lgb.train(\n",
    "    data = dtrain,\n",
    "    valids = list(valid = dvalidate),\n",
    "    eval = fganancia_lgbm_meseta,\n",
    "    param = param_completo,\n",
    "    verbose = -100\n",
    "  )\n",
    "\n",
    "  cat(\"\\n\")\n",
    "\n",
    "  cant_corte <- vcant_optima[modelo_train$best_iter]\n",
    "\n",
    "  # aplico el modelo a testing y calculo la ganancia\n",
    "  prediccion <- predict(\n",
    "    modelo_train,\n",
    "    data.matrix(dataset_test[, campos_buenos, with = FALSE])\n",
    "  )\n",
    "\n",
    "  tbl <- copy(dataset_test[, list(\"gan\" = ifelse(clase_ternaria == \"BAJA+2\",\n",
    "    PARAM$hyperparametertuning$POS_ganancia, \n",
    "    PARAM$hyperparametertuning$NEG_ganancia))])\n",
    "\n",
    "  tbl[, prob := prediccion]\n",
    "  setorder(tbl, -prob)\n",
    "  tbl[, gan_acum := cumsum(gan)]\n",
    "  tbl[, gan_suavizada := frollmean(\n",
    "    x = gan_acum, n = 2001,\n",
    "    align = \"center\", na.rm = TRUE, hasNA = TRUE\n",
    "  )]\n",
    "\n",
    "\n",
    "  ganancia_test <- tbl[, max(gan_suavizada, na.rm = TRUE)]\n",
    "\n",
    "  cantidad_test_normalizada <- which.max(tbl[, gan_suavizada])\n",
    "\n",
    "  rm(tbl)\n",
    "  gc()\n",
    "\n",
    "  ganancia_test_normalizada <- ganancia_test\n",
    "\n",
    "\n",
    "  # voy grabando las mejores column importance\n",
    "  if (ganancia_test_normalizada > GLOBAL_gananciamax) {\n",
    "    GLOBAL_gananciamax <<- ganancia_test_normalizada\n",
    "    tb_importancia <- as.data.table(lgb.importance(modelo_train))\n",
    "\n",
    "    fwrite(tb_importancia,\n",
    "      file = paste0(\"impo_\", sprintf(\"%03d\", GLOBAL_iteracion), \".txt\"),\n",
    "      sep = \"\\t\"\n",
    "    )\n",
    "\n",
    "    rm(tb_importancia)\n",
    "  }\n",
    "\n",
    "\n",
    "  # logueo final\n",
    "  ds <- list(\"cols\" = ncol(dtrain), \"rows\" = nrow(dtrain))\n",
    "  xx <- c(ds, copy(param_completo))\n",
    "\n",
    "  xx$early_stopping_rounds <- NULL\n",
    "  xx$num_iterations <- modelo_train$best_iter\n",
    "  xx$estimulos <- cantidad_test_normalizada\n",
    "  xx$ganancia <- ganancia_test_normalizada\n",
    "  xx$iteracion_bayesiana <- GLOBAL_iteracion\n",
    "\n",
    "  loguear(xx, arch = \"BO_log.txt\")\n",
    "\n",
    "  set.seed(PARAM$lgb_semilla, kind = \"L'Ecuyer-CMRG\")\n",
    "  return(ganancia_test_normalizada)\n",
    "}"
   ]
  },
  {
   "cell_type": "markdown",
   "metadata": {},
   "source": [
    "# Aquí empieza el programa"
   ]
  },
  {
   "cell_type": "code",
   "execution_count": 10,
   "metadata": {
    "vscode": {
     "languageId": "r"
    }
   },
   "outputs": [],
   "source": [
    "# Aqui empieza el programa\n",
    "\n",
    "# Aqui se debe poner la carpeta de la computadora local\n",
    "setwd(\"~/buckets/b1/\") # Establezco el Working Directory\n",
    "\n",
    "# cargo el dataset donde voy a entrenar el modelo\n",
    "dataset <- fread(PARAM$input$dataset)"
   ]
  },
  {
   "cell_type": "code",
   "execution_count": 11,
   "metadata": {
    "vscode": {
     "languageId": "r"
    }
   },
   "outputs": [],
   "source": [
    "# creo la carpeta donde va el experimento\n",
    "dir.create(\"./exp/\", showWarnings = FALSE)\n",
    "dir.create(paste0(\"./exp/\", PARAM$experimento, \"/\"), showWarnings = FALSE)\n",
    "\n",
    "# Establezco el Working Directory DEL EXPERIMENTO\n",
    "setwd(paste0(\"./exp/\", PARAM$experimento, \"/\"))\n",
    "\n",
    "# en estos archivos quedan los resultados\n",
    "kbayesiana <- paste0(PARAM$experimento, \".RDATA\")\n",
    "klog <- paste0(PARAM$experimento, \".txt\")\n"
   ]
  },
  {
   "cell_type": "code",
   "execution_count": 12,
   "metadata": {
    "vscode": {
     "languageId": "r"
    }
   },
   "outputs": [],
   "source": [
    "# Catastrophe Analysis  -------------------------------------------------------\n",
    "# deben ir cosas de este estilo\n",
    "#   dataset[foto_mes == 202006, active_quarter := NA]\n",
    "\n",
    "# Data Drifting\n",
    "# por ahora, no hago nada\n",
    "\n",
    "\n",
    "# Feature Engineering Historico  ----------------------------------------------\n",
    "#   aqui deben calcularse los  lags y  lag_delta\n",
    "#   Sin lags no hay paraiso !  corta la bocha"
   ]
  },
  {
   "cell_type": "code",
   "execution_count": null,
   "metadata": {
    "vscode": {
     "languageId": "r"
    }
   },
   "outputs": [],
   "source": []
  },
  {
   "cell_type": "code",
   "execution_count": 13,
   "metadata": {
    "vscode": {
     "languageId": "r"
    }
   },
   "outputs": [],
   "source": [
    "# ahora SI comienza la optimizacion Bayesiana\n",
    "\n",
    "GLOBAL_iteracion <- 0 # inicializo la variable global\n",
    "GLOBAL_gananciamax <- -1 # inicializo la variable global\n",
    "\n",
    "# si ya existe el archivo log, traigo hasta donde llegue\n",
    "if (file.exists(klog)) {\n",
    "  tabla_log <- fread(klog)\n",
    "  GLOBAL_iteracion <- nrow(tabla_log)\n",
    "  GLOBAL_gananciamax <- tabla_log[, max(ganancia)]\n",
    "}\n"
   ]
  },
  {
   "cell_type": "code",
   "execution_count": 14,
   "metadata": {
    "vscode": {
     "languageId": "r"
    }
   },
   "outputs": [],
   "source": [
    "# paso la clase a binaria que tome valores {0,1}  enteros\n",
    "dataset[, clase01 := ifelse(clase_ternaria == \"CONTINUA\", 0L, 1L)]\n",
    "\n",
    "\n",
    "# los campos que se van a utilizar\n",
    "campos_buenos <- setdiff(\n",
    "  colnames(dataset),\n",
    "  c(\"clase_ternaria\", \"clase01\", \"azar\", \"training\")\n",
    ")"
   ]
  },
  {
   "cell_type": "code",
   "execution_count": 15,
   "metadata": {
    "vscode": {
     "languageId": "r"
    }
   },
   "outputs": [],
   "source": [
    "# defino los datos que forma parte del training\n",
    "# aqui se hace el undersampling de los CONTINUA\n",
    "set.seed(PARAM$trainingstrategy$semilla_azar)\n",
    "dataset[, azar := runif(nrow(dataset))]\n",
    "dataset[, training := 0L]\n",
    "dataset[\n",
    "  foto_mes %in% PARAM$input$training &\n",
    "    (azar <= PARAM$trainingstrategy$undersampling | clase_ternaria %in% c(\"BAJA+1\", \"BAJA+2\")),\n",
    "  training := 1L\n",
    "]"
   ]
  },
  {
   "cell_type": "code",
   "execution_count": 16,
   "metadata": {
    "vscode": {
     "languageId": "r"
    }
   },
   "outputs": [],
   "source": [
    "# dejo los datos en el formato que necesita LightGBM\n",
    "dtrain <- lgb.Dataset(\n",
    "  data = data.matrix(dataset[training == 1L, campos_buenos, with = FALSE]),\n",
    "  label = dataset[training == 1L, clase01],\n",
    "  weight = dataset[training == 1L, \n",
    "    ifelse(clase_ternaria == \"BAJA+2\", 1.0000001, \n",
    "      ifelse(clase_ternaria == \"BAJA+1\", 1.0, 1.0))],\n",
    "  free_raw_data = FALSE\n",
    ")"
   ]
  },
  {
   "cell_type": "code",
   "execution_count": 17,
   "metadata": {
    "vscode": {
     "languageId": "r"
    }
   },
   "outputs": [],
   "source": [
    "# defino los datos que forman parte de validation\n",
    "#  no hay undersampling\n",
    "dataset[, validation := 0L]\n",
    "dataset[ foto_mes %in% PARAM$input$validation,  validation := 1L]\n",
    "\n",
    "dvalidate <- lgb.Dataset(\n",
    "  data = data.matrix(dataset[validation == 1L, campos_buenos, with = FALSE]),\n",
    "  label = dataset[validation == 1L, clase01],\n",
    "  weight = dataset[validation == 1L, \n",
    "    ifelse(clase_ternaria == \"BAJA+2\", 1.0000001, \n",
    "      ifelse(clase_ternaria == \"BAJA+1\", 1.0, 1.0))],\n",
    "  free_raw_data = FALSE\n",
    ")"
   ]
  },
  {
   "cell_type": "code",
   "execution_count": 18,
   "metadata": {
    "vscode": {
     "languageId": "r"
    }
   },
   "outputs": [],
   "source": [
    "# defino los datos de testing\n",
    "dataset[, testing := 0L]\n",
    "dataset[ foto_mes %in% PARAM$input$testing,  testing := 1L]\n",
    "\n",
    "\n",
    "dataset_test <- dataset[testing == 1, ]"
   ]
  },
  {
   "cell_type": "code",
   "execution_count": 19,
   "metadata": {
    "vscode": {
     "languageId": "r"
    }
   },
   "outputs": [
    {
     "data": {
      "text/html": [
       "<table class=\"dataframe\">\n",
       "<caption>A matrix: 2 × 6 of type dbl</caption>\n",
       "<thead>\n",
       "\t<tr><th></th><th scope=col>used</th><th scope=col>(Mb)</th><th scope=col>gc trigger</th><th scope=col>(Mb)</th><th scope=col>max used</th><th scope=col>(Mb)</th></tr>\n",
       "</thead>\n",
       "<tbody>\n",
       "\t<tr><th scope=row>Ncells</th><td>  2238694</td><td> 119.6</td><td>   4351984</td><td>  232.5</td><td>   2938854</td><td>  157.0</td></tr>\n",
       "\t<tr><th scope=row>Vcells</th><td>470923588</td><td>3592.9</td><td>1397068845</td><td>10658.8</td><td>1746222145</td><td>13322.7</td></tr>\n",
       "</tbody>\n",
       "</table>\n"
      ],
      "text/latex": [
       "A matrix: 2 × 6 of type dbl\n",
       "\\begin{tabular}{r|llllll}\n",
       "  & used & (Mb) & gc trigger & (Mb) & max used & (Mb)\\\\\n",
       "\\hline\n",
       "\tNcells &   2238694 &  119.6 &    4351984 &   232.5 &    2938854 &   157.0\\\\\n",
       "\tVcells & 470923588 & 3592.9 & 1397068845 & 10658.8 & 1746222145 & 13322.7\\\\\n",
       "\\end{tabular}\n"
      ],
      "text/markdown": [
       "\n",
       "A matrix: 2 × 6 of type dbl\n",
       "\n",
       "| <!--/--> | used | (Mb) | gc trigger | (Mb) | max used | (Mb) |\n",
       "|---|---|---|---|---|---|---|\n",
       "| Ncells |   2238694 |  119.6 |    4351984 |   232.5 |    2938854 |   157.0 |\n",
       "| Vcells | 470923588 | 3592.9 | 1397068845 | 10658.8 | 1746222145 | 13322.7 |\n",
       "\n"
      ],
      "text/plain": [
       "       used      (Mb)   gc trigger (Mb)    max used   (Mb)   \n",
       "Ncells   2238694  119.6    4351984   232.5    2938854   157.0\n",
       "Vcells 470923588 3592.9 1397068845 10658.8 1746222145 13322.7"
      ]
     },
     "metadata": {},
     "output_type": "display_data"
    }
   ],
   "source": [
    "# libero espacio\n",
    "rm(dataset)\n",
    "gc()"
   ]
  },
  {
   "cell_type": "code",
   "execution_count": 20,
   "metadata": {
    "vscode": {
     "languageId": "r"
    }
   },
   "outputs": [],
   "source": [
    "# Aqui comienza la configuracion de la Bayesian Optimization\n",
    "funcion_optimizar <- EstimarGanancia_lightgbm # la funcion que voy a maximizar\n",
    "\n",
    "configureMlr(show.learner.output = FALSE)\n",
    "\n",
    "# configuro la busqueda bayesiana,  los hiperparametros que se van a optimizar\n",
    "# por favor, no desesperarse por lo complejo\n",
    "obj.fun <- makeSingleObjectiveFunction(\n",
    "  fn = funcion_optimizar, # la funcion que voy a maximizar\n",
    "  minimize = FALSE, # estoy Maximizando la ganancia\n",
    "  noisy = TRUE,\n",
    "  par.set = PARAM$bo_lgb, # definido al comienzo del programa\n",
    "  has.simple.signature = FALSE # paso los parametros en una lista\n",
    ")\n",
    "\n",
    "# cada 600 segundos guardo el resultado intermedio\n",
    "ctrl <- makeMBOControl(\n",
    "  save.on.disk.at.time = 600, # se graba cada 600 segundos\n",
    "  save.file.path = kbayesiana\n",
    ") # se graba cada 600 segundos\n",
    "\n",
    "# indico la cantidad de iteraciones que va a tener la Bayesian Optimization\n",
    "ctrl <- setMBOControlTermination(\n",
    "  ctrl,\n",
    "  iters = PARAM$bo_iteraciones\n",
    ") # cantidad de iteraciones\n",
    "\n",
    "# defino el método estandar para la creacion de los puntos iniciales,\n",
    "# los \"No Inteligentes\"\n",
    "ctrl <- setMBOControlInfill(ctrl, crit = makeMBOInfillCritEI())\n",
    "\n",
    "\n",
    "# establezco la funcion que busca el maximo\n",
    "surr.km <- makeLearner(\n",
    "  \"regr.km\",\n",
    "  predict.type = \"se\",\n",
    "  covtype = \"matern3_2\",\n",
    "  control = list(trace = TRUE)\n",
    ")"
   ]
  },
  {
   "cell_type": "code",
   "execution_count": 21,
   "metadata": {
    "vscode": {
     "languageId": "r"
    }
   },
   "outputs": [
    {
     "name": "stderr",
     "output_type": "stream",
     "text": [
      "Computing y column(s) for design. Not provided.\n",
      "\n"
     ]
    },
    {
     "name": "stdout",
     "output_type": "stream",
     "text": [
      "Validate  1     630    103801891     107937418    \n",
      "20231030 174849\t154\t2714406\tgbdt\tbinary\tcustom\tTRUE\tTRUE\tFALSE\tTRUE\t-100\t-1\t0\t0.001\t0\t0\t31\t208\t1\t1\t1\tFALSE\t1\t0.1\t50\t0.5\tTRUE\t279551\t0.13694120913744\t0.511200065682206\t759\t20645\t14256\t146173657.171414\t1\n",
      "Validate  2     870    106510874     107171683    \n",
      "20231030 175507\t154\t2714406\tgbdt\tbinary\tcustom\tTRUE\tTRUE\tFALSE\tTRUE\t-100\t-1\t0\t0.001\t0\t0\t31\t440\t1\t1\t1\tFALSE\t1\t0.1\t50\t0.5\tTRUE\t279551\t0.10871455284534\t0.383395616570779\t371\t38535\t15181\t147076888.055972\t2\n",
      "Validate  3     600    103280725     104986133    \n",
      "20231030 175951\t154\t2714406\tgbdt\tbinary\tcustom\tTRUE\tTRUE\tFALSE\tTRUE\t-100\t-1\t0\t0.001\t0\t0\t31\t174\t1\t1\t1\tFALSE\t1\t0.1\t50\t0.5\tTRUE\t279551\t0.153177819112316\t0.276715104630857\t621\t15235\t11583\t144027945.527236\t3\n",
      "Validate  4     570    97152913     104258409     \n",
      "20231030 180324\t154\t2714406\tgbdt\tbinary\tcustom\tTRUE\tTRUE\tFALSE\tTRUE\t-100\t-1\t0\t0.001\t0\t0\t31\t158\t1\t1\t1\tFALSE\t1\t0.1\t50\t0.5\tTRUE\t279551\t0.271073784258333\t0.78185350669577\t116\t34014\t12367\t142139645.677161\t4\n",
      "Validate  5     930    102857969     104246568    \n",
      "20231030 181345\t154\t2714406\tgbdt\tbinary\tcustom\tTRUE\tTRUE\tFALSE\tTRUE\t-100\t-1\t0\t0.001\t0\t0\t31\t516\t1\t1\t1\tFALSE\t1\t0.1\t50\t0.5\tTRUE\t279551\t0.238883439445053\t0.644795008537039\t542\t2127\t14792\t126295700.149925\t5\n",
      "Validate  6     1410    104244514     106510072    \n",
      "20231030 181943\t154\t2714406\tgbdt\tbinary\tcustom\tTRUE\tTRUE\tFALSE\tTRUE\t-100\t-1\t0\t0.001\t0\t0\t31\t971\t1\t1\t1\tFALSE\t1\t0.1\t50\t0.5\tTRUE\t279551\t0.0900664854224306\t0.0754280283300613\t412\t23029\t14021\t146817317.841079\t6\n",
      "Validate  7     560    99996389     104322494     \n",
      "20231030 182320\t154\t2714406\tgbdt\tbinary\tcustom\tTRUE\tTRUE\tFALSE\tTRUE\t-100\t-1\t0\t0.001\t0\t0\t31\t145\t1\t1\t1\tFALSE\t1\t0.1\t50\t0.5\tTRUE\t279551\t0.186720657731057\t0.696503204608016\t661\t16723\t13786\t142440428.785607\t7\n",
      "Validate  8     590    106679629     109894301    \n",
      "20231030 182626\t154\t2714406\tgbdt\tbinary\tcustom\tTRUE\tTRUE\tFALSE\tTRUE\t-100\t-1\t0\t0.001\t0\t0\t31\t103\t1\t1\t1\tFALSE\t1\t0.1\t50\t0.5\tTRUE\t279551\t0.0429818473849446\t0.840359180488013\t150\t42638\t12245\t144162481.25937\t8\n",
      "Validate  9     430    96912961     97720458    \n",
      "20231030 183034\t154\t2714406\tgbdt\tbinary\tcustom\tTRUE\tTRUE\tFALSE\tTRUE\t-100\t-1\t0\t0.001\t0\t0\t31\t8\t1\t1\t1\tFALSE\t1\t0.1\t50\t0.5\tTRUE\t279551\t0.166457323828363\t0.380679800144862\t905\t3322\t12816\t137353587.206397\t9\n",
      "Validate  10     880    104853448     106786389    \n",
      "20231030 183640\t154\t2714406\tgbdt\tbinary\tcustom\tTRUE\tTRUE\tFALSE\tTRUE\t-100\t-1\t0\t0.001\t0\t0\t31\t428\t1\t1\t1\tFALSE\t1\t0.1\t50\t0.5\tTRUE\t279551\t0.0768787990038982\t0.575646079617873\t831\t46409\t14805\t144285619.690155\t10\n",
      "Validate  11     800    101201680     105223825    \n",
      "20231030 184253\t154\t2714406\tgbdt\tbinary\tcustom\tTRUE\tTRUE\tFALSE\tTRUE\t-100\t-1\t0\t0.001\t0\t0\t31\t388\t1\t1\t1\tFALSE\t1\t0.1\t50\t0.5\tTRUE\t279551\t0.199060535248718\t0.482284466433484\t268\t29593\t13081\t144675058.970515\t11\n",
      "Validate  12     1260    105777521     107434926    \n",
      "20231030 184709\t154\t2714406\tgbdt\tbinary\tcustom\tTRUE\tTRUE\tFALSE\tTRUE\t-100\t-1\t0\t0.001\t0\t0\t31\t850\t1\t1\t1\tFALSE\t1\t0.1\t50\t0.5\tTRUE\t279551\t0.218087663662154\t0.0349420346751867\t500\t8456\t13823\t140881758.62069\t12\n",
      "Validate  13     610    100867418     104648429    \n",
      "20231030 185018\t154\t2714406\tgbdt\tbinary\tcustom\tTRUE\tTRUE\tFALSE\tTRUE\t-100\t-1\t0\t0.001\t0\t0\t31\t196\t1\t1\t1\tFALSE\t1\t0.1\t50\t0.5\tTRUE\t279551\t0.247791156655876\t0.936292199923046\t887\t48584\t12527\t149286012.493753\t13\n",
      "Validate  14     760    105693532     108538547    \n",
      "20231030 185447\t154\t2714406\tgbdt\tbinary\tcustom\tTRUE\tTRUE\tFALSE\tTRUE\t-100\t-1\t0\t0.001\t0\t0\t31\t223\t1\t1\t1\tFALSE\t1\t0.1\t50\t0.5\tTRUE\t279551\t0.0278307219524868\t0.240808322774392\t56\t34450\t15117\t142600890.054972\t14\n",
      "Validate  15     580    103934461     106849144    \n",
      "20231030 185745\t154\t2714406\tgbdt\tbinary\tcustom\tTRUE\tTRUE\tFALSE\tTRUE\t-100\t-1\t0\t0.001\t0\t0\t31\t125\t1\t1\t1\tFALSE\t1\t0.1\t50\t0.5\tTRUE\t279551\t0.0708034699544078\t0.142060961340176\t995\t27067\t16052\t137871342.328836\t15\n",
      "Validate  16     450    95966428     98499386    \n",
      "20231030 190102\t154\t2714406\tgbdt\tbinary\tcustom\tTRUE\tTRUE\tFALSE\tTRUE\t-100\t-1\t0\t0.001\t0\t0\t31\t44\t1\t1\t1\tFALSE\t1\t0.1\t50\t0.5\tTRUE\t279551\t0.291614252373693\t0.946646284638409\t253\t10265\t10812\t134538628.685657\t16\n"
     ]
    },
    {
     "name": "stderr",
     "output_type": "stream",
     "text": [
      "[mbo] 0: learning_rate=0.137; feature_fraction=0.511; num_leaves=759; min_data_in_leaf=20645 : y = 1.46e+08 : 321.5 secs : initdesign\n",
      "\n",
      "[mbo] 0: learning_rate=0.109; feature_fraction=0.383; num_leaves=371; min_data_in_leaf=38535 : y = 1.47e+08 : 378.5 secs : initdesign\n",
      "\n",
      "[mbo] 0: learning_rate=0.153; feature_fraction=0.277; num_leaves=621; min_data_in_leaf=15235 : y = 1.44e+08 : 284.1 secs : initdesign\n",
      "\n",
      "[mbo] 0: learning_rate=0.271; feature_fraction=0.782; num_leaves=116; min_data_in_leaf=34014 : y = 1.42e+08 : 212.0 secs : initdesign\n",
      "\n",
      "[mbo] 0: learning_rate=0.239; feature_fraction=0.645; num_leaves=542; min_data_in_leaf=2127 : y = 1.26e+08 : 621.1 secs : initdesign\n",
      "\n",
      "[mbo] 0: learning_rate=0.0901; feature_fraction=0.0754; num_leaves=412; min_data_in_leaf=23029 : y = 1.47e+08 : 358.1 secs : initdesign\n",
      "\n",
      "[mbo] 0: learning_rate=0.187; feature_fraction=0.697; num_leaves=661; min_data_in_leaf=16723 : y = 1.42e+08 : 217.0 secs : initdesign\n",
      "\n",
      "[mbo] 0: learning_rate=0.043; feature_fraction=0.84; num_leaves=150; min_data_in_leaf=42638 : y = 1.44e+08 : 186.4 secs : initdesign\n",
      "\n",
      "[mbo] 0: learning_rate=0.166; feature_fraction=0.381; num_leaves=905; min_data_in_leaf=3322 : y = 1.37e+08 : 248.0 secs : initdesign\n",
      "\n",
      "[mbo] 0: learning_rate=0.0769; feature_fraction=0.576; num_leaves=831; min_data_in_leaf=46409 : y = 1.44e+08 : 365.9 secs : initdesign\n",
      "\n",
      "[mbo] 0: learning_rate=0.199; feature_fraction=0.482; num_leaves=268; min_data_in_leaf=29593 : y = 1.45e+08 : 372.9 secs : initdesign\n",
      "\n",
      "[mbo] 0: learning_rate=0.218; feature_fraction=0.0349; num_leaves=500; min_data_in_leaf=8456 : y = 1.41e+08 : 256.7 secs : initdesign\n",
      "\n",
      "[mbo] 0: learning_rate=0.248; feature_fraction=0.936; num_leaves=887; min_data_in_leaf=48584 : y = 1.49e+08 : 189.0 secs : initdesign\n",
      "\n",
      "[mbo] 0: learning_rate=0.0278; feature_fraction=0.241; num_leaves=56; min_data_in_leaf=34450 : y = 1.43e+08 : 268.6 secs : initdesign\n",
      "\n",
      "[mbo] 0: learning_rate=0.0708; feature_fraction=0.142; num_leaves=995; min_data_in_leaf=27067 : y = 1.38e+08 : 177.7 secs : initdesign\n",
      "\n",
      "[mbo] 0: learning_rate=0.292; feature_fraction=0.947; num_leaves=253; min_data_in_leaf=10265 : y = 1.35e+08 : 196.7 secs : initdesign\n",
      "\n",
      "Saved the current state after iteration 1 in the file HT8230 (Clase 10-11, Base Sem4).RDATA.\n",
      "\n"
     ]
    },
    {
     "name": "stdout",
     "output_type": "stream",
     "text": [
      "Validate  17     620    100569105     106280808    \n",
      "20231030 190411\t154\t2714406\tgbdt\tbinary\tcustom\tTRUE\tTRUE\tFALSE\tTRUE\t-100\t-1\t0\t0.001\t0\t0\t31\t213\t1\t1\t1\tFALSE\t1\t0.1\t50\t0.5\tTRUE\t279551\t0.299683847884488\t0.999902245090501\t647\t49216\t13258\t143916718.64068\t17\n"
     ]
    },
    {
     "name": "stderr",
     "output_type": "stream",
     "text": [
      "[mbo] 1: learning_rate=0.3; feature_fraction=1; num_leaves=647; min_data_in_leaf=49216 : y = 1.44e+08 : 187.0 secs : infill_ei\n",
      "\n"
     ]
    },
    {
     "name": "stdout",
     "output_type": "stream",
     "text": [
      "Validate  18     660    95871472     102652135     \n",
      "20231030 190731\t154\t2714406\tgbdt\tbinary\tcustom\tTRUE\tTRUE\tFALSE\tTRUE\t-100\t-1\t0\t0.001\t0\t0\t31\t255\t1\t1\t1\tFALSE\t1\t0.1\t50\t0.5\tTRUE\t279551\t0.292028510898015\t0.999968005236463\t1024\t49620\t14179\t143532187.406297\t18\n"
     ]
    },
    {
     "name": "stderr",
     "output_type": "stream",
     "text": [
      "[mbo] 2: learning_rate=0.292; feature_fraction=1; num_leaves=1024; min_data_in_leaf=49620 : y = 1.44e+08 : 199.4 secs : infill_ei\n",
      "\n"
     ]
    },
    {
     "name": "stdout",
     "output_type": "stream",
     "text": [
      "Validate  19     430    100519468     102907682    \n",
      "20231030 190944\t154\t2714406\tgbdt\tbinary\tcustom\tTRUE\tTRUE\tFALSE\tTRUE\t-100\t-1\t0\t0.001\t0\t0\t31\t17\t1\t1\t1\tFALSE\t1\t0.1\t50\t0.5\tTRUE\t279551\t0.186819290288159\t0.880502048268479\t780\t45750\t11169\t142538579.210395\t19\n"
     ]
    },
    {
     "name": "stderr",
     "output_type": "stream",
     "text": [
      "[mbo] 3: learning_rate=0.187; feature_fraction=0.881; num_leaves=780; min_data_in_leaf=45750 : y = 1.43e+08 : 133.4 secs : infill_ei\n",
      "\n"
     ]
    },
    {
     "name": "stdout",
     "output_type": "stream",
     "text": [
      "Validate  20     500    102065566     103462263    \n",
      "20231030 191220\t154\t2714406\tgbdt\tbinary\tcustom\tTRUE\tTRUE\tFALSE\tTRUE\t-100\t-1\t0\t0.001\t0\t0\t31\t91\t1\t1\t1\tFALSE\t1\t0.1\t50\t0.5\tTRUE\t279551\t0.247219477203738\t0.656365434744051\t801\t49864\t14685\t144622431.284358\t20\n"
     ]
    },
    {
     "name": "stderr",
     "output_type": "stream",
     "text": [
      "[mbo] 4: learning_rate=0.247; feature_fraction=0.656; num_leaves=801; min_data_in_leaf=49864 : y = 1.45e+08 : 155.6 secs : infill_ei\n",
      "\n",
      "Saved the current state after iteration 5 in the file HT8230 (Clase 10-11, Base Sem4).RDATA.\n",
      "\n"
     ]
    },
    {
     "name": "stdout",
     "output_type": "stream",
     "text": [
      "Validate  21     450    104963377     106952482    \n",
      "20231030 191545\t154\t2714406\tgbdt\tbinary\tcustom\tTRUE\tTRUE\tFALSE\tTRUE\t-100\t-1\t0\t0.001\t0\t0\t31\t25\t1\t1\t1\tFALSE\t1\t0.1\t50\t0.5\tTRUE\t279551\t0.138553637921728\t0.418951689895588\t459\t22738\t15735\t141071391.804098\t21\n"
     ]
    },
    {
     "name": "stderr",
     "output_type": "stream",
     "text": [
      "[mbo] 5: learning_rate=0.139; feature_fraction=0.419; num_leaves=459; min_data_in_leaf=22738 : y = 1.41e+08 : 201.4 secs : infill_ei\n",
      "\n"
     ]
    },
    {
     "name": "stdout",
     "output_type": "stream",
     "text": [
      "Validate  22     620    99570036     104501261     \n",
      "20231030 191854\t154\t2714406\tgbdt\tbinary\tcustom\tTRUE\tTRUE\tFALSE\tTRUE\t-100\t-1\t0\t0.001\t0\t0\t31\t205\t1\t1\t1\tFALSE\t1\t0.1\t50\t0.5\tTRUE\t279551\t0.253340213803047\t0.999983089331305\t885\t46661\t14908\t145381751.124438\t22\n"
     ]
    },
    {
     "name": "stderr",
     "output_type": "stream",
     "text": [
      "[mbo] 6: learning_rate=0.253; feature_fraction=1; num_leaves=885; min_data_in_leaf=46661 : y = 1.45e+08 : 189.1 secs : infill_ei\n",
      "\n"
     ]
    },
    {
     "name": "stdout",
     "output_type": "stream",
     "text": [
      "Validate  23     520    106369884     107419460    \n",
      "20231030 192131\t154\t2714406\tgbdt\tbinary\tcustom\tTRUE\tTRUE\tFALSE\tTRUE\t-100\t-1\t0\t0.001\t0\t0\t31\t59\t1\t1\t1\tFALSE\t1\t0.1\t50\t0.5\tTRUE\t279551\t0.0610115650041562\t0.910828014330002\t886\t49539\t11453\t141911398.8006\t23\n"
     ]
    },
    {
     "name": "stderr",
     "output_type": "stream",
     "text": [
      "[mbo] 7: learning_rate=0.061; feature_fraction=0.911; num_leaves=886; min_data_in_leaf=49539 : y = 1.42e+08 : 156.5 secs : infill_ei\n",
      "\n"
     ]
    },
    {
     "name": "stdout",
     "output_type": "stream",
     "text": [
      "Validate  24     540    99829190     103636263     \n",
      "20231030 192414\t154\t2714406\tgbdt\tbinary\tcustom\tTRUE\tTRUE\tFALSE\tTRUE\t-100\t-1\t0\t0.001\t0\t0\t31\t128\t1\t1\t1\tFALSE\t1\t0.1\t50\t0.5\tTRUE\t279551\t0.232299544072622\t0.923864265331578\t884\t49997\t12900\t146602108.945527\t24\n"
     ]
    },
    {
     "name": "stderr",
     "output_type": "stream",
     "text": [
      "[mbo] 8: learning_rate=0.232; feature_fraction=0.924; num_leaves=884; min_data_in_leaf=49997 : y = 1.47e+08 : 162.8 secs : infill_ei\n",
      "\n",
      "Saved the current state after iteration 9 in the file HT8230 (Clase 10-11, Base Sem4).RDATA.\n",
      "\n"
     ]
    },
    {
     "name": "stdout",
     "output_type": "stream",
     "text": [
      "Validate  25     550    97791606     102505107     \n",
      "20231030 192703\t154\t2714406\tgbdt\tbinary\tcustom\tTRUE\tTRUE\tFALSE\tTRUE\t-100\t-1\t0\t0.001\t0\t0\t31\t139\t1\t1\t1\tFALSE\t1\t0.1\t50\t0.5\tTRUE\t279551\t0.281863090203076\t0.846641666189934\t893\t48328\t12442\t142058923.538231\t25\n"
     ]
    },
    {
     "name": "stderr",
     "output_type": "stream",
     "text": [
      "[mbo] 9: learning_rate=0.282; feature_fraction=0.847; num_leaves=893; min_data_in_leaf=48328 : y = 1.42e+08 : 166.2 secs : infill_ei\n",
      "\n"
     ]
    },
    {
     "name": "stdout",
     "output_type": "stream",
     "text": [
      "Validate  26     570    100497272     102821464    \n",
      "20231030 192959\t154\t2714406\tgbdt\tbinary\tcustom\tTRUE\tTRUE\tFALSE\tTRUE\t-100\t-1\t0\t0.001\t0\t0\t31\t158\t1\t1\t1\tFALSE\t1\t0.1\t50\t0.5\tTRUE\t279551\t0.2878527473422\t0.948474175756124\t876\t47210\t12475\t145275379.810095\t26\n"
     ]
    },
    {
     "name": "stderr",
     "output_type": "stream",
     "text": [
      "[mbo] 10: learning_rate=0.288; feature_fraction=0.948; num_leaves=876; min_data_in_leaf=47210 : y = 1.45e+08 : 175.4 secs : infill_ei\n",
      "\n"
     ]
    },
    {
     "name": "stdout",
     "output_type": "stream",
     "text": [
      "Validate  27     590    101145333     104264045    \n",
      "20231030 193304\t154\t2714406\tgbdt\tbinary\tcustom\tTRUE\tTRUE\tFALSE\tTRUE\t-100\t-1\t0\t0.001\t0\t0\t31\t183\t1\t1\t1\tFALSE\t1\t0.1\t50\t0.5\tTRUE\t279551\t0.250350985992585\t0.940249341686289\t928\t46752\t12631\t143077372.813593\t27\n"
     ]
    },
    {
     "name": "stderr",
     "output_type": "stream",
     "text": [
      "[mbo] 11: learning_rate=0.25; feature_fraction=0.94; num_leaves=928; min_data_in_leaf=46752 : y = 1.43e+08 : 184.2 secs : infill_ei\n",
      "\n"
     ]
    },
    {
     "name": "stdout",
     "output_type": "stream",
     "text": [
      "Validate  28     740    104866500     107156885    \n",
      "20231030 193753\t154\t2714406\tgbdt\tbinary\tcustom\tTRUE\tTRUE\tFALSE\tTRUE\t-100\t-1\t0\t0.001\t0\t0\t31\t298\t1\t1\t1\tFALSE\t1\t0.1\t50\t0.5\tTRUE\t279551\t0.0819756760923147\t0.974616244780253\t517\t20341\t13636\t150002352.823588\t28\n"
     ]
    },
    {
     "name": "stderr",
     "output_type": "stream",
     "text": [
      "[mbo] 12: learning_rate=0.082; feature_fraction=0.975; num_leaves=517; min_data_in_leaf=20341 : y = 1.5e+08 : 288.8 secs : infill_ei\n",
      "\n",
      "Saved the current state after iteration 13 in the file HT8230 (Clase 10-11, Base Sem4).RDATA.\n",
      "\n"
     ]
    },
    {
     "name": "stdout",
     "output_type": "stream",
     "text": [
      "Validate  29     800    107371818     109856982    \n",
      "20231030 194249\t154\t2714406\tgbdt\tbinary\tcustom\tTRUE\tTRUE\tFALSE\tTRUE\t-100\t-1\t0\t0.001\t0\t0\t31\t359\t1\t1\t1\tFALSE\t1\t0.1\t50\t0.5\tTRUE\t279551\t0.0859795705780566\t0.761165851571216\t485\t21625\t14625\t146167328.835582\t29\n"
     ]
    },
    {
     "name": "stderr",
     "output_type": "stream",
     "text": [
      "[mbo] 13: learning_rate=0.086; feature_fraction=0.761; num_leaves=485; min_data_in_leaf=21625 : y = 1.46e+08 : 293.3 secs : infill_ei\n",
      "\n"
     ]
    },
    {
     "name": "stdout",
     "output_type": "stream",
     "text": [
      "Validate  30     730    104188108     107522057    \n",
      "20231030 194731\t154\t2714406\tgbdt\tbinary\tcustom\tTRUE\tTRUE\tFALSE\tTRUE\t-100\t-1\t0\t0.001\t0\t0\t31\t278\t1\t1\t1\tFALSE\t1\t0.1\t50\t0.5\tTRUE\t279551\t0.0767459091782009\t0.995821636143298\t549\t19418\t12754\t150348266.866567\t30\n"
     ]
    },
    {
     "name": "stderr",
     "output_type": "stream",
     "text": [
      "[mbo] 14: learning_rate=0.0767; feature_fraction=0.996; num_leaves=549; min_data_in_leaf=19418 : y = 1.5e+08 : 281.4 secs : infill_ei\n",
      "\n"
     ]
    },
    {
     "name": "stdout",
     "output_type": "stream",
     "text": [
      "Validate  31     710    104447556     106722934    \n",
      "20231030 195202\t154\t2714406\tgbdt\tbinary\tcustom\tTRUE\tTRUE\tFALSE\tTRUE\t-100\t-1\t0\t0.001\t0\t0\t31\t268\t1\t1\t1\tFALSE\t1\t0.1\t50\t0.5\tTRUE\t279551\t0.082974199936601\t0.998231666933323\t561\t17472\t11550\t148900284.857571\t31\n"
     ]
    },
    {
     "name": "stderr",
     "output_type": "stream",
     "text": [
      "[mbo] 15: learning_rate=0.083; feature_fraction=0.998; num_leaves=561; min_data_in_leaf=17472 : y = 1.49e+08 : 270.9 secs : infill_ei\n",
      "\n",
      "Saved the current state after iteration 16 in the file HT8230 (Clase 10-11, Base Sem4).RDATA.\n",
      "\n"
     ]
    },
    {
     "name": "stdout",
     "output_type": "stream",
     "text": [
      "Validate  32     480    101765500     106292079    \n",
      "20231030 195507\t154\t2714406\tgbdt\tbinary\tcustom\tTRUE\tTRUE\tFALSE\tTRUE\t-100\t-1\t0\t0.001\t0\t0\t31\t33\t1\t1\t1\tFALSE\t1\t0.1\t50\t0.5\tTRUE\t279551\t0.0753400562858395\t0.999134814944858\t501\t17989\t14406\t145881098.450775\t32\n"
     ]
    },
    {
     "name": "stderr",
     "output_type": "stream",
     "text": [
      "[mbo] 16: learning_rate=0.0753; feature_fraction=0.999; num_leaves=501; min_data_in_leaf=17989 : y = 1.46e+08 : 181.8 secs : infill_ei\n",
      "\n"
     ]
    },
    {
     "name": "stdout",
     "output_type": "stream",
     "text": [
      "Validate  33     470    105398300     106689939    \n",
      "20231030 195759\t154\t2714406\tgbdt\tbinary\tcustom\tTRUE\tTRUE\tFALSE\tTRUE\t-100\t-1\t0\t0.001\t0\t0\t31\t30\t1\t1\t1\tFALSE\t1\t0.1\t50\t0.5\tTRUE\t279551\t0.0807314615005768\t0.962248825076875\t568\t22185\t12007\t143583863.568216\t33\n"
     ]
    },
    {
     "name": "stderr",
     "output_type": "stream",
     "text": [
      "[mbo] 17: learning_rate=0.0807; feature_fraction=0.962; num_leaves=568; min_data_in_leaf=22185 : y = 1.44e+08 : 171.6 secs : infill_ei\n",
      "\n"
     ]
    },
    {
     "name": "stdout",
     "output_type": "stream",
     "text": [
      "Validate  34     710    103962818     105798521    \n",
      "20231030 200223\t154\t2714406\tgbdt\tbinary\tcustom\tTRUE\tTRUE\tFALSE\tTRUE\t-100\t-1\t0\t0.001\t0\t0\t31\t256\t1\t1\t1\tFALSE\t1\t0.1\t50\t0.5\tTRUE\t279551\t0.0645528559770893\t0.986543007749882\t552\t20133\t12559\t148300513.243378\t34\n"
     ]
    },
    {
     "name": "stderr",
     "output_type": "stream",
     "text": [
      "[mbo] 18: learning_rate=0.0646; feature_fraction=0.987; num_leaves=552; min_data_in_leaf=20133 : y = 1.48e+08 : 263.6 secs : infill_ei\n",
      "\n",
      "Saved the current state after iteration 19 in the file HT8230 (Clase 10-11, Base Sem4).RDATA.\n",
      "\n"
     ]
    },
    {
     "name": "stdout",
     "output_type": "stream",
     "text": [
      "Validate  35     430    103215560     105311974    \n",
      "20231030 200437\t154\t2714406\tgbdt\tbinary\tcustom\tTRUE\tTRUE\tFALSE\tTRUE\t-100\t-1\t0\t0.001\t0\t0\t31\t15\t1\t1\t1\tFALSE\t1\t0.1\t50\t0.5\tTRUE\t279551\t0.167057236978197\t0.934339582310505\t825\t49578\t11928\t141933245.377311\t35\n"
     ]
    },
    {
     "name": "stderr",
     "output_type": "stream",
     "text": [
      "[mbo] 19: learning_rate=0.167; feature_fraction=0.934; num_leaves=825; min_data_in_leaf=49578 : y = 1.42e+08 : 131.0 secs : infill_ei\n",
      "\n"
     ]
    },
    {
     "name": "stdout",
     "output_type": "stream",
     "text": [
      "Validate  36     900    103796623     106168584    \n",
      "20231030 201007\t154\t2714406\tgbdt\tbinary\tcustom\tTRUE\tTRUE\tFALSE\tTRUE\t-100\t-1\t0\t0.001\t0\t0\t31\t458\t1\t1\t1\tFALSE\t1\t0.1\t50\t0.5\tTRUE\t279551\t0.0886404555337596\t0.993096979718804\t560\t21110\t14372\t148022146.926537\t36\n"
     ]
    },
    {
     "name": "stderr",
     "output_type": "stream",
     "text": [
      "[mbo] 20: learning_rate=0.0886; feature_fraction=0.993; num_leaves=560; min_data_in_leaf=21110 : y = 1.48e+08 : 330.1 secs : infill_ei\n",
      "\n"
     ]
    },
    {
     "name": "stdout",
     "output_type": "stream",
     "text": [
      "Validate  37     960    104042851     106599932    \n",
      "20231030 201611\t154\t2714406\tgbdt\tbinary\tcustom\tTRUE\tTRUE\tFALSE\tTRUE\t-100\t-1\t0\t0.001\t0\t0\t31\t507\t1\t1\t1\tFALSE\t1\t0.1\t50\t0.5\tTRUE\t279551\t0.0655857167968953\t0.995519612495745\t587\t18765\t13044\t149718686.656672\t37\n"
     ]
    },
    {
     "name": "stderr",
     "output_type": "stream",
     "text": [
      "[mbo] 21: learning_rate=0.0656; feature_fraction=0.996; num_leaves=587; min_data_in_leaf=18765 : y = 1.5e+08 : 362.7 secs : infill_ei\n",
      "\n",
      "Saved the current state after iteration 22 in the file HT8230 (Clase 10-11, Base Sem4).RDATA.\n",
      "\n"
     ]
    },
    {
     "name": "stdout",
     "output_type": "stream",
     "text": [
      "Validate  38     480    102968300     107235820    \n",
      "20231030 201915\t154\t2714406\tgbdt\tbinary\tcustom\tTRUE\tTRUE\tFALSE\tTRUE\t-100\t-1\t0\t0.001\t0\t0\t31\t28\t1\t1\t1\tFALSE\t1\t0.1\t50\t0.5\tTRUE\t279551\t0.0759014100624357\t0.977695416260283\t540\t17462\t14496\t144297055.472264\t38\n"
     ]
    },
    {
     "name": "stderr",
     "output_type": "stream",
     "text": [
      "[mbo] 22: learning_rate=0.0759; feature_fraction=0.978; num_leaves=540; min_data_in_leaf=17462 : y = 1.44e+08 : 181.4 secs : infill_ei\n",
      "\n"
     ]
    },
    {
     "name": "stdout",
     "output_type": "stream",
     "text": [
      "Validate  39     470    104719605     105592229    \n",
      "20231030 202205\t154\t2714406\tgbdt\tbinary\tcustom\tTRUE\tTRUE\tFALSE\tTRUE\t-100\t-1\t0\t0.001\t0\t0\t31\t32\t1\t1\t1\tFALSE\t1\t0.1\t50\t0.5\tTRUE\t279551\t0.0871867568609862\t0.973151385965927\t500\t23231\t13983\t141798160.41979\t39\n"
     ]
    },
    {
     "name": "stderr",
     "output_type": "stream",
     "text": [
      "[mbo] 23: learning_rate=0.0872; feature_fraction=0.973; num_leaves=500; min_data_in_leaf=23231 : y = 1.42e+08 : 169.5 secs : infill_ei\n",
      "\n"
     ]
    },
    {
     "name": "stdout",
     "output_type": "stream",
     "text": [
      "Validate  40     460    106008934     109199454    \n",
      "20231030 202547\t154\t2714406\tgbdt\tbinary\tcustom\tTRUE\tTRUE\tFALSE\tTRUE\t-100\t-1\t0\t0.001\t0\t0\t31\t35\t1\t1\t1\tFALSE\t1\t0.1\t50\t0.5\tTRUE\t279551\t0.125783364152587\t0.571972846311198\t970\t25824\t12319\t143686180.409795\t40\n"
     ]
    },
    {
     "name": "stderr",
     "output_type": "stream",
     "text": [
      "[mbo] 24: learning_rate=0.126; feature_fraction=0.572; num_leaves=970; min_data_in_leaf=25824 : y = 1.44e+08 : 221.7 secs : infill_ei\n",
      "\n"
     ]
    },
    {
     "name": "stdout",
     "output_type": "stream",
     "text": [
      "Validate  41     470    105085676     105085676    \n",
      "20231030 202922\t154\t2714406\tgbdt\tbinary\tcustom\tTRUE\tTRUE\tFALSE\tTRUE\t-100\t-1\t0\t0.001\t0\t0\t31\t44\t1\t1\t1\tFALSE\t1\t0.1\t50\t0.5\tTRUE\t279551\t0.123394124223641\t0.350721480100059\t385\t31552\t12605\t141801581.709145\t41\n"
     ]
    },
    {
     "name": "stderr",
     "output_type": "stream",
     "text": [
      "[mbo] 25: learning_rate=0.123; feature_fraction=0.351; num_leaves=385; min_data_in_leaf=31552 : y = 1.42e+08 : 214.0 secs : infill_ei\n",
      "\n",
      "Saved the current state after iteration 26 in the file HT8230 (Clase 10-11, Base Sem4).RDATA.\n",
      "\n"
     ]
    },
    {
     "name": "stdout",
     "output_type": "stream",
     "text": [
      "Validate  42     470    100855062     110228223    \n",
      "20231030 203316\t154\t2714406\tgbdt\tbinary\tcustom\tTRUE\tTRUE\tFALSE\tTRUE\t-100\t-1\t0\t0.001\t0\t0\t31\t46\t1\t1\t1\tFALSE\t1\t0.1\t50\t0.5\tTRUE\t279551\t0.153408568339558\t0.188395173424707\t629\t4144\t12139\t143271777.611194\t42\n"
     ]
    },
    {
     "name": "stderr",
     "output_type": "stream",
     "text": [
      "[mbo] 26: learning_rate=0.153; feature_fraction=0.188; num_leaves=629; min_data_in_leaf=4144 : y = 1.43e+08 : 231.5 secs : infill_ei\n",
      "\n"
     ]
    },
    {
     "name": "stdout",
     "output_type": "stream",
     "text": [
      "Validate  43     470    104682404     106280185    \n",
      "20231030 203639\t154\t2714406\tgbdt\tbinary\tcustom\tTRUE\tTRUE\tFALSE\tTRUE\t-100\t-1\t0\t0.001\t0\t0\t31\t25\t1\t1\t1\tFALSE\t1\t0.1\t50\t0.5\tTRUE\t279551\t0.0878434133142489\t0.815810371357654\t660\t13202\t13588\t145103850.074963\t43\n"
     ]
    },
    {
     "name": "stderr",
     "output_type": "stream",
     "text": [
      "[mbo] 27: learning_rate=0.0878; feature_fraction=0.816; num_leaves=660; min_data_in_leaf=13202 : y = 1.45e+08 : 202.1 secs : infill_ei\n",
      "\n"
     ]
    },
    {
     "name": "stdout",
     "output_type": "stream",
     "text": [
      "Validate  44     420    96878240     101208491     \n",
      "20231030 203950\t154\t2714406\tgbdt\tbinary\tcustom\tTRUE\tTRUE\tFALSE\tTRUE\t-100\t-1\t0\t0.001\t0\t0\t31\t5\t1\t1\t1\tFALSE\t1\t0.1\t50\t0.5\tTRUE\t279551\t0.208436094166103\t0.715217671528448\t580\t7994\t12751\t140252465.267366\t44\n"
     ]
    },
    {
     "name": "stderr",
     "output_type": "stream",
     "text": [
      "[mbo] 28: learning_rate=0.208; feature_fraction=0.715; num_leaves=580; min_data_in_leaf=7994 : y = 1.4e+08 : 191.4 secs : infill_ei\n",
      "\n",
      "Saved the current state after iteration 29 in the file HT8230 (Clase 10-11, Base Sem4).RDATA.\n",
      "\n"
     ]
    },
    {
     "name": "stdout",
     "output_type": "stream",
     "text": [
      "Validate  45     430    100137246     105918788    \n",
      "20231030 204241\t154\t2714406\tgbdt\tbinary\tcustom\tTRUE\tTRUE\tFALSE\tTRUE\t-100\t-1\t0\t0.001\t0\t0\t31\t19\t1\t1\t1\tFALSE\t1\t0.1\t50\t0.5\tTRUE\t279551\t0.216814233838003\t0.941129939035405\t468\t16510\t12971\t139905648.675662\t45\n"
     ]
    },
    {
     "name": "stderr",
     "output_type": "stream",
     "text": [
      "[mbo] 29: learning_rate=0.217; feature_fraction=0.941; num_leaves=468; min_data_in_leaf=16510 : y = 1.4e+08 : 167.1 secs : infill_ei\n",
      "\n"
     ]
    },
    {
     "name": "stdout",
     "output_type": "stream",
     "text": [
      "Validate  46     460    105150887     107391418    \n",
      "20231030 204459\t154\t2714406\tgbdt\tbinary\tcustom\tTRUE\tTRUE\tFALSE\tTRUE\t-100\t-1\t0\t0.001\t0\t0\t31\t25\t1\t1\t1\tFALSE\t1\t0.1\t50\t0.5\tTRUE\t279551\t0.10828413288156\t0.945185586534383\t414\t49048\t12817\t144110245.377311\t46\n"
     ]
    },
    {
     "name": "stderr",
     "output_type": "stream",
     "text": [
      "[mbo] 30: learning_rate=0.108; feature_fraction=0.945; num_leaves=414; min_data_in_leaf=49048 : y = 1.44e+08 : 137.6 secs : infill_ei\n",
      "\n"
     ]
    },
    {
     "name": "stdout",
     "output_type": "stream",
     "text": [
      "Validate  47     420    91693787     98926879    \n",
      "20231030 204800\t154\t2714406\tgbdt\tbinary\tcustom\tTRUE\tTRUE\tFALSE\tTRUE\t-100\t-1\t0\t0.001\t0\t0\t31\t9\t1\t1\t1\tFALSE\t1\t0.1\t50\t0.5\tTRUE\t279551\t0.272230099278367\t0.682647555554558\t335\t10083\t11406\t140096250.874563\t47\n"
     ]
    },
    {
     "name": "stderr",
     "output_type": "stream",
     "text": [
      "[mbo] 31: learning_rate=0.272; feature_fraction=0.683; num_leaves=335; min_data_in_leaf=10083 : y = 1.4e+08 : 180.9 secs : infill_ei\n",
      "\n"
     ]
    },
    {
     "name": "stdout",
     "output_type": "stream",
     "text": [
      "Validate  48     500    103292336     105844278    \n",
      "20231030 205004\t154\t2714406\tgbdt\tbinary\tcustom\tTRUE\tTRUE\tFALSE\tTRUE\t-100\t-1\t0\t0.001\t0\t0\t31\t81\t1\t1\t1\tFALSE\t1\t0.1\t50\t0.5\tTRUE\t279551\t0.206258360888674\t0.078352308585262\t116\t27637\t12589\t140418149.425287\t48\n"
     ]
    },
    {
     "name": "stderr",
     "output_type": "stream",
     "text": [
      "[mbo] 32: learning_rate=0.206; feature_fraction=0.0784; num_leaves=116; min_data_in_leaf=27637 : y = 1.4e+08 : 123.4 secs : infill_ei\n",
      "\n",
      "Saved the current state after iteration 33 in the file HT8230 (Clase 10-11, Base Sem4).RDATA.\n",
      "\n"
     ]
    },
    {
     "name": "stdout",
     "output_type": "stream",
     "text": [
      "Validate  49     550    98788453     101954846     \n",
      "20231030 205334\t154\t2714406\tgbdt\tbinary\tcustom\tTRUE\tTRUE\tFALSE\tTRUE\t-100\t-1\t0\t0.001\t0\t0\t31\t125\t1\t1\t1\tFALSE\t1\t0.1\t50\t0.5\tTRUE\t279551\t0.155888972707825\t0.18136861866572\t717\t8622\t11327\t136370050.474763\t49\n"
     ]
    },
    {
     "name": "stderr",
     "output_type": "stream",
     "text": [
      "[mbo] 33: learning_rate=0.156; feature_fraction=0.181; num_leaves=717; min_data_in_leaf=8622 : y = 1.36e+08 : 206.5 secs : infill_ei\n",
      "\n"
     ]
    },
    {
     "name": "stdout",
     "output_type": "stream",
     "text": [
      "Validate  50     510    106397107     108288195    \n",
      "20231030 205654\t154\t2714406\tgbdt\tbinary\tcustom\tTRUE\tTRUE\tFALSE\tTRUE\t-100\t-1\t0\t0.001\t0\t0\t31\t50\t1\t1\t1\tFALSE\t1\t0.1\t50\t0.5\tTRUE\t279551\t0.0609387482901895\t0.60478124023511\t232\t37093\t13173\t143516676.161919\t50\n"
     ]
    },
    {
     "name": "stderr",
     "output_type": "stream",
     "text": [
      "[mbo] 34: learning_rate=0.0609; feature_fraction=0.605; num_leaves=232; min_data_in_leaf=37093 : y = 1.44e+08 : 200.0 secs : infill_ei\n",
      "\n"
     ]
    },
    {
     "name": "stdout",
     "output_type": "stream",
     "text": [
      "Validate  51     450    103280953     104803699    \n",
      "20231030 205947\t154\t2714406\tgbdt\tbinary\tcustom\tTRUE\tTRUE\tFALSE\tTRUE\t-100\t-1\t0\t0.001\t0\t0\t31\t27\t1\t1\t1\tFALSE\t1\t0.1\t50\t0.5\tTRUE\t279551\t0.134048980753372\t0.618615897063871\t184\t31418\t11867\t142378716.141929\t51\n"
     ]
    },
    {
     "name": "stderr",
     "output_type": "stream",
     "text": [
      "[mbo] 35: learning_rate=0.134; feature_fraction=0.619; num_leaves=184; min_data_in_leaf=31418 : y = 1.42e+08 : 173.2 secs : infill_ei\n",
      "\n"
     ]
    },
    {
     "name": "stdout",
     "output_type": "stream",
     "text": [
      "Validate  52     460    105296638     107255389    \n",
      "20231030 210213\t154\t2714406\tgbdt\tbinary\tcustom\tTRUE\tTRUE\tFALSE\tTRUE\t-100\t-1\t0\t0.001\t0\t0\t31\t26\t1\t1\t1\tFALSE\t1\t0.1\t50\t0.5\tTRUE\t279551\t0.115678986224017\t0.917889258681712\t71\t37901\t11239\t140305190.904548\t52\n"
     ]
    },
    {
     "name": "stderr",
     "output_type": "stream",
     "text": [
      "[mbo] 36: learning_rate=0.116; feature_fraction=0.918; num_leaves=71; min_data_in_leaf=37901 : y = 1.4e+08 : 145.4 secs : infill_ei\n",
      "\n",
      "Saved the current state after iteration 37 in the file HT8230 (Clase 10-11, Base Sem4).RDATA.\n",
      "\n"
     ]
    },
    {
     "name": "stdout",
     "output_type": "stream",
     "text": [
      "Validate  53     450    103663595     105174514    \n",
      "20231030 210651\t154\t2714406\tgbdt\tbinary\tcustom\tTRUE\tTRUE\tFALSE\tTRUE\t-100\t-1\t0\t0.001\t0\t0\t31\t17\t1\t1\t1\tFALSE\t1\t0.1\t50\t0.5\tTRUE\t279551\t0.118924839631945\t0.506578870921029\t798\t6538\t12026\t143919209.395302\t53\n"
     ]
    },
    {
     "name": "stderr",
     "output_type": "stream",
     "text": [
      "[mbo] 37: learning_rate=0.119; feature_fraction=0.507; num_leaves=798; min_data_in_leaf=6538 : y = 1.44e+08 : 275.3 secs : infill_ei\n",
      "\n"
     ]
    },
    {
     "name": "stdout",
     "output_type": "stream",
     "text": [
      "Validate  54     600    104795212     106934022    \n",
      "20231030 211146\t154\t2714406\tgbdt\tbinary\tcustom\tTRUE\tTRUE\tFALSE\tTRUE\t-100\t-1\t0\t0.001\t0\t0\t31\t182\t1\t1\t1\tFALSE\t1\t0.1\t50\t0.5\tTRUE\t279551\t0.151764583127898\t0.49849945585071\t499\t46599\t12247\t147093168.915542\t54\n"
     ]
    },
    {
     "name": "stderr",
     "output_type": "stream",
     "text": [
      "[mbo] 38: learning_rate=0.152; feature_fraction=0.498; num_leaves=499; min_data_in_leaf=46599 : y = 1.47e+08 : 294.3 secs : infill_ei\n",
      "\n"
     ]
    },
    {
     "name": "stdout",
     "output_type": "stream",
     "text": [
      "Validate  55     690    104723957     109968993    \n",
      "20231030 211650\t154\t2714406\tgbdt\tbinary\tcustom\tTRUE\tTRUE\tFALSE\tTRUE\t-100\t-1\t0\t0.001\t0\t0\t31\t158\t1\t1\t1\tFALSE\t1\t0.1\t50\t0.5\tTRUE\t279551\t0.0287094006729022\t0.380709247557522\t923\t32660\t11800\t143987026.486757\t55\n"
     ]
    },
    {
     "name": "stderr",
     "output_type": "stream",
     "text": [
      "[mbo] 39: learning_rate=0.0287; feature_fraction=0.381; num_leaves=923; min_data_in_leaf=32660 : y = 1.44e+08 : 304.0 secs : infill_ei\n",
      "\n",
      "Saved the current state after iteration 40 in the file HT8230 (Clase 10-11, Base Sem4).RDATA.\n",
      "\n"
     ]
    },
    {
     "name": "stdout",
     "output_type": "stream",
     "text": [
      "Validate  56     970    102633048     105418982    \n",
      "20231030 212212\t154\t2714406\tgbdt\tbinary\tcustom\tTRUE\tTRUE\tFALSE\tTRUE\t-100\t-1\t0\t0.001\t0\t0\t31\t536\t1\t1\t1\tFALSE\t1\t0.1\t50\t0.5\tTRUE\t279551\t0.102969406697526\t0.829579877786537\t616\t33605\t13148\t144922640.67966\t56\n"
     ]
    },
    {
     "name": "stderr",
     "output_type": "stream",
     "text": [
      "[mbo] 40: learning_rate=0.103; feature_fraction=0.83; num_leaves=616; min_data_in_leaf=33605 : y = 1.45e+08 : 318.4 secs : infill_ei\n",
      "\n"
     ]
    },
    {
     "name": "stdout",
     "output_type": "stream",
     "text": [
      "Validate  57     520    100860170     102782263    \n",
      "20231030 212526\t154\t2714406\tgbdt\tbinary\tcustom\tTRUE\tTRUE\tFALSE\tTRUE\t-100\t-1\t0\t0.001\t0\t0\t31\t108\t1\t1\t1\tFALSE\t1\t0.1\t50\t0.5\tTRUE\t279551\t0.216244528770405\t0.678605202128697\t876\t32091\t12544\t144166192.903548\t57\n"
     ]
    },
    {
     "name": "stderr",
     "output_type": "stream",
     "text": [
      "[mbo] 41: learning_rate=0.216; feature_fraction=0.679; num_leaves=876; min_data_in_leaf=32091 : y = 1.44e+08 : 193.8 secs : infill_ei\n",
      "\n"
     ]
    },
    {
     "name": "stdout",
     "output_type": "stream",
     "text": [
      "Validate  58     850    103156551     105466558    \n",
      "20231030 213221\t154\t2714406\tgbdt\tbinary\tcustom\tTRUE\tTRUE\tFALSE\tTRUE\t-100\t-1\t0\t0.001\t0\t0\t31\t421\t1\t1\t1\tFALSE\t1\t0.1\t50\t0.5\tTRUE\t279551\t0.113035283221169\t0.879902868693263\t690\t11163\t11841\t140558877.061469\t58\n"
     ]
    },
    {
     "name": "stderr",
     "output_type": "stream",
     "text": [
      "[mbo] 42: learning_rate=0.113; feature_fraction=0.88; num_leaves=690; min_data_in_leaf=11163 : y = 1.41e+08 : 414.7 secs : infill_ei\n",
      "\n",
      "Saved the current state after iteration 43 in the file HT8230 (Clase 10-11, Base Sem4).RDATA.\n",
      "\n"
     ]
    },
    {
     "name": "stdout",
     "output_type": "stream",
     "text": [
      "Validate  59     600    97866692     101369571     \n",
      "20231030 213654\t154\t2714406\tgbdt\tbinary\tcustom\tTRUE\tTRUE\tFALSE\tTRUE\t-100\t-1\t0\t0.001\t0\t0\t31\t189\t1\t1\t1\tFALSE\t1\t0.1\t50\t0.5\tTRUE\t279551\t0.200459976912112\t0.614564169250873\t812\t14384\t14752\t142796529.735132\t59\n"
     ]
    },
    {
     "name": "stderr",
     "output_type": "stream",
     "text": [
      "[mbo] 43: learning_rate=0.2; feature_fraction=0.615; num_leaves=812; min_data_in_leaf=14384 : y = 1.43e+08 : 268.8 secs : infill_ei\n",
      "\n"
     ]
    },
    {
     "name": "stdout",
     "output_type": "stream",
     "text": [
      "Validate  60     450    102607826     105434892    \n",
      "20231030 214044\t154\t2714406\tgbdt\tbinary\tcustom\tTRUE\tTRUE\tFALSE\tTRUE\t-100\t-1\t0\t0.001\t0\t0\t31\t31\t1\t1\t1\tFALSE\t1\t0.1\t50\t0.5\tTRUE\t279551\t0.175086113409268\t0.545572121089727\t974\t23023\t11644\t144277227.386307\t60\n"
     ]
    },
    {
     "name": "stderr",
     "output_type": "stream",
     "text": [
      "[mbo] 44: learning_rate=0.175; feature_fraction=0.546; num_leaves=974; min_data_in_leaf=23023 : y = 1.44e+08 : 229.6 secs : infill_ei\n",
      "\n"
     ]
    },
    {
     "name": "stdout",
     "output_type": "stream",
     "text": [
      "Validate  61     530    104258535     106940224    \n",
      "20231030 214449\t154\t2714406\tgbdt\tbinary\tcustom\tTRUE\tTRUE\tFALSE\tTRUE\t-100\t-1\t0\t0.001\t0\t0\t31\t87\t1\t1\t1\tFALSE\t1\t0.1\t50\t0.5\tTRUE\t279551\t0.0912156693620931\t0.430247739064002\t266\t35124\t12068\t144940971.514243\t61\n"
     ]
    },
    {
     "name": "stderr",
     "output_type": "stream",
     "text": [
      "[mbo] 45: learning_rate=0.0912; feature_fraction=0.43; num_leaves=266; min_data_in_leaf=35124 : y = 1.45e+08 : 244.7 secs : infill_ei\n",
      "\n",
      "Saved the current state after iteration 46 in the file HT8230 (Clase 10-11, Base Sem4).RDATA.\n",
      "\n"
     ]
    },
    {
     "name": "stdout",
     "output_type": "stream",
     "text": [
      "Validate  62     650    105932322     108256942    \n",
      "20231030 214831\t154\t2714406\tgbdt\tbinary\tcustom\tTRUE\tTRUE\tFALSE\tTRUE\t-100\t-1\t0\t0.001\t0\t0\t31\t121\t1\t1\t1\tFALSE\t1\t0.1\t50\t0.5\tTRUE\t279551\t0.0309419650348203\t0.742617162817847\t576\t45465\t12817\t145744628.185907\t62\n"
     ]
    },
    {
     "name": "stderr",
     "output_type": "stream",
     "text": [
      "[mbo] 46: learning_rate=0.0309; feature_fraction=0.743; num_leaves=576; min_data_in_leaf=45465 : y = 1.46e+08 : 218.9 secs : infill_ei\n",
      "\n"
     ]
    },
    {
     "name": "stdout",
     "output_type": "stream",
     "text": [
      "Validate  63     720    103642472     107064153    \n",
      "20231030 215242\t154\t2714406\tgbdt\tbinary\tcustom\tTRUE\tTRUE\tFALSE\tTRUE\t-100\t-1\t0\t0.001\t0\t0\t31\t297\t1\t1\t1\tFALSE\t1\t0.1\t50\t0.5\tTRUE\t279551\t0.122784533476965\t0.914559179257937\t510\t28870\t13253\t146420224.387806\t63\n"
     ]
    },
    {
     "name": "stderr",
     "output_type": "stream",
     "text": [
      "[mbo] 47: learning_rate=0.123; feature_fraction=0.915; num_leaves=510; min_data_in_leaf=28870 : y = 1.46e+08 : 250.6 secs : infill_ei\n",
      "\n"
     ]
    },
    {
     "name": "stdout",
     "output_type": "stream",
     "text": [
      "Validate  64     480    104389881     105167342    \n",
      "20231030 215446\t154\t2714406\tgbdt\tbinary\tcustom\tTRUE\tTRUE\tFALSE\tTRUE\t-100\t-1\t0\t0.001\t0\t0\t31\t69\t1\t1\t1\tFALSE\t1\t0.1\t50\t0.5\tTRUE\t279551\t0.251974441204631\t0.0799895906949474\t427\t14489\t11580\t138179160.41979\t64\n"
     ]
    },
    {
     "name": "stderr",
     "output_type": "stream",
     "text": [
      "[mbo] 48: learning_rate=0.252; feature_fraction=0.08; num_leaves=427; min_data_in_leaf=14489 : y = 1.38e+08 : 123.6 secs : infill_ei\n",
      "\n"
     ]
    },
    {
     "name": "stdout",
     "output_type": "stream",
     "text": [
      "Validate  65     610    105010229     108844872    \n",
      "20231030 215834\t154\t2714406\tgbdt\tbinary\tcustom\tTRUE\tTRUE\tFALSE\tTRUE\t-100\t-1\t0\t0.001\t0\t0\t31\t185\t1\t1\t1\tFALSE\t1\t0.1\t50\t0.5\tTRUE\t279551\t0.137118562102881\t0.817609808356108\t96\t29676\t12798\t144676888.555722\t65\n"
     ]
    },
    {
     "name": "stderr",
     "output_type": "stream",
     "text": [
      "[mbo] 49: learning_rate=0.137; feature_fraction=0.818; num_leaves=96; min_data_in_leaf=29676 : y = 1.45e+08 : 228.4 secs : infill_ei\n",
      "\n",
      "Saved the current state after iteration 50 in the file HT8230 (Clase 10-11, Base Sem4).RDATA.\n",
      "\n"
     ]
    },
    {
     "name": "stdout",
     "output_type": "stream",
     "text": [
      "Validate  66     850    103808944     107884843    \n",
      "20231030 220451\t154\t2714406\tgbdt\tbinary\tcustom\tTRUE\tTRUE\tFALSE\tTRUE\t-100\t-1\t0\t0.001\t0\t0\t31\t382\t1\t1\t1\tFALSE\t1\t0.1\t50\t0.5\tTRUE\t279551\t0.0542579461438984\t0.863072491904213\t846\t16426\t13165\t146946109.445277\t66\n"
     ]
    },
    {
     "name": "stderr",
     "output_type": "stream",
     "text": [
      "[mbo] 50: learning_rate=0.0543; feature_fraction=0.863; num_leaves=846; min_data_in_leaf=16426 : y = 1.47e+08 : 373.2 secs : infill_ei\n",
      "\n",
      "Saved the final state in the file HT8230 (Clase 10-11, Base Sem4).RDATA\n",
      "\n"
     ]
    },
    {
     "name": "stdout",
     "output_type": "stream",
     "text": [
      "\n",
      "\n",
      "La optimizacion Bayesiana ha terminado\n"
     ]
    }
   ],
   "source": [
    "# inicio la optimizacion bayesiana\n",
    "if (!file.exists(kbayesiana)) {\n",
    "  run <- mbo(obj.fun, learner = surr.km, control = ctrl)\n",
    "} else {\n",
    "  run <- mboContinue(kbayesiana) # retomo en caso que ya exista\n",
    "}\n",
    "\n",
    "\n",
    "cat(\"\\n\\nLa optimizacion Bayesiana ha terminado\\n\")\n"
   ]
  }
 ],
 "metadata": {
  "kernelspec": {
   "display_name": "R",
   "language": "R",
   "name": "ir"
  },
  "language_info": {
   "codemirror_mode": "r",
   "file_extension": ".r",
   "mimetype": "text/x-r-source",
   "name": "R",
   "pygments_lexer": "r",
   "version": "4.3.1"
  },
  "orig_nbformat": 4
 },
 "nbformat": 4,
 "nbformat_minor": 2
}
