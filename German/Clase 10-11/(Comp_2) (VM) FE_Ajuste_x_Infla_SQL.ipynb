{
  "cells": [
    {
      "cell_type": "markdown",
      "metadata": {
        "id": "GXIQnVX6fo2q"
      },
      "source": [
        "# Preparación del entorno"
      ]
    },
    {
      "cell_type": "code",
      "execution_count": null,
      "metadata": {},
      "outputs": [],
      "source": [
        "import os\n",
        "import pandas as pd"
      ]
    },
    {
      "cell_type": "code",
      "execution_count": null,
      "metadata": {},
      "outputs": [],
      "source": [
        "# Aquí se debe poner la carpeta de la computadora local\n",
        "carpeta_local = \"~/buckets/b1/\"\n",
        "\n",
        "# Establezco el Working Directory\n",
        "os.chdir(os.path.expanduser(carpeta_local))\n",
        "\n",
        "# Cargo el dataset\n",
        "archivo_dataset = \"./datasets/competencia_03 (base).csv.gz\"\n",
        "dataset = pd.read_csv(archivo_dataset)\n"
      ]
    },
    {
      "cell_type": "markdown",
      "metadata": {
        "id": "xsDax2s7fo2t"
      },
      "source": [
        "# Prueba con SQL"
      ]
    },
    {
      "cell_type": "code",
      "execution_count": null,
      "metadata": {},
      "outputs": [],
      "source": [
        "%%bash\n",
        "pip install --upgrade duckdb\n",
        "pip install --upgrade jupysql\n",
        "pip install --upgrade duckdb-engine"
      ]
    },
    {
      "cell_type": "code",
      "execution_count": null,
      "metadata": {
        "id": "a6Sh0t13fo2u"
      },
      "outputs": [],
      "source": [
        "import duckdb\n",
        "import pandas as pd\n",
        "\n",
        "%load_ext sql\n",
        "%config SqlMagic.autopandas = True\n",
        "%config SqlMagic.feedback = False\n",
        "%config SqlMagic.displaycon = False\n",
        "\n",
        "%sql duckdb:///:default:"
      ]
    },
    {
      "cell_type": "markdown",
      "metadata": {
        "id": "qKHx0uvffo2x"
      },
      "source": [
        "# Construcción de Clase_ternaria"
      ]
    },
    {
      "cell_type": "code",
      "execution_count": null,
      "metadata": {},
      "outputs": [],
      "source": [
        "%%sql\n",
        "create or replace table competencia_03 as \n",
        "select \n",
        "    *\n",
        "from read_csv_auto(\"./datasets/competencia_03.csv.gz\")"
      ]
    },
    {
      "cell_type": "code",
      "execution_count": null,
      "metadata": {
        "colab": {
          "base_uri": "https://localhost:8080/"
        },
        "id": "QE149CrOfo2y",
        "outputId": "dcd3ae32-b879-4a9c-f504-efd11e099383"
      },
      "outputs": [],
      "source": [
        "%sql select * from competencia_03 limit 5"
      ]
    },
    {
      "cell_type": "code",
      "execution_count": null,
      "metadata": {
        "colab": {
          "base_uri": "https://localhost:8080/"
        },
        "id": "j0FrHmdXfo2y",
        "outputId": "1fb452e0-ac0f-47bd-e898-9f57b73d024c"
      },
      "outputs": [],
      "source": [
        "%%sql\n",
        "select\n",
        "    foto_mes\n",
        "    , count(*) as cantidad -- cuenta cuantos casos hay en cada foto_mes\n",
        "                           -- y lo guarda en un campo llamado cantidad\n",
        "from competencia_03\n",
        "group by foto_mes"
      ]
    },
    {
      "cell_type": "markdown",
      "metadata": {
        "id": "GqYYtJzx57Me"
      },
      "source": [
        "# Descarga índice de inflación"
      ]
    },
    {
      "cell_type": "markdown",
      "metadata": {
        "id": "vYz4nxvzBZ4c"
      },
      "source": [
        "## Armado del índice"
      ]
    },
    {
      "cell_type": "code",
      "execution_count": null,
      "metadata": {
        "colab": {
          "base_uri": "https://localhost:8080/"
        },
        "id": "znGMdyZg6C4h",
        "outputId": "1c327480-74c6-4847-88a8-f635a6b97fd2"
      },
      "outputs": [],
      "source": [
        "!pip install pandas requests"
      ]
    },
    {
      "cell_type": "code",
      "execution_count": null,
      "metadata": {
        "id": "3Ekthy3U6FrN"
      },
      "outputs": [],
      "source": [
        "import requests\n",
        "from io import BytesIO"
      ]
    },
    {
      "cell_type": "code",
      "execution_count": null,
      "metadata": {
        "id": "UzVP9WSd59M8"
      },
      "outputs": [],
      "source": [
        "# URL del archivo\n",
        "url = \"https://www.indec.gob.ar/ftp/cuadros/economia/sh_ipc_08_23.xls\"\n",
        "\n",
        "# Descargar el archivo y cargar los datos de la hoja correcta\n",
        "response = requests.get(url)\n",
        "xls = pd.ExcelFile(BytesIO(response.content))\n",
        "\n",
        "# Cargar los datos desde la hoja de interés\n",
        "inflacion = pd.read_excel(xls, sheet_name=\"Índices IPC Cobertura Nacional\", skiprows=5, usecols=\"B:CC\")"
      ]
    },
    {
      "cell_type": "code",
      "execution_count": null,
      "metadata": {
        "colab": {
          "base_uri": "https://localhost:8080/"
        },
        "id": "pyxWMbz98ECu",
        "outputId": "a9a17039-1485-4dcd-d0c9-02c982e421eb"
      },
      "outputs": [],
      "source": [
        "inflacion"
      ]
    },
    {
      "cell_type": "code",
      "execution_count": null,
      "metadata": {
        "id": "uQKqjDH-8UFd"
      },
      "outputs": [],
      "source": [
        "# Transponer los datos y establecer la tercera fila como encabezado\n",
        "inflacion = inflacion.transpose()\n"
      ]
    },
    {
      "cell_type": "code",
      "execution_count": null,
      "metadata": {
        "id": "hxd8QRse8f9C"
      },
      "outputs": [],
      "source": [
        "inflacion = inflacion[3]"
      ]
    },
    {
      "cell_type": "code",
      "execution_count": null,
      "metadata": {
        "colab": {
          "base_uri": "https://localhost:8080/"
        },
        "id": "MQVbwJgM8enc",
        "outputId": "f8335e37-4137-476b-e611-cc837b5aa32d"
      },
      "outputs": [],
      "source": [
        "inflacion"
      ]
    },
    {
      "cell_type": "code",
      "execution_count": null,
      "metadata": {
        "id": "ifuwuPHq9Efe"
      },
      "outputs": [],
      "source": [
        "# Pasar a data frame\n",
        "import pandas as pd\n",
        "\n",
        "inflacion = pd.DataFrame(inflacion)"
      ]
    },
    {
      "cell_type": "code",
      "execution_count": null,
      "metadata": {
        "id": "tAsV4Yun_IwV"
      },
      "outputs": [],
      "source": [
        "inflacion.index.name='foto_mes'"
      ]
    },
    {
      "cell_type": "code",
      "execution_count": null,
      "metadata": {
        "colab": {
          "base_uri": "https://localhost:8080/"
        },
        "id": "VFmBLzqd_ior",
        "outputId": "322e7700-f5d8-4774-d0d2-06f55988ac19"
      },
      "outputs": [],
      "source": [
        "inflacion"
      ]
    },
    {
      "cell_type": "code",
      "execution_count": null,
      "metadata": {
        "colab": {
          "base_uri": "https://localhost:8080/"
        },
        "id": "UCuldGdH8CGj",
        "outputId": "d5902521-4847-4d88-884d-0346167cf343"
      },
      "outputs": [],
      "source": [
        "# Renombrar la columna\n",
        "inflacion.columns = [\"indice_inflacion\"]\n",
        "\n",
        "# Eliminar las filas con valores nulos\n",
        "inflacion.dropna(inplace=True)\n",
        "\n",
        "# Eliminar guiones y los últimos dos dígitos de la columna \"foto_mes\"\n",
        "inflacion.index = inflacion.index.astype(str).str.replace('-', '').str[:-2]\n",
        "\n",
        "# Mostrar las primeras filas del DataFrame resultante\n",
        "inflacion.head()"
      ]
    },
    {
      "cell_type": "markdown",
      "metadata": {
        "id": "nbXEIlh5Bpxf"
      },
      "source": [
        "## Inflación A Sql"
      ]
    },
    {
      "cell_type": "code",
      "execution_count": null,
      "metadata": {
        "id": "pmpVZAeR0ZK6"
      },
      "outputs": [],
      "source": [
        "# Guardar el DataFrame como un archivo CSV\n",
        "inflacion.to_csv('inflacion.csv')"
      ]
    },
    {
      "cell_type": "code",
      "execution_count": null,
      "metadata": {
        "colab": {
          "base_uri": "https://localhost:8080/",
          "height": 53
        },
        "id": "oKqQn9TZz5-F",
        "outputId": "7279190e-e211-4393-99ea-b22042ca1d7c"
      },
      "outputs": [],
      "source": [
        "%%sql\n",
        "create or replace table inflacion as\n",
        "select\n",
        "    *\n",
        "from read_csv_auto('inflacion.csv')"
      ]
    },
    {
      "cell_type": "code",
      "execution_count": null,
      "metadata": {
        "colab": {
          "base_uri": "https://localhost:8080/",
          "height": 423
        },
        "id": "wWi6J0JW3nk_",
        "outputId": "9d59fce9-8597-4e32-ce1d-44fdf079a3d1"
      },
      "outputs": [],
      "source": [
        "%%sql\n",
        "select *\n",
        "from inflacion"
      ]
    },
    {
      "cell_type": "markdown",
      "metadata": {
        "id": "S1EeZDXRI_eL"
      },
      "source": [
        "Agrego inflación acumulada hasta 202107 para hacer el drifting"
      ]
    },
    {
      "cell_type": "code",
      "execution_count": null,
      "metadata": {
        "colab": {
          "base_uri": "https://localhost:8080/",
          "height": 81
        },
        "id": "zMFWRxRd3nnh",
        "outputId": "16770e0f-ec6a-4e70-e3dc-c7c0a26cac0a"
      },
      "outputs": [],
      "source": [
        "%%sql\n",
        "ALTER TABLE inflacion\n",
        "ADD COLUMN indice_inflacion_acumulada FLOAT; -- Adjust the data type as needed\n",
        "\n",
        "WITH InflacionAcumulada AS (\n",
        "    SELECT\n",
        "        foto_mes,\n",
        "        indice_inflacion,\n",
        "        (\n",
        "            (SELECT indice_inflacion FROM inflacion WHERE foto_mes = '202107') / indice_inflacion\n",
        "        ) AS inflacion_acumulada\n",
        "    FROM\n",
        "        inflacion\n",
        ")\n",
        "UPDATE inflacion\n",
        "SET indice_inflacion_acumulada = (SELECT inflacion_acumulada FROM InflacionAcumulada WHERE inflacion.foto_mes = InflacionAcumulada.foto_mes);\n"
      ]
    },
    {
      "cell_type": "code",
      "execution_count": null,
      "metadata": {
        "colab": {
          "base_uri": "https://localhost:8080/",
          "height": 423
        },
        "id": "PZY0ttqj3nqS",
        "outputId": "be412059-6d05-477a-eb49-c07638a25353"
      },
      "outputs": [],
      "source": [
        "%%sql\n",
        "select *\n",
        "from inflacion"
      ]
    },
    {
      "cell_type": "markdown",
      "metadata": {
        "id": "z5kJFY1RMimq"
      },
      "source": [
        "# Inner join competencia_03 e inflación"
      ]
    },
    {
      "cell_type": "code",
      "execution_count": null,
      "metadata": {
        "id": "pvr_wBPGMnpZ"
      },
      "outputs": [],
      "source": [
        "%%sql\n",
        "CREATE TABLE competencia_03_temp AS\n",
        "SELECT\n",
        "    *\n",
        "FROM\n",
        "    competencia_03 c2\n",
        "INNER JOIN\n",
        "    inflacion i\n",
        "ON\n",
        "    c2.foto_mes = i.foto_mes;"
      ]
    },
    {
      "cell_type": "code",
      "execution_count": null,
      "metadata": {},
      "outputs": [],
      "source": [
        "%%sql\n",
        "-- Elimina la columna 'indice_inflacion' de la tabla temporal\n",
        "ALTER TABLE competencia_03_temp\n",
        "DROP COLUMN indice_inflacion;\n",
        "\n",
        "-- Borra la tabla original 'competencia_03'\n",
        "DROP TABLE competencia_03;\n",
        "\n",
        "-- Renombra la tabla temporal a 'competencia_03'\n",
        "ALTER TABLE competencia_03_temp\n",
        "RENAME TO competencia_03;"
      ]
    },
    {
      "cell_type": "code",
      "execution_count": null,
      "metadata": {
        "id": "f0majKGtMn2o"
      },
      "outputs": [],
      "source": [
        "%%sql\n",
        "SELECT\n",
        "    *\n",
        "FROM\n",
        "    competencia_03 c2"
      ]
    },
    {
      "cell_type": "markdown",
      "metadata": {
        "id": "ASbBeHU_2AGc"
      },
      "source": [
        "# Solución del Data Drifting a variables monetarias"
      ]
    },
    {
      "cell_type": "markdown",
      "metadata": {
        "id": "Zdwua72g2ElF"
      },
      "source": [
        "Primero, ajustos todas las variables monetarias por la inflación acumulada a 202107"
      ]
    },
    {
      "cell_type": "code",
      "execution_count": null,
      "metadata": {},
      "outputs": [],
      "source": [
        "%%sql\n",
        "ALTER TABLE competencia_03\n",
        "ADD COLUMN Mrentabilidad_ajustada DECIMAL(18, 2);\n",
        "\n",
        "ALTER TABLE competencia_03\n",
        "ADD COLUMN mrentabilidad_annual_ajustada DECIMAL(18, 2);\n",
        "\n",
        "ALTER TABLE competencia_03\n",
        "ADD COLUMN mcomisiones_ajustada DECIMAL(18, 2);\n",
        "\n",
        "ALTER TABLE competencia_03\n",
        "ADD COLUMN mactivos_margen_ajustada DECIMAL(18, 2);\n",
        "\n",
        "ALTER TABLE competencia_03\n",
        "ADD COLUMN mpasivos_margen_ajustada DECIMAL(18, 2);\n",
        "\n",
        "ALTER TABLE competencia_03\n",
        "ADD COLUMN mcuenta_corriente_adicional_ajustada DECIMAL(18, 2);\n",
        "\n",
        "ALTER TABLE competencia_03\n",
        "ADD COLUMN mcuenta_corriente_ajustada DECIMAL(18, 2);\n",
        "\n",
        "ALTER TABLE competencia_03\n",
        "ADD COLUMN mcaja_ahorro_ajustada DECIMAL(18, 2);\n",
        "\n",
        "ALTER TABLE competencia_03\n",
        "ADD COLUMN mcaja_ahorro_adicional_ajustada DECIMAL(18, 2);\n",
        "\n",
        "ALTER TABLE competencia_03\n",
        "ADD COLUMN mcaja_ahorro_dolares_ajustada DECIMAL(18, 2);\n",
        "\n",
        "ALTER TABLE competencia_03\n",
        "ADD COLUMN mcuentas_saldo_ajustada DECIMAL(18, 2);\n",
        "\n",
        "ALTER TABLE competencia_03\n",
        "ADD COLUMN mautoservicio_ajustada DECIMAL(18, 2);\n",
        "\n",
        "ALTER TABLE competencia_03\n",
        "ADD COLUMN mtarjeta_visa_consumo_ajustada DECIMAL(18, 2);\n",
        "\n",
        "ALTER TABLE competencia_03\n",
        "ADD COLUMN mtarjeta_master_consumo_ajustada DECIMAL(18, 2);\n",
        "\n",
        "ALTER TABLE competencia_03\n",
        "ADD COLUMN mprestamos_personales_ajustada DECIMAL(18, 2);\n",
        "\n",
        "ALTER TABLE competencia_03\n",
        "ADD COLUMN mprestamos_prendarios_ajustada DECIMAL(18, 2);\n",
        "\n",
        "ALTER TABLE competencia_03\n",
        "ADD COLUMN mprestamos_hipotecarios_ajustada DECIMAL(18, 2);\n",
        "\n",
        "ALTER TABLE competencia_03\n",
        "ADD COLUMN mplazo_fijo_dolares_ajustada DECIMAL(18, 2);\n",
        "\n",
        "ALTER TABLE competencia_03\n",
        "ADD COLUMN mplazo_fijo_pesos_ajustada DECIMAL(18, 2);\n",
        "\n",
        "ALTER TABLE competencia_03\n",
        "ADD COLUMN minversion1_pesos_ajustada DECIMAL(18, 2);\n",
        "\n",
        "ALTER TABLE competencia_03\n",
        "ADD COLUMN minversion1_dolares_ajustada DECIMAL(18, 2);\n",
        "\n",
        "ALTER TABLE competencia_03\n",
        "ADD COLUMN minversion2_ajustada DECIMAL(18, 2);\n",
        "\n",
        "ALTER TABLE competencia_03\n",
        "ADD COLUMN mpayroll_ajustada DECIMAL(18, 2);\n",
        "\n",
        "ALTER TABLE competencia_03\n",
        "ADD COLUMN mpayroll2_ajustada DECIMAL(18, 2);\n",
        "\n",
        "ALTER TABLE competencia_03\n",
        "ADD COLUMN mcuenta_debitos_automaticos_ajustada DECIMAL(18, 2);\n",
        "\n",
        "ALTER TABLE competencia_03\n",
        "ADD COLUMN mttarjeta_master_debitos_automaticos_ajustada DECIMAL(18, 2);\n",
        "\n",
        "ALTER TABLE competencia_03\n",
        "ADD COLUMN mpagodeservicios_ajustada DECIMAL(18, 2);\n",
        "\n",
        "ALTER TABLE competencia_03\n",
        "ADD COLUMN mpagomiscuentas_ajustada DECIMAL(18, 2);\n",
        "\n",
        "ALTER TABLE competencia_03\n",
        "ADD COLUMN mcajeros_propios_descuentos_ajustada DECIMAL(18, 2);\n",
        "\n",
        "ALTER TABLE competencia_03\n",
        "ADD COLUMN mtarjeta_visa_descuentos_ajustada DECIMAL(18, 2);\n",
        "\n",
        "ALTER TABLE competencia_03\n",
        "ADD COLUMN mtarjeta_master_descuentos_ajustada DECIMAL(18, 2);\n",
        "\n",
        "ALTER TABLE competencia_03\n",
        "ADD COLUMN mcomisiones_mantenimiento_ajustada DECIMAL(18, 2);\n",
        "\n",
        "ALTER TABLE competencia_03\n",
        "ADD COLUMN mcomisiones_otras_ajustada DECIMAL(18, 2);\n",
        "\n",
        "ALTER TABLE competencia_03\n",
        "ADD COLUMN mforex_buy_ajustada DECIMAL(18, 2);\n",
        "\n",
        "ALTER TABLE competencia_03\n",
        "ADD COLUMN mforex_sell_ajustada DECIMAL(18, 2);\n",
        "\n",
        "ALTER TABLE competencia_03\n",
        "ADD COLUMN mtransferencias_recibidas_ajustada DECIMAL(18, 2);\n",
        "\n",
        "ALTER TABLE competencia_03\n",
        "ADD COLUMN mtransferencias_emitidas_ajustada DECIMAL(18, 2);\n",
        "\n",
        "ALTER TABLE competencia_03\n",
        "ADD COLUMN mextraccion_autoservicio_ajustada DECIMAL(18, 2);\n",
        "\n",
        "ALTER TABLE competencia_03\n",
        "ADD COLUMN mcheques_depositados_ajustada DECIMAL(18, 2);\n",
        "\n",
        "ALTER TABLE competencia_03\n",
        "ADD COLUMN mcheques_emitidos_ajustada DECIMAL(18, 2);\n",
        "\n",
        "ALTER TABLE competencia_03\n",
        "ADD COLUMN mcheques_depositados_rechazados_ajustada DECIMAL(18, 2);\n",
        "\n",
        "ALTER TABLE competencia_03\n",
        "ADD COLUMN mcheques_emitidos_rechazados_ajustada DECIMAL(18, 2);\n",
        "\n",
        "ALTER TABLE competencia_03\n",
        "ADD COLUMN matm_ajustada DECIMAL(18, 2);\n",
        "\n",
        "ALTER TABLE competencia_03\n",
        "ADD COLUMN matm_other_ajustada DECIMAL(18, 2);\n",
        "\n",
        "ALTER TABLE competencia_03\n",
        "ADD COLUMN Master_mfinanciacion_limite_ajustada DECIMAL(18, 2);\n",
        "\n",
        "ALTER TABLE competencia_03\n",
        "ADD COLUMN Master_msaldototal_ajustada DECIMAL(18, 2);\n",
        "\n",
        "ALTER TABLE competencia_03\n",
        "ADD COLUMN Master_msaldopesos_ajustada DECIMAL(18, 2);\n",
        "\n",
        "ALTER TABLE competencia_03\n",
        "ADD COLUMN Master_msaldodolares_ajustada DECIMAL(18, 2);\n",
        "\n",
        "ALTER TABLE competencia_03\n",
        "ADD COLUMN Master_mconsumospesos_ajustada DECIMAL(18, 2);\n",
        "\n",
        "ALTER TABLE competencia_03\n",
        "ADD COLUMN Master_mconsumosdolares_ajustada DECIMAL(18, 2);\n",
        "\n",
        "ALTER TABLE competencia_03\n",
        "ADD COLUMN Master_mlimitecompra_ajustada DECIMAL(18, 2);\n",
        "\n",
        "ALTER TABLE competencia_03\n",
        "ADD COLUMN Master_madelantopesos_ajustada DECIMAL(18, 2);\n",
        "\n",
        "ALTER TABLE competencia_03\n",
        "ADD COLUMN Master_madelantodolares_ajustada DECIMAL(18, 2);\n",
        "\n",
        "ALTER TABLE competencia_03\n",
        "ADD COLUMN Master_mpagado_ajustada DECIMAL(18, 2);\n",
        "\n",
        "ALTER TABLE competencia_03\n",
        "ADD COLUMN Master_mpagospesos_ajustada DECIMAL(18, 2);\n",
        "\n",
        "ALTER TABLE competencia_03\n",
        "ADD COLUMN Master_mpagosdolares_ajustada DECIMAL(18, 2);\n",
        "\n",
        "ALTER TABLE competencia_03\n",
        "ADD COLUMN Master_mconsumototal_ajustada DECIMAL(18, 2);\n",
        "\n",
        "ALTER TABLE competencia_03\n",
        "ADD COLUMN Master_mpagominimo_ajustado DECIMAL(18, 2);\n",
        "\n",
        "ALTER TABLE competencia_03\n",
        "ADD COLUMN Visa_mfinanciacion_limite_ajustada DECIMAL(18, 2);\n",
        "\n",
        "ALTER TABLE competencia_03\n",
        "ADD COLUMN Visa_msaldototal_ajustada DECIMAL(18, 2);\n",
        "\n",
        "ALTER TABLE competencia_03\n",
        "ADD COLUMN Visa_msaldopesos_ajustada DECIMAL(18, 2);\n",
        "\n",
        "ALTER TABLE competencia_03\n",
        "ADD COLUMN Visa_msaldodolares_ajustada DECIMAL(18, 2);\n",
        "\n",
        "ALTER TABLE competencia_03\n",
        "ADD COLUMN Visa_mconsumospesos_ajustada DECIMAL(18, 2);\n",
        "\n",
        "ALTER TABLE competencia_03\n",
        "ADD COLUMN Visa_mconsumosdolares_ajustada DECIMAL(18, 2);\n",
        "\n",
        "ALTER TABLE competencia_03\n",
        "ADD COLUMN Visa_mlimitecompra_ajustada DECIMAL(18, 2);\n",
        "\n",
        "ALTER TABLE competencia_03\n",
        "ADD COLUMN Visa_madelantopesos_ajustada DECIMAL(18, 2);\n",
        "\n",
        "ALTER TABLE competencia_03\n",
        "ADD COLUMN Visa_madelantodolares_ajustada DECIMAL(18, 2);\n",
        "\n",
        "ALTER TABLE competencia_03\n",
        "ADD COLUMN Visa_mpagado_ajustada DECIMAL(18, 2);\n",
        "\n",
        "ALTER TABLE competencia_03\n",
        "ADD COLUMN Visa_mpagospesos_ajustada DECIMAL(18, 2);\n",
        "\n",
        "ALTER TABLE competencia_03\n",
        "ADD COLUMN Visa_mpagosdolares_ajustada DECIMAL(18, 2);\n",
        "\n",
        "ALTER TABLE competencia_03\n",
        "ADD COLUMN Visa_mconsumototal_ajustada DECIMAL(18, 2);\n",
        "\n",
        "ALTER TABLE competencia_03\n",
        "ADD COLUMN Visa_mpagominimo_ajustado DECIMAL(18, 2);"
      ]
    },
    {
      "cell_type": "code",
      "execution_count": null,
      "metadata": {},
      "outputs": [],
      "source": [
        "%%sql\n",
        "UPDATE competencia_03\n",
        "SET\n",
        "    Mrentabilidad_ajustada = Mrentabilidad * indice_inflacion_acumulada,\n",
        "    mrentabilidad_annual_ajustada = mrentabilidad_annual * indice_inflacion_acumulada,\n",
        "    mcomisiones_ajustada = mcomisiones * indice_inflacion_acumulada,\n",
        "    mactivos_margen_ajustada = mactivos_margen * indice_inflacion_acumulada,\n",
        "    mpasivos_margen_ajustada = mpasivos_margen * indice_inflacion_acumulada,\n",
        "    mcuenta_corriente_adicional_ajustada = mcuenta_corriente_adicional * indice_inflacion_acumulada,\n",
        "    mcuenta_corriente_ajustada = mcuenta_corriente * indice_inflacion_acumulada,\n",
        "    mcaja_ahorro_ajustada = mcaja_ahorro * indice_inflacion_acumulada,\n",
        "    mcaja_ahorro_adicional_ajustada = mcaja_ahorro_adicional * indice_inflacion_acumulada,\n",
        "    mcaja_ahorro_dolares_ajustada = mcaja_ahorro_dolares * indice_inflacion_acumulada,\n",
        "    mcuentas_saldo_ajustada = mcuentas_saldo * indice_inflacion_acumulada,\n",
        "    mautoservicio_ajustada = mautoservicio * indice_inflacion_acumulada,\n",
        "    mtarjeta_visa_consumo_ajustada = mtarjeta_visa_consumo * indice_inflacion_acumulada,\n",
        "    mtarjeta_master_consumo_ajustada = mtarjeta_master_consumo * indice_inflacion_acumulada,\n",
        "    mprestamos_personales_ajustada = mprestamos_personales * indice_inflacion_acumulada,\n",
        "    mprestamos_prendarios_ajustada = mprestamos_prendarios * indice_inflacion_acumulada,\n",
        "    mprestamos_hipotecarios_ajustada = mprestamos_hipotecarios * indice_inflacion_acumulada,\n",
        "    mplazo_fijo_dolares_ajustada = mplazo_fijo_dolares * indice_inflacion_acumulada,\n",
        "    mplazo_fijo_pesos_ajustada = mplazo_fijo_pesos * indice_inflacion_acumulada,\n",
        "    minversion1_pesos_ajustada = minversion1_pesos * indice_inflacion_acumulada,\n",
        "    minversion1_dolares_ajustada = minversion1_dolares * indice_inflacion_acumulada,\n",
        "    minversion2_ajustada = minversion2 * indice_inflacion_acumulada,\n",
        "    mpayroll_ajustada = mpayroll * indice_inflacion_acumulada,\n",
        "    mpayroll2_ajustada = mpayroll2 * indice_inflacion_acumulada,\n",
        "    mcuenta_debitos_automaticos_ajustada = mcuenta_debitos_automaticos * indice_inflacion_acumulada,\n",
        "    mttarjeta_master_debitos_automaticos_ajustada = mttarjeta_master_debitos_automaticos * indice_inflacion_acumulada,\n",
        "    mpagodeservicios_ajustada = mpagodeservicios * indice_inflacion_acumulada,\n",
        "    mpagomiscuentas_ajustada = mpagomiscuentas * indice_inflacion_acumulada,\n",
        "    mcajeros_propios_descuentos_ajustada = mcajeros_propios_descuentos * indice_inflacion_acumulada,\n",
        "    mtarjeta_visa_descuentos_ajustada = mtarjeta_visa_descuentos * indice_inflacion_acumulada,\n",
        "    mtarjeta_master_descuentos_ajustada = mtarjeta_master_descuentos * indice_inflacion_acumulada,\n",
        "    mcomisiones_mantenimiento_ajustada = mcomisiones_mantenimiento * indice_inflacion_acumulada,\n",
        "    mcomisiones_otras_ajustada = mcomisiones_otras * indice_inflacion_acumulada,\n",
        "    mforex_buy_ajustada = mforex_buy * indice_inflacion_acumulada,\n",
        "    mforex_sell_ajustada = mforex_sell * indice_inflacion_acumulada,\n",
        "    mtransferencias_recibidas_ajustada = mtransferencias_recibidas * indice_inflacion_acumulada,\n",
        "    mtransferencias_emitidas_ajustada = mtransferencias_emitidas * indice_inflacion_acumulada,\n",
        "    mextraccion_autoservicio_ajustada = mextraccion_autoservicio * indice_inflacion_acumulada,\n",
        "    mcheques_depositados_ajustada = mcheques_depositados * indice_inflacion_acumulada,\n",
        "    mcheques_emitidos_ajustada = mcheques_emitidos * indice_inflacion_acumulada,\n",
        "    mcheques_depositados_rechazados_ajustada = mcheques_depositados_rechazados * indice_inflacion_acumulada,\n",
        "    mcheques_emitidos_rechazados_ajustada = mcheques_emitidos_rechazados * indice_inflacion_acumulada,\n",
        "    matm_ajustada = matm * indice_inflacion_acumulada,\n",
        "    matm_other_ajustada = matm_other * indice_inflacion_acumulada,\n",
        "    Master_mfinanciacion_limite_ajustada = Master_mfinanciacion_limite * indice_inflacion_acumulada,\n",
        "    Master_msaldototal_ajustada = Master_msaldototal * indice_inflacion_acumulada,\n",
        "    Master_msaldopesos_ajustada = Master_msaldopesos * indice_inflacion_acumulada,\n",
        "    Master_msaldodolares_ajustada = Master_msaldodolares * indice_inflacion_acumulada,\n",
        "    Master_mconsumospesos_ajustada = Master_mconsumospesos * indice_inflacion_acumulada,\n",
        "    Master_mconsumosdolares_ajustada = Master_mconsumosdolares * indice_inflacion_acumulada,\n",
        "    Master_mlimitecompra_ajustada = Master_mlimitecompra * indice_inflacion_acumulada,\n",
        "    Master_madelantopesos_ajustada = Master_madelantopesos * indice_inflacion_acumulada,\n",
        "    Master_madelantodolares_ajustada = Master_madelantodolares * indice_inflacion_acumulada,\n",
        "    Master_mpagado_ajustada = Master_mpagado * indice_inflacion_acumulada,\n",
        "    Master_mpagospesos_ajustada = Master_mpagospesos * indice_inflacion_acumulada,\n",
        "    Master_mpagosdolares_ajustada = Master_mpagosdolares * indice_inflacion_acumulada,\n",
        "    Master_mconsumototal_ajustada = Master_mconsumototal * indice_inflacion_acumulada,\n",
        "    Master_mpagominimo_ajustado = Master_mpagominimo * indice_inflacion_acumulada,\n",
        "    Visa_mfinanciacion_limite_ajustada = Visa_mfinanciacion_limite * indice_inflacion_acumulada,\n",
        "    Visa_msaldototal_ajustada = Visa_msaldototal * indice_inflacion_acumulada,\n",
        "    Visa_msaldopesos_ajustada = Visa_msaldopesos * indice_inflacion_acumulada,\n",
        "    Visa_msaldodolares_ajustada = Visa_msaldodolares * indice_inflacion_acumulada,\n",
        "    Visa_mconsumospesos_ajustada = Visa_mconsumospesos * indice_inflacion_acumulada,\n",
        "    Visa_mconsumosdolares_ajustada = Visa_mconsumosdolares * indice_inflacion_acumulada,\n",
        "    Visa_mlimitecompra_ajustada = Visa_mlimitecompra * indice_inflacion_acumulada,\n",
        "    Visa_madelantopesos_ajustada = Visa_madelantopesos * indice_inflacion_acumulada,\n",
        "    Visa_madelantodolares_ajustada = Visa_madelantodolares * indice_inflacion_acumulada,\n",
        "    Visa_mpagado_ajustada = Visa_mpagado * indice_inflacion_acumulada,\n",
        "    Visa_mpagospesos_ajustada = Visa_mpagospesos * indice_inflacion_acumulada,\n",
        "    Visa_mpagosdolares_ajustada = Visa_mpagosdolares * indice_inflacion_acumulada,\n",
        "    Visa_mconsumototal_ajustada = Visa_mconsumototal * indice_inflacion_acumulada,\n",
        "    Visa_mpagominimo_ajustado = Visa_mpagominimo * indice_inflacion_acumulada;\n"
      ]
    },
    {
      "cell_type": "markdown",
      "metadata": {
        "id": "MNpRUh112zcU"
      },
      "source": [
        "Después,ya elimino la variable \"inflación_acumulada\" ya que no es de más utilidad, y las variables monetarias nominales"
      ]
    },
    {
      "cell_type": "code",
      "execution_count": null,
      "metadata": {
        "id": "tfIZ1GIe26Kl"
      },
      "outputs": [],
      "source": [
        "%%sql\n",
        "ALTER TABLE competencia_03\n",
        "DROP COLUMN indice_inflacion_acumulada;"
      ]
    },
    {
      "cell_type": "code",
      "execution_count": null,
      "metadata": {},
      "outputs": [],
      "source": [
        "%%sql\n",
        "ALTER TABLE competencia_03\n",
        "DROP COLUMN Mrentabilidad;\n",
        "\n",
        "ALTER TABLE competencia_03\n",
        "DROP COLUMN mrentabilidad_annual;\n",
        "\n",
        "ALTER TABLE competencia_03\n",
        "DROP COLUMN mcomisiones;\n",
        "\n",
        "ALTER TABLE competencia_03\n",
        "DROP COLUMN mactivos_margen;\n",
        "\n",
        "ALTER TABLE competencia_03\n",
        "DROP COLUMN mpasivos_margen;\n",
        "\n",
        "ALTER TABLE competencia_03\n",
        "DROP COLUMN mcuenta_corriente_adicional;\n",
        "\n",
        "ALTER TABLE competencia_03\n",
        "DROP COLUMN mcuenta_corriente;\n",
        "\n",
        "ALTER TABLE competencia_03\n",
        "DROP COLUMN mcaja_ahorro;\n",
        "\n",
        "ALTER TABLE competencia_03\n",
        "DROP COLUMN mcaja_ahorro_adicional;\n",
        "\n",
        "ALTER TABLE competencia_03\n",
        "DROP COLUMN mcaja_ahorro_dolares;\n",
        "\n",
        "ALTER TABLE competencia_03\n",
        "DROP COLUMN mcuentas_saldo;\n",
        "\n",
        "ALTER TABLE competencia_03\n",
        "DROP COLUMN mautoservicio;\n",
        "\n",
        "ALTER TABLE competencia_03\n",
        "DROP COLUMN mtarjeta_visa_consumo;\n",
        "\n",
        "ALTER TABLE competencia_03\n",
        "DROP COLUMN mtarjeta_master_consumo;\n",
        "\n",
        "ALTER TABLE competencia_03\n",
        "DROP COLUMN mprestamos_personales;\n",
        "\n",
        "ALTER TABLE competencia_03\n",
        "DROP COLUMN mprestamos_prendarios;\n",
        "\n",
        "ALTER TABLE competencia_03\n",
        "DROP COLUMN mprestamos_hipotecarios;\n",
        "\n",
        "ALTER TABLE competencia_03\n",
        "DROP COLUMN mplazo_fijo_dolares;\n",
        "\n",
        "ALTER TABLE competencia_03\n",
        "DROP COLUMN mplazo_fijo_pesos;\n",
        "\n",
        "ALTER TABLE competencia_03\n",
        "DROP COLUMN minversion1_pesos;\n",
        "\n",
        "ALTER TABLE competencia_03\n",
        "DROP COLUMN minversion1_dolares;\n",
        "\n",
        "ALTER TABLE competencia_03\n",
        "DROP COLUMN minversion2;\n",
        "\n",
        "ALTER TABLE competencia_03\n",
        "DROP COLUMN mpayroll;\n",
        "\n",
        "ALTER TABLE competencia_03\n",
        "DROP COLUMN mpayroll2;\n",
        "\n",
        "ALTER TABLE competencia_03\n",
        "DROP COLUMN mcuenta_debitos_automaticos;\n",
        "\n",
        "--ALTER TABLE competencia_03\n",
        "--DROP COLUMN mtarjeta_visa_debitos_automaticos;\n",
        "\n",
        "ALTER TABLE competencia_03\n",
        "DROP COLUMN mttarjeta_master_debitos_automaticos;\n",
        "\n",
        "ALTER TABLE competencia_03\n",
        "DROP COLUMN mpagodeservicios;\n",
        "\n",
        "ALTER TABLE competencia_03\n",
        "DROP COLUMN mpagomiscuentas;\n",
        "\n",
        "ALTER TABLE competencia_03\n",
        "DROP COLUMN mcajeros_propios_descuentos;\n",
        "\n",
        "ALTER TABLE competencia_03\n",
        "DROP COLUMN mtarjeta_visa_descuentos;\n",
        "\n",
        "ALTER TABLE competencia_03\n",
        "DROP COLUMN mtarjeta_master_descuentos;\n",
        "\n",
        "ALTER TABLE competencia_03\n",
        "DROP COLUMN mcomisiones_mantenimiento;\n",
        "\n",
        "ALTER TABLE competencia_03\n",
        "DROP COLUMN mcomisiones_otras;\n",
        "\n",
        "ALTER TABLE competencia_03\n",
        "DROP COLUMN mforex_buy;\n",
        "\n",
        "ALTER TABLE competencia_03\n",
        "DROP COLUMN mforex_sell;\n",
        "\n",
        "ALTER TABLE competencia_03\n",
        "DROP COLUMN mtransferencias_recibidas;\n",
        "\n",
        "ALTER TABLE competencia_03\n",
        "DROP COLUMN mtransferencias_emitidas;\n",
        "\n",
        "ALTER TABLE competencia_03\n",
        "DROP COLUMN mextraccion_autoservicio;\n",
        "\n",
        "ALTER TABLE competencia_03\n",
        "DROP COLUMN mcheques_depositados;\n",
        "\n",
        "ALTER TABLE competencia_03\n",
        "DROP COLUMN mcheques_emitidos;\n",
        "\n",
        "ALTER TABLE competencia_03\n",
        "DROP COLUMN mcheques_depositados_rechazados;\n",
        "\n",
        "ALTER TABLE competencia_03\n",
        "DROP COLUMN mcheques_emitidos_rechazados;\n",
        "\n",
        "ALTER TABLE competencia_03\n",
        "DROP COLUMN matm;\n",
        "\n",
        "ALTER TABLE competencia_03\n",
        "DROP COLUMN Master_mfinanciacion_limite;\n",
        "\n",
        "ALTER TABLE competencia_03\n",
        "DROP COLUMN Master_msaldototal;\n",
        "\n",
        "ALTER TABLE competencia_03\n",
        "DROP COLUMN Master_msaldopesos;\n",
        "\n",
        "ALTER TABLE competencia_03\n",
        "DROP COLUMN Master_msaldodolares;\n",
        "\n",
        "ALTER TABLE competencia_03\n",
        "DROP COLUMN Master_mconsumospesos;\n",
        "\n",
        "ALTER TABLE competencia_03\n",
        "DROP COLUMN Master_mconsumosdolares;\n",
        "\n",
        "ALTER TABLE competencia_03\n",
        "DROP COLUMN Master_mlimitecompra;\n",
        "\n",
        "ALTER TABLE competencia_03\n",
        "DROP COLUMN Master_madelantopesos;\n",
        "\n",
        "ALTER TABLE competencia_03\n",
        "DROP COLUMN Master_madelantodolares;\n",
        "\n",
        "ALTER TABLE competencia_03\n",
        "DROP COLUMN Master_mpagado;\n",
        "\n",
        "ALTER TABLE competencia_03\n",
        "DROP COLUMN Master_mpagospesos;\n",
        "\n",
        "ALTER TABLE competencia_03\n",
        "DROP COLUMN Master_mpagosdolares;\n",
        "\n",
        "ALTER TABLE competencia_03\n",
        "DROP COLUMN Master_mconsumototal;\n",
        "\n",
        "ALTER TABLE competencia_03\n",
        "DROP COLUMN Master_mpagominimo;\n",
        "\n",
        "ALTER TABLE competencia_03\n",
        "DROP COLUMN Visa_mfinanciacion_limite;\n",
        "\n",
        "ALTER TABLE competencia_03\n",
        "DROP COLUMN Visa_msaldototal;\n",
        "\n",
        "ALTER TABLE competencia_03\n",
        "DROP COLUMN Visa_msaldopesos;\n",
        "\n",
        "ALTER TABLE competencia_03\n",
        "DROP COLUMN Visa_msaldodolares;\n",
        "\n",
        "ALTER TABLE competencia_03\n",
        "DROP COLUMN Visa_mconsumospesos;\n",
        "\n",
        "ALTER TABLE competencia_03\n",
        "DROP COLUMN Visa_mconsumosdolares;\n",
        "\n",
        "ALTER TABLE competencia_03\n",
        "DROP COLUMN Visa_mlimitecompra;\n",
        "\n",
        "ALTER TABLE competencia_03\n",
        "DROP COLUMN Visa_madelantopesos;\n",
        "\n",
        "ALTER TABLE competencia_03\n",
        "DROP COLUMN Visa_madelantodolares;\n",
        "\n",
        "ALTER TABLE competencia_03\n",
        "DROP COLUMN Visa_mpagado;\n",
        "\n",
        "ALTER TABLE competencia_03\n",
        "DROP COLUMN Visa_mpagospesos;\n",
        "\n",
        "ALTER TABLE competencia_03\n",
        "DROP COLUMN Visa_mpagosdolares;\n",
        "\n",
        "ALTER TABLE competencia_03\n",
        "DROP COLUMN Visa_mconsumototal;\n",
        "\n",
        "ALTER TABLE competencia_03\n",
        "DROP COLUMN Visa_mpagominimo;\n"
      ]
    },
    {
      "cell_type": "markdown",
      "metadata": {},
      "source": [
        "# Guardar el csv con las variables transformadas"
      ]
    },
    {
      "cell_type": "code",
      "execution_count": null,
      "metadata": {},
      "outputs": [],
      "source": [
        "%%sql\n",
        "copy competencia_03 to '/datasets/competencia_03_ajust_x_infla.csv.gz' (FORMAT CSV, HEADER)"
      ]
    }
  ],
  "metadata": {
    "colab": {
      "collapsed_sections": [
        "GXIQnVX6fo2q",
        "xsDax2s7fo2t",
        "qKHx0uvffo2x",
        "vYz4nxvzBZ4c",
        "nbXEIlh5Bpxf",
        "z5kJFY1RMimq"
      ],
      "provenance": []
    },
    "kernelspec": {
      "display_name": "Python 3",
      "language": "python",
      "name": "python3"
    },
    "language_info": {
      "codemirror_mode": {
        "name": "ipython",
        "version": 3
      },
      "file_extension": ".py",
      "mimetype": "text/x-python",
      "name": "python",
      "nbconvert_exporter": "python",
      "pygments_lexer": "ipython3",
      "version": "3.8.5"
    },
    "toc": {
      "base_numbering": 1,
      "nav_menu": {},
      "number_sections": true,
      "sideBar": true,
      "skip_h1_title": false,
      "title_cell": "Table of Contents",
      "title_sidebar": "Contents",
      "toc_cell": false,
      "toc_position": {},
      "toc_section_display": true,
      "toc_window_display": true
    },
    "widgets": {
      "application/vnd.jupyter.widget-state+json": {
        "2b71562be900415a9dcce37fef3b6aa8": {
          "model_module": "@jupyter-widgets/controls",
          "model_module_version": "1.5.0",
          "model_name": "FloatProgressModel",
          "state": {
            "_dom_classes": [],
            "_model_module": "@jupyter-widgets/controls",
            "_model_module_version": "1.5.0",
            "_model_name": "FloatProgressModel",
            "_view_count": null,
            "_view_module": "@jupyter-widgets/controls",
            "_view_module_version": "1.5.0",
            "_view_name": "ProgressView",
            "bar_style": "",
            "description": "",
            "description_tooltip": null,
            "layout": "IPY_MODEL_a45df26cf1e74e149aa4bde51f376326",
            "max": 100,
            "min": 0,
            "orientation": "horizontal",
            "style": "IPY_MODEL_4bbf8b478abe4f32a603cf56f9b5d759",
            "value": 100
          }
        },
        "4bbf8b478abe4f32a603cf56f9b5d759": {
          "model_module": "@jupyter-widgets/controls",
          "model_module_version": "1.5.0",
          "model_name": "ProgressStyleModel",
          "state": {
            "_model_module": "@jupyter-widgets/controls",
            "_model_module_version": "1.5.0",
            "_model_name": "ProgressStyleModel",
            "_view_count": null,
            "_view_module": "@jupyter-widgets/base",
            "_view_module_version": "1.2.0",
            "_view_name": "StyleView",
            "bar_color": "black",
            "description_width": ""
          }
        },
        "51e5d31c3dfc45f2aea314f4979b3951": {
          "model_module": "@jupyter-widgets/controls",
          "model_module_version": "1.5.0",
          "model_name": "ProgressStyleModel",
          "state": {
            "_model_module": "@jupyter-widgets/controls",
            "_model_module_version": "1.5.0",
            "_model_name": "ProgressStyleModel",
            "_view_count": null,
            "_view_module": "@jupyter-widgets/base",
            "_view_module_version": "1.2.0",
            "_view_name": "StyleView",
            "bar_color": "black",
            "description_width": ""
          }
        },
        "5e373975ebfc46c89fa203fec67fe3e6": {
          "model_module": "@jupyter-widgets/controls",
          "model_module_version": "1.5.0",
          "model_name": "FloatProgressModel",
          "state": {
            "_dom_classes": [],
            "_model_module": "@jupyter-widgets/controls",
            "_model_module_version": "1.5.0",
            "_model_name": "FloatProgressModel",
            "_view_count": null,
            "_view_module": "@jupyter-widgets/controls",
            "_view_module_version": "1.5.0",
            "_view_name": "ProgressView",
            "bar_style": "",
            "description": "",
            "description_tooltip": null,
            "layout": "IPY_MODEL_bd3e1d29cef24f31be3b688ab256c358",
            "max": 100,
            "min": 0,
            "orientation": "horizontal",
            "style": "IPY_MODEL_83d033c5680d4d9f839cff37e055a301",
            "value": 100
          }
        },
        "83d033c5680d4d9f839cff37e055a301": {
          "model_module": "@jupyter-widgets/controls",
          "model_module_version": "1.5.0",
          "model_name": "ProgressStyleModel",
          "state": {
            "_model_module": "@jupyter-widgets/controls",
            "_model_module_version": "1.5.0",
            "_model_name": "ProgressStyleModel",
            "_view_count": null,
            "_view_module": "@jupyter-widgets/base",
            "_view_module_version": "1.2.0",
            "_view_name": "StyleView",
            "bar_color": "black",
            "description_width": ""
          }
        },
        "a45df26cf1e74e149aa4bde51f376326": {
          "model_module": "@jupyter-widgets/base",
          "model_module_version": "1.2.0",
          "model_name": "LayoutModel",
          "state": {
            "_model_module": "@jupyter-widgets/base",
            "_model_module_version": "1.2.0",
            "_model_name": "LayoutModel",
            "_view_count": null,
            "_view_module": "@jupyter-widgets/base",
            "_view_module_version": "1.2.0",
            "_view_name": "LayoutView",
            "align_content": null,
            "align_items": null,
            "align_self": null,
            "border": null,
            "bottom": null,
            "display": null,
            "flex": null,
            "flex_flow": null,
            "grid_area": null,
            "grid_auto_columns": null,
            "grid_auto_flow": null,
            "grid_auto_rows": null,
            "grid_column": null,
            "grid_gap": null,
            "grid_row": null,
            "grid_template_areas": null,
            "grid_template_columns": null,
            "grid_template_rows": null,
            "height": null,
            "justify_content": null,
            "justify_items": null,
            "left": null,
            "margin": null,
            "max_height": null,
            "max_width": null,
            "min_height": null,
            "min_width": null,
            "object_fit": null,
            "object_position": null,
            "order": null,
            "overflow": null,
            "overflow_x": null,
            "overflow_y": null,
            "padding": null,
            "right": null,
            "top": null,
            "visibility": null,
            "width": "auto"
          }
        },
        "bd3e1d29cef24f31be3b688ab256c358": {
          "model_module": "@jupyter-widgets/base",
          "model_module_version": "1.2.0",
          "model_name": "LayoutModel",
          "state": {
            "_model_module": "@jupyter-widgets/base",
            "_model_module_version": "1.2.0",
            "_model_name": "LayoutModel",
            "_view_count": null,
            "_view_module": "@jupyter-widgets/base",
            "_view_module_version": "1.2.0",
            "_view_name": "LayoutView",
            "align_content": null,
            "align_items": null,
            "align_self": null,
            "border": null,
            "bottom": null,
            "display": null,
            "flex": null,
            "flex_flow": null,
            "grid_area": null,
            "grid_auto_columns": null,
            "grid_auto_flow": null,
            "grid_auto_rows": null,
            "grid_column": null,
            "grid_gap": null,
            "grid_row": null,
            "grid_template_areas": null,
            "grid_template_columns": null,
            "grid_template_rows": null,
            "height": null,
            "justify_content": null,
            "justify_items": null,
            "left": null,
            "margin": null,
            "max_height": null,
            "max_width": null,
            "min_height": null,
            "min_width": null,
            "object_fit": null,
            "object_position": null,
            "order": null,
            "overflow": null,
            "overflow_x": null,
            "overflow_y": null,
            "padding": null,
            "right": null,
            "top": null,
            "visibility": null,
            "width": "auto"
          }
        },
        "c17d479883b14130863cfb57f5b40e3d": {
          "model_module": "@jupyter-widgets/base",
          "model_module_version": "1.2.0",
          "model_name": "LayoutModel",
          "state": {
            "_model_module": "@jupyter-widgets/base",
            "_model_module_version": "1.2.0",
            "_model_name": "LayoutModel",
            "_view_count": null,
            "_view_module": "@jupyter-widgets/base",
            "_view_module_version": "1.2.0",
            "_view_name": "LayoutView",
            "align_content": null,
            "align_items": null,
            "align_self": null,
            "border": null,
            "bottom": null,
            "display": null,
            "flex": null,
            "flex_flow": null,
            "grid_area": null,
            "grid_auto_columns": null,
            "grid_auto_flow": null,
            "grid_auto_rows": null,
            "grid_column": null,
            "grid_gap": null,
            "grid_row": null,
            "grid_template_areas": null,
            "grid_template_columns": null,
            "grid_template_rows": null,
            "height": null,
            "justify_content": null,
            "justify_items": null,
            "left": null,
            "margin": null,
            "max_height": null,
            "max_width": null,
            "min_height": null,
            "min_width": null,
            "object_fit": null,
            "object_position": null,
            "order": null,
            "overflow": null,
            "overflow_x": null,
            "overflow_y": null,
            "padding": null,
            "right": null,
            "top": null,
            "visibility": null,
            "width": "auto"
          }
        },
        "eda048891bc646ccb6e13316f3a18452": {
          "model_module": "@jupyter-widgets/controls",
          "model_module_version": "1.5.0",
          "model_name": "FloatProgressModel",
          "state": {
            "_dom_classes": [],
            "_model_module": "@jupyter-widgets/controls",
            "_model_module_version": "1.5.0",
            "_model_name": "FloatProgressModel",
            "_view_count": null,
            "_view_module": "@jupyter-widgets/controls",
            "_view_module_version": "1.5.0",
            "_view_name": "ProgressView",
            "bar_style": "",
            "description": "",
            "description_tooltip": null,
            "layout": "IPY_MODEL_c17d479883b14130863cfb57f5b40e3d",
            "max": 100,
            "min": 0,
            "orientation": "horizontal",
            "style": "IPY_MODEL_51e5d31c3dfc45f2aea314f4979b3951",
            "value": 100
          }
        }
      }
    }
  },
  "nbformat": 4,
  "nbformat_minor": 0
}
