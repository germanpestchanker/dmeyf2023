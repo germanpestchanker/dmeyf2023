{
  "cells": [
    {
      "cell_type": "markdown",
      "metadata": {
        "id": "e8XpJxejaRZw"
      },
      "source": [
        "# Interpretando los modelos, conectando con humanos\n",
        "\n",
        "## SHAP Values\n",
        "\n",
        "Veremos brevemente un modelo de interpretabilidad para modelos complejos de machine learning como es un LGBM.\n",
        "\n",
        "El uso de **python** para esta exploración se debe a la madurez encontrada en las librerías en mi búsqueda.\n",
        "\n",
        "Empezamos con la instalación y carga de los módulos necesarios:"
      ]
    },
    {
      "cell_type": "code",
      "execution_count": 1,
      "metadata": {},
      "outputs": [],
      "source": [
        "#!pip install shap "
      ]
    },
    {
      "cell_type": "code",
      "execution_count": 2,
      "metadata": {},
      "outputs": [],
      "source": [
        "#!pip install lightgbm"
      ]
    },
    {
      "cell_type": "code",
      "execution_count": 3,
      "metadata": {},
      "outputs": [],
      "source": [
        "#!pip install umap "
      ]
    },
    {
      "cell_type": "code",
      "execution_count": 4,
      "metadata": {},
      "outputs": [],
      "source": [
        "#!pip install umap-learn"
      ]
    },
    {
      "cell_type": "code",
      "execution_count": 5,
      "metadata": {
        "colab": {
          "base_uri": "https://localhost:8080/"
        },
        "id": "I6d2e7cMaRZ0",
        "outputId": "c88e2be4-e7be-461d-b6f7-63da2adcbd4b"
      },
      "outputs": [
        {
          "data": {
            "text/html": [
              "<style type='text/css'>\n",
              ".datatable table.frame { margin-bottom: 0; }\n",
              ".datatable table.frame thead { border-bottom: none; }\n",
              ".datatable table.frame tr.coltypes td {  color: #FFFFFF;  line-height: 6px;  padding: 0 0.5em;}\n",
              ".datatable .bool    { background: #DDDD99; }\n",
              ".datatable .object  { background: #565656; }\n",
              ".datatable .int     { background: #5D9E5D; }\n",
              ".datatable .float   { background: #4040CC; }\n",
              ".datatable .str     { background: #CC4040; }\n",
              ".datatable .time    { background: #40CC40; }\n",
              ".datatable .row_index {  background: var(--jp-border-color3);  border-right: 1px solid var(--jp-border-color0);  color: var(--jp-ui-font-color3);  font-size: 9px;}\n",
              ".datatable .frame tbody td { text-align: left; }\n",
              ".datatable .frame tr.coltypes .row_index {  background: var(--jp-border-color0);}\n",
              ".datatable th:nth-child(2) { padding-left: 12px; }\n",
              ".datatable .hellipsis {  color: var(--jp-cell-editor-border-color);}\n",
              ".datatable .vellipsis {  background: var(--jp-layout-color0);  color: var(--jp-cell-editor-border-color);}\n",
              ".datatable .na {  color: var(--jp-cell-editor-border-color);  font-size: 80%;}\n",
              ".datatable .sp {  opacity: 0.25;}\n",
              ".datatable .footer { font-size: 9px; }\n",
              ".datatable .frame_dimensions {  background: var(--jp-border-color3);  border-top: 1px solid var(--jp-border-color0);  color: var(--jp-ui-font-color3);  display: inline-block;  opacity: 0.6;  padding: 1px 10px 1px 5px;}\n",
              "</style>\n"
            ],
            "text/plain": [
              "<IPython.core.display.HTML object>"
            ]
          },
          "metadata": {},
          "output_type": "display_data"
        }
      ],
      "source": [
        "import pandas as pd\n",
        "import numpy as np\n",
        "\n",
        "import lightgbm as lgb\n",
        "import shap\n",
        "import matplotlib.pyplot as plt\n",
        "from sklearn.cluster import KMeans\n",
        "from sklearn.cluster import DBSCAN\n",
        "from sklearn.ensemble import  RandomForestClassifier\n",
        "from sklearn.impute import SimpleImputer\n"
      ]
    },
    {
      "cell_type": "code",
      "execution_count": 6,
      "metadata": {},
      "outputs": [
        {
          "name": "stderr",
          "output_type": "stream",
          "text": [
            "2023-10-14 03:28:42.456381: I tensorflow/tsl/cuda/cudart_stub.cc:28] Could not find cuda drivers on your machine, GPU will not be used.\n",
            "2023-10-14 03:28:44.338384: I tensorflow/tsl/cuda/cudart_stub.cc:28] Could not find cuda drivers on your machine, GPU will not be used.\n",
            "2023-10-14 03:28:44.340070: I tensorflow/core/platform/cpu_feature_guard.cc:182] This TensorFlow binary is optimized to use available CPU instructions in performance-critical operations.\n",
            "To enable the following instructions: AVX2 FMA, in other operations, rebuild TensorFlow with the appropriate compiler flags.\n",
            "2023-10-14 03:28:47.451175: W tensorflow/compiler/tf2tensorrt/utils/py_utils.cc:38] TF-TRT Warning: Could not find TensorRT\n"
          ]
        }
      ],
      "source": [
        "## Revisar https://github.com/MaartenGr/BERTopic/issues/723\n",
        "from umap import UMAP"
      ]
    },
    {
      "cell_type": "markdown",
      "metadata": {
        "id": "ztnX-i3-aRZ1"
      },
      "source": [
        "Cargamos el dataset. Vamos a trabajar con el primer conjunto de datos pero usted deberá utilizar un dataset ampliado y más refinado. Preparamos y separamos las clases y "
      ]
    },
    {
      "cell_type": "code",
      "execution_count": 8,
      "metadata": {
        "id": "5iEEz8KraRZ1"
      },
      "outputs": [
        {
          "name": "stderr",
          "output_type": "stream",
          "text": [
            "Columns (154) have mixed types. Specify dtype option on import or set low_memory=False.\n"
          ]
        }
      ],
      "source": [
        "#ds_train = pd.read_csv(\"D:/Equipo/Documentos/Posgrado/2C23/Competencia 2/competencia_02.csv.gz\")\n",
        "\n",
        "ds_train = pd.read_csv(\"~/buckets/b1/datasets/competencia_02.csv.gz\")\n",
        "\n",
        "clase_train = ds_train[\"clase_ternaria\"].map(lambda x: 0 if x == \"CONTINUA\" else 1)"
      ]
    },
    {
      "cell_type": "markdown",
      "metadata": {
        "id": "A55xcb-taRZ2"
      },
      "source": [
        "Y armamos un **dataset** con solo los casos de **BAJAS+1** y **BAJAS+2**. Sacamos los de los **datasets** los targets."
      ]
    },
    {
      "cell_type": "code",
      "execution_count": 9,
      "metadata": {
        "id": "rP9dL3g5aRZ2"
      },
      "outputs": [],
      "source": [
        "ds_bajas = ds_train.query(\"clase_ternaria != 'CONTINUA'\")\n",
        "ds_train = ds_train.drop([\"clase_ternaria\", \"numero_de_cliente\"], axis=1)\n",
        "ds_bajas = ds_bajas.drop([\"clase_ternaria\", \"numero_de_cliente\"], axis=1)\n"
      ]
    },
    {
      "cell_type": "markdown",
      "metadata": {
        "id": "WU89THJaaRZ3"
      },
      "source": [
        "Y hacemos un modelo **LGBM**. En este punto, usted agregue los mejores parámetros que haya encontrado."
      ]
    },
    {
      "cell_type": "code",
      "execution_count": 12,
      "metadata": {},
      "outputs": [],
      "source": [
        "import random"
      ]
    },
    {
      "cell_type": "code",
      "execution_count": 13,
      "metadata": {
        "colab": {
          "base_uri": "https://localhost:8080/"
        },
        "id": "gJFi741zaRZ3",
        "outputId": "6de91933-1761-4d79-a510-206ddc2b920b"
      },
      "outputs": [],
      "source": [
        "# create dataset for lightgbm\n",
        "lgb_train = lgb.Dataset(ds_train, clase_train)\n",
        "\n",
        "random.seed(279523)\n",
        "# specify your configurations as a dict (pongo los de la solucion 2)\n",
        "params = {\n",
        "    'objective': 'binary',\n",
        "    'learning_rate': 0.0443304506619713,\n",
        "    'verbose': 2,\n",
        "    'max_bin': 31,\n",
        "    'min_data_in_leaf': 363,\n",
        "    'verbose': 0,\n",
        "}\n",
        "\n",
        "gbm = lgb.train(params, lgb_train, num_boost_round=100)\n",
        "# calculamos las p para los clientes bajas (no me estoy preocupando del overfitting ni nada, algo quizás usted debiera)\n",
        "p_bajas = gbm.predict(ds_bajas)\n"
      ]
    },
    {
      "cell_type": "markdown",
      "metadata": {
        "id": "PGLD_OL0aRZ4"
      },
      "source": [
        "Hasta ahora, las herramientas para saber a que feature le daba importancia un modelo eran básicas. No era mucho más que un **feature importance**"
      ]
    },
    {
      "cell_type": "code",
      "execution_count": 14,
      "metadata": {
        "colab": {
          "base_uri": "https://localhost:8080/",
          "height": 423
        },
        "id": "igeVgb3MaRZ4",
        "outputId": "db370158-08bb-41d9-a47c-b0e72eb5474e"
      },
      "outputs": [
        {
          "data": {
            "text/html": [
              "<div>\n",
              "<style scoped>\n",
              "    .dataframe tbody tr th:only-of-type {\n",
              "        vertical-align: middle;\n",
              "    }\n",
              "\n",
              "    .dataframe tbody tr th {\n",
              "        vertical-align: top;\n",
              "    }\n",
              "\n",
              "    .dataframe thead th {\n",
              "        text-align: right;\n",
              "    }\n",
              "</style>\n",
              "<table border=\"1\" class=\"dataframe\">\n",
              "  <thead>\n",
              "    <tr style=\"text-align: right;\">\n",
              "      <th></th>\n",
              "      <th>Features</th>\n",
              "      <th>Importances</th>\n",
              "    </tr>\n",
              "  </thead>\n",
              "  <tbody>\n",
              "    <tr>\n",
              "      <th>0</th>\n",
              "      <td>foto_mes</td>\n",
              "      <td>446</td>\n",
              "    </tr>\n",
              "    <tr>\n",
              "      <th>32</th>\n",
              "      <td>mprestamos_personales</td>\n",
              "      <td>214</td>\n",
              "    </tr>\n",
              "    <tr>\n",
              "      <th>50</th>\n",
              "      <td>cpayroll_trx</td>\n",
              "      <td>161</td>\n",
              "    </tr>\n",
              "    <tr>\n",
              "      <th>17</th>\n",
              "      <td>mcaja_ahorro</td>\n",
              "      <td>152</td>\n",
              "    </tr>\n",
              "    <tr>\n",
              "      <th>15</th>\n",
              "      <td>mcuenta_corriente</td>\n",
              "      <td>128</td>\n",
              "    </tr>\n",
              "    <tr>\n",
              "      <th>...</th>\n",
              "      <td>...</td>\n",
              "      <td>...</td>\n",
              "    </tr>\n",
              "    <tr>\n",
              "      <th>66</th>\n",
              "      <td>ctarjeta_visa_descuentos</td>\n",
              "      <td>0</td>\n",
              "    </tr>\n",
              "    <tr>\n",
              "      <th>65</th>\n",
              "      <td>mcajeros_propios_descuentos</td>\n",
              "      <td>0</td>\n",
              "    </tr>\n",
              "    <tr>\n",
              "      <th>64</th>\n",
              "      <td>ccajeros_propios_descuentos</td>\n",
              "      <td>0</td>\n",
              "    </tr>\n",
              "    <tr>\n",
              "      <th>62</th>\n",
              "      <td>cpagomiscuentas</td>\n",
              "      <td>0</td>\n",
              "    </tr>\n",
              "    <tr>\n",
              "      <th>76</th>\n",
              "      <td>mforex_buy</td>\n",
              "      <td>0</td>\n",
              "    </tr>\n",
              "  </tbody>\n",
              "</table>\n",
              "<p>153 rows × 2 columns</p>\n",
              "</div>"
            ],
            "text/plain": [
              "                       Features  Importances\n",
              "0                      foto_mes          446\n",
              "32        mprestamos_personales          214\n",
              "50                 cpayroll_trx          161\n",
              "17                 mcaja_ahorro          152\n",
              "15            mcuenta_corriente          128\n",
              "..                          ...          ...\n",
              "66     ctarjeta_visa_descuentos            0\n",
              "65  mcajeros_propios_descuentos            0\n",
              "64  ccajeros_propios_descuentos            0\n",
              "62              cpagomiscuentas            0\n",
              "76                   mforex_buy            0\n",
              "\n",
              "[153 rows x 2 columns]"
            ]
          },
          "execution_count": 14,
          "metadata": {},
          "output_type": "execute_result"
        }
      ],
      "source": [
        "lgbm_importancia = pd.DataFrame({'Features': gbm.feature_name(),\n",
        "                        'Importances': gbm.feature_importance()})\n",
        "lgbm_importancia.sort_values(by='Importances', inplace=True, ascending=False)\n",
        "lgbm_importancia\n"
      ]
    },
    {
      "cell_type": "markdown",
      "metadata": {},
      "source": [
        "Sin embargo podemos intuir que si un modelo detecta múltiples patrones, no todos los casos van a ser afectados por el mismo. Tiene sentido que dos clientes se den de baja por motivos distintos y que un modelo pondere para cada caso, un peso distinto a los **features**. O sea, necesitamos una forma de explicar de forma local (caso a caso) en vez de una global (para todos los casos). Para esto utilizaremos los modelos [SHAP](https://christophm.github.io/interpretable-ml-book/shap.html)  "
      ]
    },
    {
      "cell_type": "markdown",
      "metadata": {
        "id": "4CzK9kANaRZ4"
      },
      "source": [
        "Ahora avanzamos aplicando un modelo de interpretabilidad sobre el modelo anterior."
      ]
    },
    {
      "cell_type": "code",
      "execution_count": 15,
      "metadata": {
        "colab": {
          "base_uri": "https://localhost:8080/"
        },
        "id": "dRhywfaAaRZ5",
        "outputId": "02b92dec-b648-443b-caea-f290c09ee247"
      },
      "outputs": [
        {
          "name": "stderr",
          "output_type": "stream",
          "text": [
            "LightGBM binary classifier with TreeExplainer shap values output has changed to a list of ndarray\n"
          ]
        }
      ],
      "source": [
        "explainer = shap.TreeExplainer(gbm)\n",
        "shap_values = explainer.shap_values(ds_bajas)\n",
        "shap_bajas = pd.DataFrame(shap_values[0], columns = ds_bajas.columns)"
      ]
    },
    {
      "cell_type": "markdown",
      "metadata": {
        "id": "o5X7LfoXaRZ5"
      },
      "source": [
        "En la variable `shap_bajas` contaríamos para cada caso, el peso de la influencia de esa **feature** de acuerdo al modelo. Veamos un caso, tomemos un cliente:"
      ]
    },
    {
      "cell_type": "code",
      "execution_count": 16,
      "metadata": {
        "colab": {
          "base_uri": "https://localhost:8080/",
          "height": 461
        },
        "id": "GIxeFGeKaRZ5",
        "outputId": "c43fd3fd-6070-40c5-b9f1-7e17afadcd32"
      },
      "outputs": [
        {
          "name": "stdout",
          "output_type": "stream",
          "text": [
            "0.00394364343131678\n"
          ]
        },
        {
          "data": {
            "text/html": [
              "<div>\n",
              "<style scoped>\n",
              "    .dataframe tbody tr th:only-of-type {\n",
              "        vertical-align: middle;\n",
              "    }\n",
              "\n",
              "    .dataframe tbody tr th {\n",
              "        vertical-align: top;\n",
              "    }\n",
              "\n",
              "    .dataframe thead th {\n",
              "        text-align: right;\n",
              "    }\n",
              "</style>\n",
              "<table border=\"1\" class=\"dataframe\">\n",
              "  <thead>\n",
              "    <tr style=\"text-align: right;\">\n",
              "      <th></th>\n",
              "      <th>987</th>\n",
              "      <th>7</th>\n",
              "    </tr>\n",
              "  </thead>\n",
              "  <tbody>\n",
              "    <tr>\n",
              "      <th>foto_mes</th>\n",
              "      <td>201901.00</td>\n",
              "      <td>0.785127</td>\n",
              "    </tr>\n",
              "    <tr>\n",
              "      <th>ctrx_quarter</th>\n",
              "      <td>131.00</td>\n",
              "      <td>0.256317</td>\n",
              "    </tr>\n",
              "    <tr>\n",
              "      <th>mtarjeta_visa_consumo</th>\n",
              "      <td>85080.12</td>\n",
              "      <td>0.094730</td>\n",
              "    </tr>\n",
              "    <tr>\n",
              "      <th>ctarjeta_visa_transacciones</th>\n",
              "      <td>57.00</td>\n",
              "      <td>0.063878</td>\n",
              "    </tr>\n",
              "    <tr>\n",
              "      <th>mtarjeta_master_consumo</th>\n",
              "      <td>14873.26</td>\n",
              "      <td>0.057601</td>\n",
              "    </tr>\n",
              "    <tr>\n",
              "      <th>...</th>\n",
              "      <td>...</td>\n",
              "      <td>...</td>\n",
              "    </tr>\n",
              "    <tr>\n",
              "      <th>cproductos</th>\n",
              "      <td>6.00</td>\n",
              "      <td>-0.072139</td>\n",
              "    </tr>\n",
              "    <tr>\n",
              "      <th>mcuentas_saldo</th>\n",
              "      <td>1257.73</td>\n",
              "      <td>-0.078567</td>\n",
              "    </tr>\n",
              "    <tr>\n",
              "      <th>mcaja_ahorro</th>\n",
              "      <td>1248.13</td>\n",
              "      <td>-0.131159</td>\n",
              "    </tr>\n",
              "    <tr>\n",
              "      <th>mpayroll</th>\n",
              "      <td>0.00</td>\n",
              "      <td>-0.145046</td>\n",
              "    </tr>\n",
              "    <tr>\n",
              "      <th>cpayroll_trx</th>\n",
              "      <td>0.00</td>\n",
              "      <td>-0.336583</td>\n",
              "    </tr>\n",
              "  </tbody>\n",
              "</table>\n",
              "<p>153 rows × 2 columns</p>\n",
              "</div>"
            ],
            "text/plain": [
              "                                   987       7  \n",
              "foto_mes                     201901.00  0.785127\n",
              "ctrx_quarter                    131.00  0.256317\n",
              "mtarjeta_visa_consumo         85080.12  0.094730\n",
              "ctarjeta_visa_transacciones      57.00  0.063878\n",
              "mtarjeta_master_consumo       14873.26  0.057601\n",
              "...                                ...       ...\n",
              "cproductos                        6.00 -0.072139\n",
              "mcuentas_saldo                 1257.73 -0.078567\n",
              "mcaja_ahorro                   1248.13 -0.131159\n",
              "mpayroll                          0.00 -0.145046\n",
              "cpayroll_trx                      0.00 -0.336583\n",
              "\n",
              "[153 rows x 2 columns]"
            ]
          },
          "execution_count": 16,
          "metadata": {},
          "output_type": "execute_result"
        }
      ],
      "source": [
        "# busco un caso en p_bajas, con un p alta, y tomo su indice\n",
        "cliente_idx = 7\n",
        "print(p_bajas[cliente_idx])\n",
        "df = pd.concat([ds_bajas.iloc[cliente_idx], shap_bajas.iloc[cliente_idx]], axis=1)\n",
        "df.sort_values(by=[cliente_idx], ascending=False)"
      ]
    },
    {
      "cell_type": "markdown",
      "metadata": {},
      "source": [
        "En la tabla anterior, los **features** con números positivos \"adicionan(*)\" a la probabilidad y los negativos. \n",
        "\n",
        "(*) Aquí estamos usando TreeSHAP, que no es tan directa como Kernel SHAP para la interpretación directa. \n",
        "\n",
        "También podemos combinar todos los valores de SHAP y recrear una nueva importancia de variables:"
      ]
    },
    {
      "cell_type": "code",
      "execution_count": 17,
      "metadata": {
        "colab": {
          "base_uri": "https://localhost:8080/"
        },
        "id": "J16lpSHjaRZ5",
        "outputId": "c6693404-69dc-4929-97d7-1930e876d557"
      },
      "outputs": [
        {
          "data": {
            "text/plain": [
              "foto_mes                       8.492750\n",
              "ctrx_quarter                   0.078267\n",
              "cpayroll_trx                   0.016206\n",
              "ctarjeta_visa                  0.016030\n",
              "Visa_status                    0.015844\n",
              "                                 ...   \n",
              "ctarjeta_visa_descuentos       0.000000\n",
              "mcajeros_propios_descuentos    0.000000\n",
              "ccajeros_propios_descuentos    0.000000\n",
              "cpagomiscuentas                0.000000\n",
              "mforex_buy                     0.000000\n",
              "Length: 153, dtype: float64"
            ]
          },
          "execution_count": 17,
          "metadata": {},
          "output_type": "execute_result"
        }
      ],
      "source": [
        "shap_bajas.mean().abs().sort_values(ascending=False)\n"
      ]
    },
    {
      "cell_type": "markdown",
      "metadata": {
        "id": "lmKDT3NTaRZ5"
      },
      "source": [
        "La librería contiene útiles herramientas para vizualizar la info anterior"
      ]
    },
    {
      "cell_type": "code",
      "execution_count": 18,
      "metadata": {
        "colab": {
          "base_uri": "https://localhost:8080/",
          "height": 957
        },
        "id": "SEF-xuD8aRZ5",
        "outputId": "06daeae5-9f7a-4d3a-95e4-4bda7d31f010"
      },
      "outputs": [
        {
          "data": {
            "image/png": "[encoded data removed]",
            "text/plain": [
              "<Figure size 576x684 with 1 Axes>"
            ]
          },
          "metadata": {
            "needs_background": "light"
          },
          "output_type": "display_data"
        }
      ],
      "source": [
        "shap.summary_plot(shap_values, ds_bajas)\n"
      ]
    },
    {
      "cell_type": "markdown",
      "metadata": {
        "id": "OJFeofiaaRZ6"
      },
      "source": [
        "Para ver más opciones de visualización\n",
        "https://www.youtube.com/watch?v=L8_sVRhBDLU&t=3s"
      ]
    },
    {
      "cell_type": "markdown",
      "metadata": {
        "id": "QZSoSHvyaRZ6"
      },
      "source": [
        "## ¿Se podrá hacer una clusterización sobre los valores de shap?\n",
        "\n",
        "Lo que estaríamos buscando es: \"Juntar a todos los clientes que son afectamos por los mismos patrones del modelo, entendiendo que si les afecto el mismo patrón, sus SHAP van a ser similares.\" Presunción fuerte.\n",
        " \n",
        "Como la cantidad de variables es muy alto, es conveniente hacer un embedding con **UMAP**. Por como es la estrutura de los **shap values** se pueden hacer sin mucho preprocesamiento. Usamos UMAP para estos embedding, https://www.youtube.com/watch?v=eN0wFzBA4Sc (triple BAM (?))"
      ]
    },
    {
      "cell_type": "code",
      "execution_count": 19,
      "metadata": {
        "colab": {
          "base_uri": "https://localhost:8080/",
          "height": 448
        },
        "id": "5qWkfZfBfO9u",
        "outputId": "d9ddebd6-04fc-4536-8d55-c849504b4fff"
      },
      "outputs": [],
      "source": [
        "embedding_2d = UMAP(\n",
        "  n_components=2, n_neighbors=40\n",
        ").fit_transform(shap_values[0])\n",
        "plt.scatter(embedding_2d[:,0], embedding_2d[:,1])"
      ]
    },
    {
      "cell_type": "markdown",
      "metadata": {},
      "source": [
        "Vemos manchas separadas entre ellas, admiramos a UMAP. Hizo el trabajo sucio.\n",
        "\n",
        "Algo importante cuando trabaja con modelos, es recordar que no siempre detectan con la misma \"fuerza\" todos los casos. Incluso nosotros solo terminamos mandando a Kaggle un subconjunto de casos. Si vemos el histograma de las probabilidades de salida"
      ]
    },
    {
      "cell_type": "code",
      "execution_count": null,
      "metadata": {
        "colab": {
          "base_uri": "https://localhost:8080/",
          "height": 521
        },
        "id": "klnop5qF45JI",
        "outputId": "31b7bc02-fbe6-4188-fa11-44d5e3f1fdef"
      },
      "outputs": [],
      "source": [
        "plt.hist(p_bajas,bins=30)"
      ]
    },
    {
      "cell_type": "markdown",
      "metadata": {},
      "source": [
        "Vemos que hay en los 2000 y algo de casos, 500 que no estaríamos mandando. Veamos si hay alguna relación si cruzamos el embedding y su probabilidad"
      ]
    },
    {
      "cell_type": "code",
      "execution_count": null,
      "metadata": {
        "colab": {
          "base_uri": "https://localhost:8080/",
          "height": 448
        },
        "id": "bHEm1r7Wh0PN",
        "outputId": "298d6308-52c8-4442-f90b-84f5577df403"
      },
      "outputs": [],
      "source": [
        "sc = plt.scatter(embedding_2d[:, 0], embedding_2d[:, 1], c=p_bajas)\n",
        "plt.colorbar(sc)\n",
        "plt.show()\n"
      ]
    },
    {
      "cell_type": "code",
      "execution_count": null,
      "metadata": {
        "colab": {
          "base_uri": "https://localhost:8080/",
          "height": 487
        },
        "id": "o0yNwaZVi7YI",
        "outputId": "23926904-94e8-4a5a-aa01-4c8206aefa08"
      },
      "outputs": [],
      "source": [
        "\n",
        "hdb = DBSCAN(eps=0.75) # juegue con los parámetros \n",
        "y = hdb.fit(embedding_2d)\n",
        "\n",
        "plt.scatter(embedding_2d[:, 0], embedding_2d[:, 1], c=y.labels_)\n",
        "plt.show()"
      ]
    },
    {
      "cell_type": "markdown",
      "metadata": {},
      "source": [
        "Comparamos 2 clusters para ver si cambian sus variables importantes"
      ]
    },
    {
      "cell_type": "code",
      "execution_count": null,
      "metadata": {
        "colab": {
          "base_uri": "https://localhost:8080/"
        },
        "id": "evt3uVP4pWUF",
        "outputId": "28e4eadd-df65-43b6-b39f-61589682fa7f"
      },
      "outputs": [],
      "source": [
        "shap_bajas[y.labels_ == 1].mean().sort_values(ascending=False)"
      ]
    },
    {
      "cell_type": "code",
      "execution_count": null,
      "metadata": {},
      "outputs": [],
      "source": [
        "shap_bajas[y.labels_ == 2].mean().sort_values(ascending=False)"
      ]
    },
    {
      "cell_type": "code",
      "execution_count": null,
      "metadata": {},
      "outputs": [],
      "source": [
        "shap_bajas[y.labels_ == 3].mean().sort_values(ascending=False)"
      ]
    },
    {
      "cell_type": "code",
      "execution_count": null,
      "metadata": {},
      "outputs": [],
      "source": [
        "shap_bajas[y.labels_ == 4].mean().sort_values(ascending=False)"
      ]
    },
    {
      "cell_type": "code",
      "execution_count": null,
      "metadata": {
        "colab": {
          "base_uri": "https://localhost:8080/"
        },
        "id": "Ah4G51VJqP12",
        "outputId": "ba2459f4-ff64-4f47-f95b-dfb0d3a9e177"
      },
      "outputs": [],
      "source": [
        "shap_bajas[y.labels_ == 5].mean().sort_values(ascending=False)"
      ]
    },
    {
      "cell_type": "markdown",
      "metadata": {},
      "source": [
        "Y comparamos las distribuciones de las variables importantes con la de la población general, para entender que distingue a nuestro cluster."
      ]
    },
    {
      "cell_type": "markdown",
      "metadata": {},
      "source": [
        "# Caso con payroll"
      ]
    },
    {
      "cell_type": "code",
      "execution_count": null,
      "metadata": {},
      "outputs": [],
      "source": [
        "plt.hist(ds_bajas.loc[:][\"cpayroll_trx\"], label='all', density=True, bins=25)\n",
        "plt.hist(ds_bajas.loc[y.labels_ == 1][\"cpayroll_trx\"], label='cluster 1', density=True, bins=25)\n",
        "\n",
        "plt.legend(loc='upper right')\n",
        "plt.title('Overlapping')\n",
        "plt.show()"
      ]
    },
    {
      "cell_type": "code",
      "execution_count": null,
      "metadata": {},
      "outputs": [],
      "source": [
        "plt.hist(ds_bajas.loc[:][\"cpayroll_trx\"], label='all', density=True, bins=25)\n",
        "plt.hist(ds_bajas.loc[y.labels_ == 2][\"cpayroll_trx\"], label='cluster 2', density=True, bins=25)\n",
        "\n",
        "plt.legend(loc='upper right')\n",
        "plt.title('Overlapping')\n",
        "plt.show()"
      ]
    },
    {
      "cell_type": "code",
      "execution_count": null,
      "metadata": {},
      "outputs": [],
      "source": [
        "plt.hist(ds_bajas.loc[:][\"cpayroll_trx\"], label='all', density=True, bins=25)\n",
        "plt.hist(ds_bajas.loc[y.labels_ == 3][\"cpayroll_trx\"], label='cluster 3', density=True, bins=25)\n",
        "\n",
        "plt.legend(loc='upper right')\n",
        "plt.title('Overlapping')\n",
        "plt.show()"
      ]
    },
    {
      "cell_type": "code",
      "execution_count": null,
      "metadata": {},
      "outputs": [],
      "source": [
        "plt.hist(ds_bajas.loc[:][\"cpayroll_trx\"], label='all', density=True, bins=25)\n",
        "plt.hist(ds_bajas.loc[y.labels_ == 4][\"cpayroll_trx\"], label='cluster 4', density=True, bins=25)\n",
        "\n",
        "plt.legend(loc='upper right')\n",
        "plt.title('Overlapping')\n",
        "plt.show()"
      ]
    },
    {
      "cell_type": "code",
      "execution_count": null,
      "metadata": {
        "colab": {
          "base_uri": "https://localhost:8080/",
          "height": 452
        },
        "id": "GAnsBUWC3z7u",
        "outputId": "9269053c-8db0-47e7-8422-7364d5d56b5a"
      },
      "outputs": [],
      "source": [
        "plt.hist(ds_bajas.loc[:][\"cpayroll_trx\"], label='all', density=True, bins=25)\n",
        "plt.hist(ds_bajas.loc[y.labels_ == 5][\"cpayroll_trx\"], label='cluster 5', density=True, bins=25)\n",
        "\n",
        "plt.legend(loc='upper right')\n",
        "plt.title('Overlapping')\n",
        "plt.show()"
      ]
    }
  ],
  "metadata": {
    "colab": {
      "provenance": []
    },
    "kernelspec": {
      "display_name": "Python 3.10.4 ('monday-2l6OfFZC-py3.10')",
      "language": "python",
      "name": "python3"
    },
    "language_info": {
      "codemirror_mode": {
        "name": "ipython",
        "version": 3
      },
      "file_extension": ".py",
      "mimetype": "text/x-python",
      "name": "python",
      "nbconvert_exporter": "python",
      "pygments_lexer": "ipython3",
      "version": "3.10.12"
    },
    "orig_nbformat": 4,
    "vscode": {
      "interpreter": {
        "hash": "d82221ca95a05516fde857407cc8e78d06cecb56814b70ff11970b46a17253e5"
      }
    }
  },
  "nbformat": 4,
  "nbformat_minor": 0
}
