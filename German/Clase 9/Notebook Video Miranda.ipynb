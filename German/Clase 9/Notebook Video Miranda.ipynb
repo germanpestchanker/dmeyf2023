{
  "cells": [
    {
      "cell_type": "markdown",
      "metadata": {
        "id": "e8XpJxejaRZw"
      },
      "source": [
        "# Interpretando los modelos, conectando con humanos\n",
        "\n",
        "## SHAP Values\n",
        "\n",
        "Veremos brevemente un modelo de interpretabilidad para modelos complejos de machine learning como es un LGBM.\n",
        "\n",
        "El uso de **python** para esta exploración se debe a la madurez encontrada en las librerías en mi búsqueda.\n",
        "\n",
        "Empezamos con la instalación y carga de los módulos necesarios:"
      ]
    },
    {
      "cell_type": "code",
      "execution_count": 1,
      "metadata": {},
      "outputs": [],
      "source": [
        "#!pip install shap "
      ]
    },
    {
      "cell_type": "code",
      "execution_count": 2,
      "metadata": {},
      "outputs": [],
      "source": [
        "#!pip install lightgbm"
      ]
    },
    {
      "cell_type": "code",
      "execution_count": 3,
      "metadata": {},
      "outputs": [],
      "source": [
        "#!pip install umap "
      ]
    },
    {
      "cell_type": "code",
      "execution_count": 4,
      "metadata": {},
      "outputs": [],
      "source": [
        "#!pip install umap-learn"
      ]
    },
    {
      "cell_type": "code",
      "execution_count": 5,
      "metadata": {
        "colab": {
          "base_uri": "https://localhost:8080/"
        },
        "id": "I6d2e7cMaRZ0",
        "outputId": "c88e2be4-e7be-461d-b6f7-63da2adcbd4b"
      },
      "outputs": [
        {
          "name": "stderr",
          "output_type": "stream",
          "text": [
            "\n",
            "Bad key text.latex.preview in file d:\\anaconda3\\lib\\site-packages\\matplotlib\\mpl-data\\stylelib\\_classic_test.mplstyle, line 123 ('text.latex.preview : False')\n",
            "You probably need to get an updated matplotlibrc file from\n",
            "https://github.com/matplotlib/matplotlib/blob/v3.7.1/matplotlibrc.template\n",
            "or from the matplotlib source distribution\n",
            "\n",
            "Bad key mathtext.fallback_to_cm in file d:\\anaconda3\\lib\\site-packages\\matplotlib\\mpl-data\\stylelib\\_classic_test.mplstyle, line 155 ('mathtext.fallback_to_cm : True  # When True, use symbols from the Computer Modern')\n",
            "You probably need to get an updated matplotlibrc file from\n",
            "https://github.com/matplotlib/matplotlib/blob/v3.7.1/matplotlibrc.template\n",
            "or from the matplotlib source distribution\n",
            "\n",
            "Bad key savefig.jpeg_quality in file d:\\anaconda3\\lib\\site-packages\\matplotlib\\mpl-data\\stylelib\\_classic_test.mplstyle, line 418 ('savefig.jpeg_quality: 95       # when a jpeg is saved, the default quality parameter.')\n",
            "You probably need to get an updated matplotlibrc file from\n",
            "https://github.com/matplotlib/matplotlib/blob/v3.7.1/matplotlibrc.template\n",
            "or from the matplotlib source distribution\n",
            "\n",
            "Bad key keymap.all_axes in file d:\\anaconda3\\lib\\site-packages\\matplotlib\\mpl-data\\stylelib\\_classic_test.mplstyle, line 466 ('keymap.all_axes : a                 # enable all axes')\n",
            "You probably need to get an updated matplotlibrc file from\n",
            "https://github.com/matplotlib/matplotlib/blob/v3.7.1/matplotlibrc.template\n",
            "or from the matplotlib source distribution\n",
            "\n",
            "Bad key animation.avconv_path in file d:\\anaconda3\\lib\\site-packages\\matplotlib\\mpl-data\\stylelib\\_classic_test.mplstyle, line 477 ('animation.avconv_path: avconv     # Path to avconv binary. Without full path')\n",
            "You probably need to get an updated matplotlibrc file from\n",
            "https://github.com/matplotlib/matplotlib/blob/v3.7.1/matplotlibrc.template\n",
            "or from the matplotlib source distribution\n",
            "\n",
            "Bad key animation.avconv_args in file d:\\anaconda3\\lib\\site-packages\\matplotlib\\mpl-data\\stylelib\\_classic_test.mplstyle, line 479 ('animation.avconv_args:            # Additional arguments to pass to avconv')\n",
            "You probably need to get an updated matplotlibrc file from\n",
            "https://github.com/matplotlib/matplotlib/blob/v3.7.1/matplotlibrc.template\n",
            "or from the matplotlib source distribution\n"
          ]
        }
      ],
      "source": [
        "import pandas as pd\n",
        "import numpy as np\n",
        "\n",
        "import lightgbm as lgb\n",
        "import shap\n",
        "import matplotlib.pyplot as plt\n",
        "from sklearn.cluster import KMeans\n",
        "from sklearn.cluster import DBSCAN\n",
        "from sklearn.ensemble import  RandomForestClassifier\n",
        "from sklearn.impute import SimpleImputer\n"
      ]
    },
    {
      "cell_type": "code",
      "execution_count": 6,
      "metadata": {},
      "outputs": [
        {
          "ename": "ImportError",
          "evalue": "cannot import name 'UMAP' from 'umap' (d:\\anaconda3\\lib\\site-packages\\umap\\__init__.py)",
          "output_type": "error",
          "traceback": [
            "\u001b[1;31m---------------------------------------------------------------------------\u001b[0m",
            "\u001b[1;31mImportError\u001b[0m                               Traceback (most recent call last)",
            "\u001b[1;32mc:\\Users\\German\\Desktop\\dmeyf2023\\German\\Clase 9\\Notebook Video Miranda.ipynb Celda 7\u001b[0m line \u001b[0;36m1\n\u001b[1;32m----> <a href='vscode-notebook-cell:/c%3A/Users/German/Desktop/dmeyf2023/German/Clase%209/Notebook%20Video%20Miranda.ipynb#X62sZmlsZQ%3D%3D?line=0'>1</a>\u001b[0m \u001b[39mfrom\u001b[39;00m \u001b[39mumap\u001b[39;00m \u001b[39mimport\u001b[39;00m UMAP\n",
            "\u001b[1;31mImportError\u001b[0m: cannot import name 'UMAP' from 'umap' (d:\\anaconda3\\lib\\site-packages\\umap\\__init__.py)"
          ]
        }
      ],
      "source": [
        "## Revisar https://github.com/MaartenGr/BERTopic/issues/723\n",
        "from umap import UMAP"
      ]
    },
    {
      "cell_type": "markdown",
      "metadata": {
        "id": "ztnX-i3-aRZ1"
      },
      "source": [
        "Cargamos el dataset. Vamos a trabajar con el primer conjunto de datos pero usted deberá utilizar un dataset ampliado y más refinado. Preparamos y separamos las clases y "
      ]
    },
    {
      "cell_type": "code",
      "execution_count": 7,
      "metadata": {
        "id": "5iEEz8KraRZ1"
      },
      "outputs": [
        {
          "name": "stderr",
          "output_type": "stream",
          "text": [
            "Columns (154) have mixed types. Specify dtype option on import or set low_memory=False.\n",
            "\n",
            "KeyboardInterrupt\n",
            "\n"
          ]
        }
      ],
      "source": [
        "ds_train = pd.read_csv(\"D:/Equipo/Documentos/Posgrado/2C23/Competencia 2/competencia_02.csv.gz\")\n",
        "\n",
        "#ds_train = pd.read_csv(\"~/buckets/b1/datasets/competencia_02.csv.gz\")\n",
        "\n",
        "clase_train = ds_train[\"clase_ternaria\"].map(lambda x: 0 if x == \"CONTINUA\" else 1)"
      ]
    },
    {
      "cell_type": "markdown",
      "metadata": {
        "id": "A55xcb-taRZ2"
      },
      "source": [
        "Y armamos un **dataset** con solo los casos de **BAJAS+1** y **BAJAS+2**. Sacamos los de los **datasets** los targets."
      ]
    },
    {
      "cell_type": "code",
      "execution_count": null,
      "metadata": {
        "id": "rP9dL3g5aRZ2"
      },
      "outputs": [],
      "source": [
        "ds_bajas = ds_train.query(\"clase_ternaria != 'CONTINUA'\")\n",
        "ds_train = ds_train.drop([\"clase_ternaria\", \"numero_de_cliente\"], axis=1)\n",
        "ds_bajas = ds_bajas.drop([\"clase_ternaria\", \"numero_de_cliente\"], axis=1)\n"
      ]
    },
    {
      "cell_type": "markdown",
      "metadata": {
        "id": "WU89THJaaRZ3"
      },
      "source": [
        "Y hacemos un modelo **LGBM**. En este punto, usted agregue los mejores parámetros que haya encontrado."
      ]
    },
    {
      "cell_type": "code",
      "execution_count": null,
      "metadata": {
        "colab": {
          "base_uri": "https://localhost:8080/"
        },
        "id": "gJFi741zaRZ3",
        "outputId": "6de91933-1761-4d79-a510-206ddc2b920b"
      },
      "outputs": [],
      "source": [
        "# create dataset for lightgbm\n",
        "lgb_train = lgb.Dataset(ds_train, clase_train)\n",
        "\n",
        "set.seed(279523)\n",
        "# specify your configurations as a dict (pongo los de la solucion 2)\n",
        "params = {\n",
        "    'objective': 'binary',\n",
        "    'learning_rate': 0.0443304506619713,\n",
        "    'verbose': 2,\n",
        "    'max_bin': 31,\n",
        "    'min_data_in_leaf': 363,\n",
        "    'verbose': 0,\n",
        "}\n",
        "\n",
        "gbm = lgb.train(params, lgb_train, num_boost_round=100)\n",
        "# calculamos las p para los clientes bajas (no me estoy preocupando del overfitting ni nada, algo quizás usted debiera)\n",
        "p_bajas = gbm.predict(ds_bajas)\n"
      ]
    },
    {
      "cell_type": "markdown",
      "metadata": {
        "id": "PGLD_OL0aRZ4"
      },
      "source": [
        "Hasta ahora, las herramientas para saber a que feature le daba importancia un modelo eran básicas. No era mucho más que un **feature importance**"
      ]
    },
    {
      "cell_type": "code",
      "execution_count": null,
      "metadata": {
        "colab": {
          "base_uri": "https://localhost:8080/",
          "height": 423
        },
        "id": "igeVgb3MaRZ4",
        "outputId": "db370158-08bb-41d9-a47c-b0e72eb5474e"
      },
      "outputs": [],
      "source": [
        "lgbm_importancia = pd.DataFrame({'Features': gbm.feature_name(),\n",
        "                        'Importances': gbm.feature_importance()})\n",
        "lgbm_importancia.sort_values(by='Importances', inplace=True, ascending=False)\n",
        "lgbm_importancia\n"
      ]
    },
    {
      "cell_type": "markdown",
      "metadata": {},
      "source": [
        "Sin embargo podemos intuir que si un modelo detecta múltiples patrones, no todos los casos van a ser afectados por el mismo. Tiene sentido que dos clientes se den de baja por motivos distintos y que un modelo pondere para cada caso, un peso distinto a los **features**. O sea, necesitamos una forma de explicar de forma local (caso a caso) en vez de una global (para todos los casos). Para esto utilizaremos los modelos [SHAP](https://christophm.github.io/interpretable-ml-book/shap.html)  "
      ]
    },
    {
      "cell_type": "markdown",
      "metadata": {
        "id": "4CzK9kANaRZ4"
      },
      "source": [
        "Ahora avanzamos aplicando un modelo de interpretabilidad sobre el modelo anterior."
      ]
    },
    {
      "cell_type": "code",
      "execution_count": null,
      "metadata": {
        "colab": {
          "base_uri": "https://localhost:8080/"
        },
        "id": "dRhywfaAaRZ5",
        "outputId": "02b92dec-b648-443b-caea-f290c09ee247"
      },
      "outputs": [],
      "source": [
        "explainer = shap.TreeExplainer(gbm)\n",
        "shap_values = explainer.shap_values(ds_bajas)\n",
        "shap_bajas = pd.DataFrame(shap_values[0], columns = ds_bajas.columns)"
      ]
    },
    {
      "cell_type": "markdown",
      "metadata": {
        "id": "o5X7LfoXaRZ5"
      },
      "source": [
        "En la variable `shap_bajas` contaríamos para cada caso, el peso de la influencia de esa **feature** de acuerdo al modelo. Veamos un caso, tomemos un cliente:"
      ]
    },
    {
      "cell_type": "code",
      "execution_count": null,
      "metadata": {
        "colab": {
          "base_uri": "https://localhost:8080/",
          "height": 461
        },
        "id": "GIxeFGeKaRZ5",
        "outputId": "c43fd3fd-6070-40c5-b9f1-7e17afadcd32"
      },
      "outputs": [],
      "source": [
        "# busco un caso en p_bajas, con un p alta, y tomo su indice\n",
        "cliente_idx = 7\n",
        "print(p_bajas[cliente_idx])\n",
        "df = pd.concat([ds_bajas.iloc[cliente_idx], shap_bajas.iloc[cliente_idx]], axis=1)\n",
        "df.sort_values(by=[cliente_idx], ascending=False)"
      ]
    },
    {
      "cell_type": "markdown",
      "metadata": {},
      "source": [
        "En la tabla anterior, los **features** con números positivos \"adicionan(*)\" a la probabilidad y los negativos. \n",
        "\n",
        "(*) Aquí estamos usando TreeSHAP, que no es tan directa como Kernel SHAP para la interpretación directa. \n",
        "\n",
        "También podemos combinar todos los valores de SHAP y recrear una nueva importancia de variables:"
      ]
    },
    {
      "cell_type": "code",
      "execution_count": null,
      "metadata": {
        "colab": {
          "base_uri": "https://localhost:8080/"
        },
        "id": "J16lpSHjaRZ5",
        "outputId": "c6693404-69dc-4929-97d7-1930e876d557"
      },
      "outputs": [],
      "source": [
        "shap_bajas.mean().abs().sort_values(ascending=False)\n"
      ]
    },
    {
      "cell_type": "markdown",
      "metadata": {
        "id": "lmKDT3NTaRZ5"
      },
      "source": [
        "La librería contiene útiles herramientas para vizualizar la info anterior"
      ]
    },
    {
      "cell_type": "code",
      "execution_count": null,
      "metadata": {
        "colab": {
          "base_uri": "https://localhost:8080/",
          "height": 957
        },
        "id": "SEF-xuD8aRZ5",
        "outputId": "06daeae5-9f7a-4d3a-95e4-4bda7d31f010"
      },
      "outputs": [],
      "source": [
        "shap.summary_plot(shap_values, ds_bajas)\n"
      ]
    },
    {
      "cell_type": "markdown",
      "metadata": {
        "id": "OJFeofiaaRZ6"
      },
      "source": [
        "Para ver más opciones de visualización\n",
        "https://www.youtube.com/watch?v=L8_sVRhBDLU&t=3s"
      ]
    },
    {
      "cell_type": "markdown",
      "metadata": {
        "id": "QZSoSHvyaRZ6"
      },
      "source": [
        "## ¿Se podrá hacer una clusterización sobre los valores de shap?\n",
        "\n",
        "Lo que estaríamos buscando es: \"Juntar a todos los clientes que son afectamos por los mismos patrones del modelo, entendiendo que si les afecto el mismo patrón, sus SHAP van a ser similares.\" Presunción fuerte.\n",
        " \n",
        "Como la cantidad de variables es muy alto, es conveniente hacer un embedding con **UMAP**. Por como es la estrutura de los **shap values** se pueden hacer sin mucho preprocesamiento. Usamos UMAP para estos embedding, https://www.youtube.com/watch?v=eN0wFzBA4Sc (triple BAM (?))"
      ]
    },
    {
      "cell_type": "code",
      "execution_count": null,
      "metadata": {
        "colab": {
          "base_uri": "https://localhost:8080/",
          "height": 448
        },
        "id": "5qWkfZfBfO9u",
        "outputId": "d9ddebd6-04fc-4536-8d55-c849504b4fff"
      },
      "outputs": [],
      "source": [
        "embedding_2d = UMAP(\n",
        "  n_components=2, n_neighbors=40\n",
        ").fit_transform(shap_values[0])\n",
        "plt.scatter(embedding_2d[:,0], embedding_2d[:,1])"
      ]
    },
    {
      "cell_type": "markdown",
      "metadata": {},
      "source": [
        "Vemos manchas separadas entre ellas, admiramos a UMAP. Hizo el trabajo sucio.\n",
        "\n",
        "Algo importante cuando trabaja con modelos, es recordar que no siempre detectan con la misma \"fuerza\" todos los casos. Incluso nosotros solo terminamos mandando a Kaggle un subconjunto de casos. Si vemos el histograma de las probabilidades de salida"
      ]
    },
    {
      "cell_type": "code",
      "execution_count": null,
      "metadata": {
        "colab": {
          "base_uri": "https://localhost:8080/",
          "height": 521
        },
        "id": "klnop5qF45JI",
        "outputId": "31b7bc02-fbe6-4188-fa11-44d5e3f1fdef"
      },
      "outputs": [],
      "source": [
        "plt.hist(p_bajas,bins=30)"
      ]
    },
    {
      "cell_type": "markdown",
      "metadata": {},
      "source": [
        "Vemos que hay en los 2000 y algo de casos, 500 que no estaríamos mandando. Veamos si hay alguna relación si cruzamos el embedding y su probabilidad"
      ]
    },
    {
      "cell_type": "code",
      "execution_count": null,
      "metadata": {
        "colab": {
          "base_uri": "https://localhost:8080/",
          "height": 448
        },
        "id": "bHEm1r7Wh0PN",
        "outputId": "298d6308-52c8-4442-f90b-84f5577df403"
      },
      "outputs": [],
      "source": [
        "sc = plt.scatter(embedding_2d[:, 0], embedding_2d[:, 1], c=p_bajas)\n",
        "plt.colorbar(sc)\n",
        "plt.show()\n"
      ]
    },
    {
      "cell_type": "code",
      "execution_count": null,
      "metadata": {
        "colab": {
          "base_uri": "https://localhost:8080/",
          "height": 487
        },
        "id": "o0yNwaZVi7YI",
        "outputId": "23926904-94e8-4a5a-aa01-4c8206aefa08"
      },
      "outputs": [],
      "source": [
        "\n",
        "hdb = DBSCAN(eps=0.75) # juegue con los parámetros \n",
        "y = hdb.fit(embedding_2d)\n",
        "\n",
        "plt.scatter(embedding_2d[:, 0], embedding_2d[:, 1], c=y.labels_)\n",
        "plt.show()"
      ]
    },
    {
      "cell_type": "markdown",
      "metadata": {},
      "source": [
        "Comparamos 2 clusters para ver si cambian sus variables importantes"
      ]
    },
    {
      "cell_type": "code",
      "execution_count": null,
      "metadata": {
        "colab": {
          "base_uri": "https://localhost:8080/"
        },
        "id": "evt3uVP4pWUF",
        "outputId": "28e4eadd-df65-43b6-b39f-61589682fa7f"
      },
      "outputs": [],
      "source": [
        "shap_bajas[y.labels_ == 1].mean().sort_values(ascending=False)"
      ]
    },
    {
      "cell_type": "code",
      "execution_count": null,
      "metadata": {},
      "outputs": [],
      "source": [
        "shap_bajas[y.labels_ == 2].mean().sort_values(ascending=False)"
      ]
    },
    {
      "cell_type": "code",
      "execution_count": null,
      "metadata": {},
      "outputs": [],
      "source": [
        "shap_bajas[y.labels_ == 3].mean().sort_values(ascending=False)"
      ]
    },
    {
      "cell_type": "code",
      "execution_count": null,
      "metadata": {},
      "outputs": [],
      "source": [
        "shap_bajas[y.labels_ == 4].mean().sort_values(ascending=False)"
      ]
    },
    {
      "cell_type": "code",
      "execution_count": null,
      "metadata": {
        "colab": {
          "base_uri": "https://localhost:8080/"
        },
        "id": "Ah4G51VJqP12",
        "outputId": "ba2459f4-ff64-4f47-f95b-dfb0d3a9e177"
      },
      "outputs": [],
      "source": [
        "shap_bajas[y.labels_ == 5].mean().sort_values(ascending=False)"
      ]
    },
    {
      "cell_type": "markdown",
      "metadata": {},
      "source": [
        "Y comparamos las distribuciones de las variables importantes con la de la población general, para entender que distingue a nuestro cluster."
      ]
    },
    {
      "cell_type": "markdown",
      "metadata": {},
      "source": [
        "# Caso con payroll"
      ]
    },
    {
      "cell_type": "code",
      "execution_count": null,
      "metadata": {},
      "outputs": [],
      "source": [
        "plt.hist(ds_bajas.loc[:][\"cpayroll_trx\"], label='all', density=True, bins=25)\n",
        "plt.hist(ds_bajas.loc[y.labels_ == 1][\"cpayroll_trx\"], label='cluster 1', density=True, bins=25)\n",
        "\n",
        "plt.legend(loc='upper right')\n",
        "plt.title('Overlapping')\n",
        "plt.show()"
      ]
    },
    {
      "cell_type": "code",
      "execution_count": null,
      "metadata": {},
      "outputs": [],
      "source": [
        "plt.hist(ds_bajas.loc[:][\"cpayroll_trx\"], label='all', density=True, bins=25)\n",
        "plt.hist(ds_bajas.loc[y.labels_ == 2][\"cpayroll_trx\"], label='cluster 2', density=True, bins=25)\n",
        "\n",
        "plt.legend(loc='upper right')\n",
        "plt.title('Overlapping')\n",
        "plt.show()"
      ]
    },
    {
      "cell_type": "code",
      "execution_count": null,
      "metadata": {},
      "outputs": [],
      "source": [
        "plt.hist(ds_bajas.loc[:][\"cpayroll_trx\"], label='all', density=True, bins=25)\n",
        "plt.hist(ds_bajas.loc[y.labels_ == 3][\"cpayroll_trx\"], label='cluster 3', density=True, bins=25)\n",
        "\n",
        "plt.legend(loc='upper right')\n",
        "plt.title('Overlapping')\n",
        "plt.show()"
      ]
    },
    {
      "cell_type": "code",
      "execution_count": null,
      "metadata": {},
      "outputs": [],
      "source": [
        "plt.hist(ds_bajas.loc[:][\"cpayroll_trx\"], label='all', density=True, bins=25)\n",
        "plt.hist(ds_bajas.loc[y.labels_ == 4][\"cpayroll_trx\"], label='cluster 4', density=True, bins=25)\n",
        "\n",
        "plt.legend(loc='upper right')\n",
        "plt.title('Overlapping')\n",
        "plt.show()"
      ]
    },
    {
      "cell_type": "code",
      "execution_count": null,
      "metadata": {
        "colab": {
          "base_uri": "https://localhost:8080/",
          "height": 452
        },
        "id": "GAnsBUWC3z7u",
        "outputId": "9269053c-8db0-47e7-8422-7364d5d56b5a"
      },
      "outputs": [],
      "source": [
        "plt.hist(ds_bajas.loc[:][\"cpayroll_trx\"], label='all', density=True, bins=25)\n",
        "plt.hist(ds_bajas.loc[y.labels_ == 5][\"cpayroll_trx\"], label='cluster 5', density=True, bins=25)\n",
        "\n",
        "plt.legend(loc='upper right')\n",
        "plt.title('Overlapping')\n",
        "plt.show()"
      ]
    }
  ],
  "metadata": {
    "colab": {
      "provenance": []
    },
    "kernelspec": {
      "display_name": "Python 3.10.4 ('monday-2l6OfFZC-py3.10')",
      "language": "python",
      "name": "python3"
    },
    "language_info": {
      "codemirror_mode": {
        "name": "ipython",
        "version": 3
      },
      "file_extension": ".py",
      "mimetype": "text/x-python",
      "name": "python",
      "nbconvert_exporter": "python",
      "pygments_lexer": "ipython3",
      "version": "3.8.5"
    },
    "orig_nbformat": 4,
    "vscode": {
      "interpreter": {
        "hash": "d82221ca95a05516fde857407cc8e78d06cecb56814b70ff11970b46a17253e5"
      }
    }
  },
  "nbformat": 4,
  "nbformat_minor": 0
}
