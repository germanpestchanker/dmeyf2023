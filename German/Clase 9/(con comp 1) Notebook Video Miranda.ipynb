{
  "cells": [
    {
      "cell_type": "markdown",
      "metadata": {
        "id": "e8XpJxejaRZw"
      },
      "source": [
        "# Interpretando los modelos, conectando con humanos\n",
        "\n",
        "## SHAP Values\n",
        "\n",
        "Veremos brevemente un modelo de interpretabilidad para modelos complejos de machine learning como es un LGBM.\n",
        "\n",
        "El uso de **python** para esta exploración se debe a la madurez encontrada en las librerías en mi búsqueda.\n",
        "\n",
        "Empezamos con la instalación y carga de los módulos necesarios:"
      ]
    },
    {
      "cell_type": "code",
      "execution_count": 1,
      "metadata": {},
      "outputs": [
        {
          "name": "stdout",
          "output_type": "stream",
          "text": [
            "Requirement already satisfied: shap in d:\\anaconda3\\lib\\site-packages (0.41.0)\n",
            "Requirement already satisfied: scipy in d:\\anaconda3\\lib\\site-packages (from shap) (1.10.1)\n",
            "Requirement already satisfied: packaging>20.9 in d:\\anaconda3\\lib\\site-packages (from shap) (23.1)\n",
            "Requirement already satisfied: tqdm>4.25.0 in d:\\anaconda3\\lib\\site-packages (from shap) (4.65.0)\n",
            "Requirement already satisfied: cloudpickle in d:\\anaconda3\\lib\\site-packages (from shap) (2.2.1)\n",
            "Requirement already satisfied: scikit-learn in d:\\anaconda3\\lib\\site-packages (from shap) (1.2.2)\n",
            "Requirement already satisfied: numpy in d:\\anaconda3\\lib\\site-packages (from shap) (1.23.5)\n",
            "Requirement already satisfied: slicer==0.0.7 in d:\\anaconda3\\lib\\site-packages (from shap) (0.0.7)\n",
            "Requirement already satisfied: numba in d:\\anaconda3\\lib\\site-packages (from shap) (0.56.4)\n",
            "Requirement already satisfied: pandas in d:\\anaconda3\\lib\\site-packages (from shap) (1.5.3)\n",
            "Requirement already satisfied: colorama in d:\\anaconda3\\lib\\site-packages (from tqdm>4.25.0->shap) (0.4.6)\n",
            "Requirement already satisfied: llvmlite<0.40,>=0.39.0dev0 in d:\\anaconda3\\lib\\site-packages (from numba->shap) (0.39.1)\n",
            "Requirement already satisfied: setuptools in d:\\anaconda3\\lib\\site-packages (from numba->shap) (66.0.0)\n",
            "Requirement already satisfied: importlib-metadata in d:\\anaconda3\\lib\\site-packages (from numba->shap) (6.0.0)\n",
            "Requirement already satisfied: pytz>=2020.1 in d:\\anaconda3\\lib\\site-packages (from pandas->shap) (2022.7)\n",
            "Requirement already satisfied: python-dateutil>=2.8.1 in d:\\anaconda3\\lib\\site-packages (from pandas->shap) (2.8.2)\n",
            "Requirement already satisfied: joblib>=1.1.1 in d:\\anaconda3\\lib\\site-packages (from scikit-learn->shap) (1.1.1)\n",
            "Requirement already satisfied: threadpoolctl>=2.0.0 in d:\\anaconda3\\lib\\site-packages (from scikit-learn->shap) (2.2.0)\n",
            "Requirement already satisfied: six>=1.5 in d:\\anaconda3\\lib\\site-packages (from python-dateutil>=2.8.1->pandas->shap) (1.16.0)\n",
            "Requirement already satisfied: zipp>=0.5 in d:\\anaconda3\\lib\\site-packages (from importlib-metadata->numba->shap) (3.17.0)\n"
          ]
        },
        {
          "name": "stderr",
          "output_type": "stream",
          "text": [
            "WARNING: Ignoring invalid distribution -ywinpty (d:\\anaconda3\\lib\\site-packages)\n",
            "WARNING: Ignoring invalid distribution -ip (d:\\anaconda3\\lib\\site-packages)\n",
            "WARNING: Ignoring invalid distribution -illow (d:\\anaconda3\\lib\\site-packages)\n",
            "WARNING: Ignoring invalid distribution -ywinpty (d:\\anaconda3\\lib\\site-packages)\n",
            "WARNING: Ignoring invalid distribution -ip (d:\\anaconda3\\lib\\site-packages)\n",
            "WARNING: Ignoring invalid distribution -illow (d:\\anaconda3\\lib\\site-packages)\n",
            "WARNING: Ignoring invalid distribution -ywinpty (d:\\anaconda3\\lib\\site-packages)\n",
            "WARNING: Ignoring invalid distribution -ip (d:\\anaconda3\\lib\\site-packages)\n",
            "WARNING: Ignoring invalid distribution -illow (d:\\anaconda3\\lib\\site-packages)\n",
            "WARNING: Ignoring invalid distribution -ywinpty (d:\\anaconda3\\lib\\site-packages)\n",
            "WARNING: Ignoring invalid distribution -ip (d:\\anaconda3\\lib\\site-packages)\n",
            "WARNING: Ignoring invalid distribution -illow (d:\\anaconda3\\lib\\site-packages)\n",
            "WARNING: Ignoring invalid distribution -ywinpty (d:\\anaconda3\\lib\\site-packages)\n",
            "WARNING: Ignoring invalid distribution -ip (d:\\anaconda3\\lib\\site-packages)\n",
            "WARNING: Ignoring invalid distribution -illow (d:\\anaconda3\\lib\\site-packages)\n",
            "WARNING: Ignoring invalid distribution -ywinpty (d:\\anaconda3\\lib\\site-packages)\n",
            "WARNING: Ignoring invalid distribution -ip (d:\\anaconda3\\lib\\site-packages)\n",
            "WARNING: Ignoring invalid distribution -illow (d:\\anaconda3\\lib\\site-packages)\n"
          ]
        }
      ],
      "source": [
        "!pip install shap"
      ]
    },
    {
      "cell_type": "code",
      "execution_count": 2,
      "metadata": {},
      "outputs": [
        {
          "name": "stdout",
          "output_type": "stream",
          "text": [
            "Requirement already satisfied: lightgbm in d:\\anaconda3\\lib\\site-packages (4.1.0)\n",
            "Requirement already satisfied: scipy in d:\\anaconda3\\lib\\site-packages (from lightgbm) (1.10.1)\n",
            "Requirement already satisfied: numpy in d:\\anaconda3\\lib\\site-packages (from lightgbm) (1.23.5)\n"
          ]
        },
        {
          "name": "stderr",
          "output_type": "stream",
          "text": [
            "WARNING: Ignoring invalid distribution -ywinpty (d:\\anaconda3\\lib\\site-packages)\n",
            "WARNING: Ignoring invalid distribution -ip (d:\\anaconda3\\lib\\site-packages)\n",
            "WARNING: Ignoring invalid distribution -illow (d:\\anaconda3\\lib\\site-packages)\n",
            "WARNING: Ignoring invalid distribution -ywinpty (d:\\anaconda3\\lib\\site-packages)\n",
            "WARNING: Ignoring invalid distribution -ip (d:\\anaconda3\\lib\\site-packages)\n",
            "WARNING: Ignoring invalid distribution -illow (d:\\anaconda3\\lib\\site-packages)\n",
            "WARNING: Ignoring invalid distribution -ywinpty (d:\\anaconda3\\lib\\site-packages)\n",
            "WARNING: Ignoring invalid distribution -ip (d:\\anaconda3\\lib\\site-packages)\n",
            "WARNING: Ignoring invalid distribution -illow (d:\\anaconda3\\lib\\site-packages)\n",
            "WARNING: Ignoring invalid distribution -ywinpty (d:\\anaconda3\\lib\\site-packages)\n",
            "WARNING: Ignoring invalid distribution -ip (d:\\anaconda3\\lib\\site-packages)\n",
            "WARNING: Ignoring invalid distribution -illow (d:\\anaconda3\\lib\\site-packages)\n",
            "WARNING: Ignoring invalid distribution -ywinpty (d:\\anaconda3\\lib\\site-packages)\n",
            "WARNING: Ignoring invalid distribution -ip (d:\\anaconda3\\lib\\site-packages)\n",
            "WARNING: Ignoring invalid distribution -illow (d:\\anaconda3\\lib\\site-packages)\n",
            "WARNING: Ignoring invalid distribution -ywinpty (d:\\anaconda3\\lib\\site-packages)\n",
            "WARNING: Ignoring invalid distribution -ip (d:\\anaconda3\\lib\\site-packages)\n",
            "WARNING: Ignoring invalid distribution -illow (d:\\anaconda3\\lib\\site-packages)\n"
          ]
        }
      ],
      "source": [
        "!pip install lightgbm"
      ]
    },
    {
      "cell_type": "code",
      "execution_count": 3,
      "metadata": {},
      "outputs": [
        {
          "name": "stdout",
          "output_type": "stream",
          "text": [
            "Requirement already satisfied: umap in d:\\anaconda3\\lib\\site-packages (0.1.1)\n"
          ]
        },
        {
          "name": "stderr",
          "output_type": "stream",
          "text": [
            "WARNING: Ignoring invalid distribution -ywinpty (d:\\anaconda3\\lib\\site-packages)\n",
            "WARNING: Ignoring invalid distribution -ip (d:\\anaconda3\\lib\\site-packages)\n",
            "WARNING: Ignoring invalid distribution -illow (d:\\anaconda3\\lib\\site-packages)\n",
            "WARNING: Ignoring invalid distribution -ywinpty (d:\\anaconda3\\lib\\site-packages)\n",
            "WARNING: Ignoring invalid distribution -ip (d:\\anaconda3\\lib\\site-packages)\n",
            "WARNING: Ignoring invalid distribution -illow (d:\\anaconda3\\lib\\site-packages)\n",
            "WARNING: Ignoring invalid distribution -ywinpty (d:\\anaconda3\\lib\\site-packages)\n",
            "WARNING: Ignoring invalid distribution -ip (d:\\anaconda3\\lib\\site-packages)\n",
            "WARNING: Ignoring invalid distribution -illow (d:\\anaconda3\\lib\\site-packages)\n",
            "WARNING: Ignoring invalid distribution -ywinpty (d:\\anaconda3\\lib\\site-packages)\n",
            "WARNING: Ignoring invalid distribution -ip (d:\\anaconda3\\lib\\site-packages)\n",
            "WARNING: Ignoring invalid distribution -illow (d:\\anaconda3\\lib\\site-packages)\n",
            "WARNING: Ignoring invalid distribution -ywinpty (d:\\anaconda3\\lib\\site-packages)\n",
            "WARNING: Ignoring invalid distribution -ip (d:\\anaconda3\\lib\\site-packages)\n",
            "WARNING: Ignoring invalid distribution -illow (d:\\anaconda3\\lib\\site-packages)\n",
            "WARNING: Ignoring invalid distribution -ywinpty (d:\\anaconda3\\lib\\site-packages)\n",
            "WARNING: Ignoring invalid distribution -ip (d:\\anaconda3\\lib\\site-packages)\n",
            "WARNING: Ignoring invalid distribution -illow (d:\\anaconda3\\lib\\site-packages)\n"
          ]
        }
      ],
      "source": [
        "!pip install umap "
      ]
    },
    {
      "cell_type": "code",
      "execution_count": 4,
      "metadata": {},
      "outputs": [
        {
          "name": "stdout",
          "output_type": "stream",
          "text": [
            "Requirement already satisfied: umap-learn in d:\\anaconda3\\lib\\site-packages (0.5.3)\n",
            "Requirement already satisfied: pynndescent>=0.5 in d:\\anaconda3\\lib\\site-packages (from umap-learn) (0.5.7)\n",
            "Requirement already satisfied: scikit-learn>=0.22 in d:\\anaconda3\\lib\\site-packages (from umap-learn) (1.2.2)\n",
            "Requirement already satisfied: numba>=0.49 in d:\\anaconda3\\lib\\site-packages (from umap-learn) (0.56.4)\n",
            "Requirement already satisfied: numpy>=1.17 in d:\\anaconda3\\lib\\site-packages (from umap-learn) (1.23.5)\n",
            "Requirement already satisfied: scipy>=1.0 in d:\\anaconda3\\lib\\site-packages (from umap-learn) (1.10.1)\n",
            "Requirement already satisfied: tqdm in d:\\anaconda3\\lib\\site-packages (from umap-learn) (4.65.0)\n",
            "Requirement already satisfied: importlib-metadata in d:\\anaconda3\\lib\\site-packages (from numba>=0.49->umap-learn) (6.0.0)\n",
            "Requirement already satisfied: setuptools in d:\\anaconda3\\lib\\site-packages (from numba>=0.49->umap-learn) (66.0.0)\n",
            "Requirement already satisfied: llvmlite<0.40,>=0.39.0dev0 in d:\\anaconda3\\lib\\site-packages (from numba>=0.49->umap-learn) (0.39.1)\n",
            "Requirement already satisfied: joblib>=0.11 in d:\\anaconda3\\lib\\site-packages (from pynndescent>=0.5->umap-learn) (1.1.1)\n",
            "Requirement already satisfied: threadpoolctl>=2.0.0 in d:\\anaconda3\\lib\\site-packages (from scikit-learn>=0.22->umap-learn) (2.2.0)\n",
            "Requirement already satisfied: colorama in d:\\anaconda3\\lib\\site-packages (from tqdm->umap-learn) (0.4.6)\n",
            "Requirement already satisfied: zipp>=0.5 in d:\\anaconda3\\lib\\site-packages (from importlib-metadata->numba>=0.49->umap-learn) (3.17.0)\n"
          ]
        },
        {
          "name": "stderr",
          "output_type": "stream",
          "text": [
            "WARNING: Ignoring invalid distribution -ywinpty (d:\\anaconda3\\lib\\site-packages)\n",
            "WARNING: Ignoring invalid distribution -ip (d:\\anaconda3\\lib\\site-packages)\n",
            "WARNING: Ignoring invalid distribution -illow (d:\\anaconda3\\lib\\site-packages)\n",
            "WARNING: Ignoring invalid distribution -ywinpty (d:\\anaconda3\\lib\\site-packages)\n",
            "WARNING: Ignoring invalid distribution -ip (d:\\anaconda3\\lib\\site-packages)\n",
            "WARNING: Ignoring invalid distribution -illow (d:\\anaconda3\\lib\\site-packages)\n",
            "WARNING: Ignoring invalid distribution -ywinpty (d:\\anaconda3\\lib\\site-packages)\n",
            "WARNING: Ignoring invalid distribution -ip (d:\\anaconda3\\lib\\site-packages)\n",
            "WARNING: Ignoring invalid distribution -illow (d:\\anaconda3\\lib\\site-packages)\n",
            "WARNING: Ignoring invalid distribution -ywinpty (d:\\anaconda3\\lib\\site-packages)\n",
            "WARNING: Ignoring invalid distribution -ip (d:\\anaconda3\\lib\\site-packages)\n",
            "WARNING: Ignoring invalid distribution -illow (d:\\anaconda3\\lib\\site-packages)\n",
            "WARNING: Ignoring invalid distribution -ywinpty (d:\\anaconda3\\lib\\site-packages)\n",
            "WARNING: Ignoring invalid distribution -ip (d:\\anaconda3\\lib\\site-packages)\n",
            "WARNING: Ignoring invalid distribution -illow (d:\\anaconda3\\lib\\site-packages)\n",
            "WARNING: Ignoring invalid distribution -ywinpty (d:\\anaconda3\\lib\\site-packages)\n",
            "WARNING: Ignoring invalid distribution -ip (d:\\anaconda3\\lib\\site-packages)\n",
            "WARNING: Ignoring invalid distribution -illow (d:\\anaconda3\\lib\\site-packages)\n"
          ]
        }
      ],
      "source": [
        "!pip install umap-learn"
      ]
    },
    {
      "cell_type": "code",
      "execution_count": 5,
      "metadata": {
        "colab": {
          "base_uri": "https://localhost:8080/"
        },
        "id": "I6d2e7cMaRZ0",
        "outputId": "c88e2be4-e7be-461d-b6f7-63da2adcbd4b"
      },
      "outputs": [
        {
          "name": "stderr",
          "output_type": "stream",
          "text": [
            "\n",
            "Bad key text.latex.preview in file d:\\anaconda3\\lib\\site-packages\\matplotlib\\mpl-data\\stylelib\\_classic_test.mplstyle, line 123 ('text.latex.preview : False')\n",
            "You probably need to get an updated matplotlibrc file from\n",
            "https://github.com/matplotlib/matplotlib/blob/v3.7.1/matplotlibrc.template\n",
            "or from the matplotlib source distribution\n",
            "\n",
            "Bad key mathtext.fallback_to_cm in file d:\\anaconda3\\lib\\site-packages\\matplotlib\\mpl-data\\stylelib\\_classic_test.mplstyle, line 155 ('mathtext.fallback_to_cm : True  # When True, use symbols from the Computer Modern')\n",
            "You probably need to get an updated matplotlibrc file from\n",
            "https://github.com/matplotlib/matplotlib/blob/v3.7.1/matplotlibrc.template\n",
            "or from the matplotlib source distribution\n",
            "\n",
            "Bad key savefig.jpeg_quality in file d:\\anaconda3\\lib\\site-packages\\matplotlib\\mpl-data\\stylelib\\_classic_test.mplstyle, line 418 ('savefig.jpeg_quality: 95       # when a jpeg is saved, the default quality parameter.')\n",
            "You probably need to get an updated matplotlibrc file from\n",
            "https://github.com/matplotlib/matplotlib/blob/v3.7.1/matplotlibrc.template\n",
            "or from the matplotlib source distribution\n",
            "\n",
            "Bad key keymap.all_axes in file d:\\anaconda3\\lib\\site-packages\\matplotlib\\mpl-data\\stylelib\\_classic_test.mplstyle, line 466 ('keymap.all_axes : a                 # enable all axes')\n",
            "You probably need to get an updated matplotlibrc file from\n",
            "https://github.com/matplotlib/matplotlib/blob/v3.7.1/matplotlibrc.template\n",
            "or from the matplotlib source distribution\n",
            "\n",
            "Bad key animation.avconv_path in file d:\\anaconda3\\lib\\site-packages\\matplotlib\\mpl-data\\stylelib\\_classic_test.mplstyle, line 477 ('animation.avconv_path: avconv     # Path to avconv binary. Without full path')\n",
            "You probably need to get an updated matplotlibrc file from\n",
            "https://github.com/matplotlib/matplotlib/blob/v3.7.1/matplotlibrc.template\n",
            "or from the matplotlib source distribution\n",
            "\n",
            "Bad key animation.avconv_args in file d:\\anaconda3\\lib\\site-packages\\matplotlib\\mpl-data\\stylelib\\_classic_test.mplstyle, line 479 ('animation.avconv_args:            # Additional arguments to pass to avconv')\n",
            "You probably need to get an updated matplotlibrc file from\n",
            "https://github.com/matplotlib/matplotlib/blob/v3.7.1/matplotlibrc.template\n",
            "or from the matplotlib source distribution\n"
          ]
        }
      ],
      "source": [
        "import pandas as pd\n",
        "import numpy as np\n",
        "\n",
        "import lightgbm as lgb\n",
        "import shap\n",
        "import matplotlib.pyplot as plt\n",
        "from sklearn.cluster import KMeans\n",
        "from sklearn.cluster import DBSCAN\n",
        "from sklearn.ensemble import  RandomForestClassifier\n",
        "from sklearn.impute import SimpleImputer\n"
      ]
    },
    {
      "cell_type": "code",
      "execution_count": 6,
      "metadata": {},
      "outputs": [
        {
          "ename": "ImportError",
          "evalue": "cannot import name 'UMAP' from 'umap' (d:\\anaconda3\\lib\\site-packages\\umap\\__init__.py)",
          "output_type": "error",
          "traceback": [
            "\u001b[1;31m---------------------------------------------------------------------------\u001b[0m",
            "\u001b[1;31mImportError\u001b[0m                               Traceback (most recent call last)",
            "\u001b[1;32mc:\\Users\\German\\Desktop\\dmeyf2023\\German\\Clase 9\\(con comp 1) Notebook Video Miranda.ipynb Celda 7\u001b[0m line \u001b[0;36m2\n\u001b[0;32m      <a href='vscode-notebook-cell:/c%3A/Users/German/Desktop/dmeyf2023/German/Clase%209/%28con%20comp%201%29%20Notebook%20Video%20Miranda.ipynb#W6sZmlsZQ%3D%3D?line=0'>1</a>\u001b[0m \u001b[39m## Revisar https://github.com/MaartenGr/BERTopic/issues/723\u001b[39;00m\n\u001b[1;32m----> <a href='vscode-notebook-cell:/c%3A/Users/German/Desktop/dmeyf2023/German/Clase%209/%28con%20comp%201%29%20Notebook%20Video%20Miranda.ipynb#W6sZmlsZQ%3D%3D?line=1'>2</a>\u001b[0m \u001b[39mfrom\u001b[39;00m \u001b[39mumap\u001b[39;00m \u001b[39mimport\u001b[39;00m UMAP\n",
            "\u001b[1;31mImportError\u001b[0m: cannot import name 'UMAP' from 'umap' (d:\\anaconda3\\lib\\site-packages\\umap\\__init__.py)"
          ]
        }
      ],
      "source": [
        "## Revisar https://github.com/MaartenGr/BERTopic/issues/723\n",
        "from umap import UMAP"
      ]
    },
    {
      "cell_type": "markdown",
      "metadata": {
        "id": "ztnX-i3-aRZ1"
      },
      "source": [
        "Cargamos el dataset. Vamos a trabajar con el primer conjunto de datos pero usted deberá utilizar un dataset ampliado y más refinado. Preparamos y separamos las clases y "
      ]
    },
    {
      "cell_type": "code",
      "execution_count": 7,
      "metadata": {
        "id": "5iEEz8KraRZ1"
      },
      "outputs": [],
      "source": [
        "ds_train = pd.read_csv(\"D:/Equipo/Documentos/Posgrado/2C23/datasets/competencia_01_alternativo.csv\")\n",
        "\n",
        "#ds_train = pd.read_csv(\"~/buckets/b1/datasets/competencia_02.csv.gz\")\n",
        "\n",
        "clase_train = ds_train[\"clase_ternaria\"].map(lambda x: 0 if x == \"CONTINUA\" else 1)"
      ]
    },
    {
      "cell_type": "markdown",
      "metadata": {
        "id": "A55xcb-taRZ2"
      },
      "source": [
        "Y armamos un **dataset** con solo los casos de **BAJAS+1** y **BAJAS+2**. Sacamos los de los **datasets** los targets."
      ]
    },
    {
      "cell_type": "code",
      "execution_count": 8,
      "metadata": {
        "id": "rP9dL3g5aRZ2"
      },
      "outputs": [],
      "source": [
        "ds_bajas = ds_train.query(\"clase_ternaria != 'CONTINUA'\")\n",
        "ds_train = ds_train.drop([\"clase_ternaria\", \"numero_de_cliente\"], axis=1)\n",
        "ds_bajas = ds_bajas.drop([\"clase_ternaria\", \"numero_de_cliente\"], axis=1)\n"
      ]
    },
    {
      "cell_type": "markdown",
      "metadata": {
        "id": "WU89THJaaRZ3"
      },
      "source": [
        "Y hacemos un modelo **LGBM**. En este punto, usted agregue los mejores parámetros que haya encontrado."
      ]
    },
    {
      "cell_type": "code",
      "execution_count": 9,
      "metadata": {},
      "outputs": [],
      "source": [
        "import random"
      ]
    },
    {
      "cell_type": "code",
      "execution_count": 10,
      "metadata": {
        "colab": {
          "base_uri": "https://localhost:8080/"
        },
        "id": "gJFi741zaRZ3",
        "outputId": "6de91933-1761-4d79-a510-206ddc2b920b"
      },
      "outputs": [
        {
          "name": "stderr",
          "output_type": "stream",
          "text": [
            "Found `num_iterations` in params. Will use it instead of argument\n"
          ]
        },
        {
          "name": "stdout",
          "output_type": "stream",
          "text": [
            "[LightGBM] [Info] Auto-choosing col-wise multi-threading, the overhead of testing was 0.319082 seconds.\n",
            "You can set `force_col_wise=true` to remove the overhead.\n",
            "[LightGBM] [Info] Total Bins 3600\n",
            "[LightGBM] [Info] Number of data points in the train set: 491063, number of used features: 152\n",
            "[LightGBM] [Info] Start training from score 0.006071\n",
            "[LightGBM] [Warning] No further splits with positive gain, best gain: -inf\n"
          ]
        }
      ],
      "source": [
        "# create dataset for lightgbm\n",
        "lgb_train = lgb.Dataset(ds_train, clase_train)\n",
        "\n",
        "# random.seed(279523)\n",
        "# specify your configurations as a dict (pongo los dado en el script)\n",
        "params = {\n",
        "\n",
        "    'boosting_type': 'gbdt',  # Método de impulso, gradient boosting decision tree\n",
        "    'objective': 'regression',  # Tipo de objetivo, en este caso, regresión\n",
        "    'seed': 279523,  # Semilla aleatoria\n",
        "    'num_iterations': 1838,  # Número de iteraciones\n",
        "    'learning_rate': 0.0443304506619713,  # Tasa de aprendizaje\n",
        "    'feature_fraction': 0.699403921241248,  # Fracción de características a considerar por cada árbol\n",
        "    'min_data_in_leaf': 363,  # Número mínimo de datos en una hoja\n",
        "    'num_leaves': 636,  # Número máximo de hojas en un árbol\n",
        "    'max_bin': 31  # Número máximo de bins\n",
        "}\n",
        "\n",
        "gbm = lgb.train(params, lgb_train, num_boost_round=100)\n",
        "# calculamos las p para los clientes bajas (no me estoy preocupando del overfitting ni nada, algo quizás usted debiera)\n",
        "p_bajas = gbm.predict(ds_bajas)\n"
      ]
    },
    {
      "cell_type": "markdown",
      "metadata": {
        "id": "PGLD_OL0aRZ4"
      },
      "source": [
        "Hasta ahora, las herramientas para saber a que feature le daba importancia un modelo eran básicas. No era mucho más que un **feature importance**"
      ]
    },
    {
      "cell_type": "code",
      "execution_count": 11,
      "metadata": {
        "colab": {
          "base_uri": "https://localhost:8080/",
          "height": 423
        },
        "id": "igeVgb3MaRZ4",
        "outputId": "db370158-08bb-41d9-a47c-b0e72eb5474e"
      },
      "outputs": [
        {
          "data": {
            "text/html": [
              "<div>\n",
              "<style scoped>\n",
              "    .dataframe tbody tr th:only-of-type {\n",
              "        vertical-align: middle;\n",
              "    }\n",
              "\n",
              "    .dataframe tbody tr th {\n",
              "        vertical-align: top;\n",
              "    }\n",
              "\n",
              "    .dataframe thead th {\n",
              "        text-align: right;\n",
              "    }\n",
              "</style>\n",
              "<table border=\"1\" class=\"dataframe\">\n",
              "  <thead>\n",
              "    <tr style=\"text-align: right;\">\n",
              "      <th></th>\n",
              "      <th>Features</th>\n",
              "      <th>Importances</th>\n",
              "    </tr>\n",
              "  </thead>\n",
              "  <tbody>\n",
              "    <tr>\n",
              "      <th>106</th>\n",
              "      <td>ctrx_quarter</td>\n",
              "      <td>46258</td>\n",
              "    </tr>\n",
              "    <tr>\n",
              "      <th>10</th>\n",
              "      <td>mpasivos_margen</td>\n",
              "      <td>42601</td>\n",
              "    </tr>\n",
              "    <tr>\n",
              "      <th>4</th>\n",
              "      <td>cliente_edad</td>\n",
              "      <td>40545</td>\n",
              "    </tr>\n",
              "    <tr>\n",
              "      <th>7</th>\n",
              "      <td>mrentabilidad_annual</td>\n",
              "      <td>37814</td>\n",
              "    </tr>\n",
              "    <tr>\n",
              "      <th>17</th>\n",
              "      <td>mcaja_ahorro</td>\n",
              "      <td>36917</td>\n",
              "    </tr>\n",
              "    <tr>\n",
              "      <th>...</th>\n",
              "      <td>...</td>\n",
              "      <td>...</td>\n",
              "    </tr>\n",
              "    <tr>\n",
              "      <th>42</th>\n",
              "      <td>minversion1_dolares</td>\n",
              "      <td>11</td>\n",
              "    </tr>\n",
              "    <tr>\n",
              "      <th>89</th>\n",
              "      <td>ccheques_depositados_rechazados</td>\n",
              "      <td>6</td>\n",
              "    </tr>\n",
              "    <tr>\n",
              "      <th>53</th>\n",
              "      <td>cpayroll2_trx</td>\n",
              "      <td>5</td>\n",
              "    </tr>\n",
              "    <tr>\n",
              "      <th>39</th>\n",
              "      <td>mplazo_fijo_pesos</td>\n",
              "      <td>1</td>\n",
              "    </tr>\n",
              "    <tr>\n",
              "      <th>14</th>\n",
              "      <td>mcuenta_corriente_adicional</td>\n",
              "      <td>0</td>\n",
              "    </tr>\n",
              "  </tbody>\n",
              "</table>\n",
              "<p>153 rows × 2 columns</p>\n",
              "</div>"
            ],
            "text/plain": [
              "                            Features  Importances\n",
              "106                     ctrx_quarter        46258\n",
              "10                   mpasivos_margen        42601\n",
              "4                       cliente_edad        40545\n",
              "7               mrentabilidad_annual        37814\n",
              "17                      mcaja_ahorro        36917\n",
              "..                               ...          ...\n",
              "42               minversion1_dolares           11\n",
              "89   ccheques_depositados_rechazados            6\n",
              "53                     cpayroll2_trx            5\n",
              "39                 mplazo_fijo_pesos            1\n",
              "14       mcuenta_corriente_adicional            0\n",
              "\n",
              "[153 rows x 2 columns]"
            ]
          },
          "execution_count": 11,
          "metadata": {},
          "output_type": "execute_result"
        }
      ],
      "source": [
        "lgbm_importancia = pd.DataFrame({'Features': gbm.feature_name(),\n",
        "                        'Importances': gbm.feature_importance()})\n",
        "lgbm_importancia.sort_values(by='Importances', inplace=True, ascending=False)\n",
        "lgbm_importancia\n"
      ]
    },
    {
      "cell_type": "markdown",
      "metadata": {},
      "source": [
        "Sin embargo podemos intuir que si un modelo detecta múltiples patrones, no todos los casos van a ser afectados por el mismo. Tiene sentido que dos clientes se den de baja por motivos distintos y que un modelo pondere para cada caso, un peso distinto a los **features**. O sea, necesitamos una forma de explicar de forma local (caso a caso) en vez de una global (para todos los casos). Para esto utilizaremos los modelos [SHAP](https://christophm.github.io/interpretable-ml-book/shap.html)  "
      ]
    },
    {
      "cell_type": "markdown",
      "metadata": {
        "id": "4CzK9kANaRZ4"
      },
      "source": [
        "Ahora avanzamos aplicando un modelo de interpretabilidad sobre el modelo anterior."
      ]
    },
    {
      "cell_type": "code",
      "execution_count": 12,
      "metadata": {
        "colab": {
          "base_uri": "https://localhost:8080/"
        },
        "id": "dRhywfaAaRZ5",
        "outputId": "02b92dec-b648-443b-caea-f290c09ee247"
      },
      "outputs": [],
      "source": [
        "explainer = shap.TreeExplainer(gbm)\n",
        "shap_values = explainer.shap_values(ds_bajas)\n",
        "shap_bajas = pd.DataFrame(shap_values[0], columns = ds_bajas.columns)"
      ]
    },
    {
      "cell_type": "markdown",
      "metadata": {
        "id": "o5X7LfoXaRZ5"
      },
      "source": [
        "En la variable `shap_bajas` contaríamos para cada caso, el peso de la influencia de esa **feature** de acuerdo al modelo. Veamos un caso, tomemos un cliente:"
      ]
    },
    {
      "cell_type": "code",
      "execution_count": null,
      "metadata": {
        "colab": {
          "base_uri": "https://localhost:8080/",
          "height": 461
        },
        "id": "GIxeFGeKaRZ5",
        "outputId": "c43fd3fd-6070-40c5-b9f1-7e17afadcd32"
      },
      "outputs": [],
      "source": [
        "# busco un caso en p_bajas, con un p alta, y tomo su indice\n",
        "cliente_idx = 7\n",
        "print(p_bajas[cliente_idx])\n",
        "df = pd.concat([ds_bajas.iloc[cliente_idx], shap_bajas.iloc[cliente_idx]], axis=1)\n",
        "df.sort_values(by=[cliente_idx], ascending=False)"
      ]
    },
    {
      "cell_type": "markdown",
      "metadata": {},
      "source": [
        "En la tabla anterior, los **features** con números positivos \"adicionan(*)\" a la probabilidad y los negativos. \n",
        "\n",
        "(*) Aquí estamos usando TreeSHAP, que no es tan directa como Kernel SHAP para la interpretación directa. \n",
        "\n",
        "También podemos combinar todos los valores de SHAP y recrear una nueva importancia de variables:"
      ]
    },
    {
      "cell_type": "code",
      "execution_count": null,
      "metadata": {
        "colab": {
          "base_uri": "https://localhost:8080/"
        },
        "id": "J16lpSHjaRZ5",
        "outputId": "c6693404-69dc-4929-97d7-1930e876d557"
      },
      "outputs": [],
      "source": [
        "shap_bajas.mean().abs().sort_values(ascending=False)\n"
      ]
    },
    {
      "cell_type": "markdown",
      "metadata": {
        "id": "lmKDT3NTaRZ5"
      },
      "source": [
        "La librería contiene útiles herramientas para vizualizar la info anterior"
      ]
    },
    {
      "cell_type": "code",
      "execution_count": null,
      "metadata": {
        "colab": {
          "base_uri": "https://localhost:8080/",
          "height": 957
        },
        "id": "SEF-xuD8aRZ5",
        "outputId": "06daeae5-9f7a-4d3a-95e4-4bda7d31f010"
      },
      "outputs": [],
      "source": [
        "shap.summary_plot(shap_values, ds_bajas)\n"
      ]
    },
    {
      "cell_type": "markdown",
      "metadata": {
        "id": "OJFeofiaaRZ6"
      },
      "source": [
        "Para ver más opciones de visualización\n",
        "https://www.youtube.com/watch?v=L8_sVRhBDLU&t=3s"
      ]
    },
    {
      "cell_type": "markdown",
      "metadata": {
        "id": "QZSoSHvyaRZ6"
      },
      "source": [
        "## ¿Se podrá hacer una clusterización sobre los valores de shap?\n",
        "\n",
        "Lo que estaríamos buscando es: \"Juntar a todos los clientes que son afectamos por los mismos patrones del modelo, entendiendo que si les afecto el mismo patrón, sus SHAP van a ser similares.\" Presunción fuerte.\n",
        " \n",
        "Como la cantidad de variables es muy alto, es conveniente hacer un embedding con **UMAP**. Por como es la estrutura de los **shap values** se pueden hacer sin mucho preprocesamiento. Usamos UMAP para estos embedding, https://www.youtube.com/watch?v=eN0wFzBA4Sc (triple BAM (?))"
      ]
    },
    {
      "cell_type": "code",
      "execution_count": null,
      "metadata": {
        "colab": {
          "base_uri": "https://localhost:8080/",
          "height": 448
        },
        "id": "5qWkfZfBfO9u",
        "outputId": "d9ddebd6-04fc-4536-8d55-c849504b4fff"
      },
      "outputs": [],
      "source": [
        "embedding_2d = UMAP(\n",
        "  n_components=2, n_neighbors=40\n",
        ").fit_transform(shap_values[0])\n",
        "plt.scatter(embedding_2d[:,0], embedding_2d[:,1])"
      ]
    },
    {
      "cell_type": "markdown",
      "metadata": {},
      "source": [
        "Vemos manchas separadas entre ellas, admiramos a UMAP. Hizo el trabajo sucio.\n",
        "\n",
        "Algo importante cuando trabaja con modelos, es recordar que no siempre detectan con la misma \"fuerza\" todos los casos. Incluso nosotros solo terminamos mandando a Kaggle un subconjunto de casos. Si vemos el histograma de las probabilidades de salida"
      ]
    },
    {
      "cell_type": "code",
      "execution_count": null,
      "metadata": {
        "colab": {
          "base_uri": "https://localhost:8080/",
          "height": 521
        },
        "id": "klnop5qF45JI",
        "outputId": "31b7bc02-fbe6-4188-fa11-44d5e3f1fdef"
      },
      "outputs": [],
      "source": [
        "plt.hist(p_bajas,bins=30)"
      ]
    },
    {
      "cell_type": "markdown",
      "metadata": {},
      "source": [
        "Vemos que hay en los 2000 y algo de casos, 500 que no estaríamos mandando. Veamos si hay alguna relación si cruzamos el embedding y su probabilidad"
      ]
    },
    {
      "cell_type": "code",
      "execution_count": null,
      "metadata": {
        "colab": {
          "base_uri": "https://localhost:8080/",
          "height": 448
        },
        "id": "bHEm1r7Wh0PN",
        "outputId": "298d6308-52c8-4442-f90b-84f5577df403"
      },
      "outputs": [],
      "source": [
        "sc = plt.scatter(embedding_2d[:, 0], embedding_2d[:, 1], c=p_bajas)\n",
        "plt.colorbar(sc)\n",
        "plt.show()\n"
      ]
    },
    {
      "cell_type": "code",
      "execution_count": null,
      "metadata": {
        "colab": {
          "base_uri": "https://localhost:8080/",
          "height": 487
        },
        "id": "o0yNwaZVi7YI",
        "outputId": "23926904-94e8-4a5a-aa01-4c8206aefa08"
      },
      "outputs": [],
      "source": [
        "\n",
        "hdb = DBSCAN(eps=0.75) # juegue con los parámetros \n",
        "y = hdb.fit(embedding_2d)\n",
        "\n",
        "plt.scatter(embedding_2d[:, 0], embedding_2d[:, 1], c=y.labels_)\n",
        "plt.show()"
      ]
    },
    {
      "cell_type": "markdown",
      "metadata": {},
      "source": [
        "Comparamos 2 clusters para ver si cambian sus variables importantes"
      ]
    },
    {
      "cell_type": "code",
      "execution_count": null,
      "metadata": {
        "colab": {
          "base_uri": "https://localhost:8080/"
        },
        "id": "evt3uVP4pWUF",
        "outputId": "28e4eadd-df65-43b6-b39f-61589682fa7f"
      },
      "outputs": [],
      "source": [
        "shap_bajas[y.labels_ == 1].mean().sort_values(ascending=False)"
      ]
    },
    {
      "cell_type": "code",
      "execution_count": null,
      "metadata": {},
      "outputs": [],
      "source": [
        "shap_bajas[y.labels_ == 2].mean().sort_values(ascending=False)"
      ]
    },
    {
      "cell_type": "code",
      "execution_count": null,
      "metadata": {},
      "outputs": [],
      "source": [
        "shap_bajas[y.labels_ == 3].mean().sort_values(ascending=False)"
      ]
    },
    {
      "cell_type": "code",
      "execution_count": null,
      "metadata": {},
      "outputs": [],
      "source": [
        "shap_bajas[y.labels_ == 4].mean().sort_values(ascending=False)"
      ]
    },
    {
      "cell_type": "code",
      "execution_count": null,
      "metadata": {
        "colab": {
          "base_uri": "https://localhost:8080/"
        },
        "id": "Ah4G51VJqP12",
        "outputId": "ba2459f4-ff64-4f47-f95b-dfb0d3a9e177"
      },
      "outputs": [],
      "source": [
        "shap_bajas[y.labels_ == 5].mean().sort_values(ascending=False)"
      ]
    },
    {
      "cell_type": "markdown",
      "metadata": {},
      "source": [
        "Y comparamos las distribuciones de las variables importantes con la de la población general, para entender que distingue a nuestro cluster."
      ]
    },
    {
      "cell_type": "markdown",
      "metadata": {},
      "source": [
        "# Caso con payroll"
      ]
    },
    {
      "cell_type": "code",
      "execution_count": null,
      "metadata": {},
      "outputs": [],
      "source": [
        "plt.hist(ds_bajas.loc[:][\"cpayroll_trx\"], label='all', density=True, bins=25)\n",
        "plt.hist(ds_bajas.loc[y.labels_ == 1][\"cpayroll_trx\"], label='cluster 1', density=True, bins=25)\n",
        "\n",
        "plt.legend(loc='upper right')\n",
        "plt.title('Overlapping')\n",
        "plt.show()"
      ]
    },
    {
      "cell_type": "code",
      "execution_count": null,
      "metadata": {},
      "outputs": [],
      "source": [
        "plt.hist(ds_bajas.loc[:][\"cpayroll_trx\"], label='all', density=True, bins=25)\n",
        "plt.hist(ds_bajas.loc[y.labels_ == 2][\"cpayroll_trx\"], label='cluster 2', density=True, bins=25)\n",
        "\n",
        "plt.legend(loc='upper right')\n",
        "plt.title('Overlapping')\n",
        "plt.show()"
      ]
    },
    {
      "cell_type": "code",
      "execution_count": null,
      "metadata": {},
      "outputs": [],
      "source": [
        "plt.hist(ds_bajas.loc[:][\"cpayroll_trx\"], label='all', density=True, bins=25)\n",
        "plt.hist(ds_bajas.loc[y.labels_ == 3][\"cpayroll_trx\"], label='cluster 3', density=True, bins=25)\n",
        "\n",
        "plt.legend(loc='upper right')\n",
        "plt.title('Overlapping')\n",
        "plt.show()"
      ]
    },
    {
      "cell_type": "code",
      "execution_count": null,
      "metadata": {},
      "outputs": [],
      "source": [
        "plt.hist(ds_bajas.loc[:][\"cpayroll_trx\"], label='all', density=True, bins=25)\n",
        "plt.hist(ds_bajas.loc[y.labels_ == 4][\"cpayroll_trx\"], label='cluster 4', density=True, bins=25)\n",
        "\n",
        "plt.legend(loc='upper right')\n",
        "plt.title('Overlapping')\n",
        "plt.show()"
      ]
    },
    {
      "cell_type": "code",
      "execution_count": null,
      "metadata": {
        "colab": {
          "base_uri": "https://localhost:8080/",
          "height": 452
        },
        "id": "GAnsBUWC3z7u",
        "outputId": "9269053c-8db0-47e7-8422-7364d5d56b5a"
      },
      "outputs": [],
      "source": [
        "plt.hist(ds_bajas.loc[:][\"cpayroll_trx\"], label='all', density=True, bins=25)\n",
        "plt.hist(ds_bajas.loc[y.labels_ == 5][\"cpayroll_trx\"], label='cluster 5', density=True, bins=25)\n",
        "\n",
        "plt.legend(loc='upper right')\n",
        "plt.title('Overlapping')\n",
        "plt.show()"
      ]
    }
  ],
  "metadata": {
    "colab": {
      "provenance": []
    },
    "kernelspec": {
      "display_name": "Python 3.10.4 ('monday-2l6OfFZC-py3.10')",
      "language": "python",
      "name": "python3"
    },
    "language_info": {
      "codemirror_mode": {
        "name": "ipython",
        "version": 3
      },
      "file_extension": ".py",
      "mimetype": "text/x-python",
      "name": "python",
      "nbconvert_exporter": "python",
      "pygments_lexer": "ipython3",
      "version": "3.8.5"
    },
    "orig_nbformat": 4,
    "vscode": {
      "interpreter": {
        "hash": "d82221ca95a05516fde857407cc8e78d06cecb56814b70ff11970b46a17253e5"
      }
    }
  },
  "nbformat": 4,
  "nbformat_minor": 0
}
