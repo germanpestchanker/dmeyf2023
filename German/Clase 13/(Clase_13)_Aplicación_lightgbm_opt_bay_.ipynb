{
  "cells": [
    {
      "cell_type": "markdown",
      "source": [
        "# (Base Semilla 1)"
      ],
      "metadata": {
        "id": "492Uk88uppy3"
      }
    },
    {
      "cell_type": "markdown",
      "metadata": {
        "id": "mFLVN6wfppy_"
      },
      "source": [
        "- Para correr el Google Cloud\n",
        "-   8 vCPU\n",
        "-  64 GB memoria RAM"
      ]
    },
    {
      "cell_type": "code",
      "execution_count": null,
      "metadata": {
        "vscode": {
          "languageId": "r"
        },
        "id": "A5KYI7y0ppy_"
      },
      "outputs": [],
      "source": [
        "# limpio la memoria\n",
        "rm(list = ls()) # remove all objects\n",
        "gc() # garbage collection"
      ]
    },
    {
      "cell_type": "code",
      "execution_count": null,
      "metadata": {
        "vscode": {
          "languageId": "r"
        },
        "id": "NQyzk1eappzA"
      },
      "outputs": [],
      "source": [
        "require(\"data.table\")\n",
        "require(\"lightgbm\")"
      ]
    },
    {
      "cell_type": "code",
      "execution_count": null,
      "metadata": {
        "vscode": {
          "languageId": "r"
        },
        "id": "ZNVVhq35ppzA"
      },
      "outputs": [],
      "source": [
        "# defino los parametros de la corrida, en una lista, la variable global  PARAM\n",
        "#  muy pronto esto se leera desde un archivo formato .yaml\n",
        "PARAM <- list()\n",
        "PARAM$experimento <- \"KA8240 (Clase 12, Base Sem1)\"\n",
        "\n",
        "PARAM$input$dataset <- \"datasets/competencia_03_base_lags.csv.gz\"\n",
        "\n",
        "# meses donde se entrena el modelo\n",
        "PARAM$input$training <- c(202107, 202106, 202105, 202104, 202103, 202102, 202101,\n",
        " 202012, 202011, 202010, 202009, 202008, 202002, 202001, 201912, 201911,\n",
        " 201910, 201909, 201908, 201907, 201906, 201905, 201904, 201903) #Dos meses después del training de la parametrización\n",
        "PARAM$input$future <- c(202109) # meses donde se aplica el modelo\n",
        "\n",
        "PARAM$finalmodel$semilla <- 279511\n",
        "\n",
        "# hiperparametros intencionalmente optimos\n",
        "PARAM$finalmodel$optim$num_iterations <- 231\n",
        "PARAM$finalmodel$optim$learning_rate <- 0.0716026909889653\n",
        "PARAM$finalmodel$optim$feature_fraction <- 0.938601369674891\n",
        "PARAM$finalmodel$optim$min_data_in_leaf <- 10341\n",
        "PARAM$finalmodel$optim$num_leaves <- 506"
      ]
    },
    {
      "cell_type": "code",
      "execution_count": null,
      "metadata": {
        "vscode": {
          "languageId": "r"
        },
        "id": "pSGclaJTppzA"
      },
      "outputs": [],
      "source": [
        "# Hiperparametros FIJOS de  lightgbm\n",
        "PARAM$finalmodel$lgb_basicos <- list(\n",
        "  boosting = \"gbdt\", # puede ir  dart  , ni pruebe random_forest\n",
        "  objective = \"binary\",\n",
        "  metric = \"custom\",\n",
        "  first_metric_only = TRUE,\n",
        "  boost_from_average = TRUE,\n",
        "  feature_pre_filter = FALSE,\n",
        "  force_row_wise = TRUE, # para reducir warnings\n",
        "  verbosity = -100,\n",
        "  max_depth = -1L, # -1 significa no limitar,  por ahora lo dejo fijo\n",
        "  min_gain_to_split = 0.0, # min_gain_to_split >= 0.0\n",
        "  min_sum_hessian_in_leaf = 0.001, #  min_sum_hessian_in_leaf >= 0.0\n",
        "  lambda_l1 = 0.0, # lambda_l1 >= 0.0\n",
        "  lambda_l2 = 0.0, # lambda_l2 >= 0.0\n",
        "  max_bin = 31L, # lo debo dejar fijo, no participa de la BO\n",
        "\n",
        "  bagging_fraction = 1.0, # 0.0 < bagging_fraction <= 1.0\n",
        "  pos_bagging_fraction = 1.0, # 0.0 < pos_bagging_fraction <= 1.0\n",
        "  neg_bagging_fraction = 1.0, # 0.0 < neg_bagging_fraction <= 1.0\n",
        "  is_unbalance = FALSE, #\n",
        "  scale_pos_weight = 1.0, # scale_pos_weight > 0.0\n",
        "\n",
        "  drop_rate = 0.1, # 0.0 < neg_bagging_fraction <= 1.0\n",
        "  max_drop = 50, # <=0 means no limit\n",
        "  skip_drop = 0.5, # 0.0 <= skip_drop <= 1.0\n",
        "\n",
        "  extra_trees = TRUE, # Magic Sauce\n",
        "\n",
        "  seed = PARAM$finalmodel$semilla\n",
        ")"
      ]
    },
    {
      "cell_type": "markdown",
      "metadata": {
        "id": "pMGpRdCMppzA"
      },
      "source": [
        "## Aqui empieza el programa"
      ]
    },
    {
      "cell_type": "code",
      "execution_count": null,
      "metadata": {
        "vscode": {
          "languageId": "r"
        },
        "id": "51SgymlqppzA"
      },
      "outputs": [],
      "source": [
        "# Aqui empieza el programa\n",
        "setwd(\"~/buckets/b1\")\n",
        "\n",
        "# cargo el dataset donde voy a entrenar\n",
        "dataset <- fread(PARAM$input$dataset, stringsAsFactors = TRUE)"
      ]
    },
    {
      "cell_type": "code",
      "execution_count": null,
      "metadata": {
        "vscode": {
          "languageId": "r"
        },
        "id": "Drhr_dQFppzA"
      },
      "outputs": [],
      "source": [
        "# Catastrophe Analysis  -------------------------------------------------------\n",
        "# deben ir cosas de este estilo\n",
        "#   dataset[foto_mes == 202006, active_quarter := NA]\n",
        "\n",
        "# Data Drifting\n",
        "# por ahora, no hago nada\n",
        "\n",
        "\n",
        "# Feature Engineering Historico  ----------------------------------------------\n",
        "#   aqui deben calcularse los  lags y  lag_delta\n",
        "#   Sin lags no hay paraiso ! corta la bocha\n",
        "#   https://rdrr.io/cran/data.table/man/shift.html\n",
        "\n"
      ]
    },
    {
      "cell_type": "code",
      "execution_count": null,
      "metadata": {
        "vscode": {
          "languageId": "r"
        },
        "id": "Gs1rVa0RppzB"
      },
      "outputs": [],
      "source": [
        "# paso la clase a binaria que tome valores {0,1}  enteros\n",
        "# set trabaja con la clase  POS = { BAJA+1, BAJA+2 }\n",
        "# esta estrategia es MUY importante\n",
        "dataset[, clase01 := ifelse(clase_ternaria %in% c(\"BAJA+2\", \"BAJA+1\"), 1L, 0L)]"
      ]
    },
    {
      "cell_type": "code",
      "execution_count": null,
      "metadata": {
        "vscode": {
          "languageId": "r"
        },
        "id": "17lFDEDxppzB"
      },
      "outputs": [],
      "source": [
        "# los campos que se van a utilizar\n",
        "campos_buenos <- setdiff(colnames(dataset), c(\"clase_ternaria\", \"clase01\"))"
      ]
    },
    {
      "cell_type": "code",
      "execution_count": null,
      "metadata": {
        "vscode": {
          "languageId": "r"
        },
        "id": "9-QIPR2WppzB"
      },
      "outputs": [],
      "source": [
        "# establezco donde entreno\n",
        "dataset[, train := 0L]\n",
        "dataset[foto_mes %in% PARAM$input$training, train := 1L]\n"
      ]
    },
    {
      "cell_type": "code",
      "execution_count": null,
      "metadata": {
        "vscode": {
          "languageId": "r"
        },
        "id": "cK0DZfMlppzB"
      },
      "outputs": [],
      "source": [
        "# creo las carpetas donde van los resultados\n",
        "# creo la carpeta donde va el experimento\n",
        "dir.create(\"./exp/\", showWarnings = FALSE)\n",
        "dir.create(paste0(\"./exp/\", PARAM$experimento, \"/\"), showWarnings = FALSE)\n",
        "\n",
        "# Establezco el Working Directory DEL EXPERIMENTO\n",
        "setwd(paste0(\"./exp/\", PARAM$experimento, \"/\"))"
      ]
    },
    {
      "cell_type": "code",
      "execution_count": null,
      "metadata": {
        "vscode": {
          "languageId": "r"
        },
        "id": "x8ocbamnppzB"
      },
      "outputs": [],
      "source": [
        "# dejo los datos en el formato que necesita LightGBM\n",
        "dtrain <- lgb.Dataset(\n",
        "  data = data.matrix(dataset[train == 1L, campos_buenos, with = FALSE]),\n",
        "  label = dataset[train == 1L, clase01]\n",
        ")"
      ]
    },
    {
      "cell_type": "code",
      "execution_count": null,
      "metadata": {
        "vscode": {
          "languageId": "r"
        },
        "id": "XVW6s6XwppzB"
      },
      "outputs": [],
      "source": [
        "# genero el modelo\n",
        "param_completo <- c(PARAM$finalmodel$lgb_basicos,\n",
        "  PARAM$finalmodel$optim)\n",
        "\n",
        "modelo <- lgb.train(\n",
        "  data = dtrain,\n",
        "  param = param_completo,\n",
        ")"
      ]
    },
    {
      "cell_type": "code",
      "execution_count": null,
      "metadata": {
        "vscode": {
          "languageId": "r"
        },
        "id": "zpCislyCppzC"
      },
      "outputs": [],
      "source": [
        "# ahora imprimo la importancia de variables\n",
        "tb_importancia <- as.data.table(lgb.importance(modelo))\n",
        "archivo_importancia <- \"impo.txt\"\n",
        "\n",
        "fwrite(tb_importancia,\n",
        "  file = archivo_importancia,\n",
        "  sep = \"\\t\"\n",
        ")\n"
      ]
    },
    {
      "cell_type": "code",
      "execution_count": null,
      "metadata": {
        "vscode": {
          "languageId": "r"
        },
        "id": "xzNFv00wppzC"
      },
      "outputs": [],
      "source": [
        "# aplico el modelo a los datos sin clase\n",
        "dapply <- dataset[foto_mes == PARAM$input$future]\n",
        "\n",
        "# aplico el modelo a los datos nuevos\n",
        "prediccion <- predict(\n",
        "  modelo,\n",
        "  data.matrix(dapply[, campos_buenos, with = FALSE])\n",
        ")\n",
        "\n",
        "# genero la tabla de entrega\n",
        "tb_entrega <- dapply[, list(numero_de_cliente, foto_mes)]\n",
        "tb_entrega[, prob := prediccion]\n",
        "\n",
        "# grabo las probabilidad del modelo\n",
        "fwrite(tb_entrega,\n",
        "  file = \"prediccion.txt\",\n",
        "  sep = \"\\t\"\n",
        ")\n",
        "\n",
        "# ordeno por probabilidad descendente\n",
        "setorder(tb_entrega, -prob)\n"
      ]
    },
    {
      "cell_type": "code",
      "execution_count": null,
      "metadata": {
        "vscode": {
          "languageId": "r"
        },
        "id": "es4eWfeJppzC"
      },
      "outputs": [],
      "source": [
        "# genero archivos con los  \"envios\" mejores\n",
        "# deben subirse \"inteligentemente\" a Kaggle para no malgastar submits\n",
        "# si la palabra inteligentemente no le significa nada aun\n",
        "# suba TODOS los archivos a Kaggle\n",
        "# espera a la siguiente clase sincronica en donde el tema sera explicado\n",
        "\n",
        "cortes <- seq(8000, 13000, by = 500)\n",
        "for (envios in cortes) {\n",
        "  tb_entrega[, Predicted := 0L]\n",
        "  tb_entrega[1:envios, Predicted := 1L]\n",
        "\n",
        "  fwrite(tb_entrega[, list(numero_de_cliente, Predicted)],\n",
        "    file = paste0(PARAM$experimento, \"_\", envios, \".csv\"),\n",
        "    sep = \",\"\n",
        "  )\n",
        "}\n",
        "\n",
        "cat(\"\\n\\nLa generacion de los archivos para Kaggle ha terminado\\n\")"
      ]
    }
  ],
  "metadata": {
    "kernelspec": {
      "display_name": "R",
      "language": "R",
      "name": "ir"
    },
    "language_info": {
      "codemirror_mode": "r",
      "file_extension": ".r",
      "mimetype": "text/x-r-source",
      "name": "R",
      "pygments_lexer": "r",
      "version": "4.3.1"
    },
    "colab": {
      "provenance": [],
      "toc_visible": true
    }
  },
  "nbformat": 4,
  "nbformat_minor": 0
}