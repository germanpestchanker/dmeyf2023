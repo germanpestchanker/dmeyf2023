{
  "cells": [
    {
      "cell_type": "markdown",
      "metadata": {
        "id": "AVe83KdgQjuR"
      },
      "source": [
        "## Importación de Librerías"
      ]
    },
    {
      "cell_type": "markdown",
      "metadata": {
        "id": "JhFsaNYoQjuY"
      },
      "source": [
        "Este script esta pensado para correr en Google Cloud\n",
        "- 8 vCPU\n",
        "- 128 GB memoria RAM\n",
        "\n",
        "- se entrena con clase_binaria2  POS =  { BAJA+1, BAJA+2 }\n",
        "- Optimizacion Bayesiana de hiperparametros de  lightgbm,"
      ]
    },
    {
      "cell_type": "code",
      "execution_count": null,
      "metadata": {
        "vscode": {
          "languageId": "r"
        },
        "id": "6Hw1kHDwQjuc",
        "outputId": "183a8266-3862-4383-d4da-528eb3b05b66"
      },
      "outputs": [
        {
          "data": {
            "text/html": [
              "<table class=\"dataframe\">\n",
              "<caption>A matrix: 2 × 6 of type dbl</caption>\n",
              "<thead>\n",
              "\t<tr><th></th><th scope=col>used</th><th scope=col>(Mb)</th><th scope=col>gc trigger</th><th scope=col>(Mb)</th><th scope=col>max used</th><th scope=col>(Mb)</th></tr>\n",
              "</thead>\n",
              "<tbody>\n",
              "\t<tr><th scope=row>Ncells</th><td> 631883</td><td>33.8</td><td>1412178</td><td>75.5</td><td> 987407</td><td>52.8</td></tr>\n",
              "\t<tr><th scope=row>Vcells</th><td>1170373</td><td> 9.0</td><td>8388608</td><td>64.0</td><td>1815603</td><td>13.9</td></tr>\n",
              "</tbody>\n",
              "</table>\n"
            ],
            "text/latex": [
              "A matrix: 2 × 6 of type dbl\n",
              "\\begin{tabular}{r|llllll}\n",
              "  & used & (Mb) & gc trigger & (Mb) & max used & (Mb)\\\\\n",
              "\\hline\n",
              "\tNcells &  631883 & 33.8 & 1412178 & 75.5 &  987407 & 52.8\\\\\n",
              "\tVcells & 1170373 &  9.0 & 8388608 & 64.0 & 1815603 & 13.9\\\\\n",
              "\\end{tabular}\n"
            ],
            "text/markdown": [
              "\n",
              "A matrix: 2 × 6 of type dbl\n",
              "\n",
              "| <!--/--> | used | (Mb) | gc trigger | (Mb) | max used | (Mb) |\n",
              "|---|---|---|---|---|---|---|\n",
              "| Ncells |  631883 | 33.8 | 1412178 | 75.5 |  987407 | 52.8 |\n",
              "| Vcells | 1170373 |  9.0 | 8388608 | 64.0 | 1815603 | 13.9 |\n",
              "\n"
            ],
            "text/plain": [
              "       used    (Mb) gc trigger (Mb) max used (Mb)\n",
              "Ncells  631883 33.8 1412178    75.5  987407  52.8\n",
              "Vcells 1170373  9.0 8388608    64.0 1815603  13.9"
            ]
          },
          "metadata": {},
          "output_type": "display_data"
        }
      ],
      "source": [
        "# limpio la memoria\n",
        "rm(list = ls()) # remove all objects\n",
        "gc() # garbage collection\n"
      ]
    },
    {
      "cell_type": "code",
      "execution_count": null,
      "metadata": {
        "vscode": {
          "languageId": "r"
        },
        "id": "URQ2121UQjug",
        "outputId": "1e0a27ec-7a8c-4125-ff8f-6730148eac9e"
      },
      "outputs": [
        {
          "name": "stderr",
          "output_type": "stream",
          "text": [
            "Loading required package: data.table\n",
            "\n",
            "Loading required package: rlist\n",
            "\n"
          ]
        }
      ],
      "source": [
        "require(\"data.table\")\n",
        "require(\"rlist\")\n"
      ]
    },
    {
      "cell_type": "code",
      "execution_count": null,
      "metadata": {
        "vscode": {
          "languageId": "r"
        },
        "id": "dgkFlR-jQjui",
        "outputId": "f597aad4-bc3c-44be-ff71-5f90a90c7c35"
      },
      "outputs": [
        {
          "data": {
            "text/html": [
              "<table class=\"dataframe\">\n",
              "<caption>A matrix: 2 × 6 of type dbl</caption>\n",
              "<thead>\n",
              "\t<tr><th></th><th scope=col>used</th><th scope=col>(Mb)</th><th scope=col>gc trigger</th><th scope=col>(Mb)</th><th scope=col>max used</th><th scope=col>(Mb)</th></tr>\n",
              "</thead>\n",
              "<tbody>\n",
              "\t<tr><th scope=row>Ncells</th><td>  663660</td><td> 35.5</td><td>  31281334</td><td> 1670.7</td><td>  22909774</td><td> 1223.6</td></tr>\n",
              "\t<tr><th scope=row>Vcells</th><td>17941311</td><td>136.9</td><td>5475926500</td><td>41778.1</td><td>6843588264</td><td>52212.5</td></tr>\n",
              "</tbody>\n",
              "</table>\n"
            ],
            "text/latex": [
              "A matrix: 2 × 6 of type dbl\n",
              "\\begin{tabular}{r|llllll}\n",
              "  & used & (Mb) & gc trigger & (Mb) & max used & (Mb)\\\\\n",
              "\\hline\n",
              "\tNcells &   663660 &  35.5 &   31281334 &  1670.7 &   22909774 &  1223.6\\\\\n",
              "\tVcells & 17941311 & 136.9 & 5475926500 & 41778.1 & 6843588264 & 52212.5\\\\\n",
              "\\end{tabular}\n"
            ],
            "text/markdown": [
              "\n",
              "A matrix: 2 × 6 of type dbl\n",
              "\n",
              "| <!--/--> | used | (Mb) | gc trigger | (Mb) | max used | (Mb) |\n",
              "|---|---|---|---|---|---|---|\n",
              "| Ncells |   663660 |  35.5 |   31281334 |  1670.7 |   22909774 |  1223.6 |\n",
              "| Vcells | 17941311 | 136.9 | 5475926500 | 41778.1 | 6843588264 | 52212.5 |\n",
              "\n"
            ],
            "text/plain": [
              "       used     (Mb)  gc trigger (Mb)    max used   (Mb)   \n",
              "Ncells   663660  35.5   31281334  1670.7   22909774  1223.6\n",
              "Vcells 17941311 136.9 5475926500 41778.1 6843588264 52212.5"
            ]
          },
          "metadata": {},
          "output_type": "display_data"
        }
      ],
      "source": [
        "# limpio la memoria\n",
        "rm(list = ls()) # remove all objects\n",
        "gc() # garbage collection"
      ]
    },
    {
      "cell_type": "code",
      "execution_count": null,
      "metadata": {
        "vscode": {
          "languageId": "r"
        },
        "id": "OJ7aNLqjQjuk",
        "outputId": "b5243754-305b-4e85-babb-39252122649c"
      },
      "outputs": [
        {
          "name": "stderr",
          "output_type": "stream",
          "text": [
            "Loading required package: lightgbm\n",
            "\n"
          ]
        }
      ],
      "source": [
        "require(\"data.table\")\n",
        "require(\"rlist\")\n",
        "require(\"lightgbm\")"
      ]
    },
    {
      "cell_type": "code",
      "execution_count": null,
      "metadata": {
        "vscode": {
          "languageId": "r"
        },
        "id": "UGa6jm2HQjul",
        "outputId": "c33b1acc-e50f-4b69-e2bc-966d544a2248"
      },
      "outputs": [
        {
          "name": "stderr",
          "output_type": "stream",
          "text": [
            "Loading required package: DiceKriging\n",
            "\n",
            "Loading required package: mlrMBO\n",
            "\n",
            "Loading required package: mlr\n",
            "\n",
            "Loading required package: ParamHelpers\n",
            "\n",
            "Warning message: 'mlr' is in 'maintenance-only' mode since July 2019.\n",
            "Future development will only happen in 'mlr3'\n",
            "(<https://mlr3.mlr-org.com>). Due to the focus on 'mlr3' there might be\n",
            "uncaught bugs meanwhile in {mlr} - please consider switching.\n",
            "\n",
            "Loading required package: smoof\n",
            "\n",
            "Loading required package: checkmate\n",
            "\n",
            "\n",
            "Attaching package: ‘checkmate’\n",
            "\n",
            "\n",
            "The following object is masked from ‘package:DiceKriging’:\n",
            "\n",
            "    checkNames\n",
            "\n",
            "\n"
          ]
        }
      ],
      "source": [
        "# paquetes necesarios para la Bayesian Optimization\n",
        "require(\"DiceKriging\")\n",
        "require(\"mlrMBO\")\n",
        "\n",
        "# para que se detenga ante el primer error\n",
        "# y muestre el stack de funciones invocadas\n",
        "options(error = function() {\n",
        "  traceback(20)\n",
        "  options(error = NULL)\n",
        "  stop(\"exiting after script error\")\n",
        "})"
      ]
    },
    {
      "cell_type": "markdown",
      "metadata": {
        "id": "36dIYZCjQjul"
      },
      "source": [
        "## Definición de Parametros"
      ]
    },
    {
      "cell_type": "code",
      "execution_count": null,
      "metadata": {
        "vscode": {
          "languageId": "r"
        },
        "id": "eH8qqs4yQjum"
      },
      "outputs": [],
      "source": [
        "# defino los parametros de la corrida, en una lista, la variable global  PARAM\n",
        "#  muy pronto esto se leera desde un archivo formato .yaml\n",
        "PARAM <- list()\n",
        "\n",
        "PARAM$experimento <- \"HT8230 (Clase 13)\"\n",
        "\n",
        "PARAM$input$dataset <- \"datasets/competencia_03_clase13.csv.gz\"\n",
        "\n",
        "# los meses en los que vamos a entrenar\n",
        "#  mucha magia emerger de esta eleccion\n",
        "PARAM$input$testing <- c(202107) # Último mes, lo más cercano al 202109 de kaggle\n",
        "PARAM$input$validation <- c(202106)\n",
        "PARAM$input$training <- c(202105, 202104, 202103, 202102, 202101,\n",
        " 202012, 202011, 202010, 202009, 202008, 202002, 202001, 201912, 201911,\n",
        " 201910, 201909, 201908, 201907, 201906, 201905, 201904, 201903, 201902, 201901) # Salteo los meses de la pandemia\n",
        "\n",
        "# un undersampling de 0.1  toma solo el 10% de los CONTINUA\n",
        "PARAM$trainingstrategy$undersampling <- 1.0\n",
        "PARAM$trainingstrategy$semilla_azar <- c(279511, 279523, 279541, 279551, 279571)  # Aqui poner su  primer  semilla/ pongo todas mis semillas\n",
        "\n",
        "PARAM$hyperparametertuning$POS_ganancia <- 273000\n",
        "PARAM$hyperparametertuning$NEG_ganancia <- -7000\n",
        "\n",
        "# Aqui va semilla\n",
        "PARAM$lgb_semilla <- 279511"
      ]
    },
    {
      "cell_type": "code",
      "execution_count": null,
      "metadata": {
        "vscode": {
          "languageId": "r"
        },
        "id": "jdo0rPCTQjum"
      },
      "outputs": [],
      "source": [
        "# Hiperparametros FIJOS de  lightgbm\n",
        "PARAM$lgb_basicos <- list(\n",
        "  boosting = \"gbdt\", # puede ir  dart  , ni pruebe random_forest\n",
        "  objective = \"binary\",\n",
        "  metric = \"custom\",\n",
        "  first_metric_only = TRUE,\n",
        "  boost_from_average = TRUE,\n",
        "  feature_pre_filter = FALSE,\n",
        "  force_row_wise = TRUE, # para reducir warnings\n",
        "  verbosity = -100,\n",
        "  max_depth = -1L, # -1 significa no limitar,  por ahora lo dejo fijo\n",
        "  min_gain_to_split = 0.0, # min_gain_to_split >= 0.0\n",
        "  min_sum_hessian_in_leaf = 0.001, #  min_sum_hessian_in_leaf >= 0.0\n",
        "  lambda_l1 = 0.0, # lambda_l1 >= 0.0\n",
        "  lambda_l2 = 0.0, # lambda_l2 >= 0.0\n",
        "  max_bin = 31L, # lo debo dejar fijo, no participa de la BO\n",
        "  num_iterations = 9999, # un numero muy grande, lo limita early_stopping_rounds\n",
        "\n",
        "  bagging_fraction = 1.0, # 0.0 < bagging_fraction <= 1.0\n",
        "  pos_bagging_fraction = 1.0, # 0.0 < pos_bagging_fraction <= 1.0\n",
        "  neg_bagging_fraction = 1.0, # 0.0 < neg_bagging_fraction <= 1.0\n",
        "  is_unbalance = FALSE, #\n",
        "  scale_pos_weight = 1.0, # scale_pos_weight > 0.0\n",
        "\n",
        "  drop_rate = 0.1, # 0.0 < neg_bagging_fraction <= 1.0\n",
        "  max_drop = 50, # <=0 means no limit\n",
        "  skip_drop = 0.5, # 0.0 <= skip_drop <= 1.0\n",
        "\n",
        "  extra_trees = TRUE, # Magic Sauce\n",
        "\n",
        "  seed = PARAM$lgb_semilla\n",
        ")"
      ]
    },
    {
      "cell_type": "code",
      "execution_count": null,
      "metadata": {
        "vscode": {
          "languageId": "r"
        },
        "id": "xGwUqRRUQjun"
      },
      "outputs": [],
      "source": [
        "# Aqui se cargan los hiperparametros que se optimizan\n",
        "#  en la Bayesian Optimization\n",
        "PARAM$bo_lgb <- makeParamSet(\n",
        "  makeNumericParam(\"learning_rate\", lower = 0.02, upper = 0.3),\n",
        "  makeNumericParam(\"feature_fraction\", lower = 0.01, upper = 1.0),\n",
        "  makeIntegerParam(\"num_leaves\", lower = 8L, upper = 1024L),\n",
        "  makeIntegerParam(\"min_data_in_leaf\", lower = 100L, upper = 50000L)\n",
        ")\n",
        "\n",
        "# si usted es ambicioso, y tiene paciencia, podria subir este valor a 100\n",
        "PARAM$bo_iteraciones <- 50 # iteraciones de la Optimizacion Bayesiana"
      ]
    },
    {
      "cell_type": "code",
      "execution_count": null,
      "metadata": {
        "vscode": {
          "languageId": "r"
        },
        "id": "se5u2EeeQjun"
      },
      "outputs": [],
      "source": [
        "# graba a un archivo los componentes de lista\n",
        "# para el primer registro, escribe antes los titulos\n",
        "\n",
        "loguear <- function(\n",
        "    reg, arch = NA, folder = \"./exp/\",\n",
        "    ext = \".txt\", verbose = TRUE) {\n",
        "  archivo <- arch\n",
        "  if (is.na(arch)) archivo <- paste0(folder, substitute(reg), ext)\n",
        "\n",
        "  if (!file.exists(archivo)) # Escribo los titulos\n",
        "    {\n",
        "      linea <- paste0(\n",
        "        \"fecha\\t\",\n",
        "        paste(list.names(reg), collapse = \"\\t\"), \"\\n\"\n",
        "      )\n",
        "\n",
        "      cat(linea, file = archivo)\n",
        "    }\n",
        "\n",
        "  linea <- paste0(\n",
        "    format(Sys.time(), \"%Y%m%d %H%M%S\"), \"\\t\", # la fecha y hora\n",
        "    gsub(\", \", \"\\t\", toString(reg)), \"\\n\"\n",
        "  )\n",
        "\n",
        "  cat(linea, file = archivo, append = TRUE) # grabo al archivo\n",
        "\n",
        "  if (verbose) cat(linea) # imprimo por pantalla\n",
        "}"
      ]
    },
    {
      "cell_type": "code",
      "execution_count": null,
      "metadata": {
        "vscode": {
          "languageId": "r"
        },
        "id": "o_RrpvxcQjuo"
      },
      "outputs": [],
      "source": [
        "#------------------------------------------------------------------------------\n",
        "GLOBAL_arbol <- 0L\n",
        "GLOBAL_gan_max <- -Inf\n",
        "vcant_optima <- c()\n",
        "\n",
        "fganancia_lgbm_meseta <- function(probs, datos) {\n",
        "  vlabels <- get_field(datos, \"label\")\n",
        "  vpesos <- get_field(datos, \"weight\")\n",
        "\n",
        "\n",
        "  GLOBAL_arbol <<- GLOBAL_arbol + 1\n",
        "  tbl <- as.data.table(list(\n",
        "    \"prob\" = probs,\n",
        "    \"gan\" = ifelse(vlabels == 1 & vpesos > 1,\n",
        "      PARAM$hyperparametertuning$POS_ganancia,\n",
        "      PARAM$hyperparametertuning$NEG_ganancia  )\n",
        "  ))\n",
        "\n",
        "  setorder(tbl, -prob)\n",
        "  tbl[, posicion := .I]\n",
        "  tbl[, gan_acum := cumsum(gan)]\n",
        "\n",
        "  tbl[, gan_suavizada :=\n",
        "    frollmean(\n",
        "      x = gan_acum, n = 2001, align = \"center\",\n",
        "      na.rm = TRUE, hasNA = TRUE\n",
        "    )]\n",
        "\n",
        "  gan <- tbl[, max(gan_suavizada, na.rm = TRUE)]\n",
        "\n",
        "\n",
        "  pos <- which.max(tbl[, gan_suavizada])\n",
        "  vcant_optima <<- c(vcant_optima, pos)\n",
        "\n",
        "  if (GLOBAL_arbol %% 10 == 0) {\n",
        "    if (gan > GLOBAL_gan_max) GLOBAL_gan_max <<- gan\n",
        "\n",
        "    cat(\"\\r\")\n",
        "    cat(\n",
        "      \"Validate \", GLOBAL_iteracion, \" \", \" \",\n",
        "      GLOBAL_arbol, \"  \", gan, \"   \", GLOBAL_gan_max, \"   \"\n",
        "    )\n",
        "  }\n",
        "\n",
        "\n",
        "  return(list(\n",
        "    \"name\" = \"ganancia\",\n",
        "    \"value\" = gan,\n",
        "    \"higher_better\" = TRUE\n",
        "  ))\n",
        "}"
      ]
    },
    {
      "cell_type": "code",
      "execution_count": null,
      "metadata": {
        "vscode": {
          "languageId": "r"
        },
        "id": "JK6YWBFqQjup"
      },
      "outputs": [],
      "source": [
        "#------------------------------------------------------------------------------\n",
        "\n",
        "EstimarGanancia_lightgbm <- function(x) {\n",
        "  gc()\n",
        "  GLOBAL_iteracion <<- GLOBAL_iteracion + 1L\n",
        "\n",
        "  # hago la union de los parametros basicos y los moviles que vienen en x\n",
        "  param_completo <- c(PARAM$lgb_basicos, x)\n",
        "\n",
        "  param_completo$early_stopping_rounds <-\n",
        "    as.integer(400 + 4 / param_completo$learning_rate)\n",
        "\n",
        "  GLOBAL_arbol <<- 0L\n",
        "  GLOBAL_gan_max <<- -Inf\n",
        "  vcant_optima <<- c()\n",
        "  set.seed(PARAM$lgb_semilla, kind = \"L'Ecuyer-CMRG\")\n",
        "  modelo_train <- lgb.train(\n",
        "    data = dtrain,\n",
        "    valids = list(valid = dvalidate),\n",
        "    eval = fganancia_lgbm_meseta,\n",
        "    param = param_completo,\n",
        "    verbose = -100\n",
        "  )\n",
        "\n",
        "  cat(\"\\n\")\n",
        "\n",
        "  cant_corte <- vcant_optima[modelo_train$best_iter]\n",
        "\n",
        "  # aplico el modelo a testing y calculo la ganancia\n",
        "  prediccion <- predict(\n",
        "    modelo_train,\n",
        "    data.matrix(dataset_test[, campos_buenos, with = FALSE])\n",
        "  )\n",
        "\n",
        "  tbl <- copy(dataset_test[, list(\"gan\" = ifelse(clase_ternaria == \"BAJA+2\",\n",
        "    PARAM$hyperparametertuning$POS_ganancia,\n",
        "    PARAM$hyperparametertuning$NEG_ganancia))])\n",
        "\n",
        "  tbl[, prob := prediccion]\n",
        "  setorder(tbl, -prob)\n",
        "  tbl[, gan_acum := cumsum(gan)]\n",
        "  tbl[, gan_suavizada := frollmean(\n",
        "    x = gan_acum, n = 2001,\n",
        "    align = \"center\", na.rm = TRUE, hasNA = TRUE\n",
        "  )]\n",
        "\n",
        "\n",
        "  ganancia_test <- tbl[, max(gan_suavizada, na.rm = TRUE)]\n",
        "\n",
        "  cantidad_test_normalizada <- which.max(tbl[, gan_suavizada])\n",
        "\n",
        "  rm(tbl)\n",
        "  gc()\n",
        "\n",
        "  ganancia_test_normalizada <- ganancia_test\n",
        "\n",
        "\n",
        "  # voy grabando las mejores column importance\n",
        "  if (ganancia_test_normalizada > GLOBAL_gananciamax) {\n",
        "    GLOBAL_gananciamax <<- ganancia_test_normalizada\n",
        "    tb_importancia <- as.data.table(lgb.importance(modelo_train))\n",
        "\n",
        "    fwrite(tb_importancia,\n",
        "      file = paste0(\"impo_\", sprintf(\"%03d\", GLOBAL_iteracion), \".txt\"),\n",
        "      sep = \"\\t\"\n",
        "    )\n",
        "\n",
        "    rm(tb_importancia)\n",
        "  }\n",
        "\n",
        "\n",
        "  # logueo final\n",
        "  ds <- list(\"cols\" = ncol(dtrain), \"rows\" = nrow(dtrain))\n",
        "  xx <- c(ds, copy(param_completo))\n",
        "\n",
        "  xx$early_stopping_rounds <- NULL\n",
        "  xx$num_iterations <- modelo_train$best_iter\n",
        "  xx$estimulos <- cantidad_test_normalizada\n",
        "  xx$ganancia <- ganancia_test_normalizada\n",
        "  xx$iteracion_bayesiana <- GLOBAL_iteracion\n",
        "\n",
        "  loguear(xx, arch = \"BO_log.txt\")\n",
        "\n",
        "  set.seed(PARAM$lgb_semilla, kind = \"L'Ecuyer-CMRG\")\n",
        "  return(ganancia_test_normalizada)\n",
        "}"
      ]
    },
    {
      "cell_type": "markdown",
      "metadata": {
        "id": "fWCLgOkyQjup"
      },
      "source": [
        "## Aquí empieza el programa"
      ]
    },
    {
      "cell_type": "code",
      "execution_count": null,
      "metadata": {
        "vscode": {
          "languageId": "r"
        },
        "id": "-ut1l0fiQjuq"
      },
      "outputs": [],
      "source": [
        "# Aqui empieza el programa\n",
        "\n",
        "# Aqui se debe poner la carpeta de la computadora local\n",
        "setwd(\"~/buckets/b1/\") # Establezco el Working Directory\n",
        "\n",
        "# cargo el dataset donde voy a entrenar el modelo\n",
        "dataset <- fread(PARAM$input$dataset)"
      ]
    },
    {
      "cell_type": "code",
      "execution_count": null,
      "metadata": {
        "vscode": {
          "languageId": "r"
        },
        "id": "IDkFbpO4Qjuq"
      },
      "outputs": [],
      "source": [
        "# creo la carpeta donde va el experimento\n",
        "dir.create(\"./exp/\", showWarnings = FALSE)\n",
        "dir.create(paste0(\"./exp/\", PARAM$experimento, \"/\"), showWarnings = FALSE)\n",
        "\n",
        "# Establezco el Working Directory DEL EXPERIMENTO\n",
        "setwd(paste0(\"./exp/\", PARAM$experimento, \"/\"))\n",
        "\n",
        "# en estos archivos quedan los resultados\n",
        "kbayesiana <- paste0(PARAM$experimento, \".RDATA\")\n",
        "klog <- paste0(PARAM$experimento, \".txt\")\n"
      ]
    },
    {
      "cell_type": "code",
      "execution_count": null,
      "metadata": {
        "vscode": {
          "languageId": "r"
        },
        "id": "9t2wk8qdQjuq"
      },
      "outputs": [],
      "source": [
        "# Catastrophe Analysis  -------------------------------------------------------\n",
        "# deben ir cosas de este estilo\n",
        "#   dataset[foto_mes == 202006, active_quarter := NA]\n",
        "\n",
        "# Data Drifting\n",
        "# por ahora, no hago nada\n",
        "\n",
        "\n",
        "# Feature Engineering Historico  ----------------------------------------------\n",
        "#   aqui deben calcularse los  lags y  lag_delta\n",
        "#   Sin lags no hay paraiso !  corta la bocha"
      ]
    },
    {
      "cell_type": "code",
      "execution_count": null,
      "metadata": {
        "vscode": {
          "languageId": "r"
        },
        "id": "tByGbma9Qjur"
      },
      "outputs": [],
      "source": []
    },
    {
      "cell_type": "code",
      "execution_count": null,
      "metadata": {
        "vscode": {
          "languageId": "r"
        },
        "id": "8bJ3PGNGQjur"
      },
      "outputs": [],
      "source": [
        "# ahora SI comienza la optimizacion Bayesiana\n",
        "\n",
        "GLOBAL_iteracion <- 0 # inicializo la variable global\n",
        "GLOBAL_gananciamax <- -1 # inicializo la variable global\n",
        "\n",
        "# si ya existe el archivo log, traigo hasta donde llegue\n",
        "if (file.exists(klog)) {\n",
        "  tabla_log <- fread(klog)\n",
        "  GLOBAL_iteracion <- nrow(tabla_log)\n",
        "  GLOBAL_gananciamax <- tabla_log[, max(ganancia)]\n",
        "}\n"
      ]
    },
    {
      "cell_type": "code",
      "execution_count": null,
      "metadata": {
        "vscode": {
          "languageId": "r"
        },
        "id": "tJ_tQX-cQjur",
        "outputId": "a230b110-cc6f-451c-936b-59aa9f80955f"
      },
      "outputs": [
        {
          "data": {
            "text/html": [
              "<table class=\"dataframe\">\n",
              "<caption>A data.table: 4893028 × 603</caption>\n",
              "<thead>\n",
              "\t<tr><th scope=col>numero_de_cliente</th><th scope=col>foto_mes</th><th scope=col>active_quarter</th><th scope=col>cliente_vip</th><th scope=col>internet</th><th scope=col>cliente_edad</th><th scope=col>cliente_antiguedad</th><th scope=col>mrentabilidad</th><th scope=col>mrentabilidad_annual</th><th scope=col>mcomisiones</th><th scope=col>⋯</th><th scope=col>lag_6_Visa_mconsumototal</th><th scope=col>lag_1_Visa_cconsumos</th><th scope=col>lag_3_Visa_cconsumos</th><th scope=col>lag_6_Visa_cconsumos</th><th scope=col>lag_1_Visa_cadelantosefectivo</th><th scope=col>lag_3_Visa_cadelantosefectivo</th><th scope=col>lag_6_Visa_cadelantosefectivo</th><th scope=col>lag_1_Visa_mpagominimo</th><th scope=col>lag_3_Visa_mpagominimo</th><th scope=col>lag_6_Visa_mpagominimo</th></tr>\n",
              "\t<tr><th scope=col>&lt;int&gt;</th><th scope=col>&lt;int&gt;</th><th scope=col>&lt;int&gt;</th><th scope=col>&lt;int&gt;</th><th scope=col>&lt;int&gt;</th><th scope=col>&lt;int&gt;</th><th scope=col>&lt;int&gt;</th><th scope=col>&lt;dbl&gt;</th><th scope=col>&lt;dbl&gt;</th><th scope=col>&lt;dbl&gt;</th><th scope=col>⋯</th><th scope=col>&lt;dbl&gt;</th><th scope=col>&lt;int&gt;</th><th scope=col>&lt;int&gt;</th><th scope=col>&lt;int&gt;</th><th scope=col>&lt;int&gt;</th><th scope=col>&lt;int&gt;</th><th scope=col>&lt;int&gt;</th><th scope=col>&lt;dbl&gt;</th><th scope=col>&lt;dbl&gt;</th><th scope=col>&lt;dbl&gt;</th></tr>\n",
              "</thead>\n",
              "<tbody>\n",
              "\t<tr><td>29188883</td><td>201901</td><td>1</td><td>0</td><td>1</td><td>64</td><td>296</td><td>64862.09</td><td>459723.2</td><td> 988.28</td><td>⋯</td><td>     NA</td><td>NA</td><td>NA</td><td>NA</td><td>NA</td><td>NA</td><td>NA</td><td>    NA</td><td>    NA</td><td>    NA</td></tr>\n",
              "\t<tr><td>29188883</td><td>201902</td><td>1</td><td>0</td><td>1</td><td>64</td><td>297</td><td>65846.80</td><td>500339.5</td><td> 985.74</td><td>⋯</td><td>     NA</td><td> 1</td><td>NA</td><td>NA</td><td> 0</td><td>NA</td><td>NA</td><td> 58.65</td><td>    NA</td><td>    NA</td></tr>\n",
              "\t<tr><td>29188883</td><td>201903</td><td>1</td><td>0</td><td>1</td><td>64</td><td>298</td><td>78540.39</td><td>550855.0</td><td>1296.04</td><td>⋯</td><td>     NA</td><td> 1</td><td>NA</td><td>NA</td><td> 0</td><td>NA</td><td>NA</td><td> 58.65</td><td>    NA</td><td>    NA</td></tr>\n",
              "\t<tr><td>29188883</td><td>201904</td><td>1</td><td>0</td><td>1</td><td>64</td><td>299</td><td>75803.11</td><td>599562.7</td><td>1270.45</td><td>⋯</td><td>     NA</td><td> 1</td><td> 1</td><td>NA</td><td> 0</td><td> 0</td><td>NA</td><td> 70.38</td><td> 58.65</td><td>    NA</td></tr>\n",
              "\t<tr><td>29188883</td><td>201905</td><td>1</td><td>0</td><td>1</td><td>64</td><td>300</td><td>    0.00</td><td>     0.0</td><td>   0.00</td><td>⋯</td><td>     NA</td><td> 1</td><td> 1</td><td>NA</td><td> 0</td><td> 0</td><td>NA</td><td> 70.38</td><td> 58.65</td><td>    NA</td></tr>\n",
              "\t<tr><td>29188883</td><td>201906</td><td>1</td><td>0</td><td>1</td><td>64</td><td>301</td><td>69725.29</td><td>681452.9</td><td>1280.28</td><td>⋯</td><td>     NA</td><td> 1</td><td> 1</td><td>NA</td><td> 0</td><td> 0</td><td>NA</td><td> 70.38</td><td> 70.38</td><td>    NA</td></tr>\n",
              "\t<tr><td>29188883</td><td>201907</td><td>1</td><td>0</td><td>1</td><td>64</td><td>302</td><td>68145.47</td><td>710943.3</td><td>1312.07</td><td>⋯</td><td>1102.50</td><td> 1</td><td> 1</td><td> 1</td><td> 0</td><td> 0</td><td> 0</td><td> 82.11</td><td> 70.38</td><td> 58.65</td></tr>\n",
              "\t<tr><td>29188883</td><td>201908</td><td>1</td><td>0</td><td>1</td><td>64</td><td>303</td><td>66658.18</td><td>739048.6</td><td>1466.40</td><td>⋯</td><td>1085.02</td><td> 1</td><td> 1</td><td> 1</td><td> 0</td><td> 0</td><td> 0</td><td> 70.38</td><td> 70.38</td><td> 58.65</td></tr>\n",
              "\t<tr><td>29188883</td><td>201909</td><td>1</td><td>0</td><td>1</td><td>64</td><td>304</td><td>62359.16</td><td>754323.9</td><td>1490.15</td><td>⋯</td><td>1324.31</td><td> 1</td><td> 1</td><td> 1</td><td> 0</td><td> 0</td><td> 0</td><td> 82.11</td><td> 82.11</td><td> 70.38</td></tr>\n",
              "\t<tr><td>29188883</td><td>201910</td><td>1</td><td>0</td><td>1</td><td>64</td><td>305</td><td>    0.00</td><td>     0.0</td><td>   0.00</td><td>⋯</td><td>1300.85</td><td> 1</td><td> 1</td><td> 1</td><td> 0</td><td> 0</td><td> 0</td><td> 93.84</td><td> 70.38</td><td> 70.38</td></tr>\n",
              "\t<tr><td>29188883</td><td>201911</td><td>1</td><td>0</td><td>1</td><td>64</td><td>306</td><td>46377.86</td><td>757484.6</td><td>1476.56</td><td>⋯</td><td>1364.19</td><td> 1</td><td> 1</td><td> 1</td><td> 0</td><td> 0</td><td> 0</td><td> 82.11</td><td> 82.11</td><td> 70.38</td></tr>\n",
              "\t<tr><td>29188883</td><td>201912</td><td>1</td><td>0</td><td>1</td><td>65</td><td>307</td><td>46752.34</td><td>765272.5</td><td>1506.26</td><td>⋯</td><td>1592.93</td><td> 1</td><td> 1</td><td> 1</td><td> 0</td><td> 0</td><td> 0</td><td> 35.19</td><td> 93.84</td><td> 82.11</td></tr>\n",
              "\t<tr><td>29188883</td><td>202001</td><td>1</td><td>0</td><td>1</td><td>65</td><td>308</td><td>51195.45</td><td>751605.9</td><td>1832.97</td><td>⋯</td><td>1364.19</td><td> 1</td><td> 1</td><td> 1</td><td> 0</td><td> 0</td><td> 0</td><td> 93.84</td><td> 82.11</td><td> 70.38</td></tr>\n",
              "\t<tr><td>29188883</td><td>202002</td><td>1</td><td>0</td><td>1</td><td>65</td><td>309</td><td>46154.87</td><td>731914.0</td><td>1826.65</td><td>⋯</td><td>1521.38</td><td> 1</td><td> 1</td><td> 1</td><td> 0</td><td> 0</td><td> 0</td><td>  0.00</td><td> 35.19</td><td> 82.11</td></tr>\n",
              "\t<tr><td>29188883</td><td>202003</td><td>1</td><td>0</td><td>1</td><td>65</td><td>310</td><td>49214.16</td><td>702587.8</td><td>1875.27</td><td>⋯</td><td>1683.25</td><td> 1</td><td> 1</td><td> 1</td><td> 0</td><td> 0</td><td> 0</td><td> 93.84</td><td> 93.84</td><td> 93.84</td></tr>\n",
              "\t<tr><td>29188883</td><td>202004</td><td>1</td><td>0</td><td>1</td><td>65</td><td>311</td><td>41622.82</td><td>668407.4</td><td>1828.91</td><td>⋯</td><td>1554.22</td><td> 1</td><td> 1</td><td> 1</td><td> 0</td><td> 0</td><td> 0</td><td> 93.84</td><td>  0.00</td><td> 82.11</td></tr>\n",
              "\t<tr><td>29188883</td><td>202005</td><td>1</td><td>0</td><td>1</td><td>65</td><td>312</td><td>43221.27</td><td>634903.2</td><td>1867.66</td><td>⋯</td><td>1870.93</td><td> 1</td><td> 1</td><td> 1</td><td> 0</td><td> 0</td><td> 0</td><td> 93.84</td><td> 93.84</td><td> 35.19</td></tr>\n",
              "\t<tr><td>29188883</td><td>202006</td><td>0</td><td>0</td><td>0</td><td>65</td><td>313</td><td>    0.00</td><td>     0.0</td><td>   0.00</td><td>⋯</td><td>1834.57</td><td> 1</td><td> 1</td><td> 1</td><td> 0</td><td> 0</td><td> 0</td><td>129.03</td><td> 93.84</td><td> 93.84</td></tr>\n",
              "\t<tr><td>29188883</td><td>202007</td><td>1</td><td>0</td><td>1</td><td>65</td><td>314</td><td>44690.37</td><td>584074.3</td><td>1871.04</td><td>⋯</td><td>1658.62</td><td> 1</td><td> 1</td><td> 1</td><td> 0</td><td> 0</td><td> 0</td><td>105.57</td><td> 93.84</td><td>  0.00</td></tr>\n",
              "\t<tr><td>29188883</td><td>202008</td><td>1</td><td>0</td><td>1</td><td>65</td><td>315</td><td>44696.16</td><td>562112.3</td><td>1869.56</td><td>⋯</td><td>1693.81</td><td> 1</td><td> 1</td><td> 1</td><td> 0</td><td> 0</td><td> 0</td><td>117.30</td><td>129.03</td><td> 93.84</td></tr>\n",
              "\t<tr><td>29188883</td><td>202009</td><td>1</td><td>0</td><td>1</td><td>65</td><td>316</td><td>43476.30</td><td>543229.4</td><td>1859.85</td><td>⋯</td><td>1713.75</td><td> 1</td><td> 1</td><td> 1</td><td> 0</td><td> 0</td><td> 0</td><td>129.03</td><td>105.57</td><td> 93.84</td></tr>\n",
              "\t<tr><td>29188883</td><td>202010</td><td>1</td><td>0</td><td>0</td><td>65</td><td>317</td><td>46072.54</td><td>545825.6</td><td>1866.77</td><td>⋯</td><td>1826.36</td><td> 1</td><td> 1</td><td> 1</td><td> 0</td><td> 0</td><td> 0</td><td>117.30</td><td>117.30</td><td> 93.84</td></tr>\n",
              "\t<tr><td>29188883</td><td>202011</td><td>1</td><td>0</td><td>0</td><td>65</td><td>318</td><td>46179.64</td><td>545627.4</td><td>1853.83</td><td>⋯</td><td>2342.48</td><td> 1</td><td> 1</td><td> 1</td><td> 0</td><td> 0</td><td> 0</td><td>140.76</td><td>129.03</td><td>129.03</td></tr>\n",
              "\t<tr><td>29188883</td><td>202012</td><td>1</td><td>0</td><td>0</td><td>66</td><td>319</td><td>46508.31</td><td>545383.4</td><td>1840.35</td><td>⋯</td><td>1930.75</td><td> 1</td><td> 1</td><td> 1</td><td> 0</td><td> 0</td><td> 0</td><td>129.03</td><td>117.30</td><td>105.57</td></tr>\n",
              "\t<tr><td>29188883</td><td>202101</td><td>1</td><td>0</td><td>0</td><td>66</td><td>320</td><td>37999.47</td><td>532187.4</td><td>1902.48</td><td>⋯</td><td>2219.31</td><td> 1</td><td> 1</td><td> 1</td><td> 0</td><td> 0</td><td> 0</td><td>152.49</td><td>140.76</td><td>117.30</td></tr>\n",
              "\t<tr><td>29188883</td><td>202102</td><td>1</td><td>0</td><td>0</td><td>66</td><td>321</td><td>34293.96</td><td>520326.5</td><td>1870.19</td><td>⋯</td><td>2446.87</td><td> 1</td><td> 1</td><td> 1</td><td> 0</td><td> 0</td><td> 0</td><td>187.68</td><td>129.03</td><td>129.03</td></tr>\n",
              "\t<tr><td>29188883</td><td>202103</td><td>1</td><td>0</td><td>0</td><td>66</td><td>322</td><td>37358.00</td><td>508470.3</td><td>2441.65</td><td>⋯</td><td>2076.21</td><td> 1</td><td> 1</td><td> 1</td><td> 0</td><td> 0</td><td> 0</td><td>175.95</td><td>152.49</td><td>117.30</td></tr>\n",
              "\t<tr><td>29188883</td><td>202104</td><td>1</td><td>0</td><td>0</td><td>66</td><td>323</td><td>33686.53</td><td>500534.0</td><td> 168.98</td><td>⋯</td><td>2639.25</td><td> 1</td><td> 1</td><td> 1</td><td> 0</td><td> 0</td><td> 0</td><td>234.60</td><td>187.68</td><td>140.76</td></tr>\n",
              "\t<tr><td>29188883</td><td>202105</td><td>1</td><td>0</td><td>0</td><td>66</td><td>324</td><td>34570.46</td><td>491883.2</td><td> 186.96</td><td>⋯</td><td>2381.19</td><td> 1</td><td> 1</td><td> 1</td><td> 0</td><td> 0</td><td> 0</td><td>187.68</td><td>175.95</td><td>129.03</td></tr>\n",
              "\t<tr><td>29188883</td><td>202106</td><td>1</td><td>0</td><td>0</td><td>66</td><td>325</td><td>35838.57</td><td>485370.4</td><td>2435.79</td><td>⋯</td><td>2662.71</td><td> 1</td><td> 1</td><td> 1</td><td> 0</td><td> 0</td><td> 0</td><td>258.06</td><td>234.60</td><td>152.49</td></tr>\n",
              "\t<tr><td>⋮</td><td>⋮</td><td>⋮</td><td>⋮</td><td>⋮</td><td>⋮</td><td>⋮</td><td>⋮</td><td>⋮</td><td>⋮</td><td>⋱</td><td>⋮</td><td>⋮</td><td>⋮</td><td>⋮</td><td>⋮</td><td>⋮</td><td>⋮</td><td>⋮</td><td>⋮</td><td>⋮</td></tr>\n",
              "\t<tr><td>137415220</td><td>202101</td><td>1</td><td>0</td><td>0</td><td>35</td><td>58</td><td>3107.96</td><td>39771.67</td><td>1381.72</td><td>⋯</td><td>29729.40</td><td> 2</td><td> 6</td><td> 6</td><td> 0</td><td> 0</td><td> 0</td><td>   0.00</td><td>   0.00</td><td>1219.92</td></tr>\n",
              "\t<tr><td>137415220</td><td>202102</td><td>1</td><td>0</td><td>0</td><td>35</td><td>59</td><td>2744.45</td><td>36827.30</td><td>2790.54</td><td>⋯</td><td>11399.94</td><td> 3</td><td> 2</td><td> 3</td><td> 0</td><td> 0</td><td> 0</td><td>   0.00</td><td>   0.00</td><td>5372.34</td></tr>\n",
              "\t<tr><td>137415220</td><td>202103</td><td>1</td><td>0</td><td>0</td><td>35</td><td>60</td><td>3702.52</td><td>38017.79</td><td>1819.21</td><td>⋯</td><td>32792.84</td><td> 1</td><td> 2</td><td> 4</td><td> 0</td><td> 0</td><td> 0</td><td>   0.00</td><td>   0.00</td><td>   0.00</td></tr>\n",
              "\t<tr><td>137415220</td><td>202104</td><td>1</td><td>0</td><td>1</td><td>35</td><td>61</td><td>3794.69</td><td>40662.34</td><td>1637.75</td><td>⋯</td><td>23528.26</td><td> 2</td><td> 3</td><td> 6</td><td> 0</td><td> 0</td><td> 0</td><td>3706.68</td><td>   0.00</td><td>   0.00</td></tr>\n",
              "\t<tr><td>137415220</td><td>202105</td><td>1</td><td>0</td><td>0</td><td>35</td><td>62</td><td>3036.11</td><td>41259.10</td><td>1732.68</td><td>⋯</td><td> 4760.13</td><td> 0</td><td> 1</td><td> 2</td><td> 0</td><td> 0</td><td> 0</td><td>3214.02</td><td>   0.00</td><td>   0.00</td></tr>\n",
              "\t<tr><td>137415220</td><td>202106</td><td>1</td><td>0</td><td>0</td><td>35</td><td>63</td><td>3068.14</td><td>40713.05</td><td>1609.30</td><td>⋯</td><td> 4751.36</td><td> 1</td><td> 2</td><td> 2</td><td> 0</td><td> 0</td><td> 0</td><td>4187.61</td><td>3706.68</td><td>   0.00</td></tr>\n",
              "\t<tr><td>137415220</td><td>202107</td><td>1</td><td>0</td><td>0</td><td>35</td><td>64</td><td>3532.02</td><td>39046.56</td><td>2240.67</td><td>⋯</td><td>11601.12</td><td> 1</td><td> 0</td><td> 3</td><td> 0</td><td> 0</td><td> 0</td><td>   0.00</td><td>3214.02</td><td>   0.00</td></tr>\n",
              "\t<tr><td>137415220</td><td>202108</td><td>1</td><td>0</td><td>0</td><td>35</td><td>65</td><td>3257.39</td><td>38864.34</td><td>2710.67</td><td>⋯</td><td> 1058.04</td><td> 1</td><td> 1</td><td> 1</td><td> 0</td><td> 0</td><td> 0</td><td>4046.85</td><td>4187.61</td><td>   0.00</td></tr>\n",
              "\t<tr><td>137415220</td><td>202109</td><td>1</td><td>0</td><td>0</td><td>36</td><td>66</td><td>4155.10</td><td>38588.61</td><td>3847.78</td><td>⋯</td><td>20126.35</td><td> 1</td><td> 1</td><td> 2</td><td> 0</td><td> 0</td><td> 0</td><td>4046.85</td><td>   0.00</td><td>3706.68</td></tr>\n",
              "\t<tr><td>137437628</td><td>201906</td><td>1</td><td>0</td><td>1</td><td>39</td><td>38</td><td> 763.27</td><td> 7317.99</td><td> 101.99</td><td>⋯</td><td>      NA</td><td>NA</td><td>NA</td><td>NA</td><td>NA</td><td>NA</td><td>NA</td><td>     NA</td><td>     NA</td><td>     NA</td></tr>\n",
              "\t<tr><td>137437628</td><td>201907</td><td>1</td><td>0</td><td>1</td><td>39</td><td>39</td><td> 580.92</td><td> 7000.81</td><td>  -5.24</td><td>⋯</td><td>      NA</td><td> 5</td><td>NA</td><td>NA</td><td> 0</td><td>NA</td><td>NA</td><td>1161.27</td><td>     NA</td><td>     NA</td></tr>\n",
              "\t<tr><td>137437628</td><td>201908</td><td>1</td><td>0</td><td>1</td><td>39</td><td>40</td><td> 493.51</td><td> 6741.32</td><td> 304.21</td><td>⋯</td><td>      NA</td><td> 5</td><td>NA</td><td>NA</td><td> 0</td><td>NA</td><td>NA</td><td>1090.89</td><td>     NA</td><td>     NA</td></tr>\n",
              "\t<tr><td>137437628</td><td>201909</td><td>1</td><td>0</td><td>1</td><td>40</td><td>41</td><td> 272.89</td><td> 6411.55</td><td> -60.24</td><td>⋯</td><td>      NA</td><td> 5</td><td> 5</td><td>NA</td><td> 0</td><td> 0</td><td>NA</td><td>1067.43</td><td>1161.27</td><td>     NA</td></tr>\n",
              "\t<tr><td>137437628</td><td>201910</td><td>1</td><td>0</td><td>1</td><td>40</td><td>42</td><td>   0.00</td><td>    0.00</td><td>   0.00</td><td>⋯</td><td>      NA</td><td> 9</td><td> 5</td><td>NA</td><td> 0</td><td> 0</td><td>NA</td><td>1149.54</td><td>1090.89</td><td>     NA</td></tr>\n",
              "\t<tr><td>137437628</td><td>201911</td><td>1</td><td>0</td><td>1</td><td>40</td><td>43</td><td> 141.26</td><td> 5862.65</td><td> 120.12</td><td>⋯</td><td>      NA</td><td>11</td><td> 5</td><td>NA</td><td> 0</td><td> 0</td><td>NA</td><td>1219.92</td><td>1067.43</td><td>     NA</td></tr>\n",
              "\t<tr><td>137437628</td><td>201912</td><td>1</td><td>0</td><td>1</td><td>40</td><td>44</td><td> 279.69</td><td> 5308.98</td><td> 445.18</td><td>⋯</td><td> 4955.01</td><td>18</td><td> 9</td><td> 5</td><td> 0</td><td> 0</td><td> 0</td><td>1419.33</td><td>1149.54</td><td>1161.27</td></tr>\n",
              "\t<tr><td>137437628</td><td>202001</td><td>1</td><td>0</td><td>1</td><td>40</td><td>45</td><td> 715.43</td><td> 5179.74</td><td> 477.32</td><td>⋯</td><td> 2600.76</td><td>12</td><td>11</td><td> 5</td><td> 0</td><td> 0</td><td> 0</td><td>1818.15</td><td>1219.92</td><td>1090.89</td></tr>\n",
              "\t<tr><td>137437628</td><td>202002</td><td>1</td><td>0</td><td>1</td><td>40</td><td>46</td><td> 282.17</td><td> 5332.03</td><td> 343.43</td><td>⋯</td><td> 5347.33</td><td>12</td><td>18</td><td> 5</td><td> 0</td><td> 0</td><td> 0</td><td>1888.53</td><td>1419.33</td><td>1067.43</td></tr>\n",
              "\t<tr><td>137437628</td><td>202003</td><td>1</td><td>0</td><td>1</td><td>40</td><td>47</td><td> 427.11</td><td> 5460.56</td><td> 224.25</td><td>⋯</td><td> 8885.24</td><td>17</td><td>12</td><td> 9</td><td> 0</td><td> 0</td><td> 0</td><td>1677.39</td><td>1818.15</td><td>1149.54</td></tr>\n",
              "\t<tr><td>137437628</td><td>202004</td><td>1</td><td>0</td><td>1</td><td>40</td><td>48</td><td>1086.08</td><td> 6074.49</td><td> 680.96</td><td>⋯</td><td> 6863.02</td><td>15</td><td>12</td><td>11</td><td> 0</td><td> 0</td><td> 0</td><td>1806.42</td><td>1888.53</td><td>1219.92</td></tr>\n",
              "\t<tr><td>137437628</td><td>202005</td><td>1</td><td>0</td><td>1</td><td>40</td><td>49</td><td>1484.36</td><td> 6868.50</td><td> 538.11</td><td>⋯</td><td> 7825.00</td><td>20</td><td>17</td><td>18</td><td> 0</td><td> 0</td><td> 0</td><td>2451.57</td><td>1677.39</td><td>1419.33</td></tr>\n",
              "\t<tr><td>137437628</td><td>202006</td><td>0</td><td>0</td><td>0</td><td>40</td><td>50</td><td>   0.00</td><td>    0.00</td><td>   0.00</td><td>⋯</td><td> 7743.91</td><td>15</td><td>15</td><td>12</td><td> 0</td><td> 0</td><td> 0</td><td>2005.83</td><td>1806.42</td><td>1818.15</td></tr>\n",
              "\t<tr><td>137437628</td><td>202007</td><td>1</td><td>0</td><td>1</td><td>40</td><td>51</td><td>1150.78</td><td> 7762.10</td><td> 569.83</td><td>⋯</td><td> 9892.33</td><td>22</td><td>20</td><td>12</td><td> 0</td><td> 0</td><td> 0</td><td>2111.40</td><td>2451.57</td><td>1888.53</td></tr>\n",
              "\t<tr><td>137437628</td><td>202008</td><td>1</td><td>0</td><td>1</td><td>40</td><td>52</td><td> 887.63</td><td> 8156.22</td><td> 715.24</td><td>⋯</td><td> 5992.46</td><td>13</td><td>15</td><td>17</td><td> 0</td><td> 0</td><td> 0</td><td>1841.61</td><td>2005.83</td><td>1677.39</td></tr>\n",
              "\t<tr><td>137437628</td><td>202009</td><td>1</td><td>0</td><td>1</td><td>41</td><td>53</td><td> 350.35</td><td> 8233.67</td><td> 442.10</td><td>⋯</td><td>10874.67</td><td>13</td><td>22</td><td>15</td><td> 0</td><td> 0</td><td> 0</td><td>1313.76</td><td>2111.40</td><td>1806.42</td></tr>\n",
              "\t<tr><td>137437628</td><td>202010</td><td>1</td><td>0</td><td>0</td><td>41</td><td>54</td><td> 226.91</td><td> 8118.82</td><td> 171.86</td><td>⋯</td><td>18482.96</td><td>11</td><td>13</td><td>20</td><td> 0</td><td> 0</td><td> 0</td><td> 914.94</td><td>1841.61</td><td>2451.57</td></tr>\n",
              "\t<tr><td>137437628</td><td>202011</td><td>1</td><td>0</td><td>1</td><td>41</td><td>55</td><td> 822.44</td><td> 8800.01</td><td> 621.97</td><td>⋯</td><td>10529.45</td><td>12</td><td>13</td><td>15</td><td> 0</td><td> 0</td><td> 0</td><td>1431.06</td><td>1313.76</td><td>2005.83</td></tr>\n",
              "\t<tr><td>137437628</td><td>202012</td><td>1</td><td>0</td><td>0</td><td>41</td><td>56</td><td>-505.59</td><td> 8014.72</td><td>-400.91</td><td>⋯</td><td>13610.16</td><td>11</td><td>11</td><td>22</td><td> 0</td><td> 0</td><td> 0</td><td>1724.31</td><td> 914.94</td><td>2111.40</td></tr>\n",
              "\t<tr><td>137437628</td><td>202101</td><td>1</td><td>0</td><td>0</td><td>41</td><td>57</td><td> 218.52</td><td> 7517.81</td><td> 419.00</td><td>⋯</td><td>13481.08</td><td>12</td><td>12</td><td>13</td><td> 0</td><td> 0</td><td> 0</td><td>1219.92</td><td>1431.06</td><td>1841.61</td></tr>\n",
              "\t<tr><td>137437628</td><td>202102</td><td>1</td><td>0</td><td>0</td><td>41</td><td>58</td><td> 143.01</td><td> 7378.65</td><td>-291.25</td><td>⋯</td><td> 9048.25</td><td>26</td><td>11</td><td>13</td><td> 0</td><td> 0</td><td> 0</td><td> 762.45</td><td>1724.31</td><td>1313.76</td></tr>\n",
              "</tbody>\n",
              "</table>\n"
            ],
            "text/latex": [
              "A data.table: 4893028 × 603\n",
              "\\begin{tabular}{lllllllllllllllllllll}\n",
              " numero\\_de\\_cliente & foto\\_mes & active\\_quarter & cliente\\_vip & internet & cliente\\_edad & cliente\\_antiguedad & mrentabilidad & mrentabilidad\\_annual & mcomisiones & ⋯ & lag\\_6\\_Visa\\_mconsumototal & lag\\_1\\_Visa\\_cconsumos & lag\\_3\\_Visa\\_cconsumos & lag\\_6\\_Visa\\_cconsumos & lag\\_1\\_Visa\\_cadelantosefectivo & lag\\_3\\_Visa\\_cadelantosefectivo & lag\\_6\\_Visa\\_cadelantosefectivo & lag\\_1\\_Visa\\_mpagominimo & lag\\_3\\_Visa\\_mpagominimo & lag\\_6\\_Visa\\_mpagominimo\\\\\n",
              " <int> & <int> & <int> & <int> & <int> & <int> & <int> & <dbl> & <dbl> & <dbl> & ⋯ & <dbl> & <int> & <int> & <int> & <int> & <int> & <int> & <dbl> & <dbl> & <dbl>\\\\\n",
              "\\hline\n",
              "\t 29188883 & 201901 & 1 & 0 & 1 & 64 & 296 & 64862.09 & 459723.2 &  988.28 & ⋯ &      NA & NA & NA & NA & NA & NA & NA &     NA &     NA &     NA\\\\\n",
              "\t 29188883 & 201902 & 1 & 0 & 1 & 64 & 297 & 65846.80 & 500339.5 &  985.74 & ⋯ &      NA &  1 & NA & NA &  0 & NA & NA &  58.65 &     NA &     NA\\\\\n",
              "\t 29188883 & 201903 & 1 & 0 & 1 & 64 & 298 & 78540.39 & 550855.0 & 1296.04 & ⋯ &      NA &  1 & NA & NA &  0 & NA & NA &  58.65 &     NA &     NA\\\\\n",
              "\t 29188883 & 201904 & 1 & 0 & 1 & 64 & 299 & 75803.11 & 599562.7 & 1270.45 & ⋯ &      NA &  1 &  1 & NA &  0 &  0 & NA &  70.38 &  58.65 &     NA\\\\\n",
              "\t 29188883 & 201905 & 1 & 0 & 1 & 64 & 300 &     0.00 &      0.0 &    0.00 & ⋯ &      NA &  1 &  1 & NA &  0 &  0 & NA &  70.38 &  58.65 &     NA\\\\\n",
              "\t 29188883 & 201906 & 1 & 0 & 1 & 64 & 301 & 69725.29 & 681452.9 & 1280.28 & ⋯ &      NA &  1 &  1 & NA &  0 &  0 & NA &  70.38 &  70.38 &     NA\\\\\n",
              "\t 29188883 & 201907 & 1 & 0 & 1 & 64 & 302 & 68145.47 & 710943.3 & 1312.07 & ⋯ & 1102.50 &  1 &  1 &  1 &  0 &  0 &  0 &  82.11 &  70.38 &  58.65\\\\\n",
              "\t 29188883 & 201908 & 1 & 0 & 1 & 64 & 303 & 66658.18 & 739048.6 & 1466.40 & ⋯ & 1085.02 &  1 &  1 &  1 &  0 &  0 &  0 &  70.38 &  70.38 &  58.65\\\\\n",
              "\t 29188883 & 201909 & 1 & 0 & 1 & 64 & 304 & 62359.16 & 754323.9 & 1490.15 & ⋯ & 1324.31 &  1 &  1 &  1 &  0 &  0 &  0 &  82.11 &  82.11 &  70.38\\\\\n",
              "\t 29188883 & 201910 & 1 & 0 & 1 & 64 & 305 &     0.00 &      0.0 &    0.00 & ⋯ & 1300.85 &  1 &  1 &  1 &  0 &  0 &  0 &  93.84 &  70.38 &  70.38\\\\\n",
              "\t 29188883 & 201911 & 1 & 0 & 1 & 64 & 306 & 46377.86 & 757484.6 & 1476.56 & ⋯ & 1364.19 &  1 &  1 &  1 &  0 &  0 &  0 &  82.11 &  82.11 &  70.38\\\\\n",
              "\t 29188883 & 201912 & 1 & 0 & 1 & 65 & 307 & 46752.34 & 765272.5 & 1506.26 & ⋯ & 1592.93 &  1 &  1 &  1 &  0 &  0 &  0 &  35.19 &  93.84 &  82.11\\\\\n",
              "\t 29188883 & 202001 & 1 & 0 & 1 & 65 & 308 & 51195.45 & 751605.9 & 1832.97 & ⋯ & 1364.19 &  1 &  1 &  1 &  0 &  0 &  0 &  93.84 &  82.11 &  70.38\\\\\n",
              "\t 29188883 & 202002 & 1 & 0 & 1 & 65 & 309 & 46154.87 & 731914.0 & 1826.65 & ⋯ & 1521.38 &  1 &  1 &  1 &  0 &  0 &  0 &   0.00 &  35.19 &  82.11\\\\\n",
              "\t 29188883 & 202003 & 1 & 0 & 1 & 65 & 310 & 49214.16 & 702587.8 & 1875.27 & ⋯ & 1683.25 &  1 &  1 &  1 &  0 &  0 &  0 &  93.84 &  93.84 &  93.84\\\\\n",
              "\t 29188883 & 202004 & 1 & 0 & 1 & 65 & 311 & 41622.82 & 668407.4 & 1828.91 & ⋯ & 1554.22 &  1 &  1 &  1 &  0 &  0 &  0 &  93.84 &   0.00 &  82.11\\\\\n",
              "\t 29188883 & 202005 & 1 & 0 & 1 & 65 & 312 & 43221.27 & 634903.2 & 1867.66 & ⋯ & 1870.93 &  1 &  1 &  1 &  0 &  0 &  0 &  93.84 &  93.84 &  35.19\\\\\n",
              "\t 29188883 & 202006 & 0 & 0 & 0 & 65 & 313 &     0.00 &      0.0 &    0.00 & ⋯ & 1834.57 &  1 &  1 &  1 &  0 &  0 &  0 & 129.03 &  93.84 &  93.84\\\\\n",
              "\t 29188883 & 202007 & 1 & 0 & 1 & 65 & 314 & 44690.37 & 584074.3 & 1871.04 & ⋯ & 1658.62 &  1 &  1 &  1 &  0 &  0 &  0 & 105.57 &  93.84 &   0.00\\\\\n",
              "\t 29188883 & 202008 & 1 & 0 & 1 & 65 & 315 & 44696.16 & 562112.3 & 1869.56 & ⋯ & 1693.81 &  1 &  1 &  1 &  0 &  0 &  0 & 117.30 & 129.03 &  93.84\\\\\n",
              "\t 29188883 & 202009 & 1 & 0 & 1 & 65 & 316 & 43476.30 & 543229.4 & 1859.85 & ⋯ & 1713.75 &  1 &  1 &  1 &  0 &  0 &  0 & 129.03 & 105.57 &  93.84\\\\\n",
              "\t 29188883 & 202010 & 1 & 0 & 0 & 65 & 317 & 46072.54 & 545825.6 & 1866.77 & ⋯ & 1826.36 &  1 &  1 &  1 &  0 &  0 &  0 & 117.30 & 117.30 &  93.84\\\\\n",
              "\t 29188883 & 202011 & 1 & 0 & 0 & 65 & 318 & 46179.64 & 545627.4 & 1853.83 & ⋯ & 2342.48 &  1 &  1 &  1 &  0 &  0 &  0 & 140.76 & 129.03 & 129.03\\\\\n",
              "\t 29188883 & 202012 & 1 & 0 & 0 & 66 & 319 & 46508.31 & 545383.4 & 1840.35 & ⋯ & 1930.75 &  1 &  1 &  1 &  0 &  0 &  0 & 129.03 & 117.30 & 105.57\\\\\n",
              "\t 29188883 & 202101 & 1 & 0 & 0 & 66 & 320 & 37999.47 & 532187.4 & 1902.48 & ⋯ & 2219.31 &  1 &  1 &  1 &  0 &  0 &  0 & 152.49 & 140.76 & 117.30\\\\\n",
              "\t 29188883 & 202102 & 1 & 0 & 0 & 66 & 321 & 34293.96 & 520326.5 & 1870.19 & ⋯ & 2446.87 &  1 &  1 &  1 &  0 &  0 &  0 & 187.68 & 129.03 & 129.03\\\\\n",
              "\t 29188883 & 202103 & 1 & 0 & 0 & 66 & 322 & 37358.00 & 508470.3 & 2441.65 & ⋯ & 2076.21 &  1 &  1 &  1 &  0 &  0 &  0 & 175.95 & 152.49 & 117.30\\\\\n",
              "\t 29188883 & 202104 & 1 & 0 & 0 & 66 & 323 & 33686.53 & 500534.0 &  168.98 & ⋯ & 2639.25 &  1 &  1 &  1 &  0 &  0 &  0 & 234.60 & 187.68 & 140.76\\\\\n",
              "\t 29188883 & 202105 & 1 & 0 & 0 & 66 & 324 & 34570.46 & 491883.2 &  186.96 & ⋯ & 2381.19 &  1 &  1 &  1 &  0 &  0 &  0 & 187.68 & 175.95 & 129.03\\\\\n",
              "\t 29188883 & 202106 & 1 & 0 & 0 & 66 & 325 & 35838.57 & 485370.4 & 2435.79 & ⋯ & 2662.71 &  1 &  1 &  1 &  0 &  0 &  0 & 258.06 & 234.60 & 152.49\\\\\n",
              "\t ⋮ & ⋮ & ⋮ & ⋮ & ⋮ & ⋮ & ⋮ & ⋮ & ⋮ & ⋮ & ⋱ & ⋮ & ⋮ & ⋮ & ⋮ & ⋮ & ⋮ & ⋮ & ⋮ & ⋮ & ⋮\\\\\n",
              "\t 137415220 & 202101 & 1 & 0 & 0 & 35 & 58 & 3107.96 & 39771.67 & 1381.72 & ⋯ & 29729.40 &  2 &  6 &  6 &  0 &  0 &  0 &    0.00 &    0.00 & 1219.92\\\\\n",
              "\t 137415220 & 202102 & 1 & 0 & 0 & 35 & 59 & 2744.45 & 36827.30 & 2790.54 & ⋯ & 11399.94 &  3 &  2 &  3 &  0 &  0 &  0 &    0.00 &    0.00 & 5372.34\\\\\n",
              "\t 137415220 & 202103 & 1 & 0 & 0 & 35 & 60 & 3702.52 & 38017.79 & 1819.21 & ⋯ & 32792.84 &  1 &  2 &  4 &  0 &  0 &  0 &    0.00 &    0.00 &    0.00\\\\\n",
              "\t 137415220 & 202104 & 1 & 0 & 1 & 35 & 61 & 3794.69 & 40662.34 & 1637.75 & ⋯ & 23528.26 &  2 &  3 &  6 &  0 &  0 &  0 & 3706.68 &    0.00 &    0.00\\\\\n",
              "\t 137415220 & 202105 & 1 & 0 & 0 & 35 & 62 & 3036.11 & 41259.10 & 1732.68 & ⋯ &  4760.13 &  0 &  1 &  2 &  0 &  0 &  0 & 3214.02 &    0.00 &    0.00\\\\\n",
              "\t 137415220 & 202106 & 1 & 0 & 0 & 35 & 63 & 3068.14 & 40713.05 & 1609.30 & ⋯ &  4751.36 &  1 &  2 &  2 &  0 &  0 &  0 & 4187.61 & 3706.68 &    0.00\\\\\n",
              "\t 137415220 & 202107 & 1 & 0 & 0 & 35 & 64 & 3532.02 & 39046.56 & 2240.67 & ⋯ & 11601.12 &  1 &  0 &  3 &  0 &  0 &  0 &    0.00 & 3214.02 &    0.00\\\\\n",
              "\t 137415220 & 202108 & 1 & 0 & 0 & 35 & 65 & 3257.39 & 38864.34 & 2710.67 & ⋯ &  1058.04 &  1 &  1 &  1 &  0 &  0 &  0 & 4046.85 & 4187.61 &    0.00\\\\\n",
              "\t 137415220 & 202109 & 1 & 0 & 0 & 36 & 66 & 4155.10 & 38588.61 & 3847.78 & ⋯ & 20126.35 &  1 &  1 &  2 &  0 &  0 &  0 & 4046.85 &    0.00 & 3706.68\\\\\n",
              "\t 137437628 & 201906 & 1 & 0 & 1 & 39 & 38 &  763.27 &  7317.99 &  101.99 & ⋯ &       NA & NA & NA & NA & NA & NA & NA &      NA &      NA &      NA\\\\\n",
              "\t 137437628 & 201907 & 1 & 0 & 1 & 39 & 39 &  580.92 &  7000.81 &   -5.24 & ⋯ &       NA &  5 & NA & NA &  0 & NA & NA & 1161.27 &      NA &      NA\\\\\n",
              "\t 137437628 & 201908 & 1 & 0 & 1 & 39 & 40 &  493.51 &  6741.32 &  304.21 & ⋯ &       NA &  5 & NA & NA &  0 & NA & NA & 1090.89 &      NA &      NA\\\\\n",
              "\t 137437628 & 201909 & 1 & 0 & 1 & 40 & 41 &  272.89 &  6411.55 &  -60.24 & ⋯ &       NA &  5 &  5 & NA &  0 &  0 & NA & 1067.43 & 1161.27 &      NA\\\\\n",
              "\t 137437628 & 201910 & 1 & 0 & 1 & 40 & 42 &    0.00 &     0.00 &    0.00 & ⋯ &       NA &  9 &  5 & NA &  0 &  0 & NA & 1149.54 & 1090.89 &      NA\\\\\n",
              "\t 137437628 & 201911 & 1 & 0 & 1 & 40 & 43 &  141.26 &  5862.65 &  120.12 & ⋯ &       NA & 11 &  5 & NA &  0 &  0 & NA & 1219.92 & 1067.43 &      NA\\\\\n",
              "\t 137437628 & 201912 & 1 & 0 & 1 & 40 & 44 &  279.69 &  5308.98 &  445.18 & ⋯ &  4955.01 & 18 &  9 &  5 &  0 &  0 &  0 & 1419.33 & 1149.54 & 1161.27\\\\\n",
              "\t 137437628 & 202001 & 1 & 0 & 1 & 40 & 45 &  715.43 &  5179.74 &  477.32 & ⋯ &  2600.76 & 12 & 11 &  5 &  0 &  0 &  0 & 1818.15 & 1219.92 & 1090.89\\\\\n",
              "\t 137437628 & 202002 & 1 & 0 & 1 & 40 & 46 &  282.17 &  5332.03 &  343.43 & ⋯ &  5347.33 & 12 & 18 &  5 &  0 &  0 &  0 & 1888.53 & 1419.33 & 1067.43\\\\\n",
              "\t 137437628 & 202003 & 1 & 0 & 1 & 40 & 47 &  427.11 &  5460.56 &  224.25 & ⋯ &  8885.24 & 17 & 12 &  9 &  0 &  0 &  0 & 1677.39 & 1818.15 & 1149.54\\\\\n",
              "\t 137437628 & 202004 & 1 & 0 & 1 & 40 & 48 & 1086.08 &  6074.49 &  680.96 & ⋯ &  6863.02 & 15 & 12 & 11 &  0 &  0 &  0 & 1806.42 & 1888.53 & 1219.92\\\\\n",
              "\t 137437628 & 202005 & 1 & 0 & 1 & 40 & 49 & 1484.36 &  6868.50 &  538.11 & ⋯ &  7825.00 & 20 & 17 & 18 &  0 &  0 &  0 & 2451.57 & 1677.39 & 1419.33\\\\\n",
              "\t 137437628 & 202006 & 0 & 0 & 0 & 40 & 50 &    0.00 &     0.00 &    0.00 & ⋯ &  7743.91 & 15 & 15 & 12 &  0 &  0 &  0 & 2005.83 & 1806.42 & 1818.15\\\\\n",
              "\t 137437628 & 202007 & 1 & 0 & 1 & 40 & 51 & 1150.78 &  7762.10 &  569.83 & ⋯ &  9892.33 & 22 & 20 & 12 &  0 &  0 &  0 & 2111.40 & 2451.57 & 1888.53\\\\\n",
              "\t 137437628 & 202008 & 1 & 0 & 1 & 40 & 52 &  887.63 &  8156.22 &  715.24 & ⋯ &  5992.46 & 13 & 15 & 17 &  0 &  0 &  0 & 1841.61 & 2005.83 & 1677.39\\\\\n",
              "\t 137437628 & 202009 & 1 & 0 & 1 & 41 & 53 &  350.35 &  8233.67 &  442.10 & ⋯ & 10874.67 & 13 & 22 & 15 &  0 &  0 &  0 & 1313.76 & 2111.40 & 1806.42\\\\\n",
              "\t 137437628 & 202010 & 1 & 0 & 0 & 41 & 54 &  226.91 &  8118.82 &  171.86 & ⋯ & 18482.96 & 11 & 13 & 20 &  0 &  0 &  0 &  914.94 & 1841.61 & 2451.57\\\\\n",
              "\t 137437628 & 202011 & 1 & 0 & 1 & 41 & 55 &  822.44 &  8800.01 &  621.97 & ⋯ & 10529.45 & 12 & 13 & 15 &  0 &  0 &  0 & 1431.06 & 1313.76 & 2005.83\\\\\n",
              "\t 137437628 & 202012 & 1 & 0 & 0 & 41 & 56 & -505.59 &  8014.72 & -400.91 & ⋯ & 13610.16 & 11 & 11 & 22 &  0 &  0 &  0 & 1724.31 &  914.94 & 2111.40\\\\\n",
              "\t 137437628 & 202101 & 1 & 0 & 0 & 41 & 57 &  218.52 &  7517.81 &  419.00 & ⋯ & 13481.08 & 12 & 12 & 13 &  0 &  0 &  0 & 1219.92 & 1431.06 & 1841.61\\\\\n",
              "\t 137437628 & 202102 & 1 & 0 & 0 & 41 & 58 &  143.01 &  7378.65 & -291.25 & ⋯ &  9048.25 & 26 & 11 & 13 &  0 &  0 &  0 &  762.45 & 1724.31 & 1313.76\\\\\n",
              "\\end{tabular}\n"
            ],
            "text/markdown": [
              "\n",
              "A data.table: 4893028 × 603\n",
              "\n",
              "| numero_de_cliente &lt;int&gt; | foto_mes &lt;int&gt; | active_quarter &lt;int&gt; | cliente_vip &lt;int&gt; | internet &lt;int&gt; | cliente_edad &lt;int&gt; | cliente_antiguedad &lt;int&gt; | mrentabilidad &lt;dbl&gt; | mrentabilidad_annual &lt;dbl&gt; | mcomisiones &lt;dbl&gt; | ⋯ ⋯ | lag_6_Visa_mconsumototal &lt;dbl&gt; | lag_1_Visa_cconsumos &lt;int&gt; | lag_3_Visa_cconsumos &lt;int&gt; | lag_6_Visa_cconsumos &lt;int&gt; | lag_1_Visa_cadelantosefectivo &lt;int&gt; | lag_3_Visa_cadelantosefectivo &lt;int&gt; | lag_6_Visa_cadelantosefectivo &lt;int&gt; | lag_1_Visa_mpagominimo &lt;dbl&gt; | lag_3_Visa_mpagominimo &lt;dbl&gt; | lag_6_Visa_mpagominimo &lt;dbl&gt; |\n",
              "|---|---|---|---|---|---|---|---|---|---|---|---|---|---|---|---|---|---|---|---|---|\n",
              "| 29188883 | 201901 | 1 | 0 | 1 | 64 | 296 | 64862.09 | 459723.2 |  988.28 | ⋯ |      NA | NA | NA | NA | NA | NA | NA |     NA |     NA |     NA |\n",
              "| 29188883 | 201902 | 1 | 0 | 1 | 64 | 297 | 65846.80 | 500339.5 |  985.74 | ⋯ |      NA |  1 | NA | NA |  0 | NA | NA |  58.65 |     NA |     NA |\n",
              "| 29188883 | 201903 | 1 | 0 | 1 | 64 | 298 | 78540.39 | 550855.0 | 1296.04 | ⋯ |      NA |  1 | NA | NA |  0 | NA | NA |  58.65 |     NA |     NA |\n",
              "| 29188883 | 201904 | 1 | 0 | 1 | 64 | 299 | 75803.11 | 599562.7 | 1270.45 | ⋯ |      NA |  1 |  1 | NA |  0 |  0 | NA |  70.38 |  58.65 |     NA |\n",
              "| 29188883 | 201905 | 1 | 0 | 1 | 64 | 300 |     0.00 |      0.0 |    0.00 | ⋯ |      NA |  1 |  1 | NA |  0 |  0 | NA |  70.38 |  58.65 |     NA |\n",
              "| 29188883 | 201906 | 1 | 0 | 1 | 64 | 301 | 69725.29 | 681452.9 | 1280.28 | ⋯ |      NA |  1 |  1 | NA |  0 |  0 | NA |  70.38 |  70.38 |     NA |\n",
              "| 29188883 | 201907 | 1 | 0 | 1 | 64 | 302 | 68145.47 | 710943.3 | 1312.07 | ⋯ | 1102.50 |  1 |  1 |  1 |  0 |  0 |  0 |  82.11 |  70.38 |  58.65 |\n",
              "| 29188883 | 201908 | 1 | 0 | 1 | 64 | 303 | 66658.18 | 739048.6 | 1466.40 | ⋯ | 1085.02 |  1 |  1 |  1 |  0 |  0 |  0 |  70.38 |  70.38 |  58.65 |\n",
              "| 29188883 | 201909 | 1 | 0 | 1 | 64 | 304 | 62359.16 | 754323.9 | 1490.15 | ⋯ | 1324.31 |  1 |  1 |  1 |  0 |  0 |  0 |  82.11 |  82.11 |  70.38 |\n",
              "| 29188883 | 201910 | 1 | 0 | 1 | 64 | 305 |     0.00 |      0.0 |    0.00 | ⋯ | 1300.85 |  1 |  1 |  1 |  0 |  0 |  0 |  93.84 |  70.38 |  70.38 |\n",
              "| 29188883 | 201911 | 1 | 0 | 1 | 64 | 306 | 46377.86 | 757484.6 | 1476.56 | ⋯ | 1364.19 |  1 |  1 |  1 |  0 |  0 |  0 |  82.11 |  82.11 |  70.38 |\n",
              "| 29188883 | 201912 | 1 | 0 | 1 | 65 | 307 | 46752.34 | 765272.5 | 1506.26 | ⋯ | 1592.93 |  1 |  1 |  1 |  0 |  0 |  0 |  35.19 |  93.84 |  82.11 |\n",
              "| 29188883 | 202001 | 1 | 0 | 1 | 65 | 308 | 51195.45 | 751605.9 | 1832.97 | ⋯ | 1364.19 |  1 |  1 |  1 |  0 |  0 |  0 |  93.84 |  82.11 |  70.38 |\n",
              "| 29188883 | 202002 | 1 | 0 | 1 | 65 | 309 | 46154.87 | 731914.0 | 1826.65 | ⋯ | 1521.38 |  1 |  1 |  1 |  0 |  0 |  0 |   0.00 |  35.19 |  82.11 |\n",
              "| 29188883 | 202003 | 1 | 0 | 1 | 65 | 310 | 49214.16 | 702587.8 | 1875.27 | ⋯ | 1683.25 |  1 |  1 |  1 |  0 |  0 |  0 |  93.84 |  93.84 |  93.84 |\n",
              "| 29188883 | 202004 | 1 | 0 | 1 | 65 | 311 | 41622.82 | 668407.4 | 1828.91 | ⋯ | 1554.22 |  1 |  1 |  1 |  0 |  0 |  0 |  93.84 |   0.00 |  82.11 |\n",
              "| 29188883 | 202005 | 1 | 0 | 1 | 65 | 312 | 43221.27 | 634903.2 | 1867.66 | ⋯ | 1870.93 |  1 |  1 |  1 |  0 |  0 |  0 |  93.84 |  93.84 |  35.19 |\n",
              "| 29188883 | 202006 | 0 | 0 | 0 | 65 | 313 |     0.00 |      0.0 |    0.00 | ⋯ | 1834.57 |  1 |  1 |  1 |  0 |  0 |  0 | 129.03 |  93.84 |  93.84 |\n",
              "| 29188883 | 202007 | 1 | 0 | 1 | 65 | 314 | 44690.37 | 584074.3 | 1871.04 | ⋯ | 1658.62 |  1 |  1 |  1 |  0 |  0 |  0 | 105.57 |  93.84 |   0.00 |\n",
              "| 29188883 | 202008 | 1 | 0 | 1 | 65 | 315 | 44696.16 | 562112.3 | 1869.56 | ⋯ | 1693.81 |  1 |  1 |  1 |  0 |  0 |  0 | 117.30 | 129.03 |  93.84 |\n",
              "| 29188883 | 202009 | 1 | 0 | 1 | 65 | 316 | 43476.30 | 543229.4 | 1859.85 | ⋯ | 1713.75 |  1 |  1 |  1 |  0 |  0 |  0 | 129.03 | 105.57 |  93.84 |\n",
              "| 29188883 | 202010 | 1 | 0 | 0 | 65 | 317 | 46072.54 | 545825.6 | 1866.77 | ⋯ | 1826.36 |  1 |  1 |  1 |  0 |  0 |  0 | 117.30 | 117.30 |  93.84 |\n",
              "| 29188883 | 202011 | 1 | 0 | 0 | 65 | 318 | 46179.64 | 545627.4 | 1853.83 | ⋯ | 2342.48 |  1 |  1 |  1 |  0 |  0 |  0 | 140.76 | 129.03 | 129.03 |\n",
              "| 29188883 | 202012 | 1 | 0 | 0 | 66 | 319 | 46508.31 | 545383.4 | 1840.35 | ⋯ | 1930.75 |  1 |  1 |  1 |  0 |  0 |  0 | 129.03 | 117.30 | 105.57 |\n",
              "| 29188883 | 202101 | 1 | 0 | 0 | 66 | 320 | 37999.47 | 532187.4 | 1902.48 | ⋯ | 2219.31 |  1 |  1 |  1 |  0 |  0 |  0 | 152.49 | 140.76 | 117.30 |\n",
              "| 29188883 | 202102 | 1 | 0 | 0 | 66 | 321 | 34293.96 | 520326.5 | 1870.19 | ⋯ | 2446.87 |  1 |  1 |  1 |  0 |  0 |  0 | 187.68 | 129.03 | 129.03 |\n",
              "| 29188883 | 202103 | 1 | 0 | 0 | 66 | 322 | 37358.00 | 508470.3 | 2441.65 | ⋯ | 2076.21 |  1 |  1 |  1 |  0 |  0 |  0 | 175.95 | 152.49 | 117.30 |\n",
              "| 29188883 | 202104 | 1 | 0 | 0 | 66 | 323 | 33686.53 | 500534.0 |  168.98 | ⋯ | 2639.25 |  1 |  1 |  1 |  0 |  0 |  0 | 234.60 | 187.68 | 140.76 |\n",
              "| 29188883 | 202105 | 1 | 0 | 0 | 66 | 324 | 34570.46 | 491883.2 |  186.96 | ⋯ | 2381.19 |  1 |  1 |  1 |  0 |  0 |  0 | 187.68 | 175.95 | 129.03 |\n",
              "| 29188883 | 202106 | 1 | 0 | 0 | 66 | 325 | 35838.57 | 485370.4 | 2435.79 | ⋯ | 2662.71 |  1 |  1 |  1 |  0 |  0 |  0 | 258.06 | 234.60 | 152.49 |\n",
              "| ⋮ | ⋮ | ⋮ | ⋮ | ⋮ | ⋮ | ⋮ | ⋮ | ⋮ | ⋮ | ⋱ | ⋮ | ⋮ | ⋮ | ⋮ | ⋮ | ⋮ | ⋮ | ⋮ | ⋮ | ⋮ |\n",
              "| 137415220 | 202101 | 1 | 0 | 0 | 35 | 58 | 3107.96 | 39771.67 | 1381.72 | ⋯ | 29729.40 |  2 |  6 |  6 |  0 |  0 |  0 |    0.00 |    0.00 | 1219.92 |\n",
              "| 137415220 | 202102 | 1 | 0 | 0 | 35 | 59 | 2744.45 | 36827.30 | 2790.54 | ⋯ | 11399.94 |  3 |  2 |  3 |  0 |  0 |  0 |    0.00 |    0.00 | 5372.34 |\n",
              "| 137415220 | 202103 | 1 | 0 | 0 | 35 | 60 | 3702.52 | 38017.79 | 1819.21 | ⋯ | 32792.84 |  1 |  2 |  4 |  0 |  0 |  0 |    0.00 |    0.00 |    0.00 |\n",
              "| 137415220 | 202104 | 1 | 0 | 1 | 35 | 61 | 3794.69 | 40662.34 | 1637.75 | ⋯ | 23528.26 |  2 |  3 |  6 |  0 |  0 |  0 | 3706.68 |    0.00 |    0.00 |\n",
              "| 137415220 | 202105 | 1 | 0 | 0 | 35 | 62 | 3036.11 | 41259.10 | 1732.68 | ⋯ |  4760.13 |  0 |  1 |  2 |  0 |  0 |  0 | 3214.02 |    0.00 |    0.00 |\n",
              "| 137415220 | 202106 | 1 | 0 | 0 | 35 | 63 | 3068.14 | 40713.05 | 1609.30 | ⋯ |  4751.36 |  1 |  2 |  2 |  0 |  0 |  0 | 4187.61 | 3706.68 |    0.00 |\n",
              "| 137415220 | 202107 | 1 | 0 | 0 | 35 | 64 | 3532.02 | 39046.56 | 2240.67 | ⋯ | 11601.12 |  1 |  0 |  3 |  0 |  0 |  0 |    0.00 | 3214.02 |    0.00 |\n",
              "| 137415220 | 202108 | 1 | 0 | 0 | 35 | 65 | 3257.39 | 38864.34 | 2710.67 | ⋯ |  1058.04 |  1 |  1 |  1 |  0 |  0 |  0 | 4046.85 | 4187.61 |    0.00 |\n",
              "| 137415220 | 202109 | 1 | 0 | 0 | 36 | 66 | 4155.10 | 38588.61 | 3847.78 | ⋯ | 20126.35 |  1 |  1 |  2 |  0 |  0 |  0 | 4046.85 |    0.00 | 3706.68 |\n",
              "| 137437628 | 201906 | 1 | 0 | 1 | 39 | 38 |  763.27 |  7317.99 |  101.99 | ⋯ |       NA | NA | NA | NA | NA | NA | NA |      NA |      NA |      NA |\n",
              "| 137437628 | 201907 | 1 | 0 | 1 | 39 | 39 |  580.92 |  7000.81 |   -5.24 | ⋯ |       NA |  5 | NA | NA |  0 | NA | NA | 1161.27 |      NA |      NA |\n",
              "| 137437628 | 201908 | 1 | 0 | 1 | 39 | 40 |  493.51 |  6741.32 |  304.21 | ⋯ |       NA |  5 | NA | NA |  0 | NA | NA | 1090.89 |      NA |      NA |\n",
              "| 137437628 | 201909 | 1 | 0 | 1 | 40 | 41 |  272.89 |  6411.55 |  -60.24 | ⋯ |       NA |  5 |  5 | NA |  0 |  0 | NA | 1067.43 | 1161.27 |      NA |\n",
              "| 137437628 | 201910 | 1 | 0 | 1 | 40 | 42 |    0.00 |     0.00 |    0.00 | ⋯ |       NA |  9 |  5 | NA |  0 |  0 | NA | 1149.54 | 1090.89 |      NA |\n",
              "| 137437628 | 201911 | 1 | 0 | 1 | 40 | 43 |  141.26 |  5862.65 |  120.12 | ⋯ |       NA | 11 |  5 | NA |  0 |  0 | NA | 1219.92 | 1067.43 |      NA |\n",
              "| 137437628 | 201912 | 1 | 0 | 1 | 40 | 44 |  279.69 |  5308.98 |  445.18 | ⋯ |  4955.01 | 18 |  9 |  5 |  0 |  0 |  0 | 1419.33 | 1149.54 | 1161.27 |\n",
              "| 137437628 | 202001 | 1 | 0 | 1 | 40 | 45 |  715.43 |  5179.74 |  477.32 | ⋯ |  2600.76 | 12 | 11 |  5 |  0 |  0 |  0 | 1818.15 | 1219.92 | 1090.89 |\n",
              "| 137437628 | 202002 | 1 | 0 | 1 | 40 | 46 |  282.17 |  5332.03 |  343.43 | ⋯ |  5347.33 | 12 | 18 |  5 |  0 |  0 |  0 | 1888.53 | 1419.33 | 1067.43 |\n",
              "| 137437628 | 202003 | 1 | 0 | 1 | 40 | 47 |  427.11 |  5460.56 |  224.25 | ⋯ |  8885.24 | 17 | 12 |  9 |  0 |  0 |  0 | 1677.39 | 1818.15 | 1149.54 |\n",
              "| 137437628 | 202004 | 1 | 0 | 1 | 40 | 48 | 1086.08 |  6074.49 |  680.96 | ⋯ |  6863.02 | 15 | 12 | 11 |  0 |  0 |  0 | 1806.42 | 1888.53 | 1219.92 |\n",
              "| 137437628 | 202005 | 1 | 0 | 1 | 40 | 49 | 1484.36 |  6868.50 |  538.11 | ⋯ |  7825.00 | 20 | 17 | 18 |  0 |  0 |  0 | 2451.57 | 1677.39 | 1419.33 |\n",
              "| 137437628 | 202006 | 0 | 0 | 0 | 40 | 50 |    0.00 |     0.00 |    0.00 | ⋯ |  7743.91 | 15 | 15 | 12 |  0 |  0 |  0 | 2005.83 | 1806.42 | 1818.15 |\n",
              "| 137437628 | 202007 | 1 | 0 | 1 | 40 | 51 | 1150.78 |  7762.10 |  569.83 | ⋯ |  9892.33 | 22 | 20 | 12 |  0 |  0 |  0 | 2111.40 | 2451.57 | 1888.53 |\n",
              "| 137437628 | 202008 | 1 | 0 | 1 | 40 | 52 |  887.63 |  8156.22 |  715.24 | ⋯ |  5992.46 | 13 | 15 | 17 |  0 |  0 |  0 | 1841.61 | 2005.83 | 1677.39 |\n",
              "| 137437628 | 202009 | 1 | 0 | 1 | 41 | 53 |  350.35 |  8233.67 |  442.10 | ⋯ | 10874.67 | 13 | 22 | 15 |  0 |  0 |  0 | 1313.76 | 2111.40 | 1806.42 |\n",
              "| 137437628 | 202010 | 1 | 0 | 0 | 41 | 54 |  226.91 |  8118.82 |  171.86 | ⋯ | 18482.96 | 11 | 13 | 20 |  0 |  0 |  0 |  914.94 | 1841.61 | 2451.57 |\n",
              "| 137437628 | 202011 | 1 | 0 | 1 | 41 | 55 |  822.44 |  8800.01 |  621.97 | ⋯ | 10529.45 | 12 | 13 | 15 |  0 |  0 |  0 | 1431.06 | 1313.76 | 2005.83 |\n",
              "| 137437628 | 202012 | 1 | 0 | 0 | 41 | 56 | -505.59 |  8014.72 | -400.91 | ⋯ | 13610.16 | 11 | 11 | 22 |  0 |  0 |  0 | 1724.31 |  914.94 | 2111.40 |\n",
              "| 137437628 | 202101 | 1 | 0 | 0 | 41 | 57 |  218.52 |  7517.81 |  419.00 | ⋯ | 13481.08 | 12 | 12 | 13 |  0 |  0 |  0 | 1219.92 | 1431.06 | 1841.61 |\n",
              "| 137437628 | 202102 | 1 | 0 | 0 | 41 | 58 |  143.01 |  7378.65 | -291.25 | ⋯ |  9048.25 | 26 | 11 | 13 |  0 |  0 |  0 |  762.45 | 1724.31 | 1313.76 |\n",
              "\n"
            ],
            "text/plain": [
              "        numero_de_cliente foto_mes active_quarter cliente_vip internet\n",
              "1       29188883          201901   1              0           1       \n",
              "2       29188883          201902   1              0           1       \n",
              "3       29188883          201903   1              0           1       \n",
              "4       29188883          201904   1              0           1       \n",
              "5       29188883          201905   1              0           1       \n",
              "6       29188883          201906   1              0           1       \n",
              "7       29188883          201907   1              0           1       \n",
              "8       29188883          201908   1              0           1       \n",
              "9       29188883          201909   1              0           1       \n",
              "10      29188883          201910   1              0           1       \n",
              "11      29188883          201911   1              0           1       \n",
              "12      29188883          201912   1              0           1       \n",
              "13      29188883          202001   1              0           1       \n",
              "14      29188883          202002   1              0           1       \n",
              "15      29188883          202003   1              0           1       \n",
              "16      29188883          202004   1              0           1       \n",
              "17      29188883          202005   1              0           1       \n",
              "18      29188883          202006   0              0           0       \n",
              "19      29188883          202007   1              0           1       \n",
              "20      29188883          202008   1              0           1       \n",
              "21      29188883          202009   1              0           1       \n",
              "22      29188883          202010   1              0           0       \n",
              "23      29188883          202011   1              0           0       \n",
              "24      29188883          202012   1              0           0       \n",
              "25      29188883          202101   1              0           0       \n",
              "26      29188883          202102   1              0           0       \n",
              "27      29188883          202103   1              0           0       \n",
              "28      29188883          202104   1              0           0       \n",
              "29      29188883          202105   1              0           0       \n",
              "30      29188883          202106   1              0           0       \n",
              "⋮       ⋮                 ⋮        ⋮              ⋮           ⋮       \n",
              "4892999 137415220         202101   1              0           0       \n",
              "4893000 137415220         202102   1              0           0       \n",
              "4893001 137415220         202103   1              0           0       \n",
              "4893002 137415220         202104   1              0           1       \n",
              "4893003 137415220         202105   1              0           0       \n",
              "4893004 137415220         202106   1              0           0       \n",
              "4893005 137415220         202107   1              0           0       \n",
              "4893006 137415220         202108   1              0           0       \n",
              "4893007 137415220         202109   1              0           0       \n",
              "4893008 137437628         201906   1              0           1       \n",
              "4893009 137437628         201907   1              0           1       \n",
              "4893010 137437628         201908   1              0           1       \n",
              "4893011 137437628         201909   1              0           1       \n",
              "4893012 137437628         201910   1              0           1       \n",
              "4893013 137437628         201911   1              0           1       \n",
              "4893014 137437628         201912   1              0           1       \n",
              "4893015 137437628         202001   1              0           1       \n",
              "4893016 137437628         202002   1              0           1       \n",
              "4893017 137437628         202003   1              0           1       \n",
              "4893018 137437628         202004   1              0           1       \n",
              "4893019 137437628         202005   1              0           1       \n",
              "4893020 137437628         202006   0              0           0       \n",
              "4893021 137437628         202007   1              0           1       \n",
              "4893022 137437628         202008   1              0           1       \n",
              "4893023 137437628         202009   1              0           1       \n",
              "4893024 137437628         202010   1              0           0       \n",
              "4893025 137437628         202011   1              0           1       \n",
              "4893026 137437628         202012   1              0           0       \n",
              "4893027 137437628         202101   1              0           0       \n",
              "4893028 137437628         202102   1              0           0       \n",
              "        cliente_edad cliente_antiguedad mrentabilidad mrentabilidad_annual\n",
              "1       64           296                64862.09      459723.2            \n",
              "2       64           297                65846.80      500339.5            \n",
              "3       64           298                78540.39      550855.0            \n",
              "4       64           299                75803.11      599562.7            \n",
              "5       64           300                    0.00           0.0            \n",
              "6       64           301                69725.29      681452.9            \n",
              "7       64           302                68145.47      710943.3            \n",
              "8       64           303                66658.18      739048.6            \n",
              "9       64           304                62359.16      754323.9            \n",
              "10      64           305                    0.00           0.0            \n",
              "11      64           306                46377.86      757484.6            \n",
              "12      65           307                46752.34      765272.5            \n",
              "13      65           308                51195.45      751605.9            \n",
              "14      65           309                46154.87      731914.0            \n",
              "15      65           310                49214.16      702587.8            \n",
              "16      65           311                41622.82      668407.4            \n",
              "17      65           312                43221.27      634903.2            \n",
              "18      65           313                    0.00           0.0            \n",
              "19      65           314                44690.37      584074.3            \n",
              "20      65           315                44696.16      562112.3            \n",
              "21      65           316                43476.30      543229.4            \n",
              "22      65           317                46072.54      545825.6            \n",
              "23      65           318                46179.64      545627.4            \n",
              "24      66           319                46508.31      545383.4            \n",
              "25      66           320                37999.47      532187.4            \n",
              "26      66           321                34293.96      520326.5            \n",
              "27      66           322                37358.00      508470.3            \n",
              "28      66           323                33686.53      500534.0            \n",
              "29      66           324                34570.46      491883.2            \n",
              "30      66           325                35838.57      485370.4            \n",
              "⋮       ⋮            ⋮                  ⋮             ⋮                   \n",
              "4892999 35           58                 3107.96       39771.67            \n",
              "4893000 35           59                 2744.45       36827.30            \n",
              "4893001 35           60                 3702.52       38017.79            \n",
              "4893002 35           61                 3794.69       40662.34            \n",
              "4893003 35           62                 3036.11       41259.10            \n",
              "4893004 35           63                 3068.14       40713.05            \n",
              "4893005 35           64                 3532.02       39046.56            \n",
              "4893006 35           65                 3257.39       38864.34            \n",
              "4893007 36           66                 4155.10       38588.61            \n",
              "4893008 39           38                  763.27        7317.99            \n",
              "4893009 39           39                  580.92        7000.81            \n",
              "4893010 39           40                  493.51        6741.32            \n",
              "4893011 40           41                  272.89        6411.55            \n",
              "4893012 40           42                    0.00           0.00            \n",
              "4893013 40           43                  141.26        5862.65            \n",
              "4893014 40           44                  279.69        5308.98            \n",
              "4893015 40           45                  715.43        5179.74            \n",
              "4893016 40           46                  282.17        5332.03            \n",
              "4893017 40           47                  427.11        5460.56            \n",
              "4893018 40           48                 1086.08        6074.49            \n",
              "4893019 40           49                 1484.36        6868.50            \n",
              "4893020 40           50                    0.00           0.00            \n",
              "4893021 40           51                 1150.78        7762.10            \n",
              "4893022 40           52                  887.63        8156.22            \n",
              "4893023 41           53                  350.35        8233.67            \n",
              "4893024 41           54                  226.91        8118.82            \n",
              "4893025 41           55                  822.44        8800.01            \n",
              "4893026 41           56                 -505.59        8014.72            \n",
              "4893027 41           57                  218.52        7517.81            \n",
              "4893028 41           58                  143.01        7378.65            \n",
              "        mcomisiones ⋯ lag_6_Visa_mconsumototal lag_1_Visa_cconsumos\n",
              "1        988.28     ⋯      NA                  NA                  \n",
              "2        985.74     ⋯      NA                   1                  \n",
              "3       1296.04     ⋯      NA                   1                  \n",
              "4       1270.45     ⋯      NA                   1                  \n",
              "5          0.00     ⋯      NA                   1                  \n",
              "6       1280.28     ⋯      NA                   1                  \n",
              "7       1312.07     ⋯ 1102.50                   1                  \n",
              "8       1466.40     ⋯ 1085.02                   1                  \n",
              "9       1490.15     ⋯ 1324.31                   1                  \n",
              "10         0.00     ⋯ 1300.85                   1                  \n",
              "11      1476.56     ⋯ 1364.19                   1                  \n",
              "12      1506.26     ⋯ 1592.93                   1                  \n",
              "13      1832.97     ⋯ 1364.19                   1                  \n",
              "14      1826.65     ⋯ 1521.38                   1                  \n",
              "15      1875.27     ⋯ 1683.25                   1                  \n",
              "16      1828.91     ⋯ 1554.22                   1                  \n",
              "17      1867.66     ⋯ 1870.93                   1                  \n",
              "18         0.00     ⋯ 1834.57                   1                  \n",
              "19      1871.04     ⋯ 1658.62                   1                  \n",
              "20      1869.56     ⋯ 1693.81                   1                  \n",
              "21      1859.85     ⋯ 1713.75                   1                  \n",
              "22      1866.77     ⋯ 1826.36                   1                  \n",
              "23      1853.83     ⋯ 2342.48                   1                  \n",
              "24      1840.35     ⋯ 1930.75                   1                  \n",
              "25      1902.48     ⋯ 2219.31                   1                  \n",
              "26      1870.19     ⋯ 2446.87                   1                  \n",
              "27      2441.65     ⋯ 2076.21                   1                  \n",
              "28       168.98     ⋯ 2639.25                   1                  \n",
              "29       186.96     ⋯ 2381.19                   1                  \n",
              "30      2435.79     ⋯ 2662.71                   1                  \n",
              "⋮       ⋮           ⋱ ⋮                        ⋮                   \n",
              "4892999 1381.72     ⋯ 29729.40                  2                  \n",
              "4893000 2790.54     ⋯ 11399.94                  3                  \n",
              "4893001 1819.21     ⋯ 32792.84                  1                  \n",
              "4893002 1637.75     ⋯ 23528.26                  2                  \n",
              "4893003 1732.68     ⋯  4760.13                  0                  \n",
              "4893004 1609.30     ⋯  4751.36                  1                  \n",
              "4893005 2240.67     ⋯ 11601.12                  1                  \n",
              "4893006 2710.67     ⋯  1058.04                  1                  \n",
              "4893007 3847.78     ⋯ 20126.35                  1                  \n",
              "4893008  101.99     ⋯       NA                 NA                  \n",
              "4893009   -5.24     ⋯       NA                  5                  \n",
              "4893010  304.21     ⋯       NA                  5                  \n",
              "4893011  -60.24     ⋯       NA                  5                  \n",
              "4893012    0.00     ⋯       NA                  9                  \n",
              "4893013  120.12     ⋯       NA                 11                  \n",
              "4893014  445.18     ⋯  4955.01                 18                  \n",
              "4893015  477.32     ⋯  2600.76                 12                  \n",
              "4893016  343.43     ⋯  5347.33                 12                  \n",
              "4893017  224.25     ⋯  8885.24                 17                  \n",
              "4893018  680.96     ⋯  6863.02                 15                  \n",
              "4893019  538.11     ⋯  7825.00                 20                  \n",
              "4893020    0.00     ⋯  7743.91                 15                  \n",
              "4893021  569.83     ⋯  9892.33                 22                  \n",
              "4893022  715.24     ⋯  5992.46                 13                  \n",
              "4893023  442.10     ⋯ 10874.67                 13                  \n",
              "4893024  171.86     ⋯ 18482.96                 11                  \n",
              "4893025  621.97     ⋯ 10529.45                 12                  \n",
              "4893026 -400.91     ⋯ 13610.16                 11                  \n",
              "4893027  419.00     ⋯ 13481.08                 12                  \n",
              "4893028 -291.25     ⋯  9048.25                 26                  \n",
              "        lag_3_Visa_cconsumos lag_6_Visa_cconsumos lag_1_Visa_cadelantosefectivo\n",
              "1       NA                   NA                   NA                           \n",
              "2       NA                   NA                    0                           \n",
              "3       NA                   NA                    0                           \n",
              "4        1                   NA                    0                           \n",
              "5        1                   NA                    0                           \n",
              "6        1                   NA                    0                           \n",
              "7        1                    1                    0                           \n",
              "8        1                    1                    0                           \n",
              "9        1                    1                    0                           \n",
              "10       1                    1                    0                           \n",
              "11       1                    1                    0                           \n",
              "12       1                    1                    0                           \n",
              "13       1                    1                    0                           \n",
              "14       1                    1                    0                           \n",
              "15       1                    1                    0                           \n",
              "16       1                    1                    0                           \n",
              "17       1                    1                    0                           \n",
              "18       1                    1                    0                           \n",
              "19       1                    1                    0                           \n",
              "20       1                    1                    0                           \n",
              "21       1                    1                    0                           \n",
              "22       1                    1                    0                           \n",
              "23       1                    1                    0                           \n",
              "24       1                    1                    0                           \n",
              "25       1                    1                    0                           \n",
              "26       1                    1                    0                           \n",
              "27       1                    1                    0                           \n",
              "28       1                    1                    0                           \n",
              "29       1                    1                    0                           \n",
              "30       1                    1                    0                           \n",
              "⋮       ⋮                    ⋮                    ⋮                            \n",
              "4892999  6                    6                    0                           \n",
              "4893000  2                    3                    0                           \n",
              "4893001  2                    4                    0                           \n",
              "4893002  3                    6                    0                           \n",
              "4893003  1                    2                    0                           \n",
              "4893004  2                    2                    0                           \n",
              "4893005  0                    3                    0                           \n",
              "4893006  1                    1                    0                           \n",
              "4893007  1                    2                    0                           \n",
              "4893008 NA                   NA                   NA                           \n",
              "4893009 NA                   NA                    0                           \n",
              "4893010 NA                   NA                    0                           \n",
              "4893011  5                   NA                    0                           \n",
              "4893012  5                   NA                    0                           \n",
              "4893013  5                   NA                    0                           \n",
              "4893014  9                    5                    0                           \n",
              "4893015 11                    5                    0                           \n",
              "4893016 18                    5                    0                           \n",
              "4893017 12                    9                    0                           \n",
              "4893018 12                   11                    0                           \n",
              "4893019 17                   18                    0                           \n",
              "4893020 15                   12                    0                           \n",
              "4893021 20                   12                    0                           \n",
              "4893022 15                   17                    0                           \n",
              "4893023 22                   15                    0                           \n",
              "4893024 13                   20                    0                           \n",
              "4893025 13                   15                    0                           \n",
              "4893026 11                   22                    0                           \n",
              "4893027 12                   13                    0                           \n",
              "4893028 11                   13                    0                           \n",
              "        lag_3_Visa_cadelantosefectivo lag_6_Visa_cadelantosefectivo\n",
              "1       NA                            NA                           \n",
              "2       NA                            NA                           \n",
              "3       NA                            NA                           \n",
              "4        0                            NA                           \n",
              "5        0                            NA                           \n",
              "6        0                            NA                           \n",
              "7        0                             0                           \n",
              "8        0                             0                           \n",
              "9        0                             0                           \n",
              "10       0                             0                           \n",
              "11       0                             0                           \n",
              "12       0                             0                           \n",
              "13       0                             0                           \n",
              "14       0                             0                           \n",
              "15       0                             0                           \n",
              "16       0                             0                           \n",
              "17       0                             0                           \n",
              "18       0                             0                           \n",
              "19       0                             0                           \n",
              "20       0                             0                           \n",
              "21       0                             0                           \n",
              "22       0                             0                           \n",
              "23       0                             0                           \n",
              "24       0                             0                           \n",
              "25       0                             0                           \n",
              "26       0                             0                           \n",
              "27       0                             0                           \n",
              "28       0                             0                           \n",
              "29       0                             0                           \n",
              "30       0                             0                           \n",
              "⋮       ⋮                             ⋮                            \n",
              "4892999  0                             0                           \n",
              "4893000  0                             0                           \n",
              "4893001  0                             0                           \n",
              "4893002  0                             0                           \n",
              "4893003  0                             0                           \n",
              "4893004  0                             0                           \n",
              "4893005  0                             0                           \n",
              "4893006  0                             0                           \n",
              "4893007  0                             0                           \n",
              "4893008 NA                            NA                           \n",
              "4893009 NA                            NA                           \n",
              "4893010 NA                            NA                           \n",
              "4893011  0                            NA                           \n",
              "4893012  0                            NA                           \n",
              "4893013  0                            NA                           \n",
              "4893014  0                             0                           \n",
              "4893015  0                             0                           \n",
              "4893016  0                             0                           \n",
              "4893017  0                             0                           \n",
              "4893018  0                             0                           \n",
              "4893019  0                             0                           \n",
              "4893020  0                             0                           \n",
              "4893021  0                             0                           \n",
              "4893022  0                             0                           \n",
              "4893023  0                             0                           \n",
              "4893024  0                             0                           \n",
              "4893025  0                             0                           \n",
              "4893026  0                             0                           \n",
              "4893027  0                             0                           \n",
              "4893028  0                             0                           \n",
              "        lag_1_Visa_mpagominimo lag_3_Visa_mpagominimo lag_6_Visa_mpagominimo\n",
              "1           NA                     NA                     NA                \n",
              "2        58.65                     NA                     NA                \n",
              "3        58.65                     NA                     NA                \n",
              "4        70.38                  58.65                     NA                \n",
              "5        70.38                  58.65                     NA                \n",
              "6        70.38                  70.38                     NA                \n",
              "7        82.11                  70.38                  58.65                \n",
              "8        70.38                  70.38                  58.65                \n",
              "9        82.11                  82.11                  70.38                \n",
              "10       93.84                  70.38                  70.38                \n",
              "11       82.11                  82.11                  70.38                \n",
              "12       35.19                  93.84                  82.11                \n",
              "13       93.84                  82.11                  70.38                \n",
              "14        0.00                  35.19                  82.11                \n",
              "15       93.84                  93.84                  93.84                \n",
              "16       93.84                   0.00                  82.11                \n",
              "17       93.84                  93.84                  35.19                \n",
              "18      129.03                  93.84                  93.84                \n",
              "19      105.57                  93.84                   0.00                \n",
              "20      117.30                 129.03                  93.84                \n",
              "21      129.03                 105.57                  93.84                \n",
              "22      117.30                 117.30                  93.84                \n",
              "23      140.76                 129.03                 129.03                \n",
              "24      129.03                 117.30                 105.57                \n",
              "25      152.49                 140.76                 117.30                \n",
              "26      187.68                 129.03                 129.03                \n",
              "27      175.95                 152.49                 117.30                \n",
              "28      234.60                 187.68                 140.76                \n",
              "29      187.68                 175.95                 129.03                \n",
              "30      258.06                 234.60                 152.49                \n",
              "⋮       ⋮                      ⋮                      ⋮                     \n",
              "4892999    0.00                   0.00                1219.92               \n",
              "4893000    0.00                   0.00                5372.34               \n",
              "4893001    0.00                   0.00                   0.00               \n",
              "4893002 3706.68                   0.00                   0.00               \n",
              "4893003 3214.02                   0.00                   0.00               \n",
              "4893004 4187.61                3706.68                   0.00               \n",
              "4893005    0.00                3214.02                   0.00               \n",
              "4893006 4046.85                4187.61                   0.00               \n",
              "4893007 4046.85                   0.00                3706.68               \n",
              "4893008      NA                     NA                     NA               \n",
              "4893009 1161.27                     NA                     NA               \n",
              "4893010 1090.89                     NA                     NA               \n",
              "4893011 1067.43                1161.27                     NA               \n",
              "4893012 1149.54                1090.89                     NA               \n",
              "4893013 1219.92                1067.43                     NA               \n",
              "4893014 1419.33                1149.54                1161.27               \n",
              "4893015 1818.15                1219.92                1090.89               \n",
              "4893016 1888.53                1419.33                1067.43               \n",
              "4893017 1677.39                1818.15                1149.54               \n",
              "4893018 1806.42                1888.53                1219.92               \n",
              "4893019 2451.57                1677.39                1419.33               \n",
              "4893020 2005.83                1806.42                1818.15               \n",
              "4893021 2111.40                2451.57                1888.53               \n",
              "4893022 1841.61                2005.83                1677.39               \n",
              "4893023 1313.76                2111.40                1806.42               \n",
              "4893024  914.94                1841.61                2451.57               \n",
              "4893025 1431.06                1313.76                2005.83               \n",
              "4893026 1724.31                 914.94                2111.40               \n",
              "4893027 1219.92                1431.06                1841.61               \n",
              "4893028  762.45                1724.31                1313.76               "
            ]
          },
          "metadata": {},
          "output_type": "display_data"
        }
      ],
      "source": [
        "dataset"
      ]
    },
    {
      "cell_type": "code",
      "execution_count": null,
      "metadata": {
        "vscode": {
          "languageId": "r"
        },
        "id": "BthBewbEQjus"
      },
      "outputs": [],
      "source": [
        "# paso la clase a binaria que tome valores {0,1}  enteros\n",
        "dataset[, clase01 := ifelse(clase_ternaria == \"CONTINUA\", 0L, 1L)]\n",
        "\n",
        "\n",
        "# los campos que se van a utilizar\n",
        "campos_buenos <- setdiff(\n",
        "  colnames(dataset),\n",
        "  c(\"clase_ternaria\", \"clase01\", \"azar\", \"training\")\n",
        ")"
      ]
    },
    {
      "cell_type": "code",
      "execution_count": null,
      "metadata": {
        "vscode": {
          "languageId": "r"
        },
        "id": "9nNT0_YBQjus"
      },
      "outputs": [],
      "source": [
        "# defino los datos que forma parte del training\n",
        "# aqui se hace el undersampling de los CONTINUA\n",
        "set.seed(PARAM$trainingstrategy$semilla_azar)\n",
        "dataset[, azar := runif(nrow(dataset))]\n",
        "dataset[, training := 0L]\n",
        "dataset[\n",
        "  foto_mes %in% PARAM$input$training &\n",
        "    (azar <= PARAM$trainingstrategy$undersampling | clase_ternaria %in% c(\"BAJA+1\", \"BAJA+2\")),\n",
        "  training := 1L\n",
        "]"
      ]
    },
    {
      "cell_type": "code",
      "execution_count": null,
      "metadata": {
        "vscode": {
          "languageId": "r"
        },
        "id": "a9QQrRc2Qjus"
      },
      "outputs": [],
      "source": [
        "# dejo los datos en el formato que necesita LightGBM\n",
        "dtrain <- lgb.Dataset(\n",
        "  data = data.matrix(dataset[training == 1L, campos_buenos, with = FALSE]),\n",
        "  label = dataset[training == 1L, clase01],\n",
        "  weight = dataset[training == 1L,\n",
        "    ifelse(clase_ternaria == \"BAJA+2\", 1.0000001,\n",
        "      ifelse(clase_ternaria == \"BAJA+1\", 1.0, 1.0))],\n",
        "  free_raw_data = FALSE\n",
        ")"
      ]
    },
    {
      "cell_type": "code",
      "execution_count": null,
      "metadata": {
        "vscode": {
          "languageId": "r"
        },
        "id": "PD3nCtinQjut"
      },
      "outputs": [],
      "source": [
        "# defino los datos que forman parte de validation\n",
        "#  no hay undersampling\n",
        "dataset[, validation := 0L]\n",
        "dataset[ foto_mes %in% PARAM$input$validation,  validation := 1L]\n",
        "\n",
        "dvalidate <- lgb.Dataset(\n",
        "  data = data.matrix(dataset[validation == 1L, campos_buenos, with = FALSE]),\n",
        "  label = dataset[validation == 1L, clase01],\n",
        "  weight = dataset[validation == 1L,\n",
        "    ifelse(clase_ternaria == \"BAJA+2\", 1.0000001,\n",
        "      ifelse(clase_ternaria == \"BAJA+1\", 1.0, 1.0))],\n",
        "  free_raw_data = FALSE\n",
        ")"
      ]
    },
    {
      "cell_type": "code",
      "execution_count": null,
      "metadata": {
        "vscode": {
          "languageId": "r"
        },
        "id": "IgXtGbCoQjut"
      },
      "outputs": [],
      "source": [
        "# defino los datos de testing\n",
        "dataset[, testing := 0L]\n",
        "dataset[ foto_mes %in% PARAM$input$testing,  testing := 1L]\n",
        "\n",
        "\n",
        "dataset_test <- dataset[testing == 1, ]"
      ]
    },
    {
      "cell_type": "code",
      "execution_count": null,
      "metadata": {
        "vscode": {
          "languageId": "r"
        },
        "id": "CsjEqt9NQjuu",
        "outputId": "64b56570-bd99-4c6f-a85c-5b7cb5444298"
      },
      "outputs": [
        {
          "data": {
            "text/html": [
              "<table class=\"dataframe\">\n",
              "<caption>A matrix: 2 × 6 of type dbl</caption>\n",
              "<thead>\n",
              "\t<tr><th></th><th scope=col>used</th><th scope=col>(Mb)</th><th scope=col>gc trigger</th><th scope=col>(Mb)</th><th scope=col>max used</th><th scope=col>(Mb)</th></tr>\n",
              "</thead>\n",
              "<tbody>\n",
              "\t<tr><th scope=row>Ncells</th><td>  2244347</td><td> 119.9</td><td>  16016044</td><td>  855.4</td><td>  22909774</td><td> 1223.6</td></tr>\n",
              "\t<tr><th scope=row>Vcells</th><td>783392173</td><td>5976.9</td><td>5258651254</td><td>40120.4</td><td>6843588264</td><td>52212.5</td></tr>\n",
              "</tbody>\n",
              "</table>\n"
            ],
            "text/latex": [
              "A matrix: 2 × 6 of type dbl\n",
              "\\begin{tabular}{r|llllll}\n",
              "  & used & (Mb) & gc trigger & (Mb) & max used & (Mb)\\\\\n",
              "\\hline\n",
              "\tNcells &   2244347 &  119.9 &   16016044 &   855.4 &   22909774 &  1223.6\\\\\n",
              "\tVcells & 783392173 & 5976.9 & 5258651254 & 40120.4 & 6843588264 & 52212.5\\\\\n",
              "\\end{tabular}\n"
            ],
            "text/markdown": [
              "\n",
              "A matrix: 2 × 6 of type dbl\n",
              "\n",
              "| <!--/--> | used | (Mb) | gc trigger | (Mb) | max used | (Mb) |\n",
              "|---|---|---|---|---|---|---|\n",
              "| Ncells |   2244347 |  119.9 |   16016044 |   855.4 |   22909774 |  1223.6 |\n",
              "| Vcells | 783392173 | 5976.9 | 5258651254 | 40120.4 | 6843588264 | 52212.5 |\n",
              "\n"
            ],
            "text/plain": [
              "       used      (Mb)   gc trigger (Mb)    max used   (Mb)   \n",
              "Ncells   2244347  119.9   16016044   855.4   22909774  1223.6\n",
              "Vcells 783392173 5976.9 5258651254 40120.4 6843588264 52212.5"
            ]
          },
          "metadata": {},
          "output_type": "display_data"
        }
      ],
      "source": [
        "# libero espacio\n",
        "rm(dataset)\n",
        "gc()"
      ]
    },
    {
      "cell_type": "code",
      "execution_count": null,
      "metadata": {
        "vscode": {
          "languageId": "r"
        },
        "id": "-atduHLZQjuu"
      },
      "outputs": [],
      "source": [
        "# Aqui comienza la configuracion de la Bayesian Optimization\n",
        "funcion_optimizar <- EstimarGanancia_lightgbm # la funcion que voy a maximizar\n",
        "\n",
        "configureMlr(show.learner.output = FALSE)\n",
        "\n",
        "# configuro la busqueda bayesiana,  los hiperparametros que se van a optimizar\n",
        "# por favor, no desesperarse por lo complejo\n",
        "obj.fun <- makeSingleObjectiveFunction(\n",
        "  fn = funcion_optimizar, # la funcion que voy a maximizar\n",
        "  minimize = FALSE, # estoy Maximizando la ganancia\n",
        "  noisy = TRUE,\n",
        "  par.set = PARAM$bo_lgb, # definido al comienzo del programa\n",
        "  has.simple.signature = FALSE # paso los parametros en una lista\n",
        ")\n",
        "\n",
        "# cada 600 segundos guardo el resultado intermedio\n",
        "ctrl <- makeMBOControl(\n",
        "  save.on.disk.at.time = 600, # se graba cada 600 segundos\n",
        "  save.file.path = kbayesiana\n",
        ") # se graba cada 600 segundos\n",
        "\n",
        "# indico la cantidad de iteraciones que va a tener la Bayesian Optimization\n",
        "ctrl <- setMBOControlTermination(\n",
        "  ctrl,\n",
        "  iters = PARAM$bo_iteraciones\n",
        ") # cantidad de iteraciones\n",
        "\n",
        "# defino el método estandar para la creacion de los puntos iniciales,\n",
        "# los \"No Inteligentes\"\n",
        "ctrl <- setMBOControlInfill(ctrl, crit = makeMBOInfillCritEI())\n",
        "\n",
        "\n",
        "# establezco la funcion que busca el maximo\n",
        "surr.km <- makeLearner(\n",
        "  \"regr.km\",\n",
        "  predict.type = \"se\",\n",
        "  covtype = \"matern3_2\",\n",
        "  control = list(trace = TRUE)\n",
        ")"
      ]
    },
    {
      "cell_type": "code",
      "execution_count": null,
      "metadata": {
        "vscode": {
          "languageId": "r"
        },
        "id": "qvLTrLuCQjuu",
        "outputId": "b3560c16-04a0-4c6d-c320-5bf9f568ce87"
      },
      "outputs": [
        {
          "name": "stderr",
          "output_type": "stream",
          "text": [
            "Computing y column(s) for design. Not provided.\n",
            "\n"
          ]
        },
        {
          "name": "stdout",
          "output_type": "stream",
          "text": [
            "Validate  1     820    105147798     108612308    \n",
            "20231104 051039\t602\t976271\tgbdt\tbinary\tcustom\tTRUE\tTRUE\tFALSE\tTRUE\t-100\t-1\t0\t0.001\t0\t0\t31\t399\t1\t1\t1\tFALSE\t1\t0.1\t50\t0.5\tTRUE\t279511\t0.13694120913744\t0.511200065682206\t759\t20645\t14326\t141615191.404298\t1\n",
            "Validate  2     470    105623574     105623574    \n",
            "20231104 051405\t602\t976271\tgbdt\tbinary\tcustom\tTRUE\tTRUE\tFALSE\tTRUE\t-100\t-1\t0\t0.001\t0\t0\t31\t35\t1\t1\t1\tFALSE\t1\t0.1\t50\t0.5\tTRUE\t279511\t0.10871455284534\t0.383395616570779\t371\t38535\t12652\t136609593.203398\t2\n",
            "Validate  3     690    102108451     105115845    \n",
            "20231104 051844\t602\t976271\tgbdt\tbinary\tcustom\tTRUE\tTRUE\tFALSE\tTRUE\t-100\t-1\t0\t0.001\t0\t0\t31\t272\t1\t1\t1\tFALSE\t1\t0.1\t50\t0.5\tTRUE\t279511\t0.153177819112316\t0.276715104630857\t621\t15235\t12668\t140902730.634683\t3\n",
            "Validate  4     660    95407565     102675377     \n",
            "20231104 052143\t602\t976271\tgbdt\tbinary\tcustom\tTRUE\tTRUE\tFALSE\tTRUE\t-100\t-1\t0\t0.001\t0\t0\t31\t253\t1\t1\t1\tFALSE\t1\t0.1\t50\t0.5\tTRUE\t279511\t0.271073784258333\t0.78185350669577\t116\t34014\t15020\t136361889.055472\t4\n",
            "Validate  5     610    95690287     101757958     \n",
            "20231104 052703\t602\t976271\tgbdt\tbinary\tcustom\tTRUE\tTRUE\tFALSE\tTRUE\t-100\t-1\t0\t0.001\t0\t0\t31\t198\t1\t1\t1\tFALSE\t1\t0.1\t50\t0.5\tTRUE\t279511\t0.238883439445053\t0.644795008537039\t542\t2127\t14054\t136554033.983009\t5\n",
            "Validate  6     1080    104188224     105200940    \n",
            "20231104 053140\t602\t976271\tgbdt\tbinary\tcustom\tTRUE\tTRUE\tFALSE\tTRUE\t-100\t-1\t0\t0.001\t0\t0\t31\t644\t1\t1\t1\tFALSE\t1\t0.1\t50\t0.5\tTRUE\t279511\t0.0900664854224306\t0.0754280283300613\t412\t23029\t10467\t143230050.474763\t6\n",
            "Validate  7     590    98463252     106577592     \n",
            "20231104 053451\t602\t976271\tgbdt\tbinary\tcustom\tTRUE\tTRUE\tFALSE\tTRUE\t-100\t-1\t0\t0.001\t0\t0\t31\t176\t1\t1\t1\tFALSE\t1\t0.1\t50\t0.5\tTRUE\t279511\t0.186720657731057\t0.696503204608016\t661\t16723\t15586\t137061378.310845\t7\n",
            "Validate  8     550    99049552     105694763     \n",
            "20231104 053715\t602\t976271\tgbdt\tbinary\tcustom\tTRUE\tTRUE\tFALSE\tTRUE\t-100\t-1\t0\t0.001\t0\t0\t31\t60\t1\t1\t1\tFALSE\t1\t0.1\t50\t0.5\tTRUE\t279511\t0.0429818473849446\t0.840359180488013\t150\t42638\t15411\t134464329.335332\t8\n",
            "Validate  9     550    102286578     106624535    \n",
            "20231104 054209\t602\t976271\tgbdt\tbinary\tcustom\tTRUE\tTRUE\tFALSE\tTRUE\t-100\t-1\t0\t0.001\t0\t0\t31\t127\t1\t1\t1\tFALSE\t1\t0.1\t50\t0.5\tTRUE\t279511\t0.166457323828363\t0.380679800144862\t905\t3322\t13484\t137726682.658671\t9\n",
            "Validate  10     480    101662224     102589555    \n",
            "20231104 054603\t602\t976271\tgbdt\tbinary\tcustom\tTRUE\tTRUE\tFALSE\tTRUE\t-100\t-1\t0\t0.001\t0\t0\t31\t32\t1\t1\t1\tFALSE\t1\t0.1\t50\t0.5\tTRUE\t279511\t0.0768787990038982\t0.575646079617873\t831\t46409\t13641\t128659226.886557\t10\n",
            "Validate  11     920    100148608     104666848    \n",
            "20231104 055336\t602\t976271\tgbdt\tbinary\tcustom\tTRUE\tTRUE\tFALSE\tTRUE\t-100\t-1\t0\t0.001\t0\t0\t31\t505\t1\t1\t1\tFALSE\t1\t0.1\t50\t0.5\tTRUE\t279511\t0.199060535248718\t0.482284466433484\t268\t29593\t11923\t142063677.661169\t11\n",
            "Validate  12     530    98039212     101475015     \n",
            "20231104 055530\t602\t976271\tgbdt\tbinary\tcustom\tTRUE\tTRUE\tFALSE\tTRUE\t-100\t-1\t0\t0.001\t0\t0\t31\t118\t1\t1\t1\tFALSE\t1\t0.1\t50\t0.5\tTRUE\t279511\t0.218087663662154\t0.0349420346751867\t500\t8456\t15701\t133673689.655172\t12\n",
            "Validate  13     1010    98571663     102877755    \n",
            "20231104 055944\t602\t976271\tgbdt\tbinary\tcustom\tTRUE\tTRUE\tFALSE\tTRUE\t-100\t-1\t0\t0.001\t0\t0\t31\t594\t1\t1\t1\tFALSE\t1\t0.1\t50\t0.5\tTRUE\t279511\t0.247791156655876\t0.936292199923046\t887\t48584\t12788\t142064009.995003\t13\n",
            "Validate  14     650    97421414     105258440     \n",
            "20231104 060338\t602\t976271\tgbdt\tbinary\tcustom\tTRUE\tTRUE\tFALSE\tTRUE\t-100\t-1\t0\t0.001\t0\t0\t31\t113\t1\t1\t1\tFALSE\t1\t0.1\t50\t0.5\tTRUE\t279511\t0.0278307219524868\t0.240808322774392\t56\t34450\t13958\t128553590.204898\t14\n",
            "Validate  15     2050    106131324     109109840    \n",
            "20231104 061349\t602\t976271\tgbdt\tbinary\tcustom\tTRUE\tTRUE\tFALSE\tTRUE\t-100\t-1\t0\t0.001\t0\t0\t31\t1601\t1\t1\t1\tFALSE\t1\t0.1\t50\t0.5\tTRUE\t279511\t0.0708034699544078\t0.142060961340176\t995\t27067\t12639\t141485080.95952\t15\n",
            "Validate  16     500    99957086     103103269     \n",
            "20231104 061650\t602\t976271\tgbdt\tbinary\tcustom\tTRUE\tTRUE\tFALSE\tTRUE\t-100\t-1\t0\t0.001\t0\t0\t31\t94\t1\t1\t1\tFALSE\t1\t0.1\t50\t0.5\tTRUE\t279511\t0.291614252373693\t0.946646284638409\t253\t10265\t12932\t141255550.224888\t16\n"
          ]
        },
        {
          "name": "stderr",
          "output_type": "stream",
          "text": [
            "[mbo] 0: learning_rate=0.137; feature_fraction=0.511; num_leaves=759; min_data_in_leaf=20645 : y = 1.42e+08 : 452.7 secs : initdesign\n",
            "\n",
            "[mbo] 0: learning_rate=0.109; feature_fraction=0.383; num_leaves=371; min_data_in_leaf=38535 : y = 1.37e+08 : 206.7 secs : initdesign\n",
            "\n",
            "[mbo] 0: learning_rate=0.153; feature_fraction=0.277; num_leaves=621; min_data_in_leaf=15235 : y = 1.41e+08 : 278.2 secs : initdesign\n",
            "\n",
            "[mbo] 0: learning_rate=0.271; feature_fraction=0.782; num_leaves=116; min_data_in_leaf=34014 : y = 1.36e+08 : 179.1 secs : initdesign\n",
            "\n",
            "[mbo] 0: learning_rate=0.239; feature_fraction=0.645; num_leaves=542; min_data_in_leaf=2127 : y = 1.37e+08 : 320.0 secs : initdesign\n",
            "\n",
            "[mbo] 0: learning_rate=0.0901; feature_fraction=0.0754; num_leaves=412; min_data_in_leaf=23029 : y = 1.43e+08 : 277.5 secs : initdesign\n",
            "\n",
            "[mbo] 0: learning_rate=0.187; feature_fraction=0.697; num_leaves=661; min_data_in_leaf=16723 : y = 1.37e+08 : 190.6 secs : initdesign\n",
            "\n",
            "[mbo] 0: learning_rate=0.043; feature_fraction=0.84; num_leaves=150; min_data_in_leaf=42638 : y = 1.34e+08 : 144.6 secs : initdesign\n",
            "\n",
            "[mbo] 0: learning_rate=0.166; feature_fraction=0.381; num_leaves=905; min_data_in_leaf=3322 : y = 1.38e+08 : 294.0 secs : initdesign\n",
            "\n",
            "[mbo] 0: learning_rate=0.0769; feature_fraction=0.576; num_leaves=831; min_data_in_leaf=46409 : y = 1.29e+08 : 233.8 secs : initdesign\n",
            "\n",
            "[mbo] 0: learning_rate=0.199; feature_fraction=0.482; num_leaves=268; min_data_in_leaf=29593 : y = 1.42e+08 : 453.0 secs : initdesign\n",
            "\n",
            "[mbo] 0: learning_rate=0.218; feature_fraction=0.0349; num_leaves=500; min_data_in_leaf=8456 : y = 1.34e+08 : 113.9 secs : initdesign\n",
            "\n",
            "[mbo] 0: learning_rate=0.248; feature_fraction=0.936; num_leaves=887; min_data_in_leaf=48584 : y = 1.42e+08 : 253.6 secs : initdesign\n",
            "\n",
            "[mbo] 0: learning_rate=0.0278; feature_fraction=0.241; num_leaves=56; min_data_in_leaf=34450 : y = 1.29e+08 : 233.9 secs : initdesign\n",
            "\n",
            "[mbo] 0: learning_rate=0.0708; feature_fraction=0.142; num_leaves=995; min_data_in_leaf=27067 : y = 1.41e+08 : 611.8 secs : initdesign\n",
            "\n",
            "[mbo] 0: learning_rate=0.292; feature_fraction=0.947; num_leaves=253; min_data_in_leaf=10265 : y = 1.41e+08 : 180.6 secs : initdesign\n",
            "\n",
            "Saved the current state after iteration 1 in the file HT8230 (Clase 12, Base Sem1).RDATA.\n",
            "\n"
          ]
        },
        {
          "name": "stdout",
          "output_type": "stream",
          "text": [
            "Validate  17     540    103461438     107846019    \n",
            "20231104 061903\t602\t976271\tgbdt\tbinary\tcustom\tTRUE\tTRUE\tFALSE\tTRUE\t-100\t-1\t0\t0.001\t0\t0\t31\t104\t1\t1\t1\tFALSE\t1\t0.1\t50\t0.5\tTRUE\t279511\t0.101013871860902\t0.0663892482684551\t824\t22274\t14710\t136904782.608696\t17\n"
          ]
        },
        {
          "name": "stderr",
          "output_type": "stream",
          "text": [
            "[mbo] 1: learning_rate=0.101; feature_fraction=0.0664; num_leaves=824; min_data_in_leaf=22274 : y = 1.37e+08 : 130.5 secs : infill_ei\n",
            "\n"
          ]
        },
        {
          "name": "stdout",
          "output_type": "stream",
          "text": [
            "Validate  18     660    100473837     105673284    \n",
            "20231104 062108\t602\t976271\tgbdt\tbinary\tcustom\tTRUE\tTRUE\tFALSE\tTRUE\t-100\t-1\t0\t0.001\t0\t0\t31\t231\t1\t1\t1\tFALSE\t1\t0.1\t50\t0.5\tTRUE\t279511\t0.110138965699545\t0.0202080604288064\t419\t12463\t13516\t134298564.717641\t18\n"
          ]
        },
        {
          "name": "stderr",
          "output_type": "stream",
          "text": [
            "[mbo] 2: learning_rate=0.11; feature_fraction=0.0202; num_leaves=419; min_data_in_leaf=12463 : y = 1.34e+08 : 124.8 secs : infill_ei\n",
            "\n"
          ]
        },
        {
          "name": "stdout",
          "output_type": "stream",
          "text": [
            "Validate  19     600    98870890     104128106     \n",
            "20231104 062523\t602\t976271\tgbdt\tbinary\tcustom\tTRUE\tTRUE\tFALSE\tTRUE\t-100\t-1\t0\t0.001\t0\t0\t31\t190\t1\t1\t1\tFALSE\t1\t0.1\t50\t0.5\tTRUE\t279511\t0.294231507064609\t0.310656914588514\t412\t19314\t12191\t137169946.526737\t19\n"
          ]
        },
        {
          "name": "stderr",
          "output_type": "stream",
          "text": [
            "[mbo] 3: learning_rate=0.294; feature_fraction=0.311; num_leaves=412; min_data_in_leaf=19314 : y = 1.37e+08 : 254.1 secs : infill_ei\n",
            "\n"
          ]
        },
        {
          "name": "stdout",
          "output_type": "stream",
          "text": [
            "Validate  20     850    103188935     106765802    \n",
            "20231104 063235\t602\t976271\tgbdt\tbinary\tcustom\tTRUE\tTRUE\tFALSE\tTRUE\t-100\t-1\t0\t0.001\t0\t0\t31\t433\t1\t1\t1\tFALSE\t1\t0.1\t50\t0.5\tTRUE\t279511\t0.219295176006098\t0.533428394957128\t379\t30892\t13308\t135468407.796102\t20\n"
          ]
        },
        {
          "name": "stderr",
          "output_type": "stream",
          "text": [
            "[mbo] 4: learning_rate=0.219; feature_fraction=0.533; num_leaves=379; min_data_in_leaf=30892 : y = 1.35e+08 : 431.7 secs : infill_ei\n",
            "\n",
            "Saved the current state after iteration 5 in the file HT8230 (Clase 12, Base Sem1).RDATA.\n",
            "\n"
          ]
        },
        {
          "name": "stdout",
          "output_type": "stream",
          "text": [
            "Validate  21     480    103901465     104928030    \n",
            "20231104 063644\t602\t976271\tgbdt\tbinary\tcustom\tTRUE\tTRUE\tFALSE\tTRUE\t-100\t-1\t0\t0.001\t0\t0\t31\t30\t1\t1\t1\tFALSE\t1\t0.1\t50\t0.5\tTRUE\t279511\t0.0679463801090529\t0.519576129272802\t1024\t32800\t15792\t131054860.569715\t21\n"
          ]
        },
        {
          "name": "stderr",
          "output_type": "stream",
          "text": [
            "[mbo] 5: learning_rate=0.0679; feature_fraction=0.52; num_leaves=1024; min_data_in_leaf=32800 : y = 1.31e+08 : 246.3 secs : infill_ei\n",
            "\n"
          ]
        },
        {
          "name": "stdout",
          "output_type": "stream",
          "text": [
            "Validate  22     550    100477731     104430583    \n",
            "20231104 063927\t602\t976271\tgbdt\tbinary\tcustom\tTRUE\tTRUE\tFALSE\tTRUE\t-100\t-1\t0\t0.001\t0\t0\t31\t141\t1\t1\t1\tFALSE\t1\t0.1\t50\t0.5\tTRUE\t279511\t0.299691394519305\t0.64672403506852\t23\t22695\t13379\t139106620.189905\t22\n"
          ]
        },
        {
          "name": "stderr",
          "output_type": "stream",
          "text": [
            "[mbo] 6: learning_rate=0.3; feature_fraction=0.647; num_leaves=23; min_data_in_leaf=22695 : y = 1.39e+08 : 162.8 secs : infill_ei\n",
            "\n"
          ]
        },
        {
          "name": "stdout",
          "output_type": "stream",
          "text": [
            "Validate  23     830    104357893     106961865    \n",
            "20231104 064235\t602\t976271\tgbdt\tbinary\tcustom\tTRUE\tTRUE\tFALSE\tTRUE\t-100\t-1\t0\t0.001\t0\t0\t31\t281\t1\t1\t1\tFALSE\t1\t0.1\t50\t0.5\tTRUE\t279511\t0.0255868075238671\t0.0382536196312106\t419\t3467\t12402\t134828878.56072\t23\n"
          ]
        },
        {
          "name": "stderr",
          "output_type": "stream",
          "text": [
            "[mbo] 7: learning_rate=0.0256; feature_fraction=0.0383; num_leaves=419; min_data_in_leaf=3467 : y = 1.35e+08 : 188.1 secs : infill_ei\n",
            "\n"
          ]
        },
        {
          "name": "stdout",
          "output_type": "stream",
          "text": [
            "Validate  24     560    100524313     104350798    \n",
            "20231104 064539\t602\t976271\tgbdt\tbinary\tcustom\tTRUE\tTRUE\tFALSE\tTRUE\t-100\t-1\t0\t0.001\t0\t0\t31\t150\t1\t1\t1\tFALSE\t1\t0.1\t50\t0.5\tTRUE\t279511\t0.245828110313213\t0.950938090583383\t887\t16110\t11676\t142701083.458271\t24\n"
          ]
        },
        {
          "name": "stderr",
          "output_type": "stream",
          "text": [
            "[mbo] 8: learning_rate=0.246; feature_fraction=0.951; num_leaves=887; min_data_in_leaf=16110 : y = 1.43e+08 : 183.1 secs : infill_ei\n",
            "\n",
            "Saved the current state after iteration 9 in the file HT8230 (Clase 12, Base Sem1).RDATA.\n",
            "\n"
          ]
        },
        {
          "name": "stdout",
          "output_type": "stream",
          "text": [
            "Validate  25     730    102408730     104775857    \n",
            "20231104 064910\t602\t976271\tgbdt\tbinary\tcustom\tTRUE\tTRUE\tFALSE\tTRUE\t-100\t-1\t0\t0.001\t0\t0\t31\t314\t1\t1\t1\tFALSE\t1\t0.1\t50\t0.5\tTRUE\t279511\t0.239209927147888\t0.826986486724645\t887\t40318\t11654\t144552994.502749\t25\n"
          ]
        },
        {
          "name": "stderr",
          "output_type": "stream",
          "text": [
            "[mbo] 9: learning_rate=0.239; feature_fraction=0.827; num_leaves=887; min_data_in_leaf=40318 : y = 1.45e+08 : 208.8 secs : infill_ei\n",
            "\n"
          ]
        },
        {
          "name": "stdout",
          "output_type": "stream",
          "text": [
            "Validate  26     830    106261249     108945929    \n",
            "20231104 065322\t602\t976271\tgbdt\tbinary\tcustom\tTRUE\tTRUE\tFALSE\tTRUE\t-100\t-1\t0\t0.001\t0\t0\t31\t396\t1\t1\t1\tFALSE\t1\t0.1\t50\t0.5\tTRUE\t279511\t0.0913849157633263\t0.631066760658777\t887\t33121\t13614\t137991815.092454\t26\n"
          ]
        },
        {
          "name": "stderr",
          "output_type": "stream",
          "text": [
            "[mbo] 10: learning_rate=0.0914; feature_fraction=0.631; num_leaves=887; min_data_in_leaf=33121 : y = 1.38e+08 : 251.7 secs : infill_ei\n",
            "\n"
          ]
        },
        {
          "name": "stdout",
          "output_type": "stream",
          "text": [
            "Validate  27     540    99578456     106291999     \n",
            "20231104 065626\t602\t976271\tgbdt\tbinary\tcustom\tTRUE\tTRUE\tFALSE\tTRUE\t-100\t-1\t0\t0.001\t0\t0\t31\t129\t1\t1\t1\tFALSE\t1\t0.1\t50\t0.5\tTRUE\t279511\t0.208098987674311\t0.836842908708031\t887\t15992\t13886\t136140008.995502\t27\n"
          ]
        },
        {
          "name": "stderr",
          "output_type": "stream",
          "text": [
            "[mbo] 11: learning_rate=0.208; feature_fraction=0.837; num_leaves=887; min_data_in_leaf=15992 : y = 1.36e+08 : 183.6 secs : infill_ei\n",
            "\n",
            "Saved the current state after iteration 12 in the file HT8230 (Clase 12, Base Sem1).RDATA.\n",
            "\n"
          ]
        },
        {
          "name": "stdout",
          "output_type": "stream",
          "text": [
            "Validate  28     460    101694317     102852788    \n",
            "20231104 065952\t602\t976271\tgbdt\tbinary\tcustom\tTRUE\tTRUE\tFALSE\tTRUE\t-100\t-1\t0\t0.001\t0\t0\t31\t30\t1\t1\t1\tFALSE\t1\t0.1\t50\t0.5\tTRUE\t279511\t0.110472577592436\t0.394277099015684\t865\t41216\t15532\t128085895.052474\t28\n"
          ]
        },
        {
          "name": "stderr",
          "output_type": "stream",
          "text": [
            "[mbo] 12: learning_rate=0.11; feature_fraction=0.394; num_leaves=865; min_data_in_leaf=41216 : y = 1.28e+08 : 203.7 secs : infill_ei\n",
            "\n"
          ]
        },
        {
          "name": "stdout",
          "output_type": "stream",
          "text": [
            "Validate  29     1120    108960555     110813722    \n",
            "20231104 070649\t602\t976271\tgbdt\tbinary\tcustom\tTRUE\tTRUE\tFALSE\tTRUE\t-100\t-1\t0\t0.001\t0\t0\t31\t631\t1\t1\t1\tFALSE\t1\t0.1\t50\t0.5\tTRUE\t279511\t0.0419489395878789\t0.84226222783401\t622\t9623\t14184\t147592659.670165\t29\n"
          ]
        },
        {
          "name": "stderr",
          "output_type": "stream",
          "text": [
            "[mbo] 13: learning_rate=0.0419; feature_fraction=0.842; num_leaves=622; min_data_in_leaf=9623 : y = 1.48e+08 : 416.4 secs : infill_ei\n",
            "\n",
            "Saved the current state after iteration 14 in the file HT8230 (Clase 12, Base Sem1).RDATA.\n",
            "\n"
          ]
        },
        {
          "name": "stdout",
          "output_type": "stream",
          "text": [
            "Validate  30     1020    100845995     104260998    \n",
            "20231104 071125\t602\t976271\tgbdt\tbinary\tcustom\tTRUE\tTRUE\tFALSE\tTRUE\t-100\t-1\t0\t0.001\t0\t0\t31\t606\t1\t1\t1\tFALSE\t1\t0.1\t50\t0.5\tTRUE\t279511\t0.169387332471536\t0.939534645981941\t711\t42638\t13524\t146277807.096452\t30\n"
          ]
        },
        {
          "name": "stderr",
          "output_type": "stream",
          "text": [
            "[mbo] 14: learning_rate=0.169; feature_fraction=0.94; num_leaves=711; min_data_in_leaf=42638 : y = 1.46e+08 : 273.0 secs : infill_ei\n",
            "\n"
          ]
        },
        {
          "name": "stdout",
          "output_type": "stream",
          "text": [
            "Validate  31     820    98953252     104559084     \n",
            "20231104 071651\t602\t976271\tgbdt\tbinary\tcustom\tTRUE\tTRUE\tFALSE\tTRUE\t-100\t-1\t0\t0.001\t0\t0\t31\t404\t1\t1\t1\tFALSE\t1\t0.1\t50\t0.5\tTRUE\t279511\t0.231584919452235\t0.173097595043487\t920\t2080\t13524\t130318926.536732\t31\n"
          ]
        },
        {
          "name": "stderr",
          "output_type": "stream",
          "text": [
            "[mbo] 15: learning_rate=0.232; feature_fraction=0.173; num_leaves=920; min_data_in_leaf=2080 : y = 1.3e+08 : 326.0 secs : infill_ei\n",
            "\n"
          ]
        },
        {
          "name": "stdout",
          "output_type": "stream",
          "text": [
            "Validate  32     860    94289552     101223603     \n",
            "20231104 071920\t602\t976271\tgbdt\tbinary\tcustom\tTRUE\tTRUE\tFALSE\tTRUE\t-100\t-1\t0\t0.001\t0\t0\t31\t455\t1\t1\t1\tFALSE\t1\t0.1\t50\t0.5\tTRUE\t279511\t0.285965586658801\t0.0141181996187581\t180\t41347\t13540\t134050244.877561\t32\n"
          ]
        },
        {
          "name": "stderr",
          "output_type": "stream",
          "text": [
            "[mbo] 16: learning_rate=0.286; feature_fraction=0.0141; num_leaves=180; min_data_in_leaf=41347 : y = 1.34e+08 : 148.6 secs : infill_ei\n",
            "\n",
            "Saved the current state after iteration 17 in the file HT8230 (Clase 12, Base Sem1).RDATA.\n",
            "\n"
          ]
        },
        {
          "name": "stdout",
          "output_type": "stream",
          "text": [
            "Validate  33     720    101711459     105275417    \n",
            "20231104 072333\t602\t976271\tgbdt\tbinary\tcustom\tTRUE\tTRUE\tFALSE\tTRUE\t-100\t-1\t0\t0.001\t0\t0\t31\t298\t1\t1\t1\tFALSE\t1\t0.1\t50\t0.5\tTRUE\t279511\t0.13902323326852\t0.827545999227408\t324\t15442\t12070\t141175447.276362\t33\n"
          ]
        },
        {
          "name": "stderr",
          "output_type": "stream",
          "text": [
            "[mbo] 17: learning_rate=0.139; feature_fraction=0.828; num_leaves=324; min_data_in_leaf=15442 : y = 1.41e+08 : 249.7 secs : infill_ei\n",
            "\n"
          ]
        },
        {
          "name": "stdout",
          "output_type": "stream",
          "text": [
            "Validate  34     570    102466101     106728423    \n",
            "20231104 072914\t602\t976271\tgbdt\tbinary\tcustom\tTRUE\tTRUE\tFALSE\tTRUE\t-100\t-1\t0\t0.001\t0\t0\t31\t151\t1\t1\t1\tFALSE\t1\t0.1\t50\t0.5\tTRUE\t279511\t0.169078910679355\t0.477624603136291\t924\t3355\t14750\t134509320.33983\t34\n"
          ]
        },
        {
          "name": "stderr",
          "output_type": "stream",
          "text": [
            "[mbo] 18: learning_rate=0.169; feature_fraction=0.478; num_leaves=924; min_data_in_leaf=3355 : y = 1.35e+08 : 340.9 secs : infill_ei\n",
            "\n"
          ]
        },
        {
          "name": "stdout",
          "output_type": "stream",
          "text": [
            "Validate  35     1000    95260089     103315879    \n",
            "20231104 073543\t602\t976271\tgbdt\tbinary\tcustom\tTRUE\tTRUE\tFALSE\tTRUE\t-100\t-1\t0\t0.001\t0\t0\t31\t586\t1\t1\t1\tFALSE\t1\t0.1\t50\t0.5\tTRUE\t279511\t0.26444843462048\t0.794464204651032\t965\t6633\t13019\t133515855.572214\t35\n"
          ]
        },
        {
          "name": "stderr",
          "output_type": "stream",
          "text": [
            "[mbo] 19: learning_rate=0.264; feature_fraction=0.794; num_leaves=965; min_data_in_leaf=6633 : y = 1.34e+08 : 389.0 secs : infill_ei\n",
            "\n",
            "Saved the current state after iteration 20 in the file HT8230 (Clase 12, Base Sem1).RDATA.\n",
            "\n"
          ]
        },
        {
          "name": "stdout",
          "output_type": "stream",
          "text": [
            "Validate  36     1130    111736270     112644567    \n",
            "20231104 074222\t602\t976271\tgbdt\tbinary\tcustom\tTRUE\tTRUE\tFALSE\tTRUE\t-100\t-1\t0\t0.001\t0\t0\t31\t677\t1\t1\t1\tFALSE\t1\t0.1\t50\t0.5\tTRUE\t279511\t0.0716026909889653\t0.938601369674891\t506\t10341\t12072\t146712331.834083\t36\n"
          ]
        },
        {
          "name": "stderr",
          "output_type": "stream",
          "text": [
            "[mbo] 20: learning_rate=0.0716; feature_fraction=0.939; num_leaves=506; min_data_in_leaf=10341 : y = 1.47e+08 : 395.8 secs : infill_ei\n",
            "\n"
          ]
        },
        {
          "name": "stdout",
          "output_type": "stream",
          "text": [
            "Validate  37     470    105014346     107520171    \n",
            "20231104 074547\t602\t976271\tgbdt\tbinary\tcustom\tTRUE\tTRUE\tFALSE\tTRUE\t-100\t-1\t0\t0.001\t0\t0\t31\t38\t1\t1\t1\tFALSE\t1\t0.1\t50\t0.5\tTRUE\t279511\t0.105073615669699\t0.363749007146848\t820\t38314\t13729\t135723426.786607\t37\n"
          ]
        },
        {
          "name": "stderr",
          "output_type": "stream",
          "text": [
            "[mbo] 21: learning_rate=0.105; feature_fraction=0.364; num_leaves=820; min_data_in_leaf=38314 : y = 1.36e+08 : 204.8 secs : infill_ei\n",
            "\n",
            "Saved the current state after iteration 22 in the file HT8230 (Clase 12, Base Sem1).RDATA.\n",
            "\n"
          ]
        },
        {
          "name": "stdout",
          "output_type": "stream",
          "text": [
            "Validate  38     930    103907864     107870220    \n",
            "20231104 075205\t602\t976271\tgbdt\tbinary\tcustom\tTRUE\tTRUE\tFALSE\tTRUE\t-100\t-1\t0\t0.001\t0\t0\t31\t521\t1\t1\t1\tFALSE\t1\t0.1\t50\t0.5\tTRUE\t279511\t0.272804857940276\t0.309934916273431\t516\t37566\t14621\t137900416.291854\t38\n"
          ]
        },
        {
          "name": "stderr",
          "output_type": "stream",
          "text": [
            "[mbo] 22: learning_rate=0.273; feature_fraction=0.31; num_leaves=516; min_data_in_leaf=37566 : y = 1.38e+08 : 375.1 secs : infill_ei\n",
            "\n"
          ]
        },
        {
          "name": "stdout",
          "output_type": "stream",
          "text": [
            "Validate  39     820    99823124     102933489     \n",
            "20231104 075811\t602\t976271\tgbdt\tbinary\tcustom\tTRUE\tTRUE\tFALSE\tTRUE\t-100\t-1\t0\t0.001\t0\t0\t31\t410\t1\t1\t1\tFALSE\t1\t0.1\t50\t0.5\tTRUE\t279511\t0.280918030410593\t0.407511616658682\t503\t49398\t12178\t139145804.097951\t39\n"
          ]
        },
        {
          "name": "stderr",
          "output_type": "stream",
          "text": [
            "[mbo] 23: learning_rate=0.281; feature_fraction=0.408; num_leaves=503; min_data_in_leaf=49398 : y = 1.39e+08 : 366.0 secs : infill_ei\n",
            "\n",
            "Saved the current state after iteration 24 in the file HT8230 (Clase 12, Base Sem1).RDATA.\n",
            "\n"
          ]
        },
        {
          "name": "stdout",
          "output_type": "stream",
          "text": [
            "Validate  40     840    99221096     101503575     \n",
            "20231104 080339\t602\t976271\tgbdt\tbinary\tcustom\tTRUE\tTRUE\tFALSE\tTRUE\t-100\t-1\t0\t0.001\t0\t0\t31\t429\t1\t1\t1\tFALSE\t1\t0.1\t50\t0.5\tTRUE\t279511\t0.269658782215395\t0.293410377101067\t539\t44955\t11782\t138957724.137931\t40\n"
          ]
        },
        {
          "name": "stderr",
          "output_type": "stream",
          "text": [
            "[mbo] 24: learning_rate=0.27; feature_fraction=0.293; num_leaves=539; min_data_in_leaf=44955 : y = 1.39e+08 : 324.7 secs : infill_ei\n",
            "\n"
          ]
        },
        {
          "name": "stdout",
          "output_type": "stream",
          "text": [
            "Validate  41     470    99440751     103879272    \n",
            "20231104 080605\t602\t976271\tgbdt\tbinary\tcustom\tTRUE\tTRUE\tFALSE\tTRUE\t-100\t-1\t0\t0.001\t0\t0\t31\t38\t1\t1\t1\tFALSE\t1\t0.1\t50\t0.5\tTRUE\t279511\t0.106375663572088\t0.165346264801995\t415\t36107\t14533\t129342183.408296\t41\n"
          ]
        },
        {
          "name": "stderr",
          "output_type": "stream",
          "text": [
            "[mbo] 25: learning_rate=0.106; feature_fraction=0.165; num_leaves=415; min_data_in_leaf=36107 : y = 1.29e+08 : 146.3 secs : infill_ei\n",
            "\n"
          ]
        },
        {
          "name": "stdout",
          "output_type": "stream",
          "text": [
            "Validate  42     630    97673291     104608794     \n",
            "20231104 080903\t602\t976271\tgbdt\tbinary\tcustom\tTRUE\tTRUE\tFALSE\tTRUE\t-100\t-1\t0\t0.001\t0\t0\t31\t215\t1\t1\t1\tFALSE\t1\t0.1\t50\t0.5\tTRUE\t279511\t0.226842459986376\t0.853135126530786\t754\t26666\t14054\t144249206.396802\t42\n"
          ]
        },
        {
          "name": "stderr",
          "output_type": "stream",
          "text": [
            "[mbo] 26: learning_rate=0.227; feature_fraction=0.853; num_leaves=754; min_data_in_leaf=26666 : y = 1.44e+08 : 177.3 secs : infill_ei\n",
            "\n",
            "Saved the current state after iteration 27 in the file HT8230 (Clase 12, Base Sem1).RDATA.\n",
            "\n"
          ]
        },
        {
          "name": "stdout",
          "output_type": "stream",
          "text": [
            "Validate  43     820    101871861     106976309    \n",
            "20231104 081538\t602\t976271\tgbdt\tbinary\tcustom\tTRUE\tTRUE\tFALSE\tTRUE\t-100\t-1\t0\t0.001\t0\t0\t31\t407\t1\t1\t1\tFALSE\t1\t0.1\t50\t0.5\tTRUE\t279511\t0.292970490781251\t0.488700571514026\t740\t40599\t12629\t144354941.029485\t43\n"
          ]
        },
        {
          "name": "stderr",
          "output_type": "stream",
          "text": [
            "[mbo] 27: learning_rate=0.293; feature_fraction=0.489; num_leaves=740; min_data_in_leaf=40599 : y = 1.44e+08 : 392.4 secs : infill_ei\n",
            "\n"
          ]
        },
        {
          "name": "stdout",
          "output_type": "stream",
          "text": [
            "Validate  44     1540    106967850     108999799    \n",
            "20231104 082327\t602\t976271\tgbdt\tbinary\tcustom\tTRUE\tTRUE\tFALSE\tTRUE\t-100\t-1\t0\t0.001\t0\t0\t31\t1093\t1\t1\t1\tFALSE\t1\t0.1\t50\t0.5\tTRUE\t279511\t0.0709510212063353\t0.149150602368406\t983\t21400\t11425\t143054725.137431\t44\n"
          ]
        },
        {
          "name": "stderr",
          "output_type": "stream",
          "text": [
            "[mbo] 28: learning_rate=0.071; feature_fraction=0.149; num_leaves=983; min_data_in_leaf=21400 : y = 1.43e+08 : 468.9 secs : infill_ei\n",
            "\n",
            "Saved the current state after iteration 29 in the file HT8230 (Clase 12, Base Sem1).RDATA.\n",
            "\n"
          ]
        },
        {
          "name": "stdout",
          "output_type": "stream",
          "text": [
            "Validate  45     680    102590996     105857288    \n",
            "20231104 082755\t602\t976271\tgbdt\tbinary\tcustom\tTRUE\tTRUE\tFALSE\tTRUE\t-100\t-1\t0\t0.001\t0\t0\t31\t260\t1\t1\t1\tFALSE\t1\t0.1\t50\t0.5\tTRUE\t279511\t0.19547436514964\t0.305046615094262\t18\t25558\t14270\t146606551.724138\t45\n"
          ]
        },
        {
          "name": "stderr",
          "output_type": "stream",
          "text": [
            "[mbo] 29: learning_rate=0.195; feature_fraction=0.305; num_leaves=18; min_data_in_leaf=25558 : y = 1.47e+08 : 264.9 secs : infill_ei\n",
            "\n"
          ]
        },
        {
          "name": "stdout",
          "output_type": "stream",
          "text": [
            "Validate  46     1720    104078456     106244104    \n",
            "20231104 083558\t602\t976271\tgbdt\tbinary\tcustom\tTRUE\tTRUE\tFALSE\tTRUE\t-100\t-1\t0\t0.001\t0\t0\t31\t1282\t1\t1\t1\tFALSE\t1\t0.1\t50\t0.5\tTRUE\t279511\t0.086461430790028\t0.11402842974274\t667\t16154\t12466\t138890403.798101\t46\n"
          ]
        },
        {
          "name": "stderr",
          "output_type": "stream",
          "text": [
            "[mbo] 30: learning_rate=0.0865; feature_fraction=0.114; num_leaves=667; min_data_in_leaf=16154 : y = 1.39e+08 : 482.5 secs : infill_ei\n",
            "\n",
            "Saved the current state after iteration 31 in the file HT8230 (Clase 12, Base Sem1).RDATA.\n",
            "\n"
          ]
        },
        {
          "name": "stdout",
          "output_type": "stream",
          "text": [
            "Validate  47     570    98172145     101691592     \n",
            "20231104 084148\t602\t976271\tgbdt\tbinary\tcustom\tTRUE\tTRUE\tFALSE\tTRUE\t-100\t-1\t0\t0.001\t0\t0\t31\t159\t1\t1\t1\tFALSE\t1\t0.1\t50\t0.5\tTRUE\t279511\t0.284711794150233\t0.493000620373161\t344\t2520\t13815\t119341516.741629\t47\n"
          ]
        },
        {
          "name": "stderr",
          "output_type": "stream",
          "text": [
            "[mbo] 31: learning_rate=0.285; feature_fraction=0.493; num_leaves=344; min_data_in_leaf=2520 : y = 1.19e+08 : 347.1 secs : infill_ei\n",
            "\n"
          ]
        },
        {
          "name": "stdout",
          "output_type": "stream",
          "text": [
            "Validate  48     840    106227438     110443887    \n",
            "20231104 084707\t602\t976271\tgbdt\tbinary\tcustom\tTRUE\tTRUE\tFALSE\tTRUE\t-100\t-1\t0\t0.001\t0\t0\t31\t408\t1\t1\t1\tFALSE\t1\t0.1\t50\t0.5\tTRUE\t279511\t0.10888489240711\t0.924031176311012\t130\t2987\t10828\t141148727.636182\t48\n"
          ]
        },
        {
          "name": "stderr",
          "output_type": "stream",
          "text": [
            "[mbo] 32: learning_rate=0.109; feature_fraction=0.924; num_leaves=130; min_data_in_leaf=2987 : y = 1.41e+08 : 319.0 secs : infill_ei\n",
            "\n",
            "Saved the current state after iteration 33 in the file HT8230 (Clase 12, Base Sem1).RDATA.\n",
            "\n"
          ]
        },
        {
          "name": "stdout",
          "output_type": "stream",
          "text": [
            "Validate  49     760    103967582     106102323    \n",
            "20231104 085416\t602\t976271\tgbdt\tbinary\tcustom\tTRUE\tTRUE\tFALSE\tTRUE\t-100\t-1\t0\t0.001\t0\t0\t31\t332\t1\t1\t1\tFALSE\t1\t0.1\t50\t0.5\tTRUE\t279511\t0.125551790570675\t0.398817350596899\t359\t22591\t12522\t142257204.397801\t49\n"
          ]
        },
        {
          "name": "stderr",
          "output_type": "stream",
          "text": [
            "[mbo] 33: learning_rate=0.126; feature_fraction=0.399; num_leaves=359; min_data_in_leaf=22591 : y = 1.42e+08 : 426.9 secs : infill_ei\n",
            "\n"
          ]
        },
        {
          "name": "stdout",
          "output_type": "stream",
          "text": [
            "Validate  50     1060    106214061     109031594    \n",
            "20231104 090007\t602\t976271\tgbdt\tbinary\tcustom\tTRUE\tTRUE\tFALSE\tTRUE\t-100\t-1\t0\t0.001\t0\t0\t31\t634\t1\t1\t1\tFALSE\t1\t0.1\t50\t0.5\tTRUE\t279511\t0.128833770345874\t0.133067864709428\t974\t5457\t13186\t134511853.073463\t50\n"
          ]
        },
        {
          "name": "stderr",
          "output_type": "stream",
          "text": [
            "[mbo] 34: learning_rate=0.129; feature_fraction=0.133; num_leaves=974; min_data_in_leaf=5457 : y = 1.35e+08 : 349.7 secs : infill_ei\n",
            "\n",
            "Saved the current state after iteration 35 in the file HT8230 (Clase 12, Base Sem1).RDATA.\n",
            "\n"
          ]
        },
        {
          "name": "stdout",
          "output_type": "stream",
          "text": [
            "Validate  51     1320    107274279     110320028    \n",
            "20231104 090710\t602\t976271\tgbdt\tbinary\tcustom\tTRUE\tTRUE\tFALSE\tTRUE\t-100\t-1\t0\t0.001\t0\t0\t31\t859\t1\t1\t1\tFALSE\t1\t0.1\t50\t0.5\tTRUE\t279511\t0.0571398002266601\t0.665752443346846\t1021\t16604\t11203\t143748715.142429\t51\n"
          ]
        },
        {
          "name": "stderr",
          "output_type": "stream",
          "text": [
            "[mbo] 35: learning_rate=0.0571; feature_fraction=0.666; num_leaves=1021; min_data_in_leaf=16604 : y = 1.44e+08 : 420.0 secs : infill_ei\n",
            "\n"
          ]
        },
        {
          "name": "stdout",
          "output_type": "stream",
          "text": [
            "Validate  52     1750    102863916     106301321    \n",
            "20231104 091841\t602\t976271\tgbdt\tbinary\tcustom\tTRUE\tTRUE\tFALSE\tTRUE\t-100\t-1\t0\t0.001\t0\t0\t31\t1315\t1\t1\t1\tFALSE\t1\t0.1\t50\t0.5\tTRUE\t279511\t0.108103123941508\t0.296785164270516\t168\t33304\t12005\t144960782.108946\t52\n"
          ]
        },
        {
          "name": "stderr",
          "output_type": "stream",
          "text": [
            "[mbo] 36: learning_rate=0.108; feature_fraction=0.297; num_leaves=168; min_data_in_leaf=33304 : y = 1.45e+08 : 690.6 secs : infill_ei\n",
            "\n",
            "Saved the current state after iteration 37 in the file HT8230 (Clase 12, Base Sem1).RDATA.\n",
            "\n"
          ]
        },
        {
          "name": "stdout",
          "output_type": "stream",
          "text": [
            "Validate  53     1010    97174948     103089028    \n",
            "20231104 092503\t602\t976271\tgbdt\tbinary\tcustom\tTRUE\tTRUE\tFALSE\tTRUE\t-100\t-1\t0\t0.001\t0\t0\t31\t598\t1\t1\t1\tFALSE\t1\t0.1\t50\t0.5\tTRUE\t279511\t0.292096829640814\t0.270888155342756\t281\t43983\t12243\t139952273.363318\t53\n"
          ]
        },
        {
          "name": "stderr",
          "output_type": "stream",
          "text": [
            "[mbo] 37: learning_rate=0.292; feature_fraction=0.271; num_leaves=281; min_data_in_leaf=43983 : y = 1.4e+08 : 379.8 secs : infill_ei\n",
            "\n"
          ]
        },
        {
          "name": "stdout",
          "output_type": "stream",
          "text": [
            "Validate  54     840    106104184     111279479    \n",
            "20231104 092950\t602\t976271\tgbdt\tbinary\tcustom\tTRUE\tTRUE\tFALSE\tTRUE\t-100\t-1\t0\t0.001\t0\t0\t31\t400\t1\t1\t1\tFALSE\t1\t0.1\t50\t0.5\tTRUE\t279511\t0.0924780665120291\t0.902730003955532\t903\t11552\t11882\t146337004.497751\t54\n"
          ]
        },
        {
          "name": "stderr",
          "output_type": "stream",
          "text": [
            "[mbo] 38: learning_rate=0.0925; feature_fraction=0.903; num_leaves=903; min_data_in_leaf=11552 : y = 1.46e+08 : 286.7 secs : infill_ei\n",
            "\n",
            "Saved the current state after iteration 39 in the file HT8230 (Clase 12, Base Sem1).RDATA.\n",
            "\n"
          ]
        },
        {
          "name": "stdout",
          "output_type": "stream",
          "text": [
            "Validate  55     520    99362887     102781658     \n",
            "20231104 093410\t602\t976271\tgbdt\tbinary\tcustom\tTRUE\tTRUE\tFALSE\tTRUE\t-100\t-1\t0\t0.001\t0\t0\t31\t111\t1\t1\t1\tFALSE\t1\t0.1\t50\t0.5\tTRUE\t279511\t0.222619243825433\t0.607601747462694\t589\t3938\t11484\t142786412.793603\t55\n"
          ]
        },
        {
          "name": "stderr",
          "output_type": "stream",
          "text": [
            "[mbo] 39: learning_rate=0.223; feature_fraction=0.608; num_leaves=589; min_data_in_leaf=3938 : y = 1.43e+08 : 256.7 secs : infill_ei\n",
            "\n"
          ]
        },
        {
          "name": "stdout",
          "output_type": "stream",
          "text": [
            "Validate  56     890    104040678     107624010    \n",
            "20231104 093826\t602\t976271\tgbdt\tbinary\tcustom\tTRUE\tTRUE\tFALSE\tTRUE\t-100\t-1\t0\t0.001\t0\t0\t31\t478\t1\t1\t1\tFALSE\t1\t0.1\t50\t0.5\tTRUE\t279511\t0.216822454386053\t0.110137457048744\t185\t8986\t13105\t127079472.763618\t56\n"
          ]
        },
        {
          "name": "stderr",
          "output_type": "stream",
          "text": [
            "[mbo] 40: learning_rate=0.217; feature_fraction=0.11; num_leaves=185; min_data_in_leaf=8986 : y = 1.27e+08 : 255.9 secs : infill_ei\n",
            "\n"
          ]
        },
        {
          "name": "stdout",
          "output_type": "stream",
          "text": [
            "Validate  57     720    106112412     111541946    \n",
            "20231104 094255\t602\t976271\tgbdt\tbinary\tcustom\tTRUE\tTRUE\tFALSE\tTRUE\t-100\t-1\t0\t0.001\t0\t0\t31\t295\t1\t1\t1\tFALSE\t1\t0.1\t50\t0.5\tTRUE\t279511\t0.115263606182819\t0.955540002846599\t664\t8468\t12629\t148663666.666667\t57\n"
          ]
        },
        {
          "name": "stderr",
          "output_type": "stream",
          "text": [
            "[mbo] 41: learning_rate=0.115; feature_fraction=0.956; num_leaves=664; min_data_in_leaf=8468 : y = 1.49e+08 : 268.7 secs : infill_ei\n",
            "\n",
            "Saved the current state after iteration 42 in the file HT8230 (Clase 12, Base Sem1).RDATA.\n",
            "\n"
          ]
        },
        {
          "name": "stdout",
          "output_type": "stream",
          "text": [
            "Validate  58     940    104264251     107160226    \n",
            "20231104 094724\t602\t976271\tgbdt\tbinary\tcustom\tTRUE\tTRUE\tFALSE\tTRUE\t-100\t-1\t0\t0.001\t0\t0\t31\t508\t1\t1\t1\tFALSE\t1\t0.1\t50\t0.5\tTRUE\t279511\t0.120306532064099\t0.991333544147971\t534\t26044\t12046\t148096050.974513\t58\n"
          ]
        },
        {
          "name": "stderr",
          "output_type": "stream",
          "text": [
            "[mbo] 42: learning_rate=0.12; feature_fraction=0.991; num_leaves=534; min_data_in_leaf=26044 : y = 1.48e+08 : 266.2 secs : infill_ei\n",
            "\n"
          ]
        },
        {
          "name": "stdout",
          "output_type": "stream",
          "text": [
            "Validate  59     1070    105691373     108614711    \n",
            "20231104 095508\t602\t976271\tgbdt\tbinary\tcustom\tTRUE\tTRUE\tFALSE\tTRUE\t-100\t-1\t0\t0.001\t0\t0\t31\t642\t1\t1\t1\tFALSE\t1\t0.1\t50\t0.5\tTRUE\t279511\t0.129870841464413\t0.345546408276365\t736\t20491\t12202\t145753636.181909\t59\n"
          ]
        },
        {
          "name": "stderr",
          "output_type": "stream",
          "text": [
            "[mbo] 43: learning_rate=0.13; feature_fraction=0.346; num_leaves=736; min_data_in_leaf=20491 : y = 1.46e+08 : 463.2 secs : infill_ei\n",
            "\n",
            "Saved the current state after iteration 44 in the file HT8230 (Clase 12, Base Sem1).RDATA.\n",
            "\n"
          ]
        },
        {
          "name": "stdout",
          "output_type": "stream",
          "text": [
            "Validate  60     1020    103250826     106183647    \n",
            "20231104 095946\t602\t976271\tgbdt\tbinary\tcustom\tTRUE\tTRUE\tFALSE\tTRUE\t-100\t-1\t0\t0.001\t0\t0\t31\t600\t1\t1\t1\tFALSE\t1\t0.1\t50\t0.5\tTRUE\t279511\t0.14931170769316\t0.63608184173622\t225\t35605\t14409\t140244706.146927\t60\n"
          ]
        },
        {
          "name": "stderr",
          "output_type": "stream",
          "text": [
            "[mbo] 44: learning_rate=0.149; feature_fraction=0.636; num_leaves=225; min_data_in_leaf=35605 : y = 1.4e+08 : 275.0 secs : infill_ei\n",
            "\n"
          ]
        },
        {
          "name": "stdout",
          "output_type": "stream",
          "text": [
            "Validate  61     920    107858449     109587351    \n",
            "20231104 100400\t602\t976271\tgbdt\tbinary\tcustom\tTRUE\tTRUE\tFALSE\tTRUE\t-100\t-1\t0\t0.001\t0\t0\t31\t482\t1\t1\t1\tFALSE\t1\t0.1\t50\t0.5\tTRUE\t279511\t0.0860455615108918\t0.66525449579991\t204\t29904\t11943\t143760819.090455\t61\n"
          ]
        },
        {
          "name": "stderr",
          "output_type": "stream",
          "text": [
            "[mbo] 45: learning_rate=0.086; feature_fraction=0.665; num_leaves=204; min_data_in_leaf=29904 : y = 1.44e+08 : 253.7 secs : infill_ei\n",
            "\n"
          ]
        },
        {
          "name": "stdout",
          "output_type": "stream",
          "text": [
            "Validate  62     790    105464218     107003056    \n",
            "20231104 100835\t602\t976271\tgbdt\tbinary\tcustom\tTRUE\tTRUE\tFALSE\tTRUE\t-100\t-1\t0\t0.001\t0\t0\t31\t371\t1\t1\t1\tFALSE\t1\t0.1\t50\t0.5\tTRUE\t279511\t0.153472472591604\t0.203979377763206\t540\t17870\t11588\t141381151.424288\t62\n"
          ]
        },
        {
          "name": "stderr",
          "output_type": "stream",
          "text": [
            "[mbo] 46: learning_rate=0.153; feature_fraction=0.204; num_leaves=540; min_data_in_leaf=17870 : y = 1.41e+08 : 273.9 secs : infill_ei\n",
            "\n",
            "Saved the current state after iteration 47 in the file HT8230 (Clase 12, Base Sem1).RDATA.\n",
            "\n"
          ]
        },
        {
          "name": "stdout",
          "output_type": "stream",
          "text": [
            "Validate  63     960    103171041     108111502    \n",
            "20231104 101316\t602\t976271\tgbdt\tbinary\tcustom\tTRUE\tTRUE\tFALSE\tTRUE\t-100\t-1\t0\t0.001\t0\t0\t31\t536\t1\t1\t1\tFALSE\t1\t0.1\t50\t0.5\tTRUE\t279511\t0.125494226251945\t0.949521759855588\t661\t22994\t13199\t147962722.138931\t63\n"
          ]
        },
        {
          "name": "stderr",
          "output_type": "stream",
          "text": [
            "[mbo] 47: learning_rate=0.125; feature_fraction=0.95; num_leaves=661; min_data_in_leaf=22994 : y = 1.48e+08 : 278.6 secs : infill_ei\n",
            "\n"
          ]
        },
        {
          "name": "stdout",
          "output_type": "stream",
          "text": [
            "Validate  64     820    105804374     111284142    \n",
            "20231104 101756\t602\t976271\tgbdt\tbinary\tcustom\tTRUE\tTRUE\tFALSE\tTRUE\t-100\t-1\t0\t0.001\t0\t0\t31\t393\t1\t1\t1\tFALSE\t1\t0.1\t50\t0.5\tTRUE\t279511\t0.10833498061837\t0.978779105324525\t650\t15029\t11709\t146393441.77911\t64\n"
          ]
        },
        {
          "name": "stderr",
          "output_type": "stream",
          "text": [
            "[mbo] 48: learning_rate=0.108; feature_fraction=0.979; num_leaves=650; min_data_in_leaf=15029 : y = 1.46e+08 : 279.6 secs : infill_ei\n",
            "\n"
          ]
        },
        {
          "name": "stdout",
          "output_type": "stream",
          "text": [
            "Validate  65     1010    103656108     107337412    \n",
            "20231104 102456\t602\t976271\tgbdt\tbinary\tcustom\tTRUE\tTRUE\tFALSE\tTRUE\t-100\t-1\t0\t0.001\t0\t0\t31\t582\t1\t1\t1\tFALSE\t1\t0.1\t50\t0.5\tTRUE\t279511\t0.137037189861172\t0.328154611901588\t181\t24178\t12592\t144633111.444278\t65\n"
          ]
        },
        {
          "name": "stderr",
          "output_type": "stream",
          "text": [
            "[mbo] 49: learning_rate=0.137; feature_fraction=0.328; num_leaves=181; min_data_in_leaf=24178 : y = 1.45e+08 : 419.7 secs : infill_ei\n",
            "\n",
            "Saved the current state after iteration 50 in the file HT8230 (Clase 12, Base Sem1).RDATA.\n",
            "\n"
          ]
        },
        {
          "name": "stdout",
          "output_type": "stream",
          "text": [
            "Validate  66     790    105000766     107134216    \n",
            "20231104 102859\t602\t976271\tgbdt\tbinary\tcustom\tTRUE\tTRUE\tFALSE\tTRUE\t-100\t-1\t0\t0.001\t0\t0\t31\t369\t1\t1\t1\tFALSE\t1\t0.1\t50\t0.5\tTRUE\t279511\t0.167490155433331\t0.966887618892938\t540\t28904\t14461\t140509971.514243\t66\n"
          ]
        },
        {
          "name": "stderr",
          "output_type": "stream",
          "text": [
            "[mbo] 50: learning_rate=0.167; feature_fraction=0.967; num_leaves=540; min_data_in_leaf=28904 : y = 1.41e+08 : 239.5 secs : infill_ei\n",
            "\n",
            "Saved the final state in the file HT8230 (Clase 12, Base Sem1).RDATA\n",
            "\n"
          ]
        },
        {
          "name": "stdout",
          "output_type": "stream",
          "text": [
            "\n",
            "\n",
            "La optimizacion Bayesiana ha terminado\n"
          ]
        }
      ],
      "source": [
        "# inicio la optimizacion bayesiana\n",
        "if (!file.exists(kbayesiana)) {\n",
        "  run <- mbo(obj.fun, learner = surr.km, control = ctrl)\n",
        "} else {\n",
        "  run <- mboContinue(kbayesiana) # retomo en caso que ya exista\n",
        "}\n",
        "\n",
        "\n",
        "cat(\"\\n\\nLa optimizacion Bayesiana ha terminado\\n\")\n"
      ]
    }
  ],
  "metadata": {
    "kernelspec": {
      "display_name": "R",
      "language": "R",
      "name": "ir"
    },
    "language_info": {
      "codemirror_mode": "r",
      "file_extension": ".r",
      "mimetype": "text/x-r-source",
      "name": "R",
      "pygments_lexer": "r",
      "version": "4.3.1"
    },
    "orig_nbformat": 4,
    "colab": {
      "provenance": [],
      "toc_visible": true
    }
  },
  "nbformat": 4,
  "nbformat_minor": 0
}