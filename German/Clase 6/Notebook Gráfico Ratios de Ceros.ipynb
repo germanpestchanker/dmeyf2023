{
 "cells": [
  {
   "cell_type": "markdown",
   "metadata": {},
   "source": [
    "## Importación de Librerías"
   ]
  },
  {
   "cell_type": "code",
   "execution_count": 1,
   "metadata": {
    "vscode": {
     "languageId": "r"
    }
   },
   "outputs": [
    {
     "data": {
      "text/html": [
       "<table class=\"dataframe\">\n",
       "<caption>A matrix: 2 × 6 of type dbl</caption>\n",
       "<thead>\n",
       "\t<tr><th></th><th scope=col>used</th><th scope=col>(Mb)</th><th scope=col>gc trigger</th><th scope=col>(Mb)</th><th scope=col>max used</th><th scope=col>(Mb)</th></tr>\n",
       "</thead>\n",
       "<tbody>\n",
       "\t<tr><th scope=row>Ncells</th><td> 627623</td><td>33.6</td><td>1404620</td><td>75.1</td><td> 994951</td><td>53.2</td></tr>\n",
       "\t<tr><th scope=row>Vcells</th><td>1149756</td><td> 8.8</td><td>8388608</td><td>64.0</td><td>1769393</td><td>13.5</td></tr>\n",
       "</tbody>\n",
       "</table>\n"
      ],
      "text/latex": [
       "A matrix: 2 × 6 of type dbl\n",
       "\\begin{tabular}{r|llllll}\n",
       "  & used & (Mb) & gc trigger & (Mb) & max used & (Mb)\\\\\n",
       "\\hline\n",
       "\tNcells &  627623 & 33.6 & 1404620 & 75.1 &  994951 & 53.2\\\\\n",
       "\tVcells & 1149756 &  8.8 & 8388608 & 64.0 & 1769393 & 13.5\\\\\n",
       "\\end{tabular}\n"
      ],
      "text/markdown": [
       "\n",
       "A matrix: 2 × 6 of type dbl\n",
       "\n",
       "| <!--/--> | used | (Mb) | gc trigger | (Mb) | max used | (Mb) |\n",
       "|---|---|---|---|---|---|---|\n",
       "| Ncells |  627623 | 33.6 | 1404620 | 75.1 |  994951 | 53.2 |\n",
       "| Vcells | 1149756 |  8.8 | 8388608 | 64.0 | 1769393 | 13.5 |\n",
       "\n"
      ],
      "text/plain": [
       "       used    (Mb) gc trigger (Mb) max used (Mb)\n",
       "Ncells  627623 33.6 1404620    75.1  994951  53.2\n",
       "Vcells 1149756  8.8 8388608    64.0 1769393  13.5"
      ]
     },
     "metadata": {},
     "output_type": "display_data"
    }
   ],
   "source": [
    "# Aplicacion de modelo\n",
    "\n",
    "# limpio la memoria\n",
    "rm(list = ls()) # remove all objects\n",
    "gc() # garbage collection"
   ]
  },
  {
   "cell_type": "code",
   "execution_count": 2,
   "metadata": {
    "vscode": {
     "languageId": "r"
    }
   },
   "outputs": [
    {
     "name": "stderr",
     "output_type": "stream",
     "text": [
      "Loading required package: data.table\n",
      "\n"
     ]
    }
   ],
   "source": [
    "# Librerías necesarias\n",
    "require(\"data.table\")"
   ]
  },
  {
   "cell_type": "code",
   "execution_count": 3,
   "metadata": {
    "vscode": {
     "languageId": "r"
    }
   },
   "outputs": [],
   "source": [
    "# Parametros del script\n",
    "PARAM <- list()\n",
    "PARAM$dataset <- \"competencia_02.csv.gz\"\n",
    "PARAM$experimento <- \"CA5050\"\n",
    "# FIN Parametros del script"
   ]
  },
  {
   "cell_type": "code",
   "execution_count": 4,
   "metadata": {
    "vscode": {
     "languageId": "r"
    }
   },
   "outputs": [],
   "source": [
    "#------------------------------------------------------------------------------\n",
    "#------------------------------------------------------------------------------\n",
    "# Aqui comienza el programa\n",
    "\n",
    "# copio si hace falta el dataset\n",
    "\n",
    "setwd(\"D:/Equipo/Documentos/Posgrado/2C23/Competencia 2\") # Establezco el Working Directory\n",
    "\n",
    "# cargo el dataset\n",
    "dataset <- fread(PARAM$dataset) # donde entreno\n",
    "\n",
    "\n",
    "# creo la carpeta donde va el experimento\n",
    "dir.create(paste0(\"./exp/\", PARAM$experimento, \"/\"), showWarnings = FALSE)\n",
    "# Establezco el Working Directory DEL EXPERIMENTO\n",
    "setwd(paste0(\"./exp/\", PARAM$experimento, \"/\"))\n",
    "\n",
    "\n",
    "# ordeno el dataset\n",
    "setorder(dataset, foto_mes, numero_de_cliente)\n",
    "\n",
    "campos_buenos <- setdiff(\n",
    "  colnames(dataset),\n",
    "  c(\"numero_de_cliente\", \"foto_mes\", \"clase_ternaria\")\n",
    ")"
   ]
  },
  {
   "cell_type": "code",
   "execution_count": 5,
   "metadata": {
    "vscode": {
     "languageId": "r"
    }
   },
   "outputs": [
    {
     "data": {
      "text/html": [
       "<strong>png:</strong> 2"
      ],
      "text/latex": [
       "\\textbf{png:} 2"
      ],
      "text/markdown": [
       "**png:** 2"
      ],
      "text/plain": [
       "png \n",
       "  2 "
      ]
     },
     "metadata": {},
     "output_type": "display_data"
    }
   ],
   "source": [
    "#------------------------------------------------------------------------------\n",
    "# Para cada variable ,\n",
    "# grafico para cada mes el ratio de ceros que tiene esa variable\n",
    "# el zeroes_ratio de una variable para un mes dado\n",
    "# es el cociente entre\n",
    "#   la cantidad de veces que la variable toma el valor cero ese mes\n",
    "#   y la cantidad total de registros para ese mes\n",
    "\n",
    "pdf(\"zeroes_ratio.pdf\")\n",
    "\n",
    "for (campo in campos_buenos) {\n",
    "  tbl <- dataset[\n",
    "    ,\n",
    "    list(\"zero_ratio\" = sum(get(campo) == 0, na.rm = TRUE) / .N),\n",
    "    foto_mes\n",
    "  ]\n",
    "\n",
    "  ymin <- min(tbl$zero_ratio)\n",
    "  ymax <- max(tbl$zero_ratio)\n",
    "  if (ymin == 0) ymin <- -0.1\n",
    "  if (ymax == 0) ymax <- 0.1\n",
    "\n",
    "  plot(\n",
    "    x = 1:nrow(tbl),\n",
    "    y = tbl$zero_ratio,\n",
    "    type = \"o\",\n",
    "    main = paste0(\"Zeroes ratio  -  \", campo),\n",
    "    xlab = \"Periodo\",\n",
    "    ylab = \"Zeroes  ratio\",\n",
    "    ylim = c(ymin, ymax),\n",
    "    xaxt = \"n\"\n",
    "  )\n",
    "\n",
    "  axis(1, at = 1:nrow(tbl), labels = tbl$foto_mes)\n",
    "\n",
    "  abline(\n",
    "    v = c(1, 13, 25),\n",
    "    col = c(\"green\", \"green\", \"green\"),\n",
    "    lty = c(1, 1, 1),\n",
    "    lwd = c(1, 1, 1)\n",
    "  )\n",
    "\n",
    "  abline(\n",
    "    v = c(7, 19, 31),\n",
    "    col = c(\"green\", \"green\", \"green\"),\n",
    "    lty = c(3, 3, 3),\n",
    "    lwd = c(1, 1, 1)\n",
    "  )\n",
    "}\n",
    "\n",
    "dev.off()"
   ]
  },
  {
   "cell_type": "code",
   "execution_count": 6,
   "metadata": {
    "vscode": {
     "languageId": "r"
    }
   },
   "outputs": [
    {
     "data": {
      "text/html": [
       "<strong>png:</strong> 2"
      ],
      "text/latex": [
       "\\textbf{png:} 2"
      ],
      "text/markdown": [
       "**png:** 2"
      ],
      "text/plain": [
       "png \n",
       "  2 "
      ]
     },
     "metadata": {},
     "output_type": "display_data"
    }
   ],
   "source": [
    "#------------------------------------------------------------------------------\n",
    "# Para cada variable ,\n",
    "# grafico para cada mes el ratio de NAs que tiene esa variable\n",
    "# el nas_ratio de una variable para un mes dado\n",
    "# es el cociente entre\n",
    "#   la cantidad de veces que la variable toma el valor nulo (NA) ese mes\n",
    "#   y la cantidad total de registros para ese mes\n",
    "\n",
    "pdf(\"nas_ratio.pdf\")\n",
    "\n",
    "for (campo in campos_buenos) {\n",
    "  tbl <- dataset[\n",
    "    ,\n",
    "    list(\"na_ratio\" = sum(is.na(get(campo)), na.rm = TRUE) / .N),\n",
    "    foto_mes\n",
    "  ]\n",
    "\n",
    "  ymin <- min(tbl$na_ratio)\n",
    "  ymax <- max(tbl$na_ratio)\n",
    "  if (ymin == 0) ymin <- -0.1\n",
    "  if (ymax == 0) ymax <- 0.1\n",
    "\n",
    "  plot(\n",
    "    x = 1:nrow(tbl),\n",
    "    y = tbl$na_ratio,\n",
    "    type = \"o\",\n",
    "    main = paste0(\"NAs ratio  -  \", campo),\n",
    "    xlab = \"Periodo\",\n",
    "    ylab = \"NAs  ratio\",\n",
    "    ylim = c(ymin, ymax),\n",
    "    xaxt = \"n\"\n",
    "  )\n",
    "\n",
    "  axis(1, at = 1:nrow(tbl), labels = tbl$foto_mes)\n",
    "\n",
    "  abline(\n",
    "    v = c(1, 13, 25),\n",
    "    col = c(\"green\", \"green\", \"green\"),\n",
    "    lty = c(1, 1, 1),\n",
    "    lwd = c(1, 1, 1)\n",
    "  )\n",
    "\n",
    "  abline(\n",
    "    v = c(7, 19, 31),\n",
    "    col = c(\"green\", \"green\", \"green\"),\n",
    "    lty = c(3, 3, 3),\n",
    "    lwd = c(1, 1, 1)\n",
    "  )\n",
    "}\n",
    "\n",
    "dev.off()"
   ]
  },
  {
   "cell_type": "code",
   "execution_count": 7,
   "metadata": {
    "vscode": {
     "languageId": "r"
    }
   },
   "outputs": [
    {
     "data": {
      "text/html": [
       "<strong>png:</strong> 2"
      ],
      "text/latex": [
       "\\textbf{png:} 2"
      ],
      "text/markdown": [
       "**png:** 2"
      ],
      "text/plain": [
       "png \n",
       "  2 "
      ]
     },
     "metadata": {},
     "output_type": "display_data"
    }
   ],
   "source": [
    "#------------------------------------------------------------------------------\n",
    "# Para cada variable , grafico para cada mes el promedio de esa variable\n",
    "# el promedio de una variable para un mes dado es\n",
    "# la definicion tradicional de promedio\n",
    "\n",
    "\n",
    "pdf(\"promedios.pdf\")\n",
    "\n",
    "for (campo in campos_buenos) {\n",
    "  tbl <- dataset[\n",
    "    ,\n",
    "    list(\"promedio\" = mean(get(campo), na.rm = TRUE)),\n",
    "    foto_mes\n",
    "  ]\n",
    "\n",
    "  ceros <- dataset[\n",
    "    ,\n",
    "    list(\"zero_ratio\" = sum(get(campo) == 0, na.rm = TRUE) / .N),\n",
    "    foto_mes\n",
    "  ]\n",
    "\n",
    "  plot(\n",
    "    x = 1:nrow(tbl),\n",
    "    y = tbl$promedio,\n",
    "    type = \"o\",\n",
    "    main = paste0(\"Promedios  -  \", campo),\n",
    "    xlab = \"Periodo\",\n",
    "    ylab = \"Promedio\",\n",
    "    xaxt = \"n\"\n",
    "  )\n",
    "\n",
    "  axis(1, at = 1:nrow(tbl), labels = tbl$foto_mes)\n",
    "\n",
    "  abline(\n",
    "    v = c(1, 13, 25),\n",
    "    col = c(\"green\", \"green\", \"green\"),\n",
    "    lty = c(1, 1, 1),\n",
    "    lwd = c(1, 1, 1)\n",
    "  )\n",
    "\n",
    "  abline(\n",
    "    v = c(7, 19, 31),\n",
    "    col = c(\"green\", \"green\", \"green\"),\n",
    "    lty = c(3, 3, 3),\n",
    "    lwd = c(1, 1, 1)\n",
    "  )\n",
    "\n",
    "  for (i in 1:nrow(tbl)) {\n",
    "    if (ceros[i, zero_ratio] > 0.99 & median(ceros[, zero_ratio]) < 0.99) {\n",
    "      abline(\n",
    "        v = c(i),\n",
    "        col = c(\"red\"), lty = c(1), lwd = c(1)\n",
    "      )\n",
    "    }\n",
    "  }\n",
    "}\n",
    "\n",
    "dev.off()"
   ]
  },
  {
   "cell_type": "code",
   "execution_count": 8,
   "metadata": {
    "vscode": {
     "languageId": "r"
    }
   },
   "outputs": [
    {
     "data": {
      "text/html": [
       "<strong>png:</strong> 2"
      ],
      "text/latex": [
       "\\textbf{png:} 2"
      ],
      "text/markdown": [
       "**png:** 2"
      ],
      "text/plain": [
       "png \n",
       "  2 "
      ]
     },
     "metadata": {},
     "output_type": "display_data"
    }
   ],
   "source": [
    "#------------------------------------------------------------------------------\n",
    "# Para cada variable ,\n",
    "#  grafico para cada mes el promedio de esa variable\n",
    "#   cuando la variable es DISTINTA de cero\n",
    "# el promedio_nocero de una variable para un mes dado\n",
    "# es el promedios del conjunto de valores de esa variable para ese mes\n",
    "#   tales que no no son ni nulos ni tampoco valen cero\n",
    "\n",
    "pdf(\"promedios_nocero.pdf\")\n",
    "\n",
    "for (campo in campos_buenos) {\n",
    "  tbl <- dataset[\n",
    "    get(campo) != 0,\n",
    "    list(\"promedio\" = mean(get(campo), na.rm = TRUE)),\n",
    "    foto_mes\n",
    "  ]\n",
    "\n",
    "  ceros <- dataset[\n",
    "    ,\n",
    "    list(\"zero_ratio\" = sum(get(campo) == 0, na.rm = TRUE) / .N),\n",
    "    foto_mes\n",
    "  ]\n",
    "\n",
    "  plot(\n",
    "    x = 1:nrow(tbl),\n",
    "    y = tbl$promedio,\n",
    "    type = \"o\",\n",
    "    main = paste0(\"Promedios NO cero -  \", campo),\n",
    "    xlab = \"Periodo\",\n",
    "    ylab = \"Promedio valores no cero\",\n",
    "    xaxt = \"n\"\n",
    "  )\n",
    "\n",
    "  axis(1, at = 1:nrow(tbl), labels = tbl$foto_mes)\n",
    "\n",
    "  abline(\n",
    "    v = c(1, 13, 25),\n",
    "    col = c(\"green\", \"green\", \"green\"),\n",
    "    lty = c(1, 1, 1),\n",
    "    lwd = c(1, 1, 1)\n",
    "  )\n",
    "\n",
    "  abline(\n",
    "    v = c(7, 19, 31),\n",
    "    col = c(\"green\", \"green\", \"green\"),\n",
    "    lty = c(3, 3, 3),\n",
    "    lwd = c(1, 1, 1)\n",
    "  )\n",
    "\n",
    "  for (i in 1:nrow(tbl)) {\n",
    "    if (ceros[i, zero_ratio] > 0.99 & median(ceros[, zero_ratio]) < 0.99) {\n",
    "      abline(v = c(i), col = c(\"red\"), lty = c(1), lwd = c(1))\n",
    "    }\n",
    "  }\n",
    "}\n",
    "\n",
    "dev.off()"
   ]
  },
  {
   "cell_type": "code",
   "execution_count": 9,
   "metadata": {
    "vscode": {
     "languageId": "r"
    }
   },
   "outputs": [],
   "source": [
    "#------------------------------------------------------------------------------\n",
    "\n",
    "# dejo la marca final\n",
    "cat(format(Sys.time(), \"%Y%m%d %H%M%S\"), \"\\n\",\n",
    "  file = \"zRend.txt\",\n",
    "  append = TRUE\n",
    ")"
   ]
  },
  {
   "cell_type": "code",
   "execution_count": 10,
   "metadata": {
    "vscode": {
     "languageId": "r"
    }
   },
   "outputs": [
    {
     "data": {
      "text/html": [
       "<strong>null device:</strong> 1"
      ],
      "text/latex": [
       "\\textbf{null device:} 1"
      ],
      "text/markdown": [
       "**null device:** 1"
      ],
      "text/plain": [
       "null device \n",
       "          1 "
      ]
     },
     "metadata": {},
     "output_type": "display_data"
    }
   ],
   "source": [
    "dev.off()"
   ]
  }
 ],
 "metadata": {
  "kernelspec": {
   "display_name": "R",
   "language": "R",
   "name": "ir"
  },
  "language_info": {
   "codemirror_mode": "r",
   "file_extension": ".r",
   "mimetype": "text/x-r-source",
   "name": "R",
   "pygments_lexer": "r",
   "version": "4.3.1"
  },
  "orig_nbformat": 4
 },
 "nbformat": 4,
 "nbformat_minor": 2
}
