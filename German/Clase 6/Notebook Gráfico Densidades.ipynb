{
 "cells": [
  {
   "cell_type": "markdown",
   "metadata": {},
   "source": [
    "## Importación de Librerías"
   ]
  },
  {
   "cell_type": "code",
   "execution_count": 1,
   "metadata": {
    "vscode": {
     "languageId": "r"
    }
   },
   "outputs": [
    {
     "data": {
      "text/html": [
       "<table class=\"dataframe\">\n",
       "<caption>A matrix: 2 × 6 of type dbl</caption>\n",
       "<thead>\n",
       "\t<tr><th></th><th scope=col>used</th><th scope=col>(Mb)</th><th scope=col>gc trigger</th><th scope=col>(Mb)</th><th scope=col>max used</th><th scope=col>(Mb)</th></tr>\n",
       "</thead>\n",
       "<tbody>\n",
       "\t<tr><th scope=row>Ncells</th><td> 627623</td><td>33.6</td><td>1404605</td><td>75.1</td><td> 994946</td><td>53.2</td></tr>\n",
       "\t<tr><th scope=row>Vcells</th><td>1149754</td><td> 8.8</td><td>8388608</td><td>64.0</td><td>1769393</td><td>13.5</td></tr>\n",
       "</tbody>\n",
       "</table>\n"
      ],
      "text/latex": [
       "A matrix: 2 × 6 of type dbl\n",
       "\\begin{tabular}{r|llllll}\n",
       "  & used & (Mb) & gc trigger & (Mb) & max used & (Mb)\\\\\n",
       "\\hline\n",
       "\tNcells &  627623 & 33.6 & 1404605 & 75.1 &  994946 & 53.2\\\\\n",
       "\tVcells & 1149754 &  8.8 & 8388608 & 64.0 & 1769393 & 13.5\\\\\n",
       "\\end{tabular}\n"
      ],
      "text/markdown": [
       "\n",
       "A matrix: 2 × 6 of type dbl\n",
       "\n",
       "| <!--/--> | used | (Mb) | gc trigger | (Mb) | max used | (Mb) |\n",
       "|---|---|---|---|---|---|---|\n",
       "| Ncells |  627623 | 33.6 | 1404605 | 75.1 |  994946 | 53.2 |\n",
       "| Vcells | 1149754 |  8.8 | 8388608 | 64.0 | 1769393 | 13.5 |\n",
       "\n"
      ],
      "text/plain": [
       "       used    (Mb) gc trigger (Mb) max used (Mb)\n",
       "Ncells  627623 33.6 1404605    75.1  994946  53.2\n",
       "Vcells 1149754  8.8 8388608    64.0 1769393  13.5"
      ]
     },
     "metadata": {},
     "output_type": "display_data"
    }
   ],
   "source": [
    "# Aplicacion de modelo\n",
    "\n",
    "# limpio la memoria\n",
    "rm(list = ls()) # remove all objects\n",
    "gc() # garbage collection"
   ]
  },
  {
   "cell_type": "code",
   "execution_count": 2,
   "metadata": {
    "vscode": {
     "languageId": "r"
    }
   },
   "outputs": [
    {
     "name": "stderr",
     "output_type": "stream",
     "text": [
      "Loading required package: data.table\n",
      "\n",
      "Loading required package: RColorBrewer\n",
      "\n"
     ]
    }
   ],
   "source": [
    "# Librerías necesarias\n",
    "require(\"data.table\")\n",
    "require(\"RColorBrewer\")"
   ]
  },
  {
   "cell_type": "code",
   "execution_count": 3,
   "metadata": {
    "vscode": {
     "languageId": "r"
    }
   },
   "outputs": [],
   "source": [
    "# Aqui se debe poner la carpeta de la materia de SU computadora local\n",
    "\n"
   ]
  },
  {
   "cell_type": "code",
   "execution_count": 4,
   "metadata": {
    "vscode": {
     "languageId": "r"
    }
   },
   "outputs": [],
   "source": [
    "PARAM <- list()\n",
    "\n",
    "PARAM$experimento <- \"DR5940\"\n",
    "\n",
    "PARAM$dataset <- \"competencia_02.csv.gz\"\n",
    "\n",
    "PARAM$meses <- c(202104, 202105, 202107)"
   ]
  },
  {
   "cell_type": "code",
   "execution_count": 5,
   "metadata": {
    "vscode": {
     "languageId": "r"
    }
   },
   "outputs": [],
   "source": [
    "# Poner sus semillas\n",
    "semillas <- c(279511, 279523, 279541, 279551, 279571)"
   ]
  },
  {
   "cell_type": "code",
   "execution_count": 6,
   "metadata": {
    "vscode": {
     "languageId": "r"
    }
   },
   "outputs": [],
   "source": [
    "graficar_campo <- function(campo) {\n",
    "  qty <- length(PARAM$meses)\n",
    "  colores <- brewer.pal(n = qty, name = \"Dark2\")\n",
    "  # quito de grafico las colas del 5% de las densidades\n",
    "  tbl <- dataset[\n",
    "    , list(\"tile\" = quantile(get(campo), prob = c(0.05, 0.95), na.rm = TRUE)),\n",
    "    foto_mes\n",
    "  ]\n",
    "  xxmin <- tbl[, min(tile)]\n",
    "  xxmax <- tbl[, max(tile)]\n",
    "\n",
    "\n",
    "  densidad <- density(dataset[foto_mes == PARAM$meses[qty], get(campo)],\n",
    "    kernel = \"gaussian\", na.rm = TRUE\n",
    "  )\n",
    "\n",
    "  plot(densidad,\n",
    "    col = colores[qty],\n",
    "    xlim = c(xxmin, xxmax),\n",
    "    ylim = c(0, pmax(max(densidad$y), max(densidad$y))),\n",
    "    main = campo,\n",
    "    lty = 2\n",
    "  )\n",
    "\n",
    "  for (i in (qty - 1):1) {\n",
    "    densidad <- density(dataset[foto_mes == PARAM$meses[i], get(campo)],\n",
    "      kernel = \"gaussian\", na.rm = TRUE\n",
    "    )\n",
    "\n",
    "    lines(densidad, col = colores[i], lty = 1)\n",
    "  }\n",
    "\n",
    "  legend(\"topright\",\n",
    "    legend = PARAM$meses,\n",
    "    col = colores,\n",
    "    lty = c(rep(1, qty - 1), 2)\n",
    "  )\n",
    "}\n",
    "#------------------------------------------------------------------------------"
   ]
  },
  {
   "cell_type": "code",
   "execution_count": 7,
   "metadata": {
    "vscode": {
     "languageId": "r"
    }
   },
   "outputs": [
    {
     "data": {
      "text/html": [
       "<table class=\"dataframe\">\n",
       "<caption>A matrix: 2 × 6 of type dbl</caption>\n",
       "<thead>\n",
       "\t<tr><th></th><th scope=col>used</th><th scope=col>(Mb)</th><th scope=col>gc trigger</th><th scope=col>(Mb)</th><th scope=col>max used</th><th scope=col>(Mb)</th></tr>\n",
       "</thead>\n",
       "<tbody>\n",
       "\t<tr><th scope=row>Ncells</th><td>  740625</td><td> 39.6</td><td>  1404605</td><td>  75.1</td><td>  1404605</td><td>  75.1</td></tr>\n",
       "\t<tr><th scope=row>Vcells</th><td>57762933</td><td>440.7</td><td>647896404</td><td>4943.1</td><td>719939222</td><td>5492.8</td></tr>\n",
       "</tbody>\n",
       "</table>\n"
      ],
      "text/latex": [
       "A matrix: 2 × 6 of type dbl\n",
       "\\begin{tabular}{r|llllll}\n",
       "  & used & (Mb) & gc trigger & (Mb) & max used & (Mb)\\\\\n",
       "\\hline\n",
       "\tNcells &   740625 &  39.6 &   1404605 &   75.1 &   1404605 &   75.1\\\\\n",
       "\tVcells & 57762933 & 440.7 & 647896404 & 4943.1 & 719939222 & 5492.8\\\\\n",
       "\\end{tabular}\n"
      ],
      "text/markdown": [
       "\n",
       "A matrix: 2 × 6 of type dbl\n",
       "\n",
       "| <!--/--> | used | (Mb) | gc trigger | (Mb) | max used | (Mb) |\n",
       "|---|---|---|---|---|---|---|\n",
       "| Ncells |   740625 |  39.6 |   1404605 |   75.1 |   1404605 |   75.1 |\n",
       "| Vcells | 57762933 | 440.7 | 647896404 | 4943.1 | 719939222 | 5492.8 |\n",
       "\n"
      ],
      "text/plain": [
       "       used     (Mb)  gc trigger (Mb)   max used  (Mb)  \n",
       "Ncells   740625  39.6   1404605    75.1   1404605   75.1\n",
       "Vcells 57762933 440.7 647896404  4943.1 719939222 5492.8"
      ]
     },
     "metadata": {},
     "output_type": "display_data"
    }
   ],
   "source": [
    "# Aqui comienza el programa\n",
    "\n",
    "if (length(PARAM$meses) < 2) {\n",
    "  stop(\"deben haber al menos DOS meses en PARAM$meses\\n\")\n",
    "}\n",
    "\n",
    "setwd(\"D:/Equipo/Documentos/Posgrado/2C23/Competencia 2\") # Establezco el Working Directory\n",
    "\n",
    "# cargo el dataset\n",
    "dataset <- fread(PARAM$dataset)\n",
    "\n",
    "\n",
    "dir.create(\"./exp/\", showWarnings = FALSE)\n",
    "dir.create(paste0(\"./exp/\", PARAM$experimento, \"/\"), showWarnings = FALSE)\n",
    "setwd(paste0(\"./exp/\", PARAM$experimento, \"/\"))\n",
    "\n",
    "dataset <- dataset[foto_mes %in% PARAM$meses]\n",
    "gc()\n",
    "\n",
    "\n",
    "campos_buenos <- setdiff(\n",
    "  colnames(dataset),\n",
    "  c(\"numero_de_clientes\", \"foto_mes\", \"clase_ternaria\")\n",
    ")\n"
   ]
  },
  {
   "cell_type": "code",
   "execution_count": 8,
   "metadata": {
    "vscode": {
     "languageId": "r"
    }
   },
   "outputs": [
    {
     "name": "stdout",
     "output_type": "stream",
     "text": [
      "numero_de_cliente   active_quarter   cliente_vip   internet   cliente_edad   cliente_antiguedad   mrentabilidad   mrentabilidad_annual   mcomisiones   mactivos_margen   mpasivos_margen   cproductos   tcuentas   ccuenta_corriente   mcuenta_corriente_adicional   mcuenta_corriente   ccaja_ahorro   mcaja_ahorro   mcaja_ahorro_adicional   mcaja_ahorro_dolares   cdescubierto_preacordado   mcuentas_saldo   ctarjeta_debito   ctarjeta_debito_transacciones   mautoservicio   ctarjeta_visa   ctarjeta_visa_transacciones   mtarjeta_visa_consumo   ctarjeta_master   ctarjeta_master_transacciones   mtarjeta_master_consumo   cprestamos_personales   mprestamos_personales   cprestamos_prendarios   mprestamos_prendarios   cprestamos_hipotecarios   mprestamos_hipotecarios   cplazo_fijo   mplazo_fijo_dolares   mplazo_fijo_pesos   cinversion1   minversion1_pesos   minversion1_dolares   cinversion2   minversion2   cseguro_vida   cseguro_auto   cseguro_vivienda   cseguro_accidentes_personales   ccaja_seguridad   cpayroll_trx   mpayroll   mpayroll2   cpayroll2_trx   ccuenta_debitos_automaticos   mcuenta_debitos_automaticos   ctarjeta_visa_debitos_automaticos   mttarjeta_visa_debitos_automaticos   ctarjeta_master_debitos_automaticos   mttarjeta_master_debitos_automaticos   cpagodeservicios   mpagodeservicios   cpagomiscuentas   mpagomiscuentas   ccajeros_propios_descuentos   mcajeros_propios_descuentos   ctarjeta_visa_descuentos   mtarjeta_visa_descuentos   ctarjeta_master_descuentos   mtarjeta_master_descuentos   ccomisiones_mantenimiento   mcomisiones_mantenimiento   ccomisiones_otras   mcomisiones_otras   cforex   cforex_buy   mforex_buy   cforex_sell   mforex_sell   ctransferencias_recibidas   mtransferencias_recibidas   ctransferencias_emitidas   mtransferencias_emitidas   cextraccion_autoservicio   mextraccion_autoservicio   ccheques_depositados   mcheques_depositados   ccheques_emitidos   mcheques_emitidos   ccheques_depositados_rechazados   mcheques_depositados_rechazados   ccheques_emitidos_rechazados   mcheques_emitidos_rechazados   tcallcenter   ccallcenter_transacciones   thomebanking   chomebanking_transacciones   ccajas_transacciones   ccajas_consultas   ccajas_depositos   ccajas_extracciones   ccajas_otras   catm_trx   matm   catm_trx_other   matm_other   ctrx_quarter   tmobile_app   cmobile_app_trx   Master_delinquency   Master_status   Master_mfinanciacion_limite   Master_Fvencimiento   Master_Finiciomora   Master_msaldototal   Master_msaldopesos   Master_msaldodolares   Master_mconsumospesos   Master_mconsumosdolares   Master_mlimitecompra   Master_madelantopesos   Master_madelantodolares   Master_fultimo_cierre   Master_mpagado   Master_mpagospesos   Master_mpagosdolares   Master_fechaalta   Master_mconsumototal   Master_cconsumos   Master_cadelantosefectivo   Master_mpagominimo   Visa_delinquency   Visa_status   Visa_mfinanciacion_limite   Visa_Fvencimiento   Visa_Finiciomora   Visa_msaldototal   Visa_msaldopesos   Visa_msaldodolares   Visa_mconsumospesos   Visa_mconsumosdolares   Visa_mlimitecompra   Visa_madelantopesos   Visa_madelantodolares   Visa_fultimo_cierre   Visa_mpagado   Visa_mpagospesos   Visa_mpagosdolares   Visa_fechaalta   Visa_mconsumototal   Visa_cconsumos   Visa_cadelantosefectivo   Visa_mpagominimo   "
     ]
    },
    {
     "data": {
      "text/html": [
       "<strong>png:</strong> 2"
      ],
      "text/latex": [
       "\\textbf{png:} 2"
      ],
      "text/markdown": [
       "**png:** 2"
      ],
      "text/plain": [
       "png \n",
       "  2 "
      ]
     },
     "metadata": {},
     "output_type": "display_data"
    }
   ],
   "source": [
    "# genero los graficos, uno por hoja\n",
    "pdf(\"densidades.pdf\")\n",
    "\n",
    "for (campo in campos_buenos) {\n",
    "  cat(campo, \"  \")\n",
    "  graficar_campo(campo)\n",
    "}\n",
    "\n",
    "dev.off()"
   ]
  }
 ],
 "metadata": {
  "kernelspec": {
   "display_name": "R",
   "language": "R",
   "name": "ir"
  },
  "language_info": {
   "codemirror_mode": "r",
   "file_extension": ".r",
   "mimetype": "text/x-r-source",
   "name": "R",
   "pygments_lexer": "r",
   "version": "4.3.1"
  },
  "orig_nbformat": 4
 },
 "nbformat": 4,
 "nbformat_minor": 2
}
