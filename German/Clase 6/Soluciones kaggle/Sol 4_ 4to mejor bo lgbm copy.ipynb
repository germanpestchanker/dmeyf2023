{
 "cells": [
  {
   "cell_type": "markdown",
   "metadata": {},
   "source": [
    "## Importación de Librerías"
   ]
  },
  {
   "cell_type": "markdown",
   "metadata": {},
   "source": [
    "- para correr el Google Cloud\n",
    "-  8 vCPU\n",
    "-  16 GB memoria RAM"
   ]
  },
  {
   "cell_type": "code",
   "execution_count": 6,
   "metadata": {
    "vscode": {
     "languageId": "r"
    }
   },
   "outputs": [
    {
     "data": {
      "text/html": [
       "<table class=\"dataframe\">\n",
       "<caption>A matrix: 2 × 6 of type dbl</caption>\n",
       "<thead>\n",
       "\t<tr><th></th><th scope=col>used</th><th scope=col>(Mb)</th><th scope=col>gc trigger</th><th scope=col>(Mb)</th><th scope=col>max used</th><th scope=col>(Mb)</th></tr>\n",
       "</thead>\n",
       "<tbody>\n",
       "\t<tr><th scope=row>Ncells</th><td>1815134</td><td>97.0</td><td>2933771</td><td>156.7</td><td>2933771</td><td>156.7</td></tr>\n",
       "\t<tr><th scope=row>Vcells</th><td>3194144</td><td>24.4</td><td>8388608</td><td> 64.0</td><td>5244366</td><td> 40.1</td></tr>\n",
       "</tbody>\n",
       "</table>\n"
      ],
      "text/latex": [
       "A matrix: 2 × 6 of type dbl\n",
       "\\begin{tabular}{r|llllll}\n",
       "  & used & (Mb) & gc trigger & (Mb) & max used & (Mb)\\\\\n",
       "\\hline\n",
       "\tNcells & 1815134 & 97.0 & 2933771 & 156.7 & 2933771 & 156.7\\\\\n",
       "\tVcells & 3194144 & 24.4 & 8388608 &  64.0 & 5244366 &  40.1\\\\\n",
       "\\end{tabular}\n"
      ],
      "text/markdown": [
       "\n",
       "A matrix: 2 × 6 of type dbl\n",
       "\n",
       "| <!--/--> | used | (Mb) | gc trigger | (Mb) | max used | (Mb) |\n",
       "|---|---|---|---|---|---|---|\n",
       "| Ncells | 1815134 | 97.0 | 2933771 | 156.7 | 2933771 | 156.7 |\n",
       "| Vcells | 3194144 | 24.4 | 8388608 |  64.0 | 5244366 |  40.1 |\n",
       "\n"
      ],
      "text/plain": [
       "       used    (Mb) gc trigger (Mb)  max used (Mb) \n",
       "Ncells 1815134 97.0 2933771    156.7 2933771  156.7\n",
       "Vcells 3194144 24.4 8388608     64.0 5244366   40.1"
      ]
     },
     "metadata": {},
     "output_type": "display_data"
    }
   ],
   "source": [
    "# limpio la memoria\n",
    "rm(list = ls()) # remove all objects\n",
    "gc() # garbage collection\n",
    "\n"
   ]
  },
  {
   "cell_type": "code",
   "execution_count": 7,
   "metadata": {
    "vscode": {
     "languageId": "r"
    }
   },
   "outputs": [
    {
     "data": {
      "text/html": [
       "<table class=\"dataframe\">\n",
       "<caption>A matrix: 2 × 6 of type dbl</caption>\n",
       "<thead>\n",
       "\t<tr><th></th><th scope=col>used</th><th scope=col>(Mb)</th><th scope=col>gc trigger</th><th scope=col>(Mb)</th><th scope=col>max used</th><th scope=col>(Mb)</th></tr>\n",
       "</thead>\n",
       "<tbody>\n",
       "\t<tr><th scope=row>Ncells</th><td>1815134</td><td>97.0</td><td>2933771</td><td>156.7</td><td>2933771</td><td>156.7</td></tr>\n",
       "\t<tr><th scope=row>Vcells</th><td>3194140</td><td>24.4</td><td>8388608</td><td> 64.0</td><td>5244366</td><td> 40.1</td></tr>\n",
       "</tbody>\n",
       "</table>\n"
      ],
      "text/latex": [
       "A matrix: 2 × 6 of type dbl\n",
       "\\begin{tabular}{r|llllll}\n",
       "  & used & (Mb) & gc trigger & (Mb) & max used & (Mb)\\\\\n",
       "\\hline\n",
       "\tNcells & 1815134 & 97.0 & 2933771 & 156.7 & 2933771 & 156.7\\\\\n",
       "\tVcells & 3194140 & 24.4 & 8388608 &  64.0 & 5244366 &  40.1\\\\\n",
       "\\end{tabular}\n"
      ],
      "text/markdown": [
       "\n",
       "A matrix: 2 × 6 of type dbl\n",
       "\n",
       "| <!--/--> | used | (Mb) | gc trigger | (Mb) | max used | (Mb) |\n",
       "|---|---|---|---|---|---|---|\n",
       "| Ncells | 1815134 | 97.0 | 2933771 | 156.7 | 2933771 | 156.7 |\n",
       "| Vcells | 3194140 | 24.4 | 8388608 |  64.0 | 5244366 |  40.1 |\n",
       "\n"
      ],
      "text/plain": [
       "       used    (Mb) gc trigger (Mb)  max used (Mb) \n",
       "Ncells 1815134 97.0 2933771    156.7 2933771  156.7\n",
       "Vcells 3194140 24.4 8388608     64.0 5244366   40.1"
      ]
     },
     "metadata": {},
     "output_type": "display_data"
    }
   ],
   "source": [
    "# limpio la memoria\n",
    "rm(list = ls()) # remove all objects\n",
    "gc() # garbage collection\n"
   ]
  },
  {
   "cell_type": "code",
   "execution_count": 8,
   "metadata": {
    "vscode": {
     "languageId": "r"
    }
   },
   "outputs": [],
   "source": [
    "require(\"data.table\")\n",
    "require(\"lightgbm\")"
   ]
  },
  {
   "cell_type": "markdown",
   "metadata": {},
   "source": [
    "# Definición de Parametros"
   ]
  },
  {
   "cell_type": "code",
   "execution_count": 9,
   "metadata": {
    "vscode": {
     "languageId": "r"
    }
   },
   "outputs": [],
   "source": [
    "# defino los parametros de la corrida, en una lista, la variable global  PARAM\n",
    "#  muy pronto esto se leera desde un archivo formato .yaml\n",
    "PARAM <- list()\n",
    "PARAM$experimento <- \"KA5243\"\n",
    "\n",
    "PARAM$input$dataset <- \"./competencia_02.csv.gz\"\n",
    "\n",
    "# meses donde se entrena el modelo\n",
    "PARAM$input$training <- c(202101, 202102, 202103, 202104, 202105)\n",
    "PARAM$input$future <- c(202107) # meses donde se aplica el modelo\n",
    "\n",
    "PARAM$finalmodel$semilla <- 279523\n",
    "\n",
    "PARAM$finalmodel$num_iterations <- 101\n",
    "PARAM$finalmodel$learning_rate <- 0.164694054487155\n",
    "PARAM$finalmodel$feature_fraction <- 0.765782067373278\n",
    "PARAM$finalmodel$min_data_in_leaf <- 16\n",
    "PARAM$finalmodel$num_leaves <- 923\n",
    "\n",
    "\n",
    "PARAM$finalmodel$max_bin <- 31"
   ]
  },
  {
   "cell_type": "markdown",
   "metadata": {},
   "source": [
    "# Aquí empieza el programa"
   ]
  },
  {
   "cell_type": "code",
   "execution_count": 10,
   "metadata": {
    "vscode": {
     "languageId": "r"
    }
   },
   "outputs": [],
   "source": [
    "# cargo el dataset donde voy a entrenar\n",
    "dataset <- fread(PARAM$input$dataset, stringsAsFactors = TRUE)"
   ]
  },
  {
   "cell_type": "code",
   "execution_count": 11,
   "metadata": {
    "vscode": {
     "languageId": "r"
    }
   },
   "outputs": [
    {
     "ename": "ERROR",
     "evalue": "Error in setwd(\"./Soluciones kaggle\"): cannot change working directory\n",
     "output_type": "error",
     "traceback": [
      "Error in setwd(\"./Soluciones kaggle\"): cannot change working directory\nTraceback:\n",
      "1. setwd(\"./Soluciones kaggle\")"
     ]
    }
   ],
   "source": [
    "#setwd(\".Soluciones kaggle\")"
   ]
  },
  {
   "cell_type": "code",
   "execution_count": 12,
   "metadata": {
    "vscode": {
     "languageId": "r"
    }
   },
   "outputs": [],
   "source": [
    "# paso la clase a binaria que tome valores {0,1}  enteros\n",
    "# set trabaja con la clase  POS = { BAJA+1, BAJA+2 }\n",
    "# esta estrategia es MUY importante\n",
    "dataset[, clase01 := ifelse(clase_ternaria %in% c(\"BAJA+2\", \"BAJA+1\"), 1L, 0L)]"
   ]
  },
  {
   "cell_type": "code",
   "execution_count": 13,
   "metadata": {
    "vscode": {
     "languageId": "r"
    }
   },
   "outputs": [],
   "source": [
    "# los campos que se van a utilizar\n",
    "campos_buenos <- setdiff(colnames(dataset), c(\"clase_ternaria\", \"clase01\"))"
   ]
  },
  {
   "cell_type": "code",
   "execution_count": 14,
   "metadata": {
    "vscode": {
     "languageId": "r"
    }
   },
   "outputs": [],
   "source": [
    "# establezco donde entreno\n",
    "dataset[, train := 0L]\n",
    "dataset[foto_mes %in% PARAM$input$training, train := 1L]"
   ]
  },
  {
   "cell_type": "code",
   "execution_count": 15,
   "metadata": {
    "vscode": {
     "languageId": "r"
    }
   },
   "outputs": [],
   "source": [
    "#--------------------------------------\n",
    "# creo las carpetas donde van los resultados\n",
    "# creo la carpeta donde va el experimento\n",
    "dir.create(\"./exp/\", showWarnings = FALSE)\n",
    "dir.create(paste0(\"./exp/\", PARAM$experimento, \"/\"), showWarnings = FALSE)\n",
    "\n",
    "# Establezco el Working Directory DEL EXPERIMENTO\n",
    "setwd(paste0(\"./exp/\", PARAM$experimento, \"/\"))"
   ]
  },
  {
   "cell_type": "code",
   "execution_count": 16,
   "metadata": {
    "vscode": {
     "languageId": "r"
    }
   },
   "outputs": [],
   "source": [
    "# dejo los datos en el formato que necesita LightGBM\n",
    "dtrain <- lgb.Dataset(\n",
    "  data = data.matrix(dataset[train == 1L, campos_buenos, with = FALSE]),\n",
    "  label = dataset[train == 1L, clase01]\n",
    ")"
   ]
  },
  {
   "cell_type": "code",
   "execution_count": 17,
   "metadata": {
    "vscode": {
     "languageId": "r"
    }
   },
   "outputs": [
    {
     "name": "stdout",
     "output_type": "stream",
     "text": [
      "[LightGBM] [Info] Number of positive: 9507, number of negative: 805631\n",
      "[LightGBM] [Warning] Auto-choosing row-wise multi-threading, the overhead of testing was 0.203680 seconds.\n",
      "You can set `force_row_wise=true` to remove the overhead.\n",
      "And if memory is not enough, you can set `force_col_wise=true`.\n",
      "[LightGBM] [Info] Total Bins 3680\n",
      "[LightGBM] [Info] Number of data points in the train set: 815138, number of used features: 154\n",
      "[LightGBM] [Info] [binary:BoostFromScore]: pavg=0.011663 -> initscore=-4.439597\n",
      "[LightGBM] [Info] Start training from score -4.439597\n"
     ]
    }
   ],
   "source": [
    "# genero el modelo\n",
    "# estos hiperparametros  salieron de una laaarga Optmizacion Bayesiana\n",
    "modelo <- lgb.train(\n",
    "  data = dtrain,\n",
    "  param = list(\n",
    "    objective = \"binary\",\n",
    "    max_bin = PARAM$finalmodel$max_bin,\n",
    "    learning_rate = PARAM$finalmodel$learning_rate,\n",
    "    num_iterations = PARAM$finalmodel$num_iterations,\n",
    "    num_leaves = PARAM$finalmodel$num_leaves,\n",
    "    min_data_in_leaf = PARAM$finalmodel$min_data_in_leaf,\n",
    "    feature_fraction = PARAM$finalmodel$feature_fraction,\n",
    "    seed = PARAM$finalmodel$semilla\n",
    "  )\n",
    ")"
   ]
  },
  {
   "cell_type": "code",
   "execution_count": 18,
   "metadata": {
    "vscode": {
     "languageId": "r"
    }
   },
   "outputs": [],
   "source": [
    "#--------------------------------------\n",
    "# ahora imprimo la importancia de variables\n",
    "tb_importancia <- as.data.table(lgb.importance(modelo))\n",
    "archivo_importancia <- \"impo.txt\"\n",
    "\n",
    "fwrite(tb_importancia,\n",
    "  file = archivo_importancia,\n",
    "  sep = \"\\t\"\n",
    ")"
   ]
  },
  {
   "cell_type": "code",
   "execution_count": 19,
   "metadata": {
    "vscode": {
     "languageId": "r"
    }
   },
   "outputs": [],
   "source": [
    "# aplico el modelo a los datos sin clase\n",
    "dapply <- dataset[foto_mes == PARAM$input$future]\n",
    "\n",
    "# aplico el modelo a los datos nuevos\n",
    "prediccion <- predict(\n",
    "  modelo,\n",
    "  data.matrix(dapply[, campos_buenos, with = FALSE])\n",
    ")\n",
    "\n",
    "# genero la tabla de entrega\n",
    "tb_entrega <- dapply[, list(numero_de_cliente, foto_mes)]\n",
    "tb_entrega[, prob := prediccion]\n",
    "\n",
    "# grabo las probabilidad del modelo\n",
    "fwrite(tb_entrega,\n",
    "  file = \"prediccion.txt\",\n",
    "  sep = \"\\t\"\n",
    ")"
   ]
  },
  {
   "cell_type": "code",
   "execution_count": 20,
   "metadata": {
    "vscode": {
     "languageId": "r"
    }
   },
   "outputs": [],
   "source": [
    "# ordeno por probabilidad descendente\n",
    "setorder(tb_entrega, -prob)"
   ]
  },
  {
   "cell_type": "code",
   "execution_count": 21,
   "metadata": {
    "vscode": {
     "languageId": "r"
    }
   },
   "outputs": [
    {
     "name": "stdout",
     "output_type": "stream",
     "text": [
      "\n",
      "\n",
      "La generacion de los archivos para Kaggle ha terminado\n"
     ]
    }
   ],
   "source": [
    "# genero archivos con los  \"envios\" mejores\n",
    "# deben subirse \"inteligentemente\" a Kaggle para no malgastar submits\n",
    "# si la palabra inteligentemente no le significa nada aun\n",
    "# suba TODOS los archivos a Kaggle\n",
    "# espera a la siguiente clase sincronica en donde el tema sera explicado\n",
    "\n",
    "cortes <- seq(8000, 13000, by = 500)\n",
    "for (envios in cortes) {\n",
    "  tb_entrega[, Predicted := 0L]\n",
    "  tb_entrega[1:envios, Predicted := 1L]\n",
    "\n",
    "  fwrite(tb_entrega[, list(numero_de_cliente, Predicted)],\n",
    "    file = paste0(PARAM$experimento, \"_\", envios, \".csv\"),\n",
    "    sep = \",\"\n",
    "  )\n",
    "}\n",
    "\n",
    "cat(\"\\n\\nLa generacion de los archivos para Kaggle ha terminado\\n\")"
   ]
  }
 ],
 "metadata": {
  "kernelspec": {
   "display_name": "R",
   "language": "R",
   "name": "ir"
  },
  "language_info": {
   "codemirror_mode": "r",
   "file_extension": ".r",
   "mimetype": "text/x-r-source",
   "name": "R",
   "pygments_lexer": "r",
   "version": "4.3.1"
  },
  "orig_nbformat": 4
 },
 "nbformat": 4,
 "nbformat_minor": 2
}
