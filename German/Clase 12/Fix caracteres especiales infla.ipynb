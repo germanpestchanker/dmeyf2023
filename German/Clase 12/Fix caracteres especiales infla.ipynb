{
 "cells": [
  {
   "cell_type": "markdown",
   "metadata": {},
   "source": [
    "## Importación de Librerías"
   ]
  },
  {
   "cell_type": "markdown",
   "metadata": {},
   "source": [
    "Este script esta pensado para correr en Google Cloud\n",
    "- 8 vCPU\n",
    "- 128 GB memoria RAM\n",
    "\n",
    "- se entrena con clase_binaria2  POS =  { BAJA+1, BAJA+2 }\n",
    "- Optimizacion Bayesiana de hiperparametros de  lightgbm,"
   ]
  },
  {
   "cell_type": "code",
   "execution_count": 1,
   "metadata": {
    "vscode": {
     "languageId": "r"
    }
   },
   "outputs": [
    {
     "data": {
      "text/html": [
       "<table class=\"dataframe\">\n",
       "<caption>A matrix: 2 × 6 of type dbl</caption>\n",
       "<thead>\n",
       "\t<tr><th></th><th scope=col>used</th><th scope=col>(Mb)</th><th scope=col>gc trigger</th><th scope=col>(Mb)</th><th scope=col>max used</th><th scope=col>(Mb)</th></tr>\n",
       "</thead>\n",
       "<tbody>\n",
       "\t<tr><th scope=row>Ncells</th><td> 631888</td><td>33.8</td><td>1412181</td><td>75.5</td><td> 984950</td><td>52.7</td></tr>\n",
       "\t<tr><th scope=row>Vcells</th><td>1170383</td><td> 9.0</td><td>8388608</td><td>64.0</td><td>1815603</td><td>13.9</td></tr>\n",
       "</tbody>\n",
       "</table>\n"
      ],
      "text/latex": [
       "A matrix: 2 × 6 of type dbl\n",
       "\\begin{tabular}{r|llllll}\n",
       "  & used & (Mb) & gc trigger & (Mb) & max used & (Mb)\\\\\n",
       "\\hline\n",
       "\tNcells &  631888 & 33.8 & 1412181 & 75.5 &  984950 & 52.7\\\\\n",
       "\tVcells & 1170383 &  9.0 & 8388608 & 64.0 & 1815603 & 13.9\\\\\n",
       "\\end{tabular}\n"
      ],
      "text/markdown": [
       "\n",
       "A matrix: 2 × 6 of type dbl\n",
       "\n",
       "| <!--/--> | used | (Mb) | gc trigger | (Mb) | max used | (Mb) |\n",
       "|---|---|---|---|---|---|---|\n",
       "| Ncells |  631888 | 33.8 | 1412181 | 75.5 |  984950 | 52.7 |\n",
       "| Vcells | 1170383 |  9.0 | 8388608 | 64.0 | 1815603 | 13.9 |\n",
       "\n"
      ],
      "text/plain": [
       "       used    (Mb) gc trigger (Mb) max used (Mb)\n",
       "Ncells  631888 33.8 1412181    75.5  984950  52.7\n",
       "Vcells 1170383  9.0 8388608    64.0 1815603  13.9"
      ]
     },
     "metadata": {},
     "output_type": "display_data"
    }
   ],
   "source": [
    "# limpio la memoria\n",
    "rm(list = ls()) # remove all objects\n",
    "gc() # garbage collection"
   ]
  },
  {
   "cell_type": "code",
   "execution_count": 2,
   "metadata": {
    "vscode": {
     "languageId": "r"
    }
   },
   "outputs": [
    {
     "name": "stderr",
     "output_type": "stream",
     "text": [
      "Loading required package: data.table\n",
      "\n",
      "Loading required package: rlist\n",
      "\n"
     ]
    }
   ],
   "source": [
    "require(\"data.table\")\n",
    "require(\"rlist\")"
   ]
  },
  {
   "cell_type": "code",
   "execution_count": 3,
   "metadata": {
    "vscode": {
     "languageId": "r"
    }
   },
   "outputs": [],
   "source": [
    "#Paso previo de transformar caracteres especiales\n",
    "# Carga el dataset desde el archivo CSV comprimido\n",
    "df <- read.csv(\"/home/germanpestchanker/buckets/b1/datasets/competencia_03_infla_ajustado_lags.csv.gz\")\n",
    "\n",
    "# Limpiar los nombres de las columnas\n",
    "colnames(df) <- gsub(\"[^A-Za-z0-9_]\", \"_\", colnames(df))\n",
    "\n",
    "write.csv(df, file = \"/home/germanpestchanker/buckets/b1/datasets/competencia_03_infla_ajustado_lags.csv.gz\", row.names = FALSE, quote = FALSE)\n"
   ]
  }
 ],
 "metadata": {
  "kernelspec": {
   "display_name": "R",
   "language": "R",
   "name": "ir"
  },
  "language_info": {
   "codemirror_mode": "r",
   "file_extension": ".r",
   "mimetype": "text/x-r-source",
   "name": "R",
   "pygments_lexer": "r",
   "version": "4.3.1"
  },
  "orig_nbformat": 4
 },
 "nbformat": 4,
 "nbformat_minor": 2
}
