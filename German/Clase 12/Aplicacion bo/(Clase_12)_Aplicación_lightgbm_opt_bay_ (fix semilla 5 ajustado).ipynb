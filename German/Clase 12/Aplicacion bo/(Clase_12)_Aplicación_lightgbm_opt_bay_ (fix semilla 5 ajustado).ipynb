{
  "cells": [
    {
      "cell_type": "markdown",
      "metadata": {
        "id": "492Uk88uppy3"
      },
      "source": [
        "# (Base Semilla 1)"
      ]
    },
    {
      "cell_type": "markdown",
      "metadata": {
        "id": "mFLVN6wfppy_"
      },
      "source": [
        "- Para correr el Google Cloud\n",
        "-   8 vCPU\n",
        "-  64 GB memoria RAM"
      ]
    },
    {
      "cell_type": "code",
      "execution_count": null,
      "metadata": {
        "id": "A5KYI7y0ppy_",
        "vscode": {
          "languageId": "r"
        }
      },
      "outputs": [],
      "source": [
        "# limpio la memoria\n",
        "rm(list = ls()) # remove all objects\n",
        "gc() # garbage collection"
      ]
    },
    {
      "cell_type": "code",
      "execution_count": null,
      "metadata": {
        "id": "NQyzk1eappzA",
        "vscode": {
          "languageId": "r"
        }
      },
      "outputs": [],
      "source": [
        "require(\"data.table\")\n",
        "require(\"lightgbm\")"
      ]
    },
    {
      "cell_type": "code",
      "execution_count": null,
      "metadata": {
        "id": "ZNVVhq35ppzA",
        "vscode": {
          "languageId": "r"
        }
      },
      "outputs": [],
      "source": [
        "# defino los parametros de la corrida, en una lista, la variable global  PARAM\n",
        "#  muy pronto esto se leera desde un archivo formato .yaml\n",
        "PARAM <- list()\n",
        "PARAM$experimento <- \"KA8240 (Clase 12, Base Sem1)\"\n",
        "\n",
        "PARAM$input$dataset <- \"datasets/competencia_03_base_lags.csv.gz\"\n",
        "\n",
        "# meses donde se entrena el modelo\n",
        "PARAM$input$training <- c( 202107, 202106, 202105, 202104, 202103, 202102)\n",
        "PARAM$input$future <- c(202109) # meses donde se aplica el modelo\n",
        "\n",
        "PARAM$finalmodel$semilla <- 279511\n",
        "\n",
        "# hiperparametros intencionalmente optimos\n",
        "PARAM$finalmodel$optim$num_iterations <- 231\n",
        "PARAM$finalmodel$optim$learning_rate <- 0.0716026909889653\n",
        "PARAM$finalmodel$optim$feature_fraction <- 0.938601369674891\n",
        "PARAM$finalmodel$optim$min_data_in_leaf <- 10341\n",
        "PARAM$finalmodel$optim$num_leaves <- 506"
      ]
    },
    {
      "cell_type": "code",
      "execution_count": null,
      "metadata": {
        "id": "pSGclaJTppzA",
        "vscode": {
          "languageId": "r"
        }
      },
      "outputs": [],
      "source": [
        "# Hiperparametros FIJOS de  lightgbm\n",
        "PARAM$finalmodel$lgb_basicos <- list(\n",
        "  boosting = \"gbdt\", # puede ir  dart  , ni pruebe random_forest\n",
        "  objective = \"binary\",\n",
        "  metric = \"custom\",\n",
        "  first_metric_only = TRUE,\n",
        "  boost_from_average = TRUE,\n",
        "  feature_pre_filter = FALSE,\n",
        "  force_row_wise = TRUE, # para reducir warnings\n",
        "  verbosity = -100,\n",
        "  max_depth = -1L, # -1 significa no limitar,  por ahora lo dejo fijo\n",
        "  min_gain_to_split = 0.0, # min_gain_to_split >= 0.0\n",
        "  min_sum_hessian_in_leaf = 0.001, #  min_sum_hessian_in_leaf >= 0.0\n",
        "  lambda_l1 = 0.0, # lambda_l1 >= 0.0\n",
        "  lambda_l2 = 0.0, # lambda_l2 >= 0.0\n",
        "  max_bin = 31L, # lo debo dejar fijo, no participa de la BO\n",
        "\n",
        "  bagging_fraction = 1.0, # 0.0 < bagging_fraction <= 1.0\n",
        "  pos_bagging_fraction = 1.0, # 0.0 < pos_bagging_fraction <= 1.0\n",
        "  neg_bagging_fraction = 1.0, # 0.0 < neg_bagging_fraction <= 1.0\n",
        "  is_unbalance = FALSE, #\n",
        "  scale_pos_weight = 1.0, # scale_pos_weight > 0.0\n",
        "\n",
        "  drop_rate = 0.1, # 0.0 < neg_bagging_fraction <= 1.0\n",
        "  max_drop = 50, # <=0 means no limit\n",
        "  skip_drop = 0.5, # 0.0 <= skip_drop <= 1.0\n",
        "\n",
        "  extra_trees = TRUE, # Magic Sauce\n",
        "\n",
        "  seed = PARAM$finalmodel$semilla\n",
        ")"
      ]
    },
    {
      "cell_type": "markdown",
      "metadata": {
        "id": "pMGpRdCMppzA"
      },
      "source": [
        "## Aqui empieza el programa"
      ]
    },
    {
      "cell_type": "code",
      "execution_count": null,
      "metadata": {
        "id": "51SgymlqppzA",
        "vscode": {
          "languageId": "r"
        }
      },
      "outputs": [],
      "source": [
        "# Aqui empieza el programa\n",
        "setwd(\"~/buckets/b1\")\n",
        "\n",
        "# cargo el dataset donde voy a entrenar\n",
        "dataset <- fread(PARAM$input$dataset, stringsAsFactors = TRUE)"
      ]
    },
    {
      "cell_type": "code",
      "execution_count": null,
      "metadata": {
        "id": "Drhr_dQFppzA",
        "vscode": {
          "languageId": "r"
        }
      },
      "outputs": [],
      "source": [
        "# Catastrophe Analysis  -------------------------------------------------------\n",
        "# deben ir cosas de este estilo\n",
        "#   dataset[foto_mes == 202006, active_quarter := NA]\n",
        "\n",
        "# Data Drifting\n",
        "# por ahora, no hago nada\n",
        "\n",
        "\n",
        "# Feature Engineering Historico  ----------------------------------------------\n",
        "#   aqui deben calcularse los  lags y  lag_delta\n",
        "#   Sin lags no hay paraiso ! corta la bocha\n",
        "#   https://rdrr.io/cran/data.table/man/shift.html\n",
        "\n"
      ]
    },
    {
      "cell_type": "code",
      "execution_count": null,
      "metadata": {
        "id": "Gs1rVa0RppzB",
        "vscode": {
          "languageId": "r"
        }
      },
      "outputs": [],
      "source": [
        "# paso la clase a binaria que tome valores {0,1}  enteros\n",
        "# set trabaja con la clase  POS = { BAJA+1, BAJA+2 }\n",
        "# esta estrategia es MUY importante\n",
        "dataset[, clase01 := ifelse(clase_ternaria %in% c(\"BAJA+2\", \"BAJA+1\"), 1L, 0L)]"
      ]
    },
    {
      "cell_type": "code",
      "execution_count": null,
      "metadata": {
        "id": "17lFDEDxppzB",
        "vscode": {
          "languageId": "r"
        }
      },
      "outputs": [],
      "source": [
        "# los campos que se van a utilizar\n",
        "campos_buenos <- setdiff(colnames(dataset), c(\"clase_ternaria\", \"clase01\"))"
      ]
    },
    {
      "cell_type": "code",
      "execution_count": null,
      "metadata": {
        "id": "9-QIPR2WppzB",
        "vscode": {
          "languageId": "r"
        }
      },
      "outputs": [],
      "source": [
        "# establezco donde entreno\n",
        "dataset[, train := 0L]\n",
        "dataset[foto_mes %in% PARAM$input$training, train := 1L]\n"
      ]
    },
    {
      "cell_type": "code",
      "execution_count": null,
      "metadata": {
        "id": "cK0DZfMlppzB",
        "vscode": {
          "languageId": "r"
        }
      },
      "outputs": [],
      "source": [
        "# creo las carpetas donde van los resultados\n",
        "# creo la carpeta donde va el experimento\n",
        "dir.create(\"./exp/\", showWarnings = FALSE)\n",
        "dir.create(paste0(\"./exp/\", PARAM$experimento, \"/\"), showWarnings = FALSE)\n",
        "\n",
        "# Establezco el Working Directory DEL EXPERIMENTO\n",
        "setwd(paste0(\"./exp/\", PARAM$experimento, \"/\"))"
      ]
    },
    {
      "cell_type": "code",
      "execution_count": null,
      "metadata": {
        "id": "x8ocbamnppzB",
        "vscode": {
          "languageId": "r"
        }
      },
      "outputs": [],
      "source": [
        "# dejo los datos en el formato que necesita LightGBM\n",
        "dtrain <- lgb.Dataset(\n",
        "  data = data.matrix(dataset[train == 1L, campos_buenos, with = FALSE]),\n",
        "  label = dataset[train == 1L, clase01]\n",
        ")"
      ]
    },
    {
      "cell_type": "code",
      "execution_count": null,
      "metadata": {
        "id": "XVW6s6XwppzB",
        "vscode": {
          "languageId": "r"
        }
      },
      "outputs": [],
      "source": [
        "# genero el modelo\n",
        "param_completo <- c(PARAM$finalmodel$lgb_basicos,\n",
        "  PARAM$finalmodel$optim)\n",
        "\n",
        "modelo <- lgb.train(\n",
        "  data = dtrain,\n",
        "  param = param_completo,\n",
        ")"
      ]
    },
    {
      "cell_type": "code",
      "execution_count": null,
      "metadata": {
        "id": "zpCislyCppzC",
        "vscode": {
          "languageId": "r"
        }
      },
      "outputs": [],
      "source": [
        "# ahora imprimo la importancia de variables\n",
        "tb_importancia <- as.data.table(lgb.importance(modelo))\n",
        "archivo_importancia <- \"impo.txt\"\n",
        "\n",
        "fwrite(tb_importancia,\n",
        "  file = archivo_importancia,\n",
        "  sep = \"\\t\"\n",
        ")\n"
      ]
    },
    {
      "cell_type": "code",
      "execution_count": null,
      "metadata": {
        "id": "xzNFv00wppzC",
        "vscode": {
          "languageId": "r"
        }
      },
      "outputs": [],
      "source": [
        "# aplico el modelo a los datos sin clase\n",
        "dapply <- dataset[foto_mes == PARAM$input$future]\n",
        "\n",
        "# aplico el modelo a los datos nuevos\n",
        "prediccion <- predict(\n",
        "  modelo,\n",
        "  data.matrix(dapply[, campos_buenos, with = FALSE])\n",
        ")\n",
        "\n",
        "# genero la tabla de entrega\n",
        "tb_entrega <- dapply[, list(numero_de_cliente, foto_mes)]\n",
        "tb_entrega[, prob := prediccion]\n",
        "\n",
        "# grabo las probabilidad del modelo\n",
        "fwrite(tb_entrega,\n",
        "  file = \"prediccion.txt\",\n",
        "  sep = \"\\t\"\n",
        ")\n",
        "\n",
        "# ordeno por probabilidad descendente\n",
        "setorder(tb_entrega, -prob)\n"
      ]
    },
    {
      "cell_type": "code",
      "execution_count": null,
      "metadata": {
        "id": "es4eWfeJppzC",
        "vscode": {
          "languageId": "r"
        }
      },
      "outputs": [],
      "source": [
        "# genero archivos con los  \"envios\" mejores\n",
        "# deben subirse \"inteligentemente\" a Kaggle para no malgastar submits\n",
        "# si la palabra inteligentemente no le significa nada aun\n",
        "# suba TODOS los archivos a Kaggle\n",
        "# espera a la siguiente clase sincronica en donde el tema sera explicado\n",
        "\n",
        "cortes <- seq(8000, 13000, by = 500)\n",
        "for (envios in cortes) {\n",
        "  tb_entrega[, Predicted := 0L]\n",
        "  tb_entrega[1:envios, Predicted := 1L]\n",
        "\n",
        "  fwrite(tb_entrega[, list(numero_de_cliente, Predicted)],\n",
        "    file = paste0(PARAM$experimento, \"_\", envios, \".csv\"),\n",
        "    sep = \",\"\n",
        "  )\n",
        "}\n",
        "\n",
        "cat(\"\\n\\nLa generacion de los archivos para Kaggle ha terminado\\n\")"
      ]
    },
    {
      "cell_type": "markdown",
      "metadata": {
        "id": "B5bC_zxuppzC"
      },
      "source": [
        "# (Base Semilla 2)"
      ]
    },
    {
      "cell_type": "markdown",
      "metadata": {
        "id": "3FlSyI8JppzC"
      },
      "source": [
        "- Para correr el Google Cloud\n",
        "-   8 vCPU\n",
        "-  64 GB memoria RAM"
      ]
    },
    {
      "cell_type": "code",
      "execution_count": null,
      "metadata": {
        "id": "VBzqALASppzC",
        "vscode": {
          "languageId": "r"
        }
      },
      "outputs": [],
      "source": [
        "# limpio la memoria\n",
        "rm(list = ls()) # remove all objects\n",
        "gc() # garbage collection"
      ]
    },
    {
      "cell_type": "code",
      "execution_count": null,
      "metadata": {
        "id": "fpILgcweppzD",
        "vscode": {
          "languageId": "r"
        }
      },
      "outputs": [],
      "source": [
        "require(\"data.table\")\n",
        "require(\"lightgbm\")"
      ]
    },
    {
      "cell_type": "code",
      "execution_count": null,
      "metadata": {
        "id": "osFKVCPYppzD",
        "vscode": {
          "languageId": "r"
        }
      },
      "outputs": [],
      "source": [
        "# defino los parametros de la corrida, en una lista, la variable global  PARAM\n",
        "#  muy pronto esto se leera desde un archivo formato .yaml\n",
        "PARAM <- list()\n",
        "PARAM$experimento <- \"KA8240 (Clase 12, Base Sem2)\"\n",
        "\n",
        "PARAM$input$dataset <- \"datasets/competencia_03_base_lags.csv.gz\"\n",
        "\n",
        "# meses donde se entrena el modelo\n",
        "PARAM$input$training <- c( 202107, 202106, 202105, 202104, 202103, 202102)\n",
        "PARAM$input$future <- c(202109) # meses donde se aplica el modelo\n",
        "\n",
        "PARAM$finalmodel$semilla <- 279523\n",
        "\n",
        "# hiperparametros intencionalmente optimos\n",
        "PARAM$finalmodel$optim$num_iterations <- 231\n",
        "PARAM$finalmodel$optim$learning_rate <- 0.0716026909889653\n",
        "PARAM$finalmodel$optim$feature_fraction <- 0.938601369674891\n",
        "PARAM$finalmodel$optim$min_data_in_leaf <- 10341\n",
        "PARAM$finalmodel$optim$num_leaves <- 506"
      ]
    },
    {
      "cell_type": "code",
      "execution_count": null,
      "metadata": {
        "id": "_gioxkuMppzD",
        "vscode": {
          "languageId": "r"
        }
      },
      "outputs": [],
      "source": [
        "# Hiperparametros FIJOS de  lightgbm\n",
        "PARAM$finalmodel$lgb_basicos <- list(\n",
        "  boosting = \"gbdt\", # puede ir  dart  , ni pruebe random_forest\n",
        "  objective = \"binary\",\n",
        "  metric = \"custom\",\n",
        "  first_metric_only = TRUE,\n",
        "  boost_from_average = TRUE,\n",
        "  feature_pre_filter = FALSE,\n",
        "  force_row_wise = TRUE, # para reducir warnings\n",
        "  verbosity = -100,\n",
        "  max_depth = -1L, # -1 significa no limitar,  por ahora lo dejo fijo\n",
        "  min_gain_to_split = 0.0, # min_gain_to_split >= 0.0\n",
        "  min_sum_hessian_in_leaf = 0.001, #  min_sum_hessian_in_leaf >= 0.0\n",
        "  lambda_l1 = 0.0, # lambda_l1 >= 0.0\n",
        "  lambda_l2 = 0.0, # lambda_l2 >= 0.0\n",
        "  max_bin = 31L, # lo debo dejar fijo, no participa de la BO\n",
        "\n",
        "  bagging_fraction = 1.0, # 0.0 < bagging_fraction <= 1.0\n",
        "  pos_bagging_fraction = 1.0, # 0.0 < pos_bagging_fraction <= 1.0\n",
        "  neg_bagging_fraction = 1.0, # 0.0 < neg_bagging_fraction <= 1.0\n",
        "  is_unbalance = FALSE, #\n",
        "  scale_pos_weight = 1.0, # scale_pos_weight > 0.0\n",
        "\n",
        "  drop_rate = 0.1, # 0.0 < neg_bagging_fraction <= 1.0\n",
        "  max_drop = 50, # <=0 means no limit\n",
        "  skip_drop = 0.5, # 0.0 <= skip_drop <= 1.0\n",
        "\n",
        "  extra_trees = TRUE, # Magic Sauce\n",
        "\n",
        "  seed = PARAM$finalmodel$semilla\n",
        ")"
      ]
    },
    {
      "cell_type": "markdown",
      "metadata": {
        "id": "YuR6XlgcppzD"
      },
      "source": [
        "## Aqui empieza el programa"
      ]
    },
    {
      "cell_type": "code",
      "execution_count": null,
      "metadata": {
        "id": "4weMgdvbppzE",
        "vscode": {
          "languageId": "r"
        }
      },
      "outputs": [],
      "source": [
        "# Aqui empieza el programa\n",
        "setwd(\"~/buckets/b1\")\n",
        "\n",
        "# cargo el dataset donde voy a entrenar\n",
        "dataset <- fread(PARAM$input$dataset, stringsAsFactors = TRUE)"
      ]
    },
    {
      "cell_type": "code",
      "execution_count": null,
      "metadata": {
        "id": "ARIGhyzhppzE",
        "vscode": {
          "languageId": "r"
        }
      },
      "outputs": [],
      "source": [
        "# Catastrophe Analysis  -------------------------------------------------------\n",
        "# deben ir cosas de este estilo\n",
        "#   dataset[foto_mes == 202006, active_quarter := NA]\n",
        "\n",
        "# Data Drifting\n",
        "# por ahora, no hago nada\n",
        "\n",
        "\n",
        "# Feature Engineering Historico  ----------------------------------------------\n",
        "#   aqui deben calcularse los  lags y  lag_delta\n",
        "#   Sin lags no hay paraiso ! corta la bocha\n",
        "#   https://rdrr.io/cran/data.table/man/shift.html\n",
        "\n"
      ]
    },
    {
      "cell_type": "code",
      "execution_count": null,
      "metadata": {
        "id": "1Cj9qnvWppzE",
        "vscode": {
          "languageId": "r"
        }
      },
      "outputs": [],
      "source": [
        "# paso la clase a binaria que tome valores {0,1}  enteros\n",
        "# set trabaja con la clase  POS = { BAJA+1, BAJA+2 }\n",
        "# esta estrategia es MUY importante\n",
        "dataset[, clase01 := ifelse(clase_ternaria %in% c(\"BAJA+2\", \"BAJA+1\"), 1L, 0L)]"
      ]
    },
    {
      "cell_type": "code",
      "execution_count": null,
      "metadata": {
        "id": "AZr8i16rppzE",
        "vscode": {
          "languageId": "r"
        }
      },
      "outputs": [],
      "source": [
        "# los campos que se van a utilizar\n",
        "campos_buenos <- setdiff(colnames(dataset), c(\"clase_ternaria\", \"clase01\"))"
      ]
    },
    {
      "cell_type": "code",
      "execution_count": null,
      "metadata": {
        "id": "9SWgZONNppzF",
        "vscode": {
          "languageId": "r"
        }
      },
      "outputs": [],
      "source": [
        "# establezco donde entreno\n",
        "dataset[, train := 0L]\n",
        "dataset[foto_mes %in% PARAM$input$training, train := 1L]\n"
      ]
    },
    {
      "cell_type": "code",
      "execution_count": null,
      "metadata": {
        "id": "bdw6oAvZppzF",
        "vscode": {
          "languageId": "r"
        }
      },
      "outputs": [],
      "source": [
        "# creo las carpetas donde van los resultados\n",
        "# creo la carpeta donde va el experimento\n",
        "dir.create(\"./exp/\", showWarnings = FALSE)\n",
        "dir.create(paste0(\"./exp/\", PARAM$experimento, \"/\"), showWarnings = FALSE)\n",
        "\n",
        "# Establezco el Working Directory DEL EXPERIMENTO\n",
        "setwd(paste0(\"./exp/\", PARAM$experimento, \"/\"))"
      ]
    },
    {
      "cell_type": "code",
      "execution_count": null,
      "metadata": {
        "id": "CKgnaLx8ppzF",
        "vscode": {
          "languageId": "r"
        }
      },
      "outputs": [],
      "source": [
        "# dejo los datos en el formato que necesita LightGBM\n",
        "dtrain <- lgb.Dataset(\n",
        "  data = data.matrix(dataset[train == 1L, campos_buenos, with = FALSE]),\n",
        "  label = dataset[train == 1L, clase01]\n",
        ")"
      ]
    },
    {
      "cell_type": "code",
      "execution_count": null,
      "metadata": {
        "id": "P-kZOxWJppzF",
        "vscode": {
          "languageId": "r"
        }
      },
      "outputs": [],
      "source": [
        "# genero el modelo\n",
        "param_completo <- c(PARAM$finalmodel$lgb_basicos,\n",
        "  PARAM$finalmodel$optim)\n",
        "\n",
        "modelo <- lgb.train(\n",
        "  data = dtrain,\n",
        "  param = param_completo,\n",
        ")"
      ]
    },
    {
      "cell_type": "code",
      "execution_count": null,
      "metadata": {
        "id": "a4vrsr8CppzF",
        "vscode": {
          "languageId": "r"
        }
      },
      "outputs": [],
      "source": [
        "# ahora imprimo la importancia de variables\n",
        "tb_importancia <- as.data.table(lgb.importance(modelo))\n",
        "archivo_importancia <- \"impo.txt\"\n",
        "\n",
        "fwrite(tb_importancia,\n",
        "  file = archivo_importancia,\n",
        "  sep = \"\\t\"\n",
        ")\n"
      ]
    },
    {
      "cell_type": "code",
      "execution_count": null,
      "metadata": {
        "id": "IIrZLf5ZppzF",
        "vscode": {
          "languageId": "r"
        }
      },
      "outputs": [],
      "source": [
        "# aplico el modelo a los datos sin clase\n",
        "dapply <- dataset[foto_mes == PARAM$input$future]\n",
        "\n",
        "# aplico el modelo a los datos nuevos\n",
        "prediccion <- predict(\n",
        "  modelo,\n",
        "  data.matrix(dapply[, campos_buenos, with = FALSE])\n",
        ")\n",
        "\n",
        "# genero la tabla de entrega\n",
        "tb_entrega <- dapply[, list(numero_de_cliente, foto_mes)]\n",
        "tb_entrega[, prob := prediccion]\n",
        "\n",
        "# grabo las probabilidad del modelo\n",
        "fwrite(tb_entrega,\n",
        "  file = \"prediccion.txt\",\n",
        "  sep = \"\\t\"\n",
        ")\n",
        "\n",
        "# ordeno por probabilidad descendente\n",
        "setorder(tb_entrega, -prob)\n"
      ]
    },
    {
      "cell_type": "code",
      "execution_count": null,
      "metadata": {
        "id": "1RdltnhBppzG",
        "vscode": {
          "languageId": "r"
        }
      },
      "outputs": [],
      "source": [
        "# genero archivos con los  \"envios\" mejores\n",
        "# deben subirse \"inteligentemente\" a Kaggle para no malgastar submits\n",
        "# si la palabra inteligentemente no le significa nada aun\n",
        "# suba TODOS los archivos a Kaggle\n",
        "# espera a la siguiente clase sincronica en donde el tema sera explicado\n",
        "\n",
        "cortes <- seq(8000, 13000, by = 500)\n",
        "for (envios in cortes) {\n",
        "  tb_entrega[, Predicted := 0L]\n",
        "  tb_entrega[1:envios, Predicted := 1L]\n",
        "\n",
        "  fwrite(tb_entrega[, list(numero_de_cliente, Predicted)],\n",
        "    file = paste0(PARAM$experimento, \"_\", envios, \".csv\"),\n",
        "    sep = \",\"\n",
        "  )\n",
        "}\n",
        "\n",
        "cat(\"\\n\\nLa generacion de los archivos para Kaggle ha terminado\\n\")"
      ]
    },
    {
      "cell_type": "markdown",
      "metadata": {
        "id": "f7L3a3OUppzG"
      },
      "source": [
        "# (Base Semilla 3)"
      ]
    },
    {
      "cell_type": "markdown",
      "metadata": {
        "id": "-2sKx9fMppzG"
      },
      "source": [
        "- Para correr el Google Cloud\n",
        "-   8 vCPU\n",
        "-  64 GB memoria RAM"
      ]
    },
    {
      "cell_type": "code",
      "execution_count": null,
      "metadata": {
        "id": "sQZYqgvzppzG",
        "vscode": {
          "languageId": "r"
        }
      },
      "outputs": [],
      "source": [
        "# limpio la memoria\n",
        "rm(list = ls()) # remove all objects\n",
        "gc() # garbage collection"
      ]
    },
    {
      "cell_type": "code",
      "execution_count": null,
      "metadata": {
        "id": "-CFflXYFppzG",
        "vscode": {
          "languageId": "r"
        }
      },
      "outputs": [],
      "source": [
        "require(\"data.table\")\n",
        "require(\"lightgbm\")"
      ]
    },
    {
      "cell_type": "code",
      "execution_count": null,
      "metadata": {
        "id": "LNIl2QLFppzG",
        "vscode": {
          "languageId": "r"
        }
      },
      "outputs": [],
      "source": [
        "# defino los parametros de la corrida, en una lista, la variable global  PARAM\n",
        "#  muy pronto esto se leera desde un archivo formato .yaml\n",
        "PARAM <- list()\n",
        "PARAM$experimento <- \"KA8240 (Clase 12, Base Sem3)\"\n",
        "\n",
        "PARAM$input$dataset <- \"datasets/competencia_03_base_lags.csv.gz\"\n",
        "\n",
        "# meses donde se entrena el modelo\n",
        "PARAM$input$training <- c( 202107, 202106, 202105, 202104, 202103, 202102)\n",
        "PARAM$input$future <- c(202109) # meses donde se aplica el modelo\n",
        "\n",
        "PARAM$finalmodel$semilla <- 279541\n",
        "\n",
        "# hiperparametros intencionalmente optimos\n",
        "PARAM$finalmodel$optim$num_iterations <- 231\n",
        "PARAM$finalmodel$optim$learning_rate <- 0.0716026909889653\n",
        "PARAM$finalmodel$optim$feature_fraction <- 0.938601369674891\n",
        "PARAM$finalmodel$optim$min_data_in_leaf <- 10341\n",
        "PARAM$finalmodel$optim$num_leaves <- 506"
      ]
    },
    {
      "cell_type": "code",
      "execution_count": null,
      "metadata": {
        "id": "L2OgDJlQppzH",
        "vscode": {
          "languageId": "r"
        }
      },
      "outputs": [],
      "source": [
        "# Hiperparametros FIJOS de  lightgbm\n",
        "PARAM$finalmodel$lgb_basicos <- list(\n",
        "  boosting = \"gbdt\", # puede ir  dart  , ni pruebe random_forest\n",
        "  objective = \"binary\",\n",
        "  metric = \"custom\",\n",
        "  first_metric_only = TRUE,\n",
        "  boost_from_average = TRUE,\n",
        "  feature_pre_filter = FALSE,\n",
        "  force_row_wise = TRUE, # para reducir warnings\n",
        "  verbosity = -100,\n",
        "  max_depth = -1L, # -1 significa no limitar,  por ahora lo dejo fijo\n",
        "  min_gain_to_split = 0.0, # min_gain_to_split >= 0.0\n",
        "  min_sum_hessian_in_leaf = 0.001, #  min_sum_hessian_in_leaf >= 0.0\n",
        "  lambda_l1 = 0.0, # lambda_l1 >= 0.0\n",
        "  lambda_l2 = 0.0, # lambda_l2 >= 0.0\n",
        "  max_bin = 31L, # lo debo dejar fijo, no participa de la BO\n",
        "\n",
        "  bagging_fraction = 1.0, # 0.0 < bagging_fraction <= 1.0\n",
        "  pos_bagging_fraction = 1.0, # 0.0 < pos_bagging_fraction <= 1.0\n",
        "  neg_bagging_fraction = 1.0, # 0.0 < neg_bagging_fraction <= 1.0\n",
        "  is_unbalance = FALSE, #\n",
        "  scale_pos_weight = 1.0, # scale_pos_weight > 0.0\n",
        "\n",
        "  drop_rate = 0.1, # 0.0 < neg_bagging_fraction <= 1.0\n",
        "  max_drop = 50, # <=0 means no limit\n",
        "  skip_drop = 0.5, # 0.0 <= skip_drop <= 1.0\n",
        "\n",
        "  extra_trees = TRUE, # Magic Sauce\n",
        "\n",
        "  seed = PARAM$finalmodel$semilla\n",
        ")"
      ]
    },
    {
      "cell_type": "markdown",
      "metadata": {
        "id": "y9hkQOxuppzH"
      },
      "source": [
        "## Aqui empieza el programa"
      ]
    },
    {
      "cell_type": "code",
      "execution_count": null,
      "metadata": {
        "id": "stH5_nmqppzH",
        "vscode": {
          "languageId": "r"
        }
      },
      "outputs": [],
      "source": [
        "# Aqui empieza el programa\n",
        "setwd(\"~/buckets/b1\")\n",
        "\n",
        "# cargo el dataset donde voy a entrenar\n",
        "dataset <- fread(PARAM$input$dataset, stringsAsFactors = TRUE)"
      ]
    },
    {
      "cell_type": "code",
      "execution_count": null,
      "metadata": {
        "id": "qgBS3FnNppzH",
        "vscode": {
          "languageId": "r"
        }
      },
      "outputs": [],
      "source": [
        "# Catastrophe Analysis  -------------------------------------------------------\n",
        "# deben ir cosas de este estilo\n",
        "#   dataset[foto_mes == 202006, active_quarter := NA]\n",
        "\n",
        "# Data Drifting\n",
        "# por ahora, no hago nada\n",
        "\n",
        "\n",
        "# Feature Engineering Historico  ----------------------------------------------\n",
        "#   aqui deben calcularse los  lags y  lag_delta\n",
        "#   Sin lags no hay paraiso ! corta la bocha\n",
        "#   https://rdrr.io/cran/data.table/man/shift.html\n",
        "\n"
      ]
    },
    {
      "cell_type": "code",
      "execution_count": null,
      "metadata": {
        "id": "7bM0FNPJppzH",
        "vscode": {
          "languageId": "r"
        }
      },
      "outputs": [],
      "source": [
        "# paso la clase a binaria que tome valores {0,1}  enteros\n",
        "# set trabaja con la clase  POS = { BAJA+1, BAJA+2 }\n",
        "# esta estrategia es MUY importante\n",
        "dataset[, clase01 := ifelse(clase_ternaria %in% c(\"BAJA+2\", \"BAJA+1\"), 1L, 0L)]"
      ]
    },
    {
      "cell_type": "code",
      "execution_count": null,
      "metadata": {
        "id": "VmelC69UppzI",
        "vscode": {
          "languageId": "r"
        }
      },
      "outputs": [],
      "source": [
        "# los campos que se van a utilizar\n",
        "campos_buenos <- setdiff(colnames(dataset), c(\"clase_ternaria\", \"clase01\"))"
      ]
    },
    {
      "cell_type": "code",
      "execution_count": null,
      "metadata": {
        "id": "wPPTBl2oppzI",
        "vscode": {
          "languageId": "r"
        }
      },
      "outputs": [],
      "source": [
        "# establezco donde entreno\n",
        "dataset[, train := 0L]\n",
        "dataset[foto_mes %in% PARAM$input$training, train := 1L]\n"
      ]
    },
    {
      "cell_type": "code",
      "execution_count": null,
      "metadata": {
        "id": "QQZH8Pc1ppzI",
        "vscode": {
          "languageId": "r"
        }
      },
      "outputs": [],
      "source": [
        "# creo las carpetas donde van los resultados\n",
        "# creo la carpeta donde va el experimento\n",
        "dir.create(\"./exp/\", showWarnings = FALSE)\n",
        "dir.create(paste0(\"./exp/\", PARAM$experimento, \"/\"), showWarnings = FALSE)\n",
        "\n",
        "# Establezco el Working Directory DEL EXPERIMENTO\n",
        "setwd(paste0(\"./exp/\", PARAM$experimento, \"/\"))"
      ]
    },
    {
      "cell_type": "code",
      "execution_count": null,
      "metadata": {
        "id": "oP0O00w-ppzI",
        "vscode": {
          "languageId": "r"
        }
      },
      "outputs": [],
      "source": [
        "# dejo los datos en el formato que necesita LightGBM\n",
        "dtrain <- lgb.Dataset(\n",
        "  data = data.matrix(dataset[train == 1L, campos_buenos, with = FALSE]),\n",
        "  label = dataset[train == 1L, clase01]\n",
        ")"
      ]
    },
    {
      "cell_type": "code",
      "execution_count": null,
      "metadata": {
        "id": "mmRWIkREppzI",
        "vscode": {
          "languageId": "r"
        }
      },
      "outputs": [],
      "source": [
        "# genero el modelo\n",
        "param_completo <- c(PARAM$finalmodel$lgb_basicos,\n",
        "  PARAM$finalmodel$optim)\n",
        "\n",
        "modelo <- lgb.train(\n",
        "  data = dtrain,\n",
        "  param = param_completo,\n",
        ")"
      ]
    },
    {
      "cell_type": "code",
      "execution_count": null,
      "metadata": {
        "id": "NXx6sXFnppzI",
        "vscode": {
          "languageId": "r"
        }
      },
      "outputs": [],
      "source": [
        "# ahora imprimo la importancia de variables\n",
        "tb_importancia <- as.data.table(lgb.importance(modelo))\n",
        "archivo_importancia <- \"impo.txt\"\n",
        "\n",
        "fwrite(tb_importancia,\n",
        "  file = archivo_importancia,\n",
        "  sep = \"\\t\"\n",
        ")\n"
      ]
    },
    {
      "cell_type": "code",
      "execution_count": null,
      "metadata": {
        "id": "wrSng2IJppzJ",
        "vscode": {
          "languageId": "r"
        }
      },
      "outputs": [],
      "source": [
        "# aplico el modelo a los datos sin clase\n",
        "dapply <- dataset[foto_mes == PARAM$input$future]\n",
        "\n",
        "# aplico el modelo a los datos nuevos\n",
        "prediccion <- predict(\n",
        "  modelo,\n",
        "  data.matrix(dapply[, campos_buenos, with = FALSE])\n",
        ")\n",
        "\n",
        "# genero la tabla de entrega\n",
        "tb_entrega <- dapply[, list(numero_de_cliente, foto_mes)]\n",
        "tb_entrega[, prob := prediccion]\n",
        "\n",
        "# grabo las probabilidad del modelo\n",
        "fwrite(tb_entrega,\n",
        "  file = \"prediccion.txt\",\n",
        "  sep = \"\\t\"\n",
        ")\n",
        "\n",
        "# ordeno por probabilidad descendente\n",
        "setorder(tb_entrega, -prob)\n"
      ]
    },
    {
      "cell_type": "code",
      "execution_count": null,
      "metadata": {
        "id": "CUgGbRsBppzJ",
        "vscode": {
          "languageId": "r"
        }
      },
      "outputs": [],
      "source": [
        "# genero archivos con los  \"envios\" mejores\n",
        "# deben subirse \"inteligentemente\" a Kaggle para no malgastar submits\n",
        "# si la palabra inteligentemente no le significa nada aun\n",
        "# suba TODOS los archivos a Kaggle\n",
        "# espera a la siguiente clase sincronica en donde el tema sera explicado\n",
        "\n",
        "cortes <- seq(8000, 13000, by = 500)\n",
        "for (envios in cortes) {\n",
        "  tb_entrega[, Predicted := 0L]\n",
        "  tb_entrega[1:envios, Predicted := 1L]\n",
        "\n",
        "  fwrite(tb_entrega[, list(numero_de_cliente, Predicted)],\n",
        "    file = paste0(PARAM$experimento, \"_\", envios, \".csv\"),\n",
        "    sep = \",\"\n",
        "  )\n",
        "}\n",
        "\n",
        "cat(\"\\n\\nLa generacion de los archivos para Kaggle ha terminado\\n\")"
      ]
    },
    {
      "cell_type": "markdown",
      "metadata": {
        "id": "FKysDlkKppzJ"
      },
      "source": [
        "# (Base Semilla 4)"
      ]
    },
    {
      "cell_type": "markdown",
      "metadata": {
        "id": "A1bvgD41ppzJ"
      },
      "source": [
        "- Para correr el Google Cloud\n",
        "-   8 vCPU\n",
        "-  64 GB memoria RAM"
      ]
    },
    {
      "cell_type": "code",
      "execution_count": null,
      "metadata": {
        "id": "QJOxcOqJppzJ",
        "vscode": {
          "languageId": "r"
        }
      },
      "outputs": [],
      "source": [
        "# limpio la memoria\n",
        "rm(list = ls()) # remove all objects\n",
        "gc() # garbage collection"
      ]
    },
    {
      "cell_type": "code",
      "execution_count": null,
      "metadata": {
        "id": "qY8f0j-jppzK",
        "vscode": {
          "languageId": "r"
        }
      },
      "outputs": [],
      "source": [
        "require(\"data.table\")\n",
        "require(\"lightgbm\")"
      ]
    },
    {
      "cell_type": "code",
      "execution_count": null,
      "metadata": {
        "id": "ney46KaJppzK",
        "vscode": {
          "languageId": "r"
        }
      },
      "outputs": [],
      "source": [
        "# defino los parametros de la corrida, en una lista, la variable global  PARAM\n",
        "#  muy pronto esto se leera desde un archivo formato .yaml\n",
        "PARAM <- list()\n",
        "PARAM$experimento <- \"KA8240 (Clase 12, Base Sem4)\"\n",
        "\n",
        "PARAM$input$dataset <- \"datasets/competencia_03_base_lags.csv.gz\"\n",
        "\n",
        "# meses donde se entrena el modelo\n",
        "PARAM$input$training <- c( 202107, 202106, 202105, 202104, 202103, 202102)\n",
        "PARAM$input$future <- c(202109) # meses donde se aplica el modelo\n",
        "\n",
        "PARAM$finalmodel$semilla <- 279551\n",
        "\n",
        "# hiperparametros intencionalmente optimos\n",
        "PARAM$finalmodel$optim$num_iterations <- 231\n",
        "PARAM$finalmodel$optim$learning_rate <- 0.0716026909889653\n",
        "PARAM$finalmodel$optim$feature_fraction <- 0.938601369674891\n",
        "PARAM$finalmodel$optim$min_data_in_leaf <- 10341\n",
        "PARAM$finalmodel$optim$num_leaves <- 506"
      ]
    },
    {
      "cell_type": "code",
      "execution_count": null,
      "metadata": {
        "id": "nHBL2sbippzK",
        "vscode": {
          "languageId": "r"
        }
      },
      "outputs": [],
      "source": [
        "# Hiperparametros FIJOS de  lightgbm\n",
        "PARAM$finalmodel$lgb_basicos <- list(\n",
        "  boosting = \"gbdt\", # puede ir  dart  , ni pruebe random_forest\n",
        "  objective = \"binary\",\n",
        "  metric = \"custom\",\n",
        "  first_metric_only = TRUE,\n",
        "  boost_from_average = TRUE,\n",
        "  feature_pre_filter = FALSE,\n",
        "  force_row_wise = TRUE, # para reducir warnings\n",
        "  verbosity = -100,\n",
        "  max_depth = -1L, # -1 significa no limitar,  por ahora lo dejo fijo\n",
        "  min_gain_to_split = 0.0, # min_gain_to_split >= 0.0\n",
        "  min_sum_hessian_in_leaf = 0.001, #  min_sum_hessian_in_leaf >= 0.0\n",
        "  lambda_l1 = 0.0, # lambda_l1 >= 0.0\n",
        "  lambda_l2 = 0.0, # lambda_l2 >= 0.0\n",
        "  max_bin = 31L, # lo debo dejar fijo, no participa de la BO\n",
        "\n",
        "  bagging_fraction = 1.0, # 0.0 < bagging_fraction <= 1.0\n",
        "  pos_bagging_fraction = 1.0, # 0.0 < pos_bagging_fraction <= 1.0\n",
        "  neg_bagging_fraction = 1.0, # 0.0 < neg_bagging_fraction <= 1.0\n",
        "  is_unbalance = FALSE, #\n",
        "  scale_pos_weight = 1.0, # scale_pos_weight > 0.0\n",
        "\n",
        "  drop_rate = 0.1, # 0.0 < neg_bagging_fraction <= 1.0\n",
        "  max_drop = 50, # <=0 means no limit\n",
        "  skip_drop = 0.5, # 0.0 <= skip_drop <= 1.0\n",
        "\n",
        "  extra_trees = TRUE, # Magic Sauce\n",
        "\n",
        "  seed = PARAM$finalmodel$semilla\n",
        ")"
      ]
    },
    {
      "cell_type": "markdown",
      "metadata": {
        "id": "A0kbnsFjppzK"
      },
      "source": [
        "## Aqui empieza el programa"
      ]
    },
    {
      "cell_type": "code",
      "execution_count": null,
      "metadata": {
        "id": "F8Va9fAQppzK",
        "vscode": {
          "languageId": "r"
        }
      },
      "outputs": [],
      "source": [
        "# Aqui empieza el programa\n",
        "setwd(\"~/buckets/b1\")\n",
        "\n",
        "# cargo el dataset donde voy a entrenar\n",
        "dataset <- fread(PARAM$input$dataset, stringsAsFactors = TRUE)"
      ]
    },
    {
      "cell_type": "code",
      "execution_count": null,
      "metadata": {
        "id": "lbAtqQz-ppzL",
        "vscode": {
          "languageId": "r"
        }
      },
      "outputs": [],
      "source": [
        "# Catastrophe Analysis  -------------------------------------------------------\n",
        "# deben ir cosas de este estilo\n",
        "#   dataset[foto_mes == 202006, active_quarter := NA]\n",
        "\n",
        "# Data Drifting\n",
        "# por ahora, no hago nada\n",
        "\n",
        "\n",
        "# Feature Engineering Historico  ----------------------------------------------\n",
        "#   aqui deben calcularse los  lags y  lag_delta\n",
        "#   Sin lags no hay paraiso ! corta la bocha\n",
        "#   https://rdrr.io/cran/data.table/man/shift.html\n",
        "\n"
      ]
    },
    {
      "cell_type": "code",
      "execution_count": null,
      "metadata": {
        "id": "2ywP0HRXppzL",
        "vscode": {
          "languageId": "r"
        }
      },
      "outputs": [],
      "source": [
        "# paso la clase a binaria que tome valores {0,1}  enteros\n",
        "# set trabaja con la clase  POS = { BAJA+1, BAJA+2 }\n",
        "# esta estrategia es MUY importante\n",
        "dataset[, clase01 := ifelse(clase_ternaria %in% c(\"BAJA+2\", \"BAJA+1\"), 1L, 0L)]"
      ]
    },
    {
      "cell_type": "code",
      "execution_count": null,
      "metadata": {
        "id": "Iy_UNrUuppzL",
        "vscode": {
          "languageId": "r"
        }
      },
      "outputs": [],
      "source": [
        "# los campos que se van a utilizar\n",
        "campos_buenos <- setdiff(colnames(dataset), c(\"clase_ternaria\", \"clase01\"))"
      ]
    },
    {
      "cell_type": "code",
      "execution_count": null,
      "metadata": {
        "id": "dqf1ZBBMppzL",
        "vscode": {
          "languageId": "r"
        }
      },
      "outputs": [],
      "source": [
        "# establezco donde entreno\n",
        "dataset[, train := 0L]\n",
        "dataset[foto_mes %in% PARAM$input$training, train := 1L]\n"
      ]
    },
    {
      "cell_type": "code",
      "execution_count": null,
      "metadata": {
        "id": "KrUGLBSYppzL",
        "vscode": {
          "languageId": "r"
        }
      },
      "outputs": [],
      "source": [
        "# creo las carpetas donde van los resultados\n",
        "# creo la carpeta donde va el experimento\n",
        "dir.create(\"./exp/\", showWarnings = FALSE)\n",
        "dir.create(paste0(\"./exp/\", PARAM$experimento, \"/\"), showWarnings = FALSE)\n",
        "\n",
        "# Establezco el Working Directory DEL EXPERIMENTO\n",
        "setwd(paste0(\"./exp/\", PARAM$experimento, \"/\"))"
      ]
    },
    {
      "cell_type": "code",
      "execution_count": null,
      "metadata": {
        "id": "gOpzgH8PppzL",
        "vscode": {
          "languageId": "r"
        }
      },
      "outputs": [],
      "source": [
        "# dejo los datos en el formato que necesita LightGBM\n",
        "dtrain <- lgb.Dataset(\n",
        "  data = data.matrix(dataset[train == 1L, campos_buenos, with = FALSE]),\n",
        "  label = dataset[train == 1L, clase01]\n",
        ")"
      ]
    },
    {
      "cell_type": "code",
      "execution_count": null,
      "metadata": {
        "id": "8d-MwycyppzL",
        "vscode": {
          "languageId": "r"
        }
      },
      "outputs": [],
      "source": [
        "# genero el modelo\n",
        "param_completo <- c(PARAM$finalmodel$lgb_basicos,\n",
        "  PARAM$finalmodel$optim)\n",
        "\n",
        "modelo <- lgb.train(\n",
        "  data = dtrain,\n",
        "  param = param_completo,\n",
        ")"
      ]
    },
    {
      "cell_type": "code",
      "execution_count": null,
      "metadata": {
        "id": "i-7nOPemppzM",
        "vscode": {
          "languageId": "r"
        }
      },
      "outputs": [],
      "source": [
        "# ahora imprimo la importancia de variables\n",
        "tb_importancia <- as.data.table(lgb.importance(modelo))\n",
        "archivo_importancia <- \"impo.txt\"\n",
        "\n",
        "fwrite(tb_importancia,\n",
        "  file = archivo_importancia,\n",
        "  sep = \"\\t\"\n",
        ")\n"
      ]
    },
    {
      "cell_type": "code",
      "execution_count": null,
      "metadata": {
        "id": "JH0GNXx8ppzM",
        "vscode": {
          "languageId": "r"
        }
      },
      "outputs": [],
      "source": [
        "# aplico el modelo a los datos sin clase\n",
        "dapply <- dataset[foto_mes == PARAM$input$future]\n",
        "\n",
        "# aplico el modelo a los datos nuevos\n",
        "prediccion <- predict(\n",
        "  modelo,\n",
        "  data.matrix(dapply[, campos_buenos, with = FALSE])\n",
        ")\n",
        "\n",
        "# genero la tabla de entrega\n",
        "tb_entrega <- dapply[, list(numero_de_cliente, foto_mes)]\n",
        "tb_entrega[, prob := prediccion]\n",
        "\n",
        "# grabo las probabilidad del modelo\n",
        "fwrite(tb_entrega,\n",
        "  file = \"prediccion.txt\",\n",
        "  sep = \"\\t\"\n",
        ")\n",
        "\n",
        "# ordeno por probabilidad descendente\n",
        "setorder(tb_entrega, -prob)\n"
      ]
    },
    {
      "cell_type": "code",
      "execution_count": null,
      "metadata": {
        "id": "-pTC1yzeppzM",
        "vscode": {
          "languageId": "r"
        }
      },
      "outputs": [],
      "source": [
        "# genero archivos con los  \"envios\" mejores\n",
        "# deben subirse \"inteligentemente\" a Kaggle para no malgastar submits\n",
        "# si la palabra inteligentemente no le significa nada aun\n",
        "# suba TODOS los archivos a Kaggle\n",
        "# espera a la siguiente clase sincronica en donde el tema sera explicado\n",
        "\n",
        "cortes <- seq(8000, 13000, by = 500)\n",
        "for (envios in cortes) {\n",
        "  tb_entrega[, Predicted := 0L]\n",
        "  tb_entrega[1:envios, Predicted := 1L]\n",
        "\n",
        "  fwrite(tb_entrega[, list(numero_de_cliente, Predicted)],\n",
        "    file = paste0(PARAM$experimento, \"_\", envios, \".csv\"),\n",
        "    sep = \",\"\n",
        "  )\n",
        "}\n",
        "\n",
        "cat(\"\\n\\nLa generacion de los archivos para Kaggle ha terminado\\n\")"
      ]
    },
    {
      "cell_type": "markdown",
      "metadata": {
        "id": "ANNZ4pONppzM"
      },
      "source": [
        "# (Base Semilla 5)"
      ]
    },
    {
      "cell_type": "markdown",
      "metadata": {
        "id": "yYjaYBzjppzM"
      },
      "source": [
        "- Para correr el Google Cloud\n",
        "-   8 vCPU\n",
        "-  64 GB memoria RAM"
      ]
    },
    {
      "cell_type": "code",
      "execution_count": null,
      "metadata": {
        "id": "zVIY6sgpppzM",
        "vscode": {
          "languageId": "r"
        }
      },
      "outputs": [],
      "source": [
        "# limpio la memoria\n",
        "rm(list = ls()) # remove all objects\n",
        "gc() # garbage collection"
      ]
    },
    {
      "cell_type": "code",
      "execution_count": null,
      "metadata": {
        "id": "jXiqJJDvppzN",
        "vscode": {
          "languageId": "r"
        }
      },
      "outputs": [],
      "source": [
        "require(\"data.table\")\n",
        "require(\"lightgbm\")"
      ]
    },
    {
      "cell_type": "code",
      "execution_count": null,
      "metadata": {
        "id": "W70UWo24ppzN",
        "vscode": {
          "languageId": "r"
        }
      },
      "outputs": [],
      "source": [
        "# defino los parametros de la corrida, en una lista, la variable global  PARAM\n",
        "#  muy pronto esto se leera desde un archivo formato .yaml\n",
        "PARAM <- list()\n",
        "PARAM$experimento <- \"KA8240 (Clase 12, Base Sem5)\"\n",
        "\n",
        "PARAM$input$dataset <- \"datasets/competencia_03_base_lags.csv.gz\"\n",
        "\n",
        "# meses donde se entrena el modelo\n",
        "PARAM$input$training <- c( 202107, 202106, 202105, 202104, 202103, 202102)\n",
        "PARAM$input$future <- c(202109) # meses donde se aplica el modelo\n",
        "\n",
        "PARAM$finalmodel$semilla <- 279571\n",
        "\n",
        "# hiperparametros intencionalmente optimos\n",
        "PARAM$finalmodel$optim$num_iterations <- 231\n",
        "PARAM$finalmodel$optim$learning_rate <- 0.0716026909889653\n",
        "PARAM$finalmodel$optim$feature_fraction <- 0.938601369674891\n",
        "PARAM$finalmodel$optim$min_data_in_leaf <- 10341\n",
        "PARAM$finalmodel$optim$num_leaves <- 506"
      ]
    },
    {
      "cell_type": "code",
      "execution_count": null,
      "metadata": {
        "id": "WMQcvVqdppzN",
        "vscode": {
          "languageId": "r"
        }
      },
      "outputs": [],
      "source": [
        "# Hiperparametros FIJOS de  lightgbm\n",
        "PARAM$finalmodel$lgb_basicos <- list(\n",
        "  boosting = \"gbdt\", # puede ir  dart  , ni pruebe random_forest\n",
        "  objective = \"binary\",\n",
        "  metric = \"custom\",\n",
        "  first_metric_only = TRUE,\n",
        "  boost_from_average = TRUE,\n",
        "  feature_pre_filter = FALSE,\n",
        "  force_row_wise = TRUE, # para reducir warnings\n",
        "  verbosity = -100,\n",
        "  max_depth = -1L, # -1 significa no limitar,  por ahora lo dejo fijo\n",
        "  min_gain_to_split = 0.0, # min_gain_to_split >= 0.0\n",
        "  min_sum_hessian_in_leaf = 0.001, #  min_sum_hessian_in_leaf >= 0.0\n",
        "  lambda_l1 = 0.0, # lambda_l1 >= 0.0\n",
        "  lambda_l2 = 0.0, # lambda_l2 >= 0.0\n",
        "  max_bin = 31L, # lo debo dejar fijo, no participa de la BO\n",
        "\n",
        "  bagging_fraction = 1.0, # 0.0 < bagging_fraction <= 1.0\n",
        "  pos_bagging_fraction = 1.0, # 0.0 < pos_bagging_fraction <= 1.0\n",
        "  neg_bagging_fraction = 1.0, # 0.0 < neg_bagging_fraction <= 1.0\n",
        "  is_unbalance = FALSE, #\n",
        "  scale_pos_weight = 1.0, # scale_pos_weight > 0.0\n",
        "\n",
        "  drop_rate = 0.1, # 0.0 < neg_bagging_fraction <= 1.0\n",
        "  max_drop = 50, # <=0 means no limit\n",
        "  skip_drop = 0.5, # 0.0 <= skip_drop <= 1.0\n",
        "\n",
        "  extra_trees = TRUE, # Magic Sauce\n",
        "\n",
        "  seed = PARAM$finalmodel$semilla\n",
        ")"
      ]
    },
    {
      "cell_type": "markdown",
      "metadata": {
        "id": "G7cCoGvQppzN"
      },
      "source": [
        "## Aqui empieza el programa"
      ]
    },
    {
      "cell_type": "code",
      "execution_count": null,
      "metadata": {
        "id": "HlH9pW1fppzN",
        "vscode": {
          "languageId": "r"
        }
      },
      "outputs": [],
      "source": [
        "# Aqui empieza el programa\n",
        "setwd(\"~/buckets/b1\")\n",
        "\n",
        "# cargo el dataset donde voy a entrenar\n",
        "dataset <- fread(PARAM$input$dataset, stringsAsFactors = TRUE)"
      ]
    },
    {
      "cell_type": "code",
      "execution_count": null,
      "metadata": {
        "id": "y4F1B3CZppzN",
        "vscode": {
          "languageId": "r"
        }
      },
      "outputs": [],
      "source": [
        "# Catastrophe Analysis  -------------------------------------------------------\n",
        "# deben ir cosas de este estilo\n",
        "#   dataset[foto_mes == 202006, active_quarter := NA]\n",
        "\n",
        "# Data Drifting\n",
        "# por ahora, no hago nada\n",
        "\n",
        "\n",
        "# Feature Engineering Historico  ----------------------------------------------\n",
        "#   aqui deben calcularse los  lags y  lag_delta\n",
        "#   Sin lags no hay paraiso ! corta la bocha\n",
        "#   https://rdrr.io/cran/data.table/man/shift.html\n",
        "\n"
      ]
    },
    {
      "cell_type": "code",
      "execution_count": null,
      "metadata": {
        "id": "JusoFnLkppzO",
        "vscode": {
          "languageId": "r"
        }
      },
      "outputs": [],
      "source": [
        "# paso la clase a binaria que tome valores {0,1}  enteros\n",
        "# set trabaja con la clase  POS = { BAJA+1, BAJA+2 }\n",
        "# esta estrategia es MUY importante\n",
        "dataset[, clase01 := ifelse(clase_ternaria %in% c(\"BAJA+2\", \"BAJA+1\"), 1L, 0L)]"
      ]
    },
    {
      "cell_type": "code",
      "execution_count": null,
      "metadata": {
        "id": "dDQn6QlfppzO",
        "vscode": {
          "languageId": "r"
        }
      },
      "outputs": [],
      "source": [
        "# los campos que se van a utilizar\n",
        "campos_buenos <- setdiff(colnames(dataset), c(\"clase_ternaria\", \"clase01\"))"
      ]
    },
    {
      "cell_type": "code",
      "execution_count": null,
      "metadata": {
        "id": "OsWDuQxdppzO",
        "vscode": {
          "languageId": "r"
        }
      },
      "outputs": [],
      "source": [
        "# establezco donde entreno\n",
        "dataset[, train := 0L]\n",
        "dataset[foto_mes %in% PARAM$input$training, train := 1L]\n"
      ]
    },
    {
      "cell_type": "code",
      "execution_count": null,
      "metadata": {
        "id": "EhxLqy__ppzO",
        "vscode": {
          "languageId": "r"
        }
      },
      "outputs": [],
      "source": [
        "# creo las carpetas donde van los resultados\n",
        "# creo la carpeta donde va el experimento\n",
        "dir.create(\"./exp/\", showWarnings = FALSE)\n",
        "dir.create(paste0(\"./exp/\", PARAM$experimento, \"/\"), showWarnings = FALSE)\n",
        "\n",
        "# Establezco el Working Directory DEL EXPERIMENTO\n",
        "setwd(paste0(\"./exp/\", PARAM$experimento, \"/\"))"
      ]
    },
    {
      "cell_type": "code",
      "execution_count": null,
      "metadata": {
        "id": "1MxjBgJhppzO",
        "vscode": {
          "languageId": "r"
        }
      },
      "outputs": [],
      "source": [
        "# dejo los datos en el formato que necesita LightGBM\n",
        "dtrain <- lgb.Dataset(\n",
        "  data = data.matrix(dataset[train == 1L, campos_buenos, with = FALSE]),\n",
        "  label = dataset[train == 1L, clase01]\n",
        ")"
      ]
    },
    {
      "cell_type": "code",
      "execution_count": null,
      "metadata": {
        "id": "W9GU5CsFppzO",
        "vscode": {
          "languageId": "r"
        }
      },
      "outputs": [],
      "source": [
        "# genero el modelo\n",
        "param_completo <- c(PARAM$finalmodel$lgb_basicos,\n",
        "  PARAM$finalmodel$optim)\n",
        "\n",
        "modelo <- lgb.train(\n",
        "  data = dtrain,\n",
        "  param = param_completo,\n",
        ")"
      ]
    },
    {
      "cell_type": "code",
      "execution_count": null,
      "metadata": {
        "id": "aFONGR6_ppzP",
        "vscode": {
          "languageId": "r"
        }
      },
      "outputs": [],
      "source": [
        "# ahora imprimo la importancia de variables\n",
        "tb_importancia <- as.data.table(lgb.importance(modelo))\n",
        "archivo_importancia <- \"impo.txt\"\n",
        "\n",
        "fwrite(tb_importancia,\n",
        "  file = archivo_importancia,\n",
        "  sep = \"\\t\"\n",
        ")\n"
      ]
    },
    {
      "cell_type": "code",
      "execution_count": null,
      "metadata": {
        "id": "WIOabFvpppzP",
        "vscode": {
          "languageId": "r"
        }
      },
      "outputs": [],
      "source": [
        "# aplico el modelo a los datos sin clase\n",
        "dapply <- dataset[foto_mes == PARAM$input$future]\n",
        "\n",
        "# aplico el modelo a los datos nuevos\n",
        "prediccion <- predict(\n",
        "  modelo,\n",
        "  data.matrix(dapply[, campos_buenos, with = FALSE])\n",
        ")\n",
        "\n",
        "# genero la tabla de entrega\n",
        "tb_entrega <- dapply[, list(numero_de_cliente, foto_mes)]\n",
        "tb_entrega[, prob := prediccion]\n",
        "\n",
        "# grabo las probabilidad del modelo\n",
        "fwrite(tb_entrega,\n",
        "  file = \"prediccion.txt\",\n",
        "  sep = \"\\t\"\n",
        ")\n",
        "\n",
        "# ordeno por probabilidad descendente\n",
        "setorder(tb_entrega, -prob)\n"
      ]
    },
    {
      "cell_type": "code",
      "execution_count": null,
      "metadata": {
        "id": "7jv6MOM4ppzP",
        "vscode": {
          "languageId": "r"
        }
      },
      "outputs": [],
      "source": [
        "# genero archivos con los  \"envios\" mejores\n",
        "# deben subirse \"inteligentemente\" a Kaggle para no malgastar submits\n",
        "# si la palabra inteligentemente no le significa nada aun\n",
        "# suba TODOS los archivos a Kaggle\n",
        "# espera a la siguiente clase sincronica en donde el tema sera explicado\n",
        "\n",
        "cortes <- seq(8000, 13000, by = 500)\n",
        "for (envios in cortes) {\n",
        "  tb_entrega[, Predicted := 0L]\n",
        "  tb_entrega[1:envios, Predicted := 1L]\n",
        "\n",
        "  fwrite(tb_entrega[, list(numero_de_cliente, Predicted)],\n",
        "    file = paste0(PARAM$experimento, \"_\", envios, \".csv\"),\n",
        "    sep = \",\"\n",
        "  )\n",
        "}\n",
        "\n",
        "cat(\"\\n\\nLa generacion de los archivos para Kaggle ha terminado\\n\")"
      ]
    },
    {
      "cell_type": "markdown",
      "metadata": {
        "id": "I21lprepoS7N"
      },
      "source": [
        "Semillas: 279511, 279523, 279541, 279551, 279571"
      ]
    },
    {
      "cell_type": "markdown",
      "metadata": {
        "id": "W1F84iFGnCmM"
      },
      "source": [
        "## Importación de Librerías"
      ]
    },
    {
      "cell_type": "markdown",
      "metadata": {
        "id": "idSYMojXnFTK"
      },
      "source": [
        "# (Ajustado Semilla 1)"
      ]
    },
    {
      "cell_type": "markdown",
      "metadata": {
        "id": "VSwk0j-lnCmO"
      },
      "source": [
        "- Para correr el Google Cloud\n",
        "-   8 vCPU\n",
        "-  64 GB memoria RAM"
      ]
    },
    {
      "cell_type": "code",
      "execution_count": null,
      "metadata": {
        "id": "V3ZizxnKnCmP",
        "vscode": {
          "languageId": "r"
        }
      },
      "outputs": [],
      "source": [
        "# limpio la memoria\n",
        "rm(list = ls()) # remove all objects\n",
        "gc() # garbage collection"
      ]
    },
    {
      "cell_type": "code",
      "execution_count": null,
      "metadata": {
        "id": "GoehyVL3nCma",
        "vscode": {
          "languageId": "r"
        }
      },
      "outputs": [],
      "source": [
        "require(\"data.table\")\n",
        "require(\"lightgbm\")"
      ]
    },
    {
      "cell_type": "code",
      "execution_count": null,
      "metadata": {
        "id": "CWjAL-t_nCmb",
        "vscode": {
          "languageId": "r"
        }
      },
      "outputs": [],
      "source": [
        "# defino los parametros de la corrida, en una lista, la variable global  PARAM\n",
        "#  muy pronto esto se leera desde un archivo formato .yaml\n",
        "PARAM <- list()\n",
        "PARAM$experimento <- \"KA8240 (Clase 12, Ajustado Sem1)\"\n",
        "\n",
        "PARAM$input$dataset <- \"datasets/competencia_03_infla_ajustado_lags.csv.gz\"\n",
        "\n",
        "# meses donde se entrena el modelo\n",
        "PARAM$input$training <- c( 202107, 202106, 202105, 202104, 202103, 202102)\n",
        "PARAM$input$future <- c(202109) # meses donde se aplica el modelo\n",
        "\n",
        "PARAM$finalmodel$semilla <- 279511\n",
        "\n",
        "# hiperparametros intencionalmente optimos\n",
        "PARAM$finalmodel$optim$num_iterations <- 231\n",
        "PARAM$finalmodel$optim$learning_rate <- 0.0716026909889653\n",
        "PARAM$finalmodel$optim$feature_fraction <- 0.938601369674891\n",
        "PARAM$finalmodel$optim$min_data_in_leaf <- 10341\n",
        "PARAM$finalmodel$optim$num_leaves <- 506"
      ]
    },
    {
      "cell_type": "code",
      "execution_count": null,
      "metadata": {
        "id": "1tqMMpyFnCmb",
        "vscode": {
          "languageId": "r"
        }
      },
      "outputs": [],
      "source": [
        "# Hiperparametros FIJOS de  lightgbm\n",
        "PARAM$finalmodel$lgb_basicos <- list(\n",
        "  boosting = \"gbdt\", # puede ir  dart  , ni pruebe random_forest\n",
        "  objective = \"binary\",\n",
        "  metric = \"custom\",\n",
        "  first_metric_only = TRUE,\n",
        "  boost_from_average = TRUE,\n",
        "  feature_pre_filter = FALSE,\n",
        "  force_row_wise = TRUE, # para reducir warnings\n",
        "  verbosity = -100,\n",
        "  max_depth = -1L, # -1 significa no limitar,  por ahora lo dejo fijo\n",
        "  min_gain_to_split = 0.0, # min_gain_to_split >= 0.0\n",
        "  min_sum_hessian_in_leaf = 0.001, #  min_sum_hessian_in_leaf >= 0.0\n",
        "  lambda_l1 = 0.0, # lambda_l1 >= 0.0\n",
        "  lambda_l2 = 0.0, # lambda_l2 >= 0.0\n",
        "  max_bin = 31L, # lo debo dejar fijo, no participa de la BO\n",
        "\n",
        "  bagging_fraction = 1.0, # 0.0 < bagging_fraction <= 1.0\n",
        "  pos_bagging_fraction = 1.0, # 0.0 < pos_bagging_fraction <= 1.0\n",
        "  neg_bagging_fraction = 1.0, # 0.0 < neg_bagging_fraction <= 1.0\n",
        "  is_unbalance = FALSE, #\n",
        "  scale_pos_weight = 1.0, # scale_pos_weight > 0.0\n",
        "\n",
        "  drop_rate = 0.1, # 0.0 < neg_bagging_fraction <= 1.0\n",
        "  max_drop = 50, # <=0 means no limit\n",
        "  skip_drop = 0.5, # 0.0 <= skip_drop <= 1.0\n",
        "\n",
        "  extra_trees = TRUE, # Magic Sauce\n",
        "\n",
        "  seed = PARAM$finalmodel$semilla\n",
        ")"
      ]
    },
    {
      "cell_type": "markdown",
      "metadata": {
        "id": "T9-p297inCmc"
      },
      "source": [
        "## Aqui empieza el programa"
      ]
    },
    {
      "cell_type": "code",
      "execution_count": null,
      "metadata": {
        "id": "MyIuVVnrnCmc",
        "vscode": {
          "languageId": "r"
        }
      },
      "outputs": [],
      "source": [
        "# Aqui empieza el programa\n",
        "setwd(\"~/buckets/b1\")\n",
        "\n",
        "# cargo el dataset donde voy a entrenar\n",
        "dataset <- fread(PARAM$input$dataset, stringsAsFactors = TRUE)"
      ]
    },
    {
      "cell_type": "code",
      "execution_count": null,
      "metadata": {
        "id": "__sdIZj9nCmd",
        "vscode": {
          "languageId": "r"
        }
      },
      "outputs": [],
      "source": [
        "# Catastrophe Analysis  -------------------------------------------------------\n",
        "# deben ir cosas de este estilo\n",
        "#   dataset[foto_mes == 202006, active_quarter := NA]\n",
        "\n",
        "# Data Drifting\n",
        "# por ahora, no hago nada\n",
        "\n",
        "\n",
        "# Feature Engineering Historico  ----------------------------------------------\n",
        "#   aqui deben calcularse los  lags y  lag_delta\n",
        "#   Sin lags no hay paraiso ! corta la bocha\n",
        "#   https://rdrr.io/cran/data.table/man/shift.html\n",
        "\n"
      ]
    },
    {
      "cell_type": "code",
      "execution_count": null,
      "metadata": {
        "id": "0MReUSqTnCmd",
        "vscode": {
          "languageId": "r"
        }
      },
      "outputs": [],
      "source": [
        "# paso la clase a binaria que tome valores {0,1}  enteros\n",
        "# set trabaja con la clase  POS = { BAJA+1, BAJA+2 }\n",
        "# esta estrategia es MUY importante\n",
        "dataset[, clase01 := ifelse(clase_ternaria %in% c(\"BAJA+2\", \"BAJA+1\"), 1L, 0L)]"
      ]
    },
    {
      "cell_type": "code",
      "execution_count": null,
      "metadata": {
        "id": "0PTyJbp-nCme",
        "vscode": {
          "languageId": "r"
        }
      },
      "outputs": [],
      "source": [
        "# los campos que se van a utilizar\n",
        "campos_buenos <- setdiff(colnames(dataset), c(\"clase_ternaria\", \"clase01\"))"
      ]
    },
    {
      "cell_type": "code",
      "execution_count": null,
      "metadata": {
        "id": "lT9ZBRkFnCme",
        "vscode": {
          "languageId": "r"
        }
      },
      "outputs": [],
      "source": [
        "# establezco donde entreno\n",
        "dataset[, train := 0L]\n",
        "dataset[foto_mes %in% PARAM$input$training, train := 1L]\n"
      ]
    },
    {
      "cell_type": "code",
      "execution_count": null,
      "metadata": {
        "id": "zRyTl6z3nCme",
        "vscode": {
          "languageId": "r"
        }
      },
      "outputs": [],
      "source": [
        "# creo las carpetas donde van los resultados\n",
        "# creo la carpeta donde va el experimento\n",
        "dir.create(\"./exp/\", showWarnings = FALSE)\n",
        "dir.create(paste0(\"./exp/\", PARAM$experimento, \"/\"), showWarnings = FALSE)\n",
        "\n",
        "# Establezco el Working Directory DEL EXPERIMENTO\n",
        "setwd(paste0(\"./exp/\", PARAM$experimento, \"/\"))"
      ]
    },
    {
      "cell_type": "code",
      "execution_count": null,
      "metadata": {
        "id": "HaNy1-yYnCmf",
        "vscode": {
          "languageId": "r"
        }
      },
      "outputs": [],
      "source": [
        "# dejo los datos en el formato que necesita LightGBM\n",
        "dtrain <- lgb.Dataset(\n",
        "  data = data.matrix(dataset[train == 1L, campos_buenos, with = FALSE]),\n",
        "  label = dataset[train == 1L, clase01]\n",
        ")"
      ]
    },
    {
      "cell_type": "code",
      "execution_count": null,
      "metadata": {
        "id": "sFPo1U2inCmf",
        "vscode": {
          "languageId": "r"
        }
      },
      "outputs": [],
      "source": [
        "# genero el modelo\n",
        "param_completo <- c(PARAM$finalmodel$lgb_basicos,\n",
        "  PARAM$finalmodel$optim)\n",
        "\n",
        "modelo <- lgb.train(\n",
        "  data = dtrain,\n",
        "  param = param_completo,\n",
        ")"
      ]
    },
    {
      "cell_type": "code",
      "execution_count": null,
      "metadata": {
        "id": "TES2p1nInCmf",
        "vscode": {
          "languageId": "r"
        }
      },
      "outputs": [],
      "source": [
        "# ahora imprimo la importancia de variables\n",
        "tb_importancia <- as.data.table(lgb.importance(modelo))\n",
        "archivo_importancia <- \"impo.txt\"\n",
        "\n",
        "fwrite(tb_importancia,\n",
        "  file = archivo_importancia,\n",
        "  sep = \"\\t\"\n",
        ")\n"
      ]
    },
    {
      "cell_type": "code",
      "execution_count": null,
      "metadata": {
        "id": "y85IMQN1nCmf",
        "vscode": {
          "languageId": "r"
        }
      },
      "outputs": [],
      "source": [
        "# aplico el modelo a los datos sin clase\n",
        "dapply <- dataset[foto_mes == PARAM$input$future]\n",
        "\n",
        "# aplico el modelo a los datos nuevos\n",
        "prediccion <- predict(\n",
        "  modelo,\n",
        "  data.matrix(dapply[, campos_buenos, with = FALSE])\n",
        ")\n",
        "\n",
        "# genero la tabla de entrega\n",
        "tb_entrega <- dapply[, list(numero_de_cliente, foto_mes)]\n",
        "tb_entrega[, prob := prediccion]\n",
        "\n",
        "# grabo las probabilidad del modelo\n",
        "fwrite(tb_entrega,\n",
        "  file = \"prediccion.txt\",\n",
        "  sep = \"\\t\"\n",
        ")\n",
        "\n",
        "# ordeno por probabilidad descendente\n",
        "setorder(tb_entrega, -prob)\n"
      ]
    },
    {
      "cell_type": "code",
      "execution_count": null,
      "metadata": {
        "id": "fTVnRyzrnCmf",
        "vscode": {
          "languageId": "r"
        }
      },
      "outputs": [],
      "source": [
        "# genero archivos con los  \"envios\" mejores\n",
        "# deben subirse \"inteligentemente\" a Kaggle para no malgastar submits\n",
        "# si la palabra inteligentemente no le significa nada aun\n",
        "# suba TODOS los archivos a Kaggle\n",
        "# espera a la siguiente clase sincronica en donde el tema sera explicado\n",
        "\n",
        "cortes <- seq(8000, 13000, by = 500)\n",
        "for (envios in cortes) {\n",
        "  tb_entrega[, Predicted := 0L]\n",
        "  tb_entrega[1:envios, Predicted := 1L]\n",
        "\n",
        "  fwrite(tb_entrega[, list(numero_de_cliente, Predicted)],\n",
        "    file = paste0(PARAM$experimento, \"_\", envios, \".csv\"),\n",
        "    sep = \",\"\n",
        "  )\n",
        "}\n",
        "\n",
        "cat(\"\\n\\nLa generacion de los archivos para Kaggle ha terminado\\n\")"
      ]
    },
    {
      "cell_type": "markdown",
      "metadata": {
        "id": "2R4i8V_cojtE"
      },
      "source": [
        "# (Ajustado Semilla 2)"
      ]
    },
    {
      "cell_type": "markdown",
      "metadata": {
        "id": "Z58EH6nEojtE"
      },
      "source": [
        "- Para correr el Google Cloud\n",
        "-   8 vCPU\n",
        "-  64 GB memoria RAM"
      ]
    },
    {
      "cell_type": "code",
      "execution_count": null,
      "metadata": {
        "id": "N-88YtQ1ojtF",
        "vscode": {
          "languageId": "r"
        }
      },
      "outputs": [],
      "source": [
        "# limpio la memoria\n",
        "rm(list = ls()) # remove all objects\n",
        "gc() # garbage collection"
      ]
    },
    {
      "cell_type": "code",
      "execution_count": null,
      "metadata": {
        "id": "eEiKm0PsojtF",
        "vscode": {
          "languageId": "r"
        }
      },
      "outputs": [],
      "source": [
        "require(\"data.table\")\n",
        "require(\"lightgbm\")"
      ]
    },
    {
      "cell_type": "code",
      "execution_count": null,
      "metadata": {
        "id": "V_9A0le4ojtF",
        "vscode": {
          "languageId": "r"
        }
      },
      "outputs": [],
      "source": [
        "# defino los parametros de la corrida, en una lista, la variable global  PARAM\n",
        "#  muy pronto esto se leera desde un archivo formato .yaml\n",
        "PARAM <- list()\n",
        "PARAM$experimento <- \"KA8240 (Clase 12, Ajustado Sem2)\"\n",
        "\n",
        "PARAM$input$dataset <- \"datasets/competencia_03_infla_ajustado_lags.csv.gz\"\n",
        "\n",
        "# meses donde se entrena el modelo\n",
        "PARAM$input$training <- c( 202107, 202106, 202105, 202104, 202103, 202102)\n",
        "PARAM$input$future <- c(202109) # meses donde se aplica el modelo\n",
        "\n",
        "PARAM$finalmodel$semilla <- 279523\n",
        "\n",
        "# hiperparametros intencionalmente optimos\n",
        "PARAM$finalmodel$optim$num_iterations <- 231\n",
        "PARAM$finalmodel$optim$learning_rate <- 0.0716026909889653\n",
        "PARAM$finalmodel$optim$feature_fraction <- 0.938601369674891\n",
        "PARAM$finalmodel$optim$min_data_in_leaf <- 10341\n",
        "PARAM$finalmodel$optim$num_leaves <- 506"
      ]
    },
    {
      "cell_type": "code",
      "execution_count": null,
      "metadata": {
        "id": "vlPDWNRLojtG",
        "vscode": {
          "languageId": "r"
        }
      },
      "outputs": [],
      "source": [
        "# Hiperparametros FIJOS de  lightgbm\n",
        "PARAM$finalmodel$lgb_basicos <- list(\n",
        "  boosting = \"gbdt\", # puede ir  dart  , ni pruebe random_forest\n",
        "  objective = \"binary\",\n",
        "  metric = \"custom\",\n",
        "  first_metric_only = TRUE,\n",
        "  boost_from_average = TRUE,\n",
        "  feature_pre_filter = FALSE,\n",
        "  force_row_wise = TRUE, # para reducir warnings\n",
        "  verbosity = -100,\n",
        "  max_depth = -1L, # -1 significa no limitar,  por ahora lo dejo fijo\n",
        "  min_gain_to_split = 0.0, # min_gain_to_split >= 0.0\n",
        "  min_sum_hessian_in_leaf = 0.001, #  min_sum_hessian_in_leaf >= 0.0\n",
        "  lambda_l1 = 0.0, # lambda_l1 >= 0.0\n",
        "  lambda_l2 = 0.0, # lambda_l2 >= 0.0\n",
        "  max_bin = 31L, # lo debo dejar fijo, no participa de la BO\n",
        "\n",
        "  bagging_fraction = 1.0, # 0.0 < bagging_fraction <= 1.0\n",
        "  pos_bagging_fraction = 1.0, # 0.0 < pos_bagging_fraction <= 1.0\n",
        "  neg_bagging_fraction = 1.0, # 0.0 < neg_bagging_fraction <= 1.0\n",
        "  is_unbalance = FALSE, #\n",
        "  scale_pos_weight = 1.0, # scale_pos_weight > 0.0\n",
        "\n",
        "  drop_rate = 0.1, # 0.0 < neg_bagging_fraction <= 1.0\n",
        "  max_drop = 50, # <=0 means no limit\n",
        "  skip_drop = 0.5, # 0.0 <= skip_drop <= 1.0\n",
        "\n",
        "  extra_trees = TRUE, # Magic Sauce\n",
        "\n",
        "  seed = PARAM$finalmodel$semilla\n",
        ")"
      ]
    },
    {
      "cell_type": "markdown",
      "metadata": {
        "id": "PjvdTk-1ojtG"
      },
      "source": [
        "## Aqui empieza el programa"
      ]
    },
    {
      "cell_type": "code",
      "execution_count": null,
      "metadata": {
        "id": "6IauvL3zojtG",
        "vscode": {
          "languageId": "r"
        }
      },
      "outputs": [],
      "source": [
        "# Aqui empieza el programa\n",
        "setwd(\"~/buckets/b1\")\n",
        "\n",
        "# cargo el dataset donde voy a entrenar\n",
        "dataset <- fread(PARAM$input$dataset, stringsAsFactors = TRUE)"
      ]
    },
    {
      "cell_type": "code",
      "execution_count": null,
      "metadata": {
        "id": "Q0-c-dQ7ojtG",
        "vscode": {
          "languageId": "r"
        }
      },
      "outputs": [],
      "source": [
        "# Catastrophe Analysis  -------------------------------------------------------\n",
        "# deben ir cosas de este estilo\n",
        "#   dataset[foto_mes == 202006, active_quarter := NA]\n",
        "\n",
        "# Data Drifting\n",
        "# por ahora, no hago nada\n",
        "\n",
        "\n",
        "# Feature Engineering Historico  ----------------------------------------------\n",
        "#   aqui deben calcularse los  lags y  lag_delta\n",
        "#   Sin lags no hay paraiso ! corta la bocha\n",
        "#   https://rdrr.io/cran/data.table/man/shift.html\n",
        "\n"
      ]
    },
    {
      "cell_type": "code",
      "execution_count": null,
      "metadata": {
        "id": "yEPl99dCojtG",
        "vscode": {
          "languageId": "r"
        }
      },
      "outputs": [],
      "source": [
        "# paso la clase a binaria que tome valores {0,1}  enteros\n",
        "# set trabaja con la clase  POS = { BAJA+1, BAJA+2 }\n",
        "# esta estrategia es MUY importante\n",
        "dataset[, clase01 := ifelse(clase_ternaria %in% c(\"BAJA+2\", \"BAJA+1\"), 1L, 0L)]"
      ]
    },
    {
      "cell_type": "code",
      "execution_count": null,
      "metadata": {
        "id": "m01JhHQqojtH",
        "vscode": {
          "languageId": "r"
        }
      },
      "outputs": [],
      "source": [
        "# los campos que se van a utilizar\n",
        "campos_buenos <- setdiff(colnames(dataset), c(\"clase_ternaria\", \"clase01\"))"
      ]
    },
    {
      "cell_type": "code",
      "execution_count": null,
      "metadata": {
        "id": "pFeu5dIOojtH",
        "vscode": {
          "languageId": "r"
        }
      },
      "outputs": [],
      "source": [
        "# establezco donde entreno\n",
        "dataset[, train := 0L]\n",
        "dataset[foto_mes %in% PARAM$input$training, train := 1L]\n"
      ]
    },
    {
      "cell_type": "code",
      "execution_count": null,
      "metadata": {
        "id": "tRXXoynvojtH",
        "vscode": {
          "languageId": "r"
        }
      },
      "outputs": [],
      "source": [
        "# creo las carpetas donde van los resultados\n",
        "# creo la carpeta donde va el experimento\n",
        "dir.create(\"./exp/\", showWarnings = FALSE)\n",
        "dir.create(paste0(\"./exp/\", PARAM$experimento, \"/\"), showWarnings = FALSE)\n",
        "\n",
        "# Establezco el Working Directory DEL EXPERIMENTO\n",
        "setwd(paste0(\"./exp/\", PARAM$experimento, \"/\"))"
      ]
    },
    {
      "cell_type": "code",
      "execution_count": null,
      "metadata": {
        "id": "aE0q5JlSojtH",
        "vscode": {
          "languageId": "r"
        }
      },
      "outputs": [],
      "source": [
        "# dejo los datos en el formato que necesita LightGBM\n",
        "dtrain <- lgb.Dataset(\n",
        "  data = data.matrix(dataset[train == 1L, campos_buenos, with = FALSE]),\n",
        "  label = dataset[train == 1L, clase01]\n",
        ")"
      ]
    },
    {
      "cell_type": "code",
      "execution_count": null,
      "metadata": {
        "id": "iaKjhrY4ojtH",
        "vscode": {
          "languageId": "r"
        }
      },
      "outputs": [],
      "source": [
        "# genero el modelo\n",
        "param_completo <- c(PARAM$finalmodel$lgb_basicos,\n",
        "  PARAM$finalmodel$optim)\n",
        "\n",
        "modelo <- lgb.train(\n",
        "  data = dtrain,\n",
        "  param = param_completo,\n",
        ")"
      ]
    },
    {
      "cell_type": "code",
      "execution_count": null,
      "metadata": {
        "id": "i-udwT4cojtH",
        "vscode": {
          "languageId": "r"
        }
      },
      "outputs": [],
      "source": [
        "# ahora imprimo la importancia de variables\n",
        "tb_importancia <- as.data.table(lgb.importance(modelo))\n",
        "archivo_importancia <- \"impo.txt\"\n",
        "\n",
        "fwrite(tb_importancia,\n",
        "  file = archivo_importancia,\n",
        "  sep = \"\\t\"\n",
        ")\n"
      ]
    },
    {
      "cell_type": "code",
      "execution_count": null,
      "metadata": {
        "id": "sUdoj3cYojtI",
        "vscode": {
          "languageId": "r"
        }
      },
      "outputs": [],
      "source": [
        "# aplico el modelo a los datos sin clase\n",
        "dapply <- dataset[foto_mes == PARAM$input$future]\n",
        "\n",
        "# aplico el modelo a los datos nuevos\n",
        "prediccion <- predict(\n",
        "  modelo,\n",
        "  data.matrix(dapply[, campos_buenos, with = FALSE])\n",
        ")\n",
        "\n",
        "# genero la tabla de entrega\n",
        "tb_entrega <- dapply[, list(numero_de_cliente, foto_mes)]\n",
        "tb_entrega[, prob := prediccion]\n",
        "\n",
        "# grabo las probabilidad del modelo\n",
        "fwrite(tb_entrega,\n",
        "  file = \"prediccion.txt\",\n",
        "  sep = \"\\t\"\n",
        ")\n",
        "\n",
        "# ordeno por probabilidad descendente\n",
        "setorder(tb_entrega, -prob)\n"
      ]
    },
    {
      "cell_type": "code",
      "execution_count": null,
      "metadata": {
        "id": "ByStts6fojtI",
        "vscode": {
          "languageId": "r"
        }
      },
      "outputs": [],
      "source": [
        "# genero archivos con los  \"envios\" mejores\n",
        "# deben subirse \"inteligentemente\" a Kaggle para no malgastar submits\n",
        "# si la palabra inteligentemente no le significa nada aun\n",
        "# suba TODOS los archivos a Kaggle\n",
        "# espera a la siguiente clase sincronica en donde el tema sera explicado\n",
        "\n",
        "cortes <- seq(8000, 13000, by = 500)\n",
        "for (envios in cortes) {\n",
        "  tb_entrega[, Predicted := 0L]\n",
        "  tb_entrega[1:envios, Predicted := 1L]\n",
        "\n",
        "  fwrite(tb_entrega[, list(numero_de_cliente, Predicted)],\n",
        "    file = paste0(PARAM$experimento, \"_\", envios, \".csv\"),\n",
        "    sep = \",\"\n",
        "  )\n",
        "}\n",
        "\n",
        "cat(\"\\n\\nLa generacion de los archivos para Kaggle ha terminado\\n\")"
      ]
    },
    {
      "cell_type": "markdown",
      "metadata": {
        "id": "__schqF9pSlt"
      },
      "source": [
        "# (Ajustado Semilla 3)"
      ]
    },
    {
      "cell_type": "markdown",
      "metadata": {
        "id": "k0Ox2B_opSl1"
      },
      "source": [
        "- Para correr el Google Cloud\n",
        "-   8 vCPU\n",
        "-  64 GB memoria RAM"
      ]
    },
    {
      "cell_type": "code",
      "execution_count": null,
      "metadata": {
        "id": "321eMhwppSl2",
        "vscode": {
          "languageId": "r"
        }
      },
      "outputs": [],
      "source": [
        "# limpio la memoria\n",
        "rm(list = ls()) # remove all objects\n",
        "gc() # garbage collection"
      ]
    },
    {
      "cell_type": "code",
      "execution_count": null,
      "metadata": {
        "id": "xavbK2M3pSl2",
        "vscode": {
          "languageId": "r"
        }
      },
      "outputs": [],
      "source": [
        "require(\"data.table\")\n",
        "require(\"lightgbm\")"
      ]
    },
    {
      "cell_type": "code",
      "execution_count": null,
      "metadata": {
        "id": "OV5zLRXypSl2",
        "vscode": {
          "languageId": "r"
        }
      },
      "outputs": [],
      "source": [
        "# defino los parametros de la corrida, en una lista, la variable global  PARAM\n",
        "#  muy pronto esto se leera desde un archivo formato .yaml\n",
        "PARAM <- list()\n",
        "PARAM$experimento <- \"KA8240 (Clase 12, Ajustado Sem3)\"\n",
        "\n",
        "PARAM$input$dataset <- \"datasets/competencia_03_infla_ajustado_lags.csv.gz\"\n",
        "\n",
        "# meses donde se entrena el modelo\n",
        "PARAM$input$training <- c( 202107, 202106, 202105, 202104, 202103, 202102)\n",
        "PARAM$input$future <- c(202109) # meses donde se aplica el modelo\n",
        "\n",
        "PARAM$finalmodel$semilla <- 279541\n",
        "\n",
        "# hiperparametros intencionalmente optimos\n",
        "PARAM$finalmodel$optim$num_iterations <- 231\n",
        "PARAM$finalmodel$optim$learning_rate <- 0.0716026909889653\n",
        "PARAM$finalmodel$optim$feature_fraction <- 0.938601369674891\n",
        "PARAM$finalmodel$optim$min_data_in_leaf <- 10341\n",
        "PARAM$finalmodel$optim$num_leaves <- 506"
      ]
    },
    {
      "cell_type": "code",
      "execution_count": null,
      "metadata": {
        "id": "VvIwNy9NpSl2",
        "vscode": {
          "languageId": "r"
        }
      },
      "outputs": [],
      "source": [
        "# Hiperparametros FIJOS de  lightgbm\n",
        "PARAM$finalmodel$lgb_basicos <- list(\n",
        "  boosting = \"gbdt\", # puede ir  dart  , ni pruebe random_forest\n",
        "  objective = \"binary\",\n",
        "  metric = \"custom\",\n",
        "  first_metric_only = TRUE,\n",
        "  boost_from_average = TRUE,\n",
        "  feature_pre_filter = FALSE,\n",
        "  force_row_wise = TRUE, # para reducir warnings\n",
        "  verbosity = -100,\n",
        "  max_depth = -1L, # -1 significa no limitar,  por ahora lo dejo fijo\n",
        "  min_gain_to_split = 0.0, # min_gain_to_split >= 0.0\n",
        "  min_sum_hessian_in_leaf = 0.001, #  min_sum_hessian_in_leaf >= 0.0\n",
        "  lambda_l1 = 0.0, # lambda_l1 >= 0.0\n",
        "  lambda_l2 = 0.0, # lambda_l2 >= 0.0\n",
        "  max_bin = 31L, # lo debo dejar fijo, no participa de la BO\n",
        "\n",
        "  bagging_fraction = 1.0, # 0.0 < bagging_fraction <= 1.0\n",
        "  pos_bagging_fraction = 1.0, # 0.0 < pos_bagging_fraction <= 1.0\n",
        "  neg_bagging_fraction = 1.0, # 0.0 < neg_bagging_fraction <= 1.0\n",
        "  is_unbalance = FALSE, #\n",
        "  scale_pos_weight = 1.0, # scale_pos_weight > 0.0\n",
        "\n",
        "  drop_rate = 0.1, # 0.0 < neg_bagging_fraction <= 1.0\n",
        "  max_drop = 50, # <=0 means no limit\n",
        "  skip_drop = 0.5, # 0.0 <= skip_drop <= 1.0\n",
        "\n",
        "  extra_trees = TRUE, # Magic Sauce\n",
        "\n",
        "  seed = PARAM$finalmodel$semilla\n",
        ")"
      ]
    },
    {
      "cell_type": "markdown",
      "metadata": {
        "id": "stQejEFCpSl2"
      },
      "source": [
        "## Aqui empieza el programa"
      ]
    },
    {
      "cell_type": "code",
      "execution_count": null,
      "metadata": {
        "id": "y9DjKnhzpSl3",
        "vscode": {
          "languageId": "r"
        }
      },
      "outputs": [],
      "source": [
        "# Aqui empieza el programa\n",
        "setwd(\"~/buckets/b1\")\n",
        "\n",
        "# cargo el dataset donde voy a entrenar\n",
        "dataset <- fread(PARAM$input$dataset, stringsAsFactors = TRUE)"
      ]
    },
    {
      "cell_type": "code",
      "execution_count": null,
      "metadata": {
        "id": "akmMOxbTpSl3",
        "vscode": {
          "languageId": "r"
        }
      },
      "outputs": [],
      "source": [
        "# Catastrophe Analysis  -------------------------------------------------------\n",
        "# deben ir cosas de este estilo\n",
        "#   dataset[foto_mes == 202006, active_quarter := NA]\n",
        "\n",
        "# Data Drifting\n",
        "# por ahora, no hago nada\n",
        "\n",
        "\n",
        "# Feature Engineering Historico  ----------------------------------------------\n",
        "#   aqui deben calcularse los  lags y  lag_delta\n",
        "#   Sin lags no hay paraiso ! corta la bocha\n",
        "#   https://rdrr.io/cran/data.table/man/shift.html\n",
        "\n"
      ]
    },
    {
      "cell_type": "code",
      "execution_count": null,
      "metadata": {
        "id": "vZ8YWvyZpSl3",
        "vscode": {
          "languageId": "r"
        }
      },
      "outputs": [],
      "source": [
        "# paso la clase a binaria que tome valores {0,1}  enteros\n",
        "# set trabaja con la clase  POS = { BAJA+1, BAJA+2 }\n",
        "# esta estrategia es MUY importante\n",
        "dataset[, clase01 := ifelse(clase_ternaria %in% c(\"BAJA+2\", \"BAJA+1\"), 1L, 0L)]"
      ]
    },
    {
      "cell_type": "code",
      "execution_count": null,
      "metadata": {
        "id": "3NEPvWyjpSl3",
        "vscode": {
          "languageId": "r"
        }
      },
      "outputs": [],
      "source": [
        "# los campos que se van a utilizar\n",
        "campos_buenos <- setdiff(colnames(dataset), c(\"clase_ternaria\", \"clase01\"))"
      ]
    },
    {
      "cell_type": "code",
      "execution_count": null,
      "metadata": {
        "id": "wGVuaz-rpSl3",
        "vscode": {
          "languageId": "r"
        }
      },
      "outputs": [],
      "source": [
        "# establezco donde entreno\n",
        "dataset[, train := 0L]\n",
        "dataset[foto_mes %in% PARAM$input$training, train := 1L]\n"
      ]
    },
    {
      "cell_type": "code",
      "execution_count": null,
      "metadata": {
        "id": "h2_zkSLNpSl3",
        "vscode": {
          "languageId": "r"
        }
      },
      "outputs": [],
      "source": [
        "# creo las carpetas donde van los resultados\n",
        "# creo la carpeta donde va el experimento\n",
        "dir.create(\"./exp/\", showWarnings = FALSE)\n",
        "dir.create(paste0(\"./exp/\", PARAM$experimento, \"/\"), showWarnings = FALSE)\n",
        "\n",
        "# Establezco el Working Directory DEL EXPERIMENTO\n",
        "setwd(paste0(\"./exp/\", PARAM$experimento, \"/\"))"
      ]
    },
    {
      "cell_type": "code",
      "execution_count": null,
      "metadata": {
        "id": "yGbLA23ZpSl4",
        "vscode": {
          "languageId": "r"
        }
      },
      "outputs": [],
      "source": [
        "# dejo los datos en el formato que necesita LightGBM\n",
        "dtrain <- lgb.Dataset(\n",
        "  data = data.matrix(dataset[train == 1L, campos_buenos, with = FALSE]),\n",
        "  label = dataset[train == 1L, clase01]\n",
        ")"
      ]
    },
    {
      "cell_type": "code",
      "execution_count": null,
      "metadata": {
        "id": "5-e2drkxpSl4",
        "vscode": {
          "languageId": "r"
        }
      },
      "outputs": [],
      "source": [
        "# genero el modelo\n",
        "param_completo <- c(PARAM$finalmodel$lgb_basicos,\n",
        "  PARAM$finalmodel$optim)\n",
        "\n",
        "modelo <- lgb.train(\n",
        "  data = dtrain,\n",
        "  param = param_completo,\n",
        ")"
      ]
    },
    {
      "cell_type": "code",
      "execution_count": null,
      "metadata": {
        "id": "QYSyX7hopSl4",
        "vscode": {
          "languageId": "r"
        }
      },
      "outputs": [],
      "source": [
        "# ahora imprimo la importancia de variables\n",
        "tb_importancia <- as.data.table(lgb.importance(modelo))\n",
        "archivo_importancia <- \"impo.txt\"\n",
        "\n",
        "fwrite(tb_importancia,\n",
        "  file = archivo_importancia,\n",
        "  sep = \"\\t\"\n",
        ")\n"
      ]
    },
    {
      "cell_type": "code",
      "execution_count": null,
      "metadata": {
        "id": "9UYg65jKpSl4",
        "vscode": {
          "languageId": "r"
        }
      },
      "outputs": [],
      "source": [
        "# aplico el modelo a los datos sin clase\n",
        "dapply <- dataset[foto_mes == PARAM$input$future]\n",
        "\n",
        "# aplico el modelo a los datos nuevos\n",
        "prediccion <- predict(\n",
        "  modelo,\n",
        "  data.matrix(dapply[, campos_buenos, with = FALSE])\n",
        ")\n",
        "\n",
        "# genero la tabla de entrega\n",
        "tb_entrega <- dapply[, list(numero_de_cliente, foto_mes)]\n",
        "tb_entrega[, prob := prediccion]\n",
        "\n",
        "# grabo las probabilidad del modelo\n",
        "fwrite(tb_entrega,\n",
        "  file = \"prediccion.txt\",\n",
        "  sep = \"\\t\"\n",
        ")\n",
        "\n",
        "# ordeno por probabilidad descendente\n",
        "setorder(tb_entrega, -prob)\n"
      ]
    },
    {
      "cell_type": "code",
      "execution_count": null,
      "metadata": {
        "id": "JHaZO6E2pSl5",
        "vscode": {
          "languageId": "r"
        }
      },
      "outputs": [],
      "source": [
        "# genero archivos con los  \"envios\" mejores\n",
        "# deben subirse \"inteligentemente\" a Kaggle para no malgastar submits\n",
        "# si la palabra inteligentemente no le significa nada aun\n",
        "# suba TODOS los archivos a Kaggle\n",
        "# espera a la siguiente clase sincronica en donde el tema sera explicado\n",
        "\n",
        "cortes <- seq(8000, 13000, by = 500)\n",
        "for (envios in cortes) {\n",
        "  tb_entrega[, Predicted := 0L]\n",
        "  tb_entrega[1:envios, Predicted := 1L]\n",
        "\n",
        "  fwrite(tb_entrega[, list(numero_de_cliente, Predicted)],\n",
        "    file = paste0(PARAM$experimento, \"_\", envios, \".csv\"),\n",
        "    sep = \",\"\n",
        "  )\n",
        "}\n",
        "\n",
        "cat(\"\\n\\nLa generacion de los archivos para Kaggle ha terminado\\n\")"
      ]
    },
    {
      "cell_type": "markdown",
      "metadata": {
        "id": "lFCn9AXvpWr1"
      },
      "source": [
        "# (Ajustado Semilla 4)"
      ]
    },
    {
      "cell_type": "markdown",
      "metadata": {
        "id": "6ACHAQdapWr9"
      },
      "source": [
        "- Para correr el Google Cloud\n",
        "-   8 vCPU\n",
        "-  64 GB memoria RAM"
      ]
    },
    {
      "cell_type": "code",
      "execution_count": null,
      "metadata": {
        "id": "CLYYOR6ZpWr9",
        "vscode": {
          "languageId": "r"
        }
      },
      "outputs": [],
      "source": [
        "# limpio la memoria\n",
        "rm(list = ls()) # remove all objects\n",
        "gc() # garbage collection"
      ]
    },
    {
      "cell_type": "code",
      "execution_count": null,
      "metadata": {
        "id": "ooNOuXw6pWr9",
        "vscode": {
          "languageId": "r"
        }
      },
      "outputs": [],
      "source": [
        "require(\"data.table\")\n",
        "require(\"lightgbm\")"
      ]
    },
    {
      "cell_type": "code",
      "execution_count": null,
      "metadata": {
        "id": "B23EgCBapWr9",
        "vscode": {
          "languageId": "r"
        }
      },
      "outputs": [],
      "source": [
        "# defino los parametros de la corrida, en una lista, la variable global  PARAM\n",
        "#  muy pronto esto se leera desde un archivo formato .yaml\n",
        "PARAM <- list()\n",
        "PARAM$experimento <- \"KA8240 (Clase 12, Ajustado Sem4)\"\n",
        "\n",
        "PARAM$input$dataset <- \"datasets/competencia_03_infla_ajustado_lags.csv.gz\"\n",
        "\n",
        "# meses donde se entrena el modelo\n",
        "PARAM$input$training <- c( 202107, 202106, 202105, 202104, 202103, 202102)\n",
        "PARAM$input$future <- c(202109) # meses donde se aplica el modelo\n",
        "\n",
        "PARAM$finalmodel$semilla <- 279551\n",
        "\n",
        "# hiperparametros intencionalmente optimos\n",
        "PARAM$finalmodel$optim$num_iterations <- 231\n",
        "PARAM$finalmodel$optim$learning_rate <- 0.0716026909889653\n",
        "PARAM$finalmodel$optim$feature_fraction <- 0.938601369674891\n",
        "PARAM$finalmodel$optim$min_data_in_leaf <- 10341\n",
        "PARAM$finalmodel$optim$num_leaves <- 506"
      ]
    },
    {
      "cell_type": "code",
      "execution_count": null,
      "metadata": {
        "id": "kNTShtLLpWr-",
        "vscode": {
          "languageId": "r"
        }
      },
      "outputs": [],
      "source": [
        "# Hiperparametros FIJOS de  lightgbm\n",
        "PARAM$finalmodel$lgb_basicos <- list(\n",
        "  boosting = \"gbdt\", # puede ir  dart  , ni pruebe random_forest\n",
        "  objective = \"binary\",\n",
        "  metric = \"custom\",\n",
        "  first_metric_only = TRUE,\n",
        "  boost_from_average = TRUE,\n",
        "  feature_pre_filter = FALSE,\n",
        "  force_row_wise = TRUE, # para reducir warnings\n",
        "  verbosity = -100,\n",
        "  max_depth = -1L, # -1 significa no limitar,  por ahora lo dejo fijo\n",
        "  min_gain_to_split = 0.0, # min_gain_to_split >= 0.0\n",
        "  min_sum_hessian_in_leaf = 0.001, #  min_sum_hessian_in_leaf >= 0.0\n",
        "  lambda_l1 = 0.0, # lambda_l1 >= 0.0\n",
        "  lambda_l2 = 0.0, # lambda_l2 >= 0.0\n",
        "  max_bin = 31L, # lo debo dejar fijo, no participa de la BO\n",
        "\n",
        "  bagging_fraction = 1.0, # 0.0 < bagging_fraction <= 1.0\n",
        "  pos_bagging_fraction = 1.0, # 0.0 < pos_bagging_fraction <= 1.0\n",
        "  neg_bagging_fraction = 1.0, # 0.0 < neg_bagging_fraction <= 1.0\n",
        "  is_unbalance = FALSE, #\n",
        "  scale_pos_weight = 1.0, # scale_pos_weight > 0.0\n",
        "\n",
        "  drop_rate = 0.1, # 0.0 < neg_bagging_fraction <= 1.0\n",
        "  max_drop = 50, # <=0 means no limit\n",
        "  skip_drop = 0.5, # 0.0 <= skip_drop <= 1.0\n",
        "\n",
        "  extra_trees = TRUE, # Magic Sauce\n",
        "\n",
        "  seed = PARAM$finalmodel$semilla\n",
        ")"
      ]
    },
    {
      "cell_type": "markdown",
      "metadata": {
        "id": "GsTpth9wpWr-"
      },
      "source": [
        "## Aqui empieza el programa"
      ]
    },
    {
      "cell_type": "code",
      "execution_count": null,
      "metadata": {
        "id": "4NJCmk7vpWr-",
        "vscode": {
          "languageId": "r"
        }
      },
      "outputs": [],
      "source": [
        "# Aqui empieza el programa\n",
        "setwd(\"~/buckets/b1\")\n",
        "\n",
        "# cargo el dataset donde voy a entrenar\n",
        "dataset <- fread(PARAM$input$dataset, stringsAsFactors = TRUE)"
      ]
    },
    {
      "cell_type": "code",
      "execution_count": null,
      "metadata": {
        "id": "_uZICEjipWr-",
        "vscode": {
          "languageId": "r"
        }
      },
      "outputs": [],
      "source": [
        "# Catastrophe Analysis  -------------------------------------------------------\n",
        "# deben ir cosas de este estilo\n",
        "#   dataset[foto_mes == 202006, active_quarter := NA]\n",
        "\n",
        "# Data Drifting\n",
        "# por ahora, no hago nada\n",
        "\n",
        "\n",
        "# Feature Engineering Historico  ----------------------------------------------\n",
        "#   aqui deben calcularse los  lags y  lag_delta\n",
        "#   Sin lags no hay paraiso ! corta la bocha\n",
        "#   https://rdrr.io/cran/data.table/man/shift.html\n",
        "\n"
      ]
    },
    {
      "cell_type": "code",
      "execution_count": null,
      "metadata": {
        "id": "WTgs7tK2pWr-",
        "vscode": {
          "languageId": "r"
        }
      },
      "outputs": [],
      "source": [
        "# paso la clase a binaria que tome valores {0,1}  enteros\n",
        "# set trabaja con la clase  POS = { BAJA+1, BAJA+2 }\n",
        "# esta estrategia es MUY importante\n",
        "dataset[, clase01 := ifelse(clase_ternaria %in% c(\"BAJA+2\", \"BAJA+1\"), 1L, 0L)]"
      ]
    },
    {
      "cell_type": "code",
      "execution_count": null,
      "metadata": {
        "id": "rWiixzkQpWr-",
        "vscode": {
          "languageId": "r"
        }
      },
      "outputs": [],
      "source": [
        "# los campos que se van a utilizar\n",
        "campos_buenos <- setdiff(colnames(dataset), c(\"clase_ternaria\", \"clase01\"))"
      ]
    },
    {
      "cell_type": "code",
      "execution_count": null,
      "metadata": {
        "id": "d1LM3uyDpWr_",
        "vscode": {
          "languageId": "r"
        }
      },
      "outputs": [],
      "source": [
        "# establezco donde entreno\n",
        "dataset[, train := 0L]\n",
        "dataset[foto_mes %in% PARAM$input$training, train := 1L]\n"
      ]
    },
    {
      "cell_type": "code",
      "execution_count": null,
      "metadata": {
        "id": "_K7OOpx0pWr_",
        "vscode": {
          "languageId": "r"
        }
      },
      "outputs": [],
      "source": [
        "# creo las carpetas donde van los resultados\n",
        "# creo la carpeta donde va el experimento\n",
        "dir.create(\"./exp/\", showWarnings = FALSE)\n",
        "dir.create(paste0(\"./exp/\", PARAM$experimento, \"/\"), showWarnings = FALSE)\n",
        "\n",
        "# Establezco el Working Directory DEL EXPERIMENTO\n",
        "setwd(paste0(\"./exp/\", PARAM$experimento, \"/\"))"
      ]
    },
    {
      "cell_type": "code",
      "execution_count": null,
      "metadata": {
        "id": "-S9GWug8pWr_",
        "vscode": {
          "languageId": "r"
        }
      },
      "outputs": [],
      "source": [
        "# dejo los datos en el formato que necesita LightGBM\n",
        "dtrain <- lgb.Dataset(\n",
        "  data = data.matrix(dataset[train == 1L, campos_buenos, with = FALSE]),\n",
        "  label = dataset[train == 1L, clase01]\n",
        ")"
      ]
    },
    {
      "cell_type": "code",
      "execution_count": null,
      "metadata": {
        "id": "bufyfuCipWr_",
        "vscode": {
          "languageId": "r"
        }
      },
      "outputs": [],
      "source": [
        "# genero el modelo\n",
        "param_completo <- c(PARAM$finalmodel$lgb_basicos,\n",
        "  PARAM$finalmodel$optim)\n",
        "\n",
        "modelo <- lgb.train(\n",
        "  data = dtrain,\n",
        "  param = param_completo,\n",
        ")"
      ]
    },
    {
      "cell_type": "code",
      "execution_count": null,
      "metadata": {
        "id": "ZRQdmnhbpWsA",
        "vscode": {
          "languageId": "r"
        }
      },
      "outputs": [],
      "source": [
        "# ahora imprimo la importancia de variables\n",
        "tb_importancia <- as.data.table(lgb.importance(modelo))\n",
        "archivo_importancia <- \"impo.txt\"\n",
        "\n",
        "fwrite(tb_importancia,\n",
        "  file = archivo_importancia,\n",
        "  sep = \"\\t\"\n",
        ")\n"
      ]
    },
    {
      "cell_type": "code",
      "execution_count": null,
      "metadata": {
        "id": "mqA1qGfvpWsA",
        "vscode": {
          "languageId": "r"
        }
      },
      "outputs": [],
      "source": [
        "# aplico el modelo a los datos sin clase\n",
        "dapply <- dataset[foto_mes == PARAM$input$future]\n",
        "\n",
        "# aplico el modelo a los datos nuevos\n",
        "prediccion <- predict(\n",
        "  modelo,\n",
        "  data.matrix(dapply[, campos_buenos, with = FALSE])\n",
        ")\n",
        "\n",
        "# genero la tabla de entrega\n",
        "tb_entrega <- dapply[, list(numero_de_cliente, foto_mes)]\n",
        "tb_entrega[, prob := prediccion]\n",
        "\n",
        "# grabo las probabilidad del modelo\n",
        "fwrite(tb_entrega,\n",
        "  file = \"prediccion.txt\",\n",
        "  sep = \"\\t\"\n",
        ")\n",
        "\n",
        "# ordeno por probabilidad descendente\n",
        "setorder(tb_entrega, -prob)\n"
      ]
    },
    {
      "cell_type": "code",
      "execution_count": null,
      "metadata": {
        "id": "sg4UKwh8pWsA",
        "vscode": {
          "languageId": "r"
        }
      },
      "outputs": [],
      "source": [
        "# genero archivos con los  \"envios\" mejores\n",
        "# deben subirse \"inteligentemente\" a Kaggle para no malgastar submits\n",
        "# si la palabra inteligentemente no le significa nada aun\n",
        "# suba TODOS los archivos a Kaggle\n",
        "# espera a la siguiente clase sincronica en donde el tema sera explicado\n",
        "\n",
        "cortes <- seq(8000, 13000, by = 500)\n",
        "for (envios in cortes) {\n",
        "  tb_entrega[, Predicted := 0L]\n",
        "  tb_entrega[1:envios, Predicted := 1L]\n",
        "\n",
        "  fwrite(tb_entrega[, list(numero_de_cliente, Predicted)],\n",
        "    file = paste0(PARAM$experimento, \"_\", envios, \".csv\"),\n",
        "    sep = \",\"\n",
        "  )\n",
        "}\n",
        "\n",
        "cat(\"\\n\\nLa generacion de los archivos para Kaggle ha terminado\\n\")"
      ]
    },
    {
      "cell_type": "markdown",
      "metadata": {
        "id": "qXn9LCEIphJF"
      },
      "source": [
        "# (Ajustado Semilla 5)"
      ]
    },
    {
      "cell_type": "markdown",
      "metadata": {
        "id": "FTAt0nXtphJN"
      },
      "source": [
        "- Para correr el Google Cloud\n",
        "-   8 vCPU\n",
        "-  64 GB memoria RAM"
      ]
    },
    {
      "cell_type": "code",
      "execution_count": null,
      "metadata": {
        "id": "bQ-xm_BnphJO",
        "vscode": {
          "languageId": "r"
        }
      },
      "outputs": [],
      "source": [
        "# limpio la memoria\n",
        "rm(list = ls()) # remove all objects\n",
        "gc() # garbage collection"
      ]
    },
    {
      "cell_type": "code",
      "execution_count": null,
      "metadata": {
        "id": "ikRZ2EdophJO",
        "vscode": {
          "languageId": "r"
        }
      },
      "outputs": [],
      "source": [
        "require(\"data.table\")\n",
        "require(\"lightgbm\")"
      ]
    },
    {
      "cell_type": "code",
      "execution_count": null,
      "metadata": {
        "id": "SzCPRJ3nphJO",
        "vscode": {
          "languageId": "r"
        }
      },
      "outputs": [],
      "source": [
        "# defino los parametros de la corrida, en una lista, la variable global  PARAM\n",
        "#  muy pronto esto se leera desde un archivo formato .yaml\n",
        "PARAM <- list()\n",
        "PARAM$experimento <- \"KA8240 (Clase 12, Ajustado Sem5)\"\n",
        "\n",
        "PARAM$input$dataset <- \"datasets/competencia_03_infla_ajustado_lags.csv.gz\"\n",
        "\n",
        "# meses donde se entrena el modelo\n",
        "PARAM$input$training <- c(202107, 202106, 202105, 202104, 202103, 202102)\n",
        "PARAM$input$future <- c(202109) # meses donde se aplica el modelo\n",
        "\n",
        "PARAM$finalmodel$semilla <- 279571\n",
        "\n",
        "# hiperparametros intencionalmente optimos\n",
        "PARAM$finalmodel$optim$num_iterations <- 276\n",
        "PARAM$finalmodel$optim$learning_rate <- 0.0934402630495338\n",
        "PARAM$finalmodel$optim$feature_fraction <- 0.958528814128313\n",
        "PARAM$finalmodel$optim$min_data_in_leaf <- 8642\n",
        "PARAM$finalmodel$optim$num_leaves <- 586"
      ]
    },
    {
      "cell_type": "code",
      "execution_count": null,
      "metadata": {
        "id": "phSWY4qGphJO",
        "vscode": {
          "languageId": "r"
        }
      },
      "outputs": [],
      "source": [
        "# Hiperparametros FIJOS de  lightgbm\n",
        "PARAM$finalmodel$lgb_basicos <- list(\n",
        "  boosting = \"gbdt\", # puede ir  dart  , ni pruebe random_forest\n",
        "  objective = \"binary\",\n",
        "  metric = \"custom\",\n",
        "  first_metric_only = TRUE,\n",
        "  boost_from_average = TRUE,\n",
        "  feature_pre_filter = FALSE,\n",
        "  force_row_wise = TRUE, # para reducir warnings\n",
        "  verbosity = -100,\n",
        "  max_depth = -1L, # -1 significa no limitar,  por ahora lo dejo fijo\n",
        "  min_gain_to_split = 0.0, # min_gain_to_split >= 0.0\n",
        "  min_sum_hessian_in_leaf = 0.001, #  min_sum_hessian_in_leaf >= 0.0\n",
        "  lambda_l1 = 0.0, # lambda_l1 >= 0.0\n",
        "  lambda_l2 = 0.0, # lambda_l2 >= 0.0\n",
        "  max_bin = 31L, # lo debo dejar fijo, no participa de la BO\n",
        "\n",
        "  bagging_fraction = 1.0, # 0.0 < bagging_fraction <= 1.0\n",
        "  pos_bagging_fraction = 1.0, # 0.0 < pos_bagging_fraction <= 1.0\n",
        "  neg_bagging_fraction = 1.0, # 0.0 < neg_bagging_fraction <= 1.0\n",
        "  is_unbalance = FALSE, #\n",
        "  scale_pos_weight = 1.0, # scale_pos_weight > 0.0\n",
        "\n",
        "  drop_rate = 0.1, # 0.0 < neg_bagging_fraction <= 1.0\n",
        "  max_drop = 50, # <=0 means no limit\n",
        "  skip_drop = 0.5, # 0.0 <= skip_drop <= 1.0\n",
        "\n",
        "  extra_trees = TRUE, # Magic Sauce\n",
        "\n",
        "  seed = PARAM$finalmodel$semilla\n",
        ")"
      ]
    },
    {
      "cell_type": "markdown",
      "metadata": {
        "id": "NzZ8V1pZphJP"
      },
      "source": [
        "## Aqui empieza el programa"
      ]
    },
    {
      "cell_type": "code",
      "execution_count": null,
      "metadata": {
        "id": "tX0VIRg-phJP",
        "vscode": {
          "languageId": "r"
        }
      },
      "outputs": [],
      "source": [
        "# Aqui empieza el programa\n",
        "setwd(\"~/buckets/b1\")\n",
        "\n",
        "# cargo el dataset donde voy a entrenar\n",
        "dataset <- fread(PARAM$input$dataset, stringsAsFactors = TRUE)"
      ]
    },
    {
      "cell_type": "code",
      "execution_count": null,
      "metadata": {
        "id": "R3_aaaBKphJP",
        "vscode": {
          "languageId": "r"
        }
      },
      "outputs": [],
      "source": [
        "# Catastrophe Analysis  -------------------------------------------------------\n",
        "# deben ir cosas de este estilo\n",
        "#   dataset[foto_mes == 202006, active_quarter := NA]\n",
        "\n",
        "# Data Drifting\n",
        "# por ahora, no hago nada\n",
        "\n",
        "\n",
        "# Feature Engineering Historico  ----------------------------------------------\n",
        "#   aqui deben calcularse los  lags y  lag_delta\n",
        "#   Sin lags no hay paraiso ! corta la bocha\n",
        "#   https://rdrr.io/cran/data.table/man/shift.html\n",
        "\n"
      ]
    },
    {
      "cell_type": "code",
      "execution_count": null,
      "metadata": {
        "id": "r83RnOyYphJP",
        "vscode": {
          "languageId": "r"
        }
      },
      "outputs": [],
      "source": [
        "# paso la clase a binaria que tome valores {0,1}  enteros\n",
        "# set trabaja con la clase  POS = { BAJA+1, BAJA+2 }\n",
        "# esta estrategia es MUY importante\n",
        "dataset[, clase01 := ifelse(clase_ternaria %in% c(\"BAJA+2\", \"BAJA+1\"), 1L, 0L)]"
      ]
    },
    {
      "cell_type": "code",
      "execution_count": null,
      "metadata": {
        "id": "zy2nT8tDphJP",
        "vscode": {
          "languageId": "r"
        }
      },
      "outputs": [],
      "source": [
        "# los campos que se van a utilizar\n",
        "campos_buenos <- setdiff(colnames(dataset), c(\"clase_ternaria\", \"clase01\"))"
      ]
    },
    {
      "cell_type": "code",
      "execution_count": null,
      "metadata": {
        "id": "_krkSYiophJP",
        "vscode": {
          "languageId": "r"
        }
      },
      "outputs": [],
      "source": [
        "# establezco donde entreno\n",
        "dataset[, train := 0L]\n",
        "dataset[foto_mes %in% PARAM$input$training, train := 1L]\n"
      ]
    },
    {
      "cell_type": "code",
      "execution_count": null,
      "metadata": {
        "id": "ucybzRO-phJQ",
        "vscode": {
          "languageId": "r"
        }
      },
      "outputs": [],
      "source": [
        "# creo las carpetas donde van los resultados\n",
        "# creo la carpeta donde va el experimento\n",
        "dir.create(\"./exp/\", showWarnings = FALSE)\n",
        "dir.create(paste0(\"./exp/\", PARAM$experimento, \"/\"), showWarnings = FALSE)\n",
        "\n",
        "# Establezco el Working Directory DEL EXPERIMENTO\n",
        "setwd(paste0(\"./exp/\", PARAM$experimento, \"/\"))"
      ]
    },
    {
      "cell_type": "code",
      "execution_count": null,
      "metadata": {
        "id": "DeMU3IvIphJQ",
        "vscode": {
          "languageId": "r"
        }
      },
      "outputs": [],
      "source": [
        "# dejo los datos en el formato que necesita LightGBM\n",
        "dtrain <- lgb.Dataset(\n",
        "  data = data.matrix(dataset[train == 1L, campos_buenos, with = FALSE]),\n",
        "  label = dataset[train == 1L, clase01]\n",
        ")"
      ]
    },
    {
      "cell_type": "code",
      "execution_count": null,
      "metadata": {
        "id": "_6-JdDoephJQ",
        "vscode": {
          "languageId": "r"
        }
      },
      "outputs": [],
      "source": [
        "# genero el modelo\n",
        "param_completo <- c(PARAM$finalmodel$lgb_basicos,\n",
        "  PARAM$finalmodel$optim)\n",
        "\n",
        "modelo <- lgb.train(\n",
        "  data = dtrain,\n",
        "  param = param_completo,\n",
        ")"
      ]
    },
    {
      "cell_type": "code",
      "execution_count": null,
      "metadata": {
        "id": "3j4ps-tqphJQ",
        "vscode": {
          "languageId": "r"
        }
      },
      "outputs": [],
      "source": [
        "# ahora imprimo la importancia de variables\n",
        "tb_importancia <- as.data.table(lgb.importance(modelo))\n",
        "archivo_importancia <- \"impo.txt\"\n",
        "\n",
        "fwrite(tb_importancia,\n",
        "  file = archivo_importancia,\n",
        "  sep = \"\\t\"\n",
        ")\n"
      ]
    },
    {
      "cell_type": "code",
      "execution_count": null,
      "metadata": {
        "id": "R39u7c6FphJQ",
        "vscode": {
          "languageId": "r"
        }
      },
      "outputs": [],
      "source": [
        "# aplico el modelo a los datos sin clase\n",
        "dapply <- dataset[foto_mes == PARAM$input$future]\n",
        "\n",
        "# aplico el modelo a los datos nuevos\n",
        "prediccion <- predict(\n",
        "  modelo,\n",
        "  data.matrix(dapply[, campos_buenos, with = FALSE])\n",
        ")\n",
        "\n",
        "# genero la tabla de entrega\n",
        "tb_entrega <- dapply[, list(numero_de_cliente, foto_mes)]\n",
        "tb_entrega[, prob := prediccion]\n",
        "\n",
        "# grabo las probabilidad del modelo\n",
        "fwrite(tb_entrega,\n",
        "  file = \"prediccion.txt\",\n",
        "  sep = \"\\t\"\n",
        ")\n",
        "\n",
        "# ordeno por probabilidad descendente\n",
        "setorder(tb_entrega, -prob)\n"
      ]
    },
    {
      "cell_type": "code",
      "execution_count": null,
      "metadata": {
        "id": "NvR9R8YBphJR",
        "vscode": {
          "languageId": "r"
        }
      },
      "outputs": [],
      "source": [
        "# genero archivos con los  \"envios\" mejores\n",
        "# deben subirse \"inteligentemente\" a Kaggle para no malgastar submits\n",
        "# si la palabra inteligentemente no le significa nada aun\n",
        "# suba TODOS los archivos a Kaggle\n",
        "# espera a la siguiente clase sincronica en donde el tema sera explicado\n",
        "\n",
        "cortes <- seq(8000, 13000, by = 500)\n",
        "for (envios in cortes) {\n",
        "  tb_entrega[, Predicted := 0L]\n",
        "  tb_entrega[1:envios, Predicted := 1L]\n",
        "\n",
        "  fwrite(tb_entrega[, list(numero_de_cliente, Predicted)],\n",
        "    file = paste0(PARAM$experimento, \"_\", envios, \".csv\"),\n",
        "    sep = \",\"\n",
        "  )\n",
        "}\n",
        "\n",
        "cat(\"\\n\\nLa generacion de los archivos para Kaggle ha terminado\\n\")"
      ]
    }
  ],
  "metadata": {
    "colab": {
      "collapsed_sections": [
        "492Uk88uppy3",
        "B5bC_zxuppzC",
        "f7L3a3OUppzG",
        "FKysDlkKppzJ",
        "ANNZ4pONppzM",
        "idSYMojXnFTK",
        "2R4i8V_cojtE",
        "__schqF9pSlt",
        "lFCn9AXvpWr1",
        "qXn9LCEIphJF"
      ],
      "provenance": [],
      "toc_visible": true
    },
    "kernelspec": {
      "display_name": "R",
      "language": "R",
      "name": "ir"
    },
    "language_info": {
      "codemirror_mode": "r",
      "file_extension": ".r",
      "mimetype": "text/x-r-source",
      "name": "R",
      "pygments_lexer": "r",
      "version": "4.3.1"
    }
  },
  "nbformat": 4,
  "nbformat_minor": 0
}
