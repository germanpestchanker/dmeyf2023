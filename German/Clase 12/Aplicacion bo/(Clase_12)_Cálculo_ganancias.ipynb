{
  "nbformat": 4,
  "nbformat_minor": 0,
  "metadata": {
    "colab": {
      "provenance": [],
      "collapsed_sections": [
        "vq6RFquRiHKS",
        "WPhUdDUziMab",
        "nN6NoeupiUMt",
        "WFWXK5NQiYEk",
        "S7ero4adi99M",
        "iCtFLWl8jDR8",
        "RTX7G2u7jHDl"
      ],
      "toc_visible": true
    },
    "kernelspec": {
      "name": "python3",
      "display_name": "Python 3"
    },
    "language_info": {
      "name": "python"
    }
  },
  "cells": [
    {
      "cell_type": "markdown",
      "source": [
        "# (Base Semilla 1)"
      ],
      "metadata": {
        "id": "hOx4whFgh_tW"
      }
    },
    {
      "cell_type": "code",
      "source": [
        "# limpio la memoria\n",
        "rm(list = ls()) # remove all objects\n",
        "gc() # garbage collection"
      ],
      "metadata": {
        "id": "NdLRV28Pg-mb"
      },
      "execution_count": null,
      "outputs": []
    },
    {
      "cell_type": "code",
      "source": [
        "# Cargar las bibliotecas necesarias\n",
        "require(\"data.table\")"
      ],
      "metadata": {
        "id": "_fXpdKNJhAFF"
      },
      "execution_count": null,
      "outputs": []
    },
    {
      "cell_type": "code",
      "source": [
        "# Cambio del directorio de trabajo\n",
        "setwd(\"~/buckets/b1/\")\n",
        "\n",
        "# Parámetros del experimento\n",
        "experimento <- \"(Clase_12)_ganancias_base_sem1\"\n",
        "\n",
        "directorio_prediccion <- \"./exp/KA8240 (Clase 12, Base Sem1)\"\n",
        "\n",
        "dataset <- \"./datasets/competencia_03_base_lags.csv.gz\""
      ],
      "metadata": {
        "id": "UM3dggLwhBJ9"
      },
      "execution_count": null,
      "outputs": []
    },
    {
      "cell_type": "code",
      "source": [
        "# Carga del dataset\n",
        "dataset <- fread(dataset, stringsAsFactors = TRUE, header = TRUE)\n",
        "# Mr quedo con el mes real/observado de jul-21\n",
        "clase_real <- dataset[foto_mes == 202107, .(numero_de_cliente, clase_ternaria)]"
      ],
      "metadata": {
        "id": "WZI1aTshhFNL"
      },
      "execution_count": null,
      "outputs": []
    },
    {
      "cell_type": "code",
      "source": [
        "#Cargo todas las predicciones\n",
        "datasets_prediccion <- list()\n",
        "for (i in seq(8000, 13000, by = 500)) {\n",
        "  datasets_prediccion[as.character(i)] <- paste0(directorio_prediccion, \"_\", i, \".csv\")\n",
        "}"
      ],
      "metadata": {
        "id": "7UaL6t1ghLsD"
      },
      "execution_count": null,
      "outputs": []
    },
    {
      "cell_type": "code",
      "source": [
        "# Carga de las predicciones según el punto de corte\n",
        "predicciones <- lapply(datasets_prediccion, function(file) fread(file, stringsAsFactors = TRUE, header = TRUE))\n",
        "# Filtrado de los casos donde Predicted es igual a 1 en cada conjunto de predicciones\n",
        "predicciones <- lapply(predicciones, function(pred) pred[Predicted == 1])\n",
        "# Merge la clase real para cada conjunto de predicciones\n",
        "predicciones <- lapply(predicciones, function(pred) merge(pred, clase_real, by = \"numero_de_cliente\"))"
      ],
      "metadata": {
        "id": "JgNu1TG_hdLg"
      },
      "execution_count": null,
      "outputs": []
    },
    {
      "cell_type": "code",
      "source": [
        "# Agregación de una columna de ganancias para cada conjunto de predicciones\n",
        "predicciones <- lapply(predicciones, function(pred) {\n",
        "  pred[, ganancia := ifelse(clase_ternaria == \"BAJA+2\", 273000, -7000)]\n",
        "})"
      ],
      "metadata": {
        "id": "aIlh9tkdhe4E"
      },
      "execution_count": null,
      "outputs": []
    },
    {
      "cell_type": "code",
      "source": [
        "# Cálculo de las sumas de ganancias para cada conjunto de predicciones\n",
        "sum_ganancias <- sapply(predicciones, function(pred) sum(pred$ganancia))"
      ],
      "metadata": {
        "id": "TC5TCoTYhgxW"
      },
      "execution_count": null,
      "outputs": []
    },
    {
      "cell_type": "code",
      "source": [
        "# Creación de un data.table con las sumas de ganancias por corte\n",
        "experimento <- data.table(envios = as.numeric(names(sum_ganancias)), ganancia = sum_ganancias)\n",
        "\n",
        "# Creación de las carpetas donde se guardarán los resultados\n",
        "dir.create(\"./exp\", showWarnings = FALSE)\n",
        "dir.create(paste0(\"./exp/\", experimento), showWarnings = FALSE)\n",
        "# Cambio del directorio de trabajo al directorio del experimento\n",
        "setwd(paste0(\"./exp/\", experimento))\n"
      ],
      "metadata": {
        "id": "0g_-Kxm_hiXG"
      },
      "execution_count": null,
      "outputs": []
    },
    {
      "cell_type": "code",
      "source": [
        "# Guardar el data.table en un archivo CSV\n",
        "fwrite(experimento, file = paste0(experimento,\".csv\"), sep = \",\")"
      ],
      "metadata": {
        "id": "YOnKZB_Ma2ig"
      },
      "execution_count": null,
      "outputs": []
    },
    {
      "cell_type": "markdown",
      "source": [
        "# (Base Semilla 2)"
      ],
      "metadata": {
        "id": "vq6RFquRiHKS"
      }
    },
    {
      "cell_type": "code",
      "source": [
        "# limpio la memoria\n",
        "rm(list = ls()) # remove all objects\n",
        "gc() # garbage collection"
      ],
      "metadata": {
        "id": "7-EaT8keiHKT"
      },
      "execution_count": null,
      "outputs": []
    },
    {
      "cell_type": "code",
      "source": [
        "# Cargar las bibliotecas necesarias\n",
        "require(\"data.table\")"
      ],
      "metadata": {
        "id": "iBD4vUx7iHKT"
      },
      "execution_count": null,
      "outputs": []
    },
    {
      "cell_type": "code",
      "source": [
        "# Cambio del directorio de trabajo\n",
        "setwd(\"~/buckets/b1/\")\n",
        "\n",
        "# Parámetros del experimento\n",
        "experimento <- \"(Clase_12)_ganancias_base_sem2\"\n",
        "\n",
        "directorio_prediccion <- \"./exp/KA8240 (Clase 12, Base Sem2)\"\n",
        "\n",
        "dataset <- \"./datasets/competencia_03_base_lags.csv.gz\""
      ],
      "metadata": {
        "id": "OG_yMj4eiHKT"
      },
      "execution_count": null,
      "outputs": []
    },
    {
      "cell_type": "code",
      "source": [
        "# Carga del dataset\n",
        "dataset <- fread(dataset, stringsAsFactors = TRUE, header = TRUE)\n",
        "# Mr quedo con el mes real/observado de jul-21\n",
        "clase_real <- dataset[foto_mes == 202107, .(numero_de_cliente, clase_ternaria)]"
      ],
      "metadata": {
        "id": "xePNy5yuiHKU"
      },
      "execution_count": null,
      "outputs": []
    },
    {
      "cell_type": "code",
      "source": [
        "#Cargo todas las predicciones\n",
        "datasets_prediccion <- list()\n",
        "for (i in seq(8000, 13000, by = 500)) {\n",
        "  datasets_prediccion[as.character(i)] <- paste0(directorio_prediccion, \"_\", i, \".csv\")\n",
        "}"
      ],
      "metadata": {
        "id": "YkLA5qpiiHKU"
      },
      "execution_count": null,
      "outputs": []
    },
    {
      "cell_type": "code",
      "source": [
        "# Carga de las predicciones según el punto de corte\n",
        "predicciones <- lapply(datasets_prediccion, function(file) fread(file, stringsAsFactors = TRUE, header = TRUE))\n",
        "# Filtrado de los casos donde Predicted es igual a 1 en cada conjunto de predicciones\n",
        "predicciones <- lapply(predicciones, function(pred) pred[Predicted == 1])\n",
        "# Merge la clase real para cada conjunto de predicciones\n",
        "predicciones <- lapply(predicciones, function(pred) merge(pred, clase_real, by = \"numero_de_cliente\"))"
      ],
      "metadata": {
        "id": "0wS3NI4biHKU"
      },
      "execution_count": null,
      "outputs": []
    },
    {
      "cell_type": "code",
      "source": [
        "# Agregación de una columna de ganancias para cada conjunto de predicciones\n",
        "predicciones <- lapply(predicciones, function(pred) {\n",
        "  pred[, ganancia := ifelse(clase_ternaria == \"BAJA+2\", 273000, -7000)]\n",
        "})"
      ],
      "metadata": {
        "id": "WZJcWOK2iHKU"
      },
      "execution_count": null,
      "outputs": []
    },
    {
      "cell_type": "code",
      "source": [
        "# Cálculo de las sumas de ganancias para cada conjunto de predicciones\n",
        "sum_ganancias <- sapply(predicciones, function(pred) sum(pred$ganancia))"
      ],
      "metadata": {
        "id": "RU5tu9OiiHKU"
      },
      "execution_count": null,
      "outputs": []
    },
    {
      "cell_type": "code",
      "source": [
        "# Creación de un data.table con las sumas de ganancias por corte\n",
        "experimento <- data.table(envios = as.numeric(names(sum_ganancias)), ganancia = sum_ganancias)\n",
        "\n",
        "# Creación de las carpetas donde se guardarán los resultados\n",
        "dir.create(\"./exp\", showWarnings = FALSE)\n",
        "dir.create(paste0(\"./exp/\", experimento), showWarnings = FALSE)\n",
        "# Cambio del directorio de trabajo al directorio del experimento\n",
        "setwd(paste0(\"./exp/\", experimento))\n"
      ],
      "metadata": {
        "id": "d0GbzkXEiHKV"
      },
      "execution_count": null,
      "outputs": []
    },
    {
      "cell_type": "code",
      "source": [
        "# Guardar el data.table en un archivo CSV\n",
        "fwrite(experimento, file = paste0(experimento,\".csv\"), sep = \",\")"
      ],
      "metadata": {
        "id": "x1H51HVBiHKV"
      },
      "execution_count": null,
      "outputs": []
    },
    {
      "cell_type": "markdown",
      "source": [
        "# (Base Semilla 3)"
      ],
      "metadata": {
        "id": "WPhUdDUziMab"
      }
    },
    {
      "cell_type": "code",
      "source": [
        "# limpio la memoria\n",
        "rm(list = ls()) # remove all objects\n",
        "gc() # garbage collection"
      ],
      "metadata": {
        "id": "UKFtfkiSiMab"
      },
      "execution_count": null,
      "outputs": []
    },
    {
      "cell_type": "code",
      "source": [
        "# Cargar las bibliotecas necesarias\n",
        "require(\"data.table\")"
      ],
      "metadata": {
        "id": "9GA08Cu6iMab"
      },
      "execution_count": null,
      "outputs": []
    },
    {
      "cell_type": "code",
      "source": [
        "# Cambio del directorio de trabajo\n",
        "setwd(\"~/buckets/b1/\")\n",
        "\n",
        "# Parámetros del experimento\n",
        "experimento <- \"(Clase_12)_ganancias_base_sem3\"\n",
        "\n",
        "directorio_prediccion <- \"./exp/KA8240 (Clase 12, Base Sem3)\"\n",
        "\n",
        "dataset <- \"./datasets/competencia_03_base_lags.csv.gz\""
      ],
      "metadata": {
        "id": "P9hkqBuyiMab"
      },
      "execution_count": null,
      "outputs": []
    },
    {
      "cell_type": "code",
      "source": [
        "# Carga del dataset\n",
        "dataset <- fread(dataset, stringsAsFactors = TRUE, header = TRUE)\n",
        "# Mr quedo con el mes real/observado de jul-21\n",
        "clase_real <- dataset[foto_mes == 202107, .(numero_de_cliente, clase_ternaria)]"
      ],
      "metadata": {
        "id": "wjQGddsSiMac"
      },
      "execution_count": null,
      "outputs": []
    },
    {
      "cell_type": "code",
      "source": [
        "#Cargo todas las predicciones\n",
        "datasets_prediccion <- list()\n",
        "for (i in seq(8000, 13000, by = 500)) {\n",
        "  datasets_prediccion[as.character(i)] <- paste0(directorio_prediccion, \"_\", i, \".csv\")\n",
        "}"
      ],
      "metadata": {
        "id": "WWVkW2CciMac"
      },
      "execution_count": null,
      "outputs": []
    },
    {
      "cell_type": "code",
      "source": [
        "# Carga de las predicciones según el punto de corte\n",
        "predicciones <- lapply(datasets_prediccion, function(file) fread(file, stringsAsFactors = TRUE, header = TRUE))\n",
        "# Filtrado de los casos donde Predicted es igual a 1 en cada conjunto de predicciones\n",
        "predicciones <- lapply(predicciones, function(pred) pred[Predicted == 1])\n",
        "# Merge la clase real para cada conjunto de predicciones\n",
        "predicciones <- lapply(predicciones, function(pred) merge(pred, clase_real, by = \"numero_de_cliente\"))"
      ],
      "metadata": {
        "id": "rKoDp4QTiMac"
      },
      "execution_count": null,
      "outputs": []
    },
    {
      "cell_type": "code",
      "source": [
        "# Agregación de una columna de ganancias para cada conjunto de predicciones\n",
        "predicciones <- lapply(predicciones, function(pred) {\n",
        "  pred[, ganancia := ifelse(clase_ternaria == \"BAJA+2\", 273000, -7000)]\n",
        "})"
      ],
      "metadata": {
        "id": "prVo_RM6iMac"
      },
      "execution_count": null,
      "outputs": []
    },
    {
      "cell_type": "code",
      "source": [
        "# Cálculo de las sumas de ganancias para cada conjunto de predicciones\n",
        "sum_ganancias <- sapply(predicciones, function(pred) sum(pred$ganancia))"
      ],
      "metadata": {
        "id": "vfnDaN-qiMac"
      },
      "execution_count": null,
      "outputs": []
    },
    {
      "cell_type": "code",
      "source": [
        "# Creación de un data.table con las sumas de ganancias por corte\n",
        "experimento <- data.table(envios = as.numeric(names(sum_ganancias)), ganancia = sum_ganancias)\n",
        "\n",
        "# Creación de las carpetas donde se guardarán los resultados\n",
        "dir.create(\"./exp\", showWarnings = FALSE)\n",
        "dir.create(paste0(\"./exp/\", experimento), showWarnings = FALSE)\n",
        "# Cambio del directorio de trabajo al directorio del experimento\n",
        "setwd(paste0(\"./exp/\", experimento))\n"
      ],
      "metadata": {
        "id": "F8DZniX5iMac"
      },
      "execution_count": null,
      "outputs": []
    },
    {
      "cell_type": "code",
      "source": [
        "# Guardar el data.table en un archivo CSV\n",
        "fwrite(experimento, file = paste0(experimento,\".csv\"), sep = \",\")"
      ],
      "metadata": {
        "id": "tsLQDDzeiMac"
      },
      "execution_count": null,
      "outputs": []
    },
    {
      "cell_type": "markdown",
      "source": [
        "# (Base Semilla 4)"
      ],
      "metadata": {
        "id": "nN6NoeupiUMt"
      }
    },
    {
      "cell_type": "code",
      "source": [
        "# limpio la memoria\n",
        "rm(list = ls()) # remove all objects\n",
        "gc() # garbage collection"
      ],
      "metadata": {
        "id": "OqQnmcmjiUMt"
      },
      "execution_count": null,
      "outputs": []
    },
    {
      "cell_type": "code",
      "source": [
        "# Cargar las bibliotecas necesarias\n",
        "require(\"data.table\")"
      ],
      "metadata": {
        "id": "Etd3LMxriUMt"
      },
      "execution_count": null,
      "outputs": []
    },
    {
      "cell_type": "code",
      "source": [
        "# Cambio del directorio de trabajo\n",
        "setwd(\"~/buckets/b1/\")\n",
        "\n",
        "# Parámetros del experimento\n",
        "experimento <- \"(Clase_12)_ganancias_base_sem1\"\n",
        "\n",
        "directorio_prediccion <- \"./exp/KA8240 (Clase 12, Base Sem4)\"\n",
        "\n",
        "dataset <- \"./datasets/competencia_03_base_lags.csv.gz\""
      ],
      "metadata": {
        "id": "N4bp2VSiiUM1"
      },
      "execution_count": null,
      "outputs": []
    },
    {
      "cell_type": "code",
      "source": [
        "# Carga del dataset\n",
        "dataset <- fread(dataset, stringsAsFactors = TRUE, header = TRUE)\n",
        "# Mr quedo con el mes real/observado de jul-21\n",
        "clase_real <- dataset[foto_mes == 202107, .(numero_de_cliente, clase_ternaria)]"
      ],
      "metadata": {
        "id": "cVH3lmdIiUM2"
      },
      "execution_count": null,
      "outputs": []
    },
    {
      "cell_type": "code",
      "source": [
        "#Cargo todas las predicciones\n",
        "datasets_prediccion <- list()\n",
        "for (i in seq(8000, 13000, by = 500)) {\n",
        "  datasets_prediccion[as.character(i)] <- paste0(directorio_prediccion, \"_\", i, \".csv\")\n",
        "}"
      ],
      "metadata": {
        "id": "kKHQBVIXiUM2"
      },
      "execution_count": null,
      "outputs": []
    },
    {
      "cell_type": "code",
      "source": [
        "# Carga de las predicciones según el punto de corte\n",
        "predicciones <- lapply(datasets_prediccion, function(file) fread(file, stringsAsFactors = TRUE, header = TRUE))\n",
        "# Filtrado de los casos donde Predicted es igual a 1 en cada conjunto de predicciones\n",
        "predicciones <- lapply(predicciones, function(pred) pred[Predicted == 1])\n",
        "# Merge la clase real para cada conjunto de predicciones\n",
        "predicciones <- lapply(predicciones, function(pred) merge(pred, clase_real, by = \"numero_de_cliente\"))"
      ],
      "metadata": {
        "id": "NrxKk8utiUM2"
      },
      "execution_count": null,
      "outputs": []
    },
    {
      "cell_type": "code",
      "source": [
        "# Agregación de una columna de ganancias para cada conjunto de predicciones\n",
        "predicciones <- lapply(predicciones, function(pred) {\n",
        "  pred[, ganancia := ifelse(clase_ternaria == \"BAJA+2\", 273000, -7000)]\n",
        "})"
      ],
      "metadata": {
        "id": "FPqFZpwiiUM2"
      },
      "execution_count": null,
      "outputs": []
    },
    {
      "cell_type": "code",
      "source": [
        "# Cálculo de las sumas de ganancias para cada conjunto de predicciones\n",
        "sum_ganancias <- sapply(predicciones, function(pred) sum(pred$ganancia))"
      ],
      "metadata": {
        "id": "2i6xDHtGiUM2"
      },
      "execution_count": null,
      "outputs": []
    },
    {
      "cell_type": "code",
      "source": [
        "# Creación de un data.table con las sumas de ganancias por corte\n",
        "experimento <- data.table(envios = as.numeric(names(sum_ganancias)), ganancia = sum_ganancias)\n",
        "\n",
        "# Creación de las carpetas donde se guardarán los resultados\n",
        "dir.create(\"./exp\", showWarnings = FALSE)\n",
        "dir.create(paste0(\"./exp/\", experimento), showWarnings = FALSE)\n",
        "# Cambio del directorio de trabajo al directorio del experimento\n",
        "setwd(paste0(\"./exp/\", experimento))\n"
      ],
      "metadata": {
        "id": "AswloRWViUM2"
      },
      "execution_count": null,
      "outputs": []
    },
    {
      "cell_type": "code",
      "source": [
        "# Guardar el data.table en un archivo CSV\n",
        "fwrite(experimento, file = paste0(experimento,\".csv\"), sep = \",\")"
      ],
      "metadata": {
        "id": "l8K3AzfiiUM3"
      },
      "execution_count": null,
      "outputs": []
    },
    {
      "cell_type": "markdown",
      "source": [
        "# (Base Semilla 5)"
      ],
      "metadata": {
        "id": "WFWXK5NQiYEk"
      }
    },
    {
      "cell_type": "code",
      "source": [
        "# limpio la memoria\n",
        "rm(list = ls()) # remove all objects\n",
        "gc() # garbage collection"
      ],
      "metadata": {
        "id": "bxCRY9QNiYEr"
      },
      "execution_count": null,
      "outputs": []
    },
    {
      "cell_type": "code",
      "source": [
        "# Cargar las bibliotecas necesarias\n",
        "require(\"data.table\")"
      ],
      "metadata": {
        "id": "a_rZKohoiYEs"
      },
      "execution_count": null,
      "outputs": []
    },
    {
      "cell_type": "code",
      "source": [
        "# Cambio del directorio de trabajo\n",
        "setwd(\"~/buckets/b1/\")\n",
        "\n",
        "# Parámetros del experimento\n",
        "experimento <- \"(Clase_12)_ganancias_base_sem5\"\n",
        "\n",
        "directorio_prediccion <- \"./exp/KA8240 (Clase 12, Base Sem5)\"\n",
        "\n",
        "dataset <- \"./datasets/competencia_03_base_lags.csv.gz\""
      ],
      "metadata": {
        "id": "JgfyQPI-iYEs"
      },
      "execution_count": null,
      "outputs": []
    },
    {
      "cell_type": "code",
      "source": [
        "# Carga del dataset\n",
        "dataset <- fread(dataset, stringsAsFactors = TRUE, header = TRUE)\n",
        "# Mr quedo con el mes real/observado de jul-21\n",
        "clase_real <- dataset[foto_mes == 202107, .(numero_de_cliente, clase_ternaria)]"
      ],
      "metadata": {
        "id": "VcBJlkSQiYEs"
      },
      "execution_count": null,
      "outputs": []
    },
    {
      "cell_type": "code",
      "source": [
        "#Cargo todas las predicciones\n",
        "datasets_prediccion <- list()\n",
        "for (i in seq(8000, 13000, by = 500)) {\n",
        "  datasets_prediccion[as.character(i)] <- paste0(directorio_prediccion, \"_\", i, \".csv\")\n",
        "}"
      ],
      "metadata": {
        "id": "Gx3v97oiiYEs"
      },
      "execution_count": null,
      "outputs": []
    },
    {
      "cell_type": "code",
      "source": [
        "# Carga de las predicciones según el punto de corte\n",
        "predicciones <- lapply(datasets_prediccion, function(file) fread(file, stringsAsFactors = TRUE, header = TRUE))\n",
        "# Filtrado de los casos donde Predicted es igual a 1 en cada conjunto de predicciones\n",
        "predicciones <- lapply(predicciones, function(pred) pred[Predicted == 1])\n",
        "# Merge la clase real para cada conjunto de predicciones\n",
        "predicciones <- lapply(predicciones, function(pred) merge(pred, clase_real, by = \"numero_de_cliente\"))"
      ],
      "metadata": {
        "id": "I1eXlsk0iYEs"
      },
      "execution_count": null,
      "outputs": []
    },
    {
      "cell_type": "code",
      "source": [
        "# Agregación de una columna de ganancias para cada conjunto de predicciones\n",
        "predicciones <- lapply(predicciones, function(pred) {\n",
        "  pred[, ganancia := ifelse(clase_ternaria == \"BAJA+2\", 273000, -7000)]\n",
        "})"
      ],
      "metadata": {
        "id": "tjsjcBu_iYEs"
      },
      "execution_count": null,
      "outputs": []
    },
    {
      "cell_type": "code",
      "source": [
        "# Cálculo de las sumas de ganancias para cada conjunto de predicciones\n",
        "sum_ganancias <- sapply(predicciones, function(pred) sum(pred$ganancia))"
      ],
      "metadata": {
        "id": "TSicWD7liYEs"
      },
      "execution_count": null,
      "outputs": []
    },
    {
      "cell_type": "code",
      "source": [
        "# Creación de un data.table con las sumas de ganancias por corte\n",
        "experimento <- data.table(envios = as.numeric(names(sum_ganancias)), ganancia = sum_ganancias)\n",
        "\n",
        "# Creación de las carpetas donde se guardarán los resultados\n",
        "dir.create(\"./exp\", showWarnings = FALSE)\n",
        "dir.create(paste0(\"./exp/\", experimento), showWarnings = FALSE)\n",
        "# Cambio del directorio de trabajo al directorio del experimento\n",
        "setwd(paste0(\"./exp/\", experimento))\n"
      ],
      "metadata": {
        "id": "AW7RfzqiiYEt"
      },
      "execution_count": null,
      "outputs": []
    },
    {
      "cell_type": "code",
      "source": [
        "# Guardar el data.table en un archivo CSV\n",
        "fwrite(experimento, file = paste0(experimento,\".csv\"), sep = \",\")"
      ],
      "metadata": {
        "id": "msEbWFNEiYEt"
      },
      "execution_count": null,
      "outputs": []
    },
    {
      "cell_type": "markdown",
      "source": [
        "# (Ajuste Semilla 1)"
      ],
      "metadata": {
        "id": "YHxcUA-bid1V"
      }
    },
    {
      "cell_type": "code",
      "source": [
        "# limpio la memoria\n",
        "rm(list = ls()) # remove all objects\n",
        "gc() # garbage collection"
      ],
      "metadata": {
        "id": "vSYxyHcFid1V"
      },
      "execution_count": null,
      "outputs": []
    },
    {
      "cell_type": "code",
      "source": [
        "# Cargar las bibliotecas necesarias\n",
        "require(\"data.table\")"
      ],
      "metadata": {
        "id": "xYD34Yr_id1V"
      },
      "execution_count": null,
      "outputs": []
    },
    {
      "cell_type": "code",
      "source": [
        "# Cambio del directorio de trabajo\n",
        "setwd(\"~/buckets/b1/\")\n",
        "\n",
        "# Parámetros del experimento\n",
        "experimento <- \"(Clase_12)_ganancias_ajustado_sem1\"\n",
        "\n",
        "directorio_prediccion <- \"./exp/KA8240 (Clase 12, Ajustado Sem1)\"\n",
        "\n",
        "dataset <- \"./datasets/competencia_03_infla_ajustado_lags.csv.gz\""
      ],
      "metadata": {
        "id": "H6-a9VInid1W"
      },
      "execution_count": null,
      "outputs": []
    },
    {
      "cell_type": "code",
      "source": [
        "# Carga del dataset\n",
        "dataset <- fread(dataset, stringsAsFactors = TRUE, header = TRUE)\n",
        "# Mr quedo con el mes real/observado de jul-21\n",
        "clase_real <- dataset[foto_mes == 202107, .(numero_de_cliente, clase_ternaria)]"
      ],
      "metadata": {
        "id": "jz4lCAAjid1W"
      },
      "execution_count": null,
      "outputs": []
    },
    {
      "cell_type": "code",
      "source": [
        "#Cargo todas las predicciones\n",
        "datasets_prediccion <- list()\n",
        "for (i in seq(8000, 13000, by = 500)) {\n",
        "  datasets_prediccion[as.character(i)] <- paste0(directorio_prediccion, \"_\", i, \".csv\")\n",
        "}"
      ],
      "metadata": {
        "id": "c0pgrn-Jid1W"
      },
      "execution_count": null,
      "outputs": []
    },
    {
      "cell_type": "code",
      "source": [
        "# Carga de las predicciones según el punto de corte\n",
        "predicciones <- lapply(datasets_prediccion, function(file) fread(file, stringsAsFactors = TRUE, header = TRUE))\n",
        "# Filtrado de los casos donde Predicted es igual a 1 en cada conjunto de predicciones\n",
        "predicciones <- lapply(predicciones, function(pred) pred[Predicted == 1])\n",
        "# Merge la clase real para cada conjunto de predicciones\n",
        "predicciones <- lapply(predicciones, function(pred) merge(pred, clase_real, by = \"numero_de_cliente\"))"
      ],
      "metadata": {
        "id": "3YPN7bkeid1W"
      },
      "execution_count": null,
      "outputs": []
    },
    {
      "cell_type": "code",
      "source": [
        "# Agregación de una columna de ganancias para cada conjunto de predicciones\n",
        "predicciones <- lapply(predicciones, function(pred) {\n",
        "  pred[, ganancia := ifelse(clase_ternaria == \"BAJA+2\", 273000, -7000)]\n",
        "})"
      ],
      "metadata": {
        "id": "fqWbPkhOid1W"
      },
      "execution_count": null,
      "outputs": []
    },
    {
      "cell_type": "code",
      "source": [
        "# Cálculo de las sumas de ganancias para cada conjunto de predicciones\n",
        "sum_ganancias <- sapply(predicciones, function(pred) sum(pred$ganancia))"
      ],
      "metadata": {
        "id": "BIX5XYg-id1W"
      },
      "execution_count": null,
      "outputs": []
    },
    {
      "cell_type": "code",
      "source": [
        "# Creación de un data.table con las sumas de ganancias por corte\n",
        "experimento <- data.table(envios = as.numeric(names(sum_ganancias)), ganancia = sum_ganancias)\n",
        "\n",
        "# Creación de las carpetas donde se guardarán los resultados\n",
        "dir.create(\"./exp\", showWarnings = FALSE)\n",
        "dir.create(paste0(\"./exp/\", experimento), showWarnings = FALSE)\n",
        "# Cambio del directorio de trabajo al directorio del experimento\n",
        "setwd(paste0(\"./exp/\", experimento))\n"
      ],
      "metadata": {
        "id": "gEMVE-SCid1X"
      },
      "execution_count": null,
      "outputs": []
    },
    {
      "cell_type": "code",
      "source": [
        "# Guardar el data.table en un archivo CSV\n",
        "fwrite(experimento, file = paste0(experimento,\".csv\"), sep = \",\")"
      ],
      "metadata": {
        "id": "mg-VC82rid1X"
      },
      "execution_count": null,
      "outputs": []
    },
    {
      "cell_type": "markdown",
      "source": [
        "# (Ajuste Semilla 2)"
      ],
      "metadata": {
        "id": "OIwFJw2hi61k"
      }
    },
    {
      "cell_type": "code",
      "source": [
        "# limpio la memoria\n",
        "rm(list = ls()) # remove all objects\n",
        "gc() # garbage collection"
      ],
      "metadata": {
        "id": "qqYWWzpIi61s"
      },
      "execution_count": null,
      "outputs": []
    },
    {
      "cell_type": "code",
      "source": [
        "# Cargar las bibliotecas necesarias\n",
        "require(\"data.table\")"
      ],
      "metadata": {
        "id": "WkfcY_ZAi61t"
      },
      "execution_count": null,
      "outputs": []
    },
    {
      "cell_type": "code",
      "source": [
        "# Cambio del directorio de trabajo\n",
        "setwd(\"~/buckets/b1/\")\n",
        "\n",
        "# Parámetros del experimento\n",
        "experimento <- \"(Clase_12)_ganancias_ajustado_sem2\"\n",
        "\n",
        "directorio_prediccion <- \"./exp/KA8240 (Clase 12, Ajustado Sem2)\"\n",
        "\n",
        "dataset <- \"./datasets/competencia_03_infla_ajustado_lags.csv.gz\""
      ],
      "metadata": {
        "id": "RT_dY-PLi61t"
      },
      "execution_count": null,
      "outputs": []
    },
    {
      "cell_type": "code",
      "source": [
        "# Carga del dataset\n",
        "dataset <- fread(dataset, stringsAsFactors = TRUE, header = TRUE)\n",
        "# Mr quedo con el mes real/observado de jul-21\n",
        "clase_real <- dataset[foto_mes == 202107, .(numero_de_cliente, clase_ternaria)]"
      ],
      "metadata": {
        "id": "WQwC-Mmhi61t"
      },
      "execution_count": null,
      "outputs": []
    },
    {
      "cell_type": "code",
      "source": [
        "#Cargo todas las predicciones\n",
        "datasets_prediccion <- list()\n",
        "for (i in seq(8000, 13000, by = 500)) {\n",
        "  datasets_prediccion[as.character(i)] <- paste0(directorio_prediccion, \"_\", i, \".csv\")\n",
        "}"
      ],
      "metadata": {
        "id": "wkk5w4Fji61t"
      },
      "execution_count": null,
      "outputs": []
    },
    {
      "cell_type": "code",
      "source": [
        "# Carga de las predicciones según el punto de corte\n",
        "predicciones <- lapply(datasets_prediccion, function(file) fread(file, stringsAsFactors = TRUE, header = TRUE))\n",
        "# Filtrado de los casos donde Predicted es igual a 1 en cada conjunto de predicciones\n",
        "predicciones <- lapply(predicciones, function(pred) pred[Predicted == 1])\n",
        "# Merge la clase real para cada conjunto de predicciones\n",
        "predicciones <- lapply(predicciones, function(pred) merge(pred, clase_real, by = \"numero_de_cliente\"))"
      ],
      "metadata": {
        "id": "wKocMLU9i61t"
      },
      "execution_count": null,
      "outputs": []
    },
    {
      "cell_type": "code",
      "source": [
        "# Agregación de una columna de ganancias para cada conjunto de predicciones\n",
        "predicciones <- lapply(predicciones, function(pred) {\n",
        "  pred[, ganancia := ifelse(clase_ternaria == \"BAJA+2\", 273000, -7000)]\n",
        "})"
      ],
      "metadata": {
        "id": "EYqiprm2i61u"
      },
      "execution_count": null,
      "outputs": []
    },
    {
      "cell_type": "code",
      "source": [
        "# Cálculo de las sumas de ganancias para cada conjunto de predicciones\n",
        "sum_ganancias <- sapply(predicciones, function(pred) sum(pred$ganancia))"
      ],
      "metadata": {
        "id": "REpuzwvKi61u"
      },
      "execution_count": null,
      "outputs": []
    },
    {
      "cell_type": "code",
      "source": [
        "# Creación de un data.table con las sumas de ganancias por corte\n",
        "experimento <- data.table(envios = as.numeric(names(sum_ganancias)), ganancia = sum_ganancias)\n",
        "\n",
        "# Creación de las carpetas donde se guardarán los resultados\n",
        "dir.create(\"./exp\", showWarnings = FALSE)\n",
        "dir.create(paste0(\"./exp/\", experimento), showWarnings = FALSE)\n",
        "# Cambio del directorio de trabajo al directorio del experimento\n",
        "setwd(paste0(\"./exp/\", experimento))\n"
      ],
      "metadata": {
        "id": "rCLlDYAXi61u"
      },
      "execution_count": null,
      "outputs": []
    },
    {
      "cell_type": "code",
      "source": [
        "# Guardar el data.table en un archivo CSV\n",
        "fwrite(experimento, file = paste0(experimento,\".csv\"), sep = \",\")"
      ],
      "metadata": {
        "id": "Ux-oYDqEi61u"
      },
      "execution_count": null,
      "outputs": []
    },
    {
      "cell_type": "markdown",
      "source": [
        "# (Ajuste Semilla 3)"
      ],
      "metadata": {
        "id": "S7ero4adi99M"
      }
    },
    {
      "cell_type": "code",
      "source": [
        "# limpio la memoria\n",
        "rm(list = ls()) # remove all objects\n",
        "gc() # garbage collection"
      ],
      "metadata": {
        "id": "CSjd41gIi99V"
      },
      "execution_count": null,
      "outputs": []
    },
    {
      "cell_type": "code",
      "source": [
        "# Cargar las bibliotecas necesarias\n",
        "require(\"data.table\")"
      ],
      "metadata": {
        "id": "ixkba_nyi99V"
      },
      "execution_count": null,
      "outputs": []
    },
    {
      "cell_type": "code",
      "source": [
        "# Cambio del directorio de trabajo\n",
        "setwd(\"~/buckets/b1/\")\n",
        "\n",
        "# Parámetros del experimento\n",
        "experimento <- \"(Clase_12)_ganancias_ajustado_sem3\"\n",
        "\n",
        "directorio_prediccion <- \"./exp/KA8240 (Clase 12, Ajustado Sem3)\"\n",
        "\n",
        "dataset <- \"./datasets/competencia_03_infla_ajustado_lags.csv.gz\""
      ],
      "metadata": {
        "id": "4O3g8HoOi99W"
      },
      "execution_count": null,
      "outputs": []
    },
    {
      "cell_type": "code",
      "source": [
        "# Carga del dataset\n",
        "dataset <- fread(dataset, stringsAsFactors = TRUE, header = TRUE)\n",
        "# Mr quedo con el mes real/observado de jul-21\n",
        "clase_real <- dataset[foto_mes == 202107, .(numero_de_cliente, clase_ternaria)]"
      ],
      "metadata": {
        "id": "8TKucFyyi99W"
      },
      "execution_count": null,
      "outputs": []
    },
    {
      "cell_type": "code",
      "source": [
        "#Cargo todas las predicciones\n",
        "datasets_prediccion <- list()\n",
        "for (i in seq(8000, 13000, by = 500)) {\n",
        "  datasets_prediccion[as.character(i)] <- paste0(directorio_prediccion, \"_\", i, \".csv\")\n",
        "}"
      ],
      "metadata": {
        "id": "L7MjbpK8i99W"
      },
      "execution_count": null,
      "outputs": []
    },
    {
      "cell_type": "code",
      "source": [
        "# Carga de las predicciones según el punto de corte\n",
        "predicciones <- lapply(datasets_prediccion, function(file) fread(file, stringsAsFactors = TRUE, header = TRUE))\n",
        "# Filtrado de los casos donde Predicted es igual a 1 en cada conjunto de predicciones\n",
        "predicciones <- lapply(predicciones, function(pred) pred[Predicted == 1])\n",
        "# Merge la clase real para cada conjunto de predicciones\n",
        "predicciones <- lapply(predicciones, function(pred) merge(pred, clase_real, by = \"numero_de_cliente\"))"
      ],
      "metadata": {
        "id": "aKDqylUei99W"
      },
      "execution_count": null,
      "outputs": []
    },
    {
      "cell_type": "code",
      "source": [
        "# Agregación de una columna de ganancias para cada conjunto de predicciones\n",
        "predicciones <- lapply(predicciones, function(pred) {\n",
        "  pred[, ganancia := ifelse(clase_ternaria == \"BAJA+2\", 273000, -7000)]\n",
        "})"
      ],
      "metadata": {
        "id": "hFbfxs3Si99W"
      },
      "execution_count": null,
      "outputs": []
    },
    {
      "cell_type": "code",
      "source": [
        "# Cálculo de las sumas de ganancias para cada conjunto de predicciones\n",
        "sum_ganancias <- sapply(predicciones, function(pred) sum(pred$ganancia))"
      ],
      "metadata": {
        "id": "YQjLxPNti99W"
      },
      "execution_count": null,
      "outputs": []
    },
    {
      "cell_type": "code",
      "source": [
        "# Creación de un data.table con las sumas de ganancias por corte\n",
        "experimento <- data.table(envios = as.numeric(names(sum_ganancias)), ganancia = sum_ganancias)\n",
        "\n",
        "# Creación de las carpetas donde se guardarán los resultados\n",
        "dir.create(\"./exp\", showWarnings = FALSE)\n",
        "dir.create(paste0(\"./exp/\", experimento), showWarnings = FALSE)\n",
        "# Cambio del directorio de trabajo al directorio del experimento\n",
        "setwd(paste0(\"./exp/\", experimento))\n"
      ],
      "metadata": {
        "id": "v6-5u2Zoi99X"
      },
      "execution_count": null,
      "outputs": []
    },
    {
      "cell_type": "code",
      "source": [
        "# Guardar el data.table en un archivo CSV\n",
        "fwrite(experimento, file = paste0(experimento,\".csv\"), sep = \",\")"
      ],
      "metadata": {
        "id": "YcrD0SgAi99X"
      },
      "execution_count": null,
      "outputs": []
    },
    {
      "cell_type": "markdown",
      "source": [
        "# (Ajuste Semilla 4)"
      ],
      "metadata": {
        "id": "iCtFLWl8jDR8"
      }
    },
    {
      "cell_type": "code",
      "source": [
        "# limpio la memoria\n",
        "rm(list = ls()) # remove all objects\n",
        "gc() # garbage collection"
      ],
      "metadata": {
        "id": "4lIxCx6zjDSF"
      },
      "execution_count": null,
      "outputs": []
    },
    {
      "cell_type": "code",
      "source": [
        "# Cargar las bibliotecas necesarias\n",
        "require(\"data.table\")"
      ],
      "metadata": {
        "id": "QAbtEa5ujDSF"
      },
      "execution_count": null,
      "outputs": []
    },
    {
      "cell_type": "code",
      "source": [
        "# Cambio del directorio de trabajo\n",
        "setwd(\"~/buckets/b1/\")\n",
        "\n",
        "# Parámetros del experimento\n",
        "experimento <- \"(Clase_12)_ganancias_ajustado_sem4\"\n",
        "\n",
        "directorio_prediccion <- \"./exp/KA8240 (Clase 12, Ajustado Sem4)\"\n",
        "\n",
        "dataset <- \"./datasets/competencia_03_infla_ajustado_lags.csv.gz\""
      ],
      "metadata": {
        "id": "A-resOKljDSG"
      },
      "execution_count": null,
      "outputs": []
    },
    {
      "cell_type": "code",
      "source": [
        "# Carga del dataset\n",
        "dataset <- fread(dataset, stringsAsFactors = TRUE, header = TRUE)\n",
        "# Mr quedo con el mes real/observado de jul-21\n",
        "clase_real <- dataset[foto_mes == 202107, .(numero_de_cliente, clase_ternaria)]"
      ],
      "metadata": {
        "id": "5TCiwb-ijDSG"
      },
      "execution_count": null,
      "outputs": []
    },
    {
      "cell_type": "code",
      "source": [
        "#Cargo todas las predicciones\n",
        "datasets_prediccion <- list()\n",
        "for (i in seq(8000, 13000, by = 500)) {\n",
        "  datasets_prediccion[as.character(i)] <- paste0(directorio_prediccion, \"_\", i, \".csv\")\n",
        "}"
      ],
      "metadata": {
        "id": "KYnN1a6OjDSG"
      },
      "execution_count": null,
      "outputs": []
    },
    {
      "cell_type": "code",
      "source": [
        "# Carga de las predicciones según el punto de corte\n",
        "predicciones <- lapply(datasets_prediccion, function(file) fread(file, stringsAsFactors = TRUE, header = TRUE))\n",
        "# Filtrado de los casos donde Predicted es igual a 1 en cada conjunto de predicciones\n",
        "predicciones <- lapply(predicciones, function(pred) pred[Predicted == 1])\n",
        "# Merge la clase real para cada conjunto de predicciones\n",
        "predicciones <- lapply(predicciones, function(pred) merge(pred, clase_real, by = \"numero_de_cliente\"))"
      ],
      "metadata": {
        "id": "8q1q52s-jDSG"
      },
      "execution_count": null,
      "outputs": []
    },
    {
      "cell_type": "code",
      "source": [
        "# Agregación de una columna de ganancias para cada conjunto de predicciones\n",
        "predicciones <- lapply(predicciones, function(pred) {\n",
        "  pred[, ganancia := ifelse(clase_ternaria == \"BAJA+2\", 273000, -7000)]\n",
        "})"
      ],
      "metadata": {
        "id": "woYw0kIWjDSG"
      },
      "execution_count": null,
      "outputs": []
    },
    {
      "cell_type": "code",
      "source": [
        "# Cálculo de las sumas de ganancias para cada conjunto de predicciones\n",
        "sum_ganancias <- sapply(predicciones, function(pred) sum(pred$ganancia))"
      ],
      "metadata": {
        "id": "0dI5Mw5ujDSG"
      },
      "execution_count": null,
      "outputs": []
    },
    {
      "cell_type": "code",
      "source": [
        "# Creación de un data.table con las sumas de ganancias por corte\n",
        "experimento <- data.table(envios = as.numeric(names(sum_ganancias)), ganancia = sum_ganancias)\n",
        "\n",
        "# Creación de las carpetas donde se guardarán los resultados\n",
        "dir.create(\"./exp\", showWarnings = FALSE)\n",
        "dir.create(paste0(\"./exp/\", experimento), showWarnings = FALSE)\n",
        "# Cambio del directorio de trabajo al directorio del experimento\n",
        "setwd(paste0(\"./exp/\", experimento))\n"
      ],
      "metadata": {
        "id": "7tH-fBUWjDSH"
      },
      "execution_count": null,
      "outputs": []
    },
    {
      "cell_type": "code",
      "source": [
        "# Guardar el data.table en un archivo CSV\n",
        "fwrite(experimento, file = paste0(experimento,\".csv\"), sep = \",\")"
      ],
      "metadata": {
        "id": "OES79p8cjDSH"
      },
      "execution_count": null,
      "outputs": []
    },
    {
      "cell_type": "markdown",
      "source": [
        "# (Ajuste Semilla 5)"
      ],
      "metadata": {
        "id": "RTX7G2u7jHDl"
      }
    },
    {
      "cell_type": "code",
      "source": [
        "# limpio la memoria\n",
        "rm(list = ls()) # remove all objects\n",
        "gc() # garbage collection"
      ],
      "metadata": {
        "id": "H4gkrc-mjHDm"
      },
      "execution_count": null,
      "outputs": []
    },
    {
      "cell_type": "code",
      "source": [
        "# Cargar las bibliotecas necesarias\n",
        "require(\"data.table\")"
      ],
      "metadata": {
        "id": "gjUTdeW_jHDm"
      },
      "execution_count": null,
      "outputs": []
    },
    {
      "cell_type": "code",
      "source": [
        "# Cambio del directorio de trabajo\n",
        "setwd(\"~/buckets/b1/\")\n",
        "\n",
        "# Parámetros del experimento\n",
        "experimento <- \"(Clase_12)_ganancias_ajustado_sem5\"\n",
        "\n",
        "directorio_prediccion <- \"./exp/KA8240 (Clase 12, Ajustado Sem5)\"\n",
        "\n",
        "dataset <- \"./datasets/competencia_03_infla_ajustado_lags.csv.gz\""
      ],
      "metadata": {
        "id": "FaFkKyw6jHDm"
      },
      "execution_count": null,
      "outputs": []
    },
    {
      "cell_type": "code",
      "source": [
        "# Carga del dataset\n",
        "dataset <- fread(dataset, stringsAsFactors = TRUE, header = TRUE)\n",
        "# Mr quedo con el mes real/observado de jul-21\n",
        "clase_real <- dataset[foto_mes == 202107, .(numero_de_cliente, clase_ternaria)]"
      ],
      "metadata": {
        "id": "wfmeiFtyjHDn"
      },
      "execution_count": null,
      "outputs": []
    },
    {
      "cell_type": "code",
      "source": [
        "#Cargo todas las predicciones\n",
        "datasets_prediccion <- list()\n",
        "for (i in seq(8000, 13000, by = 500)) {\n",
        "  datasets_prediccion[as.character(i)] <- paste0(directorio_prediccion, \"_\", i, \".csv\")\n",
        "}"
      ],
      "metadata": {
        "id": "lFAI-OrsjHDn"
      },
      "execution_count": null,
      "outputs": []
    },
    {
      "cell_type": "code",
      "source": [
        "# Carga de las predicciones según el punto de corte\n",
        "predicciones <- lapply(datasets_prediccion, function(file) fread(file, stringsAsFactors = TRUE, header = TRUE))\n",
        "# Filtrado de los casos donde Predicted es igual a 1 en cada conjunto de predicciones\n",
        "predicciones <- lapply(predicciones, function(pred) pred[Predicted == 1])\n",
        "# Merge la clase real para cada conjunto de predicciones\n",
        "predicciones <- lapply(predicciones, function(pred) merge(pred, clase_real, by = \"numero_de_cliente\"))"
      ],
      "metadata": {
        "id": "Kr3Ba0hljHDn"
      },
      "execution_count": null,
      "outputs": []
    },
    {
      "cell_type": "code",
      "source": [
        "# Agregación de una columna de ganancias para cada conjunto de predicciones\n",
        "predicciones <- lapply(predicciones, function(pred) {\n",
        "  pred[, ganancia := ifelse(clase_ternaria == \"BAJA+2\", 273000, -7000)]\n",
        "})"
      ],
      "metadata": {
        "id": "B1QmZEfhjHDn"
      },
      "execution_count": null,
      "outputs": []
    },
    {
      "cell_type": "code",
      "source": [
        "# Cálculo de las sumas de ganancias para cada conjunto de predicciones\n",
        "sum_ganancias <- sapply(predicciones, function(pred) sum(pred$ganancia))"
      ],
      "metadata": {
        "id": "r-qzby5KjHDn"
      },
      "execution_count": null,
      "outputs": []
    },
    {
      "cell_type": "code",
      "source": [
        "# Creación de un data.table con las sumas de ganancias por corte\n",
        "experimento <- data.table(envios = as.numeric(names(sum_ganancias)), ganancia = sum_ganancias)\n",
        "\n",
        "# Creación de las carpetas donde se guardarán los resultados\n",
        "dir.create(\"./exp\", showWarnings = FALSE)\n",
        "dir.create(paste0(\"./exp/\", experimento), showWarnings = FALSE)\n",
        "# Cambio del directorio de trabajo al directorio del experimento\n",
        "setwd(paste0(\"./exp/\", experimento))\n"
      ],
      "metadata": {
        "id": "1Oqa4kGhjHDn"
      },
      "execution_count": null,
      "outputs": []
    },
    {
      "cell_type": "code",
      "source": [
        "# Guardar el data.table en un archivo CSV\n",
        "fwrite(experimento, file = paste0(experimento,\".csv\"), sep = \",\")"
      ],
      "metadata": {
        "id": "5zzRUH4mjHDo"
      },
      "execution_count": null,
      "outputs": []
    }
  ]
}