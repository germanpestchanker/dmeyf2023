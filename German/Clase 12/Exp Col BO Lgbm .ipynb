{
 "cells": [
  {
   "cell_type": "markdown",
   "metadata": {},
   "source": [
    "## Importación de Librerías"
   ]
  },
  {
   "cell_type": "markdown",
   "metadata": {},
   "source": [
    "Este script esta pensado para correr en Google Cloud\n",
    "- 8 vCPU\n",
    "- 128 GB memoria RAM\n",
    "\n",
    "- se entrena con clase_binaria2  POS =  { BAJA+1, BAJA+2 }\n",
    "- Optimizacion Bayesiana de hiperparametros de  lightgbm,"
   ]
  },
  {
   "cell_type": "markdown",
   "metadata": {},
   "source": [
    "# Borrar al terminar"
   ]
  },
  {
   "cell_type": "code",
   "execution_count": 1,
   "metadata": {
    "vscode": {
     "languageId": "r"
    }
   },
   "outputs": [
    {
     "data": {
      "text/html": [
       "<table class=\"dataframe\">\n",
       "<caption>A matrix: 2 × 6 of type dbl</caption>\n",
       "<thead>\n",
       "\t<tr><th></th><th scope=col>used</th><th scope=col>(Mb)</th><th scope=col>gc trigger</th><th scope=col>(Mb)</th><th scope=col>max used</th><th scope=col>(Mb)</th></tr>\n",
       "</thead>\n",
       "<tbody>\n",
       "\t<tr><th scope=row>Ncells</th><td> 631883</td><td>33.8</td><td>1412178</td><td>75.5</td><td> 987407</td><td>52.8</td></tr>\n",
       "\t<tr><th scope=row>Vcells</th><td>1170373</td><td> 9.0</td><td>8388608</td><td>64.0</td><td>1815603</td><td>13.9</td></tr>\n",
       "</tbody>\n",
       "</table>\n"
      ],
      "text/latex": [
       "A matrix: 2 × 6 of type dbl\n",
       "\\begin{tabular}{r|llllll}\n",
       "  & used & (Mb) & gc trigger & (Mb) & max used & (Mb)\\\\\n",
       "\\hline\n",
       "\tNcells &  631883 & 33.8 & 1412178 & 75.5 &  987407 & 52.8\\\\\n",
       "\tVcells & 1170373 &  9.0 & 8388608 & 64.0 & 1815603 & 13.9\\\\\n",
       "\\end{tabular}\n"
      ],
      "text/markdown": [
       "\n",
       "A matrix: 2 × 6 of type dbl\n",
       "\n",
       "| <!--/--> | used | (Mb) | gc trigger | (Mb) | max used | (Mb) |\n",
       "|---|---|---|---|---|---|---|\n",
       "| Ncells |  631883 | 33.8 | 1412178 | 75.5 |  987407 | 52.8 |\n",
       "| Vcells | 1170373 |  9.0 | 8388608 | 64.0 | 1815603 | 13.9 |\n",
       "\n"
      ],
      "text/plain": [
       "       used    (Mb) gc trigger (Mb) max used (Mb)\n",
       "Ncells  631883 33.8 1412178    75.5  987407  52.8\n",
       "Vcells 1170373  9.0 8388608    64.0 1815603  13.9"
      ]
     },
     "metadata": {},
     "output_type": "display_data"
    }
   ],
   "source": [
    "# limpio la memoria\n",
    "rm(list = ls()) # remove all objects\n",
    "gc() # garbage collection\n"
   ]
  },
  {
   "cell_type": "code",
   "execution_count": 2,
   "metadata": {
    "vscode": {
     "languageId": "r"
    }
   },
   "outputs": [
    {
     "name": "stderr",
     "output_type": "stream",
     "text": [
      "Loading required package: data.table\n",
      "\n",
      "Loading required package: rlist\n",
      "\n"
     ]
    }
   ],
   "source": [
    "require(\"data.table\")\n",
    "require(\"rlist\")\n"
   ]
  },
  {
   "cell_type": "code",
   "execution_count": 3,
   "metadata": {
    "vscode": {
     "languageId": "r"
    }
   },
   "outputs": [],
   "source": [
    "#Paso previo de transformar caracteres especiales\n",
    "# Carga el dataset desde el archivo CSV comprimido\n",
    "df <- read.csv(\"/home/germanpestchanker/buckets/b1/datasets/competencia_03_infla_ajustado_lags.csv.gz\")\n",
    "\n",
    "# Limpiar los nombres de las columnas\n",
    "colnames(df) <- gsub(\"[^A-Za-z0-9_]\", \"_\", colnames(df))\n",
    "\n",
    "write.csv(df, file = \"/home/germanpestchanker/buckets/b1/datasets/competencia_03_infla_ajustado_lags.csv.gz\", row.names = FALSE, quote = FALSE)\n"
   ]
  },
  {
   "cell_type": "markdown",
   "metadata": {},
   "source": [
    "# Semilla 1, base"
   ]
  },
  {
   "cell_type": "code",
   "execution_count": 4,
   "metadata": {
    "vscode": {
     "languageId": "r"
    }
   },
   "outputs": [
    {
     "data": {
      "text/html": [
       "<table class=\"dataframe\">\n",
       "<caption>A matrix: 2 × 6 of type dbl</caption>\n",
       "<thead>\n",
       "\t<tr><th></th><th scope=col>used</th><th scope=col>(Mb)</th><th scope=col>gc trigger</th><th scope=col>(Mb)</th><th scope=col>max used</th><th scope=col>(Mb)</th></tr>\n",
       "</thead>\n",
       "<tbody>\n",
       "\t<tr><th scope=row>Ncells</th><td>  663660</td><td> 35.5</td><td>  31281334</td><td> 1670.7</td><td>  22909774</td><td> 1223.6</td></tr>\n",
       "\t<tr><th scope=row>Vcells</th><td>17941311</td><td>136.9</td><td>5475926500</td><td>41778.1</td><td>6843588264</td><td>52212.5</td></tr>\n",
       "</tbody>\n",
       "</table>\n"
      ],
      "text/latex": [
       "A matrix: 2 × 6 of type dbl\n",
       "\\begin{tabular}{r|llllll}\n",
       "  & used & (Mb) & gc trigger & (Mb) & max used & (Mb)\\\\\n",
       "\\hline\n",
       "\tNcells &   663660 &  35.5 &   31281334 &  1670.7 &   22909774 &  1223.6\\\\\n",
       "\tVcells & 17941311 & 136.9 & 5475926500 & 41778.1 & 6843588264 & 52212.5\\\\\n",
       "\\end{tabular}\n"
      ],
      "text/markdown": [
       "\n",
       "A matrix: 2 × 6 of type dbl\n",
       "\n",
       "| <!--/--> | used | (Mb) | gc trigger | (Mb) | max used | (Mb) |\n",
       "|---|---|---|---|---|---|---|\n",
       "| Ncells |   663660 |  35.5 |   31281334 |  1670.7 |   22909774 |  1223.6 |\n",
       "| Vcells | 17941311 | 136.9 | 5475926500 | 41778.1 | 6843588264 | 52212.5 |\n",
       "\n"
      ],
      "text/plain": [
       "       used     (Mb)  gc trigger (Mb)    max used   (Mb)   \n",
       "Ncells   663660  35.5   31281334  1670.7   22909774  1223.6\n",
       "Vcells 17941311 136.9 5475926500 41778.1 6843588264 52212.5"
      ]
     },
     "metadata": {},
     "output_type": "display_data"
    }
   ],
   "source": [
    "# limpio la memoria\n",
    "rm(list = ls()) # remove all objects\n",
    "gc() # garbage collection"
   ]
  },
  {
   "cell_type": "code",
   "execution_count": 5,
   "metadata": {
    "vscode": {
     "languageId": "r"
    }
   },
   "outputs": [
    {
     "name": "stderr",
     "output_type": "stream",
     "text": [
      "Loading required package: lightgbm\n",
      "\n"
     ]
    }
   ],
   "source": [
    "require(\"data.table\")\n",
    "require(\"rlist\")\n",
    "require(\"lightgbm\")"
   ]
  },
  {
   "cell_type": "code",
   "execution_count": 6,
   "metadata": {
    "vscode": {
     "languageId": "r"
    }
   },
   "outputs": [
    {
     "name": "stderr",
     "output_type": "stream",
     "text": [
      "Loading required package: DiceKriging\n",
      "\n",
      "Loading required package: mlrMBO\n",
      "\n",
      "Loading required package: mlr\n",
      "\n",
      "Loading required package: ParamHelpers\n",
      "\n",
      "Warning message: 'mlr' is in 'maintenance-only' mode since July 2019.\n",
      "Future development will only happen in 'mlr3'\n",
      "(<https://mlr3.mlr-org.com>). Due to the focus on 'mlr3' there might be\n",
      "uncaught bugs meanwhile in {mlr} - please consider switching.\n",
      "\n",
      "Loading required package: smoof\n",
      "\n",
      "Loading required package: checkmate\n",
      "\n",
      "\n",
      "Attaching package: ‘checkmate’\n",
      "\n",
      "\n",
      "The following object is masked from ‘package:DiceKriging’:\n",
      "\n",
      "    checkNames\n",
      "\n",
      "\n"
     ]
    }
   ],
   "source": [
    "# paquetes necesarios para la Bayesian Optimization\n",
    "require(\"DiceKriging\")\n",
    "require(\"mlrMBO\")\n",
    "\n",
    "# para que se detenga ante el primer error\n",
    "# y muestre el stack de funciones invocadas\n",
    "options(error = function() {\n",
    "  traceback(20)\n",
    "  options(error = NULL)\n",
    "  stop(\"exiting after script error\")\n",
    "})"
   ]
  },
  {
   "cell_type": "markdown",
   "metadata": {},
   "source": [
    "## Definición de Parametros"
   ]
  },
  {
   "cell_type": "code",
   "execution_count": 7,
   "metadata": {
    "vscode": {
     "languageId": "r"
    }
   },
   "outputs": [],
   "source": [
    "# defino los parametros de la corrida, en una lista, la variable global  PARAM\n",
    "#  muy pronto esto se leera desde un archivo formato .yaml\n",
    "PARAM <- list()\n",
    "\n",
    "PARAM$experimento <- \"HT8230 (Clase 12, Base Sem1)\"\n",
    "\n",
    "PARAM$input$dataset <- \"datasets/competencia_03_base_lags.csv.gz\"\n",
    "\n",
    "# los meses en los que vamos a entrenar\n",
    "#  mucha magia emerger de esta eleccion\n",
    "PARAM$input$testing <- c(202107) # Último mes, lo más cercano al 202109 de kaggle\n",
    "PARAM$input$validation <- c(202106)\n",
    "PARAM$input$training <- c(202105, 202104, 202103, 202102, 202101,202012) # 6 meses de entrenamiento\t\n",
    "\n",
    "# un undersampling de 0.1  toma solo el 10% de los CONTINUA\n",
    "PARAM$trainingstrategy$undersampling <- 1.0\n",
    "PARAM$trainingstrategy$semilla_azar <- c(279511, 279523, 279541, 279551, 279571)  # Aqui poner su  primer  semilla/ pongo todas mis semillas\n",
    "\n",
    "PARAM$hyperparametertuning$POS_ganancia <- 273000\n",
    "PARAM$hyperparametertuning$NEG_ganancia <- -7000\n",
    "\n",
    "# Aqui va semilla\n",
    "PARAM$lgb_semilla <- 279511"
   ]
  },
  {
   "cell_type": "code",
   "execution_count": 8,
   "metadata": {
    "vscode": {
     "languageId": "r"
    }
   },
   "outputs": [],
   "source": [
    "# Hiperparametros FIJOS de  lightgbm\n",
    "PARAM$lgb_basicos <- list(\n",
    "  boosting = \"gbdt\", # puede ir  dart  , ni pruebe random_forest\n",
    "  objective = \"binary\",\n",
    "  metric = \"custom\",\n",
    "  first_metric_only = TRUE,\n",
    "  boost_from_average = TRUE,\n",
    "  feature_pre_filter = FALSE,\n",
    "  force_row_wise = TRUE, # para reducir warnings\n",
    "  verbosity = -100,\n",
    "  max_depth = -1L, # -1 significa no limitar,  por ahora lo dejo fijo\n",
    "  min_gain_to_split = 0.0, # min_gain_to_split >= 0.0\n",
    "  min_sum_hessian_in_leaf = 0.001, #  min_sum_hessian_in_leaf >= 0.0\n",
    "  lambda_l1 = 0.0, # lambda_l1 >= 0.0\n",
    "  lambda_l2 = 0.0, # lambda_l2 >= 0.0\n",
    "  max_bin = 31L, # lo debo dejar fijo, no participa de la BO\n",
    "  num_iterations = 9999, # un numero muy grande, lo limita early_stopping_rounds\n",
    "\n",
    "  bagging_fraction = 1.0, # 0.0 < bagging_fraction <= 1.0\n",
    "  pos_bagging_fraction = 1.0, # 0.0 < pos_bagging_fraction <= 1.0\n",
    "  neg_bagging_fraction = 1.0, # 0.0 < neg_bagging_fraction <= 1.0\n",
    "  is_unbalance = FALSE, #\n",
    "  scale_pos_weight = 1.0, # scale_pos_weight > 0.0\n",
    "\n",
    "  drop_rate = 0.1, # 0.0 < neg_bagging_fraction <= 1.0\n",
    "  max_drop = 50, # <=0 means no limit\n",
    "  skip_drop = 0.5, # 0.0 <= skip_drop <= 1.0\n",
    "\n",
    "  extra_trees = TRUE, # Magic Sauce\n",
    "\n",
    "  seed = PARAM$lgb_semilla\n",
    ")"
   ]
  },
  {
   "cell_type": "code",
   "execution_count": 9,
   "metadata": {
    "vscode": {
     "languageId": "r"
    }
   },
   "outputs": [],
   "source": [
    "# Aqui se cargan los hiperparametros que se optimizan\n",
    "#  en la Bayesian Optimization\n",
    "PARAM$bo_lgb <- makeParamSet(\n",
    "  makeNumericParam(\"learning_rate\", lower = 0.02, upper = 0.3),\n",
    "  makeNumericParam(\"feature_fraction\", lower = 0.01, upper = 1.0),\n",
    "  makeIntegerParam(\"num_leaves\", lower = 8L, upper = 1024L),\n",
    "  makeIntegerParam(\"min_data_in_leaf\", lower = 100L, upper = 50000L)\n",
    ")\n",
    "\n",
    "# si usted es ambicioso, y tiene paciencia, podria subir este valor a 100\n",
    "PARAM$bo_iteraciones <- 50 # iteraciones de la Optimizacion Bayesiana"
   ]
  },
  {
   "cell_type": "code",
   "execution_count": 10,
   "metadata": {
    "vscode": {
     "languageId": "r"
    }
   },
   "outputs": [],
   "source": [
    "# graba a un archivo los componentes de lista\n",
    "# para el primer registro, escribe antes los titulos\n",
    "\n",
    "loguear <- function(\n",
    "    reg, arch = NA, folder = \"./exp/\",\n",
    "    ext = \".txt\", verbose = TRUE) {\n",
    "  archivo <- arch\n",
    "  if (is.na(arch)) archivo <- paste0(folder, substitute(reg), ext)\n",
    "\n",
    "  if (!file.exists(archivo)) # Escribo los titulos\n",
    "    {\n",
    "      linea <- paste0(\n",
    "        \"fecha\\t\",\n",
    "        paste(list.names(reg), collapse = \"\\t\"), \"\\n\"\n",
    "      )\n",
    "\n",
    "      cat(linea, file = archivo)\n",
    "    }\n",
    "\n",
    "  linea <- paste0(\n",
    "    format(Sys.time(), \"%Y%m%d %H%M%S\"), \"\\t\", # la fecha y hora\n",
    "    gsub(\", \", \"\\t\", toString(reg)), \"\\n\"\n",
    "  )\n",
    "\n",
    "  cat(linea, file = archivo, append = TRUE) # grabo al archivo\n",
    "\n",
    "  if (verbose) cat(linea) # imprimo por pantalla\n",
    "}"
   ]
  },
  {
   "cell_type": "code",
   "execution_count": 11,
   "metadata": {
    "vscode": {
     "languageId": "r"
    }
   },
   "outputs": [],
   "source": [
    "#------------------------------------------------------------------------------\n",
    "GLOBAL_arbol <- 0L\n",
    "GLOBAL_gan_max <- -Inf\n",
    "vcant_optima <- c()\n",
    "\n",
    "fganancia_lgbm_meseta <- function(probs, datos) {\n",
    "  vlabels <- get_field(datos, \"label\")\n",
    "  vpesos <- get_field(datos, \"weight\")\n",
    "\n",
    "\n",
    "  GLOBAL_arbol <<- GLOBAL_arbol + 1\n",
    "  tbl <- as.data.table(list(\n",
    "    \"prob\" = probs,\n",
    "    \"gan\" = ifelse(vlabels == 1 & vpesos > 1,\n",
    "      PARAM$hyperparametertuning$POS_ganancia,\n",
    "      PARAM$hyperparametertuning$NEG_ganancia  )\n",
    "  ))\n",
    "\n",
    "  setorder(tbl, -prob)\n",
    "  tbl[, posicion := .I]\n",
    "  tbl[, gan_acum := cumsum(gan)]\n",
    "\n",
    "  tbl[, gan_suavizada :=\n",
    "    frollmean(\n",
    "      x = gan_acum, n = 2001, align = \"center\",\n",
    "      na.rm = TRUE, hasNA = TRUE\n",
    "    )]\n",
    "\n",
    "  gan <- tbl[, max(gan_suavizada, na.rm = TRUE)]\n",
    "\n",
    "\n",
    "  pos <- which.max(tbl[, gan_suavizada])\n",
    "  vcant_optima <<- c(vcant_optima, pos)\n",
    "\n",
    "  if (GLOBAL_arbol %% 10 == 0) {\n",
    "    if (gan > GLOBAL_gan_max) GLOBAL_gan_max <<- gan\n",
    "\n",
    "    cat(\"\\r\")\n",
    "    cat(\n",
    "      \"Validate \", GLOBAL_iteracion, \" \", \" \",\n",
    "      GLOBAL_arbol, \"  \", gan, \"   \", GLOBAL_gan_max, \"   \"\n",
    "    )\n",
    "  }\n",
    "\n",
    "\n",
    "  return(list(\n",
    "    \"name\" = \"ganancia\",\n",
    "    \"value\" = gan,\n",
    "    \"higher_better\" = TRUE\n",
    "  ))\n",
    "}"
   ]
  },
  {
   "cell_type": "code",
   "execution_count": 12,
   "metadata": {
    "vscode": {
     "languageId": "r"
    }
   },
   "outputs": [],
   "source": [
    "#------------------------------------------------------------------------------\n",
    "\n",
    "EstimarGanancia_lightgbm <- function(x) {\n",
    "  gc()\n",
    "  GLOBAL_iteracion <<- GLOBAL_iteracion + 1L\n",
    "\n",
    "  # hago la union de los parametros basicos y los moviles que vienen en x\n",
    "  param_completo <- c(PARAM$lgb_basicos, x)\n",
    "\n",
    "  param_completo$early_stopping_rounds <-\n",
    "    as.integer(400 + 4 / param_completo$learning_rate)\n",
    "\n",
    "  GLOBAL_arbol <<- 0L\n",
    "  GLOBAL_gan_max <<- -Inf\n",
    "  vcant_optima <<- c()\n",
    "  set.seed(PARAM$lgb_semilla, kind = \"L'Ecuyer-CMRG\")\n",
    "  modelo_train <- lgb.train(\n",
    "    data = dtrain,\n",
    "    valids = list(valid = dvalidate),\n",
    "    eval = fganancia_lgbm_meseta,\n",
    "    param = param_completo,\n",
    "    verbose = -100\n",
    "  )\n",
    "\n",
    "  cat(\"\\n\")\n",
    "\n",
    "  cant_corte <- vcant_optima[modelo_train$best_iter]\n",
    "\n",
    "  # aplico el modelo a testing y calculo la ganancia\n",
    "  prediccion <- predict(\n",
    "    modelo_train,\n",
    "    data.matrix(dataset_test[, campos_buenos, with = FALSE])\n",
    "  )\n",
    "\n",
    "  tbl <- copy(dataset_test[, list(\"gan\" = ifelse(clase_ternaria == \"BAJA+2\",\n",
    "    PARAM$hyperparametertuning$POS_ganancia, \n",
    "    PARAM$hyperparametertuning$NEG_ganancia))])\n",
    "\n",
    "  tbl[, prob := prediccion]\n",
    "  setorder(tbl, -prob)\n",
    "  tbl[, gan_acum := cumsum(gan)]\n",
    "  tbl[, gan_suavizada := frollmean(\n",
    "    x = gan_acum, n = 2001,\n",
    "    align = \"center\", na.rm = TRUE, hasNA = TRUE\n",
    "  )]\n",
    "\n",
    "\n",
    "  ganancia_test <- tbl[, max(gan_suavizada, na.rm = TRUE)]\n",
    "\n",
    "  cantidad_test_normalizada <- which.max(tbl[, gan_suavizada])\n",
    "\n",
    "  rm(tbl)\n",
    "  gc()\n",
    "\n",
    "  ganancia_test_normalizada <- ganancia_test\n",
    "\n",
    "\n",
    "  # voy grabando las mejores column importance\n",
    "  if (ganancia_test_normalizada > GLOBAL_gananciamax) {\n",
    "    GLOBAL_gananciamax <<- ganancia_test_normalizada\n",
    "    tb_importancia <- as.data.table(lgb.importance(modelo_train))\n",
    "\n",
    "    fwrite(tb_importancia,\n",
    "      file = paste0(\"impo_\", sprintf(\"%03d\", GLOBAL_iteracion), \".txt\"),\n",
    "      sep = \"\\t\"\n",
    "    )\n",
    "\n",
    "    rm(tb_importancia)\n",
    "  }\n",
    "\n",
    "\n",
    "  # logueo final\n",
    "  ds <- list(\"cols\" = ncol(dtrain), \"rows\" = nrow(dtrain))\n",
    "  xx <- c(ds, copy(param_completo))\n",
    "\n",
    "  xx$early_stopping_rounds <- NULL\n",
    "  xx$num_iterations <- modelo_train$best_iter\n",
    "  xx$estimulos <- cantidad_test_normalizada\n",
    "  xx$ganancia <- ganancia_test_normalizada\n",
    "  xx$iteracion_bayesiana <- GLOBAL_iteracion\n",
    "\n",
    "  loguear(xx, arch = \"BO_log.txt\")\n",
    "\n",
    "  set.seed(PARAM$lgb_semilla, kind = \"L'Ecuyer-CMRG\")\n",
    "  return(ganancia_test_normalizada)\n",
    "}"
   ]
  },
  {
   "cell_type": "markdown",
   "metadata": {},
   "source": [
    "## Aquí empieza el programa"
   ]
  },
  {
   "cell_type": "code",
   "execution_count": 13,
   "metadata": {
    "vscode": {
     "languageId": "r"
    }
   },
   "outputs": [],
   "source": [
    "# Aqui empieza el programa\n",
    "\n",
    "# Aqui se debe poner la carpeta de la computadora local\n",
    "setwd(\"~/buckets/b1/\") # Establezco el Working Directory\n",
    "\n",
    "# cargo el dataset donde voy a entrenar el modelo\n",
    "dataset <- fread(PARAM$input$dataset)"
   ]
  },
  {
   "cell_type": "code",
   "execution_count": 14,
   "metadata": {
    "vscode": {
     "languageId": "r"
    }
   },
   "outputs": [],
   "source": [
    "# creo la carpeta donde va el experimento\n",
    "dir.create(\"./exp/\", showWarnings = FALSE)\n",
    "dir.create(paste0(\"./exp/\", PARAM$experimento, \"/\"), showWarnings = FALSE)\n",
    "\n",
    "# Establezco el Working Directory DEL EXPERIMENTO\n",
    "setwd(paste0(\"./exp/\", PARAM$experimento, \"/\"))\n",
    "\n",
    "# en estos archivos quedan los resultados\n",
    "kbayesiana <- paste0(PARAM$experimento, \".RDATA\")\n",
    "klog <- paste0(PARAM$experimento, \".txt\")\n"
   ]
  },
  {
   "cell_type": "code",
   "execution_count": 15,
   "metadata": {
    "vscode": {
     "languageId": "r"
    }
   },
   "outputs": [],
   "source": [
    "# Catastrophe Analysis  -------------------------------------------------------\n",
    "# deben ir cosas de este estilo\n",
    "#   dataset[foto_mes == 202006, active_quarter := NA]\n",
    "\n",
    "# Data Drifting\n",
    "# por ahora, no hago nada\n",
    "\n",
    "\n",
    "# Feature Engineering Historico  ----------------------------------------------\n",
    "#   aqui deben calcularse los  lags y  lag_delta\n",
    "#   Sin lags no hay paraiso !  corta la bocha"
   ]
  },
  {
   "cell_type": "code",
   "execution_count": null,
   "metadata": {
    "vscode": {
     "languageId": "r"
    }
   },
   "outputs": [],
   "source": []
  },
  {
   "cell_type": "code",
   "execution_count": 16,
   "metadata": {
    "vscode": {
     "languageId": "r"
    }
   },
   "outputs": [],
   "source": [
    "# ahora SI comienza la optimizacion Bayesiana\n",
    "\n",
    "GLOBAL_iteracion <- 0 # inicializo la variable global\n",
    "GLOBAL_gananciamax <- -1 # inicializo la variable global\n",
    "\n",
    "# si ya existe el archivo log, traigo hasta donde llegue\n",
    "if (file.exists(klog)) {\n",
    "  tabla_log <- fread(klog)\n",
    "  GLOBAL_iteracion <- nrow(tabla_log)\n",
    "  GLOBAL_gananciamax <- tabla_log[, max(ganancia)]\n",
    "}\n"
   ]
  },
  {
   "cell_type": "code",
   "execution_count": 17,
   "metadata": {
    "vscode": {
     "languageId": "r"
    }
   },
   "outputs": [
    {
     "data": {
      "text/html": [
       "<table class=\"dataframe\">\n",
       "<caption>A data.table: 4893028 × 603</caption>\n",
       "<thead>\n",
       "\t<tr><th scope=col>numero_de_cliente</th><th scope=col>foto_mes</th><th scope=col>active_quarter</th><th scope=col>cliente_vip</th><th scope=col>internet</th><th scope=col>cliente_edad</th><th scope=col>cliente_antiguedad</th><th scope=col>mrentabilidad</th><th scope=col>mrentabilidad_annual</th><th scope=col>mcomisiones</th><th scope=col>⋯</th><th scope=col>lag_6_Visa_mconsumototal</th><th scope=col>lag_1_Visa_cconsumos</th><th scope=col>lag_3_Visa_cconsumos</th><th scope=col>lag_6_Visa_cconsumos</th><th scope=col>lag_1_Visa_cadelantosefectivo</th><th scope=col>lag_3_Visa_cadelantosefectivo</th><th scope=col>lag_6_Visa_cadelantosefectivo</th><th scope=col>lag_1_Visa_mpagominimo</th><th scope=col>lag_3_Visa_mpagominimo</th><th scope=col>lag_6_Visa_mpagominimo</th></tr>\n",
       "\t<tr><th scope=col>&lt;int&gt;</th><th scope=col>&lt;int&gt;</th><th scope=col>&lt;int&gt;</th><th scope=col>&lt;int&gt;</th><th scope=col>&lt;int&gt;</th><th scope=col>&lt;int&gt;</th><th scope=col>&lt;int&gt;</th><th scope=col>&lt;dbl&gt;</th><th scope=col>&lt;dbl&gt;</th><th scope=col>&lt;dbl&gt;</th><th scope=col>⋯</th><th scope=col>&lt;dbl&gt;</th><th scope=col>&lt;int&gt;</th><th scope=col>&lt;int&gt;</th><th scope=col>&lt;int&gt;</th><th scope=col>&lt;int&gt;</th><th scope=col>&lt;int&gt;</th><th scope=col>&lt;int&gt;</th><th scope=col>&lt;dbl&gt;</th><th scope=col>&lt;dbl&gt;</th><th scope=col>&lt;dbl&gt;</th></tr>\n",
       "</thead>\n",
       "<tbody>\n",
       "\t<tr><td>29188883</td><td>201901</td><td>1</td><td>0</td><td>1</td><td>64</td><td>296</td><td>64862.09</td><td>459723.2</td><td> 988.28</td><td>⋯</td><td>     NA</td><td>NA</td><td>NA</td><td>NA</td><td>NA</td><td>NA</td><td>NA</td><td>    NA</td><td>    NA</td><td>    NA</td></tr>\n",
       "\t<tr><td>29188883</td><td>201902</td><td>1</td><td>0</td><td>1</td><td>64</td><td>297</td><td>65846.80</td><td>500339.5</td><td> 985.74</td><td>⋯</td><td>     NA</td><td> 1</td><td>NA</td><td>NA</td><td> 0</td><td>NA</td><td>NA</td><td> 58.65</td><td>    NA</td><td>    NA</td></tr>\n",
       "\t<tr><td>29188883</td><td>201903</td><td>1</td><td>0</td><td>1</td><td>64</td><td>298</td><td>78540.39</td><td>550855.0</td><td>1296.04</td><td>⋯</td><td>     NA</td><td> 1</td><td>NA</td><td>NA</td><td> 0</td><td>NA</td><td>NA</td><td> 58.65</td><td>    NA</td><td>    NA</td></tr>\n",
       "\t<tr><td>29188883</td><td>201904</td><td>1</td><td>0</td><td>1</td><td>64</td><td>299</td><td>75803.11</td><td>599562.7</td><td>1270.45</td><td>⋯</td><td>     NA</td><td> 1</td><td> 1</td><td>NA</td><td> 0</td><td> 0</td><td>NA</td><td> 70.38</td><td> 58.65</td><td>    NA</td></tr>\n",
       "\t<tr><td>29188883</td><td>201905</td><td>1</td><td>0</td><td>1</td><td>64</td><td>300</td><td>    0.00</td><td>     0.0</td><td>   0.00</td><td>⋯</td><td>     NA</td><td> 1</td><td> 1</td><td>NA</td><td> 0</td><td> 0</td><td>NA</td><td> 70.38</td><td> 58.65</td><td>    NA</td></tr>\n",
       "\t<tr><td>29188883</td><td>201906</td><td>1</td><td>0</td><td>1</td><td>64</td><td>301</td><td>69725.29</td><td>681452.9</td><td>1280.28</td><td>⋯</td><td>     NA</td><td> 1</td><td> 1</td><td>NA</td><td> 0</td><td> 0</td><td>NA</td><td> 70.38</td><td> 70.38</td><td>    NA</td></tr>\n",
       "\t<tr><td>29188883</td><td>201907</td><td>1</td><td>0</td><td>1</td><td>64</td><td>302</td><td>68145.47</td><td>710943.3</td><td>1312.07</td><td>⋯</td><td>1102.50</td><td> 1</td><td> 1</td><td> 1</td><td> 0</td><td> 0</td><td> 0</td><td> 82.11</td><td> 70.38</td><td> 58.65</td></tr>\n",
       "\t<tr><td>29188883</td><td>201908</td><td>1</td><td>0</td><td>1</td><td>64</td><td>303</td><td>66658.18</td><td>739048.6</td><td>1466.40</td><td>⋯</td><td>1085.02</td><td> 1</td><td> 1</td><td> 1</td><td> 0</td><td> 0</td><td> 0</td><td> 70.38</td><td> 70.38</td><td> 58.65</td></tr>\n",
       "\t<tr><td>29188883</td><td>201909</td><td>1</td><td>0</td><td>1</td><td>64</td><td>304</td><td>62359.16</td><td>754323.9</td><td>1490.15</td><td>⋯</td><td>1324.31</td><td> 1</td><td> 1</td><td> 1</td><td> 0</td><td> 0</td><td> 0</td><td> 82.11</td><td> 82.11</td><td> 70.38</td></tr>\n",
       "\t<tr><td>29188883</td><td>201910</td><td>1</td><td>0</td><td>1</td><td>64</td><td>305</td><td>    0.00</td><td>     0.0</td><td>   0.00</td><td>⋯</td><td>1300.85</td><td> 1</td><td> 1</td><td> 1</td><td> 0</td><td> 0</td><td> 0</td><td> 93.84</td><td> 70.38</td><td> 70.38</td></tr>\n",
       "\t<tr><td>29188883</td><td>201911</td><td>1</td><td>0</td><td>1</td><td>64</td><td>306</td><td>46377.86</td><td>757484.6</td><td>1476.56</td><td>⋯</td><td>1364.19</td><td> 1</td><td> 1</td><td> 1</td><td> 0</td><td> 0</td><td> 0</td><td> 82.11</td><td> 82.11</td><td> 70.38</td></tr>\n",
       "\t<tr><td>29188883</td><td>201912</td><td>1</td><td>0</td><td>1</td><td>65</td><td>307</td><td>46752.34</td><td>765272.5</td><td>1506.26</td><td>⋯</td><td>1592.93</td><td> 1</td><td> 1</td><td> 1</td><td> 0</td><td> 0</td><td> 0</td><td> 35.19</td><td> 93.84</td><td> 82.11</td></tr>\n",
       "\t<tr><td>29188883</td><td>202001</td><td>1</td><td>0</td><td>1</td><td>65</td><td>308</td><td>51195.45</td><td>751605.9</td><td>1832.97</td><td>⋯</td><td>1364.19</td><td> 1</td><td> 1</td><td> 1</td><td> 0</td><td> 0</td><td> 0</td><td> 93.84</td><td> 82.11</td><td> 70.38</td></tr>\n",
       "\t<tr><td>29188883</td><td>202002</td><td>1</td><td>0</td><td>1</td><td>65</td><td>309</td><td>46154.87</td><td>731914.0</td><td>1826.65</td><td>⋯</td><td>1521.38</td><td> 1</td><td> 1</td><td> 1</td><td> 0</td><td> 0</td><td> 0</td><td>  0.00</td><td> 35.19</td><td> 82.11</td></tr>\n",
       "\t<tr><td>29188883</td><td>202003</td><td>1</td><td>0</td><td>1</td><td>65</td><td>310</td><td>49214.16</td><td>702587.8</td><td>1875.27</td><td>⋯</td><td>1683.25</td><td> 1</td><td> 1</td><td> 1</td><td> 0</td><td> 0</td><td> 0</td><td> 93.84</td><td> 93.84</td><td> 93.84</td></tr>\n",
       "\t<tr><td>29188883</td><td>202004</td><td>1</td><td>0</td><td>1</td><td>65</td><td>311</td><td>41622.82</td><td>668407.4</td><td>1828.91</td><td>⋯</td><td>1554.22</td><td> 1</td><td> 1</td><td> 1</td><td> 0</td><td> 0</td><td> 0</td><td> 93.84</td><td>  0.00</td><td> 82.11</td></tr>\n",
       "\t<tr><td>29188883</td><td>202005</td><td>1</td><td>0</td><td>1</td><td>65</td><td>312</td><td>43221.27</td><td>634903.2</td><td>1867.66</td><td>⋯</td><td>1870.93</td><td> 1</td><td> 1</td><td> 1</td><td> 0</td><td> 0</td><td> 0</td><td> 93.84</td><td> 93.84</td><td> 35.19</td></tr>\n",
       "\t<tr><td>29188883</td><td>202006</td><td>0</td><td>0</td><td>0</td><td>65</td><td>313</td><td>    0.00</td><td>     0.0</td><td>   0.00</td><td>⋯</td><td>1834.57</td><td> 1</td><td> 1</td><td> 1</td><td> 0</td><td> 0</td><td> 0</td><td>129.03</td><td> 93.84</td><td> 93.84</td></tr>\n",
       "\t<tr><td>29188883</td><td>202007</td><td>1</td><td>0</td><td>1</td><td>65</td><td>314</td><td>44690.37</td><td>584074.3</td><td>1871.04</td><td>⋯</td><td>1658.62</td><td> 1</td><td> 1</td><td> 1</td><td> 0</td><td> 0</td><td> 0</td><td>105.57</td><td> 93.84</td><td>  0.00</td></tr>\n",
       "\t<tr><td>29188883</td><td>202008</td><td>1</td><td>0</td><td>1</td><td>65</td><td>315</td><td>44696.16</td><td>562112.3</td><td>1869.56</td><td>⋯</td><td>1693.81</td><td> 1</td><td> 1</td><td> 1</td><td> 0</td><td> 0</td><td> 0</td><td>117.30</td><td>129.03</td><td> 93.84</td></tr>\n",
       "\t<tr><td>29188883</td><td>202009</td><td>1</td><td>0</td><td>1</td><td>65</td><td>316</td><td>43476.30</td><td>543229.4</td><td>1859.85</td><td>⋯</td><td>1713.75</td><td> 1</td><td> 1</td><td> 1</td><td> 0</td><td> 0</td><td> 0</td><td>129.03</td><td>105.57</td><td> 93.84</td></tr>\n",
       "\t<tr><td>29188883</td><td>202010</td><td>1</td><td>0</td><td>0</td><td>65</td><td>317</td><td>46072.54</td><td>545825.6</td><td>1866.77</td><td>⋯</td><td>1826.36</td><td> 1</td><td> 1</td><td> 1</td><td> 0</td><td> 0</td><td> 0</td><td>117.30</td><td>117.30</td><td> 93.84</td></tr>\n",
       "\t<tr><td>29188883</td><td>202011</td><td>1</td><td>0</td><td>0</td><td>65</td><td>318</td><td>46179.64</td><td>545627.4</td><td>1853.83</td><td>⋯</td><td>2342.48</td><td> 1</td><td> 1</td><td> 1</td><td> 0</td><td> 0</td><td> 0</td><td>140.76</td><td>129.03</td><td>129.03</td></tr>\n",
       "\t<tr><td>29188883</td><td>202012</td><td>1</td><td>0</td><td>0</td><td>66</td><td>319</td><td>46508.31</td><td>545383.4</td><td>1840.35</td><td>⋯</td><td>1930.75</td><td> 1</td><td> 1</td><td> 1</td><td> 0</td><td> 0</td><td> 0</td><td>129.03</td><td>117.30</td><td>105.57</td></tr>\n",
       "\t<tr><td>29188883</td><td>202101</td><td>1</td><td>0</td><td>0</td><td>66</td><td>320</td><td>37999.47</td><td>532187.4</td><td>1902.48</td><td>⋯</td><td>2219.31</td><td> 1</td><td> 1</td><td> 1</td><td> 0</td><td> 0</td><td> 0</td><td>152.49</td><td>140.76</td><td>117.30</td></tr>\n",
       "\t<tr><td>29188883</td><td>202102</td><td>1</td><td>0</td><td>0</td><td>66</td><td>321</td><td>34293.96</td><td>520326.5</td><td>1870.19</td><td>⋯</td><td>2446.87</td><td> 1</td><td> 1</td><td> 1</td><td> 0</td><td> 0</td><td> 0</td><td>187.68</td><td>129.03</td><td>129.03</td></tr>\n",
       "\t<tr><td>29188883</td><td>202103</td><td>1</td><td>0</td><td>0</td><td>66</td><td>322</td><td>37358.00</td><td>508470.3</td><td>2441.65</td><td>⋯</td><td>2076.21</td><td> 1</td><td> 1</td><td> 1</td><td> 0</td><td> 0</td><td> 0</td><td>175.95</td><td>152.49</td><td>117.30</td></tr>\n",
       "\t<tr><td>29188883</td><td>202104</td><td>1</td><td>0</td><td>0</td><td>66</td><td>323</td><td>33686.53</td><td>500534.0</td><td> 168.98</td><td>⋯</td><td>2639.25</td><td> 1</td><td> 1</td><td> 1</td><td> 0</td><td> 0</td><td> 0</td><td>234.60</td><td>187.68</td><td>140.76</td></tr>\n",
       "\t<tr><td>29188883</td><td>202105</td><td>1</td><td>0</td><td>0</td><td>66</td><td>324</td><td>34570.46</td><td>491883.2</td><td> 186.96</td><td>⋯</td><td>2381.19</td><td> 1</td><td> 1</td><td> 1</td><td> 0</td><td> 0</td><td> 0</td><td>187.68</td><td>175.95</td><td>129.03</td></tr>\n",
       "\t<tr><td>29188883</td><td>202106</td><td>1</td><td>0</td><td>0</td><td>66</td><td>325</td><td>35838.57</td><td>485370.4</td><td>2435.79</td><td>⋯</td><td>2662.71</td><td> 1</td><td> 1</td><td> 1</td><td> 0</td><td> 0</td><td> 0</td><td>258.06</td><td>234.60</td><td>152.49</td></tr>\n",
       "\t<tr><td>⋮</td><td>⋮</td><td>⋮</td><td>⋮</td><td>⋮</td><td>⋮</td><td>⋮</td><td>⋮</td><td>⋮</td><td>⋮</td><td>⋱</td><td>⋮</td><td>⋮</td><td>⋮</td><td>⋮</td><td>⋮</td><td>⋮</td><td>⋮</td><td>⋮</td><td>⋮</td><td>⋮</td></tr>\n",
       "\t<tr><td>137415220</td><td>202101</td><td>1</td><td>0</td><td>0</td><td>35</td><td>58</td><td>3107.96</td><td>39771.67</td><td>1381.72</td><td>⋯</td><td>29729.40</td><td> 2</td><td> 6</td><td> 6</td><td> 0</td><td> 0</td><td> 0</td><td>   0.00</td><td>   0.00</td><td>1219.92</td></tr>\n",
       "\t<tr><td>137415220</td><td>202102</td><td>1</td><td>0</td><td>0</td><td>35</td><td>59</td><td>2744.45</td><td>36827.30</td><td>2790.54</td><td>⋯</td><td>11399.94</td><td> 3</td><td> 2</td><td> 3</td><td> 0</td><td> 0</td><td> 0</td><td>   0.00</td><td>   0.00</td><td>5372.34</td></tr>\n",
       "\t<tr><td>137415220</td><td>202103</td><td>1</td><td>0</td><td>0</td><td>35</td><td>60</td><td>3702.52</td><td>38017.79</td><td>1819.21</td><td>⋯</td><td>32792.84</td><td> 1</td><td> 2</td><td> 4</td><td> 0</td><td> 0</td><td> 0</td><td>   0.00</td><td>   0.00</td><td>   0.00</td></tr>\n",
       "\t<tr><td>137415220</td><td>202104</td><td>1</td><td>0</td><td>1</td><td>35</td><td>61</td><td>3794.69</td><td>40662.34</td><td>1637.75</td><td>⋯</td><td>23528.26</td><td> 2</td><td> 3</td><td> 6</td><td> 0</td><td> 0</td><td> 0</td><td>3706.68</td><td>   0.00</td><td>   0.00</td></tr>\n",
       "\t<tr><td>137415220</td><td>202105</td><td>1</td><td>0</td><td>0</td><td>35</td><td>62</td><td>3036.11</td><td>41259.10</td><td>1732.68</td><td>⋯</td><td> 4760.13</td><td> 0</td><td> 1</td><td> 2</td><td> 0</td><td> 0</td><td> 0</td><td>3214.02</td><td>   0.00</td><td>   0.00</td></tr>\n",
       "\t<tr><td>137415220</td><td>202106</td><td>1</td><td>0</td><td>0</td><td>35</td><td>63</td><td>3068.14</td><td>40713.05</td><td>1609.30</td><td>⋯</td><td> 4751.36</td><td> 1</td><td> 2</td><td> 2</td><td> 0</td><td> 0</td><td> 0</td><td>4187.61</td><td>3706.68</td><td>   0.00</td></tr>\n",
       "\t<tr><td>137415220</td><td>202107</td><td>1</td><td>0</td><td>0</td><td>35</td><td>64</td><td>3532.02</td><td>39046.56</td><td>2240.67</td><td>⋯</td><td>11601.12</td><td> 1</td><td> 0</td><td> 3</td><td> 0</td><td> 0</td><td> 0</td><td>   0.00</td><td>3214.02</td><td>   0.00</td></tr>\n",
       "\t<tr><td>137415220</td><td>202108</td><td>1</td><td>0</td><td>0</td><td>35</td><td>65</td><td>3257.39</td><td>38864.34</td><td>2710.67</td><td>⋯</td><td> 1058.04</td><td> 1</td><td> 1</td><td> 1</td><td> 0</td><td> 0</td><td> 0</td><td>4046.85</td><td>4187.61</td><td>   0.00</td></tr>\n",
       "\t<tr><td>137415220</td><td>202109</td><td>1</td><td>0</td><td>0</td><td>36</td><td>66</td><td>4155.10</td><td>38588.61</td><td>3847.78</td><td>⋯</td><td>20126.35</td><td> 1</td><td> 1</td><td> 2</td><td> 0</td><td> 0</td><td> 0</td><td>4046.85</td><td>   0.00</td><td>3706.68</td></tr>\n",
       "\t<tr><td>137437628</td><td>201906</td><td>1</td><td>0</td><td>1</td><td>39</td><td>38</td><td> 763.27</td><td> 7317.99</td><td> 101.99</td><td>⋯</td><td>      NA</td><td>NA</td><td>NA</td><td>NA</td><td>NA</td><td>NA</td><td>NA</td><td>     NA</td><td>     NA</td><td>     NA</td></tr>\n",
       "\t<tr><td>137437628</td><td>201907</td><td>1</td><td>0</td><td>1</td><td>39</td><td>39</td><td> 580.92</td><td> 7000.81</td><td>  -5.24</td><td>⋯</td><td>      NA</td><td> 5</td><td>NA</td><td>NA</td><td> 0</td><td>NA</td><td>NA</td><td>1161.27</td><td>     NA</td><td>     NA</td></tr>\n",
       "\t<tr><td>137437628</td><td>201908</td><td>1</td><td>0</td><td>1</td><td>39</td><td>40</td><td> 493.51</td><td> 6741.32</td><td> 304.21</td><td>⋯</td><td>      NA</td><td> 5</td><td>NA</td><td>NA</td><td> 0</td><td>NA</td><td>NA</td><td>1090.89</td><td>     NA</td><td>     NA</td></tr>\n",
       "\t<tr><td>137437628</td><td>201909</td><td>1</td><td>0</td><td>1</td><td>40</td><td>41</td><td> 272.89</td><td> 6411.55</td><td> -60.24</td><td>⋯</td><td>      NA</td><td> 5</td><td> 5</td><td>NA</td><td> 0</td><td> 0</td><td>NA</td><td>1067.43</td><td>1161.27</td><td>     NA</td></tr>\n",
       "\t<tr><td>137437628</td><td>201910</td><td>1</td><td>0</td><td>1</td><td>40</td><td>42</td><td>   0.00</td><td>    0.00</td><td>   0.00</td><td>⋯</td><td>      NA</td><td> 9</td><td> 5</td><td>NA</td><td> 0</td><td> 0</td><td>NA</td><td>1149.54</td><td>1090.89</td><td>     NA</td></tr>\n",
       "\t<tr><td>137437628</td><td>201911</td><td>1</td><td>0</td><td>1</td><td>40</td><td>43</td><td> 141.26</td><td> 5862.65</td><td> 120.12</td><td>⋯</td><td>      NA</td><td>11</td><td> 5</td><td>NA</td><td> 0</td><td> 0</td><td>NA</td><td>1219.92</td><td>1067.43</td><td>     NA</td></tr>\n",
       "\t<tr><td>137437628</td><td>201912</td><td>1</td><td>0</td><td>1</td><td>40</td><td>44</td><td> 279.69</td><td> 5308.98</td><td> 445.18</td><td>⋯</td><td> 4955.01</td><td>18</td><td> 9</td><td> 5</td><td> 0</td><td> 0</td><td> 0</td><td>1419.33</td><td>1149.54</td><td>1161.27</td></tr>\n",
       "\t<tr><td>137437628</td><td>202001</td><td>1</td><td>0</td><td>1</td><td>40</td><td>45</td><td> 715.43</td><td> 5179.74</td><td> 477.32</td><td>⋯</td><td> 2600.76</td><td>12</td><td>11</td><td> 5</td><td> 0</td><td> 0</td><td> 0</td><td>1818.15</td><td>1219.92</td><td>1090.89</td></tr>\n",
       "\t<tr><td>137437628</td><td>202002</td><td>1</td><td>0</td><td>1</td><td>40</td><td>46</td><td> 282.17</td><td> 5332.03</td><td> 343.43</td><td>⋯</td><td> 5347.33</td><td>12</td><td>18</td><td> 5</td><td> 0</td><td> 0</td><td> 0</td><td>1888.53</td><td>1419.33</td><td>1067.43</td></tr>\n",
       "\t<tr><td>137437628</td><td>202003</td><td>1</td><td>0</td><td>1</td><td>40</td><td>47</td><td> 427.11</td><td> 5460.56</td><td> 224.25</td><td>⋯</td><td> 8885.24</td><td>17</td><td>12</td><td> 9</td><td> 0</td><td> 0</td><td> 0</td><td>1677.39</td><td>1818.15</td><td>1149.54</td></tr>\n",
       "\t<tr><td>137437628</td><td>202004</td><td>1</td><td>0</td><td>1</td><td>40</td><td>48</td><td>1086.08</td><td> 6074.49</td><td> 680.96</td><td>⋯</td><td> 6863.02</td><td>15</td><td>12</td><td>11</td><td> 0</td><td> 0</td><td> 0</td><td>1806.42</td><td>1888.53</td><td>1219.92</td></tr>\n",
       "\t<tr><td>137437628</td><td>202005</td><td>1</td><td>0</td><td>1</td><td>40</td><td>49</td><td>1484.36</td><td> 6868.50</td><td> 538.11</td><td>⋯</td><td> 7825.00</td><td>20</td><td>17</td><td>18</td><td> 0</td><td> 0</td><td> 0</td><td>2451.57</td><td>1677.39</td><td>1419.33</td></tr>\n",
       "\t<tr><td>137437628</td><td>202006</td><td>0</td><td>0</td><td>0</td><td>40</td><td>50</td><td>   0.00</td><td>    0.00</td><td>   0.00</td><td>⋯</td><td> 7743.91</td><td>15</td><td>15</td><td>12</td><td> 0</td><td> 0</td><td> 0</td><td>2005.83</td><td>1806.42</td><td>1818.15</td></tr>\n",
       "\t<tr><td>137437628</td><td>202007</td><td>1</td><td>0</td><td>1</td><td>40</td><td>51</td><td>1150.78</td><td> 7762.10</td><td> 569.83</td><td>⋯</td><td> 9892.33</td><td>22</td><td>20</td><td>12</td><td> 0</td><td> 0</td><td> 0</td><td>2111.40</td><td>2451.57</td><td>1888.53</td></tr>\n",
       "\t<tr><td>137437628</td><td>202008</td><td>1</td><td>0</td><td>1</td><td>40</td><td>52</td><td> 887.63</td><td> 8156.22</td><td> 715.24</td><td>⋯</td><td> 5992.46</td><td>13</td><td>15</td><td>17</td><td> 0</td><td> 0</td><td> 0</td><td>1841.61</td><td>2005.83</td><td>1677.39</td></tr>\n",
       "\t<tr><td>137437628</td><td>202009</td><td>1</td><td>0</td><td>1</td><td>41</td><td>53</td><td> 350.35</td><td> 8233.67</td><td> 442.10</td><td>⋯</td><td>10874.67</td><td>13</td><td>22</td><td>15</td><td> 0</td><td> 0</td><td> 0</td><td>1313.76</td><td>2111.40</td><td>1806.42</td></tr>\n",
       "\t<tr><td>137437628</td><td>202010</td><td>1</td><td>0</td><td>0</td><td>41</td><td>54</td><td> 226.91</td><td> 8118.82</td><td> 171.86</td><td>⋯</td><td>18482.96</td><td>11</td><td>13</td><td>20</td><td> 0</td><td> 0</td><td> 0</td><td> 914.94</td><td>1841.61</td><td>2451.57</td></tr>\n",
       "\t<tr><td>137437628</td><td>202011</td><td>1</td><td>0</td><td>1</td><td>41</td><td>55</td><td> 822.44</td><td> 8800.01</td><td> 621.97</td><td>⋯</td><td>10529.45</td><td>12</td><td>13</td><td>15</td><td> 0</td><td> 0</td><td> 0</td><td>1431.06</td><td>1313.76</td><td>2005.83</td></tr>\n",
       "\t<tr><td>137437628</td><td>202012</td><td>1</td><td>0</td><td>0</td><td>41</td><td>56</td><td>-505.59</td><td> 8014.72</td><td>-400.91</td><td>⋯</td><td>13610.16</td><td>11</td><td>11</td><td>22</td><td> 0</td><td> 0</td><td> 0</td><td>1724.31</td><td> 914.94</td><td>2111.40</td></tr>\n",
       "\t<tr><td>137437628</td><td>202101</td><td>1</td><td>0</td><td>0</td><td>41</td><td>57</td><td> 218.52</td><td> 7517.81</td><td> 419.00</td><td>⋯</td><td>13481.08</td><td>12</td><td>12</td><td>13</td><td> 0</td><td> 0</td><td> 0</td><td>1219.92</td><td>1431.06</td><td>1841.61</td></tr>\n",
       "\t<tr><td>137437628</td><td>202102</td><td>1</td><td>0</td><td>0</td><td>41</td><td>58</td><td> 143.01</td><td> 7378.65</td><td>-291.25</td><td>⋯</td><td> 9048.25</td><td>26</td><td>11</td><td>13</td><td> 0</td><td> 0</td><td> 0</td><td> 762.45</td><td>1724.31</td><td>1313.76</td></tr>\n",
       "</tbody>\n",
       "</table>\n"
      ],
      "text/latex": [
       "A data.table: 4893028 × 603\n",
       "\\begin{tabular}{lllllllllllllllllllll}\n",
       " numero\\_de\\_cliente & foto\\_mes & active\\_quarter & cliente\\_vip & internet & cliente\\_edad & cliente\\_antiguedad & mrentabilidad & mrentabilidad\\_annual & mcomisiones & ⋯ & lag\\_6\\_Visa\\_mconsumototal & lag\\_1\\_Visa\\_cconsumos & lag\\_3\\_Visa\\_cconsumos & lag\\_6\\_Visa\\_cconsumos & lag\\_1\\_Visa\\_cadelantosefectivo & lag\\_3\\_Visa\\_cadelantosefectivo & lag\\_6\\_Visa\\_cadelantosefectivo & lag\\_1\\_Visa\\_mpagominimo & lag\\_3\\_Visa\\_mpagominimo & lag\\_6\\_Visa\\_mpagominimo\\\\\n",
       " <int> & <int> & <int> & <int> & <int> & <int> & <int> & <dbl> & <dbl> & <dbl> & ⋯ & <dbl> & <int> & <int> & <int> & <int> & <int> & <int> & <dbl> & <dbl> & <dbl>\\\\\n",
       "\\hline\n",
       "\t 29188883 & 201901 & 1 & 0 & 1 & 64 & 296 & 64862.09 & 459723.2 &  988.28 & ⋯ &      NA & NA & NA & NA & NA & NA & NA &     NA &     NA &     NA\\\\\n",
       "\t 29188883 & 201902 & 1 & 0 & 1 & 64 & 297 & 65846.80 & 500339.5 &  985.74 & ⋯ &      NA &  1 & NA & NA &  0 & NA & NA &  58.65 &     NA &     NA\\\\\n",
       "\t 29188883 & 201903 & 1 & 0 & 1 & 64 & 298 & 78540.39 & 550855.0 & 1296.04 & ⋯ &      NA &  1 & NA & NA &  0 & NA & NA &  58.65 &     NA &     NA\\\\\n",
       "\t 29188883 & 201904 & 1 & 0 & 1 & 64 & 299 & 75803.11 & 599562.7 & 1270.45 & ⋯ &      NA &  1 &  1 & NA &  0 &  0 & NA &  70.38 &  58.65 &     NA\\\\\n",
       "\t 29188883 & 201905 & 1 & 0 & 1 & 64 & 300 &     0.00 &      0.0 &    0.00 & ⋯ &      NA &  1 &  1 & NA &  0 &  0 & NA &  70.38 &  58.65 &     NA\\\\\n",
       "\t 29188883 & 201906 & 1 & 0 & 1 & 64 & 301 & 69725.29 & 681452.9 & 1280.28 & ⋯ &      NA &  1 &  1 & NA &  0 &  0 & NA &  70.38 &  70.38 &     NA\\\\\n",
       "\t 29188883 & 201907 & 1 & 0 & 1 & 64 & 302 & 68145.47 & 710943.3 & 1312.07 & ⋯ & 1102.50 &  1 &  1 &  1 &  0 &  0 &  0 &  82.11 &  70.38 &  58.65\\\\\n",
       "\t 29188883 & 201908 & 1 & 0 & 1 & 64 & 303 & 66658.18 & 739048.6 & 1466.40 & ⋯ & 1085.02 &  1 &  1 &  1 &  0 &  0 &  0 &  70.38 &  70.38 &  58.65\\\\\n",
       "\t 29188883 & 201909 & 1 & 0 & 1 & 64 & 304 & 62359.16 & 754323.9 & 1490.15 & ⋯ & 1324.31 &  1 &  1 &  1 &  0 &  0 &  0 &  82.11 &  82.11 &  70.38\\\\\n",
       "\t 29188883 & 201910 & 1 & 0 & 1 & 64 & 305 &     0.00 &      0.0 &    0.00 & ⋯ & 1300.85 &  1 &  1 &  1 &  0 &  0 &  0 &  93.84 &  70.38 &  70.38\\\\\n",
       "\t 29188883 & 201911 & 1 & 0 & 1 & 64 & 306 & 46377.86 & 757484.6 & 1476.56 & ⋯ & 1364.19 &  1 &  1 &  1 &  0 &  0 &  0 &  82.11 &  82.11 &  70.38\\\\\n",
       "\t 29188883 & 201912 & 1 & 0 & 1 & 65 & 307 & 46752.34 & 765272.5 & 1506.26 & ⋯ & 1592.93 &  1 &  1 &  1 &  0 &  0 &  0 &  35.19 &  93.84 &  82.11\\\\\n",
       "\t 29188883 & 202001 & 1 & 0 & 1 & 65 & 308 & 51195.45 & 751605.9 & 1832.97 & ⋯ & 1364.19 &  1 &  1 &  1 &  0 &  0 &  0 &  93.84 &  82.11 &  70.38\\\\\n",
       "\t 29188883 & 202002 & 1 & 0 & 1 & 65 & 309 & 46154.87 & 731914.0 & 1826.65 & ⋯ & 1521.38 &  1 &  1 &  1 &  0 &  0 &  0 &   0.00 &  35.19 &  82.11\\\\\n",
       "\t 29188883 & 202003 & 1 & 0 & 1 & 65 & 310 & 49214.16 & 702587.8 & 1875.27 & ⋯ & 1683.25 &  1 &  1 &  1 &  0 &  0 &  0 &  93.84 &  93.84 &  93.84\\\\\n",
       "\t 29188883 & 202004 & 1 & 0 & 1 & 65 & 311 & 41622.82 & 668407.4 & 1828.91 & ⋯ & 1554.22 &  1 &  1 &  1 &  0 &  0 &  0 &  93.84 &   0.00 &  82.11\\\\\n",
       "\t 29188883 & 202005 & 1 & 0 & 1 & 65 & 312 & 43221.27 & 634903.2 & 1867.66 & ⋯ & 1870.93 &  1 &  1 &  1 &  0 &  0 &  0 &  93.84 &  93.84 &  35.19\\\\\n",
       "\t 29188883 & 202006 & 0 & 0 & 0 & 65 & 313 &     0.00 &      0.0 &    0.00 & ⋯ & 1834.57 &  1 &  1 &  1 &  0 &  0 &  0 & 129.03 &  93.84 &  93.84\\\\\n",
       "\t 29188883 & 202007 & 1 & 0 & 1 & 65 & 314 & 44690.37 & 584074.3 & 1871.04 & ⋯ & 1658.62 &  1 &  1 &  1 &  0 &  0 &  0 & 105.57 &  93.84 &   0.00\\\\\n",
       "\t 29188883 & 202008 & 1 & 0 & 1 & 65 & 315 & 44696.16 & 562112.3 & 1869.56 & ⋯ & 1693.81 &  1 &  1 &  1 &  0 &  0 &  0 & 117.30 & 129.03 &  93.84\\\\\n",
       "\t 29188883 & 202009 & 1 & 0 & 1 & 65 & 316 & 43476.30 & 543229.4 & 1859.85 & ⋯ & 1713.75 &  1 &  1 &  1 &  0 &  0 &  0 & 129.03 & 105.57 &  93.84\\\\\n",
       "\t 29188883 & 202010 & 1 & 0 & 0 & 65 & 317 & 46072.54 & 545825.6 & 1866.77 & ⋯ & 1826.36 &  1 &  1 &  1 &  0 &  0 &  0 & 117.30 & 117.30 &  93.84\\\\\n",
       "\t 29188883 & 202011 & 1 & 0 & 0 & 65 & 318 & 46179.64 & 545627.4 & 1853.83 & ⋯ & 2342.48 &  1 &  1 &  1 &  0 &  0 &  0 & 140.76 & 129.03 & 129.03\\\\\n",
       "\t 29188883 & 202012 & 1 & 0 & 0 & 66 & 319 & 46508.31 & 545383.4 & 1840.35 & ⋯ & 1930.75 &  1 &  1 &  1 &  0 &  0 &  0 & 129.03 & 117.30 & 105.57\\\\\n",
       "\t 29188883 & 202101 & 1 & 0 & 0 & 66 & 320 & 37999.47 & 532187.4 & 1902.48 & ⋯ & 2219.31 &  1 &  1 &  1 &  0 &  0 &  0 & 152.49 & 140.76 & 117.30\\\\\n",
       "\t 29188883 & 202102 & 1 & 0 & 0 & 66 & 321 & 34293.96 & 520326.5 & 1870.19 & ⋯ & 2446.87 &  1 &  1 &  1 &  0 &  0 &  0 & 187.68 & 129.03 & 129.03\\\\\n",
       "\t 29188883 & 202103 & 1 & 0 & 0 & 66 & 322 & 37358.00 & 508470.3 & 2441.65 & ⋯ & 2076.21 &  1 &  1 &  1 &  0 &  0 &  0 & 175.95 & 152.49 & 117.30\\\\\n",
       "\t 29188883 & 202104 & 1 & 0 & 0 & 66 & 323 & 33686.53 & 500534.0 &  168.98 & ⋯ & 2639.25 &  1 &  1 &  1 &  0 &  0 &  0 & 234.60 & 187.68 & 140.76\\\\\n",
       "\t 29188883 & 202105 & 1 & 0 & 0 & 66 & 324 & 34570.46 & 491883.2 &  186.96 & ⋯ & 2381.19 &  1 &  1 &  1 &  0 &  0 &  0 & 187.68 & 175.95 & 129.03\\\\\n",
       "\t 29188883 & 202106 & 1 & 0 & 0 & 66 & 325 & 35838.57 & 485370.4 & 2435.79 & ⋯ & 2662.71 &  1 &  1 &  1 &  0 &  0 &  0 & 258.06 & 234.60 & 152.49\\\\\n",
       "\t ⋮ & ⋮ & ⋮ & ⋮ & ⋮ & ⋮ & ⋮ & ⋮ & ⋮ & ⋮ & ⋱ & ⋮ & ⋮ & ⋮ & ⋮ & ⋮ & ⋮ & ⋮ & ⋮ & ⋮ & ⋮\\\\\n",
       "\t 137415220 & 202101 & 1 & 0 & 0 & 35 & 58 & 3107.96 & 39771.67 & 1381.72 & ⋯ & 29729.40 &  2 &  6 &  6 &  0 &  0 &  0 &    0.00 &    0.00 & 1219.92\\\\\n",
       "\t 137415220 & 202102 & 1 & 0 & 0 & 35 & 59 & 2744.45 & 36827.30 & 2790.54 & ⋯ & 11399.94 &  3 &  2 &  3 &  0 &  0 &  0 &    0.00 &    0.00 & 5372.34\\\\\n",
       "\t 137415220 & 202103 & 1 & 0 & 0 & 35 & 60 & 3702.52 & 38017.79 & 1819.21 & ⋯ & 32792.84 &  1 &  2 &  4 &  0 &  0 &  0 &    0.00 &    0.00 &    0.00\\\\\n",
       "\t 137415220 & 202104 & 1 & 0 & 1 & 35 & 61 & 3794.69 & 40662.34 & 1637.75 & ⋯ & 23528.26 &  2 &  3 &  6 &  0 &  0 &  0 & 3706.68 &    0.00 &    0.00\\\\\n",
       "\t 137415220 & 202105 & 1 & 0 & 0 & 35 & 62 & 3036.11 & 41259.10 & 1732.68 & ⋯ &  4760.13 &  0 &  1 &  2 &  0 &  0 &  0 & 3214.02 &    0.00 &    0.00\\\\\n",
       "\t 137415220 & 202106 & 1 & 0 & 0 & 35 & 63 & 3068.14 & 40713.05 & 1609.30 & ⋯ &  4751.36 &  1 &  2 &  2 &  0 &  0 &  0 & 4187.61 & 3706.68 &    0.00\\\\\n",
       "\t 137415220 & 202107 & 1 & 0 & 0 & 35 & 64 & 3532.02 & 39046.56 & 2240.67 & ⋯ & 11601.12 &  1 &  0 &  3 &  0 &  0 &  0 &    0.00 & 3214.02 &    0.00\\\\\n",
       "\t 137415220 & 202108 & 1 & 0 & 0 & 35 & 65 & 3257.39 & 38864.34 & 2710.67 & ⋯ &  1058.04 &  1 &  1 &  1 &  0 &  0 &  0 & 4046.85 & 4187.61 &    0.00\\\\\n",
       "\t 137415220 & 202109 & 1 & 0 & 0 & 36 & 66 & 4155.10 & 38588.61 & 3847.78 & ⋯ & 20126.35 &  1 &  1 &  2 &  0 &  0 &  0 & 4046.85 &    0.00 & 3706.68\\\\\n",
       "\t 137437628 & 201906 & 1 & 0 & 1 & 39 & 38 &  763.27 &  7317.99 &  101.99 & ⋯ &       NA & NA & NA & NA & NA & NA & NA &      NA &      NA &      NA\\\\\n",
       "\t 137437628 & 201907 & 1 & 0 & 1 & 39 & 39 &  580.92 &  7000.81 &   -5.24 & ⋯ &       NA &  5 & NA & NA &  0 & NA & NA & 1161.27 &      NA &      NA\\\\\n",
       "\t 137437628 & 201908 & 1 & 0 & 1 & 39 & 40 &  493.51 &  6741.32 &  304.21 & ⋯ &       NA &  5 & NA & NA &  0 & NA & NA & 1090.89 &      NA &      NA\\\\\n",
       "\t 137437628 & 201909 & 1 & 0 & 1 & 40 & 41 &  272.89 &  6411.55 &  -60.24 & ⋯ &       NA &  5 &  5 & NA &  0 &  0 & NA & 1067.43 & 1161.27 &      NA\\\\\n",
       "\t 137437628 & 201910 & 1 & 0 & 1 & 40 & 42 &    0.00 &     0.00 &    0.00 & ⋯ &       NA &  9 &  5 & NA &  0 &  0 & NA & 1149.54 & 1090.89 &      NA\\\\\n",
       "\t 137437628 & 201911 & 1 & 0 & 1 & 40 & 43 &  141.26 &  5862.65 &  120.12 & ⋯ &       NA & 11 &  5 & NA &  0 &  0 & NA & 1219.92 & 1067.43 &      NA\\\\\n",
       "\t 137437628 & 201912 & 1 & 0 & 1 & 40 & 44 &  279.69 &  5308.98 &  445.18 & ⋯ &  4955.01 & 18 &  9 &  5 &  0 &  0 &  0 & 1419.33 & 1149.54 & 1161.27\\\\\n",
       "\t 137437628 & 202001 & 1 & 0 & 1 & 40 & 45 &  715.43 &  5179.74 &  477.32 & ⋯ &  2600.76 & 12 & 11 &  5 &  0 &  0 &  0 & 1818.15 & 1219.92 & 1090.89\\\\\n",
       "\t 137437628 & 202002 & 1 & 0 & 1 & 40 & 46 &  282.17 &  5332.03 &  343.43 & ⋯ &  5347.33 & 12 & 18 &  5 &  0 &  0 &  0 & 1888.53 & 1419.33 & 1067.43\\\\\n",
       "\t 137437628 & 202003 & 1 & 0 & 1 & 40 & 47 &  427.11 &  5460.56 &  224.25 & ⋯ &  8885.24 & 17 & 12 &  9 &  0 &  0 &  0 & 1677.39 & 1818.15 & 1149.54\\\\\n",
       "\t 137437628 & 202004 & 1 & 0 & 1 & 40 & 48 & 1086.08 &  6074.49 &  680.96 & ⋯ &  6863.02 & 15 & 12 & 11 &  0 &  0 &  0 & 1806.42 & 1888.53 & 1219.92\\\\\n",
       "\t 137437628 & 202005 & 1 & 0 & 1 & 40 & 49 & 1484.36 &  6868.50 &  538.11 & ⋯ &  7825.00 & 20 & 17 & 18 &  0 &  0 &  0 & 2451.57 & 1677.39 & 1419.33\\\\\n",
       "\t 137437628 & 202006 & 0 & 0 & 0 & 40 & 50 &    0.00 &     0.00 &    0.00 & ⋯ &  7743.91 & 15 & 15 & 12 &  0 &  0 &  0 & 2005.83 & 1806.42 & 1818.15\\\\\n",
       "\t 137437628 & 202007 & 1 & 0 & 1 & 40 & 51 & 1150.78 &  7762.10 &  569.83 & ⋯ &  9892.33 & 22 & 20 & 12 &  0 &  0 &  0 & 2111.40 & 2451.57 & 1888.53\\\\\n",
       "\t 137437628 & 202008 & 1 & 0 & 1 & 40 & 52 &  887.63 &  8156.22 &  715.24 & ⋯ &  5992.46 & 13 & 15 & 17 &  0 &  0 &  0 & 1841.61 & 2005.83 & 1677.39\\\\\n",
       "\t 137437628 & 202009 & 1 & 0 & 1 & 41 & 53 &  350.35 &  8233.67 &  442.10 & ⋯ & 10874.67 & 13 & 22 & 15 &  0 &  0 &  0 & 1313.76 & 2111.40 & 1806.42\\\\\n",
       "\t 137437628 & 202010 & 1 & 0 & 0 & 41 & 54 &  226.91 &  8118.82 &  171.86 & ⋯ & 18482.96 & 11 & 13 & 20 &  0 &  0 &  0 &  914.94 & 1841.61 & 2451.57\\\\\n",
       "\t 137437628 & 202011 & 1 & 0 & 1 & 41 & 55 &  822.44 &  8800.01 &  621.97 & ⋯ & 10529.45 & 12 & 13 & 15 &  0 &  0 &  0 & 1431.06 & 1313.76 & 2005.83\\\\\n",
       "\t 137437628 & 202012 & 1 & 0 & 0 & 41 & 56 & -505.59 &  8014.72 & -400.91 & ⋯ & 13610.16 & 11 & 11 & 22 &  0 &  0 &  0 & 1724.31 &  914.94 & 2111.40\\\\\n",
       "\t 137437628 & 202101 & 1 & 0 & 0 & 41 & 57 &  218.52 &  7517.81 &  419.00 & ⋯ & 13481.08 & 12 & 12 & 13 &  0 &  0 &  0 & 1219.92 & 1431.06 & 1841.61\\\\\n",
       "\t 137437628 & 202102 & 1 & 0 & 0 & 41 & 58 &  143.01 &  7378.65 & -291.25 & ⋯ &  9048.25 & 26 & 11 & 13 &  0 &  0 &  0 &  762.45 & 1724.31 & 1313.76\\\\\n",
       "\\end{tabular}\n"
      ],
      "text/markdown": [
       "\n",
       "A data.table: 4893028 × 603\n",
       "\n",
       "| numero_de_cliente &lt;int&gt; | foto_mes &lt;int&gt; | active_quarter &lt;int&gt; | cliente_vip &lt;int&gt; | internet &lt;int&gt; | cliente_edad &lt;int&gt; | cliente_antiguedad &lt;int&gt; | mrentabilidad &lt;dbl&gt; | mrentabilidad_annual &lt;dbl&gt; | mcomisiones &lt;dbl&gt; | ⋯ ⋯ | lag_6_Visa_mconsumototal &lt;dbl&gt; | lag_1_Visa_cconsumos &lt;int&gt; | lag_3_Visa_cconsumos &lt;int&gt; | lag_6_Visa_cconsumos &lt;int&gt; | lag_1_Visa_cadelantosefectivo &lt;int&gt; | lag_3_Visa_cadelantosefectivo &lt;int&gt; | lag_6_Visa_cadelantosefectivo &lt;int&gt; | lag_1_Visa_mpagominimo &lt;dbl&gt; | lag_3_Visa_mpagominimo &lt;dbl&gt; | lag_6_Visa_mpagominimo &lt;dbl&gt; |\n",
       "|---|---|---|---|---|---|---|---|---|---|---|---|---|---|---|---|---|---|---|---|---|\n",
       "| 29188883 | 201901 | 1 | 0 | 1 | 64 | 296 | 64862.09 | 459723.2 |  988.28 | ⋯ |      NA | NA | NA | NA | NA | NA | NA |     NA |     NA |     NA |\n",
       "| 29188883 | 201902 | 1 | 0 | 1 | 64 | 297 | 65846.80 | 500339.5 |  985.74 | ⋯ |      NA |  1 | NA | NA |  0 | NA | NA |  58.65 |     NA |     NA |\n",
       "| 29188883 | 201903 | 1 | 0 | 1 | 64 | 298 | 78540.39 | 550855.0 | 1296.04 | ⋯ |      NA |  1 | NA | NA |  0 | NA | NA |  58.65 |     NA |     NA |\n",
       "| 29188883 | 201904 | 1 | 0 | 1 | 64 | 299 | 75803.11 | 599562.7 | 1270.45 | ⋯ |      NA |  1 |  1 | NA |  0 |  0 | NA |  70.38 |  58.65 |     NA |\n",
       "| 29188883 | 201905 | 1 | 0 | 1 | 64 | 300 |     0.00 |      0.0 |    0.00 | ⋯ |      NA |  1 |  1 | NA |  0 |  0 | NA |  70.38 |  58.65 |     NA |\n",
       "| 29188883 | 201906 | 1 | 0 | 1 | 64 | 301 | 69725.29 | 681452.9 | 1280.28 | ⋯ |      NA |  1 |  1 | NA |  0 |  0 | NA |  70.38 |  70.38 |     NA |\n",
       "| 29188883 | 201907 | 1 | 0 | 1 | 64 | 302 | 68145.47 | 710943.3 | 1312.07 | ⋯ | 1102.50 |  1 |  1 |  1 |  0 |  0 |  0 |  82.11 |  70.38 |  58.65 |\n",
       "| 29188883 | 201908 | 1 | 0 | 1 | 64 | 303 | 66658.18 | 739048.6 | 1466.40 | ⋯ | 1085.02 |  1 |  1 |  1 |  0 |  0 |  0 |  70.38 |  70.38 |  58.65 |\n",
       "| 29188883 | 201909 | 1 | 0 | 1 | 64 | 304 | 62359.16 | 754323.9 | 1490.15 | ⋯ | 1324.31 |  1 |  1 |  1 |  0 |  0 |  0 |  82.11 |  82.11 |  70.38 |\n",
       "| 29188883 | 201910 | 1 | 0 | 1 | 64 | 305 |     0.00 |      0.0 |    0.00 | ⋯ | 1300.85 |  1 |  1 |  1 |  0 |  0 |  0 |  93.84 |  70.38 |  70.38 |\n",
       "| 29188883 | 201911 | 1 | 0 | 1 | 64 | 306 | 46377.86 | 757484.6 | 1476.56 | ⋯ | 1364.19 |  1 |  1 |  1 |  0 |  0 |  0 |  82.11 |  82.11 |  70.38 |\n",
       "| 29188883 | 201912 | 1 | 0 | 1 | 65 | 307 | 46752.34 | 765272.5 | 1506.26 | ⋯ | 1592.93 |  1 |  1 |  1 |  0 |  0 |  0 |  35.19 |  93.84 |  82.11 |\n",
       "| 29188883 | 202001 | 1 | 0 | 1 | 65 | 308 | 51195.45 | 751605.9 | 1832.97 | ⋯ | 1364.19 |  1 |  1 |  1 |  0 |  0 |  0 |  93.84 |  82.11 |  70.38 |\n",
       "| 29188883 | 202002 | 1 | 0 | 1 | 65 | 309 | 46154.87 | 731914.0 | 1826.65 | ⋯ | 1521.38 |  1 |  1 |  1 |  0 |  0 |  0 |   0.00 |  35.19 |  82.11 |\n",
       "| 29188883 | 202003 | 1 | 0 | 1 | 65 | 310 | 49214.16 | 702587.8 | 1875.27 | ⋯ | 1683.25 |  1 |  1 |  1 |  0 |  0 |  0 |  93.84 |  93.84 |  93.84 |\n",
       "| 29188883 | 202004 | 1 | 0 | 1 | 65 | 311 | 41622.82 | 668407.4 | 1828.91 | ⋯ | 1554.22 |  1 |  1 |  1 |  0 |  0 |  0 |  93.84 |   0.00 |  82.11 |\n",
       "| 29188883 | 202005 | 1 | 0 | 1 | 65 | 312 | 43221.27 | 634903.2 | 1867.66 | ⋯ | 1870.93 |  1 |  1 |  1 |  0 |  0 |  0 |  93.84 |  93.84 |  35.19 |\n",
       "| 29188883 | 202006 | 0 | 0 | 0 | 65 | 313 |     0.00 |      0.0 |    0.00 | ⋯ | 1834.57 |  1 |  1 |  1 |  0 |  0 |  0 | 129.03 |  93.84 |  93.84 |\n",
       "| 29188883 | 202007 | 1 | 0 | 1 | 65 | 314 | 44690.37 | 584074.3 | 1871.04 | ⋯ | 1658.62 |  1 |  1 |  1 |  0 |  0 |  0 | 105.57 |  93.84 |   0.00 |\n",
       "| 29188883 | 202008 | 1 | 0 | 1 | 65 | 315 | 44696.16 | 562112.3 | 1869.56 | ⋯ | 1693.81 |  1 |  1 |  1 |  0 |  0 |  0 | 117.30 | 129.03 |  93.84 |\n",
       "| 29188883 | 202009 | 1 | 0 | 1 | 65 | 316 | 43476.30 | 543229.4 | 1859.85 | ⋯ | 1713.75 |  1 |  1 |  1 |  0 |  0 |  0 | 129.03 | 105.57 |  93.84 |\n",
       "| 29188883 | 202010 | 1 | 0 | 0 | 65 | 317 | 46072.54 | 545825.6 | 1866.77 | ⋯ | 1826.36 |  1 |  1 |  1 |  0 |  0 |  0 | 117.30 | 117.30 |  93.84 |\n",
       "| 29188883 | 202011 | 1 | 0 | 0 | 65 | 318 | 46179.64 | 545627.4 | 1853.83 | ⋯ | 2342.48 |  1 |  1 |  1 |  0 |  0 |  0 | 140.76 | 129.03 | 129.03 |\n",
       "| 29188883 | 202012 | 1 | 0 | 0 | 66 | 319 | 46508.31 | 545383.4 | 1840.35 | ⋯ | 1930.75 |  1 |  1 |  1 |  0 |  0 |  0 | 129.03 | 117.30 | 105.57 |\n",
       "| 29188883 | 202101 | 1 | 0 | 0 | 66 | 320 | 37999.47 | 532187.4 | 1902.48 | ⋯ | 2219.31 |  1 |  1 |  1 |  0 |  0 |  0 | 152.49 | 140.76 | 117.30 |\n",
       "| 29188883 | 202102 | 1 | 0 | 0 | 66 | 321 | 34293.96 | 520326.5 | 1870.19 | ⋯ | 2446.87 |  1 |  1 |  1 |  0 |  0 |  0 | 187.68 | 129.03 | 129.03 |\n",
       "| 29188883 | 202103 | 1 | 0 | 0 | 66 | 322 | 37358.00 | 508470.3 | 2441.65 | ⋯ | 2076.21 |  1 |  1 |  1 |  0 |  0 |  0 | 175.95 | 152.49 | 117.30 |\n",
       "| 29188883 | 202104 | 1 | 0 | 0 | 66 | 323 | 33686.53 | 500534.0 |  168.98 | ⋯ | 2639.25 |  1 |  1 |  1 |  0 |  0 |  0 | 234.60 | 187.68 | 140.76 |\n",
       "| 29188883 | 202105 | 1 | 0 | 0 | 66 | 324 | 34570.46 | 491883.2 |  186.96 | ⋯ | 2381.19 |  1 |  1 |  1 |  0 |  0 |  0 | 187.68 | 175.95 | 129.03 |\n",
       "| 29188883 | 202106 | 1 | 0 | 0 | 66 | 325 | 35838.57 | 485370.4 | 2435.79 | ⋯ | 2662.71 |  1 |  1 |  1 |  0 |  0 |  0 | 258.06 | 234.60 | 152.49 |\n",
       "| ⋮ | ⋮ | ⋮ | ⋮ | ⋮ | ⋮ | ⋮ | ⋮ | ⋮ | ⋮ | ⋱ | ⋮ | ⋮ | ⋮ | ⋮ | ⋮ | ⋮ | ⋮ | ⋮ | ⋮ | ⋮ |\n",
       "| 137415220 | 202101 | 1 | 0 | 0 | 35 | 58 | 3107.96 | 39771.67 | 1381.72 | ⋯ | 29729.40 |  2 |  6 |  6 |  0 |  0 |  0 |    0.00 |    0.00 | 1219.92 |\n",
       "| 137415220 | 202102 | 1 | 0 | 0 | 35 | 59 | 2744.45 | 36827.30 | 2790.54 | ⋯ | 11399.94 |  3 |  2 |  3 |  0 |  0 |  0 |    0.00 |    0.00 | 5372.34 |\n",
       "| 137415220 | 202103 | 1 | 0 | 0 | 35 | 60 | 3702.52 | 38017.79 | 1819.21 | ⋯ | 32792.84 |  1 |  2 |  4 |  0 |  0 |  0 |    0.00 |    0.00 |    0.00 |\n",
       "| 137415220 | 202104 | 1 | 0 | 1 | 35 | 61 | 3794.69 | 40662.34 | 1637.75 | ⋯ | 23528.26 |  2 |  3 |  6 |  0 |  0 |  0 | 3706.68 |    0.00 |    0.00 |\n",
       "| 137415220 | 202105 | 1 | 0 | 0 | 35 | 62 | 3036.11 | 41259.10 | 1732.68 | ⋯ |  4760.13 |  0 |  1 |  2 |  0 |  0 |  0 | 3214.02 |    0.00 |    0.00 |\n",
       "| 137415220 | 202106 | 1 | 0 | 0 | 35 | 63 | 3068.14 | 40713.05 | 1609.30 | ⋯ |  4751.36 |  1 |  2 |  2 |  0 |  0 |  0 | 4187.61 | 3706.68 |    0.00 |\n",
       "| 137415220 | 202107 | 1 | 0 | 0 | 35 | 64 | 3532.02 | 39046.56 | 2240.67 | ⋯ | 11601.12 |  1 |  0 |  3 |  0 |  0 |  0 |    0.00 | 3214.02 |    0.00 |\n",
       "| 137415220 | 202108 | 1 | 0 | 0 | 35 | 65 | 3257.39 | 38864.34 | 2710.67 | ⋯ |  1058.04 |  1 |  1 |  1 |  0 |  0 |  0 | 4046.85 | 4187.61 |    0.00 |\n",
       "| 137415220 | 202109 | 1 | 0 | 0 | 36 | 66 | 4155.10 | 38588.61 | 3847.78 | ⋯ | 20126.35 |  1 |  1 |  2 |  0 |  0 |  0 | 4046.85 |    0.00 | 3706.68 |\n",
       "| 137437628 | 201906 | 1 | 0 | 1 | 39 | 38 |  763.27 |  7317.99 |  101.99 | ⋯ |       NA | NA | NA | NA | NA | NA | NA |      NA |      NA |      NA |\n",
       "| 137437628 | 201907 | 1 | 0 | 1 | 39 | 39 |  580.92 |  7000.81 |   -5.24 | ⋯ |       NA |  5 | NA | NA |  0 | NA | NA | 1161.27 |      NA |      NA |\n",
       "| 137437628 | 201908 | 1 | 0 | 1 | 39 | 40 |  493.51 |  6741.32 |  304.21 | ⋯ |       NA |  5 | NA | NA |  0 | NA | NA | 1090.89 |      NA |      NA |\n",
       "| 137437628 | 201909 | 1 | 0 | 1 | 40 | 41 |  272.89 |  6411.55 |  -60.24 | ⋯ |       NA |  5 |  5 | NA |  0 |  0 | NA | 1067.43 | 1161.27 |      NA |\n",
       "| 137437628 | 201910 | 1 | 0 | 1 | 40 | 42 |    0.00 |     0.00 |    0.00 | ⋯ |       NA |  9 |  5 | NA |  0 |  0 | NA | 1149.54 | 1090.89 |      NA |\n",
       "| 137437628 | 201911 | 1 | 0 | 1 | 40 | 43 |  141.26 |  5862.65 |  120.12 | ⋯ |       NA | 11 |  5 | NA |  0 |  0 | NA | 1219.92 | 1067.43 |      NA |\n",
       "| 137437628 | 201912 | 1 | 0 | 1 | 40 | 44 |  279.69 |  5308.98 |  445.18 | ⋯ |  4955.01 | 18 |  9 |  5 |  0 |  0 |  0 | 1419.33 | 1149.54 | 1161.27 |\n",
       "| 137437628 | 202001 | 1 | 0 | 1 | 40 | 45 |  715.43 |  5179.74 |  477.32 | ⋯ |  2600.76 | 12 | 11 |  5 |  0 |  0 |  0 | 1818.15 | 1219.92 | 1090.89 |\n",
       "| 137437628 | 202002 | 1 | 0 | 1 | 40 | 46 |  282.17 |  5332.03 |  343.43 | ⋯ |  5347.33 | 12 | 18 |  5 |  0 |  0 |  0 | 1888.53 | 1419.33 | 1067.43 |\n",
       "| 137437628 | 202003 | 1 | 0 | 1 | 40 | 47 |  427.11 |  5460.56 |  224.25 | ⋯ |  8885.24 | 17 | 12 |  9 |  0 |  0 |  0 | 1677.39 | 1818.15 | 1149.54 |\n",
       "| 137437628 | 202004 | 1 | 0 | 1 | 40 | 48 | 1086.08 |  6074.49 |  680.96 | ⋯ |  6863.02 | 15 | 12 | 11 |  0 |  0 |  0 | 1806.42 | 1888.53 | 1219.92 |\n",
       "| 137437628 | 202005 | 1 | 0 | 1 | 40 | 49 | 1484.36 |  6868.50 |  538.11 | ⋯ |  7825.00 | 20 | 17 | 18 |  0 |  0 |  0 | 2451.57 | 1677.39 | 1419.33 |\n",
       "| 137437628 | 202006 | 0 | 0 | 0 | 40 | 50 |    0.00 |     0.00 |    0.00 | ⋯ |  7743.91 | 15 | 15 | 12 |  0 |  0 |  0 | 2005.83 | 1806.42 | 1818.15 |\n",
       "| 137437628 | 202007 | 1 | 0 | 1 | 40 | 51 | 1150.78 |  7762.10 |  569.83 | ⋯ |  9892.33 | 22 | 20 | 12 |  0 |  0 |  0 | 2111.40 | 2451.57 | 1888.53 |\n",
       "| 137437628 | 202008 | 1 | 0 | 1 | 40 | 52 |  887.63 |  8156.22 |  715.24 | ⋯ |  5992.46 | 13 | 15 | 17 |  0 |  0 |  0 | 1841.61 | 2005.83 | 1677.39 |\n",
       "| 137437628 | 202009 | 1 | 0 | 1 | 41 | 53 |  350.35 |  8233.67 |  442.10 | ⋯ | 10874.67 | 13 | 22 | 15 |  0 |  0 |  0 | 1313.76 | 2111.40 | 1806.42 |\n",
       "| 137437628 | 202010 | 1 | 0 | 0 | 41 | 54 |  226.91 |  8118.82 |  171.86 | ⋯ | 18482.96 | 11 | 13 | 20 |  0 |  0 |  0 |  914.94 | 1841.61 | 2451.57 |\n",
       "| 137437628 | 202011 | 1 | 0 | 1 | 41 | 55 |  822.44 |  8800.01 |  621.97 | ⋯ | 10529.45 | 12 | 13 | 15 |  0 |  0 |  0 | 1431.06 | 1313.76 | 2005.83 |\n",
       "| 137437628 | 202012 | 1 | 0 | 0 | 41 | 56 | -505.59 |  8014.72 | -400.91 | ⋯ | 13610.16 | 11 | 11 | 22 |  0 |  0 |  0 | 1724.31 |  914.94 | 2111.40 |\n",
       "| 137437628 | 202101 | 1 | 0 | 0 | 41 | 57 |  218.52 |  7517.81 |  419.00 | ⋯ | 13481.08 | 12 | 12 | 13 |  0 |  0 |  0 | 1219.92 | 1431.06 | 1841.61 |\n",
       "| 137437628 | 202102 | 1 | 0 | 0 | 41 | 58 |  143.01 |  7378.65 | -291.25 | ⋯ |  9048.25 | 26 | 11 | 13 |  0 |  0 |  0 |  762.45 | 1724.31 | 1313.76 |\n",
       "\n"
      ],
      "text/plain": [
       "        numero_de_cliente foto_mes active_quarter cliente_vip internet\n",
       "1       29188883          201901   1              0           1       \n",
       "2       29188883          201902   1              0           1       \n",
       "3       29188883          201903   1              0           1       \n",
       "4       29188883          201904   1              0           1       \n",
       "5       29188883          201905   1              0           1       \n",
       "6       29188883          201906   1              0           1       \n",
       "7       29188883          201907   1              0           1       \n",
       "8       29188883          201908   1              0           1       \n",
       "9       29188883          201909   1              0           1       \n",
       "10      29188883          201910   1              0           1       \n",
       "11      29188883          201911   1              0           1       \n",
       "12      29188883          201912   1              0           1       \n",
       "13      29188883          202001   1              0           1       \n",
       "14      29188883          202002   1              0           1       \n",
       "15      29188883          202003   1              0           1       \n",
       "16      29188883          202004   1              0           1       \n",
       "17      29188883          202005   1              0           1       \n",
       "18      29188883          202006   0              0           0       \n",
       "19      29188883          202007   1              0           1       \n",
       "20      29188883          202008   1              0           1       \n",
       "21      29188883          202009   1              0           1       \n",
       "22      29188883          202010   1              0           0       \n",
       "23      29188883          202011   1              0           0       \n",
       "24      29188883          202012   1              0           0       \n",
       "25      29188883          202101   1              0           0       \n",
       "26      29188883          202102   1              0           0       \n",
       "27      29188883          202103   1              0           0       \n",
       "28      29188883          202104   1              0           0       \n",
       "29      29188883          202105   1              0           0       \n",
       "30      29188883          202106   1              0           0       \n",
       "⋮       ⋮                 ⋮        ⋮              ⋮           ⋮       \n",
       "4892999 137415220         202101   1              0           0       \n",
       "4893000 137415220         202102   1              0           0       \n",
       "4893001 137415220         202103   1              0           0       \n",
       "4893002 137415220         202104   1              0           1       \n",
       "4893003 137415220         202105   1              0           0       \n",
       "4893004 137415220         202106   1              0           0       \n",
       "4893005 137415220         202107   1              0           0       \n",
       "4893006 137415220         202108   1              0           0       \n",
       "4893007 137415220         202109   1              0           0       \n",
       "4893008 137437628         201906   1              0           1       \n",
       "4893009 137437628         201907   1              0           1       \n",
       "4893010 137437628         201908   1              0           1       \n",
       "4893011 137437628         201909   1              0           1       \n",
       "4893012 137437628         201910   1              0           1       \n",
       "4893013 137437628         201911   1              0           1       \n",
       "4893014 137437628         201912   1              0           1       \n",
       "4893015 137437628         202001   1              0           1       \n",
       "4893016 137437628         202002   1              0           1       \n",
       "4893017 137437628         202003   1              0           1       \n",
       "4893018 137437628         202004   1              0           1       \n",
       "4893019 137437628         202005   1              0           1       \n",
       "4893020 137437628         202006   0              0           0       \n",
       "4893021 137437628         202007   1              0           1       \n",
       "4893022 137437628         202008   1              0           1       \n",
       "4893023 137437628         202009   1              0           1       \n",
       "4893024 137437628         202010   1              0           0       \n",
       "4893025 137437628         202011   1              0           1       \n",
       "4893026 137437628         202012   1              0           0       \n",
       "4893027 137437628         202101   1              0           0       \n",
       "4893028 137437628         202102   1              0           0       \n",
       "        cliente_edad cliente_antiguedad mrentabilidad mrentabilidad_annual\n",
       "1       64           296                64862.09      459723.2            \n",
       "2       64           297                65846.80      500339.5            \n",
       "3       64           298                78540.39      550855.0            \n",
       "4       64           299                75803.11      599562.7            \n",
       "5       64           300                    0.00           0.0            \n",
       "6       64           301                69725.29      681452.9            \n",
       "7       64           302                68145.47      710943.3            \n",
       "8       64           303                66658.18      739048.6            \n",
       "9       64           304                62359.16      754323.9            \n",
       "10      64           305                    0.00           0.0            \n",
       "11      64           306                46377.86      757484.6            \n",
       "12      65           307                46752.34      765272.5            \n",
       "13      65           308                51195.45      751605.9            \n",
       "14      65           309                46154.87      731914.0            \n",
       "15      65           310                49214.16      702587.8            \n",
       "16      65           311                41622.82      668407.4            \n",
       "17      65           312                43221.27      634903.2            \n",
       "18      65           313                    0.00           0.0            \n",
       "19      65           314                44690.37      584074.3            \n",
       "20      65           315                44696.16      562112.3            \n",
       "21      65           316                43476.30      543229.4            \n",
       "22      65           317                46072.54      545825.6            \n",
       "23      65           318                46179.64      545627.4            \n",
       "24      66           319                46508.31      545383.4            \n",
       "25      66           320                37999.47      532187.4            \n",
       "26      66           321                34293.96      520326.5            \n",
       "27      66           322                37358.00      508470.3            \n",
       "28      66           323                33686.53      500534.0            \n",
       "29      66           324                34570.46      491883.2            \n",
       "30      66           325                35838.57      485370.4            \n",
       "⋮       ⋮            ⋮                  ⋮             ⋮                   \n",
       "4892999 35           58                 3107.96       39771.67            \n",
       "4893000 35           59                 2744.45       36827.30            \n",
       "4893001 35           60                 3702.52       38017.79            \n",
       "4893002 35           61                 3794.69       40662.34            \n",
       "4893003 35           62                 3036.11       41259.10            \n",
       "4893004 35           63                 3068.14       40713.05            \n",
       "4893005 35           64                 3532.02       39046.56            \n",
       "4893006 35           65                 3257.39       38864.34            \n",
       "4893007 36           66                 4155.10       38588.61            \n",
       "4893008 39           38                  763.27        7317.99            \n",
       "4893009 39           39                  580.92        7000.81            \n",
       "4893010 39           40                  493.51        6741.32            \n",
       "4893011 40           41                  272.89        6411.55            \n",
       "4893012 40           42                    0.00           0.00            \n",
       "4893013 40           43                  141.26        5862.65            \n",
       "4893014 40           44                  279.69        5308.98            \n",
       "4893015 40           45                  715.43        5179.74            \n",
       "4893016 40           46                  282.17        5332.03            \n",
       "4893017 40           47                  427.11        5460.56            \n",
       "4893018 40           48                 1086.08        6074.49            \n",
       "4893019 40           49                 1484.36        6868.50            \n",
       "4893020 40           50                    0.00           0.00            \n",
       "4893021 40           51                 1150.78        7762.10            \n",
       "4893022 40           52                  887.63        8156.22            \n",
       "4893023 41           53                  350.35        8233.67            \n",
       "4893024 41           54                  226.91        8118.82            \n",
       "4893025 41           55                  822.44        8800.01            \n",
       "4893026 41           56                 -505.59        8014.72            \n",
       "4893027 41           57                  218.52        7517.81            \n",
       "4893028 41           58                  143.01        7378.65            \n",
       "        mcomisiones ⋯ lag_6_Visa_mconsumototal lag_1_Visa_cconsumos\n",
       "1        988.28     ⋯      NA                  NA                  \n",
       "2        985.74     ⋯      NA                   1                  \n",
       "3       1296.04     ⋯      NA                   1                  \n",
       "4       1270.45     ⋯      NA                   1                  \n",
       "5          0.00     ⋯      NA                   1                  \n",
       "6       1280.28     ⋯      NA                   1                  \n",
       "7       1312.07     ⋯ 1102.50                   1                  \n",
       "8       1466.40     ⋯ 1085.02                   1                  \n",
       "9       1490.15     ⋯ 1324.31                   1                  \n",
       "10         0.00     ⋯ 1300.85                   1                  \n",
       "11      1476.56     ⋯ 1364.19                   1                  \n",
       "12      1506.26     ⋯ 1592.93                   1                  \n",
       "13      1832.97     ⋯ 1364.19                   1                  \n",
       "14      1826.65     ⋯ 1521.38                   1                  \n",
       "15      1875.27     ⋯ 1683.25                   1                  \n",
       "16      1828.91     ⋯ 1554.22                   1                  \n",
       "17      1867.66     ⋯ 1870.93                   1                  \n",
       "18         0.00     ⋯ 1834.57                   1                  \n",
       "19      1871.04     ⋯ 1658.62                   1                  \n",
       "20      1869.56     ⋯ 1693.81                   1                  \n",
       "21      1859.85     ⋯ 1713.75                   1                  \n",
       "22      1866.77     ⋯ 1826.36                   1                  \n",
       "23      1853.83     ⋯ 2342.48                   1                  \n",
       "24      1840.35     ⋯ 1930.75                   1                  \n",
       "25      1902.48     ⋯ 2219.31                   1                  \n",
       "26      1870.19     ⋯ 2446.87                   1                  \n",
       "27      2441.65     ⋯ 2076.21                   1                  \n",
       "28       168.98     ⋯ 2639.25                   1                  \n",
       "29       186.96     ⋯ 2381.19                   1                  \n",
       "30      2435.79     ⋯ 2662.71                   1                  \n",
       "⋮       ⋮           ⋱ ⋮                        ⋮                   \n",
       "4892999 1381.72     ⋯ 29729.40                  2                  \n",
       "4893000 2790.54     ⋯ 11399.94                  3                  \n",
       "4893001 1819.21     ⋯ 32792.84                  1                  \n",
       "4893002 1637.75     ⋯ 23528.26                  2                  \n",
       "4893003 1732.68     ⋯  4760.13                  0                  \n",
       "4893004 1609.30     ⋯  4751.36                  1                  \n",
       "4893005 2240.67     ⋯ 11601.12                  1                  \n",
       "4893006 2710.67     ⋯  1058.04                  1                  \n",
       "4893007 3847.78     ⋯ 20126.35                  1                  \n",
       "4893008  101.99     ⋯       NA                 NA                  \n",
       "4893009   -5.24     ⋯       NA                  5                  \n",
       "4893010  304.21     ⋯       NA                  5                  \n",
       "4893011  -60.24     ⋯       NA                  5                  \n",
       "4893012    0.00     ⋯       NA                  9                  \n",
       "4893013  120.12     ⋯       NA                 11                  \n",
       "4893014  445.18     ⋯  4955.01                 18                  \n",
       "4893015  477.32     ⋯  2600.76                 12                  \n",
       "4893016  343.43     ⋯  5347.33                 12                  \n",
       "4893017  224.25     ⋯  8885.24                 17                  \n",
       "4893018  680.96     ⋯  6863.02                 15                  \n",
       "4893019  538.11     ⋯  7825.00                 20                  \n",
       "4893020    0.00     ⋯  7743.91                 15                  \n",
       "4893021  569.83     ⋯  9892.33                 22                  \n",
       "4893022  715.24     ⋯  5992.46                 13                  \n",
       "4893023  442.10     ⋯ 10874.67                 13                  \n",
       "4893024  171.86     ⋯ 18482.96                 11                  \n",
       "4893025  621.97     ⋯ 10529.45                 12                  \n",
       "4893026 -400.91     ⋯ 13610.16                 11                  \n",
       "4893027  419.00     ⋯ 13481.08                 12                  \n",
       "4893028 -291.25     ⋯  9048.25                 26                  \n",
       "        lag_3_Visa_cconsumos lag_6_Visa_cconsumos lag_1_Visa_cadelantosefectivo\n",
       "1       NA                   NA                   NA                           \n",
       "2       NA                   NA                    0                           \n",
       "3       NA                   NA                    0                           \n",
       "4        1                   NA                    0                           \n",
       "5        1                   NA                    0                           \n",
       "6        1                   NA                    0                           \n",
       "7        1                    1                    0                           \n",
       "8        1                    1                    0                           \n",
       "9        1                    1                    0                           \n",
       "10       1                    1                    0                           \n",
       "11       1                    1                    0                           \n",
       "12       1                    1                    0                           \n",
       "13       1                    1                    0                           \n",
       "14       1                    1                    0                           \n",
       "15       1                    1                    0                           \n",
       "16       1                    1                    0                           \n",
       "17       1                    1                    0                           \n",
       "18       1                    1                    0                           \n",
       "19       1                    1                    0                           \n",
       "20       1                    1                    0                           \n",
       "21       1                    1                    0                           \n",
       "22       1                    1                    0                           \n",
       "23       1                    1                    0                           \n",
       "24       1                    1                    0                           \n",
       "25       1                    1                    0                           \n",
       "26       1                    1                    0                           \n",
       "27       1                    1                    0                           \n",
       "28       1                    1                    0                           \n",
       "29       1                    1                    0                           \n",
       "30       1                    1                    0                           \n",
       "⋮       ⋮                    ⋮                    ⋮                            \n",
       "4892999  6                    6                    0                           \n",
       "4893000  2                    3                    0                           \n",
       "4893001  2                    4                    0                           \n",
       "4893002  3                    6                    0                           \n",
       "4893003  1                    2                    0                           \n",
       "4893004  2                    2                    0                           \n",
       "4893005  0                    3                    0                           \n",
       "4893006  1                    1                    0                           \n",
       "4893007  1                    2                    0                           \n",
       "4893008 NA                   NA                   NA                           \n",
       "4893009 NA                   NA                    0                           \n",
       "4893010 NA                   NA                    0                           \n",
       "4893011  5                   NA                    0                           \n",
       "4893012  5                   NA                    0                           \n",
       "4893013  5                   NA                    0                           \n",
       "4893014  9                    5                    0                           \n",
       "4893015 11                    5                    0                           \n",
       "4893016 18                    5                    0                           \n",
       "4893017 12                    9                    0                           \n",
       "4893018 12                   11                    0                           \n",
       "4893019 17                   18                    0                           \n",
       "4893020 15                   12                    0                           \n",
       "4893021 20                   12                    0                           \n",
       "4893022 15                   17                    0                           \n",
       "4893023 22                   15                    0                           \n",
       "4893024 13                   20                    0                           \n",
       "4893025 13                   15                    0                           \n",
       "4893026 11                   22                    0                           \n",
       "4893027 12                   13                    0                           \n",
       "4893028 11                   13                    0                           \n",
       "        lag_3_Visa_cadelantosefectivo lag_6_Visa_cadelantosefectivo\n",
       "1       NA                            NA                           \n",
       "2       NA                            NA                           \n",
       "3       NA                            NA                           \n",
       "4        0                            NA                           \n",
       "5        0                            NA                           \n",
       "6        0                            NA                           \n",
       "7        0                             0                           \n",
       "8        0                             0                           \n",
       "9        0                             0                           \n",
       "10       0                             0                           \n",
       "11       0                             0                           \n",
       "12       0                             0                           \n",
       "13       0                             0                           \n",
       "14       0                             0                           \n",
       "15       0                             0                           \n",
       "16       0                             0                           \n",
       "17       0                             0                           \n",
       "18       0                             0                           \n",
       "19       0                             0                           \n",
       "20       0                             0                           \n",
       "21       0                             0                           \n",
       "22       0                             0                           \n",
       "23       0                             0                           \n",
       "24       0                             0                           \n",
       "25       0                             0                           \n",
       "26       0                             0                           \n",
       "27       0                             0                           \n",
       "28       0                             0                           \n",
       "29       0                             0                           \n",
       "30       0                             0                           \n",
       "⋮       ⋮                             ⋮                            \n",
       "4892999  0                             0                           \n",
       "4893000  0                             0                           \n",
       "4893001  0                             0                           \n",
       "4893002  0                             0                           \n",
       "4893003  0                             0                           \n",
       "4893004  0                             0                           \n",
       "4893005  0                             0                           \n",
       "4893006  0                             0                           \n",
       "4893007  0                             0                           \n",
       "4893008 NA                            NA                           \n",
       "4893009 NA                            NA                           \n",
       "4893010 NA                            NA                           \n",
       "4893011  0                            NA                           \n",
       "4893012  0                            NA                           \n",
       "4893013  0                            NA                           \n",
       "4893014  0                             0                           \n",
       "4893015  0                             0                           \n",
       "4893016  0                             0                           \n",
       "4893017  0                             0                           \n",
       "4893018  0                             0                           \n",
       "4893019  0                             0                           \n",
       "4893020  0                             0                           \n",
       "4893021  0                             0                           \n",
       "4893022  0                             0                           \n",
       "4893023  0                             0                           \n",
       "4893024  0                             0                           \n",
       "4893025  0                             0                           \n",
       "4893026  0                             0                           \n",
       "4893027  0                             0                           \n",
       "4893028  0                             0                           \n",
       "        lag_1_Visa_mpagominimo lag_3_Visa_mpagominimo lag_6_Visa_mpagominimo\n",
       "1           NA                     NA                     NA                \n",
       "2        58.65                     NA                     NA                \n",
       "3        58.65                     NA                     NA                \n",
       "4        70.38                  58.65                     NA                \n",
       "5        70.38                  58.65                     NA                \n",
       "6        70.38                  70.38                     NA                \n",
       "7        82.11                  70.38                  58.65                \n",
       "8        70.38                  70.38                  58.65                \n",
       "9        82.11                  82.11                  70.38                \n",
       "10       93.84                  70.38                  70.38                \n",
       "11       82.11                  82.11                  70.38                \n",
       "12       35.19                  93.84                  82.11                \n",
       "13       93.84                  82.11                  70.38                \n",
       "14        0.00                  35.19                  82.11                \n",
       "15       93.84                  93.84                  93.84                \n",
       "16       93.84                   0.00                  82.11                \n",
       "17       93.84                  93.84                  35.19                \n",
       "18      129.03                  93.84                  93.84                \n",
       "19      105.57                  93.84                   0.00                \n",
       "20      117.30                 129.03                  93.84                \n",
       "21      129.03                 105.57                  93.84                \n",
       "22      117.30                 117.30                  93.84                \n",
       "23      140.76                 129.03                 129.03                \n",
       "24      129.03                 117.30                 105.57                \n",
       "25      152.49                 140.76                 117.30                \n",
       "26      187.68                 129.03                 129.03                \n",
       "27      175.95                 152.49                 117.30                \n",
       "28      234.60                 187.68                 140.76                \n",
       "29      187.68                 175.95                 129.03                \n",
       "30      258.06                 234.60                 152.49                \n",
       "⋮       ⋮                      ⋮                      ⋮                     \n",
       "4892999    0.00                   0.00                1219.92               \n",
       "4893000    0.00                   0.00                5372.34               \n",
       "4893001    0.00                   0.00                   0.00               \n",
       "4893002 3706.68                   0.00                   0.00               \n",
       "4893003 3214.02                   0.00                   0.00               \n",
       "4893004 4187.61                3706.68                   0.00               \n",
       "4893005    0.00                3214.02                   0.00               \n",
       "4893006 4046.85                4187.61                   0.00               \n",
       "4893007 4046.85                   0.00                3706.68               \n",
       "4893008      NA                     NA                     NA               \n",
       "4893009 1161.27                     NA                     NA               \n",
       "4893010 1090.89                     NA                     NA               \n",
       "4893011 1067.43                1161.27                     NA               \n",
       "4893012 1149.54                1090.89                     NA               \n",
       "4893013 1219.92                1067.43                     NA               \n",
       "4893014 1419.33                1149.54                1161.27               \n",
       "4893015 1818.15                1219.92                1090.89               \n",
       "4893016 1888.53                1419.33                1067.43               \n",
       "4893017 1677.39                1818.15                1149.54               \n",
       "4893018 1806.42                1888.53                1219.92               \n",
       "4893019 2451.57                1677.39                1419.33               \n",
       "4893020 2005.83                1806.42                1818.15               \n",
       "4893021 2111.40                2451.57                1888.53               \n",
       "4893022 1841.61                2005.83                1677.39               \n",
       "4893023 1313.76                2111.40                1806.42               \n",
       "4893024  914.94                1841.61                2451.57               \n",
       "4893025 1431.06                1313.76                2005.83               \n",
       "4893026 1724.31                 914.94                2111.40               \n",
       "4893027 1219.92                1431.06                1841.61               \n",
       "4893028  762.45                1724.31                1313.76               "
      ]
     },
     "metadata": {},
     "output_type": "display_data"
    }
   ],
   "source": [
    "dataset"
   ]
  },
  {
   "cell_type": "code",
   "execution_count": 18,
   "metadata": {
    "vscode": {
     "languageId": "r"
    }
   },
   "outputs": [],
   "source": [
    "# paso la clase a binaria que tome valores {0,1}  enteros\n",
    "dataset[, clase01 := ifelse(clase_ternaria == \"CONTINUA\", 0L, 1L)]\n",
    "\n",
    "\n",
    "# los campos que se van a utilizar\n",
    "campos_buenos <- setdiff(\n",
    "  colnames(dataset),\n",
    "  c(\"clase_ternaria\", \"clase01\", \"azar\", \"training\")\n",
    ")"
   ]
  },
  {
   "cell_type": "code",
   "execution_count": 19,
   "metadata": {
    "vscode": {
     "languageId": "r"
    }
   },
   "outputs": [],
   "source": [
    "# defino los datos que forma parte del training\n",
    "# aqui se hace el undersampling de los CONTINUA\n",
    "set.seed(PARAM$trainingstrategy$semilla_azar)\n",
    "dataset[, azar := runif(nrow(dataset))]\n",
    "dataset[, training := 0L]\n",
    "dataset[\n",
    "  foto_mes %in% PARAM$input$training &\n",
    "    (azar <= PARAM$trainingstrategy$undersampling | clase_ternaria %in% c(\"BAJA+1\", \"BAJA+2\")),\n",
    "  training := 1L\n",
    "]"
   ]
  },
  {
   "cell_type": "code",
   "execution_count": 20,
   "metadata": {
    "vscode": {
     "languageId": "r"
    }
   },
   "outputs": [],
   "source": [
    "# dejo los datos en el formato que necesita LightGBM\n",
    "dtrain <- lgb.Dataset(\n",
    "  data = data.matrix(dataset[training == 1L, campos_buenos, with = FALSE]),\n",
    "  label = dataset[training == 1L, clase01],\n",
    "  weight = dataset[training == 1L, \n",
    "    ifelse(clase_ternaria == \"BAJA+2\", 1.0000001, \n",
    "      ifelse(clase_ternaria == \"BAJA+1\", 1.0, 1.0))],\n",
    "  free_raw_data = FALSE\n",
    ")"
   ]
  },
  {
   "cell_type": "code",
   "execution_count": 21,
   "metadata": {
    "vscode": {
     "languageId": "r"
    }
   },
   "outputs": [],
   "source": [
    "# defino los datos que forman parte de validation\n",
    "#  no hay undersampling\n",
    "dataset[, validation := 0L]\n",
    "dataset[ foto_mes %in% PARAM$input$validation,  validation := 1L]\n",
    "\n",
    "dvalidate <- lgb.Dataset(\n",
    "  data = data.matrix(dataset[validation == 1L, campos_buenos, with = FALSE]),\n",
    "  label = dataset[validation == 1L, clase01],\n",
    "  weight = dataset[validation == 1L, \n",
    "    ifelse(clase_ternaria == \"BAJA+2\", 1.0000001, \n",
    "      ifelse(clase_ternaria == \"BAJA+1\", 1.0, 1.0))],\n",
    "  free_raw_data = FALSE\n",
    ")"
   ]
  },
  {
   "cell_type": "code",
   "execution_count": 22,
   "metadata": {
    "vscode": {
     "languageId": "r"
    }
   },
   "outputs": [],
   "source": [
    "# defino los datos de testing\n",
    "dataset[, testing := 0L]\n",
    "dataset[ foto_mes %in% PARAM$input$testing,  testing := 1L]\n",
    "\n",
    "\n",
    "dataset_test <- dataset[testing == 1, ]"
   ]
  },
  {
   "cell_type": "code",
   "execution_count": 23,
   "metadata": {
    "vscode": {
     "languageId": "r"
    }
   },
   "outputs": [
    {
     "data": {
      "text/html": [
       "<table class=\"dataframe\">\n",
       "<caption>A matrix: 2 × 6 of type dbl</caption>\n",
       "<thead>\n",
       "\t<tr><th></th><th scope=col>used</th><th scope=col>(Mb)</th><th scope=col>gc trigger</th><th scope=col>(Mb)</th><th scope=col>max used</th><th scope=col>(Mb)</th></tr>\n",
       "</thead>\n",
       "<tbody>\n",
       "\t<tr><th scope=row>Ncells</th><td>  2244347</td><td> 119.9</td><td>  16016044</td><td>  855.4</td><td>  22909774</td><td> 1223.6</td></tr>\n",
       "\t<tr><th scope=row>Vcells</th><td>783392173</td><td>5976.9</td><td>5258651254</td><td>40120.4</td><td>6843588264</td><td>52212.5</td></tr>\n",
       "</tbody>\n",
       "</table>\n"
      ],
      "text/latex": [
       "A matrix: 2 × 6 of type dbl\n",
       "\\begin{tabular}{r|llllll}\n",
       "  & used & (Mb) & gc trigger & (Mb) & max used & (Mb)\\\\\n",
       "\\hline\n",
       "\tNcells &   2244347 &  119.9 &   16016044 &   855.4 &   22909774 &  1223.6\\\\\n",
       "\tVcells & 783392173 & 5976.9 & 5258651254 & 40120.4 & 6843588264 & 52212.5\\\\\n",
       "\\end{tabular}\n"
      ],
      "text/markdown": [
       "\n",
       "A matrix: 2 × 6 of type dbl\n",
       "\n",
       "| <!--/--> | used | (Mb) | gc trigger | (Mb) | max used | (Mb) |\n",
       "|---|---|---|---|---|---|---|\n",
       "| Ncells |   2244347 |  119.9 |   16016044 |   855.4 |   22909774 |  1223.6 |\n",
       "| Vcells | 783392173 | 5976.9 | 5258651254 | 40120.4 | 6843588264 | 52212.5 |\n",
       "\n"
      ],
      "text/plain": [
       "       used      (Mb)   gc trigger (Mb)    max used   (Mb)   \n",
       "Ncells   2244347  119.9   16016044   855.4   22909774  1223.6\n",
       "Vcells 783392173 5976.9 5258651254 40120.4 6843588264 52212.5"
      ]
     },
     "metadata": {},
     "output_type": "display_data"
    }
   ],
   "source": [
    "# libero espacio\n",
    "rm(dataset)\n",
    "gc()"
   ]
  },
  {
   "cell_type": "code",
   "execution_count": 24,
   "metadata": {
    "vscode": {
     "languageId": "r"
    }
   },
   "outputs": [],
   "source": [
    "# Aqui comienza la configuracion de la Bayesian Optimization\n",
    "funcion_optimizar <- EstimarGanancia_lightgbm # la funcion que voy a maximizar\n",
    "\n",
    "configureMlr(show.learner.output = FALSE)\n",
    "\n",
    "# configuro la busqueda bayesiana,  los hiperparametros que se van a optimizar\n",
    "# por favor, no desesperarse por lo complejo\n",
    "obj.fun <- makeSingleObjectiveFunction(\n",
    "  fn = funcion_optimizar, # la funcion que voy a maximizar\n",
    "  minimize = FALSE, # estoy Maximizando la ganancia\n",
    "  noisy = TRUE,\n",
    "  par.set = PARAM$bo_lgb, # definido al comienzo del programa\n",
    "  has.simple.signature = FALSE # paso los parametros en una lista\n",
    ")\n",
    "\n",
    "# cada 600 segundos guardo el resultado intermedio\n",
    "ctrl <- makeMBOControl(\n",
    "  save.on.disk.at.time = 600, # se graba cada 600 segundos\n",
    "  save.file.path = kbayesiana\n",
    ") # se graba cada 600 segundos\n",
    "\n",
    "# indico la cantidad de iteraciones que va a tener la Bayesian Optimization\n",
    "ctrl <- setMBOControlTermination(\n",
    "  ctrl,\n",
    "  iters = PARAM$bo_iteraciones\n",
    ") # cantidad de iteraciones\n",
    "\n",
    "# defino el método estandar para la creacion de los puntos iniciales,\n",
    "# los \"No Inteligentes\"\n",
    "ctrl <- setMBOControlInfill(ctrl, crit = makeMBOInfillCritEI())\n",
    "\n",
    "\n",
    "# establezco la funcion que busca el maximo\n",
    "surr.km <- makeLearner(\n",
    "  \"regr.km\",\n",
    "  predict.type = \"se\",\n",
    "  covtype = \"matern3_2\",\n",
    "  control = list(trace = TRUE)\n",
    ")"
   ]
  },
  {
   "cell_type": "code",
   "execution_count": 25,
   "metadata": {
    "vscode": {
     "languageId": "r"
    }
   },
   "outputs": [
    {
     "name": "stderr",
     "output_type": "stream",
     "text": [
      "Computing y column(s) for design. Not provided.\n",
      "\n"
     ]
    },
    {
     "name": "stdout",
     "output_type": "stream",
     "text": [
      "Validate  1     820    105147798     108612308    \n",
      "20231104 051039\t602\t976271\tgbdt\tbinary\tcustom\tTRUE\tTRUE\tFALSE\tTRUE\t-100\t-1\t0\t0.001\t0\t0\t31\t399\t1\t1\t1\tFALSE\t1\t0.1\t50\t0.5\tTRUE\t279511\t0.13694120913744\t0.511200065682206\t759\t20645\t14326\t141615191.404298\t1\n",
      "Validate  2     470    105623574     105623574    \n",
      "20231104 051405\t602\t976271\tgbdt\tbinary\tcustom\tTRUE\tTRUE\tFALSE\tTRUE\t-100\t-1\t0\t0.001\t0\t0\t31\t35\t1\t1\t1\tFALSE\t1\t0.1\t50\t0.5\tTRUE\t279511\t0.10871455284534\t0.383395616570779\t371\t38535\t12652\t136609593.203398\t2\n",
      "Validate  3     690    102108451     105115845    \n",
      "20231104 051844\t602\t976271\tgbdt\tbinary\tcustom\tTRUE\tTRUE\tFALSE\tTRUE\t-100\t-1\t0\t0.001\t0\t0\t31\t272\t1\t1\t1\tFALSE\t1\t0.1\t50\t0.5\tTRUE\t279511\t0.153177819112316\t0.276715104630857\t621\t15235\t12668\t140902730.634683\t3\n",
      "Validate  4     660    95407565     102675377     \n",
      "20231104 052143\t602\t976271\tgbdt\tbinary\tcustom\tTRUE\tTRUE\tFALSE\tTRUE\t-100\t-1\t0\t0.001\t0\t0\t31\t253\t1\t1\t1\tFALSE\t1\t0.1\t50\t0.5\tTRUE\t279511\t0.271073784258333\t0.78185350669577\t116\t34014\t15020\t136361889.055472\t4\n",
      "Validate  5     610    95690287     101757958     \n",
      "20231104 052703\t602\t976271\tgbdt\tbinary\tcustom\tTRUE\tTRUE\tFALSE\tTRUE\t-100\t-1\t0\t0.001\t0\t0\t31\t198\t1\t1\t1\tFALSE\t1\t0.1\t50\t0.5\tTRUE\t279511\t0.238883439445053\t0.644795008537039\t542\t2127\t14054\t136554033.983009\t5\n",
      "Validate  6     1080    104188224     105200940    \n",
      "20231104 053140\t602\t976271\tgbdt\tbinary\tcustom\tTRUE\tTRUE\tFALSE\tTRUE\t-100\t-1\t0\t0.001\t0\t0\t31\t644\t1\t1\t1\tFALSE\t1\t0.1\t50\t0.5\tTRUE\t279511\t0.0900664854224306\t0.0754280283300613\t412\t23029\t10467\t143230050.474763\t6\n",
      "Validate  7     590    98463252     106577592     \n",
      "20231104 053451\t602\t976271\tgbdt\tbinary\tcustom\tTRUE\tTRUE\tFALSE\tTRUE\t-100\t-1\t0\t0.001\t0\t0\t31\t176\t1\t1\t1\tFALSE\t1\t0.1\t50\t0.5\tTRUE\t279511\t0.186720657731057\t0.696503204608016\t661\t16723\t15586\t137061378.310845\t7\n",
      "Validate  8     550    99049552     105694763     \n",
      "20231104 053715\t602\t976271\tgbdt\tbinary\tcustom\tTRUE\tTRUE\tFALSE\tTRUE\t-100\t-1\t0\t0.001\t0\t0\t31\t60\t1\t1\t1\tFALSE\t1\t0.1\t50\t0.5\tTRUE\t279511\t0.0429818473849446\t0.840359180488013\t150\t42638\t15411\t134464329.335332\t8\n",
      "Validate  9     550    102286578     106624535    \n",
      "20231104 054209\t602\t976271\tgbdt\tbinary\tcustom\tTRUE\tTRUE\tFALSE\tTRUE\t-100\t-1\t0\t0.001\t0\t0\t31\t127\t1\t1\t1\tFALSE\t1\t0.1\t50\t0.5\tTRUE\t279511\t0.166457323828363\t0.380679800144862\t905\t3322\t13484\t137726682.658671\t9\n",
      "Validate  10     480    101662224     102589555    \n",
      "20231104 054603\t602\t976271\tgbdt\tbinary\tcustom\tTRUE\tTRUE\tFALSE\tTRUE\t-100\t-1\t0\t0.001\t0\t0\t31\t32\t1\t1\t1\tFALSE\t1\t0.1\t50\t0.5\tTRUE\t279511\t0.0768787990038982\t0.575646079617873\t831\t46409\t13641\t128659226.886557\t10\n",
      "Validate  11     920    100148608     104666848    \n",
      "20231104 055336\t602\t976271\tgbdt\tbinary\tcustom\tTRUE\tTRUE\tFALSE\tTRUE\t-100\t-1\t0\t0.001\t0\t0\t31\t505\t1\t1\t1\tFALSE\t1\t0.1\t50\t0.5\tTRUE\t279511\t0.199060535248718\t0.482284466433484\t268\t29593\t11923\t142063677.661169\t11\n",
      "Validate  12     530    98039212     101475015     \n",
      "20231104 055530\t602\t976271\tgbdt\tbinary\tcustom\tTRUE\tTRUE\tFALSE\tTRUE\t-100\t-1\t0\t0.001\t0\t0\t31\t118\t1\t1\t1\tFALSE\t1\t0.1\t50\t0.5\tTRUE\t279511\t0.218087663662154\t0.0349420346751867\t500\t8456\t15701\t133673689.655172\t12\n",
      "Validate  13     1010    98571663     102877755    \n",
      "20231104 055944\t602\t976271\tgbdt\tbinary\tcustom\tTRUE\tTRUE\tFALSE\tTRUE\t-100\t-1\t0\t0.001\t0\t0\t31\t594\t1\t1\t1\tFALSE\t1\t0.1\t50\t0.5\tTRUE\t279511\t0.247791156655876\t0.936292199923046\t887\t48584\t12788\t142064009.995003\t13\n",
      "Validate  14     650    97421414     105258440     \n",
      "20231104 060338\t602\t976271\tgbdt\tbinary\tcustom\tTRUE\tTRUE\tFALSE\tTRUE\t-100\t-1\t0\t0.001\t0\t0\t31\t113\t1\t1\t1\tFALSE\t1\t0.1\t50\t0.5\tTRUE\t279511\t0.0278307219524868\t0.240808322774392\t56\t34450\t13958\t128553590.204898\t14\n",
      "Validate  15     2050    106131324     109109840    \n",
      "20231104 061349\t602\t976271\tgbdt\tbinary\tcustom\tTRUE\tTRUE\tFALSE\tTRUE\t-100\t-1\t0\t0.001\t0\t0\t31\t1601\t1\t1\t1\tFALSE\t1\t0.1\t50\t0.5\tTRUE\t279511\t0.0708034699544078\t0.142060961340176\t995\t27067\t12639\t141485080.95952\t15\n",
      "Validate  16     500    99957086     103103269     \n",
      "20231104 061650\t602\t976271\tgbdt\tbinary\tcustom\tTRUE\tTRUE\tFALSE\tTRUE\t-100\t-1\t0\t0.001\t0\t0\t31\t94\t1\t1\t1\tFALSE\t1\t0.1\t50\t0.5\tTRUE\t279511\t0.291614252373693\t0.946646284638409\t253\t10265\t12932\t141255550.224888\t16\n"
     ]
    },
    {
     "name": "stderr",
     "output_type": "stream",
     "text": [
      "[mbo] 0: learning_rate=0.137; feature_fraction=0.511; num_leaves=759; min_data_in_leaf=20645 : y = 1.42e+08 : 452.7 secs : initdesign\n",
      "\n",
      "[mbo] 0: learning_rate=0.109; feature_fraction=0.383; num_leaves=371; min_data_in_leaf=38535 : y = 1.37e+08 : 206.7 secs : initdesign\n",
      "\n",
      "[mbo] 0: learning_rate=0.153; feature_fraction=0.277; num_leaves=621; min_data_in_leaf=15235 : y = 1.41e+08 : 278.2 secs : initdesign\n",
      "\n",
      "[mbo] 0: learning_rate=0.271; feature_fraction=0.782; num_leaves=116; min_data_in_leaf=34014 : y = 1.36e+08 : 179.1 secs : initdesign\n",
      "\n",
      "[mbo] 0: learning_rate=0.239; feature_fraction=0.645; num_leaves=542; min_data_in_leaf=2127 : y = 1.37e+08 : 320.0 secs : initdesign\n",
      "\n",
      "[mbo] 0: learning_rate=0.0901; feature_fraction=0.0754; num_leaves=412; min_data_in_leaf=23029 : y = 1.43e+08 : 277.5 secs : initdesign\n",
      "\n",
      "[mbo] 0: learning_rate=0.187; feature_fraction=0.697; num_leaves=661; min_data_in_leaf=16723 : y = 1.37e+08 : 190.6 secs : initdesign\n",
      "\n",
      "[mbo] 0: learning_rate=0.043; feature_fraction=0.84; num_leaves=150; min_data_in_leaf=42638 : y = 1.34e+08 : 144.6 secs : initdesign\n",
      "\n",
      "[mbo] 0: learning_rate=0.166; feature_fraction=0.381; num_leaves=905; min_data_in_leaf=3322 : y = 1.38e+08 : 294.0 secs : initdesign\n",
      "\n",
      "[mbo] 0: learning_rate=0.0769; feature_fraction=0.576; num_leaves=831; min_data_in_leaf=46409 : y = 1.29e+08 : 233.8 secs : initdesign\n",
      "\n",
      "[mbo] 0: learning_rate=0.199; feature_fraction=0.482; num_leaves=268; min_data_in_leaf=29593 : y = 1.42e+08 : 453.0 secs : initdesign\n",
      "\n",
      "[mbo] 0: learning_rate=0.218; feature_fraction=0.0349; num_leaves=500; min_data_in_leaf=8456 : y = 1.34e+08 : 113.9 secs : initdesign\n",
      "\n",
      "[mbo] 0: learning_rate=0.248; feature_fraction=0.936; num_leaves=887; min_data_in_leaf=48584 : y = 1.42e+08 : 253.6 secs : initdesign\n",
      "\n",
      "[mbo] 0: learning_rate=0.0278; feature_fraction=0.241; num_leaves=56; min_data_in_leaf=34450 : y = 1.29e+08 : 233.9 secs : initdesign\n",
      "\n",
      "[mbo] 0: learning_rate=0.0708; feature_fraction=0.142; num_leaves=995; min_data_in_leaf=27067 : y = 1.41e+08 : 611.8 secs : initdesign\n",
      "\n",
      "[mbo] 0: learning_rate=0.292; feature_fraction=0.947; num_leaves=253; min_data_in_leaf=10265 : y = 1.41e+08 : 180.6 secs : initdesign\n",
      "\n",
      "Saved the current state after iteration 1 in the file HT8230 (Clase 12, Base Sem1).RDATA.\n",
      "\n"
     ]
    },
    {
     "name": "stdout",
     "output_type": "stream",
     "text": [
      "Validate  17     540    103461438     107846019    \n",
      "20231104 061903\t602\t976271\tgbdt\tbinary\tcustom\tTRUE\tTRUE\tFALSE\tTRUE\t-100\t-1\t0\t0.001\t0\t0\t31\t104\t1\t1\t1\tFALSE\t1\t0.1\t50\t0.5\tTRUE\t279511\t0.101013871860902\t0.0663892482684551\t824\t22274\t14710\t136904782.608696\t17\n"
     ]
    },
    {
     "name": "stderr",
     "output_type": "stream",
     "text": [
      "[mbo] 1: learning_rate=0.101; feature_fraction=0.0664; num_leaves=824; min_data_in_leaf=22274 : y = 1.37e+08 : 130.5 secs : infill_ei\n",
      "\n"
     ]
    },
    {
     "name": "stdout",
     "output_type": "stream",
     "text": [
      "Validate  18     660    100473837     105673284    \n",
      "20231104 062108\t602\t976271\tgbdt\tbinary\tcustom\tTRUE\tTRUE\tFALSE\tTRUE\t-100\t-1\t0\t0.001\t0\t0\t31\t231\t1\t1\t1\tFALSE\t1\t0.1\t50\t0.5\tTRUE\t279511\t0.110138965699545\t0.0202080604288064\t419\t12463\t13516\t134298564.717641\t18\n"
     ]
    },
    {
     "name": "stderr",
     "output_type": "stream",
     "text": [
      "[mbo] 2: learning_rate=0.11; feature_fraction=0.0202; num_leaves=419; min_data_in_leaf=12463 : y = 1.34e+08 : 124.8 secs : infill_ei\n",
      "\n"
     ]
    },
    {
     "name": "stdout",
     "output_type": "stream",
     "text": [
      "Validate  19     600    98870890     104128106     \n",
      "20231104 062523\t602\t976271\tgbdt\tbinary\tcustom\tTRUE\tTRUE\tFALSE\tTRUE\t-100\t-1\t0\t0.001\t0\t0\t31\t190\t1\t1\t1\tFALSE\t1\t0.1\t50\t0.5\tTRUE\t279511\t0.294231507064609\t0.310656914588514\t412\t19314\t12191\t137169946.526737\t19\n"
     ]
    },
    {
     "name": "stderr",
     "output_type": "stream",
     "text": [
      "[mbo] 3: learning_rate=0.294; feature_fraction=0.311; num_leaves=412; min_data_in_leaf=19314 : y = 1.37e+08 : 254.1 secs : infill_ei\n",
      "\n"
     ]
    },
    {
     "name": "stdout",
     "output_type": "stream",
     "text": [
      "Validate  20     850    103188935     106765802    \n",
      "20231104 063235\t602\t976271\tgbdt\tbinary\tcustom\tTRUE\tTRUE\tFALSE\tTRUE\t-100\t-1\t0\t0.001\t0\t0\t31\t433\t1\t1\t1\tFALSE\t1\t0.1\t50\t0.5\tTRUE\t279511\t0.219295176006098\t0.533428394957128\t379\t30892\t13308\t135468407.796102\t20\n"
     ]
    },
    {
     "name": "stderr",
     "output_type": "stream",
     "text": [
      "[mbo] 4: learning_rate=0.219; feature_fraction=0.533; num_leaves=379; min_data_in_leaf=30892 : y = 1.35e+08 : 431.7 secs : infill_ei\n",
      "\n",
      "Saved the current state after iteration 5 in the file HT8230 (Clase 12, Base Sem1).RDATA.\n",
      "\n"
     ]
    },
    {
     "name": "stdout",
     "output_type": "stream",
     "text": [
      "Validate  21     480    103901465     104928030    \n",
      "20231104 063644\t602\t976271\tgbdt\tbinary\tcustom\tTRUE\tTRUE\tFALSE\tTRUE\t-100\t-1\t0\t0.001\t0\t0\t31\t30\t1\t1\t1\tFALSE\t1\t0.1\t50\t0.5\tTRUE\t279511\t0.0679463801090529\t0.519576129272802\t1024\t32800\t15792\t131054860.569715\t21\n"
     ]
    },
    {
     "name": "stderr",
     "output_type": "stream",
     "text": [
      "[mbo] 5: learning_rate=0.0679; feature_fraction=0.52; num_leaves=1024; min_data_in_leaf=32800 : y = 1.31e+08 : 246.3 secs : infill_ei\n",
      "\n"
     ]
    },
    {
     "name": "stdout",
     "output_type": "stream",
     "text": [
      "Validate  22     550    100477731     104430583    \n",
      "20231104 063927\t602\t976271\tgbdt\tbinary\tcustom\tTRUE\tTRUE\tFALSE\tTRUE\t-100\t-1\t0\t0.001\t0\t0\t31\t141\t1\t1\t1\tFALSE\t1\t0.1\t50\t0.5\tTRUE\t279511\t0.299691394519305\t0.64672403506852\t23\t22695\t13379\t139106620.189905\t22\n"
     ]
    },
    {
     "name": "stderr",
     "output_type": "stream",
     "text": [
      "[mbo] 6: learning_rate=0.3; feature_fraction=0.647; num_leaves=23; min_data_in_leaf=22695 : y = 1.39e+08 : 162.8 secs : infill_ei\n",
      "\n"
     ]
    },
    {
     "name": "stdout",
     "output_type": "stream",
     "text": [
      "Validate  23     830    104357893     106961865    \n",
      "20231104 064235\t602\t976271\tgbdt\tbinary\tcustom\tTRUE\tTRUE\tFALSE\tTRUE\t-100\t-1\t0\t0.001\t0\t0\t31\t281\t1\t1\t1\tFALSE\t1\t0.1\t50\t0.5\tTRUE\t279511\t0.0255868075238671\t0.0382536196312106\t419\t3467\t12402\t134828878.56072\t23\n"
     ]
    },
    {
     "name": "stderr",
     "output_type": "stream",
     "text": [
      "[mbo] 7: learning_rate=0.0256; feature_fraction=0.0383; num_leaves=419; min_data_in_leaf=3467 : y = 1.35e+08 : 188.1 secs : infill_ei\n",
      "\n"
     ]
    },
    {
     "name": "stdout",
     "output_type": "stream",
     "text": [
      "Validate  24     560    100524313     104350798    \n",
      "20231104 064539\t602\t976271\tgbdt\tbinary\tcustom\tTRUE\tTRUE\tFALSE\tTRUE\t-100\t-1\t0\t0.001\t0\t0\t31\t150\t1\t1\t1\tFALSE\t1\t0.1\t50\t0.5\tTRUE\t279511\t0.245828110313213\t0.950938090583383\t887\t16110\t11676\t142701083.458271\t24\n"
     ]
    },
    {
     "name": "stderr",
     "output_type": "stream",
     "text": [
      "[mbo] 8: learning_rate=0.246; feature_fraction=0.951; num_leaves=887; min_data_in_leaf=16110 : y = 1.43e+08 : 183.1 secs : infill_ei\n",
      "\n",
      "Saved the current state after iteration 9 in the file HT8230 (Clase 12, Base Sem1).RDATA.\n",
      "\n"
     ]
    },
    {
     "name": "stdout",
     "output_type": "stream",
     "text": [
      "Validate  25     730    102408730     104775857    \n",
      "20231104 064910\t602\t976271\tgbdt\tbinary\tcustom\tTRUE\tTRUE\tFALSE\tTRUE\t-100\t-1\t0\t0.001\t0\t0\t31\t314\t1\t1\t1\tFALSE\t1\t0.1\t50\t0.5\tTRUE\t279511\t0.239209927147888\t0.826986486724645\t887\t40318\t11654\t144552994.502749\t25\n"
     ]
    },
    {
     "name": "stderr",
     "output_type": "stream",
     "text": [
      "[mbo] 9: learning_rate=0.239; feature_fraction=0.827; num_leaves=887; min_data_in_leaf=40318 : y = 1.45e+08 : 208.8 secs : infill_ei\n",
      "\n"
     ]
    },
    {
     "name": "stdout",
     "output_type": "stream",
     "text": [
      "Validate  26     830    106261249     108945929    \n",
      "20231104 065322\t602\t976271\tgbdt\tbinary\tcustom\tTRUE\tTRUE\tFALSE\tTRUE\t-100\t-1\t0\t0.001\t0\t0\t31\t396\t1\t1\t1\tFALSE\t1\t0.1\t50\t0.5\tTRUE\t279511\t0.0913849157633263\t0.631066760658777\t887\t33121\t13614\t137991815.092454\t26\n"
     ]
    },
    {
     "name": "stderr",
     "output_type": "stream",
     "text": [
      "[mbo] 10: learning_rate=0.0914; feature_fraction=0.631; num_leaves=887; min_data_in_leaf=33121 : y = 1.38e+08 : 251.7 secs : infill_ei\n",
      "\n"
     ]
    },
    {
     "name": "stdout",
     "output_type": "stream",
     "text": [
      "Validate  27     540    99578456     106291999     \n",
      "20231104 065626\t602\t976271\tgbdt\tbinary\tcustom\tTRUE\tTRUE\tFALSE\tTRUE\t-100\t-1\t0\t0.001\t0\t0\t31\t129\t1\t1\t1\tFALSE\t1\t0.1\t50\t0.5\tTRUE\t279511\t0.208098987674311\t0.836842908708031\t887\t15992\t13886\t136140008.995502\t27\n"
     ]
    },
    {
     "name": "stderr",
     "output_type": "stream",
     "text": [
      "[mbo] 11: learning_rate=0.208; feature_fraction=0.837; num_leaves=887; min_data_in_leaf=15992 : y = 1.36e+08 : 183.6 secs : infill_ei\n",
      "\n",
      "Saved the current state after iteration 12 in the file HT8230 (Clase 12, Base Sem1).RDATA.\n",
      "\n"
     ]
    },
    {
     "name": "stdout",
     "output_type": "stream",
     "text": [
      "Validate  28     460    101694317     102852788    \n",
      "20231104 065952\t602\t976271\tgbdt\tbinary\tcustom\tTRUE\tTRUE\tFALSE\tTRUE\t-100\t-1\t0\t0.001\t0\t0\t31\t30\t1\t1\t1\tFALSE\t1\t0.1\t50\t0.5\tTRUE\t279511\t0.110472577592436\t0.394277099015684\t865\t41216\t15532\t128085895.052474\t28\n"
     ]
    },
    {
     "name": "stderr",
     "output_type": "stream",
     "text": [
      "[mbo] 12: learning_rate=0.11; feature_fraction=0.394; num_leaves=865; min_data_in_leaf=41216 : y = 1.28e+08 : 203.7 secs : infill_ei\n",
      "\n"
     ]
    },
    {
     "name": "stdout",
     "output_type": "stream",
     "text": [
      "Validate  29     1120    108960555     110813722    \n",
      "20231104 070649\t602\t976271\tgbdt\tbinary\tcustom\tTRUE\tTRUE\tFALSE\tTRUE\t-100\t-1\t0\t0.001\t0\t0\t31\t631\t1\t1\t1\tFALSE\t1\t0.1\t50\t0.5\tTRUE\t279511\t0.0419489395878789\t0.84226222783401\t622\t9623\t14184\t147592659.670165\t29\n"
     ]
    },
    {
     "name": "stderr",
     "output_type": "stream",
     "text": [
      "[mbo] 13: learning_rate=0.0419; feature_fraction=0.842; num_leaves=622; min_data_in_leaf=9623 : y = 1.48e+08 : 416.4 secs : infill_ei\n",
      "\n",
      "Saved the current state after iteration 14 in the file HT8230 (Clase 12, Base Sem1).RDATA.\n",
      "\n"
     ]
    },
    {
     "name": "stdout",
     "output_type": "stream",
     "text": [
      "Validate  30     1020    100845995     104260998    \n",
      "20231104 071125\t602\t976271\tgbdt\tbinary\tcustom\tTRUE\tTRUE\tFALSE\tTRUE\t-100\t-1\t0\t0.001\t0\t0\t31\t606\t1\t1\t1\tFALSE\t1\t0.1\t50\t0.5\tTRUE\t279511\t0.169387332471536\t0.939534645981941\t711\t42638\t13524\t146277807.096452\t30\n"
     ]
    },
    {
     "name": "stderr",
     "output_type": "stream",
     "text": [
      "[mbo] 14: learning_rate=0.169; feature_fraction=0.94; num_leaves=711; min_data_in_leaf=42638 : y = 1.46e+08 : 273.0 secs : infill_ei\n",
      "\n"
     ]
    },
    {
     "name": "stdout",
     "output_type": "stream",
     "text": [
      "Validate  31     820    98953252     104559084     \n",
      "20231104 071651\t602\t976271\tgbdt\tbinary\tcustom\tTRUE\tTRUE\tFALSE\tTRUE\t-100\t-1\t0\t0.001\t0\t0\t31\t404\t1\t1\t1\tFALSE\t1\t0.1\t50\t0.5\tTRUE\t279511\t0.231584919452235\t0.173097595043487\t920\t2080\t13524\t130318926.536732\t31\n"
     ]
    },
    {
     "name": "stderr",
     "output_type": "stream",
     "text": [
      "[mbo] 15: learning_rate=0.232; feature_fraction=0.173; num_leaves=920; min_data_in_leaf=2080 : y = 1.3e+08 : 326.0 secs : infill_ei\n",
      "\n"
     ]
    },
    {
     "name": "stdout",
     "output_type": "stream",
     "text": [
      "Validate  32     860    94289552     101223603     \n",
      "20231104 071920\t602\t976271\tgbdt\tbinary\tcustom\tTRUE\tTRUE\tFALSE\tTRUE\t-100\t-1\t0\t0.001\t0\t0\t31\t455\t1\t1\t1\tFALSE\t1\t0.1\t50\t0.5\tTRUE\t279511\t0.285965586658801\t0.0141181996187581\t180\t41347\t13540\t134050244.877561\t32\n"
     ]
    },
    {
     "name": "stderr",
     "output_type": "stream",
     "text": [
      "[mbo] 16: learning_rate=0.286; feature_fraction=0.0141; num_leaves=180; min_data_in_leaf=41347 : y = 1.34e+08 : 148.6 secs : infill_ei\n",
      "\n",
      "Saved the current state after iteration 17 in the file HT8230 (Clase 12, Base Sem1).RDATA.\n",
      "\n"
     ]
    },
    {
     "name": "stdout",
     "output_type": "stream",
     "text": [
      "Validate  33     720    101711459     105275417    \n",
      "20231104 072333\t602\t976271\tgbdt\tbinary\tcustom\tTRUE\tTRUE\tFALSE\tTRUE\t-100\t-1\t0\t0.001\t0\t0\t31\t298\t1\t1\t1\tFALSE\t1\t0.1\t50\t0.5\tTRUE\t279511\t0.13902323326852\t0.827545999227408\t324\t15442\t12070\t141175447.276362\t33\n"
     ]
    },
    {
     "name": "stderr",
     "output_type": "stream",
     "text": [
      "[mbo] 17: learning_rate=0.139; feature_fraction=0.828; num_leaves=324; min_data_in_leaf=15442 : y = 1.41e+08 : 249.7 secs : infill_ei\n",
      "\n"
     ]
    },
    {
     "name": "stdout",
     "output_type": "stream",
     "text": [
      "Validate  34     570    102466101     106728423    \n",
      "20231104 072914\t602\t976271\tgbdt\tbinary\tcustom\tTRUE\tTRUE\tFALSE\tTRUE\t-100\t-1\t0\t0.001\t0\t0\t31\t151\t1\t1\t1\tFALSE\t1\t0.1\t50\t0.5\tTRUE\t279511\t0.169078910679355\t0.477624603136291\t924\t3355\t14750\t134509320.33983\t34\n"
     ]
    },
    {
     "name": "stderr",
     "output_type": "stream",
     "text": [
      "[mbo] 18: learning_rate=0.169; feature_fraction=0.478; num_leaves=924; min_data_in_leaf=3355 : y = 1.35e+08 : 340.9 secs : infill_ei\n",
      "\n"
     ]
    },
    {
     "name": "stdout",
     "output_type": "stream",
     "text": [
      "Validate  35     1000    95260089     103315879    \n",
      "20231104 073543\t602\t976271\tgbdt\tbinary\tcustom\tTRUE\tTRUE\tFALSE\tTRUE\t-100\t-1\t0\t0.001\t0\t0\t31\t586\t1\t1\t1\tFALSE\t1\t0.1\t50\t0.5\tTRUE\t279511\t0.26444843462048\t0.794464204651032\t965\t6633\t13019\t133515855.572214\t35\n"
     ]
    },
    {
     "name": "stderr",
     "output_type": "stream",
     "text": [
      "[mbo] 19: learning_rate=0.264; feature_fraction=0.794; num_leaves=965; min_data_in_leaf=6633 : y = 1.34e+08 : 389.0 secs : infill_ei\n",
      "\n",
      "Saved the current state after iteration 20 in the file HT8230 (Clase 12, Base Sem1).RDATA.\n",
      "\n"
     ]
    },
    {
     "name": "stdout",
     "output_type": "stream",
     "text": [
      "Validate  36     1130    111736270     112644567    \n",
      "20231104 074222\t602\t976271\tgbdt\tbinary\tcustom\tTRUE\tTRUE\tFALSE\tTRUE\t-100\t-1\t0\t0.001\t0\t0\t31\t677\t1\t1\t1\tFALSE\t1\t0.1\t50\t0.5\tTRUE\t279511\t0.0716026909889653\t0.938601369674891\t506\t10341\t12072\t146712331.834083\t36\n"
     ]
    },
    {
     "name": "stderr",
     "output_type": "stream",
     "text": [
      "[mbo] 20: learning_rate=0.0716; feature_fraction=0.939; num_leaves=506; min_data_in_leaf=10341 : y = 1.47e+08 : 395.8 secs : infill_ei\n",
      "\n"
     ]
    },
    {
     "name": "stdout",
     "output_type": "stream",
     "text": [
      "Validate  37     470    105014346     107520171    \n",
      "20231104 074547\t602\t976271\tgbdt\tbinary\tcustom\tTRUE\tTRUE\tFALSE\tTRUE\t-100\t-1\t0\t0.001\t0\t0\t31\t38\t1\t1\t1\tFALSE\t1\t0.1\t50\t0.5\tTRUE\t279511\t0.105073615669699\t0.363749007146848\t820\t38314\t13729\t135723426.786607\t37\n"
     ]
    },
    {
     "name": "stderr",
     "output_type": "stream",
     "text": [
      "[mbo] 21: learning_rate=0.105; feature_fraction=0.364; num_leaves=820; min_data_in_leaf=38314 : y = 1.36e+08 : 204.8 secs : infill_ei\n",
      "\n",
      "Saved the current state after iteration 22 in the file HT8230 (Clase 12, Base Sem1).RDATA.\n",
      "\n"
     ]
    },
    {
     "name": "stdout",
     "output_type": "stream",
     "text": [
      "Validate  38     930    103907864     107870220    \n",
      "20231104 075205\t602\t976271\tgbdt\tbinary\tcustom\tTRUE\tTRUE\tFALSE\tTRUE\t-100\t-1\t0\t0.001\t0\t0\t31\t521\t1\t1\t1\tFALSE\t1\t0.1\t50\t0.5\tTRUE\t279511\t0.272804857940276\t0.309934916273431\t516\t37566\t14621\t137900416.291854\t38\n"
     ]
    },
    {
     "name": "stderr",
     "output_type": "stream",
     "text": [
      "[mbo] 22: learning_rate=0.273; feature_fraction=0.31; num_leaves=516; min_data_in_leaf=37566 : y = 1.38e+08 : 375.1 secs : infill_ei\n",
      "\n"
     ]
    },
    {
     "name": "stdout",
     "output_type": "stream",
     "text": [
      "Validate  39     820    99823124     102933489     \n",
      "20231104 075811\t602\t976271\tgbdt\tbinary\tcustom\tTRUE\tTRUE\tFALSE\tTRUE\t-100\t-1\t0\t0.001\t0\t0\t31\t410\t1\t1\t1\tFALSE\t1\t0.1\t50\t0.5\tTRUE\t279511\t0.280918030410593\t0.407511616658682\t503\t49398\t12178\t139145804.097951\t39\n"
     ]
    },
    {
     "name": "stderr",
     "output_type": "stream",
     "text": [
      "[mbo] 23: learning_rate=0.281; feature_fraction=0.408; num_leaves=503; min_data_in_leaf=49398 : y = 1.39e+08 : 366.0 secs : infill_ei\n",
      "\n",
      "Saved the current state after iteration 24 in the file HT8230 (Clase 12, Base Sem1).RDATA.\n",
      "\n"
     ]
    },
    {
     "name": "stdout",
     "output_type": "stream",
     "text": [
      "Validate  40     840    99221096     101503575     \n",
      "20231104 080339\t602\t976271\tgbdt\tbinary\tcustom\tTRUE\tTRUE\tFALSE\tTRUE\t-100\t-1\t0\t0.001\t0\t0\t31\t429\t1\t1\t1\tFALSE\t1\t0.1\t50\t0.5\tTRUE\t279511\t0.269658782215395\t0.293410377101067\t539\t44955\t11782\t138957724.137931\t40\n"
     ]
    },
    {
     "name": "stderr",
     "output_type": "stream",
     "text": [
      "[mbo] 24: learning_rate=0.27; feature_fraction=0.293; num_leaves=539; min_data_in_leaf=44955 : y = 1.39e+08 : 324.7 secs : infill_ei\n",
      "\n"
     ]
    },
    {
     "name": "stdout",
     "output_type": "stream",
     "text": [
      "Validate  41     470    99440751     103879272    \n",
      "20231104 080605\t602\t976271\tgbdt\tbinary\tcustom\tTRUE\tTRUE\tFALSE\tTRUE\t-100\t-1\t0\t0.001\t0\t0\t31\t38\t1\t1\t1\tFALSE\t1\t0.1\t50\t0.5\tTRUE\t279511\t0.106375663572088\t0.165346264801995\t415\t36107\t14533\t129342183.408296\t41\n"
     ]
    },
    {
     "name": "stderr",
     "output_type": "stream",
     "text": [
      "[mbo] 25: learning_rate=0.106; feature_fraction=0.165; num_leaves=415; min_data_in_leaf=36107 : y = 1.29e+08 : 146.3 secs : infill_ei\n",
      "\n"
     ]
    },
    {
     "name": "stdout",
     "output_type": "stream",
     "text": [
      "Validate  42     630    97673291     104608794     \n",
      "20231104 080903\t602\t976271\tgbdt\tbinary\tcustom\tTRUE\tTRUE\tFALSE\tTRUE\t-100\t-1\t0\t0.001\t0\t0\t31\t215\t1\t1\t1\tFALSE\t1\t0.1\t50\t0.5\tTRUE\t279511\t0.226842459986376\t0.853135126530786\t754\t26666\t14054\t144249206.396802\t42\n"
     ]
    },
    {
     "name": "stderr",
     "output_type": "stream",
     "text": [
      "[mbo] 26: learning_rate=0.227; feature_fraction=0.853; num_leaves=754; min_data_in_leaf=26666 : y = 1.44e+08 : 177.3 secs : infill_ei\n",
      "\n",
      "Saved the current state after iteration 27 in the file HT8230 (Clase 12, Base Sem1).RDATA.\n",
      "\n"
     ]
    },
    {
     "name": "stdout",
     "output_type": "stream",
     "text": [
      "Validate  43     820    101871861     106976309    \n",
      "20231104 081538\t602\t976271\tgbdt\tbinary\tcustom\tTRUE\tTRUE\tFALSE\tTRUE\t-100\t-1\t0\t0.001\t0\t0\t31\t407\t1\t1\t1\tFALSE\t1\t0.1\t50\t0.5\tTRUE\t279511\t0.292970490781251\t0.488700571514026\t740\t40599\t12629\t144354941.029485\t43\n"
     ]
    },
    {
     "name": "stderr",
     "output_type": "stream",
     "text": [
      "[mbo] 27: learning_rate=0.293; feature_fraction=0.489; num_leaves=740; min_data_in_leaf=40599 : y = 1.44e+08 : 392.4 secs : infill_ei\n",
      "\n"
     ]
    },
    {
     "name": "stdout",
     "output_type": "stream",
     "text": [
      "Validate  44     1540    106967850     108999799    \n",
      "20231104 082327\t602\t976271\tgbdt\tbinary\tcustom\tTRUE\tTRUE\tFALSE\tTRUE\t-100\t-1\t0\t0.001\t0\t0\t31\t1093\t1\t1\t1\tFALSE\t1\t0.1\t50\t0.5\tTRUE\t279511\t0.0709510212063353\t0.149150602368406\t983\t21400\t11425\t143054725.137431\t44\n"
     ]
    },
    {
     "name": "stderr",
     "output_type": "stream",
     "text": [
      "[mbo] 28: learning_rate=0.071; feature_fraction=0.149; num_leaves=983; min_data_in_leaf=21400 : y = 1.43e+08 : 468.9 secs : infill_ei\n",
      "\n",
      "Saved the current state after iteration 29 in the file HT8230 (Clase 12, Base Sem1).RDATA.\n",
      "\n"
     ]
    },
    {
     "name": "stdout",
     "output_type": "stream",
     "text": [
      "Validate  45     680    102590996     105857288    \n",
      "20231104 082755\t602\t976271\tgbdt\tbinary\tcustom\tTRUE\tTRUE\tFALSE\tTRUE\t-100\t-1\t0\t0.001\t0\t0\t31\t260\t1\t1\t1\tFALSE\t1\t0.1\t50\t0.5\tTRUE\t279511\t0.19547436514964\t0.305046615094262\t18\t25558\t14270\t146606551.724138\t45\n"
     ]
    },
    {
     "name": "stderr",
     "output_type": "stream",
     "text": [
      "[mbo] 29: learning_rate=0.195; feature_fraction=0.305; num_leaves=18; min_data_in_leaf=25558 : y = 1.47e+08 : 264.9 secs : infill_ei\n",
      "\n"
     ]
    },
    {
     "name": "stdout",
     "output_type": "stream",
     "text": [
      "Validate  46     1720    104078456     106244104    \n",
      "20231104 083558\t602\t976271\tgbdt\tbinary\tcustom\tTRUE\tTRUE\tFALSE\tTRUE\t-100\t-1\t0\t0.001\t0\t0\t31\t1282\t1\t1\t1\tFALSE\t1\t0.1\t50\t0.5\tTRUE\t279511\t0.086461430790028\t0.11402842974274\t667\t16154\t12466\t138890403.798101\t46\n"
     ]
    },
    {
     "name": "stderr",
     "output_type": "stream",
     "text": [
      "[mbo] 30: learning_rate=0.0865; feature_fraction=0.114; num_leaves=667; min_data_in_leaf=16154 : y = 1.39e+08 : 482.5 secs : infill_ei\n",
      "\n",
      "Saved the current state after iteration 31 in the file HT8230 (Clase 12, Base Sem1).RDATA.\n",
      "\n"
     ]
    },
    {
     "name": "stdout",
     "output_type": "stream",
     "text": [
      "Validate  47     570    98172145     101691592     \n",
      "20231104 084148\t602\t976271\tgbdt\tbinary\tcustom\tTRUE\tTRUE\tFALSE\tTRUE\t-100\t-1\t0\t0.001\t0\t0\t31\t159\t1\t1\t1\tFALSE\t1\t0.1\t50\t0.5\tTRUE\t279511\t0.284711794150233\t0.493000620373161\t344\t2520\t13815\t119341516.741629\t47\n"
     ]
    },
    {
     "name": "stderr",
     "output_type": "stream",
     "text": [
      "[mbo] 31: learning_rate=0.285; feature_fraction=0.493; num_leaves=344; min_data_in_leaf=2520 : y = 1.19e+08 : 347.1 secs : infill_ei\n",
      "\n"
     ]
    },
    {
     "name": "stdout",
     "output_type": "stream",
     "text": [
      "Validate  48     840    106227438     110443887    \n",
      "20231104 084707\t602\t976271\tgbdt\tbinary\tcustom\tTRUE\tTRUE\tFALSE\tTRUE\t-100\t-1\t0\t0.001\t0\t0\t31\t408\t1\t1\t1\tFALSE\t1\t0.1\t50\t0.5\tTRUE\t279511\t0.10888489240711\t0.924031176311012\t130\t2987\t10828\t141148727.636182\t48\n"
     ]
    },
    {
     "name": "stderr",
     "output_type": "stream",
     "text": [
      "[mbo] 32: learning_rate=0.109; feature_fraction=0.924; num_leaves=130; min_data_in_leaf=2987 : y = 1.41e+08 : 319.0 secs : infill_ei\n",
      "\n",
      "Saved the current state after iteration 33 in the file HT8230 (Clase 12, Base Sem1).RDATA.\n",
      "\n"
     ]
    },
    {
     "name": "stdout",
     "output_type": "stream",
     "text": [
      "Validate  49     760    103967582     106102323    \n",
      "20231104 085416\t602\t976271\tgbdt\tbinary\tcustom\tTRUE\tTRUE\tFALSE\tTRUE\t-100\t-1\t0\t0.001\t0\t0\t31\t332\t1\t1\t1\tFALSE\t1\t0.1\t50\t0.5\tTRUE\t279511\t0.125551790570675\t0.398817350596899\t359\t22591\t12522\t142257204.397801\t49\n"
     ]
    },
    {
     "name": "stderr",
     "output_type": "stream",
     "text": [
      "[mbo] 33: learning_rate=0.126; feature_fraction=0.399; num_leaves=359; min_data_in_leaf=22591 : y = 1.42e+08 : 426.9 secs : infill_ei\n",
      "\n"
     ]
    },
    {
     "name": "stdout",
     "output_type": "stream",
     "text": [
      "Validate  50     1060    106214061     109031594    \n",
      "20231104 090007\t602\t976271\tgbdt\tbinary\tcustom\tTRUE\tTRUE\tFALSE\tTRUE\t-100\t-1\t0\t0.001\t0\t0\t31\t634\t1\t1\t1\tFALSE\t1\t0.1\t50\t0.5\tTRUE\t279511\t0.128833770345874\t0.133067864709428\t974\t5457\t13186\t134511853.073463\t50\n"
     ]
    },
    {
     "name": "stderr",
     "output_type": "stream",
     "text": [
      "[mbo] 34: learning_rate=0.129; feature_fraction=0.133; num_leaves=974; min_data_in_leaf=5457 : y = 1.35e+08 : 349.7 secs : infill_ei\n",
      "\n",
      "Saved the current state after iteration 35 in the file HT8230 (Clase 12, Base Sem1).RDATA.\n",
      "\n"
     ]
    },
    {
     "name": "stdout",
     "output_type": "stream",
     "text": [
      "Validate  51     1320    107274279     110320028    \n",
      "20231104 090710\t602\t976271\tgbdt\tbinary\tcustom\tTRUE\tTRUE\tFALSE\tTRUE\t-100\t-1\t0\t0.001\t0\t0\t31\t859\t1\t1\t1\tFALSE\t1\t0.1\t50\t0.5\tTRUE\t279511\t0.0571398002266601\t0.665752443346846\t1021\t16604\t11203\t143748715.142429\t51\n"
     ]
    },
    {
     "name": "stderr",
     "output_type": "stream",
     "text": [
      "[mbo] 35: learning_rate=0.0571; feature_fraction=0.666; num_leaves=1021; min_data_in_leaf=16604 : y = 1.44e+08 : 420.0 secs : infill_ei\n",
      "\n"
     ]
    },
    {
     "name": "stdout",
     "output_type": "stream",
     "text": [
      "Validate  52     1750    102863916     106301321    \n",
      "20231104 091841\t602\t976271\tgbdt\tbinary\tcustom\tTRUE\tTRUE\tFALSE\tTRUE\t-100\t-1\t0\t0.001\t0\t0\t31\t1315\t1\t1\t1\tFALSE\t1\t0.1\t50\t0.5\tTRUE\t279511\t0.108103123941508\t0.296785164270516\t168\t33304\t12005\t144960782.108946\t52\n"
     ]
    },
    {
     "name": "stderr",
     "output_type": "stream",
     "text": [
      "[mbo] 36: learning_rate=0.108; feature_fraction=0.297; num_leaves=168; min_data_in_leaf=33304 : y = 1.45e+08 : 690.6 secs : infill_ei\n",
      "\n",
      "Saved the current state after iteration 37 in the file HT8230 (Clase 12, Base Sem1).RDATA.\n",
      "\n"
     ]
    },
    {
     "name": "stdout",
     "output_type": "stream",
     "text": [
      "Validate  53     1010    97174948     103089028    \n",
      "20231104 092503\t602\t976271\tgbdt\tbinary\tcustom\tTRUE\tTRUE\tFALSE\tTRUE\t-100\t-1\t0\t0.001\t0\t0\t31\t598\t1\t1\t1\tFALSE\t1\t0.1\t50\t0.5\tTRUE\t279511\t0.292096829640814\t0.270888155342756\t281\t43983\t12243\t139952273.363318\t53\n"
     ]
    },
    {
     "name": "stderr",
     "output_type": "stream",
     "text": [
      "[mbo] 37: learning_rate=0.292; feature_fraction=0.271; num_leaves=281; min_data_in_leaf=43983 : y = 1.4e+08 : 379.8 secs : infill_ei\n",
      "\n"
     ]
    },
    {
     "name": "stdout",
     "output_type": "stream",
     "text": [
      "Validate  54     840    106104184     111279479    \n",
      "20231104 092950\t602\t976271\tgbdt\tbinary\tcustom\tTRUE\tTRUE\tFALSE\tTRUE\t-100\t-1\t0\t0.001\t0\t0\t31\t400\t1\t1\t1\tFALSE\t1\t0.1\t50\t0.5\tTRUE\t279511\t0.0924780665120291\t0.902730003955532\t903\t11552\t11882\t146337004.497751\t54\n"
     ]
    },
    {
     "name": "stderr",
     "output_type": "stream",
     "text": [
      "[mbo] 38: learning_rate=0.0925; feature_fraction=0.903; num_leaves=903; min_data_in_leaf=11552 : y = 1.46e+08 : 286.7 secs : infill_ei\n",
      "\n",
      "Saved the current state after iteration 39 in the file HT8230 (Clase 12, Base Sem1).RDATA.\n",
      "\n"
     ]
    },
    {
     "name": "stdout",
     "output_type": "stream",
     "text": [
      "Validate  55     520    99362887     102781658     \n",
      "20231104 093410\t602\t976271\tgbdt\tbinary\tcustom\tTRUE\tTRUE\tFALSE\tTRUE\t-100\t-1\t0\t0.001\t0\t0\t31\t111\t1\t1\t1\tFALSE\t1\t0.1\t50\t0.5\tTRUE\t279511\t0.222619243825433\t0.607601747462694\t589\t3938\t11484\t142786412.793603\t55\n"
     ]
    },
    {
     "name": "stderr",
     "output_type": "stream",
     "text": [
      "[mbo] 39: learning_rate=0.223; feature_fraction=0.608; num_leaves=589; min_data_in_leaf=3938 : y = 1.43e+08 : 256.7 secs : infill_ei\n",
      "\n"
     ]
    },
    {
     "name": "stdout",
     "output_type": "stream",
     "text": [
      "Validate  56     890    104040678     107624010    \n",
      "20231104 093826\t602\t976271\tgbdt\tbinary\tcustom\tTRUE\tTRUE\tFALSE\tTRUE\t-100\t-1\t0\t0.001\t0\t0\t31\t478\t1\t1\t1\tFALSE\t1\t0.1\t50\t0.5\tTRUE\t279511\t0.216822454386053\t0.110137457048744\t185\t8986\t13105\t127079472.763618\t56\n"
     ]
    },
    {
     "name": "stderr",
     "output_type": "stream",
     "text": [
      "[mbo] 40: learning_rate=0.217; feature_fraction=0.11; num_leaves=185; min_data_in_leaf=8986 : y = 1.27e+08 : 255.9 secs : infill_ei\n",
      "\n"
     ]
    },
    {
     "name": "stdout",
     "output_type": "stream",
     "text": [
      "Validate  57     720    106112412     111541946    \n",
      "20231104 094255\t602\t976271\tgbdt\tbinary\tcustom\tTRUE\tTRUE\tFALSE\tTRUE\t-100\t-1\t0\t0.001\t0\t0\t31\t295\t1\t1\t1\tFALSE\t1\t0.1\t50\t0.5\tTRUE\t279511\t0.115263606182819\t0.955540002846599\t664\t8468\t12629\t148663666.666667\t57\n"
     ]
    },
    {
     "name": "stderr",
     "output_type": "stream",
     "text": [
      "[mbo] 41: learning_rate=0.115; feature_fraction=0.956; num_leaves=664; min_data_in_leaf=8468 : y = 1.49e+08 : 268.7 secs : infill_ei\n",
      "\n",
      "Saved the current state after iteration 42 in the file HT8230 (Clase 12, Base Sem1).RDATA.\n",
      "\n"
     ]
    },
    {
     "name": "stdout",
     "output_type": "stream",
     "text": [
      "Validate  58     940    104264251     107160226    \n",
      "20231104 094724\t602\t976271\tgbdt\tbinary\tcustom\tTRUE\tTRUE\tFALSE\tTRUE\t-100\t-1\t0\t0.001\t0\t0\t31\t508\t1\t1\t1\tFALSE\t1\t0.1\t50\t0.5\tTRUE\t279511\t0.120306532064099\t0.991333544147971\t534\t26044\t12046\t148096050.974513\t58\n"
     ]
    },
    {
     "name": "stderr",
     "output_type": "stream",
     "text": [
      "[mbo] 42: learning_rate=0.12; feature_fraction=0.991; num_leaves=534; min_data_in_leaf=26044 : y = 1.48e+08 : 266.2 secs : infill_ei\n",
      "\n"
     ]
    },
    {
     "name": "stdout",
     "output_type": "stream",
     "text": [
      "Validate  59     1070    105691373     108614711    \n",
      "20231104 095508\t602\t976271\tgbdt\tbinary\tcustom\tTRUE\tTRUE\tFALSE\tTRUE\t-100\t-1\t0\t0.001\t0\t0\t31\t642\t1\t1\t1\tFALSE\t1\t0.1\t50\t0.5\tTRUE\t279511\t0.129870841464413\t0.345546408276365\t736\t20491\t12202\t145753636.181909\t59\n"
     ]
    },
    {
     "name": "stderr",
     "output_type": "stream",
     "text": [
      "[mbo] 43: learning_rate=0.13; feature_fraction=0.346; num_leaves=736; min_data_in_leaf=20491 : y = 1.46e+08 : 463.2 secs : infill_ei\n",
      "\n",
      "Saved the current state after iteration 44 in the file HT8230 (Clase 12, Base Sem1).RDATA.\n",
      "\n"
     ]
    },
    {
     "name": "stdout",
     "output_type": "stream",
     "text": [
      "Validate  60     1020    103250826     106183647    \n",
      "20231104 095946\t602\t976271\tgbdt\tbinary\tcustom\tTRUE\tTRUE\tFALSE\tTRUE\t-100\t-1\t0\t0.001\t0\t0\t31\t600\t1\t1\t1\tFALSE\t1\t0.1\t50\t0.5\tTRUE\t279511\t0.14931170769316\t0.63608184173622\t225\t35605\t14409\t140244706.146927\t60\n"
     ]
    },
    {
     "name": "stderr",
     "output_type": "stream",
     "text": [
      "[mbo] 44: learning_rate=0.149; feature_fraction=0.636; num_leaves=225; min_data_in_leaf=35605 : y = 1.4e+08 : 275.0 secs : infill_ei\n",
      "\n"
     ]
    },
    {
     "name": "stdout",
     "output_type": "stream",
     "text": [
      "Validate  61     920    107858449     109587351    \n",
      "20231104 100400\t602\t976271\tgbdt\tbinary\tcustom\tTRUE\tTRUE\tFALSE\tTRUE\t-100\t-1\t0\t0.001\t0\t0\t31\t482\t1\t1\t1\tFALSE\t1\t0.1\t50\t0.5\tTRUE\t279511\t0.0860455615108918\t0.66525449579991\t204\t29904\t11943\t143760819.090455\t61\n"
     ]
    },
    {
     "name": "stderr",
     "output_type": "stream",
     "text": [
      "[mbo] 45: learning_rate=0.086; feature_fraction=0.665; num_leaves=204; min_data_in_leaf=29904 : y = 1.44e+08 : 253.7 secs : infill_ei\n",
      "\n"
     ]
    },
    {
     "name": "stdout",
     "output_type": "stream",
     "text": [
      "Validate  62     790    105464218     107003056    \n",
      "20231104 100835\t602\t976271\tgbdt\tbinary\tcustom\tTRUE\tTRUE\tFALSE\tTRUE\t-100\t-1\t0\t0.001\t0\t0\t31\t371\t1\t1\t1\tFALSE\t1\t0.1\t50\t0.5\tTRUE\t279511\t0.153472472591604\t0.203979377763206\t540\t17870\t11588\t141381151.424288\t62\n"
     ]
    },
    {
     "name": "stderr",
     "output_type": "stream",
     "text": [
      "[mbo] 46: learning_rate=0.153; feature_fraction=0.204; num_leaves=540; min_data_in_leaf=17870 : y = 1.41e+08 : 273.9 secs : infill_ei\n",
      "\n",
      "Saved the current state after iteration 47 in the file HT8230 (Clase 12, Base Sem1).RDATA.\n",
      "\n"
     ]
    },
    {
     "name": "stdout",
     "output_type": "stream",
     "text": [
      "Validate  63     960    103171041     108111502    \n",
      "20231104 101316\t602\t976271\tgbdt\tbinary\tcustom\tTRUE\tTRUE\tFALSE\tTRUE\t-100\t-1\t0\t0.001\t0\t0\t31\t536\t1\t1\t1\tFALSE\t1\t0.1\t50\t0.5\tTRUE\t279511\t0.125494226251945\t0.949521759855588\t661\t22994\t13199\t147962722.138931\t63\n"
     ]
    },
    {
     "name": "stderr",
     "output_type": "stream",
     "text": [
      "[mbo] 47: learning_rate=0.125; feature_fraction=0.95; num_leaves=661; min_data_in_leaf=22994 : y = 1.48e+08 : 278.6 secs : infill_ei\n",
      "\n"
     ]
    },
    {
     "name": "stdout",
     "output_type": "stream",
     "text": [
      "Validate  64     820    105804374     111284142    \n",
      "20231104 101756\t602\t976271\tgbdt\tbinary\tcustom\tTRUE\tTRUE\tFALSE\tTRUE\t-100\t-1\t0\t0.001\t0\t0\t31\t393\t1\t1\t1\tFALSE\t1\t0.1\t50\t0.5\tTRUE\t279511\t0.10833498061837\t0.978779105324525\t650\t15029\t11709\t146393441.77911\t64\n"
     ]
    },
    {
     "name": "stderr",
     "output_type": "stream",
     "text": [
      "[mbo] 48: learning_rate=0.108; feature_fraction=0.979; num_leaves=650; min_data_in_leaf=15029 : y = 1.46e+08 : 279.6 secs : infill_ei\n",
      "\n"
     ]
    },
    {
     "name": "stdout",
     "output_type": "stream",
     "text": [
      "Validate  65     1010    103656108     107337412    \n",
      "20231104 102456\t602\t976271\tgbdt\tbinary\tcustom\tTRUE\tTRUE\tFALSE\tTRUE\t-100\t-1\t0\t0.001\t0\t0\t31\t582\t1\t1\t1\tFALSE\t1\t0.1\t50\t0.5\tTRUE\t279511\t0.137037189861172\t0.328154611901588\t181\t24178\t12592\t144633111.444278\t65\n"
     ]
    },
    {
     "name": "stderr",
     "output_type": "stream",
     "text": [
      "[mbo] 49: learning_rate=0.137; feature_fraction=0.328; num_leaves=181; min_data_in_leaf=24178 : y = 1.45e+08 : 419.7 secs : infill_ei\n",
      "\n",
      "Saved the current state after iteration 50 in the file HT8230 (Clase 12, Base Sem1).RDATA.\n",
      "\n"
     ]
    },
    {
     "name": "stdout",
     "output_type": "stream",
     "text": [
      "Validate  66     790    105000766     107134216    \n",
      "20231104 102859\t602\t976271\tgbdt\tbinary\tcustom\tTRUE\tTRUE\tFALSE\tTRUE\t-100\t-1\t0\t0.001\t0\t0\t31\t369\t1\t1\t1\tFALSE\t1\t0.1\t50\t0.5\tTRUE\t279511\t0.167490155433331\t0.966887618892938\t540\t28904\t14461\t140509971.514243\t66\n"
     ]
    },
    {
     "name": "stderr",
     "output_type": "stream",
     "text": [
      "[mbo] 50: learning_rate=0.167; feature_fraction=0.967; num_leaves=540; min_data_in_leaf=28904 : y = 1.41e+08 : 239.5 secs : infill_ei\n",
      "\n",
      "Saved the final state in the file HT8230 (Clase 12, Base Sem1).RDATA\n",
      "\n"
     ]
    },
    {
     "name": "stdout",
     "output_type": "stream",
     "text": [
      "\n",
      "\n",
      "La optimizacion Bayesiana ha terminado\n"
     ]
    }
   ],
   "source": [
    "# inicio la optimizacion bayesiana\n",
    "if (!file.exists(kbayesiana)) {\n",
    "  run <- mbo(obj.fun, learner = surr.km, control = ctrl)\n",
    "} else {\n",
    "  run <- mboContinue(kbayesiana) # retomo en caso que ya exista\n",
    "}\n",
    "\n",
    "\n",
    "cat(\"\\n\\nLa optimizacion Bayesiana ha terminado\\n\")\n"
   ]
  },
  {
   "cell_type": "markdown",
   "metadata": {},
   "source": [
    "# Semilla 2, base"
   ]
  },
  {
   "cell_type": "code",
   "execution_count": 26,
   "metadata": {
    "vscode": {
     "languageId": "r"
    }
   },
   "outputs": [
    {
     "data": {
      "text/html": [
       "<table class=\"dataframe\">\n",
       "<caption>A matrix: 2 × 6 of type dbl</caption>\n",
       "<thead>\n",
       "\t<tr><th></th><th scope=col>used</th><th scope=col>(Mb)</th><th scope=col>gc trigger</th><th scope=col>(Mb)</th><th scope=col>max used</th><th scope=col>(Mb)</th></tr>\n",
       "</thead>\n",
       "<tbody>\n",
       "\t<tr><th scope=row>Ncells</th><td>  2539199</td><td> 135.7</td><td>   8200216</td><td>  438.0</td><td>  22909774</td><td> 1223.6</td></tr>\n",
       "\t<tr><th scope=row>Vcells</th><td>710489284</td><td>5420.7</td><td>2153943556</td><td>16433.3</td><td>6843588264</td><td>52212.5</td></tr>\n",
       "</tbody>\n",
       "</table>\n"
      ],
      "text/latex": [
       "A matrix: 2 × 6 of type dbl\n",
       "\\begin{tabular}{r|llllll}\n",
       "  & used & (Mb) & gc trigger & (Mb) & max used & (Mb)\\\\\n",
       "\\hline\n",
       "\tNcells &   2539199 &  135.7 &    8200216 &   438.0 &   22909774 &  1223.6\\\\\n",
       "\tVcells & 710489284 & 5420.7 & 2153943556 & 16433.3 & 6843588264 & 52212.5\\\\\n",
       "\\end{tabular}\n"
      ],
      "text/markdown": [
       "\n",
       "A matrix: 2 × 6 of type dbl\n",
       "\n",
       "| <!--/--> | used | (Mb) | gc trigger | (Mb) | max used | (Mb) |\n",
       "|---|---|---|---|---|---|---|\n",
       "| Ncells |   2539199 |  135.7 |    8200216 |   438.0 |   22909774 |  1223.6 |\n",
       "| Vcells | 710489284 | 5420.7 | 2153943556 | 16433.3 | 6843588264 | 52212.5 |\n",
       "\n"
      ],
      "text/plain": [
       "       used      (Mb)   gc trigger (Mb)    max used   (Mb)   \n",
       "Ncells   2539199  135.7    8200216   438.0   22909774  1223.6\n",
       "Vcells 710489284 5420.7 2153943556 16433.3 6843588264 52212.5"
      ]
     },
     "metadata": {},
     "output_type": "display_data"
    }
   ],
   "source": [
    "# limpio la memoria\n",
    "rm(list = ls()) # remove all objects\n",
    "gc() # garbage collection"
   ]
  },
  {
   "cell_type": "code",
   "execution_count": 27,
   "metadata": {
    "vscode": {
     "languageId": "r"
    }
   },
   "outputs": [],
   "source": [
    "require(\"data.table\")\n",
    "require(\"rlist\")\n",
    "require(\"lightgbm\")"
   ]
  },
  {
   "cell_type": "code",
   "execution_count": 28,
   "metadata": {
    "vscode": {
     "languageId": "r"
    }
   },
   "outputs": [],
   "source": [
    "# paquetes necesarios para la Bayesian Optimization\n",
    "require(\"DiceKriging\")\n",
    "require(\"mlrMBO\")\n",
    "\n",
    "# para que se detenga ante el primer error\n",
    "# y muestre el stack de funciones invocadas\n",
    "options(error = function() {\n",
    "  traceback(20)\n",
    "  options(error = NULL)\n",
    "  stop(\"exiting after script error\")\n",
    "})"
   ]
  },
  {
   "cell_type": "markdown",
   "metadata": {},
   "source": [
    "## Definición de Parametros"
   ]
  },
  {
   "cell_type": "code",
   "execution_count": 29,
   "metadata": {
    "vscode": {
     "languageId": "r"
    }
   },
   "outputs": [],
   "source": [
    "# defino los parametros de la corrida, en una lista, la variable global  PARAM\n",
    "#  muy pronto esto se leera desde un archivo formato .yaml\n",
    "PARAM <- list()\n",
    "\n",
    "PARAM$experimento <- \"HT8230 (Clase 12, Base Sem2)\"\n",
    "\n",
    "PARAM$input$dataset <- \"datasets/competencia_03_base_lags.csv.gz\"\n",
    "\n",
    "# los meses en los que vamos a entrenar\n",
    "#  mucha magia emerger de esta eleccion\n",
    "PARAM$input$testing <- c(202107) # Último mes, lo más cercano al 202109 de kaggle\n",
    "PARAM$input$validation <- c(202106)\n",
    "PARAM$input$training <- c(202105, 202104, 202103, 202102, 202101,202012) # 6 meses de entrenamiento\t\n",
    "\n",
    "# un undersampling de 0.1  toma solo el 10% de los CONTINUA\n",
    "PARAM$trainingstrategy$undersampling <- 1.0\n",
    "PARAM$trainingstrategy$semilla_azar <- c(279511, 279523, 279541, 279551, 279571)  # Aqui poner su  primer  semilla/ pongo todas mis semillas\n",
    "\n",
    "PARAM$hyperparametertuning$POS_ganancia <- 273000\n",
    "PARAM$hyperparametertuning$NEG_ganancia <- -7000\n",
    "\n",
    "# Aqui va semilla\n",
    "PARAM$lgb_semilla <- 279523"
   ]
  },
  {
   "cell_type": "code",
   "execution_count": 30,
   "metadata": {
    "vscode": {
     "languageId": "r"
    }
   },
   "outputs": [],
   "source": [
    "# Hiperparametros FIJOS de  lightgbm\n",
    "PARAM$lgb_basicos <- list(\n",
    "  boosting = \"gbdt\", # puede ir  dart  , ni pruebe random_forest\n",
    "  objective = \"binary\",\n",
    "  metric = \"custom\",\n",
    "  first_metric_only = TRUE,\n",
    "  boost_from_average = TRUE,\n",
    "  feature_pre_filter = FALSE,\n",
    "  force_row_wise = TRUE, # para reducir warnings\n",
    "  verbosity = -100,\n",
    "  max_depth = -1L, # -1 significa no limitar,  por ahora lo dejo fijo\n",
    "  min_gain_to_split = 0.0, # min_gain_to_split >= 0.0\n",
    "  min_sum_hessian_in_leaf = 0.001, #  min_sum_hessian_in_leaf >= 0.0\n",
    "  lambda_l1 = 0.0, # lambda_l1 >= 0.0\n",
    "  lambda_l2 = 0.0, # lambda_l2 >= 0.0\n",
    "  max_bin = 31L, # lo debo dejar fijo, no participa de la BO\n",
    "  num_iterations = 9999, # un numero muy grande, lo limita early_stopping_rounds\n",
    "\n",
    "  bagging_fraction = 1.0, # 0.0 < bagging_fraction <= 1.0\n",
    "  pos_bagging_fraction = 1.0, # 0.0 < pos_bagging_fraction <= 1.0\n",
    "  neg_bagging_fraction = 1.0, # 0.0 < neg_bagging_fraction <= 1.0\n",
    "  is_unbalance = FALSE, #\n",
    "  scale_pos_weight = 1.0, # scale_pos_weight > 0.0\n",
    "\n",
    "  drop_rate = 0.1, # 0.0 < neg_bagging_fraction <= 1.0\n",
    "  max_drop = 50, # <=0 means no limit\n",
    "  skip_drop = 0.5, # 0.0 <= skip_drop <= 1.0\n",
    "\n",
    "  extra_trees = TRUE, # Magic Sauce\n",
    "\n",
    "  seed = PARAM$lgb_semilla\n",
    ")"
   ]
  },
  {
   "cell_type": "code",
   "execution_count": 31,
   "metadata": {
    "vscode": {
     "languageId": "r"
    }
   },
   "outputs": [],
   "source": [
    "# Aqui se cargan los hiperparametros que se optimizan\n",
    "#  en la Bayesian Optimization\n",
    "PARAM$bo_lgb <- makeParamSet(\n",
    "  makeNumericParam(\"learning_rate\", lower = 0.02, upper = 0.3),\n",
    "  makeNumericParam(\"feature_fraction\", lower = 0.01, upper = 1.0),\n",
    "  makeIntegerParam(\"num_leaves\", lower = 8L, upper = 1024L),\n",
    "  makeIntegerParam(\"min_data_in_leaf\", lower = 100L, upper = 50000L)\n",
    ")\n",
    "\n",
    "# si usted es ambicioso, y tiene paciencia, podria subir este valor a 100\n",
    "PARAM$bo_iteraciones <- 50 # iteraciones de la Optimizacion Bayesiana"
   ]
  },
  {
   "cell_type": "code",
   "execution_count": 32,
   "metadata": {
    "vscode": {
     "languageId": "r"
    }
   },
   "outputs": [],
   "source": [
    "# graba a un archivo los componentes de lista\n",
    "# para el primer registro, escribe antes los titulos\n",
    "\n",
    "loguear <- function(\n",
    "    reg, arch = NA, folder = \"./exp/\",\n",
    "    ext = \".txt\", verbose = TRUE) {\n",
    "  archivo <- arch\n",
    "  if (is.na(arch)) archivo <- paste0(folder, substitute(reg), ext)\n",
    "\n",
    "  if (!file.exists(archivo)) # Escribo los titulos\n",
    "    {\n",
    "      linea <- paste0(\n",
    "        \"fecha\\t\",\n",
    "        paste(list.names(reg), collapse = \"\\t\"), \"\\n\"\n",
    "      )\n",
    "\n",
    "      cat(linea, file = archivo)\n",
    "    }\n",
    "\n",
    "  linea <- paste0(\n",
    "    format(Sys.time(), \"%Y%m%d %H%M%S\"), \"\\t\", # la fecha y hora\n",
    "    gsub(\", \", \"\\t\", toString(reg)), \"\\n\"\n",
    "  )\n",
    "\n",
    "  cat(linea, file = archivo, append = TRUE) # grabo al archivo\n",
    "\n",
    "  if (verbose) cat(linea) # imprimo por pantalla\n",
    "}"
   ]
  },
  {
   "cell_type": "code",
   "execution_count": 33,
   "metadata": {
    "vscode": {
     "languageId": "r"
    }
   },
   "outputs": [],
   "source": [
    "#------------------------------------------------------------------------------\n",
    "GLOBAL_arbol <- 0L\n",
    "GLOBAL_gan_max <- -Inf\n",
    "vcant_optima <- c()\n",
    "\n",
    "fganancia_lgbm_meseta <- function(probs, datos) {\n",
    "  vlabels <- get_field(datos, \"label\")\n",
    "  vpesos <- get_field(datos, \"weight\")\n",
    "\n",
    "\n",
    "  GLOBAL_arbol <<- GLOBAL_arbol + 1\n",
    "  tbl <- as.data.table(list(\n",
    "    \"prob\" = probs,\n",
    "    \"gan\" = ifelse(vlabels == 1 & vpesos > 1,\n",
    "      PARAM$hyperparametertuning$POS_ganancia,\n",
    "      PARAM$hyperparametertuning$NEG_ganancia  )\n",
    "  ))\n",
    "\n",
    "  setorder(tbl, -prob)\n",
    "  tbl[, posicion := .I]\n",
    "  tbl[, gan_acum := cumsum(gan)]\n",
    "\n",
    "  tbl[, gan_suavizada :=\n",
    "    frollmean(\n",
    "      x = gan_acum, n = 2001, align = \"center\",\n",
    "      na.rm = TRUE, hasNA = TRUE\n",
    "    )]\n",
    "\n",
    "  gan <- tbl[, max(gan_suavizada, na.rm = TRUE)]\n",
    "\n",
    "\n",
    "  pos <- which.max(tbl[, gan_suavizada])\n",
    "  vcant_optima <<- c(vcant_optima, pos)\n",
    "\n",
    "  if (GLOBAL_arbol %% 10 == 0) {\n",
    "    if (gan > GLOBAL_gan_max) GLOBAL_gan_max <<- gan\n",
    "\n",
    "    cat(\"\\r\")\n",
    "    cat(\n",
    "      \"Validate \", GLOBAL_iteracion, \" \", \" \",\n",
    "      GLOBAL_arbol, \"  \", gan, \"   \", GLOBAL_gan_max, \"   \"\n",
    "    )\n",
    "  }\n",
    "\n",
    "\n",
    "  return(list(\n",
    "    \"name\" = \"ganancia\",\n",
    "    \"value\" = gan,\n",
    "    \"higher_better\" = TRUE\n",
    "  ))\n",
    "}"
   ]
  },
  {
   "cell_type": "code",
   "execution_count": 34,
   "metadata": {
    "vscode": {
     "languageId": "r"
    }
   },
   "outputs": [],
   "source": [
    "#------------------------------------------------------------------------------\n",
    "\n",
    "EstimarGanancia_lightgbm <- function(x) {\n",
    "  gc()\n",
    "  GLOBAL_iteracion <<- GLOBAL_iteracion + 1L\n",
    "\n",
    "  # hago la union de los parametros basicos y los moviles que vienen en x\n",
    "  param_completo <- c(PARAM$lgb_basicos, x)\n",
    "\n",
    "  param_completo$early_stopping_rounds <-\n",
    "    as.integer(400 + 4 / param_completo$learning_rate)\n",
    "\n",
    "  GLOBAL_arbol <<- 0L\n",
    "  GLOBAL_gan_max <<- -Inf\n",
    "  vcant_optima <<- c()\n",
    "  set.seed(PARAM$lgb_semilla, kind = \"L'Ecuyer-CMRG\")\n",
    "  modelo_train <- lgb.train(\n",
    "    data = dtrain,\n",
    "    valids = list(valid = dvalidate),\n",
    "    eval = fganancia_lgbm_meseta,\n",
    "    param = param_completo,\n",
    "    verbose = -100\n",
    "  )\n",
    "\n",
    "  cat(\"\\n\")\n",
    "\n",
    "  cant_corte <- vcant_optima[modelo_train$best_iter]\n",
    "\n",
    "  # aplico el modelo a testing y calculo la ganancia\n",
    "  prediccion <- predict(\n",
    "    modelo_train,\n",
    "    data.matrix(dataset_test[, campos_buenos, with = FALSE])\n",
    "  )\n",
    "\n",
    "  tbl <- copy(dataset_test[, list(\"gan\" = ifelse(clase_ternaria == \"BAJA+2\",\n",
    "    PARAM$hyperparametertuning$POS_ganancia, \n",
    "    PARAM$hyperparametertuning$NEG_ganancia))])\n",
    "\n",
    "  tbl[, prob := prediccion]\n",
    "  setorder(tbl, -prob)\n",
    "  tbl[, gan_acum := cumsum(gan)]\n",
    "  tbl[, gan_suavizada := frollmean(\n",
    "    x = gan_acum, n = 2001,\n",
    "    align = \"center\", na.rm = TRUE, hasNA = TRUE\n",
    "  )]\n",
    "\n",
    "\n",
    "  ganancia_test <- tbl[, max(gan_suavizada, na.rm = TRUE)]\n",
    "\n",
    "  cantidad_test_normalizada <- which.max(tbl[, gan_suavizada])\n",
    "\n",
    "  rm(tbl)\n",
    "  gc()\n",
    "\n",
    "  ganancia_test_normalizada <- ganancia_test\n",
    "\n",
    "\n",
    "  # voy grabando las mejores column importance\n",
    "  if (ganancia_test_normalizada > GLOBAL_gananciamax) {\n",
    "    GLOBAL_gananciamax <<- ganancia_test_normalizada\n",
    "    tb_importancia <- as.data.table(lgb.importance(modelo_train))\n",
    "\n",
    "    fwrite(tb_importancia,\n",
    "      file = paste0(\"impo_\", sprintf(\"%03d\", GLOBAL_iteracion), \".txt\"),\n",
    "      sep = \"\\t\"\n",
    "    )\n",
    "\n",
    "    rm(tb_importancia)\n",
    "  }\n",
    "\n",
    "\n",
    "  # logueo final\n",
    "  ds <- list(\"cols\" = ncol(dtrain), \"rows\" = nrow(dtrain))\n",
    "  xx <- c(ds, copy(param_completo))\n",
    "\n",
    "  xx$early_stopping_rounds <- NULL\n",
    "  xx$num_iterations <- modelo_train$best_iter\n",
    "  xx$estimulos <- cantidad_test_normalizada\n",
    "  xx$ganancia <- ganancia_test_normalizada\n",
    "  xx$iteracion_bayesiana <- GLOBAL_iteracion\n",
    "\n",
    "  loguear(xx, arch = \"BO_log.txt\")\n",
    "\n",
    "  set.seed(PARAM$lgb_semilla, kind = \"L'Ecuyer-CMRG\")\n",
    "  return(ganancia_test_normalizada)\n",
    "}"
   ]
  },
  {
   "cell_type": "markdown",
   "metadata": {},
   "source": [
    "## Aquí empieza el programa"
   ]
  },
  {
   "cell_type": "code",
   "execution_count": 35,
   "metadata": {
    "vscode": {
     "languageId": "r"
    }
   },
   "outputs": [],
   "source": [
    "# Aqui empieza el programa\n",
    "\n",
    "# Aqui se debe poner la carpeta de la computadora local\n",
    "setwd(\"~/buckets/b1/\") # Establezco el Working Directory\n",
    "\n",
    "# cargo el dataset donde voy a entrenar el modelo\n",
    "dataset <- fread(PARAM$input$dataset)"
   ]
  },
  {
   "cell_type": "code",
   "execution_count": 36,
   "metadata": {
    "vscode": {
     "languageId": "r"
    }
   },
   "outputs": [],
   "source": [
    "# creo la carpeta donde va el experimento\n",
    "dir.create(\"./exp/\", showWarnings = FALSE)\n",
    "dir.create(paste0(\"./exp/\", PARAM$experimento, \"/\"), showWarnings = FALSE)\n",
    "\n",
    "# Establezco el Working Directory DEL EXPERIMENTO\n",
    "setwd(paste0(\"./exp/\", PARAM$experimento, \"/\"))\n",
    "\n",
    "# en estos archivos quedan los resultados\n",
    "kbayesiana <- paste0(PARAM$experimento, \".RDATA\")\n",
    "klog <- paste0(PARAM$experimento, \".txt\")\n"
   ]
  },
  {
   "cell_type": "code",
   "execution_count": 37,
   "metadata": {
    "vscode": {
     "languageId": "r"
    }
   },
   "outputs": [],
   "source": [
    "# Catastrophe Analysis  -------------------------------------------------------\n",
    "# deben ir cosas de este estilo\n",
    "#   dataset[foto_mes == 202006, active_quarter := NA]\n",
    "\n",
    "# Data Drifting\n",
    "# por ahora, no hago nada\n",
    "\n",
    "\n",
    "# Feature Engineering Historico  ----------------------------------------------\n",
    "#   aqui deben calcularse los  lags y  lag_delta\n",
    "#   Sin lags no hay paraiso !  corta la bocha"
   ]
  },
  {
   "cell_type": "code",
   "execution_count": null,
   "metadata": {
    "vscode": {
     "languageId": "r"
    }
   },
   "outputs": [],
   "source": []
  },
  {
   "cell_type": "code",
   "execution_count": 38,
   "metadata": {
    "vscode": {
     "languageId": "r"
    }
   },
   "outputs": [],
   "source": [
    "# ahora SI comienza la optimizacion Bayesiana\n",
    "\n",
    "GLOBAL_iteracion <- 0 # inicializo la variable global\n",
    "GLOBAL_gananciamax <- -1 # inicializo la variable global\n",
    "\n",
    "# si ya existe el archivo log, traigo hasta donde llegue\n",
    "if (file.exists(klog)) {\n",
    "  tabla_log <- fread(klog)\n",
    "  GLOBAL_iteracion <- nrow(tabla_log)\n",
    "  GLOBAL_gananciamax <- tabla_log[, max(ganancia)]\n",
    "}\n"
   ]
  },
  {
   "cell_type": "code",
   "execution_count": 39,
   "metadata": {
    "vscode": {
     "languageId": "r"
    }
   },
   "outputs": [],
   "source": [
    "# paso la clase a binaria que tome valores {0,1}  enteros\n",
    "dataset[, clase01 := ifelse(clase_ternaria == \"CONTINUA\", 0L, 1L)]\n",
    "\n",
    "\n",
    "# los campos que se van a utilizar\n",
    "campos_buenos <- setdiff(\n",
    "  colnames(dataset),\n",
    "  c(\"clase_ternaria\", \"clase01\", \"azar\", \"training\")\n",
    ")"
   ]
  },
  {
   "cell_type": "code",
   "execution_count": 40,
   "metadata": {
    "vscode": {
     "languageId": "r"
    }
   },
   "outputs": [],
   "source": [
    "# defino los datos que forma parte del training\n",
    "# aqui se hace el undersampling de los CONTINUA\n",
    "set.seed(PARAM$trainingstrategy$semilla_azar)\n",
    "dataset[, azar := runif(nrow(dataset))]\n",
    "dataset[, training := 0L]\n",
    "dataset[\n",
    "  foto_mes %in% PARAM$input$training &\n",
    "    (azar <= PARAM$trainingstrategy$undersampling | clase_ternaria %in% c(\"BAJA+1\", \"BAJA+2\")),\n",
    "  training := 1L\n",
    "]"
   ]
  },
  {
   "cell_type": "code",
   "execution_count": 41,
   "metadata": {
    "vscode": {
     "languageId": "r"
    }
   },
   "outputs": [],
   "source": [
    "# dejo los datos en el formato que necesita LightGBM\n",
    "dtrain <- lgb.Dataset(\n",
    "  data = data.matrix(dataset[training == 1L, campos_buenos, with = FALSE]),\n",
    "  label = dataset[training == 1L, clase01],\n",
    "  weight = dataset[training == 1L, \n",
    "    ifelse(clase_ternaria == \"BAJA+2\", 1.0000001, \n",
    "      ifelse(clase_ternaria == \"BAJA+1\", 1.0, 1.0))],\n",
    "  free_raw_data = FALSE\n",
    ")"
   ]
  },
  {
   "cell_type": "code",
   "execution_count": 42,
   "metadata": {
    "vscode": {
     "languageId": "r"
    }
   },
   "outputs": [],
   "source": [
    "# defino los datos que forman parte de validation\n",
    "#  no hay undersampling\n",
    "dataset[, validation := 0L]\n",
    "dataset[ foto_mes %in% PARAM$input$validation,  validation := 1L]\n",
    "\n",
    "dvalidate <- lgb.Dataset(\n",
    "  data = data.matrix(dataset[validation == 1L, campos_buenos, with = FALSE]),\n",
    "  label = dataset[validation == 1L, clase01],\n",
    "  weight = dataset[validation == 1L, \n",
    "    ifelse(clase_ternaria == \"BAJA+2\", 1.0000001, \n",
    "      ifelse(clase_ternaria == \"BAJA+1\", 1.0, 1.0))],\n",
    "  free_raw_data = FALSE\n",
    ")"
   ]
  },
  {
   "cell_type": "code",
   "execution_count": 43,
   "metadata": {
    "vscode": {
     "languageId": "r"
    }
   },
   "outputs": [],
   "source": [
    "# defino los datos de testing\n",
    "dataset[, testing := 0L]\n",
    "dataset[ foto_mes %in% PARAM$input$testing,  testing := 1L]\n",
    "\n",
    "\n",
    "dataset_test <- dataset[testing == 1, ]"
   ]
  },
  {
   "cell_type": "code",
   "execution_count": 44,
   "metadata": {
    "vscode": {
     "languageId": "r"
    }
   },
   "outputs": [
    {
     "data": {
      "text/html": [
       "<table class=\"dataframe\">\n",
       "<caption>A matrix: 2 × 6 of type dbl</caption>\n",
       "<thead>\n",
       "\t<tr><th></th><th scope=col>used</th><th scope=col>(Mb)</th><th scope=col>gc trigger</th><th scope=col>(Mb)</th><th scope=col>max used</th><th scope=col>(Mb)</th></tr>\n",
       "</thead>\n",
       "<tbody>\n",
       "\t<tr><th scope=row>Ncells</th><td>  2540142</td><td> 135.7</td><td>   8200216</td><td>  438.0</td><td>  22909774</td><td> 1223.6</td></tr>\n",
       "\t<tr><th scope=row>Vcells</th><td>783963629</td><td>5981.2</td><td>4374332093</td><td>33373.6</td><td>6843588264</td><td>52212.5</td></tr>\n",
       "</tbody>\n",
       "</table>\n"
      ],
      "text/latex": [
       "A matrix: 2 × 6 of type dbl\n",
       "\\begin{tabular}{r|llllll}\n",
       "  & used & (Mb) & gc trigger & (Mb) & max used & (Mb)\\\\\n",
       "\\hline\n",
       "\tNcells &   2540142 &  135.7 &    8200216 &   438.0 &   22909774 &  1223.6\\\\\n",
       "\tVcells & 783963629 & 5981.2 & 4374332093 & 33373.6 & 6843588264 & 52212.5\\\\\n",
       "\\end{tabular}\n"
      ],
      "text/markdown": [
       "\n",
       "A matrix: 2 × 6 of type dbl\n",
       "\n",
       "| <!--/--> | used | (Mb) | gc trigger | (Mb) | max used | (Mb) |\n",
       "|---|---|---|---|---|---|---|\n",
       "| Ncells |   2540142 |  135.7 |    8200216 |   438.0 |   22909774 |  1223.6 |\n",
       "| Vcells | 783963629 | 5981.2 | 4374332093 | 33373.6 | 6843588264 | 52212.5 |\n",
       "\n"
      ],
      "text/plain": [
       "       used      (Mb)   gc trigger (Mb)    max used   (Mb)   \n",
       "Ncells   2540142  135.7    8200216   438.0   22909774  1223.6\n",
       "Vcells 783963629 5981.2 4374332093 33373.6 6843588264 52212.5"
      ]
     },
     "metadata": {},
     "output_type": "display_data"
    }
   ],
   "source": [
    "# libero espacio\n",
    "rm(dataset)\n",
    "gc()"
   ]
  },
  {
   "cell_type": "code",
   "execution_count": 45,
   "metadata": {
    "vscode": {
     "languageId": "r"
    }
   },
   "outputs": [],
   "source": [
    "# Aqui comienza la configuracion de la Bayesian Optimization\n",
    "funcion_optimizar <- EstimarGanancia_lightgbm # la funcion que voy a maximizar\n",
    "\n",
    "configureMlr(show.learner.output = FALSE)\n",
    "\n",
    "# configuro la busqueda bayesiana,  los hiperparametros que se van a optimizar\n",
    "# por favor, no desesperarse por lo complejo\n",
    "obj.fun <- makeSingleObjectiveFunction(\n",
    "  fn = funcion_optimizar, # la funcion que voy a maximizar\n",
    "  minimize = FALSE, # estoy Maximizando la ganancia\n",
    "  noisy = TRUE,\n",
    "  par.set = PARAM$bo_lgb, # definido al comienzo del programa\n",
    "  has.simple.signature = FALSE # paso los parametros en una lista\n",
    ")\n",
    "\n",
    "# cada 600 segundos guardo el resultado intermedio\n",
    "ctrl <- makeMBOControl(\n",
    "  save.on.disk.at.time = 600, # se graba cada 600 segundos\n",
    "  save.file.path = kbayesiana\n",
    ") # se graba cada 600 segundos\n",
    "\n",
    "# indico la cantidad de iteraciones que va a tener la Bayesian Optimization\n",
    "ctrl <- setMBOControlTermination(\n",
    "  ctrl,\n",
    "  iters = PARAM$bo_iteraciones\n",
    ") # cantidad de iteraciones\n",
    "\n",
    "# defino el método estandar para la creacion de los puntos iniciales,\n",
    "# los \"No Inteligentes\"\n",
    "ctrl <- setMBOControlInfill(ctrl, crit = makeMBOInfillCritEI())\n",
    "\n",
    "\n",
    "# establezco la funcion que busca el maximo\n",
    "surr.km <- makeLearner(\n",
    "  \"regr.km\",\n",
    "  predict.type = \"se\",\n",
    "  covtype = \"matern3_2\",\n",
    "  control = list(trace = TRUE)\n",
    ")"
   ]
  },
  {
   "cell_type": "code",
   "execution_count": 46,
   "metadata": {
    "vscode": {
     "languageId": "r"
    }
   },
   "outputs": [
    {
     "name": "stderr",
     "output_type": "stream",
     "text": [
      "Computing y column(s) for design. Not provided.\n",
      "\n"
     ]
    },
    {
     "name": "stdout",
     "output_type": "stream",
     "text": [
      "Validate  1     1300    104391084     107933049    \n",
      "20231104 104039\t602\t976271\tgbdt\tbinary\tcustom\tTRUE\tTRUE\tFALSE\tTRUE\t-100\t-1\t0\t0.001\t0\t0\t31\t873\t1\t1\t1\tFALSE\t1\t0.1\t50\t0.5\tTRUE\t279523\t0.129464825580638\t0.589979261678396\t603\t34060\t13231\t145524889.055472\t1\n",
      "Validate  2     500    103430965     103631082    \n",
      "20231104 104406\t602\t976271\tgbdt\tbinary\tcustom\tTRUE\tTRUE\tFALSE\tTRUE\t-100\t-1\t0\t0.001\t0\t0\t31\t47\t1\t1\t1\tFALSE\t1\t0.1\t50\t0.5\tTRUE\t279523\t0.0661204550073144\t0.306758356069939\t135\t27020\t16591\t127660301.349325\t2\n",
      "Validate  3     910    105207082     110359712    \n",
      "20231104 104825\t602\t976271\tgbdt\tbinary\tcustom\tTRUE\tTRUE\tFALSE\tTRUE\t-100\t-1\t0\t0.001\t0\t0\t31\t475\t1\t1\t1\tFALSE\t1\t0.1\t50\t0.5\tTRUE\t279523\t0.113019156746563\t0.722689286671374\t381\t28634\t12523\t147009924.537731\t3\n",
      "Validate  4     660    99273202     101338972     \n",
      "20231104 105123\t602\t976271\tgbdt\tbinary\tcustom\tTRUE\tTRUE\tFALSE\tTRUE\t-100\t-1\t0\t0.001\t0\t0\t31\t245\t1\t1\t1\tFALSE\t1\t0.1\t50\t0.5\tTRUE\t279523\t0.175678618850921\t0.0837276906739244\t542\t6859\t13767\t135654868.065967\t4\n",
      "Validate  5     560    95483925     101467750     \n",
      "20231104 105521\t602\t976271\tgbdt\tbinary\tcustom\tTRUE\tTRUE\tFALSE\tTRUE\t-100\t-1\t0\t0.001\t0\t0\t31\t147\t1\t1\t1\tFALSE\t1\t0.1\t50\t0.5\tTRUE\t279523\t0.275198918823473\t0.32486327912462\t723\t16035\t12014\t139029256.371814\t5\n",
      "Validate  6     670    101329635     104693077    \n",
      "20231104 105900\t602\t976271\tgbdt\tbinary\tcustom\tTRUE\tTRUE\tFALSE\tTRUE\t-100\t-1\t0\t0.001\t0\t0\t31\t244\t1\t1\t1\tFALSE\t1\t0.1\t50\t0.5\tTRUE\t279523\t0.152941050471095\t0.645387167052228\t502\t12627\t12947\t136597086.956522\t6\n",
      "Validate  7     450    105764256     107137141    \n",
      "20231104 110104\t602\t976271\tgbdt\tbinary\tcustom\tTRUE\tTRUE\tFALSE\tTRUE\t-100\t-1\t0\t0.001\t0\t0\t31\t30\t1\t1\t1\tFALSE\t1\t0.1\t50\t0.5\tTRUE\t279523\t0.19416275426125\t0.794035319192328\t845\t42464\t15371\t140431925.537231\t7\n",
      "Validate  8     460    105795289     106979968    \n",
      "20231104 110326\t602\t976271\tgbdt\tbinary\tcustom\tTRUE\tTRUE\tFALSE\tTRUE\t-100\t-1\t0\t0.001\t0\t0\t31\t48\t1\t1\t1\tFALSE\t1\t0.1\t50\t0.5\tTRUE\t279523\t0.208330530396255\t0.164289977450783\t938\t38948\t14293\t139202773.113443\t8\n",
      "Validate  9     630    101606378     107580954    \n",
      "20231104 110856\t602\t976271\tgbdt\tbinary\tcustom\tTRUE\tTRUE\tFALSE\tTRUE\t-100\t-1\t0\t0.001\t0\t0\t31\t83\t1\t1\t1\tFALSE\t1\t0.1\t50\t0.5\tTRUE\t279523\t0.0267066953639716\t0.560570734105559\t306\t19296\t12936\t139210738.630685\t9\n",
      "Validate  10     770    99695273     104279826     \n",
      "20231104 111236\t602\t976271\tgbdt\tbinary\tcustom\tTRUE\tTRUE\tFALSE\tTRUE\t-100\t-1\t0\t0.001\t0\t0\t31\t357\t1\t1\t1\tFALSE\t1\t0.1\t50\t0.5\tTRUE\t279523\t0.221560927090974\t0.826648094024347\t31\t34846\t13544\t144734168.915542\t10\n",
      "Validate  11     810    107517296     111410611    \n",
      "20231104 112002\t602\t976271\tgbdt\tbinary\tcustom\tTRUE\tTRUE\tFALSE\tTRUE\t-100\t-1\t0\t0.001\t0\t0\t31\t368\t1\t1\t1\tFALSE\t1\t0.1\t50\t0.5\tTRUE\t279523\t0.0852503757905397\t0.925651702728775\t683\t1679\t12598\t144850961.51924\t11\n",
      "Validate  12     730    99427696     102358509     \n",
      "20231104 112401\t602\t976271\tgbdt\tbinary\tcustom\tTRUE\tTRUE\tFALSE\tTRUE\t-100\t-1\t0\t0.001\t0\t0\t31\t253\t1\t1\t1\tFALSE\t1\t0.1\t50\t0.5\tTRUE\t279523\t0.0506736029737185\t0.207218508431007\t246\t49507\t15455\t129530382.308846\t12\n",
      "Validate  13     480    98282459     100967500     \n",
      "20231104 112648\t602\t976271\tgbdt\tbinary\tcustom\tTRUE\tTRUE\tFALSE\tTRUE\t-100\t-1\t0\t0.001\t0\t0\t31\t67\t1\t1\t1\tFALSE\t1\t0.1\t50\t0.5\tTRUE\t279523\t0.241211629895149\t0.979385213098052\t981\t9632\t13214\t134417302.348826\t13\n",
      "Validate  14     920    101628288     105460338    \n",
      "20231104 113332\t602\t976271\tgbdt\tbinary\tcustom\tTRUE\tTRUE\tFALSE\tTRUE\t-100\t-1\t0\t0.001\t0\t0\t31\t507\t1\t1\t1\tFALSE\t1\t0.1\t50\t0.5\tTRUE\t279523\t0.289686593103062\t0.413139080222854\t417\t43892\t12547\t144346132.433783\t14\n",
      "Validate  15     770    95840638     98753516    \n",
      "20231104 113608\t602\t976271\tgbdt\tbinary\tcustom\tTRUE\tTRUE\tFALSE\tTRUE\t-100\t-1\t0\t0.001\t0\t0\t31\t357\t1\t1\t1\tFALSE\t1\t0.1\t50\t0.5\tTRUE\t279523\t0.260954398056728\t0.0272621639125061\t107\t5794\t13190\t130688950.524738\t15\n",
      "Validate  16     1050    106552496     108641193    \n",
      "20231104 114444\t602\t976271\tgbdt\tbinary\tcustom\tTRUE\tTRUE\tFALSE\tTRUE\t-100\t-1\t0\t0.001\t0\t0\t31\t610\t1\t1\t1\tFALSE\t1\t0.1\t50\t0.5\tTRUE\t279523\t0.0917235747127569\t0.46677263015138\t785\t24824\t11937\t148209075.962019\t16\n"
     ]
    },
    {
     "name": "stderr",
     "output_type": "stream",
     "text": [
      "[mbo] 0: learning_rate=0.129; feature_fraction=0.59; num_leaves=603; min_data_in_leaf=34060 : y = 1.46e+08 : 592.3 secs : initdesign\n",
      "\n",
      "[mbo] 0: learning_rate=0.0661; feature_fraction=0.307; num_leaves=135; min_data_in_leaf=27020 : y = 1.28e+08 : 206.9 secs : initdesign\n",
      "\n",
      "[mbo] 0: learning_rate=0.113; feature_fraction=0.723; num_leaves=381; min_data_in_leaf=28634 : y = 1.47e+08 : 259.0 secs : initdesign\n",
      "\n",
      "[mbo] 0: learning_rate=0.176; feature_fraction=0.0837; num_leaves=542; min_data_in_leaf=6859 : y = 1.36e+08 : 178.8 secs : initdesign\n",
      "\n",
      "[mbo] 0: learning_rate=0.275; feature_fraction=0.325; num_leaves=723; min_data_in_leaf=16035 : y = 1.39e+08 : 237.7 secs : initdesign\n",
      "\n",
      "[mbo] 0: learning_rate=0.153; feature_fraction=0.645; num_leaves=502; min_data_in_leaf=12627 : y = 1.37e+08 : 218.6 secs : initdesign\n",
      "\n",
      "[mbo] 0: learning_rate=0.194; feature_fraction=0.794; num_leaves=845; min_data_in_leaf=42464 : y = 1.4e+08 : 124.3 secs : initdesign\n",
      "\n",
      "[mbo] 0: learning_rate=0.208; feature_fraction=0.164; num_leaves=938; min_data_in_leaf=38948 : y = 1.39e+08 : 141.6 secs : initdesign\n",
      "\n",
      "[mbo] 0: learning_rate=0.0267; feature_fraction=0.561; num_leaves=306; min_data_in_leaf=19296 : y = 1.39e+08 : 330.1 secs : initdesign\n",
      "\n",
      "[mbo] 0: learning_rate=0.222; feature_fraction=0.827; num_leaves=31; min_data_in_leaf=34846 : y = 1.45e+08 : 220.4 secs : initdesign\n",
      "\n",
      "[mbo] 0: learning_rate=0.0853; feature_fraction=0.926; num_leaves=683; min_data_in_leaf=1679 : y = 1.45e+08 : 445.9 secs : initdesign\n",
      "\n",
      "[mbo] 0: learning_rate=0.0507; feature_fraction=0.207; num_leaves=246; min_data_in_leaf=49507 : y = 1.3e+08 : 239.5 secs : initdesign\n",
      "\n",
      "[mbo] 0: learning_rate=0.241; feature_fraction=0.979; num_leaves=981; min_data_in_leaf=9632 : y = 1.34e+08 : 167.1 secs : initdesign\n",
      "\n",
      "[mbo] 0: learning_rate=0.29; feature_fraction=0.413; num_leaves=417; min_data_in_leaf=43892 : y = 1.44e+08 : 403.8 secs : initdesign\n",
      "\n",
      "[mbo] 0: learning_rate=0.261; feature_fraction=0.0273; num_leaves=107; min_data_in_leaf=5794 : y = 1.31e+08 : 155.7 secs : initdesign\n",
      "\n",
      "[mbo] 0: learning_rate=0.0917; feature_fraction=0.467; num_leaves=785; min_data_in_leaf=24824 : y = 1.48e+08 : 516.3 secs : initdesign\n",
      "\n",
      "Saved the current state after iteration 1 in the file HT8230 (Clase 12, Base Sem2).RDATA.\n",
      "\n"
     ]
    },
    {
     "name": "stdout",
     "output_type": "stream",
     "text": [
      "Validate  17     460    104452128     106488782    \n",
      "20231104 114708\t602\t976271\tgbdt\tbinary\tcustom\tTRUE\tTRUE\tFALSE\tTRUE\t-100\t-1\t0\t0.001\t0\t0\t31\t20\t1\t1\t1\tFALSE\t1\t0.1\t50\t0.5\tTRUE\t279523\t0.0999365944137719\t0.739226795198681\t924\t17911\t14936\t136184331.834083\t17\n"
     ]
    },
    {
     "name": "stderr",
     "output_type": "stream",
     "text": [
      "[mbo] 1: learning_rate=0.0999; feature_fraction=0.739; num_leaves=924; min_data_in_leaf=17911 : y = 1.36e+08 : 141.4 secs : infill_ei\n",
      "\n"
     ]
    },
    {
     "name": "stdout",
     "output_type": "stream",
     "text": [
      "Validate  18     780    98450732     105464921     \n",
      "20231104 115203\t602\t976271\tgbdt\tbinary\tcustom\tTRUE\tTRUE\tFALSE\tTRUE\t-100\t-1\t0\t0.001\t0\t0\t31\t214\t1\t1\t1\tFALSE\t1\t0.1\t50\t0.5\tTRUE\t279523\t0.0228835085643292\t0.28687401657649\t585\t45516\t16541\t129043684.657671\t18\n"
     ]
    },
    {
     "name": "stderr",
     "output_type": "stream",
     "text": [
      "[mbo] 2: learning_rate=0.0229; feature_fraction=0.287; num_leaves=585; min_data_in_leaf=45516 : y = 1.29e+08 : 294.6 secs : infill_ei\n",
      "\n"
     ]
    },
    {
     "name": "stdout",
     "output_type": "stream",
     "text": [
      "Validate  19     850    101616089     104895710    \n",
      "20231104 115850\t602\t976271\tgbdt\tbinary\tcustom\tTRUE\tTRUE\tFALSE\tTRUE\t-100\t-1\t0\t0.001\t0\t0\t31\t433\t1\t1\t1\tFALSE\t1\t0.1\t50\t0.5\tTRUE\t279523\t0.154081424946324\t0.493689872703094\t741\t43090\t13528\t143630456.771614\t19\n"
     ]
    },
    {
     "name": "stderr",
     "output_type": "stream",
     "text": [
      "[mbo] 3: learning_rate=0.154; feature_fraction=0.494; num_leaves=741; min_data_in_leaf=43090 : y = 1.44e+08 : 406.7 secs : infill_ei\n",
      "\n",
      "Saved the current state after iteration 4 in the file HT8230 (Clase 12, Base Sem2).RDATA.\n",
      "\n"
     ]
    },
    {
     "name": "stdout",
     "output_type": "stream",
     "text": [
      "Validate  20     470    104387834     105037312    \n",
      "20231104 120053\t602\t976271\tgbdt\tbinary\tcustom\tTRUE\tTRUE\tFALSE\tTRUE\t-100\t-1\t0\t0.001\t0\t0\t31\t39\t1\t1\t1\tFALSE\t1\t0.1\t50\t0.5\tTRUE\t279523\t0.126775268023798\t0.728186673535666\t53\t46146\t14734\t135854103.948026\t20\n"
     ]
    },
    {
     "name": "stderr",
     "output_type": "stream",
     "text": [
      "[mbo] 4: learning_rate=0.127; feature_fraction=0.728; num_leaves=53; min_data_in_leaf=46146 : y = 1.36e+08 : 119.8 secs : infill_ei\n",
      "\n"
     ]
    },
    {
     "name": "stdout",
     "output_type": "stream",
     "text": [
      "Validate  21     1050    104045870     106875703    \n",
      "20231104 120944\t602\t976271\tgbdt\tbinary\tcustom\tTRUE\tTRUE\tFALSE\tTRUE\t-100\t-1\t0\t0.001\t0\t0\t31\t619\t1\t1\t1\tFALSE\t1\t0.1\t50\t0.5\tTRUE\t279523\t0.115046630250463\t0.535778767372956\t741\t27334\t10932\t145352141.929035\t21\n"
     ]
    },
    {
     "name": "stderr",
     "output_type": "stream",
     "text": [
      "[mbo] 5: learning_rate=0.115; feature_fraction=0.536; num_leaves=741; min_data_in_leaf=27334 : y = 1.45e+08 : 531.2 secs : infill_ei\n",
      "\n",
      "Saved the current state after iteration 6 in the file HT8230 (Clase 12, Base Sem2).RDATA.\n",
      "\n"
     ]
    },
    {
     "name": "stdout",
     "output_type": "stream",
     "text": [
      "Validate  22     770    101641739     106857193    \n",
      "20231104 121322\t602\t976271\tgbdt\tbinary\tcustom\tTRUE\tTRUE\tFALSE\tTRUE\t-100\t-1\t0\t0.001\t0\t0\t31\t348\t1\t1\t1\tFALSE\t1\t0.1\t50\t0.5\tTRUE\t279523\t0.1643740361453\t0.734993357321941\t396\t32643\t11077\t146062479.26037\t22\n"
     ]
    },
    {
     "name": "stderr",
     "output_type": "stream",
     "text": [
      "[mbo] 6: learning_rate=0.164; feature_fraction=0.735; num_leaves=396; min_data_in_leaf=32643 : y = 1.46e+08 : 214.7 secs : infill_ei\n",
      "\n"
     ]
    },
    {
     "name": "stdout",
     "output_type": "stream",
     "text": [
      "Validate  23     860    105443750     106311687    \n",
      "20231104 122015\t602\t976271\tgbdt\tbinary\tcustom\tTRUE\tTRUE\tFALSE\tTRUE\t-100\t-1\t0\t0.001\t0\t0\t31\t433\t1\t1\t1\tFALSE\t1\t0.1\t50\t0.5\tTRUE\t279523\t0.132329993245787\t0.454441001362639\t892\t24204\t13734\t144513394.302849\t23\n"
     ]
    },
    {
     "name": "stderr",
     "output_type": "stream",
     "text": [
      "[mbo] 7: learning_rate=0.132; feature_fraction=0.454; num_leaves=892; min_data_in_leaf=24204 : y = 1.45e+08 : 412.7 secs : infill_ei\n",
      "\n",
      "Saved the current state after iteration 8 in the file HT8230 (Clase 12, Base Sem2).RDATA.\n",
      "\n"
     ]
    },
    {
     "name": "stdout",
     "output_type": "stream",
     "text": [
      "Validate  24     550    101078534     106167009    \n",
      "20231104 122452\t602\t976271\tgbdt\tbinary\tcustom\tTRUE\tTRUE\tFALSE\tTRUE\t-100\t-1\t0\t0.001\t0\t0\t31\t62\t1\t1\t1\tFALSE\t1\t0.1\t50\t0.5\tTRUE\t279523\t0.0425967819729833\t0.485488053725446\t784\t24506\t14981\t133802425.287356\t24\n"
     ]
    },
    {
     "name": "stderr",
     "output_type": "stream",
     "text": [
      "[mbo] 8: learning_rate=0.0426; feature_fraction=0.485; num_leaves=784; min_data_in_leaf=24506 : y = 1.34e+08 : 274.2 secs : infill_ei\n",
      "\n"
     ]
    },
    {
     "name": "stdout",
     "output_type": "stream",
     "text": [
      "Validate  25     1120    107110229     108839824    \n",
      "20231104 123419\t602\t976271\tgbdt\tbinary\tcustom\tTRUE\tTRUE\tFALSE\tTRUE\t-100\t-1\t0\t0.001\t0\t0\t31\t683\t1\t1\t1\tFALSE\t1\t0.1\t50\t0.5\tTRUE\t279523\t0.0889967348576362\t0.507562956654168\t683\t24420\t12487\t147091629.685157\t25\n"
     ]
    },
    {
     "name": "stderr",
     "output_type": "stream",
     "text": [
      "[mbo] 9: learning_rate=0.089; feature_fraction=0.508; num_leaves=683; min_data_in_leaf=24420 : y = 1.47e+08 : 565.9 secs : infill_ei\n",
      "\n",
      "Saved the current state after iteration 10 in the file HT8230 (Clase 12, Base Sem2).RDATA.\n",
      "\n"
     ]
    },
    {
     "name": "stdout",
     "output_type": "stream",
     "text": [
      "Validate  26     470    102949969     103414330    \n",
      "20231104 123704\t602\t976271\tgbdt\tbinary\tcustom\tTRUE\tTRUE\tFALSE\tTRUE\t-100\t-1\t0\t0.001\t0\t0\t31\t33\t1\t1\t1\tFALSE\t1\t0.1\t50\t0.5\tTRUE\t279523\t0.0923599047400057\t0.212114235104693\t650\t31706\t12199\t131166920.03998\t26\n"
     ]
    },
    {
     "name": "stderr",
     "output_type": "stream",
     "text": [
      "[mbo] 10: learning_rate=0.0924; feature_fraction=0.212; num_leaves=650; min_data_in_leaf=31706 : y = 1.31e+08 : 162.3 secs : infill_ei\n",
      "\n"
     ]
    },
    {
     "name": "stdout",
     "output_type": "stream",
     "text": [
      "Validate  27     700    106309122     109487724    \n",
      "20231104 124240\t602\t976271\tgbdt\tbinary\tcustom\tTRUE\tTRUE\tFALSE\tTRUE\t-100\t-1\t0\t0.001\t0\t0\t31\t270\t1\t1\t1\tFALSE\t1\t0.1\t50\t0.5\tTRUE\t279523\t0.113831974433914\t0.939550955386741\t440\t2387\t12422\t139640022.988506\t27\n"
     ]
    },
    {
     "name": "stderr",
     "output_type": "stream",
     "text": [
      "[mbo] 11: learning_rate=0.114; feature_fraction=0.94; num_leaves=440; min_data_in_leaf=2387 : y = 1.4e+08 : 335.8 secs : infill_ei\n",
      "\n"
     ]
    },
    {
     "name": "stdout",
     "output_type": "stream",
     "text": [
      "Validate  28     880    105698541     107120188    \n",
      "20231104 124714\t602\t976271\tgbdt\tbinary\tcustom\tTRUE\tTRUE\tFALSE\tTRUE\t-100\t-1\t0\t0.001\t0\t0\t31\t444\t1\t1\t1\tFALSE\t1\t0.1\t50\t0.5\tTRUE\t279523\t0.0994529245551974\t0.155670195406256\t66\t16267\t11412\t140359438.28086\t28\n"
     ]
    },
    {
     "name": "stderr",
     "output_type": "stream",
     "text": [
      "[mbo] 12: learning_rate=0.0995; feature_fraction=0.156; num_leaves=66; min_data_in_leaf=16267 : y = 1.4e+08 : 273.9 secs : infill_ei\n",
      "\n",
      "Saved the current state after iteration 13 in the file HT8230 (Clase 12, Base Sem2).RDATA.\n",
      "\n"
     ]
    },
    {
     "name": "stdout",
     "output_type": "stream",
     "text": [
      "Validate  29     430    99068975     102959915     \n",
      "20231104 124929\t602\t976271\tgbdt\tbinary\tcustom\tTRUE\tTRUE\tFALSE\tTRUE\t-100\t-1\t0\t0.001\t0\t0\t31\t12\t1\t1\t1\tFALSE\t1\t0.1\t50\t0.5\tTRUE\t279523\t0.187984097010263\t0.992539653660722\t987\t19447\t18463\t121140289.355322\t29\n"
     ]
    },
    {
     "name": "stderr",
     "output_type": "stream",
     "text": [
      "[mbo] 13: learning_rate=0.188; feature_fraction=0.993; num_leaves=987; min_data_in_leaf=19447 : y = 1.21e+08 : 131.1 secs : infill_ei\n",
      "\n"
     ]
    },
    {
     "name": "stdout",
     "output_type": "stream",
     "text": [
      "Validate  30     550    99700251     104068062     \n",
      "20231104 125227\t602\t976271\tgbdt\tbinary\tcustom\tTRUE\tTRUE\tFALSE\tTRUE\t-100\t-1\t0\t0.001\t0\t0\t31\t138\t1\t1\t1\tFALSE\t1\t0.1\t50\t0.5\tTRUE\t279523\t0.21486489627466\t0.73114644606353\t994\t14329\t14892\t138838538.730635\t30\n"
     ]
    },
    {
     "name": "stderr",
     "output_type": "stream",
     "text": [
      "[mbo] 14: learning_rate=0.215; feature_fraction=0.731; num_leaves=994; min_data_in_leaf=14329 : y = 1.39e+08 : 177.9 secs : infill_ei\n",
      "\n"
     ]
    },
    {
     "name": "stdout",
     "output_type": "stream",
     "text": [
      "Validate  31     450    100382477     103546904    \n",
      "20231104 125423\t602\t976271\tgbdt\tbinary\tcustom\tTRUE\tTRUE\tFALSE\tTRUE\t-100\t-1\t0\t0.001\t0\t0\t31\t36\t1\t1\t1\tFALSE\t1\t0.1\t50\t0.5\tTRUE\t279523\t0.23183732664914\t0.0967048329253251\t622\t40535\t15373\t127822123.438281\t31\n"
     ]
    },
    {
     "name": "stderr",
     "output_type": "stream",
     "text": [
      "[mbo] 15: learning_rate=0.232; feature_fraction=0.0967; num_leaves=622; min_data_in_leaf=40535 : y = 1.28e+08 : 115.4 secs : infill_ei\n",
      "\n"
     ]
    },
    {
     "name": "stdout",
     "output_type": "stream",
     "text": [
      "Validate  32     460    101148972     105260042    \n",
      "20231104 125806\t602\t976271\tgbdt\tbinary\tcustom\tTRUE\tTRUE\tFALSE\tTRUE\t-100\t-1\t0\t0.001\t0\t0\t31\t30\t1\t1\t1\tFALSE\t1\t0.1\t50\t0.5\tTRUE\t279523\t0.102253332623773\t0.476590332174083\t548\t36307\t15712\t133081187.406297\t32\n"
     ]
    },
    {
     "name": "stderr",
     "output_type": "stream",
     "text": [
      "[mbo] 16: learning_rate=0.102; feature_fraction=0.477; num_leaves=548; min_data_in_leaf=36307 : y = 1.33e+08 : 223.2 secs : infill_ei\n",
      "\n",
      "Saved the current state after iteration 17 in the file HT8230 (Clase 12, Base Sem2).RDATA.\n",
      "\n"
     ]
    },
    {
     "name": "stdout",
     "output_type": "stream",
     "text": [
      "Validate  33     1490    99796422     101439981     \n",
      "20231104 130221\t602\t976271\tgbdt\tbinary\tcustom\tTRUE\tTRUE\tFALSE\tTRUE\t-100\t-1\t0\t0.001\t0\t0\t31\t1078\t1\t1\t1\tFALSE\t1\t0.1\t50\t0.5\tTRUE\t279523\t0.188510769635448\t0.0160009792923074\t20\t46521\t16264\t135108521.73913\t33\n"
     ]
    },
    {
     "name": "stderr",
     "output_type": "stream",
     "text": [
      "[mbo] 17: learning_rate=0.189; feature_fraction=0.016; num_leaves=20; min_data_in_leaf=46521 : y = 1.35e+08 : 252.3 secs : infill_ei\n",
      "\n"
     ]
    },
    {
     "name": "stdout",
     "output_type": "stream",
     "text": [
      "Validate  34     780    103297454     105795471    \n",
      "20231104 130915\t602\t976271\tgbdt\tbinary\tcustom\tTRUE\tTRUE\tFALSE\tTRUE\t-100\t-1\t0\t0.001\t0\t0\t31\t368\t1\t1\t1\tFALSE\t1\t0.1\t50\t0.5\tTRUE\t279523\t0.207759407162936\t0.363749616031018\t866\t2414\t12616\t132189469.265367\t34\n"
     ]
    },
    {
     "name": "stderr",
     "output_type": "stream",
     "text": [
      "[mbo] 18: learning_rate=0.208; feature_fraction=0.364; num_leaves=866; min_data_in_leaf=2414 : y = 1.32e+08 : 413.6 secs : infill_ei\n",
      "\n",
      "Saved the current state after iteration 19 in the file HT8230 (Clase 12, Base Sem2).RDATA.\n",
      "\n"
     ]
    },
    {
     "name": "stdout",
     "output_type": "stream",
     "text": [
      "Validate  35     750    110415443     111796297    \n",
      "20231104 131511\t602\t976271\tgbdt\tbinary\tcustom\tTRUE\tTRUE\tFALSE\tTRUE\t-100\t-1\t0\t0.001\t0\t0\t31\t304\t1\t1\t1\tFALSE\t1\t0.1\t50\t0.5\tTRUE\t279523\t0.0862693665594208\t0.367803098479063\t141\t1495\t14734\t138132024.987506\t35\n"
     ]
    },
    {
     "name": "stderr",
     "output_type": "stream",
     "text": [
      "[mbo] 19: learning_rate=0.0863; feature_fraction=0.368; num_leaves=141; min_data_in_leaf=1495 : y = 1.38e+08 : 352.9 secs : infill_ei\n",
      "\n"
     ]
    },
    {
     "name": "stdout",
     "output_type": "stream",
     "text": [
      "Validate  36     620    103992896     108279397    \n",
      "20231104 131902\t602\t976271\tgbdt\tbinary\tcustom\tTRUE\tTRUE\tFALSE\tTRUE\t-100\t-1\t0\t0.001\t0\t0\t31\t208\t1\t1\t1\tFALSE\t1\t0.1\t50\t0.5\tTRUE\t279523\t0.201494440229396\t0.230863219716859\t91\t16658\t12939\t140826080.45977\t36\n"
     ]
    },
    {
     "name": "stderr",
     "output_type": "stream",
     "text": [
      "[mbo] 20: learning_rate=0.201; feature_fraction=0.231; num_leaves=91; min_data_in_leaf=16658 : y = 1.41e+08 : 230.0 secs : infill_ei\n",
      "\n"
     ]
    },
    {
     "name": "stdout",
     "output_type": "stream",
     "text": [
      "Validate  37     630    97452587     106727758     \n",
      "20231104 132143\t602\t976271\tgbdt\tbinary\tcustom\tTRUE\tTRUE\tFALSE\tTRUE\t-100\t-1\t0\t0.001\t0\t0\t31\t105\t1\t1\t1\tFALSE\t1\t0.1\t50\t0.5\tTRUE\t279523\t0.0312102471790676\t0.947599405081835\t341\t49600\t13044\t138273109.445277\t37\n"
     ]
    },
    {
     "name": "stderr",
     "output_type": "stream",
     "text": [
      "[mbo] 21: learning_rate=0.0312; feature_fraction=0.948; num_leaves=341; min_data_in_leaf=49600 : y = 1.38e+08 : 161.2 secs : infill_ei\n",
      "\n",
      "Saved the current state after iteration 22 in the file HT8230 (Clase 12, Base Sem2).RDATA.\n",
      "\n"
     ]
    },
    {
     "name": "stdout",
     "output_type": "stream",
     "text": [
      "Validate  38     510    103432556     105712135    \n",
      "20231104 132450\t602\t976271\tgbdt\tbinary\tcustom\tTRUE\tTRUE\tFALSE\tTRUE\t-100\t-1\t0\t0.001\t0\t0\t31\t99\t1\t1\t1\tFALSE\t1\t0.1\t50\t0.5\tTRUE\t279523\t0.218010056024513\t0.982859935984685\t399\t9546\t12369\t143217099.950025\t38\n"
     ]
    },
    {
     "name": "stderr",
     "output_type": "stream",
     "text": [
      "[mbo] 22: learning_rate=0.218; feature_fraction=0.983; num_leaves=399; min_data_in_leaf=9546 : y = 1.43e+08 : 183.9 secs : infill_ei\n",
      "\n"
     ]
    },
    {
     "name": "stdout",
     "output_type": "stream",
     "text": [
      "Validate  39     1610    110391224     112450536    \n",
      "20231104 133538\t602\t976271\tgbdt\tbinary\tcustom\tTRUE\tTRUE\tFALSE\tTRUE\t-100\t-1\t0\t0.001\t0\t0\t31\t1112\t1\t1\t1\tFALSE\t1\t0.1\t50\t0.5\tTRUE\t279523\t0.0395327590028695\t0.26333513839646\t1006\t10586\t13495\t143808563.218391\t39\n"
     ]
    },
    {
     "name": "stderr",
     "output_type": "stream",
     "text": [
      "[mbo] 23: learning_rate=0.0395; feature_fraction=0.263; num_leaves=1006; min_data_in_leaf=10586 : y = 1.44e+08 : 647.2 secs : infill_ei\n",
      "\n",
      "Saved the current state after iteration 24 in the file HT8230 (Clase 12, Base Sem2).RDATA.\n",
      "\n"
     ]
    },
    {
     "name": "stdout",
     "output_type": "stream",
     "text": [
      "Validate  40     500    102537497     106447636    \n",
      "20231104 133756\t602\t976271\tgbdt\tbinary\tcustom\tTRUE\tTRUE\tFALSE\tTRUE\t-100\t-1\t0\t0.001\t0\t0\t31\t45\t1\t1\t1\tFALSE\t1\t0.1\t50\t0.5\tTRUE\t279523\t0.0688364978338479\t0.883629598794234\t618\t40211\t13592\t139037589.205397\t40\n"
     ]
    },
    {
     "name": "stderr",
     "output_type": "stream",
     "text": [
      "[mbo] 24: learning_rate=0.0688; feature_fraction=0.884; num_leaves=618; min_data_in_leaf=40211 : y = 1.39e+08 : 134.4 secs : infill_ei\n",
      "\n"
     ]
    },
    {
     "name": "stdout",
     "output_type": "stream",
     "text": [
      "Validate  41     1740    106363702     106771406    \n",
      "20231104 134554\t602\t976271\tgbdt\tbinary\tcustom\tTRUE\tTRUE\tFALSE\tTRUE\t-100\t-1\t0\t0.001\t0\t0\t31\t1263\t1\t1\t1\tFALSE\t1\t0.1\t50\t0.5\tTRUE\t279523\t0.0503323401668963\t0.657551057420429\t330\t31213\t11377\t147754443.278361\t41\n"
     ]
    },
    {
     "name": "stderr",
     "output_type": "stream",
     "text": [
      "[mbo] 25: learning_rate=0.0503; feature_fraction=0.658; num_leaves=330; min_data_in_leaf=31213 : y = 1.48e+08 : 478.1 secs : infill_ei\n",
      "\n",
      "Saved the current state after iteration 26 in the file HT8230 (Clase 12, Base Sem2).RDATA.\n",
      "\n"
     ]
    },
    {
     "name": "stdout",
     "output_type": "stream",
     "text": [
      "Validate  42     650    100945457     103825494    \n",
      "20231104 135038\t602\t976271\tgbdt\tbinary\tcustom\tTRUE\tTRUE\tFALSE\tTRUE\t-100\t-1\t0\t0.001\t0\t0\t31\t235\t1\t1\t1\tFALSE\t1\t0.1\t50\t0.5\tTRUE\t279523\t0.198826848253567\t0.19463110197156\t928\t1255\t12715\t136716419.290355\t42\n"
     ]
    },
    {
     "name": "stderr",
     "output_type": "stream",
     "text": [
      "[mbo] 26: learning_rate=0.199; feature_fraction=0.195; num_leaves=928; min_data_in_leaf=1255 : y = 1.37e+08 : 280.7 secs : infill_ei\n",
      "\n"
     ]
    },
    {
     "name": "stdout",
     "output_type": "stream",
     "text": [
      "Validate  43     680    106224454     107377954    \n",
      "20231104 135500\t602\t976271\tgbdt\tbinary\tcustom\tTRUE\tTRUE\tFALSE\tTRUE\t-100\t-1\t0\t0.001\t0\t0\t31\t257\t1\t1\t1\tFALSE\t1\t0.1\t50\t0.5\tTRUE\t279523\t0.127045100986078\t0.238003119838871\t911\t11445\t13170\t136272228.885557\t43\n"
     ]
    },
    {
     "name": "stderr",
     "output_type": "stream",
     "text": [
      "[mbo] 27: learning_rate=0.127; feature_fraction=0.238; num_leaves=911; min_data_in_leaf=11445 : y = 1.36e+08 : 262.3 secs : infill_ei\n",
      "\n"
     ]
    },
    {
     "name": "stdout",
     "output_type": "stream",
     "text": [
      "Validate  44     860    101858875     104448970    \n",
      "20231104 135932\t602\t976271\tgbdt\tbinary\tcustom\tTRUE\tTRUE\tFALSE\tTRUE\t-100\t-1\t0\t0.001\t0\t0\t31\t439\t1\t1\t1\tFALSE\t1\t0.1\t50\t0.5\tTRUE\t279523\t0.165861892585315\t0.685844735472054\t764\t15744\t13372\t141999138.430785\t44\n"
     ]
    },
    {
     "name": "stderr",
     "output_type": "stream",
     "text": [
      "[mbo] 28: learning_rate=0.166; feature_fraction=0.686; num_leaves=764; min_data_in_leaf=15744 : y = 1.42e+08 : 270.7 secs : infill_ei\n",
      "\n",
      "Saved the current state after iteration 29 in the file HT8230 (Clase 12, Base Sem2).RDATA.\n",
      "\n"
     ]
    },
    {
     "name": "stdout",
     "output_type": "stream",
     "text": [
      "Validate  45     1170    101222092     105228674    \n",
      "20231104 140559\t602\t976271\tgbdt\tbinary\tcustom\tTRUE\tTRUE\tFALSE\tTRUE\t-100\t-1\t0\t0.001\t0\t0\t31\t753\t1\t1\t1\tFALSE\t1\t0.1\t50\t0.5\tTRUE\t279523\t0.178284161387343\t0.207320006196336\t743\t44445\t12535\t143784775.112444\t45\n"
     ]
    },
    {
     "name": "stderr",
     "output_type": "stream",
     "text": [
      "[mbo] 29: learning_rate=0.178; feature_fraction=0.207; num_leaves=743; min_data_in_leaf=44445 : y = 1.44e+08 : 385.7 secs : infill_ei\n",
      "\n"
     ]
    },
    {
     "name": "stdout",
     "output_type": "stream",
     "text": [
      "Validate  46     700    104878411     108492157    \n",
      "20231104 140917\t602\t976271\tgbdt\tbinary\tcustom\tTRUE\tTRUE\tFALSE\tTRUE\t-100\t-1\t0\t0.001\t0\t0\t31\t283\t1\t1\t1\tFALSE\t1\t0.1\t50\t0.5\tTRUE\t279523\t0.213218114886863\t0.83433932040716\t451\t27342\t13730\t142706491.754123\t46\n"
     ]
    },
    {
     "name": "stderr",
     "output_type": "stream",
     "text": [
      "[mbo] 30: learning_rate=0.213; feature_fraction=0.834; num_leaves=451; min_data_in_leaf=27342 : y = 1.43e+08 : 196.4 secs : infill_ei\n",
      "\n"
     ]
    },
    {
     "name": "stdout",
     "output_type": "stream",
     "text": [
      "Validate  47     1860    109794489     110914409    \n",
      "20231104 141840\t602\t976271\tgbdt\tbinary\tcustom\tTRUE\tTRUE\tFALSE\tTRUE\t-100\t-1\t0\t0.001\t0\t0\t31\t1370\t1\t1\t1\tFALSE\t1\t0.1\t50\t0.5\tTRUE\t279523\t0.0417724200900978\t0.130578295568776\t309\t11539\t17030\t137977766.116942\t47\n"
     ]
    },
    {
     "name": "stderr",
     "output_type": "stream",
     "text": [
      "[mbo] 31: learning_rate=0.0418; feature_fraction=0.131; num_leaves=309; min_data_in_leaf=11539 : y = 1.38e+08 : 562.2 secs : infill_ei\n",
      "\n",
      "Saved the current state after iteration 32 in the file HT8230 (Clase 12, Base Sem2).RDATA.\n",
      "\n"
     ]
    },
    {
     "name": "stdout",
     "output_type": "stream",
     "text": [
      "Validate  48     2140    107608751     108460694    \n",
      "20231104 142647\t602\t976271\tgbdt\tbinary\tcustom\tTRUE\tTRUE\tFALSE\tTRUE\t-100\t-1\t0\t0.001\t0\t0\t31\t1644\t1\t1\t1\tFALSE\t1\t0.1\t50\t0.5\tTRUE\t279523\t0.040551364638024\t0.0542385882349187\t951\t17707\t13989\t138711142.928536\t48\n"
     ]
    },
    {
     "name": "stderr",
     "output_type": "stream",
     "text": [
      "[mbo] 32: learning_rate=0.0406; feature_fraction=0.0542; num_leaves=951; min_data_in_leaf=17707 : y = 1.39e+08 : 484.0 secs : infill_ei\n",
      "\n"
     ]
    },
    {
     "name": "stdout",
     "output_type": "stream",
     "text": [
      "Validate  49     680    102732651     107549441    \n",
      "20231104 143234\t602\t976271\tgbdt\tbinary\tcustom\tTRUE\tTRUE\tFALSE\tTRUE\t-100\t-1\t0\t0.001\t0\t0\t31\t263\t1\t1\t1\tFALSE\t1\t0.1\t50\t0.5\tTRUE\t279523\t0.161191127476458\t0.462083494035706\t255\t25396\t13162\t144226439.78011\t49\n"
     ]
    },
    {
     "name": "stderr",
     "output_type": "stream",
     "text": [
      "[mbo] 33: learning_rate=0.161; feature_fraction=0.462; num_leaves=255; min_data_in_leaf=25396 : y = 1.44e+08 : 346.6 secs : infill_ei\n",
      "\n",
      "Saved the current state after iteration 34 in the file HT8230 (Clase 12, Base Sem2).RDATA.\n",
      "\n"
     ]
    },
    {
     "name": "stdout",
     "output_type": "stream",
     "text": [
      "Validate  50     500    105987339     106579170    \n",
      "20231104 143558\t602\t976271\tgbdt\tbinary\tcustom\tTRUE\tTRUE\tFALSE\tTRUE\t-100\t-1\t0\t0.001\t0\t0\t31\t47\t1\t1\t1\tFALSE\t1\t0.1\t50\t0.5\tTRUE\t279523\t0.0718277960143754\t0.297849825894326\t275\t25142\t17427\t128756667.166417\t50\n"
     ]
    },
    {
     "name": "stderr",
     "output_type": "stream",
     "text": [
      "[mbo] 34: learning_rate=0.0718; feature_fraction=0.298; num_leaves=275; min_data_in_leaf=25142 : y = 1.29e+08 : 201.2 secs : infill_ei\n",
      "\n"
     ]
    },
    {
     "name": "stdout",
     "output_type": "stream",
     "text": [
      "Validate  51     720    102707407     105248428    \n",
      "20231104 144046\t602\t976271\tgbdt\tbinary\tcustom\tTRUE\tTRUE\tFALSE\tTRUE\t-100\t-1\t0\t0.001\t0\t0\t31\t312\t1\t1\t1\tFALSE\t1\t0.1\t50\t0.5\tTRUE\t279523\t0.255435497505382\t0.596521325363993\t334\t34931\t12142\t143121762.118941\t51\n"
     ]
    },
    {
     "name": "stderr",
     "output_type": "stream",
     "text": [
      "[mbo] 35: learning_rate=0.255; feature_fraction=0.597; num_leaves=334; min_data_in_leaf=34931 : y = 1.43e+08 : 286.9 secs : infill_ei\n",
      "\n"
     ]
    },
    {
     "name": "stdout",
     "output_type": "stream",
     "text": [
      "Validate  52     1150    101282874     103002772    \n",
      "20231104 145032\t602\t976271\tgbdt\tbinary\tcustom\tTRUE\tTRUE\tFALSE\tTRUE\t-100\t-1\t0\t0.001\t0\t0\t31\t744\t1\t1\t1\tFALSE\t1\t0.1\t50\t0.5\tTRUE\t279523\t0.258786070085238\t0.3749562374781\t770\t4103\t10790\t127496026.986507\t52\n"
     ]
    },
    {
     "name": "stderr",
     "output_type": "stream",
     "text": [
      "[mbo] 36: learning_rate=0.259; feature_fraction=0.375; num_leaves=770; min_data_in_leaf=4103 : y = 1.27e+08 : 586.6 secs : infill_ei\n",
      "\n",
      "Saved the current state after iteration 37 in the file HT8230 (Clase 12, Base Sem2).RDATA.\n",
      "\n"
     ]
    },
    {
     "name": "stdout",
     "output_type": "stream",
     "text": [
      "Validate  53     750    103541254     108482684    \n",
      "20231104 145416\t602\t976271\tgbdt\tbinary\tcustom\tTRUE\tTRUE\tFALSE\tTRUE\t-100\t-1\t0\t0.001\t0\t0\t31\t333\t1\t1\t1\tFALSE\t1\t0.1\t50\t0.5\tTRUE\t279523\t0.153360025965507\t0.753346426470034\t280\t22518\t11734\t147159891.054473\t53\n"
     ]
    },
    {
     "name": "stderr",
     "output_type": "stream",
     "text": [
      "[mbo] 37: learning_rate=0.153; feature_fraction=0.753; num_leaves=280; min_data_in_leaf=22518 : y = 1.47e+08 : 220.7 secs : infill_ei\n",
      "\n"
     ]
    },
    {
     "name": "stdout",
     "output_type": "stream",
     "text": [
      "Validate  54     1070    105249355     109105953    \n",
      "20231104 150059\t602\t976271\tgbdt\tbinary\tcustom\tTRUE\tTRUE\tFALSE\tTRUE\t-100\t-1\t0\t0.001\t0\t0\t31\t647\t1\t1\t1\tFALSE\t1\t0.1\t50\t0.5\tTRUE\t279523\t0.136560488809445\t0.836445873708031\t112\t5242\t11341\t136443184.907546\t54\n"
     ]
    },
    {
     "name": "stderr",
     "output_type": "stream",
     "text": [
      "[mbo] 38: learning_rate=0.137; feature_fraction=0.836; num_leaves=112; min_data_in_leaf=5242 : y = 1.36e+08 : 402.5 secs : infill_ei\n",
      "\n",
      "Saved the current state after iteration 39 in the file HT8230 (Clase 12, Base Sem2).RDATA.\n",
      "\n"
     ]
    },
    {
     "name": "stdout",
     "output_type": "stream",
     "text": [
      "Validate  55     430    95857125     100801280    \n",
      "20231104 150313\t602\t976271\tgbdt\tbinary\tcustom\tTRUE\tTRUE\tFALSE\tTRUE\t-100\t-1\t0\t0.001\t0\t0\t31\t16\t1\t1\t1\tFALSE\t1\t0.1\t50\t0.5\tTRUE\t279523\t0.212551235045487\t0.665658624600946\t942\t19129\t12211\t139084259.370315\t55\n"
     ]
    },
    {
     "name": "stderr",
     "output_type": "stream",
     "text": [
      "[mbo] 39: learning_rate=0.213; feature_fraction=0.666; num_leaves=942; min_data_in_leaf=19129 : y = 1.39e+08 : 131.6 secs : infill_ei\n",
      "\n"
     ]
    },
    {
     "name": "stdout",
     "output_type": "stream",
     "text": [
      "Validate  56     670    100324525     105385924    \n",
      "20231104 150833\t602\t976271\tgbdt\tbinary\tcustom\tTRUE\tTRUE\tFALSE\tTRUE\t-100\t-1\t0\t0.001\t0\t0\t31\t255\t1\t1\t1\tFALSE\t1\t0.1\t50\t0.5\tTRUE\t279523\t0.25321865366607\t0.448758293491342\t971\t24120\t13421\t141776618.190905\t56\n"
     ]
    },
    {
     "name": "stderr",
     "output_type": "stream",
     "text": [
      "[mbo] 40: learning_rate=0.253; feature_fraction=0.449; num_leaves=971; min_data_in_leaf=24120 : y = 1.42e+08 : 319.0 secs : infill_ei\n",
      "\n"
     ]
    },
    {
     "name": "stdout",
     "output_type": "stream",
     "text": [
      "Validate  57     440    100484997     103057264    \n",
      "20231104 151026\t602\t976271\tgbdt\tbinary\tcustom\tTRUE\tTRUE\tFALSE\tTRUE\t-100\t-1\t0\t0.001\t0\t0\t31\t22\t1\t1\t1\tFALSE\t1\t0.1\t50\t0.5\tTRUE\t279523\t0.188637059644681\t0.988666620378563\t30\t45043\t13516\t140562532.733633\t57\n"
     ]
    },
    {
     "name": "stderr",
     "output_type": "stream",
     "text": [
      "[mbo] 41: learning_rate=0.189; feature_fraction=0.989; num_leaves=30; min_data_in_leaf=45043 : y = 1.41e+08 : 112.9 secs : infill_ei\n",
      "\n"
     ]
    },
    {
     "name": "stdout",
     "output_type": "stream",
     "text": [
      "Validate  58     700    100079630     105684968    \n",
      "20231104 151338\t602\t976271\tgbdt\tbinary\tcustom\tTRUE\tTRUE\tFALSE\tTRUE\t-100\t-1\t0\t0.001\t0\t0\t31\t147\t1\t1\t1\tFALSE\t1\t0.1\t50\t0.5\tTRUE\t279523\t0.0258575184084205\t0.109535193372164\t815\t16089\t11531\t131427987.506247\t58\n"
     ]
    },
    {
     "name": "stderr",
     "output_type": "stream",
     "text": [
      "[mbo] 42: learning_rate=0.0259; feature_fraction=0.11; num_leaves=815; min_data_in_leaf=16089 : y = 1.31e+08 : 191.8 secs : infill_ei\n",
      "\n",
      "Saved the current state after iteration 43 in the file HT8230 (Clase 12, Base Sem2).RDATA.\n",
      "\n"
     ]
    },
    {
     "name": "stdout",
     "output_type": "stream",
     "text": [
      "Validate  59     510    101998420     106586968    \n",
      "20231104 151717\t602\t976271\tgbdt\tbinary\tcustom\tTRUE\tTRUE\tFALSE\tTRUE\t-100\t-1\t0\t0.001\t0\t0\t31\t95\t1\t1\t1\tFALSE\t1\t0.1\t50\t0.5\tTRUE\t279523\t0.241942433972542\t0.275592356413668\t159\t6390\t11791\t138041150.924538\t59\n"
     ]
    },
    {
     "name": "stderr",
     "output_type": "stream",
     "text": [
      "[mbo] 43: learning_rate=0.242; feature_fraction=0.276; num_leaves=159; min_data_in_leaf=6390 : y = 1.38e+08 : 215.4 secs : infill_ei\n",
      "\n"
     ]
    },
    {
     "name": "stdout",
     "output_type": "stream",
     "text": [
      "Validate  60     1100    106707129     108113751    \n",
      "20231104 152542\t602\t976271\tgbdt\tbinary\tcustom\tTRUE\tTRUE\tFALSE\tTRUE\t-100\t-1\t0\t0.001\t0\t0\t31\t662\t1\t1\t1\tFALSE\t1\t0.1\t50\t0.5\tTRUE\t279523\t0.0895488234071329\t0.40053616616068\t1014\t20076\t13629\t144389783.608196\t60\n"
     ]
    },
    {
     "name": "stderr",
     "output_type": "stream",
     "text": [
      "[mbo] 44: learning_rate=0.0895; feature_fraction=0.401; num_leaves=1014; min_data_in_leaf=20076 : y = 1.44e+08 : 505.1 secs : infill_ei\n",
      "\n",
      "Saved the current state after iteration 45 in the file HT8230 (Clase 12, Base Sem2).RDATA.\n",
      "\n"
     ]
    },
    {
     "name": "stdout",
     "output_type": "stream",
     "text": [
      "Validate  61     500    101692348     106528431    \n",
      "20231104 152920\t602\t976271\tgbdt\tbinary\tcustom\tTRUE\tTRUE\tFALSE\tTRUE\t-100\t-1\t0\t0.001\t0\t0\t31\t49\t1\t1\t1\tFALSE\t1\t0.1\t50\t0.5\tTRUE\t279523\t0.0726932984928428\t0.313688852271308\t726\t38378\t15623\t128075221.889055\t61\n"
     ]
    },
    {
     "name": "stderr",
     "output_type": "stream",
     "text": [
      "[mbo] 45: learning_rate=0.0727; feature_fraction=0.314; num_leaves=726; min_data_in_leaf=38378 : y = 1.28e+08 : 214.8 secs : infill_ei\n",
      "\n"
     ]
    },
    {
     "name": "stdout",
     "output_type": "stream",
     "text": [
      "Validate  62     1220    106839174     107984858    \n",
      "20231104 153759\t602\t976271\tgbdt\tbinary\tcustom\tTRUE\tTRUE\tFALSE\tTRUE\t-100\t-1\t0\t0.001\t0\t0\t31\t773\t1\t1\t1\tFALSE\t1\t0.1\t50\t0.5\tTRUE\t279523\t0.0839941999434758\t0.238815186120218\t820\t12296\t12931\t146670426.286857\t62\n"
     ]
    },
    {
     "name": "stderr",
     "output_type": "stream",
     "text": [
      "[mbo] 46: learning_rate=0.084; feature_fraction=0.239; num_leaves=820; min_data_in_leaf=12296 : y = 1.47e+08 : 518.6 secs : infill_ei\n",
      "\n",
      "Saved the current state after iteration 47 in the file HT8230 (Clase 12, Base Sem2).RDATA.\n",
      "\n"
     ]
    },
    {
     "name": "stdout",
     "output_type": "stream",
     "text": [
      "Validate  63     1380    107783688     108888761    \n",
      "20231104 154552\t602\t976271\tgbdt\tbinary\tcustom\tTRUE\tTRUE\tFALSE\tTRUE\t-100\t-1\t0\t0.001\t0\t0\t31\t928\t1\t1\t1\tFALSE\t1\t0.1\t50\t0.5\tTRUE\t279523\t0.0706999069695037\t0.1537552299545\t841\t12589\t14422\t142359703.148426\t63\n"
     ]
    },
    {
     "name": "stderr",
     "output_type": "stream",
     "text": [
      "[mbo] 47: learning_rate=0.0707; feature_fraction=0.154; num_leaves=841; min_data_in_leaf=12589 : y = 1.42e+08 : 469.9 secs : infill_ei\n",
      "\n"
     ]
    },
    {
     "name": "stdout",
     "output_type": "stream",
     "text": [
      "Validate  64     440    101636208     104557051    \n",
      "20231104 154750\t602\t976271\tgbdt\tbinary\tcustom\tTRUE\tTRUE\tFALSE\tTRUE\t-100\t-1\t0\t0.001\t0\t0\t31\t23\t1\t1\t1\tFALSE\t1\t0.1\t50\t0.5\tTRUE\t279523\t0.215057994443146\t0.820894776439118\t865\t45401\t15440\t140340729.635182\t64\n"
     ]
    },
    {
     "name": "stderr",
     "output_type": "stream",
     "text": [
      "[mbo] 48: learning_rate=0.215; feature_fraction=0.821; num_leaves=865; min_data_in_leaf=45401 : y = 1.4e+08 : 117.4 secs : infill_ei\n",
      "\n"
     ]
    },
    {
     "name": "stdout",
     "output_type": "stream",
     "text": [
      "Validate  65     710    102512243     106230170    \n",
      "20231104 155145\t602\t976271\tgbdt\tbinary\tcustom\tTRUE\tTRUE\tFALSE\tTRUE\t-100\t-1\t0\t0.001\t0\t0\t31\t286\t1\t1\t1\tFALSE\t1\t0.1\t50\t0.5\tTRUE\t279523\t0.151954579320353\t0.679382764649972\t630\t15332\t11293\t141824222.388806\t65\n"
     ]
    },
    {
     "name": "stderr",
     "output_type": "stream",
     "text": [
      "[mbo] 49: learning_rate=0.152; feature_fraction=0.679; num_leaves=630; min_data_in_leaf=15332 : y = 1.42e+08 : 235.2 secs : infill_ei\n",
      "\n",
      "Saved the current state after iteration 50 in the file HT8230 (Clase 12, Base Sem2).RDATA.\n",
      "\n"
     ]
    },
    {
     "name": "stdout",
     "output_type": "stream",
     "text": [
      "Validate  66     960    109405155     113497178    \n",
      "20231104 160022\t602\t976271\tgbdt\tbinary\tcustom\tTRUE\tTRUE\tFALSE\tTRUE\t-100\t-1\t0\t0.001\t0\t0\t31\t480\t1\t1\t1\tFALSE\t1\t0.1\t50\t0.5\tTRUE\t279523\t0.0497217186181707\t0.760671760749241\t414\t1078\t14154\t145267267.366317\t66\n"
     ]
    },
    {
     "name": "stderr",
     "output_type": "stream",
     "text": [
      "[mbo] 50: learning_rate=0.0497; feature_fraction=0.761; num_leaves=414; min_data_in_leaf=1078 : y = 1.45e+08 : 513.2 secs : infill_ei\n",
      "\n",
      "Saved the final state in the file HT8230 (Clase 12, Base Sem2).RDATA\n",
      "\n"
     ]
    },
    {
     "name": "stdout",
     "output_type": "stream",
     "text": [
      "\n",
      "\n",
      "La optimizacion Bayesiana ha terminado\n"
     ]
    }
   ],
   "source": [
    "# inicio la optimizacion bayesiana\n",
    "if (!file.exists(kbayesiana)) {\n",
    "  run <- mbo(obj.fun, learner = surr.km, control = ctrl)\n",
    "} else {\n",
    "  run <- mboContinue(kbayesiana) # retomo en caso que ya exista\n",
    "}\n",
    "\n",
    "\n",
    "cat(\"\\n\\nLa optimizacion Bayesiana ha terminado\\n\")\n"
   ]
  },
  {
   "cell_type": "markdown",
   "metadata": {},
   "source": [
    "# Semilla 3, base"
   ]
  },
  {
   "cell_type": "code",
   "execution_count": 47,
   "metadata": {
    "vscode": {
     "languageId": "r"
    }
   },
   "outputs": [
    {
     "data": {
      "text/html": [
       "<table class=\"dataframe\">\n",
       "<caption>A matrix: 2 × 6 of type dbl</caption>\n",
       "<thead>\n",
       "\t<tr><th></th><th scope=col>used</th><th scope=col>(Mb)</th><th scope=col>gc trigger</th><th scope=col>(Mb)</th><th scope=col>max used</th><th scope=col>(Mb)</th></tr>\n",
       "</thead>\n",
       "<tbody>\n",
       "\t<tr><th scope=row>Ncells</th><td>  2539374</td><td> 135.7</td><td>   8200216</td><td>  438.0</td><td>  22909774</td><td> 1223.6</td></tr>\n",
       "\t<tr><th scope=row>Vcells</th><td>713147678</td><td>5440.9</td><td>2239658032</td><td>17087.3</td><td>6843588264</td><td>52212.5</td></tr>\n",
       "</tbody>\n",
       "</table>\n"
      ],
      "text/latex": [
       "A matrix: 2 × 6 of type dbl\n",
       "\\begin{tabular}{r|llllll}\n",
       "  & used & (Mb) & gc trigger & (Mb) & max used & (Mb)\\\\\n",
       "\\hline\n",
       "\tNcells &   2539374 &  135.7 &    8200216 &   438.0 &   22909774 &  1223.6\\\\\n",
       "\tVcells & 713147678 & 5440.9 & 2239658032 & 17087.3 & 6843588264 & 52212.5\\\\\n",
       "\\end{tabular}\n"
      ],
      "text/markdown": [
       "\n",
       "A matrix: 2 × 6 of type dbl\n",
       "\n",
       "| <!--/--> | used | (Mb) | gc trigger | (Mb) | max used | (Mb) |\n",
       "|---|---|---|---|---|---|---|\n",
       "| Ncells |   2539374 |  135.7 |    8200216 |   438.0 |   22909774 |  1223.6 |\n",
       "| Vcells | 713147678 | 5440.9 | 2239658032 | 17087.3 | 6843588264 | 52212.5 |\n",
       "\n"
      ],
      "text/plain": [
       "       used      (Mb)   gc trigger (Mb)    max used   (Mb)   \n",
       "Ncells   2539374  135.7    8200216   438.0   22909774  1223.6\n",
       "Vcells 713147678 5440.9 2239658032 17087.3 6843588264 52212.5"
      ]
     },
     "metadata": {},
     "output_type": "display_data"
    }
   ],
   "source": [
    "# limpio la memoria\n",
    "rm(list = ls()) # remove all objects\n",
    "gc() # garbage collection"
   ]
  },
  {
   "cell_type": "code",
   "execution_count": 48,
   "metadata": {
    "vscode": {
     "languageId": "r"
    }
   },
   "outputs": [],
   "source": [
    "require(\"data.table\")\n",
    "require(\"rlist\")\n",
    "require(\"lightgbm\")"
   ]
  },
  {
   "cell_type": "code",
   "execution_count": 49,
   "metadata": {
    "vscode": {
     "languageId": "r"
    }
   },
   "outputs": [],
   "source": [
    "# paquetes necesarios para la Bayesian Optimization\n",
    "require(\"DiceKriging\")\n",
    "require(\"mlrMBO\")\n",
    "\n",
    "# para que se detenga ante el primer error\n",
    "# y muestre el stack de funciones invocadas\n",
    "options(error = function() {\n",
    "  traceback(20)\n",
    "  options(error = NULL)\n",
    "  stop(\"exiting after script error\")\n",
    "})"
   ]
  },
  {
   "cell_type": "markdown",
   "metadata": {},
   "source": [
    "## Definición de Parametros"
   ]
  },
  {
   "cell_type": "code",
   "execution_count": 50,
   "metadata": {
    "vscode": {
     "languageId": "r"
    }
   },
   "outputs": [],
   "source": [
    "# defino los parametros de la corrida, en una lista, la variable global  PARAM\n",
    "#  muy pronto esto se leera desde un archivo formato .yaml\n",
    "PARAM <- list()\n",
    "\n",
    "PARAM$experimento <- \"HT8230 (Clase 12, Base Sem3)\"\n",
    "\n",
    "PARAM$input$dataset <- \"datasets/competencia_03_base_lags.csv.gz\"\n",
    "\n",
    "# los meses en los que vamos a entrenar\n",
    "#  mucha magia emerger de esta eleccion\n",
    "PARAM$input$testing <- c(202107) # Último mes, lo más cercano al 202109 de kaggle\n",
    "PARAM$input$validation <- c(202106)\n",
    "PARAM$input$training <- c(202105, 202104, 202103, 202102, 202101,202012) # 6 meses de entrenamiento\t\n",
    "\n",
    "# un undersampling de 0.1  toma solo el 10% de los CONTINUA\n",
    "PARAM$trainingstrategy$undersampling <- 1.0\n",
    "PARAM$trainingstrategy$semilla_azar <- c(279511, 279523, 279541, 279551, 279571)  # Aqui poner su  primer  semilla/ pongo todas mis semillas\n",
    "\n",
    "PARAM$hyperparametertuning$POS_ganancia <- 273000\n",
    "PARAM$hyperparametertuning$NEG_ganancia <- -7000\n",
    "\n",
    "# Aqui va semilla\n",
    "PARAM$lgb_semilla <- 279541"
   ]
  },
  {
   "cell_type": "code",
   "execution_count": 51,
   "metadata": {
    "vscode": {
     "languageId": "r"
    }
   },
   "outputs": [],
   "source": [
    "# Hiperparametros FIJOS de  lightgbm\n",
    "PARAM$lgb_basicos <- list(\n",
    "  boosting = \"gbdt\", # puede ir  dart  , ni pruebe random_forest\n",
    "  objective = \"binary\",\n",
    "  metric = \"custom\",\n",
    "  first_metric_only = TRUE,\n",
    "  boost_from_average = TRUE,\n",
    "  feature_pre_filter = FALSE,\n",
    "  force_row_wise = TRUE, # para reducir warnings\n",
    "  verbosity = -100,\n",
    "  max_depth = -1L, # -1 significa no limitar,  por ahora lo dejo fijo\n",
    "  min_gain_to_split = 0.0, # min_gain_to_split >= 0.0\n",
    "  min_sum_hessian_in_leaf = 0.001, #  min_sum_hessian_in_leaf >= 0.0\n",
    "  lambda_l1 = 0.0, # lambda_l1 >= 0.0\n",
    "  lambda_l2 = 0.0, # lambda_l2 >= 0.0\n",
    "  max_bin = 31L, # lo debo dejar fijo, no participa de la BO\n",
    "  num_iterations = 9999, # un numero muy grande, lo limita early_stopping_rounds\n",
    "\n",
    "  bagging_fraction = 1.0, # 0.0 < bagging_fraction <= 1.0\n",
    "  pos_bagging_fraction = 1.0, # 0.0 < pos_bagging_fraction <= 1.0\n",
    "  neg_bagging_fraction = 1.0, # 0.0 < neg_bagging_fraction <= 1.0\n",
    "  is_unbalance = FALSE, #\n",
    "  scale_pos_weight = 1.0, # scale_pos_weight > 0.0\n",
    "\n",
    "  drop_rate = 0.1, # 0.0 < neg_bagging_fraction <= 1.0\n",
    "  max_drop = 50, # <=0 means no limit\n",
    "  skip_drop = 0.5, # 0.0 <= skip_drop <= 1.0\n",
    "\n",
    "  extra_trees = TRUE, # Magic Sauce\n",
    "\n",
    "  seed = PARAM$lgb_semilla\n",
    ")"
   ]
  },
  {
   "cell_type": "code",
   "execution_count": 52,
   "metadata": {
    "vscode": {
     "languageId": "r"
    }
   },
   "outputs": [],
   "source": [
    "# Aqui se cargan los hiperparametros que se optimizan\n",
    "#  en la Bayesian Optimization\n",
    "PARAM$bo_lgb <- makeParamSet(\n",
    "  makeNumericParam(\"learning_rate\", lower = 0.02, upper = 0.3),\n",
    "  makeNumericParam(\"feature_fraction\", lower = 0.01, upper = 1.0),\n",
    "  makeIntegerParam(\"num_leaves\", lower = 8L, upper = 1024L),\n",
    "  makeIntegerParam(\"min_data_in_leaf\", lower = 100L, upper = 50000L)\n",
    ")\n",
    "\n",
    "# si usted es ambicioso, y tiene paciencia, podria subir este valor a 100\n",
    "PARAM$bo_iteraciones <- 50 # iteraciones de la Optimizacion Bayesiana"
   ]
  },
  {
   "cell_type": "code",
   "execution_count": 53,
   "metadata": {
    "vscode": {
     "languageId": "r"
    }
   },
   "outputs": [],
   "source": [
    "# graba a un archivo los componentes de lista\n",
    "# para el primer registro, escribe antes los titulos\n",
    "\n",
    "loguear <- function(\n",
    "    reg, arch = NA, folder = \"./exp/\",\n",
    "    ext = \".txt\", verbose = TRUE) {\n",
    "  archivo <- arch\n",
    "  if (is.na(arch)) archivo <- paste0(folder, substitute(reg), ext)\n",
    "\n",
    "  if (!file.exists(archivo)) # Escribo los titulos\n",
    "    {\n",
    "      linea <- paste0(\n",
    "        \"fecha\\t\",\n",
    "        paste(list.names(reg), collapse = \"\\t\"), \"\\n\"\n",
    "      )\n",
    "\n",
    "      cat(linea, file = archivo)\n",
    "    }\n",
    "\n",
    "  linea <- paste0(\n",
    "    format(Sys.time(), \"%Y%m%d %H%M%S\"), \"\\t\", # la fecha y hora\n",
    "    gsub(\", \", \"\\t\", toString(reg)), \"\\n\"\n",
    "  )\n",
    "\n",
    "  cat(linea, file = archivo, append = TRUE) # grabo al archivo\n",
    "\n",
    "  if (verbose) cat(linea) # imprimo por pantalla\n",
    "}"
   ]
  },
  {
   "cell_type": "code",
   "execution_count": 54,
   "metadata": {
    "vscode": {
     "languageId": "r"
    }
   },
   "outputs": [],
   "source": [
    "#------------------------------------------------------------------------------\n",
    "GLOBAL_arbol <- 0L\n",
    "GLOBAL_gan_max <- -Inf\n",
    "vcant_optima <- c()\n",
    "\n",
    "fganancia_lgbm_meseta <- function(probs, datos) {\n",
    "  vlabels <- get_field(datos, \"label\")\n",
    "  vpesos <- get_field(datos, \"weight\")\n",
    "\n",
    "\n",
    "  GLOBAL_arbol <<- GLOBAL_arbol + 1\n",
    "  tbl <- as.data.table(list(\n",
    "    \"prob\" = probs,\n",
    "    \"gan\" = ifelse(vlabels == 1 & vpesos > 1,\n",
    "      PARAM$hyperparametertuning$POS_ganancia,\n",
    "      PARAM$hyperparametertuning$NEG_ganancia  )\n",
    "  ))\n",
    "\n",
    "  setorder(tbl, -prob)\n",
    "  tbl[, posicion := .I]\n",
    "  tbl[, gan_acum := cumsum(gan)]\n",
    "\n",
    "  tbl[, gan_suavizada :=\n",
    "    frollmean(\n",
    "      x = gan_acum, n = 2001, align = \"center\",\n",
    "      na.rm = TRUE, hasNA = TRUE\n",
    "    )]\n",
    "\n",
    "  gan <- tbl[, max(gan_suavizada, na.rm = TRUE)]\n",
    "\n",
    "\n",
    "  pos <- which.max(tbl[, gan_suavizada])\n",
    "  vcant_optima <<- c(vcant_optima, pos)\n",
    "\n",
    "  if (GLOBAL_arbol %% 10 == 0) {\n",
    "    if (gan > GLOBAL_gan_max) GLOBAL_gan_max <<- gan\n",
    "\n",
    "    cat(\"\\r\")\n",
    "    cat(\n",
    "      \"Validate \", GLOBAL_iteracion, \" \", \" \",\n",
    "      GLOBAL_arbol, \"  \", gan, \"   \", GLOBAL_gan_max, \"   \"\n",
    "    )\n",
    "  }\n",
    "\n",
    "\n",
    "  return(list(\n",
    "    \"name\" = \"ganancia\",\n",
    "    \"value\" = gan,\n",
    "    \"higher_better\" = TRUE\n",
    "  ))\n",
    "}"
   ]
  },
  {
   "cell_type": "code",
   "execution_count": 55,
   "metadata": {
    "vscode": {
     "languageId": "r"
    }
   },
   "outputs": [],
   "source": [
    "#------------------------------------------------------------------------------\n",
    "\n",
    "EstimarGanancia_lightgbm <- function(x) {\n",
    "  gc()\n",
    "  GLOBAL_iteracion <<- GLOBAL_iteracion + 1L\n",
    "\n",
    "  # hago la union de los parametros basicos y los moviles que vienen en x\n",
    "  param_completo <- c(PARAM$lgb_basicos, x)\n",
    "\n",
    "  param_completo$early_stopping_rounds <-\n",
    "    as.integer(400 + 4 / param_completo$learning_rate)\n",
    "\n",
    "  GLOBAL_arbol <<- 0L\n",
    "  GLOBAL_gan_max <<- -Inf\n",
    "  vcant_optima <<- c()\n",
    "  set.seed(PARAM$lgb_semilla, kind = \"L'Ecuyer-CMRG\")\n",
    "  modelo_train <- lgb.train(\n",
    "    data = dtrain,\n",
    "    valids = list(valid = dvalidate),\n",
    "    eval = fganancia_lgbm_meseta,\n",
    "    param = param_completo,\n",
    "    verbose = -100\n",
    "  )\n",
    "\n",
    "  cat(\"\\n\")\n",
    "\n",
    "  cant_corte <- vcant_optima[modelo_train$best_iter]\n",
    "\n",
    "  # aplico el modelo a testing y calculo la ganancia\n",
    "  prediccion <- predict(\n",
    "    modelo_train,\n",
    "    data.matrix(dataset_test[, campos_buenos, with = FALSE])\n",
    "  )\n",
    "\n",
    "  tbl <- copy(dataset_test[, list(\"gan\" = ifelse(clase_ternaria == \"BAJA+2\",\n",
    "    PARAM$hyperparametertuning$POS_ganancia, \n",
    "    PARAM$hyperparametertuning$NEG_ganancia))])\n",
    "\n",
    "  tbl[, prob := prediccion]\n",
    "  setorder(tbl, -prob)\n",
    "  tbl[, gan_acum := cumsum(gan)]\n",
    "  tbl[, gan_suavizada := frollmean(\n",
    "    x = gan_acum, n = 2001,\n",
    "    align = \"center\", na.rm = TRUE, hasNA = TRUE\n",
    "  )]\n",
    "\n",
    "\n",
    "  ganancia_test <- tbl[, max(gan_suavizada, na.rm = TRUE)]\n",
    "\n",
    "  cantidad_test_normalizada <- which.max(tbl[, gan_suavizada])\n",
    "\n",
    "  rm(tbl)\n",
    "  gc()\n",
    "\n",
    "  ganancia_test_normalizada <- ganancia_test\n",
    "\n",
    "\n",
    "  # voy grabando las mejores column importance\n",
    "  if (ganancia_test_normalizada > GLOBAL_gananciamax) {\n",
    "    GLOBAL_gananciamax <<- ganancia_test_normalizada\n",
    "    tb_importancia <- as.data.table(lgb.importance(modelo_train))\n",
    "\n",
    "    fwrite(tb_importancia,\n",
    "      file = paste0(\"impo_\", sprintf(\"%03d\", GLOBAL_iteracion), \".txt\"),\n",
    "      sep = \"\\t\"\n",
    "    )\n",
    "\n",
    "    rm(tb_importancia)\n",
    "  }\n",
    "\n",
    "\n",
    "  # logueo final\n",
    "  ds <- list(\"cols\" = ncol(dtrain), \"rows\" = nrow(dtrain))\n",
    "  xx <- c(ds, copy(param_completo))\n",
    "\n",
    "  xx$early_stopping_rounds <- NULL\n",
    "  xx$num_iterations <- modelo_train$best_iter\n",
    "  xx$estimulos <- cantidad_test_normalizada\n",
    "  xx$ganancia <- ganancia_test_normalizada\n",
    "  xx$iteracion_bayesiana <- GLOBAL_iteracion\n",
    "\n",
    "  loguear(xx, arch = \"BO_log.txt\")\n",
    "\n",
    "  set.seed(PARAM$lgb_semilla, kind = \"L'Ecuyer-CMRG\")\n",
    "  return(ganancia_test_normalizada)\n",
    "}"
   ]
  },
  {
   "cell_type": "markdown",
   "metadata": {},
   "source": [
    "## Aquí empieza el programa"
   ]
  },
  {
   "cell_type": "code",
   "execution_count": 56,
   "metadata": {
    "vscode": {
     "languageId": "r"
    }
   },
   "outputs": [],
   "source": [
    "# Aqui empieza el programa\n",
    "\n",
    "# Aqui se debe poner la carpeta de la computadora local\n",
    "setwd(\"~/buckets/b1/\") # Establezco el Working Directory\n",
    "\n",
    "# cargo el dataset donde voy a entrenar el modelo\n",
    "dataset <- fread(PARAM$input$dataset)"
   ]
  },
  {
   "cell_type": "code",
   "execution_count": 57,
   "metadata": {
    "vscode": {
     "languageId": "r"
    }
   },
   "outputs": [],
   "source": [
    "# creo la carpeta donde va el experimento\n",
    "dir.create(\"./exp/\", showWarnings = FALSE)\n",
    "dir.create(paste0(\"./exp/\", PARAM$experimento, \"/\"), showWarnings = FALSE)\n",
    "\n",
    "# Establezco el Working Directory DEL EXPERIMENTO\n",
    "setwd(paste0(\"./exp/\", PARAM$experimento, \"/\"))\n",
    "\n",
    "# en estos archivos quedan los resultados\n",
    "kbayesiana <- paste0(PARAM$experimento, \".RDATA\")\n",
    "klog <- paste0(PARAM$experimento, \".txt\")\n"
   ]
  },
  {
   "cell_type": "code",
   "execution_count": 58,
   "metadata": {
    "vscode": {
     "languageId": "r"
    }
   },
   "outputs": [],
   "source": [
    "# Catastrophe Analysis  -------------------------------------------------------\n",
    "# deben ir cosas de este estilo\n",
    "#   dataset[foto_mes == 202006, active_quarter := NA]\n",
    "\n",
    "# Data Drifting\n",
    "# por ahora, no hago nada\n",
    "\n",
    "\n",
    "# Feature Engineering Historico  ----------------------------------------------\n",
    "#   aqui deben calcularse los  lags y  lag_delta\n",
    "#   Sin lags no hay paraiso !  corta la bocha"
   ]
  },
  {
   "cell_type": "code",
   "execution_count": null,
   "metadata": {
    "vscode": {
     "languageId": "r"
    }
   },
   "outputs": [],
   "source": []
  },
  {
   "cell_type": "code",
   "execution_count": 59,
   "metadata": {
    "vscode": {
     "languageId": "r"
    }
   },
   "outputs": [],
   "source": [
    "# ahora SI comienza la optimizacion Bayesiana\n",
    "\n",
    "GLOBAL_iteracion <- 0 # inicializo la variable global\n",
    "GLOBAL_gananciamax <- -1 # inicializo la variable global\n",
    "\n",
    "# si ya existe el archivo log, traigo hasta donde llegue\n",
    "if (file.exists(klog)) {\n",
    "  tabla_log <- fread(klog)\n",
    "  GLOBAL_iteracion <- nrow(tabla_log)\n",
    "  GLOBAL_gananciamax <- tabla_log[, max(ganancia)]\n",
    "}\n"
   ]
  },
  {
   "cell_type": "code",
   "execution_count": 60,
   "metadata": {
    "vscode": {
     "languageId": "r"
    }
   },
   "outputs": [],
   "source": [
    "# paso la clase a binaria que tome valores {0,1}  enteros\n",
    "dataset[, clase01 := ifelse(clase_ternaria == \"CONTINUA\", 0L, 1L)]\n",
    "\n",
    "\n",
    "# los campos que se van a utilizar\n",
    "campos_buenos <- setdiff(\n",
    "  colnames(dataset),\n",
    "  c(\"clase_ternaria\", \"clase01\", \"azar\", \"training\")\n",
    ")"
   ]
  },
  {
   "cell_type": "code",
   "execution_count": 61,
   "metadata": {
    "vscode": {
     "languageId": "r"
    }
   },
   "outputs": [],
   "source": [
    "# defino los datos que forma parte del training\n",
    "# aqui se hace el undersampling de los CONTINUA\n",
    "set.seed(PARAM$trainingstrategy$semilla_azar)\n",
    "dataset[, azar := runif(nrow(dataset))]\n",
    "dataset[, training := 0L]\n",
    "dataset[\n",
    "  foto_mes %in% PARAM$input$training &\n",
    "    (azar <= PARAM$trainingstrategy$undersampling | clase_ternaria %in% c(\"BAJA+1\", \"BAJA+2\")),\n",
    "  training := 1L\n",
    "]"
   ]
  },
  {
   "cell_type": "code",
   "execution_count": 62,
   "metadata": {
    "vscode": {
     "languageId": "r"
    }
   },
   "outputs": [],
   "source": [
    "# dejo los datos en el formato que necesita LightGBM\n",
    "dtrain <- lgb.Dataset(\n",
    "  data = data.matrix(dataset[training == 1L, campos_buenos, with = FALSE]),\n",
    "  label = dataset[training == 1L, clase01],\n",
    "  weight = dataset[training == 1L, \n",
    "    ifelse(clase_ternaria == \"BAJA+2\", 1.0000001, \n",
    "      ifelse(clase_ternaria == \"BAJA+1\", 1.0, 1.0))],\n",
    "  free_raw_data = FALSE\n",
    ")"
   ]
  },
  {
   "cell_type": "code",
   "execution_count": 63,
   "metadata": {
    "vscode": {
     "languageId": "r"
    }
   },
   "outputs": [],
   "source": [
    "# defino los datos que forman parte de validation\n",
    "#  no hay undersampling\n",
    "dataset[, validation := 0L]\n",
    "dataset[ foto_mes %in% PARAM$input$validation,  validation := 1L]\n",
    "\n",
    "dvalidate <- lgb.Dataset(\n",
    "  data = data.matrix(dataset[validation == 1L, campos_buenos, with = FALSE]),\n",
    "  label = dataset[validation == 1L, clase01],\n",
    "  weight = dataset[validation == 1L, \n",
    "    ifelse(clase_ternaria == \"BAJA+2\", 1.0000001, \n",
    "      ifelse(clase_ternaria == \"BAJA+1\", 1.0, 1.0))],\n",
    "  free_raw_data = FALSE\n",
    ")"
   ]
  },
  {
   "cell_type": "code",
   "execution_count": 64,
   "metadata": {
    "vscode": {
     "languageId": "r"
    }
   },
   "outputs": [],
   "source": [
    "# defino los datos de testing\n",
    "dataset[, testing := 0L]\n",
    "dataset[ foto_mes %in% PARAM$input$testing,  testing := 1L]\n",
    "\n",
    "\n",
    "dataset_test <- dataset[testing == 1, ]"
   ]
  },
  {
   "cell_type": "code",
   "execution_count": 65,
   "metadata": {
    "vscode": {
     "languageId": "r"
    }
   },
   "outputs": [
    {
     "data": {
      "text/html": [
       "<table class=\"dataframe\">\n",
       "<caption>A matrix: 2 × 6 of type dbl</caption>\n",
       "<thead>\n",
       "\t<tr><th></th><th scope=col>used</th><th scope=col>(Mb)</th><th scope=col>gc trigger</th><th scope=col>(Mb)</th><th scope=col>max used</th><th scope=col>(Mb)</th></tr>\n",
       "</thead>\n",
       "<tbody>\n",
       "\t<tr><th scope=row>Ncells</th><td>  2540033</td><td> 135.7</td><td>   8200216</td><td>  438.0</td><td>  22909774</td><td> 1223.6</td></tr>\n",
       "\t<tr><th scope=row>Vcells</th><td>783917591</td><td>5980.9</td><td>4478352979</td><td>34167.2</td><td>6843588264</td><td>52212.5</td></tr>\n",
       "</tbody>\n",
       "</table>\n"
      ],
      "text/latex": [
       "A matrix: 2 × 6 of type dbl\n",
       "\\begin{tabular}{r|llllll}\n",
       "  & used & (Mb) & gc trigger & (Mb) & max used & (Mb)\\\\\n",
       "\\hline\n",
       "\tNcells &   2540033 &  135.7 &    8200216 &   438.0 &   22909774 &  1223.6\\\\\n",
       "\tVcells & 783917591 & 5980.9 & 4478352979 & 34167.2 & 6843588264 & 52212.5\\\\\n",
       "\\end{tabular}\n"
      ],
      "text/markdown": [
       "\n",
       "A matrix: 2 × 6 of type dbl\n",
       "\n",
       "| <!--/--> | used | (Mb) | gc trigger | (Mb) | max used | (Mb) |\n",
       "|---|---|---|---|---|---|---|\n",
       "| Ncells |   2540033 |  135.7 |    8200216 |   438.0 |   22909774 |  1223.6 |\n",
       "| Vcells | 783917591 | 5980.9 | 4478352979 | 34167.2 | 6843588264 | 52212.5 |\n",
       "\n"
      ],
      "text/plain": [
       "       used      (Mb)   gc trigger (Mb)    max used   (Mb)   \n",
       "Ncells   2540033  135.7    8200216   438.0   22909774  1223.6\n",
       "Vcells 783917591 5980.9 4478352979 34167.2 6843588264 52212.5"
      ]
     },
     "metadata": {},
     "output_type": "display_data"
    }
   ],
   "source": [
    "# libero espacio\n",
    "rm(dataset)\n",
    "gc()"
   ]
  },
  {
   "cell_type": "code",
   "execution_count": 66,
   "metadata": {
    "vscode": {
     "languageId": "r"
    }
   },
   "outputs": [],
   "source": [
    "# Aqui comienza la configuracion de la Bayesian Optimization\n",
    "funcion_optimizar <- EstimarGanancia_lightgbm # la funcion que voy a maximizar\n",
    "\n",
    "configureMlr(show.learner.output = FALSE)\n",
    "\n",
    "# configuro la busqueda bayesiana,  los hiperparametros que se van a optimizar\n",
    "# por favor, no desesperarse por lo complejo\n",
    "obj.fun <- makeSingleObjectiveFunction(\n",
    "  fn = funcion_optimizar, # la funcion que voy a maximizar\n",
    "  minimize = FALSE, # estoy Maximizando la ganancia\n",
    "  noisy = TRUE,\n",
    "  par.set = PARAM$bo_lgb, # definido al comienzo del programa\n",
    "  has.simple.signature = FALSE # paso los parametros en una lista\n",
    ")\n",
    "\n",
    "# cada 600 segundos guardo el resultado intermedio\n",
    "ctrl <- makeMBOControl(\n",
    "  save.on.disk.at.time = 600, # se graba cada 600 segundos\n",
    "  save.file.path = kbayesiana\n",
    ") # se graba cada 600 segundos\n",
    "\n",
    "# indico la cantidad de iteraciones que va a tener la Bayesian Optimization\n",
    "ctrl <- setMBOControlTermination(\n",
    "  ctrl,\n",
    "  iters = PARAM$bo_iteraciones\n",
    ") # cantidad de iteraciones\n",
    "\n",
    "# defino el método estandar para la creacion de los puntos iniciales,\n",
    "# los \"No Inteligentes\"\n",
    "ctrl <- setMBOControlInfill(ctrl, crit = makeMBOInfillCritEI())\n",
    "\n",
    "\n",
    "# establezco la funcion que busca el maximo\n",
    "surr.km <- makeLearner(\n",
    "  \"regr.km\",\n",
    "  predict.type = \"se\",\n",
    "  covtype = \"matern3_2\",\n",
    "  control = list(trace = TRUE)\n",
    ")"
   ]
  },
  {
   "cell_type": "code",
   "execution_count": 67,
   "metadata": {
    "vscode": {
     "languageId": "r"
    }
   },
   "outputs": [
    {
     "name": "stderr",
     "output_type": "stream",
     "text": [
      "Computing y column(s) for design. Not provided.\n",
      "\n"
     ]
    },
    {
     "name": "stdout",
     "output_type": "stream",
     "text": [
      "Validate  1     1010    104621059     108081200    \n",
      "20231104 160956\t602\t976271\tgbdt\tbinary\tcustom\tTRUE\tTRUE\tFALSE\tTRUE\t-100\t-1\t0\t0.001\t0\t0\t31\t584\t1\t1\t1\tFALSE\t1\t0.1\t50\t0.5\tTRUE\t279541\t0.129464825580638\t0.589979261678396\t603\t34060\t14790\t144826361.81909\t1\n",
      "Validate  2     1520    107935669     108388024    \n",
      "20231104 162020\t602\t976271\tgbdt\tbinary\tcustom\tTRUE\tTRUE\tFALSE\tTRUE\t-100\t-1\t0\t0.001\t0\t0\t31\t1069\t1\t1\t1\tFALSE\t1\t0.1\t50\t0.5\tTRUE\t279541\t0.0661204550073144\t0.306758356069939\t135\t27020\t11661\t144633569.715142\t2\n",
      "Validate  3     1060    104089437     108095655    \n",
      "20231104 162523\t602\t976271\tgbdt\tbinary\tcustom\tTRUE\tTRUE\tFALSE\tTRUE\t-100\t-1\t0\t0.001\t0\t0\t31\t628\t1\t1\t1\tFALSE\t1\t0.1\t50\t0.5\tTRUE\t279541\t0.113019156746563\t0.722689286671374\t381\t28634\t13763\t143771803.598201\t3\n",
      "Validate  4     630    103638869     106255207    \n",
      "20231104 162815\t602\t976271\tgbdt\tbinary\tcustom\tTRUE\tTRUE\tFALSE\tTRUE\t-100\t-1\t0\t0.001\t0\t0\t31\t210\t1\t1\t1\tFALSE\t1\t0.1\t50\t0.5\tTRUE\t279541\t0.175678618850921\t0.0837276906739244\t542\t6859\t13634\t141888236.881559\t4\n",
      "Validate  5     520    97700287     105445772     \n",
      "20231104 163205\t602\t976271\tgbdt\tbinary\tcustom\tTRUE\tTRUE\tFALSE\tTRUE\t-100\t-1\t0\t0.001\t0\t0\t31\t111\t1\t1\t1\tFALSE\t1\t0.1\t50\t0.5\tTRUE\t279541\t0.275198918823473\t0.32486327912462\t723\t16035\t11519\t142591787.606197\t5\n",
      "Validate  6     680    105169161     108600029    \n",
      "20231104 163600\t602\t976271\tgbdt\tbinary\tcustom\tTRUE\tTRUE\tFALSE\tTRUE\t-100\t-1\t0\t0.001\t0\t0\t31\t261\t1\t1\t1\tFALSE\t1\t0.1\t50\t0.5\tTRUE\t279541\t0.152941050471095\t0.645387167052228\t502\t12627\t14436\t141544281.85907\t6\n",
      "Validate  7     870    104602882     107031977    \n",
      "20231104 163952\t602\t976271\tgbdt\tbinary\tcustom\tTRUE\tTRUE\tFALSE\tTRUE\t-100\t-1\t0\t0.001\t0\t0\t31\t459\t1\t1\t1\tFALSE\t1\t0.1\t50\t0.5\tTRUE\t279541\t0.19416275426125\t0.794035319192328\t845\t42464\t13707\t142706852.073963\t7\n",
      "Validate  8     1000    100215019     104452783    \n",
      "20231104 164503\t602\t976271\tgbdt\tbinary\tcustom\tTRUE\tTRUE\tFALSE\tTRUE\t-100\t-1\t0\t0.001\t0\t0\t31\t587\t1\t1\t1\tFALSE\t1\t0.1\t50\t0.5\tTRUE\t279541\t0.208330530396255\t0.164289977450783\t938\t38948\t10913\t143537315.842079\t8\n",
      "Validate  9     630    102145683     106343923    \n",
      "20231104 165044\t602\t976271\tgbdt\tbinary\tcustom\tTRUE\tTRUE\tFALSE\tTRUE\t-100\t-1\t0\t0.001\t0\t0\t31\t82\t1\t1\t1\tFALSE\t1\t0.1\t50\t0.5\tTRUE\t279541\t0.0267066953639716\t0.560570734105559\t306\t19296\t13919\t134345430.784608\t9\n",
      "Validate  10     720    102196971     108551886    \n",
      "20231104 165406\t602\t976271\tgbdt\tbinary\tcustom\tTRUE\tTRUE\tFALSE\tTRUE\t-100\t-1\t0\t0.001\t0\t0\t31\t311\t1\t1\t1\tFALSE\t1\t0.1\t50\t0.5\tTRUE\t279541\t0.221560927090974\t0.826648094024347\t31\t34846\t14686\t145765656.171914\t10\n",
      "Validate  11     740    108096904     111672641    \n",
      "20231104 170043\t602\t976271\tgbdt\tbinary\tcustom\tTRUE\tTRUE\tFALSE\tTRUE\t-100\t-1\t0\t0.001\t0\t0\t31\t296\t1\t1\t1\tFALSE\t1\t0.1\t50\t0.5\tTRUE\t279541\t0.0852503757905397\t0.925651702728775\t683\t1679\t13274\t142408356.821589\t11\n",
      "Validate  12     570    96962793     102283283     \n",
      "20231104 170353\t602\t976271\tgbdt\tbinary\tcustom\tTRUE\tTRUE\tFALSE\tTRUE\t-100\t-1\t0\t0.001\t0\t0\t31\t96\t1\t1\t1\tFALSE\t1\t0.1\t50\t0.5\tTRUE\t279541\t0.0506736029737185\t0.207218508431007\t246\t49507\t14533\t128583482.758621\t12\n",
      "Validate  13     730    102109091     105624011    \n",
      "20231104 170812\t602\t976271\tgbdt\tbinary\tcustom\tTRUE\tTRUE\tFALSE\tTRUE\t-100\t-1\t0\t0.001\t0\t0\t31\t322\t1\t1\t1\tFALSE\t1\t0.1\t50\t0.5\tTRUE\t279541\t0.241211629895149\t0.979385213098052\t981\t9632\t12630\t141163973.013493\t13\n",
      "Validate  14     800    102257406     109208952    \n",
      "20231104 171412\t602\t976271\tgbdt\tbinary\tcustom\tTRUE\tTRUE\tFALSE\tTRUE\t-100\t-1\t0\t0.001\t0\t0\t31\t392\t1\t1\t1\tFALSE\t1\t0.1\t50\t0.5\tTRUE\t279541\t0.289686593103062\t0.413139080222854\t417\t43892\t15420\t138576281.85907\t14\n",
      "Validate  15     440    96637585     100831516     \n",
      "20231104 171544\t602\t976271\tgbdt\tbinary\tcustom\tTRUE\tTRUE\tFALSE\tTRUE\t-100\t-1\t0\t0.001\t0\t0\t31\t34\t1\t1\t1\tFALSE\t1\t0.1\t50\t0.5\tTRUE\t279541\t0.260954398056728\t0.0272621639125061\t107\t5794\t13124\t122912849.575212\t15\n",
      "Validate  16     980    108891913     109828247    \n",
      "20231104 172342\t602\t976271\tgbdt\tbinary\tcustom\tTRUE\tTRUE\tFALSE\tTRUE\t-100\t-1\t0\t0.001\t0\t0\t31\t542\t1\t1\t1\tFALSE\t1\t0.1\t50\t0.5\tTRUE\t279541\t0.0917235747127569\t0.46677263015138\t785\t24824\t11417\t144436562.218891\t16\n"
     ]
    },
    {
     "name": "stderr",
     "output_type": "stream",
     "text": [
      "[mbo] 0: learning_rate=0.129; feature_fraction=0.59; num_leaves=603; min_data_in_leaf=34060 : y = 1.45e+08 : 476.7 secs : initdesign\n",
      "\n",
      "[mbo] 0: learning_rate=0.0661; feature_fraction=0.307; num_leaves=135; min_data_in_leaf=27020 : y = 1.45e+08 : 623.5 secs : initdesign\n",
      "\n",
      "[mbo] 0: learning_rate=0.113; feature_fraction=0.723; num_leaves=381; min_data_in_leaf=28634 : y = 1.44e+08 : 303.0 secs : initdesign\n",
      "\n",
      "[mbo] 0: learning_rate=0.176; feature_fraction=0.0837; num_leaves=542; min_data_in_leaf=6859 : y = 1.42e+08 : 172.7 secs : initdesign\n",
      "\n",
      "[mbo] 0: learning_rate=0.275; feature_fraction=0.325; num_leaves=723; min_data_in_leaf=16035 : y = 1.43e+08 : 229.2 secs : initdesign\n",
      "\n",
      "[mbo] 0: learning_rate=0.153; feature_fraction=0.645; num_leaves=502; min_data_in_leaf=12627 : y = 1.42e+08 : 234.9 secs : initdesign\n",
      "\n",
      "[mbo] 0: learning_rate=0.194; feature_fraction=0.794; num_leaves=845; min_data_in_leaf=42464 : y = 1.43e+08 : 232.2 secs : initdesign\n",
      "\n",
      "[mbo] 0: learning_rate=0.208; feature_fraction=0.164; num_leaves=938; min_data_in_leaf=38948 : y = 1.44e+08 : 311.8 secs : initdesign\n",
      "\n",
      "[mbo] 0: learning_rate=0.0267; feature_fraction=0.561; num_leaves=306; min_data_in_leaf=19296 : y = 1.34e+08 : 340.2 secs : initdesign\n",
      "\n",
      "[mbo] 0: learning_rate=0.222; feature_fraction=0.827; num_leaves=31; min_data_in_leaf=34846 : y = 1.46e+08 : 202.1 secs : initdesign\n",
      "\n",
      "[mbo] 0: learning_rate=0.0853; feature_fraction=0.926; num_leaves=683; min_data_in_leaf=1679 : y = 1.42e+08 : 397.1 secs : initdesign\n",
      "\n",
      "[mbo] 0: learning_rate=0.0507; feature_fraction=0.207; num_leaves=246; min_data_in_leaf=49507 : y = 1.29e+08 : 190.4 secs : initdesign\n",
      "\n",
      "[mbo] 0: learning_rate=0.241; feature_fraction=0.979; num_leaves=981; min_data_in_leaf=9632 : y = 1.41e+08 : 259.3 secs : initdesign\n",
      "\n",
      "[mbo] 0: learning_rate=0.29; feature_fraction=0.413; num_leaves=417; min_data_in_leaf=43892 : y = 1.39e+08 : 359.1 secs : initdesign\n",
      "\n",
      "[mbo] 0: learning_rate=0.261; feature_fraction=0.0273; num_leaves=107; min_data_in_leaf=5794 : y = 1.23e+08 : 92.2 secs : initdesign\n",
      "\n",
      "[mbo] 0: learning_rate=0.0917; feature_fraction=0.467; num_leaves=785; min_data_in_leaf=24824 : y = 1.44e+08 : 478.5 secs : initdesign\n",
      "\n",
      "Saved the current state after iteration 1 in the file HT8230 (Clase 12, Base Sem3).RDATA.\n",
      "\n"
     ]
    },
    {
     "name": "stdout",
     "output_type": "stream",
     "text": [
      "Validate  17     720    101132019     106218409    \n",
      "20231104 172700\t602\t976271\tgbdt\tbinary\tcustom\tTRUE\tTRUE\tFALSE\tTRUE\t-100\t-1\t0\t0.001\t0\t0\t31\t302\t1\t1\t1\tFALSE\t1\t0.1\t50\t0.5\tTRUE\t279541\t0.187476142029044\t0.764818343680342\t491\t33901\t15684\t142454778.610695\t17\n"
     ]
    },
    {
     "name": "stderr",
     "output_type": "stream",
     "text": [
      "[mbo] 1: learning_rate=0.187; feature_fraction=0.765; num_leaves=491; min_data_in_leaf=33901 : y = 1.42e+08 : 195.0 secs : infill_ei\n",
      "\n"
     ]
    },
    {
     "name": "stdout",
     "output_type": "stream",
     "text": [
      "Validate  18     530    101887592     103939407    \n",
      "20231104 172919\t602\t976271\tgbdt\tbinary\tcustom\tTRUE\tTRUE\tFALSE\tTRUE\t-100\t-1\t0\t0.001\t0\t0\t31\t89\t1\t1\t1\tFALSE\t1\t0.1\t50\t0.5\tTRUE\t279541\t0.0837563143163055\t0.0974486586080843\t819\t31237\t15902\t124672966.516742\t18\n"
     ]
    },
    {
     "name": "stderr",
     "output_type": "stream",
     "text": [
      "[mbo] 2: learning_rate=0.0838; feature_fraction=0.0974; num_leaves=819; min_data_in_leaf=31237 : y = 1.25e+08 : 138.6 secs : infill_ei\n",
      "\n"
     ]
    },
    {
     "name": "stdout",
     "output_type": "stream",
     "text": [
      "Validate  19     2440    108098866     109397284    \n",
      "20231104 174528\t602\t976271\tgbdt\tbinary\tcustom\tTRUE\tTRUE\tFALSE\tTRUE\t-100\t-1\t0\t0.001\t0\t0\t31\t1999\t1\t1\t1\tFALSE\t1\t0.1\t50\t0.5\tTRUE\t279541\t0.0834045389768182\t0.365853325785049\t9\t16164\t12423\t147425446.776612\t19\n"
     ]
    },
    {
     "name": "stderr",
     "output_type": "stream",
     "text": [
      "[mbo] 3: learning_rate=0.0834; feature_fraction=0.366; num_leaves=9; min_data_in_leaf=16164 : y = 1.47e+08 : 968.9 secs : infill_ei\n",
      "\n",
      "Saved the current state after iteration 4 in the file HT8230 (Clase 12, Base Sem3).RDATA.\n",
      "\n"
     ]
    },
    {
     "name": "stdout",
     "output_type": "stream",
     "text": [
      "Validate  20     1100    105843250     108883989    \n",
      "20231104 175329\t602\t976271\tgbdt\tbinary\tcustom\tTRUE\tTRUE\tFALSE\tTRUE\t-100\t-1\t0\t0.001\t0\t0\t31\t671\t1\t1\t1\tFALSE\t1\t0.1\t50\t0.5\tTRUE\t279541\t0.125665887674382\t0.348460443376142\t188\t22141\t13004\t146213299.350325\t20\n"
     ]
    },
    {
     "name": "stderr",
     "output_type": "stream",
     "text": [
      "[mbo] 4: learning_rate=0.126; feature_fraction=0.348; num_leaves=188; min_data_in_leaf=22141 : y = 1.46e+08 : 478.6 secs : infill_ei\n",
      "\n"
     ]
    },
    {
     "name": "stdout",
     "output_type": "stream",
     "text": [
      "Validate  21     620    100550701     106070440    \n",
      "20231104 175750\t602\t976271\tgbdt\tbinary\tcustom\tTRUE\tTRUE\tFALSE\tTRUE\t-100\t-1\t0\t0.001\t0\t0\t31\t207\t1\t1\t1\tFALSE\t1\t0.1\t50\t0.5\tTRUE\t279541\t0.184816401144851\t0.301786792706577\t773\t14075\t12189\t142308604.197901\t21\n"
     ]
    },
    {
     "name": "stderr",
     "output_type": "stream",
     "text": [
      "[mbo] 5: learning_rate=0.185; feature_fraction=0.302; num_leaves=773; min_data_in_leaf=14075 : y = 1.42e+08 : 260.1 secs : infill_ei\n",
      "\n",
      "Saved the current state after iteration 6 in the file HT8230 (Clase 12, Base Sem3).RDATA.\n",
      "\n"
     ]
    },
    {
     "name": "stdout",
     "output_type": "stream",
     "text": [
      "Validate  22     480    104664507     104763361    \n",
      "20231104 180125\t602\t976271\tgbdt\tbinary\tcustom\tTRUE\tTRUE\tFALSE\tTRUE\t-100\t-1\t0\t0.001\t0\t0\t31\t43\t1\t1\t1\tFALSE\t1\t0.1\t50\t0.5\tTRUE\t279541\t0.104633418353931\t0.400536089761239\t47\t42751\t14480\t130929035.482259\t22\n"
     ]
    },
    {
     "name": "stderr",
     "output_type": "stream",
     "text": [
      "[mbo] 6: learning_rate=0.105; feature_fraction=0.401; num_leaves=47; min_data_in_leaf=42751 : y = 1.31e+08 : 211.8 secs : infill_ei\n",
      "\n"
     ]
    },
    {
     "name": "stdout",
     "output_type": "stream",
     "text": [
      "Validate  23     1170    104172107     107294713    \n",
      "20231104 180956\t602\t976271\tgbdt\tbinary\tcustom\tTRUE\tTRUE\tFALSE\tTRUE\t-100\t-1\t0\t0.001\t0\t0\t31\t726\t1\t1\t1\tFALSE\t1\t0.1\t50\t0.5\tTRUE\t279541\t0.0902752140737487\t0.336414945723617\t263\t19360\t12870\t147921614.192904\t23\n"
     ]
    },
    {
     "name": "stderr",
     "output_type": "stream",
     "text": [
      "[mbo] 7: learning_rate=0.0903; feature_fraction=0.336; num_leaves=263; min_data_in_leaf=19360 : y = 1.48e+08 : 510.9 secs : infill_ei\n",
      "\n",
      "Saved the current state after iteration 8 in the file HT8230 (Clase 12, Base Sem3).RDATA.\n",
      "\n"
     ]
    },
    {
     "name": "stdout",
     "output_type": "stream",
     "text": [
      "Validate  24     960    106934788     109189764    \n",
      "20231104 181648\t602\t976271\tgbdt\tbinary\tcustom\tTRUE\tTRUE\tFALSE\tTRUE\t-100\t-1\t0\t0.001\t0\t0\t31\t523\t1\t1\t1\tFALSE\t1\t0.1\t50\t0.5\tTRUE\t279541\t0.10478249705221\t0.317400139872837\t146\t13248\t11496\t142891458.270865\t24\n"
     ]
    },
    {
     "name": "stderr",
     "output_type": "stream",
     "text": [
      "[mbo] 8: learning_rate=0.105; feature_fraction=0.317; num_leaves=146; min_data_in_leaf=13248 : y = 1.43e+08 : 409.1 secs : infill_ei\n",
      "\n"
     ]
    },
    {
     "name": "stdout",
     "output_type": "stream",
     "text": [
      "Validate  25     980    106619568     108867621    \n",
      "20231104 182403\t602\t976271\tgbdt\tbinary\tcustom\tTRUE\tTRUE\tFALSE\tTRUE\t-100\t-1\t0\t0.001\t0\t0\t31\t539\t1\t1\t1\tFALSE\t1\t0.1\t50\t0.5\tTRUE\t279541\t0.0817344611766939\t0.367459622723982\t32\t21691\t13491\t145555743.628186\t25\n"
     ]
    },
    {
     "name": "stderr",
     "output_type": "stream",
     "text": [
      "[mbo] 9: learning_rate=0.0817; feature_fraction=0.367; num_leaves=32; min_data_in_leaf=21691 : y = 1.46e+08 : 435.0 secs : infill_ei\n",
      "\n",
      "Saved the current state after iteration 10 in the file HT8230 (Clase 12, Base Sem3).RDATA.\n",
      "\n"
     ]
    },
    {
     "name": "stdout",
     "output_type": "stream",
     "text": [
      "Validate  26     1000    108580789     110086642    \n",
      "20231104 183138\t602\t976271\tgbdt\tbinary\tcustom\tTRUE\tTRUE\tFALSE\tTRUE\t-100\t-1\t0\t0.001\t0\t0\t31\t551\t1\t1\t1\tFALSE\t1\t0.1\t50\t0.5\tTRUE\t279541\t0.0738434215568813\t0.357098802518981\t536\t16890\t12262\t145476364.817591\t26\n"
     ]
    },
    {
     "name": "stderr",
     "output_type": "stream",
     "text": [
      "[mbo] 10: learning_rate=0.0738; feature_fraction=0.357; num_leaves=536; min_data_in_leaf=16890 : y = 1.45e+08 : 452.2 secs : infill_ei\n",
      "\n"
     ]
    },
    {
     "name": "stdout",
     "output_type": "stream",
     "text": [
      "Validate  27     1200    104525809     107360536    \n",
      "20231104 184119\t602\t976271\tgbdt\tbinary\tcustom\tTRUE\tTRUE\tFALSE\tTRUE\t-100\t-1\t0\t0.001\t0\t0\t31\t774\t1\t1\t1\tFALSE\t1\t0.1\t50\t0.5\tTRUE\t279541\t0.120562424047325\t0.43080530180582\t368\t18048\t11887\t145413308.845577\t27\n"
     ]
    },
    {
     "name": "stderr",
     "output_type": "stream",
     "text": [
      "[mbo] 11: learning_rate=0.121; feature_fraction=0.431; num_leaves=368; min_data_in_leaf=18048 : y = 1.45e+08 : 580.3 secs : infill_ei\n",
      "\n",
      "Saved the current state after iteration 12 in the file HT8230 (Clase 12, Base Sem3).RDATA.\n",
      "\n"
     ]
    },
    {
     "name": "stdout",
     "output_type": "stream",
     "text": [
      "Validate  28     920    103374853     108900984    \n",
      "20231104 184922\t602\t976271\tgbdt\tbinary\tcustom\tTRUE\tTRUE\tFALSE\tTRUE\t-100\t-1\t0\t0.001\t0\t0\t31\t496\t1\t1\t1\tFALSE\t1\t0.1\t50\t0.5\tTRUE\t279541\t0.147068763373454\t0.515766478070073\t772\t25426\t13397\t144235412.793603\t28\n"
     ]
    },
    {
     "name": "stderr",
     "output_type": "stream",
     "text": [
      "[mbo] 12: learning_rate=0.147; feature_fraction=0.516; num_leaves=772; min_data_in_leaf=25426 : y = 1.44e+08 : 479.8 secs : infill_ei\n",
      "\n"
     ]
    },
    {
     "name": "stdout",
     "output_type": "stream",
     "text": [
      "Validate  29     650    101030972     105198417    \n",
      "20231104 185420\t602\t976271\tgbdt\tbinary\tcustom\tTRUE\tTRUE\tFALSE\tTRUE\t-100\t-1\t0\t0.001\t0\t0\t31\t235\t1\t1\t1\tFALSE\t1\t0.1\t50\t0.5\tTRUE\t279541\t0.203709090281723\t0.333230812890209\t500\t26658\t14430\t139906001.999\t29\n"
     ]
    },
    {
     "name": "stderr",
     "output_type": "stream",
     "text": [
      "[mbo] 13: learning_rate=0.204; feature_fraction=0.333; num_leaves=500; min_data_in_leaf=26658 : y = 1.4e+08 : 297.6 secs : infill_ei\n",
      "\n",
      "Saved the current state after iteration 14 in the file HT8230 (Clase 12, Base Sem3).RDATA.\n",
      "\n"
     ]
    },
    {
     "name": "stdout",
     "output_type": "stream",
     "text": [
      "Validate  30     1270    106894691     107374536    \n",
      "20231104 190415\t602\t976271\tgbdt\tbinary\tcustom\tTRUE\tTRUE\tFALSE\tTRUE\t-100\t-1\t0\t0.001\t0\t0\t31\t817\t1\t1\t1\tFALSE\t1\t0.1\t50\t0.5\tTRUE\t279541\t0.0676787783634418\t0.31023752092784\t51\t18068\t11404\t141850140.929535\t30\n"
     ]
    },
    {
     "name": "stderr",
     "output_type": "stream",
     "text": [
      "[mbo] 14: learning_rate=0.0677; feature_fraction=0.31; num_leaves=51; min_data_in_leaf=18068 : y = 1.42e+08 : 591.8 secs : infill_ei\n",
      "\n"
     ]
    },
    {
     "name": "stdout",
     "output_type": "stream",
     "text": [
      "Validate  31     1190    105508950     107294387    \n",
      "20231104 191340\t602\t976271\tgbdt\tbinary\tcustom\tTRUE\tTRUE\tFALSE\tTRUE\t-100\t-1\t0\t0.001\t0\t0\t31\t755\t1\t1\t1\tFALSE\t1\t0.1\t50\t0.5\tTRUE\t279541\t0.0982334068307068\t0.368247908019628\t281\t17480\t12833\t147797625.687156\t31\n"
     ]
    },
    {
     "name": "stderr",
     "output_type": "stream",
     "text": [
      "[mbo] 15: learning_rate=0.0982; feature_fraction=0.368; num_leaves=281; min_data_in_leaf=17480 : y = 1.48e+08 : 564.8 secs : infill_ei\n",
      "\n",
      "Saved the current state after iteration 16 in the file HT8230 (Clase 12, Base Sem3).RDATA.\n",
      "\n"
     ]
    },
    {
     "name": "stdout",
     "output_type": "stream",
     "text": [
      "Validate  32     470    105527904     106345438    \n",
      "20231104 191718\t602\t976271\tgbdt\tbinary\tcustom\tTRUE\tTRUE\tFALSE\tTRUE\t-100\t-1\t0\t0.001\t0\t0\t31\t32\t1\t1\t1\tFALSE\t1\t0.1\t50\t0.5\tTRUE\t279541\t0.094042060066429\t0.33728242808666\t521\t24932\t14293\t133222723.138431\t32\n"
     ]
    },
    {
     "name": "stderr",
     "output_type": "stream",
     "text": [
      "[mbo] 16: learning_rate=0.094; feature_fraction=0.337; num_leaves=521; min_data_in_leaf=24932 : y = 1.33e+08 : 214.7 secs : infill_ei\n",
      "\n"
     ]
    },
    {
     "name": "stdout",
     "output_type": "stream",
     "text": [
      "Validate  33     600    101833282     105789485    \n",
      "20231104 192206\t602\t976271\tgbdt\tbinary\tcustom\tTRUE\tTRUE\tFALSE\tTRUE\t-100\t-1\t0\t0.001\t0\t0\t31\t190\t1\t1\t1\tFALSE\t1\t0.1\t50\t0.5\tTRUE\t279541\t0.230548671768927\t0.374081585787002\t210\t19565\t13056\t142721303.348326\t33\n"
     ]
    },
    {
     "name": "stderr",
     "output_type": "stream",
     "text": [
      "[mbo] 17: learning_rate=0.231; feature_fraction=0.374; num_leaves=210; min_data_in_leaf=19565 : y = 1.43e+08 : 288.0 secs : infill_ei\n",
      "\n"
     ]
    },
    {
     "name": "stdout",
     "output_type": "stream",
     "text": [
      "Validate  34     1280    106871620     109631586    \n",
      "20231104 193234\t602\t976271\tgbdt\tbinary\tcustom\tTRUE\tTRUE\tFALSE\tTRUE\t-100\t-1\t0\t0.001\t0\t0\t31\t838\t1\t1\t1\tFALSE\t1\t0.1\t50\t0.5\tTRUE\t279541\t0.0792226457368439\t0.393462794818428\t162\t15916\t13526\t143030163.918041\t34\n"
     ]
    },
    {
     "name": "stderr",
     "output_type": "stream",
     "text": [
      "[mbo] 18: learning_rate=0.0792; feature_fraction=0.393; num_leaves=162; min_data_in_leaf=15916 : y = 1.43e+08 : 627.2 secs : infill_ei\n",
      "\n",
      "Saved the current state after iteration 19 in the file HT8230 (Clase 12, Base Sem3).RDATA.\n",
      "\n"
     ]
    },
    {
     "name": "stdout",
     "output_type": "stream",
     "text": [
      "Validate  35     1080    104827708     109246243    \n",
      "20231104 194052\t602\t976271\tgbdt\tbinary\tcustom\tTRUE\tTRUE\tFALSE\tTRUE\t-100\t-1\t0\t0.001\t0\t0\t31\t652\t1\t1\t1\tFALSE\t1\t0.1\t50\t0.5\tTRUE\t279541\t0.108325303209702\t0.343225323867249\t357\t18164\t13100\t141336261.869065\t35\n"
     ]
    },
    {
     "name": "stderr",
     "output_type": "stream",
     "text": [
      "[mbo] 19: learning_rate=0.108; feature_fraction=0.343; num_leaves=357; min_data_in_leaf=18164 : y = 1.41e+08 : 495.1 secs : infill_ei\n",
      "\n"
     ]
    },
    {
     "name": "stdout",
     "output_type": "stream",
     "text": [
      "Validate  36     1160    108234574     109232964    \n",
      "20231104 194949\t602\t976271\tgbdt\tbinary\tcustom\tTRUE\tTRUE\tFALSE\tTRUE\t-100\t-1\t0\t0.001\t0\t0\t31\t708\t1\t1\t1\tFALSE\t1\t0.1\t50\t0.5\tTRUE\t279541\t0.0753443647357916\t0.360900851912832\t223\t19612\t12222\t146866289.855072\t36\n"
     ]
    },
    {
     "name": "stderr",
     "output_type": "stream",
     "text": [
      "[mbo] 20: learning_rate=0.0753; feature_fraction=0.361; num_leaves=223; min_data_in_leaf=19612 : y = 1.47e+08 : 536.8 secs : infill_ei\n",
      "\n",
      "Saved the current state after iteration 21 in the file HT8230 (Clase 12, Base Sem3).RDATA.\n",
      "\n"
     ]
    },
    {
     "name": "stdout",
     "output_type": "stream",
     "text": [
      "Validate  37     1200    105528225     108983287    \n",
      "20231104 195910\t602\t976271\tgbdt\tbinary\tcustom\tTRUE\tTRUE\tFALSE\tTRUE\t-100\t-1\t0\t0.001\t0\t0\t31\t764\t1\t1\t1\tFALSE\t1\t0.1\t50\t0.5\tTRUE\t279541\t0.0993492785291886\t0.366263456925438\t148\t19413\t12821\t146438667.166417\t37\n"
     ]
    },
    {
     "name": "stderr",
     "output_type": "stream",
     "text": [
      "[mbo] 21: learning_rate=0.0993; feature_fraction=0.366; num_leaves=148; min_data_in_leaf=19413 : y = 1.46e+08 : 557.9 secs : infill_ei\n",
      "\n"
     ]
    },
    {
     "name": "stdout",
     "output_type": "stream",
     "text": [
      "Validate  38     460    106024141     107514567    \n",
      "20231104 200236\t602\t976271\tgbdt\tbinary\tcustom\tTRUE\tTRUE\tFALSE\tTRUE\t-100\t-1\t0\t0.001\t0\t0\t31\t21\t1\t1\t1\tFALSE\t1\t0.1\t50\t0.5\tTRUE\t279541\t0.0969326736636397\t0.332807803536449\t163\t20360\t12897\t130918481.25937\t38\n"
     ]
    },
    {
     "name": "stderr",
     "output_type": "stream",
     "text": [
      "[mbo] 22: learning_rate=0.0969; feature_fraction=0.333; num_leaves=163; min_data_in_leaf=20360 : y = 1.31e+08 : 205.5 secs : infill_ei\n",
      "\n",
      "Saved the current state after iteration 23 in the file HT8230 (Clase 12, Base Sem3).RDATA.\n",
      "\n"
     ]
    },
    {
     "name": "stdout",
     "output_type": "stream",
     "text": [
      "Validate  39     850    104213978     108096333    \n",
      "20231104 200935\t602\t976271\tgbdt\tbinary\tcustom\tTRUE\tTRUE\tFALSE\tTRUE\t-100\t-1\t0\t0.001\t0\t0\t31\t425\t1\t1\t1\tFALSE\t1\t0.1\t50\t0.5\tTRUE\t279541\t0.149562896520673\t0.584317377202689\t366\t32844\t13306\t143261818.090955\t39\n"
     ]
    },
    {
     "name": "stderr",
     "output_type": "stream",
     "text": [
      "[mbo] 23: learning_rate=0.15; feature_fraction=0.584; num_leaves=366; min_data_in_leaf=32844 : y = 1.43e+08 : 415.9 secs : infill_ei\n",
      "\n"
     ]
    },
    {
     "name": "stdout",
     "output_type": "stream",
     "text": [
      "Validate  40     950    100014646     103357067    \n",
      "20231104 201523\t602\t976271\tgbdt\tbinary\tcustom\tTRUE\tTRUE\tFALSE\tTRUE\t-100\t-1\t0\t0.001\t0\t0\t31\t541\t1\t1\t1\tFALSE\t1\t0.1\t50\t0.5\tTRUE\t279541\t0.217566146007236\t0.14460818820563\t259\t3440\t14745\t129863660.669665\t40\n"
     ]
    },
    {
     "name": "stderr",
     "output_type": "stream",
     "text": [
      "[mbo] 24: learning_rate=0.218; feature_fraction=0.145; num_leaves=259; min_data_in_leaf=3440 : y = 1.3e+08 : 347.1 secs : infill_ei\n",
      "\n",
      "Saved the current state after iteration 25 in the file HT8230 (Clase 12, Base Sem3).RDATA.\n",
      "\n"
     ]
    },
    {
     "name": "stdout",
     "output_type": "stream",
     "text": [
      "Validate  41     660    105080246     106292166    \n",
      "20231104 201824\t602\t976271\tgbdt\tbinary\tcustom\tTRUE\tTRUE\tFALSE\tTRUE\t-100\t-1\t0\t0.001\t0\t0\t31\t249\t1\t1\t1\tFALSE\t1\t0.1\t50\t0.5\tTRUE\t279541\t0.212071390536662\t0.788652205591476\t66\t45074\t13004\t145429271.364318\t41\n"
     ]
    },
    {
     "name": "stderr",
     "output_type": "stream",
     "text": [
      "[mbo] 25: learning_rate=0.212; feature_fraction=0.789; num_leaves=66; min_data_in_leaf=45074 : y = 1.45e+08 : 178.8 secs : infill_ei\n",
      "\n"
     ]
    },
    {
     "name": "stdout",
     "output_type": "stream",
     "text": [
      "Validate  42     440    102003041     103104161    \n",
      "20231104 202024\t602\t976271\tgbdt\tbinary\tcustom\tTRUE\tTRUE\tFALSE\tTRUE\t-100\t-1\t0\t0.001\t0\t0\t31\t26\t1\t1\t1\tFALSE\t1\t0.1\t50\t0.5\tTRUE\t279541\t0.200892946247853\t0.0894318516491971\t398\t34410\t17488\t111042710.644678\t42\n"
     ]
    },
    {
     "name": "stderr",
     "output_type": "stream",
     "text": [
      "[mbo] 26: learning_rate=0.201; feature_fraction=0.0894; num_leaves=398; min_data_in_leaf=34410 : y = 1.11e+08 : 118.9 secs : infill_ei\n",
      "\n"
     ]
    },
    {
     "name": "stdout",
     "output_type": "stream",
     "text": [
      "Validate  43     1160    108472693     110024016    \n",
      "20231104 202721\t602\t976271\tgbdt\tbinary\tcustom\tTRUE\tTRUE\tFALSE\tTRUE\t-100\t-1\t0\t0.001\t0\t0\t31\t685\t1\t1\t1\tFALSE\t1\t0.1\t50\t0.5\tTRUE\t279541\t0.049227932181817\t0.878604642581969\t387\t16274\t12600\t147361159.42029\t43\n"
     ]
    },
    {
     "name": "stderr",
     "output_type": "stream",
     "text": [
      "[mbo] 27: learning_rate=0.0492; feature_fraction=0.879; num_leaves=387; min_data_in_leaf=16274 : y = 1.47e+08 : 416.5 secs : infill_ei\n",
      "\n",
      "Saved the current state after iteration 28 in the file HT8230 (Clase 12, Base Sem3).RDATA.\n",
      "\n"
     ]
    },
    {
     "name": "stdout",
     "output_type": "stream",
     "text": [
      "Validate  44     2310    106800315     108067207    \n",
      "20231104 203724\t602\t976271\tgbdt\tbinary\tcustom\tTRUE\tTRUE\tFALSE\tTRUE\t-100\t-1\t0\t0.001\t0\t0\t31\t1865\t1\t1\t1\tFALSE\t1\t0.1\t50\t0.5\tTRUE\t279541\t0.0767829511881466\t0.0908113038864967\t39\t30034\t12810\t140891459.270365\t44\n"
     ]
    },
    {
     "name": "stderr",
     "output_type": "stream",
     "text": [
      "[mbo] 28: learning_rate=0.0768; feature_fraction=0.0908; num_leaves=39; min_data_in_leaf=30034 : y = 1.41e+08 : 600.4 secs : infill_ei\n",
      "\n",
      "Saved the current state after iteration 29 in the file HT8230 (Clase 12, Base Sem3).RDATA.\n",
      "\n"
     ]
    },
    {
     "name": "stdout",
     "output_type": "stream",
     "text": [
      "Validate  45     480    99187439     102089679     \n",
      "20231104 204126\t602\t976271\tgbdt\tbinary\tcustom\tTRUE\tTRUE\tFALSE\tTRUE\t-100\t-1\t0\t0.001\t0\t0\t31\t72\t1\t1\t1\tFALSE\t1\t0.1\t50\t0.5\tTRUE\t279541\t0.261317770323608\t0.609582142767768\t344\t5948\t11718\t139571961.01949\t45\n"
     ]
    },
    {
     "name": "stderr",
     "output_type": "stream",
     "text": [
      "[mbo] 29: learning_rate=0.261; feature_fraction=0.61; num_leaves=344; min_data_in_leaf=5948 : y = 1.4e+08 : 239.7 secs : infill_ei\n",
      "\n"
     ]
    },
    {
     "name": "stdout",
     "output_type": "stream",
     "text": [
      "Validate  46     1360    107588818     110371585    \n",
      "20231104 204910\t602\t976271\tgbdt\tbinary\tcustom\tTRUE\tTRUE\tFALSE\tTRUE\t-100\t-1\t0\t0.001\t0\t0\t31\t899\t1\t1\t1\tFALSE\t1\t0.1\t50\t0.5\tTRUE\t279541\t0.0604794920231435\t0.880057362994838\t1008\t20669\t12589\t148158379.310345\t46\n"
     ]
    },
    {
     "name": "stderr",
     "output_type": "stream",
     "text": [
      "[mbo] 30: learning_rate=0.0605; feature_fraction=0.88; num_leaves=1008; min_data_in_leaf=20669 : y = 1.48e+08 : 462.7 secs : infill_ei\n",
      "\n",
      "Saved the current state after iteration 31 in the file HT8230 (Clase 12, Base Sem3).RDATA.\n",
      "\n"
     ]
    },
    {
     "name": "stdout",
     "output_type": "stream",
     "text": [
      "Validate  47     1230    108958439     109808258    \n",
      "20231104 205758\t602\t976271\tgbdt\tbinary\tcustom\tTRUE\tTRUE\tFALSE\tTRUE\t-100\t-1\t0\t0.001\t0\t0\t31\t767\t1\t1\t1\tFALSE\t1\t0.1\t50\t0.5\tTRUE\t279541\t0.0561001654456356\t0.213057559069489\t603\t5533\t12601\t147076958.02099\t47\n"
     ]
    },
    {
     "name": "stderr",
     "output_type": "stream",
     "text": [
      "[mbo] 31: learning_rate=0.0561; feature_fraction=0.213; num_leaves=603; min_data_in_leaf=5533 : y = 1.47e+08 : 525.8 secs : infill_ei\n",
      "\n"
     ]
    },
    {
     "name": "stdout",
     "output_type": "stream",
     "text": [
      "Validate  48     1110    99625319     103827372     \n",
      "20231104 210730\t602\t976271\tgbdt\tbinary\tcustom\tTRUE\tTRUE\tFALSE\tTRUE\t-100\t-1\t0\t0.001\t0\t0\t31\t698\t1\t1\t1\tFALSE\t1\t0.1\t50\t0.5\tTRUE\t279541\t0.291400914606524\t0.484720728812488\t973\t46521\t13518\t142433530.234883\t48\n"
     ]
    },
    {
     "name": "stderr",
     "output_type": "stream",
     "text": [
      "[mbo] 32: learning_rate=0.291; feature_fraction=0.485; num_leaves=973; min_data_in_leaf=46521 : y = 1.42e+08 : 570.9 secs : infill_ei\n",
      "\n",
      "Saved the current state after iteration 33 in the file HT8230 (Clase 12, Base Sem3).RDATA.\n",
      "\n"
     ]
    },
    {
     "name": "stdout",
     "output_type": "stream",
     "text": [
      "Validate  49     570    98520001     106108417     \n",
      "20231104 211107\t602\t976271\tgbdt\tbinary\tcustom\tTRUE\tTRUE\tFALSE\tTRUE\t-100\t-1\t0\t0.001\t0\t0\t31\t151\t1\t1\t1\tFALSE\t1\t0.1\t50\t0.5\tTRUE\t279541\t0.203915489434344\t0.870921727289562\t591\t12690\t14518\t142541136.431784\t49\n"
     ]
    },
    {
     "name": "stderr",
     "output_type": "stream",
     "text": [
      "[mbo] 33: learning_rate=0.204; feature_fraction=0.871; num_leaves=591; min_data_in_leaf=12690 : y = 1.43e+08 : 213.7 secs : infill_ei\n",
      "\n"
     ]
    },
    {
     "name": "stdout",
     "output_type": "stream",
     "text": [
      "Validate  50     590    105090318     105910658    \n",
      "20231104 211432\t602\t976271\tgbdt\tbinary\tcustom\tTRUE\tTRUE\tFALSE\tTRUE\t-100\t-1\t0\t0.001\t0\t0\t31\t103\t1\t1\t1\tFALSE\t1\t0.1\t50\t0.5\tTRUE\t279541\t0.0418229286960627\t0.153468500699668\t226\t15847\t14090\t133092458.770615\t50\n"
     ]
    },
    {
     "name": "stderr",
     "output_type": "stream",
     "text": [
      "[mbo] 34: learning_rate=0.0418; feature_fraction=0.153; num_leaves=226; min_data_in_leaf=15847 : y = 1.33e+08 : 205.1 secs : infill_ei\n",
      "\n"
     ]
    },
    {
     "name": "stdout",
     "output_type": "stream",
     "text": [
      "Validate  51     480    101966268     102467676    \n",
      "20231104 211621\t602\t976271\tgbdt\tbinary\tcustom\tTRUE\tTRUE\tFALSE\tTRUE\t-100\t-1\t0\t0.001\t0\t0\t31\t67\t1\t1\t1\tFALSE\t1\t0.1\t50\t0.5\tTRUE\t279541\t0.17399523914627\t0.0276200063300066\t299\t11607\t15889\t119414721.13943\t51\n"
     ]
    },
    {
     "name": "stderr",
     "output_type": "stream",
     "text": [
      "[mbo] 35: learning_rate=0.174; feature_fraction=0.0276; num_leaves=299; min_data_in_leaf=11607 : y = 1.19e+08 : 108.0 secs : infill_ei\n",
      "\n"
     ]
    },
    {
     "name": "stdout",
     "output_type": "stream",
     "text": [
      "Validate  52     440    101811806     102270308    \n",
      "20231104 211958\t602\t976271\tgbdt\tbinary\tcustom\tTRUE\tTRUE\tFALSE\tTRUE\t-100\t-1\t0\t0.001\t0\t0\t31\t28\t1\t1\t1\tFALSE\t1\t0.1\t50\t0.5\tTRUE\t279541\t0.216359116768943\t0.437181086304545\t909\t45775\t15990\t131931529.235382\t52\n"
     ]
    },
    {
     "name": "stderr",
     "output_type": "stream",
     "text": [
      "[mbo] 36: learning_rate=0.216; feature_fraction=0.437; num_leaves=909; min_data_in_leaf=45775 : y = 1.32e+08 : 216.5 secs : infill_ei\n",
      "\n",
      "Saved the current state after iteration 37 in the file HT8230 (Clase 12, Base Sem3).RDATA.\n",
      "\n"
     ]
    },
    {
     "name": "stdout",
     "output_type": "stream",
     "text": [
      "Validate  53     440    100635733     106117985    \n",
      "20231104 212256\t602\t976271\tgbdt\tbinary\tcustom\tTRUE\tTRUE\tFALSE\tTRUE\t-100\t-1\t0\t0.001\t0\t0\t31\t22\t1\t1\t1\tFALSE\t1\t0.1\t50\t0.5\tTRUE\t279541\t0.197345983574\t0.23909574164556\t118\t12744\t12578\t139086053.973013\t53\n"
     ]
    },
    {
     "name": "stderr",
     "output_type": "stream",
     "text": [
      "[mbo] 37: learning_rate=0.197; feature_fraction=0.239; num_leaves=118; min_data_in_leaf=12744 : y = 1.39e+08 : 175.0 secs : infill_ei\n",
      "\n"
     ]
    },
    {
     "name": "stdout",
     "output_type": "stream",
     "text": [
      "Validate  54     570    105438667     109453602    \n",
      "20231104 212658\t602\t976271\tgbdt\tbinary\tcustom\tTRUE\tTRUE\tFALSE\tTRUE\t-100\t-1\t0\t0.001\t0\t0\t31\t153\t1\t1\t1\tFALSE\t1\t0.1\t50\t0.5\tTRUE\t279541\t0.170235596718892\t0.621223043967305\t331\t6765\t11915\t144741686.656672\t54\n"
     ]
    },
    {
     "name": "stderr",
     "output_type": "stream",
     "text": [
      "[mbo] 38: learning_rate=0.17; feature_fraction=0.621; num_leaves=331; min_data_in_leaf=6765 : y = 1.45e+08 : 242.0 secs : infill_ei\n",
      "\n"
     ]
    },
    {
     "name": "stdout",
     "output_type": "stream",
     "text": [
      "Validate  55     460    103303194     103845633    \n",
      "20231104 213046\t602\t976271\tgbdt\tbinary\tcustom\tTRUE\tTRUE\tFALSE\tTRUE\t-100\t-1\t0\t0.001\t0\t0\t31\t27\t1\t1\t1\tFALSE\t1\t0.1\t50\t0.5\tTRUE\t279541\t0.111420071621485\t0.577134497523593\t738\t49600\t15302\t132371217.391304\t55\n"
     ]
    },
    {
     "name": "stderr",
     "output_type": "stream",
     "text": [
      "[mbo] 39: learning_rate=0.111; feature_fraction=0.577; num_leaves=738; min_data_in_leaf=49600 : y = 1.32e+08 : 228.0 secs : infill_ei\n",
      "\n",
      "Saved the current state after iteration 40 in the file HT8230 (Clase 12, Base Sem3).RDATA.\n",
      "\n"
     ]
    },
    {
     "name": "stdout",
     "output_type": "stream",
     "text": [
      "Validate  56     790    101189289     106780799    \n",
      "20231104 213725\t602\t976271\tgbdt\tbinary\tcustom\tTRUE\tTRUE\tFALSE\tTRUE\t-100\t-1\t0\t0.001\t0\t0\t31\t372\t1\t1\t1\tFALSE\t1\t0.1\t50\t0.5\tTRUE\t279541\t0.220865275413696\t0.494134886669637\t940\t39419\t13124\t142995468.265867\t56\n"
     ]
    },
    {
     "name": "stderr",
     "output_type": "stream",
     "text": [
      "[mbo] 40: learning_rate=0.221; feature_fraction=0.494; num_leaves=940; min_data_in_leaf=39419 : y = 1.43e+08 : 395.2 secs : infill_ei\n",
      "\n"
     ]
    },
    {
     "name": "stdout",
     "output_type": "stream",
     "text": [
      "Validate  57     520    105861469     108644852    \n",
      "20231104 214021\t602\t976271\tgbdt\tbinary\tcustom\tTRUE\tTRUE\tFALSE\tTRUE\t-100\t-1\t0\t0.001\t0\t0\t31\t39\t1\t1\t1\tFALSE\t1\t0.1\t50\t0.5\tTRUE\t279541\t0.0483477194353299\t0.634855918672642\t385\t16538\t13735\t133935519.74013\t57\n"
     ]
    },
    {
     "name": "stderr",
     "output_type": "stream",
     "text": [
      "[mbo] 41: learning_rate=0.0483; feature_fraction=0.635; num_leaves=385; min_data_in_leaf=16538 : y = 1.34e+08 : 175.9 secs : infill_ei\n",
      "\n"
     ]
    },
    {
     "name": "stdout",
     "output_type": "stream",
     "text": [
      "Validate  58     550    98772057     103503977     \n",
      "20231104 214311\t602\t976271\tgbdt\tbinary\tcustom\tTRUE\tTRUE\tFALSE\tTRUE\t-100\t-1\t0\t0.001\t0\t0\t31\t86\t1\t1\t1\tFALSE\t1\t0.1\t50\t0.5\tTRUE\t279541\t0.0568340974238357\t0.150342711034595\t697\t44781\t14098\t127906903.548226\t58\n"
     ]
    },
    {
     "name": "stderr",
     "output_type": "stream",
     "text": [
      "[mbo] 42: learning_rate=0.0568; feature_fraction=0.15; num_leaves=697; min_data_in_leaf=44781 : y = 1.28e+08 : 169.5 secs : infill_ei\n",
      "\n",
      "Saved the current state after iteration 43 in the file HT8230 (Clase 12, Base Sem3).RDATA.\n",
      "\n"
     ]
    },
    {
     "name": "stdout",
     "output_type": "stream",
     "text": [
      "Validate  59     690    101433610     108511646    \n",
      "20231104 214655\t602\t976271\tgbdt\tbinary\tcustom\tTRUE\tTRUE\tFALSE\tTRUE\t-100\t-1\t0\t0.001\t0\t0\t31\t271\t1\t1\t1\tFALSE\t1\t0.1\t50\t0.5\tTRUE\t279541\t0.158621501540521\t0.87804683534219\t766\t18747\t12319\t145480503.248376\t59\n"
     ]
    },
    {
     "name": "stderr",
     "output_type": "stream",
     "text": [
      "[mbo] 43: learning_rate=0.159; feature_fraction=0.878; num_leaves=766; min_data_in_leaf=18747 : y = 1.45e+08 : 221.4 secs : infill_ei\n",
      "\n"
     ]
    },
    {
     "name": "stdout",
     "output_type": "stream",
     "text": [
      "Validate  60     660    94836623     98920974    \n",
      "20231104 215125\t602\t976271\tgbdt\tbinary\tcustom\tTRUE\tTRUE\tFALSE\tTRUE\t-100\t-1\t0\t0.001\t0\t0\t31\t253\t1\t1\t1\tFALSE\t1\t0.1\t50\t0.5\tTRUE\t279541\t0.26632696345255\t0.253068661465522\t434\t14286\t13661\t132537317.841079\t60\n"
     ]
    },
    {
     "name": "stderr",
     "output_type": "stream",
     "text": [
      "[mbo] 44: learning_rate=0.266; feature_fraction=0.253; num_leaves=434; min_data_in_leaf=14286 : y = 1.33e+08 : 269.8 secs : infill_ei\n",
      "\n"
     ]
    },
    {
     "name": "stdout",
     "output_type": "stream",
     "text": [
      "Validate  61     1390    102621403     107640483    \n",
      "20231104 220054\t602\t976271\tgbdt\tbinary\tcustom\tTRUE\tTRUE\tFALSE\tTRUE\t-100\t-1\t0\t0.001\t0\t0\t31\t966\t1\t1\t1\tFALSE\t1\t0.1\t50\t0.5\tTRUE\t279541\t0.165003659984051\t0.322050874305598\t493\t47190\t12881\t144918817.091454\t61\n"
     ]
    },
    {
     "name": "stderr",
     "output_type": "stream",
     "text": [
      "[mbo] 45: learning_rate=0.165; feature_fraction=0.322; num_leaves=493; min_data_in_leaf=47190 : y = 1.45e+08 : 568.1 secs : infill_ei\n",
      "\n",
      "Saved the current state after iteration 46 in the file HT8230 (Clase 12, Base Sem3).RDATA.\n",
      "\n"
     ]
    },
    {
     "name": "stdout",
     "output_type": "stream",
     "text": [
      "Validate  62     600    101855303     106154727    \n",
      "20231104 220409\t602\t976271\tgbdt\tbinary\tcustom\tTRUE\tTRUE\tFALSE\tTRUE\t-100\t-1\t0\t0.001\t0\t0\t31\t172\t1\t1\t1\tFALSE\t1\t0.1\t50\t0.5\tTRUE\t279541\t0.139402135146382\t0.825550506084209\t624\t18011\t11794\t142947787.106447\t62\n"
     ]
    },
    {
     "name": "stderr",
     "output_type": "stream",
     "text": [
      "[mbo] 46: learning_rate=0.139; feature_fraction=0.826; num_leaves=624; min_data_in_leaf=18011 : y = 1.43e+08 : 192.0 secs : infill_ei\n",
      "\n"
     ]
    },
    {
     "name": "stdout",
     "output_type": "stream",
     "text": [
      "Validate  63     730    101692124     105541781    \n",
      "20231104 221006\t602\t976271\tgbdt\tbinary\tcustom\tTRUE\tTRUE\tFALSE\tTRUE\t-100\t-1\t0\t0.001\t0\t0\t31\t315\t1\t1\t1\tFALSE\t1\t0.1\t50\t0.5\tTRUE\t279541\t0.26363862896921\t0.450098622842346\t475\t31659\t14107\t134213798.6007\t63\n"
     ]
    },
    {
     "name": "stderr",
     "output_type": "stream",
     "text": [
      "[mbo] 47: learning_rate=0.264; feature_fraction=0.45; num_leaves=475; min_data_in_leaf=31659 : y = 1.34e+08 : 356.3 secs : infill_ei\n",
      "\n"
     ]
    },
    {
     "name": "stdout",
     "output_type": "stream",
     "text": [
      "Validate  64     640    101772542     107959968    \n",
      "20231104 221316\t602\t976271\tgbdt\tbinary\tcustom\tTRUE\tTRUE\tFALSE\tTRUE\t-100\t-1\t0\t0.001\t0\t0\t31\t222\t1\t1\t1\tFALSE\t1\t0.1\t50\t0.5\tTRUE\t279541\t0.193248729792921\t0.715571364120777\t230\t26408\t13913\t138633047.976012\t64\n"
     ]
    },
    {
     "name": "stderr",
     "output_type": "stream",
     "text": [
      "[mbo] 48: learning_rate=0.193; feature_fraction=0.716; num_leaves=230; min_data_in_leaf=26408 : y = 1.39e+08 : 189.5 secs : infill_ei\n",
      "\n",
      "Saved the current state after iteration 49 in the file HT8230 (Clase 12, Base Sem3).RDATA.\n",
      "\n"
     ]
    },
    {
     "name": "stdout",
     "output_type": "stream",
     "text": [
      "Validate  65     1400    109819579     112238717    \n",
      "20231104 222355\t602\t976271\tgbdt\tbinary\tcustom\tTRUE\tTRUE\tFALSE\tTRUE\t-100\t-1\t0\t0.001\t0\t0\t31\t931\t1\t1\t1\tFALSE\t1\t0.1\t50\t0.5\tTRUE\t279541\t0.0544485669123991\t0.277507516322968\t959\t4653\t13365\t143320802.098951\t65\n"
     ]
    },
    {
     "name": "stderr",
     "output_type": "stream",
     "text": [
      "[mbo] 49: learning_rate=0.0544; feature_fraction=0.278; num_leaves=959; min_data_in_leaf=4653 : y = 1.43e+08 : 636.3 secs : infill_ei\n",
      "\n",
      "Saved the current state after iteration 50 in the file HT8230 (Clase 12, Base Sem3).RDATA.\n",
      "\n"
     ]
    },
    {
     "name": "stdout",
     "output_type": "stream",
     "text": [
      "Validate  66     540    105965059     106419279    \n",
      "20231104 222653\t602\t976271\tgbdt\tbinary\tcustom\tTRUE\tTRUE\tFALSE\tTRUE\t-100\t-1\t0\t0.001\t0\t0\t31\t44\t1\t1\t1\tFALSE\t1\t0.1\t50\t0.5\tTRUE\t279541\t0.0407530562148699\t0.906292581801267\t869\t17542\t14540\t137217281.35932\t66\n"
     ]
    },
    {
     "name": "stderr",
     "output_type": "stream",
     "text": [
      "[mbo] 50: learning_rate=0.0408; feature_fraction=0.906; num_leaves=869; min_data_in_leaf=17542 : y = 1.37e+08 : 174.8 secs : infill_ei\n",
      "\n",
      "Saved the final state in the file HT8230 (Clase 12, Base Sem3).RDATA\n",
      "\n"
     ]
    },
    {
     "name": "stdout",
     "output_type": "stream",
     "text": [
      "\n",
      "\n",
      "La optimizacion Bayesiana ha terminado\n"
     ]
    }
   ],
   "source": [
    "# inicio la optimizacion bayesiana\n",
    "if (!file.exists(kbayesiana)) {\n",
    "  run <- mbo(obj.fun, learner = surr.km, control = ctrl)\n",
    "} else {\n",
    "  run <- mboContinue(kbayesiana) # retomo en caso que ya exista\n",
    "}\n",
    "\n",
    "\n",
    "cat(\"\\n\\nLa optimizacion Bayesiana ha terminado\\n\")\n"
   ]
  },
  {
   "cell_type": "markdown",
   "metadata": {},
   "source": [
    "# Semilla 4, base"
   ]
  },
  {
   "cell_type": "code",
   "execution_count": 68,
   "metadata": {
    "vscode": {
     "languageId": "r"
    }
   },
   "outputs": [
    {
     "data": {
      "text/html": [
       "<table class=\"dataframe\">\n",
       "<caption>A matrix: 2 × 6 of type dbl</caption>\n",
       "<thead>\n",
       "\t<tr><th></th><th scope=col>used</th><th scope=col>(Mb)</th><th scope=col>gc trigger</th><th scope=col>(Mb)</th><th scope=col>max used</th><th scope=col>(Mb)</th></tr>\n",
       "</thead>\n",
       "<tbody>\n",
       "\t<tr><th scope=row>Ncells</th><td>  2538954</td><td> 135.6</td><td>   8200216</td><td>  438.0</td><td>  22909774</td><td> 1223.6</td></tr>\n",
       "\t<tr><th scope=row>Vcells</th><td>710371310</td><td>5419.8</td><td>2292916727</td><td>17493.6</td><td>6843588264</td><td>52212.5</td></tr>\n",
       "</tbody>\n",
       "</table>\n"
      ],
      "text/latex": [
       "A matrix: 2 × 6 of type dbl\n",
       "\\begin{tabular}{r|llllll}\n",
       "  & used & (Mb) & gc trigger & (Mb) & max used & (Mb)\\\\\n",
       "\\hline\n",
       "\tNcells &   2538954 &  135.6 &    8200216 &   438.0 &   22909774 &  1223.6\\\\\n",
       "\tVcells & 710371310 & 5419.8 & 2292916727 & 17493.6 & 6843588264 & 52212.5\\\\\n",
       "\\end{tabular}\n"
      ],
      "text/markdown": [
       "\n",
       "A matrix: 2 × 6 of type dbl\n",
       "\n",
       "| <!--/--> | used | (Mb) | gc trigger | (Mb) | max used | (Mb) |\n",
       "|---|---|---|---|---|---|---|\n",
       "| Ncells |   2538954 |  135.6 |    8200216 |   438.0 |   22909774 |  1223.6 |\n",
       "| Vcells | 710371310 | 5419.8 | 2292916727 | 17493.6 | 6843588264 | 52212.5 |\n",
       "\n"
      ],
      "text/plain": [
       "       used      (Mb)   gc trigger (Mb)    max used   (Mb)   \n",
       "Ncells   2538954  135.6    8200216   438.0   22909774  1223.6\n",
       "Vcells 710371310 5419.8 2292916727 17493.6 6843588264 52212.5"
      ]
     },
     "metadata": {},
     "output_type": "display_data"
    }
   ],
   "source": [
    "# limpio la memoria\n",
    "rm(list = ls()) # remove all objects\n",
    "gc() # garbage collection"
   ]
  },
  {
   "cell_type": "code",
   "execution_count": 69,
   "metadata": {
    "vscode": {
     "languageId": "r"
    }
   },
   "outputs": [],
   "source": [
    "require(\"data.table\")\n",
    "require(\"rlist\")\n",
    "require(\"lightgbm\")"
   ]
  },
  {
   "cell_type": "code",
   "execution_count": 70,
   "metadata": {
    "vscode": {
     "languageId": "r"
    }
   },
   "outputs": [],
   "source": [
    "# paquetes necesarios para la Bayesian Optimization\n",
    "require(\"DiceKriging\")\n",
    "require(\"mlrMBO\")\n",
    "\n",
    "# para que se detenga ante el primer error\n",
    "# y muestre el stack de funciones invocadas\n",
    "options(error = function() {\n",
    "  traceback(20)\n",
    "  options(error = NULL)\n",
    "  stop(\"exiting after script error\")\n",
    "})"
   ]
  },
  {
   "cell_type": "markdown",
   "metadata": {},
   "source": [
    "## Definición de Parametros"
   ]
  },
  {
   "cell_type": "code",
   "execution_count": 71,
   "metadata": {
    "vscode": {
     "languageId": "r"
    }
   },
   "outputs": [],
   "source": [
    "# defino los parametros de la corrida, en una lista, la variable global  PARAM\n",
    "#  muy pronto esto se leera desde un archivo formato .yaml\n",
    "PARAM <- list()\n",
    "\n",
    "PARAM$experimento <- \"HT8230 (Clase 12, Base Sem4)\"\n",
    "\n",
    "PARAM$input$dataset <- \"datasets/competencia_03_base_lags.csv.gz\"\n",
    "\n",
    "# los meses en los que vamos a entrenar\n",
    "#  mucha magia emerger de esta eleccion\n",
    "PARAM$input$testing <- c(202107) # Último mes, lo más cercano al 202109 de kaggle\n",
    "PARAM$input$validation <- c(202106)\n",
    "PARAM$input$training <- c(202105, 202104, 202103, 202102, 202101,202012) # 6 meses de entrenamiento\t\n",
    "\n",
    "# un undersampling de 0.1  toma solo el 10% de los CONTINUA\n",
    "PARAM$trainingstrategy$undersampling <- 1.0\n",
    "PARAM$trainingstrategy$semilla_azar <- c(279511, 279523, 279541, 279551, 279571)  # Aqui poner su  primer  semilla/ pongo todas mis semillas\n",
    "\n",
    "PARAM$hyperparametertuning$POS_ganancia <- 273000\n",
    "PARAM$hyperparametertuning$NEG_ganancia <- -7000\n",
    "\n",
    "# Aqui va semilla\n",
    "PARAM$lgb_semilla <- 279551"
   ]
  },
  {
   "cell_type": "code",
   "execution_count": 72,
   "metadata": {
    "vscode": {
     "languageId": "r"
    }
   },
   "outputs": [],
   "source": [
    "# Hiperparametros FIJOS de  lightgbm\n",
    "PARAM$lgb_basicos <- list(\n",
    "  boosting = \"gbdt\", # puede ir  dart  , ni pruebe random_forest\n",
    "  objective = \"binary\",\n",
    "  metric = \"custom\",\n",
    "  first_metric_only = TRUE,\n",
    "  boost_from_average = TRUE,\n",
    "  feature_pre_filter = FALSE,\n",
    "  force_row_wise = TRUE, # para reducir warnings\n",
    "  verbosity = -100,\n",
    "  max_depth = -1L, # -1 significa no limitar,  por ahora lo dejo fijo\n",
    "  min_gain_to_split = 0.0, # min_gain_to_split >= 0.0\n",
    "  min_sum_hessian_in_leaf = 0.001, #  min_sum_hessian_in_leaf >= 0.0\n",
    "  lambda_l1 = 0.0, # lambda_l1 >= 0.0\n",
    "  lambda_l2 = 0.0, # lambda_l2 >= 0.0\n",
    "  max_bin = 31L, # lo debo dejar fijo, no participa de la BO\n",
    "  num_iterations = 9999, # un numero muy grande, lo limita early_stopping_rounds\n",
    "\n",
    "  bagging_fraction = 1.0, # 0.0 < bagging_fraction <= 1.0\n",
    "  pos_bagging_fraction = 1.0, # 0.0 < pos_bagging_fraction <= 1.0\n",
    "  neg_bagging_fraction = 1.0, # 0.0 < neg_bagging_fraction <= 1.0\n",
    "  is_unbalance = FALSE, #\n",
    "  scale_pos_weight = 1.0, # scale_pos_weight > 0.0\n",
    "\n",
    "  drop_rate = 0.1, # 0.0 < neg_bagging_fraction <= 1.0\n",
    "  max_drop = 50, # <=0 means no limit\n",
    "  skip_drop = 0.5, # 0.0 <= skip_drop <= 1.0\n",
    "\n",
    "  extra_trees = TRUE, # Magic Sauce\n",
    "\n",
    "  seed = PARAM$lgb_semilla\n",
    ")"
   ]
  },
  {
   "cell_type": "code",
   "execution_count": 73,
   "metadata": {
    "vscode": {
     "languageId": "r"
    }
   },
   "outputs": [],
   "source": [
    "# Aqui se cargan los hiperparametros que se optimizan\n",
    "#  en la Bayesian Optimization\n",
    "PARAM$bo_lgb <- makeParamSet(\n",
    "  makeNumericParam(\"learning_rate\", lower = 0.02, upper = 0.3),\n",
    "  makeNumericParam(\"feature_fraction\", lower = 0.01, upper = 1.0),\n",
    "  makeIntegerParam(\"num_leaves\", lower = 8L, upper = 1024L),\n",
    "  makeIntegerParam(\"min_data_in_leaf\", lower = 100L, upper = 50000L)\n",
    ")\n",
    "\n",
    "# si usted es ambicioso, y tiene paciencia, podria subir este valor a 100\n",
    "PARAM$bo_iteraciones <- 50 # iteraciones de la Optimizacion Bayesiana"
   ]
  },
  {
   "cell_type": "code",
   "execution_count": 74,
   "metadata": {
    "vscode": {
     "languageId": "r"
    }
   },
   "outputs": [],
   "source": [
    "# graba a un archivo los componentes de lista\n",
    "# para el primer registro, escribe antes los titulos\n",
    "\n",
    "loguear <- function(\n",
    "    reg, arch = NA, folder = \"./exp/\",\n",
    "    ext = \".txt\", verbose = TRUE) {\n",
    "  archivo <- arch\n",
    "  if (is.na(arch)) archivo <- paste0(folder, substitute(reg), ext)\n",
    "\n",
    "  if (!file.exists(archivo)) # Escribo los titulos\n",
    "    {\n",
    "      linea <- paste0(\n",
    "        \"fecha\\t\",\n",
    "        paste(list.names(reg), collapse = \"\\t\"), \"\\n\"\n",
    "      )\n",
    "\n",
    "      cat(linea, file = archivo)\n",
    "    }\n",
    "\n",
    "  linea <- paste0(\n",
    "    format(Sys.time(), \"%Y%m%d %H%M%S\"), \"\\t\", # la fecha y hora\n",
    "    gsub(\", \", \"\\t\", toString(reg)), \"\\n\"\n",
    "  )\n",
    "\n",
    "  cat(linea, file = archivo, append = TRUE) # grabo al archivo\n",
    "\n",
    "  if (verbose) cat(linea) # imprimo por pantalla\n",
    "}"
   ]
  },
  {
   "cell_type": "code",
   "execution_count": 75,
   "metadata": {
    "vscode": {
     "languageId": "r"
    }
   },
   "outputs": [],
   "source": [
    "#------------------------------------------------------------------------------\n",
    "GLOBAL_arbol <- 0L\n",
    "GLOBAL_gan_max <- -Inf\n",
    "vcant_optima <- c()\n",
    "\n",
    "fganancia_lgbm_meseta <- function(probs, datos) {\n",
    "  vlabels <- get_field(datos, \"label\")\n",
    "  vpesos <- get_field(datos, \"weight\")\n",
    "\n",
    "\n",
    "  GLOBAL_arbol <<- GLOBAL_arbol + 1\n",
    "  tbl <- as.data.table(list(\n",
    "    \"prob\" = probs,\n",
    "    \"gan\" = ifelse(vlabels == 1 & vpesos > 1,\n",
    "      PARAM$hyperparametertuning$POS_ganancia,\n",
    "      PARAM$hyperparametertuning$NEG_ganancia  )\n",
    "  ))\n",
    "\n",
    "  setorder(tbl, -prob)\n",
    "  tbl[, posicion := .I]\n",
    "  tbl[, gan_acum := cumsum(gan)]\n",
    "\n",
    "  tbl[, gan_suavizada :=\n",
    "    frollmean(\n",
    "      x = gan_acum, n = 2001, align = \"center\",\n",
    "      na.rm = TRUE, hasNA = TRUE\n",
    "    )]\n",
    "\n",
    "  gan <- tbl[, max(gan_suavizada, na.rm = TRUE)]\n",
    "\n",
    "\n",
    "  pos <- which.max(tbl[, gan_suavizada])\n",
    "  vcant_optima <<- c(vcant_optima, pos)\n",
    "\n",
    "  if (GLOBAL_arbol %% 10 == 0) {\n",
    "    if (gan > GLOBAL_gan_max) GLOBAL_gan_max <<- gan\n",
    "\n",
    "    cat(\"\\r\")\n",
    "    cat(\n",
    "      \"Validate \", GLOBAL_iteracion, \" \", \" \",\n",
    "      GLOBAL_arbol, \"  \", gan, \"   \", GLOBAL_gan_max, \"   \"\n",
    "    )\n",
    "  }\n",
    "\n",
    "\n",
    "  return(list(\n",
    "    \"name\" = \"ganancia\",\n",
    "    \"value\" = gan,\n",
    "    \"higher_better\" = TRUE\n",
    "  ))\n",
    "}"
   ]
  },
  {
   "cell_type": "code",
   "execution_count": 76,
   "metadata": {
    "vscode": {
     "languageId": "r"
    }
   },
   "outputs": [],
   "source": [
    "#------------------------------------------------------------------------------\n",
    "\n",
    "EstimarGanancia_lightgbm <- function(x) {\n",
    "  gc()\n",
    "  GLOBAL_iteracion <<- GLOBAL_iteracion + 1L\n",
    "\n",
    "  # hago la union de los parametros basicos y los moviles que vienen en x\n",
    "  param_completo <- c(PARAM$lgb_basicos, x)\n",
    "\n",
    "  param_completo$early_stopping_rounds <-\n",
    "    as.integer(400 + 4 / param_completo$learning_rate)\n",
    "\n",
    "  GLOBAL_arbol <<- 0L\n",
    "  GLOBAL_gan_max <<- -Inf\n",
    "  vcant_optima <<- c()\n",
    "  set.seed(PARAM$lgb_semilla, kind = \"L'Ecuyer-CMRG\")\n",
    "  modelo_train <- lgb.train(\n",
    "    data = dtrain,\n",
    "    valids = list(valid = dvalidate),\n",
    "    eval = fganancia_lgbm_meseta,\n",
    "    param = param_completo,\n",
    "    verbose = -100\n",
    "  )\n",
    "\n",
    "  cat(\"\\n\")\n",
    "\n",
    "  cant_corte <- vcant_optima[modelo_train$best_iter]\n",
    "\n",
    "  # aplico el modelo a testing y calculo la ganancia\n",
    "  prediccion <- predict(\n",
    "    modelo_train,\n",
    "    data.matrix(dataset_test[, campos_buenos, with = FALSE])\n",
    "  )\n",
    "\n",
    "  tbl <- copy(dataset_test[, list(\"gan\" = ifelse(clase_ternaria == \"BAJA+2\",\n",
    "    PARAM$hyperparametertuning$POS_ganancia, \n",
    "    PARAM$hyperparametertuning$NEG_ganancia))])\n",
    "\n",
    "  tbl[, prob := prediccion]\n",
    "  setorder(tbl, -prob)\n",
    "  tbl[, gan_acum := cumsum(gan)]\n",
    "  tbl[, gan_suavizada := frollmean(\n",
    "    x = gan_acum, n = 2001,\n",
    "    align = \"center\", na.rm = TRUE, hasNA = TRUE\n",
    "  )]\n",
    "\n",
    "\n",
    "  ganancia_test <- tbl[, max(gan_suavizada, na.rm = TRUE)]\n",
    "\n",
    "  cantidad_test_normalizada <- which.max(tbl[, gan_suavizada])\n",
    "\n",
    "  rm(tbl)\n",
    "  gc()\n",
    "\n",
    "  ganancia_test_normalizada <- ganancia_test\n",
    "\n",
    "\n",
    "  # voy grabando las mejores column importance\n",
    "  if (ganancia_test_normalizada > GLOBAL_gananciamax) {\n",
    "    GLOBAL_gananciamax <<- ganancia_test_normalizada\n",
    "    tb_importancia <- as.data.table(lgb.importance(modelo_train))\n",
    "\n",
    "    fwrite(tb_importancia,\n",
    "      file = paste0(\"impo_\", sprintf(\"%03d\", GLOBAL_iteracion), \".txt\"),\n",
    "      sep = \"\\t\"\n",
    "    )\n",
    "\n",
    "    rm(tb_importancia)\n",
    "  }\n",
    "\n",
    "\n",
    "  # logueo final\n",
    "  ds <- list(\"cols\" = ncol(dtrain), \"rows\" = nrow(dtrain))\n",
    "  xx <- c(ds, copy(param_completo))\n",
    "\n",
    "  xx$early_stopping_rounds <- NULL\n",
    "  xx$num_iterations <- modelo_train$best_iter\n",
    "  xx$estimulos <- cantidad_test_normalizada\n",
    "  xx$ganancia <- ganancia_test_normalizada\n",
    "  xx$iteracion_bayesiana <- GLOBAL_iteracion\n",
    "\n",
    "  loguear(xx, arch = \"BO_log.txt\")\n",
    "\n",
    "  set.seed(PARAM$lgb_semilla, kind = \"L'Ecuyer-CMRG\")\n",
    "  return(ganancia_test_normalizada)\n",
    "}"
   ]
  },
  {
   "cell_type": "markdown",
   "metadata": {},
   "source": [
    "## Aquí empieza el programa"
   ]
  },
  {
   "cell_type": "code",
   "execution_count": 77,
   "metadata": {
    "vscode": {
     "languageId": "r"
    }
   },
   "outputs": [],
   "source": [
    "# Aqui empieza el programa\n",
    "\n",
    "# Aqui se debe poner la carpeta de la computadora local\n",
    "setwd(\"~/buckets/b1/\") # Establezco el Working Directory\n",
    "\n",
    "# cargo el dataset donde voy a entrenar el modelo\n",
    "dataset <- fread(PARAM$input$dataset)"
   ]
  },
  {
   "cell_type": "code",
   "execution_count": 78,
   "metadata": {
    "vscode": {
     "languageId": "r"
    }
   },
   "outputs": [],
   "source": [
    "# creo la carpeta donde va el experimento\n",
    "dir.create(\"./exp/\", showWarnings = FALSE)\n",
    "dir.create(paste0(\"./exp/\", PARAM$experimento, \"/\"), showWarnings = FALSE)\n",
    "\n",
    "# Establezco el Working Directory DEL EXPERIMENTO\n",
    "setwd(paste0(\"./exp/\", PARAM$experimento, \"/\"))\n",
    "\n",
    "# en estos archivos quedan los resultados\n",
    "kbayesiana <- paste0(PARAM$experimento, \".RDATA\")\n",
    "klog <- paste0(PARAM$experimento, \".txt\")\n"
   ]
  },
  {
   "cell_type": "code",
   "execution_count": 79,
   "metadata": {
    "vscode": {
     "languageId": "r"
    }
   },
   "outputs": [],
   "source": [
    "# Catastrophe Analysis  -------------------------------------------------------\n",
    "# deben ir cosas de este estilo\n",
    "#   dataset[foto_mes == 202006, active_quarter := NA]\n",
    "\n",
    "# Data Drifting\n",
    "# por ahora, no hago nada\n",
    "\n",
    "\n",
    "# Feature Engineering Historico  ----------------------------------------------\n",
    "#   aqui deben calcularse los  lags y  lag_delta\n",
    "#   Sin lags no hay paraiso !  corta la bocha"
   ]
  },
  {
   "cell_type": "code",
   "execution_count": null,
   "metadata": {
    "vscode": {
     "languageId": "r"
    }
   },
   "outputs": [],
   "source": []
  },
  {
   "cell_type": "code",
   "execution_count": 80,
   "metadata": {
    "vscode": {
     "languageId": "r"
    }
   },
   "outputs": [],
   "source": [
    "# ahora SI comienza la optimizacion Bayesiana\n",
    "\n",
    "GLOBAL_iteracion <- 0 # inicializo la variable global\n",
    "GLOBAL_gananciamax <- -1 # inicializo la variable global\n",
    "\n",
    "# si ya existe el archivo log, traigo hasta donde llegue\n",
    "if (file.exists(klog)) {\n",
    "  tabla_log <- fread(klog)\n",
    "  GLOBAL_iteracion <- nrow(tabla_log)\n",
    "  GLOBAL_gananciamax <- tabla_log[, max(ganancia)]\n",
    "}\n"
   ]
  },
  {
   "cell_type": "code",
   "execution_count": 81,
   "metadata": {
    "vscode": {
     "languageId": "r"
    }
   },
   "outputs": [],
   "source": [
    "# paso la clase a binaria que tome valores {0,1}  enteros\n",
    "dataset[, clase01 := ifelse(clase_ternaria == \"CONTINUA\", 0L, 1L)]\n",
    "\n",
    "\n",
    "# los campos que se van a utilizar\n",
    "campos_buenos <- setdiff(\n",
    "  colnames(dataset),\n",
    "  c(\"clase_ternaria\", \"clase01\", \"azar\", \"training\")\n",
    ")"
   ]
  },
  {
   "cell_type": "code",
   "execution_count": 82,
   "metadata": {
    "vscode": {
     "languageId": "r"
    }
   },
   "outputs": [],
   "source": [
    "# defino los datos que forma parte del training\n",
    "# aqui se hace el undersampling de los CONTINUA\n",
    "set.seed(PARAM$trainingstrategy$semilla_azar)\n",
    "dataset[, azar := runif(nrow(dataset))]\n",
    "dataset[, training := 0L]\n",
    "dataset[\n",
    "  foto_mes %in% PARAM$input$training &\n",
    "    (azar <= PARAM$trainingstrategy$undersampling | clase_ternaria %in% c(\"BAJA+1\", \"BAJA+2\")),\n",
    "  training := 1L\n",
    "]"
   ]
  },
  {
   "cell_type": "code",
   "execution_count": 83,
   "metadata": {
    "vscode": {
     "languageId": "r"
    }
   },
   "outputs": [],
   "source": [
    "# dejo los datos en el formato que necesita LightGBM\n",
    "dtrain <- lgb.Dataset(\n",
    "  data = data.matrix(dataset[training == 1L, campos_buenos, with = FALSE]),\n",
    "  label = dataset[training == 1L, clase01],\n",
    "  weight = dataset[training == 1L, \n",
    "    ifelse(clase_ternaria == \"BAJA+2\", 1.0000001, \n",
    "      ifelse(clase_ternaria == \"BAJA+1\", 1.0, 1.0))],\n",
    "  free_raw_data = FALSE\n",
    ")"
   ]
  },
  {
   "cell_type": "code",
   "execution_count": 84,
   "metadata": {
    "vscode": {
     "languageId": "r"
    }
   },
   "outputs": [],
   "source": [
    "# defino los datos que forman parte de validation\n",
    "#  no hay undersampling\n",
    "dataset[, validation := 0L]\n",
    "dataset[ foto_mes %in% PARAM$input$validation,  validation := 1L]\n",
    "\n",
    "dvalidate <- lgb.Dataset(\n",
    "  data = data.matrix(dataset[validation == 1L, campos_buenos, with = FALSE]),\n",
    "  label = dataset[validation == 1L, clase01],\n",
    "  weight = dataset[validation == 1L, \n",
    "    ifelse(clase_ternaria == \"BAJA+2\", 1.0000001, \n",
    "      ifelse(clase_ternaria == \"BAJA+1\", 1.0, 1.0))],\n",
    "  free_raw_data = FALSE\n",
    ")"
   ]
  },
  {
   "cell_type": "code",
   "execution_count": 85,
   "metadata": {
    "vscode": {
     "languageId": "r"
    }
   },
   "outputs": [],
   "source": [
    "# defino los datos de testing\n",
    "dataset[, testing := 0L]\n",
    "dataset[ foto_mes %in% PARAM$input$testing,  testing := 1L]\n",
    "\n",
    "\n",
    "dataset_test <- dataset[testing == 1, ]"
   ]
  },
  {
   "cell_type": "code",
   "execution_count": 86,
   "metadata": {
    "vscode": {
     "languageId": "r"
    }
   },
   "outputs": [
    {
     "data": {
      "text/html": [
       "<table class=\"dataframe\">\n",
       "<caption>A matrix: 2 × 6 of type dbl</caption>\n",
       "<thead>\n",
       "\t<tr><th></th><th scope=col>used</th><th scope=col>(Mb)</th><th scope=col>gc trigger</th><th scope=col>(Mb)</th><th scope=col>max used</th><th scope=col>(Mb)</th></tr>\n",
       "</thead>\n",
       "<tbody>\n",
       "\t<tr><th scope=row>Ncells</th><td>  2540147</td><td> 135.7</td><td>   8200216</td><td>  438.0</td><td>  22909774</td><td> 1223.6</td></tr>\n",
       "\t<tr><th scope=row>Vcells</th><td>783963651</td><td>5981.2</td><td>4374332120</td><td>33373.6</td><td>6843588264</td><td>52212.5</td></tr>\n",
       "</tbody>\n",
       "</table>\n"
      ],
      "text/latex": [
       "A matrix: 2 × 6 of type dbl\n",
       "\\begin{tabular}{r|llllll}\n",
       "  & used & (Mb) & gc trigger & (Mb) & max used & (Mb)\\\\\n",
       "\\hline\n",
       "\tNcells &   2540147 &  135.7 &    8200216 &   438.0 &   22909774 &  1223.6\\\\\n",
       "\tVcells & 783963651 & 5981.2 & 4374332120 & 33373.6 & 6843588264 & 52212.5\\\\\n",
       "\\end{tabular}\n"
      ],
      "text/markdown": [
       "\n",
       "A matrix: 2 × 6 of type dbl\n",
       "\n",
       "| <!--/--> | used | (Mb) | gc trigger | (Mb) | max used | (Mb) |\n",
       "|---|---|---|---|---|---|---|\n",
       "| Ncells |   2540147 |  135.7 |    8200216 |   438.0 |   22909774 |  1223.6 |\n",
       "| Vcells | 783963651 | 5981.2 | 4374332120 | 33373.6 | 6843588264 | 52212.5 |\n",
       "\n"
      ],
      "text/plain": [
       "       used      (Mb)   gc trigger (Mb)    max used   (Mb)   \n",
       "Ncells   2540147  135.7    8200216   438.0   22909774  1223.6\n",
       "Vcells 783963651 5981.2 4374332120 33373.6 6843588264 52212.5"
      ]
     },
     "metadata": {},
     "output_type": "display_data"
    }
   ],
   "source": [
    "# libero espacio\n",
    "rm(dataset)\n",
    "gc()"
   ]
  },
  {
   "cell_type": "code",
   "execution_count": 87,
   "metadata": {
    "vscode": {
     "languageId": "r"
    }
   },
   "outputs": [],
   "source": [
    "# Aqui comienza la configuracion de la Bayesian Optimization\n",
    "funcion_optimizar <- EstimarGanancia_lightgbm # la funcion que voy a maximizar\n",
    "\n",
    "configureMlr(show.learner.output = FALSE)\n",
    "\n",
    "# configuro la busqueda bayesiana,  los hiperparametros que se van a optimizar\n",
    "# por favor, no desesperarse por lo complejo\n",
    "obj.fun <- makeSingleObjectiveFunction(\n",
    "  fn = funcion_optimizar, # la funcion que voy a maximizar\n",
    "  minimize = FALSE, # estoy Maximizando la ganancia\n",
    "  noisy = TRUE,\n",
    "  par.set = PARAM$bo_lgb, # definido al comienzo del programa\n",
    "  has.simple.signature = FALSE # paso los parametros en una lista\n",
    ")\n",
    "\n",
    "# cada 600 segundos guardo el resultado intermedio\n",
    "ctrl <- makeMBOControl(\n",
    "  save.on.disk.at.time = 600, # se graba cada 600 segundos\n",
    "  save.file.path = kbayesiana\n",
    ") # se graba cada 600 segundos\n",
    "\n",
    "# indico la cantidad de iteraciones que va a tener la Bayesian Optimization\n",
    "ctrl <- setMBOControlTermination(\n",
    "  ctrl,\n",
    "  iters = PARAM$bo_iteraciones\n",
    ") # cantidad de iteraciones\n",
    "\n",
    "# defino el método estandar para la creacion de los puntos iniciales,\n",
    "# los \"No Inteligentes\"\n",
    "ctrl <- setMBOControlInfill(ctrl, crit = makeMBOInfillCritEI())\n",
    "\n",
    "\n",
    "# establezco la funcion que busca el maximo\n",
    "surr.km <- makeLearner(\n",
    "  \"regr.km\",\n",
    "  predict.type = \"se\",\n",
    "  covtype = \"matern3_2\",\n",
    "  control = list(trace = TRUE)\n",
    ")"
   ]
  },
  {
   "cell_type": "code",
   "execution_count": 88,
   "metadata": {
    "vscode": {
     "languageId": "r"
    }
   },
   "outputs": [
    {
     "name": "stderr",
     "output_type": "stream",
     "text": [
      "Computing y column(s) for design. Not provided.\n",
      "\n"
     ]
    },
    {
     "name": "stdout",
     "output_type": "stream",
     "text": [
      "Validate  1     1090    105166282     108439267    \n",
      "20231104 223645\t602\t976271\tgbdt\tbinary\tcustom\tTRUE\tTRUE\tFALSE\tTRUE\t-100\t-1\t0\t0.001\t0\t0\t31\t667\t1\t1\t1\tFALSE\t1\t0.1\t50\t0.5\tTRUE\t279551\t0.129464825580638\t0.589979261678396\t603\t34060\t14915\t146056469.265367\t1\n",
      "Validate  2     510    104673694     106762681    \n",
      "20231104 224010\t602\t976271\tgbdt\tbinary\tcustom\tTRUE\tTRUE\tFALSE\tTRUE\t-100\t-1\t0\t0.001\t0\t0\t31\t54\t1\t1\t1\tFALSE\t1\t0.1\t50\t0.5\tTRUE\t279551\t0.0661204550073144\t0.306758356069939\t135\t27020\t15317\t134066137.431284\t2\n",
      "Validate  3     450    105315227     105315227    \n",
      "20231104 224217\t602\t976271\tgbdt\tbinary\tcustom\tTRUE\tTRUE\tFALSE\tTRUE\t-100\t-1\t0\t0.001\t0\t0\t31\t24\t1\t1\t1\tFALSE\t1\t0.1\t50\t0.5\tTRUE\t279551\t0.113019156746563\t0.722689286671374\t381\t28634\t13770\t137384672.663668\t3\n",
      "Validate  4     560    98327947     101989689     \n",
      "20231104 224445\t602\t976271\tgbdt\tbinary\tcustom\tTRUE\tTRUE\tFALSE\tTRUE\t-100\t-1\t0\t0.001\t0\t0\t31\t138\t1\t1\t1\tFALSE\t1\t0.1\t50\t0.5\tTRUE\t279551\t0.175678618850921\t0.0837276906739244\t542\t6859\t15352\t127545835.082459\t4\n",
      "Validate  5     530    98561179     103889277     \n",
      "20231104 224832\t602\t976271\tgbdt\tbinary\tcustom\tTRUE\tTRUE\tFALSE\tTRUE\t-100\t-1\t0\t0.001\t0\t0\t31\t122\t1\t1\t1\tFALSE\t1\t0.1\t50\t0.5\tTRUE\t279551\t0.275198918823473\t0.32486327912462\t723\t16035\t13334\t139461640.17991\t5\n",
      "Validate  6     690    104645550     108164945    \n",
      "20231104 225217\t602\t976271\tgbdt\tbinary\tcustom\tTRUE\tTRUE\tFALSE\tTRUE\t-100\t-1\t0\t0.001\t0\t0\t31\t267\t1\t1\t1\tFALSE\t1\t0.1\t50\t0.5\tTRUE\t279551\t0.152941050471095\t0.645387167052228\t502\t12627\t14337\t140450095.452274\t6\n",
      "Validate  7     430    102247870     108119282    \n",
      "20231104 225410\t602\t976271\tgbdt\tbinary\tcustom\tTRUE\tTRUE\tFALSE\tTRUE\t-100\t-1\t0\t0.001\t0\t0\t31\t17\t1\t1\t1\tFALSE\t1\t0.1\t50\t0.5\tTRUE\t279551\t0.19416275426125\t0.794035319192328\t845\t42464\t13154\t139197802.098951\t7\n",
      "Validate  8     1250    99862969     106639039     \n",
      "20231104 230027\t602\t976271\tgbdt\tbinary\tcustom\tTRUE\tTRUE\tFALSE\tTRUE\t-100\t-1\t0\t0.001\t0\t0\t31\t832\t1\t1\t1\tFALSE\t1\t0.1\t50\t0.5\tTRUE\t279551\t0.208330530396255\t0.164289977450783\t938\t38948\t12281\t144094489.255372\t8\n",
      "Validate  9     620    103415579     106865365    \n",
      "20231104 230555\t602\t976271\tgbdt\tbinary\tcustom\tTRUE\tTRUE\tFALSE\tTRUE\t-100\t-1\t0\t0.001\t0\t0\t31\t80\t1\t1\t1\tFALSE\t1\t0.1\t50\t0.5\tTRUE\t279551\t0.0267066953639716\t0.560570734105559\t306\t19296\t14618\t136132270.864568\t9\n",
      "Validate  10     890    102427110     108114573    \n",
      "20231104 230950\t602\t976271\tgbdt\tbinary\tcustom\tTRUE\tTRUE\tFALSE\tTRUE\t-100\t-1\t0\t0.001\t0\t0\t31\t476\t1\t1\t1\tFALSE\t1\t0.1\t50\t0.5\tTRUE\t279551\t0.221560927090974\t0.826648094024347\t31\t34846\t12259\t144156275.362319\t10\n",
      "Validate  11     610    106341824     114075866    \n",
      "20231104 231507\t602\t976271\tgbdt\tbinary\tcustom\tTRUE\tTRUE\tFALSE\tTRUE\t-100\t-1\t0\t0.001\t0\t0\t31\t172\t1\t1\t1\tFALSE\t1\t0.1\t50\t0.5\tTRUE\t279551\t0.0852503757905397\t0.925651702728775\t683\t1679\t13270\t144353118.44078\t11\n",
      "Validate  12     580    100666937     104651627    \n",
      "20231104 231819\t602\t976271\tgbdt\tbinary\tcustom\tTRUE\tTRUE\tFALSE\tTRUE\t-100\t-1\t0\t0.001\t0\t0\t31\t111\t1\t1\t1\tFALSE\t1\t0.1\t50\t0.5\tTRUE\t279551\t0.0506736029737185\t0.207218508431007\t246\t49507\t15292\t125790342.828586\t12\n",
      "Validate  13     460    97894741     102944918     \n",
      "20231104 232059\t602\t976271\tgbdt\tbinary\tcustom\tTRUE\tTRUE\tFALSE\tTRUE\t-100\t-1\t0\t0.001\t0\t0\t31\t49\t1\t1\t1\tFALSE\t1\t0.1\t50\t0.5\tTRUE\t279551\t0.241211629895149\t0.979385213098052\t981\t9632\t14350\t133972548.725637\t13\n",
      "Validate  14     860    99820476     103230511     \n",
      "20231104 232721\t602\t976271\tgbdt\tbinary\tcustom\tTRUE\tTRUE\tFALSE\tTRUE\t-100\t-1\t0\t0.001\t0\t0\t31\t452\t1\t1\t1\tFALSE\t1\t0.1\t50\t0.5\tTRUE\t279551\t0.289686593103062\t0.413139080222854\t417\t43892\t13234\t139299391.304348\t14\n",
      "Validate  15     580    96675555     102392327     \n",
      "20231104 232918\t602\t976271\tgbdt\tbinary\tcustom\tTRUE\tTRUE\tFALSE\tTRUE\t-100\t-1\t0\t0.001\t0\t0\t31\t166\t1\t1\t1\tFALSE\t1\t0.1\t50\t0.5\tTRUE\t279551\t0.260954398056728\t0.0272621639125061\t107\t5794\t13214\t133531965.017491\t15\n",
      "Validate  16     1200    105875777     108441915    \n",
      "20231104 233858\t602\t976271\tgbdt\tbinary\tcustom\tTRUE\tTRUE\tFALSE\tTRUE\t-100\t-1\t0\t0.001\t0\t0\t31\t762\t1\t1\t1\tFALSE\t1\t0.1\t50\t0.5\tTRUE\t279551\t0.0917235747127569\t0.46677263015138\t785\t24824\t11350\t143427061.469265\t16\n"
     ]
    },
    {
     "name": "stderr",
     "output_type": "stream",
     "text": [
      "[mbo] 0: learning_rate=0.129; feature_fraction=0.59; num_leaves=603; min_data_in_leaf=34060 : y = 1.46e+08 : 495.0 secs : initdesign\n",
      "\n",
      "[mbo] 0: learning_rate=0.0661; feature_fraction=0.307; num_leaves=135; min_data_in_leaf=27020 : y = 1.34e+08 : 205.1 secs : initdesign\n",
      "\n",
      "[mbo] 0: learning_rate=0.113; feature_fraction=0.723; num_leaves=381; min_data_in_leaf=28634 : y = 1.37e+08 : 127.1 secs : initdesign\n",
      "\n",
      "[mbo] 0: learning_rate=0.176; feature_fraction=0.0837; num_leaves=542; min_data_in_leaf=6859 : y = 1.28e+08 : 148.4 secs : initdesign\n",
      "\n",
      "[mbo] 0: learning_rate=0.275; feature_fraction=0.325; num_leaves=723; min_data_in_leaf=16035 : y = 1.39e+08 : 226.6 secs : initdesign\n",
      "\n",
      "[mbo] 0: learning_rate=0.153; feature_fraction=0.645; num_leaves=502; min_data_in_leaf=12627 : y = 1.4e+08 : 224.8 secs : initdesign\n",
      "\n",
      "[mbo] 0: learning_rate=0.194; feature_fraction=0.794; num_leaves=845; min_data_in_leaf=42464 : y = 1.39e+08 : 113.0 secs : initdesign\n",
      "\n",
      "[mbo] 0: learning_rate=0.208; feature_fraction=0.164; num_leaves=938; min_data_in_leaf=38948 : y = 1.44e+08 : 377.4 secs : initdesign\n",
      "\n",
      "[mbo] 0: learning_rate=0.0267; feature_fraction=0.561; num_leaves=306; min_data_in_leaf=19296 : y = 1.36e+08 : 328.1 secs : initdesign\n",
      "\n",
      "[mbo] 0: learning_rate=0.222; feature_fraction=0.827; num_leaves=31; min_data_in_leaf=34846 : y = 1.44e+08 : 235.3 secs : initdesign\n",
      "\n",
      "[mbo] 0: learning_rate=0.0853; feature_fraction=0.926; num_leaves=683; min_data_in_leaf=1679 : y = 1.44e+08 : 316.7 secs : initdesign\n",
      "\n",
      "[mbo] 0: learning_rate=0.0507; feature_fraction=0.207; num_leaves=246; min_data_in_leaf=49507 : y = 1.26e+08 : 192.1 secs : initdesign\n",
      "\n",
      "[mbo] 0: learning_rate=0.241; feature_fraction=0.979; num_leaves=981; min_data_in_leaf=9632 : y = 1.34e+08 : 160.0 secs : initdesign\n",
      "\n",
      "[mbo] 0: learning_rate=0.29; feature_fraction=0.413; num_leaves=417; min_data_in_leaf=43892 : y = 1.39e+08 : 382.0 secs : initdesign\n",
      "\n",
      "[mbo] 0: learning_rate=0.261; feature_fraction=0.0273; num_leaves=107; min_data_in_leaf=5794 : y = 1.34e+08 : 116.6 secs : initdesign\n",
      "\n",
      "[mbo] 0: learning_rate=0.0917; feature_fraction=0.467; num_leaves=785; min_data_in_leaf=24824 : y = 1.43e+08 : 580.1 secs : initdesign\n",
      "\n",
      "Saved the current state after iteration 1 in the file HT8230 (Clase 12, Base Sem4).RDATA.\n",
      "\n"
     ]
    },
    {
     "name": "stdout",
     "output_type": "stream",
     "text": [
      "Validate  17     1150    103102867     107598928    \n",
      "20231104 234827\t602\t976271\tgbdt\tbinary\tcustom\tTRUE\tTRUE\tFALSE\tTRUE\t-100\t-1\t0\t0.001\t0\t0\t31\t736\t1\t1\t1\tFALSE\t1\t0.1\t50\t0.5\tTRUE\t279551\t0.167047270852366\t0.507211243074002\t729\t34128\t11993\t144010279.36032\t17\n"
     ]
    },
    {
     "name": "stderr",
     "output_type": "stream",
     "text": [
      "[mbo] 1: learning_rate=0.167; feature_fraction=0.507; num_leaves=729; min_data_in_leaf=34128 : y = 1.44e+08 : 566.6 secs : infill_ei\n",
      "\n"
     ]
    },
    {
     "name": "stdout",
     "output_type": "stream",
     "text": [
      "Validate  18     650    97399039     105013993     \n",
      "20231104 235113\t602\t976271\tgbdt\tbinary\tcustom\tTRUE\tTRUE\tFALSE\tTRUE\t-100\t-1\t0\t0.001\t0\t0\t31\t108\t1\t1\t1\tFALSE\t1\t0.1\t50\t0.5\tTRUE\t279551\t0.0274868339269054\t0.632455005206836\t648\t48859\t16161\t133703284.857571\t18\n"
     ]
    },
    {
     "name": "stderr",
     "output_type": "stream",
     "text": [
      "[mbo] 2: learning_rate=0.0275; feature_fraction=0.632; num_leaves=648; min_data_in_leaf=48859 : y = 1.34e+08 : 165.8 secs : infill_ei\n",
      "\n",
      "Saved the current state after iteration 3 in the file HT8230 (Clase 12, Base Sem4).RDATA.\n",
      "\n"
     ]
    },
    {
     "name": "stdout",
     "output_type": "stream",
     "text": [
      "Validate  19     780    104740146     107608782    \n",
      "20231104 235448\t602\t976271\tgbdt\tbinary\tcustom\tTRUE\tTRUE\tFALSE\tTRUE\t-100\t-1\t0\t0.001\t0\t0\t31\t362\t1\t1\t1\tFALSE\t1\t0.1\t50\t0.5\tTRUE\t279551\t0.147606352542511\t0.647039406789359\t510\t36383\t12061\t148369981.509245\t19\n"
     ]
    },
    {
     "name": "stderr",
     "output_type": "stream",
     "text": [
      "[mbo] 3: learning_rate=0.148; feature_fraction=0.647; num_leaves=510; min_data_in_leaf=36383 : y = 1.48e+08 : 212.3 secs : infill_ei\n",
      "\n"
     ]
    },
    {
     "name": "stdout",
     "output_type": "stream",
     "text": [
      "Validate  20     920    97176060     103336144     \n",
      "20231104 235958\t602\t976271\tgbdt\tbinary\tcustom\tTRUE\tTRUE\tFALSE\tTRUE\t-100\t-1\t0\t0.001\t0\t0\t31\t507\t1\t1\t1\tFALSE\t1\t0.1\t50\t0.5\tTRUE\t279551\t0.299660479926172\t0.606757747240426\t442\t36772\t12868\t137636343.828086\t20\n"
     ]
    },
    {
     "name": "stderr",
     "output_type": "stream",
     "text": [
      "[mbo] 4: learning_rate=0.3; feature_fraction=0.607; num_leaves=442; min_data_in_leaf=36772 : y = 1.38e+08 : 309.6 secs : infill_ei\n",
      "\n"
     ]
    },
    {
     "name": "stdout",
     "output_type": "stream",
     "text": [
      "Validate  21     450    106586975     107253132    \n",
      "20231105 000337\t602\t976271\tgbdt\tbinary\tcustom\tTRUE\tTRUE\tFALSE\tTRUE\t-100\t-1\t0\t0.001\t0\t0\t31\t25\t1\t1\t1\tFALSE\t1\t0.1\t50\t0.5\tTRUE\t279551\t0.14576708833067\t0.494605864950012\t564\t37361\t14871\t136422160.41979\t21\n"
     ]
    },
    {
     "name": "stderr",
     "output_type": "stream",
     "text": [
      "[mbo] 5: learning_rate=0.146; feature_fraction=0.495; num_leaves=564; min_data_in_leaf=37361 : y = 1.36e+08 : 218.1 secs : infill_ei\n",
      "\n",
      "Saved the current state after iteration 6 in the file HT8230 (Clase 12, Base Sem4).RDATA.\n",
      "\n"
     ]
    },
    {
     "name": "stdout",
     "output_type": "stream",
     "text": [
      "Validate  22     450    103833729     106148819    \n",
      "20231105 000542\t602\t976271\tgbdt\tbinary\tcustom\tTRUE\tTRUE\tFALSE\tTRUE\t-100\t-1\t0\t0.001\t0\t0\t31\t26\t1\t1\t1\tFALSE\t1\t0.1\t50\t0.5\tTRUE\t279551\t0.146822242888568\t0.641302390058969\t559\t34040\t13233\t135578795.102449\t22\n"
     ]
    },
    {
     "name": "stderr",
     "output_type": "stream",
     "text": [
      "[mbo] 6: learning_rate=0.147; feature_fraction=0.641; num_leaves=559; min_data_in_leaf=34040 : y = 1.36e+08 : 122.3 secs : infill_ei\n",
      "\n"
     ]
    },
    {
     "name": "stdout",
     "output_type": "stream",
     "text": [
      "Validate  23     1020    104553525     108662756    \n",
      "20231105 001046\t602\t976271\tgbdt\tbinary\tcustom\tTRUE\tTRUE\tFALSE\tTRUE\t-100\t-1\t0\t0.001\t0\t0\t31\t581\t1\t1\t1\tFALSE\t1\t0.1\t50\t0.5\tTRUE\t279551\t0.0819756760923147\t0.974616244780253\t517\t20341\t12422\t148199823.088456\t23\n"
     ]
    },
    {
     "name": "stderr",
     "output_type": "stream",
     "text": [
      "[mbo] 7: learning_rate=0.082; feature_fraction=0.975; num_leaves=517; min_data_in_leaf=20341 : y = 1.48e+08 : 303.6 secs : infill_ei\n",
      "\n"
     ]
    },
    {
     "name": "stdout",
     "output_type": "stream",
     "text": [
      "Validate  24     710    106243926     106891158    \n",
      "20231105 001644\t602\t976271\tgbdt\tbinary\tcustom\tTRUE\tTRUE\tFALSE\tTRUE\t-100\t-1\t0\t0.001\t0\t0\t31\t279\t1\t1\t1\tFALSE\t1\t0.1\t50\t0.5\tTRUE\t279551\t0.125783364152587\t0.571972846311198\t970\t25824\t12127\t147594818.090955\t24\n"
     ]
    },
    {
     "name": "stderr",
     "output_type": "stream",
     "text": [
      "[mbo] 8: learning_rate=0.126; feature_fraction=0.572; num_leaves=970; min_data_in_leaf=25824 : y = 1.48e+08 : 357.3 secs : infill_ei\n",
      "\n",
      "Saved the current state after iteration 9 in the file HT8230 (Clase 12, Base Sem4).RDATA.\n",
      "\n"
     ]
    },
    {
     "name": "stdout",
     "output_type": "stream",
     "text": [
      "Validate  25     970    104494072     105609280    \n",
      "20231105 002338\t602\t976271\tgbdt\tbinary\tcustom\tTRUE\tTRUE\tFALSE\tTRUE\t-100\t-1\t0\t0.001\t0\t0\t31\t541\t1\t1\t1\tFALSE\t1\t0.1\t50\t0.5\tTRUE\t279551\t0.123394124223641\t0.350721480100059\t385\t31552\t14876\t140237195.402299\t25\n"
     ]
    },
    {
     "name": "stderr",
     "output_type": "stream",
     "text": [
      "[mbo] 9: learning_rate=0.123; feature_fraction=0.351; num_leaves=385; min_data_in_leaf=31552 : y = 1.4e+08 : 411.3 secs : infill_ei\n",
      "\n"
     ]
    },
    {
     "name": "stdout",
     "output_type": "stream",
     "text": [
      "Validate  26     1380    102409339     104940460    \n",
      "20231105 003207\t602\t976271\tgbdt\tbinary\tcustom\tTRUE\tTRUE\tFALSE\tTRUE\t-100\t-1\t0\t0.001\t0\t0\t31\t954\t1\t1\t1\tFALSE\t1\t0.1\t50\t0.5\tTRUE\t279551\t0.153408568339558\t0.188395173424707\t629\t4144\t14693\t136839074.962519\t26\n"
     ]
    },
    {
     "name": "stderr",
     "output_type": "stream",
     "text": [
      "[mbo] 10: learning_rate=0.153; feature_fraction=0.188; num_leaves=629; min_data_in_leaf=4144 : y = 1.37e+08 : 508.9 secs : infill_ei\n",
      "\n",
      "Saved the current state after iteration 11 in the file HT8230 (Clase 12, Base Sem4).RDATA.\n",
      "\n"
     ]
    },
    {
     "name": "stdout",
     "output_type": "stream",
     "text": [
      "Validate  27     870    103323635     107732890    \n",
      "20231105 003652\t602\t976271\tgbdt\tbinary\tcustom\tTRUE\tTRUE\tFALSE\tTRUE\t-100\t-1\t0\t0.001\t0\t0\t31\t431\t1\t1\t1\tFALSE\t1\t0.1\t50\t0.5\tTRUE\t279551\t0.0878434133142489\t0.815810371357654\t660\t13202\t13304\t146742444.777611\t27\n"
     ]
    },
    {
     "name": "stderr",
     "output_type": "stream",
     "text": [
      "[mbo] 11: learning_rate=0.0878; feature_fraction=0.816; num_leaves=660; min_data_in_leaf=13202 : y = 1.47e+08 : 281.9 secs : infill_ei\n",
      "\n"
     ]
    },
    {
     "name": "stdout",
     "output_type": "stream",
     "text": [
      "Validate  28     520    99215096     107493602     \n",
      "20231105 003959\t602\t976271\tgbdt\tbinary\tcustom\tTRUE\tTRUE\tFALSE\tTRUE\t-100\t-1\t0\t0.001\t0\t0\t31\t104\t1\t1\t1\tFALSE\t1\t0.1\t50\t0.5\tTRUE\t279551\t0.208436094166103\t0.715217671528448\t580\t7994\t13524\t145346012.993503\t28\n"
     ]
    },
    {
     "name": "stderr",
     "output_type": "stream",
     "text": [
      "[mbo] 12: learning_rate=0.208; feature_fraction=0.715; num_leaves=580; min_data_in_leaf=7994 : y = 1.45e+08 : 186.8 secs : infill_ei\n",
      "\n"
     ]
    },
    {
     "name": "stdout",
     "output_type": "stream",
     "text": [
      "Validate  29     580    102839186     104890179    \n",
      "20231105 004300\t602\t976271\tgbdt\tbinary\tcustom\tTRUE\tTRUE\tFALSE\tTRUE\t-100\t-1\t0\t0.001\t0\t0\t31\t164\t1\t1\t1\tFALSE\t1\t0.1\t50\t0.5\tTRUE\t279551\t0.216814233838003\t0.941129939035405\t468\t16510\t12605\t138671906.546727\t29\n"
     ]
    },
    {
     "name": "stderr",
     "output_type": "stream",
     "text": [
      "[mbo] 13: learning_rate=0.217; feature_fraction=0.941; num_leaves=468; min_data_in_leaf=16510 : y = 1.39e+08 : 180.3 secs : infill_ei\n",
      "\n",
      "Saved the current state after iteration 14 in the file HT8230 (Clase 12, Base Sem4).RDATA.\n",
      "\n"
     ]
    },
    {
     "name": "stdout",
     "output_type": "stream",
     "text": [
      "Validate  30     490    103568355     104418801    \n",
      "20231105 004505\t602\t976271\tgbdt\tbinary\tcustom\tTRUE\tTRUE\tFALSE\tTRUE\t-100\t-1\t0\t0.001\t0\t0\t31\t54\t1\t1\t1\tFALSE\t1\t0.1\t50\t0.5\tTRUE\t279551\t0.10828413288156\t0.945185586534383\t414\t49048\t14749\t136224026.486757\t30\n"
     ]
    },
    {
     "name": "stderr",
     "output_type": "stream",
     "text": [
      "[mbo] 14: learning_rate=0.108; feature_fraction=0.945; num_leaves=414; min_data_in_leaf=49048 : y = 1.36e+08 : 122.7 secs : infill_ei\n",
      "\n"
     ]
    },
    {
     "name": "stdout",
     "output_type": "stream",
     "text": [
      "Validate  31     480    96521317     99433398    \n",
      "20231105 004749\t602\t976271\tgbdt\tbinary\tcustom\tTRUE\tTRUE\tFALSE\tTRUE\t-100\t-1\t0\t0.001\t0\t0\t31\t67\t1\t1\t1\tFALSE\t1\t0.1\t50\t0.5\tTRUE\t279551\t0.272230099278367\t0.682647555554558\t335\t10083\t12532\t131764095.952024\t31\n"
     ]
    },
    {
     "name": "stderr",
     "output_type": "stream",
     "text": [
      "[mbo] 15: learning_rate=0.272; feature_fraction=0.683; num_leaves=335; min_data_in_leaf=10083 : y = 1.32e+08 : 163.7 secs : infill_ei\n",
      "\n"
     ]
    },
    {
     "name": "stdout",
     "output_type": "stream",
     "text": [
      "Validate  32     450    100538082     102553918    \n",
      "20231105 004940\t602\t976271\tgbdt\tbinary\tcustom\tTRUE\tTRUE\tFALSE\tTRUE\t-100\t-1\t0\t0.001\t0\t0\t31\t36\t1\t1\t1\tFALSE\t1\t0.1\t50\t0.5\tTRUE\t279551\t0.206258360888674\t0.078352308585262\t116\t27637\t13298\t126230541.729135\t32\n"
     ]
    },
    {
     "name": "stderr",
     "output_type": "stream",
     "text": [
      "[mbo] 16: learning_rate=0.206; feature_fraction=0.0784; num_leaves=116; min_data_in_leaf=27637 : y = 1.26e+08 : 110.5 secs : infill_ei\n",
      "\n"
     ]
    },
    {
     "name": "stdout",
     "output_type": "stream",
     "text": [
      "Validate  33     640    102713522     107552516    \n",
      "20231105 005322\t602\t976271\tgbdt\tbinary\tcustom\tTRUE\tTRUE\tFALSE\tTRUE\t-100\t-1\t0\t0.001\t0\t0\t31\t218\t1\t1\t1\tFALSE\t1\t0.1\t50\t0.5\tTRUE\t279551\t0.155888972707825\t0.18136861866572\t717\t8622\t12212\t140327674.162919\t33\n"
     ]
    },
    {
     "name": "stderr",
     "output_type": "stream",
     "text": [
      "[mbo] 17: learning_rate=0.156; feature_fraction=0.181; num_leaves=717; min_data_in_leaf=8622 : y = 1.4e+08 : 221.4 secs : infill_ei\n",
      "\n",
      "Saved the current state after iteration 18 in the file HT8230 (Clase 12, Base Sem4).RDATA.\n",
      "\n"
     ]
    },
    {
     "name": "stdout",
     "output_type": "stream",
     "text": [
      "Validate  34     510    102430066     106345886    \n",
      "20231105 005624\t602\t976271\tgbdt\tbinary\tcustom\tTRUE\tTRUE\tFALSE\tTRUE\t-100\t-1\t0\t0.001\t0\t0\t31\t54\t1\t1\t1\tFALSE\t1\t0.1\t50\t0.5\tTRUE\t279551\t0.0609387482901895\t0.60478124023511\t232\t37093\t11968\t139736623.688156\t34\n"
     ]
    },
    {
     "name": "stderr",
     "output_type": "stream",
     "text": [
      "[mbo] 18: learning_rate=0.0609; feature_fraction=0.605; num_leaves=232; min_data_in_leaf=37093 : y = 1.4e+08 : 179.2 secs : infill_ei\n",
      "\n"
     ]
    },
    {
     "name": "stdout",
     "output_type": "stream",
     "text": [
      "Validate  35     830    106092476     108487676    \n",
      "20231105 010033\t602\t976271\tgbdt\tbinary\tcustom\tTRUE\tTRUE\tFALSE\tTRUE\t-100\t-1\t0\t0.001\t0\t0\t31\t408\t1\t1\t1\tFALSE\t1\t0.1\t50\t0.5\tTRUE\t279551\t0.134048980753372\t0.618615897063871\t184\t31418\t11800\t145453773.113443\t35\n"
     ]
    },
    {
     "name": "stderr",
     "output_type": "stream",
     "text": [
      "[mbo] 19: learning_rate=0.134; feature_fraction=0.619; num_leaves=184; min_data_in_leaf=31418 : y = 1.45e+08 : 249.1 secs : infill_ei\n",
      "\n"
     ]
    },
    {
     "name": "stdout",
     "output_type": "stream",
     "text": [
      "Validate  36     1060    102673782     106200953    \n",
      "20231105 010510\t602\t976271\tgbdt\tbinary\tcustom\tTRUE\tTRUE\tFALSE\tTRUE\t-100\t-1\t0\t0.001\t0\t0\t31\t634\t1\t1\t1\tFALSE\t1\t0.1\t50\t0.5\tTRUE\t279551\t0.115678986224017\t0.917889258681712\t71\t37901\t14091\t143628487.256372\t36\n"
     ]
    },
    {
     "name": "stderr",
     "output_type": "stream",
     "text": [
      "[mbo] 20: learning_rate=0.116; feature_fraction=0.918; num_leaves=71; min_data_in_leaf=37901 : y = 1.44e+08 : 276.6 secs : infill_ei\n",
      "\n",
      "Saved the current state after iteration 21 in the file HT8230 (Clase 12, Base Sem4).RDATA.\n",
      "\n"
     ]
    },
    {
     "name": "stdout",
     "output_type": "stream",
     "text": [
      "Validate  37     660    105486817     108405908    \n",
      "20231105 011119\t602\t976271\tgbdt\tbinary\tcustom\tTRUE\tTRUE\tFALSE\tTRUE\t-100\t-1\t0\t0.001\t0\t0\t31\t231\t1\t1\t1\tFALSE\t1\t0.1\t50\t0.5\tTRUE\t279551\t0.118924839631945\t0.506578870921029\t798\t6538\t13138\t139895689.155422\t37\n"
     ]
    },
    {
     "name": "stderr",
     "output_type": "stream",
     "text": [
      "[mbo] 21: learning_rate=0.119; feature_fraction=0.507; num_leaves=798; min_data_in_leaf=6538 : y = 1.4e+08 : 366.0 secs : infill_ei\n",
      "\n"
     ]
    },
    {
     "name": "stdout",
     "output_type": "stream",
     "text": [
      "Validate  38     1260    104641863     106755216    \n",
      "20231105 012122\t602\t976271\tgbdt\tbinary\tcustom\tTRUE\tTRUE\tFALSE\tTRUE\t-100\t-1\t0\t0.001\t0\t0\t31\t842\t1\t1\t1\tFALSE\t1\t0.1\t50\t0.5\tTRUE\t279551\t0.151764583127898\t0.49849945585071\t499\t46599\t14132\t142892871.564218\t38\n"
     ]
    },
    {
     "name": "stderr",
     "output_type": "stream",
     "text": [
      "[mbo] 22: learning_rate=0.152; feature_fraction=0.498; num_leaves=499; min_data_in_leaf=46599 : y = 1.43e+08 : 602.2 secs : infill_ei\n",
      "\n",
      "Saved the current state after iteration 23 in the file HT8230 (Clase 12, Base Sem4).RDATA.\n",
      "\n"
     ]
    },
    {
     "name": "stdout",
     "output_type": "stream",
     "text": [
      "Validate  39     620    98564054     103938666     \n",
      "20231105 012554\t602\t976271\tgbdt\tbinary\tcustom\tTRUE\tTRUE\tFALSE\tTRUE\t-100\t-1\t0\t0.001\t0\t0\t31\t83\t1\t1\t1\tFALSE\t1\t0.1\t50\t0.5\tTRUE\t279551\t0.0287094006729022\t0.380709247557522\t923\t32660\t13497\t131025947.526237\t39\n"
     ]
    },
    {
     "name": "stderr",
     "output_type": "stream",
     "text": [
      "[mbo] 23: learning_rate=0.0287; feature_fraction=0.381; num_leaves=923; min_data_in_leaf=32660 : y = 1.31e+08 : 269.2 secs : infill_ei\n",
      "\n"
     ]
    },
    {
     "name": "stdout",
     "output_type": "stream",
     "text": [
      "Validate  40     1290    106847878     110242612    \n",
      "20231105 013207\t602\t976271\tgbdt\tbinary\tcustom\tTRUE\tTRUE\tFALSE\tTRUE\t-100\t-1\t0\t0.001\t0\t0\t31\t853\t1\t1\t1\tFALSE\t1\t0.1\t50\t0.5\tTRUE\t279551\t0.102969406697526\t0.829579877786537\t616\t33605\t12224\t146913579.210395\t40\n"
     ]
    },
    {
     "name": "stderr",
     "output_type": "stream",
     "text": [
      "[mbo] 24: learning_rate=0.103; feature_fraction=0.83; num_leaves=616; min_data_in_leaf=33605 : y = 1.47e+08 : 373.2 secs : infill_ei\n",
      "\n",
      "Saved the current state after iteration 25 in the file HT8230 (Clase 12, Base Sem4).RDATA.\n",
      "\n"
     ]
    },
    {
     "name": "stdout",
     "output_type": "stream",
     "text": [
      "Validate  41     720    100345339     104814764    \n",
      "20231105 013542\t602\t976271\tgbdt\tbinary\tcustom\tTRUE\tTRUE\tFALSE\tTRUE\t-100\t-1\t0\t0.001\t0\t0\t31\t304\t1\t1\t1\tFALSE\t1\t0.1\t50\t0.5\tTRUE\t279551\t0.216244528770405\t0.678605202128697\t876\t32091\t11833\t144020634.182909\t41\n"
     ]
    },
    {
     "name": "stderr",
     "output_type": "stream",
     "text": [
      "[mbo] 25: learning_rate=0.216; feature_fraction=0.679; num_leaves=876; min_data_in_leaf=32091 : y = 1.44e+08 : 211.9 secs : infill_ei\n",
      "\n"
     ]
    },
    {
     "name": "stdout",
     "output_type": "stream",
     "text": [
      "Validate  42     840    107268028     111077791    \n",
      "20231105 014022\t602\t976271\tgbdt\tbinary\tcustom\tTRUE\tTRUE\tFALSE\tTRUE\t-100\t-1\t0\t0.001\t0\t0\t31\t408\t1\t1\t1\tFALSE\t1\t0.1\t50\t0.5\tTRUE\t279551\t0.113035283221169\t0.879902868693263\t690\t11163\t13439\t145845300.849575\t42\n"
     ]
    },
    {
     "name": "stderr",
     "output_type": "stream",
     "text": [
      "[mbo] 26: learning_rate=0.113; feature_fraction=0.88; num_leaves=690; min_data_in_leaf=11163 : y = 1.46e+08 : 279.0 secs : infill_ei\n",
      "\n"
     ]
    },
    {
     "name": "stdout",
     "output_type": "stream",
     "text": [
      "Validate  43     590    101792251     107000779    \n",
      "20231105 014354\t602\t976271\tgbdt\tbinary\tcustom\tTRUE\tTRUE\tFALSE\tTRUE\t-100\t-1\t0\t0.001\t0\t0\t31\t172\t1\t1\t1\tFALSE\t1\t0.1\t50\t0.5\tTRUE\t279551\t0.200459976912112\t0.614564169250873\t812\t14384\t11805\t140959902.548726\t43\n"
     ]
    },
    {
     "name": "stderr",
     "output_type": "stream",
     "text": [
      "[mbo] 27: learning_rate=0.2; feature_fraction=0.615; num_leaves=812; min_data_in_leaf=14384 : y = 1.41e+08 : 211.8 secs : infill_ei\n",
      "\n",
      "Saved the current state after iteration 28 in the file HT8230 (Clase 12, Base Sem4).RDATA.\n",
      "\n"
     ]
    },
    {
     "name": "stdout",
     "output_type": "stream",
     "text": [
      "Validate  44     790    103014589     104817034    \n",
      "20231105 015047\t602\t976271\tgbdt\tbinary\tcustom\tTRUE\tTRUE\tFALSE\tTRUE\t-100\t-1\t0\t0.001\t0\t0\t31\t372\t1\t1\t1\tFALSE\t1\t0.1\t50\t0.5\tTRUE\t279551\t0.175086113409268\t0.545572121089727\t974\t23023\t12102\t141245440.27986\t44\n"
     ]
    },
    {
     "name": "stderr",
     "output_type": "stream",
     "text": [
      "[mbo] 28: learning_rate=0.175; feature_fraction=0.546; num_leaves=974; min_data_in_leaf=23023 : y = 1.41e+08 : 409.8 secs : infill_ei\n",
      "\n"
     ]
    },
    {
     "name": "stdout",
     "output_type": "stream",
     "text": [
      "Validate  45     480    102916326     107130113    \n",
      "20231105 015434\t602\t976271\tgbdt\tbinary\tcustom\tTRUE\tTRUE\tFALSE\tTRUE\t-100\t-1\t0\t0.001\t0\t0\t31\t40\t1\t1\t1\tFALSE\t1\t0.1\t50\t0.5\tTRUE\t279551\t0.0912156693620931\t0.430247739064002\t266\t35124\t13371\t135640441.27936\t45\n"
     ]
    },
    {
     "name": "stderr",
     "output_type": "stream",
     "text": [
      "[mbo] 29: learning_rate=0.0912; feature_fraction=0.43; num_leaves=266; min_data_in_leaf=35124 : y = 1.36e+08 : 227.0 secs : infill_ei\n",
      "\n",
      "Saved the current state after iteration 30 in the file HT8230 (Clase 12, Base Sem4).RDATA.\n",
      "\n"
     ]
    },
    {
     "name": "stdout",
     "output_type": "stream",
     "text": [
      "Validate  46     640    99244821     106425054     \n",
      "20231105 015739\t602\t976271\tgbdt\tbinary\tcustom\tTRUE\tTRUE\tFALSE\tTRUE\t-100\t-1\t0\t0.001\t0\t0\t31\t116\t1\t1\t1\tFALSE\t1\t0.1\t50\t0.5\tTRUE\t279551\t0.0309419650348203\t0.742617162817847\t576\t45465\t14850\t135158805.597201\t46\n"
     ]
    },
    {
     "name": "stderr",
     "output_type": "stream",
     "text": [
      "[mbo] 30: learning_rate=0.0309; feature_fraction=0.743; num_leaves=576; min_data_in_leaf=45465 : y = 1.35e+08 : 182.2 secs : infill_ei\n",
      "\n"
     ]
    },
    {
     "name": "stdout",
     "output_type": "stream",
     "text": [
      "Validate  47     900    106505161     108911184    \n",
      "20231105 020239\t602\t976271\tgbdt\tbinary\tcustom\tTRUE\tTRUE\tFALSE\tTRUE\t-100\t-1\t0\t0.001\t0\t0\t31\t476\t1\t1\t1\tFALSE\t1\t0.1\t50\t0.5\tTRUE\t279551\t0.122784533476965\t0.914559179257937\t510\t28870\t11630\t149733708.145927\t47\n"
     ]
    },
    {
     "name": "stderr",
     "output_type": "stream",
     "text": [
      "[mbo] 31: learning_rate=0.123; feature_fraction=0.915; num_leaves=510; min_data_in_leaf=28870 : y = 1.5e+08 : 299.0 secs : infill_ei\n",
      "\n"
     ]
    },
    {
     "name": "stdout",
     "output_type": "stream",
     "text": [
      "Validate  48     670    102214371     102849240    \n",
      "20231105 020551\t602\t976271\tgbdt\tbinary\tcustom\tTRUE\tTRUE\tFALSE\tTRUE\t-100\t-1\t0\t0.001\t0\t0\t31\t256\t1\t1\t1\tFALSE\t1\t0.1\t50\t0.5\tTRUE\t279551\t0.251974441204631\t0.0799895906949474\t427\t14489\t13207\t136420285.357321\t48\n"
     ]
    },
    {
     "name": "stderr",
     "output_type": "stream",
     "text": [
      "[mbo] 32: learning_rate=0.252; feature_fraction=0.08; num_leaves=427; min_data_in_leaf=14489 : y = 1.36e+08 : 191.7 secs : infill_ei\n",
      "\n",
      "Saved the current state after iteration 33 in the file HT8230 (Clase 12, Base Sem4).RDATA.\n",
      "\n"
     ]
    },
    {
     "name": "stdout",
     "output_type": "stream",
     "text": [
      "Validate  49     790    105345575     108996563    \n",
      "20231105 020947\t602\t976271\tgbdt\tbinary\tcustom\tTRUE\tTRUE\tFALSE\tTRUE\t-100\t-1\t0\t0.001\t0\t0\t31\t370\t1\t1\t1\tFALSE\t1\t0.1\t50\t0.5\tTRUE\t279551\t0.137118562102881\t0.817609808356108\t96\t29676\t11807\t143329890.554723\t49\n"
     ]
    },
    {
     "name": "stderr",
     "output_type": "stream",
     "text": [
      "[mbo] 33: learning_rate=0.137; feature_fraction=0.818; num_leaves=96; min_data_in_leaf=29676 : y = 1.43e+08 : 233.0 secs : infill_ei\n",
      "\n"
     ]
    },
    {
     "name": "stdout",
     "output_type": "stream",
     "text": [
      "Validate  50     1440    107192788     110667901    \n",
      "20231105 021740\t602\t976271\tgbdt\tbinary\tcustom\tTRUE\tTRUE\tFALSE\tTRUE\t-100\t-1\t0\t0.001\t0\t0\t31\t973\t1\t1\t1\tFALSE\t1\t0.1\t50\t0.5\tTRUE\t279551\t0.0542579461438984\t0.863072491904213\t846\t16426\t12606\t147439919.04048\t50\n"
     ]
    },
    {
     "name": "stderr",
     "output_type": "stream",
     "text": [
      "[mbo] 34: learning_rate=0.0543; feature_fraction=0.863; num_leaves=846; min_data_in_leaf=16426 : y = 1.47e+08 : 472.5 secs : infill_ei\n",
      "\n",
      "Saved the current state after iteration 35 in the file HT8230 (Clase 12, Base Sem4).RDATA.\n",
      "\n"
     ]
    },
    {
     "name": "stdout",
     "output_type": "stream",
     "text": [
      "Validate  51     620    100545929     104410132    \n",
      "20231105 022103\t602\t976271\tgbdt\tbinary\tcustom\tTRUE\tTRUE\tFALSE\tTRUE\t-100\t-1\t0\t0.001\t0\t0\t31\t210\t1\t1\t1\tFALSE\t1\t0.1\t50\t0.5\tTRUE\t279551\t0.239630285874572\t0.160003033788258\t898\t26676\t12457\t139647876.561719\t51\n"
     ]
    },
    {
     "name": "stderr",
     "output_type": "stream",
     "text": [
      "[mbo] 35: learning_rate=0.24; feature_fraction=0.16; num_leaves=898; min_data_in_leaf=26676 : y = 1.4e+08 : 199.7 secs : infill_ei\n",
      "\n"
     ]
    },
    {
     "name": "stdout",
     "output_type": "stream",
     "text": [
      "Validate  52     1190    97493436     100828056    \n",
      "20231105 023000\t602\t976271\tgbdt\tbinary\tcustom\tTRUE\tTRUE\tFALSE\tTRUE\t-100\t-1\t0\t0.001\t0\t0\t31\t775\t1\t1\t1\tFALSE\t1\t0.1\t50\t0.5\tTRUE\t279551\t0.250518044911929\t0.401614861365382\t89\t47217\t13379\t137104641.17941\t52\n"
     ]
    },
    {
     "name": "stderr",
     "output_type": "stream",
     "text": [
      "[mbo] 36: learning_rate=0.251; feature_fraction=0.402; num_leaves=89; min_data_in_leaf=47217 : y = 1.37e+08 : 536.8 secs : infill_ei\n",
      "\n",
      "Saved the current state after iteration 37 in the file HT8230 (Clase 12, Base Sem4).RDATA.\n",
      "\n"
     ]
    },
    {
     "name": "stdout",
     "output_type": "stream",
     "text": [
      "Validate  53     850    99904133     104041833     \n",
      "20231105 023346\t602\t976271\tgbdt\tbinary\tcustom\tTRUE\tTRUE\tFALSE\tTRUE\t-100\t-1\t0\t0.001\t0\t0\t31\t438\t1\t1\t1\tFALSE\t1\t0.1\t50\t0.5\tTRUE\t279551\t0.258257694549197\t0.663138396074631\t567\t49925\t12033\t142510229.385307\t53\n"
     ]
    },
    {
     "name": "stderr",
     "output_type": "stream",
     "text": [
      "[mbo] 37: learning_rate=0.258; feature_fraction=0.663; num_leaves=567; min_data_in_leaf=49925 : y = 1.43e+08 : 222.4 secs : infill_ei\n",
      "\n"
     ]
    },
    {
     "name": "stdout",
     "output_type": "stream",
     "text": [
      "Validate  54     1560    105101771     106507239    \n",
      "20231105 024026\t602\t976271\tgbdt\tbinary\tcustom\tTRUE\tTRUE\tFALSE\tTRUE\t-100\t-1\t0\t0.001\t0\t0\t31\t1103\t1\t1\t1\tFALSE\t1\t0.1\t50\t0.5\tTRUE\t279551\t0.0694397905880949\t0.73482590657562\t19\t19503\t12729\t146641607.696152\t54\n"
     ]
    },
    {
     "name": "stderr",
     "output_type": "stream",
     "text": [
      "[mbo] 38: learning_rate=0.0694; feature_fraction=0.735; num_leaves=19; min_data_in_leaf=19503 : y = 1.47e+08 : 399.6 secs : infill_ei\n",
      "\n",
      "Saved the current state after iteration 39 in the file HT8230 (Clase 12, Base Sem4).RDATA.\n",
      "\n"
     ]
    },
    {
     "name": "stdout",
     "output_type": "stream",
     "text": [
      "Validate  55     790    101709951     109059874    \n",
      "20231105 024653\t602\t976271\tgbdt\tbinary\tcustom\tTRUE\tTRUE\tFALSE\tTRUE\t-100\t-1\t0\t0.001\t0\t0\t31\t375\t1\t1\t1\tFALSE\t1\t0.1\t50\t0.5\tTRUE\t279551\t0.241154173431431\t0.463212107548832\t124\t41400\t13959\t147309108.945527\t55\n"
     ]
    },
    {
     "name": "stderr",
     "output_type": "stream",
     "text": [
      "[mbo] 39: learning_rate=0.241; feature_fraction=0.463; num_leaves=124; min_data_in_leaf=41400 : y = 1.47e+08 : 384.3 secs : infill_ei\n",
      "\n"
     ]
    },
    {
     "name": "stdout",
     "output_type": "stream",
     "text": [
      "Validate  56     650    98787498     105530615     \n",
      "20231105 025108\t602\t976271\tgbdt\tbinary\tcustom\tTRUE\tTRUE\tFALSE\tTRUE\t-100\t-1\t0\t0.001\t0\t0\t31\t117\t1\t1\t1\tFALSE\t1\t0.1\t50\t0.5\tTRUE\t279551\t0.0290003145331017\t0.263463603155804\t219\t28581\t14184\t130329631.184408\t56\n"
     ]
    },
    {
     "name": "stderr",
     "output_type": "stream",
     "text": [
      "[mbo] 40: learning_rate=0.029; feature_fraction=0.263; num_leaves=219; min_data_in_leaf=28581 : y = 1.3e+08 : 254.4 secs : infill_ei\n",
      "\n",
      "Saved the current state after iteration 41 in the file HT8230 (Clase 12, Base Sem4).RDATA.\n",
      "\n"
     ]
    },
    {
     "name": "stdout",
     "output_type": "stream",
     "text": [
      "Validate  57     510    100446281     105677727    \n",
      "20231105 025329\t602\t976271\tgbdt\tbinary\tcustom\tTRUE\tTRUE\tFALSE\tTRUE\t-100\t-1\t0\t0.001\t0\t0\t31\t46\t1\t1\t1\tFALSE\t1\t0.1\t50\t0.5\tTRUE\t279551\t0.0568460776209329\t0.754409577485871\t521\t44957\t14207\t136528311.344328\t57\n"
     ]
    },
    {
     "name": "stderr",
     "output_type": "stream",
     "text": [
      "[mbo] 41: learning_rate=0.0568; feature_fraction=0.754; num_leaves=521; min_data_in_leaf=44957 : y = 1.37e+08 : 138.2 secs : infill_ei\n",
      "\n"
     ]
    },
    {
     "name": "stdout",
     "output_type": "stream",
     "text": [
      "Validate  58     1010    104095524     107433240    \n",
      "20231105 025843\t602\t976271\tgbdt\tbinary\tcustom\tTRUE\tTRUE\tFALSE\tTRUE\t-100\t-1\t0\t0.001\t0\t0\t31\t576\t1\t1\t1\tFALSE\t1\t0.1\t50\t0.5\tTRUE\t279551\t0.102289490130444\t0.683891517157509\t885\t23127\t13464\t145017527.236382\t58\n"
     ]
    },
    {
     "name": "stderr",
     "output_type": "stream",
     "text": [
      "[mbo] 42: learning_rate=0.102; feature_fraction=0.684; num_leaves=885; min_data_in_leaf=23127 : y = 1.45e+08 : 313.0 secs : infill_ei\n",
      "\n"
     ]
    },
    {
     "name": "stdout",
     "output_type": "stream",
     "text": [
      "Validate  59     610    101407832     102472612    \n",
      "20231105 030149\t602\t976271\tgbdt\tbinary\tcustom\tTRUE\tTRUE\tFALSE\tTRUE\t-100\t-1\t0\t0.001\t0\t0\t31\t134\t1\t1\t1\tFALSE\t1\t0.1\t50\t0.5\tTRUE\t279551\t0.0495514880702806\t0.142222375349597\t366\t36796\t15532\t119661407.296352\t59\n"
     ]
    },
    {
     "name": "stderr",
     "output_type": "stream",
     "text": [
      "[mbo] 43: learning_rate=0.0496; feature_fraction=0.142; num_leaves=366; min_data_in_leaf=36796 : y = 1.2e+08 : 186.5 secs : infill_ei\n",
      "\n",
      "Saved the current state after iteration 44 in the file HT8230 (Clase 12, Base Sem4).RDATA.\n",
      "\n"
     ]
    },
    {
     "name": "stdout",
     "output_type": "stream",
     "text": [
      "Validate  60     630    99002228     101408083     \n",
      "20231105 030434\t602\t976271\tgbdt\tbinary\tcustom\tTRUE\tTRUE\tFALSE\tTRUE\t-100\t-1\t0\t0.001\t0\t0\t31\t128\t1\t1\t1\tFALSE\t1\t0.1\t50\t0.5\tTRUE\t279551\t0.0389558856410869\t0.0877901393800343\t408\t43688\t14178\t123896088.955522\t60\n"
     ]
    },
    {
     "name": "stderr",
     "output_type": "stream",
     "text": [
      "[mbo] 44: learning_rate=0.039; feature_fraction=0.0878; num_leaves=408; min_data_in_leaf=43688 : y = 1.24e+08 : 161.5 secs : infill_ei\n",
      "\n"
     ]
    },
    {
     "name": "stdout",
     "output_type": "stream",
     "text": [
      "Validate  61     450    102714621     105197154    \n",
      "20231105 030640\t602\t976271\tgbdt\tbinary\tcustom\tTRUE\tTRUE\tFALSE\tTRUE\t-100\t-1\t0\t0.001\t0\t0\t31\t23\t1\t1\t1\tFALSE\t1\t0.1\t50\t0.5\tTRUE\t279551\t0.139149216647416\t0.709758268202471\t489\t40519\t12774\t138455263.368316\t61\n"
     ]
    },
    {
     "name": "stderr",
     "output_type": "stream",
     "text": [
      "[mbo] 45: learning_rate=0.139; feature_fraction=0.71; num_leaves=489; min_data_in_leaf=40519 : y = 1.38e+08 : 125.6 secs : infill_ei\n",
      "\n"
     ]
    },
    {
     "name": "stdout",
     "output_type": "stream",
     "text": [
      "Validate  62     950    104155606     107565869    \n",
      "20231105 031128\t602\t976271\tgbdt\tbinary\tcustom\tTRUE\tTRUE\tFALSE\tTRUE\t-100\t-1\t0\t0.001\t0\t0\t31\t514\t1\t1\t1\tFALSE\t1\t0.1\t50\t0.5\tTRUE\t279551\t0.111048091763599\t0.841258762396097\t512\t24984\t12523\t147257600.69965\t62\n"
     ]
    },
    {
     "name": "stderr",
     "output_type": "stream",
     "text": [
      "[mbo] 46: learning_rate=0.111; feature_fraction=0.841; num_leaves=512; min_data_in_leaf=24984 : y = 1.47e+08 : 287.6 secs : infill_ei\n",
      "\n"
     ]
    },
    {
     "name": "stdout",
     "output_type": "stream",
     "text": [
      "Validate  63     460    102839393     104613636    \n",
      "20231105 031424\t602\t976271\tgbdt\tbinary\tcustom\tTRUE\tTRUE\tFALSE\tTRUE\t-100\t-1\t0\t0.001\t0\t0\t31\t39\t1\t1\t1\tFALSE\t1\t0.1\t50\t0.5\tTRUE\t279551\t0.133439127597871\t0.60285361280755\t485\t37767\t13311\t138746538.230885\t63\n"
     ]
    },
    {
     "name": "stderr",
     "output_type": "stream",
     "text": [
      "[mbo] 47: learning_rate=0.133; feature_fraction=0.603; num_leaves=485; min_data_in_leaf=37767 : y = 1.39e+08 : 175.2 secs : infill_ei\n",
      "\n",
      "Saved the current state after iteration 48 in the file HT8230 (Clase 12, Base Sem4).RDATA.\n",
      "\n"
     ]
    },
    {
     "name": "stdout",
     "output_type": "stream",
     "text": [
      "Validate  64     1110    106673021     107239468    \n",
      "20231105 032001\t602\t976271\tgbdt\tbinary\tcustom\tTRUE\tTRUE\tFALSE\tTRUE\t-100\t-1\t0\t0.001\t0\t0\t31\t674\t1\t1\t1\tFALSE\t1\t0.1\t50\t0.5\tTRUE\t279551\t0.0986134649122042\t0.128569860550137\t734\t21570\t12913\t143476586.206897\t64\n"
     ]
    },
    {
     "name": "stderr",
     "output_type": "stream",
     "text": [
      "[mbo] 48: learning_rate=0.0986; feature_fraction=0.129; num_leaves=734; min_data_in_leaf=21570 : y = 1.43e+08 : 333.5 secs : infill_ei\n",
      "\n"
     ]
    },
    {
     "name": "stdout",
     "output_type": "stream",
     "text": [
      "Validate  65     720    100529823     101251383    \n",
      "20231105 032257\t602\t976271\tgbdt\tbinary\tcustom\tTRUE\tTRUE\tFALSE\tTRUE\t-100\t-1\t0\t0.001\t0\t0\t31\t308\t1\t1\t1\tFALSE\t1\t0.1\t50\t0.5\tTRUE\t279551\t0.257016795607333\t0.0769354824832898\t986\t49407\t13305\t140877413.793103\t65\n"
     ]
    },
    {
     "name": "stderr",
     "output_type": "stream",
     "text": [
      "[mbo] 49: learning_rate=0.257; feature_fraction=0.0769; num_leaves=986; min_data_in_leaf=49407 : y = 1.41e+08 : 175.8 secs : infill_ei\n",
      "\n"
     ]
    },
    {
     "name": "stdout",
     "output_type": "stream",
     "text": [
      "Validate  66     460    104999472     106059627    \n",
      "20231105 032505\t602\t976271\tgbdt\tbinary\tcustom\tTRUE\tTRUE\tFALSE\tTRUE\t-100\t-1\t0\t0.001\t0\t0\t31\t32\t1\t1\t1\tFALSE\t1\t0.1\t50\t0.5\tTRUE\t279551\t0.114580839981422\t0.938697944794151\t456\t43144\t13673\t133956446.276862\t66\n"
     ]
    },
    {
     "name": "stderr",
     "output_type": "stream",
     "text": [
      "[mbo] 50: learning_rate=0.115; feature_fraction=0.939; num_leaves=456; min_data_in_leaf=43144 : y = 1.34e+08 : 127.8 secs : infill_ei\n",
      "\n",
      "Saved the final state in the file HT8230 (Clase 12, Base Sem4).RDATA\n",
      "\n",
      "Saved the final state in the file HT8230 (Clase 12, Base Sem4).RDATA\n",
      "\n"
     ]
    },
    {
     "name": "stdout",
     "output_type": "stream",
     "text": [
      "\n",
      "\n",
      "La optimizacion Bayesiana ha terminado\n"
     ]
    }
   ],
   "source": [
    "# inicio la optimizacion bayesiana\n",
    "if (!file.exists(kbayesiana)) {\n",
    "  run <- mbo(obj.fun, learner = surr.km, control = ctrl)\n",
    "} else {\n",
    "  run <- mboContinue(kbayesiana) # retomo en caso que ya exista\n",
    "}\n",
    "\n",
    "\n",
    "cat(\"\\n\\nLa optimizacion Bayesiana ha terminado\\n\")\n"
   ]
  },
  {
   "cell_type": "markdown",
   "metadata": {},
   "source": [
    "# Semilla 5, base"
   ]
  },
  {
   "cell_type": "code",
   "execution_count": 89,
   "metadata": {
    "vscode": {
     "languageId": "r"
    }
   },
   "outputs": [
    {
     "data": {
      "text/html": [
       "<table class=\"dataframe\">\n",
       "<caption>A matrix: 2 × 6 of type dbl</caption>\n",
       "<thead>\n",
       "\t<tr><th></th><th scope=col>used</th><th scope=col>(Mb)</th><th scope=col>gc trigger</th><th scope=col>(Mb)</th><th scope=col>max used</th><th scope=col>(Mb)</th></tr>\n",
       "</thead>\n",
       "<tbody>\n",
       "\t<tr><th scope=row>Ncells</th><td>  2538887</td><td> 135.6</td><td>   8200216</td><td>  438.0</td><td>  22909774</td><td> 1223.6</td></tr>\n",
       "\t<tr><th scope=row>Vcells</th><td>710352747</td><td>5419.6</td><td>2239658046</td><td>17087.3</td><td>6843588264</td><td>52212.5</td></tr>\n",
       "</tbody>\n",
       "</table>\n"
      ],
      "text/latex": [
       "A matrix: 2 × 6 of type dbl\n",
       "\\begin{tabular}{r|llllll}\n",
       "  & used & (Mb) & gc trigger & (Mb) & max used & (Mb)\\\\\n",
       "\\hline\n",
       "\tNcells &   2538887 &  135.6 &    8200216 &   438.0 &   22909774 &  1223.6\\\\\n",
       "\tVcells & 710352747 & 5419.6 & 2239658046 & 17087.3 & 6843588264 & 52212.5\\\\\n",
       "\\end{tabular}\n"
      ],
      "text/markdown": [
       "\n",
       "A matrix: 2 × 6 of type dbl\n",
       "\n",
       "| <!--/--> | used | (Mb) | gc trigger | (Mb) | max used | (Mb) |\n",
       "|---|---|---|---|---|---|---|\n",
       "| Ncells |   2538887 |  135.6 |    8200216 |   438.0 |   22909774 |  1223.6 |\n",
       "| Vcells | 710352747 | 5419.6 | 2239658046 | 17087.3 | 6843588264 | 52212.5 |\n",
       "\n"
      ],
      "text/plain": [
       "       used      (Mb)   gc trigger (Mb)    max used   (Mb)   \n",
       "Ncells   2538887  135.6    8200216   438.0   22909774  1223.6\n",
       "Vcells 710352747 5419.6 2239658046 17087.3 6843588264 52212.5"
      ]
     },
     "metadata": {},
     "output_type": "display_data"
    }
   ],
   "source": [
    "# limpio la memoria\n",
    "rm(list = ls()) # remove all objects\n",
    "gc() # garbage collection"
   ]
  },
  {
   "cell_type": "code",
   "execution_count": 90,
   "metadata": {
    "vscode": {
     "languageId": "r"
    }
   },
   "outputs": [],
   "source": [
    "require(\"data.table\")\n",
    "require(\"rlist\")\n",
    "require(\"lightgbm\")"
   ]
  },
  {
   "cell_type": "code",
   "execution_count": 91,
   "metadata": {
    "vscode": {
     "languageId": "r"
    }
   },
   "outputs": [],
   "source": [
    "# paquetes necesarios para la Bayesian Optimization\n",
    "require(\"DiceKriging\")\n",
    "require(\"mlrMBO\")\n",
    "\n",
    "# para que se detenga ante el primer error\n",
    "# y muestre el stack de funciones invocadas\n",
    "options(error = function() {\n",
    "  traceback(20)\n",
    "  options(error = NULL)\n",
    "  stop(\"exiting after script error\")\n",
    "})"
   ]
  },
  {
   "cell_type": "markdown",
   "metadata": {},
   "source": [
    "## Definición de Parametros"
   ]
  },
  {
   "cell_type": "code",
   "execution_count": 92,
   "metadata": {
    "vscode": {
     "languageId": "r"
    }
   },
   "outputs": [],
   "source": [
    "# defino los parametros de la corrida, en una lista, la variable global  PARAM\n",
    "#  muy pronto esto se leera desde un archivo formato .yaml\n",
    "PARAM <- list()\n",
    "\n",
    "PARAM$experimento <- \"HT8230 (Clase 12, Base Sem5)\"\n",
    "\n",
    "PARAM$input$dataset <- \"datasets/competencia_03_base_lags.csv.gz\"\n",
    "\n",
    "# los meses en los que vamos a entrenar\n",
    "#  mucha magia emerger de esta eleccion\n",
    "PARAM$input$testing <- c(202107) # Último mes, lo más cercano al 202109 de kaggle\n",
    "PARAM$input$validation <- c(202106)\n",
    "PARAM$input$training <- c(202105, 202104, 202103, 202102, 202101,202012) # 6 meses de entrenamiento\t\n",
    "\n",
    "# un undersampling de 0.1  toma solo el 10% de los CONTINUA\n",
    "PARAM$trainingstrategy$undersampling <- 1.0\n",
    "PARAM$trainingstrategy$semilla_azar <- c(279511, 279523, 279541, 279551, 279571)  # Aqui poner su  primer  semilla/ pongo todas mis semillas\n",
    "\n",
    "PARAM$hyperparametertuning$POS_ganancia <- 273000\n",
    "PARAM$hyperparametertuning$NEG_ganancia <- -7000\n",
    "\n",
    "# Aqui va semilla\n",
    "PARAM$lgb_semilla <- 279571"
   ]
  },
  {
   "cell_type": "code",
   "execution_count": 93,
   "metadata": {
    "vscode": {
     "languageId": "r"
    }
   },
   "outputs": [],
   "source": [
    "# Hiperparametros FIJOS de  lightgbm\n",
    "PARAM$lgb_basicos <- list(\n",
    "  boosting = \"gbdt\", # puede ir  dart  , ni pruebe random_forest\n",
    "  objective = \"binary\",\n",
    "  metric = \"custom\",\n",
    "  first_metric_only = TRUE,\n",
    "  boost_from_average = TRUE,\n",
    "  feature_pre_filter = FALSE,\n",
    "  force_row_wise = TRUE, # para reducir warnings\n",
    "  verbosity = -100,\n",
    "  max_depth = -1L, # -1 significa no limitar,  por ahora lo dejo fijo\n",
    "  min_gain_to_split = 0.0, # min_gain_to_split >= 0.0\n",
    "  min_sum_hessian_in_leaf = 0.001, #  min_sum_hessian_in_leaf >= 0.0\n",
    "  lambda_l1 = 0.0, # lambda_l1 >= 0.0\n",
    "  lambda_l2 = 0.0, # lambda_l2 >= 0.0\n",
    "  max_bin = 31L, # lo debo dejar fijo, no participa de la BO\n",
    "  num_iterations = 9999, # un numero muy grande, lo limita early_stopping_rounds\n",
    "\n",
    "  bagging_fraction = 1.0, # 0.0 < bagging_fraction <= 1.0\n",
    "  pos_bagging_fraction = 1.0, # 0.0 < pos_bagging_fraction <= 1.0\n",
    "  neg_bagging_fraction = 1.0, # 0.0 < neg_bagging_fraction <= 1.0\n",
    "  is_unbalance = FALSE, #\n",
    "  scale_pos_weight = 1.0, # scale_pos_weight > 0.0\n",
    "\n",
    "  drop_rate = 0.1, # 0.0 < neg_bagging_fraction <= 1.0\n",
    "  max_drop = 50, # <=0 means no limit\n",
    "  skip_drop = 0.5, # 0.0 <= skip_drop <= 1.0\n",
    "\n",
    "  extra_trees = TRUE, # Magic Sauce\n",
    "\n",
    "  seed = PARAM$lgb_semilla\n",
    ")"
   ]
  },
  {
   "cell_type": "code",
   "execution_count": 94,
   "metadata": {
    "vscode": {
     "languageId": "r"
    }
   },
   "outputs": [],
   "source": [
    "# Aqui se cargan los hiperparametros que se optimizan\n",
    "#  en la Bayesian Optimization\n",
    "PARAM$bo_lgb <- makeParamSet(\n",
    "  makeNumericParam(\"learning_rate\", lower = 0.02, upper = 0.3),\n",
    "  makeNumericParam(\"feature_fraction\", lower = 0.01, upper = 1.0),\n",
    "  makeIntegerParam(\"num_leaves\", lower = 8L, upper = 1024L),\n",
    "  makeIntegerParam(\"min_data_in_leaf\", lower = 100L, upper = 50000L)\n",
    ")\n",
    "\n",
    "# si usted es ambicioso, y tiene paciencia, podria subir este valor a 100\n",
    "PARAM$bo_iteraciones <- 50 # iteraciones de la Optimizacion Bayesiana"
   ]
  },
  {
   "cell_type": "code",
   "execution_count": 95,
   "metadata": {
    "vscode": {
     "languageId": "r"
    }
   },
   "outputs": [],
   "source": [
    "# graba a un archivo los componentes de lista\n",
    "# para el primer registro, escribe antes los titulos\n",
    "\n",
    "loguear <- function(\n",
    "    reg, arch = NA, folder = \"./exp/\",\n",
    "    ext = \".txt\", verbose = TRUE) {\n",
    "  archivo <- arch\n",
    "  if (is.na(arch)) archivo <- paste0(folder, substitute(reg), ext)\n",
    "\n",
    "  if (!file.exists(archivo)) # Escribo los titulos\n",
    "    {\n",
    "      linea <- paste0(\n",
    "        \"fecha\\t\",\n",
    "        paste(list.names(reg), collapse = \"\\t\"), \"\\n\"\n",
    "      )\n",
    "\n",
    "      cat(linea, file = archivo)\n",
    "    }\n",
    "\n",
    "  linea <- paste0(\n",
    "    format(Sys.time(), \"%Y%m%d %H%M%S\"), \"\\t\", # la fecha y hora\n",
    "    gsub(\", \", \"\\t\", toString(reg)), \"\\n\"\n",
    "  )\n",
    "\n",
    "  cat(linea, file = archivo, append = TRUE) # grabo al archivo\n",
    "\n",
    "  if (verbose) cat(linea) # imprimo por pantalla\n",
    "}"
   ]
  },
  {
   "cell_type": "code",
   "execution_count": 96,
   "metadata": {
    "vscode": {
     "languageId": "r"
    }
   },
   "outputs": [],
   "source": [
    "#------------------------------------------------------------------------------\n",
    "GLOBAL_arbol <- 0L\n",
    "GLOBAL_gan_max <- -Inf\n",
    "vcant_optima <- c()\n",
    "\n",
    "fganancia_lgbm_meseta <- function(probs, datos) {\n",
    "  vlabels <- get_field(datos, \"label\")\n",
    "  vpesos <- get_field(datos, \"weight\")\n",
    "\n",
    "\n",
    "  GLOBAL_arbol <<- GLOBAL_arbol + 1\n",
    "  tbl <- as.data.table(list(\n",
    "    \"prob\" = probs,\n",
    "    \"gan\" = ifelse(vlabels == 1 & vpesos > 1,\n",
    "      PARAM$hyperparametertuning$POS_ganancia,\n",
    "      PARAM$hyperparametertuning$NEG_ganancia  )\n",
    "  ))\n",
    "\n",
    "  setorder(tbl, -prob)\n",
    "  tbl[, posicion := .I]\n",
    "  tbl[, gan_acum := cumsum(gan)]\n",
    "\n",
    "  tbl[, gan_suavizada :=\n",
    "    frollmean(\n",
    "      x = gan_acum, n = 2001, align = \"center\",\n",
    "      na.rm = TRUE, hasNA = TRUE\n",
    "    )]\n",
    "\n",
    "  gan <- tbl[, max(gan_suavizada, na.rm = TRUE)]\n",
    "\n",
    "\n",
    "  pos <- which.max(tbl[, gan_suavizada])\n",
    "  vcant_optima <<- c(vcant_optima, pos)\n",
    "\n",
    "  if (GLOBAL_arbol %% 10 == 0) {\n",
    "    if (gan > GLOBAL_gan_max) GLOBAL_gan_max <<- gan\n",
    "\n",
    "    cat(\"\\r\")\n",
    "    cat(\n",
    "      \"Validate \", GLOBAL_iteracion, \" \", \" \",\n",
    "      GLOBAL_arbol, \"  \", gan, \"   \", GLOBAL_gan_max, \"   \"\n",
    "    )\n",
    "  }\n",
    "\n",
    "\n",
    "  return(list(\n",
    "    \"name\" = \"ganancia\",\n",
    "    \"value\" = gan,\n",
    "    \"higher_better\" = TRUE\n",
    "  ))\n",
    "}"
   ]
  },
  {
   "cell_type": "code",
   "execution_count": 97,
   "metadata": {
    "vscode": {
     "languageId": "r"
    }
   },
   "outputs": [],
   "source": [
    "#------------------------------------------------------------------------------\n",
    "\n",
    "EstimarGanancia_lightgbm <- function(x) {\n",
    "  gc()\n",
    "  GLOBAL_iteracion <<- GLOBAL_iteracion + 1L\n",
    "\n",
    "  # hago la union de los parametros basicos y los moviles que vienen en x\n",
    "  param_completo <- c(PARAM$lgb_basicos, x)\n",
    "\n",
    "  param_completo$early_stopping_rounds <-\n",
    "    as.integer(400 + 4 / param_completo$learning_rate)\n",
    "\n",
    "  GLOBAL_arbol <<- 0L\n",
    "  GLOBAL_gan_max <<- -Inf\n",
    "  vcant_optima <<- c()\n",
    "  set.seed(PARAM$lgb_semilla, kind = \"L'Ecuyer-CMRG\")\n",
    "  modelo_train <- lgb.train(\n",
    "    data = dtrain,\n",
    "    valids = list(valid = dvalidate),\n",
    "    eval = fganancia_lgbm_meseta,\n",
    "    param = param_completo,\n",
    "    verbose = -100\n",
    "  )\n",
    "\n",
    "  cat(\"\\n\")\n",
    "\n",
    "  cant_corte <- vcant_optima[modelo_train$best_iter]\n",
    "\n",
    "  # aplico el modelo a testing y calculo la ganancia\n",
    "  prediccion <- predict(\n",
    "    modelo_train,\n",
    "    data.matrix(dataset_test[, campos_buenos, with = FALSE])\n",
    "  )\n",
    "\n",
    "  tbl <- copy(dataset_test[, list(\"gan\" = ifelse(clase_ternaria == \"BAJA+2\",\n",
    "    PARAM$hyperparametertuning$POS_ganancia, \n",
    "    PARAM$hyperparametertuning$NEG_ganancia))])\n",
    "\n",
    "  tbl[, prob := prediccion]\n",
    "  setorder(tbl, -prob)\n",
    "  tbl[, gan_acum := cumsum(gan)]\n",
    "  tbl[, gan_suavizada := frollmean(\n",
    "    x = gan_acum, n = 2001,\n",
    "    align = \"center\", na.rm = TRUE, hasNA = TRUE\n",
    "  )]\n",
    "\n",
    "\n",
    "  ganancia_test <- tbl[, max(gan_suavizada, na.rm = TRUE)]\n",
    "\n",
    "  cantidad_test_normalizada <- which.max(tbl[, gan_suavizada])\n",
    "\n",
    "  rm(tbl)\n",
    "  gc()\n",
    "\n",
    "  ganancia_test_normalizada <- ganancia_test\n",
    "\n",
    "\n",
    "  # voy grabando las mejores column importance\n",
    "  if (ganancia_test_normalizada > GLOBAL_gananciamax) {\n",
    "    GLOBAL_gananciamax <<- ganancia_test_normalizada\n",
    "    tb_importancia <- as.data.table(lgb.importance(modelo_train))\n",
    "\n",
    "    fwrite(tb_importancia,\n",
    "      file = paste0(\"impo_\", sprintf(\"%03d\", GLOBAL_iteracion), \".txt\"),\n",
    "      sep = \"\\t\"\n",
    "    )\n",
    "\n",
    "    rm(tb_importancia)\n",
    "  }\n",
    "\n",
    "\n",
    "  # logueo final\n",
    "  ds <- list(\"cols\" = ncol(dtrain), \"rows\" = nrow(dtrain))\n",
    "  xx <- c(ds, copy(param_completo))\n",
    "\n",
    "  xx$early_stopping_rounds <- NULL\n",
    "  xx$num_iterations <- modelo_train$best_iter\n",
    "  xx$estimulos <- cantidad_test_normalizada\n",
    "  xx$ganancia <- ganancia_test_normalizada\n",
    "  xx$iteracion_bayesiana <- GLOBAL_iteracion\n",
    "\n",
    "  loguear(xx, arch = \"BO_log.txt\")\n",
    "\n",
    "  set.seed(PARAM$lgb_semilla, kind = \"L'Ecuyer-CMRG\")\n",
    "  return(ganancia_test_normalizada)\n",
    "}"
   ]
  },
  {
   "cell_type": "markdown",
   "metadata": {},
   "source": [
    "## Aquí empieza el programa"
   ]
  },
  {
   "cell_type": "code",
   "execution_count": 98,
   "metadata": {
    "vscode": {
     "languageId": "r"
    }
   },
   "outputs": [],
   "source": [
    "# Aqui empieza el programa\n",
    "\n",
    "# Aqui se debe poner la carpeta de la computadora local\n",
    "setwd(\"~/buckets/b1/\") # Establezco el Working Directory\n",
    "\n",
    "# cargo el dataset donde voy a entrenar el modelo\n",
    "dataset <- fread(PARAM$input$dataset)"
   ]
  },
  {
   "cell_type": "code",
   "execution_count": 99,
   "metadata": {
    "vscode": {
     "languageId": "r"
    }
   },
   "outputs": [],
   "source": [
    "# creo la carpeta donde va el experimento\n",
    "dir.create(\"./exp/\", showWarnings = FALSE)\n",
    "dir.create(paste0(\"./exp/\", PARAM$experimento, \"/\"), showWarnings = FALSE)\n",
    "\n",
    "# Establezco el Working Directory DEL EXPERIMENTO\n",
    "setwd(paste0(\"./exp/\", PARAM$experimento, \"/\"))\n",
    "\n",
    "# en estos archivos quedan los resultados\n",
    "kbayesiana <- paste0(PARAM$experimento, \".RDATA\")\n",
    "klog <- paste0(PARAM$experimento, \".txt\")\n"
   ]
  },
  {
   "cell_type": "code",
   "execution_count": 100,
   "metadata": {
    "vscode": {
     "languageId": "r"
    }
   },
   "outputs": [],
   "source": [
    "# Catastrophe Analysis  -------------------------------------------------------\n",
    "# deben ir cosas de este estilo\n",
    "#   dataset[foto_mes == 202006, active_quarter := NA]\n",
    "\n",
    "# Data Drifting\n",
    "# por ahora, no hago nada\n",
    "\n",
    "\n",
    "# Feature Engineering Historico  ----------------------------------------------\n",
    "#   aqui deben calcularse los  lags y  lag_delta\n",
    "#   Sin lags no hay paraiso !  corta la bocha"
   ]
  },
  {
   "cell_type": "code",
   "execution_count": null,
   "metadata": {
    "vscode": {
     "languageId": "r"
    }
   },
   "outputs": [],
   "source": []
  },
  {
   "cell_type": "code",
   "execution_count": 101,
   "metadata": {
    "vscode": {
     "languageId": "r"
    }
   },
   "outputs": [],
   "source": [
    "# ahora SI comienza la optimizacion Bayesiana\n",
    "\n",
    "GLOBAL_iteracion <- 0 # inicializo la variable global\n",
    "GLOBAL_gananciamax <- -1 # inicializo la variable global\n",
    "\n",
    "# si ya existe el archivo log, traigo hasta donde llegue\n",
    "if (file.exists(klog)) {\n",
    "  tabla_log <- fread(klog)\n",
    "  GLOBAL_iteracion <- nrow(tabla_log)\n",
    "  GLOBAL_gananciamax <- tabla_log[, max(ganancia)]\n",
    "}\n"
   ]
  },
  {
   "cell_type": "code",
   "execution_count": 102,
   "metadata": {
    "vscode": {
     "languageId": "r"
    }
   },
   "outputs": [],
   "source": [
    "# paso la clase a binaria que tome valores {0,1}  enteros\n",
    "dataset[, clase01 := ifelse(clase_ternaria == \"CONTINUA\", 0L, 1L)]\n",
    "\n",
    "\n",
    "# los campos que se van a utilizar\n",
    "campos_buenos <- setdiff(\n",
    "  colnames(dataset),\n",
    "  c(\"clase_ternaria\", \"clase01\", \"azar\", \"training\")\n",
    ")"
   ]
  },
  {
   "cell_type": "code",
   "execution_count": 103,
   "metadata": {
    "vscode": {
     "languageId": "r"
    }
   },
   "outputs": [],
   "source": [
    "# defino los datos que forma parte del training\n",
    "# aqui se hace el undersampling de los CONTINUA\n",
    "set.seed(PARAM$trainingstrategy$semilla_azar)\n",
    "dataset[, azar := runif(nrow(dataset))]\n",
    "dataset[, training := 0L]\n",
    "dataset[\n",
    "  foto_mes %in% PARAM$input$training &\n",
    "    (azar <= PARAM$trainingstrategy$undersampling | clase_ternaria %in% c(\"BAJA+1\", \"BAJA+2\")),\n",
    "  training := 1L\n",
    "]"
   ]
  },
  {
   "cell_type": "code",
   "execution_count": 104,
   "metadata": {
    "vscode": {
     "languageId": "r"
    }
   },
   "outputs": [],
   "source": [
    "# dejo los datos en el formato que necesita LightGBM\n",
    "dtrain <- lgb.Dataset(\n",
    "  data = data.matrix(dataset[training == 1L, campos_buenos, with = FALSE]),\n",
    "  label = dataset[training == 1L, clase01],\n",
    "  weight = dataset[training == 1L, \n",
    "    ifelse(clase_ternaria == \"BAJA+2\", 1.0000001, \n",
    "      ifelse(clase_ternaria == \"BAJA+1\", 1.0, 1.0))],\n",
    "  free_raw_data = FALSE\n",
    ")"
   ]
  },
  {
   "cell_type": "code",
   "execution_count": 105,
   "metadata": {
    "vscode": {
     "languageId": "r"
    }
   },
   "outputs": [],
   "source": [
    "# defino los datos que forman parte de validation\n",
    "#  no hay undersampling\n",
    "dataset[, validation := 0L]\n",
    "dataset[ foto_mes %in% PARAM$input$validation,  validation := 1L]\n",
    "\n",
    "dvalidate <- lgb.Dataset(\n",
    "  data = data.matrix(dataset[validation == 1L, campos_buenos, with = FALSE]),\n",
    "  label = dataset[validation == 1L, clase01],\n",
    "  weight = dataset[validation == 1L, \n",
    "    ifelse(clase_ternaria == \"BAJA+2\", 1.0000001, \n",
    "      ifelse(clase_ternaria == \"BAJA+1\", 1.0, 1.0))],\n",
    "  free_raw_data = FALSE\n",
    ")"
   ]
  },
  {
   "cell_type": "code",
   "execution_count": 106,
   "metadata": {
    "vscode": {
     "languageId": "r"
    }
   },
   "outputs": [],
   "source": [
    "# defino los datos de testing\n",
    "dataset[, testing := 0L]\n",
    "dataset[ foto_mes %in% PARAM$input$testing,  testing := 1L]\n",
    "\n",
    "\n",
    "dataset_test <- dataset[testing == 1, ]"
   ]
  },
  {
   "cell_type": "code",
   "execution_count": 107,
   "metadata": {
    "vscode": {
     "languageId": "r"
    }
   },
   "outputs": [
    {
     "data": {
      "text/html": [
       "<table class=\"dataframe\">\n",
       "<caption>A matrix: 2 × 6 of type dbl</caption>\n",
       "<thead>\n",
       "\t<tr><th></th><th scope=col>used</th><th scope=col>(Mb)</th><th scope=col>gc trigger</th><th scope=col>(Mb)</th><th scope=col>max used</th><th scope=col>(Mb)</th></tr>\n",
       "</thead>\n",
       "<tbody>\n",
       "\t<tr><th scope=row>Ncells</th><td>  2540153</td><td> 135.7</td><td>   8200216</td><td>  438.0</td><td>  22909774</td><td> 1223.6</td></tr>\n",
       "\t<tr><th scope=row>Vcells</th><td>783963659</td><td>5981.2</td><td>4478352979</td><td>34167.2</td><td>6843588264</td><td>52212.5</td></tr>\n",
       "</tbody>\n",
       "</table>\n"
      ],
      "text/latex": [
       "A matrix: 2 × 6 of type dbl\n",
       "\\begin{tabular}{r|llllll}\n",
       "  & used & (Mb) & gc trigger & (Mb) & max used & (Mb)\\\\\n",
       "\\hline\n",
       "\tNcells &   2540153 &  135.7 &    8200216 &   438.0 &   22909774 &  1223.6\\\\\n",
       "\tVcells & 783963659 & 5981.2 & 4478352979 & 34167.2 & 6843588264 & 52212.5\\\\\n",
       "\\end{tabular}\n"
      ],
      "text/markdown": [
       "\n",
       "A matrix: 2 × 6 of type dbl\n",
       "\n",
       "| <!--/--> | used | (Mb) | gc trigger | (Mb) | max used | (Mb) |\n",
       "|---|---|---|---|---|---|---|\n",
       "| Ncells |   2540153 |  135.7 |    8200216 |   438.0 |   22909774 |  1223.6 |\n",
       "| Vcells | 783963659 | 5981.2 | 4478352979 | 34167.2 | 6843588264 | 52212.5 |\n",
       "\n"
      ],
      "text/plain": [
       "       used      (Mb)   gc trigger (Mb)    max used   (Mb)   \n",
       "Ncells   2540153  135.7    8200216   438.0   22909774  1223.6\n",
       "Vcells 783963659 5981.2 4478352979 34167.2 6843588264 52212.5"
      ]
     },
     "metadata": {},
     "output_type": "display_data"
    }
   ],
   "source": [
    "# libero espacio\n",
    "rm(dataset)\n",
    "gc()"
   ]
  },
  {
   "cell_type": "code",
   "execution_count": 108,
   "metadata": {
    "vscode": {
     "languageId": "r"
    }
   },
   "outputs": [],
   "source": [
    "# Aqui comienza la configuracion de la Bayesian Optimization\n",
    "funcion_optimizar <- EstimarGanancia_lightgbm # la funcion que voy a maximizar\n",
    "\n",
    "configureMlr(show.learner.output = FALSE)\n",
    "\n",
    "# configuro la busqueda bayesiana,  los hiperparametros que se van a optimizar\n",
    "# por favor, no desesperarse por lo complejo\n",
    "obj.fun <- makeSingleObjectiveFunction(\n",
    "  fn = funcion_optimizar, # la funcion que voy a maximizar\n",
    "  minimize = FALSE, # estoy Maximizando la ganancia\n",
    "  noisy = TRUE,\n",
    "  par.set = PARAM$bo_lgb, # definido al comienzo del programa\n",
    "  has.simple.signature = FALSE # paso los parametros en una lista\n",
    ")\n",
    "\n",
    "# cada 600 segundos guardo el resultado intermedio\n",
    "ctrl <- makeMBOControl(\n",
    "  save.on.disk.at.time = 600, # se graba cada 600 segundos\n",
    "  save.file.path = kbayesiana\n",
    ") # se graba cada 600 segundos\n",
    "\n",
    "# indico la cantidad de iteraciones que va a tener la Bayesian Optimization\n",
    "ctrl <- setMBOControlTermination(\n",
    "  ctrl,\n",
    "  iters = PARAM$bo_iteraciones\n",
    ") # cantidad de iteraciones\n",
    "\n",
    "# defino el método estandar para la creacion de los puntos iniciales,\n",
    "# los \"No Inteligentes\"\n",
    "ctrl <- setMBOControlInfill(ctrl, crit = makeMBOInfillCritEI())\n",
    "\n",
    "\n",
    "# establezco la funcion que busca el maximo\n",
    "surr.km <- makeLearner(\n",
    "  \"regr.km\",\n",
    "  predict.type = \"se\",\n",
    "  covtype = \"matern3_2\",\n",
    "  control = list(trace = TRUE)\n",
    ")"
   ]
  },
  {
   "cell_type": "code",
   "execution_count": 109,
   "metadata": {
    "vscode": {
     "languageId": "r"
    }
   },
   "outputs": [
    {
     "name": "stderr",
     "output_type": "stream",
     "text": [
      "Computing y column(s) for design. Not provided.\n",
      "\n"
     ]
    },
    {
     "name": "stdout",
     "output_type": "stream",
     "text": [
      "Validate  1     450    101071331     101894277    \n",
      "20231105 033021\t602\t976271\tgbdt\tbinary\tcustom\tTRUE\tTRUE\tFALSE\tTRUE\t-100\t-1\t0\t0.001\t0\t0\t31\t21\t1\t1\t1\tFALSE\t1\t0.1\t50\t0.5\tTRUE\t279571\t0.129464825580638\t0.589979261678396\t603\t34060\t17820\t125453923.038481\t1\n",
      "Validate  2     1580    104856019     108093608    \n",
      "20231105 034108\t602\t976271\tgbdt\tbinary\tcustom\tTRUE\tTRUE\tFALSE\tTRUE\t-100\t-1\t0\t0.001\t0\t0\t31\t1129\t1\t1\t1\tFALSE\t1\t0.1\t50\t0.5\tTRUE\t279571\t0.0661204550073144\t0.306758356069939\t135\t27020\t13040\t144980389.805097\t2\n",
      "Validate  3     1050    102038409     106316203    \n",
      "20231105 034600\t602\t976271\tgbdt\tbinary\tcustom\tTRUE\tTRUE\tFALSE\tTRUE\t-100\t-1\t0\t0.001\t0\t0\t31\t623\t1\t1\t1\tFALSE\t1\t0.1\t50\t0.5\tTRUE\t279571\t0.113019156746563\t0.722689286671374\t381\t28634\t14888\t140793515.242379\t3\n",
      "Validate  4     720    99146622     100909366     \n",
      "20231105 034915\t602\t976271\tgbdt\tbinary\tcustom\tTRUE\tTRUE\tFALSE\tTRUE\t-100\t-1\t0\t0.001\t0\t0\t31\t306\t1\t1\t1\tFALSE\t1\t0.1\t50\t0.5\tTRUE\t279571\t0.175678618850921\t0.0837276906739244\t542\t6859\t13463\t130259389.805097\t4\n",
      "Validate  5     550    103787412     106586852    \n",
      "20231105 035309\t602\t976271\tgbdt\tbinary\tcustom\tTRUE\tTRUE\tFALSE\tTRUE\t-100\t-1\t0\t0.001\t0\t0\t31\t140\t1\t1\t1\tFALSE\t1\t0.1\t50\t0.5\tTRUE\t279571\t0.275198918823473\t0.32486327912462\t723\t16035\t11477\t131711954.522739\t5\n",
      "Validate  6     1020    101951813     105239574    \n",
      "20231105 035844\t602\t976271\tgbdt\tbinary\tcustom\tTRUE\tTRUE\tFALSE\tTRUE\t-100\t-1\t0\t0.001\t0\t0\t31\t598\t1\t1\t1\tFALSE\t1\t0.1\t50\t0.5\tTRUE\t279571\t0.152941050471095\t0.645387167052228\t502\t12627\t14047\t136164073.463268\t6\n",
      "Validate  7     840    102708737     104708774    \n",
      "20231105 040220\t602\t976271\tgbdt\tbinary\tcustom\tTRUE\tTRUE\tFALSE\tTRUE\t-100\t-1\t0\t0.001\t0\t0\t31\t426\t1\t1\t1\tFALSE\t1\t0.1\t50\t0.5\tTRUE\t279571\t0.19416275426125\t0.794035319192328\t845\t42464\t13769\t144125665.667166\t7\n",
      "Validate  8     850    99683481     102366177     \n",
      "20231105 040639\t602\t976271\tgbdt\tbinary\tcustom\tTRUE\tTRUE\tFALSE\tTRUE\t-100\t-1\t0\t0.001\t0\t0\t31\t437\t1\t1\t1\tFALSE\t1\t0.1\t50\t0.5\tTRUE\t279571\t0.208330530396255\t0.164289977450783\t938\t38948\t13358\t138185954.022988\t8\n",
      "Validate  9     620    103370200     106267868    \n",
      "20231105 041211\t602\t976271\tgbdt\tbinary\tcustom\tTRUE\tTRUE\tFALSE\tTRUE\t-100\t-1\t0\t0.001\t0\t0\t31\t80\t1\t1\t1\tFALSE\t1\t0.1\t50\t0.5\tTRUE\t279571\t0.0267066953639716\t0.560570734105559\t306\t19296\t15517\t134700720.13993\t9\n",
      "Validate  10     920    99622223     104819427     \n",
      "20231105 041617\t602\t976271\tgbdt\tbinary\tcustom\tTRUE\tTRUE\tFALSE\tTRUE\t-100\t-1\t0\t0.001\t0\t0\t31\t510\t1\t1\t1\tFALSE\t1\t0.1\t50\t0.5\tTRUE\t279571\t0.221560927090974\t0.826648094024347\t31\t34846\t13664\t137423384.307846\t10\n",
      "Validate  11     660    106015899     109769029    \n",
      "20231105 042251\t602\t976271\tgbdt\tbinary\tcustom\tTRUE\tTRUE\tFALSE\tTRUE\t-100\t-1\t0\t0.001\t0\t0\t31\t219\t1\t1\t1\tFALSE\t1\t0.1\t50\t0.5\tTRUE\t279571\t0.0852503757905397\t0.925651702728775\t683\t1679\t12550\t148740484.757621\t11\n",
      "Validate  12     580    98458673     101347480     \n",
      "20231105 042602\t602\t976271\tgbdt\tbinary\tcustom\tTRUE\tTRUE\tFALSE\tTRUE\t-100\t-1\t0\t0.001\t0\t0\t31\t103\t1\t1\t1\tFALSE\t1\t0.1\t50\t0.5\tTRUE\t279571\t0.0506736029737185\t0.207218508431007\t246\t49507\t13349\t117907884.557721\t12\n",
      "Validate  13     480    99618277     104596375     \n",
      "20231105 042853\t602\t976271\tgbdt\tbinary\tcustom\tTRUE\tTRUE\tFALSE\tTRUE\t-100\t-1\t0\t0.001\t0\t0\t31\t73\t1\t1\t1\tFALSE\t1\t0.1\t50\t0.5\tTRUE\t279571\t0.241211629895149\t0.979385213098052\t981\t9632\t13482\t143181582.208896\t13\n",
      "Validate  14     780    96738811     103707806     \n",
      "20231105 043441\t602\t976271\tgbdt\tbinary\tcustom\tTRUE\tTRUE\tFALSE\tTRUE\t-100\t-1\t0\t0.001\t0\t0\t31\t367\t1\t1\t1\tFALSE\t1\t0.1\t50\t0.5\tTRUE\t279571\t0.289686593103062\t0.413139080222854\t417\t43892\t12408\t135391796.101949\t14\n",
      "Validate  15     750    99083321     101991592     \n",
      "20231105 043714\t602\t976271\tgbdt\tbinary\tcustom\tTRUE\tTRUE\tFALSE\tTRUE\t-100\t-1\t0\t0.001\t0\t0\t31\t342\t1\t1\t1\tFALSE\t1\t0.1\t50\t0.5\tTRUE\t279571\t0.260954398056728\t0.0272621639125061\t107\t5794\t12859\t134320173.413293\t15\n",
      "Validate  16     1080    106642345     107949673    \n",
      "20231105 044601\t602\t976271\tgbdt\tbinary\tcustom\tTRUE\tTRUE\tFALSE\tTRUE\t-100\t-1\t0\t0.001\t0\t0\t31\t643\t1\t1\t1\tFALSE\t1\t0.1\t50\t0.5\tTRUE\t279571\t0.0917235747127569\t0.46677263015138\t785\t24824\t15920\t141935512.243878\t16\n"
     ]
    },
    {
     "name": "stderr",
     "output_type": "stream",
     "text": [
      "[mbo] 0: learning_rate=0.129; feature_fraction=0.59; num_leaves=603; min_data_in_leaf=34060 : y = 1.25e+08 : 216.5 secs : initdesign\n",
      "\n",
      "[mbo] 0: learning_rate=0.0661; feature_fraction=0.307; num_leaves=135; min_data_in_leaf=27020 : y = 1.45e+08 : 646.3 secs : initdesign\n",
      "\n",
      "[mbo] 0: learning_rate=0.113; feature_fraction=0.723; num_leaves=381; min_data_in_leaf=28634 : y = 1.41e+08 : 292.3 secs : initdesign\n",
      "\n",
      "[mbo] 0: learning_rate=0.176; feature_fraction=0.0837; num_leaves=542; min_data_in_leaf=6859 : y = 1.3e+08 : 194.7 secs : initdesign\n",
      "\n",
      "[mbo] 0: learning_rate=0.275; feature_fraction=0.325; num_leaves=723; min_data_in_leaf=16035 : y = 1.32e+08 : 234.8 secs : initdesign\n",
      "\n",
      "[mbo] 0: learning_rate=0.153; feature_fraction=0.645; num_leaves=502; min_data_in_leaf=12627 : y = 1.36e+08 : 334.6 secs : initdesign\n",
      "\n",
      "[mbo] 0: learning_rate=0.194; feature_fraction=0.794; num_leaves=845; min_data_in_leaf=42464 : y = 1.44e+08 : 216.4 secs : initdesign\n",
      "\n",
      "[mbo] 0: learning_rate=0.208; feature_fraction=0.164; num_leaves=938; min_data_in_leaf=38948 : y = 1.38e+08 : 258.6 secs : initdesign\n",
      "\n",
      "[mbo] 0: learning_rate=0.0267; feature_fraction=0.561; num_leaves=306; min_data_in_leaf=19296 : y = 1.35e+08 : 331.4 secs : initdesign\n",
      "\n",
      "[mbo] 0: learning_rate=0.222; feature_fraction=0.827; num_leaves=31; min_data_in_leaf=34846 : y = 1.37e+08 : 246.1 secs : initdesign\n",
      "\n",
      "[mbo] 0: learning_rate=0.0853; feature_fraction=0.926; num_leaves=683; min_data_in_leaf=1679 : y = 1.49e+08 : 394.1 secs : initdesign\n",
      "\n",
      "[mbo] 0: learning_rate=0.0507; feature_fraction=0.207; num_leaves=246; min_data_in_leaf=49507 : y = 1.18e+08 : 191.2 secs : initdesign\n",
      "\n",
      "[mbo] 0: learning_rate=0.241; feature_fraction=0.979; num_leaves=981; min_data_in_leaf=9632 : y = 1.43e+08 : 171.2 secs : initdesign\n",
      "\n",
      "[mbo] 0: learning_rate=0.29; feature_fraction=0.413; num_leaves=417; min_data_in_leaf=43892 : y = 1.35e+08 : 347.9 secs : initdesign\n",
      "\n",
      "[mbo] 0: learning_rate=0.261; feature_fraction=0.0273; num_leaves=107; min_data_in_leaf=5794 : y = 1.34e+08 : 153.1 secs : initdesign\n",
      "\n",
      "[mbo] 0: learning_rate=0.0917; feature_fraction=0.467; num_leaves=785; min_data_in_leaf=24824 : y = 1.42e+08 : 527.3 secs : initdesign\n",
      "\n",
      "Saved the current state after iteration 1 in the file HT8230 (Clase 12, Base Sem5).RDATA.\n",
      "\n"
     ]
    },
    {
     "name": "stdout",
     "output_type": "stream",
     "text": [
      "Validate  17     600    106063195     108921147    \n",
      "20231105 045033\t602\t976271\tgbdt\tbinary\tcustom\tTRUE\tTRUE\tFALSE\tTRUE\t-100\t-1\t0\t0.001\t0\t0\t31\t182\t1\t1\t1\tFALSE\t1\t0.1\t50\t0.5\tTRUE\t279571\t0.145277613098609\t0.953163183403902\t773\t3126\t14307\t138429330.834583\t17\n"
     ]
    },
    {
     "name": "stderr",
     "output_type": "stream",
     "text": [
      "[mbo] 1: learning_rate=0.145; feature_fraction=0.953; num_leaves=773; min_data_in_leaf=3126 : y = 1.38e+08 : 269.8 secs : infill_ei\n",
      "\n"
     ]
    },
    {
     "name": "stdout",
     "output_type": "stream",
     "text": [
      "Validate  18     790    113331483     115343205    \n",
      "20231105 045747\t602\t976271\tgbdt\tbinary\tcustom\tTRUE\tTRUE\tFALSE\tTRUE\t-100\t-1\t0\t0.001\t0\t0\t31\t329\t1\t1\t1\tFALSE\t1\t0.1\t50\t0.5\tTRUE\t279571\t0.0650125942737353\t0.918932040316242\t631\t1379\t12517\t146588336.331834\t18\n"
     ]
    },
    {
     "name": "stderr",
     "output_type": "stream",
     "text": [
      "[mbo] 2: learning_rate=0.065; feature_fraction=0.919; num_leaves=631; min_data_in_leaf=1379 : y = 1.47e+08 : 433.0 secs : infill_ei\n",
      "\n",
      "Saved the current state after iteration 3 in the file HT8230 (Clase 12, Base Sem5).RDATA.\n",
      "\n"
     ]
    },
    {
     "name": "stdout",
     "output_type": "stream",
     "text": [
      "Validate  19     660    106537131     113590329    \n",
      "20231105 050358\t602\t976271\tgbdt\tbinary\tcustom\tTRUE\tTRUE\tFALSE\tTRUE\t-100\t-1\t0\t0.001\t0\t0\t31\t223\t1\t1\t1\tFALSE\t1\t0.1\t50\t0.5\tTRUE\t279571\t0.0881785155315181\t0.960726132381124\t952\t1386\t12795\t143941286.856572\t19\n"
     ]
    },
    {
     "name": "stderr",
     "output_type": "stream",
     "text": [
      "[mbo] 3: learning_rate=0.0882; feature_fraction=0.961; num_leaves=952; min_data_in_leaf=1386 : y = 1.44e+08 : 368.5 secs : infill_ei\n",
      "\n"
     ]
    },
    {
     "name": "stdout",
     "output_type": "stream",
     "text": [
      "Validate  20     900    106193852     111138094    \n",
      "20231105 051139\t602\t976271\tgbdt\tbinary\tcustom\tTRUE\tTRUE\tFALSE\tTRUE\t-100\t-1\t0\t0.001\t0\t0\t31\t474\t1\t1\t1\tFALSE\t1\t0.1\t50\t0.5\tTRUE\t279571\t0.126511439542266\t0.860568973906153\t477\t1848\t14035\t138818448.275862\t20\n"
     ]
    },
    {
     "name": "stderr",
     "output_type": "stream",
     "text": [
      "[mbo] 4: learning_rate=0.127; feature_fraction=0.861; num_leaves=477; min_data_in_leaf=1848 : y = 1.39e+08 : 460.7 secs : infill_ei\n",
      "\n",
      "Saved the current state after iteration 5 in the file HT8230 (Clase 12, Base Sem5).RDATA.\n",
      "\n"
     ]
    },
    {
     "name": "stdout",
     "output_type": "stream",
     "text": [
      "Validate  21     770    109063778     113706020    \n",
      "20231105 051750\t602\t976271\tgbdt\tbinary\tcustom\tTRUE\tTRUE\tFALSE\tTRUE\t-100\t-1\t0\t0.001\t0\t0\t31\t316\t1\t1\t1\tFALSE\t1\t0.1\t50\t0.5\tTRUE\t279571\t0.0732076181462335\t0.936008101170173\t326\t1783\t13999\t145032727.136432\t21\n"
     ]
    },
    {
     "name": "stderr",
     "output_type": "stream",
     "text": [
      "[mbo] 5: learning_rate=0.0732; feature_fraction=0.936; num_leaves=326; min_data_in_leaf=1783 : y = 1.45e+08 : 368.3 secs : infill_ei\n",
      "\n"
     ]
    },
    {
     "name": "stdout",
     "output_type": "stream",
     "text": [
      "Validate  22     860    110686676     113370646    \n",
      "20231105 052320\t602\t976271\tgbdt\tbinary\tcustom\tTRUE\tTRUE\tFALSE\tTRUE\t-100\t-1\t0\t0.001\t0\t0\t31\t415\t1\t1\t1\tFALSE\t1\t0.1\t50\t0.5\tTRUE\t279571\t0.0856283338735837\t0.922655909931714\t911\t6040\t13775\t143670732.133933\t22\n"
     ]
    },
    {
     "name": "stderr",
     "output_type": "stream",
     "text": [
      "[mbo] 6: learning_rate=0.0856; feature_fraction=0.923; num_leaves=911; min_data_in_leaf=6040 : y = 1.44e+08 : 329.2 secs : infill_ei\n",
      "\n",
      "Saved the current state after iteration 7 in the file HT8230 (Clase 12, Base Sem5).RDATA.\n",
      "\n"
     ]
    },
    {
     "name": "stdout",
     "output_type": "stream",
     "text": [
      "Validate  23     1320    105876329     107192896    \n",
      "20231105 053255\t602\t976271\tgbdt\tbinary\tcustom\tTRUE\tTRUE\tFALSE\tTRUE\t-100\t-1\t0\t0.001\t0\t0\t31\t872\t1\t1\t1\tFALSE\t1\t0.1\t50\t0.5\tTRUE\t279571\t0.0734781549639302\t0.354672861028219\t290\t25489\t11645\t145345869.565217\t23\n"
     ]
    },
    {
     "name": "stderr",
     "output_type": "stream",
     "text": [
      "[mbo] 7: learning_rate=0.0735; feature_fraction=0.355; num_leaves=290; min_data_in_leaf=25489 : y = 1.45e+08 : 571.6 secs : infill_ei\n",
      "\n"
     ]
    },
    {
     "name": "stdout",
     "output_type": "stream",
     "text": [
      "Validate  24     680    110141740     111590477    \n",
      "20231105 054113\t602\t976271\tgbdt\tbinary\tcustom\tTRUE\tTRUE\tFALSE\tTRUE\t-100\t-1\t0\t0.001\t0\t0\t31\t237\t1\t1\t1\tFALSE\t1\t0.1\t50\t0.5\tTRUE\t279571\t0.0823914371754087\t0.56211480143268\t628\t832\t13613\t140749839.58021\t24\n"
     ]
    },
    {
     "name": "stderr",
     "output_type": "stream",
     "text": [
      "[mbo] 8: learning_rate=0.0824; feature_fraction=0.562; num_leaves=628; min_data_in_leaf=832 : y = 1.41e+08 : 497.2 secs : infill_ei\n",
      "\n",
      "Saved the current state after iteration 9 in the file HT8230 (Clase 12, Base Sem5).RDATA.\n",
      "\n"
     ]
    },
    {
     "name": "stdout",
     "output_type": "stream",
     "text": [
      "Validate  25     1380    106229047     108468341    \n",
      "20231105 054814\t602\t976271\tgbdt\tbinary\tcustom\tTRUE\tTRUE\tFALSE\tTRUE\t-100\t-1\t0\t0.001\t0\t0\t31\t943\t1\t1\t1\tFALSE\t1\t0.1\t50\t0.5\tTRUE\t279571\t0.0853302457351968\t0.782803816798282\t217\t23755\t13094\t149616922.538731\t25\n"
     ]
    },
    {
     "name": "stderr",
     "output_type": "stream",
     "text": [
      "[mbo] 9: learning_rate=0.0853; feature_fraction=0.783; num_leaves=217; min_data_in_leaf=23755 : y = 1.5e+08 : 418.2 secs : infill_ei\n",
      "\n"
     ]
    },
    {
     "name": "stdout",
     "output_type": "stream",
     "text": [
      "Validate  26     860    104344435     107611322    \n",
      "20231105 055232\t602\t976271\tgbdt\tbinary\tcustom\tTRUE\tTRUE\tFALSE\tTRUE\t-100\t-1\t0\t0.001\t0\t0\t31\t418\t1\t1\t1\tFALSE\t1\t0.1\t50\t0.5\tTRUE\t279571\t0.0886236525354633\t0.979087365884409\t437\t20450\t12943\t148787105.947026\t26\n"
     ]
    },
    {
     "name": "stderr",
     "output_type": "stream",
     "text": [
      "[mbo] 10: learning_rate=0.0886; feature_fraction=0.979; num_leaves=437; min_data_in_leaf=20450 : y = 1.49e+08 : 256.8 secs : infill_ei\n",
      "\n",
      "Saved the current state after iteration 11 in the file HT8230 (Clase 12, Base Sem5).RDATA.\n",
      "\n"
     ]
    },
    {
     "name": "stdout",
     "output_type": "stream",
     "text": [
      "Validate  27     1320    106752078     109090785    \n",
      "20231105 055848\t602\t976271\tgbdt\tbinary\tcustom\tTRUE\tTRUE\tFALSE\tTRUE\t-100\t-1\t0\t0.001\t0\t0\t31\t881\t1\t1\t1\tFALSE\t1\t0.1\t50\t0.5\tTRUE\t279571\t0.0885543388488246\t0.994527332463557\t73\t25228\t11292\t146573451.274363\t27\n"
     ]
    },
    {
     "name": "stderr",
     "output_type": "stream",
     "text": [
      "[mbo] 11: learning_rate=0.0886; feature_fraction=0.995; num_leaves=73; min_data_in_leaf=25228 : y = 1.47e+08 : 373.3 secs : infill_ei\n",
      "\n"
     ]
    },
    {
     "name": "stdout",
     "output_type": "stream",
     "text": [
      "Validate  28     890    109656361     110818368    \n",
      "20231105 060422\t602\t976271\tgbdt\tbinary\tcustom\tTRUE\tTRUE\tFALSE\tTRUE\t-100\t-1\t0\t0.001\t0\t0\t31\t450\t1\t1\t1\tFALSE\t1\t0.1\t50\t0.5\tTRUE\t279571\t0.0940663666372314\t0.761667865826568\t158\t19952\t15220\t143449205.397301\t28\n"
     ]
    },
    {
     "name": "stderr",
     "output_type": "stream",
     "text": [
      "[mbo] 12: learning_rate=0.0941; feature_fraction=0.762; num_leaves=158; min_data_in_leaf=19952 : y = 1.43e+08 : 333.5 secs : infill_ei\n",
      "\n",
      "Saved the current state after iteration 13 in the file HT8230 (Clase 12, Base Sem5).RDATA.\n",
      "\n"
     ]
    },
    {
     "name": "stdout",
     "output_type": "stream",
     "text": [
      "Validate  29     470    106008525     106683950    \n",
      "20231105 061127\t602\t976271\tgbdt\tbinary\tcustom\tTRUE\tTRUE\tFALSE\tTRUE\t-100\t-1\t0\t0.001\t0\t0\t31\t29\t1\t1\t1\tFALSE\t1\t0.1\t50\t0.5\tTRUE\t279571\t0.0798323318460169\t0.871579929977729\t458\t24639\t12965\t135472686.156922\t29\n"
     ]
    },
    {
     "name": "stderr",
     "output_type": "stream",
     "text": [
      "[mbo] 13: learning_rate=0.0798; feature_fraction=0.872; num_leaves=458; min_data_in_leaf=24639 : y = 1.35e+08 : 422.0 secs : infill_ei\n",
      "\n"
     ]
    },
    {
     "name": "stdout",
     "output_type": "stream",
     "text": [
      "Validate  30     480    104897554     105674228    \n",
      "20231105 061345\t602\t976271\tgbdt\tbinary\tcustom\tTRUE\tTRUE\tFALSE\tTRUE\t-100\t-1\t0\t0.001\t0\t0\t31\t37\t1\t1\t1\tFALSE\t1\t0.1\t50\t0.5\tTRUE\t279571\t0.0849476593693953\t0.785956848038979\t342\t29557\t16664\t127155318.34083\t30\n"
     ]
    },
    {
     "name": "stderr",
     "output_type": "stream",
     "text": [
      "[mbo] 14: learning_rate=0.0849; feature_fraction=0.786; num_leaves=342; min_data_in_leaf=29557 : y = 1.27e+08 : 137.0 secs : infill_ei\n",
      "\n"
     ]
    },
    {
     "name": "stdout",
     "output_type": "stream",
     "text": [
      "Validate  31     1310    106549200     108492206    \n",
      "20231105 062238\t602\t976271\tgbdt\tbinary\tcustom\tTRUE\tTRUE\tFALSE\tTRUE\t-100\t-1\t0\t0.001\t0\t0\t31\t871\t1\t1\t1\tFALSE\t1\t0.1\t50\t0.5\tTRUE\t279571\t0.0899515148641311\t0.304288029790775\t141\t23677\t12013\t147445911.544228\t31\n"
     ]
    },
    {
     "name": "stderr",
     "output_type": "stream",
     "text": [
      "[mbo] 15: learning_rate=0.09; feature_fraction=0.304; num_leaves=141; min_data_in_leaf=23677 : y = 1.47e+08 : 533.0 secs : infill_ei\n",
      "\n",
      "Saved the current state after iteration 16 in the file HT8230 (Clase 12, Base Sem5).RDATA.\n",
      "\n"
     ]
    },
    {
     "name": "stdout",
     "output_type": "stream",
     "text": [
      "Validate  32     940    106207092     108301793    \n",
      "20231105 062717\t602\t976271\tgbdt\tbinary\tcustom\tTRUE\tTRUE\tFALSE\tTRUE\t-100\t-1\t0\t0.001\t0\t0\t31\t496\t1\t1\t1\tFALSE\t1\t0.1\t50\t0.5\tTRUE\t279571\t0.0763810148348289\t0.994209041378731\t255\t23536\t11106\t149462257.871064\t32\n"
     ]
    },
    {
     "name": "stderr",
     "output_type": "stream",
     "text": [
      "[mbo] 16: learning_rate=0.0764; feature_fraction=0.994; num_leaves=255; min_data_in_leaf=23536 : y = 1.49e+08 : 276.1 secs : infill_ei\n",
      "\n"
     ]
    },
    {
     "name": "stdout",
     "output_type": "stream",
     "text": [
      "Validate  33     800    104023421     106961249    \n",
      "20231105 063111\t602\t976271\tgbdt\tbinary\tcustom\tTRUE\tTRUE\tFALSE\tTRUE\t-100\t-1\t0\t0.001\t0\t0\t31\t361\t1\t1\t1\tFALSE\t1\t0.1\t50\t0.5\tTRUE\t279571\t0.0972330758338791\t0.798471892332811\t275\t23643\t13589\t144456810.094953\t33\n"
     ]
    },
    {
     "name": "stderr",
     "output_type": "stream",
     "text": [
      "[mbo] 17: learning_rate=0.0972; feature_fraction=0.798; num_leaves=275; min_data_in_leaf=23643 : y = 1.44e+08 : 233.3 secs : infill_ei\n",
      "\n"
     ]
    },
    {
     "name": "stdout",
     "output_type": "stream",
     "text": [
      "Validate  34     470    105303753     105316658    \n",
      "20231105 063331\t602\t976271\tgbdt\tbinary\tcustom\tTRUE\tTRUE\tFALSE\tTRUE\t-100\t-1\t0\t0.001\t0\t0\t31\t24\t1\t1\t1\tFALSE\t1\t0.1\t50\t0.5\tTRUE\t279571\t0.0716782584826145\t0.834697266575351\t182\t23690\t15207\t135561674.662669\t34\n"
     ]
    },
    {
     "name": "stderr",
     "output_type": "stream",
     "text": [
      "[mbo] 18: learning_rate=0.0717; feature_fraction=0.835; num_leaves=182; min_data_in_leaf=23690 : y = 1.36e+08 : 139.8 secs : infill_ei\n",
      "\n",
      "Saved the current state after iteration 19 in the file HT8230 (Clase 12, Base Sem5).RDATA.\n",
      "\n"
     ]
    },
    {
     "name": "stdout",
     "output_type": "stream",
     "text": [
      "Validate  35     430    99357265     101402332    \n",
      "20231105 063529\t602\t976271\tgbdt\tbinary\tcustom\tTRUE\tTRUE\tFALSE\tTRUE\t-100\t-1\t0\t0.001\t0\t0\t31\t19\t1\t1\t1\tFALSE\t1\t0.1\t50\t0.5\tTRUE\t279571\t0.219076708517344\t0.876750530189292\t842\t41507\t16385\t132502461.269365\t35\n"
     ]
    },
    {
     "name": "stderr",
     "output_type": "stream",
     "text": [
      "[mbo] 19: learning_rate=0.219; feature_fraction=0.877; num_leaves=842; min_data_in_leaf=41507 : y = 1.33e+08 : 114.4 secs : infill_ei\n",
      "\n"
     ]
    },
    {
     "name": "stdout",
     "output_type": "stream",
     "text": [
      "Validate  36     470    101336905     104942979    \n",
      "20231105 063949\t602\t976271\tgbdt\tbinary\tcustom\tTRUE\tTRUE\tFALSE\tTRUE\t-100\t-1\t0\t0.001\t0\t0\t31\t57\t1\t1\t1\tFALSE\t1\t0.1\t50\t0.5\tTRUE\t279571\t0.200401243178057\t0.515242733531973\t640\t8945\t13898\t136926093.953023\t36\n"
     ]
    },
    {
     "name": "stderr",
     "output_type": "stream",
     "text": [
      "[mbo] 20: learning_rate=0.2; feature_fraction=0.515; num_leaves=640; min_data_in_leaf=8945 : y = 1.37e+08 : 259.7 secs : infill_ei\n",
      "\n"
     ]
    },
    {
     "name": "stdout",
     "output_type": "stream",
     "text": [
      "Validate  37     680    104100645     104685378    \n",
      "20231105 064327\t602\t976271\tgbdt\tbinary\tcustom\tTRUE\tTRUE\tFALSE\tTRUE\t-100\t-1\t0\t0.001\t0\t0\t31\t259\t1\t1\t1\tFALSE\t1\t0.1\t50\t0.5\tTRUE\t279571\t0.182250604213124\t0.167655795990644\t1008\t16089\t12752\t135551792.103948\t37\n"
     ]
    },
    {
     "name": "stderr",
     "output_type": "stream",
     "text": [
      "[mbo] 21: learning_rate=0.182; feature_fraction=0.168; num_leaves=1008; min_data_in_leaf=16089 : y = 1.36e+08 : 218.2 secs : infill_ei\n",
      "\n"
     ]
    },
    {
     "name": "stdout",
     "output_type": "stream",
     "text": [
      "Validate  38     680    100071276     105515072    \n",
      "20231105 064900\t602\t976271\tgbdt\tbinary\tcustom\tTRUE\tTRUE\tFALSE\tTRUE\t-100\t-1\t0\t0.001\t0\t0\t31\t269\t1\t1\t1\tFALSE\t1\t0.1\t50\t0.5\tTRUE\t279571\t0.217336652314966\t0.488774673961036\t520\t35066\t14503\t136104827.086457\t38\n"
     ]
    },
    {
     "name": "stderr",
     "output_type": "stream",
     "text": [
      "[mbo] 22: learning_rate=0.217; feature_fraction=0.489; num_leaves=520; min_data_in_leaf=35066 : y = 1.36e+08 : 332.5 secs : infill_ei\n",
      "\n",
      "Saved the current state after iteration 23 in the file HT8230 (Clase 12, Base Sem5).RDATA.\n",
      "\n"
     ]
    },
    {
     "name": "stdout",
     "output_type": "stream",
     "text": [
      "Validate  39     1050    101400517     106312831    \n",
      "20231105 065738\t602\t976271\tgbdt\tbinary\tcustom\tTRUE\tTRUE\tFALSE\tTRUE\t-100\t-1\t0\t0.001\t0\t0\t31\t626\t1\t1\t1\tFALSE\t1\t0.1\t50\t0.5\tTRUE\t279571\t0.149988868267248\t0.519656409925428\t380\t41401\t13321\t143213489.755122\t39\n"
     ]
    },
    {
     "name": "stderr",
     "output_type": "stream",
     "text": [
      "[mbo] 23: learning_rate=0.15; feature_fraction=0.52; num_leaves=380; min_data_in_leaf=41401 : y = 1.43e+08 : 514.4 secs : infill_ei\n",
      "\n"
     ]
    },
    {
     "name": "stdout",
     "output_type": "stream",
     "text": [
      "Validate  40     980    97855134     104521275     \n",
      "20231105 070308\t602\t976271\tgbdt\tbinary\tcustom\tTRUE\tTRUE\tFALSE\tTRUE\t-100\t-1\t0\t0.001\t0\t0\t31\t568\t1\t1\t1\tFALSE\t1\t0.1\t50\t0.5\tTRUE\t279571\t0.288545232912025\t0.217059328421014\t853\t44393\t15544\t131720115.942029\t40\n"
     ]
    },
    {
     "name": "stderr",
     "output_type": "stream",
     "text": [
      "[mbo] 24: learning_rate=0.289; feature_fraction=0.217; num_leaves=853; min_data_in_leaf=44393 : y = 1.32e+08 : 330.1 secs : infill_ei\n",
      "\n",
      "Saved the current state after iteration 25 in the file HT8230 (Clase 12, Base Sem5).RDATA.\n",
      "\n"
     ]
    },
    {
     "name": "stdout",
     "output_type": "stream",
     "text": [
      "Validate  41     940    106036094     107974069    \n",
      "20231105 070755\t602\t976271\tgbdt\tbinary\tcustom\tTRUE\tTRUE\tFALSE\tTRUE\t-100\t-1\t0\t0.001\t0\t0\t31\t500\t1\t1\t1\tFALSE\t1\t0.1\t50\t0.5\tTRUE\t279571\t0.0872914534929884\t0.782420789503872\t37\t19373\t12014\t146298901.549225\t41\n"
     ]
    },
    {
     "name": "stderr",
     "output_type": "stream",
     "text": [
      "[mbo] 25: learning_rate=0.0873; feature_fraction=0.782; num_leaves=37; min_data_in_leaf=19373 : y = 1.46e+08 : 283.6 secs : infill_ei\n",
      "\n"
     ]
    },
    {
     "name": "stdout",
     "output_type": "stream",
     "text": [
      "Validate  42     1830    110187588     110865808    \n",
      "20231105 072053\t602\t976271\tgbdt\tbinary\tcustom\tTRUE\tTRUE\tFALSE\tTRUE\t-100\t-1\t0\t0.001\t0\t0\t31\t1329\t1\t1\t1\tFALSE\t1\t0.1\t50\t0.5\tTRUE\t279571\t0.0387035185959031\t0.306740939239311\t594\t11832\t12639\t143744251.374313\t42\n"
     ]
    },
    {
     "name": "stderr",
     "output_type": "stream",
     "text": [
      "[mbo] 26: learning_rate=0.0387; feature_fraction=0.307; num_leaves=594; min_data_in_leaf=11832 : y = 1.44e+08 : 777.7 secs : infill_ei\n",
      "\n",
      "Saved the current state after iteration 27 in the file HT8230 (Clase 12, Base Sem5).RDATA.\n",
      "\n"
     ]
    },
    {
     "name": "stdout",
     "output_type": "stream",
     "text": [
      "Validate  43     1390    104633474     106635012    \n",
      "20231105 072731\t602\t976271\tgbdt\tbinary\tcustom\tTRUE\tTRUE\tFALSE\tTRUE\t-100\t-1\t0\t0.001\t0\t0\t31\t946\t1\t1\t1\tFALSE\t1\t0.1\t50\t0.5\tTRUE\t279571\t0.081712401090511\t0.124420081177269\t705\t25387\t13296\t141591648.175912\t43\n"
     ]
    },
    {
     "name": "stderr",
     "output_type": "stream",
     "text": [
      "[mbo] 27: learning_rate=0.0817; feature_fraction=0.124; num_leaves=705; min_data_in_leaf=25387 : y = 1.42e+08 : 395.3 secs : infill_ei\n",
      "\n"
     ]
    },
    {
     "name": "stdout",
     "output_type": "stream",
     "text": [
      "Validate  44     840    102253016     105157148    \n",
      "20231105 073117\t602\t976271\tgbdt\tbinary\tcustom\tTRUE\tTRUE\tFALSE\tTRUE\t-100\t-1\t0\t0.001\t0\t0\t31\t421\t1\t1\t1\tFALSE\t1\t0.1\t50\t0.5\tTRUE\t279571\t0.168037408030681\t0.779739040453089\t285\t40942\t14194\t150630785.607196\t44\n"
     ]
    },
    {
     "name": "stderr",
     "output_type": "stream",
     "text": [
      "[mbo] 28: learning_rate=0.168; feature_fraction=0.78; num_leaves=285; min_data_in_leaf=40942 : y = 1.51e+08 : 225.0 secs : infill_ei\n",
      "\n",
      "Saved the current state after iteration 29 in the file HT8230 (Clase 12, Base Sem5).RDATA.\n",
      "\n"
     ]
    },
    {
     "name": "stdout",
     "output_type": "stream",
     "text": [
      "Validate  45     1290    105810149     108916323    \n",
      "20231105 073823\t602\t976271\tgbdt\tbinary\tcustom\tTRUE\tTRUE\tFALSE\tTRUE\t-100\t-1\t0\t0.001\t0\t0\t31\t842\t1\t1\t1\tFALSE\t1\t0.1\t50\t0.5\tTRUE\t279571\t0.0739189946039279\t0.628208263069775\t536\t17237\t14285\t146610417.291354\t45\n"
     ]
    },
    {
     "name": "stderr",
     "output_type": "stream",
     "text": [
      "[mbo] 29: learning_rate=0.0739; feature_fraction=0.628; num_leaves=536; min_data_in_leaf=17237 : y = 1.47e+08 : 423.0 secs : infill_ei\n",
      "\n"
     ]
    },
    {
     "name": "stdout",
     "output_type": "stream",
     "text": [
      "Validate  46     730    100682546     103068997    \n",
      "20231105 074123\t602\t976271\tgbdt\tbinary\tcustom\tTRUE\tTRUE\tFALSE\tTRUE\t-100\t-1\t0\t0.001\t0\t0\t31\t325\t1\t1\t1\tFALSE\t1\t0.1\t50\t0.5\tTRUE\t279571\t0.296367719609413\t0.0797253961195709\t142\t42586\t12955\t142519597.701149\t46\n"
     ]
    },
    {
     "name": "stderr",
     "output_type": "stream",
     "text": [
      "[mbo] 30: learning_rate=0.296; feature_fraction=0.0797; num_leaves=142; min_data_in_leaf=42586 : y = 1.43e+08 : 179.8 secs : infill_ei\n",
      "\n",
      "Saved the current state after iteration 31 in the file HT8230 (Clase 12, Base Sem5).RDATA.\n",
      "\n"
     ]
    },
    {
     "name": "stdout",
     "output_type": "stream",
     "text": [
      "Validate  47     810    99125296     101692502     \n",
      "20231105 074349\t602\t976271\tgbdt\tbinary\tcustom\tTRUE\tTRUE\tFALSE\tTRUE\t-100\t-1\t0\t0.001\t0\t0\t31\t382\t1\t1\t1\tFALSE\t1\t0.1\t50\t0.5\tTRUE\t279571\t0.130793163072853\t0.0159720860873242\t801\t27441\t17080\t126304207.896052\t47\n"
     ]
    },
    {
     "name": "stderr",
     "output_type": "stream",
     "text": [
      "[mbo] 31: learning_rate=0.131; feature_fraction=0.016; num_leaves=801; min_data_in_leaf=27441 : y = 1.26e+08 : 143.1 secs : infill_ei\n",
      "\n"
     ]
    },
    {
     "name": "stdout",
     "output_type": "stream",
     "text": [
      "Validate  48     830    103280302     104009236    \n",
      "20231105 075003\t602\t976271\tgbdt\tbinary\tcustom\tTRUE\tTRUE\tFALSE\tTRUE\t-100\t-1\t0\t0.001\t0\t0\t31\t416\t1\t1\t1\tFALSE\t1\t0.1\t50\t0.5\tTRUE\t279571\t0.249682867666799\t0.415655657133271\t307\t45992\t14610\t139938535.732134\t48\n"
     ]
    },
    {
     "name": "stderr",
     "output_type": "stream",
     "text": [
      "[mbo] 32: learning_rate=0.25; feature_fraction=0.416; num_leaves=307; min_data_in_leaf=45992 : y = 1.4e+08 : 373.3 secs : infill_ei\n",
      "\n"
     ]
    },
    {
     "name": "stdout",
     "output_type": "stream",
     "text": [
      "Validate  49     1020    103603778     105681302    \n",
      "20231105 075551\t602\t976271\tgbdt\tbinary\tcustom\tTRUE\tTRUE\tFALSE\tTRUE\t-100\t-1\t0\t0.001\t0\t0\t31\t600\t1\t1\t1\tFALSE\t1\t0.1\t50\t0.5\tTRUE\t279571\t0.161445876643449\t0.209212429404702\t193\t32003\t13810\t139493138.430785\t49\n"
     ]
    },
    {
     "name": "stderr",
     "output_type": "stream",
     "text": [
      "[mbo] 33: learning_rate=0.161; feature_fraction=0.209; num_leaves=193; min_data_in_leaf=32003 : y = 1.39e+08 : 347.2 secs : infill_ei\n",
      "\n",
      "Saved the current state after iteration 34 in the file HT8230 (Clase 12, Base Sem5).RDATA.\n",
      "\n"
     ]
    },
    {
     "name": "stdout",
     "output_type": "stream",
     "text": [
      "Validate  50     600    101761746     105771560    \n",
      "20231105 075849\t602\t976271\tgbdt\tbinary\tcustom\tTRUE\tTRUE\tFALSE\tTRUE\t-100\t-1\t0\t0.001\t0\t0\t31\t188\t1\t1\t1\tFALSE\t1\t0.1\t50\t0.5\tTRUE\t279571\t0.222431948443252\t0.80211683469628\t632\t23767\t12575\t145539077.961019\t50\n"
     ]
    },
    {
     "name": "stderr",
     "output_type": "stream",
     "text": [
      "[mbo] 34: learning_rate=0.222; feature_fraction=0.802; num_leaves=632; min_data_in_leaf=23767 : y = 1.46e+08 : 175.7 secs : infill_ei\n",
      "\n"
     ]
    },
    {
     "name": "stdout",
     "output_type": "stream",
     "text": [
      "Validate  51     660    93982248     103445503     \n",
      "20231105 080159\t602\t976271\tgbdt\tbinary\tcustom\tTRUE\tTRUE\tFALSE\tTRUE\t-100\t-1\t0\t0.001\t0\t0\t31\t252\t1\t1\t1\tFALSE\t1\t0.1\t50\t0.5\tTRUE\t279571\t0.270619298222869\t0.823205309947867\t944\t26007\t13836\t140693087.456272\t51\n"
     ]
    },
    {
     "name": "stderr",
     "output_type": "stream",
     "text": [
      "[mbo] 35: learning_rate=0.271; feature_fraction=0.823; num_leaves=944; min_data_in_leaf=26007 : y = 1.41e+08 : 189.6 secs : infill_ei\n",
      "\n"
     ]
    },
    {
     "name": "stdout",
     "output_type": "stream",
     "text": [
      "Validate  52     740    101746683     105757200    \n",
      "20231105 080536\t602\t976271\tgbdt\tbinary\tcustom\tTRUE\tTRUE\tFALSE\tTRUE\t-100\t-1\t0\t0.001\t0\t0\t31\t327\t1\t1\t1\tFALSE\t1\t0.1\t50\t0.5\tTRUE\t279571\t0.205748420821417\t0.956449139493488\t996\t24438\t11195\t142721656.671664\t52\n"
     ]
    },
    {
     "name": "stderr",
     "output_type": "stream",
     "text": [
      "[mbo] 36: learning_rate=0.206; feature_fraction=0.956; num_leaves=996; min_data_in_leaf=24438 : y = 1.43e+08 : 216.7 secs : infill_ei\n",
      "\n"
     ]
    },
    {
     "name": "stdout",
     "output_type": "stream",
     "text": [
      "Validate  53     570    96674264     104361594     \n",
      "20231105 080911\t602\t976271\tgbdt\tbinary\tcustom\tTRUE\tTRUE\tFALSE\tTRUE\t-100\t-1\t0\t0.001\t0\t0\t31\t159\t1\t1\t1\tFALSE\t1\t0.1\t50\t0.5\tTRUE\t279571\t0.277135238946576\t0.788848860620047\t349\t7256\t13218\t129670161.91904\t53\n"
     ]
    },
    {
     "name": "stderr",
     "output_type": "stream",
     "text": [
      "[mbo] 37: learning_rate=0.277; feature_fraction=0.789; num_leaves=349; min_data_in_leaf=7256 : y = 1.3e+08 : 214.1 secs : infill_ei\n",
      "\n",
      "Saved the current state after iteration 38 in the file HT8230 (Clase 12, Base Sem5).RDATA.\n",
      "\n"
     ]
    },
    {
     "name": "stdout",
     "output_type": "stream",
     "text": [
      "Validate  54     620    97602263     105601216     \n",
      "20231105 081154\t602\t976271\tgbdt\tbinary\tcustom\tTRUE\tTRUE\tFALSE\tTRUE\t-100\t-1\t0\t0.001\t0\t0\t31\t111\t1\t1\t1\tFALSE\t1\t0.1\t50\t0.5\tTRUE\t279571\t0.0357294639182856\t0.87928785987154\t759\t45517\t14999\t134370758.12094\t54\n"
     ]
    },
    {
     "name": "stderr",
     "output_type": "stream",
     "text": [
      "[mbo] 38: learning_rate=0.0357; feature_fraction=0.879; num_leaves=759; min_data_in_leaf=45517 : y = 1.34e+08 : 159.7 secs : infill_ei\n",
      "\n"
     ]
    },
    {
     "name": "stdout",
     "output_type": "stream",
     "text": [
      "Validate  55     590    100327323     109529906    \n",
      "20231105 081504\t602\t976271\tgbdt\tbinary\tcustom\tTRUE\tTRUE\tFALSE\tTRUE\t-100\t-1\t0\t0.001\t0\t0\t31\t176\t1\t1\t1\tFALSE\t1\t0.1\t50\t0.5\tTRUE\t279571\t0.183962449792463\t0.780469855400463\t992\t14583\t12789\t143926615.192404\t55\n"
     ]
    },
    {
     "name": "stderr",
     "output_type": "stream",
     "text": [
      "[mbo] 39: learning_rate=0.184; feature_fraction=0.78; num_leaves=992; min_data_in_leaf=14583 : y = 1.44e+08 : 189.6 secs : infill_ei\n",
      "\n"
     ]
    },
    {
     "name": "stdout",
     "output_type": "stream",
     "text": [
      "Validate  56     700    102887361     107221918    \n",
      "20231105 081843\t602\t976271\tgbdt\tbinary\tcustom\tTRUE\tTRUE\tFALSE\tTRUE\t-100\t-1\t0\t0.001\t0\t0\t31\t280\t1\t1\t1\tFALSE\t1\t0.1\t50\t0.5\tTRUE\t279571\t0.163478416945867\t0.886849748570399\t516\t15977\t12430\t145735067.466267\t56\n"
     ]
    },
    {
     "name": "stderr",
     "output_type": "stream",
     "text": [
      "[mbo] 40: learning_rate=0.163; feature_fraction=0.887; num_leaves=516; min_data_in_leaf=15977 : y = 1.46e+08 : 219.1 secs : infill_ei\n",
      "\n"
     ]
    },
    {
     "name": "stdout",
     "output_type": "stream",
     "text": [
      "Validate  57     1770    101482694     104742760    \n",
      "20231105 082345\t602\t976271\tgbdt\tbinary\tcustom\tTRUE\tTRUE\tFALSE\tTRUE\t-100\t-1\t0\t0.001\t0\t0\t31\t1364\t1\t1\t1\tFALSE\t1\t0.1\t50\t0.5\tTRUE\t279571\t0.274044620266529\t0.0130581330023291\t116\t13611\t11755\t131065484.757621\t57\n"
     ]
    },
    {
     "name": "stderr",
     "output_type": "stream",
     "text": [
      "[mbo] 41: learning_rate=0.274; feature_fraction=0.0131; num_leaves=116; min_data_in_leaf=13611 : y = 1.31e+08 : 301.5 secs : infill_ei\n",
      "\n",
      "Saved the current state after iteration 42 in the file HT8230 (Clase 12, Base Sem5).RDATA.\n",
      "\n"
     ]
    },
    {
     "name": "stdout",
     "output_type": "stream",
     "text": [
      "Validate  58     770    97155900     105862963     \n",
      "20231105 082902\t602\t976271\tgbdt\tbinary\tcustom\tTRUE\tTRUE\tFALSE\tTRUE\t-100\t-1\t0\t0.001\t0\t0\t31\t192\t1\t1\t1\tFALSE\t1\t0.1\t50\t0.5\tTRUE\t279571\t0.0215393907644863\t0.335784484249026\t430\t40614\t15739\t127740523.238381\t58\n"
     ]
    },
    {
     "name": "stderr",
     "output_type": "stream",
     "text": [
      "[mbo] 42: learning_rate=0.0215; feature_fraction=0.336; num_leaves=430; min_data_in_leaf=40614 : y = 1.28e+08 : 313.7 secs : infill_ei\n",
      "\n"
     ]
    },
    {
     "name": "stdout",
     "output_type": "stream",
     "text": [
      "Validate  59     560    104032237     105162963    \n",
      "20231105 083333\t602\t976271\tgbdt\tbinary\tcustom\tTRUE\tTRUE\tFALSE\tTRUE\t-100\t-1\t0\t0.001\t0\t0\t31\t138\t1\t1\t1\tFALSE\t1\t0.1\t50\t0.5\tTRUE\t279571\t0.151378577938775\t0.958360252936367\t721\t2287\t13341\t139259136.931534\t59\n"
     ]
    },
    {
     "name": "stderr",
     "output_type": "stream",
     "text": [
      "[mbo] 43: learning_rate=0.151; feature_fraction=0.958; num_leaves=721; min_data_in_leaf=2287 : y = 1.39e+08 : 270.8 secs : infill_ei\n",
      "\n"
     ]
    },
    {
     "name": "stdout",
     "output_type": "stream",
     "text": [
      "Validate  60     800    102166105     104196319    \n",
      "20231105 083731\t602\t976271\tgbdt\tbinary\tcustom\tTRUE\tTRUE\tFALSE\tTRUE\t-100\t-1\t0\t0.001\t0\t0\t31\t386\t1\t1\t1\tFALSE\t1\t0.1\t50\t0.5\tTRUE\t279571\t0.221032794232336\t0.697112406096528\t554\t21671\t11943\t140930874.062969\t60\n"
     ]
    },
    {
     "name": "stderr",
     "output_type": "stream",
     "text": [
      "[mbo] 44: learning_rate=0.221; feature_fraction=0.697; num_leaves=554; min_data_in_leaf=21671 : y = 1.41e+08 : 237.4 secs : infill_ei\n",
      "\n",
      "Saved the current state after iteration 45 in the file HT8230 (Clase 12, Base Sem5).RDATA.\n",
      "\n"
     ]
    },
    {
     "name": "stdout",
     "output_type": "stream",
     "text": [
      "Validate  61     930    103771715     106746222    \n",
      "20231105 084537\t602\t976271\tgbdt\tbinary\tcustom\tTRUE\tTRUE\tFALSE\tTRUE\t-100\t-1\t0\t0.001\t0\t0\t31\t503\t1\t1\t1\tFALSE\t1\t0.1\t50\t0.5\tTRUE\t279571\t0.125979974483427\t0.561025500070361\t530\t26164\t12727\t145356077.461269\t61\n"
     ]
    },
    {
     "name": "stderr",
     "output_type": "stream",
     "text": [
      "[mbo] 45: learning_rate=0.126; feature_fraction=0.561; num_leaves=530; min_data_in_leaf=26164 : y = 1.45e+08 : 483.0 secs : infill_ei\n",
      "\n"
     ]
    },
    {
     "name": "stdout",
     "output_type": "stream",
     "text": [
      "Validate  62     930    104928398     106910556    \n",
      "20231105 085312\t602\t976271\tgbdt\tbinary\tcustom\tTRUE\tTRUE\tFALSE\tTRUE\t-100\t-1\t0\t0.001\t0\t0\t31\t506\t1\t1\t1\tFALSE\t1\t0.1\t50\t0.5\tTRUE\t279571\t0.127926287905729\t0.41658924763254\t347\t12731\t11354\t138998121.93903\t62\n"
     ]
    },
    {
     "name": "stderr",
     "output_type": "stream",
     "text": [
      "[mbo] 46: learning_rate=0.128; feature_fraction=0.417; num_leaves=347; min_data_in_leaf=12731 : y = 1.39e+08 : 454.5 secs : infill_ei\n",
      "\n",
      "Saved the current state after iteration 47 in the file HT8230 (Clase 12, Base Sem5).RDATA.\n",
      "\n"
     ]
    },
    {
     "name": "stdout",
     "output_type": "stream",
     "text": [
      "Validate  63     650    103241870     104425997    \n",
      "20231105 085732\t602\t976271\tgbdt\tbinary\tcustom\tTRUE\tTRUE\tFALSE\tTRUE\t-100\t-1\t0\t0.001\t0\t0\t31\t115\t1\t1\t1\tFALSE\t1\t0.1\t50\t0.5\tTRUE\t279571\t0.0294174091805101\t0.279693914528602\t284\t17120\t16115\t126467523.738131\t63\n"
     ]
    },
    {
     "name": "stderr",
     "output_type": "stream",
     "text": [
      "[mbo] 47: learning_rate=0.0294; feature_fraction=0.28; num_leaves=284; min_data_in_leaf=17120 : y = 1.26e+08 : 256.7 secs : infill_ei\n",
      "\n"
     ]
    },
    {
     "name": "stdout",
     "output_type": "stream",
     "text": [
      "Validate  64     530    101470587     102278035    \n",
      "20231105 090128\t602\t976271\tgbdt\tbinary\tcustom\tTRUE\tTRUE\tFALSE\tTRUE\t-100\t-1\t0\t0.001\t0\t0\t31\t61\t1\t1\t1\tFALSE\t1\t0.1\t50\t0.5\tTRUE\t279571\t0.0564322047930161\t0.399238785823585\t152\t36851\t16506\t124765446.276862\t64\n"
     ]
    },
    {
     "name": "stderr",
     "output_type": "stream",
     "text": [
      "[mbo] 48: learning_rate=0.0564; feature_fraction=0.399; num_leaves=152; min_data_in_leaf=36851 : y = 1.25e+08 : 236.6 secs : infill_ei\n",
      "\n"
     ]
    },
    {
     "name": "stdout",
     "output_type": "stream",
     "text": [
      "Validate  65     900    97744505     103968961     \n",
      "20231105 090718\t602\t976271\tgbdt\tbinary\tcustom\tTRUE\tTRUE\tFALSE\tTRUE\t-100\t-1\t0\t0.001\t0\t0\t31\t481\t1\t1\t1\tFALSE\t1\t0.1\t50\t0.5\tTRUE\t279571\t0.19912443117247\t0.791242154423343\t550\t5872\t13497\t137427046.976512\t65\n"
     ]
    },
    {
     "name": "stderr",
     "output_type": "stream",
     "text": [
      "[mbo] 49: learning_rate=0.199; feature_fraction=0.791; num_leaves=550; min_data_in_leaf=5872 : y = 1.37e+08 : 348.7 secs : infill_ei\n",
      "\n",
      "Saved the current state after iteration 50 in the file HT8230 (Clase 12, Base Sem5).RDATA.\n",
      "\n"
     ]
    },
    {
     "name": "stdout",
     "output_type": "stream",
     "text": [
      "Validate  66     590    95151598     104137349     \n",
      "20231105 091015\t602\t976271\tgbdt\tbinary\tcustom\tTRUE\tTRUE\tFALSE\tTRUE\t-100\t-1\t0\t0.001\t0\t0\t31\t183\t1\t1\t1\tFALSE\t1\t0.1\t50\t0.5\tTRUE\t279571\t0.28941055962555\t0.663013791432546\t455\t22575\t12167\t141749800.5997\t66\n"
     ]
    },
    {
     "name": "stderr",
     "output_type": "stream",
     "text": [
      "[mbo] 50: learning_rate=0.289; feature_fraction=0.663; num_leaves=455; min_data_in_leaf=22575 : y = 1.42e+08 : 174.3 secs : infill_ei\n",
      "\n",
      "Saved the final state in the file HT8230 (Clase 12, Base Sem5).RDATA\n",
      "\n"
     ]
    },
    {
     "name": "stdout",
     "output_type": "stream",
     "text": [
      "\n",
      "\n",
      "La optimizacion Bayesiana ha terminado\n"
     ]
    }
   ],
   "source": [
    "# inicio la optimizacion bayesiana\n",
    "if (!file.exists(kbayesiana)) {\n",
    "  run <- mbo(obj.fun, learner = surr.km, control = ctrl)\n",
    "} else {\n",
    "  run <- mboContinue(kbayesiana) # retomo en caso que ya exista\n",
    "}\n",
    "\n",
    "\n",
    "cat(\"\\n\\nLa optimizacion Bayesiana ha terminado\\n\")\n"
   ]
  },
  {
   "cell_type": "markdown",
   "metadata": {},
   "source": [
    "# Semilla 1, ajustado"
   ]
  },
  {
   "cell_type": "code",
   "execution_count": 110,
   "metadata": {
    "vscode": {
     "languageId": "r"
    }
   },
   "outputs": [
    {
     "data": {
      "text/html": [
       "<table class=\"dataframe\">\n",
       "<caption>A matrix: 2 × 6 of type dbl</caption>\n",
       "<thead>\n",
       "\t<tr><th></th><th scope=col>used</th><th scope=col>(Mb)</th><th scope=col>gc trigger</th><th scope=col>(Mb)</th><th scope=col>max used</th><th scope=col>(Mb)</th></tr>\n",
       "</thead>\n",
       "<tbody>\n",
       "\t<tr><th scope=row>Ncells</th><td>  2539020</td><td> 135.6</td><td>   8200216</td><td>  438.0</td><td>  22909774</td><td> 1223.6</td></tr>\n",
       "\t<tr><th scope=row>Vcells</th><td>710433976</td><td>5420.2</td><td>2292916727</td><td>17493.6</td><td>6843588264</td><td>52212.5</td></tr>\n",
       "</tbody>\n",
       "</table>\n"
      ],
      "text/latex": [
       "A matrix: 2 × 6 of type dbl\n",
       "\\begin{tabular}{r|llllll}\n",
       "  & used & (Mb) & gc trigger & (Mb) & max used & (Mb)\\\\\n",
       "\\hline\n",
       "\tNcells &   2539020 &  135.6 &    8200216 &   438.0 &   22909774 &  1223.6\\\\\n",
       "\tVcells & 710433976 & 5420.2 & 2292916727 & 17493.6 & 6843588264 & 52212.5\\\\\n",
       "\\end{tabular}\n"
      ],
      "text/markdown": [
       "\n",
       "A matrix: 2 × 6 of type dbl\n",
       "\n",
       "| <!--/--> | used | (Mb) | gc trigger | (Mb) | max used | (Mb) |\n",
       "|---|---|---|---|---|---|---|\n",
       "| Ncells |   2539020 |  135.6 |    8200216 |   438.0 |   22909774 |  1223.6 |\n",
       "| Vcells | 710433976 | 5420.2 | 2292916727 | 17493.6 | 6843588264 | 52212.5 |\n",
       "\n"
      ],
      "text/plain": [
       "       used      (Mb)   gc trigger (Mb)    max used   (Mb)   \n",
       "Ncells   2539020  135.6    8200216   438.0   22909774  1223.6\n",
       "Vcells 710433976 5420.2 2292916727 17493.6 6843588264 52212.5"
      ]
     },
     "metadata": {},
     "output_type": "display_data"
    }
   ],
   "source": [
    "# limpio la memoria\n",
    "rm(list = ls()) # remove all objects\n",
    "gc() # garbage collection"
   ]
  },
  {
   "cell_type": "code",
   "execution_count": 111,
   "metadata": {
    "vscode": {
     "languageId": "r"
    }
   },
   "outputs": [],
   "source": [
    "require(\"data.table\")\n",
    "require(\"rlist\")\n",
    "require(\"lightgbm\")"
   ]
  },
  {
   "cell_type": "code",
   "execution_count": 112,
   "metadata": {
    "vscode": {
     "languageId": "r"
    }
   },
   "outputs": [],
   "source": [
    "# paquetes necesarios para la Bayesian Optimization\n",
    "require(\"DiceKriging\")\n",
    "require(\"mlrMBO\")\n",
    "\n",
    "# para que se detenga ante el primer error\n",
    "# y muestre el stack de funciones invocadas\n",
    "options(error = function() {\n",
    "  traceback(20)\n",
    "  options(error = NULL)\n",
    "  stop(\"exiting after script error\")\n",
    "})"
   ]
  },
  {
   "cell_type": "markdown",
   "metadata": {},
   "source": [
    "## Definición de Parametros"
   ]
  },
  {
   "cell_type": "code",
   "execution_count": 113,
   "metadata": {
    "vscode": {
     "languageId": "r"
    }
   },
   "outputs": [],
   "source": [
    "# defino los parametros de la corrida, en una lista, la variable global  PARAM\n",
    "#  muy pronto esto se leera desde un archivo formato .yaml\n",
    "PARAM <- list()\n",
    "\n",
    "PARAM$experimento <- \"HT8230 (Clase 12, Ajustado Sem1)\"\n",
    "\n",
    "PARAM$input$dataset <- \"datasets/competencia_03_infla_ajustado_lags.csv.gz\"\n",
    "\n",
    "# los meses en los que vamos a entrenar\n",
    "#  mucha magia emerger de esta eleccion\n",
    "PARAM$input$testing <- c(202107) # Último mes, lo más cercano al 202109 de kaggle\n",
    "PARAM$input$validation <- c(202106)\n",
    "PARAM$input$training <- c(202105, 202104, 202103, 202102, 202101,202012) # 6 meses de entrenamiento\t\n",
    "\n",
    "# un undersampling de 0.1  toma solo el 10% de los CONTINUA\n",
    "PARAM$trainingstrategy$undersampling <- 1.0\n",
    "PARAM$trainingstrategy$semilla_azar <- c(279511, 279523, 279541, 279551, 279571)  # Aqui poner su  primer  semilla/ pongo todas mis semillas\n",
    "\n",
    "PARAM$hyperparametertuning$POS_ganancia <- 273000\n",
    "PARAM$hyperparametertuning$NEG_ganancia <- -7000\n",
    "\n",
    "# Aqui va semilla\n",
    "PARAM$lgb_semilla <- 279511"
   ]
  },
  {
   "cell_type": "code",
   "execution_count": 114,
   "metadata": {
    "vscode": {
     "languageId": "r"
    }
   },
   "outputs": [],
   "source": [
    "# Hiperparametros FIJOS de  lightgbm\n",
    "PARAM$lgb_basicos <- list(\n",
    "  boosting = \"gbdt\", # puede ir  dart  , ni pruebe random_forest\n",
    "  objective = \"binary\",\n",
    "  metric = \"custom\",\n",
    "  first_metric_only = TRUE,\n",
    "  boost_from_average = TRUE,\n",
    "  feature_pre_filter = FALSE,\n",
    "  force_row_wise = TRUE, # para reducir warnings\n",
    "  verbosity = -100,\n",
    "  max_depth = -1L, # -1 significa no limitar,  por ahora lo dejo fijo\n",
    "  min_gain_to_split = 0.0, # min_gain_to_split >= 0.0\n",
    "  min_sum_hessian_in_leaf = 0.001, #  min_sum_hessian_in_leaf >= 0.0\n",
    "  lambda_l1 = 0.0, # lambda_l1 >= 0.0\n",
    "  lambda_l2 = 0.0, # lambda_l2 >= 0.0\n",
    "  max_bin = 31L, # lo debo dejar fijo, no participa de la BO\n",
    "  num_iterations = 9999, # un numero muy grande, lo limita early_stopping_rounds\n",
    "\n",
    "  bagging_fraction = 1.0, # 0.0 < bagging_fraction <= 1.0\n",
    "  pos_bagging_fraction = 1.0, # 0.0 < pos_bagging_fraction <= 1.0\n",
    "  neg_bagging_fraction = 1.0, # 0.0 < neg_bagging_fraction <= 1.0\n",
    "  is_unbalance = FALSE, #\n",
    "  scale_pos_weight = 1.0, # scale_pos_weight > 0.0\n",
    "\n",
    "  drop_rate = 0.1, # 0.0 < neg_bagging_fraction <= 1.0\n",
    "  max_drop = 50, # <=0 means no limit\n",
    "  skip_drop = 0.5, # 0.0 <= skip_drop <= 1.0\n",
    "\n",
    "  extra_trees = TRUE, # Magic Sauce\n",
    "\n",
    "  seed = PARAM$lgb_semilla\n",
    ")"
   ]
  },
  {
   "cell_type": "code",
   "execution_count": 115,
   "metadata": {
    "vscode": {
     "languageId": "r"
    }
   },
   "outputs": [],
   "source": [
    "# Aqui se cargan los hiperparametros que se optimizan\n",
    "#  en la Bayesian Optimization\n",
    "PARAM$bo_lgb <- makeParamSet(\n",
    "  makeNumericParam(\"learning_rate\", lower = 0.02, upper = 0.3),\n",
    "  makeNumericParam(\"feature_fraction\", lower = 0.01, upper = 1.0),\n",
    "  makeIntegerParam(\"num_leaves\", lower = 8L, upper = 1024L),\n",
    "  makeIntegerParam(\"min_data_in_leaf\", lower = 100L, upper = 50000L)\n",
    ")\n",
    "\n",
    "# si usted es ambicioso, y tiene paciencia, podria subir este valor a 100\n",
    "PARAM$bo_iteraciones <- 50 # iteraciones de la Optimizacion Bayesiana"
   ]
  },
  {
   "cell_type": "code",
   "execution_count": 116,
   "metadata": {
    "vscode": {
     "languageId": "r"
    }
   },
   "outputs": [],
   "source": [
    "# graba a un archivo los componentes de lista\n",
    "# para el primer registro, escribe antes los titulos\n",
    "\n",
    "loguear <- function(\n",
    "    reg, arch = NA, folder = \"./exp/\",\n",
    "    ext = \".txt\", verbose = TRUE) {\n",
    "  archivo <- arch\n",
    "  if (is.na(arch)) archivo <- paste0(folder, substitute(reg), ext)\n",
    "\n",
    "  if (!file.exists(archivo)) # Escribo los titulos\n",
    "    {\n",
    "      linea <- paste0(\n",
    "        \"fecha\\t\",\n",
    "        paste(list.names(reg), collapse = \"\\t\"), \"\\n\"\n",
    "      )\n",
    "\n",
    "      cat(linea, file = archivo)\n",
    "    }\n",
    "\n",
    "  linea <- paste0(\n",
    "    format(Sys.time(), \"%Y%m%d %H%M%S\"), \"\\t\", # la fecha y hora\n",
    "    gsub(\", \", \"\\t\", toString(reg)), \"\\n\"\n",
    "  )\n",
    "\n",
    "  cat(linea, file = archivo, append = TRUE) # grabo al archivo\n",
    "\n",
    "  if (verbose) cat(linea) # imprimo por pantalla\n",
    "}"
   ]
  },
  {
   "cell_type": "code",
   "execution_count": 117,
   "metadata": {
    "vscode": {
     "languageId": "r"
    }
   },
   "outputs": [],
   "source": [
    "#------------------------------------------------------------------------------\n",
    "GLOBAL_arbol <- 0L\n",
    "GLOBAL_gan_max <- -Inf\n",
    "vcant_optima <- c()\n",
    "\n",
    "fganancia_lgbm_meseta <- function(probs, datos) {\n",
    "  vlabels <- get_field(datos, \"label\")\n",
    "  vpesos <- get_field(datos, \"weight\")\n",
    "\n",
    "\n",
    "  GLOBAL_arbol <<- GLOBAL_arbol + 1\n",
    "  tbl <- as.data.table(list(\n",
    "    \"prob\" = probs,\n",
    "    \"gan\" = ifelse(vlabels == 1 & vpesos > 1,\n",
    "      PARAM$hyperparametertuning$POS_ganancia,\n",
    "      PARAM$hyperparametertuning$NEG_ganancia  )\n",
    "  ))\n",
    "\n",
    "  setorder(tbl, -prob)\n",
    "  tbl[, posicion := .I]\n",
    "  tbl[, gan_acum := cumsum(gan)]\n",
    "\n",
    "  tbl[, gan_suavizada :=\n",
    "    frollmean(\n",
    "      x = gan_acum, n = 2001, align = \"center\",\n",
    "      na.rm = TRUE, hasNA = TRUE\n",
    "    )]\n",
    "\n",
    "  gan <- tbl[, max(gan_suavizada, na.rm = TRUE)]\n",
    "\n",
    "\n",
    "  pos <- which.max(tbl[, gan_suavizada])\n",
    "  vcant_optima <<- c(vcant_optima, pos)\n",
    "\n",
    "  if (GLOBAL_arbol %% 10 == 0) {\n",
    "    if (gan > GLOBAL_gan_max) GLOBAL_gan_max <<- gan\n",
    "\n",
    "    cat(\"\\r\")\n",
    "    cat(\n",
    "      \"Validate \", GLOBAL_iteracion, \" \", \" \",\n",
    "      GLOBAL_arbol, \"  \", gan, \"   \", GLOBAL_gan_max, \"   \"\n",
    "    )\n",
    "  }\n",
    "\n",
    "\n",
    "  return(list(\n",
    "    \"name\" = \"ganancia\",\n",
    "    \"value\" = gan,\n",
    "    \"higher_better\" = TRUE\n",
    "  ))\n",
    "}"
   ]
  },
  {
   "cell_type": "code",
   "execution_count": 118,
   "metadata": {
    "vscode": {
     "languageId": "r"
    }
   },
   "outputs": [],
   "source": [
    "#------------------------------------------------------------------------------\n",
    "\n",
    "EstimarGanancia_lightgbm <- function(x) {\n",
    "  gc()\n",
    "  GLOBAL_iteracion <<- GLOBAL_iteracion + 1L\n",
    "\n",
    "  # hago la union de los parametros basicos y los moviles que vienen en x\n",
    "  param_completo <- c(PARAM$lgb_basicos, x)\n",
    "\n",
    "  param_completo$early_stopping_rounds <-\n",
    "    as.integer(400 + 4 / param_completo$learning_rate)\n",
    "\n",
    "  GLOBAL_arbol <<- 0L\n",
    "  GLOBAL_gan_max <<- -Inf\n",
    "  vcant_optima <<- c()\n",
    "  set.seed(PARAM$lgb_semilla, kind = \"L'Ecuyer-CMRG\")\n",
    "  modelo_train <- lgb.train(\n",
    "    data = dtrain,\n",
    "    valids = list(valid = dvalidate),\n",
    "    eval = fganancia_lgbm_meseta,\n",
    "    param = param_completo,\n",
    "    verbose = -100\n",
    "  )\n",
    "\n",
    "  cat(\"\\n\")\n",
    "\n",
    "  cant_corte <- vcant_optima[modelo_train$best_iter]\n",
    "\n",
    "  # aplico el modelo a testing y calculo la ganancia\n",
    "  prediccion <- predict(\n",
    "    modelo_train,\n",
    "    data.matrix(dataset_test[, campos_buenos, with = FALSE])\n",
    "  )\n",
    "\n",
    "  tbl <- copy(dataset_test[, list(\"gan\" = ifelse(clase_ternaria == \"BAJA+2\",\n",
    "    PARAM$hyperparametertuning$POS_ganancia, \n",
    "    PARAM$hyperparametertuning$NEG_ganancia))])\n",
    "\n",
    "  tbl[, prob := prediccion]\n",
    "  setorder(tbl, -prob)\n",
    "  tbl[, gan_acum := cumsum(gan)]\n",
    "  tbl[, gan_suavizada := frollmean(\n",
    "    x = gan_acum, n = 2001,\n",
    "    align = \"center\", na.rm = TRUE, hasNA = TRUE\n",
    "  )]\n",
    "\n",
    "\n",
    "  ganancia_test <- tbl[, max(gan_suavizada, na.rm = TRUE)]\n",
    "\n",
    "  cantidad_test_normalizada <- which.max(tbl[, gan_suavizada])\n",
    "\n",
    "  rm(tbl)\n",
    "  gc()\n",
    "\n",
    "  ganancia_test_normalizada <- ganancia_test\n",
    "\n",
    "\n",
    "  # voy grabando las mejores column importance\n",
    "  if (ganancia_test_normalizada > GLOBAL_gananciamax) {\n",
    "    GLOBAL_gananciamax <<- ganancia_test_normalizada\n",
    "    tb_importancia <- as.data.table(lgb.importance(modelo_train))\n",
    "\n",
    "    fwrite(tb_importancia,\n",
    "      file = paste0(\"impo_\", sprintf(\"%03d\", GLOBAL_iteracion), \".txt\"),\n",
    "      sep = \"\\t\"\n",
    "    )\n",
    "\n",
    "    rm(tb_importancia)\n",
    "  }\n",
    "\n",
    "\n",
    "  # logueo final\n",
    "  ds <- list(\"cols\" = ncol(dtrain), \"rows\" = nrow(dtrain))\n",
    "  xx <- c(ds, copy(param_completo))\n",
    "\n",
    "  xx$early_stopping_rounds <- NULL\n",
    "  xx$num_iterations <- modelo_train$best_iter\n",
    "  xx$estimulos <- cantidad_test_normalizada\n",
    "  xx$ganancia <- ganancia_test_normalizada\n",
    "  xx$iteracion_bayesiana <- GLOBAL_iteracion\n",
    "\n",
    "  loguear(xx, arch = \"BO_log.txt\")\n",
    "\n",
    "  set.seed(PARAM$lgb_semilla, kind = \"L'Ecuyer-CMRG\")\n",
    "  return(ganancia_test_normalizada)\n",
    "}"
   ]
  },
  {
   "cell_type": "markdown",
   "metadata": {},
   "source": [
    "## Aquí empieza el programa"
   ]
  },
  {
   "cell_type": "code",
   "execution_count": 119,
   "metadata": {
    "vscode": {
     "languageId": "r"
    }
   },
   "outputs": [],
   "source": [
    "# Aqui empieza el programa\n",
    "\n",
    "# Aqui se debe poner la carpeta de la computadora local\n",
    "setwd(\"~/buckets/b1/\") # Establezco el Working Directory\n",
    "\n",
    "# cargo el dataset donde voy a entrenar el modelo\n",
    "dataset <- fread(PARAM$input$dataset)"
   ]
  },
  {
   "cell_type": "code",
   "execution_count": 120,
   "metadata": {
    "vscode": {
     "languageId": "r"
    }
   },
   "outputs": [],
   "source": [
    "# creo la carpeta donde va el experimento\n",
    "dir.create(\"./exp/\", showWarnings = FALSE)\n",
    "dir.create(paste0(\"./exp/\", PARAM$experimento, \"/\"), showWarnings = FALSE)\n",
    "\n",
    "# Establezco el Working Directory DEL EXPERIMENTO\n",
    "setwd(paste0(\"./exp/\", PARAM$experimento, \"/\"))\n",
    "\n",
    "# en estos archivos quedan los resultados\n",
    "kbayesiana <- paste0(PARAM$experimento, \".RDATA\")\n",
    "klog <- paste0(PARAM$experimento, \".txt\")\n"
   ]
  },
  {
   "cell_type": "code",
   "execution_count": 121,
   "metadata": {
    "vscode": {
     "languageId": "r"
    }
   },
   "outputs": [],
   "source": [
    "# Catastrophe Analysis  -------------------------------------------------------\n",
    "# deben ir cosas de este estilo\n",
    "#   dataset[foto_mes == 202006, active_quarter := NA]\n",
    "\n",
    "# Data Drifting\n",
    "# por ahora, no hago nada\n",
    "\n",
    "\n",
    "# Feature Engineering Historico  ----------------------------------------------\n",
    "#   aqui deben calcularse los  lags y  lag_delta\n",
    "#   Sin lags no hay paraiso !  corta la bocha"
   ]
  },
  {
   "cell_type": "code",
   "execution_count": null,
   "metadata": {
    "vscode": {
     "languageId": "r"
    }
   },
   "outputs": [],
   "source": []
  },
  {
   "cell_type": "code",
   "execution_count": 122,
   "metadata": {
    "vscode": {
     "languageId": "r"
    }
   },
   "outputs": [],
   "source": [
    "# ahora SI comienza la optimizacion Bayesiana\n",
    "\n",
    "GLOBAL_iteracion <- 0 # inicializo la variable global\n",
    "GLOBAL_gananciamax <- -1 # inicializo la variable global\n",
    "\n",
    "# si ya existe el archivo log, traigo hasta donde llegue\n",
    "if (file.exists(klog)) {\n",
    "  tabla_log <- fread(klog)\n",
    "  GLOBAL_iteracion <- nrow(tabla_log)\n",
    "  GLOBAL_gananciamax <- tabla_log[, max(ganancia)]\n",
    "}\n"
   ]
  },
  {
   "cell_type": "code",
   "execution_count": 123,
   "metadata": {
    "vscode": {
     "languageId": "r"
    }
   },
   "outputs": [],
   "source": [
    "# paso la clase a binaria que tome valores {0,1}  enteros\n",
    "dataset[, clase01 := ifelse(clase_ternaria == \"CONTINUA\", 0L, 1L)]\n",
    "\n",
    "\n",
    "# los campos que se van a utilizar\n",
    "campos_buenos <- setdiff(\n",
    "  colnames(dataset),\n",
    "  c(\"clase_ternaria\", \"clase01\", \"azar\", \"training\")\n",
    ")"
   ]
  },
  {
   "cell_type": "code",
   "execution_count": 124,
   "metadata": {
    "vscode": {
     "languageId": "r"
    }
   },
   "outputs": [],
   "source": [
    "# defino los datos que forma parte del training\n",
    "# aqui se hace el undersampling de los CONTINUA\n",
    "set.seed(PARAM$trainingstrategy$semilla_azar)\n",
    "dataset[, azar := runif(nrow(dataset))]\n",
    "dataset[, training := 0L]\n",
    "dataset[\n",
    "  foto_mes %in% PARAM$input$training &\n",
    "    (azar <= PARAM$trainingstrategy$undersampling | clase_ternaria %in% c(\"BAJA+1\", \"BAJA+2\")),\n",
    "  training := 1L\n",
    "]"
   ]
  },
  {
   "cell_type": "code",
   "execution_count": 125,
   "metadata": {
    "vscode": {
     "languageId": "r"
    }
   },
   "outputs": [],
   "source": [
    "# dejo los datos en el formato que necesita LightGBM\n",
    "dtrain <- lgb.Dataset(\n",
    "  data = data.matrix(dataset[training == 1L, campos_buenos, with = FALSE]),\n",
    "  label = dataset[training == 1L, clase01],\n",
    "  weight = dataset[training == 1L, \n",
    "    ifelse(clase_ternaria == \"BAJA+2\", 1.0000001, \n",
    "      ifelse(clase_ternaria == \"BAJA+1\", 1.0, 1.0))],\n",
    "  free_raw_data = FALSE\n",
    ")"
   ]
  },
  {
   "cell_type": "code",
   "execution_count": 126,
   "metadata": {
    "vscode": {
     "languageId": "r"
    }
   },
   "outputs": [],
   "source": [
    "# defino los datos que forman parte de validation\n",
    "#  no hay undersampling\n",
    "dataset[, validation := 0L]\n",
    "dataset[ foto_mes %in% PARAM$input$validation,  validation := 1L]\n",
    "\n",
    "dvalidate <- lgb.Dataset(\n",
    "  data = data.matrix(dataset[validation == 1L, campos_buenos, with = FALSE]),\n",
    "  label = dataset[validation == 1L, clase01],\n",
    "  weight = dataset[validation == 1L, \n",
    "    ifelse(clase_ternaria == \"BAJA+2\", 1.0000001, \n",
    "      ifelse(clase_ternaria == \"BAJA+1\", 1.0, 1.0))],\n",
    "  free_raw_data = FALSE\n",
    ")"
   ]
  },
  {
   "cell_type": "code",
   "execution_count": 127,
   "metadata": {
    "vscode": {
     "languageId": "r"
    }
   },
   "outputs": [],
   "source": [
    "# defino los datos de testing\n",
    "dataset[, testing := 0L]\n",
    "dataset[ foto_mes %in% PARAM$input$testing,  testing := 1L]\n",
    "\n",
    "\n",
    "dataset_test <- dataset[testing == 1, ]"
   ]
  },
  {
   "cell_type": "code",
   "execution_count": 128,
   "metadata": {
    "vscode": {
     "languageId": "r"
    }
   },
   "outputs": [
    {
     "data": {
      "text/html": [
       "<table class=\"dataframe\">\n",
       "<caption>A matrix: 2 × 6 of type dbl</caption>\n",
       "<thead>\n",
       "\t<tr><th></th><th scope=col>used</th><th scope=col>(Mb)</th><th scope=col>gc trigger</th><th scope=col>(Mb)</th><th scope=col>max used</th><th scope=col>(Mb)</th></tr>\n",
       "</thead>\n",
       "<tbody>\n",
       "\t<tr><th scope=row>Ncells</th><td>  2540185</td><td> 135.7</td><td>   8200216</td><td>  438.0</td><td>  22909774</td><td> 1223.6</td></tr>\n",
       "\t<tr><th scope=row>Vcells</th><td>782666097</td><td>5971.3</td><td>3169961043</td><td>24184.9</td><td>6843588264</td><td>52212.5</td></tr>\n",
       "</tbody>\n",
       "</table>\n"
      ],
      "text/latex": [
       "A matrix: 2 × 6 of type dbl\n",
       "\\begin{tabular}{r|llllll}\n",
       "  & used & (Mb) & gc trigger & (Mb) & max used & (Mb)\\\\\n",
       "\\hline\n",
       "\tNcells &   2540185 &  135.7 &    8200216 &   438.0 &   22909774 &  1223.6\\\\\n",
       "\tVcells & 782666097 & 5971.3 & 3169961043 & 24184.9 & 6843588264 & 52212.5\\\\\n",
       "\\end{tabular}\n"
      ],
      "text/markdown": [
       "\n",
       "A matrix: 2 × 6 of type dbl\n",
       "\n",
       "| <!--/--> | used | (Mb) | gc trigger | (Mb) | max used | (Mb) |\n",
       "|---|---|---|---|---|---|---|\n",
       "| Ncells |   2540185 |  135.7 |    8200216 |   438.0 |   22909774 |  1223.6 |\n",
       "| Vcells | 782666097 | 5971.3 | 3169961043 | 24184.9 | 6843588264 | 52212.5 |\n",
       "\n"
      ],
      "text/plain": [
       "       used      (Mb)   gc trigger (Mb)    max used   (Mb)   \n",
       "Ncells   2540185  135.7    8200216   438.0   22909774  1223.6\n",
       "Vcells 782666097 5971.3 3169961043 24184.9 6843588264 52212.5"
      ]
     },
     "metadata": {},
     "output_type": "display_data"
    }
   ],
   "source": [
    "# libero espacio\n",
    "rm(dataset)\n",
    "gc()"
   ]
  },
  {
   "cell_type": "code",
   "execution_count": 129,
   "metadata": {
    "vscode": {
     "languageId": "r"
    }
   },
   "outputs": [],
   "source": [
    "# Aqui comienza la configuracion de la Bayesian Optimization\n",
    "funcion_optimizar <- EstimarGanancia_lightgbm # la funcion que voy a maximizar\n",
    "\n",
    "configureMlr(show.learner.output = FALSE)\n",
    "\n",
    "# configuro la busqueda bayesiana,  los hiperparametros que se van a optimizar\n",
    "# por favor, no desesperarse por lo complejo\n",
    "obj.fun <- makeSingleObjectiveFunction(\n",
    "  fn = funcion_optimizar, # la funcion que voy a maximizar\n",
    "  minimize = FALSE, # estoy Maximizando la ganancia\n",
    "  noisy = TRUE,\n",
    "  par.set = PARAM$bo_lgb, # definido al comienzo del programa\n",
    "  has.simple.signature = FALSE # paso los parametros en una lista\n",
    ")\n",
    "\n",
    "# cada 600 segundos guardo el resultado intermedio\n",
    "ctrl <- makeMBOControl(\n",
    "  save.on.disk.at.time = 600, # se graba cada 600 segundos\n",
    "  save.file.path = kbayesiana\n",
    ") # se graba cada 600 segundos\n",
    "\n",
    "# indico la cantidad de iteraciones que va a tener la Bayesian Optimization\n",
    "ctrl <- setMBOControlTermination(\n",
    "  ctrl,\n",
    "  iters = PARAM$bo_iteraciones\n",
    ") # cantidad de iteraciones\n",
    "\n",
    "# defino el método estandar para la creacion de los puntos iniciales,\n",
    "# los \"No Inteligentes\"\n",
    "ctrl <- setMBOControlInfill(ctrl, crit = makeMBOInfillCritEI())\n",
    "\n",
    "\n",
    "# establezco la funcion que busca el maximo\n",
    "surr.km <- makeLearner(\n",
    "  \"regr.km\",\n",
    "  predict.type = \"se\",\n",
    "  covtype = \"matern3_2\",\n",
    "  control = list(trace = TRUE)\n",
    ")"
   ]
  },
  {
   "cell_type": "code",
   "execution_count": 130,
   "metadata": {
    "vscode": {
     "languageId": "r"
    }
   },
   "outputs": [
    {
     "name": "stderr",
     "output_type": "stream",
     "text": [
      "Computing y column(s) for design. Not provided.\n",
      "\n"
     ]
    },
    {
     "name": "stdout",
     "output_type": "stream",
     "text": [
      "Validate  1     1170    103056473     106459820    \n",
      "20231105 092048\t601\t976271\tgbdt\tbinary\tcustom\tTRUE\tTRUE\tFALSE\tTRUE\t-100\t-1\t0\t0.001\t0\t0\t31\t747\t1\t1\t1\tFALSE\t1\t0.1\t50\t0.5\tTRUE\t279511\t0.129464825580638\t0.589979261678396\t603\t34060\t14196\t138636815.592204\t1\n",
      "Validate  2     1940    106538104     107711414    \n",
      "20231105 093357\t601\t976271\tgbdt\tbinary\tcustom\tTRUE\tTRUE\tFALSE\tTRUE\t-100\t-1\t0\t0.001\t0\t0\t31\t1483\t1\t1\t1\tFALSE\t1\t0.1\t50\t0.5\tTRUE\t279511\t0.0661204550073144\t0.306758356069939\t135\t27020\t12034\t144266487.756122\t2\n",
      "Validate  3     1130    104400841     105910994    \n",
      "20231105 093924\t601\t976271\tgbdt\tbinary\tcustom\tTRUE\tTRUE\tFALSE\tTRUE\t-100\t-1\t0\t0.001\t0\t0\t31\t701\t1\t1\t1\tFALSE\t1\t0.1\t50\t0.5\tTRUE\t279511\t0.113019156746563\t0.722689286671374\t381\t28634\t12423\t147140549.225387\t3\n",
      "Validate  4     610    98743697     100823739     \n",
      "20231105 094208\t601\t976271\tgbdt\tbinary\tcustom\tTRUE\tTRUE\tFALSE\tTRUE\t-100\t-1\t0\t0.001\t0\t0\t31\t196\t1\t1\t1\tFALSE\t1\t0.1\t50\t0.5\tTRUE\t279511\t0.175678618850921\t0.0837276906739244\t542\t6859\t13189\t137472622.188906\t4\n",
      "Validate  5     580    98181111     100648466     \n",
      "20231105 094613\t601\t976271\tgbdt\tbinary\tcustom\tTRUE\tTRUE\tFALSE\tTRUE\t-100\t-1\t0\t0.001\t0\t0\t31\t168\t1\t1\t1\tFALSE\t1\t0.1\t50\t0.5\tTRUE\t279511\t0.275198918823473\t0.32486327912462\t723\t16035\t14755\t129730832.083958\t5\n",
      "Validate  6     970    99981339     104747727     \n",
      "20231105 095132\t601\t976271\tgbdt\tbinary\tcustom\tTRUE\tTRUE\tFALSE\tTRUE\t-100\t-1\t0\t0.001\t0\t0\t31\t547\t1\t1\t1\tFALSE\t1\t0.1\t50\t0.5\tTRUE\t279511\t0.152941050471095\t0.645387167052228\t502\t12627\t12087\t137034718.14093\t6\n",
      "Validate  7     790    102270805     105130534    \n",
      "20231105 095455\t601\t976271\tgbdt\tbinary\tcustom\tTRUE\tTRUE\tFALSE\tTRUE\t-100\t-1\t0\t0.001\t0\t0\t31\t370\t1\t1\t1\tFALSE\t1\t0.1\t50\t0.5\tTRUE\t279511\t0.19416275426125\t0.794035319192328\t845\t42464\t12829\t141995160.91954\t7\n",
      "Validate  8     430    101145092     101987215    \n",
      "20231105 095708\t601\t976271\tgbdt\tbinary\tcustom\tTRUE\tTRUE\tFALSE\tTRUE\t-100\t-1\t0\t0.001\t0\t0\t31\t19\t1\t1\t1\tFALSE\t1\t0.1\t50\t0.5\tTRUE\t279511\t0.208330530396255\t0.164289977450783\t938\t38948\t15774\t129528846.576712\t8\n",
      "Validate  9     610    101783106     106812885    \n",
      "20231105 100230\t601\t976271\tgbdt\tbinary\tcustom\tTRUE\tTRUE\tFALSE\tTRUE\t-100\t-1\t0\t0.001\t0\t0\t31\t69\t1\t1\t1\tFALSE\t1\t0.1\t50\t0.5\tTRUE\t279511\t0.0267066953639716\t0.560570734105559\t306\t19296\t13015\t135581796.601699\t9\n",
      "Validate  10     750    100163682     105628251    \n",
      "20231105 100551\t601\t976271\tgbdt\tbinary\tcustom\tTRUE\tTRUE\tFALSE\tTRUE\t-100\t-1\t0\t0.001\t0\t0\t31\t332\t1\t1\t1\tFALSE\t1\t0.1\t50\t0.5\tTRUE\t279511\t0.221560927090974\t0.826648094024347\t31\t34846\t14181\t139572020.489755\t10\n",
      "Validate  11     750    104731621     109288177    \n",
      "20231105 101228\t601\t976271\tgbdt\tbinary\tcustom\tTRUE\tTRUE\tFALSE\tTRUE\t-100\t-1\t0\t0.001\t0\t0\t31\t310\t1\t1\t1\tFALSE\t1\t0.1\t50\t0.5\tTRUE\t279511\t0.0852503757905397\t0.925651702728775\t683\t1679\t13741\t142762285.357321\t11\n",
      "Validate  12     570    98633834     103872115     \n",
      "20231105 101535\t601\t976271\tgbdt\tbinary\tcustom\tTRUE\tTRUE\tFALSE\tTRUE\t-100\t-1\t0\t0.001\t0\t0\t31\t95\t1\t1\t1\tFALSE\t1\t0.1\t50\t0.5\tTRUE\t279511\t0.0506736029737185\t0.207218508431007\t246\t49507\t16074\t122618751.624188\t12\n",
      "Validate  13     620    97964062     101880585     \n",
      "20231105 101914\t601\t976271\tgbdt\tbinary\tcustom\tTRUE\tTRUE\tFALSE\tTRUE\t-100\t-1\t0\t0.001\t0\t0\t31\t206\t1\t1\t1\tFALSE\t1\t0.1\t50\t0.5\tTRUE\t279511\t0.241211629895149\t0.979385213098052\t981\t9632\t11381\t133369061.969015\t13\n",
      "Validate  14     820    97876330     102151941     \n",
      "20231105 102525\t601\t976271\tgbdt\tbinary\tcustom\tTRUE\tTRUE\tFALSE\tTRUE\t-100\t-1\t0\t0.001\t0\t0\t31\t411\t1\t1\t1\tFALSE\t1\t0.1\t50\t0.5\tTRUE\t279511\t0.289686593103062\t0.413139080222854\t417\t43892\t15466\t135960408.795602\t14\n",
      "Validate  15     590    95397704     95677609    \n",
      "20231105 102726\t601\t976271\tgbdt\tbinary\tcustom\tTRUE\tTRUE\tFALSE\tTRUE\t-100\t-1\t0\t0.001\t0\t0\t31\t180\t1\t1\t1\tFALSE\t1\t0.1\t50\t0.5\tTRUE\t279511\t0.260954398056728\t0.0272621639125061\t107\t5794\t11764\t112304053.973013\t15\n",
      "Validate  16     470    106587506     106661011    \n",
      "20231105 103117\t601\t976271\tgbdt\tbinary\tcustom\tTRUE\tTRUE\tFALSE\tTRUE\t-100\t-1\t0\t0.001\t0\t0\t31\t31\t1\t1\t1\tFALSE\t1\t0.1\t50\t0.5\tTRUE\t279511\t0.0917235747127569\t0.46677263015138\t785\t24824\t15440\t132664727.636182\t16\n"
     ]
    },
    {
     "name": "stderr",
     "output_type": "stream",
     "text": [
      "[mbo] 0: learning_rate=0.129; feature_fraction=0.59; num_leaves=603; min_data_in_leaf=34060 : y = 1.39e+08 : 535.6 secs : initdesign\n",
      "\n",
      "[mbo] 0: learning_rate=0.0661; feature_fraction=0.307; num_leaves=135; min_data_in_leaf=27020 : y = 1.44e+08 : 789.3 secs : initdesign\n",
      "\n",
      "[mbo] 0: learning_rate=0.113; feature_fraction=0.723; num_leaves=381; min_data_in_leaf=28634 : y = 1.47e+08 : 327.1 secs : initdesign\n",
      "\n",
      "[mbo] 0: learning_rate=0.176; feature_fraction=0.0837; num_leaves=542; min_data_in_leaf=6859 : y = 1.37e+08 : 164.0 secs : initdesign\n",
      "\n",
      "[mbo] 0: learning_rate=0.275; feature_fraction=0.325; num_leaves=723; min_data_in_leaf=16035 : y = 1.3e+08 : 244.6 secs : initdesign\n",
      "\n",
      "[mbo] 0: learning_rate=0.153; feature_fraction=0.645; num_leaves=502; min_data_in_leaf=12627 : y = 1.37e+08 : 318.9 secs : initdesign\n",
      "\n",
      "[mbo] 0: learning_rate=0.194; feature_fraction=0.794; num_leaves=845; min_data_in_leaf=42464 : y = 1.42e+08 : 203.7 secs : initdesign\n",
      "\n",
      "[mbo] 0: learning_rate=0.208; feature_fraction=0.164; num_leaves=938; min_data_in_leaf=38948 : y = 1.3e+08 : 132.6 secs : initdesign\n",
      "\n",
      "[mbo] 0: learning_rate=0.0267; feature_fraction=0.561; num_leaves=306; min_data_in_leaf=19296 : y = 1.36e+08 : 322.4 secs : initdesign\n",
      "\n",
      "[mbo] 0: learning_rate=0.222; feature_fraction=0.827; num_leaves=31; min_data_in_leaf=34846 : y = 1.4e+08 : 200.9 secs : initdesign\n",
      "\n",
      "[mbo] 0: learning_rate=0.0853; feature_fraction=0.926; num_leaves=683; min_data_in_leaf=1679 : y = 1.43e+08 : 396.6 secs : initdesign\n",
      "\n",
      "[mbo] 0: learning_rate=0.0507; feature_fraction=0.207; num_leaves=246; min_data_in_leaf=49507 : y = 1.23e+08 : 187.6 secs : initdesign\n",
      "\n",
      "[mbo] 0: learning_rate=0.241; feature_fraction=0.979; num_leaves=981; min_data_in_leaf=9632 : y = 1.33e+08 : 218.7 secs : initdesign\n",
      "\n",
      "[mbo] 0: learning_rate=0.29; feature_fraction=0.413; num_leaves=417; min_data_in_leaf=43892 : y = 1.36e+08 : 370.6 secs : initdesign\n",
      "\n",
      "[mbo] 0: learning_rate=0.261; feature_fraction=0.0273; num_leaves=107; min_data_in_leaf=5794 : y = 1.12e+08 : 121.4 secs : initdesign\n",
      "\n",
      "[mbo] 0: learning_rate=0.0917; feature_fraction=0.467; num_leaves=785; min_data_in_leaf=24824 : y = 1.33e+08 : 231.1 secs : initdesign\n",
      "\n",
      "Saved the current state after iteration 1 in the file HT8230 (Clase 12, Ajustado Sem1).RDATA.\n",
      "\n"
     ]
    },
    {
     "name": "stdout",
     "output_type": "stream",
     "text": [
      "Validate  17     1290    104392284     107757675    \n",
      "20231105 104220\t601\t976271\tgbdt\tbinary\tcustom\tTRUE\tTRUE\tFALSE\tTRUE\t-100\t-1\t0\t0.001\t0\t0\t31\t856\t1\t1\t1\tFALSE\t1\t0.1\t50\t0.5\tTRUE\t279511\t0.0978448846745359\t0.536188477193366\t269\t28253\t12918\t143617058.470765\t17\n"
     ]
    },
    {
     "name": "stderr",
     "output_type": "stream",
     "text": [
      "[mbo] 1: learning_rate=0.0978; feature_fraction=0.536; num_leaves=269; min_data_in_leaf=28253 : y = 1.44e+08 : 660.5 secs : infill_ei\n",
      "\n",
      "Saved the current state after iteration 2 in the file HT8230 (Clase 12, Ajustado Sem1).RDATA.\n",
      "\n"
     ]
    },
    {
     "name": "stdout",
     "output_type": "stream",
     "text": [
      "Validate  18     950    104566777     106337273    \n",
      "20231105 104652\t601\t976271\tgbdt\tbinary\tcustom\tTRUE\tTRUE\tFALSE\tTRUE\t-100\t-1\t0\t0.001\t0\t0\t31\t524\t1\t1\t1\tFALSE\t1\t0.1\t50\t0.5\tTRUE\t279511\t0.117424750690646\t0.844910131385464\t79\t28755\t13399\t145243741.629185\t18\n"
     ]
    },
    {
     "name": "stderr",
     "output_type": "stream",
     "text": [
      "[mbo] 2: learning_rate=0.117; feature_fraction=0.845; num_leaves=79; min_data_in_leaf=28755 : y = 1.45e+08 : 268.9 secs : infill_ei\n",
      "\n"
     ]
    },
    {
     "name": "stdout",
     "output_type": "stream",
     "text": [
      "Validate  19     1670    106944503     108369099    \n",
      "20231105 105440\t601\t976271\tgbdt\tbinary\tcustom\tTRUE\tTRUE\tFALSE\tTRUE\t-100\t-1\t0\t0.001\t0\t0\t31\t1224\t1\t1\t1\tFALSE\t1\t0.1\t50\t0.5\tTRUE\t279511\t0.0725385577029135\t0.77665318272459\t244\t29086\t13609\t144117549.725137\t19\n"
     ]
    },
    {
     "name": "stderr",
     "output_type": "stream",
     "text": [
      "[mbo] 3: learning_rate=0.0725; feature_fraction=0.777; num_leaves=244; min_data_in_leaf=29086 : y = 1.44e+08 : 467.6 secs : infill_ei\n",
      "\n",
      "Saved the current state after iteration 4 in the file HT8230 (Clase 12, Ajustado Sem1).RDATA.\n",
      "\n"
     ]
    },
    {
     "name": "stdout",
     "output_type": "stream",
     "text": [
      "Validate  20     620    100798450     106012415    \n",
      "20231105 105740\t601\t976271\tgbdt\tbinary\tcustom\tTRUE\tTRUE\tFALSE\tTRUE\t-100\t-1\t0\t0.001\t0\t0\t31\t206\t1\t1\t1\tFALSE\t1\t0.1\t50\t0.5\tTRUE\t279511\t0.213582937715666\t0.999565362169339\t422\t28193\t13550\t141456566.716642\t20\n"
     ]
    },
    {
     "name": "stderr",
     "output_type": "stream",
     "text": [
      "[mbo] 4: learning_rate=0.214; feature_fraction=1; num_leaves=422; min_data_in_leaf=28193 : y = 1.41e+08 : 176.5 secs : infill_ei\n",
      "\n"
     ]
    },
    {
     "name": "stdout",
     "output_type": "stream",
     "text": [
      "Validate  21     830    102752374     105800403    \n",
      "20231105 110132\t601\t976271\tgbdt\tbinary\tcustom\tTRUE\tTRUE\tFALSE\tTRUE\t-100\t-1\t0\t0.001\t0\t0\t31\t406\t1\t1\t1\tFALSE\t1\t0.1\t50\t0.5\tTRUE\t279511\t0.147298242283533\t0.794100783956197\t368\t28751\t12901\t143970161.41929\t21\n"
     ]
    },
    {
     "name": "stderr",
     "output_type": "stream",
     "text": [
      "[mbo] 5: learning_rate=0.147; feature_fraction=0.794; num_leaves=368; min_data_in_leaf=28751 : y = 1.44e+08 : 232.3 secs : infill_ei\n",
      "\n"
     ]
    },
    {
     "name": "stdout",
     "output_type": "stream",
     "text": [
      "Validate  22     960    106629622     109288824    \n",
      "20231105 110600\t601\t976271\tgbdt\tbinary\tcustom\tTRUE\tTRUE\tFALSE\tTRUE\t-100\t-1\t0\t0.001\t0\t0\t31\t526\t1\t1\t1\tFALSE\t1\t0.1\t50\t0.5\tTRUE\t279511\t0.111461287836593\t0.999760344980158\t422\t28981\t14068\t144905849.075462\t22\n"
     ]
    },
    {
     "name": "stderr",
     "output_type": "stream",
     "text": [
      "[mbo] 6: learning_rate=0.111; feature_fraction=1; num_leaves=422; min_data_in_leaf=28981 : y = 1.45e+08 : 267.7 secs : infill_ei\n",
      "\n",
      "Saved the current state after iteration 7 in the file HT8230 (Clase 12, Ajustado Sem1).RDATA.\n",
      "\n"
     ]
    },
    {
     "name": "stdout",
     "output_type": "stream",
     "text": [
      "Validate  23     1450    104092610     106429655    \n",
      "20231105 111251\t601\t976271\tgbdt\tbinary\tcustom\tTRUE\tTRUE\tFALSE\tTRUE\t-100\t-1\t0\t0.001\t0\t0\t31\t1007\t1\t1\t1\tFALSE\t1\t0.1\t50\t0.5\tTRUE\t279511\t0.0904267902732219\t0.810227397648195\t1024\t28648\t12227\t142964183.408296\t23\n"
     ]
    },
    {
     "name": "stderr",
     "output_type": "stream",
     "text": [
      "[mbo] 7: learning_rate=0.0904; feature_fraction=0.81; num_leaves=1024; min_data_in_leaf=28648 : y = 1.43e+08 : 407.3 secs : infill_ei\n",
      "\n"
     ]
    },
    {
     "name": "stdout",
     "output_type": "stream",
     "text": [
      "Validate  24     1300    102744426     104913380    \n",
      "20231105 111755\t601\t976271\tgbdt\tbinary\tcustom\tTRUE\tTRUE\tFALSE\tTRUE\t-100\t-1\t0\t0.001\t0\t0\t31\t870\t1\t1\t1\tFALSE\t1\t0.1\t50\t0.5\tTRUE\t279511\t0.113203927446391\t0.0677242975209447\t379\t28749\t11217\t139795782.608696\t24\n"
     ]
    },
    {
     "name": "stderr",
     "output_type": "stream",
     "text": [
      "[mbo] 8: learning_rate=0.113; feature_fraction=0.0677; num_leaves=379; min_data_in_leaf=28749 : y = 1.4e+08 : 304.3 secs : infill_ei\n",
      "\n",
      "Saved the current state after iteration 9 in the file HT8230 (Clase 12, Ajustado Sem1).RDATA.\n",
      "\n"
     ]
    },
    {
     "name": "stdout",
     "output_type": "stream",
     "text": [
      "Validate  25     1240    104365074     106627250    \n",
      "20231105 112354\t601\t976271\tgbdt\tbinary\tcustom\tTRUE\tTRUE\tFALSE\tTRUE\t-100\t-1\t0\t0.001\t0\t0\t31\t810\t1\t1\t1\tFALSE\t1\t0.1\t50\t0.5\tTRUE\t279511\t0.117161034732796\t0.766308398294013\t426\t27240\t13867\t144075227.886057\t25\n"
     ]
    },
    {
     "name": "stderr",
     "output_type": "stream",
     "text": [
      "[mbo] 9: learning_rate=0.117; feature_fraction=0.766; num_leaves=426; min_data_in_leaf=27240 : y = 1.44e+08 : 355.9 secs : infill_ei\n",
      "\n"
     ]
    },
    {
     "name": "stdout",
     "output_type": "stream",
     "text": [
      "Validate  26     630    99262106     105196112     \n",
      "20231105 112656\t601\t976271\tgbdt\tbinary\tcustom\tTRUE\tTRUE\tFALSE\tTRUE\t-100\t-1\t0\t0.001\t0\t0\t31\t63\t1\t1\t1\tFALSE\t1\t0.1\t50\t0.5\tTRUE\t279511\t0.023883223816638\t0.799203911237588\t271\t27156\t14787\t133840045.477261\t26\n"
     ]
    },
    {
     "name": "stderr",
     "output_type": "stream",
     "text": [
      "[mbo] 10: learning_rate=0.0239; feature_fraction=0.799; num_leaves=271; min_data_in_leaf=27156 : y = 1.34e+08 : 181.7 secs : infill_ei\n",
      "\n"
     ]
    },
    {
     "name": "stdout",
     "output_type": "stream",
     "text": [
      "Validate  27     1110    105395397     106975609    \n",
      "20231105 113208\t601\t976271\tgbdt\tbinary\tcustom\tTRUE\tTRUE\tFALSE\tTRUE\t-100\t-1\t0\t0.001\t0\t0\t31\t678\t1\t1\t1\tFALSE\t1\t0.1\t50\t0.5\tTRUE\t279511\t0.108178301898392\t0.74344040608454\t288\t30187\t13049\t147104216.391804\t27\n"
     ]
    },
    {
     "name": "stderr",
     "output_type": "stream",
     "text": [
      "[mbo] 11: learning_rate=0.108; feature_fraction=0.743; num_leaves=288; min_data_in_leaf=30187 : y = 1.47e+08 : 311.7 secs : infill_ei\n",
      "\n",
      "Saved the current state after iteration 12 in the file HT8230 (Clase 12, Ajustado Sem1).RDATA.\n",
      "\n"
     ]
    },
    {
     "name": "stdout",
     "output_type": "stream",
     "text": [
      "Validate  28     1050    110531504     113724627    \n",
      "20231105 114015\t601\t976271\tgbdt\tbinary\tcustom\tTRUE\tTRUE\tFALSE\tTRUE\t-100\t-1\t0\t0.001\t0\t0\t31\t607\t1\t1\t1\tFALSE\t1\t0.1\t50\t0.5\tTRUE\t279511\t0.0760609465115009\t0.290404311446537\t520\t3975\t12076\t145265161.41929\t28\n"
     ]
    },
    {
     "name": "stderr",
     "output_type": "stream",
     "text": [
      "[mbo] 12: learning_rate=0.0761; feature_fraction=0.29; num_leaves=520; min_data_in_leaf=3975 : y = 1.45e+08 : 483.3 secs : infill_ei\n",
      "\n"
     ]
    },
    {
     "name": "stdout",
     "output_type": "stream",
     "text": [
      "Validate  29     1140    105257545     108127895    \n",
      "20231105 115034\t601\t976271\tgbdt\tbinary\tcustom\tTRUE\tTRUE\tFALSE\tTRUE\t-100\t-1\t0\t0.001\t0\t0\t31\t713\t1\t1\t1\tFALSE\t1\t0.1\t50\t0.5\tTRUE\t279511\t0.111907718921026\t0.32692175613561\t846\t1489\t12552\t137087664.167916\t29\n"
     ]
    },
    {
     "name": "stderr",
     "output_type": "stream",
     "text": [
      "[mbo] 13: learning_rate=0.112; feature_fraction=0.327; num_leaves=846; min_data_in_leaf=1489 : y = 1.37e+08 : 618.9 secs : infill_ei\n",
      "\n",
      "Saved the current state after iteration 14 in the file HT8230 (Clase 12, Ajustado Sem1).RDATA.\n",
      "\n"
     ]
    },
    {
     "name": "stdout",
     "output_type": "stream",
     "text": [
      "Validate  30     990    109776060     113588626    \n",
      "20231105 115710\t601\t976271\tgbdt\tbinary\tcustom\tTRUE\tTRUE\tFALSE\tTRUE\t-100\t-1\t0\t0.001\t0\t0\t31\t529\t1\t1\t1\tFALSE\t1\t0.1\t50\t0.5\tTRUE\t279511\t0.0640463565975279\t0.632647082648255\t286\t5350\t13284\t144339356.321839\t30\n"
     ]
    },
    {
     "name": "stderr",
     "output_type": "stream",
     "text": [
      "[mbo] 14: learning_rate=0.064; feature_fraction=0.633; num_leaves=286; min_data_in_leaf=5350 : y = 1.44e+08 : 393.4 secs : infill_ei\n",
      "\n"
     ]
    },
    {
     "name": "stdout",
     "output_type": "stream",
     "text": [
      "Validate  31     1110    107172421     108329201    \n",
      "20231105 120223\t601\t976271\tgbdt\tbinary\tcustom\tTRUE\tTRUE\tFALSE\tTRUE\t-100\t-1\t0\t0.001\t0\t0\t31\t658\t1\t1\t1\tFALSE\t1\t0.1\t50\t0.5\tTRUE\t279511\t0.064590918921125\t0.103256270521805\t294\t8680\t16188\t134691936.031984\t31\n"
     ]
    },
    {
     "name": "stderr",
     "output_type": "stream",
     "text": [
      "[mbo] 15: learning_rate=0.0646; feature_fraction=0.103; num_leaves=294; min_data_in_leaf=8680 : y = 1.35e+08 : 312.4 secs : infill_ei\n",
      "\n",
      "Saved the current state after iteration 16 in the file HT8230 (Clase 12, Ajustado Sem1).RDATA.\n",
      "\n"
     ]
    },
    {
     "name": "stdout",
     "output_type": "stream",
     "text": [
      "Validate  32     870    108978172     111558951    \n",
      "20231105 121219\t601\t976271\tgbdt\tbinary\tcustom\tTRUE\tTRUE\tFALSE\tTRUE\t-100\t-1\t0\t0.001\t0\t0\t31\t403\t1\t1\t1\tFALSE\t1\t0.1\t50\t0.5\tTRUE\t279511\t0.056610235035005\t0.533184261421337\t517\t1177\t11963\t141349614.692654\t32\n"
     ]
    },
    {
     "name": "stderr",
     "output_type": "stream",
     "text": [
      "[mbo] 16: learning_rate=0.0566; feature_fraction=0.533; num_leaves=517; min_data_in_leaf=1177 : y = 1.41e+08 : 592.3 secs : infill_ei\n",
      "\n"
     ]
    },
    {
     "name": "stdout",
     "output_type": "stream",
     "text": [
      "Validate  33     1030    109979932     112249765    \n",
      "20231105 121926\t601\t976271\tgbdt\tbinary\tcustom\tTRUE\tTRUE\tFALSE\tTRUE\t-100\t-1\t0\t0.001\t0\t0\t31\t590\t1\t1\t1\tFALSE\t1\t0.1\t50\t0.5\tTRUE\t279511\t0.0858829864262536\t0.647410120438319\t476\t4542\t14864\t139578026.986507\t33\n"
     ]
    },
    {
     "name": "stderr",
     "output_type": "stream",
     "text": [
      "[mbo] 17: learning_rate=0.0859; feature_fraction=0.647; num_leaves=476; min_data_in_leaf=4542 : y = 1.4e+08 : 426.8 secs : infill_ei\n",
      "\n",
      "Saved the current state after iteration 18 in the file HT8230 (Clase 12, Ajustado Sem1).RDATA.\n",
      "\n"
     ]
    },
    {
     "name": "stdout",
     "output_type": "stream",
     "text": [
      "Validate  34     1400    101475572     105025856    \n",
      "20231105 122601\t601\t976271\tgbdt\tbinary\tcustom\tTRUE\tTRUE\tFALSE\tTRUE\t-100\t-1\t0\t0.001\t0\t0\t31\t970\t1\t1\t1\tFALSE\t1\t0.1\t50\t0.5\tTRUE\t279511\t0.108289181257988\t0.68672543997111\t103\t28790\t14199\t142970438.28086\t34\n"
     ]
    },
    {
     "name": "stderr",
     "output_type": "stream",
     "text": [
      "[mbo] 18: learning_rate=0.108; feature_fraction=0.687; num_leaves=103; min_data_in_leaf=28790 : y = 1.43e+08 : 392.4 secs : infill_ei\n",
      "\n"
     ]
    },
    {
     "name": "stdout",
     "output_type": "stream",
     "text": [
      "Validate  35     1430    103741375     106185813    \n",
      "20231105 123224\t601\t976271\tgbdt\tbinary\tcustom\tTRUE\tTRUE\tFALSE\tTRUE\t-100\t-1\t0\t0.001\t0\t0\t31\t995\t1\t1\t1\tFALSE\t1\t0.1\t50\t0.5\tTRUE\t279511\t0.109932193699394\t0.888931932356793\t334\t36277\t14215\t144789052.973513\t35\n"
     ]
    },
    {
     "name": "stderr",
     "output_type": "stream",
     "text": [
      "[mbo] 19: learning_rate=0.11; feature_fraction=0.889; num_leaves=334; min_data_in_leaf=36277 : y = 1.45e+08 : 382.2 secs : infill_ei\n",
      "\n",
      "Saved the current state after iteration 20 in the file HT8230 (Clase 12, Ajustado Sem1).RDATA.\n",
      "\n"
     ]
    },
    {
     "name": "stdout",
     "output_type": "stream",
     "text": [
      "Validate  36     1250    108073245     109329103    \n",
      "20231105 124329\t601\t976271\tgbdt\tbinary\tcustom\tTRUE\tTRUE\tFALSE\tTRUE\t-100\t-1\t0\t0.001\t0\t0\t31\t801\t1\t1\t1\tFALSE\t1\t0.1\t50\t0.5\tTRUE\t279511\t0.0705830785368811\t0.389782715348525\t226\t2442\t11674\t139840920.53973\t36\n"
     ]
    },
    {
     "name": "stderr",
     "output_type": "stream",
     "text": [
      "[mbo] 20: learning_rate=0.0706; feature_fraction=0.39; num_leaves=226; min_data_in_leaf=2442 : y = 1.4e+08 : 662.1 secs : infill_ei\n",
      "\n",
      "Saved the current state after iteration 21 in the file HT8230 (Clase 12, Ajustado Sem1).RDATA.\n",
      "\n"
     ]
    },
    {
     "name": "stdout",
     "output_type": "stream",
     "text": [
      "Validate  37     960    106045410     107956456    \n",
      "20231105 124936\t601\t976271\tgbdt\tbinary\tcustom\tTRUE\tTRUE\tFALSE\tTRUE\t-100\t-1\t0\t0.001\t0\t0\t31\t518\t1\t1\t1\tFALSE\t1\t0.1\t50\t0.5\tTRUE\t279511\t0.0797934405628133\t0.956974561251423\t191\t6623\t14266\t141125786.106947\t37\n"
     ]
    },
    {
     "name": "stderr",
     "output_type": "stream",
     "text": [
      "[mbo] 21: learning_rate=0.0798; feature_fraction=0.957; num_leaves=191; min_data_in_leaf=6623 : y = 1.41e+08 : 364.3 secs : infill_ei\n",
      "\n"
     ]
    },
    {
     "name": "stdout",
     "output_type": "stream",
     "text": [
      "Validate  38     1220    101147831     103829331    \n",
      "20231105 125744\t601\t976271\tgbdt\tbinary\tcustom\tTRUE\tTRUE\tFALSE\tTRUE\t-100\t-1\t0\t0.001\t0\t0\t31\t786\t1\t1\t1\tFALSE\t1\t0.1\t50\t0.5\tTRUE\t279511\t0.107903697220596\t0.298903609013801\t354\t24033\t12610\t142736016.991504\t38\n"
     ]
    },
    {
     "name": "stderr",
     "output_type": "stream",
     "text": [
      "[mbo] 22: learning_rate=0.108; feature_fraction=0.299; num_leaves=354; min_data_in_leaf=24033 : y = 1.43e+08 : 487.0 secs : infill_ei\n",
      "\n",
      "Saved the current state after iteration 23 in the file HT8230 (Clase 12, Ajustado Sem1).RDATA.\n",
      "\n"
     ]
    },
    {
     "name": "stdout",
     "output_type": "stream",
     "text": [
      "Validate  39     1180    105024187     107335240    \n",
      "20231105 130318\t601\t976271\tgbdt\tbinary\tcustom\tTRUE\tTRUE\tFALSE\tTRUE\t-100\t-1\t0\t0.001\t0\t0\t31\t747\t1\t1\t1\tFALSE\t1\t0.1\t50\t0.5\tTRUE\t279511\t0.10946776623675\t0.999684762000441\t911\t32982\t13678\t147212000.9995\t39\n"
     ]
    },
    {
     "name": "stderr",
     "output_type": "stream",
     "text": [
      "[mbo] 23: learning_rate=0.109; feature_fraction=1; num_leaves=911; min_data_in_leaf=32982 : y = 1.47e+08 : 331.2 secs : infill_ei\n",
      "\n"
     ]
    },
    {
     "name": "stdout",
     "output_type": "stream",
     "text": [
      "Validate  40     450    104163145     105059271    \n",
      "20231105 130524\t601\t976271\tgbdt\tbinary\tcustom\tTRUE\tTRUE\tFALSE\tTRUE\t-100\t-1\t0\t0.001\t0\t0\t31\t22\t1\t1\t1\tFALSE\t1\t0.1\t50\t0.5\tTRUE\t279511\t0.109308338885047\t0.967940570594943\t1024\t41227\t14297\t133843438.78061\t40\n"
     ]
    },
    {
     "name": "stderr",
     "output_type": "stream",
     "text": [
      "[mbo] 24: learning_rate=0.109; feature_fraction=0.968; num_leaves=1024; min_data_in_leaf=41227 : y = 1.34e+08 : 125.5 secs : infill_ei\n",
      "\n"
     ]
    },
    {
     "name": "stdout",
     "output_type": "stream",
     "text": [
      "Validate  41     910    102365068     106286555    \n",
      "20231105 130941\t601\t976271\tgbdt\tbinary\tcustom\tTRUE\tTRUE\tFALSE\tTRUE\t-100\t-1\t0\t0.001\t0\t0\t31\t484\t1\t1\t1\tFALSE\t1\t0.1\t50\t0.5\tTRUE\t279511\t0.13192968435046\t0.999587472740971\t888\t28248\t13528\t142145239.38031\t41\n"
     ]
    },
    {
     "name": "stderr",
     "output_type": "stream",
     "text": [
      "[mbo] 25: learning_rate=0.132; feature_fraction=1; num_leaves=888; min_data_in_leaf=28248 : y = 1.42e+08 : 257.1 secs : infill_ei\n",
      "\n",
      "Saved the current state after iteration 26 in the file HT8230 (Clase 12, Ajustado Sem1).RDATA.\n",
      "\n"
     ]
    },
    {
     "name": "stdout",
     "output_type": "stream",
     "text": [
      "Validate  42     450    103819925     103839116    \n",
      "20231105 131153\t601\t976271\tgbdt\tbinary\tcustom\tTRUE\tTRUE\tFALSE\tTRUE\t-100\t-1\t0\t0.001\t0\t0\t31\t24\t1\t1\t1\tFALSE\t1\t0.1\t50\t0.5\tTRUE\t279511\t0.112184238606161\t0.86500138941886\t441\t31560\t17603\t122583177.911044\t42\n"
     ]
    },
    {
     "name": "stderr",
     "output_type": "stream",
     "text": [
      "[mbo] 26: learning_rate=0.112; feature_fraction=0.865; num_leaves=441; min_data_in_leaf=31560 : y = 1.23e+08 : 128.1 secs : infill_ei\n",
      "\n"
     ]
    },
    {
     "name": "stdout",
     "output_type": "stream",
     "text": [
      "Validate  43     1210    105043581     108312133    \n",
      "20231105 131735\t601\t976271\tgbdt\tbinary\tcustom\tTRUE\tTRUE\tFALSE\tTRUE\t-100\t-1\t0\t0.001\t0\t0\t31\t774\t1\t1\t1\tFALSE\t1\t0.1\t50\t0.5\tTRUE\t279511\t0.101205313031464\t0.996016993706463\t318\t29110\t14747\t140705432.783608\t43\n"
     ]
    },
    {
     "name": "stderr",
     "output_type": "stream",
     "text": [
      "[mbo] 27: learning_rate=0.101; feature_fraction=0.996; num_leaves=318; min_data_in_leaf=29110 : y = 1.41e+08 : 341.6 secs : infill_ei\n",
      "\n"
     ]
    },
    {
     "name": "stdout",
     "output_type": "stream",
     "text": [
      "Validate  44     1390    105170120     107039715    \n",
      "20231105 132823\t601\t976271\tgbdt\tbinary\tcustom\tTRUE\tTRUE\tFALSE\tTRUE\t-100\t-1\t0\t0.001\t0\t0\t31\t951\t1\t1\t1\tFALSE\t1\t0.1\t50\t0.5\tTRUE\t279511\t0.0850062425980735\t0.432552770400866\t259\t30226\t12232\t146584715.642179\t44\n"
     ]
    },
    {
     "name": "stderr",
     "output_type": "stream",
     "text": [
      "[mbo] 28: learning_rate=0.085; feature_fraction=0.433; num_leaves=259; min_data_in_leaf=30226 : y = 1.47e+08 : 647.4 secs : infill_ei\n",
      "\n",
      "Saved the current state after iteration 29 in the file HT8230 (Clase 12, Ajustado Sem1).RDATA.\n",
      "\n"
     ]
    },
    {
     "name": "stdout",
     "output_type": "stream",
     "text": [
      "Validate  45     460    104500964     105058214    \n",
      "20231105 133034\t601\t976271\tgbdt\tbinary\tcustom\tTRUE\tTRUE\tFALSE\tTRUE\t-100\t-1\t0\t0.001\t0\t0\t31\t24\t1\t1\t1\tFALSE\t1\t0.1\t50\t0.5\tTRUE\t279511\t0.105636836670604\t0.930745525354329\t918\t31580\t16470\t128413828.085957\t45\n"
     ]
    },
    {
     "name": "stderr",
     "output_type": "stream",
     "text": [
      "[mbo] 29: learning_rate=0.106; feature_fraction=0.931; num_leaves=918; min_data_in_leaf=31580 : y = 1.28e+08 : 128.2 secs : infill_ei\n",
      "\n"
     ]
    },
    {
     "name": "stdout",
     "output_type": "stream",
     "text": [
      "Validate  46     670    104877047     108212325    \n",
      "20231105 133618\t601\t976271\tgbdt\tbinary\tcustom\tTRUE\tTRUE\tFALSE\tTRUE\t-100\t-1\t0\t0.001\t0\t0\t31\t261\t1\t1\t1\tFALSE\t1\t0.1\t50\t0.5\tTRUE\t279511\t0.219295176006098\t0.533428394957128\t379\t30892\t15239\t138257594.702649\t46\n"
     ]
    },
    {
     "name": "stderr",
     "output_type": "stream",
     "text": [
      "[mbo] 30: learning_rate=0.219; feature_fraction=0.533; num_leaves=379; min_data_in_leaf=30892 : y = 1.38e+08 : 342.9 secs : infill_ei\n",
      "\n"
     ]
    },
    {
     "name": "stdout",
     "output_type": "stream",
     "text": [
      "Validate  47     490    99313033     102471107    \n",
      "20231105 134045\t601\t976271\tgbdt\tbinary\tcustom\tTRUE\tTRUE\tFALSE\tTRUE\t-100\t-1\t0\t0.001\t0\t0\t31\t38\t1\t1\t1\tFALSE\t1\t0.1\t50\t0.5\tTRUE\t279511\t0.0679463801090529\t0.519576129272802\t1024\t32800\t16955\t127600397.301349\t47\n"
     ]
    },
    {
     "name": "stderr",
     "output_type": "stream",
     "text": [
      "[mbo] 31: learning_rate=0.0679; feature_fraction=0.52; num_leaves=1024; min_data_in_leaf=32800 : y = 1.28e+08 : 267.0 secs : infill_ei\n",
      "\n",
      "Saved the current state after iteration 32 in the file HT8230 (Clase 12, Ajustado Sem1).RDATA.\n",
      "\n"
     ]
    },
    {
     "name": "stdout",
     "output_type": "stream",
     "text": [
      "Validate  48     550    99405541     105363990     \n",
      "20231105 134348\t601\t976271\tgbdt\tbinary\tcustom\tTRUE\tTRUE\tFALSE\tTRUE\t-100\t-1\t0\t0.001\t0\t0\t31\t141\t1\t1\t1\tFALSE\t1\t0.1\t50\t0.5\tTRUE\t279511\t0.299691394519305\t0.64672403506852\t23\t22695\t15088\t142076673.663168\t48\n"
     ]
    },
    {
     "name": "stderr",
     "output_type": "stream",
     "text": [
      "[mbo] 32: learning_rate=0.3; feature_fraction=0.647; num_leaves=23; min_data_in_leaf=22695 : y = 1.42e+08 : 179.7 secs : infill_ei\n",
      "\n"
     ]
    },
    {
     "name": "stdout",
     "output_type": "stream",
     "text": [
      "Validate  49     770    102665474     103795874    \n",
      "20231105 134720\t601\t976271\tgbdt\tbinary\tcustom\tTRUE\tTRUE\tFALSE\tTRUE\t-100\t-1\t0\t0.001\t0\t0\t31\t216\t1\t1\t1\tFALSE\t1\t0.1\t50\t0.5\tTRUE\t279511\t0.0255868075238671\t0.0382536196312106\t419\t3467\t14185\t133102201.3993\t49\n"
     ]
    },
    {
     "name": "stderr",
     "output_type": "stream",
     "text": [
      "[mbo] 33: learning_rate=0.0256; feature_fraction=0.0383; num_leaves=419; min_data_in_leaf=3467 : y = 1.33e+08 : 212.2 secs : infill_ei\n",
      "\n"
     ]
    },
    {
     "name": "stdout",
     "output_type": "stream",
     "text": [
      "Validate  50     1440    104874633     105663534    \n",
      "20231105 135916\t601\t976271\tgbdt\tbinary\tcustom\tTRUE\tTRUE\tFALSE\tTRUE\t-100\t-1\t0\t0.001\t0\t0\t31\t1011\t1\t1\t1\tFALSE\t1\t0.1\t50\t0.5\tTRUE\t279511\t0.110472577592436\t0.394277099015684\t865\t41216\t14220\t140999310.344828\t50\n"
     ]
    },
    {
     "name": "stderr",
     "output_type": "stream",
     "text": [
      "[mbo] 34: learning_rate=0.11; feature_fraction=0.394; num_leaves=865; min_data_in_leaf=41216 : y = 1.41e+08 : 715.0 secs : infill_ei\n",
      "\n",
      "Saved the current state after iteration 35 in the file HT8230 (Clase 12, Ajustado Sem1).RDATA.\n",
      "\n"
     ]
    },
    {
     "name": "stdout",
     "output_type": "stream",
     "text": [
      "Validate  51     1640    108577693     109272368    \n",
      "20231105 141056\t601\t976271\tgbdt\tbinary\tcustom\tTRUE\tTRUE\tFALSE\tTRUE\t-100\t-1\t0\t0.001\t0\t0\t31\t1154\t1\t1\t1\tFALSE\t1\t0.1\t50\t0.5\tTRUE\t279511\t0.0419489395878789\t0.84226222783401\t622\t9623\t13933\t146711278.86057\t51\n"
     ]
    },
    {
     "name": "stderr",
     "output_type": "stream",
     "text": [
      "[mbo] 35: learning_rate=0.0419; feature_fraction=0.842; num_leaves=622; min_data_in_leaf=9623 : y = 1.47e+08 : 697.1 secs : infill_ei\n",
      "\n",
      "Saved the current state after iteration 36 in the file HT8230 (Clase 12, Ajustado Sem1).RDATA.\n",
      "\n"
     ]
    },
    {
     "name": "stdout",
     "output_type": "stream",
     "text": [
      "Validate  52     1070    103417573     105717908    \n",
      "20231105 141634\t601\t976271\tgbdt\tbinary\tcustom\tTRUE\tTRUE\tFALSE\tTRUE\t-100\t-1\t0\t0.001\t0\t0\t31\t653\t1\t1\t1\tFALSE\t1\t0.1\t50\t0.5\tTRUE\t279511\t0.169387332471536\t0.939534645981941\t711\t42638\t13499\t145804791.104448\t52\n"
     ]
    },
    {
     "name": "stderr",
     "output_type": "stream",
     "text": [
      "[mbo] 36: learning_rate=0.169; feature_fraction=0.94; num_leaves=711; min_data_in_leaf=42638 : y = 1.46e+08 : 335.0 secs : infill_ei\n",
      "\n"
     ]
    },
    {
     "name": "stdout",
     "output_type": "stream",
     "text": [
      "Validate  53     640    101311955     105091129    \n",
      "20231105 142127\t601\t976271\tgbdt\tbinary\tcustom\tTRUE\tTRUE\tFALSE\tTRUE\t-100\t-1\t0\t0.001\t0\t0\t31\t230\t1\t1\t1\tFALSE\t1\t0.1\t50\t0.5\tTRUE\t279511\t0.231584919452235\t0.173097595043487\t920\t2080\t13344\t133784503.748126\t53\n"
     ]
    },
    {
     "name": "stderr",
     "output_type": "stream",
     "text": [
      "[mbo] 37: learning_rate=0.232; feature_fraction=0.173; num_leaves=920; min_data_in_leaf=2080 : y = 1.34e+08 : 293.0 secs : infill_ei\n",
      "\n",
      "Saved the current state after iteration 38 in the file HT8230 (Clase 12, Ajustado Sem1).RDATA.\n",
      "\n"
     ]
    },
    {
     "name": "stdout",
     "output_type": "stream",
     "text": [
      "Validate  54     530    98126423     99478900    \n",
      "20231105 142304\t601\t976271\tgbdt\tbinary\tcustom\tTRUE\tTRUE\tFALSE\tTRUE\t-100\t-1\t0\t0.001\t0\t0\t31\t119\t1\t1\t1\tFALSE\t1\t0.1\t50\t0.5\tTRUE\t279511\t0.285965586658801\t0.0141181996187581\t180\t41347\t14072\t112520427.786107\t54\n"
     ]
    },
    {
     "name": "stderr",
     "output_type": "stream",
     "text": [
      "[mbo] 38: learning_rate=0.286; feature_fraction=0.0141; num_leaves=180; min_data_in_leaf=41347 : y = 1.13e+08 : 94.0 secs : infill_ei\n",
      "\n"
     ]
    },
    {
     "name": "stdout",
     "output_type": "stream",
     "text": [
      "Validate  55     940    106588913     108898853    \n",
      "20231105 142740\t601\t976271\tgbdt\tbinary\tcustom\tTRUE\tTRUE\tFALSE\tTRUE\t-100\t-1\t0\t0.001\t0\t0\t31\t509\t1\t1\t1\tFALSE\t1\t0.1\t50\t0.5\tTRUE\t279511\t0.12237541719017\t0.999677836947933\t887\t33905\t12238\t146342195.902049\t55\n"
     ]
    },
    {
     "name": "stderr",
     "output_type": "stream",
     "text": [
      "[mbo] 39: learning_rate=0.122; feature_fraction=1; num_leaves=887; min_data_in_leaf=33905 : y = 1.46e+08 : 275.4 secs : infill_ei\n",
      "\n"
     ]
    },
    {
     "name": "stdout",
     "output_type": "stream",
     "text": [
      "Validate  56     1050    102800412     106294307    \n",
      "20231105 143659\t601\t976271\tgbdt\tbinary\tcustom\tTRUE\tTRUE\tFALSE\tTRUE\t-100\t-1\t0\t0.001\t0\t0\t31\t618\t1\t1\t1\tFALSE\t1\t0.1\t50\t0.5\tTRUE\t279511\t0.116403122921909\t0.534073885046116\t639\t29942\t13979\t144034536.231884\t56\n"
     ]
    },
    {
     "name": "stderr",
     "output_type": "stream",
     "text": [
      "[mbo] 40: learning_rate=0.116; feature_fraction=0.534; num_leaves=639; min_data_in_leaf=29942 : y = 1.44e+08 : 558.2 secs : infill_ei\n",
      "\n",
      "Saved the current state after iteration 41 in the file HT8230 (Clase 12, Ajustado Sem1).RDATA.\n",
      "\n"
     ]
    },
    {
     "name": "stdout",
     "output_type": "stream",
     "text": [
      "Validate  57     1090    103930861     107480774    \n",
      "20231105 144221\t601\t976271\tgbdt\tbinary\tcustom\tTRUE\tTRUE\tFALSE\tTRUE\t-100\t-1\t0\t0.001\t0\t0\t31\t658\t1\t1\t1\tFALSE\t1\t0.1\t50\t0.5\tTRUE\t279511\t0.118311215412863\t0.999579692853121\t846\t33379\t14162\t145902101.949025\t57\n"
     ]
    },
    {
     "name": "stderr",
     "output_type": "stream",
     "text": [
      "[mbo] 41: learning_rate=0.118; feature_fraction=1; num_leaves=846; min_data_in_leaf=33379 : y = 1.46e+08 : 319.0 secs : infill_ei\n",
      "\n"
     ]
    },
    {
     "name": "stdout",
     "output_type": "stream",
     "text": [
      "Validate  58     970    104911589     107268605    \n",
      "20231105 144715\t601\t976271\tgbdt\tbinary\tcustom\tTRUE\tTRUE\tFALSE\tTRUE\t-100\t-1\t0\t0.001\t0\t0\t31\t545\t1\t1\t1\tFALSE\t1\t0.1\t50\t0.5\tTRUE\t279511\t0.11460476636436\t0.748363237579442\t488\t29417\t11946\t143987635.182409\t58\n"
     ]
    },
    {
     "name": "stderr",
     "output_type": "stream",
     "text": [
      "[mbo] 42: learning_rate=0.115; feature_fraction=0.748; num_leaves=488; min_data_in_leaf=29417 : y = 1.44e+08 : 293.4 secs : infill_ei\n",
      "\n",
      "Saved the current state after iteration 43 in the file HT8230 (Clase 12, Ajustado Sem1).RDATA.\n",
      "\n"
     ]
    },
    {
     "name": "stdout",
     "output_type": "stream",
     "text": [
      "Validate  59     850    103982002     105870869    \n",
      "20231105 145137\t601\t976271\tgbdt\tbinary\tcustom\tTRUE\tTRUE\tFALSE\tTRUE\t-100\t-1\t0\t0.001\t0\t0\t31\t417\t1\t1\t1\tFALSE\t1\t0.1\t50\t0.5\tTRUE\t279511\t0.104618548369077\t0.751409876618883\t360\t29237\t14292\t141862986.506747\t59\n"
     ]
    },
    {
     "name": "stderr",
     "output_type": "stream",
     "text": [
      "[mbo] 43: learning_rate=0.105; feature_fraction=0.751; num_leaves=360; min_data_in_leaf=29237 : y = 1.42e+08 : 258.1 secs : infill_ei\n",
      "\n"
     ]
    },
    {
     "name": "stdout",
     "output_type": "stream",
     "text": [
      "Validate  60     1060    106555259     107959685    \n",
      "20231105 145648\t601\t976271\tgbdt\tbinary\tcustom\tTRUE\tTRUE\tFALSE\tTRUE\t-100\t-1\t0\t0.001\t0\t0\t31\t628\t1\t1\t1\tFALSE\t1\t0.1\t50\t0.5\tTRUE\t279511\t0.104858330815705\t0.995987599316145\t777\t33871\t11472\t144422936.531734\t60\n"
     ]
    },
    {
     "name": "stderr",
     "output_type": "stream",
     "text": [
      "[mbo] 44: learning_rate=0.105; feature_fraction=0.996; num_leaves=777; min_data_in_leaf=33871 : y = 1.44e+08 : 310.4 secs : infill_ei\n",
      "\n"
     ]
    },
    {
     "name": "stdout",
     "output_type": "stream",
     "text": [
      "Validate  61     1810    108128559     108534615    \n",
      "20231105 150547\t601\t976271\tgbdt\tbinary\tcustom\tTRUE\tTRUE\tFALSE\tTRUE\t-100\t-1\t0\t0.001\t0\t0\t31\t1359\t1\t1\t1\tFALSE\t1\t0.1\t50\t0.5\tTRUE\t279511\t0.0729065136852127\t0.76904937244453\t390\t30107\t13851\t143773034.982509\t61\n"
     ]
    },
    {
     "name": "stderr",
     "output_type": "stream",
     "text": [
      "[mbo] 45: learning_rate=0.0729; feature_fraction=0.769; num_leaves=390; min_data_in_leaf=30107 : y = 1.44e+08 : 539.1 secs : infill_ei\n",
      "\n",
      "Saved the current state after iteration 46 in the file HT8230 (Clase 12, Ajustado Sem1).RDATA.\n",
      "\n"
     ]
    },
    {
     "name": "stdout",
     "output_type": "stream",
     "text": [
      "Validate  62     490    102874813     104640663    \n",
      "20231105 151009\t601\t976271\tgbdt\tbinary\tcustom\tTRUE\tTRUE\tFALSE\tTRUE\t-100\t-1\t0\t0.001\t0\t0\t31\t32\t1\t1\t1\tFALSE\t1\t0.1\t50\t0.5\tTRUE\t279511\t0.0673851183317053\t0.515151107008292\t416\t28062\t14654\t134381060.469765\t62\n"
     ]
    },
    {
     "name": "stderr",
     "output_type": "stream",
     "text": [
      "[mbo] 46: learning_rate=0.0674; feature_fraction=0.515; num_leaves=416; min_data_in_leaf=28062 : y = 1.34e+08 : 258.2 secs : infill_ei\n",
      "\n"
     ]
    },
    {
     "name": "stdout",
     "output_type": "stream",
     "text": [
      "Validate  63     470    104355447     105592128    \n",
      "20231105 151245\t601\t976271\tgbdt\tbinary\tcustom\tTRUE\tTRUE\tFALSE\tTRUE\t-100\t-1\t0\t0.001\t0\t0\t31\t27\t1\t1\t1\tFALSE\t1\t0.1\t50\t0.5\tTRUE\t279511\t0.0879105305000479\t0.167414699111822\t61\t26883\t11455\t132143995.502249\t63\n"
     ]
    },
    {
     "name": "stderr",
     "output_type": "stream",
     "text": [
      "[mbo] 47: learning_rate=0.0879; feature_fraction=0.167; num_leaves=61; min_data_in_leaf=26883 : y = 1.32e+08 : 155.1 secs : infill_ei\n",
      "\n"
     ]
    },
    {
     "name": "stdout",
     "output_type": "stream",
     "text": [
      "Validate  64     620    103032073     108303692    \n",
      "20231105 151623\t601\t976271\tgbdt\tbinary\tcustom\tTRUE\tTRUE\tFALSE\tTRUE\t-100\t-1\t0\t0.001\t0\t0\t31\t200\t1\t1\t1\tFALSE\t1\t0.1\t50\t0.5\tTRUE\t279511\t0.13902323326852\t0.827545999227408\t324\t15442\t13115\t145312601.1994\t64\n"
     ]
    },
    {
     "name": "stderr",
     "output_type": "stream",
     "text": [
      "[mbo] 48: learning_rate=0.139; feature_fraction=0.828; num_leaves=324; min_data_in_leaf=15442 : y = 1.45e+08 : 217.6 secs : infill_ei\n",
      "\n",
      "Saved the current state after iteration 49 in the file HT8230 (Clase 12, Ajustado Sem1).RDATA.\n",
      "\n"
     ]
    },
    {
     "name": "stdout",
     "output_type": "stream",
     "text": [
      "Validate  65     810    101546999     103440389    \n",
      "20231105 152456\t601\t976271\tgbdt\tbinary\tcustom\tTRUE\tTRUE\tFALSE\tTRUE\t-100\t-1\t0\t0.001\t0\t0\t31\t395\t1\t1\t1\tFALSE\t1\t0.1\t50\t0.5\tTRUE\t279511\t0.169078910679355\t0.477624603136291\t924\t3355\t13092\t137773951.024488\t65\n"
     ]
    },
    {
     "name": "stderr",
     "output_type": "stream",
     "text": [
      "[mbo] 49: learning_rate=0.169; feature_fraction=0.478; num_leaves=924; min_data_in_leaf=3355 : y = 1.38e+08 : 509.9 secs : infill_ei\n",
      "\n"
     ]
    },
    {
     "name": "stdout",
     "output_type": "stream",
     "text": [
      "Validate  66     670    103690255     104558969    \n",
      "20231105 152933\t601\t976271\tgbdt\tbinary\tcustom\tTRUE\tTRUE\tFALSE\tTRUE\t-100\t-1\t0\t0.001\t0\t0\t31\t255\t1\t1\t1\tFALSE\t1\t0.1\t50\t0.5\tTRUE\t279511\t0.26444843462048\t0.794464204651032\t965\t6633\t12602\t134271537.231384\t66\n"
     ]
    },
    {
     "name": "stderr",
     "output_type": "stream",
     "text": [
      "[mbo] 50: learning_rate=0.264; feature_fraction=0.794; num_leaves=965; min_data_in_leaf=6633 : y = 1.34e+08 : 276.6 secs : infill_ei\n",
      "\n",
      "Saved the final state in the file HT8230 (Clase 12, Ajustado Sem1).RDATA\n",
      "\n",
      "Saved the final state in the file HT8230 (Clase 12, Ajustado Sem1).RDATA\n",
      "\n"
     ]
    },
    {
     "name": "stdout",
     "output_type": "stream",
     "text": [
      "\n",
      "\n",
      "La optimizacion Bayesiana ha terminado\n"
     ]
    }
   ],
   "source": [
    "# inicio la optimizacion bayesiana\n",
    "if (!file.exists(kbayesiana)) {\n",
    "  run <- mbo(obj.fun, learner = surr.km, control = ctrl)\n",
    "} else {\n",
    "  run <- mboContinue(kbayesiana) # retomo en caso que ya exista\n",
    "}\n",
    "\n",
    "\n",
    "cat(\"\\n\\nLa optimizacion Bayesiana ha terminado\\n\")\n"
   ]
  },
  {
   "cell_type": "markdown",
   "metadata": {},
   "source": [
    "# Semilla 2, ajustado"
   ]
  },
  {
   "cell_type": "code",
   "execution_count": 131,
   "metadata": {
    "vscode": {
     "languageId": "r"
    }
   },
   "outputs": [
    {
     "data": {
      "text/html": [
       "<table class=\"dataframe\">\n",
       "<caption>A matrix: 2 × 6 of type dbl</caption>\n",
       "<thead>\n",
       "\t<tr><th></th><th scope=col>used</th><th scope=col>(Mb)</th><th scope=col>gc trigger</th><th scope=col>(Mb)</th><th scope=col>max used</th><th scope=col>(Mb)</th></tr>\n",
       "</thead>\n",
       "<tbody>\n",
       "\t<tr><th scope=row>Ncells</th><td>  2539319</td><td> 135.7</td><td>   8200216</td><td>  438.0</td><td>  22909774</td><td> 1223.6</td></tr>\n",
       "\t<tr><th scope=row>Vcells</th><td>709615603</td><td>5414.0</td><td>2028775068</td><td>15478.4</td><td>6843588264</td><td>52212.5</td></tr>\n",
       "</tbody>\n",
       "</table>\n"
      ],
      "text/latex": [
       "A matrix: 2 × 6 of type dbl\n",
       "\\begin{tabular}{r|llllll}\n",
       "  & used & (Mb) & gc trigger & (Mb) & max used & (Mb)\\\\\n",
       "\\hline\n",
       "\tNcells &   2539319 &  135.7 &    8200216 &   438.0 &   22909774 &  1223.6\\\\\n",
       "\tVcells & 709615603 & 5414.0 & 2028775068 & 15478.4 & 6843588264 & 52212.5\\\\\n",
       "\\end{tabular}\n"
      ],
      "text/markdown": [
       "\n",
       "A matrix: 2 × 6 of type dbl\n",
       "\n",
       "| <!--/--> | used | (Mb) | gc trigger | (Mb) | max used | (Mb) |\n",
       "|---|---|---|---|---|---|---|\n",
       "| Ncells |   2539319 |  135.7 |    8200216 |   438.0 |   22909774 |  1223.6 |\n",
       "| Vcells | 709615603 | 5414.0 | 2028775068 | 15478.4 | 6843588264 | 52212.5 |\n",
       "\n"
      ],
      "text/plain": [
       "       used      (Mb)   gc trigger (Mb)    max used   (Mb)   \n",
       "Ncells   2539319  135.7    8200216   438.0   22909774  1223.6\n",
       "Vcells 709615603 5414.0 2028775068 15478.4 6843588264 52212.5"
      ]
     },
     "metadata": {},
     "output_type": "display_data"
    }
   ],
   "source": [
    "# limpio la memoria\n",
    "rm(list = ls()) # remove all objects\n",
    "gc() # garbage collection"
   ]
  },
  {
   "cell_type": "code",
   "execution_count": 132,
   "metadata": {
    "vscode": {
     "languageId": "r"
    }
   },
   "outputs": [],
   "source": [
    "require(\"data.table\")\n",
    "require(\"rlist\")\n",
    "require(\"lightgbm\")"
   ]
  },
  {
   "cell_type": "code",
   "execution_count": 133,
   "metadata": {
    "vscode": {
     "languageId": "r"
    }
   },
   "outputs": [],
   "source": [
    "# paquetes necesarios para la Bayesian Optimization\n",
    "require(\"DiceKriging\")\n",
    "require(\"mlrMBO\")\n",
    "\n",
    "# para que se detenga ante el primer error\n",
    "# y muestre el stack de funciones invocadas\n",
    "options(error = function() {\n",
    "  traceback(20)\n",
    "  options(error = NULL)\n",
    "  stop(\"exiting after script error\")\n",
    "})"
   ]
  },
  {
   "cell_type": "markdown",
   "metadata": {},
   "source": [
    "## Definición de Parametros"
   ]
  },
  {
   "cell_type": "code",
   "execution_count": 134,
   "metadata": {
    "vscode": {
     "languageId": "r"
    }
   },
   "outputs": [],
   "source": [
    "# defino los parametros de la corrida, en una lista, la variable global  PARAM\n",
    "#  muy pronto esto se leera desde un archivo formato .yaml\n",
    "PARAM <- list()\n",
    "\n",
    "PARAM$experimento <- \"HT8230 (Clase 12, Ajustado Sem2)\"\n",
    "\n",
    "PARAM$input$dataset <- \"datasets/competencia_03_infla_ajustado_lags.csv.gz\"\n",
    "\n",
    "# los meses en los que vamos a entrenar\n",
    "#  mucha magia emerger de esta eleccion\n",
    "PARAM$input$testing <- c(202107) # Último mes, lo más cercano al 202109 de kaggle\n",
    "PARAM$input$validation <- c(202106)\n",
    "PARAM$input$training <- c(202105, 202104, 202103, 202102, 202101,202012) # 6 meses de entrenamiento\t\n",
    "\n",
    "# un undersampling de 0.1  toma solo el 10% de los CONTINUA\n",
    "PARAM$trainingstrategy$undersampling <- 1.0\n",
    "PARAM$trainingstrategy$semilla_azar <- c(279511, 279523, 279541, 279551, 279571)  # Aqui poner su  primer  semilla/ pongo todas mis semillas\n",
    "\n",
    "PARAM$hyperparametertuning$POS_ganancia <- 273000\n",
    "PARAM$hyperparametertuning$NEG_ganancia <- -7000\n",
    "\n",
    "# Aqui va semilla\n",
    "PARAM$lgb_semilla <- 279523"
   ]
  },
  {
   "cell_type": "code",
   "execution_count": 135,
   "metadata": {
    "vscode": {
     "languageId": "r"
    }
   },
   "outputs": [],
   "source": [
    "# Hiperparametros FIJOS de  lightgbm\n",
    "PARAM$lgb_basicos <- list(\n",
    "  boosting = \"gbdt\", # puede ir  dart  , ni pruebe random_forest\n",
    "  objective = \"binary\",\n",
    "  metric = \"custom\",\n",
    "  first_metric_only = TRUE,\n",
    "  boost_from_average = TRUE,\n",
    "  feature_pre_filter = FALSE,\n",
    "  force_row_wise = TRUE, # para reducir warnings\n",
    "  verbosity = -100,\n",
    "  max_depth = -1L, # -1 significa no limitar,  por ahora lo dejo fijo\n",
    "  min_gain_to_split = 0.0, # min_gain_to_split >= 0.0\n",
    "  min_sum_hessian_in_leaf = 0.001, #  min_sum_hessian_in_leaf >= 0.0\n",
    "  lambda_l1 = 0.0, # lambda_l1 >= 0.0\n",
    "  lambda_l2 = 0.0, # lambda_l2 >= 0.0\n",
    "  max_bin = 31L, # lo debo dejar fijo, no participa de la BO\n",
    "  num_iterations = 9999, # un numero muy grande, lo limita early_stopping_rounds\n",
    "\n",
    "  bagging_fraction = 1.0, # 0.0 < bagging_fraction <= 1.0\n",
    "  pos_bagging_fraction = 1.0, # 0.0 < pos_bagging_fraction <= 1.0\n",
    "  neg_bagging_fraction = 1.0, # 0.0 < neg_bagging_fraction <= 1.0\n",
    "  is_unbalance = FALSE, #\n",
    "  scale_pos_weight = 1.0, # scale_pos_weight > 0.0\n",
    "\n",
    "  drop_rate = 0.1, # 0.0 < neg_bagging_fraction <= 1.0\n",
    "  max_drop = 50, # <=0 means no limit\n",
    "  skip_drop = 0.5, # 0.0 <= skip_drop <= 1.0\n",
    "\n",
    "  extra_trees = TRUE, # Magic Sauce\n",
    "\n",
    "  seed = PARAM$lgb_semilla\n",
    ")"
   ]
  },
  {
   "cell_type": "code",
   "execution_count": 136,
   "metadata": {
    "vscode": {
     "languageId": "r"
    }
   },
   "outputs": [],
   "source": [
    "# Aqui se cargan los hiperparametros que se optimizan\n",
    "#  en la Bayesian Optimization\n",
    "PARAM$bo_lgb <- makeParamSet(\n",
    "  makeNumericParam(\"learning_rate\", lower = 0.02, upper = 0.3),\n",
    "  makeNumericParam(\"feature_fraction\", lower = 0.01, upper = 1.0),\n",
    "  makeIntegerParam(\"num_leaves\", lower = 8L, upper = 1024L),\n",
    "  makeIntegerParam(\"min_data_in_leaf\", lower = 100L, upper = 50000L)\n",
    ")\n",
    "\n",
    "# si usted es ambicioso, y tiene paciencia, podria subir este valor a 100\n",
    "PARAM$bo_iteraciones <- 50 # iteraciones de la Optimizacion Bayesiana"
   ]
  },
  {
   "cell_type": "code",
   "execution_count": 137,
   "metadata": {
    "vscode": {
     "languageId": "r"
    }
   },
   "outputs": [],
   "source": [
    "# graba a un archivo los componentes de lista\n",
    "# para el primer registro, escribe antes los titulos\n",
    "\n",
    "loguear <- function(\n",
    "    reg, arch = NA, folder = \"./exp/\",\n",
    "    ext = \".txt\", verbose = TRUE) {\n",
    "  archivo <- arch\n",
    "  if (is.na(arch)) archivo <- paste0(folder, substitute(reg), ext)\n",
    "\n",
    "  if (!file.exists(archivo)) # Escribo los titulos\n",
    "    {\n",
    "      linea <- paste0(\n",
    "        \"fecha\\t\",\n",
    "        paste(list.names(reg), collapse = \"\\t\"), \"\\n\"\n",
    "      )\n",
    "\n",
    "      cat(linea, file = archivo)\n",
    "    }\n",
    "\n",
    "  linea <- paste0(\n",
    "    format(Sys.time(), \"%Y%m%d %H%M%S\"), \"\\t\", # la fecha y hora\n",
    "    gsub(\", \", \"\\t\", toString(reg)), \"\\n\"\n",
    "  )\n",
    "\n",
    "  cat(linea, file = archivo, append = TRUE) # grabo al archivo\n",
    "\n",
    "  if (verbose) cat(linea) # imprimo por pantalla\n",
    "}"
   ]
  },
  {
   "cell_type": "code",
   "execution_count": 138,
   "metadata": {
    "vscode": {
     "languageId": "r"
    }
   },
   "outputs": [],
   "source": [
    "#------------------------------------------------------------------------------\n",
    "GLOBAL_arbol <- 0L\n",
    "GLOBAL_gan_max <- -Inf\n",
    "vcant_optima <- c()\n",
    "\n",
    "fganancia_lgbm_meseta <- function(probs, datos) {\n",
    "  vlabels <- get_field(datos, \"label\")\n",
    "  vpesos <- get_field(datos, \"weight\")\n",
    "\n",
    "\n",
    "  GLOBAL_arbol <<- GLOBAL_arbol + 1\n",
    "  tbl <- as.data.table(list(\n",
    "    \"prob\" = probs,\n",
    "    \"gan\" = ifelse(vlabels == 1 & vpesos > 1,\n",
    "      PARAM$hyperparametertuning$POS_ganancia,\n",
    "      PARAM$hyperparametertuning$NEG_ganancia  )\n",
    "  ))\n",
    "\n",
    "  setorder(tbl, -prob)\n",
    "  tbl[, posicion := .I]\n",
    "  tbl[, gan_acum := cumsum(gan)]\n",
    "\n",
    "  tbl[, gan_suavizada :=\n",
    "    frollmean(\n",
    "      x = gan_acum, n = 2001, align = \"center\",\n",
    "      na.rm = TRUE, hasNA = TRUE\n",
    "    )]\n",
    "\n",
    "  gan <- tbl[, max(gan_suavizada, na.rm = TRUE)]\n",
    "\n",
    "\n",
    "  pos <- which.max(tbl[, gan_suavizada])\n",
    "  vcant_optima <<- c(vcant_optima, pos)\n",
    "\n",
    "  if (GLOBAL_arbol %% 10 == 0) {\n",
    "    if (gan > GLOBAL_gan_max) GLOBAL_gan_max <<- gan\n",
    "\n",
    "    cat(\"\\r\")\n",
    "    cat(\n",
    "      \"Validate \", GLOBAL_iteracion, \" \", \" \",\n",
    "      GLOBAL_arbol, \"  \", gan, \"   \", GLOBAL_gan_max, \"   \"\n",
    "    )\n",
    "  }\n",
    "\n",
    "\n",
    "  return(list(\n",
    "    \"name\" = \"ganancia\",\n",
    "    \"value\" = gan,\n",
    "    \"higher_better\" = TRUE\n",
    "  ))\n",
    "}"
   ]
  },
  {
   "cell_type": "code",
   "execution_count": 139,
   "metadata": {
    "vscode": {
     "languageId": "r"
    }
   },
   "outputs": [],
   "source": [
    "#------------------------------------------------------------------------------\n",
    "\n",
    "EstimarGanancia_lightgbm <- function(x) {\n",
    "  gc()\n",
    "  GLOBAL_iteracion <<- GLOBAL_iteracion + 1L\n",
    "\n",
    "  # hago la union de los parametros basicos y los moviles que vienen en x\n",
    "  param_completo <- c(PARAM$lgb_basicos, x)\n",
    "\n",
    "  param_completo$early_stopping_rounds <-\n",
    "    as.integer(400 + 4 / param_completo$learning_rate)\n",
    "\n",
    "  GLOBAL_arbol <<- 0L\n",
    "  GLOBAL_gan_max <<- -Inf\n",
    "  vcant_optima <<- c()\n",
    "  set.seed(PARAM$lgb_semilla, kind = \"L'Ecuyer-CMRG\")\n",
    "  modelo_train <- lgb.train(\n",
    "    data = dtrain,\n",
    "    valids = list(valid = dvalidate),\n",
    "    eval = fganancia_lgbm_meseta,\n",
    "    param = param_completo,\n",
    "    verbose = -100\n",
    "  )\n",
    "\n",
    "  cat(\"\\n\")\n",
    "\n",
    "  cant_corte <- vcant_optima[modelo_train$best_iter]\n",
    "\n",
    "  # aplico el modelo a testing y calculo la ganancia\n",
    "  prediccion <- predict(\n",
    "    modelo_train,\n",
    "    data.matrix(dataset_test[, campos_buenos, with = FALSE])\n",
    "  )\n",
    "\n",
    "  tbl <- copy(dataset_test[, list(\"gan\" = ifelse(clase_ternaria == \"BAJA+2\",\n",
    "    PARAM$hyperparametertuning$POS_ganancia, \n",
    "    PARAM$hyperparametertuning$NEG_ganancia))])\n",
    "\n",
    "  tbl[, prob := prediccion]\n",
    "  setorder(tbl, -prob)\n",
    "  tbl[, gan_acum := cumsum(gan)]\n",
    "  tbl[, gan_suavizada := frollmean(\n",
    "    x = gan_acum, n = 2001,\n",
    "    align = \"center\", na.rm = TRUE, hasNA = TRUE\n",
    "  )]\n",
    "\n",
    "\n",
    "  ganancia_test <- tbl[, max(gan_suavizada, na.rm = TRUE)]\n",
    "\n",
    "  cantidad_test_normalizada <- which.max(tbl[, gan_suavizada])\n",
    "\n",
    "  rm(tbl)\n",
    "  gc()\n",
    "\n",
    "  ganancia_test_normalizada <- ganancia_test\n",
    "\n",
    "\n",
    "  # voy grabando las mejores column importance\n",
    "  if (ganancia_test_normalizada > GLOBAL_gananciamax) {\n",
    "    GLOBAL_gananciamax <<- ganancia_test_normalizada\n",
    "    tb_importancia <- as.data.table(lgb.importance(modelo_train))\n",
    "\n",
    "    fwrite(tb_importancia,\n",
    "      file = paste0(\"impo_\", sprintf(\"%03d\", GLOBAL_iteracion), \".txt\"),\n",
    "      sep = \"\\t\"\n",
    "    )\n",
    "\n",
    "    rm(tb_importancia)\n",
    "  }\n",
    "\n",
    "\n",
    "  # logueo final\n",
    "  ds <- list(\"cols\" = ncol(dtrain), \"rows\" = nrow(dtrain))\n",
    "  xx <- c(ds, copy(param_completo))\n",
    "\n",
    "  xx$early_stopping_rounds <- NULL\n",
    "  xx$num_iterations <- modelo_train$best_iter\n",
    "  xx$estimulos <- cantidad_test_normalizada\n",
    "  xx$ganancia <- ganancia_test_normalizada\n",
    "  xx$iteracion_bayesiana <- GLOBAL_iteracion\n",
    "\n",
    "  loguear(xx, arch = \"BO_log.txt\")\n",
    "\n",
    "  set.seed(PARAM$lgb_semilla, kind = \"L'Ecuyer-CMRG\")\n",
    "  return(ganancia_test_normalizada)\n",
    "}"
   ]
  },
  {
   "cell_type": "markdown",
   "metadata": {},
   "source": [
    "## Aquí empieza el programa"
   ]
  },
  {
   "cell_type": "code",
   "execution_count": 140,
   "metadata": {
    "vscode": {
     "languageId": "r"
    }
   },
   "outputs": [],
   "source": [
    "# Aqui empieza el programa\n",
    "\n",
    "# Aqui se debe poner la carpeta de la computadora local\n",
    "setwd(\"~/buckets/b1/\") # Establezco el Working Directory\n",
    "\n",
    "# cargo el dataset donde voy a entrenar el modelo\n",
    "dataset <- fread(PARAM$input$dataset)"
   ]
  },
  {
   "cell_type": "code",
   "execution_count": 141,
   "metadata": {
    "vscode": {
     "languageId": "r"
    }
   },
   "outputs": [],
   "source": [
    "# creo la carpeta donde va el experimento\n",
    "dir.create(\"./exp/\", showWarnings = FALSE)\n",
    "dir.create(paste0(\"./exp/\", PARAM$experimento, \"/\"), showWarnings = FALSE)\n",
    "\n",
    "# Establezco el Working Directory DEL EXPERIMENTO\n",
    "setwd(paste0(\"./exp/\", PARAM$experimento, \"/\"))\n",
    "\n",
    "# en estos archivos quedan los resultados\n",
    "kbayesiana <- paste0(PARAM$experimento, \".RDATA\")\n",
    "klog <- paste0(PARAM$experimento, \".txt\")\n"
   ]
  },
  {
   "cell_type": "code",
   "execution_count": 142,
   "metadata": {
    "vscode": {
     "languageId": "r"
    }
   },
   "outputs": [],
   "source": [
    "# Catastrophe Analysis  -------------------------------------------------------\n",
    "# deben ir cosas de este estilo\n",
    "#   dataset[foto_mes == 202006, active_quarter := NA]\n",
    "\n",
    "# Data Drifting\n",
    "# por ahora, no hago nada\n",
    "\n",
    "\n",
    "# Feature Engineering Historico  ----------------------------------------------\n",
    "#   aqui deben calcularse los  lags y  lag_delta\n",
    "#   Sin lags no hay paraiso !  corta la bocha"
   ]
  },
  {
   "cell_type": "code",
   "execution_count": null,
   "metadata": {
    "vscode": {
     "languageId": "r"
    }
   },
   "outputs": [],
   "source": []
  },
  {
   "cell_type": "code",
   "execution_count": 143,
   "metadata": {
    "vscode": {
     "languageId": "r"
    }
   },
   "outputs": [],
   "source": [
    "# ahora SI comienza la optimizacion Bayesiana\n",
    "\n",
    "GLOBAL_iteracion <- 0 # inicializo la variable global\n",
    "GLOBAL_gananciamax <- -1 # inicializo la variable global\n",
    "\n",
    "# si ya existe el archivo log, traigo hasta donde llegue\n",
    "if (file.exists(klog)) {\n",
    "  tabla_log <- fread(klog)\n",
    "  GLOBAL_iteracion <- nrow(tabla_log)\n",
    "  GLOBAL_gananciamax <- tabla_log[, max(ganancia)]\n",
    "}\n"
   ]
  },
  {
   "cell_type": "code",
   "execution_count": 144,
   "metadata": {
    "vscode": {
     "languageId": "r"
    }
   },
   "outputs": [],
   "source": [
    "# paso la clase a binaria que tome valores {0,1}  enteros\n",
    "dataset[, clase01 := ifelse(clase_ternaria == \"CONTINUA\", 0L, 1L)]\n",
    "\n",
    "\n",
    "# los campos que se van a utilizar\n",
    "campos_buenos <- setdiff(\n",
    "  colnames(dataset),\n",
    "  c(\"clase_ternaria\", \"clase01\", \"azar\", \"training\")\n",
    ")"
   ]
  },
  {
   "cell_type": "code",
   "execution_count": 145,
   "metadata": {
    "vscode": {
     "languageId": "r"
    }
   },
   "outputs": [],
   "source": [
    "# defino los datos que forma parte del training\n",
    "# aqui se hace el undersampling de los CONTINUA\n",
    "set.seed(PARAM$trainingstrategy$semilla_azar)\n",
    "dataset[, azar := runif(nrow(dataset))]\n",
    "dataset[, training := 0L]\n",
    "dataset[\n",
    "  foto_mes %in% PARAM$input$training &\n",
    "    (azar <= PARAM$trainingstrategy$undersampling | clase_ternaria %in% c(\"BAJA+1\", \"BAJA+2\")),\n",
    "  training := 1L\n",
    "]"
   ]
  },
  {
   "cell_type": "code",
   "execution_count": 146,
   "metadata": {
    "vscode": {
     "languageId": "r"
    }
   },
   "outputs": [],
   "source": [
    "# dejo los datos en el formato que necesita LightGBM\n",
    "dtrain <- lgb.Dataset(\n",
    "  data = data.matrix(dataset[training == 1L, campos_buenos, with = FALSE]),\n",
    "  label = dataset[training == 1L, clase01],\n",
    "  weight = dataset[training == 1L, \n",
    "    ifelse(clase_ternaria == \"BAJA+2\", 1.0000001, \n",
    "      ifelse(clase_ternaria == \"BAJA+1\", 1.0, 1.0))],\n",
    "  free_raw_data = FALSE\n",
    ")"
   ]
  },
  {
   "cell_type": "code",
   "execution_count": 147,
   "metadata": {
    "vscode": {
     "languageId": "r"
    }
   },
   "outputs": [],
   "source": [
    "# defino los datos que forman parte de validation\n",
    "#  no hay undersampling\n",
    "dataset[, validation := 0L]\n",
    "dataset[ foto_mes %in% PARAM$input$validation,  validation := 1L]\n",
    "\n",
    "dvalidate <- lgb.Dataset(\n",
    "  data = data.matrix(dataset[validation == 1L, campos_buenos, with = FALSE]),\n",
    "  label = dataset[validation == 1L, clase01],\n",
    "  weight = dataset[validation == 1L, \n",
    "    ifelse(clase_ternaria == \"BAJA+2\", 1.0000001, \n",
    "      ifelse(clase_ternaria == \"BAJA+1\", 1.0, 1.0))],\n",
    "  free_raw_data = FALSE\n",
    ")"
   ]
  },
  {
   "cell_type": "code",
   "execution_count": 148,
   "metadata": {
    "vscode": {
     "languageId": "r"
    }
   },
   "outputs": [],
   "source": [
    "# defino los datos de testing\n",
    "dataset[, testing := 0L]\n",
    "dataset[ foto_mes %in% PARAM$input$testing,  testing := 1L]\n",
    "\n",
    "\n",
    "dataset_test <- dataset[testing == 1, ]"
   ]
  },
  {
   "cell_type": "code",
   "execution_count": 149,
   "metadata": {
    "vscode": {
     "languageId": "r"
    }
   },
   "outputs": [
    {
     "data": {
      "text/html": [
       "<table class=\"dataframe\">\n",
       "<caption>A matrix: 2 × 6 of type dbl</caption>\n",
       "<thead>\n",
       "\t<tr><th></th><th scope=col>used</th><th scope=col>(Mb)</th><th scope=col>gc trigger</th><th scope=col>(Mb)</th><th scope=col>max used</th><th scope=col>(Mb)</th></tr>\n",
       "</thead>\n",
       "<tbody>\n",
       "\t<tr><th scope=row>Ncells</th><td>  2540257</td><td> 135.7</td><td>   8200216</td><td>  438</td><td>  22909774</td><td> 1223.6</td></tr>\n",
       "\t<tr><th scope=row>Vcells</th><td>782690192</td><td>5971.5</td><td>2809526389</td><td>21435</td><td>6843588264</td><td>52212.5</td></tr>\n",
       "</tbody>\n",
       "</table>\n"
      ],
      "text/latex": [
       "A matrix: 2 × 6 of type dbl\n",
       "\\begin{tabular}{r|llllll}\n",
       "  & used & (Mb) & gc trigger & (Mb) & max used & (Mb)\\\\\n",
       "\\hline\n",
       "\tNcells &   2540257 &  135.7 &    8200216 &   438 &   22909774 &  1223.6\\\\\n",
       "\tVcells & 782690192 & 5971.5 & 2809526389 & 21435 & 6843588264 & 52212.5\\\\\n",
       "\\end{tabular}\n"
      ],
      "text/markdown": [
       "\n",
       "A matrix: 2 × 6 of type dbl\n",
       "\n",
       "| <!--/--> | used | (Mb) | gc trigger | (Mb) | max used | (Mb) |\n",
       "|---|---|---|---|---|---|---|\n",
       "| Ncells |   2540257 |  135.7 |    8200216 |   438 |   22909774 |  1223.6 |\n",
       "| Vcells | 782690192 | 5971.5 | 2809526389 | 21435 | 6843588264 | 52212.5 |\n",
       "\n"
      ],
      "text/plain": [
       "       used      (Mb)   gc trigger (Mb)  max used   (Mb)   \n",
       "Ncells   2540257  135.7    8200216   438   22909774  1223.6\n",
       "Vcells 782690192 5971.5 2809526389 21435 6843588264 52212.5"
      ]
     },
     "metadata": {},
     "output_type": "display_data"
    }
   ],
   "source": [
    "# libero espacio\n",
    "rm(dataset)\n",
    "gc()"
   ]
  },
  {
   "cell_type": "code",
   "execution_count": 150,
   "metadata": {
    "vscode": {
     "languageId": "r"
    }
   },
   "outputs": [],
   "source": [
    "# Aqui comienza la configuracion de la Bayesian Optimization\n",
    "funcion_optimizar <- EstimarGanancia_lightgbm # la funcion que voy a maximizar\n",
    "\n",
    "configureMlr(show.learner.output = FALSE)\n",
    "\n",
    "# configuro la busqueda bayesiana,  los hiperparametros que se van a optimizar\n",
    "# por favor, no desesperarse por lo complejo\n",
    "obj.fun <- makeSingleObjectiveFunction(\n",
    "  fn = funcion_optimizar, # la funcion que voy a maximizar\n",
    "  minimize = FALSE, # estoy Maximizando la ganancia\n",
    "  noisy = TRUE,\n",
    "  par.set = PARAM$bo_lgb, # definido al comienzo del programa\n",
    "  has.simple.signature = FALSE # paso los parametros en una lista\n",
    ")\n",
    "\n",
    "# cada 600 segundos guardo el resultado intermedio\n",
    "ctrl <- makeMBOControl(\n",
    "  save.on.disk.at.time = 600, # se graba cada 600 segundos\n",
    "  save.file.path = kbayesiana\n",
    ") # se graba cada 600 segundos\n",
    "\n",
    "# indico la cantidad de iteraciones que va a tener la Bayesian Optimization\n",
    "ctrl <- setMBOControlTermination(\n",
    "  ctrl,\n",
    "  iters = PARAM$bo_iteraciones\n",
    ") # cantidad de iteraciones\n",
    "\n",
    "# defino el método estandar para la creacion de los puntos iniciales,\n",
    "# los \"No Inteligentes\"\n",
    "ctrl <- setMBOControlInfill(ctrl, crit = makeMBOInfillCritEI())\n",
    "\n",
    "\n",
    "# establezco la funcion que busca el maximo\n",
    "surr.km <- makeLearner(\n",
    "  \"regr.km\",\n",
    "  predict.type = \"se\",\n",
    "  covtype = \"matern3_2\",\n",
    "  control = list(trace = TRUE)\n",
    ")"
   ]
  },
  {
   "cell_type": "code",
   "execution_count": 151,
   "metadata": {
    "vscode": {
     "languageId": "r"
    }
   },
   "outputs": [
    {
     "name": "stderr",
     "output_type": "stream",
     "text": [
      "Computing y column(s) for design. Not provided.\n",
      "\n"
     ]
    },
    {
     "name": "stdout",
     "output_type": "stream",
     "text": [
      "Validate  1     450    102069242     103462281    \n",
      "20231105 153450\t601\t976271\tgbdt\tbinary\tcustom\tTRUE\tTRUE\tFALSE\tTRUE\t-100\t-1\t0\t0.001\t0\t0\t31\t22\t1\t1\t1\tFALSE\t1\t0.1\t50\t0.5\tTRUE\t279523\t0.129464825580638\t0.589979261678396\t603\t34060\t14798\t128191731.134433\t1\n",
      "Validate  2     490    100942001     103338173    \n",
      "20231105 153808\t601\t976271\tgbdt\tbinary\tcustom\tTRUE\tTRUE\tFALSE\tTRUE\t-100\t-1\t0\t0.001\t0\t0\t31\t34\t1\t1\t1\tFALSE\t1\t0.1\t50\t0.5\tTRUE\t279523\t0.0661204550073144\t0.306758356069939\t135\t27020\t15714\t122878181.909045\t2\n",
      "Validate  3     910    104826158     108255297    \n",
      "20231105 154229\t601\t976271\tgbdt\tbinary\tcustom\tTRUE\tTRUE\tFALSE\tTRUE\t-100\t-1\t0\t0.001\t0\t0\t31\t482\t1\t1\t1\tFALSE\t1\t0.1\t50\t0.5\tTRUE\t279523\t0.113019156746563\t0.722689286671374\t381\t28634\t11843\t144382458.270865\t3\n",
      "Validate  4     590    103205821     106030795    \n",
      "20231105 154508\t601\t976271\tgbdt\tbinary\tcustom\tTRUE\tTRUE\tFALSE\tTRUE\t-100\t-1\t0\t0.001\t0\t0\t31\t176\t1\t1\t1\tFALSE\t1\t0.1\t50\t0.5\tTRUE\t279523\t0.175678618850921\t0.0837276906739244\t542\t6859\t12727\t135091649.675162\t4\n",
      "Validate  5     510    98981217     99249278    \n",
      "20231105 154845\t601\t976271\tgbdt\tbinary\tcustom\tTRUE\tTRUE\tFALSE\tTRUE\t-100\t-1\t0\t0.001\t0\t0\t31\t99\t1\t1\t1\tFALSE\t1\t0.1\t50\t0.5\tTRUE\t279523\t0.275198918823473\t0.32486327912462\t723\t16035\t14243\t132189234.882559\t5\n",
      "Validate  6     840    103959302     106380858    \n",
      "20231105 155322\t601\t976271\tgbdt\tbinary\tcustom\tTRUE\tTRUE\tFALSE\tTRUE\t-100\t-1\t0\t0.001\t0\t0\t31\t417\t1\t1\t1\tFALSE\t1\t0.1\t50\t0.5\tTRUE\t279523\t0.152941050471095\t0.645387167052228\t502\t12627\t13987\t142391449.775112\t6\n",
      "Validate  7     1170    105315889     109200745    \n",
      "20231105 155828\t601\t976271\tgbdt\tbinary\tcustom\tTRUE\tTRUE\tFALSE\tTRUE\t-100\t-1\t0\t0.001\t0\t0\t31\t750\t1\t1\t1\tFALSE\t1\t0.1\t50\t0.5\tTRUE\t279523\t0.19416275426125\t0.794035319192328\t845\t42464\t13100\t146172383.808096\t7\n",
      "Validate  8     920    103764365     105041619    \n",
      "20231105 160309\t601\t976271\tgbdt\tbinary\tcustom\tTRUE\tTRUE\tFALSE\tTRUE\t-100\t-1\t0\t0.001\t0\t0\t31\t502\t1\t1\t1\tFALSE\t1\t0.1\t50\t0.5\tTRUE\t279523\t0.208330530396255\t0.164289977450783\t938\t38948\t11872\t140944555.722139\t8\n",
      "Validate  9     620    100667469     104582295    \n",
      "20231105 160839\t601\t976271\tgbdt\tbinary\tcustom\tTRUE\tTRUE\tFALSE\tTRUE\t-100\t-1\t0\t0.001\t0\t0\t31\t73\t1\t1\t1\tFALSE\t1\t0.1\t50\t0.5\tTRUE\t279523\t0.0267066953639716\t0.560570734105559\t306\t19296\t12260\t132090664.667666\t9\n",
      "Validate  10     680    100635099     104068346    \n",
      "20231105 161146\t601\t976271\tgbdt\tbinary\tcustom\tTRUE\tTRUE\tFALSE\tTRUE\t-100\t-1\t0\t0.001\t0\t0\t31\t266\t1\t1\t1\tFALSE\t1\t0.1\t50\t0.5\tTRUE\t279523\t0.221560927090974\t0.826648094024347\t31\t34846\t14878\t142886063.968016\t10\n",
      "Validate  11     700    108797925     113568570    \n",
      "20231105 161758\t601\t976271\tgbdt\tbinary\tcustom\tTRUE\tTRUE\tFALSE\tTRUE\t-100\t-1\t0\t0.001\t0\t0\t31\t262\t1\t1\t1\tFALSE\t1\t0.1\t50\t0.5\tTRUE\t279523\t0.0852503757905397\t0.925651702728775\t683\t1679\t14875\t143858448.275862\t11\n",
      "Validate  12     570    94871304     101363778     \n",
      "20231105 162110\t601\t976271\tgbdt\tbinary\tcustom\tTRUE\tTRUE\tFALSE\tTRUE\t-100\t-1\t0\t0.001\t0\t0\t31\t101\t1\t1\t1\tFALSE\t1\t0.1\t50\t0.5\tTRUE\t279523\t0.0506736029737185\t0.207218508431007\t246\t49507\t17188\t122927738.130935\t12\n",
      "Validate  13     530    98838247     106274280     \n",
      "20231105 162419\t601\t976271\tgbdt\tbinary\tcustom\tTRUE\tTRUE\tFALSE\tTRUE\t-100\t-1\t0\t0.001\t0\t0\t31\t123\t1\t1\t1\tFALSE\t1\t0.1\t50\t0.5\tTRUE\t279523\t0.241211629895149\t0.979385213098052\t981\t9632\t11540\t143817781.109445\t13\n",
      "Validate  14     730    97145255     101063317     \n",
      "20231105 162943\t601\t976271\tgbdt\tbinary\tcustom\tTRUE\tTRUE\tFALSE\tTRUE\t-100\t-1\t0\t0.001\t0\t0\t31\t325\t1\t1\t1\tFALSE\t1\t0.1\t50\t0.5\tTRUE\t279523\t0.289686593103062\t0.413139080222854\t417\t43892\t12187\t140350850.074963\t14\n",
      "Validate  15     520    100211402     101454733    \n",
      "20231105 163128\t601\t976271\tgbdt\tbinary\tcustom\tTRUE\tTRUE\tFALSE\tTRUE\t-100\t-1\t0\t0.001\t0\t0\t31\t107\t1\t1\t1\tFALSE\t1\t0.1\t50\t0.5\tTRUE\t279523\t0.260954398056728\t0.0272621639125061\t107\t5794\t13536\t134863672.163918\t15\n",
      "Validate  16     1220    104867591     108400352    \n",
      "20231105 164116\t601\t976271\tgbdt\tbinary\tcustom\tTRUE\tTRUE\tFALSE\tTRUE\t-100\t-1\t0\t0.001\t0\t0\t31\t777\t1\t1\t1\tFALSE\t1\t0.1\t50\t0.5\tTRUE\t279523\t0.0917235747127569\t0.46677263015138\t785\t24824\t13610\t143031269.365317\t16\n"
     ]
    },
    {
     "name": "stderr",
     "output_type": "stream",
     "text": [
      "[mbo] 0: learning_rate=0.129; feature_fraction=0.59; num_leaves=603; min_data_in_leaf=34060 : y = 1.28e+08 : 231.4 secs : initdesign\n",
      "\n",
      "[mbo] 0: learning_rate=0.0661; feature_fraction=0.307; num_leaves=135; min_data_in_leaf=27020 : y = 1.23e+08 : 197.4 secs : initdesign\n",
      "\n",
      "[mbo] 0: learning_rate=0.113; feature_fraction=0.723; num_leaves=381; min_data_in_leaf=28634 : y = 1.44e+08 : 261.2 secs : initdesign\n",
      "\n",
      "[mbo] 0: learning_rate=0.176; feature_fraction=0.0837; num_leaves=542; min_data_in_leaf=6859 : y = 1.35e+08 : 159.1 secs : initdesign\n",
      "\n",
      "[mbo] 0: learning_rate=0.275; feature_fraction=0.325; num_leaves=723; min_data_in_leaf=16035 : y = 1.32e+08 : 217.1 secs : initdesign\n",
      "\n",
      "[mbo] 0: learning_rate=0.153; feature_fraction=0.645; num_leaves=502; min_data_in_leaf=12627 : y = 1.42e+08 : 277.2 secs : initdesign\n",
      "\n",
      "[mbo] 0: learning_rate=0.194; feature_fraction=0.794; num_leaves=845; min_data_in_leaf=42464 : y = 1.46e+08 : 306.0 secs : initdesign\n",
      "\n",
      "[mbo] 0: learning_rate=0.208; feature_fraction=0.164; num_leaves=938; min_data_in_leaf=38948 : y = 1.41e+08 : 280.4 secs : initdesign\n",
      "\n",
      "[mbo] 0: learning_rate=0.0267; feature_fraction=0.561; num_leaves=306; min_data_in_leaf=19296 : y = 1.32e+08 : 330.8 secs : initdesign\n",
      "\n",
      "[mbo] 0: learning_rate=0.222; feature_fraction=0.827; num_leaves=31; min_data_in_leaf=34846 : y = 1.43e+08 : 186.3 secs : initdesign\n",
      "\n",
      "[mbo] 0: learning_rate=0.0853; feature_fraction=0.926; num_leaves=683; min_data_in_leaf=1679 : y = 1.44e+08 : 372.6 secs : initdesign\n",
      "\n",
      "[mbo] 0: learning_rate=0.0507; feature_fraction=0.207; num_leaves=246; min_data_in_leaf=49507 : y = 1.23e+08 : 192.3 secs : initdesign\n",
      "\n",
      "[mbo] 0: learning_rate=0.241; feature_fraction=0.979; num_leaves=981; min_data_in_leaf=9632 : y = 1.44e+08 : 188.2 secs : initdesign\n",
      "\n",
      "[mbo] 0: learning_rate=0.29; feature_fraction=0.413; num_leaves=417; min_data_in_leaf=43892 : y = 1.4e+08 : 323.7 secs : initdesign\n",
      "\n",
      "[mbo] 0: learning_rate=0.261; feature_fraction=0.0273; num_leaves=107; min_data_in_leaf=5794 : y = 1.35e+08 : 105.9 secs : initdesign\n",
      "\n",
      "[mbo] 0: learning_rate=0.0917; feature_fraction=0.467; num_leaves=785; min_data_in_leaf=24824 : y = 1.43e+08 : 588.0 secs : initdesign\n",
      "\n",
      "Saved the current state after iteration 1 in the file HT8230 (Clase 12, Ajustado Sem2).RDATA.\n",
      "\n"
     ]
    },
    {
     "name": "stdout",
     "output_type": "stream",
     "text": [
      "Validate  17     1120    105385318     106675550    \n",
      "20231105 164713\t601\t976271\tgbdt\tbinary\tcustom\tTRUE\tTRUE\tFALSE\tTRUE\t-100\t-1\t0\t0.001\t0\t0\t31\t684\t1\t1\t1\tFALSE\t1\t0.1\t50\t0.5\tTRUE\t279523\t0.104033872064981\t0.866449870465028\t423\t14022\t11943\t140442098.450775\t17\n"
     ]
    },
    {
     "name": "stderr",
     "output_type": "stream",
     "text": [
      "[mbo] 1: learning_rate=0.104; feature_fraction=0.866; num_leaves=423; min_data_in_leaf=14022 : y = 1.4e+08 : 354.5 secs : infill_ei\n",
      "\n"
     ]
    },
    {
     "name": "stdout",
     "output_type": "stream",
     "text": [
      "Validate  18     920    101224499     104529947    \n",
      "20231105 165110\t601\t976271\tgbdt\tbinary\tcustom\tTRUE\tTRUE\tFALSE\tTRUE\t-100\t-1\t0\t0.001\t0\t0\t31\t504\t1\t1\t1\tFALSE\t1\t0.1\t50\t0.5\tTRUE\t279523\t0.197947884412768\t0.985956039088679\t355\t42272\t11689\t144508514.242879\t18\n"
     ]
    },
    {
     "name": "stderr",
     "output_type": "stream",
     "text": [
      "[mbo] 2: learning_rate=0.198; feature_fraction=0.986; num_leaves=355; min_data_in_leaf=42272 : y = 1.45e+08 : 236.3 secs : infill_ei\n",
      "\n"
     ]
    },
    {
     "name": "stdout",
     "output_type": "stream",
     "text": [
      "Validate  19     570    99226935     102190222     \n",
      "20231105 165259\t601\t976271\tgbdt\tbinary\tcustom\tTRUE\tTRUE\tFALSE\tTRUE\t-100\t-1\t0\t0.001\t0\t0\t31\t151\t1\t1\t1\tFALSE\t1\t0.1\t50\t0.5\tTRUE\t279523\t0.194331333479194\t0.0310431013456036\t627\t49973\t12743\t129756761.11944\t19\n"
     ]
    },
    {
     "name": "stderr",
     "output_type": "stream",
     "text": [
      "[mbo] 3: learning_rate=0.194; feature_fraction=0.031; num_leaves=627; min_data_in_leaf=49973 : y = 1.3e+08 : 109.1 secs : infill_ei\n",
      "\n",
      "Saved the current state after iteration 4 in the file HT8230 (Clase 12, Ajustado Sem2).RDATA.\n",
      "\n"
     ]
    },
    {
     "name": "stdout",
     "output_type": "stream",
     "text": [
      "Validate  20     510    97600356     103872507     \n",
      "20231105 165548\t601\t976271\tgbdt\tbinary\tcustom\tTRUE\tTRUE\tFALSE\tTRUE\t-100\t-1\t0\t0.001\t0\t0\t31\t95\t1\t1\t1\tFALSE\t1\t0.1\t50\t0.5\tTRUE\t279523\t0.226686323388232\t0.763723662416098\t771\t13323\t13442\t141440852.573713\t20\n"
     ]
    },
    {
     "name": "stderr",
     "output_type": "stream",
     "text": [
      "[mbo] 4: learning_rate=0.227; feature_fraction=0.764; num_leaves=771; min_data_in_leaf=13323 : y = 1.41e+08 : 165.4 secs : infill_ei\n",
      "\n"
     ]
    },
    {
     "name": "stdout",
     "output_type": "stream",
     "text": [
      "Validate  21     500    98367110     101556913    \n",
      "20231105 165753\t601\t976271\tgbdt\tbinary\tcustom\tTRUE\tTRUE\tFALSE\tTRUE\t-100\t-1\t0\t0.001\t0\t0\t31\t45\t1\t1\t1\tFALSE\t1\t0.1\t50\t0.5\tTRUE\t279523\t0.0702170426659028\t0.78913586422583\t420\t49992\t15401\t129069641.67916\t21\n"
     ]
    },
    {
     "name": "stderr",
     "output_type": "stream",
     "text": [
      "[mbo] 5: learning_rate=0.0702; feature_fraction=0.789; num_leaves=420; min_data_in_leaf=49992 : y = 1.29e+08 : 124.8 secs : infill_ei\n",
      "\n"
     ]
    },
    {
     "name": "stdout",
     "output_type": "stream",
     "text": [
      "Validate  22     630    100718942     104239830    \n",
      "20231105 170053\t601\t976271\tgbdt\tbinary\tcustom\tTRUE\tTRUE\tFALSE\tTRUE\t-100\t-1\t0\t0.001\t0\t0\t31\t213\t1\t1\t1\tFALSE\t1\t0.1\t50\t0.5\tTRUE\t279523\t0.201611487794549\t0.99847480629327\t910\t24588\t11708\t145683440.27986\t22\n"
     ]
    },
    {
     "name": "stderr",
     "output_type": "stream",
     "text": [
      "[mbo] 6: learning_rate=0.202; feature_fraction=0.998; num_leaves=910; min_data_in_leaf=24588 : y = 1.46e+08 : 180.1 secs : infill_ei\n",
      "\n"
     ]
    },
    {
     "name": "stdout",
     "output_type": "stream",
     "text": [
      "Validate  23     620    100872561     104138083    \n",
      "20231105 170409\t601\t976271\tgbdt\tbinary\tcustom\tTRUE\tTRUE\tFALSE\tTRUE\t-100\t-1\t0\t0.001\t0\t0\t31\t196\t1\t1\t1\tFALSE\t1\t0.1\t50\t0.5\tTRUE\t279523\t0.155030813772518\t0.896668660230547\t344\t15051\t13903\t142620949.025487\t23\n"
     ]
    },
    {
     "name": "stderr",
     "output_type": "stream",
     "text": [
      "[mbo] 7: learning_rate=0.155; feature_fraction=0.897; num_leaves=344; min_data_in_leaf=15051 : y = 1.43e+08 : 195.1 secs : infill_ei\n",
      "\n",
      "Saved the current state after iteration 8 in the file HT8230 (Clase 12, Ajustado Sem2).RDATA.\n",
      "\n"
     ]
    },
    {
     "name": "stdout",
     "output_type": "stream",
     "text": [
      "Validate  24     1070    99540567     100806321     \n",
      "20231105 170843\t601\t976271\tgbdt\tbinary\tcustom\tTRUE\tTRUE\tFALSE\tTRUE\t-100\t-1\t0\t0.001\t0\t0\t31\t658\t1\t1\t1\tFALSE\t1\t0.1\t50\t0.5\tTRUE\t279523\t0.20725710973097\t0.80503187816055\t957\t45671\t13920\t140405377.311344\t24\n"
     ]
    },
    {
     "name": "stderr",
     "output_type": "stream",
     "text": [
      "[mbo] 8: learning_rate=0.207; feature_fraction=0.805; num_leaves=957; min_data_in_leaf=45671 : y = 1.4e+08 : 271.4 secs : infill_ei\n",
      "\n"
     ]
    },
    {
     "name": "stdout",
     "output_type": "stream",
     "text": [
      "Validate  25     900    102948136     105219995    \n",
      "20231105 171250\t601\t976271\tgbdt\tbinary\tcustom\tTRUE\tTRUE\tFALSE\tTRUE\t-100\t-1\t0\t0.001\t0\t0\t31\t483\t1\t1\t1\tFALSE\t1\t0.1\t50\t0.5\tTRUE\t279523\t0.194401644490461\t0.983114816575897\t917\t31026\t13271\t143840691.154423\t25\n"
     ]
    },
    {
     "name": "stderr",
     "output_type": "stream",
     "text": [
      "[mbo] 9: learning_rate=0.194; feature_fraction=0.983; num_leaves=917; min_data_in_leaf=31026 : y = 1.44e+08 : 246.5 secs : infill_ei\n",
      "\n"
     ]
    },
    {
     "name": "stdout",
     "output_type": "stream",
     "text": [
      "Validate  26     850    100282745     102607921    \n",
      "20231105 171914\t601\t976271\tgbdt\tbinary\tcustom\tTRUE\tTRUE\tFALSE\tTRUE\t-100\t-1\t0\t0.001\t0\t0\t31\t439\t1\t1\t1\tFALSE\t1\t0.1\t50\t0.5\tTRUE\t279523\t0.200641710594826\t0.850317733588375\t846\t6479\t14159\t135720943.028486\t26\n"
     ]
    },
    {
     "name": "stderr",
     "output_type": "stream",
     "text": [
      "[mbo] 10: learning_rate=0.201; feature_fraction=0.85; num_leaves=846; min_data_in_leaf=6479 : y = 1.36e+08 : 383.8 secs : infill_ei\n",
      "\n",
      "Saved the current state after iteration 11 in the file HT8230 (Clase 12, Ajustado Sem2).RDATA.\n",
      "\n"
     ]
    },
    {
     "name": "stdout",
     "output_type": "stream",
     "text": [
      "Validate  27     430    102380107     102847596    \n",
      "20231105 172134\t601\t976271\tgbdt\tbinary\tcustom\tTRUE\tTRUE\tFALSE\tTRUE\t-100\t-1\t0\t0.001\t0\t0\t31\t16\t1\t1\t1\tFALSE\t1\t0.1\t50\t0.5\tTRUE\t279523\t0.200742487678989\t0.768132285951878\t769\t34628\t14023\t126521858.570715\t27\n"
     ]
    },
    {
     "name": "stderr",
     "output_type": "stream",
     "text": [
      "[mbo] 11: learning_rate=0.201; feature_fraction=0.768; num_leaves=769; min_data_in_leaf=34628 : y = 1.27e+08 : 135.8 secs : infill_ei\n",
      "\n"
     ]
    },
    {
     "name": "stdout",
     "output_type": "stream",
     "text": [
      "Validate  28     780    96766104     101070975     \n",
      "20231105 172655\t601\t976271\tgbdt\tbinary\tcustom\tTRUE\tTRUE\tFALSE\tTRUE\t-100\t-1\t0\t0.001\t0\t0\t31\t209\t1\t1\t1\tFALSE\t1\t0.1\t50\t0.5\tTRUE\t279523\t0.0228835085643292\t0.28687401657649\t585\t45516\t17117\t124471834.582709\t28\n"
     ]
    },
    {
     "name": "stderr",
     "output_type": "stream",
     "text": [
      "[mbo] 12: learning_rate=0.0229; feature_fraction=0.287; num_leaves=585; min_data_in_leaf=45516 : y = 1.24e+08 : 320.9 secs : infill_ei\n",
      "\n"
     ]
    },
    {
     "name": "stdout",
     "output_type": "stream",
     "text": [
      "Validate  29     720    100855514     104211963    \n",
      "20231105 173033\t601\t976271\tgbdt\tbinary\tcustom\tTRUE\tTRUE\tFALSE\tTRUE\t-100\t-1\t0\t0.001\t0\t0\t31\t300\t1\t1\t1\tFALSE\t1\t0.1\t50\t0.5\tTRUE\t279523\t0.151843438623136\t0.965185938716189\t378\t27554\t15141\t141473669.665167\t29\n"
     ]
    },
    {
     "name": "stderr",
     "output_type": "stream",
     "text": [
      "[mbo] 13: learning_rate=0.152; feature_fraction=0.965; num_leaves=378; min_data_in_leaf=27554 : y = 1.41e+08 : 217.8 secs : infill_ei\n",
      "\n",
      "Saved the current state after iteration 14 in the file HT8230 (Clase 12, Ajustado Sem2).RDATA.\n",
      "\n"
     ]
    },
    {
     "name": "stdout",
     "output_type": "stream",
     "text": [
      "Validate  30     850    102613367     106050472    \n",
      "20231105 173431\t601\t976271\tgbdt\tbinary\tcustom\tTRUE\tTRUE\tFALSE\tTRUE\t-100\t-1\t0\t0.001\t0\t0\t31\t433\t1\t1\t1\tFALSE\t1\t0.1\t50\t0.5\tTRUE\t279523\t0.190713919657336\t0.970154070759452\t841\t42279\t14209\t143734421.289355\t30\n"
     ]
    },
    {
     "name": "stderr",
     "output_type": "stream",
     "text": [
      "[mbo] 14: learning_rate=0.191; feature_fraction=0.97; num_leaves=841; min_data_in_leaf=42279 : y = 1.44e+08 : 234.2 secs : infill_ei\n",
      "\n"
     ]
    },
    {
     "name": "stdout",
     "output_type": "stream",
     "text": [
      "Validate  31     870    102150472     103147393    \n",
      "20231105 173852\t601\t976271\tgbdt\tbinary\tcustom\tTRUE\tTRUE\tFALSE\tTRUE\t-100\t-1\t0\t0.001\t0\t0\t31\t444\t1\t1\t1\tFALSE\t1\t0.1\t50\t0.5\tTRUE\t279523\t0.128676259785512\t0.99562356965606\t978\t27356\t12612\t142970672.663668\t31\n"
     ]
    },
    {
     "name": "stderr",
     "output_type": "stream",
     "text": [
      "[mbo] 15: learning_rate=0.129; feature_fraction=0.996; num_leaves=978; min_data_in_leaf=27356 : y = 1.43e+08 : 261.4 secs : infill_ei\n",
      "\n"
     ]
    },
    {
     "name": "stdout",
     "output_type": "stream",
     "text": [
      "Validate  32     730    99810369     105073922     \n",
      "20231105 174301\t601\t976271\tgbdt\tbinary\tcustom\tTRUE\tTRUE\tFALSE\tTRUE\t-100\t-1\t0\t0.001\t0\t0\t31\t320\t1\t1\t1\tFALSE\t1\t0.1\t50\t0.5\tTRUE\t279523\t0.224851226547789\t0.999510111015025\t959\t16783\t11230\t140726551.724138\t32\n"
     ]
    },
    {
     "name": "stderr",
     "output_type": "stream",
     "text": [
      "[mbo] 16: learning_rate=0.225; feature_fraction=1; num_leaves=959; min_data_in_leaf=16783 : y = 1.41e+08 : 248.6 secs : infill_ei\n",
      "\n",
      "Saved the current state after iteration 17 in the file HT8230 (Clase 12, Ajustado Sem2).RDATA.\n",
      "\n"
     ]
    },
    {
     "name": "stdout",
     "output_type": "stream",
     "text": [
      "Validate  33     780    101814493     103965592    \n",
      "20231105 174655\t601\t976271\tgbdt\tbinary\tcustom\tTRUE\tTRUE\tFALSE\tTRUE\t-100\t-1\t0\t0.001\t0\t0\t31\t364\t1\t1\t1\tFALSE\t1\t0.1\t50\t0.5\tTRUE\t279523\t0.241649178594209\t0.825331903438371\t247\t42075\t13422\t137749288.355822\t33\n"
     ]
    },
    {
     "name": "stderr",
     "output_type": "stream",
     "text": [
      "[mbo] 17: learning_rate=0.242; feature_fraction=0.825; num_leaves=247; min_data_in_leaf=42075 : y = 1.38e+08 : 230.4 secs : infill_ei\n",
      "\n"
     ]
    },
    {
     "name": "stdout",
     "output_type": "stream",
     "text": [
      "Validate  34     750    104748346     107881670    \n",
      "20231105 175058\t601\t976271\tgbdt\tbinary\tcustom\tTRUE\tTRUE\tFALSE\tTRUE\t-100\t-1\t0\t0.001\t0\t0\t31\t325\t1\t1\t1\tFALSE\t1\t0.1\t50\t0.5\tTRUE\t279523\t0.139981412848857\t0.784778834032301\t99\t28035\t15509\t143040858.070965\t34\n"
     ]
    },
    {
     "name": "stderr",
     "output_type": "stream",
     "text": [
      "[mbo] 18: learning_rate=0.14; feature_fraction=0.785; num_leaves=99; min_data_in_leaf=28035 : y = 1.43e+08 : 243.0 secs : infill_ei\n",
      "\n"
     ]
    },
    {
     "name": "stdout",
     "output_type": "stream",
     "text": [
      "Validate  35     690    104983320     107729657    \n",
      "20231105 175437\t601\t976271\tgbdt\tbinary\tcustom\tTRUE\tTRUE\tFALSE\tTRUE\t-100\t-1\t0\t0.001\t0\t0\t31\t272\t1\t1\t1\tFALSE\t1\t0.1\t50\t0.5\tTRUE\t279523\t0.147437970474624\t0.744231100286952\t402\t23716\t10580\t142970364.817591\t35\n"
     ]
    },
    {
     "name": "stderr",
     "output_type": "stream",
     "text": [
      "[mbo] 19: learning_rate=0.147; feature_fraction=0.744; num_leaves=402; min_data_in_leaf=23716 : y = 1.43e+08 : 218.6 secs : infill_ei\n",
      "\n",
      "Saved the current state after iteration 20 in the file HT8230 (Clase 12, Ajustado Sem2).RDATA.\n",
      "\n"
     ]
    },
    {
     "name": "stdout",
     "output_type": "stream",
     "text": [
      "Validate  36     670    100088155     104394824    \n",
      "20231105 175757\t601\t976271\tgbdt\tbinary\tcustom\tTRUE\tTRUE\tFALSE\tTRUE\t-100\t-1\t0\t0.001\t0\t0\t31\t260\t1\t1\t1\tFALSE\t1\t0.1\t50\t0.5\tTRUE\t279523\t0.26447680017541\t0.999800856020143\t935\t27204\t12436\t137500723.638181\t36\n"
     ]
    },
    {
     "name": "stderr",
     "output_type": "stream",
     "text": [
      "[mbo] 20: learning_rate=0.264; feature_fraction=1; num_leaves=935; min_data_in_leaf=27204 : y = 1.38e+08 : 196.5 secs : infill_ei\n",
      "\n"
     ]
    },
    {
     "name": "stdout",
     "output_type": "stream",
     "text": [
      "Validate  37     850    100738952     106344875    \n",
      "20231105 180215\t601\t976271\tgbdt\tbinary\tcustom\tTRUE\tTRUE\tFALSE\tTRUE\t-100\t-1\t0\t0.001\t0\t0\t31\t432\t1\t1\t1\tFALSE\t1\t0.1\t50\t0.5\tTRUE\t279523\t0.166796783429228\t0.950565501818582\t870\t23586\t11851\t141590826.086957\t37\n"
     ]
    },
    {
     "name": "stderr",
     "output_type": "stream",
     "text": [
      "[mbo] 21: learning_rate=0.167; feature_fraction=0.951; num_leaves=870; min_data_in_leaf=23586 : y = 1.42e+08 : 257.3 secs : infill_ei\n",
      "\n"
     ]
    },
    {
     "name": "stdout",
     "output_type": "stream",
     "text": [
      "Validate  38     1310    103691441     106763524    \n",
      "20231105 180805\t601\t976271\tgbdt\tbinary\tcustom\tTRUE\tTRUE\tFALSE\tTRUE\t-100\t-1\t0\t0.001\t0\t0\t31\t893\t1\t1\t1\tFALSE\t1\t0.1\t50\t0.5\tTRUE\t279523\t0.167448793271407\t0.827607508519807\t853\t42943\t13389\t145198579.210395\t38\n"
     ]
    },
    {
     "name": "stderr",
     "output_type": "stream",
     "text": [
      "[mbo] 22: learning_rate=0.167; feature_fraction=0.828; num_leaves=853; min_data_in_leaf=42943 : y = 1.45e+08 : 349.3 secs : infill_ei\n",
      "\n",
      "Saved the current state after iteration 23 in the file HT8230 (Clase 12, Ajustado Sem2).RDATA.\n",
      "\n"
     ]
    },
    {
     "name": "stdout",
     "output_type": "stream",
     "text": [
      "Validate  39     850    101375609     104979094    \n",
      "20231105 181201\t601\t976271\tgbdt\tbinary\tcustom\tTRUE\tTRUE\tFALSE\tTRUE\t-100\t-1\t0\t0.001\t0\t0\t31\t435\t1\t1\t1\tFALSE\t1\t0.1\t50\t0.5\tTRUE\t279523\t0.190279320086588\t0.998506630745867\t55\t37519\t12943\t145431303.848076\t39\n"
     ]
    },
    {
     "name": "stderr",
     "output_type": "stream",
     "text": [
      "[mbo] 23: learning_rate=0.19; feature_fraction=0.999; num_leaves=55; min_data_in_leaf=37519 : y = 1.45e+08 : 233.0 secs : infill_ei\n",
      "\n"
     ]
    },
    {
     "name": "stdout",
     "output_type": "stream",
     "text": [
      "Validate  40     990    100624465     104578216    \n",
      "20231105 181639\t601\t976271\tgbdt\tbinary\tcustom\tTRUE\tTRUE\tFALSE\tTRUE\t-100\t-1\t0\t0.001\t0\t0\t31\t576\t1\t1\t1\tFALSE\t1\t0.1\t50\t0.5\tTRUE\t279523\t0.201636802003856\t0.998300863394755\t26\t32317\t13340\t143217201.3993\t40\n"
     ]
    },
    {
     "name": "stderr",
     "output_type": "stream",
     "text": [
      "[mbo] 24: learning_rate=0.202; feature_fraction=0.998; num_leaves=26; min_data_in_leaf=32317 : y = 1.43e+08 : 278.0 secs : infill_ei\n",
      "\n"
     ]
    },
    {
     "name": "stdout",
     "output_type": "stream",
     "text": [
      "Validate  41     1230    100620557     102886304    \n",
      "20231105 182136\t601\t976271\tgbdt\tbinary\tcustom\tTRUE\tTRUE\tFALSE\tTRUE\t-100\t-1\t0\t0.001\t0\t0\t31\t810\t1\t1\t1\tFALSE\t1\t0.1\t50\t0.5\tTRUE\t279523\t0.178647562420786\t0.967453722869047\t10\t41523\t12465\t144529727.636182\t41\n"
     ]
    },
    {
     "name": "stderr",
     "output_type": "stream",
     "text": [
      "[mbo] 25: learning_rate=0.179; feature_fraction=0.967; num_leaves=10; min_data_in_leaf=41523 : y = 1.45e+08 : 296.4 secs : infill_ei\n",
      "\n",
      "Saved the current state after iteration 26 in the file HT8230 (Clase 12, Ajustado Sem2).RDATA.\n",
      "\n"
     ]
    },
    {
     "name": "stdout",
     "output_type": "stream",
     "text": [
      "Validate  42     860    102864097     104362073    \n",
      "20231105 182531\t601\t976271\tgbdt\tbinary\tcustom\tTRUE\tTRUE\tFALSE\tTRUE\t-100\t-1\t0\t0.001\t0\t0\t31\t439\t1\t1\t1\tFALSE\t1\t0.1\t50\t0.5\tTRUE\t279523\t0.160098128311379\t0.99991201696862\t217\t39839\t14945\t142131886.556722\t42\n"
     ]
    },
    {
     "name": "stderr",
     "output_type": "stream",
     "text": [
      "[mbo] 26: learning_rate=0.16; feature_fraction=1; num_leaves=217; min_data_in_leaf=39839 : y = 1.42e+08 : 232.2 secs : infill_ei\n",
      "\n"
     ]
    },
    {
     "name": "stdout",
     "output_type": "stream",
     "text": [
      "Validate  43     1350    105290264     109763246    \n",
      "20231105 183224\t601\t976271\tgbdt\tbinary\tcustom\tTRUE\tTRUE\tFALSE\tTRUE\t-100\t-1\t0\t0.001\t0\t0\t31\t918\t1\t1\t1\tFALSE\t1\t0.1\t50\t0.5\tTRUE\t279523\t0.0955217405238485\t0.797727214778666\t415\t26141\t12596\t148421003.498251\t43\n"
     ]
    },
    {
     "name": "stderr",
     "output_type": "stream",
     "text": [
      "[mbo] 27: learning_rate=0.0955; feature_fraction=0.798; num_leaves=415; min_data_in_leaf=26141 : y = 1.48e+08 : 412.0 secs : infill_ei\n",
      "\n",
      "Saved the current state after iteration 28 in the file HT8230 (Clase 12, Ajustado Sem2).RDATA.\n",
      "\n"
     ]
    },
    {
     "name": "stdout",
     "output_type": "stream",
     "text": [
      "Validate  44     470    102092765     103910137    \n",
      "20231105 183451\t601\t976271\tgbdt\tbinary\tcustom\tTRUE\tTRUE\tFALSE\tTRUE\t-100\t-1\t0\t0.001\t0\t0\t31\t32\t1\t1\t1\tFALSE\t1\t0.1\t50\t0.5\tTRUE\t279523\t0.0881581653070383\t0.779234312868372\t589\t25519\t14538\t128382525.737131\t44\n"
     ]
    },
    {
     "name": "stderr",
     "output_type": "stream",
     "text": [
      "[mbo] 28: learning_rate=0.0882; feature_fraction=0.779; num_leaves=589; min_data_in_leaf=25519 : y = 1.28e+08 : 143.3 secs : infill_ei\n",
      "\n"
     ]
    },
    {
     "name": "stdout",
     "output_type": "stream",
     "text": [
      "Validate  45     820    103109300     109175351    \n",
      "20231105 184149\t601\t976271\tgbdt\tbinary\tcustom\tTRUE\tTRUE\tFALSE\tTRUE\t-100\t-1\t0\t0.001\t0\t0\t31\t394\t1\t1\t1\tFALSE\t1\t0.1\t50\t0.5\tTRUE\t279523\t0.113831974433914\t0.939550955386741\t440\t2387\t15145\t138291926.536732\t45\n"
     ]
    },
    {
     "name": "stderr",
     "output_type": "stream",
     "text": [
      "[mbo] 29: learning_rate=0.114; feature_fraction=0.94; num_leaves=440; min_data_in_leaf=2387 : y = 1.38e+08 : 418.2 secs : infill_ei\n",
      "\n"
     ]
    },
    {
     "name": "stdout",
     "output_type": "stream",
     "text": [
      "Validate  46     1040    108168145     109017430    \n",
      "20231105 184723\t601\t976271\tgbdt\tbinary\tcustom\tTRUE\tTRUE\tFALSE\tTRUE\t-100\t-1\t0\t0.001\t0\t0\t31\t601\t1\t1\t1\tFALSE\t1\t0.1\t50\t0.5\tTRUE\t279523\t0.0994529245551974\t0.155670195406256\t66\t16267\t13377\t142294093.453273\t46\n"
     ]
    },
    {
     "name": "stderr",
     "output_type": "stream",
     "text": [
      "[mbo] 30: learning_rate=0.0995; feature_fraction=0.156; num_leaves=66; min_data_in_leaf=16267 : y = 1.42e+08 : 333.7 secs : infill_ei\n",
      "\n",
      "Saved the current state after iteration 31 in the file HT8230 (Clase 12, Ajustado Sem2).RDATA.\n",
      "\n"
     ]
    },
    {
     "name": "stdout",
     "output_type": "stream",
     "text": [
      "Validate  47     780    101246370     108368126    \n",
      "20231105 185133\t601\t976271\tgbdt\tbinary\tcustom\tTRUE\tTRUE\tFALSE\tTRUE\t-100\t-1\t0\t0.001\t0\t0\t31\t366\t1\t1\t1\tFALSE\t1\t0.1\t50\t0.5\tTRUE\t279523\t0.187984097010263\t0.992539653660722\t987\t19447\t12871\t141960731.134433\t47\n"
     ]
    },
    {
     "name": "stderr",
     "output_type": "stream",
     "text": [
      "[mbo] 31: learning_rate=0.188; feature_fraction=0.993; num_leaves=987; min_data_in_leaf=19447 : y = 1.42e+08 : 246.4 secs : infill_ei\n",
      "\n"
     ]
    },
    {
     "name": "stdout",
     "output_type": "stream",
     "text": [
      "Validate  48     430    98966472     101413044     \n",
      "20231105 185358\t601\t976271\tgbdt\tbinary\tcustom\tTRUE\tTRUE\tFALSE\tTRUE\t-100\t-1\t0\t0.001\t0\t0\t31\t15\t1\t1\t1\tFALSE\t1\t0.1\t50\t0.5\tTRUE\t279523\t0.21486489627466\t0.73114644606353\t994\t14329\t14312\t138695600.1999\t48\n"
     ]
    },
    {
     "name": "stderr",
     "output_type": "stream",
     "text": [
      "[mbo] 32: learning_rate=0.215; feature_fraction=0.731; num_leaves=994; min_data_in_leaf=14329 : y = 1.39e+08 : 144.7 secs : infill_ei\n",
      "\n"
     ]
    },
    {
     "name": "stdout",
     "output_type": "stream",
     "text": [
      "Validate  49     770    100641802     103093831    \n",
      "20231105 185719\t601\t976271\tgbdt\tbinary\tcustom\tTRUE\tTRUE\tFALSE\tTRUE\t-100\t-1\t0\t0.001\t0\t0\t31\t358\t1\t1\t1\tFALSE\t1\t0.1\t50\t0.5\tTRUE\t279523\t0.23183732664914\t0.0967048329253251\t622\t40535\t12751\t140252465.267366\t49\n"
     ]
    },
    {
     "name": "stderr",
     "output_type": "stream",
     "text": [
      "[mbo] 33: learning_rate=0.232; feature_fraction=0.0967; num_leaves=622; min_data_in_leaf=40535 : y = 1.4e+08 : 200.5 secs : infill_ei\n",
      "\n"
     ]
    },
    {
     "name": "stdout",
     "output_type": "stream",
     "text": [
      "Validate  50     540    94633378     100871256     \n",
      "20231105 185856\t601\t976271\tgbdt\tbinary\tcustom\tTRUE\tTRUE\tFALSE\tTRUE\t-100\t-1\t0\t0.001\t0\t0\t31\t123\t1\t1\t1\tFALSE\t1\t0.1\t50\t0.5\tTRUE\t279523\t0.188510769635448\t0.0160009792923074\t20\t46521\t14153\t121798905.047476\t50\n"
     ]
    },
    {
     "name": "stderr",
     "output_type": "stream",
     "text": [
      "[mbo] 34: learning_rate=0.189; feature_fraction=0.016; num_leaves=20; min_data_in_leaf=46521 : y = 1.22e+08 : 96.5 secs : infill_ei\n",
      "\n",
      "Saved the current state after iteration 35 in the file HT8230 (Clase 12, Ajustado Sem2).RDATA.\n",
      "\n"
     ]
    },
    {
     "name": "stdout",
     "output_type": "stream",
     "text": [
      "Validate  51     1050    97451499     99977453    \n",
      "20231105 190840\t601\t976271\tgbdt\tbinary\tcustom\tTRUE\tTRUE\tFALSE\tTRUE\t-100\t-1\t0\t0.001\t0\t0\t31\t632\t1\t1\t1\tFALSE\t1\t0.1\t50\t0.5\tTRUE\t279523\t0.207759407162936\t0.363749616031018\t866\t2414\t13825\t131657843.578211\t51\n"
     ]
    },
    {
     "name": "stderr",
     "output_type": "stream",
     "text": [
      "[mbo] 35: learning_rate=0.208; feature_fraction=0.364; num_leaves=866; min_data_in_leaf=2414 : y = 1.32e+08 : 581.4 secs : infill_ei\n",
      "\n"
     ]
    },
    {
     "name": "stdout",
     "output_type": "stream",
     "text": [
      "Validate  52     1040    104318747     108232534    \n",
      "20231105 191714\t601\t976271\tgbdt\tbinary\tcustom\tTRUE\tTRUE\tFALSE\tTRUE\t-100\t-1\t0\t0.001\t0\t0\t31\t601\t1\t1\t1\tFALSE\t1\t0.1\t50\t0.5\tTRUE\t279523\t0.0862693665594208\t0.367803098479063\t141\t1495\t14743\t134652213.393303\t52\n"
     ]
    },
    {
     "name": "stderr",
     "output_type": "stream",
     "text": [
      "[mbo] 36: learning_rate=0.0863; feature_fraction=0.368; num_leaves=141; min_data_in_leaf=1495 : y = 1.35e+08 : 513.4 secs : infill_ei\n",
      "\n",
      "Saved the current state after iteration 37 in the file HT8230 (Clase 12, Ajustado Sem2).RDATA.\n",
      "\n"
     ]
    },
    {
     "name": "stdout",
     "output_type": "stream",
     "text": [
      "Validate  53     810    96475550     102350267     \n",
      "20231105 192232\t601\t976271\tgbdt\tbinary\tcustom\tTRUE\tTRUE\tFALSE\tTRUE\t-100\t-1\t0\t0.001\t0\t0\t31\t392\t1\t1\t1\tFALSE\t1\t0.1\t50\t0.5\tTRUE\t279523\t0.201494440229396\t0.230863219716859\t91\t16658\t11818\t137250311.844078\t53\n"
     ]
    },
    {
     "name": "stderr",
     "output_type": "stream",
     "text": [
      "[mbo] 37: learning_rate=0.201; feature_fraction=0.231; num_leaves=91; min_data_in_leaf=16658 : y = 1.37e+08 : 315.2 secs : infill_ei\n",
      "\n"
     ]
    },
    {
     "name": "stdout",
     "output_type": "stream",
     "text": [
      "Validate  54     640    98337042     104713210     \n",
      "20231105 192527\t601\t976271\tgbdt\tbinary\tcustom\tTRUE\tTRUE\tFALSE\tTRUE\t-100\t-1\t0\t0.001\t0\t0\t31\t117\t1\t1\t1\tFALSE\t1\t0.1\t50\t0.5\tTRUE\t279523\t0.0312102471790676\t0.947599405081835\t341\t49600\t14098\t133383485.257371\t54\n"
     ]
    },
    {
     "name": "stderr",
     "output_type": "stream",
     "text": [
      "[mbo] 38: learning_rate=0.0312; feature_fraction=0.948; num_leaves=341; min_data_in_leaf=49600 : y = 1.33e+08 : 174.5 secs : infill_ei\n",
      "\n"
     ]
    },
    {
     "name": "stdout",
     "output_type": "stream",
     "text": [
      "Validate  55     550    101654073     105028815    \n",
      "20231105 192851\t601\t976271\tgbdt\tbinary\tcustom\tTRUE\tTRUE\tFALSE\tTRUE\t-100\t-1\t0\t0.001\t0\t0\t31\t135\t1\t1\t1\tFALSE\t1\t0.1\t50\t0.5\tTRUE\t279523\t0.218010056024513\t0.982859935984685\t399\t9546\t15194\t136074843.578211\t55\n"
     ]
    },
    {
     "name": "stderr",
     "output_type": "stream",
     "text": [
      "[mbo] 39: learning_rate=0.218; feature_fraction=0.983; num_leaves=399; min_data_in_leaf=9546 : y = 1.36e+08 : 203.3 secs : infill_ei\n",
      "\n",
      "Saved the current state after iteration 40 in the file HT8230 (Clase 12, Ajustado Sem2).RDATA.\n",
      "\n"
     ]
    },
    {
     "name": "stdout",
     "output_type": "stream",
     "text": [
      "Validate  56     1810    107444189     108806359    \n",
      "20231105 194118\t601\t976271\tgbdt\tbinary\tcustom\tTRUE\tTRUE\tFALSE\tTRUE\t-100\t-1\t0\t0.001\t0\t0\t31\t1316\t1\t1\t1\tFALSE\t1\t0.1\t50\t0.5\tTRUE\t279523\t0.0395327590028695\t0.26333513839646\t1006\t10586\t12086\t143383207.396302\t56\n"
     ]
    },
    {
     "name": "stderr",
     "output_type": "stream",
     "text": [
      "[mbo] 40: learning_rate=0.0395; feature_fraction=0.263; num_leaves=1006; min_data_in_leaf=10586 : y = 1.43e+08 : 744.6 secs : infill_ei\n",
      "\n",
      "Saved the current state after iteration 41 in the file HT8230 (Clase 12, Ajustado Sem2).RDATA.\n",
      "\n"
     ]
    },
    {
     "name": "stdout",
     "output_type": "stream",
     "text": [
      "Validate  57     490    101073210     101073210    \n",
      "20231105 194336\t601\t976271\tgbdt\tbinary\tcustom\tTRUE\tTRUE\tFALSE\tTRUE\t-100\t-1\t0\t0.001\t0\t0\t31\t37\t1\t1\t1\tFALSE\t1\t0.1\t50\t0.5\tTRUE\t279523\t0.0688364978338479\t0.883629598794234\t618\t40211\t13151\t133563949.525237\t57\n"
     ]
    },
    {
     "name": "stderr",
     "output_type": "stream",
     "text": [
      "[mbo] 41: learning_rate=0.0688; feature_fraction=0.884; num_leaves=618; min_data_in_leaf=40211 : y = 1.34e+08 : 134.9 secs : infill_ei\n",
      "\n"
     ]
    },
    {
     "name": "stdout",
     "output_type": "stream",
     "text": [
      "Validate  58     510    101468064     105277548    \n",
      "20231105 194605\t601\t976271\tgbdt\tbinary\tcustom\tTRUE\tTRUE\tFALSE\tTRUE\t-100\t-1\t0\t0.001\t0\t0\t31\t33\t1\t1\t1\tFALSE\t1\t0.1\t50\t0.5\tTRUE\t279523\t0.0503323401668963\t0.657551057420429\t330\t31213\t15436\t129291028.485757\t58\n"
     ]
    },
    {
     "name": "stderr",
     "output_type": "stream",
     "text": [
      "[mbo] 42: learning_rate=0.0503; feature_fraction=0.658; num_leaves=330; min_data_in_leaf=31213 : y = 1.29e+08 : 148.4 secs : infill_ei\n",
      "\n"
     ]
    },
    {
     "name": "stdout",
     "output_type": "stream",
     "text": [
      "Validate  59     820    103423506     107762156    \n",
      "20231105 195216\t601\t976271\tgbdt\tbinary\tcustom\tTRUE\tTRUE\tFALSE\tTRUE\t-100\t-1\t0\t0.001\t0\t0\t31\t404\t1\t1\t1\tFALSE\t1\t0.1\t50\t0.5\tTRUE\t279523\t0.198826848253567\t0.19463110197156\t928\t1255\t14180\t131603848.075962\t59\n"
     ]
    },
    {
     "name": "stderr",
     "output_type": "stream",
     "text": [
      "[mbo] 43: learning_rate=0.199; feature_fraction=0.195; num_leaves=928; min_data_in_leaf=1255 : y = 1.32e+08 : 370.9 secs : infill_ei\n",
      "\n",
      "Saved the current state after iteration 44 in the file HT8230 (Clase 12, Ajustado Sem2).RDATA.\n",
      "\n"
     ]
    },
    {
     "name": "stdout",
     "output_type": "stream",
     "text": [
      "Validate  60     840    104798581     106884378    \n",
      "20231105 195749\t601\t976271\tgbdt\tbinary\tcustom\tTRUE\tTRUE\tFALSE\tTRUE\t-100\t-1\t0\t0.001\t0\t0\t31\t409\t1\t1\t1\tFALSE\t1\t0.1\t50\t0.5\tTRUE\t279523\t0.127045100986078\t0.238003119838871\t911\t11445\t12203\t143860939.030485\t60\n"
     ]
    },
    {
     "name": "stderr",
     "output_type": "stream",
     "text": [
      "[mbo] 44: learning_rate=0.127; feature_fraction=0.238; num_leaves=911; min_data_in_leaf=11445 : y = 1.44e+08 : 329.1 secs : infill_ei\n",
      "\n"
     ]
    },
    {
     "name": "stdout",
     "output_type": "stream",
     "text": [
      "Validate  61     590    102685018     107005274    \n",
      "20231105 200117\t601\t976271\tgbdt\tbinary\tcustom\tTRUE\tTRUE\tFALSE\tTRUE\t-100\t-1\t0\t0.001\t0\t0\t31\t169\t1\t1\t1\tFALSE\t1\t0.1\t50\t0.5\tTRUE\t279523\t0.165861892585315\t0.685844735472054\t764\t15744\t12708\t143373195.402299\t61\n"
     ]
    },
    {
     "name": "stderr",
     "output_type": "stream",
     "text": [
      "[mbo] 45: learning_rate=0.166; feature_fraction=0.686; num_leaves=764; min_data_in_leaf=15744 : y = 1.43e+08 : 207.5 secs : infill_ei\n",
      "\n"
     ]
    },
    {
     "name": "stdout",
     "output_type": "stream",
     "text": [
      "Validate  62     1610    100345819     104276838    \n",
      "20231105 201023\t601\t976271\tgbdt\tbinary\tcustom\tTRUE\tTRUE\tFALSE\tTRUE\t-100\t-1\t0\t0.001\t0\t0\t31\t1191\t1\t1\t1\tFALSE\t1\t0.1\t50\t0.5\tTRUE\t279523\t0.178284161387343\t0.207320006196336\t743\t44445\t10011\t143052395.302349\t62\n"
     ]
    },
    {
     "name": "stderr",
     "output_type": "stream",
     "text": [
      "[mbo] 46: learning_rate=0.178; feature_fraction=0.207; num_leaves=743; min_data_in_leaf=44445 : y = 1.43e+08 : 546.4 secs : infill_ei\n",
      "\n",
      "Saved the current state after iteration 47 in the file HT8230 (Clase 12, Ajustado Sem2).RDATA.\n",
      "\n"
     ]
    },
    {
     "name": "stdout",
     "output_type": "stream",
     "text": [
      "Validate  63     600    100473851     105670209    \n",
      "20231105 201336\t601\t976271\tgbdt\tbinary\tcustom\tTRUE\tTRUE\tFALSE\tTRUE\t-100\t-1\t0\t0.001\t0\t0\t31\t186\t1\t1\t1\tFALSE\t1\t0.1\t50\t0.5\tTRUE\t279523\t0.213218114886863\t0.83433932040716\t451\t27342\t13107\t142169520.73963\t63\n"
     ]
    },
    {
     "name": "stderr",
     "output_type": "stream",
     "text": [
      "[mbo] 47: learning_rate=0.213; feature_fraction=0.834; num_leaves=451; min_data_in_leaf=27342 : y = 1.42e+08 : 189.3 secs : infill_ei\n",
      "\n"
     ]
    },
    {
     "name": "stdout",
     "output_type": "stream",
     "text": [
      "Validate  64     2350    106420731     107538569    \n",
      "20231105 202539\t601\t976271\tgbdt\tbinary\tcustom\tTRUE\tTRUE\tFALSE\tTRUE\t-100\t-1\t0\t0.001\t0\t0\t31\t1861\t1\t1\t1\tFALSE\t1\t0.1\t50\t0.5\tTRUE\t279523\t0.0417724200900978\t0.130578295568776\t309\t11539\t12771\t139245458.770615\t64\n"
     ]
    },
    {
     "name": "stderr",
     "output_type": "stream",
     "text": [
      "[mbo] 48: learning_rate=0.0418; feature_fraction=0.131; num_leaves=309; min_data_in_leaf=11539 : y = 1.39e+08 : 722.3 secs : infill_ei\n",
      "\n",
      "Saved the current state after iteration 49 in the file HT8230 (Clase 12, Ajustado Sem2).RDATA.\n",
      "\n"
     ]
    },
    {
     "name": "stdout",
     "output_type": "stream",
     "text": [
      "Validate  65     600    101258806     102602792    \n",
      "20231105 202801\t601\t976271\tgbdt\tbinary\tcustom\tTRUE\tTRUE\tFALSE\tTRUE\t-100\t-1\t0\t0.001\t0\t0\t31\t102\t1\t1\t1\tFALSE\t1\t0.1\t50\t0.5\tTRUE\t279523\t0.040551364638024\t0.0542385882349187\t951\t17707\t15409\t120673811.594203\t65\n"
     ]
    },
    {
     "name": "stderr",
     "output_type": "stream",
     "text": [
      "[mbo] 49: learning_rate=0.0406; feature_fraction=0.0542; num_leaves=951; min_data_in_leaf=17707 : y = 1.21e+08 : 139.0 secs : infill_ei\n",
      "\n"
     ]
    },
    {
     "name": "stdout",
     "output_type": "stream",
     "text": [
      "Validate  66     830    99686899     103889452     \n",
      "20231105 203454\t601\t976271\tgbdt\tbinary\tcustom\tTRUE\tTRUE\tFALSE\tTRUE\t-100\t-1\t0\t0.001\t0\t0\t31\t409\t1\t1\t1\tFALSE\t1\t0.1\t50\t0.5\tTRUE\t279523\t0.161191127476458\t0.462083494035706\t255\t25396\t12678\t142838207.896052\t66\n"
     ]
    },
    {
     "name": "stderr",
     "output_type": "stream",
     "text": [
      "[mbo] 50: learning_rate=0.161; feature_fraction=0.462; num_leaves=255; min_data_in_leaf=25396 : y = 1.43e+08 : 412.7 secs : infill_ei\n",
      "\n",
      "Saved the final state in the file HT8230 (Clase 12, Ajustado Sem2).RDATA\n",
      "\n"
     ]
    },
    {
     "name": "stdout",
     "output_type": "stream",
     "text": [
      "\n",
      "\n",
      "La optimizacion Bayesiana ha terminado\n"
     ]
    }
   ],
   "source": [
    "# inicio la optimizacion bayesiana\n",
    "if (!file.exists(kbayesiana)) {\n",
    "  run <- mbo(obj.fun, learner = surr.km, control = ctrl)\n",
    "} else {\n",
    "  run <- mboContinue(kbayesiana) # retomo en caso que ya exista\n",
    "}\n",
    "\n",
    "\n",
    "cat(\"\\n\\nLa optimizacion Bayesiana ha terminado\\n\")\n"
   ]
  },
  {
   "cell_type": "markdown",
   "metadata": {},
   "source": [
    "# Semilla 3, ajustado"
   ]
  },
  {
   "cell_type": "code",
   "execution_count": 152,
   "metadata": {
    "vscode": {
     "languageId": "r"
    }
   },
   "outputs": [
    {
     "data": {
      "text/html": [
       "<table class=\"dataframe\">\n",
       "<caption>A matrix: 2 × 6 of type dbl</caption>\n",
       "<thead>\n",
       "\t<tr><th></th><th scope=col>used</th><th scope=col>(Mb)</th><th scope=col>gc trigger</th><th scope=col>(Mb)</th><th scope=col>max used</th><th scope=col>(Mb)</th></tr>\n",
       "</thead>\n",
       "<tbody>\n",
       "\t<tr><th scope=row>Ncells</th><td>  2539485</td><td> 135.7</td><td>   8200216</td><td>  438</td><td>  22909774</td><td> 1223.6</td></tr>\n",
       "\t<tr><th scope=row>Vcells</th><td>709382578</td><td>5412.2</td><td>2247621112</td><td>17148</td><td>6843588264</td><td>52212.5</td></tr>\n",
       "</tbody>\n",
       "</table>\n"
      ],
      "text/latex": [
       "A matrix: 2 × 6 of type dbl\n",
       "\\begin{tabular}{r|llllll}\n",
       "  & used & (Mb) & gc trigger & (Mb) & max used & (Mb)\\\\\n",
       "\\hline\n",
       "\tNcells &   2539485 &  135.7 &    8200216 &   438 &   22909774 &  1223.6\\\\\n",
       "\tVcells & 709382578 & 5412.2 & 2247621112 & 17148 & 6843588264 & 52212.5\\\\\n",
       "\\end{tabular}\n"
      ],
      "text/markdown": [
       "\n",
       "A matrix: 2 × 6 of type dbl\n",
       "\n",
       "| <!--/--> | used | (Mb) | gc trigger | (Mb) | max used | (Mb) |\n",
       "|---|---|---|---|---|---|---|\n",
       "| Ncells |   2539485 |  135.7 |    8200216 |   438 |   22909774 |  1223.6 |\n",
       "| Vcells | 709382578 | 5412.2 | 2247621112 | 17148 | 6843588264 | 52212.5 |\n",
       "\n"
      ],
      "text/plain": [
       "       used      (Mb)   gc trigger (Mb)  max used   (Mb)   \n",
       "Ncells   2539485  135.7    8200216   438   22909774  1223.6\n",
       "Vcells 709382578 5412.2 2247621112 17148 6843588264 52212.5"
      ]
     },
     "metadata": {},
     "output_type": "display_data"
    }
   ],
   "source": [
    "# limpio la memoria\n",
    "rm(list = ls()) # remove all objects\n",
    "gc() # garbage collection"
   ]
  },
  {
   "cell_type": "code",
   "execution_count": 153,
   "metadata": {
    "vscode": {
     "languageId": "r"
    }
   },
   "outputs": [],
   "source": [
    "require(\"data.table\")\n",
    "require(\"rlist\")\n",
    "require(\"lightgbm\")"
   ]
  },
  {
   "cell_type": "code",
   "execution_count": 154,
   "metadata": {
    "vscode": {
     "languageId": "r"
    }
   },
   "outputs": [],
   "source": [
    "# paquetes necesarios para la Bayesian Optimization\n",
    "require(\"DiceKriging\")\n",
    "require(\"mlrMBO\")\n",
    "\n",
    "# para que se detenga ante el primer error\n",
    "# y muestre el stack de funciones invocadas\n",
    "options(error = function() {\n",
    "  traceback(20)\n",
    "  options(error = NULL)\n",
    "  stop(\"exiting after script error\")\n",
    "})"
   ]
  },
  {
   "cell_type": "markdown",
   "metadata": {},
   "source": [
    "## Definición de Parametros"
   ]
  },
  {
   "cell_type": "code",
   "execution_count": 155,
   "metadata": {
    "vscode": {
     "languageId": "r"
    }
   },
   "outputs": [],
   "source": [
    "# defino los parametros de la corrida, en una lista, la variable global  PARAM\n",
    "#  muy pronto esto se leera desde un archivo formato .yaml\n",
    "PARAM <- list()\n",
    "\n",
    "PARAM$experimento <- \"HT8230 (Clase 12, Ajustado Sem3)\"\n",
    "\n",
    "PARAM$input$dataset <- \"datasets/competencia_03_infla_ajustado_lags.csv.gz\"\n",
    "\n",
    "# los meses en los que vamos a entrenar\n",
    "#  mucha magia emerger de esta eleccion\n",
    "PARAM$input$testing <- c(202107) # Último mes, lo más cercano al 202109 de kaggle\n",
    "PARAM$input$validation <- c(202106)\n",
    "PARAM$input$training <- c(202105, 202104, 202103, 202102, 202101,202012) # 6 meses de entrenamiento\t\n",
    "\n",
    "# un undersampling de 0.1  toma solo el 10% de los CONTINUA\n",
    "PARAM$trainingstrategy$undersampling <- 1.0\n",
    "PARAM$trainingstrategy$semilla_azar <- c(279511, 279523, 279541, 279551, 279571)  # Aqui poner su  primer  semilla/ pongo todas mis semillas\n",
    "\n",
    "PARAM$hyperparametertuning$POS_ganancia <- 273000\n",
    "PARAM$hyperparametertuning$NEG_ganancia <- -7000\n",
    "\n",
    "# Aqui va semilla\n",
    "PARAM$lgb_semilla <- 279541"
   ]
  },
  {
   "cell_type": "code",
   "execution_count": 156,
   "metadata": {
    "vscode": {
     "languageId": "r"
    }
   },
   "outputs": [],
   "source": [
    "# Hiperparametros FIJOS de  lightgbm\n",
    "PARAM$lgb_basicos <- list(\n",
    "  boosting = \"gbdt\", # puede ir  dart  , ni pruebe random_forest\n",
    "  objective = \"binary\",\n",
    "  metric = \"custom\",\n",
    "  first_metric_only = TRUE,\n",
    "  boost_from_average = TRUE,\n",
    "  feature_pre_filter = FALSE,\n",
    "  force_row_wise = TRUE, # para reducir warnings\n",
    "  verbosity = -100,\n",
    "  max_depth = -1L, # -1 significa no limitar,  por ahora lo dejo fijo\n",
    "  min_gain_to_split = 0.0, # min_gain_to_split >= 0.0\n",
    "  min_sum_hessian_in_leaf = 0.001, #  min_sum_hessian_in_leaf >= 0.0\n",
    "  lambda_l1 = 0.0, # lambda_l1 >= 0.0\n",
    "  lambda_l2 = 0.0, # lambda_l2 >= 0.0\n",
    "  max_bin = 31L, # lo debo dejar fijo, no participa de la BO\n",
    "  num_iterations = 9999, # un numero muy grande, lo limita early_stopping_rounds\n",
    "\n",
    "  bagging_fraction = 1.0, # 0.0 < bagging_fraction <= 1.0\n",
    "  pos_bagging_fraction = 1.0, # 0.0 < pos_bagging_fraction <= 1.0\n",
    "  neg_bagging_fraction = 1.0, # 0.0 < neg_bagging_fraction <= 1.0\n",
    "  is_unbalance = FALSE, #\n",
    "  scale_pos_weight = 1.0, # scale_pos_weight > 0.0\n",
    "\n",
    "  drop_rate = 0.1, # 0.0 < neg_bagging_fraction <= 1.0\n",
    "  max_drop = 50, # <=0 means no limit\n",
    "  skip_drop = 0.5, # 0.0 <= skip_drop <= 1.0\n",
    "\n",
    "  extra_trees = TRUE, # Magic Sauce\n",
    "\n",
    "  seed = PARAM$lgb_semilla\n",
    ")"
   ]
  },
  {
   "cell_type": "code",
   "execution_count": 157,
   "metadata": {
    "vscode": {
     "languageId": "r"
    }
   },
   "outputs": [],
   "source": [
    "# Aqui se cargan los hiperparametros que se optimizan\n",
    "#  en la Bayesian Optimization\n",
    "PARAM$bo_lgb <- makeParamSet(\n",
    "  makeNumericParam(\"learning_rate\", lower = 0.02, upper = 0.3),\n",
    "  makeNumericParam(\"feature_fraction\", lower = 0.01, upper = 1.0),\n",
    "  makeIntegerParam(\"num_leaves\", lower = 8L, upper = 1024L),\n",
    "  makeIntegerParam(\"min_data_in_leaf\", lower = 100L, upper = 50000L)\n",
    ")\n",
    "\n",
    "# si usted es ambicioso, y tiene paciencia, podria subir este valor a 100\n",
    "PARAM$bo_iteraciones <- 50 # iteraciones de la Optimizacion Bayesiana"
   ]
  },
  {
   "cell_type": "code",
   "execution_count": 158,
   "metadata": {
    "vscode": {
     "languageId": "r"
    }
   },
   "outputs": [],
   "source": [
    "# graba a un archivo los componentes de lista\n",
    "# para el primer registro, escribe antes los titulos\n",
    "\n",
    "loguear <- function(\n",
    "    reg, arch = NA, folder = \"./exp/\",\n",
    "    ext = \".txt\", verbose = TRUE) {\n",
    "  archivo <- arch\n",
    "  if (is.na(arch)) archivo <- paste0(folder, substitute(reg), ext)\n",
    "\n",
    "  if (!file.exists(archivo)) # Escribo los titulos\n",
    "    {\n",
    "      linea <- paste0(\n",
    "        \"fecha\\t\",\n",
    "        paste(list.names(reg), collapse = \"\\t\"), \"\\n\"\n",
    "      )\n",
    "\n",
    "      cat(linea, file = archivo)\n",
    "    }\n",
    "\n",
    "  linea <- paste0(\n",
    "    format(Sys.time(), \"%Y%m%d %H%M%S\"), \"\\t\", # la fecha y hora\n",
    "    gsub(\", \", \"\\t\", toString(reg)), \"\\n\"\n",
    "  )\n",
    "\n",
    "  cat(linea, file = archivo, append = TRUE) # grabo al archivo\n",
    "\n",
    "  if (verbose) cat(linea) # imprimo por pantalla\n",
    "}"
   ]
  },
  {
   "cell_type": "code",
   "execution_count": 159,
   "metadata": {
    "vscode": {
     "languageId": "r"
    }
   },
   "outputs": [],
   "source": [
    "#------------------------------------------------------------------------------\n",
    "GLOBAL_arbol <- 0L\n",
    "GLOBAL_gan_max <- -Inf\n",
    "vcant_optima <- c()\n",
    "\n",
    "fganancia_lgbm_meseta <- function(probs, datos) {\n",
    "  vlabels <- get_field(datos, \"label\")\n",
    "  vpesos <- get_field(datos, \"weight\")\n",
    "\n",
    "\n",
    "  GLOBAL_arbol <<- GLOBAL_arbol + 1\n",
    "  tbl <- as.data.table(list(\n",
    "    \"prob\" = probs,\n",
    "    \"gan\" = ifelse(vlabels == 1 & vpesos > 1,\n",
    "      PARAM$hyperparametertuning$POS_ganancia,\n",
    "      PARAM$hyperparametertuning$NEG_ganancia  )\n",
    "  ))\n",
    "\n",
    "  setorder(tbl, -prob)\n",
    "  tbl[, posicion := .I]\n",
    "  tbl[, gan_acum := cumsum(gan)]\n",
    "\n",
    "  tbl[, gan_suavizada :=\n",
    "    frollmean(\n",
    "      x = gan_acum, n = 2001, align = \"center\",\n",
    "      na.rm = TRUE, hasNA = TRUE\n",
    "    )]\n",
    "\n",
    "  gan <- tbl[, max(gan_suavizada, na.rm = TRUE)]\n",
    "\n",
    "\n",
    "  pos <- which.max(tbl[, gan_suavizada])\n",
    "  vcant_optima <<- c(vcant_optima, pos)\n",
    "\n",
    "  if (GLOBAL_arbol %% 10 == 0) {\n",
    "    if (gan > GLOBAL_gan_max) GLOBAL_gan_max <<- gan\n",
    "\n",
    "    cat(\"\\r\")\n",
    "    cat(\n",
    "      \"Validate \", GLOBAL_iteracion, \" \", \" \",\n",
    "      GLOBAL_arbol, \"  \", gan, \"   \", GLOBAL_gan_max, \"   \"\n",
    "    )\n",
    "  }\n",
    "\n",
    "\n",
    "  return(list(\n",
    "    \"name\" = \"ganancia\",\n",
    "    \"value\" = gan,\n",
    "    \"higher_better\" = TRUE\n",
    "  ))\n",
    "}"
   ]
  },
  {
   "cell_type": "code",
   "execution_count": 160,
   "metadata": {
    "vscode": {
     "languageId": "r"
    }
   },
   "outputs": [],
   "source": [
    "#------------------------------------------------------------------------------\n",
    "\n",
    "EstimarGanancia_lightgbm <- function(x) {\n",
    "  gc()\n",
    "  GLOBAL_iteracion <<- GLOBAL_iteracion + 1L\n",
    "\n",
    "  # hago la union de los parametros basicos y los moviles que vienen en x\n",
    "  param_completo <- c(PARAM$lgb_basicos, x)\n",
    "\n",
    "  param_completo$early_stopping_rounds <-\n",
    "    as.integer(400 + 4 / param_completo$learning_rate)\n",
    "\n",
    "  GLOBAL_arbol <<- 0L\n",
    "  GLOBAL_gan_max <<- -Inf\n",
    "  vcant_optima <<- c()\n",
    "  set.seed(PARAM$lgb_semilla, kind = \"L'Ecuyer-CMRG\")\n",
    "  modelo_train <- lgb.train(\n",
    "    data = dtrain,\n",
    "    valids = list(valid = dvalidate),\n",
    "    eval = fganancia_lgbm_meseta,\n",
    "    param = param_completo,\n",
    "    verbose = -100\n",
    "  )\n",
    "\n",
    "  cat(\"\\n\")\n",
    "\n",
    "  cant_corte <- vcant_optima[modelo_train$best_iter]\n",
    "\n",
    "  # aplico el modelo a testing y calculo la ganancia\n",
    "  prediccion <- predict(\n",
    "    modelo_train,\n",
    "    data.matrix(dataset_test[, campos_buenos, with = FALSE])\n",
    "  )\n",
    "\n",
    "  tbl <- copy(dataset_test[, list(\"gan\" = ifelse(clase_ternaria == \"BAJA+2\",\n",
    "    PARAM$hyperparametertuning$POS_ganancia, \n",
    "    PARAM$hyperparametertuning$NEG_ganancia))])\n",
    "\n",
    "  tbl[, prob := prediccion]\n",
    "  setorder(tbl, -prob)\n",
    "  tbl[, gan_acum := cumsum(gan)]\n",
    "  tbl[, gan_suavizada := frollmean(\n",
    "    x = gan_acum, n = 2001,\n",
    "    align = \"center\", na.rm = TRUE, hasNA = TRUE\n",
    "  )]\n",
    "\n",
    "\n",
    "  ganancia_test <- tbl[, max(gan_suavizada, na.rm = TRUE)]\n",
    "\n",
    "  cantidad_test_normalizada <- which.max(tbl[, gan_suavizada])\n",
    "\n",
    "  rm(tbl)\n",
    "  gc()\n",
    "\n",
    "  ganancia_test_normalizada <- ganancia_test\n",
    "\n",
    "\n",
    "  # voy grabando las mejores column importance\n",
    "  if (ganancia_test_normalizada > GLOBAL_gananciamax) {\n",
    "    GLOBAL_gananciamax <<- ganancia_test_normalizada\n",
    "    tb_importancia <- as.data.table(lgb.importance(modelo_train))\n",
    "\n",
    "    fwrite(tb_importancia,\n",
    "      file = paste0(\"impo_\", sprintf(\"%03d\", GLOBAL_iteracion), \".txt\"),\n",
    "      sep = \"\\t\"\n",
    "    )\n",
    "\n",
    "    rm(tb_importancia)\n",
    "  }\n",
    "\n",
    "\n",
    "  # logueo final\n",
    "  ds <- list(\"cols\" = ncol(dtrain), \"rows\" = nrow(dtrain))\n",
    "  xx <- c(ds, copy(param_completo))\n",
    "\n",
    "  xx$early_stopping_rounds <- NULL\n",
    "  xx$num_iterations <- modelo_train$best_iter\n",
    "  xx$estimulos <- cantidad_test_normalizada\n",
    "  xx$ganancia <- ganancia_test_normalizada\n",
    "  xx$iteracion_bayesiana <- GLOBAL_iteracion\n",
    "\n",
    "  loguear(xx, arch = \"BO_log.txt\")\n",
    "\n",
    "  set.seed(PARAM$lgb_semilla, kind = \"L'Ecuyer-CMRG\")\n",
    "  return(ganancia_test_normalizada)\n",
    "}"
   ]
  },
  {
   "cell_type": "markdown",
   "metadata": {},
   "source": [
    "## Aquí empieza el programa"
   ]
  },
  {
   "cell_type": "code",
   "execution_count": 161,
   "metadata": {
    "vscode": {
     "languageId": "r"
    }
   },
   "outputs": [],
   "source": [
    "# Aqui empieza el programa\n",
    "\n",
    "# Aqui se debe poner la carpeta de la computadora local\n",
    "setwd(\"~/buckets/b1/\") # Establezco el Working Directory\n",
    "\n",
    "# cargo el dataset donde voy a entrenar el modelo\n",
    "dataset <- fread(PARAM$input$dataset)"
   ]
  },
  {
   "cell_type": "code",
   "execution_count": 162,
   "metadata": {
    "vscode": {
     "languageId": "r"
    }
   },
   "outputs": [],
   "source": [
    "# creo la carpeta donde va el experimento\n",
    "dir.create(\"./exp/\", showWarnings = FALSE)\n",
    "dir.create(paste0(\"./exp/\", PARAM$experimento, \"/\"), showWarnings = FALSE)\n",
    "\n",
    "# Establezco el Working Directory DEL EXPERIMENTO\n",
    "setwd(paste0(\"./exp/\", PARAM$experimento, \"/\"))\n",
    "\n",
    "# en estos archivos quedan los resultados\n",
    "kbayesiana <- paste0(PARAM$experimento, \".RDATA\")\n",
    "klog <- paste0(PARAM$experimento, \".txt\")\n"
   ]
  },
  {
   "cell_type": "code",
   "execution_count": 163,
   "metadata": {
    "vscode": {
     "languageId": "r"
    }
   },
   "outputs": [],
   "source": [
    "# Catastrophe Analysis  -------------------------------------------------------\n",
    "# deben ir cosas de este estilo\n",
    "#   dataset[foto_mes == 202006, active_quarter := NA]\n",
    "\n",
    "# Data Drifting\n",
    "# por ahora, no hago nada\n",
    "\n",
    "\n",
    "# Feature Engineering Historico  ----------------------------------------------\n",
    "#   aqui deben calcularse los  lags y  lag_delta\n",
    "#   Sin lags no hay paraiso !  corta la bocha"
   ]
  },
  {
   "cell_type": "code",
   "execution_count": null,
   "metadata": {
    "vscode": {
     "languageId": "r"
    }
   },
   "outputs": [],
   "source": []
  },
  {
   "cell_type": "code",
   "execution_count": 164,
   "metadata": {
    "vscode": {
     "languageId": "r"
    }
   },
   "outputs": [],
   "source": [
    "# ahora SI comienza la optimizacion Bayesiana\n",
    "\n",
    "GLOBAL_iteracion <- 0 # inicializo la variable global\n",
    "GLOBAL_gananciamax <- -1 # inicializo la variable global\n",
    "\n",
    "# si ya existe el archivo log, traigo hasta donde llegue\n",
    "if (file.exists(klog)) {\n",
    "  tabla_log <- fread(klog)\n",
    "  GLOBAL_iteracion <- nrow(tabla_log)\n",
    "  GLOBAL_gananciamax <- tabla_log[, max(ganancia)]\n",
    "}\n"
   ]
  },
  {
   "cell_type": "code",
   "execution_count": 165,
   "metadata": {
    "vscode": {
     "languageId": "r"
    }
   },
   "outputs": [],
   "source": [
    "# paso la clase a binaria que tome valores {0,1}  enteros\n",
    "dataset[, clase01 := ifelse(clase_ternaria == \"CONTINUA\", 0L, 1L)]\n",
    "\n",
    "\n",
    "# los campos que se van a utilizar\n",
    "campos_buenos <- setdiff(\n",
    "  colnames(dataset),\n",
    "  c(\"clase_ternaria\", \"clase01\", \"azar\", \"training\")\n",
    ")"
   ]
  },
  {
   "cell_type": "code",
   "execution_count": 166,
   "metadata": {
    "vscode": {
     "languageId": "r"
    }
   },
   "outputs": [],
   "source": [
    "# defino los datos que forma parte del training\n",
    "# aqui se hace el undersampling de los CONTINUA\n",
    "set.seed(PARAM$trainingstrategy$semilla_azar)\n",
    "dataset[, azar := runif(nrow(dataset))]\n",
    "dataset[, training := 0L]\n",
    "dataset[\n",
    "  foto_mes %in% PARAM$input$training &\n",
    "    (azar <= PARAM$trainingstrategy$undersampling | clase_ternaria %in% c(\"BAJA+1\", \"BAJA+2\")),\n",
    "  training := 1L\n",
    "]"
   ]
  },
  {
   "cell_type": "code",
   "execution_count": 167,
   "metadata": {
    "vscode": {
     "languageId": "r"
    }
   },
   "outputs": [],
   "source": [
    "# dejo los datos en el formato que necesita LightGBM\n",
    "dtrain <- lgb.Dataset(\n",
    "  data = data.matrix(dataset[training == 1L, campos_buenos, with = FALSE]),\n",
    "  label = dataset[training == 1L, clase01],\n",
    "  weight = dataset[training == 1L, \n",
    "    ifelse(clase_ternaria == \"BAJA+2\", 1.0000001, \n",
    "      ifelse(clase_ternaria == \"BAJA+1\", 1.0, 1.0))],\n",
    "  free_raw_data = FALSE\n",
    ")"
   ]
  },
  {
   "cell_type": "code",
   "execution_count": 168,
   "metadata": {
    "vscode": {
     "languageId": "r"
    }
   },
   "outputs": [],
   "source": [
    "# defino los datos que forman parte de validation\n",
    "#  no hay undersampling\n",
    "dataset[, validation := 0L]\n",
    "dataset[ foto_mes %in% PARAM$input$validation,  validation := 1L]\n",
    "\n",
    "dvalidate <- lgb.Dataset(\n",
    "  data = data.matrix(dataset[validation == 1L, campos_buenos, with = FALSE]),\n",
    "  label = dataset[validation == 1L, clase01],\n",
    "  weight = dataset[validation == 1L, \n",
    "    ifelse(clase_ternaria == \"BAJA+2\", 1.0000001, \n",
    "      ifelse(clase_ternaria == \"BAJA+1\", 1.0, 1.0))],\n",
    "  free_raw_data = FALSE\n",
    ")"
   ]
  },
  {
   "cell_type": "code",
   "execution_count": 169,
   "metadata": {
    "vscode": {
     "languageId": "r"
    }
   },
   "outputs": [],
   "source": [
    "# defino los datos de testing\n",
    "dataset[, testing := 0L]\n",
    "dataset[ foto_mes %in% PARAM$input$testing,  testing := 1L]\n",
    "\n",
    "\n",
    "dataset_test <- dataset[testing == 1, ]"
   ]
  },
  {
   "cell_type": "code",
   "execution_count": 170,
   "metadata": {
    "vscode": {
     "languageId": "r"
    }
   },
   "outputs": [
    {
     "data": {
      "text/html": [
       "<table class=\"dataframe\">\n",
       "<caption>A matrix: 2 × 6 of type dbl</caption>\n",
       "<thead>\n",
       "\t<tr><th></th><th scope=col>used</th><th scope=col>(Mb)</th><th scope=col>gc trigger</th><th scope=col>(Mb)</th><th scope=col>max used</th><th scope=col>(Mb)</th></tr>\n",
       "</thead>\n",
       "<tbody>\n",
       "\t<tr><th scope=row>Ncells</th><td>  2540263</td><td> 135.7</td><td>   8200216</td><td>  438.0</td><td>  22909774</td><td> 1223.6</td></tr>\n",
       "\t<tr><th scope=row>Vcells</th><td>782690200</td><td>5971.5</td><td>3110133113</td><td>23728.5</td><td>6843588264</td><td>52212.5</td></tr>\n",
       "</tbody>\n",
       "</table>\n"
      ],
      "text/latex": [
       "A matrix: 2 × 6 of type dbl\n",
       "\\begin{tabular}{r|llllll}\n",
       "  & used & (Mb) & gc trigger & (Mb) & max used & (Mb)\\\\\n",
       "\\hline\n",
       "\tNcells &   2540263 &  135.7 &    8200216 &   438.0 &   22909774 &  1223.6\\\\\n",
       "\tVcells & 782690200 & 5971.5 & 3110133113 & 23728.5 & 6843588264 & 52212.5\\\\\n",
       "\\end{tabular}\n"
      ],
      "text/markdown": [
       "\n",
       "A matrix: 2 × 6 of type dbl\n",
       "\n",
       "| <!--/--> | used | (Mb) | gc trigger | (Mb) | max used | (Mb) |\n",
       "|---|---|---|---|---|---|---|\n",
       "| Ncells |   2540263 |  135.7 |    8200216 |   438.0 |   22909774 |  1223.6 |\n",
       "| Vcells | 782690200 | 5971.5 | 3110133113 | 23728.5 | 6843588264 | 52212.5 |\n",
       "\n"
      ],
      "text/plain": [
       "       used      (Mb)   gc trigger (Mb)    max used   (Mb)   \n",
       "Ncells   2540263  135.7    8200216   438.0   22909774  1223.6\n",
       "Vcells 782690200 5971.5 3110133113 23728.5 6843588264 52212.5"
      ]
     },
     "metadata": {},
     "output_type": "display_data"
    }
   ],
   "source": [
    "# libero espacio\n",
    "rm(dataset)\n",
    "gc()"
   ]
  },
  {
   "cell_type": "code",
   "execution_count": 171,
   "metadata": {
    "vscode": {
     "languageId": "r"
    }
   },
   "outputs": [],
   "source": [
    "# Aqui comienza la configuracion de la Bayesian Optimization\n",
    "funcion_optimizar <- EstimarGanancia_lightgbm # la funcion que voy a maximizar\n",
    "\n",
    "configureMlr(show.learner.output = FALSE)\n",
    "\n",
    "# configuro la busqueda bayesiana,  los hiperparametros que se van a optimizar\n",
    "# por favor, no desesperarse por lo complejo\n",
    "obj.fun <- makeSingleObjectiveFunction(\n",
    "  fn = funcion_optimizar, # la funcion que voy a maximizar\n",
    "  minimize = FALSE, # estoy Maximizando la ganancia\n",
    "  noisy = TRUE,\n",
    "  par.set = PARAM$bo_lgb, # definido al comienzo del programa\n",
    "  has.simple.signature = FALSE # paso los parametros en una lista\n",
    ")\n",
    "\n",
    "# cada 600 segundos guardo el resultado intermedio\n",
    "ctrl <- makeMBOControl(\n",
    "  save.on.disk.at.time = 600, # se graba cada 600 segundos\n",
    "  save.file.path = kbayesiana\n",
    ") # se graba cada 600 segundos\n",
    "\n",
    "# indico la cantidad de iteraciones que va a tener la Bayesian Optimization\n",
    "ctrl <- setMBOControlTermination(\n",
    "  ctrl,\n",
    "  iters = PARAM$bo_iteraciones\n",
    ") # cantidad de iteraciones\n",
    "\n",
    "# defino el método estandar para la creacion de los puntos iniciales,\n",
    "# los \"No Inteligentes\"\n",
    "ctrl <- setMBOControlInfill(ctrl, crit = makeMBOInfillCritEI())\n",
    "\n",
    "\n",
    "# establezco la funcion que busca el maximo\n",
    "surr.km <- makeLearner(\n",
    "  \"regr.km\",\n",
    "  predict.type = \"se\",\n",
    "  covtype = \"matern3_2\",\n",
    "  control = list(trace = TRUE)\n",
    ")"
   ]
  },
  {
   "cell_type": "code",
   "execution_count": 172,
   "metadata": {
    "vscode": {
     "languageId": "r"
    }
   },
   "outputs": [
    {
     "name": "stderr",
     "output_type": "stream",
     "text": [
      "Computing y column(s) for design. Not provided.\n",
      "\n"
     ]
    },
    {
     "name": "stdout",
     "output_type": "stream",
     "text": [
      "Validate  1     920    105884543     107497359    \n",
      "20231105 204312\t601\t976271\tgbdt\tbinary\tcustom\tTRUE\tTRUE\tFALSE\tTRUE\t-100\t-1\t0\t0.001\t0\t0\t31\t496\t1\t1\t1\tFALSE\t1\t0.1\t50\t0.5\tTRUE\t279541\t0.129464825580638\t0.589979261678396\t603\t34060\t12277\t143238411.294353\t1\n",
      "Validate  2     500    100390418     103414404    \n",
      "20231105 204632\t601\t976271\tgbdt\tbinary\tcustom\tTRUE\tTRUE\tFALSE\tTRUE\t-100\t-1\t0\t0.001\t0\t0\t31\t40\t1\t1\t1\tFALSE\t1\t0.1\t50\t0.5\tTRUE\t279541\t0.0661204550073144\t0.306758356069939\t135\t27020\t14897\t128560660.169915\t2\n",
      "Validate  3     1370    104296792     106785665    \n",
      "20231105 205302\t601\t976271\tgbdt\tbinary\tcustom\tTRUE\tTRUE\tFALSE\tTRUE\t-100\t-1\t0\t0.001\t0\t0\t31\t938\t1\t1\t1\tFALSE\t1\t0.1\t50\t0.5\tTRUE\t279541\t0.113019156746563\t0.722689286671374\t381\t28634\t12254\t144095983.008496\t3\n",
      "Validate  4     710    101019956     101241500    \n",
      "20231105 205613\t601\t976271\tgbdt\tbinary\tcustom\tTRUE\tTRUE\tFALSE\tTRUE\t-100\t-1\t0\t0.001\t0\t0\t31\t295\t1\t1\t1\tFALSE\t1\t0.1\t50\t0.5\tTRUE\t279541\t0.175678618850921\t0.0837276906739244\t542\t6859\t15118\t126270771.614193\t4\n",
      "Validate  5     950    94864542     101307610     \n",
      "20231105 210257\t601\t976271\tgbdt\tbinary\tcustom\tTRUE\tTRUE\tFALSE\tTRUE\t-100\t-1\t0\t0.001\t0\t0\t31\t541\t1\t1\t1\tFALSE\t1\t0.1\t50\t0.5\tTRUE\t279541\t0.275198918823473\t0.32486327912462\t723\t16035\t11777\t133614093.453273\t5\n",
      "Validate  6     710    103770123     108254276    \n",
      "20231105 210659\t601\t976271\tgbdt\tbinary\tcustom\tTRUE\tTRUE\tFALSE\tTRUE\t-100\t-1\t0\t0.001\t0\t0\t31\t288\t1\t1\t1\tFALSE\t1\t0.1\t50\t0.5\tTRUE\t279541\t0.152941050471095\t0.645387167052228\t502\t12627\t13677\t146458061.469265\t6\n",
      "Validate  7     430    101100825     101929354    \n",
      "20231105 210853\t601\t976271\tgbdt\tbinary\tcustom\tTRUE\tTRUE\tFALSE\tTRUE\t-100\t-1\t0\t0.001\t0\t0\t31\t19\t1\t1\t1\tFALSE\t1\t0.1\t50\t0.5\tTRUE\t279541\t0.19416275426125\t0.794035319192328\t845\t42464\t13215\t129906654.172914\t7\n",
      "Validate  8     970    102556248     103050099    \n",
      "20231105 211347\t601\t976271\tgbdt\tbinary\tcustom\tTRUE\tTRUE\tFALSE\tTRUE\t-100\t-1\t0\t0.001\t0\t0\t31\t554\t1\t1\t1\tFALSE\t1\t0.1\t50\t0.5\tTRUE\t279541\t0.208330530396255\t0.164289977450783\t938\t38948\t10854\t142291165.417291\t8\n",
      "Validate  9     600    100848503     105048405    \n",
      "20231105 211900\t601\t976271\tgbdt\tbinary\tcustom\tTRUE\tTRUE\tFALSE\tTRUE\t-100\t-1\t0\t0.001\t0\t0\t31\t51\t1\t1\t1\tFALSE\t1\t0.1\t50\t0.5\tTRUE\t279541\t0.0267066953639716\t0.560570734105559\t306\t19296\t10156\t132025401.29935\t9\n",
      "Validate  10     820    99352158     106268343     \n",
      "20231105 212238\t601\t976271\tgbdt\tbinary\tcustom\tTRUE\tTRUE\tFALSE\tTRUE\t-100\t-1\t0\t0.001\t0\t0\t31\t404\t1\t1\t1\tFALSE\t1\t0.1\t50\t0.5\tTRUE\t279541\t0.221560927090974\t0.826648094024347\t31\t34846\t13807\t141829980.509745\t10\n",
      "Validate  11     680    110048396     112457421    \n",
      "20231105 212834\t601\t976271\tgbdt\tbinary\tcustom\tTRUE\tTRUE\tFALSE\tTRUE\t-100\t-1\t0\t0.001\t0\t0\t31\t239\t1\t1\t1\tFALSE\t1\t0.1\t50\t0.5\tTRUE\t279541\t0.0852503757905397\t0.925651702728775\t683\t1679\t13206\t141846075.962019\t11\n",
      "Validate  12     570    97750519     104118983     \n",
      "20231105 213142\t601\t976271\tgbdt\tbinary\tcustom\tTRUE\tTRUE\tFALSE\tTRUE\t-100\t-1\t0\t0.001\t0\t0\t31\t96\t1\t1\t1\tFALSE\t1\t0.1\t50\t0.5\tTRUE\t279541\t0.0506736029737185\t0.207218508431007\t246\t49507\t17007\t123119095.952024\t12\n",
      "Validate  13     420    100888026     103411987    \n",
      "20231105 213410\t601\t976271\tgbdt\tbinary\tcustom\tTRUE\tTRUE\tFALSE\tTRUE\t-100\t-1\t0\t0.001\t0\t0\t31\t12\t1\t1\t1\tFALSE\t1\t0.1\t50\t0.5\tTRUE\t279541\t0.241211629895149\t0.979385213098052\t981\t9632\t13622\t134456734.632684\t13\n",
      "Validate  14     1030    98538671     101648462    \n",
      "20231105 214147\t601\t976271\tgbdt\tbinary\tcustom\tTRUE\tTRUE\tFALSE\tTRUE\t-100\t-1\t0\t0.001\t0\t0\t31\t622\t1\t1\t1\tFALSE\t1\t0.1\t50\t0.5\tTRUE\t279541\t0.289686593103062\t0.413139080222854\t417\t43892\t12715\t140405534.732634\t14\n",
      "Validate  15     780    94929701     99580797    \n",
      "20231105 214427\t601\t976271\tgbdt\tbinary\tcustom\tTRUE\tTRUE\tFALSE\tTRUE\t-100\t-1\t0\t0.001\t0\t0\t31\t374\t1\t1\t1\tFALSE\t1\t0.1\t50\t0.5\tTRUE\t279541\t0.260954398056728\t0.0272621639125061\t107\t5794\t12396\t130795416.291854\t15\n",
      "Validate  16     1190    107051014     108756884    \n",
      "20231105 215403\t601\t976271\tgbdt\tbinary\tcustom\tTRUE\tTRUE\tFALSE\tTRUE\t-100\t-1\t0\t0.001\t0\t0\t31\t751\t1\t1\t1\tFALSE\t1\t0.1\t50\t0.5\tTRUE\t279541\t0.0917235747127569\t0.46677263015138\t785\t24824\t14005\t143703370.814593\t16\n"
     ]
    },
    {
     "name": "stderr",
     "output_type": "stream",
     "text": [
      "[mbo] 0: learning_rate=0.129; feature_fraction=0.59; num_leaves=603; min_data_in_leaf=34060 : y = 1.43e+08 : 414.5 secs : initdesign\n",
      "\n",
      "[mbo] 0: learning_rate=0.0661; feature_fraction=0.307; num_leaves=135; min_data_in_leaf=27020 : y = 1.29e+08 : 199.5 secs : initdesign\n",
      "\n",
      "[mbo] 0: learning_rate=0.113; feature_fraction=0.723; num_leaves=381; min_data_in_leaf=28634 : y = 1.44e+08 : 390.7 secs : initdesign\n",
      "\n",
      "[mbo] 0: learning_rate=0.176; feature_fraction=0.0837; num_leaves=542; min_data_in_leaf=6859 : y = 1.26e+08 : 190.9 secs : initdesign\n",
      "\n",
      "[mbo] 0: learning_rate=0.275; feature_fraction=0.325; num_leaves=723; min_data_in_leaf=16035 : y = 1.34e+08 : 403.5 secs : initdesign\n",
      "\n",
      "[mbo] 0: learning_rate=0.153; feature_fraction=0.645; num_leaves=502; min_data_in_leaf=12627 : y = 1.46e+08 : 241.9 secs : initdesign\n",
      "\n",
      "[mbo] 0: learning_rate=0.194; feature_fraction=0.794; num_leaves=845; min_data_in_leaf=42464 : y = 1.3e+08 : 114.0 secs : initdesign\n",
      "\n",
      "[mbo] 0: learning_rate=0.208; feature_fraction=0.164; num_leaves=938; min_data_in_leaf=38948 : y = 1.42e+08 : 294.2 secs : initdesign\n",
      "\n",
      "[mbo] 0: learning_rate=0.0267; feature_fraction=0.561; num_leaves=306; min_data_in_leaf=19296 : y = 1.32e+08 : 313.4 secs : initdesign\n",
      "\n",
      "[mbo] 0: learning_rate=0.222; feature_fraction=0.827; num_leaves=31; min_data_in_leaf=34846 : y = 1.42e+08 : 217.8 secs : initdesign\n",
      "\n",
      "[mbo] 0: learning_rate=0.0853; feature_fraction=0.926; num_leaves=683; min_data_in_leaf=1679 : y = 1.42e+08 : 355.9 secs : initdesign\n",
      "\n",
      "[mbo] 0: learning_rate=0.0507; feature_fraction=0.207; num_leaves=246; min_data_in_leaf=49507 : y = 1.23e+08 : 188.2 secs : initdesign\n",
      "\n",
      "[mbo] 0: learning_rate=0.241; feature_fraction=0.979; num_leaves=981; min_data_in_leaf=9632 : y = 1.34e+08 : 148.3 secs : initdesign\n",
      "\n",
      "[mbo] 0: learning_rate=0.29; feature_fraction=0.413; num_leaves=417; min_data_in_leaf=43892 : y = 1.4e+08 : 456.5 secs : initdesign\n",
      "\n",
      "[mbo] 0: learning_rate=0.261; feature_fraction=0.0273; num_leaves=107; min_data_in_leaf=5794 : y = 1.31e+08 : 160.1 secs : initdesign\n",
      "\n",
      "[mbo] 0: learning_rate=0.0917; feature_fraction=0.467; num_leaves=785; min_data_in_leaf=24824 : y = 1.44e+08 : 576.5 secs : initdesign\n",
      "\n",
      "Saved the current state after iteration 1 in the file HT8230 (Clase 12, Ajustado Sem3).RDATA.\n",
      "\n"
     ]
    },
    {
     "name": "stdout",
     "output_type": "stream",
     "text": [
      "Validate  17     720    104871310     109007120    \n",
      "20231105 215757\t601\t976271\tgbdt\tbinary\tcustom\tTRUE\tTRUE\tFALSE\tTRUE\t-100\t-1\t0\t0.001\t0\t0\t31\t297\t1\t1\t1\tFALSE\t1\t0.1\t50\t0.5\tTRUE\t279541\t0.130223118522423\t0.626345419438479\t689\t20836\t13644\t147722864.567716\t17\n"
     ]
    },
    {
     "name": "stderr",
     "output_type": "stream",
     "text": [
      "[mbo] 1: learning_rate=0.13; feature_fraction=0.626; num_leaves=689; min_data_in_leaf=20836 : y = 1.48e+08 : 231.0 secs : infill_ei\n",
      "\n"
     ]
    },
    {
     "name": "stdout",
     "output_type": "stream",
     "text": [
      "Validate  18     1020    105098889     108046427    \n",
      "20231105 220517\t601\t976271\tgbdt\tbinary\tcustom\tTRUE\tTRUE\tFALSE\tTRUE\t-100\t-1\t0\t0.001\t0\t0\t31\t592\t1\t1\t1\tFALSE\t1\t0.1\t50\t0.5\tTRUE\t279541\t0.113819651867572\t0.629795577887991\t752\t5185\t13207\t140752659.170415\t18\n"
     ]
    },
    {
     "name": "stderr",
     "output_type": "stream",
     "text": [
      "[mbo] 2: learning_rate=0.114; feature_fraction=0.63; num_leaves=752; min_data_in_leaf=5185 : y = 1.41e+08 : 440.1 secs : infill_ei\n",
      "\n",
      "Saved the current state after iteration 3 in the file HT8230 (Clase 12, Ajustado Sem3).RDATA.\n",
      "\n"
     ]
    },
    {
     "name": "stdout",
     "output_type": "stream",
     "text": [
      "Validate  19     890    104842607     107384737    \n",
      "20231105 221057\t601\t976271\tgbdt\tbinary\tcustom\tTRUE\tTRUE\tFALSE\tTRUE\t-100\t-1\t0\t0.001\t0\t0\t31\t469\t1\t1\t1\tFALSE\t1\t0.1\t50\t0.5\tTRUE\t279541\t0.152926464572596\t0.605676312751132\t542\t24107\t14196\t144603432.283858\t19\n"
     ]
    },
    {
     "name": "stderr",
     "output_type": "stream",
     "text": [
      "[mbo] 3: learning_rate=0.153; feature_fraction=0.606; num_leaves=542; min_data_in_leaf=24107 : y = 1.45e+08 : 336.6 secs : infill_ei\n",
      "\n"
     ]
    },
    {
     "name": "stdout",
     "output_type": "stream",
     "text": [
      "Validate  20     450    102209190     102912086    \n",
      "20231105 221329\t601\t976271\tgbdt\tbinary\tcustom\tTRUE\tTRUE\tFALSE\tTRUE\t-100\t-1\t0\t0.001\t0\t0\t31\t19\t1\t1\t1\tFALSE\t1\t0.1\t50\t0.5\tTRUE\t279541\t0.128601399861864\t0.738269880373763\t600\t16064\t14805\t135707348.825587\t20\n"
     ]
    },
    {
     "name": "stderr",
     "output_type": "stream",
     "text": [
      "[mbo] 4: learning_rate=0.129; feature_fraction=0.738; num_leaves=600; min_data_in_leaf=16064 : y = 1.36e+08 : 151.7 secs : infill_ei\n",
      "\n"
     ]
    },
    {
     "name": "stdout",
     "output_type": "stream",
     "text": [
      "Validate  21     1020    102805883     107587009    \n",
      "20231105 221818\t601\t976271\tgbdt\tbinary\tcustom\tTRUE\tTRUE\tFALSE\tTRUE\t-100\t-1\t0\t0.001\t0\t0\t31\t590\t1\t1\t1\tFALSE\t1\t0.1\t50\t0.5\tTRUE\t279541\t0.122657641962902\t0.647369706303208\t487\t26461\t13156\t143177545.227386\t21\n"
     ]
    },
    {
     "name": "stderr",
     "output_type": "stream",
     "text": [
      "[mbo] 5: learning_rate=0.123; feature_fraction=0.647; num_leaves=487; min_data_in_leaf=26461 : y = 1.43e+08 : 288.4 secs : infill_ei\n",
      "\n",
      "Saved the current state after iteration 6 in the file HT8230 (Clase 12, Ajustado Sem3).RDATA.\n",
      "\n"
     ]
    },
    {
     "name": "stdout",
     "output_type": "stream",
     "text": [
      "Validate  22     670    101659216     105987388    \n",
      "20231105 222201\t601\t976271\tgbdt\tbinary\tcustom\tTRUE\tTRUE\tFALSE\tTRUE\t-100\t-1\t0\t0.001\t0\t0\t31\t251\t1\t1\t1\tFALSE\t1\t0.1\t50\t0.5\tTRUE\t279541\t0.145343312156208\t0.623196923029133\t774\t16610\t11754\t143472384.807596\t22\n"
     ]
    },
    {
     "name": "stderr",
     "output_type": "stream",
     "text": [
      "[mbo] 6: learning_rate=0.145; feature_fraction=0.623; num_leaves=774; min_data_in_leaf=16610 : y = 1.43e+08 : 220.7 secs : infill_ei\n",
      "\n"
     ]
    },
    {
     "name": "stdout",
     "output_type": "stream",
     "text": [
      "Validate  23     730    107817936     109606798    \n",
      "20231105 222544\t601\t976271\tgbdt\tbinary\tcustom\tTRUE\tTRUE\tFALSE\tTRUE\t-100\t-1\t0\t0.001\t0\t0\t31\t302\t1\t1\t1\tFALSE\t1\t0.1\t50\t0.5\tTRUE\t279541\t0.134008220915432\t0.63250059289766\t328\t20032\t12807\t144993378.810595\t23\n"
     ]
    },
    {
     "name": "stderr",
     "output_type": "stream",
     "text": [
      "[mbo] 7: learning_rate=0.134; feature_fraction=0.633; num_leaves=328; min_data_in_leaf=20032 : y = 1.45e+08 : 221.8 secs : infill_ei\n",
      "\n"
     ]
    },
    {
     "name": "stdout",
     "output_type": "stream",
     "text": [
      "Validate  24     840    105779753     107110271    \n",
      "20231105 223030\t601\t976271\tgbdt\tbinary\tcustom\tTRUE\tTRUE\tFALSE\tTRUE\t-100\t-1\t0\t0.001\t0\t0\t31\t413\t1\t1\t1\tFALSE\t1\t0.1\t50\t0.5\tTRUE\t279541\t0.11552179516434\t0.61212686990054\t697\t22638\t13489\t141536680.15992\t24\n"
     ]
    },
    {
     "name": "stderr",
     "output_type": "stream",
     "text": [
      "[mbo] 8: learning_rate=0.116; feature_fraction=0.612; num_leaves=697; min_data_in_leaf=22638 : y = 1.42e+08 : 285.8 secs : infill_ei\n",
      "\n",
      "Saved the current state after iteration 9 in the file HT8230 (Clase 12, Ajustado Sem3).RDATA.\n",
      "\n"
     ]
    },
    {
     "name": "stdout",
     "output_type": "stream",
     "text": [
      "Validate  25     790    103403983     107618560    \n",
      "20231105 223435\t601\t976271\tgbdt\tbinary\tcustom\tTRUE\tTRUE\tFALSE\tTRUE\t-100\t-1\t0\t0.001\t0\t0\t31\t368\t1\t1\t1\tFALSE\t1\t0.1\t50\t0.5\tTRUE\t279541\t0.142486224006108\t0.630049809306633\t574\t20257\t12565\t145501891.554223\t25\n"
     ]
    },
    {
     "name": "stderr",
     "output_type": "stream",
     "text": [
      "[mbo] 9: learning_rate=0.142; feature_fraction=0.63; num_leaves=574; min_data_in_leaf=20257 : y = 1.46e+08 : 241.9 secs : infill_ei\n",
      "\n"
     ]
    },
    {
     "name": "stdout",
     "output_type": "stream",
     "text": [
      "Validate  26     890    104251234     108057664    \n",
      "20231105 223903\t601\t976271\tgbdt\tbinary\tcustom\tTRUE\tTRUE\tFALSE\tTRUE\t-100\t-1\t0\t0.001\t0\t0\t31\t469\t1\t1\t1\tFALSE\t1\t0.1\t50\t0.5\tTRUE\t279541\t0.132889160901112\t0.625158492545484\t764\t25168\t11877\t141076072.463768\t26\n"
     ]
    },
    {
     "name": "stderr",
     "output_type": "stream",
     "text": [
      "[mbo] 10: learning_rate=0.133; feature_fraction=0.625; num_leaves=764; min_data_in_leaf=25168 : y = 1.41e+08 : 267.7 secs : infill_ei\n",
      "\n"
     ]
    },
    {
     "name": "stdout",
     "output_type": "stream",
     "text": [
      "Validate  27     920    104168809     105733030    \n",
      "20231105 224357\t601\t976271\tgbdt\tbinary\tcustom\tTRUE\tTRUE\tFALSE\tTRUE\t-100\t-1\t0\t0.001\t0\t0\t31\t497\t1\t1\t1\tFALSE\t1\t0.1\t50\t0.5\tTRUE\t279541\t0.150512003552658\t0.621359693799073\t742\t20500\t11500\t143601589.205397\t27\n"
     ]
    },
    {
     "name": "stderr",
     "output_type": "stream",
     "text": [
      "[mbo] 11: learning_rate=0.151; feature_fraction=0.621; num_leaves=742; min_data_in_leaf=20500 : y = 1.44e+08 : 293.3 secs : infill_ei\n",
      "\n",
      "Saved the current state after iteration 12 in the file HT8230 (Clase 12, Ajustado Sem3).RDATA.\n",
      "\n"
     ]
    },
    {
     "name": "stdout",
     "output_type": "stream",
     "text": [
      "Validate  28     980    104243874     108200725    \n",
      "20231105 224917\t601\t976271\tgbdt\tbinary\tcustom\tTRUE\tTRUE\tFALSE\tTRUE\t-100\t-1\t0\t0.001\t0\t0\t31\t556\t1\t1\t1\tFALSE\t1\t0.1\t50\t0.5\tTRUE\t279541\t0.126157045216608\t0.625890408824689\t674\t19181\t12421\t142866673.163418\t28\n"
     ]
    },
    {
     "name": "stderr",
     "output_type": "stream",
     "text": [
      "[mbo] 12: learning_rate=0.126; feature_fraction=0.626; num_leaves=674; min_data_in_leaf=19181 : y = 1.43e+08 : 317.7 secs : infill_ei\n",
      "\n"
     ]
    },
    {
     "name": "stdout",
     "output_type": "stream",
     "text": [
      "Validate  29     460    101122476     102949532    \n",
      "20231105 225138\t601\t976271\tgbdt\tbinary\tcustom\tTRUE\tTRUE\tFALSE\tTRUE\t-100\t-1\t0\t0.001\t0\t0\t31\t35\t1\t1\t1\tFALSE\t1\t0.1\t50\t0.5\tTRUE\t279541\t0.132975068953612\t0.632675820690784\t483\t21579\t13835\t136273540.729635\t29\n"
     ]
    },
    {
     "name": "stderr",
     "output_type": "stream",
     "text": [
      "[mbo] 13: learning_rate=0.133; feature_fraction=0.633; num_leaves=483; min_data_in_leaf=21579 : y = 1.36e+08 : 140.8 secs : infill_ei\n",
      "\n"
     ]
    },
    {
     "name": "stdout",
     "output_type": "stream",
     "text": [
      "Validate  30     740    101756947     107328177    \n",
      "20231105 225758\t601\t976271\tgbdt\tbinary\tcustom\tTRUE\tTRUE\tFALSE\tTRUE\t-100\t-1\t0\t0.001\t0\t0\t31\t317\t1\t1\t1\tFALSE\t1\t0.1\t50\t0.5\tTRUE\t279541\t0.136077546965507\t0.569882256065514\t698\t20395\t12636\t144632397.801099\t30\n"
     ]
    },
    {
     "name": "stderr",
     "output_type": "stream",
     "text": [
      "[mbo] 14: learning_rate=0.136; feature_fraction=0.57; num_leaves=698; min_data_in_leaf=20395 : y = 1.45e+08 : 379.4 secs : infill_ei\n",
      "\n",
      "Saved the current state after iteration 15 in the file HT8230 (Clase 12, Ajustado Sem3).RDATA.\n",
      "\n"
     ]
    },
    {
     "name": "stdout",
     "output_type": "stream",
     "text": [
      "Validate  31     780    102833047     105029882    \n",
      "20231105 230203\t601\t976271\tgbdt\tbinary\tcustom\tTRUE\tTRUE\tFALSE\tTRUE\t-100\t-1\t0\t0.001\t0\t0\t31\t360\t1\t1\t1\tFALSE\t1\t0.1\t50\t0.5\tTRUE\t279541\t0.148955424519927\t0.630297679291412\t307\t18853\t11909\t142870283.358321\t31\n"
     ]
    },
    {
     "name": "stderr",
     "output_type": "stream",
     "text": [
      "[mbo] 15: learning_rate=0.149; feature_fraction=0.63; num_leaves=307; min_data_in_leaf=18853 : y = 1.43e+08 : 241.7 secs : infill_ei\n",
      "\n"
     ]
    },
    {
     "name": "stdout",
     "output_type": "stream",
     "text": [
      "Validate  32     440    102055652     106431635    \n",
      "20231105 230440\t601\t976271\tgbdt\tbinary\tcustom\tTRUE\tTRUE\tFALSE\tTRUE\t-100\t-1\t0\t0.001\t0\t0\t31\t20\t1\t1\t1\tFALSE\t1\t0.1\t50\t0.5\tTRUE\t279541\t0.153114192357943\t0.617564212685423\t645\t13197\t12424\t141200515.742129\t32\n"
     ]
    },
    {
     "name": "stderr",
     "output_type": "stream",
     "text": [
      "[mbo] 16: learning_rate=0.153; feature_fraction=0.618; num_leaves=645; min_data_in_leaf=13197 : y = 1.41e+08 : 156.4 secs : infill_ei\n",
      "\n"
     ]
    },
    {
     "name": "stdout",
     "output_type": "stream",
     "text": [
      "Validate  33     440    101620326     103487976    \n",
      "20231105 230655\t601\t976271\tgbdt\tbinary\tcustom\tTRUE\tTRUE\tFALSE\tTRUE\t-100\t-1\t0\t0.001\t0\t0\t31\t20\t1\t1\t1\tFALSE\t1\t0.1\t50\t0.5\tTRUE\t279541\t0.142631114770706\t0.640121505072442\t657\t21093\t11372\t131722676.661669\t33\n"
     ]
    },
    {
     "name": "stderr",
     "output_type": "stream",
     "text": [
      "[mbo] 17: learning_rate=0.143; feature_fraction=0.64; num_leaves=657; min_data_in_leaf=21093 : y = 1.32e+08 : 134.8 secs : infill_ei\n",
      "\n"
     ]
    },
    {
     "name": "stdout",
     "output_type": "stream",
     "text": [
      "Validate  34     1070    103254985     108619854    \n",
      "20231105 231500\t601\t976271\tgbdt\tbinary\tcustom\tTRUE\tTRUE\tFALSE\tTRUE\t-100\t-1\t0\t0.001\t0\t0\t31\t648\t1\t1\t1\tFALSE\t1\t0.1\t50\t0.5\tTRUE\t279541\t0.149562896520673\t0.584317377202689\t366\t32844\t13337\t143986267.366317\t34\n"
     ]
    },
    {
     "name": "stderr",
     "output_type": "stream",
     "text": [
      "[mbo] 18: learning_rate=0.15; feature_fraction=0.584; num_leaves=366; min_data_in_leaf=32844 : y = 1.44e+08 : 484.6 secs : infill_ei\n",
      "\n",
      "Saved the current state after iteration 19 in the file HT8230 (Clase 12, Ajustado Sem3).RDATA.\n",
      "\n"
     ]
    },
    {
     "name": "stdout",
     "output_type": "stream",
     "text": [
      "Validate  35     1230    97860672     101704756     \n",
      "20231105 232209\t601\t976271\tgbdt\tbinary\tcustom\tTRUE\tTRUE\tFALSE\tTRUE\t-100\t-1\t0\t0.001\t0\t0\t31\t815\t1\t1\t1\tFALSE\t1\t0.1\t50\t0.5\tTRUE\t279541\t0.217566146007236\t0.14460818820563\t259\t3440\t11504\t131708781.609195\t35\n"
     ]
    },
    {
     "name": "stderr",
     "output_type": "stream",
     "text": [
      "[mbo] 19: learning_rate=0.218; feature_fraction=0.145; num_leaves=259; min_data_in_leaf=3440 : y = 1.32e+08 : 425.4 secs : infill_ei\n",
      "\n"
     ]
    },
    {
     "name": "stdout",
     "output_type": "stream",
     "text": [
      "Validate  36     1250    99126927     105312901     \n",
      "20231105 232732\t601\t976271\tgbdt\tbinary\tcustom\tTRUE\tTRUE\tFALSE\tTRUE\t-100\t-1\t0\t0.001\t0\t0\t31\t840\t1\t1\t1\tFALSE\t1\t0.1\t50\t0.5\tTRUE\t279541\t0.212071390536662\t0.788652205591476\t66\t45074\t12279\t142456195.402299\t36\n"
     ]
    },
    {
     "name": "stderr",
     "output_type": "stream",
     "text": [
      "[mbo] 20: learning_rate=0.212; feature_fraction=0.789; num_leaves=66; min_data_in_leaf=45074 : y = 1.42e+08 : 322.7 secs : infill_ei\n",
      "\n",
      "Saved the current state after iteration 21 in the file HT8230 (Clase 12, Ajustado Sem3).RDATA.\n",
      "\n"
     ]
    },
    {
     "name": "stdout",
     "output_type": "stream",
     "text": [
      "Validate  37     1290    104394540     105307013    \n",
      "20231105 233255\t601\t976271\tgbdt\tbinary\tcustom\tTRUE\tTRUE\tFALSE\tTRUE\t-100\t-1\t0\t0.001\t0\t0\t31\t880\t1\t1\t1\tFALSE\t1\t0.1\t50\t0.5\tTRUE\t279541\t0.200892946247853\t0.0894318516491971\t398\t34410\t11979\t139464281.35932\t37\n"
     ]
    },
    {
     "name": "stderr",
     "output_type": "stream",
     "text": [
      "[mbo] 21: learning_rate=0.201; feature_fraction=0.0894; num_leaves=398; min_data_in_leaf=34410 : y = 1.39e+08 : 320.6 secs : infill_ei\n",
      "\n"
     ]
    },
    {
     "name": "stdout",
     "output_type": "stream",
     "text": [
      "Validate  38     1340    107000898     108149157    \n",
      "20231105 234000\t601\t976271\tgbdt\tbinary\tcustom\tTRUE\tTRUE\tFALSE\tTRUE\t-100\t-1\t0\t0.001\t0\t0\t31\t866\t1\t1\t1\tFALSE\t1\t0.1\t50\t0.5\tTRUE\t279541\t0.049227932181817\t0.878604642581969\t387\t16274\t12893\t146526291.354323\t38\n"
     ]
    },
    {
     "name": "stderr",
     "output_type": "stream",
     "text": [
      "[mbo] 22: learning_rate=0.0492; feature_fraction=0.879; num_leaves=387; min_data_in_leaf=16274 : y = 1.47e+08 : 424.6 secs : infill_ei\n",
      "\n",
      "Saved the current state after iteration 23 in the file HT8230 (Clase 12, Ajustado Sem3).RDATA.\n",
      "\n"
     ]
    },
    {
     "name": "stdout",
     "output_type": "stream",
     "text": [
      "Validate  39     500    98609994     100170864    \n",
      "20231105 234212\t601\t976271\tgbdt\tbinary\tcustom\tTRUE\tTRUE\tFALSE\tTRUE\t-100\t-1\t0\t0.001\t0\t0\t31\t52\t1\t1\t1\tFALSE\t1\t0.1\t50\t0.5\tTRUE\t279541\t0.0767829511881466\t0.0908113038864967\t39\t30034\t15154\t117584628.685657\t39\n"
     ]
    },
    {
     "name": "stderr",
     "output_type": "stream",
     "text": [
      "[mbo] 23: learning_rate=0.0768; feature_fraction=0.0908; num_leaves=39; min_data_in_leaf=30034 : y = 1.18e+08 : 128.4 secs : infill_ei\n",
      "\n"
     ]
    },
    {
     "name": "stdout",
     "output_type": "stream",
     "text": [
      "Validate  40     420    99222506     103186892     \n",
      "20231105 234520\t601\t976271\tgbdt\tbinary\tcustom\tTRUE\tTRUE\tFALSE\tTRUE\t-100\t-1\t0\t0.001\t0\t0\t31\t11\t1\t1\t1\tFALSE\t1\t0.1\t50\t0.5\tTRUE\t279541\t0.261317770323608\t0.609582142767768\t344\t5948\t14215\t133870732.133933\t40\n"
     ]
    },
    {
     "name": "stderr",
     "output_type": "stream",
     "text": [
      "[mbo] 24: learning_rate=0.261; feature_fraction=0.61; num_leaves=344; min_data_in_leaf=5948 : y = 1.34e+08 : 187.8 secs : infill_ei\n",
      "\n"
     ]
    },
    {
     "name": "stdout",
     "output_type": "stream",
     "text": [
      "Validate  41     1350    106864820     107901789    \n",
      "20231105 235206\t601\t976271\tgbdt\tbinary\tcustom\tTRUE\tTRUE\tFALSE\tTRUE\t-100\t-1\t0\t0.001\t0\t0\t31\t893\t1\t1\t1\tFALSE\t1\t0.1\t50\t0.5\tTRUE\t279541\t0.0604794920231435\t0.880057362994838\t1008\t20669\t12466\t146306975.512244\t41\n"
     ]
    },
    {
     "name": "stderr",
     "output_type": "stream",
     "text": [
      "[mbo] 25: learning_rate=0.0605; feature_fraction=0.88; num_leaves=1008; min_data_in_leaf=20669 : y = 1.46e+08 : 405.2 secs : infill_ei\n",
      "\n",
      "Saved the current state after iteration 26 in the file HT8230 (Clase 12, Ajustado Sem3).RDATA.\n",
      "\n"
     ]
    },
    {
     "name": "stdout",
     "output_type": "stream",
     "text": [
      "Validate  42     2050    108904874     111181014    \n",
      "20231106 000514\t601\t976271\tgbdt\tbinary\tcustom\tTRUE\tTRUE\tFALSE\tTRUE\t-100\t-1\t0\t0.001\t0\t0\t31\t1585\t1\t1\t1\tFALSE\t1\t0.1\t50\t0.5\tTRUE\t279541\t0.0561001654456356\t0.213057559069489\t603\t5533\t13396\t146446030.984508\t42\n"
     ]
    },
    {
     "name": "stderr",
     "output_type": "stream",
     "text": [
      "[mbo] 26: learning_rate=0.0561; feature_fraction=0.213; num_leaves=603; min_data_in_leaf=5533 : y = 1.46e+08 : 785.7 secs : infill_ei\n",
      "\n",
      "Saved the current state after iteration 27 in the file HT8230 (Clase 12, Ajustado Sem3).RDATA.\n",
      "\n"
     ]
    },
    {
     "name": "stdout",
     "output_type": "stream",
     "text": [
      "Validate  43     690    103329256     103863450    \n",
      "20231106 001047\t601\t976271\tgbdt\tbinary\tcustom\tTRUE\tTRUE\tFALSE\tTRUE\t-100\t-1\t0\t0.001\t0\t0\t31\t286\t1\t1\t1\tFALSE\t1\t0.1\t50\t0.5\tTRUE\t279541\t0.291400914606524\t0.484720728812488\t973\t46521\t12273\t140157165.917041\t43\n"
     ]
    },
    {
     "name": "stderr",
     "output_type": "stream",
     "text": [
      "[mbo] 27: learning_rate=0.291; feature_fraction=0.485; num_leaves=973; min_data_in_leaf=46521 : y = 1.4e+08 : 329.8 secs : infill_ei\n",
      "\n"
     ]
    },
    {
     "name": "stdout",
     "output_type": "stream",
     "text": [
      "Validate  44     720    101066122     105630052    \n",
      "20231106 001444\t601\t976271\tgbdt\tbinary\tcustom\tTRUE\tTRUE\tFALSE\tTRUE\t-100\t-1\t0\t0.001\t0\t0\t31\t302\t1\t1\t1\tFALSE\t1\t0.1\t50\t0.5\tTRUE\t279541\t0.203915489434344\t0.870921727289562\t591\t12690\t12713\t135476226.386807\t44\n"
     ]
    },
    {
     "name": "stderr",
     "output_type": "stream",
     "text": [
      "[mbo] 28: learning_rate=0.204; feature_fraction=0.871; num_leaves=591; min_data_in_leaf=12690 : y = 1.35e+08 : 236.5 secs : infill_ei\n",
      "\n"
     ]
    },
    {
     "name": "stdout",
     "output_type": "stream",
     "text": [
      "Validate  45     2350    106075628     108572473    \n",
      "20231106 002704\t601\t976271\tgbdt\tbinary\tcustom\tTRUE\tTRUE\tFALSE\tTRUE\t-100\t-1\t0\t0.001\t0\t0\t31\t1862\t1\t1\t1\tFALSE\t1\t0.1\t50\t0.5\tTRUE\t279541\t0.0418229286960627\t0.153468500699668\t226\t15847\t13297\t144248076.461769\t45\n"
     ]
    },
    {
     "name": "stderr",
     "output_type": "stream",
     "text": [
      "[mbo] 29: learning_rate=0.0418; feature_fraction=0.153; num_leaves=226; min_data_in_leaf=15847 : y = 1.44e+08 : 739.7 secs : infill_ei\n",
      "\n",
      "Saved the current state after iteration 30 in the file HT8230 (Clase 12, Ajustado Sem3).RDATA.\n",
      "\n"
     ]
    },
    {
     "name": "stdout",
     "output_type": "stream",
     "text": [
      "Validate  46     1290    100706968     102751391    \n",
      "20231106 003127\t601\t976271\tgbdt\tbinary\tcustom\tTRUE\tTRUE\tFALSE\tTRUE\t-100\t-1\t0\t0.001\t0\t0\t31\t875\t1\t1\t1\tFALSE\t1\t0.1\t50\t0.5\tTRUE\t279541\t0.17399523914627\t0.0276200063300066\t299\t11607\t14023\t129849254.872564\t46\n"
     ]
    },
    {
     "name": "stderr",
     "output_type": "stream",
     "text": [
      "[mbo] 30: learning_rate=0.174; feature_fraction=0.0276; num_leaves=299; min_data_in_leaf=11607 : y = 1.3e+08 : 259.4 secs : infill_ei\n",
      "\n"
     ]
    },
    {
     "name": "stdout",
     "output_type": "stream",
     "text": [
      "Validate  47     1010    100067928     103136646    \n",
      "20231106 003909\t601\t976271\tgbdt\tbinary\tcustom\tTRUE\tTRUE\tFALSE\tTRUE\t-100\t-1\t0\t0.001\t0\t0\t31\t592\t1\t1\t1\tFALSE\t1\t0.1\t50\t0.5\tTRUE\t279541\t0.216359116768943\t0.437181086304545\t909\t45775\t11744\t142901645.177411\t47\n"
     ]
    },
    {
     "name": "stderr",
     "output_type": "stream",
     "text": [
      "[mbo] 31: learning_rate=0.216; feature_fraction=0.437; num_leaves=909; min_data_in_leaf=45775 : y = 1.43e+08 : 462.1 secs : infill_ei\n",
      "\n",
      "Saved the current state after iteration 32 in the file HT8230 (Clase 12, Ajustado Sem3).RDATA.\n",
      "\n"
     ]
    },
    {
     "name": "stdout",
     "output_type": "stream",
     "text": [
      "Validate  48     700    97632390     103197124     \n",
      "20231106 004339\t601\t976271\tgbdt\tbinary\tcustom\tTRUE\tTRUE\tFALSE\tTRUE\t-100\t-1\t0\t0.001\t0\t0\t31\t284\t1\t1\t1\tFALSE\t1\t0.1\t50\t0.5\tTRUE\t279541\t0.197345983574\t0.23909574164556\t118\t12744\t14290\t141470769.615192\t48\n"
     ]
    },
    {
     "name": "stderr",
     "output_type": "stream",
     "text": [
      "[mbo] 32: learning_rate=0.197; feature_fraction=0.239; num_leaves=118; min_data_in_leaf=12744 : y = 1.41e+08 : 266.4 secs : infill_ei\n",
      "\n"
     ]
    },
    {
     "name": "stdout",
     "output_type": "stream",
     "text": [
      "Validate  49     540    103261215     105533385    \n",
      "20231106 004713\t601\t976271\tgbdt\tbinary\tcustom\tTRUE\tTRUE\tFALSE\tTRUE\t-100\t-1\t0\t0.001\t0\t0\t31\t124\t1\t1\t1\tFALSE\t1\t0.1\t50\t0.5\tTRUE\t279541\t0.170235596718892\t0.621223043967305\t331\t6765\t13127\t136835177.911044\t49\n"
     ]
    },
    {
     "name": "stderr",
     "output_type": "stream",
     "text": [
      "[mbo] 33: learning_rate=0.17; feature_fraction=0.621; num_leaves=331; min_data_in_leaf=6765 : y = 1.37e+08 : 214.0 secs : infill_ei\n",
      "\n"
     ]
    },
    {
     "name": "stdout",
     "output_type": "stream",
     "text": [
      "Validate  50     460    101766976     101766976    \n",
      "20231106 005047\t601\t976271\tgbdt\tbinary\tcustom\tTRUE\tTRUE\tFALSE\tTRUE\t-100\t-1\t0\t0.001\t0\t0\t31\t27\t1\t1\t1\tFALSE\t1\t0.1\t50\t0.5\tTRUE\t279541\t0.111420071621485\t0.577134497523593\t738\t49600\t12972\t129785485.257371\t50\n"
     ]
    },
    {
     "name": "stderr",
     "output_type": "stream",
     "text": [
      "[mbo] 34: learning_rate=0.111; feature_fraction=0.577; num_leaves=738; min_data_in_leaf=49600 : y = 1.3e+08 : 213.2 secs : infill_ei\n",
      "\n",
      "Saved the current state after iteration 35 in the file HT8230 (Clase 12, Ajustado Sem3).RDATA.\n",
      "\n"
     ]
    },
    {
     "name": "stdout",
     "output_type": "stream",
     "text": [
      "Validate  51     740    100604871     104556887    \n",
      "20231106 005649\t601\t976271\tgbdt\tbinary\tcustom\tTRUE\tTRUE\tFALSE\tTRUE\t-100\t-1\t0\t0.001\t0\t0\t31\t331\t1\t1\t1\tFALSE\t1\t0.1\t50\t0.5\tTRUE\t279541\t0.220865275413696\t0.494134886669637\t940\t39419\t12045\t141577833.583208\t51\n"
     ]
    },
    {
     "name": "stderr",
     "output_type": "stream",
     "text": [
      "[mbo] 35: learning_rate=0.221; feature_fraction=0.494; num_leaves=940; min_data_in_leaf=39419 : y = 1.42e+08 : 358.9 secs : infill_ei\n",
      "\n"
     ]
    },
    {
     "name": "stdout",
     "output_type": "stream",
     "text": [
      "Validate  52     530    104222811     106051109    \n",
      "20231106 005939\t601\t976271\tgbdt\tbinary\tcustom\tTRUE\tTRUE\tFALSE\tTRUE\t-100\t-1\t0\t0.001\t0\t0\t31\t55\t1\t1\t1\tFALSE\t1\t0.1\t50\t0.5\tTRUE\t279541\t0.0483477194353299\t0.634855918672642\t385\t16538\t13576\t137426070.964518\t52\n"
     ]
    },
    {
     "name": "stderr",
     "output_type": "stream",
     "text": [
      "[mbo] 36: learning_rate=0.0483; feature_fraction=0.635; num_leaves=385; min_data_in_leaf=16538 : y = 1.37e+08 : 170.0 secs : infill_ei\n",
      "\n"
     ]
    },
    {
     "name": "stdout",
     "output_type": "stream",
     "text": [
      "Validate  53     520    97125766     101787196     \n",
      "20231106 010213\t601\t976271\tgbdt\tbinary\tcustom\tTRUE\tTRUE\tFALSE\tTRUE\t-100\t-1\t0\t0.001\t0\t0\t31\t55\t1\t1\t1\tFALSE\t1\t0.1\t50\t0.5\tTRUE\t279541\t0.0568340974238357\t0.150342711034595\t697\t44781\t14240\t124701869.065467\t53\n"
     ]
    },
    {
     "name": "stderr",
     "output_type": "stream",
     "text": [
      "[mbo] 37: learning_rate=0.0568; feature_fraction=0.15; num_leaves=697; min_data_in_leaf=44781 : y = 1.25e+08 : 153.6 secs : infill_ei\n",
      "\n",
      "Saved the current state after iteration 38 in the file HT8230 (Clase 12, Ajustado Sem3).RDATA.\n",
      "\n"
     ]
    },
    {
     "name": "stdout",
     "output_type": "stream",
     "text": [
      "Validate  54     1050    101279309     104229244    \n",
      "20231106 010738\t601\t976271\tgbdt\tbinary\tcustom\tTRUE\tTRUE\tFALSE\tTRUE\t-100\t-1\t0\t0.001\t0\t0\t31\t628\t1\t1\t1\tFALSE\t1\t0.1\t50\t0.5\tTRUE\t279541\t0.158621501540521\t0.87804683534219\t766\t18747\t12228\t142957743.128436\t54\n"
     ]
    },
    {
     "name": "stderr",
     "output_type": "stream",
     "text": [
      "[mbo] 38: learning_rate=0.159; feature_fraction=0.878; num_leaves=766; min_data_in_leaf=18747 : y = 1.43e+08 : 321.6 secs : infill_ei\n",
      "\n"
     ]
    },
    {
     "name": "stdout",
     "output_type": "stream",
     "text": [
      "Validate  55     590    93553839     101386065     \n",
      "20231106 011126\t601\t976271\tgbdt\tbinary\tcustom\tTRUE\tTRUE\tFALSE\tTRUE\t-100\t-1\t0\t0.001\t0\t0\t31\t176\t1\t1\t1\tFALSE\t1\t0.1\t50\t0.5\tTRUE\t279541\t0.26632696345255\t0.253068661465522\t434\t14286\t11424\t136057247.376312\t55\n"
     ]
    },
    {
     "name": "stderr",
     "output_type": "stream",
     "text": [
      "[mbo] 39: learning_rate=0.266; feature_fraction=0.253; num_leaves=434; min_data_in_leaf=14286 : y = 1.36e+08 : 227.5 secs : infill_ei\n",
      "\n"
     ]
    },
    {
     "name": "stdout",
     "output_type": "stream",
     "text": [
      "Validate  56     1250    101792363     102616901    \n",
      "20231106 011941\t601\t976271\tgbdt\tbinary\tcustom\tTRUE\tTRUE\tFALSE\tTRUE\t-100\t-1\t0\t0.001\t0\t0\t31\t831\t1\t1\t1\tFALSE\t1\t0.1\t50\t0.5\tTRUE\t279541\t0.165003659984051\t0.322050874305598\t493\t47190\t12376\t146862112.943528\t56\n"
     ]
    },
    {
     "name": "stderr",
     "output_type": "stream",
     "text": [
      "[mbo] 40: learning_rate=0.165; feature_fraction=0.322; num_leaves=493; min_data_in_leaf=47190 : y = 1.47e+08 : 494.4 secs : infill_ei\n",
      "\n",
      "Saved the current state after iteration 41 in the file HT8230 (Clase 12, Ajustado Sem3).RDATA.\n",
      "\n"
     ]
    },
    {
     "name": "stdout",
     "output_type": "stream",
     "text": [
      "Validate  57     820    100832565     105098493    \n",
      "20231106 012358\t601\t976271\tgbdt\tbinary\tcustom\tTRUE\tTRUE\tFALSE\tTRUE\t-100\t-1\t0\t0.001\t0\t0\t31\t397\t1\t1\t1\tFALSE\t1\t0.1\t50\t0.5\tTRUE\t279541\t0.139402135146382\t0.825550506084209\t624\t18011\t12099\t144268499.250375\t57\n"
     ]
    },
    {
     "name": "stderr",
     "output_type": "stream",
     "text": [
      "[mbo] 41: learning_rate=0.139; feature_fraction=0.826; num_leaves=624; min_data_in_leaf=18011 : y = 1.44e+08 : 254.4 secs : infill_ei\n",
      "\n"
     ]
    },
    {
     "name": "stdout",
     "output_type": "stream",
     "text": [
      "Validate  58     710    98458652     102903537     \n",
      "20231106 012936\t601\t976271\tgbdt\tbinary\tcustom\tTRUE\tTRUE\tFALSE\tTRUE\t-100\t-1\t0\t0.001\t0\t0\t31\t301\t1\t1\t1\tFALSE\t1\t0.1\t50\t0.5\tTRUE\t279541\t0.26363862896921\t0.450098622842346\t475\t31659\t13083\t139504497.251374\t58\n"
     ]
    },
    {
     "name": "stderr",
     "output_type": "stream",
     "text": [
      "[mbo] 42: learning_rate=0.264; feature_fraction=0.45; num_leaves=475; min_data_in_leaf=31659 : y = 1.4e+08 : 337.2 secs : infill_ei\n",
      "\n"
     ]
    },
    {
     "name": "stdout",
     "output_type": "stream",
     "text": [
      "Validate  59     640    102422695     107157956    \n",
      "20231106 013240\t601\t976271\tgbdt\tbinary\tcustom\tTRUE\tTRUE\tFALSE\tTRUE\t-100\t-1\t0\t0.001\t0\t0\t31\t224\t1\t1\t1\tFALSE\t1\t0.1\t50\t0.5\tTRUE\t279541\t0.193248729792921\t0.715571364120777\t230\t26408\t13971\t139097272.863568\t59\n"
     ]
    },
    {
     "name": "stderr",
     "output_type": "stream",
     "text": [
      "[mbo] 43: learning_rate=0.193; feature_fraction=0.716; num_leaves=230; min_data_in_leaf=26408 : y = 1.39e+08 : 184.0 secs : infill_ei\n",
      "\n",
      "Saved the current state after iteration 44 in the file HT8230 (Clase 12, Ajustado Sem3).RDATA.\n",
      "\n"
     ]
    },
    {
     "name": "stdout",
     "output_type": "stream",
     "text": [
      "Validate  60     1790    109492975     111790847    \n",
      "20231106 014546\t601\t976271\tgbdt\tbinary\tcustom\tTRUE\tTRUE\tFALSE\tTRUE\t-100\t-1\t0\t0.001\t0\t0\t31\t1321\t1\t1\t1\tFALSE\t1\t0.1\t50\t0.5\tTRUE\t279541\t0.0544485669123991\t0.277507516322968\t959\t4653\t13454\t143908336.831584\t60\n"
     ]
    },
    {
     "name": "stderr",
     "output_type": "stream",
     "text": [
      "[mbo] 44: learning_rate=0.0544; feature_fraction=0.278; num_leaves=959; min_data_in_leaf=4653 : y = 1.44e+08 : 782.3 secs : infill_ei\n",
      "\n",
      "Saved the current state after iteration 45 in the file HT8230 (Clase 12, Ajustado Sem3).RDATA.\n",
      "\n"
     ]
    },
    {
     "name": "stdout",
     "output_type": "stream",
     "text": [
      "Validate  61     1420    107184962     108540947    \n",
      "20231106 015302\t601\t976271\tgbdt\tbinary\tcustom\tTRUE\tTRUE\tFALSE\tTRUE\t-100\t-1\t0\t0.001\t0\t0\t31\t926\t1\t1\t1\tFALSE\t1\t0.1\t50\t0.5\tTRUE\t279541\t0.0407530562148699\t0.906292581801267\t869\t17542\t11969\t147129963.518241\t61\n"
     ]
    },
    {
     "name": "stderr",
     "output_type": "stream",
     "text": [
      "[mbo] 45: learning_rate=0.0408; feature_fraction=0.906; num_leaves=869; min_data_in_leaf=17542 : y = 1.47e+08 : 433.2 secs : infill_ei\n",
      "\n"
     ]
    },
    {
     "name": "stdout",
     "output_type": "stream",
     "text": [
      "Validate  62     610    97239428     104188178     \n",
      "20231106 015709\t601\t976271\tgbdt\tbinary\tcustom\tTRUE\tTRUE\tFALSE\tTRUE\t-100\t-1\t0\t0.001\t0\t0\t31\t193\t1\t1\t1\tFALSE\t1\t0.1\t50\t0.5\tTRUE\t279541\t0.227509187960911\t0.807424227702776\t183\t2221\t13954\t124648716.641679\t62\n"
     ]
    },
    {
     "name": "stderr",
     "output_type": "stream",
     "text": [
      "[mbo] 46: learning_rate=0.228; feature_fraction=0.807; num_leaves=183; min_data_in_leaf=2221 : y = 1.25e+08 : 246.9 secs : infill_ei\n",
      "\n",
      "Saved the current state after iteration 47 in the file HT8230 (Clase 12, Ajustado Sem3).RDATA.\n",
      "\n"
     ]
    },
    {
     "name": "stdout",
     "output_type": "stream",
     "text": [
      "Validate  63     460    97159825     98071728    \n",
      "20231106 015918\t601\t976271\tgbdt\tbinary\tcustom\tTRUE\tTRUE\tFALSE\tTRUE\t-100\t-1\t0\t0.001\t0\t0\t31\t33\t1\t1\t1\tFALSE\t1\t0.1\t50\t0.5\tTRUE\t279541\t0.121064621181255\t0.121635804287367\t1001\t45560\t12410\t124798105.947026\t63\n"
     ]
    },
    {
     "name": "stderr",
     "output_type": "stream",
     "text": [
      "[mbo] 47: learning_rate=0.121; feature_fraction=0.122; num_leaves=1001; min_data_in_leaf=45560 : y = 1.25e+08 : 125.8 secs : infill_ei\n",
      "\n"
     ]
    },
    {
     "name": "stdout",
     "output_type": "stream",
     "text": [
      "Validate  64     530    103337103     105224829    \n",
      "20231106 020131\t601\t976271\tgbdt\tbinary\tcustom\tTRUE\tTRUE\tFALSE\tTRUE\t-100\t-1\t0\t0.001\t0\t0\t31\t111\t1\t1\t1\tFALSE\t1\t0.1\t50\t0.5\tTRUE\t279541\t0.198101976638383\t0.0669254012836128\t817\t7942\t17586\t127344076.961519\t64\n"
     ]
    },
    {
     "name": "stderr",
     "output_type": "stream",
     "text": [
      "[mbo] 48: learning_rate=0.198; feature_fraction=0.0669; num_leaves=817; min_data_in_leaf=7942 : y = 1.27e+08 : 132.2 secs : infill_ei\n",
      "\n"
     ]
    },
    {
     "name": "stdout",
     "output_type": "stream",
     "text": [
      "Validate  65     660    98833465     99880978    \n",
      "20231106 020332\t601\t976271\tgbdt\tbinary\tcustom\tTRUE\tTRUE\tFALSE\tTRUE\t-100\t-1\t0\t0.001\t0\t0\t31\t254\t1\t1\t1\tFALSE\t1\t0.1\t50\t0.5\tTRUE\t279541\t0.257984767024757\t0.0205548469996797\t501\t19268\t11349\t131069423.788106\t65\n"
     ]
    },
    {
     "name": "stderr",
     "output_type": "stream",
     "text": [
      "[mbo] 49: learning_rate=0.258; feature_fraction=0.0206; num_leaves=501; min_data_in_leaf=19268 : y = 1.31e+08 : 120.9 secs : infill_ei\n",
      "\n"
     ]
    },
    {
     "name": "stdout",
     "output_type": "stream",
     "text": [
      "Validate  66     710    99238871     105484837     \n",
      "20231106 020850\t601\t976271\tgbdt\tbinary\tcustom\tTRUE\tTRUE\tFALSE\tTRUE\t-100\t-1\t0\t0.001\t0\t0\t31\t290\t1\t1\t1\tFALSE\t1\t0.1\t50\t0.5\tTRUE\t279541\t0.185219316775831\t0.285007201994627\t574\t4027\t12762\t137075315.342329\t66\n"
     ]
    },
    {
     "name": "stderr",
     "output_type": "stream",
     "text": [
      "[mbo] 50: learning_rate=0.185; feature_fraction=0.285; num_leaves=574; min_data_in_leaf=4027 : y = 1.37e+08 : 317.3 secs : infill_ei\n",
      "\n",
      "Saved the final state in the file HT8230 (Clase 12, Ajustado Sem3).RDATA\n",
      "\n",
      "Saved the final state in the file HT8230 (Clase 12, Ajustado Sem3).RDATA\n",
      "\n"
     ]
    },
    {
     "name": "stdout",
     "output_type": "stream",
     "text": [
      "\n",
      "\n",
      "La optimizacion Bayesiana ha terminado\n"
     ]
    }
   ],
   "source": [
    "# inicio la optimizacion bayesiana\n",
    "if (!file.exists(kbayesiana)) {\n",
    "  run <- mbo(obj.fun, learner = surr.km, control = ctrl)\n",
    "} else {\n",
    "  run <- mboContinue(kbayesiana) # retomo en caso que ya exista\n",
    "}\n",
    "\n",
    "\n",
    "cat(\"\\n\\nLa optimizacion Bayesiana ha terminado\\n\")\n"
   ]
  },
  {
   "cell_type": "markdown",
   "metadata": {},
   "source": [
    "# Semilla 4, ajustado"
   ]
  },
  {
   "cell_type": "code",
   "execution_count": 173,
   "metadata": {
    "vscode": {
     "languageId": "r"
    }
   },
   "outputs": [
    {
     "data": {
      "text/html": [
       "<table class=\"dataframe\">\n",
       "<caption>A matrix: 2 × 6 of type dbl</caption>\n",
       "<thead>\n",
       "\t<tr><th></th><th scope=col>used</th><th scope=col>(Mb)</th><th scope=col>gc trigger</th><th scope=col>(Mb)</th><th scope=col>max used</th><th scope=col>(Mb)</th></tr>\n",
       "</thead>\n",
       "<tbody>\n",
       "\t<tr><th scope=row>Ncells</th><td>  2539352</td><td> 135.7</td><td>   8200217</td><td>  438.0</td><td>  22909774</td><td> 1223.6</td></tr>\n",
       "\t<tr><th scope=row>Vcells</th><td>709935620</td><td>5416.4</td><td>1990485193</td><td>15186.2</td><td>6843588264</td><td>52212.5</td></tr>\n",
       "</tbody>\n",
       "</table>\n"
      ],
      "text/latex": [
       "A matrix: 2 × 6 of type dbl\n",
       "\\begin{tabular}{r|llllll}\n",
       "  & used & (Mb) & gc trigger & (Mb) & max used & (Mb)\\\\\n",
       "\\hline\n",
       "\tNcells &   2539352 &  135.7 &    8200217 &   438.0 &   22909774 &  1223.6\\\\\n",
       "\tVcells & 709935620 & 5416.4 & 1990485193 & 15186.2 & 6843588264 & 52212.5\\\\\n",
       "\\end{tabular}\n"
      ],
      "text/markdown": [
       "\n",
       "A matrix: 2 × 6 of type dbl\n",
       "\n",
       "| <!--/--> | used | (Mb) | gc trigger | (Mb) | max used | (Mb) |\n",
       "|---|---|---|---|---|---|---|\n",
       "| Ncells |   2539352 |  135.7 |    8200217 |   438.0 |   22909774 |  1223.6 |\n",
       "| Vcells | 709935620 | 5416.4 | 1990485193 | 15186.2 | 6843588264 | 52212.5 |\n",
       "\n"
      ],
      "text/plain": [
       "       used      (Mb)   gc trigger (Mb)    max used   (Mb)   \n",
       "Ncells   2539352  135.7    8200217   438.0   22909774  1223.6\n",
       "Vcells 709935620 5416.4 1990485193 15186.2 6843588264 52212.5"
      ]
     },
     "metadata": {},
     "output_type": "display_data"
    }
   ],
   "source": [
    "# limpio la memoria\n",
    "rm(list = ls()) # remove all objects\n",
    "gc() # garbage collection"
   ]
  },
  {
   "cell_type": "code",
   "execution_count": 174,
   "metadata": {
    "vscode": {
     "languageId": "r"
    }
   },
   "outputs": [],
   "source": [
    "require(\"data.table\")\n",
    "require(\"rlist\")\n",
    "require(\"lightgbm\")"
   ]
  },
  {
   "cell_type": "code",
   "execution_count": 175,
   "metadata": {
    "vscode": {
     "languageId": "r"
    }
   },
   "outputs": [],
   "source": [
    "# paquetes necesarios para la Bayesian Optimization\n",
    "require(\"DiceKriging\")\n",
    "require(\"mlrMBO\")\n",
    "\n",
    "# para que se detenga ante el primer error\n",
    "# y muestre el stack de funciones invocadas\n",
    "options(error = function() {\n",
    "  traceback(20)\n",
    "  options(error = NULL)\n",
    "  stop(\"exiting after script error\")\n",
    "})"
   ]
  },
  {
   "cell_type": "markdown",
   "metadata": {},
   "source": [
    "## Definición de Parametros"
   ]
  },
  {
   "cell_type": "code",
   "execution_count": 176,
   "metadata": {
    "vscode": {
     "languageId": "r"
    }
   },
   "outputs": [],
   "source": [
    "# defino los parametros de la corrida, en una lista, la variable global  PARAM\n",
    "#  muy pronto esto se leera desde un archivo formato .yaml\n",
    "PARAM <- list()\n",
    "\n",
    "PARAM$experimento <- \"HT8230 (Clase 12, Ajustado Sem4)\"\n",
    "\n",
    "PARAM$input$dataset <- \"datasets/competencia_03_infla_ajustado_lags.csv.gz\"\n",
    "\n",
    "# los meses en los que vamos a entrenar\n",
    "#  mucha magia emerger de esta eleccion\n",
    "PARAM$input$testing <- c(202107) # Último mes, lo más cercano al 202109 de kaggle\n",
    "PARAM$input$validation <- c(202106)\n",
    "PARAM$input$training <- c(202105, 202104, 202103, 202102, 202101,202012) # 6 meses de entrenamiento\t\n",
    "\n",
    "# un undersampling de 0.1  toma solo el 10% de los CONTINUA\n",
    "PARAM$trainingstrategy$undersampling <- 1.0\n",
    "PARAM$trainingstrategy$semilla_azar <- c(279511, 279523, 279541, 279551, 279571)  # Aqui poner su  primer  semilla/ pongo todas mis semillas\n",
    "\n",
    "PARAM$hyperparametertuning$POS_ganancia <- 273000\n",
    "PARAM$hyperparametertuning$NEG_ganancia <- -7000\n",
    "\n",
    "# Aqui va semilla\n",
    "PARAM$lgb_semilla <- 279551"
   ]
  },
  {
   "cell_type": "code",
   "execution_count": 177,
   "metadata": {
    "vscode": {
     "languageId": "r"
    }
   },
   "outputs": [],
   "source": [
    "# Hiperparametros FIJOS de  lightgbm\n",
    "PARAM$lgb_basicos <- list(\n",
    "  boosting = \"gbdt\", # puede ir  dart  , ni pruebe random_forest\n",
    "  objective = \"binary\",\n",
    "  metric = \"custom\",\n",
    "  first_metric_only = TRUE,\n",
    "  boost_from_average = TRUE,\n",
    "  feature_pre_filter = FALSE,\n",
    "  force_row_wise = TRUE, # para reducir warnings\n",
    "  verbosity = -100,\n",
    "  max_depth = -1L, # -1 significa no limitar,  por ahora lo dejo fijo\n",
    "  min_gain_to_split = 0.0, # min_gain_to_split >= 0.0\n",
    "  min_sum_hessian_in_leaf = 0.001, #  min_sum_hessian_in_leaf >= 0.0\n",
    "  lambda_l1 = 0.0, # lambda_l1 >= 0.0\n",
    "  lambda_l2 = 0.0, # lambda_l2 >= 0.0\n",
    "  max_bin = 31L, # lo debo dejar fijo, no participa de la BO\n",
    "  num_iterations = 9999, # un numero muy grande, lo limita early_stopping_rounds\n",
    "\n",
    "  bagging_fraction = 1.0, # 0.0 < bagging_fraction <= 1.0\n",
    "  pos_bagging_fraction = 1.0, # 0.0 < pos_bagging_fraction <= 1.0\n",
    "  neg_bagging_fraction = 1.0, # 0.0 < neg_bagging_fraction <= 1.0\n",
    "  is_unbalance = FALSE, #\n",
    "  scale_pos_weight = 1.0, # scale_pos_weight > 0.0\n",
    "\n",
    "  drop_rate = 0.1, # 0.0 < neg_bagging_fraction <= 1.0\n",
    "  max_drop = 50, # <=0 means no limit\n",
    "  skip_drop = 0.5, # 0.0 <= skip_drop <= 1.0\n",
    "\n",
    "  extra_trees = TRUE, # Magic Sauce\n",
    "\n",
    "  seed = PARAM$lgb_semilla\n",
    ")"
   ]
  },
  {
   "cell_type": "code",
   "execution_count": 178,
   "metadata": {
    "vscode": {
     "languageId": "r"
    }
   },
   "outputs": [],
   "source": [
    "# Aqui se cargan los hiperparametros que se optimizan\n",
    "#  en la Bayesian Optimization\n",
    "PARAM$bo_lgb <- makeParamSet(\n",
    "  makeNumericParam(\"learning_rate\", lower = 0.02, upper = 0.3),\n",
    "  makeNumericParam(\"feature_fraction\", lower = 0.01, upper = 1.0),\n",
    "  makeIntegerParam(\"num_leaves\", lower = 8L, upper = 1024L),\n",
    "  makeIntegerParam(\"min_data_in_leaf\", lower = 100L, upper = 50000L)\n",
    ")\n",
    "\n",
    "# si usted es ambicioso, y tiene paciencia, podria subir este valor a 100\n",
    "PARAM$bo_iteraciones <- 50 # iteraciones de la Optimizacion Bayesiana"
   ]
  },
  {
   "cell_type": "code",
   "execution_count": 179,
   "metadata": {
    "vscode": {
     "languageId": "r"
    }
   },
   "outputs": [],
   "source": [
    "# graba a un archivo los componentes de lista\n",
    "# para el primer registro, escribe antes los titulos\n",
    "\n",
    "loguear <- function(\n",
    "    reg, arch = NA, folder = \"./exp/\",\n",
    "    ext = \".txt\", verbose = TRUE) {\n",
    "  archivo <- arch\n",
    "  if (is.na(arch)) archivo <- paste0(folder, substitute(reg), ext)\n",
    "\n",
    "  if (!file.exists(archivo)) # Escribo los titulos\n",
    "    {\n",
    "      linea <- paste0(\n",
    "        \"fecha\\t\",\n",
    "        paste(list.names(reg), collapse = \"\\t\"), \"\\n\"\n",
    "      )\n",
    "\n",
    "      cat(linea, file = archivo)\n",
    "    }\n",
    "\n",
    "  linea <- paste0(\n",
    "    format(Sys.time(), \"%Y%m%d %H%M%S\"), \"\\t\", # la fecha y hora\n",
    "    gsub(\", \", \"\\t\", toString(reg)), \"\\n\"\n",
    "  )\n",
    "\n",
    "  cat(linea, file = archivo, append = TRUE) # grabo al archivo\n",
    "\n",
    "  if (verbose) cat(linea) # imprimo por pantalla\n",
    "}"
   ]
  },
  {
   "cell_type": "code",
   "execution_count": 180,
   "metadata": {
    "vscode": {
     "languageId": "r"
    }
   },
   "outputs": [],
   "source": [
    "#------------------------------------------------------------------------------\n",
    "GLOBAL_arbol <- 0L\n",
    "GLOBAL_gan_max <- -Inf\n",
    "vcant_optima <- c()\n",
    "\n",
    "fganancia_lgbm_meseta <- function(probs, datos) {\n",
    "  vlabels <- get_field(datos, \"label\")\n",
    "  vpesos <- get_field(datos, \"weight\")\n",
    "\n",
    "\n",
    "  GLOBAL_arbol <<- GLOBAL_arbol + 1\n",
    "  tbl <- as.data.table(list(\n",
    "    \"prob\" = probs,\n",
    "    \"gan\" = ifelse(vlabels == 1 & vpesos > 1,\n",
    "      PARAM$hyperparametertuning$POS_ganancia,\n",
    "      PARAM$hyperparametertuning$NEG_ganancia  )\n",
    "  ))\n",
    "\n",
    "  setorder(tbl, -prob)\n",
    "  tbl[, posicion := .I]\n",
    "  tbl[, gan_acum := cumsum(gan)]\n",
    "\n",
    "  tbl[, gan_suavizada :=\n",
    "    frollmean(\n",
    "      x = gan_acum, n = 2001, align = \"center\",\n",
    "      na.rm = TRUE, hasNA = TRUE\n",
    "    )]\n",
    "\n",
    "  gan <- tbl[, max(gan_suavizada, na.rm = TRUE)]\n",
    "\n",
    "\n",
    "  pos <- which.max(tbl[, gan_suavizada])\n",
    "  vcant_optima <<- c(vcant_optima, pos)\n",
    "\n",
    "  if (GLOBAL_arbol %% 10 == 0) {\n",
    "    if (gan > GLOBAL_gan_max) GLOBAL_gan_max <<- gan\n",
    "\n",
    "    cat(\"\\r\")\n",
    "    cat(\n",
    "      \"Validate \", GLOBAL_iteracion, \" \", \" \",\n",
    "      GLOBAL_arbol, \"  \", gan, \"   \", GLOBAL_gan_max, \"   \"\n",
    "    )\n",
    "  }\n",
    "\n",
    "\n",
    "  return(list(\n",
    "    \"name\" = \"ganancia\",\n",
    "    \"value\" = gan,\n",
    "    \"higher_better\" = TRUE\n",
    "  ))\n",
    "}"
   ]
  },
  {
   "cell_type": "code",
   "execution_count": 181,
   "metadata": {
    "vscode": {
     "languageId": "r"
    }
   },
   "outputs": [],
   "source": [
    "#------------------------------------------------------------------------------\n",
    "\n",
    "EstimarGanancia_lightgbm <- function(x) {\n",
    "  gc()\n",
    "  GLOBAL_iteracion <<- GLOBAL_iteracion + 1L\n",
    "\n",
    "  # hago la union de los parametros basicos y los moviles que vienen en x\n",
    "  param_completo <- c(PARAM$lgb_basicos, x)\n",
    "\n",
    "  param_completo$early_stopping_rounds <-\n",
    "    as.integer(400 + 4 / param_completo$learning_rate)\n",
    "\n",
    "  GLOBAL_arbol <<- 0L\n",
    "  GLOBAL_gan_max <<- -Inf\n",
    "  vcant_optima <<- c()\n",
    "  set.seed(PARAM$lgb_semilla, kind = \"L'Ecuyer-CMRG\")\n",
    "  modelo_train <- lgb.train(\n",
    "    data = dtrain,\n",
    "    valids = list(valid = dvalidate),\n",
    "    eval = fganancia_lgbm_meseta,\n",
    "    param = param_completo,\n",
    "    verbose = -100\n",
    "  )\n",
    "\n",
    "  cat(\"\\n\")\n",
    "\n",
    "  cant_corte <- vcant_optima[modelo_train$best_iter]\n",
    "\n",
    "  # aplico el modelo a testing y calculo la ganancia\n",
    "  prediccion <- predict(\n",
    "    modelo_train,\n",
    "    data.matrix(dataset_test[, campos_buenos, with = FALSE])\n",
    "  )\n",
    "\n",
    "  tbl <- copy(dataset_test[, list(\"gan\" = ifelse(clase_ternaria == \"BAJA+2\",\n",
    "    PARAM$hyperparametertuning$POS_ganancia, \n",
    "    PARAM$hyperparametertuning$NEG_ganancia))])\n",
    "\n",
    "  tbl[, prob := prediccion]\n",
    "  setorder(tbl, -prob)\n",
    "  tbl[, gan_acum := cumsum(gan)]\n",
    "  tbl[, gan_suavizada := frollmean(\n",
    "    x = gan_acum, n = 2001,\n",
    "    align = \"center\", na.rm = TRUE, hasNA = TRUE\n",
    "  )]\n",
    "\n",
    "\n",
    "  ganancia_test <- tbl[, max(gan_suavizada, na.rm = TRUE)]\n",
    "\n",
    "  cantidad_test_normalizada <- which.max(tbl[, gan_suavizada])\n",
    "\n",
    "  rm(tbl)\n",
    "  gc()\n",
    "\n",
    "  ganancia_test_normalizada <- ganancia_test\n",
    "\n",
    "\n",
    "  # voy grabando las mejores column importance\n",
    "  if (ganancia_test_normalizada > GLOBAL_gananciamax) {\n",
    "    GLOBAL_gananciamax <<- ganancia_test_normalizada\n",
    "    tb_importancia <- as.data.table(lgb.importance(modelo_train))\n",
    "\n",
    "    fwrite(tb_importancia,\n",
    "      file = paste0(\"impo_\", sprintf(\"%03d\", GLOBAL_iteracion), \".txt\"),\n",
    "      sep = \"\\t\"\n",
    "    )\n",
    "\n",
    "    rm(tb_importancia)\n",
    "  }\n",
    "\n",
    "\n",
    "  # logueo final\n",
    "  ds <- list(\"cols\" = ncol(dtrain), \"rows\" = nrow(dtrain))\n",
    "  xx <- c(ds, copy(param_completo))\n",
    "\n",
    "  xx$early_stopping_rounds <- NULL\n",
    "  xx$num_iterations <- modelo_train$best_iter\n",
    "  xx$estimulos <- cantidad_test_normalizada\n",
    "  xx$ganancia <- ganancia_test_normalizada\n",
    "  xx$iteracion_bayesiana <- GLOBAL_iteracion\n",
    "\n",
    "  loguear(xx, arch = \"BO_log.txt\")\n",
    "\n",
    "  set.seed(PARAM$lgb_semilla, kind = \"L'Ecuyer-CMRG\")\n",
    "  return(ganancia_test_normalizada)\n",
    "}"
   ]
  },
  {
   "cell_type": "markdown",
   "metadata": {},
   "source": [
    "## Aquí empieza el programa"
   ]
  },
  {
   "cell_type": "code",
   "execution_count": 182,
   "metadata": {
    "vscode": {
     "languageId": "r"
    }
   },
   "outputs": [],
   "source": [
    "# Aqui empieza el programa\n",
    "\n",
    "# Aqui se debe poner la carpeta de la computadora local\n",
    "setwd(\"~/buckets/b1/\") # Establezco el Working Directory\n",
    "\n",
    "# cargo el dataset donde voy a entrenar el modelo\n",
    "dataset <- fread(PARAM$input$dataset)"
   ]
  },
  {
   "cell_type": "code",
   "execution_count": 183,
   "metadata": {
    "vscode": {
     "languageId": "r"
    }
   },
   "outputs": [],
   "source": [
    "# creo la carpeta donde va el experimento\n",
    "dir.create(\"./exp/\", showWarnings = FALSE)\n",
    "dir.create(paste0(\"./exp/\", PARAM$experimento, \"/\"), showWarnings = FALSE)\n",
    "\n",
    "# Establezco el Working Directory DEL EXPERIMENTO\n",
    "setwd(paste0(\"./exp/\", PARAM$experimento, \"/\"))\n",
    "\n",
    "# en estos archivos quedan los resultados\n",
    "kbayesiana <- paste0(PARAM$experimento, \".RDATA\")\n",
    "klog <- paste0(PARAM$experimento, \".txt\")\n"
   ]
  },
  {
   "cell_type": "code",
   "execution_count": 184,
   "metadata": {
    "vscode": {
     "languageId": "r"
    }
   },
   "outputs": [],
   "source": [
    "# Catastrophe Analysis  -------------------------------------------------------\n",
    "# deben ir cosas de este estilo\n",
    "#   dataset[foto_mes == 202006, active_quarter := NA]\n",
    "\n",
    "# Data Drifting\n",
    "# por ahora, no hago nada\n",
    "\n",
    "\n",
    "# Feature Engineering Historico  ----------------------------------------------\n",
    "#   aqui deben calcularse los  lags y  lag_delta\n",
    "#   Sin lags no hay paraiso !  corta la bocha"
   ]
  },
  {
   "cell_type": "code",
   "execution_count": null,
   "metadata": {
    "vscode": {
     "languageId": "r"
    }
   },
   "outputs": [],
   "source": []
  },
  {
   "cell_type": "code",
   "execution_count": 185,
   "metadata": {
    "vscode": {
     "languageId": "r"
    }
   },
   "outputs": [],
   "source": [
    "# ahora SI comienza la optimizacion Bayesiana\n",
    "\n",
    "GLOBAL_iteracion <- 0 # inicializo la variable global\n",
    "GLOBAL_gananciamax <- -1 # inicializo la variable global\n",
    "\n",
    "# si ya existe el archivo log, traigo hasta donde llegue\n",
    "if (file.exists(klog)) {\n",
    "  tabla_log <- fread(klog)\n",
    "  GLOBAL_iteracion <- nrow(tabla_log)\n",
    "  GLOBAL_gananciamax <- tabla_log[, max(ganancia)]\n",
    "}\n"
   ]
  },
  {
   "cell_type": "code",
   "execution_count": 186,
   "metadata": {
    "vscode": {
     "languageId": "r"
    }
   },
   "outputs": [],
   "source": [
    "# paso la clase a binaria que tome valores {0,1}  enteros\n",
    "dataset[, clase01 := ifelse(clase_ternaria == \"CONTINUA\", 0L, 1L)]\n",
    "\n",
    "\n",
    "# los campos que se van a utilizar\n",
    "campos_buenos <- setdiff(\n",
    "  colnames(dataset),\n",
    "  c(\"clase_ternaria\", \"clase01\", \"azar\", \"training\")\n",
    ")"
   ]
  },
  {
   "cell_type": "code",
   "execution_count": 187,
   "metadata": {
    "vscode": {
     "languageId": "r"
    }
   },
   "outputs": [],
   "source": [
    "# defino los datos que forma parte del training\n",
    "# aqui se hace el undersampling de los CONTINUA\n",
    "set.seed(PARAM$trainingstrategy$semilla_azar)\n",
    "dataset[, azar := runif(nrow(dataset))]\n",
    "dataset[, training := 0L]\n",
    "dataset[\n",
    "  foto_mes %in% PARAM$input$training &\n",
    "    (azar <= PARAM$trainingstrategy$undersampling | clase_ternaria %in% c(\"BAJA+1\", \"BAJA+2\")),\n",
    "  training := 1L\n",
    "]"
   ]
  },
  {
   "cell_type": "code",
   "execution_count": 188,
   "metadata": {
    "vscode": {
     "languageId": "r"
    }
   },
   "outputs": [],
   "source": [
    "# dejo los datos en el formato que necesita LightGBM\n",
    "dtrain <- lgb.Dataset(\n",
    "  data = data.matrix(dataset[training == 1L, campos_buenos, with = FALSE]),\n",
    "  label = dataset[training == 1L, clase01],\n",
    "  weight = dataset[training == 1L, \n",
    "    ifelse(clase_ternaria == \"BAJA+2\", 1.0000001, \n",
    "      ifelse(clase_ternaria == \"BAJA+1\", 1.0, 1.0))],\n",
    "  free_raw_data = FALSE\n",
    ")"
   ]
  },
  {
   "cell_type": "code",
   "execution_count": 189,
   "metadata": {
    "vscode": {
     "languageId": "r"
    }
   },
   "outputs": [],
   "source": [
    "# defino los datos que forman parte de validation\n",
    "#  no hay undersampling\n",
    "dataset[, validation := 0L]\n",
    "dataset[ foto_mes %in% PARAM$input$validation,  validation := 1L]\n",
    "\n",
    "dvalidate <- lgb.Dataset(\n",
    "  data = data.matrix(dataset[validation == 1L, campos_buenos, with = FALSE]),\n",
    "  label = dataset[validation == 1L, clase01],\n",
    "  weight = dataset[validation == 1L, \n",
    "    ifelse(clase_ternaria == \"BAJA+2\", 1.0000001, \n",
    "      ifelse(clase_ternaria == \"BAJA+1\", 1.0, 1.0))],\n",
    "  free_raw_data = FALSE\n",
    ")"
   ]
  },
  {
   "cell_type": "code",
   "execution_count": 190,
   "metadata": {
    "vscode": {
     "languageId": "r"
    }
   },
   "outputs": [],
   "source": [
    "# defino los datos de testing\n",
    "dataset[, testing := 0L]\n",
    "dataset[ foto_mes %in% PARAM$input$testing,  testing := 1L]\n",
    "\n",
    "\n",
    "dataset_test <- dataset[testing == 1, ]"
   ]
  },
  {
   "cell_type": "code",
   "execution_count": 191,
   "metadata": {
    "vscode": {
     "languageId": "r"
    }
   },
   "outputs": [
    {
     "data": {
      "text/html": [
       "<table class=\"dataframe\">\n",
       "<caption>A matrix: 2 × 6 of type dbl</caption>\n",
       "<thead>\n",
       "\t<tr><th></th><th scope=col>used</th><th scope=col>(Mb)</th><th scope=col>gc trigger</th><th scope=col>(Mb)</th><th scope=col>max used</th><th scope=col>(Mb)</th></tr>\n",
       "</thead>\n",
       "<tbody>\n",
       "\t<tr><th scope=row>Ncells</th><td>  2540372</td><td> 135.7</td><td>   8200217</td><td>  438.0</td><td>  22909774</td><td> 1223.6</td></tr>\n",
       "\t<tr><th scope=row>Vcells</th><td>782740985</td><td>5971.9</td><td>3981140422</td><td>30373.7</td><td>6843588264</td><td>52212.5</td></tr>\n",
       "</tbody>\n",
       "</table>\n"
      ],
      "text/latex": [
       "A matrix: 2 × 6 of type dbl\n",
       "\\begin{tabular}{r|llllll}\n",
       "  & used & (Mb) & gc trigger & (Mb) & max used & (Mb)\\\\\n",
       "\\hline\n",
       "\tNcells &   2540372 &  135.7 &    8200217 &   438.0 &   22909774 &  1223.6\\\\\n",
       "\tVcells & 782740985 & 5971.9 & 3981140422 & 30373.7 & 6843588264 & 52212.5\\\\\n",
       "\\end{tabular}\n"
      ],
      "text/markdown": [
       "\n",
       "A matrix: 2 × 6 of type dbl\n",
       "\n",
       "| <!--/--> | used | (Mb) | gc trigger | (Mb) | max used | (Mb) |\n",
       "|---|---|---|---|---|---|---|\n",
       "| Ncells |   2540372 |  135.7 |    8200217 |   438.0 |   22909774 |  1223.6 |\n",
       "| Vcells | 782740985 | 5971.9 | 3981140422 | 30373.7 | 6843588264 | 52212.5 |\n",
       "\n"
      ],
      "text/plain": [
       "       used      (Mb)   gc trigger (Mb)    max used   (Mb)   \n",
       "Ncells   2540372  135.7    8200217   438.0   22909774  1223.6\n",
       "Vcells 782740985 5971.9 3981140422 30373.7 6843588264 52212.5"
      ]
     },
     "metadata": {},
     "output_type": "display_data"
    }
   ],
   "source": [
    "# libero espacio\n",
    "rm(dataset)\n",
    "gc()"
   ]
  },
  {
   "cell_type": "code",
   "execution_count": 192,
   "metadata": {
    "vscode": {
     "languageId": "r"
    }
   },
   "outputs": [],
   "source": [
    "# Aqui comienza la configuracion de la Bayesian Optimization\n",
    "funcion_optimizar <- EstimarGanancia_lightgbm # la funcion que voy a maximizar\n",
    "\n",
    "configureMlr(show.learner.output = FALSE)\n",
    "\n",
    "# configuro la busqueda bayesiana,  los hiperparametros que se van a optimizar\n",
    "# por favor, no desesperarse por lo complejo\n",
    "obj.fun <- makeSingleObjectiveFunction(\n",
    "  fn = funcion_optimizar, # la funcion que voy a maximizar\n",
    "  minimize = FALSE, # estoy Maximizando la ganancia\n",
    "  noisy = TRUE,\n",
    "  par.set = PARAM$bo_lgb, # definido al comienzo del programa\n",
    "  has.simple.signature = FALSE # paso los parametros en una lista\n",
    ")\n",
    "\n",
    "# cada 600 segundos guardo el resultado intermedio\n",
    "ctrl <- makeMBOControl(\n",
    "  save.on.disk.at.time = 600, # se graba cada 600 segundos\n",
    "  save.file.path = kbayesiana\n",
    ") # se graba cada 600 segundos\n",
    "\n",
    "# indico la cantidad de iteraciones que va a tener la Bayesian Optimization\n",
    "ctrl <- setMBOControlTermination(\n",
    "  ctrl,\n",
    "  iters = PARAM$bo_iteraciones\n",
    ") # cantidad de iteraciones\n",
    "\n",
    "# defino el método estandar para la creacion de los puntos iniciales,\n",
    "# los \"No Inteligentes\"\n",
    "ctrl <- setMBOControlInfill(ctrl, crit = makeMBOInfillCritEI())\n",
    "\n",
    "\n",
    "# establezco la funcion que busca el maximo\n",
    "surr.km <- makeLearner(\n",
    "  \"regr.km\",\n",
    "  predict.type = \"se\",\n",
    "  covtype = \"matern3_2\",\n",
    "  control = list(trace = TRUE)\n",
    ")"
   ]
  },
  {
   "cell_type": "code",
   "execution_count": 193,
   "metadata": {
    "vscode": {
     "languageId": "r"
    }
   },
   "outputs": [
    {
     "name": "stderr",
     "output_type": "stream",
     "text": [
      "Computing y column(s) for design. Not provided.\n",
      "\n"
     ]
    },
    {
     "name": "stdout",
     "output_type": "stream",
     "text": [
      "Validate  1     1110    101721033     104404979    \n",
      "20231106 021928\t601\t976271\tgbdt\tbinary\tcustom\tTRUE\tTRUE\tFALSE\tTRUE\t-100\t-1\t0\t0.001\t0\t0\t31\t682\t1\t1\t1\tFALSE\t1\t0.1\t50\t0.5\tTRUE\t279551\t0.129464825580638\t0.589979261678396\t603\t34060\t13037\t148146457.271364\t1\n",
      "Validate  2     1730    104968999     107029269    \n",
      "20231106 023159\t601\t976271\tgbdt\tbinary\tcustom\tTRUE\tTRUE\tFALSE\tTRUE\t-100\t-1\t0\t0.001\t0\t0\t31\t1270\t1\t1\t1\tFALSE\t1\t0.1\t50\t0.5\tTRUE\t279551\t0.0661204550073144\t0.306758356069939\t135\t27020\t12886\t144150303.848076\t2\n",
      "Validate  3     850    102539096     104694512    \n",
      "20231106 023616\t601\t976271\tgbdt\tbinary\tcustom\tTRUE\tTRUE\tFALSE\tTRUE\t-100\t-1\t0\t0.001\t0\t0\t31\t416\t1\t1\t1\tFALSE\t1\t0.1\t50\t0.5\tTRUE\t279551\t0.113019156746563\t0.722689286671374\t381\t28634\t15229\t139645315.842079\t3\n",
      "Validate  4     460    100187645     104030750    \n",
      "20231106 023828\t601\t976271\tgbdt\tbinary\tcustom\tTRUE\tTRUE\tFALSE\tTRUE\t-100\t-1\t0\t0.001\t0\t0\t31\t41\t1\t1\t1\tFALSE\t1\t0.1\t50\t0.5\tTRUE\t279551\t0.175678618850921\t0.0837276906739244\t542\t6859\t14018\t133489272.363818\t4\n",
      "Validate  5     630    94458021     100689102     \n",
      "20231106 024314\t601\t976271\tgbdt\tbinary\tcustom\tTRUE\tTRUE\tFALSE\tTRUE\t-100\t-1\t0\t0.001\t0\t0\t31\t221\t1\t1\t1\tFALSE\t1\t0.1\t50\t0.5\tTRUE\t279551\t0.275198918823473\t0.32486327912462\t723\t16035\t13952\t134324185.907046\t5\n",
      "Validate  6     640    101651985     105082149    \n",
      "20231106 024706\t601\t976271\tgbdt\tbinary\tcustom\tTRUE\tTRUE\tFALSE\tTRUE\t-100\t-1\t0\t0.001\t0\t0\t31\t218\t1\t1\t1\tFALSE\t1\t0.1\t50\t0.5\tTRUE\t279551\t0.152941050471095\t0.645387167052228\t502\t12627\t11427\t142905832.583708\t6\n",
      "Validate  7     900    101909355     106126899    \n",
      "20231106 025120\t601\t976271\tgbdt\tbinary\tcustom\tTRUE\tTRUE\tFALSE\tTRUE\t-100\t-1\t0\t0.001\t0\t0\t31\t489\t1\t1\t1\tFALSE\t1\t0.1\t50\t0.5\tTRUE\t279551\t0.19416275426125\t0.794035319192328\t845\t42464\t11756\t145211008.495752\t7\n",
      "Validate  8     930    100911895     104465250    \n",
      "20231106 025618\t601\t976271\tgbdt\tbinary\tcustom\tTRUE\tTRUE\tFALSE\tTRUE\t-100\t-1\t0\t0.001\t0\t0\t31\t514\t1\t1\t1\tFALSE\t1\t0.1\t50\t0.5\tTRUE\t279551\t0.208330530396255\t0.164289977450783\t938\t38948\t14663\t142305826.586707\t8\n",
      "Validate  9     630    100729633     104281186    \n",
      "20231106 030211\t601\t976271\tgbdt\tbinary\tcustom\tTRUE\tTRUE\tFALSE\tTRUE\t-100\t-1\t0\t0.001\t0\t0\t31\t84\t1\t1\t1\tFALSE\t1\t0.1\t50\t0.5\tTRUE\t279551\t0.0267066953639716\t0.560570734105559\t306\t19296\t14857\t135087836.581709\t9\n",
      "Validate  10     800    100577721     104457061    \n",
      "20231106 030607\t601\t976271\tgbdt\tbinary\tcustom\tTRUE\tTRUE\tFALSE\tTRUE\t-100\t-1\t0\t0.001\t0\t0\t31\t387\t1\t1\t1\tFALSE\t1\t0.1\t50\t0.5\tTRUE\t279551\t0.221560927090974\t0.826648094024347\t31\t34846\t12441\t137275418.790605\t10\n",
      "Validate  11     660    103877457     105657755    \n",
      "20231106 031231\t601\t976271\tgbdt\tbinary\tcustom\tTRUE\tTRUE\tFALSE\tTRUE\t-100\t-1\t0\t0.001\t0\t0\t31\t218\t1\t1\t1\tFALSE\t1\t0.1\t50\t0.5\tTRUE\t279551\t0.0852503757905397\t0.925651702728775\t683\t1679\t13687\t144139245.877061\t11\n",
      "Validate  12     570    97124486     101402063     \n",
      "20231106 031552\t601\t976271\tgbdt\tbinary\tcustom\tTRUE\tTRUE\tFALSE\tTRUE\t-100\t-1\t0\t0.001\t0\t0\t31\t99\t1\t1\t1\tFALSE\t1\t0.1\t50\t0.5\tTRUE\t279551\t0.0506736029737185\t0.207218508431007\t246\t49507\t17561\t121892490.254873\t12\n",
      "Validate  13     560    103325744     106201908    \n",
      "20231106 031925\t601\t976271\tgbdt\tbinary\tcustom\tTRUE\tTRUE\tFALSE\tTRUE\t-100\t-1\t0\t0.001\t0\t0\t31\t144\t1\t1\t1\tFALSE\t1\t0.1\t50\t0.5\tTRUE\t279551\t0.241211629895149\t0.979385213098052\t981\t9632\t13520\t137950584.707646\t13\n",
      "Validate  14     700    97877292     102783939     \n",
      "20231106 032455\t601\t976271\tgbdt\tbinary\tcustom\tTRUE\tTRUE\tFALSE\tTRUE\t-100\t-1\t0\t0.001\t0\t0\t31\t291\t1\t1\t1\tFALSE\t1\t0.1\t50\t0.5\tTRUE\t279551\t0.289686593103062\t0.413139080222854\t417\t43892\t12340\t140215282.358821\t14\n",
      "Validate  15     590    92867009     97369367    \n",
      "20231106 032706\t601\t976271\tgbdt\tbinary\tcustom\tTRUE\tTRUE\tFALSE\tTRUE\t-100\t-1\t0\t0.001\t0\t0\t31\t184\t1\t1\t1\tFALSE\t1\t0.1\t50\t0.5\tTRUE\t279551\t0.260954398056728\t0.0272621639125061\t107\t5794\t15121\t121996038.48076\t15\n",
      "Validate  16     1090    106172488     108516473    \n",
      "20231106 033627\t601\t976271\tgbdt\tbinary\tcustom\tTRUE\tTRUE\tFALSE\tTRUE\t-100\t-1\t0\t0.001\t0\t0\t31\t648\t1\t1\t1\tFALSE\t1\t0.1\t50\t0.5\tTRUE\t279551\t0.0917235747127569\t0.46677263015138\t785\t24824\t11500\t142591154.422789\t16\n"
     ]
    },
    {
     "name": "stderr",
     "output_type": "stream",
     "text": [
      "[mbo] 0: learning_rate=0.129; feature_fraction=0.59; num_leaves=603; min_data_in_leaf=34060 : y = 1.48e+08 : 551.6 secs : initdesign\n",
      "\n",
      "[mbo] 0: learning_rate=0.0661; feature_fraction=0.307; num_leaves=135; min_data_in_leaf=27020 : y = 1.44e+08 : 750.7 secs : initdesign\n",
      "\n",
      "[mbo] 0: learning_rate=0.113; feature_fraction=0.723; num_leaves=381; min_data_in_leaf=28634 : y = 1.4e+08 : 257.7 secs : initdesign\n",
      "\n",
      "[mbo] 0: learning_rate=0.176; feature_fraction=0.0837; num_leaves=542; min_data_in_leaf=6859 : y = 1.33e+08 : 131.9 secs : initdesign\n",
      "\n",
      "[mbo] 0: learning_rate=0.275; feature_fraction=0.325; num_leaves=723; min_data_in_leaf=16035 : y = 1.34e+08 : 285.7 secs : initdesign\n",
      "\n",
      "[mbo] 0: learning_rate=0.153; feature_fraction=0.645; num_leaves=502; min_data_in_leaf=12627 : y = 1.43e+08 : 232.0 secs : initdesign\n",
      "\n",
      "[mbo] 0: learning_rate=0.194; feature_fraction=0.794; num_leaves=845; min_data_in_leaf=42464 : y = 1.45e+08 : 253.8 secs : initdesign\n",
      "\n",
      "[mbo] 0: learning_rate=0.208; feature_fraction=0.164; num_leaves=938; min_data_in_leaf=38948 : y = 1.42e+08 : 298.5 secs : initdesign\n",
      "\n",
      "[mbo] 0: learning_rate=0.0267; feature_fraction=0.561; num_leaves=306; min_data_in_leaf=19296 : y = 1.35e+08 : 353.2 secs : initdesign\n",
      "\n",
      "[mbo] 0: learning_rate=0.222; feature_fraction=0.827; num_leaves=31; min_data_in_leaf=34846 : y = 1.37e+08 : 235.1 secs : initdesign\n",
      "\n",
      "[mbo] 0: learning_rate=0.0853; feature_fraction=0.926; num_leaves=683; min_data_in_leaf=1679 : y = 1.44e+08 : 384.9 secs : initdesign\n",
      "\n",
      "[mbo] 0: learning_rate=0.0507; feature_fraction=0.207; num_leaves=246; min_data_in_leaf=49507 : y = 1.22e+08 : 200.4 secs : initdesign\n",
      "\n",
      "[mbo] 0: learning_rate=0.241; feature_fraction=0.979; num_leaves=981; min_data_in_leaf=9632 : y = 1.38e+08 : 213.5 secs : initdesign\n",
      "\n",
      "[mbo] 0: learning_rate=0.29; feature_fraction=0.413; num_leaves=417; min_data_in_leaf=43892 : y = 1.4e+08 : 329.2 secs : initdesign\n",
      "\n",
      "[mbo] 0: learning_rate=0.261; feature_fraction=0.0273; num_leaves=107; min_data_in_leaf=5794 : y = 1.22e+08 : 131.5 secs : initdesign\n",
      "\n",
      "[mbo] 0: learning_rate=0.0917; feature_fraction=0.467; num_leaves=785; min_data_in_leaf=24824 : y = 1.43e+08 : 561.4 secs : initdesign\n",
      "\n",
      "Saved the current state after iteration 1 in the file HT8230 (Clase 12, Ajustado Sem4).RDATA.\n",
      "\n"
     ]
    },
    {
     "name": "stdout",
     "output_type": "stream",
     "text": [
      "Validate  17     430    101857980     103201710    \n",
      "20231106 034018\t601\t976271\tgbdt\tbinary\tcustom\tTRUE\tTRUE\tFALSE\tTRUE\t-100\t-1\t0\t0.001\t0\t0\t31\t11\t1\t1\t1\tFALSE\t1\t0.1\t50\t0.5\tTRUE\t279551\t0.164441272239404\t0.533427611861977\t776\t35094\t16062\t121847919.04048\t17\n"
     ]
    },
    {
     "name": "stderr",
     "output_type": "stream",
     "text": [
      "[mbo] 1: learning_rate=0.164; feature_fraction=0.533; num_leaves=776; min_data_in_leaf=35094 : y = 1.22e+08 : 228.0 secs : infill_ei\n",
      "\n"
     ]
    },
    {
     "name": "stdout",
     "output_type": "stream",
     "text": [
      "Validate  18     970    108598350     109932807    \n",
      "20231106 034529\t601\t976271\tgbdt\tbinary\tcustom\tTRUE\tTRUE\tFALSE\tTRUE\t-100\t-1\t0\t0.001\t0\t0\t31\t525\t1\t1\t1\tFALSE\t1\t0.1\t50\t0.5\tTRUE\t279551\t0.0819756760923147\t0.974616244780253\t517\t20341\t10182\t147987549.225387\t18\n"
     ]
    },
    {
     "name": "stderr",
     "output_type": "stream",
     "text": [
      "[mbo] 2: learning_rate=0.082; feature_fraction=0.975; num_leaves=517; min_data_in_leaf=20341 : y = 1.48e+08 : 311.5 secs : infill_ei\n",
      "\n"
     ]
    },
    {
     "name": "stdout",
     "output_type": "stream",
     "text": [
      "Validate  19     940    105925697     109608018    \n",
      "20231106 035347\t601\t976271\tgbdt\tbinary\tcustom\tTRUE\tTRUE\tFALSE\tTRUE\t-100\t-1\t0\t0.001\t0\t0\t31\t513\t1\t1\t1\tFALSE\t1\t0.1\t50\t0.5\tTRUE\t279551\t0.125783364152587\t0.571972846311198\t970\t25824\t13552\t142541297.351324\t19\n"
     ]
    },
    {
     "name": "stderr",
     "output_type": "stream",
     "text": [
      "[mbo] 3: learning_rate=0.126; feature_fraction=0.572; num_leaves=970; min_data_in_leaf=25824 : y = 1.43e+08 : 497.4 secs : infill_ei\n",
      "\n",
      "Saved the current state after iteration 4 in the file HT8230 (Clase 12, Ajustado Sem4).RDATA.\n",
      "\n"
     ]
    },
    {
     "name": "stdout",
     "output_type": "stream",
     "text": [
      "Validate  20     1390    103944476     106855091    \n",
      "20231106 040401\t601\t976271\tgbdt\tbinary\tcustom\tTRUE\tTRUE\tFALSE\tTRUE\t-100\t-1\t0\t0.001\t0\t0\t31\t964\t1\t1\t1\tFALSE\t1\t0.1\t50\t0.5\tTRUE\t279551\t0.123394124223641\t0.350721480100059\t385\t31552\t12985\t140939682.658671\t20\n"
     ]
    },
    {
     "name": "stderr",
     "output_type": "stream",
     "text": [
      "[mbo] 4: learning_rate=0.123; feature_fraction=0.351; num_leaves=385; min_data_in_leaf=31552 : y = 1.41e+08 : 611.1 secs : infill_ei\n",
      "\n",
      "Saved the current state after iteration 5 in the file HT8230 (Clase 12, Ajustado Sem4).RDATA.\n",
      "\n"
     ]
    },
    {
     "name": "stdout",
     "output_type": "stream",
     "text": [
      "Validate  21     770    101452655     104794229    \n",
      "20231106 040912\t601\t976271\tgbdt\tbinary\tcustom\tTRUE\tTRUE\tFALSE\tTRUE\t-100\t-1\t0\t0.001\t0\t0\t31\t352\t1\t1\t1\tFALSE\t1\t0.1\t50\t0.5\tTRUE\t279551\t0.153408568339558\t0.188395173424707\t629\t4144\t11603\t139326646.176912\t21\n"
     ]
    },
    {
     "name": "stderr",
     "output_type": "stream",
     "text": [
      "[mbo] 5: learning_rate=0.153; feature_fraction=0.188; num_leaves=629; min_data_in_leaf=4144 : y = 1.39e+08 : 307.4 secs : infill_ei\n",
      "\n"
     ]
    },
    {
     "name": "stdout",
     "output_type": "stream",
     "text": [
      "Validate  22     800    107191252     108100703    \n",
      "20231106 041353\t601\t976271\tgbdt\tbinary\tcustom\tTRUE\tTRUE\tFALSE\tTRUE\t-100\t-1\t0\t0.001\t0\t0\t31\t362\t1\t1\t1\tFALSE\t1\t0.1\t50\t0.5\tTRUE\t279551\t0.0878434133142489\t0.815810371357654\t660\t13202\t12577\t146411254.872564\t22\n"
     ]
    },
    {
     "name": "stderr",
     "output_type": "stream",
     "text": [
      "[mbo] 6: learning_rate=0.0878; feature_fraction=0.816; num_leaves=660; min_data_in_leaf=13202 : y = 1.46e+08 : 281.2 secs : infill_ei\n",
      "\n"
     ]
    },
    {
     "name": "stdout",
     "output_type": "stream",
     "text": [
      "Validate  23     980    99234813     103340738     \n",
      "20231106 042019\t601\t976271\tgbdt\tbinary\tcustom\tTRUE\tTRUE\tFALSE\tTRUE\t-100\t-1\t0\t0.001\t0\t0\t31\t567\t1\t1\t1\tFALSE\t1\t0.1\t50\t0.5\tTRUE\t279551\t0.208436094166103\t0.715217671528448\t580\t7994\t13597\t137711174.912544\t23\n"
     ]
    },
    {
     "name": "stderr",
     "output_type": "stream",
     "text": [
      "[mbo] 7: learning_rate=0.208; feature_fraction=0.715; num_leaves=580; min_data_in_leaf=7994 : y = 1.38e+08 : 385.7 secs : infill_ei\n",
      "\n",
      "Saved the current state after iteration 8 in the file HT8230 (Clase 12, Ajustado Sem4).RDATA.\n",
      "\n"
     ]
    },
    {
     "name": "stdout",
     "output_type": "stream",
     "text": [
      "Validate  24     580    100332413     105469476    \n",
      "20231106 042339\t601\t976271\tgbdt\tbinary\tcustom\tTRUE\tTRUE\tFALSE\tTRUE\t-100\t-1\t0\t0.001\t0\t0\t31\t171\t1\t1\t1\tFALSE\t1\t0.1\t50\t0.5\tTRUE\t279551\t0.216814233838003\t0.941129939035405\t468\t16510\t11318\t145978937.531234\t24\n"
     ]
    },
    {
     "name": "stderr",
     "output_type": "stream",
     "text": [
      "[mbo] 8: learning_rate=0.217; feature_fraction=0.941; num_leaves=468; min_data_in_leaf=16510 : y = 1.46e+08 : 196.1 secs : infill_ei\n",
      "\n"
     ]
    },
    {
     "name": "stdout",
     "output_type": "stream",
     "text": [
      "Validate  25     470    101704564     102892423    \n",
      "20231106 042546\t601\t976271\tgbdt\tbinary\tcustom\tTRUE\tTRUE\tFALSE\tTRUE\t-100\t-1\t0\t0.001\t0\t0\t31\t34\t1\t1\t1\tFALSE\t1\t0.1\t50\t0.5\tTRUE\t279551\t0.10828413288156\t0.945185586534383\t414\t49048\t14952\t130614920.53973\t25\n"
     ]
    },
    {
     "name": "stderr",
     "output_type": "stream",
     "text": [
      "[mbo] 9: learning_rate=0.108; feature_fraction=0.945; num_leaves=414; min_data_in_leaf=49048 : y = 1.31e+08 : 127.3 secs : infill_ei\n",
      "\n"
     ]
    },
    {
     "name": "stdout",
     "output_type": "stream",
     "text": [
      "Validate  26     900    99981532     101554317     \n",
      "20231106 043124\t601\t976271\tgbdt\tbinary\tcustom\tTRUE\tTRUE\tFALSE\tTRUE\t-100\t-1\t0\t0.001\t0\t0\t31\t495\t1\t1\t1\tFALSE\t1\t0.1\t50\t0.5\tTRUE\t279551\t0.272230099278367\t0.682647555554558\t335\t10083\t13273\t127285001.999001\t26\n"
     ]
    },
    {
     "name": "stderr",
     "output_type": "stream",
     "text": [
      "[mbo] 10: learning_rate=0.272; feature_fraction=0.683; num_leaves=335; min_data_in_leaf=10083 : y = 1.27e+08 : 337.9 secs : infill_ei\n",
      "\n",
      "Saved the current state after iteration 11 in the file HT8230 (Clase 12, Ajustado Sem4).RDATA.\n",
      "\n"
     ]
    },
    {
     "name": "stdout",
     "output_type": "stream",
     "text": [
      "Validate  27     1570    101521609     103147634    \n",
      "20231106 043801\t601\t976271\tgbdt\tbinary\tcustom\tTRUE\tTRUE\tFALSE\tTRUE\t-100\t-1\t0\t0.001\t0\t0\t31\t1153\t1\t1\t1\tFALSE\t1\t0.1\t50\t0.5\tTRUE\t279551\t0.206258360888674\t0.078352308585262\t116\t27637\t12606\t144264626.686657\t27\n"
     ]
    },
    {
     "name": "stderr",
     "output_type": "stream",
     "text": [
      "[mbo] 11: learning_rate=0.206; feature_fraction=0.0784; num_leaves=116; min_data_in_leaf=27637 : y = 1.44e+08 : 393.3 secs : infill_ei\n",
      "\n"
     ]
    },
    {
     "name": "stdout",
     "output_type": "stream",
     "text": [
      "Validate  28     610    103727483     106876294    \n",
      "20231106 044144\t601\t976271\tgbdt\tbinary\tcustom\tTRUE\tTRUE\tFALSE\tTRUE\t-100\t-1\t0\t0.001\t0\t0\t31\t189\t1\t1\t1\tFALSE\t1\t0.1\t50\t0.5\tTRUE\t279551\t0.155888972707825\t0.18136861866572\t717\t8622\t14569\t127410883.058471\t28\n"
     ]
    },
    {
     "name": "stderr",
     "output_type": "stream",
     "text": [
      "[mbo] 12: learning_rate=0.156; feature_fraction=0.181; num_leaves=717; min_data_in_leaf=8622 : y = 1.27e+08 : 222.5 secs : infill_ei\n",
      "\n",
      "Saved the current state after iteration 13 in the file HT8230 (Clase 12, Ajustado Sem4).RDATA.\n",
      "\n"
     ]
    },
    {
     "name": "stdout",
     "output_type": "stream",
     "text": [
      "Validate  29     490    100189415     102365401    \n",
      "20231106 044448\t601\t976271\tgbdt\tbinary\tcustom\tTRUE\tTRUE\tFALSE\tTRUE\t-100\t-1\t0\t0.001\t0\t0\t31\t29\t1\t1\t1\tFALSE\t1\t0.1\t50\t0.5\tTRUE\t279551\t0.0609387482901895\t0.60478124023511\t232\t37093\t13616\t132446240.87956\t29\n"
     ]
    },
    {
     "name": "stderr",
     "output_type": "stream",
     "text": [
      "[mbo] 13: learning_rate=0.0609; feature_fraction=0.605; num_leaves=232; min_data_in_leaf=37093 : y = 1.32e+08 : 181.4 secs : infill_ei\n",
      "\n"
     ]
    },
    {
     "name": "stdout",
     "output_type": "stream",
     "text": [
      "Validate  30     440    100179207     100267171    \n",
      "20231106 044710\t601\t976271\tgbdt\tbinary\tcustom\tTRUE\tTRUE\tFALSE\tTRUE\t-100\t-1\t0\t0.001\t0\t0\t31\t15\t1\t1\t1\tFALSE\t1\t0.1\t50\t0.5\tTRUE\t279551\t0.134048980753372\t0.618615897063871\t184\t31418\t13633\t129053857.571214\t30\n"
     ]
    },
    {
     "name": "stderr",
     "output_type": "stream",
     "text": [
      "[mbo] 14: learning_rate=0.134; feature_fraction=0.619; num_leaves=184; min_data_in_leaf=31418 : y = 1.29e+08 : 141.7 secs : infill_ei\n",
      "\n"
     ]
    },
    {
     "name": "stdout",
     "output_type": "stream",
     "text": [
      "Validate  31     1090    103706882     105144768    \n",
      "20231106 045217\t601\t976271\tgbdt\tbinary\tcustom\tTRUE\tTRUE\tFALSE\tTRUE\t-100\t-1\t0\t0.001\t0\t0\t31\t660\t1\t1\t1\tFALSE\t1\t0.1\t50\t0.5\tTRUE\t279551\t0.115678986224017\t0.917889258681712\t71\t37901\t11550\t146336346.826587\t31\n"
     ]
    },
    {
     "name": "stderr",
     "output_type": "stream",
     "text": [
      "[mbo] 15: learning_rate=0.116; feature_fraction=0.918; num_leaves=71; min_data_in_leaf=37901 : y = 1.46e+08 : 306.3 secs : infill_ei\n",
      "\n",
      "Saved the current state after iteration 16 in the file HT8230 (Clase 12, Ajustado Sem4).RDATA.\n",
      "\n"
     ]
    },
    {
     "name": "stdout",
     "output_type": "stream",
     "text": [
      "Validate  32     900    108186763     110002376    \n",
      "20231106 050111\t601\t976271\tgbdt\tbinary\tcustom\tTRUE\tTRUE\tFALSE\tTRUE\t-100\t-1\t0\t0.001\t0\t0\t31\t475\t1\t1\t1\tFALSE\t1\t0.1\t50\t0.5\tTRUE\t279551\t0.118924839631945\t0.506578870921029\t798\t6538\t14097\t142057471.764118\t32\n"
     ]
    },
    {
     "name": "stderr",
     "output_type": "stream",
     "text": [
      "[mbo] 16: learning_rate=0.119; feature_fraction=0.507; num_leaves=798; min_data_in_leaf=6538 : y = 1.42e+08 : 530.6 secs : infill_ei\n",
      "\n"
     ]
    },
    {
     "name": "stdout",
     "output_type": "stream",
     "text": [
      "Validate  33     440    100377999     102326969    \n",
      "20231106 050453\t601\t976271\tgbdt\tbinary\tcustom\tTRUE\tTRUE\tFALSE\tTRUE\t-100\t-1\t0\t0.001\t0\t0\t31\t17\t1\t1\t1\tFALSE\t1\t0.1\t50\t0.5\tTRUE\t279551\t0.151764583127898\t0.49849945585071\t499\t46599\t15060\t114017721.13943\t33\n"
     ]
    },
    {
     "name": "stderr",
     "output_type": "stream",
     "text": [
      "[mbo] 17: learning_rate=0.152; feature_fraction=0.498; num_leaves=499; min_data_in_leaf=46599 : y = 1.14e+08 : 221.7 secs : infill_ei\n",
      "\n",
      "Saved the current state after iteration 18 in the file HT8230 (Clase 12, Ajustado Sem4).RDATA.\n",
      "\n"
     ]
    },
    {
     "name": "stdout",
     "output_type": "stream",
     "text": [
      "Validate  34     620    97895000     104941695     \n",
      "20231106 050939\t601\t976271\tgbdt\tbinary\tcustom\tTRUE\tTRUE\tFALSE\tTRUE\t-100\t-1\t0\t0.001\t0\t0\t31\t85\t1\t1\t1\tFALSE\t1\t0.1\t50\t0.5\tTRUE\t279551\t0.0287094006729022\t0.380709247557522\t923\t32660\t14597\t126978121.43928\t34\n"
     ]
    },
    {
     "name": "stderr",
     "output_type": "stream",
     "text": [
      "[mbo] 18: learning_rate=0.0287; feature_fraction=0.381; num_leaves=923; min_data_in_leaf=32660 : y = 1.27e+08 : 283.4 secs : infill_ei\n",
      "\n"
     ]
    },
    {
     "name": "stdout",
     "output_type": "stream",
     "text": [
      "Validate  35     950    105715392     108078118    \n",
      "20231106 051416\t601\t976271\tgbdt\tbinary\tcustom\tTRUE\tTRUE\tFALSE\tTRUE\t-100\t-1\t0\t0.001\t0\t0\t31\t512\t1\t1\t1\tFALSE\t1\t0.1\t50\t0.5\tTRUE\t279551\t0.102969406697526\t0.829579877786537\t616\t33605\t13245\t146352666.166917\t35\n"
     ]
    },
    {
     "name": "stderr",
     "output_type": "stream",
     "text": [
      "[mbo] 19: learning_rate=0.103; feature_fraction=0.83; num_leaves=616; min_data_in_leaf=33605 : y = 1.46e+08 : 276.6 secs : infill_ei\n",
      "\n"
     ]
    },
    {
     "name": "stdout",
     "output_type": "stream",
     "text": [
      "Validate  36     830    102146309     104765316    \n",
      "20231106 051821\t601\t976271\tgbdt\tbinary\tcustom\tTRUE\tTRUE\tFALSE\tTRUE\t-100\t-1\t0\t0.001\t0\t0\t31\t418\t1\t1\t1\tFALSE\t1\t0.1\t50\t0.5\tTRUE\t279551\t0.216244528770405\t0.678605202128697\t876\t32091\t13892\t142907424.287856\t36\n"
     ]
    },
    {
     "name": "stderr",
     "output_type": "stream",
     "text": [
      "[mbo] 20: learning_rate=0.216; feature_fraction=0.679; num_leaves=876; min_data_in_leaf=32091 : y = 1.43e+08 : 243.9 secs : infill_ei\n",
      "\n",
      "Saved the current state after iteration 21 in the file HT8230 (Clase 12, Ajustado Sem4).RDATA.\n",
      "\n"
     ]
    },
    {
     "name": "stdout",
     "output_type": "stream",
     "text": [
      "Validate  37     860    104392256     108345766    \n",
      "20231106 052350\t601\t976271\tgbdt\tbinary\tcustom\tTRUE\tTRUE\tFALSE\tTRUE\t-100\t-1\t0\t0.001\t0\t0\t31\t432\t1\t1\t1\tFALSE\t1\t0.1\t50\t0.5\tTRUE\t279551\t0.113035283221169\t0.879902868693263\t690\t11163\t13780\t144281369.315342\t37\n"
     ]
    },
    {
     "name": "stderr",
     "output_type": "stream",
     "text": [
      "[mbo] 21: learning_rate=0.113; feature_fraction=0.88; num_leaves=690; min_data_in_leaf=11163 : y = 1.44e+08 : 326.8 secs : infill_ei\n",
      "\n"
     ]
    },
    {
     "name": "stdout",
     "output_type": "stream",
     "text": [
      "Validate  38     630    101751178     107414909    \n",
      "20231106 052758\t601\t976271\tgbdt\tbinary\tcustom\tTRUE\tTRUE\tFALSE\tTRUE\t-100\t-1\t0\t0.001\t0\t0\t31\t214\t1\t1\t1\tFALSE\t1\t0.1\t50\t0.5\tTRUE\t279551\t0.200459976912112\t0.614564169250873\t812\t14384\t12598\t145518987.506247\t38\n"
     ]
    },
    {
     "name": "stderr",
     "output_type": "stream",
     "text": [
      "[mbo] 22: learning_rate=0.2; feature_fraction=0.615; num_leaves=812; min_data_in_leaf=14384 : y = 1.46e+08 : 247.0 secs : infill_ei\n",
      "\n"
     ]
    },
    {
     "name": "stdout",
     "output_type": "stream",
     "text": [
      "Validate  39     720    100287366     105890742    \n",
      "20231106 053435\t601\t976271\tgbdt\tbinary\tcustom\tTRUE\tTRUE\tFALSE\tTRUE\t-100\t-1\t0\t0.001\t0\t0\t31\t307\t1\t1\t1\tFALSE\t1\t0.1\t50\t0.5\tTRUE\t279551\t0.175086113409268\t0.545572121089727\t974\t23023\t14957\t135787696.651674\t39\n"
     ]
    },
    {
     "name": "stderr",
     "output_type": "stream",
     "text": [
      "[mbo] 23: learning_rate=0.175; feature_fraction=0.546; num_leaves=974; min_data_in_leaf=23023 : y = 1.36e+08 : 396.8 secs : infill_ei\n",
      "\n",
      "Saved the current state after iteration 24 in the file HT8230 (Clase 12, Ajustado Sem4).RDATA.\n",
      "\n"
     ]
    },
    {
     "name": "stdout",
     "output_type": "stream",
     "text": [
      "Validate  40     1270    104352572     106621803    \n",
      "20231106 054402\t601\t976271\tgbdt\tbinary\tcustom\tTRUE\tTRUE\tFALSE\tTRUE\t-100\t-1\t0\t0.001\t0\t0\t31\t844\t1\t1\t1\tFALSE\t1\t0.1\t50\t0.5\tTRUE\t279551\t0.120395961249798\t0.594530224314752\t602\t30781\t14588\t142302590.704648\t40\n"
     ]
    },
    {
     "name": "stderr",
     "output_type": "stream",
     "text": [
      "[mbo] 24: learning_rate=0.12; feature_fraction=0.595; num_leaves=602; min_data_in_leaf=30781 : y = 1.42e+08 : 563.8 secs : infill_ei\n",
      "\n"
     ]
    },
    {
     "name": "stdout",
     "output_type": "stream",
     "text": [
      "Validate  41     1350    105188626     107554710    \n",
      "20231106 055116\t601\t976271\tgbdt\tbinary\tcustom\tTRUE\tTRUE\tFALSE\tTRUE\t-100\t-1\t0\t0.001\t0\t0\t31\t914\t1\t1\t1\tFALSE\t1\t0.1\t50\t0.5\tTRUE\t279551\t0.0885252772786329\t0.765563977442556\t590\t21312\t12644\t145010040.97951\t41\n"
     ]
    },
    {
     "name": "stderr",
     "output_type": "stream",
     "text": [
      "[mbo] 25: learning_rate=0.0885; feature_fraction=0.766; num_leaves=590; min_data_in_leaf=21312 : y = 1.45e+08 : 433.7 secs : infill_ei\n",
      "\n",
      "Saved the current state after iteration 26 in the file HT8230 (Clase 12, Ajustado Sem4).RDATA.\n",
      "\n"
     ]
    },
    {
     "name": "stdout",
     "output_type": "stream",
     "text": [
      "Validate  42     1320    102954408     105533987    \n",
      "20231106 055914\t601\t976271\tgbdt\tbinary\tcustom\tTRUE\tTRUE\tFALSE\tTRUE\t-100\t-1\t0\t0.001\t0\t0\t31\t878\t1\t1\t1\tFALSE\t1\t0.1\t50\t0.5\tTRUE\t279551\t0.0830261585350718\t0.842103160968796\t538\t14502\t11776\t148520843.578211\t42\n"
     ]
    },
    {
     "name": "stderr",
     "output_type": "stream",
     "text": [
      "[mbo] 26: learning_rate=0.083; feature_fraction=0.842; num_leaves=538; min_data_in_leaf=14502 : y = 1.49e+08 : 475.3 secs : infill_ei\n",
      "\n"
     ]
    },
    {
     "name": "stdout",
     "output_type": "stream",
     "text": [
      "Validate  43     810    107373203     108694069    \n",
      "20231106 060346\t601\t976271\tgbdt\tbinary\tcustom\tTRUE\tTRUE\tFALSE\tTRUE\t-100\t-1\t0\t0.001\t0\t0\t31\t367\t1\t1\t1\tFALSE\t1\t0.1\t50\t0.5\tTRUE\t279551\t0.0879417468376846\t0.663237446428854\t495\t16616\t13440\t144668345.827086\t43\n"
     ]
    },
    {
     "name": "stderr",
     "output_type": "stream",
     "text": [
      "[mbo] 27: learning_rate=0.0879; feature_fraction=0.663; num_leaves=495; min_data_in_leaf=16616 : y = 1.45e+08 : 270.7 secs : infill_ei\n",
      "\n",
      "Saved the current state after iteration 28 in the file HT8230 (Clase 12, Ajustado Sem4).RDATA.\n",
      "\n"
     ]
    },
    {
     "name": "stdout",
     "output_type": "stream",
     "text": [
      "Validate  44     1030    107553912     109141261    \n",
      "20231106 060932\t601\t976271\tgbdt\tbinary\tcustom\tTRUE\tTRUE\tFALSE\tTRUE\t-100\t-1\t0\t0.001\t0\t0\t31\t582\t1\t1\t1\tFALSE\t1\t0.1\t50\t0.5\tTRUE\t279551\t0.0774954607347846\t0.904109263200117\t565\t17051\t13639\t146055755.622189\t44\n"
     ]
    },
    {
     "name": "stderr",
     "output_type": "stream",
     "text": [
      "[mbo] 28: learning_rate=0.0775; feature_fraction=0.904; num_leaves=565; min_data_in_leaf=17051 : y = 1.46e+08 : 342.6 secs : infill_ei\n",
      "\n"
     ]
    },
    {
     "name": "stdout",
     "output_type": "stream",
     "text": [
      "Validate  45     1260    105001291     107517065    \n",
      "20231106 061532\t601\t976271\tgbdt\tbinary\tcustom\tTRUE\tTRUE\tFALSE\tTRUE\t-100\t-1\t0\t0.001\t0\t0\t31\t837\t1\t1\t1\tFALSE\t1\t0.1\t50\t0.5\tTRUE\t279551\t0.126257673016084\t0.73303855270578\t786\t36163\t12539\t143609288.855572\t45\n"
     ]
    },
    {
     "name": "stderr",
     "output_type": "stream",
     "text": [
      "[mbo] 29: learning_rate=0.126; feature_fraction=0.733; num_leaves=786; min_data_in_leaf=36163 : y = 1.44e+08 : 360.1 secs : infill_ei\n",
      "\n",
      "Saved the current state after iteration 30 in the file HT8230 (Clase 12, Ajustado Sem4).RDATA.\n",
      "\n"
     ]
    },
    {
     "name": "stdout",
     "output_type": "stream",
     "text": [
      "Validate  46     950    103971812     105302623    \n",
      "20231106 062352\t601\t976271\tgbdt\tbinary\tcustom\tTRUE\tTRUE\tFALSE\tTRUE\t-100\t-1\t0\t0.001\t0\t0\t31\t526\t1\t1\t1\tFALSE\t1\t0.1\t50\t0.5\tTRUE\t279551\t0.147407414288285\t0.964215598433036\t365\t2435\t15373\t130539004.997501\t46\n"
     ]
    },
    {
     "name": "stderr",
     "output_type": "stream",
     "text": [
      "[mbo] 30: learning_rate=0.147; feature_fraction=0.964; num_leaves=365; min_data_in_leaf=2435 : y = 1.31e+08 : 496.1 secs : infill_ei\n",
      "\n"
     ]
    },
    {
     "name": "stdout",
     "output_type": "stream",
     "text": [
      "Validate  47     890    103560550     104430590    \n",
      "20231106 062948\t601\t976271\tgbdt\tbinary\tcustom\tTRUE\tTRUE\tFALSE\tTRUE\t-100\t-1\t0\t0.001\t0\t0\t31\t448\t1\t1\t1\tFALSE\t1\t0.1\t50\t0.5\tTRUE\t279551\t0.0844053711933113\t0.93823979661709\t582\t8951\t12778\t149344884.557721\t47\n"
     ]
    },
    {
     "name": "stderr",
     "output_type": "stream",
     "text": [
      "[mbo] 31: learning_rate=0.0844; feature_fraction=0.938; num_leaves=582; min_data_in_leaf=8951 : y = 1.49e+08 : 356.1 secs : infill_ei\n",
      "\n",
      "Saved the current state after iteration 32 in the file HT8230 (Clase 12, Ajustado Sem4).RDATA.\n",
      "\n"
     ]
    },
    {
     "name": "stdout",
     "output_type": "stream",
     "text": [
      "Validate  48     830    104174840     110021239    \n",
      "20231106 063502\t601\t976271\tgbdt\tbinary\tcustom\tTRUE\tTRUE\tFALSE\tTRUE\t-100\t-1\t0\t0.001\t0\t0\t31\t390\t1\t1\t1\tFALSE\t1\t0.1\t50\t0.5\tTRUE\t279551\t0.0953016926640399\t0.982423937170634\t591\t9783\t11507\t145801404.797601\t48\n"
     ]
    },
    {
     "name": "stderr",
     "output_type": "stream",
     "text": [
      "[mbo] 32: learning_rate=0.0953; feature_fraction=0.982; num_leaves=591; min_data_in_leaf=9783 : y = 1.46e+08 : 310.1 secs : infill_ei\n",
      "\n"
     ]
    },
    {
     "name": "stdout",
     "output_type": "stream",
     "text": [
      "Validate  49     690    98216993     101791471     \n",
      "20231106 063836\t601\t976271\tgbdt\tbinary\tcustom\tTRUE\tTRUE\tFALSE\tTRUE\t-100\t-1\t0\t0.001\t0\t0\t31\t272\t1\t1\t1\tFALSE\t1\t0.1\t50\t0.5\tTRUE\t279551\t0.203010663336213\t0.702928964020194\t650\t24427\t14351\t132366288.355822\t49\n"
     ]
    },
    {
     "name": "stderr",
     "output_type": "stream",
     "text": [
      "[mbo] 33: learning_rate=0.203; feature_fraction=0.703; num_leaves=650; min_data_in_leaf=24427 : y = 1.32e+08 : 213.8 secs : infill_ei\n",
      "\n"
     ]
    },
    {
     "name": "stdout",
     "output_type": "stream",
     "text": [
      "Validate  50     1040    107852589     110466332    \n",
      "20231106 064511\t601\t976271\tgbdt\tbinary\tcustom\tTRUE\tTRUE\tFALSE\tTRUE\t-100\t-1\t0\t0.001\t0\t0\t31\t599\t1\t1\t1\tFALSE\t1\t0.1\t50\t0.5\tTRUE\t279551\t0.0806546843825192\t0.893617794014246\t527\t9364\t12431\t145480671.164418\t50\n"
     ]
    },
    {
     "name": "stderr",
     "output_type": "stream",
     "text": [
      "[mbo] 34: learning_rate=0.0807; feature_fraction=0.894; num_leaves=527; min_data_in_leaf=9364 : y = 1.45e+08 : 394.4 secs : infill_ei\n",
      "\n",
      "Saved the current state after iteration 35 in the file HT8230 (Clase 12, Ajustado Sem4).RDATA.\n",
      "\n"
     ]
    },
    {
     "name": "stdout",
     "output_type": "stream",
     "text": [
      "Validate  51     900    105832293     108393034    \n",
      "20231106 065254\t601\t976271\tgbdt\tbinary\tcustom\tTRUE\tTRUE\tFALSE\tTRUE\t-100\t-1\t0\t0.001\t0\t0\t31\t454\t1\t1\t1\tFALSE\t1\t0.1\t50\t0.5\tTRUE\t279551\t0.0841793995050837\t0.408937461449801\t600\t11078\t13354\t144231645.177411\t51\n"
     ]
    },
    {
     "name": "stderr",
     "output_type": "stream",
     "text": [
      "[mbo] 35: learning_rate=0.0842; feature_fraction=0.409; num_leaves=600; min_data_in_leaf=11078 : y = 1.44e+08 : 459.0 secs : infill_ei\n",
      "\n"
     ]
    },
    {
     "name": "stdout",
     "output_type": "stream",
     "text": [
      "Validate  52     450    104804077     104804077    \n",
      "20231106 065503\t601\t976271\tgbdt\tbinary\tcustom\tTRUE\tTRUE\tFALSE\tTRUE\t-100\t-1\t0\t0.001\t0\t0\t31\t19\t1\t1\t1\tFALSE\t1\t0.1\t50\t0.5\tTRUE\t279551\t0.128136044469929\t0.976894092275991\t649\t35670\t12286\t130948744.627686\t52\n"
     ]
    },
    {
     "name": "stderr",
     "output_type": "stream",
     "text": [
      "[mbo] 36: learning_rate=0.128; feature_fraction=0.977; num_leaves=649; min_data_in_leaf=35670 : y = 1.31e+08 : 129.2 secs : infill_ei\n",
      "\n"
     ]
    },
    {
     "name": "stdout",
     "output_type": "stream",
     "text": [
      "Validate  53     900    104783745     105972972    \n",
      "20231106 070153\t601\t976271\tgbdt\tbinary\tcustom\tTRUE\tTRUE\tFALSE\tTRUE\t-100\t-1\t0\t0.001\t0\t0\t31\t476\t1\t1\t1\tFALSE\t1\t0.1\t50\t0.5\tTRUE\t279551\t0.129352521606642\t0.368872343973641\t602\t33903\t14626\t138659379.310345\t53\n"
     ]
    },
    {
     "name": "stderr",
     "output_type": "stream",
     "text": [
      "[mbo] 37: learning_rate=0.129; feature_fraction=0.369; num_leaves=602; min_data_in_leaf=33903 : y = 1.39e+08 : 409.2 secs : infill_ei\n",
      "\n",
      "Saved the current state after iteration 38 in the file HT8230 (Clase 12, Ajustado Sem4).RDATA.\n",
      "\n"
     ]
    },
    {
     "name": "stdout",
     "output_type": "stream",
     "text": [
      "Validate  54     1140    104925158     109131221    \n",
      "20231106 070830\t601\t976271\tgbdt\tbinary\tcustom\tTRUE\tTRUE\tFALSE\tTRUE\t-100\t-1\t0\t0.001\t0\t0\t31\t698\t1\t1\t1\tFALSE\t1\t0.1\t50\t0.5\tTRUE\t279551\t0.0861704029062277\t0.951252205304634\t569\t14409\t11267\t146161164.917541\t54\n"
     ]
    },
    {
     "name": "stderr",
     "output_type": "stream",
     "text": [
      "[mbo] 38: learning_rate=0.0862; feature_fraction=0.951; num_leaves=569; min_data_in_leaf=14409 : y = 1.46e+08 : 393.6 secs : infill_ei\n",
      "\n"
     ]
    },
    {
     "name": "stdout",
     "output_type": "stream",
     "text": [
      "Validate  55     760    106224675     107010347    \n",
      "20231106 071323\t601\t976271\tgbdt\tbinary\tcustom\tTRUE\tTRUE\tFALSE\tTRUE\t-100\t-1\t0\t0.001\t0\t0\t31\t318\t1\t1\t1\tFALSE\t1\t0.1\t50\t0.5\tTRUE\t279551\t0.0855876705999347\t0.81118801045841\t602\t8529\t12765\t148077303.848076\t55\n"
     ]
    },
    {
     "name": "stderr",
     "output_type": "stream",
     "text": [
      "[mbo] 39: learning_rate=0.0856; feature_fraction=0.811; num_leaves=602; min_data_in_leaf=8529 : y = 1.48e+08 : 293.0 secs : infill_ei\n",
      "\n",
      "Saved the current state after iteration 40 in the file HT8230 (Clase 12, Ajustado Sem4).RDATA.\n",
      "\n"
     ]
    },
    {
     "name": "stdout",
     "output_type": "stream",
     "text": [
      "Validate  56     1050    108170447     109326045    \n",
      "20231106 071907\t601\t976271\tgbdt\tbinary\tcustom\tTRUE\tTRUE\tFALSE\tTRUE\t-100\t-1\t0\t0.001\t0\t0\t31\t611\t1\t1\t1\tFALSE\t1\t0.1\t50\t0.5\tTRUE\t279551\t0.0822883420308944\t0.823485110972125\t508\t20276\t11673\t148438365.317341\t56\n"
     ]
    },
    {
     "name": "stderr",
     "output_type": "stream",
     "text": [
      "[mbo] 40: learning_rate=0.0823; feature_fraction=0.823; num_leaves=508; min_data_in_leaf=20276 : y = 1.48e+08 : 339.9 secs : infill_ei\n",
      "\n"
     ]
    },
    {
     "name": "stdout",
     "output_type": "stream",
     "text": [
      "Validate  57     1120    105810275     107619105    \n",
      "20231106 072449\t601\t976271\tgbdt\tbinary\tcustom\tTRUE\tTRUE\tFALSE\tTRUE\t-100\t-1\t0\t0.001\t0\t0\t31\t673\t1\t1\t1\tFALSE\t1\t0.1\t50\t0.5\tTRUE\t279551\t0.0830701115986078\t0.88410232141347\t532\t26593\t12792\t147995070.464768\t57\n"
     ]
    },
    {
     "name": "stderr",
     "output_type": "stream",
     "text": [
      "[mbo] 41: learning_rate=0.0831; feature_fraction=0.884; num_leaves=532; min_data_in_leaf=26593 : y = 1.48e+08 : 341.2 secs : infill_ei\n",
      "\n",
      "Saved the current state after iteration 42 in the file HT8230 (Clase 12, Ajustado Sem4).RDATA.\n",
      "\n"
     ]
    },
    {
     "name": "stdout",
     "output_type": "stream",
     "text": [
      "Validate  58     970    106658647     109018168    \n",
      "20231106 072938\t601\t976271\tgbdt\tbinary\tcustom\tTRUE\tTRUE\tFALSE\tTRUE\t-100\t-1\t0\t0.001\t0\t0\t31\t532\t1\t1\t1\tFALSE\t1\t0.1\t50\t0.5\tTRUE\t279551\t0.0948090823163468\t0.811884216798419\t532\t31635\t12463\t146498270.364818\t58\n"
     ]
    },
    {
     "name": "stderr",
     "output_type": "stream",
     "text": [
      "[mbo] 42: learning_rate=0.0948; feature_fraction=0.812; num_leaves=532; min_data_in_leaf=31635 : y = 1.46e+08 : 286.3 secs : infill_ei\n",
      "\n"
     ]
    },
    {
     "name": "stdout",
     "output_type": "stream",
     "text": [
      "Validate  59     950    105350840     106935138    \n",
      "20231106 073544\t601\t976271\tgbdt\tbinary\tcustom\tTRUE\tTRUE\tFALSE\tTRUE\t-100\t-1\t0\t0.001\t0\t0\t31\t509\t1\t1\t1\tFALSE\t1\t0.1\t50\t0.5\tTRUE\t279551\t0.0829205528317557\t0.961116508168725\t635\t8970\t12021\t147169241.87906\t59\n"
     ]
    },
    {
     "name": "stderr",
     "output_type": "stream",
     "text": [
      "[mbo] 43: learning_rate=0.0829; feature_fraction=0.961; num_leaves=635; min_data_in_leaf=8970 : y = 1.47e+08 : 364.8 secs : infill_ei\n",
      "\n",
      "Saved the current state after iteration 44 in the file HT8230 (Clase 12, Ajustado Sem4).RDATA.\n",
      "\n"
     ]
    },
    {
     "name": "stdout",
     "output_type": "stream",
     "text": [
      "Validate  60     1040    103137605     106309402    \n",
      "20231106 074122\t601\t976271\tgbdt\tbinary\tcustom\tTRUE\tTRUE\tFALSE\tTRUE\t-100\t-1\t0\t0.001\t0\t0\t31\t603\t1\t1\t1\tFALSE\t1\t0.1\t50\t0.5\tTRUE\t279551\t0.093841079267616\t0.887131243210528\t516\t23878\t11664\t149941245.377311\t60\n"
     ]
    },
    {
     "name": "stderr",
     "output_type": "stream",
     "text": [
      "[mbo] 44: learning_rate=0.0938; feature_fraction=0.887; num_leaves=516; min_data_in_leaf=23878 : y = 1.5e+08 : 334.7 secs : infill_ei\n",
      "\n"
     ]
    },
    {
     "name": "stdout",
     "output_type": "stream",
     "text": [
      "Validate  61     880    106591127     109144280    \n",
      "20231106 074559\t601\t976271\tgbdt\tbinary\tcustom\tTRUE\tTRUE\tFALSE\tTRUE\t-100\t-1\t0\t0.001\t0\t0\t31\t440\t1\t1\t1\tFALSE\t1\t0.1\t50\t0.5\tTRUE\t279551\t0.089757617519081\t0.910899803238338\t386\t24102\t11697\t144937091.954023\t61\n"
     ]
    },
    {
     "name": "stderr",
     "output_type": "stream",
     "text": [
      "[mbo] 45: learning_rate=0.0898; feature_fraction=0.911; num_leaves=386; min_data_in_leaf=24102 : y = 1.45e+08 : 276.3 secs : infill_ei\n",
      "\n",
      "Saved the current state after iteration 46 in the file HT8230 (Clase 12, Ajustado Sem4).RDATA.\n",
      "\n"
     ]
    },
    {
     "name": "stdout",
     "output_type": "stream",
     "text": [
      "Validate  62     1020    104987368     106762373    \n",
      "20231106 075123\t601\t976271\tgbdt\tbinary\tcustom\tTRUE\tTRUE\tFALSE\tTRUE\t-100\t-1\t0\t0.001\t0\t0\t31\t587\t1\t1\t1\tFALSE\t1\t0.1\t50\t0.5\tTRUE\t279551\t0.0993792504389174\t0.882012447859136\t564\t25908\t12525\t147509187.906047\t62\n"
     ]
    },
    {
     "name": "stderr",
     "output_type": "stream",
     "text": [
      "[mbo] 46: learning_rate=0.0994; feature_fraction=0.882; num_leaves=564; min_data_in_leaf=25908 : y = 1.48e+08 : 320.3 secs : infill_ei\n",
      "\n"
     ]
    },
    {
     "name": "stdout",
     "output_type": "stream",
     "text": [
      "Validate  63     1310    108542434     110385288    \n",
      "20231106 075816\t601\t976271\tgbdt\tbinary\tcustom\tTRUE\tTRUE\tFALSE\tTRUE\t-100\t-1\t0\t0.001\t0\t0\t31\t872\t1\t1\t1\tFALSE\t1\t0.1\t50\t0.5\tTRUE\t279551\t0.088543547872071\t0.917785458719174\t486\t23711\t11181\t144758947.026487\t63\n"
     ]
    },
    {
     "name": "stderr",
     "output_type": "stream",
     "text": [
      "[mbo] 47: learning_rate=0.0885; feature_fraction=0.918; num_leaves=486; min_data_in_leaf=23711 : y = 1.45e+08 : 412.6 secs : infill_ei\n",
      "\n",
      "Saved the current state after iteration 48 in the file HT8230 (Clase 12, Ajustado Sem4).RDATA.\n",
      "\n"
     ]
    },
    {
     "name": "stdout",
     "output_type": "stream",
     "text": [
      "Validate  64     1030    105850155     109268538    \n",
      "20231106 080353\t601\t976271\tgbdt\tbinary\tcustom\tTRUE\tTRUE\tFALSE\tTRUE\t-100\t-1\t0\t0.001\t0\t0\t31\t589\t1\t1\t1\tFALSE\t1\t0.1\t50\t0.5\tTRUE\t279551\t0.0954227400669612\t0.848021386742651\t529\t19638\t10881\t149431560.71964\t64\n"
     ]
    },
    {
     "name": "stderr",
     "output_type": "stream",
     "text": [
      "[mbo] 48: learning_rate=0.0954; feature_fraction=0.848; num_leaves=529; min_data_in_leaf=19638 : y = 1.49e+08 : 333.1 secs : infill_ei\n",
      "\n"
     ]
    },
    {
     "name": "stdout",
     "output_type": "stream",
     "text": [
      "Validate  65     1210    103861463     106882941    \n",
      "20231106 081011\t601\t976271\tgbdt\tbinary\tcustom\tTRUE\tTRUE\tFALSE\tTRUE\t-100\t-1\t0\t0.001\t0\t0\t31\t772\t1\t1\t1\tFALSE\t1\t0.1\t50\t0.5\tTRUE\t279551\t0.0955855804127811\t0.777831395655094\t442\t23599\t11841\t147071500.749625\t65\n"
     ]
    },
    {
     "name": "stderr",
     "output_type": "stream",
     "text": [
      "[mbo] 49: learning_rate=0.0956; feature_fraction=0.778; num_leaves=442; min_data_in_leaf=23599 : y = 1.47e+08 : 378.2 secs : infill_ei\n",
      "\n",
      "Saved the current state after iteration 50 in the file HT8230 (Clase 12, Ajustado Sem4).RDATA.\n",
      "\n"
     ]
    },
    {
     "name": "stdout",
     "output_type": "stream",
     "text": [
      "Validate  66     460    103124143     104067594    \n",
      "20231106 081241\t601\t976271\tgbdt\tbinary\tcustom\tTRUE\tTRUE\tFALSE\tTRUE\t-100\t-1\t0\t0.001\t0\t0\t31\t19\t1\t1\t1\tFALSE\t1\t0.1\t50\t0.5\tTRUE\t279551\t0.0959601246475657\t0.777440868028863\t524\t23947\t12171\t131843159.92004\t66\n"
     ]
    },
    {
     "name": "stderr",
     "output_type": "stream",
     "text": [
      "[mbo] 50: learning_rate=0.096; feature_fraction=0.777; num_leaves=524; min_data_in_leaf=23947 : y = 1.32e+08 : 145.5 secs : infill_ei\n",
      "\n",
      "Saved the final state in the file HT8230 (Clase 12, Ajustado Sem4).RDATA\n",
      "\n"
     ]
    },
    {
     "name": "stdout",
     "output_type": "stream",
     "text": [
      "\n",
      "\n",
      "La optimizacion Bayesiana ha terminado\n"
     ]
    }
   ],
   "source": [
    "# inicio la optimizacion bayesiana\n",
    "if (!file.exists(kbayesiana)) {\n",
    "  run <- mbo(obj.fun, learner = surr.km, control = ctrl)\n",
    "} else {\n",
    "  run <- mboContinue(kbayesiana) # retomo en caso que ya exista\n",
    "}\n",
    "\n",
    "\n",
    "cat(\"\\n\\nLa optimizacion Bayesiana ha terminado\\n\")\n"
   ]
  },
  {
   "cell_type": "markdown",
   "metadata": {},
   "source": [
    "# Semilla 5, ajustado"
   ]
  },
  {
   "cell_type": "code",
   "execution_count": 194,
   "metadata": {
    "vscode": {
     "languageId": "r"
    }
   },
   "outputs": [
    {
     "data": {
      "text/html": [
       "<table class=\"dataframe\">\n",
       "<caption>A matrix: 2 × 6 of type dbl</caption>\n",
       "<thead>\n",
       "\t<tr><th></th><th scope=col>used</th><th scope=col>(Mb)</th><th scope=col>gc trigger</th><th scope=col>(Mb)</th><th scope=col>max used</th><th scope=col>(Mb)</th></tr>\n",
       "</thead>\n",
       "<tbody>\n",
       "\t<tr><th scope=row>Ncells</th><td>  2539104</td><td> 135.7</td><td>   8200218</td><td>  438.0</td><td>  22909774</td><td> 1223.6</td></tr>\n",
       "\t<tr><th scope=row>Vcells</th><td>709212666</td><td>5410.9</td><td>2038343897</td><td>15551.4</td><td>6843588264</td><td>52212.5</td></tr>\n",
       "</tbody>\n",
       "</table>\n"
      ],
      "text/latex": [
       "A matrix: 2 × 6 of type dbl\n",
       "\\begin{tabular}{r|llllll}\n",
       "  & used & (Mb) & gc trigger & (Mb) & max used & (Mb)\\\\\n",
       "\\hline\n",
       "\tNcells &   2539104 &  135.7 &    8200218 &   438.0 &   22909774 &  1223.6\\\\\n",
       "\tVcells & 709212666 & 5410.9 & 2038343897 & 15551.4 & 6843588264 & 52212.5\\\\\n",
       "\\end{tabular}\n"
      ],
      "text/markdown": [
       "\n",
       "A matrix: 2 × 6 of type dbl\n",
       "\n",
       "| <!--/--> | used | (Mb) | gc trigger | (Mb) | max used | (Mb) |\n",
       "|---|---|---|---|---|---|---|\n",
       "| Ncells |   2539104 |  135.7 |    8200218 |   438.0 |   22909774 |  1223.6 |\n",
       "| Vcells | 709212666 | 5410.9 | 2038343897 | 15551.4 | 6843588264 | 52212.5 |\n",
       "\n"
      ],
      "text/plain": [
       "       used      (Mb)   gc trigger (Mb)    max used   (Mb)   \n",
       "Ncells   2539104  135.7    8200218   438.0   22909774  1223.6\n",
       "Vcells 709212666 5410.9 2038343897 15551.4 6843588264 52212.5"
      ]
     },
     "metadata": {},
     "output_type": "display_data"
    }
   ],
   "source": [
    "# limpio la memoria\n",
    "rm(list = ls()) # remove all objects\n",
    "gc() # garbage collection"
   ]
  },
  {
   "cell_type": "code",
   "execution_count": 195,
   "metadata": {
    "vscode": {
     "languageId": "r"
    }
   },
   "outputs": [],
   "source": [
    "require(\"data.table\")\n",
    "require(\"rlist\")\n",
    "require(\"lightgbm\")"
   ]
  },
  {
   "cell_type": "code",
   "execution_count": 196,
   "metadata": {
    "vscode": {
     "languageId": "r"
    }
   },
   "outputs": [],
   "source": [
    "# paquetes necesarios para la Bayesian Optimization\n",
    "require(\"DiceKriging\")\n",
    "require(\"mlrMBO\")\n",
    "\n",
    "# para que se detenga ante el primer error\n",
    "# y muestre el stack de funciones invocadas\n",
    "options(error = function() {\n",
    "  traceback(20)\n",
    "  options(error = NULL)\n",
    "  stop(\"exiting after script error\")\n",
    "})"
   ]
  },
  {
   "cell_type": "markdown",
   "metadata": {},
   "source": [
    "## Definición de Parametros"
   ]
  },
  {
   "cell_type": "code",
   "execution_count": 197,
   "metadata": {
    "vscode": {
     "languageId": "r"
    }
   },
   "outputs": [],
   "source": [
    "# defino los parametros de la corrida, en una lista, la variable global  PARAM\n",
    "#  muy pronto esto se leera desde un archivo formato .yaml\n",
    "PARAM <- list()\n",
    "\n",
    "PARAM$experimento <- \"HT8230 (Clase 12, Ajustado Sem5)\"\n",
    "\n",
    "PARAM$input$dataset <- \"datasets/competencia_03_infla_ajustado_lags.csv.gz\"\n",
    "\n",
    "# los meses en los que vamos a entrenar\n",
    "#  mucha magia emerger de esta eleccion\n",
    "PARAM$input$testing <- c(202107) # Último mes, lo más cercano al 202109 de kaggle\n",
    "PARAM$input$validation <- c(202106)\n",
    "PARAM$input$training <- c(202105, 202104, 202103, 202102, 202101,202012) # 6 meses de entrenamiento\t\n",
    "\n",
    "# un undersampling de 0.1  toma solo el 10% de los CONTINUA\n",
    "PARAM$trainingstrategy$undersampling <- 1.0\n",
    "PARAM$trainingstrategy$semilla_azar <- c(279511, 279523, 279541, 279551, 279571)  # Aqui poner su  primer  semilla/ pongo todas mis semillas\n",
    "\n",
    "PARAM$hyperparametertuning$POS_ganancia <- 273000\n",
    "PARAM$hyperparametertuning$NEG_ganancia <- -7000\n",
    "\n",
    "# Aqui va semilla\n",
    "PARAM$lgb_semilla <- 279571"
   ]
  },
  {
   "cell_type": "code",
   "execution_count": 198,
   "metadata": {
    "vscode": {
     "languageId": "r"
    }
   },
   "outputs": [],
   "source": [
    "# Hiperparametros FIJOS de  lightgbm\n",
    "PARAM$lgb_basicos <- list(\n",
    "  boosting = \"gbdt\", # puede ir  dart  , ni pruebe random_forest\n",
    "  objective = \"binary\",\n",
    "  metric = \"custom\",\n",
    "  first_metric_only = TRUE,\n",
    "  boost_from_average = TRUE,\n",
    "  feature_pre_filter = FALSE,\n",
    "  force_row_wise = TRUE, # para reducir warnings\n",
    "  verbosity = -100,\n",
    "  max_depth = -1L, # -1 significa no limitar,  por ahora lo dejo fijo\n",
    "  min_gain_to_split = 0.0, # min_gain_to_split >= 0.0\n",
    "  min_sum_hessian_in_leaf = 0.001, #  min_sum_hessian_in_leaf >= 0.0\n",
    "  lambda_l1 = 0.0, # lambda_l1 >= 0.0\n",
    "  lambda_l2 = 0.0, # lambda_l2 >= 0.0\n",
    "  max_bin = 31L, # lo debo dejar fijo, no participa de la BO\n",
    "  num_iterations = 9999, # un numero muy grande, lo limita early_stopping_rounds\n",
    "\n",
    "  bagging_fraction = 1.0, # 0.0 < bagging_fraction <= 1.0\n",
    "  pos_bagging_fraction = 1.0, # 0.0 < pos_bagging_fraction <= 1.0\n",
    "  neg_bagging_fraction = 1.0, # 0.0 < neg_bagging_fraction <= 1.0\n",
    "  is_unbalance = FALSE, #\n",
    "  scale_pos_weight = 1.0, # scale_pos_weight > 0.0\n",
    "\n",
    "  drop_rate = 0.1, # 0.0 < neg_bagging_fraction <= 1.0\n",
    "  max_drop = 50, # <=0 means no limit\n",
    "  skip_drop = 0.5, # 0.0 <= skip_drop <= 1.0\n",
    "\n",
    "  extra_trees = TRUE, # Magic Sauce\n",
    "\n",
    "  seed = PARAM$lgb_semilla\n",
    ")"
   ]
  },
  {
   "cell_type": "code",
   "execution_count": 199,
   "metadata": {
    "vscode": {
     "languageId": "r"
    }
   },
   "outputs": [],
   "source": [
    "# Aqui se cargan los hiperparametros que se optimizan\n",
    "#  en la Bayesian Optimization\n",
    "PARAM$bo_lgb <- makeParamSet(\n",
    "  makeNumericParam(\"learning_rate\", lower = 0.02, upper = 0.3),\n",
    "  makeNumericParam(\"feature_fraction\", lower = 0.01, upper = 1.0),\n",
    "  makeIntegerParam(\"num_leaves\", lower = 8L, upper = 1024L),\n",
    "  makeIntegerParam(\"min_data_in_leaf\", lower = 100L, upper = 50000L)\n",
    ")\n",
    "\n",
    "# si usted es ambicioso, y tiene paciencia, podria subir este valor a 100\n",
    "PARAM$bo_iteraciones <- 50 # iteraciones de la Optimizacion Bayesiana"
   ]
  },
  {
   "cell_type": "code",
   "execution_count": 200,
   "metadata": {
    "vscode": {
     "languageId": "r"
    }
   },
   "outputs": [],
   "source": [
    "# graba a un archivo los componentes de lista\n",
    "# para el primer registro, escribe antes los titulos\n",
    "\n",
    "loguear <- function(\n",
    "    reg, arch = NA, folder = \"./exp/\",\n",
    "    ext = \".txt\", verbose = TRUE) {\n",
    "  archivo <- arch\n",
    "  if (is.na(arch)) archivo <- paste0(folder, substitute(reg), ext)\n",
    "\n",
    "  if (!file.exists(archivo)) # Escribo los titulos\n",
    "    {\n",
    "      linea <- paste0(\n",
    "        \"fecha\\t\",\n",
    "        paste(list.names(reg), collapse = \"\\t\"), \"\\n\"\n",
    "      )\n",
    "\n",
    "      cat(linea, file = archivo)\n",
    "    }\n",
    "\n",
    "  linea <- paste0(\n",
    "    format(Sys.time(), \"%Y%m%d %H%M%S\"), \"\\t\", # la fecha y hora\n",
    "    gsub(\", \", \"\\t\", toString(reg)), \"\\n\"\n",
    "  )\n",
    "\n",
    "  cat(linea, file = archivo, append = TRUE) # grabo al archivo\n",
    "\n",
    "  if (verbose) cat(linea) # imprimo por pantalla\n",
    "}"
   ]
  },
  {
   "cell_type": "code",
   "execution_count": 201,
   "metadata": {
    "vscode": {
     "languageId": "r"
    }
   },
   "outputs": [],
   "source": [
    "#------------------------------------------------------------------------------\n",
    "GLOBAL_arbol <- 0L\n",
    "GLOBAL_gan_max <- -Inf\n",
    "vcant_optima <- c()\n",
    "\n",
    "fganancia_lgbm_meseta <- function(probs, datos) {\n",
    "  vlabels <- get_field(datos, \"label\")\n",
    "  vpesos <- get_field(datos, \"weight\")\n",
    "\n",
    "\n",
    "  GLOBAL_arbol <<- GLOBAL_arbol + 1\n",
    "  tbl <- as.data.table(list(\n",
    "    \"prob\" = probs,\n",
    "    \"gan\" = ifelse(vlabels == 1 & vpesos > 1,\n",
    "      PARAM$hyperparametertuning$POS_ganancia,\n",
    "      PARAM$hyperparametertuning$NEG_ganancia  )\n",
    "  ))\n",
    "\n",
    "  setorder(tbl, -prob)\n",
    "  tbl[, posicion := .I]\n",
    "  tbl[, gan_acum := cumsum(gan)]\n",
    "\n",
    "  tbl[, gan_suavizada :=\n",
    "    frollmean(\n",
    "      x = gan_acum, n = 2001, align = \"center\",\n",
    "      na.rm = TRUE, hasNA = TRUE\n",
    "    )]\n",
    "\n",
    "  gan <- tbl[, max(gan_suavizada, na.rm = TRUE)]\n",
    "\n",
    "\n",
    "  pos <- which.max(tbl[, gan_suavizada])\n",
    "  vcant_optima <<- c(vcant_optima, pos)\n",
    "\n",
    "  if (GLOBAL_arbol %% 10 == 0) {\n",
    "    if (gan > GLOBAL_gan_max) GLOBAL_gan_max <<- gan\n",
    "\n",
    "    cat(\"\\r\")\n",
    "    cat(\n",
    "      \"Validate \", GLOBAL_iteracion, \" \", \" \",\n",
    "      GLOBAL_arbol, \"  \", gan, \"   \", GLOBAL_gan_max, \"   \"\n",
    "    )\n",
    "  }\n",
    "\n",
    "\n",
    "  return(list(\n",
    "    \"name\" = \"ganancia\",\n",
    "    \"value\" = gan,\n",
    "    \"higher_better\" = TRUE\n",
    "  ))\n",
    "}"
   ]
  },
  {
   "cell_type": "code",
   "execution_count": 202,
   "metadata": {
    "vscode": {
     "languageId": "r"
    }
   },
   "outputs": [],
   "source": [
    "#------------------------------------------------------------------------------\n",
    "\n",
    "EstimarGanancia_lightgbm <- function(x) {\n",
    "  gc()\n",
    "  GLOBAL_iteracion <<- GLOBAL_iteracion + 1L\n",
    "\n",
    "  # hago la union de los parametros basicos y los moviles que vienen en x\n",
    "  param_completo <- c(PARAM$lgb_basicos, x)\n",
    "\n",
    "  param_completo$early_stopping_rounds <-\n",
    "    as.integer(400 + 4 / param_completo$learning_rate)\n",
    "\n",
    "  GLOBAL_arbol <<- 0L\n",
    "  GLOBAL_gan_max <<- -Inf\n",
    "  vcant_optima <<- c()\n",
    "  set.seed(PARAM$lgb_semilla, kind = \"L'Ecuyer-CMRG\")\n",
    "  modelo_train <- lgb.train(\n",
    "    data = dtrain,\n",
    "    valids = list(valid = dvalidate),\n",
    "    eval = fganancia_lgbm_meseta,\n",
    "    param = param_completo,\n",
    "    verbose = -100\n",
    "  )\n",
    "\n",
    "  cat(\"\\n\")\n",
    "\n",
    "  cant_corte <- vcant_optima[modelo_train$best_iter]\n",
    "\n",
    "  # aplico el modelo a testing y calculo la ganancia\n",
    "  prediccion <- predict(\n",
    "    modelo_train,\n",
    "    data.matrix(dataset_test[, campos_buenos, with = FALSE])\n",
    "  )\n",
    "\n",
    "  tbl <- copy(dataset_test[, list(\"gan\" = ifelse(clase_ternaria == \"BAJA+2\",\n",
    "    PARAM$hyperparametertuning$POS_ganancia, \n",
    "    PARAM$hyperparametertuning$NEG_ganancia))])\n",
    "\n",
    "  tbl[, prob := prediccion]\n",
    "  setorder(tbl, -prob)\n",
    "  tbl[, gan_acum := cumsum(gan)]\n",
    "  tbl[, gan_suavizada := frollmean(\n",
    "    x = gan_acum, n = 2001,\n",
    "    align = \"center\", na.rm = TRUE, hasNA = TRUE\n",
    "  )]\n",
    "\n",
    "\n",
    "  ganancia_test <- tbl[, max(gan_suavizada, na.rm = TRUE)]\n",
    "\n",
    "  cantidad_test_normalizada <- which.max(tbl[, gan_suavizada])\n",
    "\n",
    "  rm(tbl)\n",
    "  gc()\n",
    "\n",
    "  ganancia_test_normalizada <- ganancia_test\n",
    "\n",
    "\n",
    "  # voy grabando las mejores column importance\n",
    "  if (ganancia_test_normalizada > GLOBAL_gananciamax) {\n",
    "    GLOBAL_gananciamax <<- ganancia_test_normalizada\n",
    "    tb_importancia <- as.data.table(lgb.importance(modelo_train))\n",
    "\n",
    "    fwrite(tb_importancia,\n",
    "      file = paste0(\"impo_\", sprintf(\"%03d\", GLOBAL_iteracion), \".txt\"),\n",
    "      sep = \"\\t\"\n",
    "    )\n",
    "\n",
    "    rm(tb_importancia)\n",
    "  }\n",
    "\n",
    "\n",
    "  # logueo final\n",
    "  ds <- list(\"cols\" = ncol(dtrain), \"rows\" = nrow(dtrain))\n",
    "  xx <- c(ds, copy(param_completo))\n",
    "\n",
    "  xx$early_stopping_rounds <- NULL\n",
    "  xx$num_iterations <- modelo_train$best_iter\n",
    "  xx$estimulos <- cantidad_test_normalizada\n",
    "  xx$ganancia <- ganancia_test_normalizada\n",
    "  xx$iteracion_bayesiana <- GLOBAL_iteracion\n",
    "\n",
    "  loguear(xx, arch = \"BO_log.txt\")\n",
    "\n",
    "  set.seed(PARAM$lgb_semilla, kind = \"L'Ecuyer-CMRG\")\n",
    "  return(ganancia_test_normalizada)\n",
    "}"
   ]
  },
  {
   "cell_type": "markdown",
   "metadata": {},
   "source": [
    "## Aquí empieza el programa"
   ]
  },
  {
   "cell_type": "code",
   "execution_count": 203,
   "metadata": {
    "vscode": {
     "languageId": "r"
    }
   },
   "outputs": [],
   "source": [
    "# Aqui empieza el programa\n",
    "\n",
    "# Aqui se debe poner la carpeta de la computadora local\n",
    "setwd(\"~/buckets/b1/\") # Establezco el Working Directory\n",
    "\n",
    "# cargo el dataset donde voy a entrenar el modelo\n",
    "dataset <- fread(PARAM$input$dataset)"
   ]
  },
  {
   "cell_type": "code",
   "execution_count": 204,
   "metadata": {
    "vscode": {
     "languageId": "r"
    }
   },
   "outputs": [],
   "source": [
    "# creo la carpeta donde va el experimento\n",
    "dir.create(\"./exp/\", showWarnings = FALSE)\n",
    "dir.create(paste0(\"./exp/\", PARAM$experimento, \"/\"), showWarnings = FALSE)\n",
    "\n",
    "# Establezco el Working Directory DEL EXPERIMENTO\n",
    "setwd(paste0(\"./exp/\", PARAM$experimento, \"/\"))\n",
    "\n",
    "# en estos archivos quedan los resultados\n",
    "kbayesiana <- paste0(PARAM$experimento, \".RDATA\")\n",
    "klog <- paste0(PARAM$experimento, \".txt\")\n"
   ]
  },
  {
   "cell_type": "code",
   "execution_count": 205,
   "metadata": {
    "vscode": {
     "languageId": "r"
    }
   },
   "outputs": [],
   "source": [
    "# Catastrophe Analysis  -------------------------------------------------------\n",
    "# deben ir cosas de este estilo\n",
    "#   dataset[foto_mes == 202006, active_quarter := NA]\n",
    "\n",
    "# Data Drifting\n",
    "# por ahora, no hago nada\n",
    "\n",
    "\n",
    "# Feature Engineering Historico  ----------------------------------------------\n",
    "#   aqui deben calcularse los  lags y  lag_delta\n",
    "#   Sin lags no hay paraiso !  corta la bocha"
   ]
  },
  {
   "cell_type": "code",
   "execution_count": null,
   "metadata": {
    "vscode": {
     "languageId": "r"
    }
   },
   "outputs": [],
   "source": []
  },
  {
   "cell_type": "code",
   "execution_count": 206,
   "metadata": {
    "vscode": {
     "languageId": "r"
    }
   },
   "outputs": [],
   "source": [
    "# ahora SI comienza la optimizacion Bayesiana\n",
    "\n",
    "GLOBAL_iteracion <- 0 # inicializo la variable global\n",
    "GLOBAL_gananciamax <- -1 # inicializo la variable global\n",
    "\n",
    "# si ya existe el archivo log, traigo hasta donde llegue\n",
    "if (file.exists(klog)) {\n",
    "  tabla_log <- fread(klog)\n",
    "  GLOBAL_iteracion <- nrow(tabla_log)\n",
    "  GLOBAL_gananciamax <- tabla_log[, max(ganancia)]\n",
    "}\n"
   ]
  },
  {
   "cell_type": "code",
   "execution_count": 207,
   "metadata": {
    "vscode": {
     "languageId": "r"
    }
   },
   "outputs": [],
   "source": [
    "# paso la clase a binaria que tome valores {0,1}  enteros\n",
    "dataset[, clase01 := ifelse(clase_ternaria == \"CONTINUA\", 0L, 1L)]\n",
    "\n",
    "\n",
    "# los campos que se van a utilizar\n",
    "campos_buenos <- setdiff(\n",
    "  colnames(dataset),\n",
    "  c(\"clase_ternaria\", \"clase01\", \"azar\", \"training\")\n",
    ")"
   ]
  },
  {
   "cell_type": "code",
   "execution_count": 208,
   "metadata": {
    "vscode": {
     "languageId": "r"
    }
   },
   "outputs": [],
   "source": [
    "# defino los datos que forma parte del training\n",
    "# aqui se hace el undersampling de los CONTINUA\n",
    "set.seed(PARAM$trainingstrategy$semilla_azar)\n",
    "dataset[, azar := runif(nrow(dataset))]\n",
    "dataset[, training := 0L]\n",
    "dataset[\n",
    "  foto_mes %in% PARAM$input$training &\n",
    "    (azar <= PARAM$trainingstrategy$undersampling | clase_ternaria %in% c(\"BAJA+1\", \"BAJA+2\")),\n",
    "  training := 1L\n",
    "]"
   ]
  },
  {
   "cell_type": "code",
   "execution_count": 209,
   "metadata": {
    "vscode": {
     "languageId": "r"
    }
   },
   "outputs": [],
   "source": [
    "# dejo los datos en el formato que necesita LightGBM\n",
    "dtrain <- lgb.Dataset(\n",
    "  data = data.matrix(dataset[training == 1L, campos_buenos, with = FALSE]),\n",
    "  label = dataset[training == 1L, clase01],\n",
    "  weight = dataset[training == 1L, \n",
    "    ifelse(clase_ternaria == \"BAJA+2\", 1.0000001, \n",
    "      ifelse(clase_ternaria == \"BAJA+1\", 1.0, 1.0))],\n",
    "  free_raw_data = FALSE\n",
    ")"
   ]
  },
  {
   "cell_type": "code",
   "execution_count": 210,
   "metadata": {
    "vscode": {
     "languageId": "r"
    }
   },
   "outputs": [],
   "source": [
    "# defino los datos que forman parte de validation\n",
    "#  no hay undersampling\n",
    "dataset[, validation := 0L]\n",
    "dataset[ foto_mes %in% PARAM$input$validation,  validation := 1L]\n",
    "\n",
    "dvalidate <- lgb.Dataset(\n",
    "  data = data.matrix(dataset[validation == 1L, campos_buenos, with = FALSE]),\n",
    "  label = dataset[validation == 1L, clase01],\n",
    "  weight = dataset[validation == 1L, \n",
    "    ifelse(clase_ternaria == \"BAJA+2\", 1.0000001, \n",
    "      ifelse(clase_ternaria == \"BAJA+1\", 1.0, 1.0))],\n",
    "  free_raw_data = FALSE\n",
    ")"
   ]
  },
  {
   "cell_type": "code",
   "execution_count": 211,
   "metadata": {
    "vscode": {
     "languageId": "r"
    }
   },
   "outputs": [],
   "source": [
    "# defino los datos de testing\n",
    "dataset[, testing := 0L]\n",
    "dataset[ foto_mes %in% PARAM$input$testing,  testing := 1L]\n",
    "\n",
    "\n",
    "dataset_test <- dataset[testing == 1, ]"
   ]
  },
  {
   "cell_type": "code",
   "execution_count": 212,
   "metadata": {
    "vscode": {
     "languageId": "r"
    }
   },
   "outputs": [
    {
     "data": {
      "text/html": [
       "<table class=\"dataframe\">\n",
       "<caption>A matrix: 2 × 6 of type dbl</caption>\n",
       "<thead>\n",
       "\t<tr><th></th><th scope=col>used</th><th scope=col>(Mb)</th><th scope=col>gc trigger</th><th scope=col>(Mb)</th><th scope=col>max used</th><th scope=col>(Mb)</th></tr>\n",
       "</thead>\n",
       "<tbody>\n",
       "\t<tr><th scope=row>Ncells</th><td>  2540198</td><td> 135.7</td><td>   8200218</td><td>  438.0</td><td>  22909774</td><td> 1223.6</td></tr>\n",
       "\t<tr><th scope=row>Vcells</th><td>782670266</td><td>5971.4</td><td>2830269455</td><td>21593.3</td><td>6843588264</td><td>52212.5</td></tr>\n",
       "</tbody>\n",
       "</table>\n"
      ],
      "text/latex": [
       "A matrix: 2 × 6 of type dbl\n",
       "\\begin{tabular}{r|llllll}\n",
       "  & used & (Mb) & gc trigger & (Mb) & max used & (Mb)\\\\\n",
       "\\hline\n",
       "\tNcells &   2540198 &  135.7 &    8200218 &   438.0 &   22909774 &  1223.6\\\\\n",
       "\tVcells & 782670266 & 5971.4 & 2830269455 & 21593.3 & 6843588264 & 52212.5\\\\\n",
       "\\end{tabular}\n"
      ],
      "text/markdown": [
       "\n",
       "A matrix: 2 × 6 of type dbl\n",
       "\n",
       "| <!--/--> | used | (Mb) | gc trigger | (Mb) | max used | (Mb) |\n",
       "|---|---|---|---|---|---|---|\n",
       "| Ncells |   2540198 |  135.7 |    8200218 |   438.0 |   22909774 |  1223.6 |\n",
       "| Vcells | 782670266 | 5971.4 | 2830269455 | 21593.3 | 6843588264 | 52212.5 |\n",
       "\n"
      ],
      "text/plain": [
       "       used      (Mb)   gc trigger (Mb)    max used   (Mb)   \n",
       "Ncells   2540198  135.7    8200218   438.0   22909774  1223.6\n",
       "Vcells 782670266 5971.4 2830269455 21593.3 6843588264 52212.5"
      ]
     },
     "metadata": {},
     "output_type": "display_data"
    }
   ],
   "source": [
    "# libero espacio\n",
    "rm(dataset)\n",
    "gc()"
   ]
  },
  {
   "cell_type": "code",
   "execution_count": 213,
   "metadata": {
    "vscode": {
     "languageId": "r"
    }
   },
   "outputs": [],
   "source": [
    "# Aqui comienza la configuracion de la Bayesian Optimization\n",
    "funcion_optimizar <- EstimarGanancia_lightgbm # la funcion que voy a maximizar\n",
    "\n",
    "configureMlr(show.learner.output = FALSE)\n",
    "\n",
    "# configuro la busqueda bayesiana,  los hiperparametros que se van a optimizar\n",
    "# por favor, no desesperarse por lo complejo\n",
    "obj.fun <- makeSingleObjectiveFunction(\n",
    "  fn = funcion_optimizar, # la funcion que voy a maximizar\n",
    "  minimize = FALSE, # estoy Maximizando la ganancia\n",
    "  noisy = TRUE,\n",
    "  par.set = PARAM$bo_lgb, # definido al comienzo del programa\n",
    "  has.simple.signature = FALSE # paso los parametros en una lista\n",
    ")\n",
    "\n",
    "# cada 600 segundos guardo el resultado intermedio\n",
    "ctrl <- makeMBOControl(\n",
    "  save.on.disk.at.time = 600, # se graba cada 600 segundos\n",
    "  save.file.path = kbayesiana\n",
    ") # se graba cada 600 segundos\n",
    "\n",
    "# indico la cantidad de iteraciones que va a tener la Bayesian Optimization\n",
    "ctrl <- setMBOControlTermination(\n",
    "  ctrl,\n",
    "  iters = PARAM$bo_iteraciones\n",
    ") # cantidad de iteraciones\n",
    "\n",
    "# defino el método estandar para la creacion de los puntos iniciales,\n",
    "# los \"No Inteligentes\"\n",
    "ctrl <- setMBOControlInfill(ctrl, crit = makeMBOInfillCritEI())\n",
    "\n",
    "\n",
    "# establezco la funcion que busca el maximo\n",
    "surr.km <- makeLearner(\n",
    "  \"regr.km\",\n",
    "  predict.type = \"se\",\n",
    "  covtype = \"matern3_2\",\n",
    "  control = list(trace = TRUE)\n",
    ")"
   ]
  },
  {
   "cell_type": "code",
   "execution_count": 214,
   "metadata": {
    "vscode": {
     "languageId": "r"
    }
   },
   "outputs": [
    {
     "name": "stderr",
     "output_type": "stream",
     "text": [
      "Computing y column(s) for design. Not provided.\n",
      "\n"
     ]
    },
    {
     "name": "stdout",
     "output_type": "stream",
     "text": [
      "Validate  1     1250    102753350     107653220    \n",
      "20231106 082339\t601\t976271\tgbdt\tbinary\tcustom\tTRUE\tTRUE\tFALSE\tTRUE\t-100\t-1\t0\t0.001\t0\t0\t31\t820\t1\t1\t1\tFALSE\t1\t0.1\t50\t0.5\tTRUE\t279571\t0.129464825580638\t0.589979261678396\t603\t34060\t12535\t146055979.510245\t1\n",
      "Validate  2     500    102678144     103010191    \n",
      "20231106 082707\t601\t976271\tgbdt\tbinary\tcustom\tTRUE\tTRUE\tFALSE\tTRUE\t-100\t-1\t0\t0.001\t0\t0\t31\t49\t1\t1\t1\tFALSE\t1\t0.1\t50\t0.5\tTRUE\t279571\t0.0661204550073144\t0.306758356069939\t135\t27020\t14513\t127359164.917541\t2\n",
      "Validate  3     1220    103576488     106742517    \n",
      "20231106 083300\t601\t976271\tgbdt\tbinary\tcustom\tTRUE\tTRUE\tFALSE\tTRUE\t-100\t-1\t0\t0.001\t0\t0\t31\t787\t1\t1\t1\tFALSE\t1\t0.1\t50\t0.5\tTRUE\t279571\t0.113019156746563\t0.722689286671374\t381\t28634\t11093\t146538745.127436\t3\n",
      "Validate  4     670    98766250     104305720     \n",
      "20231106 083600\t601\t976271\tgbdt\tbinary\tcustom\tTRUE\tTRUE\tFALSE\tTRUE\t-100\t-1\t0\t0.001\t0\t0\t31\t248\t1\t1\t1\tFALSE\t1\t0.1\t50\t0.5\tTRUE\t279571\t0.175678618850921\t0.0837276906739244\t542\t6859\t13794\t128404578.710645\t4\n",
      "Validate  5     590    98324393     102007439     \n",
      "20231106 084013\t601\t976271\tgbdt\tbinary\tcustom\tTRUE\tTRUE\tFALSE\tTRUE\t-100\t-1\t0\t0.001\t0\t0\t31\t179\t1\t1\t1\tFALSE\t1\t0.1\t50\t0.5\tTRUE\t279571\t0.275198918823473\t0.32486327912462\t723\t16035\t12342\t137921822.088956\t5\n",
      "Validate  6     700    99646077     104681145     \n",
      "20231106 084406\t601\t976271\tgbdt\tbinary\tcustom\tTRUE\tTRUE\tFALSE\tTRUE\t-100\t-1\t0\t0.001\t0\t0\t31\t283\t1\t1\t1\tFALSE\t1\t0.1\t50\t0.5\tTRUE\t279571\t0.152941050471095\t0.645387167052228\t502\t12627\t12500\t144794352.823588\t6\n",
      "Validate  7     890    100451032     104276740    \n",
      "20231106 084802\t601\t976271\tgbdt\tbinary\tcustom\tTRUE\tTRUE\tFALSE\tTRUE\t-100\t-1\t0\t0.001\t0\t0\t31\t478\t1\t1\t1\tFALSE\t1\t0.1\t50\t0.5\tTRUE\t279571\t0.19416275426125\t0.794035319192328\t845\t42464\t14625\t147443910.544728\t7\n",
      "Validate  8     1130    104145612     105676530    \n",
      "20231106 085350\t601\t976271\tgbdt\tbinary\tcustom\tTRUE\tTRUE\tFALSE\tTRUE\t-100\t-1\t0\t0.001\t0\t0\t31\t720\t1\t1\t1\tFALSE\t1\t0.1\t50\t0.5\tTRUE\t279571\t0.208330530396255\t0.164289977450783\t938\t38948\t11762\t138966049.975012\t8\n",
      "Validate  9     600    99828812     103559592     \n",
      "20231106 085910\t601\t976271\tgbdt\tbinary\tcustom\tTRUE\tTRUE\tFALSE\tTRUE\t-100\t-1\t0\t0.001\t0\t0\t31\t55\t1\t1\t1\tFALSE\t1\t0.1\t50\t0.5\tTRUE\t279571\t0.0267066953639716\t0.560570734105559\t306\t19296\t13420\t132271034.482759\t9\n",
      "Validate  10     600    101913402     103595928    \n",
      "20231106 090153\t601\t976271\tgbdt\tbinary\tcustom\tTRUE\tTRUE\tFALSE\tTRUE\t-100\t-1\t0\t0.001\t0\t0\t31\t188\t1\t1\t1\tFALSE\t1\t0.1\t50\t0.5\tTRUE\t279571\t0.221560927090974\t0.826648094024347\t31\t34846\t14789\t135519618.690655\t10\n",
      "Validate  11     710    107608247     114023640    \n",
      "20231106 090808\t601\t976271\tgbdt\tbinary\tcustom\tTRUE\tTRUE\tFALSE\tTRUE\t-100\t-1\t0\t0.001\t0\t0\t31\t268\t1\t1\t1\tFALSE\t1\t0.1\t50\t0.5\tTRUE\t279571\t0.0852503757905397\t0.925651702728775\t683\t1679\t13944\t147275578.210895\t11\n",
      "Validate  12     550    97334580     101409987     \n",
      "20231106 091112\t601\t976271\tgbdt\tbinary\tcustom\tTRUE\tTRUE\tFALSE\tTRUE\t-100\t-1\t0\t0.001\t0\t0\t31\t76\t1\t1\t1\tFALSE\t1\t0.1\t50\t0.5\tTRUE\t279571\t0.0506736029737185\t0.207218508431007\t246\t49507\t17396\t116193297.351324\t12\n",
      "Validate  13     550    93559278     105249583     \n",
      "20231106 091425\t601\t976271\tgbdt\tbinary\tcustom\tTRUE\tTRUE\tFALSE\tTRUE\t-100\t-1\t0\t0.001\t0\t0\t31\t139\t1\t1\t1\tFALSE\t1\t0.1\t50\t0.5\tTRUE\t279571\t0.241211629895149\t0.979385213098052\t981\t9632\t12795\t143479377.811094\t13\n",
      "Validate  14     690    100278778     105152219    \n",
      "20231106 091937\t601\t976271\tgbdt\tbinary\tcustom\tTRUE\tTRUE\tFALSE\tTRUE\t-100\t-1\t0\t0.001\t0\t0\t31\t282\t1\t1\t1\tFALSE\t1\t0.1\t50\t0.5\tTRUE\t279571\t0.289686593103062\t0.413139080222854\t417\t43892\t13517\t140334443.278361\t14\n",
      "Validate  15     790    95213535     97928471    \n",
      "20231106 092219\t601\t976271\tgbdt\tbinary\tcustom\tTRUE\tTRUE\tFALSE\tTRUE\t-100\t-1\t0\t0.001\t0\t0\t31\t384\t1\t1\t1\tFALSE\t1\t0.1\t50\t0.5\tTRUE\t279571\t0.260954398056728\t0.0272621639125061\t107\t5794\t11830\t125796856.571714\t15\n",
      "Validate  16     1380    104815107     107568584    \n",
      "20231106 093332\t601\t976271\tgbdt\tbinary\tcustom\tTRUE\tTRUE\tFALSE\tTRUE\t-100\t-1\t0\t0.001\t0\t0\t31\t945\t1\t1\t1\tFALSE\t1\t0.1\t50\t0.5\tTRUE\t279571\t0.0917235747127569\t0.46677263015138\t785\t24824\t15073\t143950949.025487\t16\n"
     ]
    },
    {
     "name": "stderr",
     "output_type": "stream",
     "text": [
      "[mbo] 0: learning_rate=0.129; feature_fraction=0.59; num_leaves=603; min_data_in_leaf=34060 : y = 1.46e+08 : 571.9 secs : initdesign\n",
      "\n",
      "[mbo] 0: learning_rate=0.0661; feature_fraction=0.307; num_leaves=135; min_data_in_leaf=27020 : y = 1.27e+08 : 208.2 secs : initdesign\n",
      "\n",
      "[mbo] 0: learning_rate=0.113; feature_fraction=0.723; num_leaves=381; min_data_in_leaf=28634 : y = 1.47e+08 : 352.4 secs : initdesign\n",
      "\n",
      "[mbo] 0: learning_rate=0.176; feature_fraction=0.0837; num_leaves=542; min_data_in_leaf=6859 : y = 1.28e+08 : 180.6 secs : initdesign\n",
      "\n",
      "[mbo] 0: learning_rate=0.275; feature_fraction=0.325; num_leaves=723; min_data_in_leaf=16035 : y = 1.38e+08 : 252.5 secs : initdesign\n",
      "\n",
      "[mbo] 0: learning_rate=0.153; feature_fraction=0.645; num_leaves=502; min_data_in_leaf=12627 : y = 1.45e+08 : 233.4 secs : initdesign\n",
      "\n",
      "[mbo] 0: learning_rate=0.194; feature_fraction=0.794; num_leaves=845; min_data_in_leaf=42464 : y = 1.47e+08 : 236.3 secs : initdesign\n",
      "\n",
      "[mbo] 0: learning_rate=0.208; feature_fraction=0.164; num_leaves=938; min_data_in_leaf=38948 : y = 1.39e+08 : 348.0 secs : initdesign\n",
      "\n",
      "[mbo] 0: learning_rate=0.0267; feature_fraction=0.561; num_leaves=306; min_data_in_leaf=19296 : y = 1.32e+08 : 319.6 secs : initdesign\n",
      "\n",
      "[mbo] 0: learning_rate=0.222; feature_fraction=0.827; num_leaves=31; min_data_in_leaf=34846 : y = 1.36e+08 : 163.5 secs : initdesign\n",
      "\n",
      "[mbo] 0: learning_rate=0.0853; feature_fraction=0.926; num_leaves=683; min_data_in_leaf=1679 : y = 1.47e+08 : 374.7 secs : initdesign\n",
      "\n",
      "[mbo] 0: learning_rate=0.0507; feature_fraction=0.207; num_leaves=246; min_data_in_leaf=49507 : y = 1.16e+08 : 183.7 secs : initdesign\n",
      "\n",
      "[mbo] 0: learning_rate=0.241; feature_fraction=0.979; num_leaves=981; min_data_in_leaf=9632 : y = 1.43e+08 : 192.9 secs : initdesign\n",
      "\n",
      "[mbo] 0: learning_rate=0.29; feature_fraction=0.413; num_leaves=417; min_data_in_leaf=43892 : y = 1.4e+08 : 312.3 secs : initdesign\n",
      "\n",
      "[mbo] 0: learning_rate=0.261; feature_fraction=0.0273; num_leaves=107; min_data_in_leaf=5794 : y = 1.26e+08 : 161.8 secs : initdesign\n",
      "\n",
      "[mbo] 0: learning_rate=0.0917; feature_fraction=0.467; num_leaves=785; min_data_in_leaf=24824 : y = 1.44e+08 : 673.7 secs : initdesign\n",
      "\n",
      "Saved the current state after iteration 1 in the file HT8230 (Clase 12, Ajustado Sem5).RDATA.\n",
      "\n"
     ]
    },
    {
     "name": "stdout",
     "output_type": "stream",
     "text": [
      "Validate  17     860    103167333     109308610    \n",
      "20231106 093743\t601\t976271\tgbdt\tbinary\tcustom\tTRUE\tTRUE\tFALSE\tTRUE\t-100\t-1\t0\t0.001\t0\t0\t31\t431\t1\t1\t1\tFALSE\t1\t0.1\t50\t0.5\tTRUE\t279571\t0.123072192783259\t0.896295319732092\t1023\t24931\t12358\t142853040.47976\t17\n"
     ]
    },
    {
     "name": "stderr",
     "output_type": "stream",
     "text": [
      "[mbo] 1: learning_rate=0.123; feature_fraction=0.896; num_leaves=1023; min_data_in_leaf=24931 : y = 1.43e+08 : 248.4 secs : infill_ei\n",
      "\n"
     ]
    },
    {
     "name": "stdout",
     "output_type": "stream",
     "text": [
      "Validate  18     680    97933733     102994218     \n",
      "20231106 094040\t601\t976271\tgbdt\tbinary\tcustom\tTRUE\tTRUE\tFALSE\tTRUE\t-100\t-1\t0\t0.001\t0\t0\t31\t264\t1\t1\t1\tFALSE\t1\t0.1\t50\t0.5\tTRUE\t279571\t0.249138925475204\t0.841995550921641\t457\t42041\t12877\t141163108.945527\t18\n"
     ]
    },
    {
     "name": "stderr",
     "output_type": "stream",
     "text": [
      "[mbo] 2: learning_rate=0.249; feature_fraction=0.842; num_leaves=457; min_data_in_leaf=42041 : y = 1.41e+08 : 176.4 secs : infill_ei\n",
      "\n"
     ]
    },
    {
     "name": "stdout",
     "output_type": "stream",
     "text": [
      "Validate  19     1110    103262737     107833198    \n",
      "20231106 094625\t601\t976271\tgbdt\tbinary\tcustom\tTRUE\tTRUE\tFALSE\tTRUE\t-100\t-1\t0\t0.001\t0\t0\t31\t682\t1\t1\t1\tFALSE\t1\t0.1\t50\t0.5\tTRUE\t279571\t0.106211654390014\t0.75897574264445\t666\t17404\t12342\t144255335.332334\t19\n"
     ]
    },
    {
     "name": "stderr",
     "output_type": "stream",
     "text": [
      "[mbo] 3: learning_rate=0.106; feature_fraction=0.759; num_leaves=666; min_data_in_leaf=17404 : y = 1.44e+08 : 344.5 secs : infill_ei\n",
      "\n",
      "Saved the current state after iteration 4 in the file HT8230 (Clase 12, Ajustado Sem5).RDATA.\n",
      "\n"
     ]
    },
    {
     "name": "stdout",
     "output_type": "stream",
     "text": [
      "Validate  20     1020    101512426     104100495    \n",
      "20231106 095456\t601\t976271\tgbdt\tbinary\tcustom\tTRUE\tTRUE\tFALSE\tTRUE\t-100\t-1\t0\t0.001\t0\t0\t31\t605\t1\t1\t1\tFALSE\t1\t0.1\t50\t0.5\tTRUE\t279571\t0.199661473962421\t0.539464558656722\t963\t42699\t14827\t136961604.697651\t20\n"
     ]
    },
    {
     "name": "stderr",
     "output_type": "stream",
     "text": [
      "[mbo] 4: learning_rate=0.2; feature_fraction=0.539; num_leaves=963; min_data_in_leaf=42699 : y = 1.37e+08 : 507.7 secs : infill_ei\n",
      "\n"
     ]
    },
    {
     "name": "stdout",
     "output_type": "stream",
     "text": [
      "Validate  21     1100    101240174     105716456    \n",
      "20231106 095958\t601\t976271\tgbdt\tbinary\tcustom\tTRUE\tTRUE\tFALSE\tTRUE\t-100\t-1\t0\t0.001\t0\t0\t31\t675\t1\t1\t1\tFALSE\t1\t0.1\t50\t0.5\tTRUE\t279571\t0.13247746039811\t0.926744919767366\t805\t30796\t13592\t144948513.743128\t21\n"
     ]
    },
    {
     "name": "stderr",
     "output_type": "stream",
     "text": [
      "[mbo] 5: learning_rate=0.132; feature_fraction=0.927; num_leaves=805; min_data_in_leaf=30796 : y = 1.45e+08 : 302.5 secs : infill_ei\n",
      "\n",
      "Saved the current state after iteration 6 in the file HT8230 (Clase 12, Ajustado Sem5).RDATA.\n",
      "\n"
     ]
    },
    {
     "name": "stdout",
     "output_type": "stream",
     "text": [
      "Validate  22     1160    103540008     105750368    \n",
      "20231106 100452\t601\t976271\tgbdt\tbinary\tcustom\tTRUE\tTRUE\tFALSE\tTRUE\t-100\t-1\t0\t0.001\t0\t0\t31\t741\t1\t1\t1\tFALSE\t1\t0.1\t50\t0.5\tTRUE\t279571\t0.151955648844144\t0.715044357410235\t523\t49679\t13091\t143795283.858071\t22\n"
     ]
    },
    {
     "name": "stderr",
     "output_type": "stream",
     "text": [
      "[mbo] 6: learning_rate=0.152; feature_fraction=0.715; num_leaves=523; min_data_in_leaf=49679 : y = 1.44e+08 : 290.2 secs : infill_ei\n",
      "\n"
     ]
    },
    {
     "name": "stdout",
     "output_type": "stream",
     "text": [
      "Validate  23     470    88775952     97111801    \n",
      "20231106 100944\t601\t976271\tgbdt\tbinary\tcustom\tTRUE\tTRUE\tFALSE\tTRUE\t-100\t-1\t0\t0.001\t0\t0\t31\t60\t1\t1\t1\tFALSE\t1\t0.1\t50\t0.5\tTRUE\t279571\t0.201825132156712\t0.83120950068782\t845\t261\t15250\t128877346.326837\t23\n"
     ]
    },
    {
     "name": "stderr",
     "output_type": "stream",
     "text": [
      "[mbo] 7: learning_rate=0.202; feature_fraction=0.831; num_leaves=845; min_data_in_leaf=261 : y = 1.29e+08 : 291.9 secs : infill_ei\n",
      "\n"
     ]
    },
    {
     "name": "stdout",
     "output_type": "stream",
     "text": [
      "Validate  24     1050    101810417     106311683    \n",
      "20231106 101420\t601\t976271\tgbdt\tbinary\tcustom\tTRUE\tTRUE\tFALSE\tTRUE\t-100\t-1\t0\t0.001\t0\t0\t31\t631\t1\t1\t1\tFALSE\t1\t0.1\t50\t0.5\tTRUE\t279571\t0.152543617535428\t0.793430937027061\t759\t39678\t12628\t144109227.386307\t24\n"
     ]
    },
    {
     "name": "stderr",
     "output_type": "stream",
     "text": [
      "[mbo] 8: learning_rate=0.153; feature_fraction=0.793; num_leaves=759; min_data_in_leaf=39678 : y = 1.44e+08 : 275.4 secs : infill_ei\n",
      "\n",
      "Saved the current state after iteration 9 in the file HT8230 (Clase 12, Ajustado Sem5).RDATA.\n",
      "\n"
     ]
    },
    {
     "name": "stdout",
     "output_type": "stream",
     "text": [
      "Validate  25     950    103828135     108085464    \n",
      "20231106 101859\t601\t976271\tgbdt\tbinary\tcustom\tTRUE\tTRUE\tFALSE\tTRUE\t-100\t-1\t0\t0.001\t0\t0\t31\t525\t1\t1\t1\tFALSE\t1\t0.1\t50\t0.5\tTRUE\t279571\t0.131805452505282\t0.629806153426322\t653\t25740\t13072\t147374620.689655\t25\n"
     ]
    },
    {
     "name": "stderr",
     "output_type": "stream",
     "text": [
      "[mbo] 9: learning_rate=0.132; feature_fraction=0.63; num_leaves=653; min_data_in_leaf=25740 : y = 1.47e+08 : 276.7 secs : infill_ei\n",
      "\n"
     ]
    },
    {
     "name": "stdout",
     "output_type": "stream",
     "text": [
      "Validate  26     780    102002275     104246407    \n",
      "20231106 102217\t601\t976271\tgbdt\tbinary\tcustom\tTRUE\tTRUE\tFALSE\tTRUE\t-100\t-1\t0\t0.001\t0\t0\t31\t364\t1\t1\t1\tFALSE\t1\t0.1\t50\t0.5\tTRUE\t279571\t0.191482176839028\t0.896915459094438\t808\t46886\t14620\t140437071.464268\t26\n"
     ]
    },
    {
     "name": "stderr",
     "output_type": "stream",
     "text": [
      "[mbo] 10: learning_rate=0.191; feature_fraction=0.897; num_leaves=808; min_data_in_leaf=46886 : y = 1.4e+08 : 197.4 secs : infill_ei\n",
      "\n"
     ]
    },
    {
     "name": "stdout",
     "output_type": "stream",
     "text": [
      "Validate  27     710    104571800     109551081    \n",
      "20231106 102643\t601\t976271\tgbdt\tbinary\tcustom\tTRUE\tTRUE\tFALSE\tTRUE\t-100\t-1\t0\t0.001\t0\t0\t31\t276\t1\t1\t1\tFALSE\t1\t0.1\t50\t0.5\tTRUE\t279571\t0.0934402630495338\t0.958528814128313\t586\t8642\t12133\t150747140.929535\t27\n"
     ]
    },
    {
     "name": "stderr",
     "output_type": "stream",
     "text": [
      "[mbo] 11: learning_rate=0.0934; feature_fraction=0.959; num_leaves=586; min_data_in_leaf=8642 : y = 1.51e+08 : 265.4 secs : infill_ei\n",
      "\n",
      "Saved the current state after iteration 12 in the file HT8230 (Clase 12, Ajustado Sem5).RDATA.\n",
      "\n"
     ]
    },
    {
     "name": "stdout",
     "output_type": "stream",
     "text": [
      "Validate  28     460    106956967     107209348    \n",
      "20231106 102914\t601\t976271\tgbdt\tbinary\tcustom\tTRUE\tTRUE\tFALSE\tTRUE\t-100\t-1\t0\t0.001\t0\t0\t31\t22\t1\t1\t1\tFALSE\t1\t0.1\t50\t0.5\tTRUE\t279571\t0.0857511737120778\t0.995775671820931\t594\t15893\t12827\t136280705.147426\t28\n"
     ]
    },
    {
     "name": "stderr",
     "output_type": "stream",
     "text": [
      "[mbo] 12: learning_rate=0.0858; feature_fraction=0.996; num_leaves=594; min_data_in_leaf=15893 : y = 1.36e+08 : 147.5 secs : infill_ei\n",
      "\n"
     ]
    },
    {
     "name": "stdout",
     "output_type": "stream",
     "text": [
      "Validate  29     620    101706215     105610126    \n",
      "20231106 103305\t601\t976271\tgbdt\tbinary\tcustom\tTRUE\tTRUE\tFALSE\tTRUE\t-100\t-1\t0\t0.001\t0\t0\t31\t203\t1\t1\t1\tFALSE\t1\t0.1\t50\t0.5\tTRUE\t279571\t0.151822626966301\t0.944279533986094\t532\t7235\t12149\t142028044.477761\t29\n"
     ]
    },
    {
     "name": "stderr",
     "output_type": "stream",
     "text": [
      "[mbo] 13: learning_rate=0.152; feature_fraction=0.944; num_leaves=532; min_data_in_leaf=7235 : y = 1.42e+08 : 231.4 secs : infill_ei\n",
      "\n"
     ]
    },
    {
     "name": "stdout",
     "output_type": "stream",
     "text": [
      "Validate  30     600    107382596     107688808    \n",
      "20231106 103647\t601\t976271\tgbdt\tbinary\tcustom\tTRUE\tTRUE\tFALSE\tTRUE\t-100\t-1\t0\t0.001\t0\t0\t31\t169\t1\t1\t1\tFALSE\t1\t0.1\t50\t0.5\tTRUE\t279571\t0.100692053341885\t0.90726353781643\t486\t7407\t12791\t144375363.818091\t30\n"
     ]
    },
    {
     "name": "stderr",
     "output_type": "stream",
     "text": [
      "[mbo] 14: learning_rate=0.101; feature_fraction=0.907; num_leaves=486; min_data_in_leaf=7407 : y = 1.44e+08 : 221.5 secs : infill_ei\n",
      "\n",
      "Saved the current state after iteration 15 in the file HT8230 (Clase 12, Ajustado Sem5).RDATA.\n",
      "\n"
     ]
    },
    {
     "name": "stdout",
     "output_type": "stream",
     "text": [
      "Validate  31     670    104056385     106591298    \n",
      "20231106 104035\t601\t976271\tgbdt\tbinary\tcustom\tTRUE\tTRUE\tFALSE\tTRUE\t-100\t-1\t0\t0.001\t0\t0\t31\t229\t1\t1\t1\tFALSE\t1\t0.1\t50\t0.5\tTRUE\t279571\t0.0929519597845338\t0.949330470279252\t1021\t11241\t13684\t144993949.025487\t31\n"
     ]
    },
    {
     "name": "stderr",
     "output_type": "stream",
     "text": [
      "[mbo] 15: learning_rate=0.093; feature_fraction=0.949; num_leaves=1021; min_data_in_leaf=11241 : y = 1.45e+08 : 224.7 secs : infill_ei\n",
      "\n"
     ]
    },
    {
     "name": "stdout",
     "output_type": "stream",
     "text": [
      "Validate  32     1460    107251968     107627183    \n",
      "20231106 104912\t601\t976271\tgbdt\tbinary\tcustom\tTRUE\tTRUE\tFALSE\tTRUE\t-100\t-1\t0\t0.001\t0\t0\t31\t1007\t1\t1\t1\tFALSE\t1\t0.1\t50\t0.5\tTRUE\t279571\t0.0656747367228563\t0.947894470330561\t594\t8732\t13060\t146303778.110945\t32\n"
     ]
    },
    {
     "name": "stderr",
     "output_type": "stream",
     "text": [
      "[mbo] 16: learning_rate=0.0657; feature_fraction=0.948; num_leaves=594; min_data_in_leaf=8732 : y = 1.46e+08 : 517.1 secs : infill_ei\n",
      "\n",
      "Saved the current state after iteration 17 in the file HT8230 (Clase 12, Ajustado Sem5).RDATA.\n",
      "\n"
     ]
    },
    {
     "name": "stdout",
     "output_type": "stream",
     "text": [
      "Validate  33     860    108568972     110091351    \n",
      "20231106 105519\t601\t976271\tgbdt\tbinary\tcustom\tTRUE\tTRUE\tFALSE\tTRUE\t-100\t-1\t0\t0.001\t0\t0\t31\t430\t1\t1\t1\tFALSE\t1\t0.1\t50\t0.5\tTRUE\t279571\t0.103345803869453\t0.953088582733957\t649\t3983\t13119\t140922422.288856\t33\n"
     ]
    },
    {
     "name": "stderr",
     "output_type": "stream",
     "text": [
      "[mbo] 17: learning_rate=0.103; feature_fraction=0.953; num_leaves=649; min_data_in_leaf=3983 : y = 1.41e+08 : 363.4 secs : infill_ei\n",
      "\n"
     ]
    },
    {
     "name": "stdout",
     "output_type": "stream",
     "text": [
      "Validate  34     770    104496553     108528091    \n",
      "20231106 110005\t601\t976271\tgbdt\tbinary\tcustom\tTRUE\tTRUE\tFALSE\tTRUE\t-100\t-1\t0\t0.001\t0\t0\t31\t332\t1\t1\t1\tFALSE\t1\t0.1\t50\t0.5\tTRUE\t279571\t0.0925535309490345\t0.954110982456573\t103\t5441\t15775\t143468813.093453\t34\n"
     ]
    },
    {
     "name": "stderr",
     "output_type": "stream",
     "text": [
      "[mbo] 18: learning_rate=0.0926; feature_fraction=0.954; num_leaves=103; min_data_in_leaf=5441 : y = 1.43e+08 : 285.4 secs : infill_ei\n",
      "\n",
      "Saved the current state after iteration 19 in the file HT8230 (Clase 12, Ajustado Sem5).RDATA.\n",
      "\n"
     ]
    },
    {
     "name": "stdout",
     "output_type": "stream",
     "text": [
      "Validate  35     670    106577711     108995363    \n",
      "20231106 110409\t601\t976271\tgbdt\tbinary\tcustom\tTRUE\tTRUE\tFALSE\tTRUE\t-100\t-1\t0\t0.001\t0\t0\t31\t236\t1\t1\t1\tFALSE\t1\t0.1\t50\t0.5\tTRUE\t279571\t0.0910062266894058\t0.711805297291858\t664\t8628\t10405\t148266349.325337\t35\n"
     ]
    },
    {
     "name": "stderr",
     "output_type": "stream",
     "text": [
      "[mbo] 19: learning_rate=0.091; feature_fraction=0.712; num_leaves=664; min_data_in_leaf=8628 : y = 1.48e+08 : 240.5 secs : infill_ei\n",
      "\n"
     ]
    },
    {
     "name": "stdout",
     "output_type": "stream",
     "text": [
      "Validate  36     780    102746812     105774929    \n",
      "20231106 110738\t601\t976271\tgbdt\tbinary\tcustom\tTRUE\tTRUE\tFALSE\tTRUE\t-100\t-1\t0\t0.001\t0\t0\t31\t360\t1\t1\t1\tFALSE\t1\t0.1\t50\t0.5\tTRUE\t279571\t0.182106121967437\t0.767684251753883\t831\t34722\t13920\t142612913.543228\t36\n"
     ]
    },
    {
     "name": "stderr",
     "output_type": "stream",
     "text": [
      "[mbo] 20: learning_rate=0.182; feature_fraction=0.768; num_leaves=831; min_data_in_leaf=34722 : y = 1.43e+08 : 209.6 secs : infill_ei\n",
      "\n"
     ]
    },
    {
     "name": "stdout",
     "output_type": "stream",
     "text": [
      "Validate  37     1060    105215093     106759400    \n",
      "20231106 111650\t601\t976271\tgbdt\tbinary\tcustom\tTRUE\tTRUE\tFALSE\tTRUE\t-100\t-1\t0\t0.001\t0\t0\t31\t628\t1\t1\t1\tFALSE\t1\t0.1\t50\t0.5\tTRUE\t279571\t0.115558123028461\t0.519397342565745\t635\t20386\t11970\t144320304.847576\t37\n"
     ]
    },
    {
     "name": "stderr",
     "output_type": "stream",
     "text": [
      "[mbo] 21: learning_rate=0.116; feature_fraction=0.519; num_leaves=635; min_data_in_leaf=20386 : y = 1.44e+08 : 550.9 secs : infill_ei\n",
      "\n",
      "Saved the current state after iteration 22 in the file HT8230 (Clase 12, Ajustado Sem5).RDATA.\n",
      "\n"
     ]
    },
    {
     "name": "stdout",
     "output_type": "stream",
     "text": [
      "Validate  38     730    105621331     108719211    \n",
      "20231106 112027\t601\t976271\tgbdt\tbinary\tcustom\tTRUE\tTRUE\tFALSE\tTRUE\t-100\t-1\t0\t0.001\t0\t0\t31\t303\t1\t1\t1\tFALSE\t1\t0.1\t50\t0.5\tTRUE\t279571\t0.142881472087859\t0.76564218089743\t223\t22540\t11395\t146265244.877561\t38\n"
     ]
    },
    {
     "name": "stderr",
     "output_type": "stream",
     "text": [
      "[mbo] 22: learning_rate=0.143; feature_fraction=0.766; num_leaves=223; min_data_in_leaf=22540 : y = 1.46e+08 : 213.5 secs : infill_ei\n",
      "\n"
     ]
    },
    {
     "name": "stdout",
     "output_type": "stream",
     "text": [
      "Validate  39     1030    105564646     111369643    \n",
      "20231106 112646\t601\t976271\tgbdt\tbinary\tcustom\tTRUE\tTRUE\tFALSE\tTRUE\t-100\t-1\t0\t0.001\t0\t0\t31\t593\t1\t1\t1\tFALSE\t1\t0.1\t50\t0.5\tTRUE\t279571\t0.0897044585507443\t0.968542896280908\t701\t7624\t12447\t149060725.137431\t39\n"
     ]
    },
    {
     "name": "stderr",
     "output_type": "stream",
     "text": [
      "[mbo] 23: learning_rate=0.0897; feature_fraction=0.969; num_leaves=701; min_data_in_leaf=7624 : y = 1.49e+08 : 378.9 secs : infill_ei\n",
      "\n"
     ]
    },
    {
     "name": "stdout",
     "output_type": "stream",
     "text": [
      "Validate  40     680    101355494     105887559    \n",
      "20231106 113300\t601\t976271\tgbdt\tbinary\tcustom\tTRUE\tTRUE\tFALSE\tTRUE\t-100\t-1\t0\t0.001\t0\t0\t31\t224\t1\t1\t1\tFALSE\t1\t0.1\t50\t0.5\tTRUE\t279571\t0.0695702444567587\t0.804547813040234\t724\t138\t13506\t138033472.263868\t40\n"
     ]
    },
    {
     "name": "stderr",
     "output_type": "stream",
     "text": [
      "[mbo] 24: learning_rate=0.0696; feature_fraction=0.805; num_leaves=724; min_data_in_leaf=138 : y = 1.38e+08 : 373.9 secs : infill_ei\n",
      "\n",
      "Saved the current state after iteration 25 in the file HT8230 (Clase 12, Ajustado Sem5).RDATA.\n",
      "\n"
     ]
    },
    {
     "name": "stdout",
     "output_type": "stream",
     "text": [
      "Validate  41     960    103836853     107355369    \n",
      "20231106 113740\t601\t976271\tgbdt\tbinary\tcustom\tTRUE\tTRUE\tFALSE\tTRUE\t-100\t-1\t0\t0.001\t0\t0\t31\t533\t1\t1\t1\tFALSE\t1\t0.1\t50\t0.5\tTRUE\t279571\t0.146925423408997\t0.627247687546195\t576\t29752\t16629\t138811332.833583\t41\n"
     ]
    },
    {
     "name": "stderr",
     "output_type": "stream",
     "text": [
      "[mbo] 25: learning_rate=0.147; feature_fraction=0.627; num_leaves=576; min_data_in_leaf=29752 : y = 1.39e+08 : 276.3 secs : infill_ei\n",
      "\n"
     ]
    },
    {
     "name": "stdout",
     "output_type": "stream",
     "text": [
      "Validate  42     780    102895725     106189671    \n",
      "20231106 114150\t601\t976271\tgbdt\tbinary\tcustom\tTRUE\tTRUE\tFALSE\tTRUE\t-100\t-1\t0\t0.001\t0\t0\t31\t358\t1\t1\t1\tFALSE\t1\t0.1\t50\t0.5\tTRUE\t279571\t0.131983382200291\t0.734117372644491\t395\t15254\t14028\t147605239.38031\t42\n"
     ]
    },
    {
     "name": "stderr",
     "output_type": "stream",
     "text": [
      "[mbo] 26: learning_rate=0.132; feature_fraction=0.734; num_leaves=395; min_data_in_leaf=15254 : y = 1.48e+08 : 249.6 secs : infill_ei\n",
      "\n"
     ]
    },
    {
     "name": "stdout",
     "output_type": "stream",
     "text": [
      "Validate  43     1100    104639817     107162524    \n",
      "20231106 114637\t601\t976271\tgbdt\tbinary\tcustom\tTRUE\tTRUE\tFALSE\tTRUE\t-100\t-1\t0\t0.001\t0\t0\t31\t679\t1\t1\t1\tFALSE\t1\t0.1\t50\t0.5\tTRUE\t279571\t0.130275710096106\t0.771495710602929\t237\t41769\t14934\t144256902.548726\t43\n"
     ]
    },
    {
     "name": "stderr",
     "output_type": "stream",
     "text": [
      "[mbo] 27: learning_rate=0.13; feature_fraction=0.771; num_leaves=237; min_data_in_leaf=41769 : y = 1.44e+08 : 286.9 secs : infill_ei\n",
      "\n",
      "Saved the current state after iteration 28 in the file HT8230 (Clase 12, Ajustado Sem5).RDATA.\n",
      "\n"
     ]
    },
    {
     "name": "stdout",
     "output_type": "stream",
     "text": [
      "Validate  44     1030    105206141     107666573    \n",
      "20231106 115130\t601\t976271\tgbdt\tbinary\tcustom\tTRUE\tTRUE\tFALSE\tTRUE\t-100\t-1\t0\t0.001\t0\t0\t31\t605\t1\t1\t1\tFALSE\t1\t0.1\t50\t0.5\tTRUE\t279571\t0.127477477196708\t0.718515125874642\t27\t23736\t11288\t147502040.97951\t44\n"
     ]
    },
    {
     "name": "stderr",
     "output_type": "stream",
     "text": [
      "[mbo] 28: learning_rate=0.127; feature_fraction=0.719; num_leaves=27; min_data_in_leaf=23736 : y = 1.48e+08 : 290.1 secs : infill_ei\n",
      "\n"
     ]
    },
    {
     "name": "stdout",
     "output_type": "stream",
     "text": [
      "Validate  45     980    104763340     108173725    \n",
      "20231106 115705\t601\t976271\tgbdt\tbinary\tcustom\tTRUE\tTRUE\tFALSE\tTRUE\t-100\t-1\t0\t0.001\t0\t0\t31\t543\t1\t1\t1\tFALSE\t1\t0.1\t50\t0.5\tTRUE\t279571\t0.102444870419547\t0.607031962810527\t758\t33943\t12916\t142851228.385807\t45\n"
     ]
    },
    {
     "name": "stderr",
     "output_type": "stream",
     "text": [
      "[mbo] 29: learning_rate=0.102; feature_fraction=0.607; num_leaves=758; min_data_in_leaf=33943 : y = 1.43e+08 : 333.9 secs : infill_ei\n",
      "\n",
      "Saved the current state after iteration 30 in the file HT8230 (Clase 12, Ajustado Sem5).RDATA.\n",
      "\n"
     ]
    },
    {
     "name": "stdout",
     "output_type": "stream",
     "text": [
      "Validate  46     920    105056248     107253790    \n",
      "20231106 120538\t601\t976271\tgbdt\tbinary\tcustom\tTRUE\tTRUE\tFALSE\tTRUE\t-100\t-1\t0\t0.001\t0\t0\t31\t479\t1\t1\t1\tFALSE\t1\t0.1\t50\t0.5\tTRUE\t279571\t0.0951453074400375\t0.531217131265957\t612\t9769\t12742\t142114545.727136\t46\n"
     ]
    },
    {
     "name": "stderr",
     "output_type": "stream",
     "text": [
      "[mbo] 30: learning_rate=0.0951; feature_fraction=0.531; num_leaves=612; min_data_in_leaf=9769 : y = 1.42e+08 : 509.7 secs : infill_ei\n",
      "\n"
     ]
    },
    {
     "name": "stdout",
     "output_type": "stream",
     "text": [
      "Validate  47     660    107375123     108710217    \n",
      "20231106 120958\t601\t976271\tgbdt\tbinary\tcustom\tTRUE\tTRUE\tFALSE\tTRUE\t-100\t-1\t0\t0.001\t0\t0\t31\t223\t1\t1\t1\tFALSE\t1\t0.1\t50\t0.5\tTRUE\t279571\t0.0930284206732412\t0.857723698100168\t579\t8719\t14278\t143759227.386307\t47\n"
     ]
    },
    {
     "name": "stderr",
     "output_type": "stream",
     "text": [
      "[mbo] 31: learning_rate=0.093; feature_fraction=0.858; num_leaves=579; min_data_in_leaf=8719 : y = 1.44e+08 : 259.5 secs : infill_ei\n",
      "\n",
      "Saved the current state after iteration 32 in the file HT8230 (Clase 12, Ajustado Sem5).RDATA.\n",
      "\n"
     ]
    },
    {
     "name": "stdout",
     "output_type": "stream",
     "text": [
      "Validate  48     670    100188390     103519607    \n",
      "20231106 121407\t601\t976271\tgbdt\tbinary\tcustom\tTRUE\tTRUE\tFALSE\tTRUE\t-100\t-1\t0\t0.001\t0\t0\t31\t243\t1\t1\t1\tFALSE\t1\t0.1\t50\t0.5\tTRUE\t279571\t0.120102639978407\t0.659015030591995\t644\t11578\t14398\t145140476.761619\t48\n"
     ]
    },
    {
     "name": "stderr",
     "output_type": "stream",
     "text": [
      "[mbo] 32: learning_rate=0.12; feature_fraction=0.659; num_leaves=644; min_data_in_leaf=11578 : y = 1.45e+08 : 245.6 secs : infill_ei\n",
      "\n"
     ]
    },
    {
     "name": "stdout",
     "output_type": "stream",
     "text": [
      "Validate  49     820    103838661     108278883    \n",
      "20231106 121825\t601\t976271\tgbdt\tbinary\tcustom\tTRUE\tTRUE\tFALSE\tTRUE\t-100\t-1\t0\t0.001\t0\t0\t31\t390\t1\t1\t1\tFALSE\t1\t0.1\t50\t0.5\tTRUE\t279571\t0.128933608899557\t0.714775876925336\t973\t23253\t13685\t146224350.324838\t49\n"
     ]
    },
    {
     "name": "stderr",
     "output_type": "stream",
     "text": [
      "[mbo] 33: learning_rate=0.129; feature_fraction=0.715; num_leaves=973; min_data_in_leaf=23253 : y = 1.46e+08 : 257.8 secs : infill_ei\n",
      "\n"
     ]
    },
    {
     "name": "stdout",
     "output_type": "stream",
     "text": [
      "Validate  50     1020    104484298     107981517    \n",
      "20231106 122424\t601\t976271\tgbdt\tbinary\tcustom\tTRUE\tTRUE\tFALSE\tTRUE\t-100\t-1\t0\t0.001\t0\t0\t31\t578\t1\t1\t1\tFALSE\t1\t0.1\t50\t0.5\tTRUE\t279571\t0.0931716749199155\t0.65927352423806\t379\t19734\t14427\t143899895.552224\t50\n"
     ]
    },
    {
     "name": "stderr",
     "output_type": "stream",
     "text": [
      "[mbo] 34: learning_rate=0.0932; feature_fraction=0.659; num_leaves=379; min_data_in_leaf=19734 : y = 1.44e+08 : 358.9 secs : infill_ei\n",
      "\n",
      "Saved the current state after iteration 35 in the file HT8230 (Clase 12, Ajustado Sem5).RDATA.\n",
      "\n"
     ]
    },
    {
     "name": "stdout",
     "output_type": "stream",
     "text": [
      "Validate  51     1040    103278262     106121466    \n",
      "20231106 122933\t601\t976271\tgbdt\tbinary\tcustom\tTRUE\tTRUE\tFALSE\tTRUE\t-100\t-1\t0\t0.001\t0\t0\t31\t621\t1\t1\t1\tFALSE\t1\t0.1\t50\t0.5\tTRUE\t279571\t0.188551288277622\t0.746363843687016\t725\t49997\t13712\t144420557.721139\t51\n"
     ]
    },
    {
     "name": "stderr",
     "output_type": "stream",
     "text": [
      "[mbo] 35: learning_rate=0.189; feature_fraction=0.746; num_leaves=725; min_data_in_leaf=49997 : y = 1.44e+08 : 304.9 secs : infill_ei\n",
      "\n"
     ]
    },
    {
     "name": "stdout",
     "output_type": "stream",
     "text": [
      "Validate  52     1000    103341406     108330013    \n",
      "20231106 123823\t601\t976271\tgbdt\tbinary\tcustom\tTRUE\tTRUE\tFALSE\tTRUE\t-100\t-1\t0\t0.001\t0\t0\t31\t571\t1\t1\t1\tFALSE\t1\t0.1\t50\t0.5\tTRUE\t279571\t0.121361402341868\t0.578996416506575\t84\t26798\t13608\t141483510.244878\t52\n"
     ]
    },
    {
     "name": "stderr",
     "output_type": "stream",
     "text": [
      "[mbo] 36: learning_rate=0.121; feature_fraction=0.579; num_leaves=84; min_data_in_leaf=26798 : y = 1.41e+08 : 529.9 secs : infill_ei\n",
      "\n",
      "Saved the current state after iteration 37 in the file HT8230 (Clase 12, Ajustado Sem5).RDATA.\n",
      "\n"
     ]
    },
    {
     "name": "stdout",
     "output_type": "stream",
     "text": [
      "Validate  53     750    107226098     109948496    \n",
      "20231106 124317\t601\t976271\tgbdt\tbinary\tcustom\tTRUE\tTRUE\tFALSE\tTRUE\t-100\t-1\t0\t0.001\t0\t0\t31\t307\t1\t1\t1\tFALSE\t1\t0.1\t50\t0.5\tTRUE\t279571\t0.0873182581240218\t0.939146787480216\t516\t8570\t13491\t149171675.662169\t53\n"
     ]
    },
    {
     "name": "stderr",
     "output_type": "stream",
     "text": [
      "[mbo] 37: learning_rate=0.0873; feature_fraction=0.939; num_leaves=516; min_data_in_leaf=8570 : y = 1.49e+08 : 290.1 secs : infill_ei\n",
      "\n"
     ]
    },
    {
     "name": "stdout",
     "output_type": "stream",
     "text": [
      "Validate  54     730    102217148     103670175    \n",
      "20231106 124713\t601\t976271\tgbdt\tbinary\tcustom\tTRUE\tTRUE\tFALSE\tTRUE\t-100\t-1\t0\t0.001\t0\t0\t31\t301\t1\t1\t1\tFALSE\t1\t0.1\t50\t0.5\tTRUE\t279571\t0.130532777348771\t0.790265711626834\t478\t28487\t14500\t140431474.262869\t54\n"
     ]
    },
    {
     "name": "stderr",
     "output_type": "stream",
     "text": [
      "[mbo] 38: learning_rate=0.131; feature_fraction=0.79; num_leaves=478; min_data_in_leaf=28487 : y = 1.4e+08 : 235.9 secs : infill_ei\n",
      "\n"
     ]
    },
    {
     "name": "stdout",
     "output_type": "stream",
     "text": [
      "Validate  55     820    106112913     108140814    \n",
      "20231106 125209\t601\t976271\tgbdt\tbinary\tcustom\tTRUE\tTRUE\tFALSE\tTRUE\t-100\t-1\t0\t0.001\t0\t0\t31\t395\t1\t1\t1\tFALSE\t1\t0.1\t50\t0.5\tTRUE\t279571\t0.134656960112925\t0.681992973825798\t355\t19438\t13955\t143455169.915042\t55\n"
     ]
    },
    {
     "name": "stderr",
     "output_type": "stream",
     "text": [
      "[mbo] 39: learning_rate=0.135; feature_fraction=0.682; num_leaves=355; min_data_in_leaf=19438 : y = 1.43e+08 : 294.9 secs : infill_ei\n",
      "\n",
      "Saved the current state after iteration 40 in the file HT8230 (Clase 12, Ajustado Sem5).RDATA.\n",
      "\n"
     ]
    },
    {
     "name": "stdout",
     "output_type": "stream",
     "text": [
      "Validate  56     730    103904376     106203643    \n",
      "20231106 125523\t601\t976271\tgbdt\tbinary\tcustom\tTRUE\tTRUE\tFALSE\tTRUE\t-100\t-1\t0\t0.001\t0\t0\t31\t304\t1\t1\t1\tFALSE\t1\t0.1\t50\t0.5\tTRUE\t279571\t0.14934787180023\t0.746811003493764\t20\t11184\t10819\t148043951.524238\t56\n"
     ]
    },
    {
     "name": "stderr",
     "output_type": "stream",
     "text": [
      "[mbo] 40: learning_rate=0.149; feature_fraction=0.747; num_leaves=20; min_data_in_leaf=11184 : y = 1.48e+08 : 190.4 secs : infill_ei\n",
      "\n"
     ]
    },
    {
     "name": "stdout",
     "output_type": "stream",
     "text": [
      "Validate  57     840    102345961     105730246    \n",
      "20231106 125955\t601\t976271\tgbdt\tbinary\tcustom\tTRUE\tTRUE\tFALSE\tTRUE\t-100\t-1\t0\t0.001\t0\t0\t31\t416\t1\t1\t1\tFALSE\t1\t0.1\t50\t0.5\tTRUE\t279571\t0.118465814575452\t0.622246615392904\t1018\t25450\t12756\t144750918.54073\t57\n"
     ]
    },
    {
     "name": "stderr",
     "output_type": "stream",
     "text": [
      "[mbo] 41: learning_rate=0.118; feature_fraction=0.622; num_leaves=1018; min_data_in_leaf=25450 : y = 1.45e+08 : 272.2 secs : infill_ei\n",
      "\n"
     ]
    },
    {
     "name": "stdout",
     "output_type": "stream",
     "text": [
      "Validate  58     750    105814599     107459550    \n",
      "20231106 130407\t601\t976271\tgbdt\tbinary\tcustom\tTRUE\tTRUE\tFALSE\tTRUE\t-100\t-1\t0\t0.001\t0\t0\t31\t315\t1\t1\t1\tFALSE\t1\t0.1\t50\t0.5\tTRUE\t279571\t0.103369170763904\t0.719250055408943\t47\t10425\t13699\t143230218.390805\t58\n"
     ]
    },
    {
     "name": "stderr",
     "output_type": "stream",
     "text": [
      "[mbo] 42: learning_rate=0.103; feature_fraction=0.719; num_leaves=47; min_data_in_leaf=10425 : y = 1.43e+08 : 251.7 secs : infill_ei\n",
      "\n",
      "Saved the current state after iteration 43 in the file HT8230 (Clase 12, Ajustado Sem5).RDATA.\n",
      "\n"
     ]
    },
    {
     "name": "stdout",
     "output_type": "stream",
     "text": [
      "Validate  59     800    104051904     106105000    \n",
      "20231106 130906\t601\t976271\tgbdt\tbinary\tcustom\tTRUE\tTRUE\tFALSE\tTRUE\t-100\t-1\t0\t0.001\t0\t0\t31\t376\t1\t1\t1\tFALSE\t1\t0.1\t50\t0.5\tTRUE\t279571\t0.145814459372702\t0.746477031260941\t823\t10989\t11831\t144857702.648676\t59\n"
     ]
    },
    {
     "name": "stderr",
     "output_type": "stream",
     "text": [
      "[mbo] 43: learning_rate=0.146; feature_fraction=0.746; num_leaves=823; min_data_in_leaf=10989 : y = 1.45e+08 : 295.2 secs : infill_ei\n",
      "\n"
     ]
    },
    {
     "name": "stdout",
     "output_type": "stream",
     "text": [
      "Validate  60     950    106664776     108325087    \n",
      "20231106 131334\t601\t976271\tgbdt\tbinary\tcustom\tTRUE\tTRUE\tFALSE\tTRUE\t-100\t-1\t0\t0.001\t0\t0\t31\t519\t1\t1\t1\tFALSE\t1\t0.1\t50\t0.5\tTRUE\t279571\t0.125798837119673\t0.677216920984784\t734\t40301\t14799\t140564061.469265\t60\n"
     ]
    },
    {
     "name": "stderr",
     "output_type": "stream",
     "text": [
      "[mbo] 44: learning_rate=0.126; feature_fraction=0.677; num_leaves=734; min_data_in_leaf=40301 : y = 1.41e+08 : 267.2 secs : infill_ei\n",
      "\n"
     ]
    },
    {
     "name": "stdout",
     "output_type": "stream",
     "text": [
      "Validate  61     940    100460883     103182564    \n",
      "20231106 131751\t601\t976271\tgbdt\tbinary\tcustom\tTRUE\tTRUE\tFALSE\tTRUE\t-100\t-1\t0\t0.001\t0\t0\t31\t524\t1\t1\t1\tFALSE\t1\t0.1\t50\t0.5\tTRUE\t279571\t0.170087413746514\t0.783556220182898\t141\t44705\t14345\t141690127.436282\t61\n"
     ]
    },
    {
     "name": "stderr",
     "output_type": "stream",
     "text": [
      "[mbo] 45: learning_rate=0.17; feature_fraction=0.784; num_leaves=141; min_data_in_leaf=44705 : y = 1.42e+08 : 256.8 secs : infill_ei\n",
      "\n",
      "Saved the current state after iteration 46 in the file HT8230 (Clase 12, Ajustado Sem5).RDATA.\n",
      "\n"
     ]
    },
    {
     "name": "stdout",
     "output_type": "stream",
     "text": [
      "Validate  62     440    101529875     103130881    \n",
      "20231106 132023\t601\t976271\tgbdt\tbinary\tcustom\tTRUE\tTRUE\tFALSE\tTRUE\t-100\t-1\t0\t0.001\t0\t0\t31\t15\t1\t1\t1\tFALSE\t1\t0.1\t50\t0.5\tTRUE\t279571\t0.159552882900886\t0.746904112633638\t110\t16112\t16484\t130354468.765617\t62\n"
     ]
    },
    {
     "name": "stderr",
     "output_type": "stream",
     "text": [
      "[mbo] 46: learning_rate=0.16; feature_fraction=0.747; num_leaves=110; min_data_in_leaf=16112 : y = 1.3e+08 : 148.7 secs : infill_ei\n",
      "\n"
     ]
    },
    {
     "name": "stdout",
     "output_type": "stream",
     "text": [
      "Validate  63     840    107037269     107274570    \n",
      "20231106 132337\t601\t976271\tgbdt\tbinary\tcustom\tTRUE\tTRUE\tFALSE\tTRUE\t-100\t-1\t0\t0.001\t0\t0\t31\t416\t1\t1\t1\tFALSE\t1\t0.1\t50\t0.5\tTRUE\t279571\t0.141383654890335\t0.741795478171213\t20\t6920\t13093\t146255246.876562\t63\n"
     ]
    },
    {
     "name": "stderr",
     "output_type": "stream",
     "text": [
      "[mbo] 47: learning_rate=0.141; feature_fraction=0.742; num_leaves=20; min_data_in_leaf=6920 : y = 1.46e+08 : 193.4 secs : infill_ei\n",
      "\n"
     ]
    },
    {
     "name": "stdout",
     "output_type": "stream",
     "text": [
      "Validate  64     660    107011515     108711375    \n",
      "20231106 132638\t601\t976271\tgbdt\tbinary\tcustom\tTRUE\tTRUE\tFALSE\tTRUE\t-100\t-1\t0\t0.001\t0\t0\t31\t238\t1\t1\t1\tFALSE\t1\t0.1\t50\t0.5\tTRUE\t279571\t0.143139800435062\t0.856051965378936\t24\t13439\t13109\t144011832.583708\t64\n"
     ]
    },
    {
     "name": "stderr",
     "output_type": "stream",
     "text": [
      "[mbo] 48: learning_rate=0.143; feature_fraction=0.856; num_leaves=24; min_data_in_leaf=13439 : y = 1.44e+08 : 181.0 secs : infill_ei\n",
      "\n"
     ]
    },
    {
     "name": "stdout",
     "output_type": "stream",
     "text": [
      "Validate  65     770    103439682     107065679    \n",
      "20231106 133025\t601\t976271\tgbdt\tbinary\tcustom\tTRUE\tTRUE\tFALSE\tTRUE\t-100\t-1\t0\t0.001\t0\t0\t31\t347\t1\t1\t1\tFALSE\t1\t0.1\t50\t0.5\tTRUE\t279571\t0.142376886193138\t0.898068422602624\t146\t43023\t13189\t141827664.667666\t65\n"
     ]
    },
    {
     "name": "stderr",
     "output_type": "stream",
     "text": [
      "[mbo] 49: learning_rate=0.142; feature_fraction=0.898; num_leaves=146; min_data_in_leaf=43023 : y = 1.42e+08 : 225.6 secs : infill_ei\n",
      "\n",
      "Saved the current state after iteration 50 in the file HT8230 (Clase 12, Ajustado Sem5).RDATA.\n",
      "\n"
     ]
    },
    {
     "name": "stdout",
     "output_type": "stream",
     "text": [
      "Validate  66     1080    102860571     107256382    \n",
      "20231106 134057\t601\t976271\tgbdt\tbinary\tcustom\tTRUE\tTRUE\tFALSE\tTRUE\t-100\t-1\t0\t0.001\t0\t0\t31\t650\t1\t1\t1\tFALSE\t1\t0.1\t50\t0.5\tTRUE\t279571\t0.129592281785048\t0.579489406500209\t1003\t15013\t13747\t147474968.015992\t66\n"
     ]
    },
    {
     "name": "stderr",
     "output_type": "stream",
     "text": [
      "[mbo] 50: learning_rate=0.13; feature_fraction=0.579; num_leaves=1003; min_data_in_leaf=15013 : y = 1.47e+08 : 628.5 secs : infill_ei\n",
      "\n",
      "Saved the final state in the file HT8230 (Clase 12, Ajustado Sem5).RDATA\n",
      "\n",
      "Saved the final state in the file HT8230 (Clase 12, Ajustado Sem5).RDATA\n",
      "\n"
     ]
    },
    {
     "name": "stdout",
     "output_type": "stream",
     "text": [
      "\n",
      "\n",
      "La optimizacion Bayesiana ha terminado\n"
     ]
    }
   ],
   "source": [
    "# inicio la optimizacion bayesiana\n",
    "if (!file.exists(kbayesiana)) {\n",
    "  run <- mbo(obj.fun, learner = surr.km, control = ctrl)\n",
    "} else {\n",
    "  run <- mboContinue(kbayesiana) # retomo en caso que ya exista\n",
    "}\n",
    "\n",
    "\n",
    "cat(\"\\n\\nLa optimizacion Bayesiana ha terminado\\n\")\n"
   ]
  },
  {
   "cell_type": "code",
   "execution_count": null,
   "metadata": {
    "vscode": {
     "languageId": "r"
    }
   },
   "outputs": [],
   "source": []
  },
  {
   "cell_type": "code",
   "execution_count": null,
   "metadata": {
    "vscode": {
     "languageId": "r"
    }
   },
   "outputs": [],
   "source": []
  }
 ],
 "metadata": {
  "kernelspec": {
   "display_name": "R",
   "language": "R",
   "name": "ir"
  },
  "language_info": {
   "codemirror_mode": "r",
   "file_extension": ".r",
   "mimetype": "text/x-r-source",
   "name": "R",
   "pygments_lexer": "r",
   "version": "4.3.1"
  },
  "orig_nbformat": 4
 },
 "nbformat": 4,
 "nbformat_minor": 2
}
