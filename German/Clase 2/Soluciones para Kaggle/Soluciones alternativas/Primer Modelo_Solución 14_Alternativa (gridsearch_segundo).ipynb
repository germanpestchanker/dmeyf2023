{
 "cells": [
  {
   "cell_type": "code",
   "execution_count": 1,
   "metadata": {
    "vscode": {
     "languageId": "r"
    }
   },
   "outputs": [
    {
     "name": "stderr",
     "output_type": "stream",
     "text": [
      "Loading required package: data.table\n",
      "\n"
     ]
    },
    {
     "name": "stderr",
     "output_type": "stream",
     "text": [
      "Loading required package: rpart\n",
      "\n",
      "Loading required package: rpart.plot\n",
      "\n"
     ]
    }
   ],
   "source": [
    "# Arbol elemental con libreria  rpart\n",
    "# Debe tener instaladas las librerias  data.table  ,  rpart  y  rpart.plot\n",
    "\n",
    "# cargo las librerias que necesito\n",
    "require(\"data.table\")\n",
    "require(\"rpart\")\n",
    "require(\"rpart.plot\")"
   ]
  },
  {
   "cell_type": "code",
   "execution_count": 2,
   "metadata": {
    "vscode": {
     "languageId": "r"
    }
   },
   "outputs": [],
   "source": [
    "# Aqui se debe poner la carpeta de la materia de SU computadora local\n",
    "setwd(\"C:/Users/German/Desktop/dmeyf2023/German/Clase 1\") # Establezco el Working Directory\n",
    "\n",
    "# cargo el dataset\n",
    "dataset <- fread(\"competencia_01_alternativo.csv\")\n",
    "\n",
    "\n",
    "dtrain <- dataset[foto_mes == 202103] # defino donde voy a entrenar\n",
    "dapply <- dataset[foto_mes == 202105] # defino donde voy a aplicar el modelo"
   ]
  },
  {
   "cell_type": "code",
   "execution_count": 3,
   "metadata": {
    "vscode": {
     "languageId": "r"
    }
   },
   "outputs": [],
   "source": [
    "# genero el modelo,  aqui se construye el arbol\n",
    "# quiero predecir clase_ternaria a partir de el resto de las variables\n",
    "modelo <- rpart(\n",
    "        formula = \"clase_ternaria ~ .\",\n",
    "        data = dtrain, # los datos donde voy a entrenar\n",
    "        xval = 0,\n",
    "        cp = -1, # esto significa no limitar la complejidad de los splits\n",
    "        minsplit = 1000, # minima cantidad de registros para que se haga el split\n",
    "        minbucket = 500, # tamaño minimo de una hoja\n",
    "        maxdepth = 5\n",
    ") # profundidad maxima del arbol"
   ]
  },
  {
   "cell_type": "code",
   "execution_count": 4,
   "metadata": {
    "vscode": {
     "languageId": "r"
    }
   },
   "outputs": [
    {
     "data": {
      "image/png": "[encoded data removed]",
      "text/plain": [
       "plot without title"
      ]
     },
     "metadata": {
      "image/png": {
       "height": 420,
       "width": 420
      }
     },
     "output_type": "display_data"
    }
   ],
   "source": [
    "# grafico el arbol\n",
    "prp(modelo,\n",
    "        extra = 101, digits = -5,\n",
    "        branch = 1, type = 4, varlen = 0, faclen = 0\n",
    ")"
   ]
  },
  {
   "cell_type": "code",
   "execution_count": 5,
   "metadata": {
    "vscode": {
     "languageId": "r"
    }
   },
   "outputs": [],
   "source": [
    "# aplico el modelo a los datos nuevos\n",
    "prediccion <- predict(\n",
    "        object = modelo,\n",
    "        newdata = dapply,\n",
    "        type = \"prob\"\n",
    ")\n",
    "\n",
    "# prediccion es una matriz con TRES columnas,\n",
    "# llamadas \"BAJA+1\", \"BAJA+2\"  y \"CONTINUA\"\n",
    "# cada columna es el vector de probabilidades"
   ]
  },
  {
   "cell_type": "code",
   "execution_count": 6,
   "metadata": {
    "vscode": {
     "languageId": "r"
    }
   },
   "outputs": [],
   "source": [
    "# agrego a dapply una columna nueva que es la probabilidad de BAJA+2\n",
    "dapply[, prob_baja2 := prediccion[, \"BAJA+2\"]]"
   ]
  },
  {
   "cell_type": "code",
   "execution_count": 7,
   "metadata": {
    "vscode": {
     "languageId": "r"
    }
   },
   "outputs": [],
   "source": [
    "# solo le envio estimulo a los registros\n",
    "#  con probabilidad de BAJA+2 mayor  a  1/40\n",
    "dapply[, Predicted := as.numeric(prob_baja2 > 1 / 40)]\n",
    "\n"
   ]
  },
  {
   "cell_type": "code",
   "execution_count": 8,
   "metadata": {
    "vscode": {
     "languageId": "r"
    }
   },
   "outputs": [
    {
     "name": "stderr",
     "output_type": "stream",
     "text": [
      "Warning message in dir.create(\"./exp/\"):\n",
      "\"'.\\exp' already exists\"\n",
      "Warning message in dir.create(\"./exp/KA2001\"):\n",
      "\"'.\\exp\\KA2001' already exists\"\n"
     ]
    }
   ],
   "source": [
    "# genero el archivo para Kaggle\n",
    "# primero creo la carpeta donde va el experimento\n",
    "dir.create(\"./exp/\")\n",
    "dir.create(\"./exp/KA2001\")\n",
    "\n",
    "# solo los campos para Kaggle\n",
    "fwrite(dapply[, list(numero_de_cliente, Predicted)],\n",
    "        file = \"./exp/KA2001/K101_0014.csv\",\n",
    "        sep = \",\"\n",
    ")"
   ]
  }
 ],
 "metadata": {
  "kernelspec": {
   "display_name": "R",
   "language": "R",
   "name": "ir"
  },
  "language_info": {
   "codemirror_mode": "r",
   "file_extension": ".r",
   "mimetype": "text/x-r-source",
   "name": "R",
   "pygments_lexer": "r",
   "version": "4.3.1"
  },
  "orig_nbformat": 4
 },
 "nbformat": 4,
 "nbformat_minor": 2
}
