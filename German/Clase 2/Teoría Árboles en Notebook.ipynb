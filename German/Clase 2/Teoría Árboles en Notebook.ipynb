{
 "cells": [
  {
   "cell_type": "markdown",
   "metadata": {},
   "source": [
    "# Step 1: Ejecutando un árbol"
   ]
  },
  {
   "cell_type": "code",
   "execution_count": 28,
   "metadata": {
    "vscode": {
     "languageId": "r"
    }
   },
   "outputs": [
    {
     "name": "stderr",
     "output_type": "stream",
     "text": [
      "Loading required package: geometry\n",
      "\n"
     ]
    }
   ],
   "source": [
    "# Librerías necesarias\n",
    "require(\"data.table\")\n",
    "require(\"rpart\")\n",
    "require(\"ggplot2\")\n",
    "require(\"geometry\")\n"
   ]
  },
  {
   "cell_type": "code",
   "execution_count": 2,
   "metadata": {
    "vscode": {
     "languageId": "r"
    }
   },
   "outputs": [],
   "source": [
    "# Aqui se debe poner la carpeta de la materia de SU computadora local\n",
    "setwd(\"C:/Users/German/Desktop/dmeyf2023/German/Clase 1\") # Establezco el Working Directory\n",
    "\n",
    "# Poner sus semillas\n",
    "semillas <- c(279511, 279523, 279541, 279551, 279571)\n",
    "\n",
    "# Cargamos el dataset\n",
    "dataset <- fread(\"competencia_01.csv\")\n",
    "dtrain <- dataset[foto_mes == 202103]"
   ]
  },
  {
   "cell_type": "code",
   "execution_count": 3,
   "metadata": {
    "vscode": {
     "languageId": "r"
    }
   },
   "outputs": [
    {
     "name": "stdout",
     "output_type": "stream",
     "text": [
      "n= 163324 \n",
      "\n",
      "node), split, n, loss, yval, (yprob)\n",
      "      * denotes terminal node\n",
      "\n",
      " 1) root 163324 2012 CONTINUA (0.0058962553 0.0064228160 0.9876809287)  \n",
      "   2) ctrx_quarter< 17.5 10372  927 CONTINUA (0.0433860393 0.0459892017 0.9106247590)  \n",
      "     4) mcuentas_saldo< -1388.155 3869  620 CONTINUA (0.0754716981 0.0847764280 0.8397518739)  \n",
      "       8) mprestamos_personales< 6627.825 2901  599 CONTINUA (0.0965184419 0.1099620820 0.7935194760)  \n",
      "        16) cdescubierto_preacordado< 0.5 313  140 CONTINUA (0.1565495208 0.2907348243 0.5527156550) *\n",
      "        17) cdescubierto_preacordado>=0.5 2588  459 CONTINUA (0.0892581144 0.0880989181 0.8226429675) *\n",
      "       9) mprestamos_personales>=6627.825 968   21 CONTINUA (0.0123966942 0.0092975207 0.9783057851)  \n",
      "        18) Visa_status>=8 7    4 CONTINUA (0.2857142857 0.2857142857 0.4285714286) *\n",
      "        19) Visa_status< 8 961   17 CONTINUA (0.0104058273 0.0072840791 0.9823100937) *\n",
      "     5) mcuentas_saldo>=-1388.155 6503  307 CONTINUA (0.0242964785 0.0229125019 0.9527910195)  \n",
      "      10) mpasivos_margen< 82.185 3488  226 CONTINUA (0.0312500000 0.0335435780 0.9352064220)  \n",
      "        20) mprestamos_personales< 39659.07 2906  222 CONTINUA (0.0368203716 0.0395732966 0.9236063317) *\n",
      "        21) mprestamos_personales>=39659.07 582    4 CONTINUA (0.0034364261 0.0034364261 0.9931271478) *\n",
      "      11) mpasivos_margen>=82.185 3015   81 CONTINUA (0.0162520730 0.0106135987 0.9731343284)  \n",
      "        22) ctarjeta_visa_transacciones>=20.5 1    0 BAJA+1 (1.0000000000 0.0000000000 0.0000000000) *\n",
      "        23) ctarjeta_visa_transacciones< 20.5 3014   80 CONTINUA (0.0159256802 0.0106171201 0.9734571997) *\n",
      "   3) ctrx_quarter>=17.5 152952 1085 CONTINUA (0.0033539934 0.0037397353 0.9929062712)  \n",
      "     6) ctrx_quarter< 47.5 21087  585 CONTINUA (0.0128040973 0.0149381135 0.9722577892)  \n",
      "      12) mcaja_ahorro< 3823.16 8463  411 CONTINUA (0.0222143448 0.0263499941 0.9514356611)  \n",
      "        24) Master_status>=8 211   31 CONTINUA (0.0568720379 0.0900473934 0.8530805687) *\n",
      "        25) Master_status< 8 8252  380 CONTINUA (0.0213281629 0.0247212797 0.9539505574) *\n",
      "      13) mcaja_ahorro>=3823.16 12624  174 CONTINUA (0.0064955640 0.0072877060 0.9862167300)  \n",
      "        26) Visa_status>=8 459   21 CONTINUA (0.0152505447 0.0305010893 0.9542483660) *\n",
      "        27) Visa_status< 8 12165  153 CONTINUA (0.0061652281 0.0064118372 0.9874229346) *\n",
      "     7) ctrx_quarter>=47.5 131865  500 CONTINUA (0.0018427938 0.0019489630 0.9962082433)  \n",
      "      14) Visa_status>=8 921   27 CONTINUA (0.0086862106 0.0206297503 0.9706840391)  \n",
      "        28) ccajas_otras>=8.5 2    0 BAJA+1 (1.0000000000 0.0000000000 0.0000000000) *\n",
      "        29) ccajas_otras< 8.5 919   25 CONTINUA (0.0065288357 0.0206746464 0.9727965180) *\n",
      "      15) Visa_status< 8 130944  473 CONTINUA (0.0017946603 0.0018175709 0.9963877688)  \n",
      "        30) cpayroll_trx< 0.5 50186  413 CONTINUA (0.0039453234 0.0042840633 0.9917706133) *\n",
      "        31) cpayroll_trx>=0.5 80758   60 CONTINUA (0.0004581589 0.0002848015 0.9992570396) *\n"
     ]
    }
   ],
   "source": [
    "# Generamos el primer modelo\n",
    "arbol <- rpart(formula =    \"clase_ternaria ~ .\",\n",
    "                 data =      dtrain,\n",
    "                 xval =      0,\n",
    "                 cp =       -0.3,\n",
    "                 minsplit =  0,\n",
    "                 minbucket = 1,\n",
    "                 maxdepth =  4)\n",
    "\n",
    "print(arbol)\n"
   ]
  },
  {
   "cell_type": "markdown",
   "metadata": {},
   "source": [
    "Preguntas\n",
    "Usualmente se suele cortar las variables en 2 intervalos\n",
    " - ¿Se podría cortar en más intervalos?\n",
    " - ¿Cuál sería el costo?\n",
    " - ¿Se obtendr.ían mejores resultados?\n",
    "\n",
    " Una de las muchas ventajas que tienen los árboles es la simpleza que tienen  para ser implementados en fácilmente en sistemas productivos, dado que la reescritura de las reglas de salida es muy simple"
   ]
  },
  {
   "cell_type": "markdown",
   "metadata": {},
   "source": [
    "# Step 2: De árbol a tabla"
   ]
  },
  {
   "cell_type": "markdown",
   "metadata": {},
   "source": [
    "La siguiente función devuelve todas las hojas (nodos terminales) en una tabla para poder analizar mejor nuestro árbol."
   ]
  },
  {
   "cell_type": "code",
   "execution_count": 4,
   "metadata": {
    "vscode": {
     "languageId": "r"
    }
   },
   "outputs": [],
   "source": [
    "tablahojas <- function(arbol, datos, target = \"clase_ternaria\") {\n",
    "  # Tomamos la columna con el target\n",
    "  target_vector <- datos[, get(target)]\n",
    "  # Tomamos las clases de nuestro target\n",
    "  classes <- unique(target_vector)\n",
    "  # Tomamos las posicion de las hojas que aplican a los registro de nuestro ds\n",
    "  row_leaf <- unique(arbol$where)\n",
    "  leaves <- data.table(row_frame = row_leaf)\n",
    "  setkey(leaves,row_frame)\n",
    "  # Relacion target ~ hojas\n",
    "  leaves_target <- dcast(\n",
    "    data.table(\n",
    "      target = target_vector,\n",
    "      leaf = arbol$where),\n",
    "    leaf ~ target, length,\n",
    "    value.var = \"target\")\n",
    "  setkey(leaves_target, leaf)\n",
    "  # Juntamos todo\n",
    "  leaves_target <- leaves_target[leaves, nomatch = 0]\n",
    "  # Sumamos algunas columnas calculadas\n",
    "  colnames(leaves_target[, classes, with = FALSE])[apply(\n",
    "    leaves_target[, classes, with = FALSE], 1, which.max)]\n",
    "  # Clase mayoritaria\n",
    "  leaves_target[, y := colnames(\n",
    "                    leaves_target[, classes, with = FALSE]\n",
    "                  )[apply(leaves_target[, classes, with = FALSE],\n",
    "                   1, which.max)]]\n",
    "  # Cantidad de elementos de la hoja\n",
    "  leaves_target[, TOTAL := unlist(Reduce(function(a, b) Map(`+`, a, b), .SD)),\n",
    "                 .SDcols = classes]\n",
    "  leaves_target\n",
    "}"
   ]
  },
  {
   "cell_type": "code",
   "execution_count": 5,
   "metadata": {
    "vscode": {
     "languageId": "r"
    }
   },
   "outputs": [
    {
     "name": "stdout",
     "output_type": "stream",
     "text": [
      "    leaf BAJA+1 BAJA+2 CONTINUA        y TOTAL\n",
      " 1:    5     49     91      173 CONTINUA   313\n",
      " 2:    6    231    228     2129 CONTINUA  2588\n",
      " 3:    8      2      2        3 CONTINUA     7\n",
      " 4:    9     10      7      944 CONTINUA   961\n",
      " 5:   12    107    115     2684 CONTINUA  2906\n",
      " 6:   13      2      2      578 CONTINUA   582\n",
      " 7:   15      1      0        0   BAJA+1     1\n",
      " 8:   16     48     32     2934 CONTINUA  3014\n",
      " 9:   20     12     19      180 CONTINUA   211\n",
      "10:   21    176    204     7872 CONTINUA  8252\n",
      "11:   23      7     14      438 CONTINUA   459\n",
      "12:   24     75     78    12012 CONTINUA 12165\n",
      "13:   27      2      0        0   BAJA+1     2\n",
      "14:   28      6     19      894 CONTINUA   919\n",
      "15:   30    198    215    49773 CONTINUA 50186\n",
      "16:   31     37     23    80698 CONTINUA 80758\n"
     ]
    }
   ],
   "source": [
    "# Ejecutamos la función sobre nuestro modelo, con nuestros datos\n",
    "hojas <- tablahojas(arbol, dtrain)\n",
    "print(hojas[,])"
   ]
  },
  {
   "cell_type": "markdown",
   "metadata": {},
   "source": [
    "Preguntas\n",
    " - ¿Con qué criterio eligió la clase de cada hoja que determino la clasificación de los registros?\n",
    " - ¿Cuántas hojas con BAJAS+2 hay?\n"
   ]
  },
  {
   "cell_type": "markdown",
   "metadata": {},
   "source": [
    "# Step 3: Calculando la ganancia de cada hoja"
   ]
  },
  {
   "cell_type": "code",
   "execution_count": 6,
   "metadata": {
    "vscode": {
     "languageId": "r"
    }
   },
   "outputs": [
    {
     "name": "stdout",
     "output_type": "stream",
     "text": [
      "    leaf BAJA+1 BAJA+2 CONTINUA        y TOTAL   ganancia\n",
      " 1:    5     49     91      173 CONTINUA   313   23289000\n",
      " 2:    6    231    228     2129 CONTINUA  2588   45724000\n",
      " 3:    8      2      2        3 CONTINUA     7     511000\n",
      " 4:    9     10      7      944 CONTINUA   961   -4767000\n",
      " 5:   12    107    115     2684 CONTINUA  2906   11858000\n",
      " 6:   13      2      2      578 CONTINUA   582   -3514000\n",
      " 7:   15      1      0        0   BAJA+1     1      -7000\n",
      " 8:   16     48     32     2934 CONTINUA  3014  -12138000\n",
      " 9:   20     12     19      180 CONTINUA   211    3843000\n",
      "10:   21    176    204     7872 CONTINUA  8252    -644000\n",
      "11:   23      7     14      438 CONTINUA   459     707000\n",
      "12:   24     75     78    12012 CONTINUA 12165  -63315000\n",
      "13:   27      2      0        0   BAJA+1     2     -14000\n",
      "14:   28      6     19      894 CONTINUA   919   -1113000\n",
      "15:   30    198    215    49773 CONTINUA 50186 -291102000\n",
      "16:   31     37     23    80698 CONTINUA 80758 -558866000\n"
     ]
    }
   ],
   "source": [
    "# Agregamos un nuevo campo de nombre ganancia\n",
    "hojas[, ganancia := `BAJA+2` * 273000 - 7000 * (CONTINUA + `BAJA+1`)]\n",
    "print(hojas)"
   ]
  },
  {
   "cell_type": "markdown",
   "metadata": {},
   "source": [
    "Pregunta\n",
    "- ¿Cuantás hojas que no son BAJA+2 tienen aún así ganancia positiva?"
   ]
  },
  {
   "cell_type": "markdown",
   "metadata": {},
   "source": [
    "# Step 4: Sumarizando el envío"
   ]
  },
  {
   "cell_type": "code",
   "execution_count": 7,
   "metadata": {
    "vscode": {
     "languageId": "r"
    }
   },
   "outputs": [
    {
     "name": "stdout",
     "output_type": "stream",
     "text": [
      "   ganancia enviados sevan\n",
      "1: 85932000     6484   469\n"
     ]
    }
   ],
   "source": [
    "print(hojas[ganancia > 0, .(\n",
    "    ganancia = sum(ganancia),\n",
    "    enviados = sum(TOTAL),\n",
    "    sevan = sum(`BAJA+2`))])"
   ]
  },
  {
   "cell_type": "markdown",
   "metadata": {},
   "source": [
    " Preguntas\n",
    " Si enviaramos todos los casos de las hojas con ganancia positiva\n",
    " - ¿Cuánta ganancia tendríamos?\n",
    " - ¿Cuánta personas estimularíamos?\n",
    " - ¿A cuántas personas acertaríamos?"
   ]
  },
  {
   "cell_type": "markdown",
   "metadata": {},
   "source": [
    "# Step 5: Binarizando la salida (en tu cara RAE)"
   ]
  },
  {
   "cell_type": "code",
   "execution_count": 8,
   "metadata": {
    "vscode": {
     "languageId": "r"
    }
   },
   "outputs": [],
   "source": [
    "# Creamos un nuevo target binario\n",
    "\n",
    "dtrain[, clase_binaria := ifelse(\n",
    "                            clase_ternaria == \"BAJA+2\",\n",
    "                                \"evento\",\n",
    "                                \"noevento\"\n",
    "                            )]"
   ]
  },
  {
   "cell_type": "code",
   "execution_count": 9,
   "metadata": {
    "vscode": {
     "languageId": "r"
    }
   },
   "outputs": [],
   "source": [
    "# Borramos el target viejo\n",
    "dtrain[, clase_ternaria := NULL]"
   ]
  },
  {
   "cell_type": "code",
   "execution_count": 10,
   "metadata": {
    "vscode": {
     "languageId": "r"
    }
   },
   "outputs": [],
   "source": [
    "arbolbinario <- rpart(\"clase_binaria ~ .\",\n",
    "                 data =      dtrain,\n",
    "                 xval =      0,\n",
    "                 cp =       -0.3,\n",
    "                 minsplit =  0,\n",
    "                 minbucket = 5,\n",
    "                 maxdepth =  4)"
   ]
  },
  {
   "cell_type": "code",
   "execution_count": 11,
   "metadata": {
    "vscode": {
     "languageId": "r"
    }
   },
   "outputs": [],
   "source": [
    "# Transformamos las hojas a una tabla\n",
    "hojasbinario <- tablahojas(arbolbinario, dtrain, \"clase_binaria\")"
   ]
  },
  {
   "cell_type": "code",
   "execution_count": 12,
   "metadata": {
    "vscode": {
     "languageId": "r"
    }
   },
   "outputs": [
    {
     "name": "stdout",
     "output_type": "stream",
     "text": [
      "    leaf evento noevento        y TOTAL   ganancia\n",
      " 1:    5     14        6   evento    20    3780000\n",
      " 2:    6    100      528 noevento   628   23604000\n",
      " 3:    8      3        5 noevento     8     784000\n",
      " 4:    9      2      430 noevento   432   -2464000\n",
      " 5:   12    264     2717 noevento  2981   53053000\n",
      " 6:   13      7     1008 noevento  1015   -5145000\n",
      " 7:   15     24      562 noevento   586    2618000\n",
      " 8:   16     63     4639 noevento  4702  -15274000\n",
      " 9:   20      7        5   evento    12    1876000\n",
      "10:   21      1       12 noevento    13     189000\n",
      "11:   23      4        7 noevento    11    1043000\n",
      "12:   24     30     1224 noevento  1254    -378000\n",
      "13:   27    179     6495 noevento  6674    3402000\n",
      "14:   28    112    13942 noevento 14054  -67018000\n",
      "15:   30    219    51103 noevento 51322 -297934000\n",
      "16:   31     20    79592 noevento 79612 -551684000\n",
      "   ganancia enviados sevan\n",
      "1: 90349000    10933   596\n"
     ]
    }
   ],
   "source": [
    "# Y agregamos la ganancia de cada hoja\n",
    "hojasbinario[, ganancia := evento * 273000 - 7000 * noevento]\n",
    "print(hojasbinario)\n",
    "# Por último sumarizamos\n",
    "print(hojasbinario[ganancia > 0,\n",
    " .(ganancia = sum(ganancia), enviados = sum(TOTAL), sevan = sum(evento))])"
   ]
  },
  {
   "cell_type": "markdown",
   "metadata": {},
   "source": [
    " Pregunta\n",
    " - ¿Considera que la agrupación de clases fue positiva para la  ganancia?"
   ]
  },
  {
   "cell_type": "markdown",
   "metadata": {},
   "source": [
    "# Step 6: Salida probabilísticas"
   ]
  },
  {
   "cell_type": "markdown",
   "metadata": {},
   "source": [
    "Calculamos la probabilidad de evento en cada hoja"
   ]
  },
  {
   "cell_type": "code",
   "execution_count": 13,
   "metadata": {
    "vscode": {
     "languageId": "r"
    }
   },
   "outputs": [],
   "source": [
    "hojasbinario[, p_evento := evento / (evento + noevento)]"
   ]
  },
  {
   "cell_type": "markdown",
   "metadata": {},
   "source": [
    "Ordenamos de forma descendiente las probabilidades, ya que nos interesan ante todo las probabilidades más altas"
   ]
  },
  {
   "cell_type": "code",
   "execution_count": 14,
   "metadata": {
    "vscode": {
     "languageId": "r"
    }
   },
   "outputs": [],
   "source": [
    "hojasordenadas <- hojasbinario[order(-p_evento),]"
   ]
  },
  {
   "cell_type": "markdown",
   "metadata": {},
   "source": [
    "Calculamos la ganancia acumulada, desde con la probabilidad desde la primera fila con probabilidad más alta hasta la fila N, para cada fila."
   ]
  },
  {
   "cell_type": "code",
   "execution_count": 15,
   "metadata": {
    "vscode": {
     "languageId": "r"
    }
   },
   "outputs": [
    {
     "name": "stdout",
     "output_type": "stream",
     "text": [
      "    leaf evento noevento        y TOTAL   ganancia     p_evento   gan_acum\n",
      " 1:    5     14        6   evento    20    3780000 0.7000000000    3780000\n",
      " 2:   20      7        5   evento    12    1876000 0.5833333333    5656000\n",
      " 3:    8      3        5 noevento     8     784000 0.3750000000    6440000\n",
      " 4:   23      4        7 noevento    11    1043000 0.3636363636    7483000\n",
      " 5:    6    100      528 noevento   628   23604000 0.1592356688   31087000\n",
      " 6:   12    264     2717 noevento  2981   53053000 0.0885608856   84140000\n",
      " 7:   21      1       12 noevento    13     189000 0.0769230769   84329000\n",
      " 8:   15     24      562 noevento   586    2618000 0.0409556314   86947000\n",
      " 9:   27    179     6495 noevento  6674    3402000 0.0268204975   90349000\n",
      "10:   24     30     1224 noevento  1254    -378000 0.0239234450   89971000\n",
      "11:   16     63     4639 noevento  4702  -15274000 0.0133985538   74697000\n",
      "12:   28    112    13942 noevento 14054  -67018000 0.0079692614    7679000\n",
      "13:   13      7     1008 noevento  1015   -5145000 0.0068965517    2534000\n",
      "14:    9      2      430 noevento   432   -2464000 0.0046296296      70000\n",
      "15:   30    219    51103 noevento 51322 -297934000 0.0042671759 -297864000\n",
      "16:   31     20    79592 noevento 79612 -551684000 0.0002512184 -849548000\n"
     ]
    }
   ],
   "source": [
    "hojasordenadas[, gan_acum := cumsum(ganancia)]\n",
    "\n",
    "print(hojasordenadas)"
   ]
  },
  {
   "cell_type": "markdown",
   "metadata": {},
   "source": [
    " Preguntas:\n",
    " - Puede pasar que dos hojas tengan la misma probabilidad?\n",
    " - ¿Cómo ve la relación entre la probabilidad ordenada y la hojas con ganancia?\n",
    " - ¿Cuál es la máxima ganancia posible es nuestro árbol?\n",
    " - ¿Cuál es el `punto de corte` que sugiere?\n",
    " - ¿Por qué es distinto al teórico?\n",
    " - ¿Es nuestro `punto de corte` es igual de útil?"
   ]
  },
  {
   "cell_type": "markdown",
   "metadata": {},
   "source": [
    "# Step 7: Graficando la ganancia"
   ]
  },
  {
   "cell_type": "code",
   "execution_count": 22,
   "metadata": {
    "vscode": {
     "languageId": "r"
    }
   },
   "outputs": [
    {
     "name": "stderr",
     "output_type": "stream",
     "text": [
      "Warning message:\n",
      "\"\u001b[1m\u001b[22mUsing `size` aesthetic for lines was deprecated in ggplot2 3.4.0.\n",
      "\u001b[36mℹ\u001b[39m Please use `linewidth` instead.\"\n"
     ]
    },
    {
     "data": {
      "image/png": "[encoded data removed]",
      "text/plain": [
       "plot without title"
      ]
     },
     "metadata": {
      "image/png": {
       "height": 420,
       "width": 420
      }
     },
     "output_type": "display_data"
    }
   ],
   "source": [
    "ggplot(hojasordenadas, aes(x = p_evento ,y = gan_acum)) +\n",
    "     scale_x_reverse() +\n",
    "     geom_line(size = 1)"
   ]
  },
  {
   "cell_type": "markdown",
   "metadata": {},
   "source": [
    " Pregunta\n",
    " - ¿Cómo interpretamos este gráfico?"
   ]
  },
  {
   "cell_type": "markdown",
   "metadata": {},
   "source": [
    "# Step 8: No todo es plata en la vida\n"
   ]
  },
  {
   "cell_type": "markdown",
   "metadata": {},
   "source": [
    "`NOTA`:\n",
    "Existen más formas de medir la calidad del modelo a través de las probabilidades que nos entrega. \n",
    "A nivel global podemos usar AUC: área bajo la curva ROC:https://en.wikipedia.org/wiki/Receiver_operating_characteristic que nos muestra el comportamiento global de la performance del modelo.\n",
    "Para la **curva ROC** vamos a necesitar construir una Matriz de confusión https://en.wikipedia.org/wiki/Confusion_matrix por cada punto de corte posible."
   ]
  },
  {
   "cell_type": "code",
   "execution_count": 23,
   "metadata": {
    "vscode": {
     "languageId": "r"
    }
   },
   "outputs": [],
   "source": [
    "# Vamos a sumar las variables `tp`, `tn`, `fp` y `fn`\n",
    "hojasordenadas[, c(\"evento_acum\",\"noevento_acum\") :=\n",
    "                  list(cumsum(evento),cumsum(noevento))]\n",
    "total_evento <- hojasordenadas[, sum(evento)]\n",
    "total_noevento <- hojasordenadas[, sum(noevento)]\n",
    "hojasordenadas[, c(\"evento_restantes\", \"noevento_restantes\") :=\n",
    "            list(total_evento - evento_acum, total_noevento - noevento_acum)]\n",
    "\n",
    "hojasordenadas[, tp := evento_acum]\n",
    "hojasordenadas[, tn := noevento_restantes]\n",
    "hojasordenadas[, fp := noevento_acum]\n",
    "hojasordenadas[, fn := evento_restantes]"
   ]
  },
  {
   "cell_type": "code",
   "execution_count": 24,
   "metadata": {
    "vscode": {
     "languageId": "r"
    }
   },
   "outputs": [
    {
     "name": "stdout",
     "output_type": "stream",
     "text": [
      "        p_evento evento noevento   tp     tn     fp   fn\n",
      " 1: 0.7000000000     14        6   14 162269      6 1035\n",
      " 2: 0.5833333333      7        5   21 162264     11 1028\n",
      " 3: 0.3750000000      3        5   24 162259     16 1025\n",
      " 4: 0.3636363636      4        7   28 162252     23 1021\n",
      " 5: 0.1592356688    100      528  128 161724    551  921\n",
      " 6: 0.0885608856    264     2717  392 159007   3268  657\n",
      " 7: 0.0769230769      1       12  393 158995   3280  656\n",
      " 8: 0.0409556314     24      562  417 158433   3842  632\n",
      " 9: 0.0268204975    179     6495  596 151938  10337  453\n",
      "10: 0.0239234450     30     1224  626 150714  11561  423\n",
      "11: 0.0133985538     63     4639  689 146075  16200  360\n",
      "12: 0.0079692614    112    13942  801 132133  30142  248\n",
      "13: 0.0068965517      7     1008  808 131125  31150  241\n",
      "14: 0.0046296296      2      430  810 130695  31580  239\n",
      "15: 0.0042671759    219    51103 1029  79592  82683   20\n",
      "16: 0.0002512184     20    79592 1049      0 162275    0\n"
     ]
    }
   ],
   "source": [
    "# Para validar los cálculos anteriores vamos a visualizar solo los campos importantes\n",
    "print(hojasordenadas[, .(p_evento, evento, noevento, tp, tn, fp, fn)])"
   ]
  },
  {
   "cell_type": "markdown",
   "metadata": {},
   "source": [
    "# Step 9: Armando nuestra curva ROC"
   ]
  },
  {
   "cell_type": "code",
   "execution_count": 25,
   "metadata": {
    "vscode": {
     "languageId": "r"
    }
   },
   "outputs": [],
   "source": [
    "# Calculamos las variables necesarios para la curva ROC\n",
    "hojasordenadas[, tpr := (tp / (tp + fn))]\n",
    "hojasordenadas[, fpr := (fp / (fp + tn))]"
   ]
  },
  {
   "cell_type": "code",
   "execution_count": 26,
   "metadata": {
    "vscode": {
     "languageId": "r"
    }
   },
   "outputs": [
    {
     "data": {
      "image/png": "[encoded data removed]",
      "text/plain": [
       "plot without title"
      ]
     },
     "metadata": {
      "image/png": {
       "height": 420,
       "width": 420
      }
     },
     "output_type": "display_data"
    }
   ],
   "source": [
    "# La graficamos\n",
    "ggplot(hojasordenadas, aes(x = fpr, y = tpr)) +\n",
    "  # Agregamos la función identidad\n",
    "  geom_abline(intercept = 0, slope = 1) +\n",
    "  geom_line(lwd = 1)"
   ]
  },
  {
   "cell_type": "markdown",
   "metadata": {},
   "source": [
    "Pregunta\n",
    "- ¿Qué representa la curva ROC?"
   ]
  },
  {
   "cell_type": "markdown",
   "metadata": {},
   "source": [
    "# Step 10: Calculando el área bajo la curva"
   ]
  },
  {
   "cell_type": "markdown",
   "metadata": {},
   "source": [
    "`NOTA`: Como es muy complejo reflejar en palabras una curva, se suele calcular el área bajo su curva (auc) y reflejar ese valor como métrica de la calidad del modelo."
   ]
  },
  {
   "cell_type": "code",
   "execution_count": 29,
   "metadata": {
    "vscode": {
     "languageId": "r"
    }
   },
   "outputs": [
    {
     "name": "stdout",
     "output_type": "stream",
     "text": [
      "[1] 0.8703878\n"
     ]
    }
   ],
   "source": [
    "# Calculamos su área, con el paquete Geometry\n",
    "x <- c(hojasordenadas$fpr,1)\n",
    "y <- c(hojasordenadas$tpr, 0)\n",
    "# El valor de la auc\n",
    "print(polyarea(x, y))"
   ]
  },
  {
   "cell_type": "markdown",
   "metadata": {},
   "source": [
    " Pregunta\n",
    " - ¿AUC es una métrica global o local?\n",
    " - ¿Pueden dos curvas distintas tener un mismo valor de AUC?"
   ]
  }
 ],
 "metadata": {
  "kernelspec": {
   "display_name": "R",
   "language": "R",
   "name": "ir"
  },
  "language_info": {
   "codemirror_mode": "r",
   "file_extension": ".r",
   "mimetype": "text/x-r-source",
   "name": "R",
   "pygments_lexer": "r",
   "version": "4.3.1"
  },
  "orig_nbformat": 4
 },
 "nbformat": 4,
 "nbformat_minor": 2
}
