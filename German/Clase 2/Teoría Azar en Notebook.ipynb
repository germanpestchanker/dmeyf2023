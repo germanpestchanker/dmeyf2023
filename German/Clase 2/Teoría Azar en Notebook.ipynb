{
 "cells": [
  {
   "cell_type": "markdown",
   "metadata": {},
   "source": [
    "# Step 1: El simple y viejo Train / Test"
   ]
  },
  {
   "cell_type": "code",
   "execution_count": 1,
   "metadata": {
    "vscode": {
     "languageId": "r"
    }
   },
   "outputs": [
    {
     "data": {
      "text/html": [
       "<table class=\"dataframe\">\n",
       "<caption>A matrix: 2 × 6 of type dbl</caption>\n",
       "<thead>\n",
       "\t<tr><th></th><th scope=col>used</th><th scope=col>(Mb)</th><th scope=col>gc trigger</th><th scope=col>(Mb)</th><th scope=col>max used</th><th scope=col>(Mb)</th></tr>\n",
       "</thead>\n",
       "<tbody>\n",
       "\t<tr><th scope=row>Ncells</th><td> 627610</td><td>33.6</td><td>1404605</td><td>75.1</td><td> 994513</td><td>53.2</td></tr>\n",
       "\t<tr><th scope=row>Vcells</th><td>1149698</td><td> 8.8</td><td>8388608</td><td>64.0</td><td>1769393</td><td>13.5</td></tr>\n",
       "</tbody>\n",
       "</table>\n"
      ],
      "text/latex": [
       "A matrix: 2 × 6 of type dbl\n",
       "\\begin{tabular}{r|llllll}\n",
       "  & used & (Mb) & gc trigger & (Mb) & max used & (Mb)\\\\\n",
       "\\hline\n",
       "\tNcells &  627610 & 33.6 & 1404605 & 75.1 &  994513 & 53.2\\\\\n",
       "\tVcells & 1149698 &  8.8 & 8388608 & 64.0 & 1769393 & 13.5\\\\\n",
       "\\end{tabular}\n"
      ],
      "text/markdown": [
       "\n",
       "A matrix: 2 × 6 of type dbl\n",
       "\n",
       "| <!--/--> | used | (Mb) | gc trigger | (Mb) | max used | (Mb) |\n",
       "|---|---|---|---|---|---|---|\n",
       "| Ncells |  627610 | 33.6 | 1404605 | 75.1 |  994513 | 53.2 |\n",
       "| Vcells | 1149698 |  8.8 | 8388608 | 64.0 | 1769393 | 13.5 |\n",
       "\n"
      ],
      "text/plain": [
       "       used    (Mb) gc trigger (Mb) max used (Mb)\n",
       "Ncells  627610 33.6 1404605    75.1  994513  53.2\n",
       "Vcells 1149698  8.8 8388608    64.0 1769393  13.5"
      ]
     },
     "metadata": {},
     "output_type": "display_data"
    }
   ],
   "source": [
    "# Limpiamos el entorno\n",
    "rm(list = ls())\n",
    "gc(verbose = FALSE)"
   ]
  },
  {
   "cell_type": "code",
   "execution_count": 2,
   "metadata": {
    "vscode": {
     "languageId": "r"
    }
   },
   "outputs": [
    {
     "name": "stderr",
     "output_type": "stream",
     "text": [
      "Installing package into 'C:/Users/German/AppData/Local/R/win-library/4.3'\n",
      "(as 'lib' is unspecified)\n",
      "\n"
     ]
    },
    {
     "name": "stdout",
     "output_type": "stream",
     "text": [
      "package 'caret' successfully unpacked and MD5 sums checked\n"
     ]
    },
    {
     "name": "stderr",
     "output_type": "stream",
     "text": [
      "Warning message:\n",
      "\"cannot remove prior installation of package 'caret'\"\n",
      "Warning message in file.copy(savedcopy, lib, recursive = TRUE):\n",
      "\"problema al copiar C:\\Users\\German\\AppData\\Local\\R\\win-library\\4.3\\00LOCK\\caret\\libs\\x64\\caret.dll  a C:\\Users\\German\\AppData\\Local\\R\\win-library\\4.3\\caret\\libs\\x64\\caret.dll: Permission denied\"\n",
      "Warning message:\n",
      "\"restored 'caret'\"\n"
     ]
    },
    {
     "name": "stdout",
     "output_type": "stream",
     "text": [
      "\n",
      "The downloaded binary packages are in\n",
      "\tC:\\Users\\German\\AppData\\Local\\Temp\\RtmpkzRw7B\\downloaded_packages\n"
     ]
    }
   ],
   "source": [
    "install.packages(\"caret\")"
   ]
  },
  {
   "cell_type": "code",
   "execution_count": 3,
   "metadata": {
    "vscode": {
     "languageId": "r"
    }
   },
   "outputs": [
    {
     "name": "stderr",
     "output_type": "stream",
     "text": [
      "Loading required package: data.table\n",
      "\n"
     ]
    },
    {
     "name": "stderr",
     "output_type": "stream",
     "text": [
      "Loading required package: rpart\n",
      "\n",
      "Loading required package: ROCR\n",
      "\n",
      "Loading required package: ggplot2\n",
      "\n",
      "Loading required package: caret\n",
      "\n",
      "Loading required package: lattice\n",
      "\n"
     ]
    }
   ],
   "source": [
    "# Librerías necesarias\n",
    "require(\"data.table\")\n",
    "require(\"rpart\")\n",
    "require(\"ROCR\")\n",
    "require(\"ggplot2\")\n",
    "require(\"caret\")"
   ]
  },
  {
   "cell_type": "code",
   "execution_count": 4,
   "metadata": {
    "vscode": {
     "languageId": "r"
    }
   },
   "outputs": [],
   "source": [
    "# Aqui se debe poner la carpeta de la materia de SU computadora local\n",
    "setwd(\"C:/Users/German/Desktop/dmeyf2023/German/Clase 1\") # Establezco el Working Directory\n",
    "\n",
    "# Poner sus semillas\n",
    "semillas <- c(279511, 279523, 279541, 279551, 279571)\n",
    "\n",
    "# Cargamos el dataset\n",
    "dataset <- fread(\"competencia_01.csv\")\n",
    "dtrain <- dataset[foto_mes == 202103]"
   ]
  },
  {
   "cell_type": "code",
   "execution_count": 5,
   "metadata": {
    "vscode": {
     "languageId": "r"
    }
   },
   "outputs": [],
   "source": [
    "# Nos quedamos solo con el 202101\n",
    "dataset <- dataset[foto_mes == 202103]\n",
    "# Creamos una clase binaria\n",
    "dataset[, clase_binaria := ifelse(\n",
    "                            clase_ternaria == \"BAJA+2\",\n",
    "                                \"evento\",\n",
    "                                \"noevento\"\n",
    "                            )]\n",
    "# Borramos el target viejo\n",
    "dataset[, clase_ternaria := NULL]"
   ]
  },
  {
   "cell_type": "code",
   "execution_count": 6,
   "metadata": {
    "vscode": {
     "languageId": "r"
    }
   },
   "outputs": [],
   "source": [
    "# Seteamos nuestra primera semilla\n",
    "set.seed(semillas[1])"
   ]
  },
  {
   "cell_type": "code",
   "execution_count": 7,
   "metadata": {
    "vscode": {
     "languageId": "r"
    }
   },
   "outputs": [],
   "source": [
    "# Particionamos de forma estratificada\n",
    "in_training <- caret::createDataPartition(dataset$clase_binaria,\n",
    "                     p = 0.70, list = FALSE) \n",
    "dtrain  <-  dataset[in_training, ]\n",
    "dtest   <-  dataset[-in_training, ]"
   ]
  },
  {
   "cell_type": "markdown",
   "metadata": {},
   "source": [
    " Preguntas\n",
    " - ¿Por qué separamos en train/test?\n",
    " - ¿Son números aleatorios los que nos dan las computadoras?\n",
    " - ¿Por qué usamos semillas?\n",
    " - ¿Qué es una partición estratificada?\n",
    " - ¿Tiene realemente alguna ventaja la partición estratificada ?"
   ]
  },
  {
   "cell_type": "markdown",
   "metadata": {},
   "source": [
    "# Step 2: Armando el primer modelo particionado"
   ]
  },
  {
   "cell_type": "code",
   "execution_count": 8,
   "metadata": {
    "vscode": {
     "languageId": "r"
    }
   },
   "outputs": [
    {
     "name": "stdout",
     "output_type": "stream",
     "text": [
      "Time difference of 4.08364 secs\n"
     ]
    }
   ],
   "source": [
    "# Medimos cuanto tarda nuestro modelo en ajustar\n",
    "start_time <- Sys.time()\n",
    "modelo <- rpart(clase_binaria ~ .,\n",
    "                data = dtrain,\n",
    "                xval = 0,\n",
    "                cp = 0,\n",
    "                minsplit = 20,\n",
    "                minbucket = 1,\n",
    "                maxdepth = 5)\n",
    "print(Sys.time() - start_time)"
   ]
  },
  {
   "cell_type": "code",
   "execution_count": 9,
   "metadata": {
    "vscode": {
     "languageId": "r"
    }
   },
   "outputs": [],
   "source": [
    "pred_testing <- predict(modelo, dtest, type = \"prob\")"
   ]
  },
  {
   "cell_type": "markdown",
   "metadata": {},
   "source": [
    " Preguntas:\n",
    " - ¿Qué tan importante mirar las métricas de train?"
   ]
  },
  {
   "cell_type": "markdown",
   "metadata": {},
   "source": [
    "# Step 3: Mirando la ganancia"
   ]
  },
  {
   "cell_type": "code",
   "execution_count": 10,
   "metadata": {
    "vscode": {
     "languageId": "r"
    }
   },
   "outputs": [],
   "source": [
    "# Armamos una función que nos calcule la ganancia, usando el punto de corte de 0.025\n",
    "ganancia <- function(probabilidades, clase) {\n",
    "  return(sum(\n",
    "    (probabilidades >= 0.025) * ifelse(clase == \"evento\", 273000, -7000))\n",
    "  )\n",
    "}"
   ]
  },
  {
   "cell_type": "code",
   "execution_count": 11,
   "metadata": {
    "vscode": {
     "languageId": "r"
    }
   },
   "outputs": [
    {
     "name": "stdout",
     "output_type": "stream",
     "text": [
      "[1] 78960000\n"
     ]
    }
   ],
   "source": [
    "# La ganancia en testing NORMALIZADA\n",
    "print(ganancia(pred_testing[, \"evento\"], dtest$clase_binaria) / 0.3)"
   ]
  },
  {
   "cell_type": "markdown",
   "metadata": {},
   "source": [
    "`Actividad`:\n",
    "Comparta el número que le dio de ganancia y cuanto error estima que puede haber con el resto de sus compañeros\n"
   ]
  },
  {
   "cell_type": "markdown",
   "metadata": {},
   "source": [
    "# Step 4: Probando más muchas más semillas"
   ]
  },
  {
   "cell_type": "code",
   "execution_count": 12,
   "metadata": {
    "vscode": {
     "languageId": "r"
    }
   },
   "outputs": [],
   "source": [
    "# Almacenaremos los resultados en una tabla\n",
    "resultados_n_gan <- c()"
   ]
  },
  {
   "cell_type": "markdown",
   "metadata": {},
   "source": [
    "Calcule en función del tiempo de ejecución anterior, cuantos árboles puede hacer en 5 minutos y ponga ese número en la siguiente variable \"n\""
   ]
  },
  {
   "cell_type": "code",
   "execution_count": 13,
   "metadata": {
    "vscode": {
     "languageId": "r"
    }
   },
   "outputs": [],
   "source": [
    "n <- 100"
   ]
  },
  {
   "cell_type": "code",
   "execution_count": 14,
   "metadata": {
    "vscode": {
     "languageId": "r"
    }
   },
   "outputs": [
    {
     "name": "stdout",
     "output_type": "stream",
     "text": [
      "Time difference of 7.399352 mins\n"
     ]
    }
   ],
   "source": [
    "set.seed(semillas[1])\n",
    "t0 <- Sys.time()\n",
    "for (i in 1:n) {\n",
    "\n",
    "    in_training <- caret::createDataPartition(dataset[, get(\"clase_binaria\")],\n",
    "                            p = 0.70, list = FALSE)\n",
    "    dtrain  <-  dataset[in_training, ]\n",
    "    dtest   <-  dataset[-in_training, ]\n",
    "\n",
    "    modelo <- rpart(clase_binaria ~ .,\n",
    "                    data = dtrain,\n",
    "                    xval = 0,\n",
    "                    cp = 0,\n",
    "                    minsplit = 20,\n",
    "                    minbucket = 1,\n",
    "                    maxdepth = 5)\n",
    "\n",
    "    pred_testing <- predict(modelo, dtest, type = \"prob\")\n",
    "\n",
    "    gan <- ganancia(pred_testing[, \"evento\"], dtest$clase_binaria) / 0.3\n",
    "\n",
    "    resultados_n_gan <- c(resultados_n_gan, gan)\n",
    "}\n",
    "print(Sys.time() - t0)\n"
   ]
  },
  {
   "cell_type": "markdown",
   "metadata": {},
   "source": [
    " Preguntas:\n",
    " ¿Cree que puede cambiar mucho la ganancia en **test** para dos semillas distintas?\n"
   ]
  },
  {
   "cell_type": "markdown",
   "metadata": {},
   "source": [
    "# Step 5: Analizando el azar de las semillas"
   ]
  },
  {
   "cell_type": "code",
   "execution_count": 15,
   "metadata": {
    "vscode": {
     "languageId": "r"
    }
   },
   "outputs": [
    {
     "name": "stdout",
     "output_type": "stream",
     "text": [
      "[1] 27930000\n",
      "[1] 93030000\n",
      "[1] 72626167\n"
     ]
    }
   ],
   "source": [
    "# La menor ganancia conseguida en test\n",
    "print(min(resultados_n_gan))\n",
    "\n",
    "# La mayor ganancia\n",
    "print(max(resultados_n_gan))\n",
    "\n",
    "# La media de la ganancia\n",
    "print(mean(resultados_n_gan))"
   ]
  },
  {
   "cell_type": "code",
   "execution_count": 16,
   "metadata": {
    "vscode": {
     "languageId": "r"
    }
   },
   "outputs": [
    {
     "data": {
      "image/png": "[encoded data removed]",
      "text/plain": [
       "plot without title"
      ]
     },
     "metadata": {
      "image/png": {
       "height": 420,
       "width": 420
      }
     },
     "output_type": "display_data"
    }
   ],
   "source": [
    "# Veamos la dispersión de la ganancia\n",
    "ggplot() + aes(resultados_n_gan) + geom_density()"
   ]
  },
  {
   "cell_type": "markdown",
   "metadata": {},
   "source": [
    "# Step 6: Tratando de corregir la dispersión"
   ]
  },
  {
   "cell_type": "code",
   "execution_count": 17,
   "metadata": {
    "vscode": {
     "languageId": "r"
    }
   },
   "outputs": [],
   "source": [
    "# Veamos si tomar el promedio de 5 árboles nos ayuda a reducir la dispersión\n",
    "cantidad_arboles <- 5\n",
    "\n",
    "resultados_n_mcv <- c()\n",
    "set.seed(semillas[1])\n",
    "\n",
    "for (i in 1:50) \n",
    "    resultados_n_mcv <- c(resultados_n_mcv, mean(sample(resultados_n_gan, cantidad_arboles)))"
   ]
  },
  {
   "cell_type": "code",
   "execution_count": 18,
   "metadata": {
    "vscode": {
     "languageId": "r"
    }
   },
   "outputs": [
    {
     "name": "stdout",
     "output_type": "stream",
     "text": [
      "[1] 64232000\n",
      "[1] 80117333\n",
      "[1] 72339307\n"
     ]
    }
   ],
   "source": [
    "# La menor ganancia conseguida en test\n",
    "print(min(resultados_n_mcv))\n",
    "\n",
    "# La mayor ganancia\n",
    "print(max(resultados_n_mcv))\n",
    "\n",
    "# La media de la ganancia\n",
    "print(mean(resultados_n_mcv))"
   ]
  },
  {
   "cell_type": "code",
   "execution_count": 19,
   "metadata": {
    "vscode": {
     "languageId": "r"
    }
   },
   "outputs": [
    {
     "data": {
      "image/png": "[encoded data removed]",
      "text/plain": [
       "plot without title"
      ]
     },
     "metadata": {
      "image/png": {
       "height": 420,
       "width": 420
      }
     },
     "output_type": "display_data"
    }
   ],
   "source": [
    "# Veamos la dispersión de la ganancia\n",
    "ggplot() + aes(resultados_n_mcv) + geom_density()"
   ]
  },
  {
   "cell_type": "markdown",
   "metadata": {},
   "source": [
    "`NOTA`: Esta técnica es conocida como Montecarlo Cross Validation\n",
    " Preguntas\n",
    " - ¿Qué efecto observa cuando se toma como medición el promedio de 5 árboles?\n",
    " - ¿Desapareció el error?\n",
    " - ¿Si se hubieran tomado más valores que efectos esperaría?\n",
    " - ¿Que ventaja y desventaja ve en esta técnica comparada al Cross Validation?"
   ]
  },
  {
   "cell_type": "markdown",
   "metadata": {},
   "source": [
    "# Step 7: Midiendo nuestras semillas"
   ]
  },
  {
   "cell_type": "code",
   "execution_count": 20,
   "metadata": {
    "vscode": {
     "languageId": "r"
    }
   },
   "outputs": [
    {
     "name": "stdout",
     "output_type": "stream",
     "text": [
      "Time difference of 21.94387 secs\n"
     ]
    }
   ],
   "source": [
    "resultados_mis_semillas <- c()\n",
    "\n",
    "t0 <- Sys.time()\n",
    "for (s in semillas) {\n",
    "    set.seed(s)\n",
    "    in_training <- caret::createDataPartition(dataset[, get(\"clase_binaria\")],\n",
    "                            p = 0.70, list = FALSE)\n",
    "    dtrain  <-  dataset[in_training, ]\n",
    "    dtest   <-  dataset[-in_training, ]\n",
    "\n",
    "    modelo <- rpart(clase_binaria ~ .,\n",
    "                    data = dtrain,\n",
    "                    xval = 0,\n",
    "                    cp = 0,\n",
    "                    minsplit = 20,\n",
    "                    minbucket = 1,\n",
    "                    maxdepth = 5)\n",
    "\n",
    "    pred_testing <- predict(modelo, dtest, type = \"prob\")\n",
    "\n",
    "    gan <- ganancia(pred_testing[, \"evento\"], dtest$clase_binaria) / 0.3\n",
    "\n",
    "    resultados_mis_semillas <- c(resultados_mis_semillas, gan)\n",
    "\n",
    "}\n",
    "print(Sys.time() - t0)"
   ]
  },
  {
   "cell_type": "code",
   "execution_count": 21,
   "metadata": {
    "vscode": {
     "languageId": "r"
    }
   },
   "outputs": [
    {
     "name": "stdout",
     "output_type": "stream",
     "text": [
      "[1] 70396667\n"
     ]
    }
   ],
   "source": [
    "print(mean(resultados_mis_semillas))"
   ]
  },
  {
   "cell_type": "markdown",
   "metadata": {},
   "source": [
    "Preguntas\n",
    " - ¿Cuán lejos se encontró la media de sus semillas respecto a los resultados anteriores?\n",
    " - ¿Usaría semillas que le den un valor promedio más alto?\n",
    " - ¿Usaría más semillas?\n",
    " - ¿Que ventaja y desventaja ve en usar más semillas?"
   ]
  },
  {
   "cell_type": "markdown",
   "metadata": {},
   "source": [
    "# Step 8: Buscando un mejor modelo (Grid Search)"
   ]
  },
  {
   "cell_type": "markdown",
   "metadata": {},
   "source": [
    "## Estrategia de la clase"
   ]
  },
  {
   "cell_type": "code",
   "execution_count": 22,
   "metadata": {
    "vscode": {
     "languageId": "r"
    }
   },
   "outputs": [],
   "source": [
    "resultados_grid_search <- data.table()"
   ]
  },
  {
   "cell_type": "markdown",
   "metadata": {},
   "source": [
    " Complete los valores que se van a combinar para cada parámetro a explorar"
   ]
  },
  {
   "cell_type": "code",
   "execution_count": 23,
   "metadata": {
    "vscode": {
     "languageId": "r"
    }
   },
   "outputs": [
    {
     "name": "stdout",
     "output_type": "stream",
     "text": [
      "     tiempo cp mb  ms md      gan\n",
      "1: 38.38096 -1  1 500 10 86258667\n"
     ]
    }
   ],
   "source": [
    "for (cp in c(-1, 0.01)) { \n",
    "for (md in c(5, 10, 15, 30)) {\n",
    "for (ms in c(1, 50, 500, 1000)) {\n",
    "for (mb in c(1, as.integer(ms / 2))) {\n",
    "\n",
    "    t0 <- Sys.time()\n",
    "    gan_semillas <- c()\n",
    "    for (s in semillas) {\n",
    "        set.seed(s)\n",
    "        in_training <- caret::createDataPartition(dataset[,\n",
    "                        get(\"clase_binaria\")],\n",
    "                                p = 0.70, list = FALSE)\n",
    "        dtrain  <-  dataset[in_training, ]\n",
    "        dtest   <-  dataset[-in_training, ]\n",
    "\n",
    "        modelo <- rpart(clase_binaria ~ .,\n",
    "                        data = dtrain,\n",
    "                        xval = 0,\n",
    "                        cp = cp,\n",
    "                        minsplit = ms,\n",
    "                        minbucket = mb,\n",
    "                        maxdepth = md)\n",
    "\n",
    "        pred_testing <- predict(modelo, dtest, type = \"prob\")\n",
    "        gan <- ganancia(pred_testing[, \"evento\"], dtest$clase_binaria) / 0.3\n",
    "\n",
    "        gan_semillas <- c(gan_semillas, gan)\n",
    "    }\n",
    "    tiempo <-  as.numeric(Sys.time() - t0, units = \"secs\")\n",
    "\n",
    "    resultados_grid_search <- rbindlist(list(\n",
    "                                resultados_grid_search,\n",
    "                                data.table(\n",
    "                                    tiempo = tiempo,\n",
    "                                    cp = cp,\n",
    "                                    mb = mb,\n",
    "                                    ms = ms,\n",
    "                                    md = md,\n",
    "                                    gan = mean(gan_semillas)) # se puede agregar el sd?\n",
    "                                ))\n",
    "}\n",
    "}\n",
    "}\n",
    "}\n",
    "\n",
    "# Visualizo los parámetros de los mejores parámetros\n",
    "print(resultados_grid_search[gan == max(gan), ])"
   ]
  },
  {
   "cell_type": "code",
   "execution_count": 24,
   "metadata": {
    "vscode": {
     "languageId": "r"
    }
   },
   "outputs": [
    {
     "name": "stdout",
     "output_type": "stream",
     "text": [
      "      tiempo    cp  mb   ms md      gan\n",
      " 1: 38.38096 -1.00   1  500 10 86258667\n",
      " 2: 31.40908 -1.00 500 1000 10 85194667\n",
      " 3: 32.82209 -1.00 500 1000 15 85134000\n",
      " 4: 40.36429 -1.00 500 1000 30 85134000\n",
      " 5: 36.11117 -1.00   1 1000 10 84471333\n",
      " 6: 23.04197 -1.00 250  500  5 83099333\n",
      " 7: 22.11554 -1.00  25   50  5 82464667\n",
      " 8: 35.22916 -1.00 250  500 10 81839333\n",
      " 9: 36.89094 -1.00   1   50 10 81634000\n",
      "10: 50.63522 -1.00   1 1000 15 81265333\n",
      "11: 22.97898 -1.00 500 1000  5 80878000\n",
      "12: 34.56363 -1.00 250  500 15 80122000\n",
      "13: 47.65176 -1.00 250  500 30 80122000\n",
      "14: 20.34637 -1.00   1   50  5 77648667\n",
      "15: 21.15393 -1.00   1  500  5 77625333\n",
      "16: 21.43211 -1.00   1    1  5 77443333\n",
      "17: 22.13949 -1.00   0    1  5 77443333\n",
      "18: 48.44398 -1.00   1  500 15 76654667\n",
      "19: 38.80679 -1.00   1    1 10 76528667\n",
      "20: 36.59925 -1.00   0    1 10 76528667\n",
      "21: 21.00927 -1.00   1 1000  5 74503333\n",
      "22: 78.25256 -1.00   1 1000 30 71745333\n",
      "23: 37.87012 -1.00  25   50 10 66962000\n",
      "24: 62.32699 -1.00   1  500 30 66691333\n",
      "25: 50.90652 -1.00   1   50 15 63924000\n",
      "26: 52.20227 -1.00   1    1 15 55776000\n",
      "27: 49.67429 -1.00   0    1 15 55776000\n",
      "28: 50.21922 -1.00  25   50 15 52873333\n",
      "29: 48.58448 -1.00  25   50 30 48309333\n",
      "30: 60.51347 -1.00   1   50 30 41874000\n",
      "31: 69.29877 -1.00   1    1 30 25293333\n",
      "32: 65.96828 -1.00   0    1 30 25293333\n",
      "33: 25.08759  0.01   1    1  5        0\n",
      "34: 26.33867  0.01   0    1  5        0\n",
      "35: 25.63810  0.01   1   50  5        0\n",
      "36: 26.09220  0.01  25   50  5        0\n",
      "37: 30.54165  0.01   1  500  5        0\n",
      "38: 32.90085  0.01 250  500  5        0\n",
      "39: 24.48737  0.01   1 1000  5        0\n",
      "40: 21.05549  0.01 500 1000  5        0\n",
      "41: 26.51951  0.01   1    1 10        0\n",
      "42: 26.72906  0.01   0    1 10        0\n",
      "43: 27.13736  0.01   1   50 10        0\n",
      "44: 25.94076  0.01  25   50 10        0\n",
      "45: 25.48737  0.01   1  500 10        0\n",
      "46: 23.06277  0.01 250  500 10        0\n",
      "47: 33.44073  0.01   1 1000 10        0\n",
      "48: 22.36995  0.01 500 1000 10        0\n",
      "49: 37.79704  0.01   1    1 15        0\n",
      "50: 32.09229  0.01   0    1 15        0\n",
      "51: 29.29181  0.01   1   50 15        0\n",
      "52: 27.41958  0.01  25   50 15        0\n",
      "53: 32.96660  0.01   1  500 15        0\n",
      "54: 26.80011  0.01 250  500 15        0\n",
      "55: 31.63743  0.01   1 1000 15        0\n",
      "56: 25.41900  0.01 500 1000 15        0\n",
      "57: 38.19451  0.01   1    1 30        0\n",
      "58: 34.10281  0.01   0    1 30        0\n",
      "59: 31.82088  0.01   1   50 30        0\n",
      "60: 34.38896  0.01  25   50 30        0\n",
      "61: 33.84270  0.01   1  500 30        0\n",
      "62: 22.61513  0.01 250  500 30        0\n",
      "63: 29.47133  0.01   1 1000 30        0\n",
      "64: 24.50399  0.01 500 1000 30        0\n",
      "      tiempo    cp  mb   ms md      gan\n"
     ]
    }
   ],
   "source": [
    "#  Imprimo todas ordenadas por mayor ganancia\n",
    "print(resultados_grid_search[order(-resultados_grid_search$gan), ])\n"
   ]
  },
  {
   "cell_type": "markdown",
   "metadata": {},
   "source": [
    "## Estrategia propia de Search:"
   ]
  },
  {
   "cell_type": "markdown",
   "metadata": {},
   "source": [
    "Random Search:"
   ]
  },
  {
   "cell_type": "code",
   "execution_count": 25,
   "metadata": {
    "vscode": {
     "languageId": "r"
    }
   },
   "outputs": [],
   "source": [
    "# Definir los rangos de parámetros\n",
    "\n",
    "cp_range <- runif(20, -0.1, 0.1)  # Valores aleatorios entre -0.1 y 0.1 (incluyendo valores negativos)\n",
    "md_range <- sample(c(3, 5, 10, 15, 20, 25, 30), 20, replace = TRUE)  # Muestreo aleatorio\n",
    "ms_range <- sample(c(1, 10, 50, 100, 200, 500, 1000), 20, replace = TRUE)  # Muestreo aleatorio\n",
    "mb_range <- sapply(ms_range, function(ms) sample(c(1, as.integer(ms / 2), as.integer(ms / 3)), 1))\n",
    "\n",
    "resultados_random_search <- data.table()\n",
    "\n",
    "for (i in 1:length(cp_range)) {\n",
    "    cp <- cp_range[i]\n",
    "    md <- md_range[i]\n",
    "    ms <- ms_range[i]\n",
    "    mb <- mb_range[i]\n",
    "\n",
    "    t0 <- Sys.time()\n",
    "    gan_semillas <- c()\n",
    "\n",
    "    for (s in semillas) {\n",
    "        set.seed(s)\n",
    "        in_training <- caret::createDataPartition(dataset[, get(\"clase_binaria\")], p = 0.70, list = FALSE)\n",
    "        dtrain <- dataset[in_training, ]\n",
    "        dtest <- dataset[-in_training, ]\n",
    "\n",
    "        modelo <- rpart(clase_binaria ~ .,\n",
    "                        data = dtrain,\n",
    "                        xval = 0,\n",
    "                        cp = cp,\n",
    "                        minsplit = ms,\n",
    "                        minbucket = mb,\n",
    "                        maxdepth = md)\n",
    "\n",
    "        pred_testing <- predict(modelo, dtest, type = \"prob\")\n",
    "        gan <- ganancia(pred_testing[, \"evento\"], dtest$clase_binaria) / 0.3\n",
    "        gan_semillas <- c(gan_semillas, gan)\n",
    "    }\n",
    "\n",
    "    tiempo <- as.numeric(Sys.time() - t0, units = \"secs\")\n",
    "\n",
    "    resultados_random_search <- rbindlist(list(\n",
    "        resultados_random_search,\n",
    "        data.table(\n",
    "            tiempo = tiempo,\n",
    "            cp = cp,\n",
    "            mb = mb,\n",
    "            ms = ms,\n",
    "            md = md,\n",
    "            gan = mean(gan_semillas))\n",
    "    ))\n",
    "}\n",
    "\n",
    "# Ordenar resultados por mayor ganancia\n",
    "resultados_random_search <- resultados_random_search[order(-gan)]"
   ]
  },
  {
   "cell_type": "code",
   "execution_count": 26,
   "metadata": {
    "vscode": {
     "languageId": "r"
    }
   },
   "outputs": [
    {
     "name": "stdout",
     "output_type": "stream",
     "text": [
      "      tiempo           cp  mb   ms md      gan\n",
      " 1: 47.27512 -0.028630622 500 1000 20 85134000\n",
      " 2: 34.04005 -0.073419385   3   10  5 81246667\n",
      " 3: 51.16643 -0.096692172 250  500 20 80122000\n",
      " 4: 22.12178 -0.066276160   0    1  5 77443333\n",
      " 5: 36.56145 -0.085669611 166  500 30 76986000\n",
      " 6: 48.06095 -0.080645890 100  200 30 69052667\n",
      " 7: 60.63866 -0.010199865 100  200 25 69052667\n",
      " 8: 57.40647 -0.011758299   0    1 15 55776000\n",
      " 9: 62.51607 -0.074938065  33  100 20 50927333\n",
      "10: 58.63622 -0.036824126  33  100 25 50750000\n",
      "11: 62.86331 -0.069234394   3   10 25 35849333\n",
      "12: 62.97872 -0.016561450   0    1 30 25293333\n",
      "13: 19.52752  0.084039650 500 1000 15        0\n",
      "14: 21.52785  0.072483110 250  500  5        0\n",
      "15: 22.83372  0.048984442   0    1 25        0\n",
      "16: 26.45562  0.059838102   1    1 15        0\n",
      "17: 20.87812  0.050285388 500 1000  5        0\n",
      "18: 16.91442  0.092257091 500 1000 30        0\n",
      "19: 22.78344  0.065549046   1  200 10        0\n",
      "20: 38.37588  0.005258028   1 1000 20        0\n"
     ]
    }
   ],
   "source": [
    "print(resultados_random_search[order(-resultados_random_search$gan), ])\n"
   ]
  },
  {
   "cell_type": "markdown",
   "metadata": {},
   "source": [
    "Salida Chatgpt\n",
    "\n",
    "cp (Complexity Parameter):\n",
    "\n",
    "El parámetro de complejidad controla la poda del árbol de decisión para evitar el sobreajuste.\n",
    "Valores más grandes de cp generan árboles más pequeños y menos complejos.\n",
    "Valores negativos generalmente no tienen sentido, ya que indicarían una penalización inversa a la complejidad.\n",
    "Rango razonable: De 0 a 0.1. Un rango más amplio podría incluir valores negativos, pero suele ser poco común y puede no tener un significado claro en este contexto.\n",
    "\n",
    "md (Max Depth):\n",
    "\n",
    "La profundidad máxima del árbol de decisión, es decir, la longitud máxima desde la raíz hasta una hoja.\n",
    "Valores más bajos previenen el sobreajuste, mientras que valores más altos pueden llevar al sobreajuste.\n",
    "Rango razonable: De 3 a 30. Esto permite árboles relativamente cortos y también árboles más profundos.\n",
    "\n",
    "ms (Min Split):\n",
    "\n",
    "El número mínimo de observaciones requeridas en un nodo para que se pueda dividir en subnodos.\n",
    "Valores más bajos permiten divisiones incluso en conjuntos pequeños, lo que puede conducir al sobreajuste.\n",
    "Rango razonable: De 1 a la mitad del tamaño del conjunto de datos. Esto permitirá una amplia variedad de tamaños de nodo.\n",
    "\n",
    "mb (Min Bucket):\n",
    "\n",
    "El número mínimo de observaciones requeridas en una hoja (bucket) después de una división.\n",
    "Valores más bajos pueden conducir a hojas con pocos ejemplos, lo que podría resultar en sobreajuste.\n",
    "Rango razonable: De 1 a la mitad del tamaño del conjunto de datos. Al igual que con ms, esto permitirá una variedad de tamaños de hoja.\n",
    "\n",
    "Es importante señalar que los rangos de valores dependerán en gran medida de la naturaleza de tus datos y del problema en cuestión. Siempre es recomendable realizar pruebas con diferentes valores y observar cómo afectan al rendimiento del modelo en función de métricas relevantes, como la precisión, el recall o la ganancia."
   ]
  },
  {
   "cell_type": "markdown",
   "metadata": {},
   "source": [
    "# TAREA:"
   ]
  },
  {
   "cell_type": "markdown",
   "metadata": {},
   "source": [
    "`TAREA`:\n",
    "- Una vez que tenga sus mejores parámetros, haga una copia del script rpart/z101_PrimerModelo.R, cambie los parámetros dentro del script, ejecutelo y suba a Kaggle su modelo.\n",
    "\n",
    "`Preguntas`:\n",
    "- ¿Cuál es la diferencia entre **test** y **validation**?\n",
    "- ¿Cuántas veces podemos usar el conjunto de **test** sin convertirlo en **validation**?\n",
    "\n",
    "`La GRAN pregunta`:\n",
    " - ¿Qué otra cosita de la materia tiene una partición 70 / 30?\n",
    " - Todo lo que hemos visto ¿Va a afectar a esa cosita?."
   ]
  }
 ],
 "metadata": {
  "kernelspec": {
   "display_name": "R",
   "language": "R",
   "name": "ir"
  },
  "language_info": {
   "codemirror_mode": "r",
   "file_extension": ".r",
   "mimetype": "text/x-r-source",
   "name": "R",
   "pygments_lexer": "r",
   "version": "4.3.1"
  },
  "orig_nbformat": 4
 },
 "nbformat": 4,
 "nbformat_minor": 2
}
