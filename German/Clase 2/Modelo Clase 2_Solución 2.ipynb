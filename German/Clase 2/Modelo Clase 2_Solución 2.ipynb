{
 "cells": [
  {
   "cell_type": "code",
   "execution_count": 1,
   "metadata": {
    "vscode": {
     "languageId": "r"
    }
   },
   "outputs": [
    {
     "name": "stderr",
     "output_type": "stream",
     "text": [
      "Loading required package: data.table\n",
      "\n",
      "Loading required package: rpart\n",
      "\n",
      "Loading required package: ggplot2\n",
      "\n",
      "Warning message in library(package, lib.loc = lib.loc, character.only = TRUE, logical.return = TRUE, :\n",
      "\"there is no package called 'ggplot2'\"\n"
     ]
    }
   ],
   "source": [
    "# Librerías necesarias\n",
    "require(\"data.table\")\n",
    "require(\"rpart\")\n",
    "require(\"ggplot2\")"
   ]
  },
  {
   "cell_type": "code",
   "execution_count": 2,
   "metadata": {
    "vscode": {
     "languageId": "r"
    }
   },
   "outputs": [],
   "source": [
    "# Aqui se debe poner la carpeta de la materia de SU computadora local\n",
    "setwd(\"C:/Users/German/Desktop/dmeyf2023/German/Clase 1\") # Establezco el Working Directory\n",
    "\n",
    "# Poner sus semillas\n",
    "semillas <- c(279511, 279523, 279541, 279551, 279571)\n",
    "\n",
    "# Cargamos el dataset\n",
    "dataset <- fread(\"competencia_01.csv\")\n",
    "dtrain <- dataset[foto_mes == 202103]"
   ]
  },
  {
   "cell_type": "code",
   "execution_count": 3,
   "metadata": {
    "vscode": {
     "languageId": "r"
    }
   },
   "outputs": [
    {
     "name": "stdout",
     "output_type": "stream",
     "text": [
      "n= 163324 \n",
      "\n",
      "node), split, n, loss, yval, (yprob)\n",
      "      * denotes terminal node\n",
      "\n",
      " 1) root 163324 2012 CONTINUA (0.0058962553 0.0064228160 0.9876809287)  \n",
      "   2) ctrx_quarter< 17.5 10372  927 CONTINUA (0.0433860393 0.0459892017 0.9106247590)  \n",
      "     4) mcuentas_saldo< -1388.155 3869  620 CONTINUA (0.0754716981 0.0847764280 0.8397518739)  \n",
      "       8) mprestamos_personales< 6627.825 2901  599 CONTINUA (0.0965184419 0.1099620820 0.7935194760)  \n",
      "        16) cdescubierto_preacordado< 0.5 313  140 CONTINUA (0.1565495208 0.2907348243 0.5527156550) *\n",
      "        17) cdescubierto_preacordado>=0.5 2588  459 CONTINUA (0.0892581144 0.0880989181 0.8226429675) *\n",
      "       9) mprestamos_personales>=6627.825 968   21 CONTINUA (0.0123966942 0.0092975207 0.9783057851)  \n",
      "        18) Visa_status>=8 7    4 CONTINUA (0.2857142857 0.2857142857 0.4285714286) *\n",
      "        19) Visa_status< 8 961   17 CONTINUA (0.0104058273 0.0072840791 0.9823100937) *\n",
      "     5) mcuentas_saldo>=-1388.155 6503  307 CONTINUA (0.0242964785 0.0229125019 0.9527910195)  \n",
      "      10) mpasivos_margen< 82.185 3488  226 CONTINUA (0.0312500000 0.0335435780 0.9352064220)  \n",
      "        20) mprestamos_personales< 39659.07 2906  222 CONTINUA (0.0368203716 0.0395732966 0.9236063317) *\n",
      "        21) mprestamos_personales>=39659.07 582    4 CONTINUA (0.0034364261 0.0034364261 0.9931271478) *\n",
      "      11) mpasivos_margen>=82.185 3015   81 CONTINUA (0.0162520730 0.0106135987 0.9731343284)  \n",
      "        22) ctarjeta_visa_transacciones>=20.5 1    0 BAJA+1 (1.0000000000 0.0000000000 0.0000000000) *\n",
      "        23) ctarjeta_visa_transacciones< 20.5 3014   80 CONTINUA (0.0159256802 0.0106171201 0.9734571997) *\n",
      "   3) ctrx_quarter>=17.5 152952 1085 CONTINUA (0.0033539934 0.0037397353 0.9929062712)  \n",
      "     6) ctrx_quarter< 47.5 21087  585 CONTINUA (0.0128040973 0.0149381135 0.9722577892)  \n",
      "      12) mcaja_ahorro< 3823.16 8463  411 CONTINUA (0.0222143448 0.0263499941 0.9514356611)  \n",
      "        24) Master_status>=8 211   31 CONTINUA (0.0568720379 0.0900473934 0.8530805687) *\n",
      "        25) Master_status< 8 8252  380 CONTINUA (0.0213281629 0.0247212797 0.9539505574) *\n",
      "      13) mcaja_ahorro>=3823.16 12624  174 CONTINUA (0.0064955640 0.0072877060 0.9862167300)  \n",
      "        26) Visa_status>=8 459   21 CONTINUA (0.0152505447 0.0305010893 0.9542483660) *\n",
      "        27) Visa_status< 8 12165  153 CONTINUA (0.0061652281 0.0064118372 0.9874229346) *\n",
      "     7) ctrx_quarter>=47.5 131865  500 CONTINUA (0.0018427938 0.0019489630 0.9962082433)  \n",
      "      14) Visa_status>=8 921   27 CONTINUA (0.0086862106 0.0206297503 0.9706840391)  \n",
      "        28) ccajas_otras>=8.5 2    0 BAJA+1 (1.0000000000 0.0000000000 0.0000000000) *\n",
      "        29) ccajas_otras< 8.5 919   25 CONTINUA (0.0065288357 0.0206746464 0.9727965180) *\n",
      "      15) Visa_status< 8 130944  473 CONTINUA (0.0017946603 0.0018175709 0.9963877688)  \n",
      "        30) cpayroll_trx< 0.5 50186  413 CONTINUA (0.0039453234 0.0042840633 0.9917706133) *\n",
      "        31) cpayroll_trx>=0.5 80758   60 CONTINUA (0.0004581589 0.0002848015 0.9992570396) *\n"
     ]
    }
   ],
   "source": [
    "# Generamos el primer modelo\n",
    "arbol <- rpart(formula =    \"clase_ternaria ~ .\",\n",
    "                 data =      dtrain,\n",
    "                 xval =      0,\n",
    "                 cp =       -0.3,\n",
    "                 minsplit =  0,\n",
    "                 minbucket = 1,\n",
    "                 maxdepth =  4)\n",
    "\n",
    "print(arbol)\n"
   ]
  },
  {
   "cell_type": "markdown",
   "metadata": {},
   "source": [
    "Preguntas\n",
    "Usualmente se suele cortar las variables en 2 intervalos\n",
    " - ¿Se podría cortar en más intervalos?\n",
    " - ¿Cuál sería el costo?\n",
    " - ¿Se obtendr.ían mejores resultados?\n",
    "\n",
    " Una de las muchas ventajas que tienen los árboles es la simpleza que tienen  para ser implementados en fácilmente en sistemas productivos, dado que la reescritura de las reglas de salida es muy simple"
   ]
  }
 ],
 "metadata": {
  "kernelspec": {
   "display_name": "R",
   "language": "R",
   "name": "ir"
  },
  "language_info": {
   "codemirror_mode": "r",
   "file_extension": ".r",
   "mimetype": "text/x-r-source",
   "name": "R",
   "pygments_lexer": "r",
   "version": "4.3.1"
  },
  "orig_nbformat": 4
 },
 "nbformat": 4,
 "nbformat_minor": 2
}
