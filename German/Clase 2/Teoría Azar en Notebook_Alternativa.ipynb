{
 "cells": [
  {
   "cell_type": "markdown",
   "metadata": {},
   "source": [
    "# Step 1: El simple y viejo Train / Test"
   ]
  },
  {
   "cell_type": "code",
   "execution_count": 1,
   "metadata": {
    "vscode": {
     "languageId": "r"
    }
   },
   "outputs": [
    {
     "data": {
      "text/html": [
       "<table class=\"dataframe\">\n",
       "<caption>A matrix: 2 × 6 of type dbl</caption>\n",
       "<thead>\n",
       "\t<tr><th></th><th scope=col>used</th><th scope=col>(Mb)</th><th scope=col>gc trigger</th><th scope=col>(Mb)</th><th scope=col>max used</th><th scope=col>(Mb)</th></tr>\n",
       "</thead>\n",
       "<tbody>\n",
       "\t<tr><th scope=row>Ncells</th><td> 627610</td><td>33.6</td><td>1404620</td><td>75.1</td><td> 994508</td><td>53.2</td></tr>\n",
       "\t<tr><th scope=row>Vcells</th><td>1149700</td><td> 8.8</td><td>8388608</td><td>64.0</td><td>1769393</td><td>13.5</td></tr>\n",
       "</tbody>\n",
       "</table>\n"
      ],
      "text/latex": [
       "A matrix: 2 × 6 of type dbl\n",
       "\\begin{tabular}{r|llllll}\n",
       "  & used & (Mb) & gc trigger & (Mb) & max used & (Mb)\\\\\n",
       "\\hline\n",
       "\tNcells &  627610 & 33.6 & 1404620 & 75.1 &  994508 & 53.2\\\\\n",
       "\tVcells & 1149700 &  8.8 & 8388608 & 64.0 & 1769393 & 13.5\\\\\n",
       "\\end{tabular}\n"
      ],
      "text/markdown": [
       "\n",
       "A matrix: 2 × 6 of type dbl\n",
       "\n",
       "| <!--/--> | used | (Mb) | gc trigger | (Mb) | max used | (Mb) |\n",
       "|---|---|---|---|---|---|---|\n",
       "| Ncells |  627610 | 33.6 | 1404620 | 75.1 |  994508 | 53.2 |\n",
       "| Vcells | 1149700 |  8.8 | 8388608 | 64.0 | 1769393 | 13.5 |\n",
       "\n"
      ],
      "text/plain": [
       "       used    (Mb) gc trigger (Mb) max used (Mb)\n",
       "Ncells  627610 33.6 1404620    75.1  994508  53.2\n",
       "Vcells 1149700  8.8 8388608    64.0 1769393  13.5"
      ]
     },
     "metadata": {},
     "output_type": "display_data"
    }
   ],
   "source": [
    "# Limpiamos el entorno\n",
    "rm(list = ls())\n",
    "gc(verbose = FALSE)"
   ]
  },
  {
   "cell_type": "code",
   "execution_count": 2,
   "metadata": {
    "vscode": {
     "languageId": "r"
    }
   },
   "outputs": [
    {
     "name": "stderr",
     "output_type": "stream",
     "text": [
      "Loading required package: data.table\n",
      "\n",
      "Loading required package: rpart\n",
      "\n"
     ]
    },
    {
     "name": "stderr",
     "output_type": "stream",
     "text": [
      "Loading required package: ROCR\n",
      "\n",
      "Loading required package: ggplot2\n",
      "\n",
      "Loading required package: caret\n",
      "\n",
      "Loading required package: lattice\n",
      "\n"
     ]
    }
   ],
   "source": [
    "# Librerías necesarias\n",
    "require(\"data.table\")\n",
    "require(\"rpart\")\n",
    "require(\"ROCR\")\n",
    "require(\"ggplot2\")\n",
    "require(\"caret\")"
   ]
  },
  {
   "cell_type": "code",
   "execution_count": 3,
   "metadata": {
    "vscode": {
     "languageId": "r"
    }
   },
   "outputs": [],
   "source": [
    "# Aqui se debe poner la carpeta de la materia de SU computadora local\n",
    "setwd(\"C:/Users/German/Desktop/dmeyf2023/German/Clase 1\") # Establezco el Working Directory\n",
    "\n",
    "# Poner sus semillas\n",
    "semillas <- c(279511, 279523, 279541, 279551, 279571)\n",
    "\n",
    "# Cargamos el dataset\n",
    "dataset <- fread(\"competencia_01_alternativo.csv\")\n",
    "dtrain <- dataset[foto_mes == 202103]"
   ]
  },
  {
   "cell_type": "code",
   "execution_count": 4,
   "metadata": {
    "vscode": {
     "languageId": "r"
    }
   },
   "outputs": [],
   "source": [
    "# Nos quedamos solo con el 202101\n",
    "dataset <- dataset[foto_mes == 202103]\n",
    "# Creamos una clase binaria\n",
    "dataset[, clase_binaria := ifelse(\n",
    "                            clase_ternaria == \"BAJA+2\",\n",
    "                                \"evento\",\n",
    "                                \"noevento\"\n",
    "                            )]\n",
    "# Borramos el target viejo\n",
    "dataset[, clase_ternaria := NULL]"
   ]
  },
  {
   "cell_type": "code",
   "execution_count": 5,
   "metadata": {
    "vscode": {
     "languageId": "r"
    }
   },
   "outputs": [],
   "source": [
    "# Seteamos nuestra primera semilla\n",
    "set.seed(semillas[1])"
   ]
  },
  {
   "cell_type": "code",
   "execution_count": 6,
   "metadata": {
    "vscode": {
     "languageId": "r"
    }
   },
   "outputs": [],
   "source": [
    "# Particionamos de forma estratificada\n",
    "in_training <- caret::createDataPartition(dataset$clase_binaria,\n",
    "                     p = 0.70, list = FALSE) \n",
    "dtrain  <-  dataset[in_training, ]\n",
    "dtest   <-  dataset[-in_training, ]"
   ]
  },
  {
   "cell_type": "markdown",
   "metadata": {},
   "source": [
    " Preguntas\n",
    " - ¿Por qué separamos en train/test?\n",
    " - ¿Son números aleatorios los que nos dan las computadoras?\n",
    " - ¿Por qué usamos semillas?\n",
    " - ¿Qué es una partición estratificada?\n",
    " - ¿Tiene realemente alguna ventaja la partición estratificada ?"
   ]
  },
  {
   "cell_type": "markdown",
   "metadata": {},
   "source": [
    "# Step 2: Armando el primer modelo particionado"
   ]
  },
  {
   "cell_type": "code",
   "execution_count": 7,
   "metadata": {
    "vscode": {
     "languageId": "r"
    }
   },
   "outputs": [
    {
     "name": "stdout",
     "output_type": "stream",
     "text": [
      "Time difference of 5.093808 secs\n"
     ]
    }
   ],
   "source": [
    "# Medimos cuanto tarda nuestro modelo en ajustar\n",
    "start_time <- Sys.time()\n",
    "modelo <- rpart(clase_binaria ~ .,\n",
    "                data = dtrain,\n",
    "                xval = 0,\n",
    "                cp = 0,\n",
    "                minsplit = 20,\n",
    "                minbucket = 1,\n",
    "                maxdepth = 5)\n",
    "print(Sys.time() - start_time)"
   ]
  },
  {
   "cell_type": "code",
   "execution_count": 8,
   "metadata": {
    "vscode": {
     "languageId": "r"
    }
   },
   "outputs": [],
   "source": [
    "pred_testing <- predict(modelo, dtest, type = \"prob\")"
   ]
  },
  {
   "cell_type": "markdown",
   "metadata": {},
   "source": [
    " Preguntas:\n",
    " - ¿Qué tan importante mirar las métricas de train?"
   ]
  },
  {
   "cell_type": "markdown",
   "metadata": {},
   "source": [
    "# Step 3: Mirando la ganancia"
   ]
  },
  {
   "cell_type": "code",
   "execution_count": 9,
   "metadata": {
    "vscode": {
     "languageId": "r"
    }
   },
   "outputs": [],
   "source": [
    "# Armamos una función que nos calcule la ganancia, usando el punto de corte de 0.025\n",
    "ganancia <- function(probabilidades, clase) {\n",
    "  return(sum(\n",
    "    (probabilidades >= 0.025) * ifelse(clase == \"evento\", 273000, -7000))\n",
    "  )\n",
    "}"
   ]
  },
  {
   "cell_type": "code",
   "execution_count": 10,
   "metadata": {
    "vscode": {
     "languageId": "r"
    }
   },
   "outputs": [
    {
     "name": "stdout",
     "output_type": "stream",
     "text": [
      "[1] 58776667\n"
     ]
    }
   ],
   "source": [
    "# La ganancia en testing NORMALIZADA\n",
    "print(ganancia(pred_testing[, \"evento\"], dtest$clase_binaria) / 0.3)"
   ]
  },
  {
   "cell_type": "markdown",
   "metadata": {},
   "source": [
    "`Actividad`:\n",
    "Comparta el número que le dio de ganancia y cuanto error estima que puede haber con el resto de sus compañeros\n"
   ]
  },
  {
   "cell_type": "markdown",
   "metadata": {},
   "source": [
    "# Step 4: Probando más muchas más semillas"
   ]
  },
  {
   "cell_type": "code",
   "execution_count": 11,
   "metadata": {
    "vscode": {
     "languageId": "r"
    }
   },
   "outputs": [],
   "source": [
    "# Almacenaremos los resultados en una tabla\n",
    "resultados_n_gan <- c()"
   ]
  },
  {
   "cell_type": "markdown",
   "metadata": {},
   "source": [
    "Calcule en función del tiempo de ejecución anterior, cuantos árboles puede hacer en 5 minutos y ponga ese número en la siguiente variable \"n\""
   ]
  },
  {
   "cell_type": "code",
   "execution_count": 12,
   "metadata": {
    "vscode": {
     "languageId": "r"
    }
   },
   "outputs": [],
   "source": [
    "n <- 100"
   ]
  },
  {
   "cell_type": "code",
   "execution_count": 13,
   "metadata": {
    "vscode": {
     "languageId": "r"
    }
   },
   "outputs": [
    {
     "name": "stdout",
     "output_type": "stream",
     "text": [
      "Time difference of 7.812371 mins\n"
     ]
    }
   ],
   "source": [
    "set.seed(semillas[1])\n",
    "t0 <- Sys.time()\n",
    "for (i in 1:n) {\n",
    "\n",
    "    in_training <- caret::createDataPartition(dataset[, get(\"clase_binaria\")],\n",
    "                            p = 0.70, list = FALSE)\n",
    "    dtrain  <-  dataset[in_training, ]\n",
    "    dtest   <-  dataset[-in_training, ]\n",
    "\n",
    "    modelo <- rpart(clase_binaria ~ .,\n",
    "                    data = dtrain,\n",
    "                    xval = 0,\n",
    "                    cp = 0,\n",
    "                    minsplit = 20,\n",
    "                    minbucket = 1,\n",
    "                    maxdepth = 5)\n",
    "\n",
    "    pred_testing <- predict(modelo, dtest, type = \"prob\")\n",
    "\n",
    "    gan <- ganancia(pred_testing[, \"evento\"], dtest$clase_binaria) / 0.3\n",
    "\n",
    "    resultados_n_gan <- c(resultados_n_gan, gan)\n",
    "}\n",
    "print(Sys.time() - t0)\n"
   ]
  },
  {
   "cell_type": "markdown",
   "metadata": {},
   "source": [
    " Preguntas:\n",
    " ¿Cree que puede cambiar mucho la ganancia en **test** para dos semillas distintas?\n"
   ]
  },
  {
   "cell_type": "markdown",
   "metadata": {},
   "source": [
    "# Step 5: Analizando el azar de las semillas"
   ]
  },
  {
   "cell_type": "code",
   "execution_count": 14,
   "metadata": {
    "vscode": {
     "languageId": "r"
    }
   },
   "outputs": [
    {
     "name": "stdout",
     "output_type": "stream",
     "text": [
      "[1] 39736667\n",
      "[1] 70840000\n",
      "[1] 54718300\n"
     ]
    }
   ],
   "source": [
    "# La menor ganancia conseguida en test\n",
    "print(min(resultados_n_gan))\n",
    "\n",
    "# La mayor ganancia\n",
    "print(max(resultados_n_gan))\n",
    "\n",
    "# La media de la ganancia\n",
    "print(mean(resultados_n_gan))"
   ]
  },
  {
   "cell_type": "code",
   "execution_count": 15,
   "metadata": {
    "vscode": {
     "languageId": "r"
    }
   },
   "outputs": [
    {
     "data": {
      "image/png": "[encoded data removed]",
      "text/plain": [
       "plot without title"
      ]
     },
     "metadata": {
      "image/png": {
       "height": 420,
       "width": 420
      }
     },
     "output_type": "display_data"
    }
   ],
   "source": [
    "# Veamos la dispersión de la ganancia\n",
    "ggplot() + aes(resultados_n_gan) + geom_density()"
   ]
  },
  {
   "cell_type": "markdown",
   "metadata": {},
   "source": [
    "# Step 6: Tratando de corregir la dispersión"
   ]
  },
  {
   "cell_type": "code",
   "execution_count": 16,
   "metadata": {
    "vscode": {
     "languageId": "r"
    }
   },
   "outputs": [],
   "source": [
    "# Veamos si tomar el promedio de 5 árboles nos ayuda a reducir la dispersión\n",
    "cantidad_arboles <- 5\n",
    "\n",
    "resultados_n_mcv <- c()\n",
    "set.seed(semillas[1])\n",
    "\n",
    "for (i in 1:50) \n",
    "    resultados_n_mcv <- c(resultados_n_mcv, mean(sample(resultados_n_gan, cantidad_arboles)))"
   ]
  },
  {
   "cell_type": "code",
   "execution_count": 17,
   "metadata": {
    "vscode": {
     "languageId": "r"
    }
   },
   "outputs": [
    {
     "name": "stdout",
     "output_type": "stream",
     "text": [
      "[1] 49410667\n",
      "[1] 62216000\n",
      "[1] 55438880\n"
     ]
    }
   ],
   "source": [
    "# La menor ganancia conseguida en test\n",
    "print(min(resultados_n_mcv))\n",
    "\n",
    "# La mayor ganancia\n",
    "print(max(resultados_n_mcv))\n",
    "\n",
    "# La media de la ganancia\n",
    "print(mean(resultados_n_mcv))"
   ]
  },
  {
   "cell_type": "code",
   "execution_count": 18,
   "metadata": {
    "vscode": {
     "languageId": "r"
    }
   },
   "outputs": [
    {
     "data": {
      "image/png": "[encoded data removed]",
      "text/plain": [
       "plot without title"
      ]
     },
     "metadata": {
      "image/png": {
       "height": 420,
       "width": 420
      }
     },
     "output_type": "display_data"
    }
   ],
   "source": [
    "# Veamos la dispersión de la ganancia\n",
    "ggplot() + aes(resultados_n_mcv) + geom_density()"
   ]
  },
  {
   "cell_type": "markdown",
   "metadata": {},
   "source": [
    "`NOTA`: Esta técnica es conocida como Montecarlo Cross Validation\n",
    " Preguntas\n",
    " - ¿Qué efecto observa cuando se toma como medición el promedio de 5 árboles?\n",
    " - ¿Desapareció el error?\n",
    " - ¿Si se hubieran tomado más valores que efectos esperaría?\n",
    " - ¿Que ventaja y desventaja ve en esta técnica comparada al Cross Validation?"
   ]
  },
  {
   "cell_type": "markdown",
   "metadata": {},
   "source": [
    "# Step 7: Midiendo nuestras semillas"
   ]
  },
  {
   "cell_type": "code",
   "execution_count": 19,
   "metadata": {
    "vscode": {
     "languageId": "r"
    }
   },
   "outputs": [
    {
     "name": "stdout",
     "output_type": "stream",
     "text": [
      "Time difference of 24.96958 secs\n"
     ]
    }
   ],
   "source": [
    "resultados_mis_semillas <- c()\n",
    "\n",
    "t0 <- Sys.time()\n",
    "for (s in semillas) {\n",
    "    set.seed(s)\n",
    "    in_training <- caret::createDataPartition(dataset[, get(\"clase_binaria\")],\n",
    "                            p = 0.70, list = FALSE)\n",
    "    dtrain  <-  dataset[in_training, ]\n",
    "    dtest   <-  dataset[-in_training, ]\n",
    "\n",
    "    modelo <- rpart(clase_binaria ~ .,\n",
    "                    data = dtrain,\n",
    "                    xval = 0,\n",
    "                    cp = 0,\n",
    "                    minsplit = 20,\n",
    "                    minbucket = 1,\n",
    "                    maxdepth = 5)\n",
    "\n",
    "    pred_testing <- predict(modelo, dtest, type = \"prob\")\n",
    "\n",
    "    gan <- ganancia(pred_testing[, \"evento\"], dtest$clase_binaria) / 0.3\n",
    "\n",
    "    resultados_mis_semillas <- c(resultados_mis_semillas, gan)\n",
    "\n",
    "}\n",
    "print(Sys.time() - t0)"
   ]
  },
  {
   "cell_type": "code",
   "execution_count": 20,
   "metadata": {
    "vscode": {
     "languageId": "r"
    }
   },
   "outputs": [
    {
     "name": "stdout",
     "output_type": "stream",
     "text": [
      "[1] 53074000\n"
     ]
    }
   ],
   "source": [
    "print(mean(resultados_mis_semillas))"
   ]
  },
  {
   "cell_type": "markdown",
   "metadata": {},
   "source": [
    "Preguntas\n",
    " - ¿Cuán lejos se encontró la media de sus semillas respecto a los resultados anteriores?\n",
    " - ¿Usaría semillas que le den un valor promedio más alto?\n",
    " - ¿Usaría más semillas?\n",
    " - ¿Que ventaja y desventaja ve en usar más semillas?"
   ]
  },
  {
   "cell_type": "markdown",
   "metadata": {},
   "source": [
    "# Step 8: Buscando un mejor modelo (Grid Search)"
   ]
  },
  {
   "cell_type": "markdown",
   "metadata": {},
   "source": [
    "## Estrategia de la clase"
   ]
  },
  {
   "cell_type": "code",
   "execution_count": 21,
   "metadata": {
    "vscode": {
     "languageId": "r"
    }
   },
   "outputs": [],
   "source": [
    "resultados_grid_search <- data.table()"
   ]
  },
  {
   "cell_type": "markdown",
   "metadata": {},
   "source": [
    " Complete los valores que se van a combinar para cada parámetro a explorar"
   ]
  },
  {
   "cell_type": "code",
   "execution_count": 22,
   "metadata": {
    "vscode": {
     "languageId": "r"
    }
   },
   "outputs": [
    {
     "name": "stdout",
     "output_type": "stream",
     "text": [
      "     tiempo cp mb ms md      gan\n",
      "1: 22.93221 -1 25 50  5 67214000\n"
     ]
    }
   ],
   "source": [
    "for (cp in c(-1, 0.01)) { \n",
    "for (md in c(5, 10, 15, 30)) {\n",
    "for (ms in c(1, 50, 500, 1000)) {\n",
    "for (mb in c(1, as.integer(ms / 2))) {\n",
    "\n",
    "    t0 <- Sys.time()\n",
    "    gan_semillas <- c()\n",
    "    for (s in semillas) {\n",
    "        set.seed(s)\n",
    "        in_training <- caret::createDataPartition(dataset[,\n",
    "                        get(\"clase_binaria\")],\n",
    "                                p = 0.70, list = FALSE)\n",
    "        dtrain  <-  dataset[in_training, ]\n",
    "        dtest   <-  dataset[-in_training, ]\n",
    "\n",
    "        modelo <- rpart(clase_binaria ~ .,\n",
    "                        data = dtrain,\n",
    "                        xval = 0,\n",
    "                        cp = cp,\n",
    "                        minsplit = ms,\n",
    "                        minbucket = mb,\n",
    "                        maxdepth = md)\n",
    "\n",
    "        pred_testing <- predict(modelo, dtest, type = \"prob\")\n",
    "        gan <- ganancia(pred_testing[, \"evento\"], dtest$clase_binaria) / 0.3\n",
    "\n",
    "        gan_semillas <- c(gan_semillas, gan)\n",
    "    }\n",
    "    tiempo <-  as.numeric(Sys.time() - t0, units = \"secs\")\n",
    "\n",
    "    resultados_grid_search <- rbindlist(list(\n",
    "                                resultados_grid_search,\n",
    "                                data.table(\n",
    "                                    tiempo = tiempo,\n",
    "                                    cp = cp,\n",
    "                                    mb = mb,\n",
    "                                    ms = ms,\n",
    "                                    md = md,\n",
    "                                    gan = mean(gan_semillas)) # se puede agregar el sd?\n",
    "                                ))\n",
    "}\n",
    "}\n",
    "}\n",
    "}\n",
    "\n",
    "# Visualizo los parámetros de los mejores parámetros\n",
    "print(resultados_grid_search[gan == max(gan), ])"
   ]
  },
  {
   "cell_type": "code",
   "execution_count": 23,
   "metadata": {
    "vscode": {
     "languageId": "r"
    }
   },
   "outputs": [
    {
     "name": "stdout",
     "output_type": "stream",
     "text": [
      "      tiempo    cp  mb   ms md      gan\n",
      " 1: 22.93221 -1.00  25   50  5 67214000\n",
      " 2: 25.86321 -1.00 500 1000  5 66206000\n",
      " 3: 25.21487 -1.00 250  500  5 64134000\n",
      " 4: 46.93531 -1.00 500 1000 10 63821333\n",
      " 5: 44.28603 -1.00 500 1000 15 63821333\n",
      " 6: 35.11789 -1.00 500 1000 30 63821333\n",
      " 7: 59.55467 -1.00   1 1000 15 63550667\n",
      " 8: 39.33842 -1.00   1 1000 10 63163333\n",
      " 9: 41.98935 -1.00   1    1 10 61007333\n",
      "10: 34.99153 -1.00   0    1 10 61007333\n",
      "11: 39.56204 -1.00   1  500 10 59990000\n",
      "12: 35.14319 -1.00   1   50 10 59798667\n",
      "13: 41.70184 -1.00 250  500 10 58580667\n",
      "14: 64.11355 -1.00   1  500 15 57908667\n",
      "15: 46.64285 -1.00 250  500 15 56415333\n",
      "16: 44.71463 -1.00 250  500 30 56415333\n",
      "17: 23.87602 -1.00   1   50  5 54810000\n",
      "18: 73.71284 -1.00   1 1000 30 54800667\n",
      "19: 30.21361 -1.00   1 1000  5 54679333\n",
      "20: 26.50836 -1.00   1  500  5 54614000\n",
      "21: 34.07819 -1.00   1    1  5 54506667\n",
      "22: 24.20487 -1.00   0    1  5 54506667\n",
      "23: 55.39456 -1.00   1   50 15 51300667\n",
      "24: 55.83838 -1.00   1    1 15 49387333\n",
      "25: 59.97795 -1.00   0    1 15 49387333\n",
      "26: 36.46099 -1.00  25   50 10 45640000\n",
      "27: 67.24007 -1.00   1  500 30 43605333\n",
      "28: 51.53645 -1.00  25   50 15 26460000\n",
      "29: 60.71794 -1.00  25   50 30 21149333\n",
      "30: 75.97668 -1.00   1   50 30 20020000\n",
      "31: 73.98049 -1.00   1    1 30 12819333\n",
      "32: 73.91830 -1.00   0    1 30 12819333\n",
      "33: 20.32095  0.01   1    1  5        0\n",
      "34: 20.34319  0.01   0    1  5        0\n",
      "35: 24.22830  0.01   1   50  5        0\n",
      "36: 23.82346  0.01  25   50  5        0\n",
      "37: 24.10387  0.01   1  500  5        0\n",
      "38: 23.61525  0.01 250  500  5        0\n",
      "39: 22.85875  0.01   1 1000  5        0\n",
      "40: 22.98699  0.01 500 1000  5        0\n",
      "41: 37.30717  0.01   1    1 10        0\n",
      "42: 33.91472  0.01   0    1 10        0\n",
      "43: 34.29697  0.01   1   50 10        0\n",
      "44: 32.69082  0.01  25   50 10        0\n",
      "45: 38.12669  0.01   1  500 10        0\n",
      "46: 26.11409  0.01 250  500 10        0\n",
      "47: 37.10485  0.01   1 1000 10        0\n",
      "48: 33.39321  0.01 500 1000 10        0\n",
      "49: 37.32488  0.01   1    1 15        0\n",
      "50: 39.84263  0.01   0    1 15        0\n",
      "51: 37.26926  0.01   1   50 15        0\n",
      "52: 29.31959  0.01  25   50 15        0\n",
      "53: 43.25324  0.01   1  500 15        0\n",
      "54: 27.99111  0.01 250  500 15        0\n",
      "55: 38.28855  0.01   1 1000 15        0\n",
      "56: 27.61408  0.01 500 1000 15        0\n",
      "57: 35.44979  0.01   1    1 30        0\n",
      "58: 42.38535  0.01   0    1 30        0\n",
      "59: 39.97063  0.01   1   50 30        0\n",
      "60: 39.09769  0.01  25   50 30        0\n",
      "61: 39.07282  0.01   1  500 30        0\n",
      "62: 32.15116  0.01 250  500 30        0\n",
      "63: 42.75116  0.01   1 1000 30        0\n",
      "64: 28.57965  0.01 500 1000 30        0\n",
      "      tiempo    cp  mb   ms md      gan\n"
     ]
    }
   ],
   "source": [
    "#  Imprimo todas ordenadas por mayor ganancia\n",
    "print(resultados_grid_search[order(-resultados_grid_search$gan), ])\n"
   ]
  },
  {
   "cell_type": "markdown",
   "metadata": {},
   "source": [
    "## Estrategia propia de Search:"
   ]
  },
  {
   "cell_type": "markdown",
   "metadata": {},
   "source": [
    "Random Search:"
   ]
  },
  {
   "cell_type": "code",
   "execution_count": 24,
   "metadata": {
    "vscode": {
     "languageId": "r"
    }
   },
   "outputs": [],
   "source": [
    "# Definir los rangos de parámetros\n",
    "cp_range <- runif(20, -1, 1)  # 20 Valores aleatorios entre -1 y 1 (incluyendo valores negativos)\n",
    "md_range <- sample(c(3, 5, 10, 15, 20, 25, 30), 20, replace = TRUE)  # Muestreo aleatorio\n",
    "ms_range <- sample(c(1, 10, 50, 100, 200, 500, 1000), 20, replace = TRUE)  # Muestreo aleatorio\n",
    "mb_range <- sapply(ms_range, function(ms) sample(c(1, as.integer(ms / 2), as.integer(ms / 3), ms / 4), 1)) \n",
    "\n",
    "\n",
    "\n",
    "resultados_random_search <- data.table()\n",
    "\n",
    "for (i in 1:length(cp_range)) {\n",
    "    cp <- cp_range[i]\n",
    "    md <- md_range[i]\n",
    "    ms <- ms_range[i]\n",
    "    mb <- mb_range[i]\n",
    "\n",
    "    t0 <- Sys.time()\n",
    "    gan_semillas <- c()\n",
    "\n",
    "    for (s in semillas) {\n",
    "        set.seed(s)\n",
    "        in_training <- caret::createDataPartition(dataset[, get(\"clase_binaria\")], p = 0.70, list = FALSE)\n",
    "        dtrain <- dataset[in_training, ]\n",
    "        dtest <- dataset[-in_training, ]\n",
    "\n",
    "        modelo <- rpart(clase_binaria ~ .,\n",
    "                        data = dtrain,\n",
    "                        xval = 0,\n",
    "                        cp = cp,\n",
    "                        minsplit = ms,\n",
    "                        minbucket = mb,\n",
    "                        maxdepth = md)\n",
    "\n",
    "        pred_testing <- predict(modelo, dtest, type = \"prob\")\n",
    "        gan <- ganancia(pred_testing[, \"evento\"], dtest$clase_binaria) / 0.3\n",
    "        gan_semillas <- c(gan_semillas, gan)\n",
    "    }\n",
    "\n",
    "    tiempo <- as.numeric(Sys.time() - t0, units = \"secs\")\n",
    "\n",
    "    resultados_random_search <- rbindlist(list(\n",
    "        resultados_random_search,\n",
    "        data.table(\n",
    "            tiempo = tiempo,\n",
    "            cp = cp,\n",
    "            mb = mb,\n",
    "            ms = ms,\n",
    "            md = md,\n",
    "            gan = mean(gan_semillas))\n",
    "    ))\n",
    "}\n",
    "\n",
    "# Ordenar resultados por mayor ganancia\n",
    "resultados_random_search <- resultados_random_search[order(-gan)]"
   ]
  },
  {
   "cell_type": "code",
   "execution_count": 25,
   "metadata": {
    "vscode": {
     "languageId": "r"
    }
   },
   "outputs": [
    {
     "name": "stdout",
     "output_type": "stream",
     "text": [
      "       tiempo          cp  mb   ms md      gan\n",
      " 1: 24.649142 -0.33690335  25  100  5 66957333\n",
      " 2: 36.169378 -0.06237259 333 1000 15 66154667\n",
      " 3: 38.914521 -0.22159424   1  200 10 59915333\n",
      " 4: 47.734662 -0.40862373 166  500 10 56980000\n",
      " 5: 19.665049 -0.29497312  33  100  3 55314000\n",
      " 6: 43.155942 -0.04792929 166  500 20 54119333\n",
      " 7: 17.356111 -0.18121764   1   50  3 53942000\n",
      " 8: 66.154792 -0.58206624   1  200 25 38000667\n",
      " 9: 61.766898 -0.44497119  25  100 15 30566667\n",
      "10: 56.893091 -0.24122567  25   50 30 21149333\n",
      "11: 15.550057  0.11269134   0    1  5        0\n",
      "12: 10.940676  0.34985704 100  200  5        0\n",
      "13: 11.761172  0.36556193 250 1000 20        0\n",
      "14: 10.695918  0.43216212   3   10 10        0\n",
      "15: 10.065611  0.41893374  25  100 30        0\n",
      "16: 12.107230  0.63833750   1  500 20        0\n",
      "17:  9.949776  0.80506148 166  500 25        0\n",
      "18:  9.785949  0.67257368   1    1  5        0\n",
      "19:  9.743428  0.67150564 500 1000 20        0\n",
      "20: 10.477587  0.30042240  25   50  3        0\n"
     ]
    }
   ],
   "source": [
    "print(resultados_random_search[order(-resultados_random_search$gan), ])\n"
   ]
  },
  {
   "cell_type": "markdown",
   "metadata": {},
   "source": [
    "Salida Chatgpt\n",
    "\n",
    "cp (Complexity Parameter):\n",
    "\n",
    "El parámetro de complejidad controla la poda del árbol de decisión para evitar el sobreajuste.\n",
    "Valores más grandes de cp generan árboles más pequeños y menos complejos.\n",
    "Valores negativos generalmente no tienen sentido, ya que indicarían una penalización inversa a la complejidad.\n",
    "Rango razonable: De 0 a 0.1. Un rango más amplio podría incluir valores negativos, pero suele ser poco común y puede no tener un significado claro en este contexto.\n",
    "\n",
    "md (Max Depth):\n",
    "\n",
    "La profundidad máxima del árbol de decisión, es decir, la longitud máxima desde la raíz hasta una hoja.\n",
    "Valores más bajos previenen el sobreajuste, mientras que valores más altos pueden llevar al sobreajuste.\n",
    "Rango razonable: De 3 a 30. Esto permite árboles relativamente cortos y también árboles más profundos.\n",
    "\n",
    "ms (Min Split):\n",
    "\n",
    "El número mínimo de observaciones requeridas en un nodo para que se pueda dividir en subnodos.\n",
    "Valores más bajos permiten divisiones incluso en conjuntos pequeños, lo que puede conducir al sobreajuste.\n",
    "Rango razonable: De 1 a la mitad del tamaño del conjunto de datos. Esto permitirá una amplia variedad de tamaños de nodo.\n",
    "\n",
    "mb (Min Bucket):\n",
    "\n",
    "El número mínimo de observaciones requeridas en una hoja (bucket) después de una división.\n",
    "Valores más bajos pueden conducir a hojas con pocos ejemplos, lo que podría resultar en sobreajuste.\n",
    "Rango razonable: De 1 a la mitad del tamaño del conjunto de datos. Al igual que con ms, esto permitirá una variedad de tamaños de hoja.\n",
    "\n",
    "Es importante señalar que los rangos de valores dependerán en gran medida de la naturaleza de tus datos y del problema en cuestión. Siempre es recomendable realizar pruebas con diferentes valores y observar cómo afectan al rendimiento del modelo en función de métricas relevantes, como la precisión, el recall o la ganancia."
   ]
  },
  {
   "cell_type": "markdown",
   "metadata": {},
   "source": [
    "# TAREA:"
   ]
  },
  {
   "cell_type": "markdown",
   "metadata": {},
   "source": [
    "`TAREA`:\n",
    "- Una vez que tenga sus mejores parámetros, haga una copia del script rpart/z101_PrimerModelo.R, cambie los parámetros dentro del script, ejecutelo y suba a Kaggle su modelo.\n",
    "\n",
    "`Preguntas`:\n",
    "- ¿Cuál es la diferencia entre **test** y **validation**?\n",
    "- ¿Cuántas veces podemos usar el conjunto de **test** sin convertirlo en **validation**?\n",
    "\n",
    "`La GRAN pregunta`:\n",
    " - ¿Qué otra cosita de la materia tiene una partición 70 / 30?\n",
    " - Todo lo que hemos visto ¿Va a afectar a esa cosita?."
   ]
  }
 ],
 "metadata": {
  "kernelspec": {
   "display_name": "R",
   "language": "R",
   "name": "ir"
  },
  "language_info": {
   "codemirror_mode": "r",
   "file_extension": ".r",
   "mimetype": "text/x-r-source",
   "name": "R",
   "pygments_lexer": "r",
   "version": "4.3.1"
  },
  "orig_nbformat": 4
 },
 "nbformat": 4,
 "nbformat_minor": 2
}
