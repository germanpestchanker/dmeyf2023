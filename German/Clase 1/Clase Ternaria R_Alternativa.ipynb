{
 "cells": [
  {
   "cell_type": "markdown",
   "metadata": {},
   "source": [
    "# Preparación del Entorno"
   ]
  },
  {
   "cell_type": "markdown",
   "metadata": {},
   "source": [
    "- La solución inicial, a pesar de aparentemente estar bien el resumen de cantidad de clases, parece no estar bien la primer solución en el Zulip (según https://dmeyf2023.zulip.rebelare.com/#narrow/stream/412-CazaTalentos/topic/Enunciado/near/48562, el kaggle público debería ser 40.27)\n",
    "- Voy a probar un código basado en este posteo <https://dmeyf2023.zulip.rebelare.com/#narrow/stream/401-Code/topic/calculo.20de.20clase_ternaria.20en.20R.20con.20TV.20y.20data.2Etable/near/48079> a ver si da bien , y luego lo voy revisando"
   ]
  },
  {
   "cell_type": "markdown",
   "metadata": {},
   "source": [
    "## Importación de Librerías"
   ]
  },
  {
   "cell_type": "code",
   "execution_count": 1,
   "metadata": {
    "vscode": {
     "languageId": "r"
    }
   },
   "outputs": [],
   "source": [
    "library(data.table)"
   ]
  },
  {
   "cell_type": "code",
   "execution_count": 2,
   "metadata": {
    "vscode": {
     "languageId": "r"
    }
   },
   "outputs": [
    {
     "name": "stderr",
     "output_type": "stream",
     "text": [
      "Loading required package: rpart\n",
      "\n",
      "Loading required package: rpart.plot\n",
      "\n"
     ]
    }
   ],
   "source": [
    "# cargo las librerias que necesito\n",
    "require(\"data.table\")\n",
    "require(\"rpart\")\n",
    "require(\"rpart.plot\")"
   ]
  },
  {
   "cell_type": "markdown",
   "metadata": {},
   "source": [
    "## Importación del archivo"
   ]
  },
  {
   "cell_type": "code",
   "execution_count": 3,
   "metadata": {
    "vscode": {
     "languageId": "r"
    }
   },
   "outputs": [],
   "source": [
    "# Aqui se debe poner la carpeta de la materia de SU computadora local\n",
    "setwd(\"C:/Users/German/Desktop/dmeyf2023/German/Clase 1\") # Establezco el Working Directory"
   ]
  },
  {
   "cell_type": "markdown",
   "metadata": {},
   "source": [
    "# Resolución del problema"
   ]
  },
  {
   "cell_type": "markdown",
   "metadata": {},
   "source": [
    "## Etiquetado del target"
   ]
  },
  {
   "cell_type": "code",
   "execution_count": 4,
   "metadata": {
    "vscode": {
     "languageId": "r"
    }
   },
   "outputs": [
    {
     "name": "stdout",
     "output_type": "stream",
     "text": [
      "Classes 'data.table' and 'data.frame':\t491063 obs. of  154 variables:\n",
      " $ numero_de_cliente                   : int  29183981 29184630 29185433 29185587 29185646 29187499 29188277 29188490 29188883 29189950 ...\n",
      " $ foto_mes                            : int  202103 202103 202103 202103 202103 202103 202103 202103 202103 202103 ...\n",
      " $ active_quarter                      : int  1 1 1 1 1 1 1 1 1 1 ...\n",
      " $ cliente_vip                         : int  0 0 0 0 0 0 0 0 0 0 ...\n",
      " $ internet                            : int  0 0 0 0 0 0 0 0 0 0 ...\n",
      " $ cliente_edad                        : int  50 59 68 79 60 71 67 45 66 59 ...\n",
      " $ cliente_antiguedad                  : int  197 322 268 322 257 375 322 307 322 266 ...\n",
      " $ mrentabilidad                       : num  14469 11902 847 4977 2860 ...\n",
      " $ mrentabilidad_annual                : num  125765 74159 21672 47736 37801 ...\n",
      " $ mcomisiones                         : num  2390 18751 482 1839 4035 ...\n",
      " $ mactivos_margen                     : num  7751 -8624 -1100 -437 -9570 ...\n",
      " $ mpasivos_margen                     : num  2546 2785 1412 3112 8568 ...\n",
      " $ cproductos                          : int  8 9 8 9 8 9 5 13 9 7 ...\n",
      " $ tcuentas                            : int  1 1 1 1 1 1 1 1 1 1 ...\n",
      " $ ccuenta_corriente                   : int  1 1 1 1 1 1 1 1 1 1 ...\n",
      " $ mcuenta_corriente_adicional         : num  0 0 0 0 0 0 0 0 0 0 ...\n",
      " $ mcuenta_corriente                   : num  0 124185 0 0 0 ...\n",
      " $ ccaja_ahorro                        : int  2 2 2 2 2 2 2 2 3 2 ...\n",
      " $ mcaja_ahorro                        : num  57964 4263 107054 229146 478500 ...\n",
      " $ mcaja_ahorro_adicional              : num  0 0 0 0 0 ...\n",
      " $ mcaja_ahorro_dolares                : num  1178744 0 0 4317327 43213 ...\n",
      " $ cdescubierto_preacordado            : int  1 1 1 1 1 1 1 1 1 1 ...\n",
      " $ mcuentas_saldo                      : num  1329345 100893 107054 4609610 196359 ...\n",
      " $ ctarjeta_debito                     : int  1 2 2 3 3 1 4 3 2 1 ...\n",
      " $ ctarjeta_debito_transacciones       : int  6 0 0 0 59 0 0 25 0 0 ...\n",
      " $ mautoservicio                       : num  2498 0 0 0 169112 ...\n",
      " $ ctarjeta_visa                       : int  1 1 1 1 1 1 1 1 1 1 ...\n",
      " $ ctarjeta_visa_transacciones         : int  92 8 4 15 33 4 3 69 1 25 ...\n",
      " $ mtarjeta_visa_consumo               : num  126929 50988 4604 41708 380437 ...\n",
      " $ ctarjeta_master                     : int  1 1 0 1 1 1 0 1 1 1 ...\n",
      " $ ctarjeta_master_transacciones       : int  20 7 0 0 0 0 0 17 0 14 ...\n",
      " $ mtarjeta_master_consumo             : num  24070 56055 0 0 0 ...\n",
      " $ cprestamos_personales               : int  0 0 0 0 0 0 0 8 0 0 ...\n",
      " $ mprestamos_personales               : num  0 0 0 0 0 ...\n",
      " $ cprestamos_prendarios               : int  0 0 0 0 0 0 0 0 0 0 ...\n",
      " $ mprestamos_prendarios               : num  0 0 0 0 0 0 0 0 0 0 ...\n",
      " $ cprestamos_hipotecarios             : int  0 0 0 0 0 0 0 1 0 0 ...\n",
      " $ mprestamos_hipotecarios             : num  0 0 0 0 0 ...\n",
      " $ cplazo_fijo                         : int  0 0 0 0 1 0 0 0 0 0 ...\n",
      " $ mplazo_fijo_dolares                 : num  0 0 0 0 1407600 ...\n",
      " $ mplazo_fijo_pesos                   : num  0 0 0 0 0 0 0 0 0 0 ...\n",
      " $ cinversion1                         : int  0 0 0 0 0 0 0 1 0 0 ...\n",
      " $ minversion1_pesos                   : num  0 0 0 0 0 ...\n",
      " $ minversion1_dolares                 : num  0 0 0 0 0 0 0 0 0 0 ...\n",
      " $ cinversion2                         : int  1 0 0 0 0 0 0 0 0 0 ...\n",
      " $ minversion2                         : num  4064 0 0 0 0 ...\n",
      " $ cseguro_vida                        : int  0 0 0 0 0 0 0 0 0 0 ...\n",
      " $ cseguro_auto                        : int  0 0 0 0 0 1 0 1 0 0 ...\n",
      " $ cseguro_vivienda                    : int  0 1 1 1 0 2 0 0 0 0 ...\n",
      " $ cseguro_accidentes_personales       : int  0 0 0 0 0 0 0 0 0 0 ...\n",
      " $ ccaja_seguridad                     : int  0 2 0 1 0 1 0 0 0 0 ...\n",
      " $ cpayroll_trx                        : int  1 0 0 0 2 0 0 1 0 0 ...\n",
      " $ mpayroll                            : num  151423 0 0 0 373782 ...\n",
      " $ mpayroll2                           : num  0 0 0 0 0 0 0 0 0 0 ...\n",
      " $ cpayroll2_trx                       : int  0 0 0 0 0 0 0 0 0 0 ...\n",
      " $ ccuenta_debitos_automaticos         : int  0 0 1 7 4 2 0 3 1 1 ...\n",
      " $ mcuenta_debitos_automaticos         : num  0 0 196 31388 28196 ...\n",
      " $ ctarjeta_visa_debitos_automaticos   : int  3 3 3 3 11 1 0 5 1 1 ...\n",
      " $ mttarjeta_visa_debitos_automaticos  : num  7069 23932 1651 7333 57242 ...\n",
      " $ ctarjeta_master_debitos_automaticos : int  3 7 0 0 0 0 0 1 0 2 ...\n",
      " $ mttarjeta_master_debitos_automaticos: num  11298 56055 0 0 0 ...\n",
      " $ cpagodeservicios                    : int  0 0 0 0 0 0 0 0 0 0 ...\n",
      " $ mpagodeservicios                    : num  0 0 0 0 0 0 0 0 0 0 ...\n",
      " $ cpagomiscuentas                     : int  2 0 0 1 2 7 0 10 6 2 ...\n",
      " $ mpagomiscuentas                     : num  12604 0 0 426 6043 ...\n",
      " $ ccajeros_propios_descuentos         : int  0 0 0 0 1 0 0 0 0 0 ...\n",
      " $ mcajeros_propios_descuentos         : num  0 0 0 0 3352 ...\n",
      " $ ctarjeta_visa_descuentos            : int  0 0 0 1 0 0 0 0 0 0 ...\n",
      " $ mtarjeta_visa_descuentos            : num  0 0 0 211 0 ...\n",
      " $ ctarjeta_master_descuentos          : int  0 0 0 0 0 0 0 1 0 0 ...\n",
      " $ mtarjeta_master_descuentos          : num  0 0 0 0 0 0 0 NA 0 0 ...\n",
      " $ ccomisiones_mantenimiento           : int  0 1 0 0 0 1 1 0 1 1 ...\n",
      " $ mcomisiones_mantenimiento           : num  0 2328 0 0 0 ...\n",
      " $ ccomisiones_otras                   : int  14 11 8 6 8 13 4 24 8 10 ...\n",
      " $ mcomisiones_otras                   : num  2390 18751 482 1839 4035 ...\n",
      " $ cforex                              : int  0 0 0 0 0 0 0 0 0 0 ...\n",
      " $ cforex_buy                          : int  0 0 0 0 0 0 0 0 0 0 ...\n",
      " $ mforex_buy                          : num  0 0 0 0 0 0 0 0 0 0 ...\n",
      " $ cforex_sell                         : int  0 0 0 0 0 0 0 0 0 0 ...\n",
      " $ mforex_sell                         : num  0 0 0 0 0 0 0 0 0 0 ...\n",
      " $ ctransferencias_recibidas           : int  2 1 0 0 4 4 1 6 1 0 ...\n",
      " $ mtransferencias_recibidas           : num  153182 28354 0 0 382697 ...\n",
      " $ ctransferencias_emitidas            : int  11 0 0 0 9 0 0 15 1 0 ...\n",
      " $ mtransferencias_emitidas            : num  75999 0 0 0 70491 ...\n",
      " $ cextraccion_autoservicio            : int  0 0 0 1 7 0 0 12 0 0 ...\n",
      " $ mextraccion_autoservicio            : num  0 0 0 1173 87975 ...\n",
      " $ ccheques_depositados                : int  0 3 0 0 0 0 0 0 0 0 ...\n",
      " $ mcheques_depositados                : num  0 175841 0 0 0 ...\n",
      " $ ccheques_emitidos                   : int  0 0 0 0 0 0 0 0 0 0 ...\n",
      " $ mcheques_emitidos                   : num  0 0 0 0 0 0 0 0 0 0 ...\n",
      " $ ccheques_depositados_rechazados     : int  0 1 0 0 0 0 0 0 0 0 ...\n",
      " $ mcheques_depositados_rechazados     : num  0 92019 0 0 0 ...\n",
      " $ ccheques_emitidos_rechazados        : int  0 0 0 0 0 0 0 0 0 0 ...\n",
      " $ mcheques_emitidos_rechazados        : num  0 0 0 0 0 0 0 0 0 0 ...\n",
      " $ tcallcenter                         : int  1 0 0 0 0 0 0 0 0 0 ...\n",
      " $ ccallcenter_transacciones           : int  1 0 0 0 0 0 0 0 0 0 ...\n",
      " $ thomebanking                        : int  1 1 1 1 1 0 1 1 1 1 ...\n",
      " $ chomebanking_transacciones          : int  83 10 31 141 143 6 5 224 110 58 ...\n",
      " $ ccajas_transacciones                : int  0 0 0 1 0 0 0 0 0 0 ...\n",
      "  [list output truncated]\n",
      " - attr(*, \".internal.selfref\")=<externalptr> \n"
     ]
    }
   ],
   "source": [
    "dt <- data.table::fread(file=\"competencia_01_crudo.csv\", header = T)\n",
    "\n",
    "str(dt)\n",
    "\n",
    "#1.Cálculo de la variable \"clase_ternaria\" como el valor máimo de foto_mes del cliente menos el valor minimo (ej, 3 meses = 2; 2 meses = 1; 1 mes = 0)\n",
    "#2.De ahí, sólo los que tienen el menor valor de foto_mes y al valor de clase ternaria se reemplaza con \"CONTINUA\". Si es igual a la diferencia máxima entre los valores de foto_mes, o en caso contrario con el valor \"BAJA+\" +  la direrencia + 1\n",
    "\n",
    "target <- dt[, list(foto_mes, clase_ternaria = (max(foto_mes) - min(foto_mes))), by = c(\"numero_de_cliente\")][foto_mes == min(foto_mes), c(list(numero_de_cliente = numero_de_cliente),\n",
    "                                                                                                                                           lapply(.SD, function(x){\n",
    "                                                                                                                                             ifelse(x == (max(dt[, unique(foto_mes)]) - min(dt[, unique(foto_mes)])), \"Continua\", paste0(\"BAJA+\", (x+1)))\n",
    "                                                                                                                                           })),\n",
    "                                                                                                              .SDcols = c(\"clase_ternaria\")]\n",
    "\n",
    "competencia_01 <- merge(dt, target, by = \"numero_de_cliente\", all.x = TRUE)\n"
   ]
  },
  {
   "cell_type": "code",
   "execution_count": 5,
   "metadata": {
    "vscode": {
     "languageId": "r"
    }
   },
   "outputs": [
    {
     "data": {
      "text/html": [
       "<table class=\"dataframe\">\n",
       "<caption>A data.table: 4 × 2</caption>\n",
       "<thead>\n",
       "\t<tr><th scope=col>clase_ternaria</th><th scope=col>N</th></tr>\n",
       "\t<tr><th scope=col>&lt;chr&gt;</th><th scope=col>&lt;int&gt;</th></tr>\n",
       "</thead>\n",
       "<tbody>\n",
       "\t<tr><td>Continua</td><td>483935</td></tr>\n",
       "\t<tr><td>NA      </td><td>  4153</td></tr>\n",
       "\t<tr><td>BAJA+1  </td><td>  1049</td></tr>\n",
       "\t<tr><td>BAJA+2  </td><td>  1926</td></tr>\n",
       "</tbody>\n",
       "</table>\n"
      ],
      "text/latex": [
       "A data.table: 4 × 2\n",
       "\\begin{tabular}{ll}\n",
       " clase\\_ternaria & N\\\\\n",
       " <chr> & <int>\\\\\n",
       "\\hline\n",
       "\t Continua & 483935\\\\\n",
       "\t NA       &   4153\\\\\n",
       "\t BAJA+1   &   1049\\\\\n",
       "\t BAJA+2   &   1926\\\\\n",
       "\\end{tabular}\n"
      ],
      "text/markdown": [
       "\n",
       "A data.table: 4 × 2\n",
       "\n",
       "| clase_ternaria &lt;chr&gt; | N &lt;int&gt; |\n",
       "|---|---|\n",
       "| Continua | 483935 |\n",
       "| NA       |   4153 |\n",
       "| BAJA+1   |   1049 |\n",
       "| BAJA+2   |   1926 |\n",
       "\n"
      ],
      "text/plain": [
       "  clase_ternaria N     \n",
       "1 Continua       483935\n",
       "2 NA               4153\n",
       "3 BAJA+1           1049\n",
       "4 BAJA+2           1926"
      ]
     },
     "metadata": {},
     "output_type": "display_data"
    }
   ],
   "source": [
    "# Contar la cantidad de distintos campos agrupados en la columna \"clase_ternaria\"\n",
    "count_clase <- competencia_01[, .N, by = clase_ternaria]\n",
    "count_clase"
   ]
  },
  {
   "cell_type": "code",
   "execution_count": 6,
   "metadata": {
    "vscode": {
     "languageId": "r"
    }
   },
   "outputs": [],
   "source": [
    "#Guardar archivo en la carpeta\n",
    "data.table::fwrite(competencia_01, file=\"competencia_01_alternativo.csv\")"
   ]
  },
  {
   "cell_type": "code",
   "execution_count": 7,
   "metadata": {
    "vscode": {
     "languageId": "r"
    }
   },
   "outputs": [
    {
     "data": {
      "text/html": [
       "<table class=\"dataframe\">\n",
       "<caption>A data.table: 3 × 2</caption>\n",
       "<thead>\n",
       "\t<tr><th scope=col>clase_ternaria</th><th scope=col>N</th></tr>\n",
       "\t<tr><th scope=col>&lt;chr&gt;</th><th scope=col>&lt;int&gt;</th></tr>\n",
       "</thead>\n",
       "<tbody>\n",
       "\t<tr><td>Continua</td><td>161312</td></tr>\n",
       "\t<tr><td>BAJA+1  </td><td>  1049</td></tr>\n",
       "\t<tr><td>BAJA+2  </td><td>   963</td></tr>\n",
       "</tbody>\n",
       "</table>\n"
      ],
      "text/latex": [
       "A data.table: 3 × 2\n",
       "\\begin{tabular}{ll}\n",
       " clase\\_ternaria & N\\\\\n",
       " <chr> & <int>\\\\\n",
       "\\hline\n",
       "\t Continua & 161312\\\\\n",
       "\t BAJA+1   &   1049\\\\\n",
       "\t BAJA+2   &    963\\\\\n",
       "\\end{tabular}\n"
      ],
      "text/markdown": [
       "\n",
       "A data.table: 3 × 2\n",
       "\n",
       "| clase_ternaria &lt;chr&gt; | N &lt;int&gt; |\n",
       "|---|---|\n",
       "| Continua | 161312 |\n",
       "| BAJA+1   |   1049 |\n",
       "| BAJA+2   |    963 |\n",
       "\n"
      ],
      "text/plain": [
       "  clase_ternaria N     \n",
       "1 Continua       161312\n",
       "2 BAJA+1           1049\n",
       "3 BAJA+2            963"
      ]
     },
     "metadata": {},
     "output_type": "display_data"
    }
   ],
   "source": [
    "#Extra, para el Zulip: cuántos sólo en 202103\n",
    "\n",
    "# Filtrar el DataFrame para obtener solo los registros con fecha_mes igual a 202103\n",
    "subset_dataset <- competencia_01[foto_mes %in% 202103]\n",
    "\n",
    "# Contar en este subset\n",
    "count_clase <- subset_dataset[, .N, by = clase_ternaria]\n",
    "count_clase"
   ]
  }
 ],
 "metadata": {
  "kernelspec": {
   "display_name": "R",
   "language": "R",
   "name": "ir"
  },
  "language_info": {
   "codemirror_mode": "r",
   "file_extension": ".r",
   "mimetype": "text/x-r-source",
   "name": "R",
   "pygments_lexer": "r",
   "version": "4.3.1"
  },
  "orig_nbformat": 4
 },
 "nbformat": 4,
 "nbformat_minor": 2
}
