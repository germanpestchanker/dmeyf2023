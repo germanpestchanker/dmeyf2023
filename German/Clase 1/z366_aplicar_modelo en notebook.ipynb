{
 "cells": [
  {
   "cell_type": "markdown",
   "metadata": {},
   "source": [
    "# Preparación del Entorno"
   ]
  },
  {
   "cell_type": "markdown",
   "metadata": {},
   "source": [
    "## Importación de Librerías"
   ]
  },
  {
   "cell_type": "code",
   "execution_count": null,
   "metadata": {
    "vscode": {
     "languageId": "r"
    }
   },
   "outputs": [],
   "source": [
    "# Aplicacion de modelo\n",
    "\n",
    "# limpio la memoria\n",
    "rm(list = ls()) # remove all objects\n",
    "gc() # garbage collection"
   ]
  },
  {
   "cell_type": "code",
   "execution_count": null,
   "metadata": {
    "vscode": {
     "languageId": "r"
    }
   },
   "outputs": [],
   "source": [
    "# cargo las librerias que necesito\n",
    "require(\"data.table\")\n",
    "require(\"rpart\")"
   ]
  },
  {
   "cell_type": "markdown",
   "metadata": {},
   "source": [
    "## Importación del archivo"
   ]
  },
  {
   "cell_type": "code",
   "execution_count": null,
   "metadata": {
    "vscode": {
     "languageId": "r"
    }
   },
   "outputs": [],
   "source": [
    "# Aqui se debe poner la carpeta de la materia de SU computadora local\n",
    "setwd(\"C:/Users/German/Desktop/dmeyf2023/German/Clase 1\") # Establezco el Working Directory\n",
    "\n",
    "# cargo el dataset\n",
    "dataset <- fread(\"competencia_01_crudo.csv\")"
   ]
  },
  {
   "cell_type": "markdown",
   "metadata": {},
   "source": [
    "# Definición de parámetrtos"
   ]
  },
  {
   "cell_type": "code",
   "execution_count": null,
   "metadata": {
    "vscode": {
     "languageId": "r"
    }
   },
   "outputs": [],
   "source": [
    "# los parametros del script\n",
    "#  deben copiarse a mano\n",
    "PARAM <- list()\n",
    "\n",
    "PARAM$experimento <- \"KA4000-01\"\n",
    "\n",
    "# puede ser { \"ternaria\", \"binaria1\", \"binaria2\" }\n",
    "PARAM$clase <- \"binaria2\"\n",
    "\n",
    "# poner 0 si no se quiere que se haga oversampling\n",
    "PARAM$oversampling <- 100\n",
    "\n",
    "# poner algo mayor a cero si se quiere cortar por probabilidad\n",
    "#  generalmente debe ser 0.025 , si se quiere cortar por probabilidad\n",
    "PARAM$prob_corte <-  -1\n",
    "\n",
    "# poner -1 si se quiere cortar por probabilidad\n",
    "#  un numero mayor o igual a cero indica que se corta por cant envios\n",
    "PARAM$corte <- 10000\n",
    "\n",
    "# estos valores son simplemente de ejemplo\n",
    "PARAM$rpart$cp <- -1\n",
    "PARAM$rpart$minsplit <- 2500\n",
    "PARAM$rpart$minbucket <- 250\n",
    "PARAM$rpart$maxdepth <- 6"
   ]
  },
  {
   "cell_type": "markdown",
   "metadata": {},
   "source": [
    "# Programa"
   ]
  },
  {
   "cell_type": "code",
   "execution_count": null,
   "metadata": {
    "vscode": {
     "languageId": "r"
    }
   },
   "outputs": [],
   "source": [
    "if( PARAM$prob_corte <= 0 & PARAM$corte <= 0 ) stop(\"debe elegir al menos una opcion de corte\" )\n",
    "if( PARAM$prob_corte > 0 & PARAM$corte > 0 ) stop(\"No puede elegir dos opcinoes de corte al mismo tiempo\" )\n",
    "if( PARAM$clase == \"binaria2\" & PARAM$corte <= 0 ) stop( \"en el caso de clase binaria2  debe cortar por envios, PARAM$corte\" )"
   ]
  },
  {
   "cell_type": "code",
   "execution_count": null,
   "metadata": {
    "vscode": {
     "languageId": "r"
    }
   },
   "outputs": [],
   "source": [
    "# creo la carpeta donde va el experimento\n",
    "#  HT  representa  Hiperparameter Tuning\n",
    "dir.create(\"./exp/\", showWarnings = FALSE)\n",
    "dir.create( paste0(\"./exp/\", PARAM$experimento, \"/\"),\n",
    "           showWarnings = FALSE)\n",
    "\n",
    "# Establezco el Working Directory DEL EXPERIMENTO\n",
    "setwd( paste0(\"./exp/\", PARAM$experimento, \"/\") )\n",
    "\n",
    "switch(PARAM$clase,\n",
    "  \"ternaria\"  = dataset[, clase_nueva := ifelse( clase_ternaria==\"BAJA+2\", \"POS\", clase_ternaria ) ],\n",
    "  \"binaria1\"  = dataset[, clase_nueva := ifelse( clase_ternaria==\"BAJA+2\", \"POS\", \"NEG\" ) ],\n",
    "  \"binaria2\"  = dataset[, clase_nueva := ifelse( clase_ternaria %in% c( \"BAJA+1\",\"BAJA+2\"), \"POS\", \"NEG\" ) ],\n",
    "  stop(\" PARAM$clase debe tener un valor valido\")\n",
    ")"
   ]
  },
  {
   "cell_type": "code",
   "execution_count": null,
   "metadata": {
    "vscode": {
     "languageId": "r"
    }
   },
   "outputs": [],
   "source": [
    "dtrain <- dataset[foto_mes == 202103] # defino donde voy a entrenar\n",
    "\n",
    "dapply <- dataset[foto_mes == 202105] # defino donde voy a aplicar el modelo\n",
    "dapply[, clase_ternaria := NA ]"
   ]
  },
  {
   "cell_type": "code",
   "execution_count": null,
   "metadata": {
    "vscode": {
     "languageId": "r"
    }
   },
   "outputs": [],
   "source": [
    "# hago el oversampling si hace falta\n",
    "vector_pesos <- rep( 1.0, nrow(dtrain) )\n",
    "if( PARAM$oversampling > 0 )   \n",
    "  vector_pesos <- dtrain[, ifelse( clase_nueva==\"POS\", PARAM$oversampling, 1) ]"
   ]
  },
  {
   "cell_type": "code",
   "execution_count": null,
   "metadata": {
    "vscode": {
     "languageId": "r"
    }
   },
   "outputs": [],
   "source": [
    "# genero el modelo,  aqui se construye el arbol\n",
    "modelo <- rpart(\n",
    "        formula = \"clase_nueva ~ . -clase_ternaria\",\n",
    "        data = dtrain, # los datos donde voy a entrenar\n",
    "        xval = 0,\n",
    "        control = PARAM$rpart,\n",
    "        weights =  vector_pesos\n",
    ")"
   ]
  },
  {
   "cell_type": "code",
   "execution_count": null,
   "metadata": {
    "vscode": {
     "languageId": "r"
    }
   },
   "outputs": [],
   "source": [
    "# aplico el modelo a los datos nuevos\n",
    "prediccion <- predict(\n",
    "        object = modelo,\n",
    "        newdata = dapply,\n",
    "        type = \"prob\"\n",
    ")\n"
   ]
  },
  {
   "cell_type": "code",
   "execution_count": null,
   "metadata": {
    "vscode": {
     "languageId": "r"
    }
   },
   "outputs": [],
   "source": [
    "\n",
    "# calculo en tablita lo necesario para generar el archivo prediccion\n",
    "tablita <- dapply[, list(numero_de_cliente) ]\n",
    "tablita[, prob := prediccion[, \"POS\"] ]\n",
    "setorder( tablita, -prob )\n",
    "tablita[, Predicted := 0L ]\n",
    "\n",
    "if( PARAM$prob_corte > 0 ) {\n",
    "  tablita[, Predicted := as.numeric(prob > PARAM$prob_corte)]\n",
    "} else {\n",
    "  if( PARAM$corte > 0 ) {\n",
    "    tablita[ 1:PARAM$corte, Predicted := 1]\n",
    "  }\n",
    "}"
   ]
  },
  {
   "cell_type": "code",
   "execution_count": null,
   "metadata": {
    "vscode": {
     "languageId": "r"
    }
   },
   "outputs": [],
   "source": [
    "# genero el submit para Kaggle\n",
    "nom_archivo <- paste0( PARAM$experimento, \"_kaggle.csv\" )\n",
    "\n",
    "fwrite(tablita[, list(numero_de_cliente, Predicted)],\n",
    "        file = nom_archivo,\n",
    "        sep = \",\"\n",
    ")"
   ]
  }
 ],
 "metadata": {
  "kernelspec": {
   "display_name": "R",
   "language": "R",
   "name": "ir"
  },
  "language_info": {
   "codemirror_mode": "r",
   "file_extension": ".r",
   "mimetype": "text/x-r-source",
   "name": "R",
   "pygments_lexer": "r",
   "version": "4.3.1"
  },
  "orig_nbformat": 4
 },
 "nbformat": 4,
 "nbformat_minor": 2
}
