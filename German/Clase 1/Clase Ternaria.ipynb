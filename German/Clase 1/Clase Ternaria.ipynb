{
 "cells": [
  {
   "cell_type": "markdown",
   "metadata": {},
   "source": [
    "# Preparación del entorno"
   ]
  },
  {
   "cell_type": "markdown",
   "metadata": {},
   "source": [
    "Instalación del sql lite"
   ]
  },
  {
   "cell_type": "code",
   "execution_count": 4,
   "metadata": {},
   "outputs": [
    {
     "name": "stdout",
     "output_type": "stream",
     "text": [
      "Collecting duckdb\n",
      "  Downloading duckdb-0.8.1-cp38-cp38-win_amd64.whl (9.8 MB)\n",
      "     ---------------------------------------- 0.0/9.8 MB ? eta -:--:--\n",
      "     - -------------------------------------- 0.5/9.8 MB 9.8 MB/s eta 0:00:01\n",
      "     ---- ----------------------------------- 1.0/9.8 MB 11.0 MB/s eta 0:00:01\n",
      "     ---- ----------------------------------- 1.0/9.8 MB 11.0 MB/s eta 0:00:01\n",
      "     ---- ----------------------------------- 1.0/9.8 MB 11.0 MB/s eta 0:00:01\n",
      "     ------ --------------------------------- 1.5/9.8 MB 6.5 MB/s eta 0:00:02\n",
      "     -------- ------------------------------- 2.1/9.8 MB 7.4 MB/s eta 0:00:02\n",
      "     -------- ------------------------------- 2.1/9.8 MB 7.4 MB/s eta 0:00:02\n",
      "     -------- ------------------------------- 2.1/9.8 MB 7.4 MB/s eta 0:00:02\n",
      "     -------- ------------------------------- 2.1/9.8 MB 7.4 MB/s eta 0:00:02\n",
      "     --------- ------------------------------ 2.4/9.8 MB 4.4 MB/s eta 0:00:02\n",
      "     ------------ --------------------------- 3.0/9.8 MB 5.2 MB/s eta 0:00:02\n",
      "     ------------ --------------------------- 3.1/9.8 MB 5.3 MB/s eta 0:00:02\n",
      "     ------------ --------------------------- 3.1/9.8 MB 5.3 MB/s eta 0:00:02\n",
      "     ---------------- ----------------------- 4.0/9.8 MB 5.5 MB/s eta 0:00:02\n",
      "     ----------------- ---------------------- 4.2/9.8 MB 5.6 MB/s eta 0:00:02\n",
      "     ----------------- ---------------------- 4.2/9.8 MB 5.6 MB/s eta 0:00:02\n",
      "     ------------------- -------------------- 4.7/9.8 MB 5.3 MB/s eta 0:00:01\n",
      "     --------------------- ------------------ 5.2/9.8 MB 5.7 MB/s eta 0:00:01\n",
      "     --------------------- ------------------ 5.2/9.8 MB 5.7 MB/s eta 0:00:01\n",
      "     --------------------- ------------------ 5.2/9.8 MB 5.7 MB/s eta 0:00:01\n",
      "     --------------------- ------------------ 5.2/9.8 MB 5.7 MB/s eta 0:00:01\n",
      "     --------------------- ------------------ 5.2/9.8 MB 5.7 MB/s eta 0:00:01\n",
      "     --------------------- ------------------ 5.2/9.8 MB 5.7 MB/s eta 0:00:01\n",
      "     --------------------- ------------------ 5.2/9.8 MB 5.7 MB/s eta 0:00:01\n",
      "     --------------------- ------------------ 5.2/9.8 MB 5.7 MB/s eta 0:00:01\n",
      "     --------------------- ------------------ 5.2/9.8 MB 5.7 MB/s eta 0:00:01\n",
      "     --------------------- ------------------ 5.2/9.8 MB 5.7 MB/s eta 0:00:01\n",
      "     --------------------- ------------------ 5.2/9.8 MB 5.7 MB/s eta 0:00:01\n",
      "     --------------------- ------------------ 5.2/9.8 MB 5.7 MB/s eta 0:00:01\n",
      "     --------------------- ------------------ 5.2/9.8 MB 5.7 MB/s eta 0:00:01\n",
      "     ----------------------- ---------------- 5.8/9.8 MB 3.8 MB/s eta 0:00:02\n",
      "     ------------------------- -------------- 6.3/9.8 MB 4.0 MB/s eta 0:00:01\n",
      "     ------------------------- -------------- 6.3/9.8 MB 4.0 MB/s eta 0:00:01\n",
      "     -------------------------- ------------- 6.4/9.8 MB 3.8 MB/s eta 0:00:01\n",
      "     ---------------------------- ----------- 7.1/9.8 MB 4.1 MB/s eta 0:00:01\n",
      "     ----------------------------- ---------- 7.3/9.8 MB 4.2 MB/s eta 0:00:01\n",
      "     ----------------------------- ---------- 7.3/9.8 MB 4.2 MB/s eta 0:00:01\n",
      "     ----------------------------- ---------- 7.3/9.8 MB 4.2 MB/s eta 0:00:01\n",
      "     ----------------------------- ---------- 7.3/9.8 MB 4.2 MB/s eta 0:00:01\n",
      "     ----------------------------- ---------- 7.3/9.8 MB 4.2 MB/s eta 0:00:01\n",
      "     ----------------------------- ---------- 7.3/9.8 MB 4.2 MB/s eta 0:00:01\n",
      "     ----------------------------- ---------- 7.3/9.8 MB 4.2 MB/s eta 0:00:01\n",
      "     ----------------------------- ---------- 7.3/9.8 MB 4.2 MB/s eta 0:00:01\n",
      "     ------------------------------- -------- 7.8/9.8 MB 3.6 MB/s eta 0:00:01\n",
      "     ---------------------------------- ----- 8.4/9.8 MB 3.8 MB/s eta 0:00:01\n",
      "     ---------------------------------- ----- 8.4/9.8 MB 3.8 MB/s eta 0:00:01\n",
      "     ---------------------------------- ----- 8.4/9.8 MB 3.8 MB/s eta 0:00:01\n",
      "     ---------------------------------- ----- 8.4/9.8 MB 3.8 MB/s eta 0:00:01\n",
      "     ---------------------------------- ----- 8.4/9.8 MB 3.8 MB/s eta 0:00:01\n",
      "     ---------------------------------- ----- 8.4/9.8 MB 3.8 MB/s eta 0:00:01\n",
      "     ------------------------------------ --- 9.0/9.8 MB 3.6 MB/s eta 0:00:01\n",
      "     ---------------------------------------  9.6/9.8 MB 3.8 MB/s eta 0:00:01\n",
      "     ---------------------------------------  9.8/9.8 MB 3.8 MB/s eta 0:00:01\n",
      "     ---------------------------------------- 9.8/9.8 MB 3.8 MB/s eta 0:00:00\n",
      "Installing collected packages: duckdb\n",
      "Successfully installed duckdb-0.8.1\n"
     ]
    },
    {
     "name": "stderr",
     "output_type": "stream",
     "text": [
      "WARNING: Ignoring invalid distribution -ywinpty (d:\\anaconda3\\lib\\site-packages)\n",
      "WARNING: Ignoring invalid distribution -ip (d:\\anaconda3\\lib\\site-packages)\n",
      "WARNING: Ignoring invalid distribution -ywinpty (d:\\anaconda3\\lib\\site-packages)\n",
      "WARNING: Ignoring invalid distribution -ip (d:\\anaconda3\\lib\\site-packages)\n",
      "WARNING: Ignoring invalid distribution -ywinpty (d:\\anaconda3\\lib\\site-packages)\n",
      "WARNING: Ignoring invalid distribution -ip (d:\\anaconda3\\lib\\site-packages)\n",
      "WARNING: Ignoring invalid distribution -ywinpty (d:\\anaconda3\\lib\\site-packages)\n",
      "WARNING: Ignoring invalid distribution -ip (d:\\anaconda3\\lib\\site-packages)\n",
      "WARNING: Ignoring invalid distribution -ywinpty (d:\\anaconda3\\lib\\site-packages)\n",
      "WARNING: Ignoring invalid distribution -ip (d:\\anaconda3\\lib\\site-packages)\n",
      "WARNING: Ignoring invalid distribution -ywinpty (d:\\anaconda3\\lib\\site-packages)\n",
      "WARNING: Ignoring invalid distribution -ip (d:\\anaconda3\\lib\\site-packages)\n",
      "WARNING: Ignoring invalid distribution -ywinpty (d:\\anaconda3\\lib\\site-packages)\n",
      "WARNING: Ignoring invalid distribution -ip (d:\\anaconda3\\lib\\site-packages)\n"
     ]
    },
    {
     "name": "stdout",
     "output_type": "stream",
     "text": [
      "Collecting jupysql\n",
      "  Downloading jupysql-0.10.0-py3-none-any.whl (83 kB)\n",
      "     ---------------------------------------- 0.0/83.7 kB ? eta -:--:--\n",
      "     ---------------------------------------- 83.7/83.7 kB 4.6 MB/s eta 0:00:00\n",
      "Collecting sqlparse\n",
      "  Downloading sqlparse-0.4.4-py3-none-any.whl (41 kB)\n",
      "     ---------------------------------------- 0.0/41.2 kB ? eta -:--:--\n",
      "     ---------------------------------------- 41.2/41.2 kB ? eta 0:00:00\n",
      "Requirement already satisfied: jinja2 in d:\\anaconda3\\lib\\site-packages (from jupysql) (3.1.2)\n",
      "Collecting ploomber-core>=0.2.7\n",
      "  Downloading ploomber_core-0.2.14-py3-none-any.whl (21 kB)\n",
      "Collecting sqlglot>=11.3.7\n",
      "  Downloading sqlglot-17.14.2-py3-none-any.whl (293 kB)\n",
      "     ---------------------------------------- 0.0/293.7 kB ? eta -:--:--\n",
      "     ------------------------------------- 293.7/293.7 kB 17.7 MB/s eta 0:00:00\n",
      "Requirement already satisfied: ipython<=8.12.0 in d:\\anaconda3\\lib\\site-packages (from jupysql) (8.12.0)\n",
      "Requirement already satisfied: sqlalchemy in d:\\anaconda3\\lib\\site-packages (from jupysql) (1.4.39)\n",
      "Requirement already satisfied: prettytable in d:\\anaconda3\\lib\\site-packages (from jupysql) (2.1.0)\n",
      "Requirement already satisfied: ipython-genutils>=0.1.0 in d:\\anaconda3\\lib\\site-packages (from jupysql) (0.2.0)\n",
      "Requirement already satisfied: backcall in d:\\anaconda3\\lib\\site-packages (from ipython<=8.12.0->jupysql) (0.2.0)\n",
      "Requirement already satisfied: jedi>=0.16 in d:\\anaconda3\\lib\\site-packages (from ipython<=8.12.0->jupysql) (0.17.1)\n",
      "Requirement already satisfied: decorator in d:\\anaconda3\\lib\\site-packages (from ipython<=8.12.0->jupysql) (5.1.1)\n",
      "Requirement already satisfied: typing-extensions in d:\\anaconda3\\lib\\site-packages (from ipython<=8.12.0->jupysql) (4.5.0)\n",
      "Requirement already satisfied: matplotlib-inline in d:\\anaconda3\\lib\\site-packages (from ipython<=8.12.0->jupysql) (0.1.6)\n",
      "Requirement already satisfied: pygments>=2.4.0 in d:\\anaconda3\\lib\\site-packages (from ipython<=8.12.0->jupysql) (2.11.2)\n",
      "Requirement already satisfied: prompt-toolkit!=3.0.37,<3.1.0,>=3.0.30 in d:\\anaconda3\\lib\\site-packages (from ipython<=8.12.0->jupysql) (3.0.36)\n",
      "Requirement already satisfied: colorama in d:\\anaconda3\\lib\\site-packages (from ipython<=8.12.0->jupysql) (0.4.6)\n",
      "Requirement already satisfied: traitlets>=5 in d:\\anaconda3\\lib\\site-packages (from ipython<=8.12.0->jupysql) (5.7.1)\n",
      "Requirement already satisfied: stack-data in d:\\anaconda3\\lib\\site-packages (from ipython<=8.12.0->jupysql) (0.2.0)\n",
      "Requirement already satisfied: pickleshare in d:\\anaconda3\\lib\\site-packages (from ipython<=8.12.0->jupysql) (0.7.5)\n",
      "Requirement already satisfied: pyyaml in d:\\anaconda3\\lib\\site-packages (from ploomber-core>=0.2.7->jupysql) (6.0)\n",
      "Requirement already satisfied: click in d:\\anaconda3\\lib\\site-packages (from ploomber-core>=0.2.7->jupysql) (7.1.2)\n",
      "Collecting posthog\n",
      "  Downloading posthog-3.0.2-py2.py3-none-any.whl (37 kB)\n",
      "Requirement already satisfied: MarkupSafe>=2.0 in d:\\anaconda3\\lib\\site-packages (from jinja2->jupysql) (2.1.1)\n",
      "Requirement already satisfied: wcwidth in d:\\anaconda3\\lib\\site-packages (from prettytable->jupysql) (0.2.5)\n",
      "Requirement already satisfied: greenlet!=0.4.17 in d:\\anaconda3\\lib\\site-packages (from sqlalchemy->jupysql) (2.0.1)\n",
      "Requirement already satisfied: parso<0.8.0,>=0.7.0 in d:\\anaconda3\\lib\\site-packages (from jedi>=0.16->ipython<=8.12.0->jupysql) (0.7.0)\n",
      "Requirement already satisfied: monotonic>=1.5 in d:\\anaconda3\\lib\\site-packages (from posthog->ploomber-core>=0.2.7->jupysql) (1.6)\n",
      "Requirement already satisfied: python-dateutil>2.1 in d:\\anaconda3\\lib\\site-packages (from posthog->ploomber-core>=0.2.7->jupysql) (2.8.2)\n",
      "Requirement already satisfied: six>=1.5 in d:\\anaconda3\\lib\\site-packages (from posthog->ploomber-core>=0.2.7->jupysql) (1.16.0)\n",
      "Requirement already satisfied: backoff>=1.10.0 in d:\\anaconda3\\lib\\site-packages (from posthog->ploomber-core>=0.2.7->jupysql) (1.10.0)\n",
      "Requirement already satisfied: requests<3.0,>=2.7 in d:\\anaconda3\\lib\\site-packages (from posthog->ploomber-core>=0.2.7->jupysql) (2.29.0)\n",
      "Requirement already satisfied: pure-eval in d:\\anaconda3\\lib\\site-packages (from stack-data->ipython<=8.12.0->jupysql) (0.2.2)\n",
      "Requirement already satisfied: executing in d:\\anaconda3\\lib\\site-packages (from stack-data->ipython<=8.12.0->jupysql) (0.8.3)\n",
      "Requirement already satisfied: asttokens in d:\\anaconda3\\lib\\site-packages (from stack-data->ipython<=8.12.0->jupysql) (2.0.5)\n",
      "Requirement already satisfied: charset-normalizer<4,>=2 in d:\\anaconda3\\lib\\site-packages (from requests<3.0,>=2.7->posthog->ploomber-core>=0.2.7->jupysql) (2.0.4)\n",
      "Requirement already satisfied: certifi>=2017.4.17 in d:\\anaconda3\\lib\\site-packages (from requests<3.0,>=2.7->posthog->ploomber-core>=0.2.7->jupysql) (2023.7.22)\n",
      "Requirement already satisfied: urllib3<1.27,>=1.21.1 in d:\\anaconda3\\lib\\site-packages (from requests<3.0,>=2.7->posthog->ploomber-core>=0.2.7->jupysql) (1.26.15)\n",
      "Requirement already satisfied: idna<4,>=2.5 in d:\\anaconda3\\lib\\site-packages (from requests<3.0,>=2.7->posthog->ploomber-core>=0.2.7->jupysql) (3.4)\n",
      "Installing collected packages: sqlglot, sqlparse, posthog, ploomber-core, jupysql\n",
      "Successfully installed jupysql-0.10.0 ploomber-core-0.2.14 posthog-3.0.2 sqlglot-17.14.2 sqlparse-0.4.4\n"
     ]
    },
    {
     "name": "stderr",
     "output_type": "stream",
     "text": [
      "WARNING: Ignoring invalid distribution -ywinpty (d:\\anaconda3\\lib\\site-packages)\n",
      "WARNING: Ignoring invalid distribution -ip (d:\\anaconda3\\lib\\site-packages)\n",
      "WARNING: Ignoring invalid distribution -ywinpty (d:\\anaconda3\\lib\\site-packages)\n",
      "WARNING: Ignoring invalid distribution -ip (d:\\anaconda3\\lib\\site-packages)\n",
      "WARNING: Ignoring invalid distribution -ywinpty (d:\\anaconda3\\lib\\site-packages)\n",
      "WARNING: Ignoring invalid distribution -ip (d:\\anaconda3\\lib\\site-packages)\n",
      "WARNING: Ignoring invalid distribution -ywinpty (d:\\anaconda3\\lib\\site-packages)\n",
      "WARNING: Ignoring invalid distribution -ip (d:\\anaconda3\\lib\\site-packages)\n",
      "WARNING: Ignoring invalid distribution -ywinpty (d:\\anaconda3\\lib\\site-packages)\n",
      "WARNING: Ignoring invalid distribution -ip (d:\\anaconda3\\lib\\site-packages)\n",
      "WARNING: Ignoring invalid distribution -ywinpty (d:\\anaconda3\\lib\\site-packages)\n",
      "WARNING: Ignoring invalid distribution -ip (d:\\anaconda3\\lib\\site-packages)\n",
      "WARNING: Ignoring invalid distribution -ywinpty (d:\\anaconda3\\lib\\site-packages)\n",
      "WARNING: Ignoring invalid distribution -ip (d:\\anaconda3\\lib\\site-packages)\n",
      "WARNING: Ignoring invalid distribution -ywinpty (d:\\anaconda3\\lib\\site-packages)\n",
      "WARNING: Ignoring invalid distribution -ip (d:\\anaconda3\\lib\\site-packages)\n",
      "WARNING: Ignoring invalid distribution -ywinpty (d:\\anaconda3\\lib\\site-packages)\n",
      "WARNING: Ignoring invalid distribution -ip (d:\\anaconda3\\lib\\site-packages)\n",
      "WARNING: Ignoring invalid distribution -ywinpty (d:\\anaconda3\\lib\\site-packages)\n",
      "WARNING: Ignoring invalid distribution -ip (d:\\anaconda3\\lib\\site-packages)\n",
      "WARNING: Ignoring invalid distribution -ywinpty (d:\\anaconda3\\lib\\site-packages)\n",
      "WARNING: Ignoring invalid distribution -ip (d:\\anaconda3\\lib\\site-packages)\n"
     ]
    },
    {
     "name": "stdout",
     "output_type": "stream",
     "text": [
      "Collecting duckdb-engine\n",
      "  Downloading duckdb_engine-0.9.2-py3-none-any.whl (43 kB)\n",
      "     ---------------------------------------- 0.0/43.1 kB ? eta -:--:--\n",
      "     ---------------------------------------- 43.1/43.1 kB 2.1 MB/s eta 0:00:00\n",
      "Requirement already satisfied: duckdb>=0.4.0 in d:\\anaconda3\\lib\\site-packages (from duckdb-engine) (0.8.1)\n",
      "Requirement already satisfied: sqlalchemy>=1.3.22 in d:\\anaconda3\\lib\\site-packages (from duckdb-engine) (1.4.39)\n",
      "Requirement already satisfied: greenlet!=0.4.17 in d:\\anaconda3\\lib\\site-packages (from sqlalchemy>=1.3.22->duckdb-engine) (2.0.1)\n",
      "Installing collected packages: duckdb-engine\n",
      "Successfully installed duckdb-engine-0.9.2\n"
     ]
    },
    {
     "name": "stderr",
     "output_type": "stream",
     "text": [
      "WARNING: Ignoring invalid distribution -ywinpty (d:\\anaconda3\\lib\\site-packages)\n",
      "WARNING: Ignoring invalid distribution -ip (d:\\anaconda3\\lib\\site-packages)\n",
      "WARNING: Ignoring invalid distribution -ywinpty (d:\\anaconda3\\lib\\site-packages)\n",
      "WARNING: Ignoring invalid distribution -ip (d:\\anaconda3\\lib\\site-packages)\n",
      "WARNING: Ignoring invalid distribution -ywinpty (d:\\anaconda3\\lib\\site-packages)\n",
      "WARNING: Ignoring invalid distribution -ip (d:\\anaconda3\\lib\\site-packages)\n",
      "WARNING: Ignoring invalid distribution -ywinpty (d:\\anaconda3\\lib\\site-packages)\n",
      "WARNING: Ignoring invalid distribution -ip (d:\\anaconda3\\lib\\site-packages)\n",
      "WARNING: Ignoring invalid distribution -ywinpty (d:\\anaconda3\\lib\\site-packages)\n",
      "WARNING: Ignoring invalid distribution -ip (d:\\anaconda3\\lib\\site-packages)\n",
      "WARNING: Ignoring invalid distribution -ywinpty (d:\\anaconda3\\lib\\site-packages)\n",
      "WARNING: Ignoring invalid distribution -ip (d:\\anaconda3\\lib\\site-packages)\n",
      "WARNING: Ignoring invalid distribution -ywinpty (d:\\anaconda3\\lib\\site-packages)\n",
      "WARNING: Ignoring invalid distribution -ip (d:\\anaconda3\\lib\\site-packages)\n"
     ]
    }
   ],
   "source": [
    "#!pip install duckdb"
   ]
  },
  {
   "cell_type": "code",
   "execution_count": 5,
   "metadata": {},
   "outputs": [
    {
     "name": "stdout",
     "output_type": "stream",
     "text": [
      "Requirement already satisfied: jupysql in d:\\anaconda3\\lib\\site-packages (0.10.0)\n",
      "Requirement already satisfied: prettytable in d:\\anaconda3\\lib\\site-packages (from jupysql) (2.1.0)\n",
      "Requirement already satisfied: ipython<=8.12.0 in d:\\anaconda3\\lib\\site-packages (from jupysql) (8.12.0)\n",
      "Requirement already satisfied: ipython-genutils>=0.1.0 in d:\\anaconda3\\lib\\site-packages (from jupysql) (0.2.0)\n",
      "Requirement already satisfied: sqlparse in d:\\anaconda3\\lib\\site-packages (from jupysql) (0.4.4)\n",
      "Requirement already satisfied: sqlalchemy in d:\\anaconda3\\lib\\site-packages (from jupysql) (1.4.39)\n",
      "Requirement already satisfied: jinja2 in d:\\anaconda3\\lib\\site-packages (from jupysql) (3.1.2)\n",
      "Requirement already satisfied: ploomber-core>=0.2.7 in d:\\anaconda3\\lib\\site-packages (from jupysql) (0.2.14)\n",
      "Requirement already satisfied: sqlglot>=11.3.7 in d:\\anaconda3\\lib\\site-packages (from jupysql) (17.14.2)\n",
      "Requirement already satisfied: jedi>=0.16 in d:\\anaconda3\\lib\\site-packages (from ipython<=8.12.0->jupysql) (0.17.1)\n",
      "Requirement already satisfied: typing-extensions in d:\\anaconda3\\lib\\site-packages (from ipython<=8.12.0->jupysql) (4.5.0)\n",
      "Requirement already satisfied: colorama in d:\\anaconda3\\lib\\site-packages (from ipython<=8.12.0->jupysql) (0.4.6)\n",
      "Requirement already satisfied: matplotlib-inline in d:\\anaconda3\\lib\\site-packages (from ipython<=8.12.0->jupysql) (0.1.6)\n",
      "Requirement already satisfied: stack-data in d:\\anaconda3\\lib\\site-packages (from ipython<=8.12.0->jupysql) (0.2.0)\n",
      "Requirement already satisfied: prompt-toolkit!=3.0.37,<3.1.0,>=3.0.30 in d:\\anaconda3\\lib\\site-packages (from ipython<=8.12.0->jupysql) (3.0.36)\n",
      "Requirement already satisfied: pickleshare in d:\\anaconda3\\lib\\site-packages (from ipython<=8.12.0->jupysql) (0.7.5)\n",
      "Requirement already satisfied: pygments>=2.4.0 in d:\\anaconda3\\lib\\site-packages (from ipython<=8.12.0->jupysql) (2.11.2)\n",
      "Requirement already satisfied: decorator in d:\\anaconda3\\lib\\site-packages (from ipython<=8.12.0->jupysql) (5.1.1)\n",
      "Requirement already satisfied: backcall in d:\\anaconda3\\lib\\site-packages (from ipython<=8.12.0->jupysql) (0.2.0)\n",
      "Requirement already satisfied: traitlets>=5 in d:\\anaconda3\\lib\\site-packages (from ipython<=8.12.0->jupysql) (5.7.1)\n",
      "Requirement already satisfied: pyyaml in d:\\anaconda3\\lib\\site-packages (from ploomber-core>=0.2.7->jupysql) (6.0)\n",
      "Requirement already satisfied: click in d:\\anaconda3\\lib\\site-packages (from ploomber-core>=0.2.7->jupysql) (7.1.2)\n",
      "Requirement already satisfied: posthog in d:\\anaconda3\\lib\\site-packages (from ploomber-core>=0.2.7->jupysql) (3.0.2)\n",
      "Requirement already satisfied: MarkupSafe>=2.0 in d:\\anaconda3\\lib\\site-packages (from jinja2->jupysql) (2.1.1)\n",
      "Requirement already satisfied: wcwidth in d:\\anaconda3\\lib\\site-packages (from prettytable->jupysql) (0.2.5)\n",
      "Requirement already satisfied: greenlet!=0.4.17 in d:\\anaconda3\\lib\\site-packages (from sqlalchemy->jupysql) (2.0.1)\n",
      "Requirement already satisfied: parso<0.8.0,>=0.7.0 in d:\\anaconda3\\lib\\site-packages (from jedi>=0.16->ipython<=8.12.0->jupysql) (0.7.0)\n",
      "Requirement already satisfied: six>=1.5 in d:\\anaconda3\\lib\\site-packages (from posthog->ploomber-core>=0.2.7->jupysql) (1.16.0)\n",
      "Requirement already satisfied: python-dateutil>2.1 in d:\\anaconda3\\lib\\site-packages (from posthog->ploomber-core>=0.2.7->jupysql) (2.8.2)\n",
      "Requirement already satisfied: monotonic>=1.5 in d:\\anaconda3\\lib\\site-packages (from posthog->ploomber-core>=0.2.7->jupysql) (1.6)\n",
      "Requirement already satisfied: requests<3.0,>=2.7 in d:\\anaconda3\\lib\\site-packages (from posthog->ploomber-core>=0.2.7->jupysql) (2.29.0)\n",
      "Requirement already satisfied: backoff>=1.10.0 in d:\\anaconda3\\lib\\site-packages (from posthog->ploomber-core>=0.2.7->jupysql) (1.10.0)\n",
      "Requirement already satisfied: asttokens in d:\\anaconda3\\lib\\site-packages (from stack-data->ipython<=8.12.0->jupysql) (2.0.5)\n",
      "Requirement already satisfied: executing in d:\\anaconda3\\lib\\site-packages (from stack-data->ipython<=8.12.0->jupysql) (0.8.3)\n",
      "Requirement already satisfied: pure-eval in d:\\anaconda3\\lib\\site-packages (from stack-data->ipython<=8.12.0->jupysql) (0.2.2)\n",
      "Requirement already satisfied: idna<4,>=2.5 in d:\\anaconda3\\lib\\site-packages (from requests<3.0,>=2.7->posthog->ploomber-core>=0.2.7->jupysql) (3.4)\n",
      "Requirement already satisfied: charset-normalizer<4,>=2 in d:\\anaconda3\\lib\\site-packages (from requests<3.0,>=2.7->posthog->ploomber-core>=0.2.7->jupysql) (2.0.4)\n",
      "Requirement already satisfied: urllib3<1.27,>=1.21.1 in d:\\anaconda3\\lib\\site-packages (from requests<3.0,>=2.7->posthog->ploomber-core>=0.2.7->jupysql) (1.26.15)\n",
      "Requirement already satisfied: certifi>=2017.4.17 in d:\\anaconda3\\lib\\site-packages (from requests<3.0,>=2.7->posthog->ploomber-core>=0.2.7->jupysql) (2023.7.22)\n"
     ]
    },
    {
     "name": "stderr",
     "output_type": "stream",
     "text": [
      "WARNING: Ignoring invalid distribution -ywinpty (d:\\anaconda3\\lib\\site-packages)\n",
      "WARNING: Ignoring invalid distribution -ip (d:\\anaconda3\\lib\\site-packages)\n",
      "WARNING: Ignoring invalid distribution -ywinpty (d:\\anaconda3\\lib\\site-packages)\n",
      "WARNING: Ignoring invalid distribution -ip (d:\\anaconda3\\lib\\site-packages)\n",
      "WARNING: Ignoring invalid distribution -ywinpty (d:\\anaconda3\\lib\\site-packages)\n",
      "WARNING: Ignoring invalid distribution -ip (d:\\anaconda3\\lib\\site-packages)\n",
      "WARNING: Ignoring invalid distribution -ywinpty (d:\\anaconda3\\lib\\site-packages)\n",
      "WARNING: Ignoring invalid distribution -ip (d:\\anaconda3\\lib\\site-packages)\n",
      "WARNING: Ignoring invalid distribution -ywinpty (d:\\anaconda3\\lib\\site-packages)\n",
      "WARNING: Ignoring invalid distribution -ip (d:\\anaconda3\\lib\\site-packages)\n",
      "WARNING: Ignoring invalid distribution -ywinpty (d:\\anaconda3\\lib\\site-packages)\n",
      "WARNING: Ignoring invalid distribution -ip (d:\\anaconda3\\lib\\site-packages)\n"
     ]
    }
   ],
   "source": [
    "!pip install jupysql"
   ]
  },
  {
   "cell_type": "code",
   "execution_count": 6,
   "metadata": {},
   "outputs": [
    {
     "name": "stdout",
     "output_type": "stream",
     "text": [
      "Requirement already satisfied: duckdb-engine in d:\\anaconda3\\lib\\site-packages (0.9.2)\n",
      "Requirement already satisfied: sqlalchemy>=1.3.22 in d:\\anaconda3\\lib\\site-packages (from duckdb-engine) (1.4.39)\n",
      "Requirement already satisfied: duckdb>=0.4.0 in d:\\anaconda3\\lib\\site-packages (from duckdb-engine) (0.8.1)\n",
      "Requirement already satisfied: greenlet!=0.4.17 in d:\\anaconda3\\lib\\site-packages (from sqlalchemy>=1.3.22->duckdb-engine) (2.0.1)\n"
     ]
    },
    {
     "name": "stderr",
     "output_type": "stream",
     "text": [
      "WARNING: Ignoring invalid distribution -ywinpty (d:\\anaconda3\\lib\\site-packages)\n",
      "WARNING: Ignoring invalid distribution -ip (d:\\anaconda3\\lib\\site-packages)\n",
      "WARNING: Ignoring invalid distribution -ywinpty (d:\\anaconda3\\lib\\site-packages)\n",
      "WARNING: Ignoring invalid distribution -ip (d:\\anaconda3\\lib\\site-packages)\n",
      "WARNING: Ignoring invalid distribution -ywinpty (d:\\anaconda3\\lib\\site-packages)\n",
      "WARNING: Ignoring invalid distribution -ip (d:\\anaconda3\\lib\\site-packages)\n",
      "WARNING: Ignoring invalid distribution -ywinpty (d:\\anaconda3\\lib\\site-packages)\n",
      "WARNING: Ignoring invalid distribution -ip (d:\\anaconda3\\lib\\site-packages)\n",
      "WARNING: Ignoring invalid distribution -ywinpty (d:\\anaconda3\\lib\\site-packages)\n",
      "WARNING: Ignoring invalid distribution -ip (d:\\anaconda3\\lib\\site-packages)\n",
      "WARNING: Ignoring invalid distribution -ywinpty (d:\\anaconda3\\lib\\site-packages)\n",
      "WARNING: Ignoring invalid distribution -ip (d:\\anaconda3\\lib\\site-packages)\n"
     ]
    }
   ],
   "source": [
    "!pip install duckdb-engine"
   ]
  }
 ],
 "metadata": {
  "kernelspec": {
   "display_name": "base",
   "language": "python",
   "name": "python3"
  },
  "language_info": {
   "codemirror_mode": {
    "name": "ipython",
    "version": 3
   },
   "file_extension": ".py",
   "mimetype": "text/x-python",
   "name": "python",
   "nbconvert_exporter": "python",
   "pygments_lexer": "ipython3",
   "version": "3.8.5"
  },
  "orig_nbformat": 4
 },
 "nbformat": 4,
 "nbformat_minor": 2
}
