{
 "cells": [
  {
   "cell_type": "markdown",
   "metadata": {},
   "source": [
    "## Importación de Librerías"
   ]
  },
  {
   "cell_type": "markdown",
   "metadata": {},
   "source": [
    "- para correr el Google Cloud\n",
    "-  8 vCPU\n",
    "-  16 GB memoria RAM"
   ]
  },
  {
   "cell_type": "code",
   "execution_count": null,
   "metadata": {
    "vscode": {
     "languageId": "r"
    }
   },
   "outputs": [],
   "source": [
    "# limpio la memoria\n",
    "rm(list = ls()) # remove all objects\n",
    "gc() # garbage collection\n",
    "\n"
   ]
  },
  {
   "cell_type": "code",
   "execution_count": null,
   "metadata": {
    "vscode": {
     "languageId": "r"
    }
   },
   "outputs": [],
   "source": [
    "# limpio la memoria\n",
    "rm(list = ls()) # remove all objects\n",
    "gc() # garbage collection\n"
   ]
  },
  {
   "cell_type": "code",
   "execution_count": null,
   "metadata": {
    "vscode": {
     "languageId": "r"
    }
   },
   "outputs": [],
   "source": [
    "require(\"data.table\")\n",
    "require(\"lightgbm\")"
   ]
  },
  {
   "cell_type": "markdown",
   "metadata": {},
   "source": [
    "# Definición de Parametros"
   ]
  },
  {
   "cell_type": "code",
   "execution_count": null,
   "metadata": {
    "vscode": {
     "languageId": "r"
    }
   },
   "outputs": [],
   "source": [
    "# defino los parametros de la corrida, en una lista, la variable global  PARAM\n",
    "#  muy pronto esto se leera desde un archivo formato .yaml\n",
    "PARAM <- list()\n",
    "PARAM$experimento <- \"KA5240 - Clase 7  - Solucion 8\"\n",
    "\n",
    "PARAM$input$dataset <- \"./datasets/competencia_02_clase7.csv.gz\"\n",
    "\n",
    "# meses donde se entrena el modelo\n",
    "PARAM$input$training <- c(201901, 201902, 201903, 201904, 201905,201906, 201907, 201908, 201909, 201910,201911, 201912,202001, 202101, 202102, 202103, 202104, 202105)\n",
    "PARAM$input$future <- c(202107) # meses donde se aplica el modelo\n",
    "\n",
    "PARAM$finalmodel$semilla <- 279523\n",
    "\n",
    "PARAM$finalmodel$num_iterations <- 1250\n",
    "PARAM$finalmodel$learning_rate <- 0.0534244729480804\n",
    "PARAM$finalmodel$feature_fraction <- 0.980868177216305\n",
    "PARAM$finalmodel$min_data_in_leaf <- 510\n",
    "PARAM$finalmodel$num_leaves <- 998\n",
    "\n",
    "\n",
    "PARAM$finalmodel$max_bin <- 31"
   ]
  },
  {
   "cell_type": "markdown",
   "metadata": {},
   "source": [
    "# Aquí empieza el programa"
   ]
  },
  {
   "cell_type": "code",
   "execution_count": null,
   "metadata": {
    "vscode": {
     "languageId": "r"
    }
   },
   "outputs": [],
   "source": [
    "setwd(\"~/buckets/b1\")\n",
    "\n",
    "# cargo el dataset donde voy a entrenar\n",
    "dataset <- fread(PARAM$input$dataset, stringsAsFactors = TRUE)"
   ]
  },
  {
   "cell_type": "code",
   "execution_count": null,
   "metadata": {
    "vscode": {
     "languageId": "r"
    }
   },
   "outputs": [],
   "source": [
    "# paso la clase a binaria que tome valores {0,1}  enteros\n",
    "# set trabaja con la clase  POS = { BAJA+1, BAJA+2 }\n",
    "# esta estrategia es MUY importante\n",
    "dataset[, clase01 := ifelse(clase_ternaria %in% c(\"BAJA+2\", \"BAJA+1\"), 1L, 0L)]"
   ]
  },
  {
   "cell_type": "code",
   "execution_count": null,
   "metadata": {
    "vscode": {
     "languageId": "r"
    }
   },
   "outputs": [],
   "source": [
    "# los campos que se van a utilizar\n",
    "campos_buenos <- setdiff(colnames(dataset), c(\"clase_ternaria\", \"clase01\"))"
   ]
  },
  {
   "cell_type": "code",
   "execution_count": null,
   "metadata": {
    "vscode": {
     "languageId": "r"
    }
   },
   "outputs": [],
   "source": [
    "# establezco donde entreno\n",
    "dataset[, train := 0L]\n",
    "dataset[foto_mes %in% PARAM$input$training, train := 1L]"
   ]
  },
  {
   "cell_type": "code",
   "execution_count": null,
   "metadata": {
    "vscode": {
     "languageId": "r"
    }
   },
   "outputs": [],
   "source": [
    "#--------------------------------------\n",
    "# creo las carpetas donde van los resultados\n",
    "# creo la carpeta donde va el experimento\n",
    "dir.create(\"./exp/\", showWarnings = FALSE)\n",
    "dir.create(paste0(\"./exp/\", PARAM$experimento, \"/\"), showWarnings = FALSE)\n",
    "\n",
    "# Establezco el Working Directory DEL EXPERIMENTO\n",
    "setwd(paste0(\"./exp/\", PARAM$experimento, \"/\"))"
   ]
  },
  {
   "cell_type": "code",
   "execution_count": null,
   "metadata": {
    "vscode": {
     "languageId": "r"
    }
   },
   "outputs": [],
   "source": [
    "# dejo los datos en el formato que necesita LightGBM\n",
    "dtrain <- lgb.Dataset(\n",
    "  data = data.matrix(dataset[train == 1L, campos_buenos, with = FALSE]),\n",
    "  label = dataset[train == 1L, clase01]\n",
    ")"
   ]
  },
  {
   "cell_type": "code",
   "execution_count": null,
   "metadata": {
    "vscode": {
     "languageId": "r"
    }
   },
   "outputs": [],
   "source": [
    "# genero el modelo\n",
    "# estos hiperparametros  salieron de una laaarga Optmizacion Bayesiana\n",
    "modelo <- lgb.train(\n",
    "  data = dtrain,\n",
    "  param = list(\n",
    "    objective = \"binary\",\n",
    "    max_bin = PARAM$finalmodel$max_bin,\n",
    "    learning_rate = PARAM$finalmodel$learning_rate,\n",
    "    num_iterations = PARAM$finalmodel$num_iterations,\n",
    "    num_leaves = PARAM$finalmodel$num_leaves,\n",
    "    min_data_in_leaf = PARAM$finalmodel$min_data_in_leaf,\n",
    "    feature_fraction = PARAM$finalmodel$feature_fraction,\n",
    "    seed = PARAM$finalmodel$semilla\n",
    "  )\n",
    ")"
   ]
  },
  {
   "cell_type": "code",
   "execution_count": null,
   "metadata": {
    "vscode": {
     "languageId": "r"
    }
   },
   "outputs": [],
   "source": [
    "#--------------------------------------\n",
    "# ahora imprimo la importancia de variables\n",
    "tb_importancia <- as.data.table(lgb.importance(modelo))\n",
    "archivo_importancia <- \"impo.txt\"\n",
    "\n",
    "fwrite(tb_importancia,\n",
    "  file = archivo_importancia,\n",
    "  sep = \"\\t\"\n",
    ")"
   ]
  },
  {
   "cell_type": "code",
   "execution_count": null,
   "metadata": {
    "vscode": {
     "languageId": "r"
    }
   },
   "outputs": [],
   "source": [
    "# aplico el modelo a los datos sin clase\n",
    "dapply <- dataset[foto_mes == PARAM$input$future]\n",
    "\n",
    "# aplico el modelo a los datos nuevos\n",
    "prediccion <- predict(\n",
    "  modelo,\n",
    "  data.matrix(dapply[, campos_buenos, with = FALSE])\n",
    ")\n",
    "\n",
    "# genero la tabla de entrega\n",
    "tb_entrega <- dapply[, list(numero_de_cliente, foto_mes)]\n",
    "tb_entrega[, prob := prediccion]\n",
    "\n",
    "# grabo las probabilidad del modelo\n",
    "fwrite(tb_entrega,\n",
    "  file = \"prediccion.txt\",\n",
    "  sep = \"\\t\"\n",
    ")"
   ]
  },
  {
   "cell_type": "code",
   "execution_count": null,
   "metadata": {
    "vscode": {
     "languageId": "r"
    }
   },
   "outputs": [],
   "source": [
    "# ordeno por probabilidad descendente\n",
    "setorder(tb_entrega, -prob)"
   ]
  },
  {
   "cell_type": "code",
   "execution_count": null,
   "metadata": {
    "vscode": {
     "languageId": "r"
    }
   },
   "outputs": [],
   "source": [
    "# genero archivos con los  \"envios\" mejores\n",
    "# deben subirse \"inteligentemente\" a Kaggle para no malgastar submits\n",
    "# si la palabra inteligentemente no le significa nada aun\n",
    "# suba TODOS los archivos a Kaggle\n",
    "# espera a la siguiente clase sincronica en donde el tema sera explicado\n",
    "\n",
    "cortes <- seq(8000, 15000, by = 500)\n",
    "for (envios in cortes) {\n",
    "  tb_entrega[, Predicted := 0L]\n",
    "  tb_entrega[1:envios, Predicted := 1L]\n",
    "\n",
    "  fwrite(tb_entrega[, list(numero_de_cliente, Predicted)],\n",
    "    file = paste0(PARAM$experimento, \"_\", envios, \".csv\"),\n",
    "    sep = \",\"\n",
    "  )\n",
    "}\n",
    "\n",
    "cat(\"\\n\\nLa generacion de los archivos para Kaggle ha terminado\\n\")"
   ]
  }
 ],
 "metadata": {
  "kernelspec": {
   "display_name": "R",
   "language": "R",
   "name": "ir"
  },
  "language_info": {
   "codemirror_mode": "r",
   "file_extension": ".r",
   "mimetype": "text/x-r-source",
   "name": "R",
   "pygments_lexer": "r",
   "version": "4.3.1"
  },
  "orig_nbformat": 4
 },
 "nbformat": 4,
 "nbformat_minor": 2
}
