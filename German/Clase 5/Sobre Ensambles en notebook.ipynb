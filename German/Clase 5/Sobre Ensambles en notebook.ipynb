{
 "cells": [
  {
   "cell_type": "markdown",
   "metadata": {},
   "source": [
    "# Preparación del Entorno"
   ]
  },
  {
   "cell_type": "markdown",
   "metadata": {},
   "source": [
    "## Importación de Librerías"
   ]
  },
  {
   "cell_type": "code",
   "execution_count": 1,
   "metadata": {
    "vscode": {
     "languageId": "r"
    }
   },
   "outputs": [
    {
     "data": {
      "text/html": [
       "<table class=\"dataframe\">\n",
       "<caption>A matrix: 2 × 6 of type dbl</caption>\n",
       "<thead>\n",
       "\t<tr><th></th><th scope=col>used</th><th scope=col>(Mb)</th><th scope=col>gc trigger</th><th scope=col>(Mb)</th><th scope=col>max used</th><th scope=col>(Mb)</th></tr>\n",
       "</thead>\n",
       "<tbody>\n",
       "\t<tr><th scope=row>Ncells</th><td> 627623</td><td>33.6</td><td>1404608</td><td>75.1</td><td> 994947</td><td>53.2</td></tr>\n",
       "\t<tr><th scope=row>Vcells</th><td>1149754</td><td> 8.8</td><td>8388608</td><td>64.0</td><td>1769393</td><td>13.5</td></tr>\n",
       "</tbody>\n",
       "</table>\n"
      ],
      "text/latex": [
       "A matrix: 2 × 6 of type dbl\n",
       "\\begin{tabular}{r|llllll}\n",
       "  & used & (Mb) & gc trigger & (Mb) & max used & (Mb)\\\\\n",
       "\\hline\n",
       "\tNcells &  627623 & 33.6 & 1404608 & 75.1 &  994947 & 53.2\\\\\n",
       "\tVcells & 1149754 &  8.8 & 8388608 & 64.0 & 1769393 & 13.5\\\\\n",
       "\\end{tabular}\n"
      ],
      "text/markdown": [
       "\n",
       "A matrix: 2 × 6 of type dbl\n",
       "\n",
       "| <!--/--> | used | (Mb) | gc trigger | (Mb) | max used | (Mb) |\n",
       "|---|---|---|---|---|---|---|\n",
       "| Ncells |  627623 | 33.6 | 1404608 | 75.1 |  994947 | 53.2 |\n",
       "| Vcells | 1149754 |  8.8 | 8388608 | 64.0 | 1769393 | 13.5 |\n",
       "\n"
      ],
      "text/plain": [
       "       used    (Mb) gc trigger (Mb) max used (Mb)\n",
       "Ncells  627623 33.6 1404608    75.1  994947  53.2\n",
       "Vcells 1149754  8.8 8388608    64.0 1769393  13.5"
      ]
     },
     "metadata": {},
     "output_type": "display_data"
    }
   ],
   "source": [
    "# Aplicacion de modelo\n",
    "\n",
    "# limpio la memoria\n",
    "rm(list = ls()) # remove all objects\n",
    "gc() # garbage collection"
   ]
  },
  {
   "cell_type": "code",
   "execution_count": 2,
   "metadata": {
    "vscode": {
     "languageId": "r"
    }
   },
   "outputs": [
    {
     "name": "stderr",
     "output_type": "stream",
     "text": [
      "Loading required package: data.table\n",
      "\n",
      "Loading required package: rpart\n",
      "\n"
     ]
    }
   ],
   "source": [
    "# cargo las librerias que necesito\n",
    "require(\"data.table\")\n",
    "require(\"rpart\")"
   ]
  },
  {
   "cell_type": "markdown",
   "metadata": {},
   "source": [
    "## Importación del archivo"
   ]
  },
  {
   "cell_type": "code",
   "execution_count": 3,
   "metadata": {
    "vscode": {
     "languageId": "r"
    }
   },
   "outputs": [],
   "source": [
    "# Aqui se debe poner la carpeta de la materia de SU computadora local\n",
    "setwd(\"C:/Users/German/Desktop/dmeyf2023/German/Clase 4\") # Establezco el Working Directory\n",
    "\n",
    "# cargo el dataset\n",
    "dataset <- fread(\"competencia_01_alternativo.csv\")"
   ]
  },
  {
   "cell_type": "markdown",
   "metadata": {},
   "source": [
    "# Definición de parámetrtos"
   ]
  },
  {
   "cell_type": "code",
   "execution_count": 4,
   "metadata": {
    "vscode": {
     "languageId": "r"
    }
   },
   "outputs": [],
   "source": [
    "# los parametros del script\n",
    "#  deben copiarse a mano\n",
    "PARAM <- list()\n",
    "\n",
    "#Número de experimento\n",
    "PARAM$experimento <- \"KA4000-42\"\n",
    "\n",
    "# puede ser { \"ternaria\", \"binaria1\", \"binaria2\" }\n",
    "PARAM$clase <- \"ternaria\"\n",
    "\n",
    "# poner 0 si no se quiere que se haga oversampling\n",
    "PARAM$oversampling <- 0\n",
    "\n",
    "# poner algo mayor a cero si se quiere cortar por probabilidad\n",
    "#  generalmente debe ser 0.025 , si se quiere cortar por probabilidad\n",
    "PARAM$prob_corte <-  -1\n",
    "\n",
    "# poner -1 si se quiere cortar por probabilidad\n",
    "#  un numero mayor o igual a cero indica que se corta por cant envios\n",
    "PARAM$corte <- 15000\n",
    "\n",
    "# Cambiar acá los modelos (en este caso, uso el de la solución 18)\n",
    "PARAM$rpart$cp <- -0.805955567706734\n",
    "PARAM$rpart$minsplit <- 1935\n",
    "PARAM$rpart$minbucket <- 394\n",
    "PARAM$rpart$maxdepth <- 7"
   ]
  },
  {
   "cell_type": "markdown",
   "metadata": {},
   "source": [
    "# Programa"
   ]
  },
  {
   "cell_type": "code",
   "execution_count": 5,
   "metadata": {
    "vscode": {
     "languageId": "r"
    }
   },
   "outputs": [],
   "source": [
    "if( PARAM$prob_corte <= 0 & PARAM$corte <= 0 ) stop(\"debe elegir al menos una opcion de corte\" )\n",
    "if( PARAM$prob_corte > 0 & PARAM$corte > 0 ) stop(\"No puede elegir dos opcinoes de corte al mismo tiempo\" )\n",
    "if( PARAM$clase == \"binaria2\" & PARAM$corte <= 0 ) stop( \"en el caso de clase binaria2  debe cortar por envios, PARAM$corte\" )"
   ]
  },
  {
   "cell_type": "code",
   "execution_count": 6,
   "metadata": {
    "vscode": {
     "languageId": "r"
    }
   },
   "outputs": [],
   "source": [
    "# creo la carpeta donde va el experimento\n",
    "#  HT  representa  Hiperparameter Tuning\n",
    "dir.create(\"./exp/\", showWarnings = FALSE)\n",
    "dir.create( paste0(\"./exp/\", PARAM$experimento, \"/\"),\n",
    "           showWarnings = FALSE)\n",
    "\n",
    "# Establezco el Working Directory DEL EXPERIMENTO\n",
    "setwd( paste0(\"./exp/\", PARAM$experimento, \"/\") )\n",
    "\n",
    "switch(PARAM$clase,\n",
    "  \"ternaria\"  = dataset[, clase_nueva := ifelse( clase_ternaria==\"BAJA+2\", \"POS\", clase_ternaria ) ],\n",
    "  \"binaria1\"  = dataset[, clase_nueva := ifelse( clase_ternaria==\"BAJA+2\", \"POS\", \"NEG\" ) ],\n",
    "  \"binaria2\"  = dataset[, clase_nueva := ifelse( clase_ternaria %in% c( \"BAJA+1\",\"BAJA+2\"), \"POS\", \"NEG\" ) ],\n",
    "  stop(\" PARAM$clase debe tener un valor valido\")\n",
    ")"
   ]
  },
  {
   "cell_type": "code",
   "execution_count": 7,
   "metadata": {
    "vscode": {
     "languageId": "r"
    }
   },
   "outputs": [],
   "source": [
    "dtrain <- dataset[foto_mes == 202103] # defino donde voy a entrenar\n",
    "\n",
    "dapply <- dataset[foto_mes == 202105] # defino donde voy a aplicar el modelo\n",
    "dapply[, clase_ternaria := NA ]"
   ]
  },
  {
   "cell_type": "code",
   "execution_count": 8,
   "metadata": {
    "vscode": {
     "languageId": "r"
    }
   },
   "outputs": [],
   "source": [
    "# hago el oversampling si hace falta\n",
    "vector_pesos <- rep( 1.0, nrow(dtrain) )\n",
    "if( PARAM$oversampling > 0 )   \n",
    "  vector_pesos <- dtrain[, ifelse( clase_nueva==\"POS\", PARAM$oversampling, 1) ]"
   ]
  },
  {
   "cell_type": "code",
   "execution_count": 9,
   "metadata": {
    "vscode": {
     "languageId": "r"
    }
   },
   "outputs": [],
   "source": [
    "# genero el modelo,  aqui se construye el arbol\n",
    "modelo <- rpart(\n",
    "        formula = \"clase_nueva ~ . -clase_ternaria\",\n",
    "        data = dtrain, # los datos donde voy a entrenar\n",
    "        xval = 10,\n",
    "        control = PARAM$rpart,\n",
    "        weights =  vector_pesos\n",
    ")"
   ]
  },
  {
   "cell_type": "code",
   "execution_count": 10,
   "metadata": {
    "vscode": {
     "languageId": "r"
    }
   },
   "outputs": [],
   "source": [
    "# aplico el modelo a los datos nuevos\n",
    "prediccion <- predict(\n",
    "        object = modelo,\n",
    "        newdata = dapply,\n",
    "        type = \"prob\"\n",
    ")"
   ]
  },
  {
   "cell_type": "code",
   "execution_count": 11,
   "metadata": {
    "vscode": {
     "languageId": "r"
    }
   },
   "outputs": [],
   "source": [
    "\n",
    "# calculo en tablita lo necesario para generar el archivo prediccion\n",
    "tablita <- dapply[, list(numero_de_cliente) ]\n",
    "tablita[, prob := prediccion[, \"POS\"] ]\n",
    "setorder( tablita, -prob )\n",
    "tablita[, Predicted := 0L ]\n",
    "\n",
    "if( PARAM$prob_corte > 0 ) {\n",
    "  tablita[, Predicted := as.numeric(prob > PARAM$prob_corte)]\n",
    "} else {\n",
    "  if( PARAM$corte > 0 ) {\n",
    "    tablita[ 1:PARAM$corte, Predicted := 1]\n",
    "  }\n",
    "}"
   ]
  },
  {
   "cell_type": "code",
   "execution_count": 12,
   "metadata": {
    "vscode": {
     "languageId": "r"
    }
   },
   "outputs": [],
   "source": [
    "# genero el submit para Kaggle\n",
    "nom_archivo <- paste0( PARAM$experimento, \"_kaggle.csv\" )\n",
    "\n",
    "fwrite(tablita[, list(numero_de_cliente, Predicted)],\n",
    "        file = nom_archivo,\n",
    "        sep = \",\"\n",
    ")"
   ]
  }
 ],
 "metadata": {
  "kernelspec": {
   "display_name": "R",
   "language": "R",
   "name": "ir"
  },
  "language_info": {
   "codemirror_mode": "r",
   "file_extension": ".r",
   "mimetype": "text/x-r-source",
   "name": "R",
   "pygments_lexer": "r",
   "version": "4.3.1"
  },
  "orig_nbformat": 4
 },
 "nbformat": 4,
 "nbformat_minor": 2
}
