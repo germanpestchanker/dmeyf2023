{
 "cells": [
  {
   "cell_type": "markdown",
   "metadata": {},
   "source": [
    "# Preparación del Entorno"
   ]
  },
  {
   "cell_type": "markdown",
   "metadata": {},
   "source": [
    "## Importación de Librerías"
   ]
  },
  {
   "cell_type": "code",
   "execution_count": null,
   "metadata": {
    "vscode": {
     "languageId": "r"
    }
   },
   "outputs": [],
   "source": [
    "# Aplicacion de modelo\n",
    "\n",
    "# limpio la memoria\n",
    "rm(list = ls()) # remove all objects\n",
    "gc() # garbage collection"
   ]
  },
  {
   "cell_type": "code",
   "execution_count": null,
   "metadata": {
    "vscode": {
     "languageId": "r"
    }
   },
   "outputs": [],
   "source": [
    "require(\"data.table\")\n",
    "require(\"rlist\")\n",
    "\n",
    "require(\"rpart\")\n",
    "require(\"parallel\")\n",
    "\n",
    "# paquetes necesarios para la Bayesian Optimization\n",
    "require(\"DiceKriging\")\n",
    "require(\"mlrMBO\")"
   ]
  },
  {
   "cell_type": "markdown",
   "metadata": {},
   "source": [
    "## Importación del archivo"
   ]
  },
  {
   "cell_type": "code",
   "execution_count": null,
   "metadata": {
    "vscode": {
     "languageId": "r"
    }
   },
   "outputs": [],
   "source": [
    "# Aqui se debe poner la carpeta de la materia de SU computadora local\n",
    "setwd(\"C:/Users/German/Desktop/dmeyf2023/German/Clase 1\") # Establezco el Working Directory\n",
    "\n",
    "# cargo el dataset\n",
    "dataset <- fread(\"competencia_01_alternativo.csv\")"
   ]
  },
  {
   "cell_type": "markdown",
   "metadata": {},
   "source": [
    "# Definición de Funciones"
   ]
  },
  {
   "cell_type": "code",
   "execution_count": null,
   "metadata": {
    "vscode": {
     "languageId": "r"
    }
   },
   "outputs": [],
   "source": [
    "# Defino la  Optimizacion Bayesiana\n",
    "PARAM <- list()\n",
    "PARAM$experimento <- \"HT3990\"\n",
    "\n",
    "# cantidad de iteraciones de la Optimizacion Bayesiana\n",
    "PARAM$BO_iter <- 24  # iteraciones inteligentes   24= 40 - 4*4\n",
    "\n",
    "#  de los hiperparametros\n",
    "PARAM$hs <- makeParamSet(\n",
    "  makeIntegerParam(\"minsplit\", lower = 500L, upper = 1500L),\n",
    "  makeIntegerParam(\"minbucket\", lower = 200L, upper = 800L),\n",
    "  makeIntegerParam(\"maxdepth\", lower = 6L, upper = 12L),\n",
    "  makeIntegerParam(\"corte\", lower = 8000L, upper = 10000L),\n",
    "  forbidden = quote(minbucket > 0.5 * minsplit)\n",
    ")\n",
    "# minbuket NO PUEDE ser mayor que la mitad de minsplit\n"
   ]
  },
  {
   "cell_type": "code",
   "execution_count": null,
   "metadata": {
    "vscode": {
     "languageId": "r"
    }
   },
   "outputs": [],
   "source": [
    "PARAM$semilla_azar <- 279511 # Mi primera semilla"
   ]
  },
  {
   "cell_type": "code",
   "execution_count": null,
   "metadata": {
    "vscode": {
     "languageId": "r"
    }
   },
   "outputs": [],
   "source": [
    "leer_numero <- function( mensaje ) {\n",
    "  res <- readline( mensaje )\n",
    "  while( is.na( as.numeric( res ))) {\n",
    "    cat( \"Debe introducit un numero, el separador decimal es la coma\\n\" )\n",
    "    res <- readline( mensaje )\n",
    "  }\n",
    "\n",
    "  return( as.numeric(res) )\n",
    "}"
   ]
  },
  {
   "cell_type": "code",
   "execution_count": null,
   "metadata": {
    "vscode": {
     "languageId": "r"
    }
   },
   "outputs": [],
   "source": [
    "leer_verificado <- function( mensaje ) {\n",
    "  repeat {\n",
    "  \n",
    "    n1 <- leer_numero( mensaje )\n",
    "    cat( \"Por favor, vuelva a cargar el mismo numero\\n\" )\n",
    "    n2 <- leer_numero( mensaje )\n",
    "\n",
    "   if( n1 != n2 )  cat( \"Los numeros no coinciden, debe volver a cargar\\n\\n\" )\n",
    "   if( n1== n2 ) break\n",
    "  }\n",
    "\n",
    "  return( n1 )\n",
    "}"
   ]
  },
  {
   "cell_type": "code",
   "execution_count": null,
   "metadata": {
    "vscode": {
     "languageId": "r"
    }
   },
   "outputs": [],
   "source": [
    "# graba a un archivo los componentes de lista\n",
    "# para el primer registro, escribe antes los titulos\n",
    "\n",
    "loguear <- function(reg, arch = NA, folder = \"./work/\", ext = \".txt\",\n",
    "                    verbose = TRUE) {\n",
    "  archivo <- arch\n",
    "  if (is.na(arch)) archivo <- paste0(folder, substitute(reg), ext)\n",
    "\n",
    "  # Escribo los titulos\n",
    "  if (!file.exists(archivo)) {\n",
    "    linea <- paste0(\n",
    "      \"fecha\\t\",\n",
    "      paste(list.names(reg), collapse = \"\\t\"), \"\\n\"\n",
    "    )\n",
    "\n",
    "    cat(linea, file = archivo)\n",
    "  }\n",
    "\n",
    "  # la fecha y hora\n",
    "  linea <- paste0(\n",
    "    format(Sys.time(), \"%Y%m%d %H%M%S\"), \"\\t\",\n",
    "    gsub(\", \", \"\\t\", toString(reg)), \"\\n\"\n",
    "  )\n",
    "\n",
    "  # grabo al archivo\n",
    "  cat(linea, file = archivo, append = TRUE)\n",
    "\n",
    "  # imprimo por pantalla\n",
    "  if (verbose) cat(linea)"
   ]
  },
  {
   "cell_type": "code",
   "execution_count": null,
   "metadata": {
    "vscode": {
     "languageId": "r"
    }
   },
   "outputs": [],
   "source": [
    "# param tiene los hiperparametros del arbol\n",
    "\n",
    "ArbolSimple <- function( data, param, iteracion) {\n",
    "\n",
    "  param2 <- copy( param )\n",
    "  param2$cp <- -1\n",
    "  param2$minsplit <- param$minsplit \n",
    "  param2$minbucket <- param$minbucket\n",
    "  param2$corte <- param$corte\n",
    "\n",
    "  modelo <- rpart(\"clase_binaria ~ . - clase_ternaria\",\n",
    "    data = dtrain,\n",
    "    xval = 0,\n",
    "    control = param2\n",
    "  )\n",
    "    # aplico el modelo a los datos de testing\n",
    "  # aplico el modelo sobre los datos de testing\n",
    "  # quiero que me devuelva probabilidades\n",
    "  prediccion <- predict(modelo,\n",
    "    dapply,\n",
    "    type = \"prob\"\n",
    "  )\n",
    "\n",
    "  # esta es la probabilidad de baja\n",
    "  prob_baja <- prediccion[, \"POS\"]\n",
    "\n",
    "  tablita <- copy( dapply[, list(numero_de_cliente) ] )\n",
    "  tablita[ , prob := prob_baja ]\n",
    "  setorder( tablita, -prob )\n",
    "\n",
    "  # grabo el submit a Kaggle\n",
    "  tablita[ , Predicted := 0L ]\n",
    "  tablita[ 1:param2$corte, Predicted := 1L ]\n",
    "\n",
    "  nom_submit <- paste0(\"z399_\", sprintf( \"%03d\", iteracion ), \".csv\" )\n",
    "  fwrite( tablita[ , list(numero_de_cliente, Predicted)],\n",
    "          file= nom_submit,\n",
    "          sep= \",\" )\n",
    "\n",
    "  # solicito que el humano a cargo ingrese la ganancia publica\n",
    "  mensaje <- paste0( \"haga el submit a Kaggle de \", nom_submit,\n",
    "                     \" y cargue la ganancia publica : \" )\n",
    "\n",
    "  ganancia_public <- leer_verificado( mensaje )\n",
    "\n",
    "  return(ganancia_public)\n",
    "}"
   ]
  },
  {
   "cell_type": "code",
   "execution_count": null,
   "metadata": {
    "vscode": {
     "languageId": "r"
    }
   },
   "outputs": [],
   "source": [
    "#------------------------------------------------------------------------------\n",
    "# esta funcion solo puede recibir los parametros que se estan optimizando\n",
    "# el resto de los parametros, lamentablemente se pasan como variables globales\n",
    "\n",
    "EstimarGanancia <- function(x) {\n",
    "  GLOBAL_iteracion <<- GLOBAL_iteracion + 1\n",
    "\n",
    "  # x los hiperparametros del arbol\n",
    "  ganancia_public <- ArbolSimple( dtrain, x, GLOBAL_iteracion )\n",
    "\n",
    "  # logueo\n",
    "  xx <- x\n",
    "  xx$cp <- -1\n",
    "  xx$ganancia <- ganancia_public\n",
    "  xx$iteracion <- GLOBAL_iteracion\n",
    "  loguear(xx, arch = archivo_log)\n",
    "\n",
    "  # para que mlrMBO tenga todo reseteado\n",
    "  set.seed( PARAM$semilla_azar )\n",
    "\n",
    "  return(ganancia_public)\n",
    "}"
   ]
  },
  {
   "cell_type": "markdown",
   "metadata": {},
   "source": [
    "# Aquí empieza el programa"
   ]
  },
  {
   "cell_type": "code",
   "execution_count": null,
   "metadata": {
    "vscode": {
     "languageId": "r"
    }
   },
   "outputs": [],
   "source": [
    "# Establezco el Working Directory\n",
    "setwd(\"~/buckets/b1/\")\n",
    "\n",
    "# cargo los datos\n",
    "dataset <- fread(\"./datasets/competencia_01.csv\")\n",
    "\n",
    "# defino la clase_binaria2\n",
    "dataset[ , clase_binaria := ifelse( clase_ternaria==\"CONTINUA\", \"NEG\", \"POS\" ) ]\n",
    "\n",
    "dtrain <- dataset[foto_mes==202103]\n",
    "dapply <- dataset[foto_mes==202105]\n",
    "\n",
    "# creo la carpeta donde va el experimento\n",
    "#  HT  representa  Hiperparameter Tuning\n",
    "dir.create(\"./exp/\", showWarnings = FALSE)\n",
    "dir.create( paste0(\"./exp/\", PARAM$experimento, \"/\"), \n",
    "           showWarnings = FALSE)\n",
    "\n",
    "# Establezco el Working Directory DEL EXPERIMENTO\n",
    "setwd( paste0(\"./exp/\", PARAM$experimento, \"/\") )"
   ]
  },
  {
   "cell_type": "code",
   "execution_count": null,
   "metadata": {
    "vscode": {
     "languageId": "r"
    }
   },
   "outputs": [],
   "source": [
    "# en estos archivos quedan los resultados\n",
    "archivo_log <- \"BO_log.txt\"\n",
    "archivo_BO <- \"bayesian.RDATA\"\n",
    "\n",
    "# leo si ya existe el log\n",
    "#  para retomar en caso que se se corte el programa\n",
    "GLOBAL_iteracion <- 0\n",
    "\n",
    "if (file.exists(archivo_log)) {\n",
    "  tabla_log <- fread(archivo_log)\n",
    "  GLOBAL_iteracion <- nrow(tabla_log)\n",
    "}"
   ]
  },
  {
   "cell_type": "code",
   "execution_count": null,
   "metadata": {
    "vscode": {
     "languageId": "r"
    }
   },
   "outputs": [],
   "source": [
    "# Aqui comienza la configuracion de la Bayesian Optimization\n",
    "\n",
    "funcion_optimizar <- EstimarGanancia\n",
    "\n",
    "configureMlr(show.learner.output = FALSE)\n",
    "\n",
    "# configuro la busqueda bayesiana,\n",
    "#  los hiperparametros que se van a optimizar\n",
    "# por favor, no desesperarse por lo complejo\n",
    "# minimize= FALSE estoy Maximizando la ganancia\n",
    "obj.fun <- makeSingleObjectiveFunction(\n",
    "  fn = funcion_optimizar,\n",
    "  minimize = FALSE,\n",
    "  noisy = TRUE,\n",
    "  par.set = PARAM$hs,\n",
    "  has.simple.signature = FALSE\n",
    ")\n",
    "\n",
    "ctrl <- makeMBOControl(\n",
    "  save.on.disk.at.time = 600,\n",
    "  save.file.path = archivo_BO\n",
    ")\n",
    "\n",
    "ctrl <- setMBOControlTermination(ctrl, iters = PARAM$BO_iter)\n",
    "ctrl <- setMBOControlInfill(ctrl,  crit = makeMBOInfillCritEI())\n",
    "\n",
    "surr.km <- makeLearner(\"regr.km\",\n",
    "  predict.type = \"se\",\n",
    "  covtype = \"matern3_2\", control = list(trace = TRUE)\n",
    ")\n",
    "\n",
    "\n",
    "# para que mlrMBO tenga todo reseteado\n",
    "set.seed( PARAM$semilla_azar )"
   ]
  },
  {
   "cell_type": "code",
   "execution_count": null,
   "metadata": {
    "vscode": {
     "languageId": "r"
    }
   },
   "outputs": [],
   "source": [
    "# inicio la optimizacion bayesiana\n",
    "if (!file.exists(archivo_BO)) {\n",
    "  run <- mbo(\n",
    "    fun = obj.fun,\n",
    "    learner = surr.km,\n",
    "    control = ctrl\n",
    "  )\n",
    "} else {\n",
    "  run <- mboContinue(archivo_BO)\n",
    "}\n",
    "# retomo en caso que ya exista"
   ]
  }
 ],
 "metadata": {
  "kernelspec": {
   "display_name": "R",
   "language": "R",
   "name": "ir"
  },
  "language_info": {
   "codemirror_mode": "r",
   "file_extension": ".r",
   "mimetype": "text/x-r-source",
   "name": "R",
   "pygments_lexer": "r",
   "version": "4.3.1"
  },
  "orig_nbformat": 4
 },
 "nbformat": 4,
 "nbformat_minor": 2
}
