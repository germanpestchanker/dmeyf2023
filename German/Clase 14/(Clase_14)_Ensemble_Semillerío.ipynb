{
  "cells": [
    {
      "cell_type": "code",
      "execution_count": null,
      "metadata": {
        "id": "A5KYI7y0ppy_",
        "vscode": {
          "languageId": "r"
        },
        "outputId": "e91fcda0-b8b0-4471-8dde-b19277bc6291"
      },
      "outputs": [
        {
          "data": {
            "text/html": [
              "<table class=\"dataframe\">\n",
              "<caption>A matrix: 2 × 6 of type dbl</caption>\n",
              "<thead>\n",
              "\t<tr><th></th><th scope=col>used</th><th scope=col>(Mb)</th><th scope=col>gc trigger</th><th scope=col>(Mb)</th><th scope=col>max used</th><th scope=col>(Mb)</th></tr>\n",
              "</thead>\n",
              "<tbody>\n",
              "\t<tr><th scope=row>Ncells</th><td> 631890</td><td>33.8</td><td>1412184</td><td>75.5</td><td> 985003</td><td>52.7</td></tr>\n",
              "\t<tr><th scope=row>Vcells</th><td>1170395</td><td> 9.0</td><td>8388608</td><td>64.0</td><td>1815603</td><td>13.9</td></tr>\n",
              "</tbody>\n",
              "</table>\n"
            ],
            "text/latex": [
              "A matrix: 2 × 6 of type dbl\n",
              "\\begin{tabular}{r|llllll}\n",
              "  & used & (Mb) & gc trigger & (Mb) & max used & (Mb)\\\\\n",
              "\\hline\n",
              "\tNcells &  631890 & 33.8 & 1412184 & 75.5 &  985003 & 52.7\\\\\n",
              "\tVcells & 1170395 &  9.0 & 8388608 & 64.0 & 1815603 & 13.9\\\\\n",
              "\\end{tabular}\n"
            ],
            "text/markdown": [
              "\n",
              "A matrix: 2 × 6 of type dbl\n",
              "\n",
              "| <!--/--> | used | (Mb) | gc trigger | (Mb) | max used | (Mb) |\n",
              "|---|---|---|---|---|---|---|\n",
              "| Ncells |  631890 | 33.8 | 1412184 | 75.5 |  985003 | 52.7 |\n",
              "| Vcells | 1170395 |  9.0 | 8388608 | 64.0 | 1815603 | 13.9 |\n",
              "\n"
            ],
            "text/plain": [
              "       used    (Mb) gc trigger (Mb) max used (Mb)\n",
              "Ncells  631890 33.8 1412184    75.5  985003  52.7\n",
              "Vcells 1170395  9.0 8388608    64.0 1815603  13.9"
            ]
          },
          "metadata": {},
          "output_type": "display_data"
        }
      ],
      "source": [
        "# limpio la memoria\n",
        "rm(list = ls()) # remove all objects\n",
        "gc() # garbage collection"
      ]
    },
    {
      "cell_type": "code",
      "execution_count": null,
      "metadata": {
        "id": "NQyzk1eappzA",
        "vscode": {
          "languageId": "r"
        },
        "outputId": "a8e4d5e0-798d-4696-82ec-a9e0b87d8bd5"
      },
      "outputs": [
        {
          "name": "stderr",
          "output_type": "stream",
          "text": [
            "Loading required package: data.table\n",
            "\n",
            "Loading required package: lightgbm\n",
            "\n"
          ]
        }
      ],
      "source": [
        "require(\"data.table\")\n",
        "require(\"lightgbm\")"
      ]
    },
    {
      "cell_type": "code",
      "execution_count": null,
      "metadata": {
        "id": "ZNVVhq35ppzA",
        "vscode": {
          "languageId": "r"
        }
      },
      "outputs": [],
      "source": [
        "# defino los parametros de la corrida, en una lista, la variable global  PARAM\n",
        "#  muy pronto esto se leera desde un archivo formato .yaml\n",
        "PARAM <- list()\n",
        "PARAM$experimento <- \"Ensemble Semillerío (Clase 14)\"\n",
        "\n",
        "PARAM$input$seeds <- \"./exp/Ensemble Semillerío (Clase 14)/Ensemble Semillerío (Clase 14)_predicciones_semillas.csvz\"\n",
        "PARAM$input$dataset <- \"datasets/competencia_03_clase13.csv.gz\"\n",
        "\n",
        "# meses donde se entrena el modelo\n",
        "PARAM$input$training <- c(202107, 202106, 202105, 202104, 202103, 202102, 202101,\n",
        " 202012, 202011, 202010, 202009, 202008, 202002, 202001, 201912, 201911,\n",
        " 201910, 201909, 201908, 201907, 201906, 201905, 201904, 201903) #Dos meses después del training de la parametrización\n",
        "PARAM$input$future <- c(202109) # meses donde se aplica el modelo"
      ]
    },
    {
      "cell_type": "code",
      "source": [
        "# Cargo archivo de predicciones\n",
        "predicciones <- fread(PARAM$input$seeds)\n",
        "datos <- fread(PARAM$input$dataset)\n",
        "datos_reales <- datos[datos$foto_mes == 202109, c(\"numero_de_cliente\", \"foto_mes\", \"clase_ternaria\")]\n",
        "\n",
        "# Tranformo la clase ternaria en binaria\n",
        "datos_reales[, real := ifelse(clase_ternaria %in% c(\"BAJA+2\"), 1L, 0L)]\n",
        "\n",
        "rm(datos)\n"
      ],
      "metadata": {
        "id": "30KYmp62SYlF"
      },
      "execution_count": null,
      "outputs": []
    },
    {
      "cell_type": "code",
      "source": [
        "# Creo carpeta donde guardar los experimentos en caso de que no exista\n",
        "dir.create(\"./exp/\", showWarnings = FALSE)\n",
        "\n",
        "# Creo carpeta donde guardar este experimento en caso de que no exista\n",
        "dir.create(paste0(\"./exp/\", PARAM$experimento, \"/\"), showWarnings = FALSE)\n",
        "\n",
        "# Establezco el Working Directory de este experimento\n",
        "setwd(paste0(\"./exp/\", PARAM$experimento, \"/\"))"
      ],
      "metadata": {
        "id": "Cuf2LSQtSwuy"
      },
      "execution_count": null,
      "outputs": []
    },
    {
      "cell_type": "code",
      "source": [
        "# Armo Ensembles\n",
        "\n",
        "# # Crear un df para almacenar los resultados del ensemble\n",
        "ensemble_resultados <- data.frame(numero_de_cliente = predicciones$numero_de_cliente)\n",
        "\n",
        "# Cambio nombre de columnas. Los nuevos nombres de columnas serán \"semilla_1\" hasta \"semilla_100\".\n",
        "colnames(predicciones)[3:102] <- paste0(\"semilla_\", 1:100)\n",
        "\n",
        "# Me genero un ensemble (promedio de salidas) de las 100 semillas\n",
        "\n",
        "# Crear un dataframe para almacenar los resultados del ensemble\n",
        "ensemble_resultados <- data.frame(numero_de_cliente = predicciones$numero_de_cliente)\n",
        "\n",
        "# Cambiar nombre de columnas (semilla_1 a semilla_100)\n",
        "colnames(predicciones)[3:102] <- paste0(\"semilla_\", 1:100)\n",
        "\n",
        "# Calcular el promedio de las predicciones para los 100 modelos\n",
        "ensemble_resultados$proba_ensemble <- rowMeans(predicciones[, 3:102])"
      ],
      "metadata": {
        "id": "tVWMYY7rSwxi"
      },
      "execution_count": null,
      "outputs": []
    },
    {
      "cell_type": "code",
      "source": [
        "# Guardo el archivo\n",
        "archivo_salida <- paste0(PARAM$experimento, \"ensemble_resultados.csv\")\n",
        "fwrite(ensemble_resultados, file = archivo_salida, sep = \",\")"
      ],
      "metadata": {
        "id": "OwYd7uHoSYr7"
      },
      "execution_count": null,
      "outputs": []
    },
    {
      "cell_type": "code",
      "source": [
        "# Guardar el archivo como TXT\n",
        "tb_entrega <- paste0(PARAM$experimento, \"ensemble_resultados.txt\")\n",
        "write.table(ensemble_resultados, file = tb_entrega, sep = \"\\t\", row.names = FALSE)\n",
        "\n",
        "# ordeno por probabilidad descendente\n",
        "setorder(tb_entrega, -prob)"
      ],
      "metadata": {
        "id": "g1ne2pYRwA8d"
      },
      "execution_count": null,
      "outputs": []
    },
    {
      "cell_type": "code",
      "source": [
        "# genero archivos con los  \"envios\" mejores\n",
        "\n",
        "cortes <- seq(8000, 15000, by = 500)\n",
        "for (envios in cortes) {\n",
        "  tb_entrega[, Predicted := 0L]\n",
        "  tb_entrega[1:envios, Predicted := 1L]\n",
        "\n",
        "  fwrite(tb_entrega[, list(numero_de_cliente, Predicted)],\n",
        "    file = paste0(PARAM$experimento, \"_\", envios, \".csv\"),\n",
        "    sep = \",\"\n",
        "  )\n",
        "}\n",
        "\n",
        "cat(\"\\n\\nLa generacion de los archivos para Kaggle ha terminado\\n\")"
      ],
      "metadata": {
        "id": "YB2Uvd4zrLmS"
      },
      "execution_count": null,
      "outputs": []
    }
  ],
  "metadata": {
    "colab": {
      "provenance": []
    },
    "kernelspec": {
      "display_name": "R",
      "language": "R",
      "name": "ir"
    },
    "language_info": {
      "codemirror_mode": "r",
      "file_extension": ".r",
      "mimetype": "text/x-r-source",
      "name": "R",
      "pygments_lexer": "r",
      "version": "4.3.1"
    }
  },
  "nbformat": 4,
  "nbformat_minor": 0
}