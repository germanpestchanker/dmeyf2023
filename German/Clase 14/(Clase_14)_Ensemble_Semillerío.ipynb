{
  "cells": [
    {
      "cell_type": "code",
      "execution_count": 1,
      "metadata": {
        "id": "A5KYI7y0ppy_",
        "outputId": "e91fcda0-b8b0-4471-8dde-b19277bc6291",
        "vscode": {
          "languageId": "r"
        }
      },
      "outputs": [
        {
          "data": {
            "text/html": [
              "<table class=\"dataframe\">\n",
              "<caption>A matrix: 2 × 6 of type dbl</caption>\n",
              "<thead>\n",
              "\t<tr><th></th><th scope=col>used</th><th scope=col>(Mb)</th><th scope=col>gc trigger</th><th scope=col>(Mb)</th><th scope=col>max used</th><th scope=col>(Mb)</th></tr>\n",
              "</thead>\n",
              "<tbody>\n",
              "\t<tr><th scope=row>Ncells</th><td> 631893</td><td>33.8</td><td>1412184</td><td>75.5</td><td> 985033</td><td>52.7</td></tr>\n",
              "\t<tr><th scope=row>Vcells</th><td>1170410</td><td> 9.0</td><td>8388608</td><td>64.0</td><td>1815603</td><td>13.9</td></tr>\n",
              "</tbody>\n",
              "</table>\n"
            ],
            "text/latex": [
              "A matrix: 2 × 6 of type dbl\n",
              "\\begin{tabular}{r|llllll}\n",
              "  & used & (Mb) & gc trigger & (Mb) & max used & (Mb)\\\\\n",
              "\\hline\n",
              "\tNcells &  631893 & 33.8 & 1412184 & 75.5 &  985033 & 52.7\\\\\n",
              "\tVcells & 1170410 &  9.0 & 8388608 & 64.0 & 1815603 & 13.9\\\\\n",
              "\\end{tabular}\n"
            ],
            "text/markdown": [
              "\n",
              "A matrix: 2 × 6 of type dbl\n",
              "\n",
              "| <!--/--> | used | (Mb) | gc trigger | (Mb) | max used | (Mb) |\n",
              "|---|---|---|---|---|---|---|\n",
              "| Ncells |  631893 | 33.8 | 1412184 | 75.5 |  985033 | 52.7 |\n",
              "| Vcells | 1170410 |  9.0 | 8388608 | 64.0 | 1815603 | 13.9 |\n",
              "\n"
            ],
            "text/plain": [
              "       used    (Mb) gc trigger (Mb) max used (Mb)\n",
              "Ncells  631893 33.8 1412184    75.5  985033  52.7\n",
              "Vcells 1170410  9.0 8388608    64.0 1815603  13.9"
            ]
          },
          "metadata": {},
          "output_type": "display_data"
        }
      ],
      "source": [
        "# limpio la memoria\n",
        "rm(list = ls()) # remove all objects\n",
        "gc() # garbage collection"
      ]
    },
    {
      "cell_type": "code",
      "execution_count": 2,
      "metadata": {
        "id": "NQyzk1eappzA",
        "outputId": "a8e4d5e0-798d-4696-82ec-a9e0b87d8bd5",
        "vscode": {
          "languageId": "r"
        }
      },
      "outputs": [
        {
          "name": "stderr",
          "output_type": "stream",
          "text": [
            "Loading required package: data.table\n",
            "\n",
            "Loading required package: lightgbm\n",
            "\n"
          ]
        }
      ],
      "source": [
        "require(\"data.table\")\n",
        "require(\"lightgbm\")"
      ]
    },
    {
      "cell_type": "code",
      "execution_count": 3,
      "metadata": {
        "vscode": {
          "languageId": "r"
        }
      },
      "outputs": [],
      "source": [
        "setwd(\"~/buckets/b1\")"
      ]
    },
    {
      "cell_type": "code",
      "execution_count": 4,
      "metadata": {
        "id": "ZNVVhq35ppzA",
        "vscode": {
          "languageId": "r"
        }
      },
      "outputs": [],
      "source": [
        "# defino los parametros de la corrida, en una lista, la variable global  PARAM\n",
        "#  muy pronto esto se leera desde un archivo formato .yaml\n",
        "PARAM <- list()\n",
        "PARAM$experimento <- \"Ensemble Semillerío (Clase 14)\"\n",
        "\n",
        "PARAM$input$seeds <- \"./exp/'Ensemble Semillerío (Clase 14)'/'Ensemble Semillerío (Clase 14)_predicciones_semillas'.csv\"\n",
        "PARAM$input$dataset <- \"datasets/competencia_03_clase13.csv.gz\"\n",
        "\n",
        "# meses donde se entrena el modelo\n",
        "PARAM$input$training <- c(202107, 202106, 202105, 202104, 202103, 202102, 202101,\n",
        " 202012, 202011, 202010, 202009, 202008, 202002, 202001, 201912, 201911,\n",
        " 201910, 201909, 201908, 201907, 201906, 201905, 201904, 201903) #Dos meses después del training de la parametrización\n",
        "PARAM$input$future <- c(202109) # meses donde se aplica el modelo"
      ]
    },
    {
      "cell_type": "code",
      "execution_count": 5,
      "metadata": {
        "id": "30KYmp62SYlF",
        "vscode": {
          "languageId": "r"
        }
      },
      "outputs": [
        {
          "name": "stderr",
          "output_type": "stream",
          "text": [
            "Taking input= as a system command ('./exp/'Ensemble Semillerío (Clase 14)'/'Ensemble Semillerío (Clase 14)_predicciones_semillas'.csv.gz') and a variable has been used in the expression passed to `input=`. Please use fread(cmd=...). There is a security concern if you are creating an app, and the app could have a malicious user, and the app is not running in a secure environment; e.g. the app is running as root. Please read item 5 in the NEWS file for v1.11.6 for more information and for the option to suppress this message.\n",
            "\n",
            "Warning message in (if (.Platform$OS.type == \"unix\") system else shell)(paste0(\"(\", :\n",
            "“error in running command”\n",
            "Warning message in fread(PARAM$input$seeds):\n",
            "“File '/tmp/Rtmphk5btF/file11d71bfce572' has size 0. Returning a NULL data.table.”\n"
          ]
        }
      ],
      "source": [
        "# Cargo archivo de predicciones\n",
        "predicciones <- fread(PARAM$input$seeds)\n",
        "datos <- fread(PARAM$input$dataset)\n",
        "datos_reales <- datos[datos$foto_mes == 202109, c(\"numero_de_cliente\", \"foto_mes\", \"clase_ternaria\")]\n",
        "\n",
        "# Tranformo la clase ternaria en binaria\n",
        "datos_reales[, real := ifelse(clase_ternaria %in% c(\"BAJA+2\"), 1L, 0L)]\n",
        "\n",
        "rm(datos)\n"
      ]
    },
    {
      "cell_type": "code",
      "execution_count": 6,
      "metadata": {
        "id": "Cuf2LSQtSwuy",
        "vscode": {
          "languageId": "r"
        }
      },
      "outputs": [],
      "source": [
        "# Creo carpeta donde guardar los experimentos en caso de que no exista\n",
        "dir.create(\"./exp/\", showWarnings = FALSE)\n",
        "\n",
        "# Creo carpeta donde guardar este experimento en caso de que no exista\n",
        "dir.create(paste0(\"./exp/\", PARAM$experimento, \"/\"), showWarnings = FALSE)\n",
        "\n",
        "# Establezco el Working Directory de este experimento\n",
        "setwd(paste0(\"./exp/\", PARAM$experimento, \"/\"))"
      ]
    },
    {
      "cell_type": "code",
      "execution_count": 7,
      "metadata": {
        "id": "tVWMYY7rSwxi",
        "vscode": {
          "languageId": "r"
        }
      },
      "outputs": [
        {
          "ename": "ERROR",
          "evalue": "Error in setnames(x, value): Can't assign 102 names to a 0 column data.table\n",
          "output_type": "error",
          "traceback": [
            "Error in setnames(x, value): Can't assign 102 names to a 0 column data.table\nTraceback:\n",
            "1. `colnames<-`(`*tmp*`, value = c(NA, NA, \"semilla_1\", \"semilla_2\", \n . \"semilla_3\", \"semilla_4\", \"semilla_5\", \"semilla_6\", \"semilla_7\", \n . \"semilla_8\", \"semilla_9\", \"semilla_10\", \"semilla_11\", \"semilla_12\", \n . \"semilla_13\", \"semilla_14\", \"semilla_15\", \"semilla_16\", \"semilla_17\", \n . \"semilla_18\", \"semilla_19\", \"semilla_20\", \"semilla_21\", \"semilla_22\", \n . \"semilla_23\", \"semilla_24\", \"semilla_25\", \"semilla_26\", \"semilla_27\", \n . \"semilla_28\", \"semilla_29\", \"semilla_30\", \"semilla_31\", \"semilla_32\", \n . \"semilla_33\", \"semilla_34\", \"semilla_35\", \"semilla_36\", \"semilla_37\", \n . \"semilla_38\", \"semilla_39\", \"semilla_40\", \"semilla_41\", \"semilla_42\", \n . \"semilla_43\", \"semilla_44\", \"semilla_45\", \"semilla_46\", \"semilla_47\", \n . \"semilla_48\", \"semilla_49\", \"semilla_50\", \"semilla_51\", \"semilla_52\", \n . \"semilla_53\", \"semilla_54\", \"semilla_55\", \"semilla_56\", \"semilla_57\", \n . \"semilla_58\", \"semilla_59\", \"semilla_60\", \"semilla_61\", \"semilla_62\", \n . \"semilla_63\", \"semilla_64\", \"semilla_65\", \"semilla_66\", \"semilla_67\", \n . \"semilla_68\", \"semilla_69\", \"semilla_70\", \"semilla_71\", \"semilla_72\", \n . \"semilla_73\", \"semilla_74\", \"semilla_75\", \"semilla_76\", \"semilla_77\", \n . \"semilla_78\", \"semilla_79\", \"semilla_80\", \"semilla_81\", \"semilla_82\", \n . \"semilla_83\", \"semilla_84\", \"semilla_85\", \"semilla_86\", \"semilla_87\", \n . \"semilla_88\", \"semilla_89\", \"semilla_90\", \"semilla_91\", \"semilla_92\", \n . \"semilla_93\", \"semilla_94\", \"semilla_95\", \"semilla_96\", \"semilla_97\", \n . \"semilla_98\", \"semilla_99\", \"semilla_100\"))",
            "2. `names<-`(`*tmp*`, value = value)",
            "3. `names<-.data.table`(`*tmp*`, value = value)",
            "4. setnames(x, value)",
            "5. stop(\"Can't assign \", length(old), \" names to a \", ncol, \" column data.table\")"
          ]
        }
      ],
      "source": [
        "# Armo Ensembles\n",
        "\n",
        "# # Crear un df para almacenar los resultados del ensemble\n",
        "ensemble_resultados <- data.frame(numero_de_cliente = predicciones$numero_de_cliente)\n",
        "\n",
        "# Cambio nombre de columnas. Los nuevos nombres de columnas serán \"semilla_1\" hasta \"semilla_100\".\n",
        "colnames(predicciones)[3:102] <- paste0(\"semilla_\", 1:100)\n",
        "\n",
        "# Me genero un ensemble (promedio de salidas) de las 100 semillas\n",
        "\n",
        "# Crear un dataframe para almacenar los resultados del ensemble\n",
        "ensemble_resultados <- data.frame(numero_de_cliente = predicciones$numero_de_cliente)\n",
        "\n",
        "# Cambiar nombre de columnas (semilla_1 a semilla_100)\n",
        "colnames(predicciones)[3:102] <- paste0(\"semilla_\", 1:100)\n",
        "\n",
        "# Calcular el promedio de las predicciones para los 100 modelos\n",
        "ensemble_resultados$proba_ensemble <- rowMeans(predicciones[, 3:102])"
      ]
    },
    {
      "cell_type": "code",
      "execution_count": 8,
      "metadata": {
        "id": "OwYd7uHoSYr7",
        "vscode": {
          "languageId": "r"
        }
      },
      "outputs": [
        {
          "name": "stderr",
          "output_type": "stream",
          "text": [
            "Warning message in fwrite(ensemble_resultados, file = archivo_salida, sep = \",\"):\n",
            "“Input has no columns; creating an empty file at 'Ensemble Semillerío (Clase 14)ensemble_resultados.csv' and exiting.”\n"
          ]
        }
      ],
      "source": [
        "# Guardo el archivo\n",
        "archivo_salida <- paste0(PARAM$experimento, \"ensemble_resultados.csv\")\n",
        "fwrite(ensemble_resultados, file = archivo_salida, sep = \",\")"
      ]
    },
    {
      "cell_type": "code",
      "execution_count": 9,
      "metadata": {
        "id": "g1ne2pYRwA8d",
        "vscode": {
          "languageId": "r"
        }
      },
      "outputs": [
        {
          "ename": "ERROR",
          "evalue": "Error in setorder(tb_entrega, -prob): x must be a data.frame or data.table\n",
          "output_type": "error",
          "traceback": [
            "Error in setorder(tb_entrega, -prob): x must be a data.frame or data.table\nTraceback:\n",
            "1. setorder(tb_entrega, -prob)",
            "2. stop(\"x must be a data.frame or data.table\")"
          ]
        }
      ],
      "source": [
        "# Guardar el archivo como TXT\n",
        "tb_entrega <- paste0(PARAM$experimento, \"ensemble_resultados.txt\")\n",
        "write.table(ensemble_resultados, file = tb_entrega, sep = \"\\t\", row.names = FALSE)\n",
        "\n",
        "# ordeno por probabilidad descendente\n",
        "setorder(tb_entrega, -prob)"
      ]
    },
    {
      "cell_type": "code",
      "execution_count": null,
      "metadata": {
        "id": "YB2Uvd4zrLmS",
        "vscode": {
          "languageId": "r"
        }
      },
      "outputs": [],
      "source": [
        "# genero archivos con los  \"envios\" mejores\n",
        "\n",
        "cortes <- seq(8000, 15000, by = 500)\n",
        "for (envios in cortes) {\n",
        "  tb_entrega[, Predicted := 0L]\n",
        "  tb_entrega[1:envios, Predicted := 1L]\n",
        "\n",
        "  fwrite(tb_entrega[, list(numero_de_cliente, Predicted)],\n",
        "    file = paste0(PARAM$experimento, \"_\", envios, \".csv\"),\n",
        "    sep = \",\"\n",
        "  )\n",
        "}\n",
        "\n",
        "cat(\"\\n\\nLa generacion de los archivos para Kaggle ha terminado\\n\")"
      ]
    }
  ],
  "metadata": {
    "colab": {
      "provenance": []
    },
    "kernelspec": {
      "display_name": "R",
      "language": "R",
      "name": "ir"
    },
    "language_info": {
      "codemirror_mode": "r",
      "file_extension": ".r",
      "mimetype": "text/x-r-source",
      "name": "R",
      "pygments_lexer": "r",
      "version": "4.3.1"
    }
  },
  "nbformat": 4,
  "nbformat_minor": 0
}
