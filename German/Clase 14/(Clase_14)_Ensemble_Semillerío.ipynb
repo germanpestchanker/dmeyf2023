{
  "cells": [
    {
      "cell_type": "code",
      "execution_count": null,
      "metadata": {
        "id": "A5KYI7y0ppy_",
        "outputId": "e91fcda0-b8b0-4471-8dde-b19277bc6291",
        "vscode": {
          "languageId": "r"
        }
      },
      "outputs": [],
      "source": [
        "# limpio la memoria\n",
        "rm(list = ls()) # remove all objects\n",
        "gc() # garbage collection"
      ]
    },
    {
      "cell_type": "code",
      "execution_count": null,
      "metadata": {
        "id": "NQyzk1eappzA",
        "outputId": "a8e4d5e0-798d-4696-82ec-a9e0b87d8bd5",
        "vscode": {
          "languageId": "r"
        }
      },
      "outputs": [],
      "source": [
        "require(\"data.table\")\n",
        "require(\"lightgbm\")"
      ]
    },
    {
      "cell_type": "code",
      "execution_count": null,
      "metadata": {
        "vscode": {
          "languageId": "r"
        }
      },
      "outputs": [],
      "source": [
        "setwd(\"~/buckets/b1\")"
      ]
    },
    {
      "cell_type": "code",
      "execution_count": null,
      "metadata": {
        "id": "ZNVVhq35ppzA",
        "vscode": {
          "languageId": "r"
        }
      },
      "outputs": [],
      "source": [
        "# defino los parametros de la corrida, en una lista, la variable global  PARAM\n",
        "#  muy pronto esto se leera desde un archivo formato .yaml\n",
        "PARAM <- list()\n",
        "PARAM$experimento <- \"Ensemble Semillerío (Clase 14)\"\n",
        "\n",
        "PARAM$input$seeds <- \"./exp/Ensemble Semillerío (Clase 14)/'Ensemble Semillerío (Clase 14)_predicciones_semillas.csv.gz\"\n",
        "PARAM$input$dataset <- \"datasets/competencia_03_clase13.csv.gz\"\n",
        "\n",
        "# meses donde se entrena el modelo\n",
        "PARAM$input$training <- c(202107, 202106, 202105, 202104, 202103, 202102, 202101,\n",
        " 202012, 202011, 202010, 202009, 202008, 202002, 202001, 201912, 201911,\n",
        " 201910, 201909, 201908, 201907, 201906, 201905, 201904, 201903) #Dos meses después del training de la parametrización\n",
        "PARAM$input$future <- c(202109) # meses donde se aplica el modelo"
      ]
    },
    {
      "cell_type": "code",
      "execution_count": null,
      "metadata": {
        "id": "30KYmp62SYlF",
        "vscode": {
          "languageId": "r"
        }
      },
      "outputs": [],
      "source": [
        "# Cargo archivo de predicciones\n",
        "predicciones <- fread(PARAM$input$seeds)\n",
        "datos <- fread(PARAM$input$dataset)\n",
        "datos_reales <- datos[datos$foto_mes == 202109, c(\"numero_de_cliente\", \"foto_mes\", \"clase_ternaria\")]\n",
        "\n",
        "# Tranformo la clase ternaria en binaria\n",
        "datos_reales[, real := ifelse(clase_ternaria %in% c(\"BAJA+2\"), 1L, 0L)]\n",
        "\n",
        "rm(datos)\n"
      ]
    },
    {
      "cell_type": "code",
      "execution_count": null,
      "metadata": {
        "id": "Cuf2LSQtSwuy",
        "vscode": {
          "languageId": "r"
        }
      },
      "outputs": [],
      "source": [
        "# Creo carpeta donde guardar los experimentos en caso de que no exista\n",
        "dir.create(\"./exp/\", showWarnings = FALSE)\n",
        "\n",
        "# Creo carpeta donde guardar este experimento en caso de que no exista\n",
        "dir.create(paste0(\"./exp/\", PARAM$experimento, \"/\"), showWarnings = FALSE)\n",
        "\n",
        "# Establezco el Working Directory de este experimento\n",
        "setwd(paste0(\"./exp/\", PARAM$experimento, \"/\"))"
      ]
    },
    {
      "cell_type": "code",
      "execution_count": null,
      "metadata": {
        "id": "tVWMYY7rSwxi",
        "vscode": {
          "languageId": "r"
        }
      },
      "outputs": [],
      "source": [
        "# Armo Ensembles\n",
        "\n",
        "# # Crear un df para almacenar los resultados del ensemble\n",
        "ensemble_resultados <- data.frame(numero_de_cliente = predicciones$numero_de_cliente)\n",
        "\n",
        "# Cambio nombre de columnas. Los nuevos nombres de columnas serán \"semilla_1\" hasta \"semilla_100\".\n",
        "colnames(predicciones)[3:102] <- paste0(\"semilla_\", 1:100)\n",
        "\n",
        "# Me genero un ensemble (promedio de salidas) de las 100 semillas\n",
        "\n",
        "# Crear un dataframe para almacenar los resultados del ensemble\n",
        "ensemble_resultados <- data.frame(numero_de_cliente = predicciones$numero_de_cliente)\n",
        "\n",
        "# Cambiar nombre de columnas (semilla_1 a semilla_100)\n",
        "colnames(predicciones)[3:102] <- paste0(\"semilla_\", 1:100)\n",
        "\n",
        "# Calcular el promedio de las predicciones para los 100 modelos\n",
        "ensemble_resultados$proba_ensemble <- rowMeans(predicciones[, 3:102])"
      ]
    },
    {
      "cell_type": "code",
      "execution_count": null,
      "metadata": {
        "id": "OwYd7uHoSYr7",
        "vscode": {
          "languageId": "r"
        }
      },
      "outputs": [],
      "source": [
        "# Guardo el archivo\n",
        "archivo_salida <- paste0(PARAM$experimento, \"ensemble_resultados.csv\")\n",
        "fwrite(ensemble_resultados, file = archivo_salida, sep = \",\")"
      ]
    },
    {
      "cell_type": "code",
      "execution_count": null,
      "metadata": {
        "id": "g1ne2pYRwA8d",
        "vscode": {
          "languageId": "r"
        }
      },
      "outputs": [],
      "source": [
        "# Guardar el archivo como TXT\n",
        "tb_entrega <- paste0(PARAM$experimento, \"ensemble_resultados.txt\")\n",
        "write.table(ensemble_resultados, file = tb_entrega, sep = \"\\t\", row.names = FALSE)\n",
        "\n",
        "# ordeno por probabilidad descendente\n",
        "setorder(tb_entrega, -prob)"
      ]
    },
    {
      "cell_type": "code",
      "execution_count": null,
      "metadata": {
        "id": "YB2Uvd4zrLmS",
        "vscode": {
          "languageId": "r"
        }
      },
      "outputs": [],
      "source": [
        "# genero archivos con los  \"envios\" mejores\n",
        "\n",
        "cortes <- seq(8000, 15000, by = 500)\n",
        "for (envios in cortes) {\n",
        "  tb_entrega[, Predicted := 0L]\n",
        "  tb_entrega[1:envios, Predicted := 1L]\n",
        "\n",
        "  fwrite(tb_entrega[, list(numero_de_cliente, Predicted)],\n",
        "    file = paste0(PARAM$experimento, \"_\", envios, \".csv\"),\n",
        "    sep = \",\"\n",
        "  )\n",
        "}\n",
        "\n",
        "cat(\"\\n\\nLa generacion de los archivos para Kaggle ha terminado\\n\")"
      ]
    }
  ],
  "metadata": {
    "colab": {
      "provenance": []
    },
    "kernelspec": {
      "display_name": "R",
      "language": "R",
      "name": "ir"
    },
    "language_info": {
      "codemirror_mode": "r",
      "file_extension": ".r",
      "mimetype": "text/x-r-source",
      "name": "R",
      "pygments_lexer": "r",
      "version": "4.3.1"
    }
  },
  "nbformat": 4,
  "nbformat_minor": 0
}
