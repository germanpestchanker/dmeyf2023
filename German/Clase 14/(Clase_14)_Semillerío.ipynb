{
  "cells": [
    {
      "cell_type": "code",
      "execution_count": null,
      "metadata": {
        "id": "A5KYI7y0ppy_",
        "vscode": {
          "languageId": "r"
        },
        "outputId": "e91fcda0-b8b0-4471-8dde-b19277bc6291"
      },
      "outputs": [
        {
          "data": {
            "text/html": [
              "<table class=\"dataframe\">\n",
              "<caption>A matrix: 2 × 6 of type dbl</caption>\n",
              "<thead>\n",
              "\t<tr><th></th><th scope=col>used</th><th scope=col>(Mb)</th><th scope=col>gc trigger</th><th scope=col>(Mb)</th><th scope=col>max used</th><th scope=col>(Mb)</th></tr>\n",
              "</thead>\n",
              "<tbody>\n",
              "\t<tr><th scope=row>Ncells</th><td> 631890</td><td>33.8</td><td>1412184</td><td>75.5</td><td> 985003</td><td>52.7</td></tr>\n",
              "\t<tr><th scope=row>Vcells</th><td>1170395</td><td> 9.0</td><td>8388608</td><td>64.0</td><td>1815603</td><td>13.9</td></tr>\n",
              "</tbody>\n",
              "</table>\n"
            ],
            "text/latex": [
              "A matrix: 2 × 6 of type dbl\n",
              "\\begin{tabular}{r|llllll}\n",
              "  & used & (Mb) & gc trigger & (Mb) & max used & (Mb)\\\\\n",
              "\\hline\n",
              "\tNcells &  631890 & 33.8 & 1412184 & 75.5 &  985003 & 52.7\\\\\n",
              "\tVcells & 1170395 &  9.0 & 8388608 & 64.0 & 1815603 & 13.9\\\\\n",
              "\\end{tabular}\n"
            ],
            "text/markdown": [
              "\n",
              "A matrix: 2 × 6 of type dbl\n",
              "\n",
              "| <!--/--> | used | (Mb) | gc trigger | (Mb) | max used | (Mb) |\n",
              "|---|---|---|---|---|---|---|\n",
              "| Ncells |  631890 | 33.8 | 1412184 | 75.5 |  985003 | 52.7 |\n",
              "| Vcells | 1170395 |  9.0 | 8388608 | 64.0 | 1815603 | 13.9 |\n",
              "\n"
            ],
            "text/plain": [
              "       used    (Mb) gc trigger (Mb) max used (Mb)\n",
              "Ncells  631890 33.8 1412184    75.5  985003  52.7\n",
              "Vcells 1170395  9.0 8388608    64.0 1815603  13.9"
            ]
          },
          "metadata": {},
          "output_type": "display_data"
        }
      ],
      "source": [
        "# limpio la memoria\n",
        "rm(list = ls()) # remove all objects\n",
        "gc() # garbage collection"
      ]
    },
    {
      "cell_type": "code",
      "execution_count": null,
      "metadata": {
        "id": "NQyzk1eappzA",
        "vscode": {
          "languageId": "r"
        },
        "outputId": "a8e4d5e0-798d-4696-82ec-a9e0b87d8bd5"
      },
      "outputs": [
        {
          "name": "stderr",
          "output_type": "stream",
          "text": [
            "Loading required package: data.table\n",
            "\n",
            "Loading required package: lightgbm\n",
            "\n"
          ]
        }
      ],
      "source": [
        "require(\"data.table\")\n",
        "require(\"lightgbm\")"
      ]
    },
    {
      "cell_type": "code",
      "execution_count": null,
      "metadata": {
        "id": "ZNVVhq35ppzA",
        "vscode": {
          "languageId": "r"
        }
      },
      "outputs": [],
      "source": [
        "# defino los parametros de la corrida, en una lista, la variable global  PARAM\n",
        "#  muy pronto esto se leera desde un archivo formato .yaml\n",
        "PARAM <- list()\n",
        "PARAM$experimento <- \"Ensemble Semillerío (Clase 14)\"\n",
        "\n",
        "PARAM$input$dataset <- \"datasets/competencia_03_clase13.csv.gz\"\n",
        "\n",
        "# meses donde se entrena el modelo\n",
        "PARAM$input$training <- c(202107, 202106, 202105, 202104, 202103, 202102, 202101,\n",
        " 202012, 202011, 202010, 202009, 202008, 202002, 202001, 201912, 201911,\n",
        " 201910, 201909, 201908, 201907, 201906, 201905, 201904, 201903) #Dos meses después del training de la parametrización\n",
        "PARAM$input$future <- c(202109) # meses donde se aplica el modelo"
      ]
    },
    {
      "cell_type": "code",
      "source": [
        "# 100 Semillas random:\n",
        "semillas <- as.integer(seq(279511, 379511, length.out = 100))"
      ],
      "metadata": {
        "id": "ksYJO1bHD6eT"
      },
      "execution_count": null,
      "outputs": []
    },
    {
      "cell_type": "code",
      "source": [
        "# hiperparametros óptimos de la semilla 279511\n",
        "PARAM$finalmodel$optim$num_iterations <- 1213\n",
        "PARAM$finalmodel$optim$learning_rate <- 0.0292608373298842\n",
        "PARAM$finalmodel$optim$feature_fraction <- 0.136781998386116\n",
        "PARAM$finalmodel$optim$min_data_in_leaf <- 43158\n",
        "PARAM$finalmodel$optim$num_leaves <- 342"
      ],
      "metadata": {
        "id": "2IRDkwWnD5Y9"
      },
      "execution_count": null,
      "outputs": []
    },
    {
      "cell_type": "code",
      "execution_count": null,
      "metadata": {
        "id": "pSGclaJTppzA",
        "vscode": {
          "languageId": "r"
        }
      },
      "outputs": [],
      "source": [
        "# Hiperparametros FIJOS de  lightgbm\n",
        "PARAM$finalmodel$lgb_basicos <- list(\n",
        "  boosting = \"gbdt\", # puede ir  dart  , ni pruebe random_forest\n",
        "  objective = \"binary\",\n",
        "  metric = \"custom\",\n",
        "  first_metric_only = TRUE,\n",
        "  boost_from_average = TRUE,\n",
        "  feature_pre_filter = FALSE,\n",
        "  force_row_wise = TRUE, # para reducir warnings\n",
        "  verbosity = -100,\n",
        "  max_depth = -1L, # -1 significa no limitar,  por ahora lo dejo fijo\n",
        "  min_gain_to_split = 0.0, # min_gain_to_split >= 0.0\n",
        "  min_sum_hessian_in_leaf = 0.001, #  min_sum_hessian_in_leaf >= 0.0\n",
        "  lambda_l1 = 0.0, # lambda_l1 >= 0.0\n",
        "  lambda_l2 = 0.0, # lambda_l2 >= 0.0\n",
        "  max_bin = 31L, # lo debo dejar fijo, no participa de la BO\n",
        "\n",
        "  bagging_fraction = 1.0, # 0.0 < bagging_fraction <= 1.0\n",
        "  pos_bagging_fraction = 1.0, # 0.0 < pos_bagging_fraction <= 1.0\n",
        "  neg_bagging_fraction = 1.0, # 0.0 < neg_bagging_fraction <= 1.0\n",
        "  is_unbalance = FALSE, #\n",
        "  scale_pos_weight = 1.0, # scale_pos_weight > 0.0\n",
        "\n",
        "  drop_rate = 0.1, # 0.0 < neg_bagging_fraction <= 1.0\n",
        "  max_drop = 50, # <=0 means no limit\n",
        "  skip_drop = 0.5, # 0.0 <= skip_drop <= 1.0\n",
        "\n",
        "  extra_trees = TRUE, # Magic Sauce\n",
        "\n",
        "  seed = PARAM$finalmodel$semilla\n",
        ")"
      ]
    },
    {
      "cell_type": "markdown",
      "metadata": {
        "id": "pMGpRdCMppzA"
      },
      "source": [
        "## Aqui empieza el programa"
      ]
    },
    {
      "cell_type": "code",
      "execution_count": null,
      "metadata": {
        "id": "51SgymlqppzA",
        "vscode": {
          "languageId": "r"
        }
      },
      "outputs": [],
      "source": [
        "# Aqui empieza el programa\n",
        "setwd(\"~/buckets/b1\")\n",
        "\n",
        "# cargo el dataset donde voy a entrenar\n",
        "dataset <- fread(PARAM$input$dataset, stringsAsFactors = TRUE)"
      ]
    },
    {
      "cell_type": "code",
      "execution_count": null,
      "metadata": {
        "id": "Gs1rVa0RppzB",
        "vscode": {
          "languageId": "r"
        }
      },
      "outputs": [],
      "source": [
        "# paso la clase a binaria que tome valores {0,1}  enteros\n",
        "# set trabaja con la clase  POS = { BAJA+1, BAJA+2 }\n",
        "# esta estrategia es MUY importante\n",
        "dataset[, clase01 := ifelse(clase_ternaria %in% c(\"BAJA+2\", \"BAJA+1\"), 1L, 0L)]"
      ]
    },
    {
      "cell_type": "code",
      "execution_count": null,
      "metadata": {
        "id": "17lFDEDxppzB",
        "vscode": {
          "languageId": "r"
        }
      },
      "outputs": [],
      "source": [
        "# los campos que se van a utilizar\n",
        "campos_buenos <- setdiff(colnames(dataset), c(\"clase_ternaria\", \"clase01\"))"
      ]
    },
    {
      "cell_type": "code",
      "execution_count": null,
      "metadata": {
        "id": "9-QIPR2WppzB",
        "vscode": {
          "languageId": "r"
        }
      },
      "outputs": [],
      "source": [
        "# establezco donde entreno\n",
        "dataset[, train := 0L]\n",
        "dataset[foto_mes %in% PARAM$input$training, train := 1L]\n"
      ]
    },
    {
      "cell_type": "code",
      "execution_count": null,
      "metadata": {
        "id": "cK0DZfMlppzB",
        "vscode": {
          "languageId": "r"
        }
      },
      "outputs": [],
      "source": [
        "# creo las carpetas donde van los resultados\n",
        "# creo la carpeta donde va el experimento\n",
        "dir.create(\"./exp/\", showWarnings = FALSE)\n",
        "dir.create(paste0(\"./exp/\", PARAM$experimento, \"/\"), showWarnings = FALSE)\n",
        "\n",
        "# Establezco el Working Directory DEL EXPERIMENTO\n",
        "setwd(paste0(\"./exp/\", PARAM$experimento, \"/\"))"
      ]
    },
    {
      "cell_type": "code",
      "execution_count": null,
      "metadata": {
        "id": "x8ocbamnppzB",
        "vscode": {
          "languageId": "r"
        }
      },
      "outputs": [],
      "source": [
        "# dejo los datos en el formato que necesita LightGBM\n",
        "dtrain <- lgb.Dataset(\n",
        "  data = data.matrix(dataset[train == 1L, campos_buenos, with = FALSE]),\n",
        "  label = dataset[train == 1L, clase01]\n",
        ")"
      ]
    },
    {
      "cell_type": "code",
      "source": [
        "#Modelos para cada semilla\n",
        "dapply <- dataset[foto_mes == PARAM$input$future]\n",
        "\n",
        "\n",
        "predicciones <- dapply[, list(numero_de_cliente, foto_mes)]\n",
        "\n",
        "for (semilla in semillas) {\n",
        "  modelo <- lgb.train(\n",
        "  data = dtrain,\n",
        "  param = list(\n",
        "      objective = \"binary\",\n",
        "      max_bin = PARAM$finalmodel$max_bin,\n",
        "      learning_rate = PARAM$finalmodel$learning_rate,\n",
        "      num_iterations = PARAM$finalmodel$num_iterations,\n",
        "      num_leaves = PARAM$finalmodel$num_leaves,\n",
        "      min_data_in_leaf = PARAM$finalmodel$min_data_in_leaf,\n",
        "      feature_fraction = PARAM$finalmodel$feature_fraction,\n",
        "      seed = semilla\n",
        "  )\n",
        "  )\n",
        "  # imprimo importancia de variables del modelo\n",
        "  tb_importancia <- as.data.table(lgb.importance(modelo))\n",
        "\n",
        "  # Configuro nombre del archivo\n",
        "  archivo_importancia <- paste0(\"impo_\", semilla, \".txt\")\n",
        "\n",
        "  # Guardo en el archivo\n",
        "  fwrite(tb_importancia,\n",
        "  file = archivo_importancia,\n",
        "  sep = \"\\t\"\n",
        "  )\n",
        "\n",
        "  # Aplico el modelo a los nuevos datos\n",
        "  prediccion <- predict(\n",
        "  modelo,\n",
        "  data.matrix(dapply[, campos_buenos, with = FALSE])\n",
        "  )\n",
        "\n",
        "  # Agrego columna con las predicciones de cada semilla\n",
        "  col_name <- paste0(\"semilla_\", semilla)\n",
        "  predicciones[, (col_name) := prediccion]\n",
        "}"
      ],
      "metadata": {
        "id": "v2O1x_uoHzgH"
      },
      "execution_count": null,
      "outputs": []
    },
    {
      "cell_type": "code",
      "source": [
        "# Guardo el archivo\n",
        "archivo_salida <- paste0(PARAM$experimento, \"_predicciones_semillas.csv\")\n",
        "fwrite(predicciones, file = archivo_salida, sep = \",\")"
      ],
      "metadata": {
        "id": "A-I0GbNWHzic"
      },
      "execution_count": null,
      "outputs": []
    }
  ],
  "metadata": {
    "colab": {
      "provenance": []
    },
    "kernelspec": {
      "display_name": "R",
      "language": "R",
      "name": "ir"
    },
    "language_info": {
      "codemirror_mode": "r",
      "file_extension": ".r",
      "mimetype": "text/x-r-source",
      "name": "R",
      "pygments_lexer": "r",
      "version": "4.3.1"
    }
  },
  "nbformat": 4,
  "nbformat_minor": 0
}