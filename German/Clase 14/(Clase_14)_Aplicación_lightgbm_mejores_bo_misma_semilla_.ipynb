{
  "cells": [
    {
      "cell_type": "markdown",
      "metadata": {
        "id": "492Uk88uppy3"
      },
      "source": [
        "# (Primer mejor BO -hecha en clase 13-)"
      ]
    },
    {
      "cell_type": "markdown",
      "metadata": {
        "id": "mFLVN6wfppy_"
      },
      "source": [
        "- Para correr el Google Cloud\n",
        "-   8 vCPU\n",
        "-  64 GB memoria RAM"
      ]
    },
    {
      "cell_type": "code",
      "execution_count": null,
      "metadata": {
        "id": "A5KYI7y0ppy_",
        "vscode": {
          "languageId": "r"
        },
        "outputId": "35c6a4f0-c2e4-4455-8657-3959872d6f44"
      },
      "outputs": [
        {
          "data": {
            "text/html": [
              "<table class=\"dataframe\">\n",
              "<caption>A matrix: 2 × 6 of type dbl</caption>\n",
              "<thead>\n",
              "\t<tr><th></th><th scope=col>used</th><th scope=col>(Mb)</th><th scope=col>gc trigger</th><th scope=col>(Mb)</th><th scope=col>max used</th><th scope=col>(Mb)</th></tr>\n",
              "</thead>\n",
              "<tbody>\n",
              "\t<tr><th scope=row>Ncells</th><td> 631890</td><td>33.8</td><td>1412184</td><td>75.5</td><td> 985003</td><td>52.7</td></tr>\n",
              "\t<tr><th scope=row>Vcells</th><td>1170395</td><td> 9.0</td><td>8388608</td><td>64.0</td><td>1815603</td><td>13.9</td></tr>\n",
              "</tbody>\n",
              "</table>\n"
            ],
            "text/latex": [
              "A matrix: 2 × 6 of type dbl\n",
              "\\begin{tabular}{r|llllll}\n",
              "  & used & (Mb) & gc trigger & (Mb) & max used & (Mb)\\\\\n",
              "\\hline\n",
              "\tNcells &  631890 & 33.8 & 1412184 & 75.5 &  985003 & 52.7\\\\\n",
              "\tVcells & 1170395 &  9.0 & 8388608 & 64.0 & 1815603 & 13.9\\\\\n",
              "\\end{tabular}\n"
            ],
            "text/markdown": [
              "\n",
              "A matrix: 2 × 6 of type dbl\n",
              "\n",
              "| <!--/--> | used | (Mb) | gc trigger | (Mb) | max used | (Mb) |\n",
              "|---|---|---|---|---|---|---|\n",
              "| Ncells |  631890 | 33.8 | 1412184 | 75.5 |  985003 | 52.7 |\n",
              "| Vcells | 1170395 |  9.0 | 8388608 | 64.0 | 1815603 | 13.9 |\n",
              "\n"
            ],
            "text/plain": [
              "       used    (Mb) gc trigger (Mb) max used (Mb)\n",
              "Ncells  631890 33.8 1412184    75.5  985003  52.7\n",
              "Vcells 1170395  9.0 8388608    64.0 1815603  13.9"
            ]
          },
          "metadata": {},
          "output_type": "display_data"
        }
      ],
      "source": [
        "# limpio la memoria\n",
        "rm(list = ls()) # remove all objects\n",
        "gc() # garbage collection"
      ]
    },
    {
      "cell_type": "code",
      "execution_count": null,
      "metadata": {
        "id": "NQyzk1eappzA",
        "vscode": {
          "languageId": "r"
        },
        "outputId": "34d700ba-4b83-4b53-a864-c558115544ee"
      },
      "outputs": [
        {
          "name": "stderr",
          "output_type": "stream",
          "text": [
            "Loading required package: data.table\n",
            "\n",
            "Loading required package: lightgbm\n",
            "\n"
          ]
        }
      ],
      "source": [
        "require(\"data.table\")\n",
        "require(\"lightgbm\")"
      ]
    },
    {
      "cell_type": "code",
      "execution_count": null,
      "metadata": {
        "id": "ZNVVhq35ppzA",
        "vscode": {
          "languageId": "r"
        }
      },
      "outputs": [],
      "source": [
        "# defino los parametros de la corrida, en una lista, la variable global  PARAM\n",
        "#  muy pronto esto se leera desde un archivo formato .yaml\n",
        "PARAM <- list()\n",
        "PARAM$experimento <- \"KA8240 (Clase 13)\"\n",
        "\n",
        "PARAM$input$dataset <- \"datasets/competencia_03_clase13.csv.gz\"\n",
        "\n",
        "# meses donde se entrena el modelo\n",
        "PARAM$input$training <- c(202107, 202106, 202105, 202104, 202103, 202102, 202101,\n",
        " 202012, 202011, 202010, 202009, 202008, 202002, 202001, 201912, 201911,\n",
        " 201910, 201909, 201908, 201907, 201906, 201905, 201904, 201903) #Dos meses después del training de la parametrización\n",
        "PARAM$input$future <- c(202109) # meses donde se aplica el modelo\n",
        "\n",
        "PARAM$finalmodel$semilla <- 279511\n",
        "\n",
        "# hiperparametros intencionalmente optimos\n",
        "PARAM$finalmodel$optim$num_iterations <- 1213\n",
        "PARAM$finalmodel$optim$learning_rate <- 0.0292608373298842\n",
        "PARAM$finalmodel$optim$feature_fraction <- 0.136781998386116\n",
        "PARAM$finalmodel$optim$min_data_in_leaf <- 43158\n",
        "PARAM$finalmodel$optim$num_leaves <- 342"
      ]
    },
    {
      "cell_type": "code",
      "execution_count": null,
      "metadata": {
        "id": "pSGclaJTppzA",
        "vscode": {
          "languageId": "r"
        }
      },
      "outputs": [],
      "source": [
        "# Hiperparametros FIJOS de  lightgbm\n",
        "PARAM$finalmodel$lgb_basicos <- list(\n",
        "  boosting = \"gbdt\", # puede ir  dart  , ni pruebe random_forest\n",
        "  objective = \"binary\",\n",
        "  metric = \"custom\",\n",
        "  first_metric_only = TRUE,\n",
        "  boost_from_average = TRUE,\n",
        "  feature_pre_filter = FALSE,\n",
        "  force_row_wise = TRUE, # para reducir warnings\n",
        "  verbosity = -100,\n",
        "  max_depth = -1L, # -1 significa no limitar,  por ahora lo dejo fijo\n",
        "  min_gain_to_split = 0.0, # min_gain_to_split >= 0.0\n",
        "  min_sum_hessian_in_leaf = 0.001, #  min_sum_hessian_in_leaf >= 0.0\n",
        "  lambda_l1 = 0.0, # lambda_l1 >= 0.0\n",
        "  lambda_l2 = 0.0, # lambda_l2 >= 0.0\n",
        "  max_bin = 31L, # lo debo dejar fijo, no participa de la BO\n",
        "\n",
        "  bagging_fraction = 1.0, # 0.0 < bagging_fraction <= 1.0\n",
        "  pos_bagging_fraction = 1.0, # 0.0 < pos_bagging_fraction <= 1.0\n",
        "  neg_bagging_fraction = 1.0, # 0.0 < neg_bagging_fraction <= 1.0\n",
        "  is_unbalance = FALSE, #\n",
        "  scale_pos_weight = 1.0, # scale_pos_weight > 0.0\n",
        "\n",
        "  drop_rate = 0.1, # 0.0 < neg_bagging_fraction <= 1.0\n",
        "  max_drop = 50, # <=0 means no limit\n",
        "  skip_drop = 0.5, # 0.0 <= skip_drop <= 1.0\n",
        "\n",
        "  extra_trees = TRUE, # Magic Sauce\n",
        "\n",
        "  seed = PARAM$finalmodel$semilla\n",
        ")"
      ]
    },
    {
      "cell_type": "markdown",
      "metadata": {
        "id": "pMGpRdCMppzA"
      },
      "source": [
        "## Aqui empieza el programa"
      ]
    },
    {
      "cell_type": "code",
      "execution_count": null,
      "metadata": {
        "id": "51SgymlqppzA",
        "vscode": {
          "languageId": "r"
        }
      },
      "outputs": [],
      "source": [
        "# Aqui empieza el programa\n",
        "setwd(\"~/buckets/b1\")\n",
        "\n",
        "# cargo el dataset donde voy a entrenar\n",
        "dataset <- fread(PARAM$input$dataset, stringsAsFactors = TRUE)"
      ]
    },
    {
      "cell_type": "code",
      "execution_count": null,
      "metadata": {
        "id": "Drhr_dQFppzA",
        "vscode": {
          "languageId": "r"
        }
      },
      "outputs": [],
      "source": [
        "# Catastrophe Analysis  -------------------------------------------------------\n",
        "# deben ir cosas de este estilo\n",
        "#   dataset[foto_mes == 202006, active_quarter := NA]\n",
        "\n",
        "# Data Drifting\n",
        "# por ahora, no hago nada\n",
        "\n",
        "\n",
        "# Feature Engineering Historico  ----------------------------------------------\n",
        "#   aqui deben calcularse los  lags y  lag_delta\n",
        "#   Sin lags no hay paraiso ! corta la bocha\n",
        "#   https://rdrr.io/cran/data.table/man/shift.html\n",
        "\n"
      ]
    },
    {
      "cell_type": "code",
      "execution_count": null,
      "metadata": {
        "id": "Gs1rVa0RppzB",
        "vscode": {
          "languageId": "r"
        }
      },
      "outputs": [],
      "source": [
        "# paso la clase a binaria que tome valores {0,1}  enteros\n",
        "# set trabaja con la clase  POS = { BAJA+1, BAJA+2 }\n",
        "# esta estrategia es MUY importante\n",
        "dataset[, clase01 := ifelse(clase_ternaria %in% c(\"BAJA+2\", \"BAJA+1\"), 1L, 0L)]"
      ]
    },
    {
      "cell_type": "code",
      "execution_count": null,
      "metadata": {
        "id": "17lFDEDxppzB",
        "vscode": {
          "languageId": "r"
        }
      },
      "outputs": [],
      "source": [
        "# los campos que se van a utilizar\n",
        "campos_buenos <- setdiff(colnames(dataset), c(\"clase_ternaria\", \"clase01\"))"
      ]
    },
    {
      "cell_type": "code",
      "execution_count": null,
      "metadata": {
        "id": "9-QIPR2WppzB",
        "vscode": {
          "languageId": "r"
        }
      },
      "outputs": [],
      "source": [
        "# establezco donde entreno\n",
        "dataset[, train := 0L]\n",
        "dataset[foto_mes %in% PARAM$input$training, train := 1L]\n"
      ]
    },
    {
      "cell_type": "code",
      "execution_count": null,
      "metadata": {
        "id": "cK0DZfMlppzB",
        "vscode": {
          "languageId": "r"
        }
      },
      "outputs": [],
      "source": [
        "# creo las carpetas donde van los resultados\n",
        "# creo la carpeta donde va el experimento\n",
        "dir.create(\"./exp/\", showWarnings = FALSE)\n",
        "dir.create(paste0(\"./exp/\", PARAM$experimento, \"/\"), showWarnings = FALSE)\n",
        "\n",
        "# Establezco el Working Directory DEL EXPERIMENTO\n",
        "setwd(paste0(\"./exp/\", PARAM$experimento, \"/\"))"
      ]
    },
    {
      "cell_type": "code",
      "execution_count": null,
      "metadata": {
        "id": "x8ocbamnppzB",
        "vscode": {
          "languageId": "r"
        }
      },
      "outputs": [],
      "source": [
        "# dejo los datos en el formato que necesita LightGBM\n",
        "dtrain <- lgb.Dataset(\n",
        "  data = data.matrix(dataset[train == 1L, campos_buenos, with = FALSE]),\n",
        "  label = dataset[train == 1L, clase01]\n",
        ")"
      ]
    },
    {
      "cell_type": "code",
      "execution_count": null,
      "metadata": {
        "id": "XVW6s6XwppzB",
        "vscode": {
          "languageId": "r"
        }
      },
      "outputs": [],
      "source": [
        "# genero el modelo\n",
        "param_completo <- c(PARAM$finalmodel$lgb_basicos,\n",
        "  PARAM$finalmodel$optim)\n",
        "\n",
        "modelo <- lgb.train(\n",
        "  data = dtrain,\n",
        "  param = param_completo,\n",
        ")"
      ]
    },
    {
      "cell_type": "code",
      "execution_count": null,
      "metadata": {
        "id": "zpCislyCppzC",
        "vscode": {
          "languageId": "r"
        }
      },
      "outputs": [],
      "source": [
        "# ahora imprimo la importancia de variables\n",
        "tb_importancia <- as.data.table(lgb.importance(modelo))\n",
        "archivo_importancia <- \"impo.txt\"\n",
        "\n",
        "fwrite(tb_importancia,\n",
        "  file = archivo_importancia,\n",
        "  sep = \"\\t\"\n",
        ")\n"
      ]
    },
    {
      "cell_type": "code",
      "execution_count": null,
      "metadata": {
        "id": "xzNFv00wppzC",
        "vscode": {
          "languageId": "r"
        }
      },
      "outputs": [],
      "source": [
        "# aplico el modelo a los datos sin clase\n",
        "dapply <- dataset[foto_mes == PARAM$input$future]\n",
        "\n",
        "# aplico el modelo a los datos nuevos\n",
        "prediccion <- predict(\n",
        "  modelo,\n",
        "  data.matrix(dapply[, campos_buenos, with = FALSE])\n",
        ")\n",
        "\n",
        "# genero la tabla de entrega\n",
        "tb_entrega <- dapply[, list(numero_de_cliente, foto_mes)]\n",
        "tb_entrega[, prob := prediccion]\n",
        "\n",
        "# grabo las probabilidad del modelo\n",
        "fwrite(tb_entrega,\n",
        "  file = \"prediccion.txt\",\n",
        "  sep = \"\\t\"\n",
        ")\n",
        "\n",
        "# ordeno por probabilidad descendente\n",
        "setorder(tb_entrega, -prob)\n"
      ]
    },
    {
      "cell_type": "code",
      "execution_count": null,
      "metadata": {
        "id": "es4eWfeJppzC",
        "vscode": {
          "languageId": "r"
        },
        "outputId": "d0b8bf7c-3ca2-4d32-f2b0-4ce058ad8ddb"
      },
      "outputs": [
        {
          "name": "stdout",
          "output_type": "stream",
          "text": [
            "\n",
            "\n",
            "La generacion de los archivos para Kaggle ha terminado\n"
          ]
        }
      ],
      "source": [
        "# genero archivos con los  \"envios\" mejores\n",
        "# deben subirse \"inteligentemente\" a Kaggle para no malgastar submits\n",
        "# si la palabra inteligentemente no le significa nada aun\n",
        "# suba TODOS los archivos a Kaggle\n",
        "# espera a la siguiente clase sincronica en donde el tema sera explicado\n",
        "\n",
        "cortes <- seq(8000, 15000, by = 500)\n",
        "for (envios in cortes) {\n",
        "  tb_entrega[, Predicted := 0L]\n",
        "  tb_entrega[1:envios, Predicted := 1L]\n",
        "\n",
        "  fwrite(tb_entrega[, list(numero_de_cliente, Predicted)],\n",
        "    file = paste0(PARAM$experimento, \"_\", envios, \".csv\"),\n",
        "    sep = \",\"\n",
        "  )\n",
        "}\n",
        "\n",
        "cat(\"\\n\\nLa generacion de los archivos para Kaggle ha terminado\\n\")"
      ]
    },
    {
      "cell_type": "markdown",
      "metadata": {
        "id": "3qrvbi3_rMZG"
      },
      "source": [
        "# (Segunda mejor BO)"
      ]
    },
    {
      "cell_type": "markdown",
      "metadata": {
        "id": "31mDdDuXrMZH"
      },
      "source": [
        "- Para correr el Google Cloud\n",
        "-   8 vCPU\n",
        "-  64 GB memoria RAM"
      ]
    },
    {
      "cell_type": "code",
      "execution_count": null,
      "metadata": {
        "vscode": {
          "languageId": "r"
        },
        "outputId": "35c6a4f0-c2e4-4455-8657-3959872d6f44",
        "id": "Vt5dtaVTrMZH"
      },
      "outputs": [
        {
          "data": {
            "text/html": [
              "<table class=\"dataframe\">\n",
              "<caption>A matrix: 2 × 6 of type dbl</caption>\n",
              "<thead>\n",
              "\t<tr><th></th><th scope=col>used</th><th scope=col>(Mb)</th><th scope=col>gc trigger</th><th scope=col>(Mb)</th><th scope=col>max used</th><th scope=col>(Mb)</th></tr>\n",
              "</thead>\n",
              "<tbody>\n",
              "\t<tr><th scope=row>Ncells</th><td> 631890</td><td>33.8</td><td>1412184</td><td>75.5</td><td> 985003</td><td>52.7</td></tr>\n",
              "\t<tr><th scope=row>Vcells</th><td>1170395</td><td> 9.0</td><td>8388608</td><td>64.0</td><td>1815603</td><td>13.9</td></tr>\n",
              "</tbody>\n",
              "</table>\n"
            ],
            "text/latex": [
              "A matrix: 2 × 6 of type dbl\n",
              "\\begin{tabular}{r|llllll}\n",
              "  & used & (Mb) & gc trigger & (Mb) & max used & (Mb)\\\\\n",
              "\\hline\n",
              "\tNcells &  631890 & 33.8 & 1412184 & 75.5 &  985003 & 52.7\\\\\n",
              "\tVcells & 1170395 &  9.0 & 8388608 & 64.0 & 1815603 & 13.9\\\\\n",
              "\\end{tabular}\n"
            ],
            "text/markdown": [
              "\n",
              "A matrix: 2 × 6 of type dbl\n",
              "\n",
              "| <!--/--> | used | (Mb) | gc trigger | (Mb) | max used | (Mb) |\n",
              "|---|---|---|---|---|---|---|\n",
              "| Ncells |  631890 | 33.8 | 1412184 | 75.5 |  985003 | 52.7 |\n",
              "| Vcells | 1170395 |  9.0 | 8388608 | 64.0 | 1815603 | 13.9 |\n",
              "\n"
            ],
            "text/plain": [
              "       used    (Mb) gc trigger (Mb) max used (Mb)\n",
              "Ncells  631890 33.8 1412184    75.5  985003  52.7\n",
              "Vcells 1170395  9.0 8388608    64.0 1815603  13.9"
            ]
          },
          "metadata": {},
          "output_type": "display_data"
        }
      ],
      "source": [
        "# limpio la memoria\n",
        "rm(list = ls()) # remove all objects\n",
        "gc() # garbage collection"
      ]
    },
    {
      "cell_type": "code",
      "execution_count": null,
      "metadata": {
        "vscode": {
          "languageId": "r"
        },
        "outputId": "34d700ba-4b83-4b53-a864-c558115544ee",
        "id": "PPMskQi5rMZI"
      },
      "outputs": [
        {
          "name": "stderr",
          "output_type": "stream",
          "text": [
            "Loading required package: data.table\n",
            "\n",
            "Loading required package: lightgbm\n",
            "\n"
          ]
        }
      ],
      "source": [
        "require(\"data.table\")\n",
        "require(\"lightgbm\")"
      ]
    },
    {
      "cell_type": "code",
      "execution_count": null,
      "metadata": {
        "vscode": {
          "languageId": "r"
        },
        "id": "9VuspXI8rMZI"
      },
      "outputs": [],
      "source": [
        "# defino los parametros de la corrida, en una lista, la variable global  PARAM\n",
        "#  muy pronto esto se leera desde un archivo formato .yaml\n",
        "PARAM <- list()\n",
        "PARAM$experimento <- \"KA8240 (Clase 14, segunda mejor bo)\"\n",
        "\n",
        "PARAM$input$dataset <- \"datasets/competencia_03_clase13.csv.gz\"\n",
        "\n",
        "# meses donde se entrena el modelo\n",
        "PARAM$input$training <- c(202107, 202106, 202105, 202104, 202103, 202102, 202101,\n",
        " 202012, 202011, 202010, 202009, 202008, 202002, 202001, 201912, 201911,\n",
        " 201910, 201909, 201908, 201907, 201906, 201905, 201904, 201903) #Dos meses después del training de la parametrización\n",
        "PARAM$input$future <- c(202109) # meses donde se aplica el modelo\n",
        "\n",
        "PARAM$finalmodel$semilla <- 279511\n",
        "\n",
        "# hiperparametros intencionalmente optimos\n",
        "PARAM$finalmodel$optim$num_iterations <- 561\n",
        "PARAM$finalmodel$optim$learning_rate <- 0.0343200950238001\n",
        "PARAM$finalmodel$optim$feature_fraction <- 0.146639353150355\n",
        "PARAM$finalmodel$optim$min_data_in_leaf <- 42234\n",
        "PARAM$finalmodel$optim$num_leaves <- 295"
      ]
    },
    {
      "cell_type": "code",
      "execution_count": null,
      "metadata": {
        "vscode": {
          "languageId": "r"
        },
        "id": "CzwasYzRrMZI"
      },
      "outputs": [],
      "source": [
        "# Hiperparametros FIJOS de  lightgbm\n",
        "PARAM$finalmodel$lgb_basicos <- list(\n",
        "  boosting = \"gbdt\", # puede ir  dart  , ni pruebe random_forest\n",
        "  objective = \"binary\",\n",
        "  metric = \"custom\",\n",
        "  first_metric_only = TRUE,\n",
        "  boost_from_average = TRUE,\n",
        "  feature_pre_filter = FALSE,\n",
        "  force_row_wise = TRUE, # para reducir warnings\n",
        "  verbosity = -100,\n",
        "  max_depth = -1L, # -1 significa no limitar,  por ahora lo dejo fijo\n",
        "  min_gain_to_split = 0.0, # min_gain_to_split >= 0.0\n",
        "  min_sum_hessian_in_leaf = 0.001, #  min_sum_hessian_in_leaf >= 0.0\n",
        "  lambda_l1 = 0.0, # lambda_l1 >= 0.0\n",
        "  lambda_l2 = 0.0, # lambda_l2 >= 0.0\n",
        "  max_bin = 31L, # lo debo dejar fijo, no participa de la BO\n",
        "\n",
        "  bagging_fraction = 1.0, # 0.0 < bagging_fraction <= 1.0\n",
        "  pos_bagging_fraction = 1.0, # 0.0 < pos_bagging_fraction <= 1.0\n",
        "  neg_bagging_fraction = 1.0, # 0.0 < neg_bagging_fraction <= 1.0\n",
        "  is_unbalance = FALSE, #\n",
        "  scale_pos_weight = 1.0, # scale_pos_weight > 0.0\n",
        "\n",
        "  drop_rate = 0.1, # 0.0 < neg_bagging_fraction <= 1.0\n",
        "  max_drop = 50, # <=0 means no limit\n",
        "  skip_drop = 0.5, # 0.0 <= skip_drop <= 1.0\n",
        "\n",
        "  extra_trees = TRUE, # Magic Sauce\n",
        "\n",
        "  seed = PARAM$finalmodel$semilla\n",
        ")"
      ]
    },
    {
      "cell_type": "markdown",
      "metadata": {
        "id": "7QWle4DYrMZJ"
      },
      "source": [
        "## Aqui empieza el programa"
      ]
    },
    {
      "cell_type": "code",
      "execution_count": null,
      "metadata": {
        "vscode": {
          "languageId": "r"
        },
        "id": "l-1vscwlrMZJ"
      },
      "outputs": [],
      "source": [
        "# Aqui empieza el programa\n",
        "setwd(\"~/buckets/b1\")\n",
        "\n",
        "# cargo el dataset donde voy a entrenar\n",
        "dataset <- fread(PARAM$input$dataset, stringsAsFactors = TRUE)"
      ]
    },
    {
      "cell_type": "code",
      "execution_count": null,
      "metadata": {
        "vscode": {
          "languageId": "r"
        },
        "id": "xhPyR2kerMZJ"
      },
      "outputs": [],
      "source": [
        "# Catastrophe Analysis  -------------------------------------------------------\n",
        "# deben ir cosas de este estilo\n",
        "#   dataset[foto_mes == 202006, active_quarter := NA]\n",
        "\n",
        "# Data Drifting\n",
        "# por ahora, no hago nada\n",
        "\n",
        "\n",
        "# Feature Engineering Historico  ----------------------------------------------\n",
        "#   aqui deben calcularse los  lags y  lag_delta\n",
        "#   Sin lags no hay paraiso ! corta la bocha\n",
        "#   https://rdrr.io/cran/data.table/man/shift.html\n",
        "\n"
      ]
    },
    {
      "cell_type": "code",
      "execution_count": null,
      "metadata": {
        "vscode": {
          "languageId": "r"
        },
        "id": "NHF2tESkrMZJ"
      },
      "outputs": [],
      "source": [
        "# paso la clase a binaria que tome valores {0,1}  enteros\n",
        "# set trabaja con la clase  POS = { BAJA+1, BAJA+2 }\n",
        "# esta estrategia es MUY importante\n",
        "dataset[, clase01 := ifelse(clase_ternaria %in% c(\"BAJA+2\", \"BAJA+1\"), 1L, 0L)]"
      ]
    },
    {
      "cell_type": "code",
      "execution_count": null,
      "metadata": {
        "vscode": {
          "languageId": "r"
        },
        "id": "DVT3DmDSrMZJ"
      },
      "outputs": [],
      "source": [
        "# los campos que se van a utilizar\n",
        "campos_buenos <- setdiff(colnames(dataset), c(\"clase_ternaria\", \"clase01\"))"
      ]
    },
    {
      "cell_type": "code",
      "execution_count": null,
      "metadata": {
        "vscode": {
          "languageId": "r"
        },
        "id": "vJbvCx9nrMZK"
      },
      "outputs": [],
      "source": [
        "# establezco donde entreno\n",
        "dataset[, train := 0L]\n",
        "dataset[foto_mes %in% PARAM$input$training, train := 1L]\n"
      ]
    },
    {
      "cell_type": "code",
      "execution_count": null,
      "metadata": {
        "vscode": {
          "languageId": "r"
        },
        "id": "fh2Wa835rMZK"
      },
      "outputs": [],
      "source": [
        "# creo las carpetas donde van los resultados\n",
        "# creo la carpeta donde va el experimento\n",
        "dir.create(\"./exp/\", showWarnings = FALSE)\n",
        "dir.create(paste0(\"./exp/\", PARAM$experimento, \"/\"), showWarnings = FALSE)\n",
        "\n",
        "# Establezco el Working Directory DEL EXPERIMENTO\n",
        "setwd(paste0(\"./exp/\", PARAM$experimento, \"/\"))"
      ]
    },
    {
      "cell_type": "code",
      "execution_count": null,
      "metadata": {
        "vscode": {
          "languageId": "r"
        },
        "id": "PJlzpgxsrMZK"
      },
      "outputs": [],
      "source": [
        "# dejo los datos en el formato que necesita LightGBM\n",
        "dtrain <- lgb.Dataset(\n",
        "  data = data.matrix(dataset[train == 1L, campos_buenos, with = FALSE]),\n",
        "  label = dataset[train == 1L, clase01]\n",
        ")"
      ]
    },
    {
      "cell_type": "code",
      "execution_count": null,
      "metadata": {
        "vscode": {
          "languageId": "r"
        },
        "id": "uvyJGlBdrMZK"
      },
      "outputs": [],
      "source": [
        "# genero el modelo\n",
        "param_completo <- c(PARAM$finalmodel$lgb_basicos,\n",
        "  PARAM$finalmodel$optim)\n",
        "\n",
        "modelo <- lgb.train(\n",
        "  data = dtrain,\n",
        "  param = param_completo,\n",
        ")"
      ]
    },
    {
      "cell_type": "code",
      "execution_count": null,
      "metadata": {
        "vscode": {
          "languageId": "r"
        },
        "id": "eyazeRkxrMZK"
      },
      "outputs": [],
      "source": [
        "# ahora imprimo la importancia de variables\n",
        "tb_importancia <- as.data.table(lgb.importance(modelo))\n",
        "archivo_importancia <- \"impo.txt\"\n",
        "\n",
        "fwrite(tb_importancia,\n",
        "  file = archivo_importancia,\n",
        "  sep = \"\\t\"\n",
        ")\n"
      ]
    },
    {
      "cell_type": "code",
      "execution_count": null,
      "metadata": {
        "vscode": {
          "languageId": "r"
        },
        "id": "FQXoKe80rMZK"
      },
      "outputs": [],
      "source": [
        "# aplico el modelo a los datos sin clase\n",
        "dapply <- dataset[foto_mes == PARAM$input$future]\n",
        "\n",
        "# aplico el modelo a los datos nuevos\n",
        "prediccion <- predict(\n",
        "  modelo,\n",
        "  data.matrix(dapply[, campos_buenos, with = FALSE])\n",
        ")\n",
        "\n",
        "# genero la tabla de entrega\n",
        "tb_entrega <- dapply[, list(numero_de_cliente, foto_mes)]\n",
        "tb_entrega[, prob := prediccion]\n",
        "\n",
        "# grabo las probabilidad del modelo\n",
        "fwrite(tb_entrega,\n",
        "  file = \"prediccion.txt\",\n",
        "  sep = \"\\t\"\n",
        ")\n",
        "\n",
        "# ordeno por probabilidad descendente\n",
        "setorder(tb_entrega, -prob)\n"
      ]
    },
    {
      "cell_type": "code",
      "execution_count": null,
      "metadata": {
        "vscode": {
          "languageId": "r"
        },
        "outputId": "d0b8bf7c-3ca2-4d32-f2b0-4ce058ad8ddb",
        "id": "F7338wL8rMZL"
      },
      "outputs": [
        {
          "name": "stdout",
          "output_type": "stream",
          "text": [
            "\n",
            "\n",
            "La generacion de los archivos para Kaggle ha terminado\n"
          ]
        }
      ],
      "source": [
        "# genero archivos con los  \"envios\" mejores\n",
        "# deben subirse \"inteligentemente\" a Kaggle para no malgastar submits\n",
        "# si la palabra inteligentemente no le significa nada aun\n",
        "# suba TODOS los archivos a Kaggle\n",
        "# espera a la siguiente clase sincronica en donde el tema sera explicado\n",
        "\n",
        "cortes <- seq(8000, 15000, by = 500)\n",
        "for (envios in cortes) {\n",
        "  tb_entrega[, Predicted := 0L]\n",
        "  tb_entrega[1:envios, Predicted := 1L]\n",
        "\n",
        "  fwrite(tb_entrega[, list(numero_de_cliente, Predicted)],\n",
        "    file = paste0(PARAM$experimento, \"_\", envios, \".csv\"),\n",
        "    sep = \",\"\n",
        "  )\n",
        "}\n",
        "\n",
        "cat(\"\\n\\nLa generacion de los archivos para Kaggle ha terminado\\n\")"
      ]
    },
    {
      "cell_type": "code",
      "source": [],
      "metadata": {
        "id": "Kin2pzUYrQZ0"
      },
      "execution_count": null,
      "outputs": []
    },
    {
      "cell_type": "markdown",
      "metadata": {
        "id": "7pBQ5b2DrQzO"
      },
      "source": [
        "# (Tercera mejor BO)"
      ]
    },
    {
      "cell_type": "markdown",
      "metadata": {
        "id": "EuPbTMHQrQzP"
      },
      "source": [
        "- Para correr el Google Cloud\n",
        "-   8 vCPU\n",
        "-  64 GB memoria RAM"
      ]
    },
    {
      "cell_type": "code",
      "execution_count": null,
      "metadata": {
        "vscode": {
          "languageId": "r"
        },
        "outputId": "35c6a4f0-c2e4-4455-8657-3959872d6f44",
        "id": "B1Ct2jq7rQzQ"
      },
      "outputs": [
        {
          "data": {
            "text/html": [
              "<table class=\"dataframe\">\n",
              "<caption>A matrix: 2 × 6 of type dbl</caption>\n",
              "<thead>\n",
              "\t<tr><th></th><th scope=col>used</th><th scope=col>(Mb)</th><th scope=col>gc trigger</th><th scope=col>(Mb)</th><th scope=col>max used</th><th scope=col>(Mb)</th></tr>\n",
              "</thead>\n",
              "<tbody>\n",
              "\t<tr><th scope=row>Ncells</th><td> 631890</td><td>33.8</td><td>1412184</td><td>75.5</td><td> 985003</td><td>52.7</td></tr>\n",
              "\t<tr><th scope=row>Vcells</th><td>1170395</td><td> 9.0</td><td>8388608</td><td>64.0</td><td>1815603</td><td>13.9</td></tr>\n",
              "</tbody>\n",
              "</table>\n"
            ],
            "text/latex": [
              "A matrix: 2 × 6 of type dbl\n",
              "\\begin{tabular}{r|llllll}\n",
              "  & used & (Mb) & gc trigger & (Mb) & max used & (Mb)\\\\\n",
              "\\hline\n",
              "\tNcells &  631890 & 33.8 & 1412184 & 75.5 &  985003 & 52.7\\\\\n",
              "\tVcells & 1170395 &  9.0 & 8388608 & 64.0 & 1815603 & 13.9\\\\\n",
              "\\end{tabular}\n"
            ],
            "text/markdown": [
              "\n",
              "A matrix: 2 × 6 of type dbl\n",
              "\n",
              "| <!--/--> | used | (Mb) | gc trigger | (Mb) | max used | (Mb) |\n",
              "|---|---|---|---|---|---|---|\n",
              "| Ncells |  631890 | 33.8 | 1412184 | 75.5 |  985003 | 52.7 |\n",
              "| Vcells | 1170395 |  9.0 | 8388608 | 64.0 | 1815603 | 13.9 |\n",
              "\n"
            ],
            "text/plain": [
              "       used    (Mb) gc trigger (Mb) max used (Mb)\n",
              "Ncells  631890 33.8 1412184    75.5  985003  52.7\n",
              "Vcells 1170395  9.0 8388608    64.0 1815603  13.9"
            ]
          },
          "metadata": {},
          "output_type": "display_data"
        }
      ],
      "source": [
        "# limpio la memoria\n",
        "rm(list = ls()) # remove all objects\n",
        "gc() # garbage collection"
      ]
    },
    {
      "cell_type": "code",
      "execution_count": null,
      "metadata": {
        "vscode": {
          "languageId": "r"
        },
        "outputId": "34d700ba-4b83-4b53-a864-c558115544ee",
        "id": "CQhwK0KqrQzQ"
      },
      "outputs": [
        {
          "name": "stderr",
          "output_type": "stream",
          "text": [
            "Loading required package: data.table\n",
            "\n",
            "Loading required package: lightgbm\n",
            "\n"
          ]
        }
      ],
      "source": [
        "require(\"data.table\")\n",
        "require(\"lightgbm\")"
      ]
    },
    {
      "cell_type": "code",
      "execution_count": null,
      "metadata": {
        "vscode": {
          "languageId": "r"
        },
        "id": "azrJ_FCzrQzQ"
      },
      "outputs": [],
      "source": [
        "# defino los parametros de la corrida, en una lista, la variable global  PARAM\n",
        "#  muy pronto esto se leera desde un archivo formato .yaml\n",
        "PARAM <- list()\n",
        "PARAM$experimento <- \"KA8240 (Clase 14, tercera mejor bo)\"\n",
        "\n",
        "PARAM$input$dataset <- \"datasets/competencia_03_clase13.csv.gz\"\n",
        "\n",
        "# meses donde se entrena el modelo\n",
        "PARAM$input$training <- c(202107, 202106, 202105, 202104, 202103, 202102, 202101,\n",
        " 202012, 202011, 202010, 202009, 202008, 202002, 202001, 201912, 201911,\n",
        " 201910, 201909, 201908, 201907, 201906, 201905, 201904, 201903) #Dos meses después del training de la parametrización\n",
        "PARAM$input$future <- c(202109) # meses donde se aplica el modelo\n",
        "\n",
        "PARAM$finalmodel$semilla <- 279511\n",
        "\n",
        "# hiperparametros intencionalmente optimos\n",
        "PARAM$finalmodel$optim$num_iterations <- 2147\n",
        "PARAM$finalmodel$optim$learning_rate <- 0.0200200050398915\n",
        "PARAM$finalmodel$optim$feature_fraction <- 0.310585765163549\n",
        "PARAM$finalmodel$optim$min_data_in_leaf <- 22431\n",
        "PARAM$finalmodel$optim$num_leaves <- 331"
      ]
    },
    {
      "cell_type": "code",
      "execution_count": null,
      "metadata": {
        "vscode": {
          "languageId": "r"
        },
        "id": "UlMzCZq2rQzR"
      },
      "outputs": [],
      "source": [
        "# Hiperparametros FIJOS de  lightgbm\n",
        "PARAM$finalmodel$lgb_basicos <- list(\n",
        "  boosting = \"gbdt\", # puede ir  dart  , ni pruebe random_forest\n",
        "  objective = \"binary\",\n",
        "  metric = \"custom\",\n",
        "  first_metric_only = TRUE,\n",
        "  boost_from_average = TRUE,\n",
        "  feature_pre_filter = FALSE,\n",
        "  force_row_wise = TRUE, # para reducir warnings\n",
        "  verbosity = -100,\n",
        "  max_depth = -1L, # -1 significa no limitar,  por ahora lo dejo fijo\n",
        "  min_gain_to_split = 0.0, # min_gain_to_split >= 0.0\n",
        "  min_sum_hessian_in_leaf = 0.001, #  min_sum_hessian_in_leaf >= 0.0\n",
        "  lambda_l1 = 0.0, # lambda_l1 >= 0.0\n",
        "  lambda_l2 = 0.0, # lambda_l2 >= 0.0\n",
        "  max_bin = 31L, # lo debo dejar fijo, no participa de la BO\n",
        "\n",
        "  bagging_fraction = 1.0, # 0.0 < bagging_fraction <= 1.0\n",
        "  pos_bagging_fraction = 1.0, # 0.0 < pos_bagging_fraction <= 1.0\n",
        "  neg_bagging_fraction = 1.0, # 0.0 < neg_bagging_fraction <= 1.0\n",
        "  is_unbalance = FALSE, #\n",
        "  scale_pos_weight = 1.0, # scale_pos_weight > 0.0\n",
        "\n",
        "  drop_rate = 0.1, # 0.0 < neg_bagging_fraction <= 1.0\n",
        "  max_drop = 50, # <=0 means no limit\n",
        "  skip_drop = 0.5, # 0.0 <= skip_drop <= 1.0\n",
        "\n",
        "  extra_trees = TRUE, # Magic Sauce\n",
        "\n",
        "  seed = PARAM$finalmodel$semilla\n",
        ")"
      ]
    },
    {
      "cell_type": "markdown",
      "metadata": {
        "id": "Xb_iHlEPrQzR"
      },
      "source": [
        "## Aqui empieza el programa"
      ]
    },
    {
      "cell_type": "code",
      "execution_count": null,
      "metadata": {
        "vscode": {
          "languageId": "r"
        },
        "id": "z0-95NyPrQzR"
      },
      "outputs": [],
      "source": [
        "# Aqui empieza el programa\n",
        "setwd(\"~/buckets/b1\")\n",
        "\n",
        "# cargo el dataset donde voy a entrenar\n",
        "dataset <- fread(PARAM$input$dataset, stringsAsFactors = TRUE)"
      ]
    },
    {
      "cell_type": "code",
      "execution_count": null,
      "metadata": {
        "vscode": {
          "languageId": "r"
        },
        "id": "9fWQXUeprQzR"
      },
      "outputs": [],
      "source": [
        "# Catastrophe Analysis  -------------------------------------------------------\n",
        "# deben ir cosas de este estilo\n",
        "#   dataset[foto_mes == 202006, active_quarter := NA]\n",
        "\n",
        "# Data Drifting\n",
        "# por ahora, no hago nada\n",
        "\n",
        "\n",
        "# Feature Engineering Historico  ----------------------------------------------\n",
        "#   aqui deben calcularse los  lags y  lag_delta\n",
        "#   Sin lags no hay paraiso ! corta la bocha\n",
        "#   https://rdrr.io/cran/data.table/man/shift.html\n",
        "\n"
      ]
    },
    {
      "cell_type": "code",
      "execution_count": null,
      "metadata": {
        "vscode": {
          "languageId": "r"
        },
        "id": "HxCqkjPorQzS"
      },
      "outputs": [],
      "source": [
        "# paso la clase a binaria que tome valores {0,1}  enteros\n",
        "# set trabaja con la clase  POS = { BAJA+1, BAJA+2 }\n",
        "# esta estrategia es MUY importante\n",
        "dataset[, clase01 := ifelse(clase_ternaria %in% c(\"BAJA+2\", \"BAJA+1\"), 1L, 0L)]"
      ]
    },
    {
      "cell_type": "code",
      "execution_count": null,
      "metadata": {
        "vscode": {
          "languageId": "r"
        },
        "id": "-ouVgJIcrQzS"
      },
      "outputs": [],
      "source": [
        "# los campos que se van a utilizar\n",
        "campos_buenos <- setdiff(colnames(dataset), c(\"clase_ternaria\", \"clase01\"))"
      ]
    },
    {
      "cell_type": "code",
      "execution_count": null,
      "metadata": {
        "vscode": {
          "languageId": "r"
        },
        "id": "UBQonwiZrQzS"
      },
      "outputs": [],
      "source": [
        "# establezco donde entreno\n",
        "dataset[, train := 0L]\n",
        "dataset[foto_mes %in% PARAM$input$training, train := 1L]\n"
      ]
    },
    {
      "cell_type": "code",
      "execution_count": null,
      "metadata": {
        "vscode": {
          "languageId": "r"
        },
        "id": "9dPGRhgcrQzS"
      },
      "outputs": [],
      "source": [
        "# creo las carpetas donde van los resultados\n",
        "# creo la carpeta donde va el experimento\n",
        "dir.create(\"./exp/\", showWarnings = FALSE)\n",
        "dir.create(paste0(\"./exp/\", PARAM$experimento, \"/\"), showWarnings = FALSE)\n",
        "\n",
        "# Establezco el Working Directory DEL EXPERIMENTO\n",
        "setwd(paste0(\"./exp/\", PARAM$experimento, \"/\"))"
      ]
    },
    {
      "cell_type": "code",
      "execution_count": null,
      "metadata": {
        "vscode": {
          "languageId": "r"
        },
        "id": "zr3Inyt_rQzS"
      },
      "outputs": [],
      "source": [
        "# dejo los datos en el formato que necesita LightGBM\n",
        "dtrain <- lgb.Dataset(\n",
        "  data = data.matrix(dataset[train == 1L, campos_buenos, with = FALSE]),\n",
        "  label = dataset[train == 1L, clase01]\n",
        ")"
      ]
    },
    {
      "cell_type": "code",
      "execution_count": null,
      "metadata": {
        "vscode": {
          "languageId": "r"
        },
        "id": "sgI_1hb1rQzS"
      },
      "outputs": [],
      "source": [
        "# genero el modelo\n",
        "param_completo <- c(PARAM$finalmodel$lgb_basicos,\n",
        "  PARAM$finalmodel$optim)\n",
        "\n",
        "modelo <- lgb.train(\n",
        "  data = dtrain,\n",
        "  param = param_completo,\n",
        ")"
      ]
    },
    {
      "cell_type": "code",
      "execution_count": null,
      "metadata": {
        "vscode": {
          "languageId": "r"
        },
        "id": "3jhNbQL0rQzT"
      },
      "outputs": [],
      "source": [
        "# ahora imprimo la importancia de variables\n",
        "tb_importancia <- as.data.table(lgb.importance(modelo))\n",
        "archivo_importancia <- \"impo.txt\"\n",
        "\n",
        "fwrite(tb_importancia,\n",
        "  file = archivo_importancia,\n",
        "  sep = \"\\t\"\n",
        ")\n"
      ]
    },
    {
      "cell_type": "code",
      "execution_count": null,
      "metadata": {
        "vscode": {
          "languageId": "r"
        },
        "id": "9urQiKL1rQzT"
      },
      "outputs": [],
      "source": [
        "# aplico el modelo a los datos sin clase\n",
        "dapply <- dataset[foto_mes == PARAM$input$future]\n",
        "\n",
        "# aplico el modelo a los datos nuevos\n",
        "prediccion <- predict(\n",
        "  modelo,\n",
        "  data.matrix(dapply[, campos_buenos, with = FALSE])\n",
        ")\n",
        "\n",
        "# genero la tabla de entrega\n",
        "tb_entrega <- dapply[, list(numero_de_cliente, foto_mes)]\n",
        "tb_entrega[, prob := prediccion]\n",
        "\n",
        "# grabo las probabilidad del modelo\n",
        "fwrite(tb_entrega,\n",
        "  file = \"prediccion.txt\",\n",
        "  sep = \"\\t\"\n",
        ")\n",
        "\n",
        "# ordeno por probabilidad descendente\n",
        "setorder(tb_entrega, -prob)\n"
      ]
    },
    {
      "cell_type": "code",
      "execution_count": null,
      "metadata": {
        "vscode": {
          "languageId": "r"
        },
        "outputId": "d0b8bf7c-3ca2-4d32-f2b0-4ce058ad8ddb",
        "id": "Pgz_Z4ltrQzT"
      },
      "outputs": [
        {
          "name": "stdout",
          "output_type": "stream",
          "text": [
            "\n",
            "\n",
            "La generacion de los archivos para Kaggle ha terminado\n"
          ]
        }
      ],
      "source": [
        "# genero archivos con los  \"envios\" mejores\n",
        "# deben subirse \"inteligentemente\" a Kaggle para no malgastar submits\n",
        "# si la palabra inteligentemente no le significa nada aun\n",
        "# suba TODOS los archivos a Kaggle\n",
        "# espera a la siguiente clase sincronica en donde el tema sera explicado\n",
        "\n",
        "cortes <- seq(8000, 15000, by = 500)\n",
        "for (envios in cortes) {\n",
        "  tb_entrega[, Predicted := 0L]\n",
        "  tb_entrega[1:envios, Predicted := 1L]\n",
        "\n",
        "  fwrite(tb_entrega[, list(numero_de_cliente, Predicted)],\n",
        "    file = paste0(PARAM$experimento, \"_\", envios, \".csv\"),\n",
        "    sep = \",\"\n",
        "  )\n",
        "}\n",
        "\n",
        "cat(\"\\n\\nLa generacion de los archivos para Kaggle ha terminado\\n\")"
      ]
    },
    {
      "cell_type": "markdown",
      "metadata": {
        "id": "pSS0DQ60rVFl"
      },
      "source": [
        "# (Cuarta mejor BO)"
      ]
    },
    {
      "cell_type": "markdown",
      "metadata": {
        "id": "8s2W5U4nrVFm"
      },
      "source": [
        "- Para correr el Google Cloud\n",
        "-   8 vCPU\n",
        "-  64 GB memoria RAM"
      ]
    },
    {
      "cell_type": "code",
      "execution_count": null,
      "metadata": {
        "vscode": {
          "languageId": "r"
        },
        "outputId": "35c6a4f0-c2e4-4455-8657-3959872d6f44",
        "id": "9oKZEb3BrVFm"
      },
      "outputs": [
        {
          "data": {
            "text/html": [
              "<table class=\"dataframe\">\n",
              "<caption>A matrix: 2 × 6 of type dbl</caption>\n",
              "<thead>\n",
              "\t<tr><th></th><th scope=col>used</th><th scope=col>(Mb)</th><th scope=col>gc trigger</th><th scope=col>(Mb)</th><th scope=col>max used</th><th scope=col>(Mb)</th></tr>\n",
              "</thead>\n",
              "<tbody>\n",
              "\t<tr><th scope=row>Ncells</th><td> 631890</td><td>33.8</td><td>1412184</td><td>75.5</td><td> 985003</td><td>52.7</td></tr>\n",
              "\t<tr><th scope=row>Vcells</th><td>1170395</td><td> 9.0</td><td>8388608</td><td>64.0</td><td>1815603</td><td>13.9</td></tr>\n",
              "</tbody>\n",
              "</table>\n"
            ],
            "text/latex": [
              "A matrix: 2 × 6 of type dbl\n",
              "\\begin{tabular}{r|llllll}\n",
              "  & used & (Mb) & gc trigger & (Mb) & max used & (Mb)\\\\\n",
              "\\hline\n",
              "\tNcells &  631890 & 33.8 & 1412184 & 75.5 &  985003 & 52.7\\\\\n",
              "\tVcells & 1170395 &  9.0 & 8388608 & 64.0 & 1815603 & 13.9\\\\\n",
              "\\end{tabular}\n"
            ],
            "text/markdown": [
              "\n",
              "A matrix: 2 × 6 of type dbl\n",
              "\n",
              "| <!--/--> | used | (Mb) | gc trigger | (Mb) | max used | (Mb) |\n",
              "|---|---|---|---|---|---|---|\n",
              "| Ncells |  631890 | 33.8 | 1412184 | 75.5 |  985003 | 52.7 |\n",
              "| Vcells | 1170395 |  9.0 | 8388608 | 64.0 | 1815603 | 13.9 |\n",
              "\n"
            ],
            "text/plain": [
              "       used    (Mb) gc trigger (Mb) max used (Mb)\n",
              "Ncells  631890 33.8 1412184    75.5  985003  52.7\n",
              "Vcells 1170395  9.0 8388608    64.0 1815603  13.9"
            ]
          },
          "metadata": {},
          "output_type": "display_data"
        }
      ],
      "source": [
        "# limpio la memoria\n",
        "rm(list = ls()) # remove all objects\n",
        "gc() # garbage collection"
      ]
    },
    {
      "cell_type": "code",
      "execution_count": null,
      "metadata": {
        "vscode": {
          "languageId": "r"
        },
        "outputId": "34d700ba-4b83-4b53-a864-c558115544ee",
        "id": "SnlH0DqzrVFm"
      },
      "outputs": [
        {
          "name": "stderr",
          "output_type": "stream",
          "text": [
            "Loading required package: data.table\n",
            "\n",
            "Loading required package: lightgbm\n",
            "\n"
          ]
        }
      ],
      "source": [
        "require(\"data.table\")\n",
        "require(\"lightgbm\")"
      ]
    },
    {
      "cell_type": "code",
      "execution_count": null,
      "metadata": {
        "vscode": {
          "languageId": "r"
        },
        "id": "CJNT7pderVFn"
      },
      "outputs": [],
      "source": [
        "# defino los parametros de la corrida, en una lista, la variable global  PARAM\n",
        "#  muy pronto esto se leera desde un archivo formato .yaml\n",
        "PARAM <- list()\n",
        "PARAM$experimento <- \"KA8240 (Clase 14, cuarta mejor bo)\"\n",
        "\n",
        "PARAM$input$dataset <- \"datasets/competencia_03_clase13.csv.gz\"\n",
        "\n",
        "# meses donde se entrena el modelo\n",
        "PARAM$input$training <- c(202107, 202106, 202105, 202104, 202103, 202102, 202101,\n",
        " 202012, 202011, 202010, 202009, 202008, 202002, 202001, 201912, 201911,\n",
        " 201910, 201909, 201908, 201907, 201906, 201905, 201904, 201903) #Dos meses después del training de la parametrización\n",
        "PARAM$input$future <- c(202109) # meses donde se aplica el modelo\n",
        "\n",
        "PARAM$finalmodel$semilla <- 279511\n",
        "\n",
        "# hiperparametros intencionalmente optimos\n",
        "PARAM$finalmodel$optim$num_iterations <- 799\n",
        "PARAM$finalmodel$optim$learning_rate <- 0.044781077842626\n",
        "PARAM$finalmodel$optim$feature_fraction <- 0.548968068211159\n",
        "PARAM$finalmodel$optim$min_data_in_leaf <- 49996\n",
        "PARAM$finalmodel$optim$num_leaves <- 247"
      ]
    },
    {
      "cell_type": "code",
      "execution_count": null,
      "metadata": {
        "vscode": {
          "languageId": "r"
        },
        "id": "lvrNOlo3rVFn"
      },
      "outputs": [],
      "source": [
        "# Hiperparametros FIJOS de  lightgbm\n",
        "PARAM$finalmodel$lgb_basicos <- list(\n",
        "  boosting = \"gbdt\", # puede ir  dart  , ni pruebe random_forest\n",
        "  objective = \"binary\",\n",
        "  metric = \"custom\",\n",
        "  first_metric_only = TRUE,\n",
        "  boost_from_average = TRUE,\n",
        "  feature_pre_filter = FALSE,\n",
        "  force_row_wise = TRUE, # para reducir warnings\n",
        "  verbosity = -100,\n",
        "  max_depth = -1L, # -1 significa no limitar,  por ahora lo dejo fijo\n",
        "  min_gain_to_split = 0.0, # min_gain_to_split >= 0.0\n",
        "  min_sum_hessian_in_leaf = 0.001, #  min_sum_hessian_in_leaf >= 0.0\n",
        "  lambda_l1 = 0.0, # lambda_l1 >= 0.0\n",
        "  lambda_l2 = 0.0, # lambda_l2 >= 0.0\n",
        "  max_bin = 31L, # lo debo dejar fijo, no participa de la BO\n",
        "\n",
        "  bagging_fraction = 1.0, # 0.0 < bagging_fraction <= 1.0\n",
        "  pos_bagging_fraction = 1.0, # 0.0 < pos_bagging_fraction <= 1.0\n",
        "  neg_bagging_fraction = 1.0, # 0.0 < neg_bagging_fraction <= 1.0\n",
        "  is_unbalance = FALSE, #\n",
        "  scale_pos_weight = 1.0, # scale_pos_weight > 0.0\n",
        "\n",
        "  drop_rate = 0.1, # 0.0 < neg_bagging_fraction <= 1.0\n",
        "  max_drop = 50, # <=0 means no limit\n",
        "  skip_drop = 0.5, # 0.0 <= skip_drop <= 1.0\n",
        "\n",
        "  extra_trees = TRUE, # Magic Sauce\n",
        "\n",
        "  seed = PARAM$finalmodel$semilla\n",
        ")"
      ]
    },
    {
      "cell_type": "markdown",
      "metadata": {
        "id": "oGI5e46rrVFn"
      },
      "source": [
        "## Aqui empieza el programa"
      ]
    },
    {
      "cell_type": "code",
      "execution_count": null,
      "metadata": {
        "vscode": {
          "languageId": "r"
        },
        "id": "s1N1biKjrVFn"
      },
      "outputs": [],
      "source": [
        "# Aqui empieza el programa\n",
        "setwd(\"~/buckets/b1\")\n",
        "\n",
        "# cargo el dataset donde voy a entrenar\n",
        "dataset <- fread(PARAM$input$dataset, stringsAsFactors = TRUE)"
      ]
    },
    {
      "cell_type": "code",
      "execution_count": null,
      "metadata": {
        "vscode": {
          "languageId": "r"
        },
        "id": "OAKRF_nJrVFo"
      },
      "outputs": [],
      "source": [
        "# Catastrophe Analysis  -------------------------------------------------------\n",
        "# deben ir cosas de este estilo\n",
        "#   dataset[foto_mes == 202006, active_quarter := NA]\n",
        "\n",
        "# Data Drifting\n",
        "# por ahora, no hago nada\n",
        "\n",
        "\n",
        "# Feature Engineering Historico  ----------------------------------------------\n",
        "#   aqui deben calcularse los  lags y  lag_delta\n",
        "#   Sin lags no hay paraiso ! corta la bocha\n",
        "#   https://rdrr.io/cran/data.table/man/shift.html\n",
        "\n"
      ]
    },
    {
      "cell_type": "code",
      "execution_count": null,
      "metadata": {
        "vscode": {
          "languageId": "r"
        },
        "id": "GfV5TrujrVFo"
      },
      "outputs": [],
      "source": [
        "# paso la clase a binaria que tome valores {0,1}  enteros\n",
        "# set trabaja con la clase  POS = { BAJA+1, BAJA+2 }\n",
        "# esta estrategia es MUY importante\n",
        "dataset[, clase01 := ifelse(clase_ternaria %in% c(\"BAJA+2\", \"BAJA+1\"), 1L, 0L)]"
      ]
    },
    {
      "cell_type": "code",
      "execution_count": null,
      "metadata": {
        "vscode": {
          "languageId": "r"
        },
        "id": "nqtwHjQ4rVFp"
      },
      "outputs": [],
      "source": [
        "# los campos que se van a utilizar\n",
        "campos_buenos <- setdiff(colnames(dataset), c(\"clase_ternaria\", \"clase01\"))"
      ]
    },
    {
      "cell_type": "code",
      "execution_count": null,
      "metadata": {
        "vscode": {
          "languageId": "r"
        },
        "id": "m3QrWSOZrVFp"
      },
      "outputs": [],
      "source": [
        "# establezco donde entreno\n",
        "dataset[, train := 0L]\n",
        "dataset[foto_mes %in% PARAM$input$training, train := 1L]\n"
      ]
    },
    {
      "cell_type": "code",
      "execution_count": null,
      "metadata": {
        "vscode": {
          "languageId": "r"
        },
        "id": "FjqtPOuxrVFq"
      },
      "outputs": [],
      "source": [
        "# creo las carpetas donde van los resultados\n",
        "# creo la carpeta donde va el experimento\n",
        "dir.create(\"./exp/\", showWarnings = FALSE)\n",
        "dir.create(paste0(\"./exp/\", PARAM$experimento, \"/\"), showWarnings = FALSE)\n",
        "\n",
        "# Establezco el Working Directory DEL EXPERIMENTO\n",
        "setwd(paste0(\"./exp/\", PARAM$experimento, \"/\"))"
      ]
    },
    {
      "cell_type": "code",
      "execution_count": null,
      "metadata": {
        "vscode": {
          "languageId": "r"
        },
        "id": "4AksG5tmrVFq"
      },
      "outputs": [],
      "source": [
        "# dejo los datos en el formato que necesita LightGBM\n",
        "dtrain <- lgb.Dataset(\n",
        "  data = data.matrix(dataset[train == 1L, campos_buenos, with = FALSE]),\n",
        "  label = dataset[train == 1L, clase01]\n",
        ")"
      ]
    },
    {
      "cell_type": "code",
      "execution_count": null,
      "metadata": {
        "vscode": {
          "languageId": "r"
        },
        "id": "T007ZZsZrVFq"
      },
      "outputs": [],
      "source": [
        "# genero el modelo\n",
        "param_completo <- c(PARAM$finalmodel$lgb_basicos,\n",
        "  PARAM$finalmodel$optim)\n",
        "\n",
        "modelo <- lgb.train(\n",
        "  data = dtrain,\n",
        "  param = param_completo,\n",
        ")"
      ]
    },
    {
      "cell_type": "code",
      "execution_count": null,
      "metadata": {
        "vscode": {
          "languageId": "r"
        },
        "id": "vHUAfiL4rVFq"
      },
      "outputs": [],
      "source": [
        "# ahora imprimo la importancia de variables\n",
        "tb_importancia <- as.data.table(lgb.importance(modelo))\n",
        "archivo_importancia <- \"impo.txt\"\n",
        "\n",
        "fwrite(tb_importancia,\n",
        "  file = archivo_importancia,\n",
        "  sep = \"\\t\"\n",
        ")\n"
      ]
    },
    {
      "cell_type": "code",
      "execution_count": null,
      "metadata": {
        "vscode": {
          "languageId": "r"
        },
        "id": "mvhTRasrrVFr"
      },
      "outputs": [],
      "source": [
        "# aplico el modelo a los datos sin clase\n",
        "dapply <- dataset[foto_mes == PARAM$input$future]\n",
        "\n",
        "# aplico el modelo a los datos nuevos\n",
        "prediccion <- predict(\n",
        "  modelo,\n",
        "  data.matrix(dapply[, campos_buenos, with = FALSE])\n",
        ")\n",
        "\n",
        "# genero la tabla de entrega\n",
        "tb_entrega <- dapply[, list(numero_de_cliente, foto_mes)]\n",
        "tb_entrega[, prob := prediccion]\n",
        "\n",
        "# grabo las probabilidad del modelo\n",
        "fwrite(tb_entrega,\n",
        "  file = \"prediccion.txt\",\n",
        "  sep = \"\\t\"\n",
        ")\n",
        "\n",
        "# ordeno por probabilidad descendente\n",
        "setorder(tb_entrega, -prob)\n"
      ]
    },
    {
      "cell_type": "code",
      "execution_count": null,
      "metadata": {
        "vscode": {
          "languageId": "r"
        },
        "outputId": "d0b8bf7c-3ca2-4d32-f2b0-4ce058ad8ddb",
        "id": "DyA0FqDJrVFr"
      },
      "outputs": [
        {
          "name": "stdout",
          "output_type": "stream",
          "text": [
            "\n",
            "\n",
            "La generacion de los archivos para Kaggle ha terminado\n"
          ]
        }
      ],
      "source": [
        "# genero archivos con los  \"envios\" mejores\n",
        "# deben subirse \"inteligentemente\" a Kaggle para no malgastar submits\n",
        "# si la palabra inteligentemente no le significa nada aun\n",
        "# suba TODOS los archivos a Kaggle\n",
        "# espera a la siguiente clase sincronica en donde el tema sera explicado\n",
        "\n",
        "cortes <- seq(8000, 15000, by = 500)\n",
        "for (envios in cortes) {\n",
        "  tb_entrega[, Predicted := 0L]\n",
        "  tb_entrega[1:envios, Predicted := 1L]\n",
        "\n",
        "  fwrite(tb_entrega[, list(numero_de_cliente, Predicted)],\n",
        "    file = paste0(PARAM$experimento, \"_\", envios, \".csv\"),\n",
        "    sep = \",\"\n",
        "  )\n",
        "}\n",
        "\n",
        "cat(\"\\n\\nLa generacion de los archivos para Kaggle ha terminado\\n\")"
      ]
    },
    {
      "cell_type": "markdown",
      "metadata": {
        "id": "t-HIDOPUrdhG"
      },
      "source": [
        "# (Quinta mejor BO)"
      ]
    },
    {
      "cell_type": "markdown",
      "metadata": {
        "id": "KsMIkJlPrdhO"
      },
      "source": [
        "- Para correr el Google Cloud\n",
        "-   8 vCPU\n",
        "-  64 GB memoria RAM"
      ]
    },
    {
      "cell_type": "code",
      "execution_count": null,
      "metadata": {
        "vscode": {
          "languageId": "r"
        },
        "outputId": "35c6a4f0-c2e4-4455-8657-3959872d6f44",
        "id": "KDWsGw1GrdhO"
      },
      "outputs": [
        {
          "data": {
            "text/html": [
              "<table class=\"dataframe\">\n",
              "<caption>A matrix: 2 × 6 of type dbl</caption>\n",
              "<thead>\n",
              "\t<tr><th></th><th scope=col>used</th><th scope=col>(Mb)</th><th scope=col>gc trigger</th><th scope=col>(Mb)</th><th scope=col>max used</th><th scope=col>(Mb)</th></tr>\n",
              "</thead>\n",
              "<tbody>\n",
              "\t<tr><th scope=row>Ncells</th><td> 631890</td><td>33.8</td><td>1412184</td><td>75.5</td><td> 985003</td><td>52.7</td></tr>\n",
              "\t<tr><th scope=row>Vcells</th><td>1170395</td><td> 9.0</td><td>8388608</td><td>64.0</td><td>1815603</td><td>13.9</td></tr>\n",
              "</tbody>\n",
              "</table>\n"
            ],
            "text/latex": [
              "A matrix: 2 × 6 of type dbl\n",
              "\\begin{tabular}{r|llllll}\n",
              "  & used & (Mb) & gc trigger & (Mb) & max used & (Mb)\\\\\n",
              "\\hline\n",
              "\tNcells &  631890 & 33.8 & 1412184 & 75.5 &  985003 & 52.7\\\\\n",
              "\tVcells & 1170395 &  9.0 & 8388608 & 64.0 & 1815603 & 13.9\\\\\n",
              "\\end{tabular}\n"
            ],
            "text/markdown": [
              "\n",
              "A matrix: 2 × 6 of type dbl\n",
              "\n",
              "| <!--/--> | used | (Mb) | gc trigger | (Mb) | max used | (Mb) |\n",
              "|---|---|---|---|---|---|---|\n",
              "| Ncells |  631890 | 33.8 | 1412184 | 75.5 |  985003 | 52.7 |\n",
              "| Vcells | 1170395 |  9.0 | 8388608 | 64.0 | 1815603 | 13.9 |\n",
              "\n"
            ],
            "text/plain": [
              "       used    (Mb) gc trigger (Mb) max used (Mb)\n",
              "Ncells  631890 33.8 1412184    75.5  985003  52.7\n",
              "Vcells 1170395  9.0 8388608    64.0 1815603  13.9"
            ]
          },
          "metadata": {},
          "output_type": "display_data"
        }
      ],
      "source": [
        "# limpio la memoria\n",
        "rm(list = ls()) # remove all objects\n",
        "gc() # garbage collection"
      ]
    },
    {
      "cell_type": "code",
      "execution_count": null,
      "metadata": {
        "vscode": {
          "languageId": "r"
        },
        "outputId": "34d700ba-4b83-4b53-a864-c558115544ee",
        "id": "PR-BI1QvrdhO"
      },
      "outputs": [
        {
          "name": "stderr",
          "output_type": "stream",
          "text": [
            "Loading required package: data.table\n",
            "\n",
            "Loading required package: lightgbm\n",
            "\n"
          ]
        }
      ],
      "source": [
        "require(\"data.table\")\n",
        "require(\"lightgbm\")"
      ]
    },
    {
      "cell_type": "code",
      "execution_count": null,
      "metadata": {
        "vscode": {
          "languageId": "r"
        },
        "id": "S9EhgJQfrdhP"
      },
      "outputs": [],
      "source": [
        "# defino los parametros de la corrida, en una lista, la variable global  PARAM\n",
        "#  muy pronto esto se leera desde un archivo formato .yaml\n",
        "PARAM <- list()\n",
        "PARAM$experimento <- \"KA8240 (Clase 14, quinta mejor bo)\"\n",
        "\n",
        "PARAM$input$dataset <- \"datasets/competencia_03_clase13.csv.gz\"\n",
        "\n",
        "# meses donde se entrena el modelo\n",
        "PARAM$input$training <- c(202107, 202106, 202105, 202104, 202103, 202102, 202101,\n",
        " 202012, 202011, 202010, 202009, 202008, 202002, 202001, 201912, 201911,\n",
        " 201910, 201909, 201908, 201907, 201906, 201905, 201904, 201903) #Dos meses después del training de la parametrización\n",
        "PARAM$input$future <- c(202109) # meses donde se aplica el modelo\n",
        "\n",
        "PARAM$finalmodel$semilla <- 279511\n",
        "\n",
        "# hiperparametros intencionalmente optimos\n",
        "PARAM$finalmodel$optim$num_iterations <- 2985\n",
        "PARAM$finalmodel$optim$learning_rate <- 0.0200185122629107\n",
        "PARAM$finalmodel$optim$feature_fraction <- 0.427183699009456\n",
        "PARAM$finalmodel$optim$min_data_in_leaf <- 49985\n",
        "PARAM$finalmodel$optim$num_leaves <- 356"
      ]
    },
    {
      "cell_type": "code",
      "execution_count": null,
      "metadata": {
        "vscode": {
          "languageId": "r"
        },
        "id": "bBkBj9NtrdhP"
      },
      "outputs": [],
      "source": [
        "# Hiperparametros FIJOS de  lightgbm\n",
        "PARAM$finalmodel$lgb_basicos <- list(\n",
        "  boosting = \"gbdt\", # puede ir  dart  , ni pruebe random_forest\n",
        "  objective = \"binary\",\n",
        "  metric = \"custom\",\n",
        "  first_metric_only = TRUE,\n",
        "  boost_from_average = TRUE,\n",
        "  feature_pre_filter = FALSE,\n",
        "  force_row_wise = TRUE, # para reducir warnings\n",
        "  verbosity = -100,\n",
        "  max_depth = -1L, # -1 significa no limitar,  por ahora lo dejo fijo\n",
        "  min_gain_to_split = 0.0, # min_gain_to_split >= 0.0\n",
        "  min_sum_hessian_in_leaf = 0.001, #  min_sum_hessian_in_leaf >= 0.0\n",
        "  lambda_l1 = 0.0, # lambda_l1 >= 0.0\n",
        "  lambda_l2 = 0.0, # lambda_l2 >= 0.0\n",
        "  max_bin = 31L, # lo debo dejar fijo, no participa de la BO\n",
        "\n",
        "  bagging_fraction = 1.0, # 0.0 < bagging_fraction <= 1.0\n",
        "  pos_bagging_fraction = 1.0, # 0.0 < pos_bagging_fraction <= 1.0\n",
        "  neg_bagging_fraction = 1.0, # 0.0 < neg_bagging_fraction <= 1.0\n",
        "  is_unbalance = FALSE, #\n",
        "  scale_pos_weight = 1.0, # scale_pos_weight > 0.0\n",
        "\n",
        "  drop_rate = 0.1, # 0.0 < neg_bagging_fraction <= 1.0\n",
        "  max_drop = 50, # <=0 means no limit\n",
        "  skip_drop = 0.5, # 0.0 <= skip_drop <= 1.0\n",
        "\n",
        "  extra_trees = TRUE, # Magic Sauce\n",
        "\n",
        "  seed = PARAM$finalmodel$semilla\n",
        ")"
      ]
    },
    {
      "cell_type": "markdown",
      "metadata": {
        "id": "5Gdtnd1SrdhP"
      },
      "source": [
        "## Aqui empieza el programa"
      ]
    },
    {
      "cell_type": "code",
      "execution_count": null,
      "metadata": {
        "vscode": {
          "languageId": "r"
        },
        "id": "jbOlrjU6rdhP"
      },
      "outputs": [],
      "source": [
        "# Aqui empieza el programa\n",
        "setwd(\"~/buckets/b1\")\n",
        "\n",
        "# cargo el dataset donde voy a entrenar\n",
        "dataset <- fread(PARAM$input$dataset, stringsAsFactors = TRUE)"
      ]
    },
    {
      "cell_type": "code",
      "execution_count": null,
      "metadata": {
        "vscode": {
          "languageId": "r"
        },
        "id": "HNKyqhC-rdhP"
      },
      "outputs": [],
      "source": [
        "# Catastrophe Analysis  -------------------------------------------------------\n",
        "# deben ir cosas de este estilo\n",
        "#   dataset[foto_mes == 202006, active_quarter := NA]\n",
        "\n",
        "# Data Drifting\n",
        "# por ahora, no hago nada\n",
        "\n",
        "\n",
        "# Feature Engineering Historico  ----------------------------------------------\n",
        "#   aqui deben calcularse los  lags y  lag_delta\n",
        "#   Sin lags no hay paraiso ! corta la bocha\n",
        "#   https://rdrr.io/cran/data.table/man/shift.html\n",
        "\n"
      ]
    },
    {
      "cell_type": "code",
      "execution_count": null,
      "metadata": {
        "vscode": {
          "languageId": "r"
        },
        "id": "YT0fH6WJrdhQ"
      },
      "outputs": [],
      "source": [
        "# paso la clase a binaria que tome valores {0,1}  enteros\n",
        "# set trabaja con la clase  POS = { BAJA+1, BAJA+2 }\n",
        "# esta estrategia es MUY importante\n",
        "dataset[, clase01 := ifelse(clase_ternaria %in% c(\"BAJA+2\", \"BAJA+1\"), 1L, 0L)]"
      ]
    },
    {
      "cell_type": "code",
      "execution_count": null,
      "metadata": {
        "vscode": {
          "languageId": "r"
        },
        "id": "BjpS0vEjrdhQ"
      },
      "outputs": [],
      "source": [
        "# los campos que se van a utilizar\n",
        "campos_buenos <- setdiff(colnames(dataset), c(\"clase_ternaria\", \"clase01\"))"
      ]
    },
    {
      "cell_type": "code",
      "execution_count": null,
      "metadata": {
        "vscode": {
          "languageId": "r"
        },
        "id": "HA5OzaVmrdhQ"
      },
      "outputs": [],
      "source": [
        "# establezco donde entreno\n",
        "dataset[, train := 0L]\n",
        "dataset[foto_mes %in% PARAM$input$training, train := 1L]\n"
      ]
    },
    {
      "cell_type": "code",
      "execution_count": null,
      "metadata": {
        "vscode": {
          "languageId": "r"
        },
        "id": "zX1V1z9ArdhQ"
      },
      "outputs": [],
      "source": [
        "# creo las carpetas donde van los resultados\n",
        "# creo la carpeta donde va el experimento\n",
        "dir.create(\"./exp/\", showWarnings = FALSE)\n",
        "dir.create(paste0(\"./exp/\", PARAM$experimento, \"/\"), showWarnings = FALSE)\n",
        "\n",
        "# Establezco el Working Directory DEL EXPERIMENTO\n",
        "setwd(paste0(\"./exp/\", PARAM$experimento, \"/\"))"
      ]
    },
    {
      "cell_type": "code",
      "execution_count": null,
      "metadata": {
        "vscode": {
          "languageId": "r"
        },
        "id": "PH37z5eJrdhQ"
      },
      "outputs": [],
      "source": [
        "# dejo los datos en el formato que necesita LightGBM\n",
        "dtrain <- lgb.Dataset(\n",
        "  data = data.matrix(dataset[train == 1L, campos_buenos, with = FALSE]),\n",
        "  label = dataset[train == 1L, clase01]\n",
        ")"
      ]
    },
    {
      "cell_type": "code",
      "execution_count": null,
      "metadata": {
        "vscode": {
          "languageId": "r"
        },
        "id": "bYiR91ldrdhQ"
      },
      "outputs": [],
      "source": [
        "# genero el modelo\n",
        "param_completo <- c(PARAM$finalmodel$lgb_basicos,\n",
        "  PARAM$finalmodel$optim)\n",
        "\n",
        "modelo <- lgb.train(\n",
        "  data = dtrain,\n",
        "  param = param_completo,\n",
        ")"
      ]
    },
    {
      "cell_type": "code",
      "execution_count": null,
      "metadata": {
        "vscode": {
          "languageId": "r"
        },
        "id": "wWX2IdQGrdhR"
      },
      "outputs": [],
      "source": [
        "# ahora imprimo la importancia de variables\n",
        "tb_importancia <- as.data.table(lgb.importance(modelo))\n",
        "archivo_importancia <- \"impo.txt\"\n",
        "\n",
        "fwrite(tb_importancia,\n",
        "  file = archivo_importancia,\n",
        "  sep = \"\\t\"\n",
        ")\n"
      ]
    },
    {
      "cell_type": "code",
      "execution_count": null,
      "metadata": {
        "vscode": {
          "languageId": "r"
        },
        "id": "QuQvWNHSrdhR"
      },
      "outputs": [],
      "source": [
        "# aplico el modelo a los datos sin clase\n",
        "dapply <- dataset[foto_mes == PARAM$input$future]\n",
        "\n",
        "# aplico el modelo a los datos nuevos\n",
        "prediccion <- predict(\n",
        "  modelo,\n",
        "  data.matrix(dapply[, campos_buenos, with = FALSE])\n",
        ")\n",
        "\n",
        "# genero la tabla de entrega\n",
        "tb_entrega <- dapply[, list(numero_de_cliente, foto_mes)]\n",
        "tb_entrega[, prob := prediccion]\n",
        "\n",
        "# grabo las probabilidad del modelo\n",
        "fwrite(tb_entrega,\n",
        "  file = \"prediccion.txt\",\n",
        "  sep = \"\\t\"\n",
        ")\n",
        "\n",
        "# ordeno por probabilidad descendente\n",
        "setorder(tb_entrega, -prob)\n"
      ]
    },
    {
      "cell_type": "code",
      "execution_count": null,
      "metadata": {
        "vscode": {
          "languageId": "r"
        },
        "outputId": "d0b8bf7c-3ca2-4d32-f2b0-4ce058ad8ddb",
        "id": "swENxeL9rdhR"
      },
      "outputs": [
        {
          "name": "stdout",
          "output_type": "stream",
          "text": [
            "\n",
            "\n",
            "La generacion de los archivos para Kaggle ha terminado\n"
          ]
        }
      ],
      "source": [
        "# genero archivos con los  \"envios\" mejores\n",
        "# deben subirse \"inteligentemente\" a Kaggle para no malgastar submits\n",
        "# si la palabra inteligentemente no le significa nada aun\n",
        "# suba TODOS los archivos a Kaggle\n",
        "# espera a la siguiente clase sincronica en donde el tema sera explicado\n",
        "\n",
        "cortes <- seq(8000, 15000, by = 500)\n",
        "for (envios in cortes) {\n",
        "  tb_entrega[, Predicted := 0L]\n",
        "  tb_entrega[1:envios, Predicted := 1L]\n",
        "\n",
        "  fwrite(tb_entrega[, list(numero_de_cliente, Predicted)],\n",
        "    file = paste0(PARAM$experimento, \"_\", envios, \".csv\"),\n",
        "    sep = \",\"\n",
        "  )\n",
        "}\n",
        "\n",
        "cat(\"\\n\\nLa generacion de los archivos para Kaggle ha terminado\\n\")"
      ]
    },
    {
      "cell_type": "code",
      "source": [],
      "metadata": {
        "id": "TwDPfTl9rdhR"
      },
      "execution_count": null,
      "outputs": []
    }
  ],
  "metadata": {
    "colab": {
      "provenance": []
    },
    "kernelspec": {
      "display_name": "R",
      "language": "R",
      "name": "ir"
    },
    "language_info": {
      "codemirror_mode": "r",
      "file_extension": ".r",
      "mimetype": "text/x-r-source",
      "name": "R",
      "pygments_lexer": "r",
      "version": "4.3.1"
    }
  },
  "nbformat": 4,
  "nbformat_minor": 0
}