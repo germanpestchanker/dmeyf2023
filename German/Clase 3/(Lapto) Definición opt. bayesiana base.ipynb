{
 "cells": [
  {
   "cell_type": "markdown",
   "metadata": {},
   "source": [
    "# Step 1"
   ]
  },
  {
   "cell_type": "markdown",
   "metadata": {},
   "source": [
    "- Optimizacion Bayesiana de hiperparametros de  rpart\n",
    "- 10-repeated 5-fold Cross Validation\n",
    "- trabaja con la clase_ternaria (más lento -puede tardar un día-, pero certero que la binaria)"
   ]
  },
  {
   "cell_type": "code",
   "execution_count": 3,
   "metadata": {
    "vscode": {
     "languageId": "r"
    }
   },
   "outputs": [
    {
     "data": {
      "text/html": [
       "<table class=\"dataframe\">\n",
       "<caption>A matrix: 2 × 6 of type dbl</caption>\n",
       "<thead>\n",
       "\t<tr><th></th><th scope=col>used</th><th scope=col>(Mb)</th><th scope=col>gc trigger</th><th scope=col>(Mb)</th><th scope=col>max used</th><th scope=col>(Mb)</th></tr>\n",
       "</thead>\n",
       "<tbody>\n",
       "\t<tr><th scope=row>Ncells</th><td>2043452</td><td>109.2</td><td>3979458</td><td>212.6</td><td>2851164</td><td>152.3</td></tr>\n",
       "\t<tr><th scope=row>Vcells</th><td>3526168</td><td> 27.0</td><td>8388608</td><td> 64.0</td><td>6550850</td><td> 50.0</td></tr>\n",
       "</tbody>\n",
       "</table>\n"
      ],
      "text/latex": [
       "A matrix: 2 × 6 of type dbl\n",
       "\\begin{tabular}{r|llllll}\n",
       "  & used & (Mb) & gc trigger & (Mb) & max used & (Mb)\\\\\n",
       "\\hline\n",
       "\tNcells & 2043452 & 109.2 & 3979458 & 212.6 & 2851164 & 152.3\\\\\n",
       "\tVcells & 3526168 &  27.0 & 8388608 &  64.0 & 6550850 &  50.0\\\\\n",
       "\\end{tabular}\n"
      ],
      "text/markdown": [
       "\n",
       "A matrix: 2 × 6 of type dbl\n",
       "\n",
       "| <!--/--> | used | (Mb) | gc trigger | (Mb) | max used | (Mb) |\n",
       "|---|---|---|---|---|---|---|\n",
       "| Ncells | 2043452 | 109.2 | 3979458 | 212.6 | 2851164 | 152.3 |\n",
       "| Vcells | 3526168 |  27.0 | 8388608 |  64.0 | 6550850 |  50.0 |\n",
       "\n"
      ],
      "text/plain": [
       "       used    (Mb)  gc trigger (Mb)  max used (Mb) \n",
       "Ncells 2043452 109.2 3979458    212.6 2851164  152.3\n",
       "Vcells 3526168  27.0 8388608     64.0 6550850   50.0"
      ]
     },
     "metadata": {},
     "output_type": "display_data"
    }
   ],
   "source": [
    "# Limpiamos el entorno\n",
    "rm(list = ls())\n",
    "gc(verbose = FALSE)"
   ]
  },
  {
   "cell_type": "code",
   "execution_count": 4,
   "metadata": {
    "vscode": {
     "languageId": "r"
    }
   },
   "outputs": [
    {
     "name": "stderr",
     "output_type": "stream",
     "text": [
      "Loading required package: DiceKriging\n",
      "\n",
      "Warning message in library(package, lib.loc = lib.loc, character.only = TRUE, logical.return = TRUE, :\n",
      "\"there is no package called 'DiceKriging'\"\n"
     ]
    },
    {
     "name": "stderr",
     "output_type": "stream",
     "text": [
      "Loading required package: rlist\n",
      "\n",
      "Warning message in library(package, lib.loc = lib.loc, character.only = TRUE, logical.return = TRUE, :\n",
      "\"there is no package called 'rlist'\"\n"
     ]
    }
   ],
   "source": [
    "# Librerías necesarias\n",
    "require(\"data.table\")\n",
    "require(\"rpart\")\n",
    "require(\"DiceKriging\")\n",
    "require(\"mlrMBO\")\n",
    "require(\"rlist\")\n",
    "require(\"parallel\")"
   ]
  },
  {
   "cell_type": "code",
   "execution_count": 5,
   "metadata": {
    "vscode": {
     "languageId": "r"
    }
   },
   "outputs": [],
   "source": [
    "# Aqui se debe poner la carpeta de la materia de SU computadora local\n",
    "setwd(\"C:/Users/German/Documents/dmeyf2023/German/Clase 3\") # Establezco el Working Directory\n",
    "#\"C:/Users/German/Documents/dmeyf2023/German/Clase 3\" #Laptop"
   ]
  },
  {
   "cell_type": "code",
   "execution_count": 6,
   "metadata": {
    "vscode": {
     "languageId": "r"
    }
   },
   "outputs": [],
   "source": [
    "# Defino la  Optimizacion Bayesiana\n",
    "PARAM <- list()\n",
    "\n",
    "PARAM$home <- \"C:/Users/German/Documents/dmeyf2023/German/Clase 3\"\n",
    "\n",
    "PARAM$experimento <- \"HT3220\"\n",
    "\n",
    "# Aqui van las 10 semillas que hacen el 10-repeated\n",
    "#  si se pone una sola semilla, se esta haciendo solo 5-fold xval\n",
    "PARAM$semilla_azar <- c(279511, 279523, 279541, 279551, 279571)"
   ]
  },
  {
   "cell_type": "code",
   "execution_count": 7,
   "metadata": {
    "vscode": {
     "languageId": "r"
    }
   },
   "outputs": [],
   "source": [
    "# Cargamos el dataset\n",
    "#dataset <- fread(\"competencia_01.csv\")\n",
    "\n",
    "# Nos quedamos solo con el 202103\n",
    "#dataset <- dataset[foto_mes == 202103]"
   ]
  },
  {
   "cell_type": "code",
   "execution_count": 8,
   "metadata": {
    "vscode": {
     "languageId": "r"
    }
   },
   "outputs": [],
   "source": [
    "library(ParamHelpers)"
   ]
  },
  {
   "cell_type": "code",
   "execution_count": 9,
   "metadata": {
    "vscode": {
     "languageId": "r"
    }
   },
   "outputs": [],
   "source": [
    "# folds del cross validation\n",
    "PARAM$xval_folds <- 5\n",
    "\n",
    "# cantidad de iteraciones de la Optimizacion Bayesiana\n",
    "PARAM$BO_iter <- 300\n",
    "\n",
    "# la letra L al final de 1L significa ENTERO\n",
    "PARAM$hs <- makeParamSet(\n",
    "  makeNumericParam(\"cp\", lower = -1, upper = 0.1),\n",
    "  makeIntegerParam(\"minsplit\", lower = 1L, upper = 8000L),\n",
    "  makeIntegerParam(\"minbucket\", lower = 1L, upper = 4000L),\n",
    "  makeIntegerParam(\"maxdepth\", lower = 3L, upper = 20L),\n",
    "  forbidden = quote(minbucket > 0.5 * minsplit)\n",
    ")\n",
    "# minbuket NO PUEDE ser mayor que la mitad de minsplit\n",
    "\n",
    "\n",
    "# este valor debe ser 1 si se utiliza Windows\n",
    "PARAM$cores <- 1"
   ]
  },
  {
   "cell_type": "markdown",
   "metadata": {},
   "source": [
    "# Step 2: graba a un archivo los componentes de lista para el primer registro, escribe antes los titulos"
   ]
  },
  {
   "cell_type": "code",
   "execution_count": 10,
   "metadata": {
    "vscode": {
     "languageId": "r"
    }
   },
   "outputs": [],
   "source": [
    "loguear <- function(reg, arch = NA, folder = \"./work/\", ext = \".txt\",\n",
    "                    verbose = TRUE) {\n",
    "  archivo <- arch\n",
    "  if (is.na(arch)) archivo <- paste0(folder, substitute(reg), ext)\n",
    "\n",
    "  # Escribo los titulos\n",
    "  if (!file.exists(archivo)) {\n",
    "    linea <- paste0(\n",
    "      \"fecha\\t\",\n",
    "      paste(list.names(reg), collapse = \"\\t\"), \"\\n\"\n",
    "    )\n",
    "\n",
    "    cat(linea, file = archivo)\n",
    "  }\n",
    "\n",
    "  # la fecha y hora\n",
    "  linea <- paste0(\n",
    "    format(Sys.time(), \"%Y%m%d %H%M%S\"), \"\\t\",\n",
    "    gsub(\", \", \"\\t\", toString(reg)), \"\\n\"\n",
    "  )\n",
    "\n",
    "  # grabo al archivo\n",
    "  cat(linea, file = archivo, append = TRUE)\n",
    "\n",
    "  # imprimo por pantalla\n",
    "  if (verbose) cat(linea)\n",
    "}"
   ]
  },
  {
   "cell_type": "markdown",
   "metadata": {},
   "source": [
    "- Particionar agrega una columna llamada fold a un dataset que consiste en una particion estratificada segun agrupa \n",
    "- particionar( data=dataset, division=c(70,30), agrupa=clase_ternaria, seed=semilla)   crea una particion 70, 30\n",
    "- particionar( data=dataset, division=c(1,1,1,1,1), agrupa=clase_ternaria, seed=semilla)   divide el dataset en 5 particiones\n"
   ]
  },
  {
   "cell_type": "code",
   "execution_count": 11,
   "metadata": {
    "vscode": {
     "languageId": "r"
    }
   },
   "outputs": [],
   "source": [
    "particionar <- function(data, division, agrupa = \"\", campo = \"fold\",\n",
    "                        start = 1, seed = NA) {\n",
    "  if (!is.na(seed)) set.seed(seed)\n",
    "\n",
    "  bloque <- unlist(mapply(\n",
    "    function(x, y) {\n",
    "      rep(y, x)\n",
    "    }, division,\n",
    "    seq(from = start, length.out = length(division))\n",
    "  ))\n",
    "\n",
    "  data[, (campo) := sample(rep(bloque, ceiling(.N / length(bloque))))[1:.N],\n",
    "    by = agrupa\n",
    "  ]\n",
    "}"
   ]
  },
  {
   "cell_type": "code",
   "execution_count": 12,
   "metadata": {
    "vscode": {
     "languageId": "r"
    }
   },
   "outputs": [],
   "source": [
    "# fold_test  tiene el numero de fold que voy a usar para testear,\n",
    "#  entreno en el resto de los folds\n",
    "# param tiene los hiperparametros del arbol\n",
    "\n",
    "ArbolSimple <- function(fold_test, data, param) {\n",
    "  # genero el modelo\n",
    "  # entreno en todo MENOS el fold_test que uso para testing\n",
    "  modelo <- rpart(\"clase_ternaria ~ .\",\n",
    "    data = data[fold != fold_test, ],\n",
    "    xval = 0,\n",
    "    control = param\n",
    "  )\n",
    "\n",
    "  # aplico el modelo a los datos de testing\n",
    "  # aplico el modelo sobre los datos de testing\n",
    "  # quiero que me devuelva probabilidades\n",
    "  prediccion <- predict(modelo,\n",
    "    data[fold == fold_test, ],\n",
    "    type = \"prob\"\n",
    "  )\n",
    "\n",
    "  # esta es la probabilidad de baja\n",
    "  prob_baja2 <- prediccion[, \"BAJA+2\"]\n",
    "\n",
    "  # calculo la ganancia\n",
    "  ganancia_testing <- data[fold == fold_test][\n",
    "    prob_baja2 > 1 / 40,\n",
    "    sum(ifelse(clase_ternaria == \"BAJA+2\",\n",
    "      273000, -7000\n",
    "    ))\n",
    "  ]\n",
    "\n",
    "  # esta es la ganancia sobre el fold de testing, NO esta normalizada\n",
    "  return(ganancia_testing)\n",
    "}"
   ]
  },
  {
   "cell_type": "code",
   "execution_count": 13,
   "metadata": {
    "vscode": {
     "languageId": "r"
    }
   },
   "outputs": [],
   "source": [
    "ArbolesCrossValidation <- function(data, param, qfolds, pagrupa, semilla) {\n",
    "  # generalmente  c(1, 1, 1, 1, 1 )  cinco unos\n",
    "  divi <- rep(1, qfolds)\n",
    "\n",
    "  # particiono en dataset en folds\n",
    "  particionar(data, divi, seed = semilla, agrupa = pagrupa)\n",
    "\n",
    "  ganancias <- mcmapply(ArbolSimple,\n",
    "    seq(qfolds), # 1 2 3 4 5\n",
    "    MoreArgs = list(data, param),\n",
    "    SIMPLIFY = FALSE,\n",
    "    mc.cores = PARAM$cores\n",
    "  )\n",
    "\n",
    "  data[, fold := NULL]\n",
    "\n",
    "  ganancia_xval <- sum(unlist(ganancias))\n",
    "\n",
    "  return(ganancia_xval)\n",
    "}"
   ]
  },
  {
   "cell_type": "code",
   "execution_count": 14,
   "metadata": {
    "vscode": {
     "languageId": "r"
    }
   },
   "outputs": [],
   "source": [
    "# esta funcion solo puede recibir los parametros que se estan optimizando\n",
    "# el resto de los parametros, lamentablemente se pasan como variables globales\n",
    "\n",
    "EstimarGanancia <- function(x) {\n",
    "  GLOBAL_iteracion <<- GLOBAL_iteracion + 1\n",
    "\n",
    "  # param= x los hiperparametros del arbol\n",
    "  # qfolds= PARAM$xval_folds  la cantidad de folds\n",
    "  gans <- c()\n",
    "  for (semilla in PARAM$semilla_azar)\n",
    "  {\n",
    "    ganancia <- ArbolesCrossValidation(dataset,\n",
    "      param = x,\n",
    "      qfolds = PARAM$xval_folds,\n",
    "      pagrupa = \"clase_ternaria\",\n",
    "      semilla = semilla\n",
    "    )\n",
    "\n",
    "    gans <- c(gans, ganancia)\n",
    "  }\n",
    "  # imprimo el vector con las ganancias de xval\n",
    "  # para que se aprecia la variabilidad aun con 5-fold\n",
    "  cat(gans, \"\\n\")\n",
    "\n",
    "  # logueo\n",
    "  xx <- x\n",
    "  xx$xval_repeats <- length(PARAM$semilla_azar)\n",
    "  xx$xval_folds <- PARAM$xval_folds\n",
    "  xx$ganancia <- mean(gans)\n",
    "  xx$iteracion <- GLOBAL_iteracion\n",
    "  loguear(xx, arch = archivo_log)\n",
    "\n",
    "  return(mean(gans))\n",
    "}"
   ]
  },
  {
   "cell_type": "code",
   "execution_count": null,
   "metadata": {
    "vscode": {
     "languageId": "r"
    }
   },
   "outputs": [],
   "source": []
  },
  {
   "cell_type": "markdown",
   "metadata": {},
   "source": [
    "# Step 3: Aqui empieza el programa"
   ]
  },
  {
   "cell_type": "code",
   "execution_count": 15,
   "metadata": {
    "vscode": {
     "languageId": "r"
    }
   },
   "outputs": [],
   "source": [
    "# Establezco el Working Directory inicial\n",
    "setwd(PARAM$home)\n",
    "\n",
    "# cargo los datos\n",
    "dataset <- fread(\"competencia_01.csv\")\n",
    "# entreno en 202103\n",
    "dataset <- dataset[foto_mes == 202103]"
   ]
  },
  {
   "cell_type": "code",
   "execution_count": 16,
   "metadata": {
    "vscode": {
     "languageId": "r"
    }
   },
   "outputs": [],
   "source": [
    "# creo la carpeta donde va el experimento\n",
    "#  HT  representa  Hiperparameter Tuning\n",
    "dir.create(\"./exp/\", showWarnings = FALSE)\n",
    "\n",
    "dir.create(paste0(\"./exp/\", PARAM$experimento, \"/\"),\n",
    "  showWarnings = FALSE\n",
    ")"
   ]
  },
  {
   "cell_type": "code",
   "execution_count": 17,
   "metadata": {
    "vscode": {
     "languageId": "r"
    }
   },
   "outputs": [],
   "source": [
    "# Establezco el Working Directory DEL EXPERIMENTO\n",
    "setwd(paste0(\"./exp/\", PARAM$experimento, \"/\"))"
   ]
  },
  {
   "cell_type": "code",
   "execution_count": 18,
   "metadata": {
    "vscode": {
     "languageId": "r"
    }
   },
   "outputs": [],
   "source": [
    "archivo_log <- \"BO_log.txt\"\n",
    "archivo_BO <- \"bayesiana.RDATA\"\n",
    "\n",
    "# leo si ya existe el log\n",
    "#  para retomar en caso que se se corte el programa\n",
    "GLOBAL_iteracion <- 0\n",
    "\n",
    "if (file.exists(archivo_log)) {\n",
    "  tabla_log <- fread(archivo_log)\n",
    "  GLOBAL_iteracion <- nrow(tabla_log)\n",
    "}"
   ]
  },
  {
   "cell_type": "markdown",
   "metadata": {},
   "source": [
    "# Step 4:\"Aqui comienza la configuracion de la Bayesian Optimization\""
   ]
  },
  {
   "cell_type": "code",
   "execution_count": 19,
   "metadata": {
    "vscode": {
     "languageId": "r"
    }
   },
   "outputs": [],
   "source": [
    "funcion_optimizar <- EstimarGanancia"
   ]
  },
  {
   "cell_type": "code",
   "execution_count": 30,
   "metadata": {
    "vscode": {
     "languageId": "r"
    }
   },
   "outputs": [
    {
     "name": "stderr",
     "output_type": "stream",
     "text": [
      "Loading required package: DiceKriging\n",
      "\n",
      "\n",
      "Attaching package: 'DiceKriging'\n",
      "\n",
      "\n",
      "The following object is masked from 'package:checkmate':\n",
      "\n",
      "    checkNames\n",
      "\n",
      "\n"
     ]
    }
   ],
   "source": [
    "require('mlr')\n",
    "require('mlrMBO')\n",
    "require('DiceKriging')"
   ]
  },
  {
   "cell_type": "code",
   "execution_count": 22,
   "metadata": {
    "vscode": {
     "languageId": "r"
    }
   },
   "outputs": [],
   "source": [
    "configureMlr(show.learner.output = FALSE)"
   ]
  },
  {
   "cell_type": "code",
   "execution_count": 23,
   "metadata": {
    "vscode": {
     "languageId": "r"
    }
   },
   "outputs": [],
   "source": [
    "# configuro la busqueda bayesiana,\n",
    "#  los hiperparametros que se van a optimizar\n",
    "# por favor, no desesperarse por lo complejo\n",
    "# minimize= FALSE estoy Maximizando la ganancia\n",
    "obj.fun <- makeSingleObjectiveFunction(\n",
    "  fn = funcion_optimizar,\n",
    "  minimize = FALSE,\n",
    "  noisy = TRUE,\n",
    "  par.set = PARAM$hs,\n",
    "  has.simple.signature = FALSE\n",
    ")"
   ]
  },
  {
   "cell_type": "code",
   "execution_count": 24,
   "metadata": {
    "vscode": {
     "languageId": "r"
    }
   },
   "outputs": [],
   "source": [
    "ctrl <- makeMBOControl(\n",
    "  save.on.disk.at.time = 600,\n",
    "  save.file.path = archivo_BO\n",
    ")"
   ]
  },
  {
   "cell_type": "code",
   "execution_count": 31,
   "metadata": {
    "vscode": {
     "languageId": "r"
    }
   },
   "outputs": [],
   "source": [
    "# Crear la configuración de MBO\n",
    "ctrl <- makeMBOControl()\n",
    "\n",
    "ctrl <- setMBOControlTermination(ctrl, iters = PARAM$BO_iter)\n",
    "ctrl <- setMBOControlInfill(ctrl, crit = makeMBOInfillCritEI())\n"
   ]
  },
  {
   "cell_type": "code",
   "execution_count": 32,
   "metadata": {
    "vscode": {
     "languageId": "r"
    }
   },
   "outputs": [],
   "source": [
    "# Crear el modelo de regresión\n",
    "surr.km <- makeLearner(\"regr.km\",\n",
    "  predict.type = \"se\",\n",
    "  covtype = \"matern3_2\", \n",
    "  control = list(trace = TRUE)\n",
    ")"
   ]
  },
  {
   "cell_type": "code",
   "execution_count": 33,
   "metadata": {
    "vscode": {
     "languageId": "r"
    }
   },
   "outputs": [
    {
     "name": "stderr",
     "output_type": "stream",
     "text": [
      "Computing y column(s) for design. Not provided.\n",
      "\n"
     ]
    },
    {
     "name": "stdout",
     "output_type": "stream",
     "text": [
      "83377000 80745000 81018000 84476000 84560000 \n"
     ]
    },
    {
     "ename": "ERROR",
     "evalue": "Error in list.names(reg): no se pudo encontrar la función \"list.names\"\n",
     "output_type": "error",
     "traceback": [
      "Error in list.names(reg): no se pudo encontrar la función \"list.names\"\nTraceback:\n",
      "1. mbo(fun = obj.fun, learner = surr.km, control = ctrl)   # at line 3-7 of file <text>",
      "2. mboTemplate(opt.problem)",
      "3. mboTemplate.OptProblem(opt.problem)",
      "4. evalMBODesign.OptState(opt.state)",
      "5. evalTargetFun.OptState(opt.state, xs, extras)",
      "6. parallelMap(wrapFun, xs.trafo, level = \"mlrMBO.feval\", impute.error = if (is.null(imputeY)) NULL else identity)",
      "7. mapply(fun2, ..., MoreArgs = more.args, SIMPLIFY = FALSE, USE.NAMES = FALSE)",
      "8. (function (x) \n . {\n .     st = proc.time()\n .     y = do.call(getOptProblemFun(opt.problem), insert(list(x = x), \n .         getOptProblemMoreArgs(opt.problem)))\n .     user.extras = list()\n .     if (hasAttributes(y, \"extras\")) {\n .         user.extras = attr(y, \"extras\")\n .         y = setAttribute(y, \"extras\", NULL)\n .     }\n .     st = proc.time() - st\n .     list(y = y, time = st[3], user.extras = user.extras)\n . })(dots[[1L]][[1L]])",
      "9. do.call(getOptProblemFun(opt.problem), insert(list(x = x), getOptProblemMoreArgs(opt.problem)))",
      "10. (structure(function (x) \n  . {\n  .     GLOBAL_iteracion <<- GLOBAL_iteracion + 1\n  .     gans <- c()\n  .     for (semilla in PARAM$semilla_azar) {\n  .         ganancia <- ArbolesCrossValidation(dataset, param = x, \n  .             qfolds = PARAM$xval_folds, pagrupa = \"clase_ternaria\", \n  .             semilla = semilla)\n  .         gans <- c(gans, ganancia)\n  .     }\n  .     cat(gans, \"\\n\")\n  .     xx <- x\n  .     xx$xval_repeats <- length(PARAM$semilla_azar)\n  .     xx$xval_folds <- PARAM$xval_folds\n  .     xx$ganancia <- mean(gans)\n  .     xx$iteracion <- GLOBAL_iteracion\n  .     loguear(xx, arch = archivo_log)\n  .     return(mean(gans))\n  . }, name = \"\", id = NA_character_, description = \"\", par.set = structure(list(\n  .     pars = list(cp = structure(list(id = \"cp\", type = \"numeric\", \n  .         len = 1L, lower = -1, upper = 0.1, values = NULL, cnames = NULL, \n  .         allow.inf = FALSE, has.default = FALSE, default = NULL, \n  .         trafo = NULL, requires = NULL, tunable = TRUE, special.vals = list()), class = \"Param\"), \n  .         minsplit = structure(list(id = \"minsplit\", type = \"integer\", \n  .             len = 1L, lower = 1L, upper = 8000L, values = NULL, \n  .             cnames = NULL, allow.inf = FALSE, has.default = FALSE, \n  .             default = NULL, trafo = NULL, requires = NULL, tunable = TRUE, \n  .             special.vals = list()), class = \"Param\"), minbucket = structure(list(\n  .             id = \"minbucket\", type = \"integer\", len = 1L, lower = 1L, \n  .             upper = 4000L, values = NULL, cnames = NULL, allow.inf = FALSE, \n  .             has.default = FALSE, default = NULL, trafo = NULL, \n  .             requires = NULL, tunable = TRUE, special.vals = list()), class = \"Param\"), \n  .         maxdepth = structure(list(id = \"maxdepth\", type = \"integer\", \n  .             len = 1L, lower = 3L, upper = 20L, values = NULL, \n  .             cnames = NULL, allow.inf = FALSE, has.default = FALSE, \n  .             default = NULL, trafo = NULL, requires = NULL, tunable = TRUE, \n  .             special.vals = list()), class = \"Param\")), forbidden = minbucket > \n  .         0.5 * minsplit), class = \"ParamSet\"), noisy = TRUE, minimize = FALSE, vectorized = FALSE, n.objectives = 1L, class = c(\"smoof_single_objective_function\", \n  . \"smoof_function\", \"function\"), tags = character(0)))(x = list(\n  .     cp = -0.528746162747848, minsplit = 4514L, minbucket = 1199L, \n  .     maxdepth = 5L))",
      "11. loguear(xx, arch = archivo_log)   # at line 31 of file <text>",
      "12. paste0(\"fecha\\t\", paste(list.names(reg), collapse = \"\\t\"), \"\\n\")   # at line 8-11 of file <text>",
      "13. paste(list.names(reg), collapse = \"\\t\")"
     ]
    }
   ],
   "source": [
    "# inicio la optimizacion bayesiana\n",
    "if (!file.exists(archivo_BO)) {\n",
    "  run <- mbo(\n",
    "    fun = obj.fun,\n",
    "    learner = surr.km,\n",
    "    control = ctrl\n",
    "  )\n",
    "} else {\n",
    "  run <- mboContinue(archivo_BO)\n",
    "}\n",
    "# retomo en caso que ya exista"
   ]
  },
  {
   "cell_type": "code",
   "execution_count": null,
   "metadata": {
    "vscode": {
     "languageId": "r"
    }
   },
   "outputs": [],
   "source": []
  }
 ],
 "metadata": {
  "kernelspec": {
   "display_name": "ir",
   "language": "",
   "name": "ir"
  },
  "language_info": {
   "codemirror_mode": "r",
   "file_extension": ".r",
   "mimetype": "text/x-r-source",
   "name": "R",
   "pygments_lexer": "r",
   "version": "4.3.1"
  },
  "orig_nbformat": 4
 },
 "nbformat": 4,
 "nbformat_minor": 2
}
