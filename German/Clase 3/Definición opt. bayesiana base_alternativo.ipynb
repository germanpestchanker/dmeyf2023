{
 "cells": [
  {
   "cell_type": "markdown",
   "metadata": {},
   "source": [
    "# Step 1"
   ]
  },
  {
   "cell_type": "markdown",
   "metadata": {},
   "source": [
    "- Optimizacion Bayesiana de hiperparametros de  rpart\n",
    "- 10-repeated 5-fold Cross Validation\n",
    "- trabaja con la clase_ternaria (más lento -puede tardar un día-, pero certero que la binaria)"
   ]
  },
  {
   "cell_type": "code",
   "execution_count": 1,
   "metadata": {
    "vscode": {
     "languageId": "r"
    }
   },
   "outputs": [
    {
     "data": {
      "text/html": [
       "<table class=\"dataframe\">\n",
       "<caption>A matrix: 2 × 6 of type dbl</caption>\n",
       "<thead>\n",
       "\t<tr><th></th><th scope=col>used</th><th scope=col>(Mb)</th><th scope=col>gc trigger</th><th scope=col>(Mb)</th><th scope=col>max used</th><th scope=col>(Mb)</th></tr>\n",
       "</thead>\n",
       "<tbody>\n",
       "\t<tr><th scope=row>Ncells</th><td> 627610</td><td>33.6</td><td>1404617</td><td>75.1</td><td> 994503</td><td>53.2</td></tr>\n",
       "\t<tr><th scope=row>Vcells</th><td>1149700</td><td> 8.8</td><td>8388608</td><td>64.0</td><td>1769393</td><td>13.5</td></tr>\n",
       "</tbody>\n",
       "</table>\n"
      ],
      "text/latex": [
       "A matrix: 2 × 6 of type dbl\n",
       "\\begin{tabular}{r|llllll}\n",
       "  & used & (Mb) & gc trigger & (Mb) & max used & (Mb)\\\\\n",
       "\\hline\n",
       "\tNcells &  627610 & 33.6 & 1404617 & 75.1 &  994503 & 53.2\\\\\n",
       "\tVcells & 1149700 &  8.8 & 8388608 & 64.0 & 1769393 & 13.5\\\\\n",
       "\\end{tabular}\n"
      ],
      "text/markdown": [
       "\n",
       "A matrix: 2 × 6 of type dbl\n",
       "\n",
       "| <!--/--> | used | (Mb) | gc trigger | (Mb) | max used | (Mb) |\n",
       "|---|---|---|---|---|---|---|\n",
       "| Ncells |  627610 | 33.6 | 1404617 | 75.1 |  994503 | 53.2 |\n",
       "| Vcells | 1149700 |  8.8 | 8388608 | 64.0 | 1769393 | 13.5 |\n",
       "\n"
      ],
      "text/plain": [
       "       used    (Mb) gc trigger (Mb) max used (Mb)\n",
       "Ncells  627610 33.6 1404617    75.1  994503  53.2\n",
       "Vcells 1149700  8.8 8388608    64.0 1769393  13.5"
      ]
     },
     "metadata": {},
     "output_type": "display_data"
    }
   ],
   "source": [
    "# Limpiamos el entorno\n",
    "rm(list = ls())\n",
    "gc(verbose = FALSE)"
   ]
  },
  {
   "cell_type": "code",
   "execution_count": 2,
   "metadata": {
    "vscode": {
     "languageId": "r"
    }
   },
   "outputs": [
    {
     "name": "stderr",
     "output_type": "stream",
     "text": [
      "Loading required package: data.table\n",
      "\n",
      "Loading required package: rpart\n",
      "\n",
      "Loading required package: DiceKriging\n",
      "\n",
      "Loading required package: mlrMBO\n",
      "\n",
      "Loading required package: mlr\n",
      "\n",
      "Loading required package: ParamHelpers\n",
      "\n",
      "Warning message: 'mlr' is in 'maintenance-only' mode since July 2019.\n",
      "Future development will only happen in 'mlr3'\n",
      "(<https://mlr3.mlr-org.com>). Due to the focus on 'mlr3' there might be\n",
      "uncaught bugs meanwhile in {mlr} - please consider switching.\n",
      "\n",
      "Loading required package: smoof\n",
      "\n",
      "Loading required package: checkmate\n",
      "\n",
      "\n",
      "Attaching package: 'checkmate'\n",
      "\n",
      "\n",
      "The following object is masked from 'package:DiceKriging':\n",
      "\n",
      "    checkNames\n",
      "\n",
      "\n",
      "Loading required package: rlist\n",
      "\n",
      "Loading required package: parallel\n",
      "\n"
     ]
    }
   ],
   "source": [
    "# Librerías necesarias\n",
    "require(\"data.table\")\n",
    "require(\"rpart\")\n",
    "require(\"DiceKriging\")\n",
    "require(\"mlrMBO\")\n",
    "require(\"rlist\")\n",
    "require(\"parallel\")"
   ]
  },
  {
   "cell_type": "code",
   "execution_count": 3,
   "metadata": {
    "vscode": {
     "languageId": "r"
    }
   },
   "outputs": [],
   "source": [
    "# Aqui se debe poner la carpeta de la materia de SU computadora local\n",
    "setwd(\"C:/Users/German/Desktop/dmeyf2023/German/Clase 3\") # Establezco el Working Directory\n",
    "#\"C:/Users/German/Documents/dmeyf2023/German/Clase 3\" #Laptop"
   ]
  },
  {
   "cell_type": "code",
   "execution_count": 4,
   "metadata": {
    "vscode": {
     "languageId": "r"
    }
   },
   "outputs": [],
   "source": [
    "# Defino la  Optimizacion Bayesiana\n",
    "PARAM <- list()\n",
    "\n",
    "PARAM$home <- \"C:/Users/German/Desktop/dmeyf2023/German/Clase 3\"\n",
    "\n",
    "PARAM$experimento <- \"HT3220\"\n",
    "\n",
    "# Aqui van las 10 semillas que hacen el 10-repeated\n",
    "#  si se pone una sola semilla, se esta haciendo solo 5-fold xval\n",
    "PARAM$semilla_azar <- c(279511, 279523, 279541, 279551, 279571)"
   ]
  },
  {
   "cell_type": "code",
   "execution_count": 5,
   "metadata": {
    "vscode": {
     "languageId": "r"
    }
   },
   "outputs": [],
   "source": [
    "# Cargamos el dataset\n",
    "#dataset <- fread(\"competencia_01.csv\")\n",
    "\n",
    "# Nos quedamos solo con el 202103\n",
    "#dataset <- dataset[foto_mes == 202103]"
   ]
  },
  {
   "cell_type": "code",
   "execution_count": 6,
   "metadata": {
    "vscode": {
     "languageId": "r"
    }
   },
   "outputs": [],
   "source": [
    "# folds del cross validation\n",
    "PARAM$xval_folds <- 5\n",
    "\n",
    "# cantidad de iteraciones de la Optimizacion Bayesiana\n",
    "PARAM$BO_iter <- 300\n",
    "\n",
    "# la letra L al final de 1L significa ENTERO\n",
    "PARAM$hs <- makeParamSet(\n",
    "  makeNumericParam(\"cp\", lower = -1, upper = 0.1),\n",
    "  makeIntegerParam(\"minsplit\", lower = 1L, upper = 8000L),\n",
    "  makeIntegerParam(\"minbucket\", lower = 1L, upper = 4000L),\n",
    "  makeIntegerParam(\"maxdepth\", lower = 3L, upper = 20L),\n",
    "  forbidden = quote(minbucket > 0.5 * minsplit)\n",
    ")\n",
    "# minbuket NO PUEDE ser mayor que la mitad de minsplit\n",
    "\n",
    "\n",
    "# este valor debe ser 1 si se utiliza Windows\n",
    "PARAM$cores <- 1"
   ]
  },
  {
   "cell_type": "markdown",
   "metadata": {},
   "source": [
    "# Step 2: graba a un archivo los componentes de lista para el primer registro, escribe antes los titulos"
   ]
  },
  {
   "cell_type": "code",
   "execution_count": 7,
   "metadata": {
    "vscode": {
     "languageId": "r"
    }
   },
   "outputs": [],
   "source": [
    "loguear <- function(reg, arch = NA, folder = \"./work/\", ext = \".txt\",\n",
    "                    verbose = TRUE) {\n",
    "  archivo <- arch\n",
    "  if (is.na(arch)) archivo <- paste0(folder, substitute(reg), ext)\n",
    "\n",
    "  # Escribo los titulos\n",
    "  if (!file.exists(archivo)) {\n",
    "    linea <- paste0(\n",
    "      \"fecha\\t\",\n",
    "      paste(list.names(reg), collapse = \"\\t\"), \"\\n\"\n",
    "    )\n",
    "\n",
    "    cat(linea, file = archivo)\n",
    "  }\n",
    "\n",
    "  # la fecha y hora\n",
    "  linea <- paste0(\n",
    "    format(Sys.time(), \"%Y%m%d %H%M%S\"), \"\\t\",\n",
    "    gsub(\", \", \"\\t\", toString(reg)), \"\\n\"\n",
    "  )\n",
    "\n",
    "  # grabo al archivo\n",
    "  cat(linea, file = archivo, append = TRUE)\n",
    "\n",
    "  # imprimo por pantalla\n",
    "  if (verbose) cat(linea)\n",
    "}"
   ]
  },
  {
   "cell_type": "markdown",
   "metadata": {},
   "source": [
    "- Particionar agrega una columna llamada fold a un dataset que consiste en una particion estratificada segun agrupa \n",
    "- particionar( data=dataset, division=c(70,30), agrupa=clase_ternaria, seed=semilla)   crea una particion 70, 30\n",
    "- particionar( data=dataset, division=c(1,1,1,1,1), agrupa=clase_ternaria, seed=semilla)   divide el dataset en 5 particiones\n"
   ]
  },
  {
   "cell_type": "code",
   "execution_count": 8,
   "metadata": {
    "vscode": {
     "languageId": "r"
    }
   },
   "outputs": [],
   "source": [
    "particionar <- function(data, division, agrupa = \"\", campo = \"fold\",\n",
    "                        start = 1, seed = NA) {\n",
    "  if (!is.na(seed)) set.seed(seed)\n",
    "\n",
    "  bloque <- unlist(mapply(\n",
    "    function(x, y) {\n",
    "      rep(y, x)\n",
    "    }, division,\n",
    "    seq(from = start, length.out = length(division))\n",
    "  ))\n",
    "\n",
    "  data[, (campo) := sample(rep(bloque, ceiling(.N / length(bloque))))[1:.N],\n",
    "    by = agrupa\n",
    "  ]\n",
    "}"
   ]
  },
  {
   "cell_type": "code",
   "execution_count": 9,
   "metadata": {
    "vscode": {
     "languageId": "r"
    }
   },
   "outputs": [],
   "source": [
    "# fold_test  tiene el numero de fold que voy a usar para testear,\n",
    "#  entreno en el resto de los folds\n",
    "# param tiene los hiperparametros del arbol\n",
    "\n",
    "ArbolSimple <- function(fold_test, data, param) {\n",
    "  # genero el modelo\n",
    "  # entreno en todo MENOS el fold_test que uso para testing\n",
    "  modelo <- rpart(\"clase_ternaria ~ .\",\n",
    "    data = data[fold != fold_test, ],\n",
    "    xval = 0,\n",
    "    control = param\n",
    "  )\n",
    "\n",
    "  # aplico el modelo a los datos de testing\n",
    "  # aplico el modelo sobre los datos de testing\n",
    "  # quiero que me devuelva probabilidades\n",
    "  prediccion <- predict(modelo,\n",
    "    data[fold == fold_test, ],\n",
    "    type = \"prob\"\n",
    "  )\n",
    "\n",
    "  # esta es la probabilidad de baja\n",
    "  prob_baja2 <- prediccion[, \"BAJA+2\"]\n",
    "\n",
    "  # calculo la ganancia\n",
    "  ganancia_testing <- data[fold == fold_test][\n",
    "    prob_baja2 > 1 / 40,\n",
    "    sum(ifelse(clase_ternaria == \"BAJA+2\",\n",
    "      273000, -7000\n",
    "    ))\n",
    "  ]\n",
    "\n",
    "  # esta es la ganancia sobre el fold de testing, NO esta normalizada\n",
    "  return(ganancia_testing)\n",
    "}"
   ]
  },
  {
   "cell_type": "code",
   "execution_count": 10,
   "metadata": {
    "vscode": {
     "languageId": "r"
    }
   },
   "outputs": [],
   "source": [
    "ArbolesCrossValidation <- function(data, param, qfolds, pagrupa, semilla) {\n",
    "  # generalmente  c(1, 1, 1, 1, 1 )  cinco unos\n",
    "  divi <- rep(1, qfolds)\n",
    "\n",
    "  # particiono en dataset en folds\n",
    "  particionar(data, divi, seed = semilla, agrupa = pagrupa)\n",
    "\n",
    "  ganancias <- mcmapply(ArbolSimple,\n",
    "    seq(qfolds), # 1 2 3 4 5\n",
    "    MoreArgs = list(data, param),\n",
    "    SIMPLIFY = FALSE,\n",
    "    mc.cores = PARAM$cores\n",
    "  )\n",
    "\n",
    "  data[, fold := NULL]\n",
    "\n",
    "  ganancia_xval <- sum(unlist(ganancias))\n",
    "\n",
    "  return(ganancia_xval)\n",
    "}"
   ]
  },
  {
   "cell_type": "code",
   "execution_count": 11,
   "metadata": {
    "vscode": {
     "languageId": "r"
    }
   },
   "outputs": [],
   "source": [
    "# esta funcion solo puede recibir los parametros que se estan optimizando\n",
    "# el resto de los parametros, lamentablemente se pasan como variables globales\n",
    "\n",
    "EstimarGanancia <- function(x) {\n",
    "  GLOBAL_iteracion <<- GLOBAL_iteracion + 1\n",
    "\n",
    "  # param= x los hiperparametros del arbol\n",
    "  # qfolds= PARAM$xval_folds  la cantidad de folds\n",
    "  gans <- c()\n",
    "  for (semilla in PARAM$semilla_azar)\n",
    "  {\n",
    "    ganancia <- ArbolesCrossValidation(dataset,\n",
    "      param = x,\n",
    "      qfolds = PARAM$xval_folds,\n",
    "      pagrupa = \"clase_ternaria\",\n",
    "      semilla = semilla\n",
    "    )\n",
    "\n",
    "    gans <- c(gans, ganancia)\n",
    "  }\n",
    "  # imprimo el vector con las ganancias de xval\n",
    "  # para que se aprecia la variabilidad aun con 5-fold\n",
    "  cat(gans, \"\\n\")\n",
    "\n",
    "  # logueo\n",
    "  xx <- x\n",
    "  xx$xval_repeats <- length(PARAM$semilla_azar)\n",
    "  xx$xval_folds <- PARAM$xval_folds\n",
    "  xx$ganancia <- mean(gans)\n",
    "  xx$iteracion <- GLOBAL_iteracion\n",
    "  loguear(xx, arch = archivo_log)\n",
    "\n",
    "  return(mean(gans))\n",
    "}"
   ]
  },
  {
   "cell_type": "code",
   "execution_count": null,
   "metadata": {
    "vscode": {
     "languageId": "r"
    }
   },
   "outputs": [],
   "source": []
  },
  {
   "cell_type": "markdown",
   "metadata": {},
   "source": [
    "# Step 3: Aqui empieza el programa"
   ]
  },
  {
   "cell_type": "code",
   "execution_count": 12,
   "metadata": {
    "vscode": {
     "languageId": "r"
    }
   },
   "outputs": [],
   "source": [
    "# Establezco el Working Directory inicial\n",
    "setwd(PARAM$home)\n",
    "\n",
    "# cargo los datos\n",
    "dataset <- fread(\"competencia_01.csv\")\n",
    "# entreno en 202103\n",
    "dataset <- dataset[foto_mes == 202103]"
   ]
  },
  {
   "cell_type": "code",
   "execution_count": 13,
   "metadata": {
    "vscode": {
     "languageId": "r"
    }
   },
   "outputs": [],
   "source": [
    "# creo la carpeta donde va el experimento\n",
    "#  HT  representa  Hiperparameter Tuning\n",
    "dir.create(\"./exp/\", showWarnings = FALSE)\n",
    "\n",
    "dir.create(paste0(\"./exp/\", PARAM$experimento, \"/\"),\n",
    "  showWarnings = FALSE\n",
    ")"
   ]
  },
  {
   "cell_type": "code",
   "execution_count": 14,
   "metadata": {
    "vscode": {
     "languageId": "r"
    }
   },
   "outputs": [],
   "source": [
    "# Establezco el Working Directory DEL EXPERIMENTO\n",
    "setwd(paste0(\"./exp/\", PARAM$experimento, \"/\"))"
   ]
  },
  {
   "cell_type": "code",
   "execution_count": 15,
   "metadata": {
    "vscode": {
     "languageId": "r"
    }
   },
   "outputs": [],
   "source": [
    "archivo_log <- \"BO_log.txt\"\n",
    "archivo_BO <- \"bayesiana.RDATA\"\n",
    "\n",
    "# leo si ya existe el log\n",
    "#  para retomar en caso que se se corte el programa\n",
    "GLOBAL_iteracion <- 0\n",
    "\n",
    "if (file.exists(archivo_log)) {\n",
    "  tabla_log <- fread(archivo_log)\n",
    "  GLOBAL_iteracion <- nrow(tabla_log)\n",
    "}"
   ]
  },
  {
   "cell_type": "markdown",
   "metadata": {},
   "source": [
    "# Step 4:\"Aqui comienza la configuracion de la Bayesian Optimization\""
   ]
  },
  {
   "cell_type": "code",
   "execution_count": 16,
   "metadata": {
    "vscode": {
     "languageId": "r"
    }
   },
   "outputs": [],
   "source": [
    "funcion_optimizar <- EstimarGanancia"
   ]
  },
  {
   "cell_type": "code",
   "execution_count": 17,
   "metadata": {
    "vscode": {
     "languageId": "r"
    }
   },
   "outputs": [],
   "source": [
    "configureMlr(show.learner.output = FALSE)"
   ]
  },
  {
   "cell_type": "code",
   "execution_count": 18,
   "metadata": {
    "vscode": {
     "languageId": "r"
    }
   },
   "outputs": [],
   "source": [
    "# configuro la busqueda bayesiana,\n",
    "#  los hiperparametros que se van a optimizar\n",
    "# por favor, no desesperarse por lo complejo\n",
    "# minimize= FALSE estoy Maximizando la ganancia\n",
    "obj.fun <- makeSingleObjectiveFunction(\n",
    "  fn = funcion_optimizar,\n",
    "  minimize = FALSE,\n",
    "  noisy = TRUE,\n",
    "  par.set = PARAM$hs,\n",
    "  has.simple.signature = FALSE\n",
    ")"
   ]
  },
  {
   "cell_type": "code",
   "execution_count": 19,
   "metadata": {
    "vscode": {
     "languageId": "r"
    }
   },
   "outputs": [],
   "source": [
    "ctrl <- makeMBOControl(\n",
    "  save.on.disk.at.time = 600,\n",
    "  save.file.path = archivo_BO\n",
    ")"
   ]
  },
  {
   "cell_type": "code",
   "execution_count": 20,
   "metadata": {
    "vscode": {
     "languageId": "r"
    }
   },
   "outputs": [],
   "source": [
    "ctrl <- setMBOControlTermination(ctrl, iters = PARAM$BO_iter)\n",
    "ctrl <- setMBOControlInfill(ctrl, crit = makeMBOInfillCritEI())\n"
   ]
  },
  {
   "cell_type": "code",
   "execution_count": 21,
   "metadata": {
    "vscode": {
     "languageId": "r"
    }
   },
   "outputs": [],
   "source": [
    "surr.km <- makeLearner(\"regr.km\",\n",
    "  predict.type = \"se\",\n",
    "  covtype = \"matern3_2\", control = list(trace = TRUE)\n",
    ")"
   ]
  },
  {
   "cell_type": "code",
   "execution_count": 22,
   "metadata": {
    "vscode": {
     "languageId": "r"
    }
   },
   "outputs": [
    {
     "name": "stderr",
     "output_type": "stream",
     "text": [
      "Computing y column(s) for design. Not provided.\n",
      "\n"
     ]
    },
    {
     "name": "stdout",
     "output_type": "stream",
     "text": [
      "83132000 81319000 79401000 84945000 82180000 \n",
      "20230831 182058\t-0.344283317326335\t4205\t1581\t7\t5\t5\t82195400\t1\n",
      "75544000 72611000 69783000 70630000 78204000 \n",
      "20230831 182352\t-0.64737258652458\t5680\t1344\t9\t5\t5\t73354400\t2\n",
      "66276000 65786000 66143000 66059000 66997000 \n",
      "20230831 182647\t-0.7357724103902\t7001\t2431\t20\t5\t5\t66252200\t3\n",
      "80325000 75670000 78904000 83979000 81361000 \n",
      "20230831 182946\t-0.261585744156036\t5018\t1824\t19\t5\t5\t80047800\t4\n",
      "68257000 66388000 65093000 65576000 66185000 \n",
      "20230831 183312\t-0.947481995684211\t6994\t645\t14\t5\t5\t66299800\t5\n",
      "69314000 69447000 64617000 68887000 69825000 \n",
      "20230831 183554\t-0.124807943706401\t6344\t156\t8\t5\t5\t68418000\t6\n",
      "84091000 81249000 77189000 86765000 81088000 \n",
      "20230831 183916\t-0.919052337198518\t3003\t1444\t13\t5\t5\t82076400\t7\n",
      "80262000 74445000 72408000 76328000 81774000 \n",
      "20230831 184255\t-0.251723386484664\t5373\t347\t13\t5\t5\t77043400\t8\n",
      "67137000 68516000 67788000 70245000 71421000 \n",
      "20230831 184544\t-0.576212055496871\t6435\t3129\t11\t5\t5\t69021400\t9\n",
      "65611000 64701000 64127000 65401000 66465000 \n",
      "20230831 184934\t-0.442699168061372\t7856\t444\t18\t5\t5\t65261000\t10\n",
      "69328000 68159000 66185000 68894000 69440000 \n",
      "20230831 185217\t-0.69492525260197\t6221\t1188\t7\t5\t5\t68401200\t11\n",
      "65758000 63182000 65856000 66059000 66997000 \n",
      "20230831 185408\t-0.529419937413186\t7490\t1739\t4\t5\t5\t65570400\t12\n",
      "83293000 79625000 79884000 83195000 85288000 \n",
      "20230831 185754\t-0.619694249504246\t4689\t777\t15\t5\t5\t82257000\t13\n",
      "0 0 0 0 0 \n",
      "20230831 190000\t0.0310109451723597\t2911\t608\t14\t5\t5\t0\t14\n",
      "69475000 69111000 69601000 73024000 73262000 \n",
      "20230831 190300\t-0.880538048245944\t5963\t2241\t10\t5\t5\t70894600\t15\n",
      "0 0 0 0 0 \n",
      "20230831 190448\t0.0468806413700804\t3247\t307\t19\t5\t5\t0\t16\n"
     ]
    },
    {
     "name": "stderr",
     "output_type": "stream",
     "text": [
      "[mbo] 0: cp=-0.344; minsplit=4205; minbucket=1581; maxdepth=7 : y = 8.22e+07 : 154.8 secs : initdesign\n",
      "\n",
      "[mbo] 0: cp=-0.647; minsplit=5680; minbucket=1344; maxdepth=9 : y = 7.34e+07 : 174.2 secs : initdesign\n",
      "\n",
      "[mbo] 0: cp=-0.736; minsplit=7001; minbucket=2431; maxdepth=20 : y = 6.63e+07 : 174.4 secs : initdesign\n",
      "\n",
      "[mbo] 0: cp=-0.262; minsplit=5018; minbucket=1824; maxdepth=19 : y = 8e+07 : 179.2 secs : initdesign\n",
      "\n",
      "[mbo] 0: cp=-0.947; minsplit=6994; minbucket=645; maxdepth=14 : y = 6.63e+07 : 205.7 secs : initdesign\n",
      "\n",
      "[mbo] 0: cp=-0.125; minsplit=6344; minbucket=156; maxdepth=8 : y = 6.84e+07 : 162.8 secs : initdesign\n",
      "\n",
      "[mbo] 0: cp=-0.919; minsplit=3003; minbucket=1444; maxdepth=13 : y = 8.21e+07 : 201.9 secs : initdesign\n",
      "\n",
      "[mbo] 0: cp=-0.252; minsplit=5373; minbucket=347; maxdepth=13 : y = 7.7e+07 : 218.9 secs : initdesign\n",
      "\n",
      "[mbo] 0: cp=-0.576; minsplit=6435; minbucket=3129; maxdepth=11 : y = 6.9e+07 : 168.6 secs : initdesign\n",
      "\n",
      "[mbo] 0: cp=-0.443; minsplit=7856; minbucket=444; maxdepth=18 : y = 6.53e+07 : 230.1 secs : initdesign\n",
      "\n",
      "[mbo] 0: cp=-0.695; minsplit=6221; minbucket=1188; maxdepth=7 : y = 6.84e+07 : 162.8 secs : initdesign\n",
      "\n",
      "[mbo] 0: cp=-0.529; minsplit=7490; minbucket=1739; maxdepth=4 : y = 6.56e+07 : 111.8 secs : initdesign\n",
      "\n",
      "[mbo] 0: cp=-0.62; minsplit=4689; minbucket=777; maxdepth=15 : y = 8.23e+07 : 225.9 secs : initdesign\n",
      "\n",
      "[mbo] 0: cp=0.031; minsplit=2911; minbucket=608; maxdepth=14 : y = 0 : 125.8 secs : initdesign\n",
      "\n",
      "[mbo] 0: cp=-0.881; minsplit=5963; minbucket=2241; maxdepth=10 : y = 7.09e+07 : 180.0 secs : initdesign\n",
      "\n",
      "[mbo] 0: cp=0.0469; minsplit=3247; minbucket=307; maxdepth=19 : y = 0 : 107.6 secs : initdesign\n",
      "\n",
      "Saved the current state after iteration 1 in the file bayesiana.RDATA.\n",
      "\n"
     ]
    },
    {
     "name": "stdout",
     "output_type": "stream",
     "text": [
      "84980000 85302000 81277000 88004000 81963000 \n",
      "20230831 190824\t-0.619608285214973\t2044\t1020\t19\t5\t5\t84305200\t17\n"
     ]
    },
    {
     "name": "stderr",
     "output_type": "stream",
     "text": [
      "[mbo] 1: cp=-0.62; minsplit=2044; minbucket=1020; maxdepth=19 : y = 8.43e+07 : 213.6 secs : infill_ei\n",
      "\n"
     ]
    },
    {
     "name": "stdout",
     "output_type": "stream",
     "text": [
      "96222000 88683000 93184000 88361000 90223000 \n",
      "20230831 191218\t-0.817632089691551\t1401\t699\t18\t5\t5\t91334600\t18\n"
     ]
    },
    {
     "name": "stderr",
     "output_type": "stream",
     "text": [
      "[mbo] 2: cp=-0.818; minsplit=1401; minbucket=699; maxdepth=18 : y = 9.13e+07 : 230.9 secs : infill_ei\n",
      "\n"
     ]
    },
    {
     "name": "stdout",
     "output_type": "stream",
     "text": [
      "60704000 69111000 67389000 58800000 66087000 \n",
      "20230831 191726\t-0.769805322590918\t8\t2\t14\t5\t5\t64418200\t19\n"
     ]
    },
    {
     "name": "stderr",
     "output_type": "stream",
     "text": [
      "[mbo] 3: cp=-0.77; minsplit=8; minbucket=2; maxdepth=14 : y = 6.44e+07 : 305.5 secs : infill_ei\n",
      "\n",
      "Saved the current state after iteration 4 in the file bayesiana.RDATA.\n",
      "\n"
     ]
    },
    {
     "name": "stdout",
     "output_type": "stream",
     "text": [
      "83930000 82810000 78988000 85148000 82180000 \n",
      "20230831 192057\t-0.840964559444837\t2237\t1113\t20\t5\t5\t82611200\t20\n"
     ]
    },
    {
     "name": "stderr",
     "output_type": "stream",
     "text": [
      "[mbo] 4: cp=-0.841; minsplit=2237; minbucket=1113; maxdepth=20 : y = 8.26e+07 : 209.4 secs : infill_ei\n",
      "\n"
     ]
    },
    {
     "name": "stdout",
     "output_type": "stream",
     "text": [
      "82229000 82173000 86107000 82404000 88074000 \n",
      "20230831 192251\t-0.821379556250754\t1541\t760\t4\t5\t5\t84197400\t21\n"
     ]
    },
    {
     "name": "stderr",
     "output_type": "stream",
     "text": [
      "[mbo] 5: cp=-0.821; minsplit=1541; minbucket=760; maxdepth=4 : y = 8.42e+07 : 112.1 secs : infill_ei\n",
      "\n"
     ]
    },
    {
     "name": "stdout",
     "output_type": "stream",
     "text": [
      "81956000 76979000 80423000 82691000 84784000 \n",
      "20230831 192635\t-0.813775873574979\t4991\t550\t19\t5\t5\t81366600\t22\n"
     ]
    },
    {
     "name": "stderr",
     "output_type": "stream",
     "text": [
      "[mbo] 6: cp=-0.814; minsplit=4991; minbucket=550; maxdepth=19 : y = 8.14e+07 : 222.4 secs : infill_ei\n",
      "\n"
     ]
    },
    {
     "name": "stdout",
     "output_type": "stream",
     "text": [
      "94374000 92155000 92225000 94969000 93310000 \n",
      "20230831 193103\t-0.888932154719851\t491\t243\t15\t5\t5\t93406600\t23\n"
     ]
    },
    {
     "name": "stderr",
     "output_type": "stream",
     "text": [
      "[mbo] 7: cp=-0.889; minsplit=491; minbucket=243; maxdepth=15 : y = 9.34e+07 : 265.6 secs : infill_ei\n",
      "\n",
      "Saved the current state after iteration 8 in the file bayesiana.RDATA.\n",
      "\n"
     ]
    },
    {
     "name": "stdout",
     "output_type": "stream",
     "text": [
      "77721000 77259000 78449000 78148000 78470000 \n",
      "20230831 193237\t-0.907778598707109\t484\t241\t3\t5\t5\t78009400\t24\n"
     ]
    },
    {
     "name": "stderr",
     "output_type": "stream",
     "text": [
      "[mbo] 8: cp=-0.908; minsplit=484; minbucket=241; maxdepth=3 : y = 7.8e+07 : 91.6 secs : infill_ei\n",
      "\n"
     ]
    },
    {
     "name": "stdout",
     "output_type": "stream",
     "text": [
      "95032000 94059000 93373000 96348000 95606000 \n",
      "20230831 193653\t-0.885303041429075\t862\t430\t20\t5\t5\t94883600\t25\n"
     ]
    },
    {
     "name": "stderr",
     "output_type": "stream",
     "text": [
      "[mbo] 9: cp=-0.885; minsplit=862; minbucket=430; maxdepth=20 : y = 9.49e+07 : 253.9 secs : infill_ei\n",
      "\n"
     ]
    },
    {
     "name": "stdout",
     "output_type": "stream",
     "text": [
      "65961000 64701000 67158000 66577000 67760000 \n",
      "20230831 193827\t-0.302639591042619\t7511\t3176\t3\t5\t5\t66431400\t26\n"
     ]
    },
    {
     "name": "stderr",
     "output_type": "stream",
     "text": [
      "[mbo] 10: cp=-0.303; minsplit=7511; minbucket=3176; maxdepth=3 : y = 6.64e+07 : 92.8 secs : infill_ei\n",
      "\n"
     ]
    },
    {
     "name": "stdout",
     "output_type": "stream",
     "text": [
      "51002000 50946000 56539000 54033000 53662000 \n",
      "20230831 194447\t-0.868352676950568\t23\t9\t20\t5\t5\t53236400\t27\n"
     ]
    },
    {
     "name": "stderr",
     "output_type": "stream",
     "text": [
      "[mbo] 11: cp=-0.868; minsplit=23; minbucket=9; maxdepth=20 : y = 5.32e+07 : 377.1 secs : infill_ei\n",
      "\n",
      "Saved the current state after iteration 12 in the file bayesiana.RDATA.\n",
      "\n"
     ]
    },
    {
     "name": "stdout",
     "output_type": "stream",
     "text": [
      "94073000 95291000 93688000 96348000 94493000 \n",
      "20230831 194849\t-0.8559238823372\t853\t418\t14\t5\t5\t94778600\t28\n"
     ]
    },
    {
     "name": "stderr",
     "output_type": "stream",
     "text": [
      "[mbo] 12: cp=-0.856; minsplit=853; minbucket=418; maxdepth=14 : y = 9.48e+07 : 240.2 secs : infill_ei\n",
      "\n"
     ]
    },
    {
     "name": "stdout",
     "output_type": "stream",
     "text": [
      "90643000 93429000 97174000 99827000 96026000 \n",
      "20230831 195314\t-0.663385896584508\t645\t312\t16\t5\t5\t95419800\t29\n"
     ]
    },
    {
     "name": "stderr",
     "output_type": "stream",
     "text": [
      "[mbo] 13: cp=-0.663; minsplit=645; minbucket=312; maxdepth=16 : y = 9.54e+07 : 262.7 secs : infill_ei\n",
      "\n"
     ]
    },
    {
     "name": "stdout",
     "output_type": "stream",
     "text": [
      "81473000 81368000 80430000 86142000 82474000 \n",
      "20230831 195536\t-0.949749254519894\t4125\t2062\t6\t5\t5\t82377400\t30\n"
     ]
    },
    {
     "name": "stderr",
     "output_type": "stream",
     "text": [
      "[mbo] 14: cp=-0.95; minsplit=4125; minbucket=2062; maxdepth=6 : y = 8.24e+07 : 139.6 secs : infill_ei\n",
      "\n",
      "Saved the current state after iteration 15 in the file bayesiana.RDATA.\n",
      "\n"
     ]
    },
    {
     "name": "stdout",
     "output_type": "stream",
     "text": [
      "92848000 92547000 95795000 100219000 95522000 \n",
      "20230831 195950\t-0.999317499647523\t710\t340\t16\t5\t5\t95386200\t31\n"
     ]
    },
    {
     "name": "stderr",
     "output_type": "stream",
     "text": [
      "[mbo] 15: cp=-0.999; minsplit=710; minbucket=340; maxdepth=16 : y = 9.54e+07 : 251.4 secs : infill_ei\n",
      "\n"
     ]
    },
    {
     "name": "stdout",
     "output_type": "stream",
     "text": [
      "91938000 93310000 96516000 100121000 95522000 \n",
      "20230831 200408\t-0.795280222672563\t698\t341\t16\t5\t5\t95481400\t32\n"
     ]
    },
    {
     "name": "stderr",
     "output_type": "stream",
     "text": [
      "[mbo] 16: cp=-0.795; minsplit=698; minbucket=341; maxdepth=16 : y = 9.55e+07 : 255.8 secs : infill_ei\n",
      "\n"
     ]
    },
    {
     "name": "stdout",
     "output_type": "stream",
     "text": [
      "86905000 82446000 85995000 88522000 81599000 \n",
      "20230831 200742\t-0.998988860794396\t1846\t922\t13\t5\t5\t85093400\t33\n"
     ]
    },
    {
     "name": "stderr",
     "output_type": "stream",
     "text": [
      "[mbo] 17: cp=-0.999; minsplit=1846; minbucket=922; maxdepth=13 : y = 8.51e+07 : 212.4 secs : infill_ei\n",
      "\n",
      "Saved the current state after iteration 18 in the file bayesiana.RDATA.\n",
      "\n"
     ]
    },
    {
     "name": "stdout",
     "output_type": "stream",
     "text": [
      "91861000 86352000 90650000 88263000 93093000 \n",
      "20230831 201312\t-0.680053504153104\t1054\t2\t17\t5\t5\t90043800\t34\n"
     ]
    },
    {
     "name": "stderr",
     "output_type": "stream",
     "text": [
      "[mbo] 18: cp=-0.68; minsplit=1054; minbucket=2; maxdepth=17 : y = 9e+07 : 327.9 secs : infill_ei\n",
      "\n"
     ]
    },
    {
     "name": "stdout",
     "output_type": "stream",
     "text": [
      "72380000 69601000 72646000 74235000 76076000 \n",
      "20230831 201449\t-0.437728817000677\t4793\t2396\t3\t5\t5\t72987600\t35\n"
     ]
    },
    {
     "name": "stderr",
     "output_type": "stream",
     "text": [
      "[mbo] 19: cp=-0.438; minsplit=4793; minbucket=2396; maxdepth=3 : y = 7.3e+07 : 94.2 secs : infill_ei\n",
      "\n"
     ]
    },
    {
     "name": "stdout",
     "output_type": "stream",
     "text": [
      "81473000 81186000 80969000 86142000 82474000 \n",
      "20230831 201749\t-0.754829460887975\t4176\t2086\t20\t5\t5\t82448800\t36\n"
     ]
    },
    {
     "name": "stderr",
     "output_type": "stream",
     "text": [
      "[mbo] 20: cp=-0.755; minsplit=4176; minbucket=2086; maxdepth=20 : y = 8.24e+07 : 177.6 secs : infill_ei\n",
      "\n",
      "Saved the current state after iteration 21 in the file bayesiana.RDATA.\n",
      "\n"
     ]
    },
    {
     "name": "stdout",
     "output_type": "stream",
     "text": [
      "90748000 93604000 96383000 96838000 95123000 \n",
      "20230831 202159\t-0.365531969745176\t572\t285\t14\t5\t5\t94539200\t37\n"
     ]
    },
    {
     "name": "stderr",
     "output_type": "stream",
     "text": [
      "[mbo] 21: cp=-0.366; minsplit=572; minbucket=285; maxdepth=14 : y = 9.45e+07 : 247.6 secs : infill_ei\n",
      "\n"
     ]
    },
    {
     "name": "stdout",
     "output_type": "stream",
     "text": [
      "0 0 0 0 0 \n",
      "20230831 202330\t0.0992767939381923\t483\t239\t14\t5\t5\t0\t38\n"
     ]
    },
    {
     "name": "stderr",
     "output_type": "stream",
     "text": [
      "[mbo] 22: cp=0.0993; minsplit=483; minbucket=239; maxdepth=14 : y = 0 : 89.1 secs : infill_ei\n",
      "\n"
     ]
    },
    {
     "name": "stdout",
     "output_type": "stream",
     "text": [
      "86100000 90111000 87955000 89677000 92638000 \n",
      "20230831 202804\t-0.504138341768511\t2345\t73\t15\t5\t5\t89296200\t39\n"
     ]
    },
    {
     "name": "stderr",
     "output_type": "stream",
     "text": [
      "[mbo] 23: cp=-0.504; minsplit=2345; minbucket=73; maxdepth=15 : y = 8.93e+07 : 271.8 secs : infill_ei\n",
      "\n",
      "Saved the current state after iteration 24 in the file bayesiana.RDATA.\n",
      "\n"
     ]
    },
    {
     "name": "stdout",
     "output_type": "stream",
     "text": [
      "90790000 93261000 96740000 99001000 97097000 \n",
      "20230831 203212\t-0.483208628890826\t639\t318\t13\t5\t5\t95377800\t40\n"
     ]
    },
    {
     "name": "stderr",
     "output_type": "stream",
     "text": [
      "[mbo] 24: cp=-0.483; minsplit=639; minbucket=318; maxdepth=13 : y = 9.54e+07 : 246.3 secs : infill_ei\n",
      "\n"
     ]
    },
    {
     "name": "stdout",
     "output_type": "stream",
     "text": [
      "94486000 95529000 94941000 98707000 95641000 \n",
      "20230831 203702\t-0.91607604473137\t890\t434\t16\t5\t5\t95860800\t41\n"
     ]
    },
    {
     "name": "stderr",
     "output_type": "stream",
     "text": [
      "[mbo] 25: cp=-0.916; minsplit=890; minbucket=434; maxdepth=16 : y = 9.59e+07 : 287.7 secs : infill_ei\n",
      "\n"
     ]
    },
    {
     "name": "stdout",
     "output_type": "stream",
     "text": [
      "81529000 81641000 80857000 82691000 85078000 \n",
      "20230831 203911\t-0.733520623287393\t3609\t1\t5\t5\t5\t82359200\t42\n"
     ]
    },
    {
     "name": "stderr",
     "output_type": "stream",
     "text": [
      "[mbo] 26: cp=-0.734; minsplit=3609; minbucket=1; maxdepth=5 : y = 8.24e+07 : 127.1 secs : infill_ei\n",
      "\n",
      "Saved the current state after iteration 27 in the file bayesiana.RDATA.\n",
      "\n"
     ]
    },
    {
     "name": "stdout",
     "output_type": "stream",
     "text": [
      "84973000 80080000 83601000 84721000 83902000 \n",
      "20230831 204412\t-0.999545453353673\t3623\t236\t20\t5\t5\t83455400\t43\n"
     ]
    },
    {
     "name": "stderr",
     "output_type": "stream",
     "text": [
      "[mbo] 27: cp=-1; minsplit=3623; minbucket=236; maxdepth=20 : y = 8.35e+07 : 299.0 secs : infill_ei\n",
      "\n"
     ]
    },
    {
     "name": "stdout",
     "output_type": "stream",
     "text": [
      "95305000 93961000 95543000 98308000 98154000 \n",
      "20230831 204857\t-0.444768892425861\t748\t288\t15\t5\t5\t96254200\t44\n"
     ]
    },
    {
     "name": "stderr",
     "output_type": "stream",
     "text": [
      "[mbo] 28: cp=-0.445; minsplit=748; minbucket=288; maxdepth=15 : y = 9.63e+07 : 282.3 secs : infill_ei\n",
      "\n"
     ]
    },
    {
     "name": "stdout",
     "output_type": "stream",
     "text": [
      "95578000 92652000 92344000 94402000 93415000 \n",
      "20230831 205139\t-0.402074502517984\t1682\t171\t6\t5\t5\t93678200\t45\n"
     ]
    },
    {
     "name": "stderr",
     "output_type": "stream",
     "text": [
      "[mbo] 29: cp=-0.402; minsplit=1682; minbucket=171; maxdepth=6 : y = 9.37e+07 : 159.8 secs : infill_ei\n",
      "\n",
      "Saved the current state after iteration 30 in the file bayesiana.RDATA.\n",
      "\n"
     ]
    },
    {
     "name": "stdout",
     "output_type": "stream",
     "text": [
      "67592000 67193000 68439000 69398000 71911000 \n",
      "20230831 205428\t-0.196325505343564\t7999\t3997\t20\t5\t5\t68906600\t46\n"
     ]
    },
    {
     "name": "stderr",
     "output_type": "stream",
     "text": [
      "[mbo] 30: cp=-0.196; minsplit=7999; minbucket=3997; maxdepth=20 : y = 6.89e+07 : 167.1 secs : infill_ei\n",
      "\n"
     ]
    },
    {
     "name": "stdout",
     "output_type": "stream",
     "text": [
      "95508000 91112000 96019000 93184000 95494000 \n",
      "20230831 205925\t-0.722275319372701\t1517\t229\t14\t5\t5\t94263400\t47\n"
     ]
    },
    {
     "name": "stderr",
     "output_type": "stream",
     "text": [
      "[mbo] 31: cp=-0.722; minsplit=1517; minbucket=229; maxdepth=14 : y = 9.43e+07 : 295.0 secs : infill_ei\n",
      "\n"
     ]
    },
    {
     "name": "stdout",
     "output_type": "stream",
     "text": [
      "95263000 87003000 93646000 92946000 93807000 \n",
      "20230831 210500\t-0.427550987110249\t1559\t113\t14\t5\t5\t92533000\t48\n"
     ]
    },
    {
     "name": "stderr",
     "output_type": "stream",
     "text": [
      "[mbo] 32: cp=-0.428; minsplit=1559; minbucket=113; maxdepth=14 : y = 9.25e+07 : 332.1 secs : infill_ei\n",
      "\n",
      "Saved the current state after iteration 33 in the file bayesiana.RDATA.\n",
      "\n"
     ]
    },
    {
     "name": "stdout",
     "output_type": "stream",
     "text": [
      "95060000 97279000 96124000 97111000 97048000 \n",
      "20230831 210906\t-0.405442039704303\t611\t304\t8\t5\t5\t96524400\t49\n"
     ]
    },
    {
     "name": "stderr",
     "output_type": "stream",
     "text": [
      "[mbo] 33: cp=-0.405; minsplit=611; minbucket=304; maxdepth=8 : y = 9.65e+07 : 243.4 secs : infill_ei\n",
      "\n"
     ]
    },
    {
     "name": "stdout",
     "output_type": "stream",
     "text": [
      "67592000 67193000 68432000 69398000 71904000 \n",
      "20230831 211226\t-0.999686588278377\t8000\t3999\t7\t5\t5\t68903800\t50\n"
     ]
    },
    {
     "name": "stderr",
     "output_type": "stream",
     "text": [
      "[mbo] 34: cp=-1; minsplit=8000; minbucket=3999; maxdepth=7 : y = 6.89e+07 : 197.4 secs : infill_ei\n",
      "\n"
     ]
    },
    {
     "name": "stdout",
     "output_type": "stream",
     "text": [
      "93989000 89922000 95634000 94108000 90678000 \n",
      "20230831 211621\t-0.596880904541596\t1819\t240\t8\t5\t5\t92866200\t51\n"
     ]
    },
    {
     "name": "stderr",
     "output_type": "stream",
     "text": [
      "[mbo] 35: cp=-0.597; minsplit=1819; minbucket=240; maxdepth=8 : y = 9.29e+07 : 232.3 secs : infill_ei\n",
      "\n",
      "Saved the current state after iteration 36 in the file bayesiana.RDATA.\n",
      "\n"
     ]
    },
    {
     "name": "stdout",
     "output_type": "stream",
     "text": [
      "77721000 77259000 78449000 78148000 78470000 \n",
      "20230831 211823\t-0.38500787412115\t603\t292\t3\t5\t5\t78009400\t52\n"
     ]
    },
    {
     "name": "stderr",
     "output_type": "stream",
     "text": [
      "[mbo] 36: cp=-0.385; minsplit=603; minbucket=292; maxdepth=3 : y = 7.8e+07 : 118.9 secs : infill_ei\n",
      "\n"
     ]
    },
    {
     "name": "stdout",
     "output_type": "stream",
     "text": [
      "89866000 87150000 88963000 92085000 91994000 \n",
      "20230831 212154\t-0.999638849726066\t2576\t203\t7\t5\t5\t90011600\t53\n"
     ]
    },
    {
     "name": "stderr",
     "output_type": "stream",
     "text": [
      "[mbo] 37: cp=-1; minsplit=2576; minbucket=203; maxdepth=7 : y = 9e+07 : 208.8 secs : infill_ei\n",
      "\n"
     ]
    },
    {
     "name": "stdout",
     "output_type": "stream",
     "text": [
      "94353000 91112000 94234000 99680000 96306000 \n",
      "20230831 212600\t-0.926822935774146\t666\t330\t10\t5\t5\t95137000\t54\n"
     ]
    },
    {
     "name": "stderr",
     "output_type": "stream",
     "text": [
      "[mbo] 38: cp=-0.927; minsplit=666; minbucket=330; maxdepth=10 : y = 9.51e+07 : 242.5 secs : infill_ei\n",
      "\n"
     ]
    },
    {
     "name": "stdout",
     "output_type": "stream",
     "text": [
      "81025000 75831000 73199000 75677000 78974000 \n",
      "20230831 212903\t-0.999932579901546\t5268\t2632\t20\t5\t5\t76941200\t55\n"
     ]
    },
    {
     "name": "stderr",
     "output_type": "stream",
     "text": [
      "[mbo] 39: cp=-1; minsplit=5268; minbucket=2632; maxdepth=20 : y = 7.69e+07 : 181.4 secs : infill_ei\n",
      "\n",
      "Saved the current state after iteration 40 in the file bayesiana.RDATA.\n",
      "\n"
     ]
    },
    {
     "name": "stdout",
     "output_type": "stream",
     "text": [
      "73990000 68054000 67704000 70294000 69769000 \n",
      "20230831 213535\t-0.400236282534072\t5791\t1\t20\t5\t5\t69962200\t56\n"
     ]
    },
    {
     "name": "stderr",
     "output_type": "stream",
     "text": [
      "[mbo] 40: cp=-0.4; minsplit=5791; minbucket=1; maxdepth=20 : y = 7e+07 : 389.0 secs : infill_ei\n",
      "\n"
     ]
    },
    {
     "name": "stdout",
     "output_type": "stream",
     "text": [
      "93429000 94696000 96103000 98861000 97524000 \n",
      "20230831 214016\t-0.411808226214254\t642\t288\t10\t5\t5\t96122600\t57\n"
     ]
    },
    {
     "name": "stderr",
     "output_type": "stream",
     "text": [
      "[mbo] 41: cp=-0.412; minsplit=642; minbucket=288; maxdepth=10 : y = 9.61e+07 : 277.2 secs : infill_ei\n",
      "\n",
      "Saved the current state after iteration 42 in the file bayesiana.RDATA.\n",
      "\n"
     ]
    },
    {
     "name": "stdout",
     "output_type": "stream",
     "text": [
      "93849000 92540000 95508000 97839000 95410000 \n",
      "20230831 214441\t-0.413376098517344\t786\t386\t20\t5\t5\t95029200\t58\n"
     ]
    },
    {
     "name": "stderr",
     "output_type": "stream",
     "text": [
      "[mbo] 42: cp=-0.413; minsplit=786; minbucket=386; maxdepth=20 : y = 9.5e+07 : 262.4 secs : infill_ei\n",
      "\n"
     ]
    },
    {
     "name": "stdout",
     "output_type": "stream",
     "text": [
      "94143000 94178000 97244000 94836000 95144000 \n",
      "20230831 214902\t-0.940255224912735\t1524\t311\t20\t5\t5\t95109000\t59\n"
     ]
    },
    {
     "name": "stderr",
     "output_type": "stream",
     "text": [
      "[mbo] 43: cp=-0.94; minsplit=1524; minbucket=311; maxdepth=20 : y = 9.51e+07 : 260.0 secs : infill_ei\n",
      "\n"
     ]
    },
    {
     "name": "stdout",
     "output_type": "stream",
     "text": [
      "93751000 88879000 91245000 89649000 88872000 \n",
      "20230831 215201\t-0.425851728778367\t1521\t758\t8\t5\t5\t90479200\t60\n"
     ]
    },
    {
     "name": "stderr",
     "output_type": "stream",
     "text": [
      "[mbo] 44: cp=-0.426; minsplit=1521; minbucket=758; maxdepth=8 : y = 9.05e+07 : 176.0 secs : infill_ei\n",
      "\n",
      "Saved the current state after iteration 45 in the file bayesiana.RDATA.\n",
      "\n"
     ]
    },
    {
     "name": "stdout",
     "output_type": "stream",
     "text": [
      "94675000 93387000 94059000 95746000 95298000 \n",
      "20230831 215503\t-0.90954057401738\t1507\t217\t8\t5\t5\t94633000\t61\n"
     ]
    },
    {
     "name": "stderr",
     "output_type": "stream",
     "text": [
      "[mbo] 45: cp=-0.91; minsplit=1507; minbucket=217; maxdepth=8 : y = 9.46e+07 : 180.3 secs : infill_ei\n",
      "\n"
     ]
    },
    {
     "name": "stdout",
     "output_type": "stream",
     "text": [
      "94542000 91147000 93842000 94388000 92344000 \n",
      "20230831 215740\t-0.423236390148455\t2141\t2\t7\t5\t5\t93252600\t62\n"
     ]
    },
    {
     "name": "stderr",
     "output_type": "stream",
     "text": [
      "[mbo] 46: cp=-0.423; minsplit=2141; minbucket=2; maxdepth=7 : y = 9.33e+07 : 155.0 secs : infill_ei\n",
      "\n"
     ]
    },
    {
     "name": "stdout",
     "output_type": "stream",
     "text": [
      "63602000 60431000 64596000 66661000 62825000 \n",
      "20230831 215909\t-0.273240252539767\t7999\t1\t3\t5\t5\t63623000\t63\n"
     ]
    },
    {
     "name": "stderr",
     "output_type": "stream",
     "text": [
      "[mbo] 47: cp=-0.273; minsplit=7999; minbucket=1; maxdepth=3 : y = 6.36e+07 : 87.8 secs : infill_ei\n",
      "\n"
     ]
    },
    {
     "name": "stdout",
     "output_type": "stream",
     "text": [
      "94031000 94493000 95697000 95578000 94031000 \n",
      "20230831 220322\t-0.713446787771535\t1291\t353\t20\t5\t5\t94766000\t64\n"
     ]
    },
    {
     "name": "stderr",
     "output_type": "stream",
     "text": [
      "[mbo] 48: cp=-0.713; minsplit=1291; minbucket=353; maxdepth=20 : y = 9.48e+07 : 251.3 secs : infill_ei\n",
      "\n",
      "Saved the current state after iteration 49 in the file bayesiana.RDATA.\n",
      "\n"
     ]
    },
    {
     "name": "stdout",
     "output_type": "stream",
     "text": [
      "82103000 80647000 80269000 81970000 86737000 \n",
      "20230831 220553\t-0.999763716868554\t4738\t4\t7\t5\t5\t82345200\t65\n"
     ]
    },
    {
     "name": "stderr",
     "output_type": "stream",
     "text": [
      "[mbo] 49: cp=-1; minsplit=4738; minbucket=4; maxdepth=7 : y = 8.23e+07 : 148.8 secs : infill_ei\n",
      "\n"
     ]
    },
    {
     "name": "stdout",
     "output_type": "stream",
     "text": [
      "0 0 0 0 0 \n",
      "20230831 220721\t0.0988295483149103\t8000\t2128\t11\t5\t5\t0\t66\n"
     ]
    },
    {
     "name": "stderr",
     "output_type": "stream",
     "text": [
      "[mbo] 50: cp=0.0988; minsplit=8000; minbucket=2128; maxdepth=11 : y = 0 : 86.6 secs : infill_ei\n",
      "\n"
     ]
    },
    {
     "name": "stdout",
     "output_type": "stream",
     "text": [
      "81669000 79128000 80801000 82586000 84931000 \n",
      "20230831 220955\t-0.377099251342906\t4929\t180\t7\t5\t5\t81823000\t67\n"
     ]
    },
    {
     "name": "stderr",
     "output_type": "stream",
     "text": [
      "[mbo] 51: cp=-0.377; minsplit=4929; minbucket=180; maxdepth=7 : y = 8.18e+07 : 152.2 secs : infill_ei\n",
      "\n"
     ]
    },
    {
     "name": "stdout",
     "output_type": "stream",
     "text": [
      "97496000 98707000 95914000 96852000 98147000 \n",
      "20230831 221258\t-0.726390805643545\t646\t280\t8\t5\t5\t97423200\t68\n"
     ]
    },
    {
     "name": "stderr",
     "output_type": "stream",
     "text": [
      "[mbo] 52: cp=-0.726; minsplit=646; minbucket=280; maxdepth=8 : y = 9.74e+07 : 180.6 secs : infill_ei\n",
      "\n"
     ]
    },
    {
     "name": "stdout",
     "output_type": "stream",
     "text": [
      "93191000 93730000 95501000 100548000 96173000 \n",
      "20230831 221615\t-0.734653433970202\t625\t312\t9\t5\t5\t95828600\t69\n"
     ]
    },
    {
     "name": "stderr",
     "output_type": "stream",
     "text": [
      "[mbo] 53: cp=-0.735; minsplit=625; minbucket=312; maxdepth=9 : y = 9.58e+07 : 194.3 secs : infill_ei\n",
      "\n",
      "Saved the current state after iteration 54 in the file bayesiana.RDATA.\n",
      "\n"
     ]
    },
    {
     "name": "stdout",
     "output_type": "stream",
     "text": [
      "97685000 97482000 94458000 98371000 98721000 \n",
      "20230831 221858\t-0.70838130950406\t700\t258\t7\t5\t5\t97343400\t70\n"
     ]
    },
    {
     "name": "stderr",
     "output_type": "stream",
     "text": [
      "[mbo] 54: cp=-0.708; minsplit=700; minbucket=258; maxdepth=7 : y = 9.73e+07 : 160.4 secs : infill_ei\n",
      "\n"
     ]
    },
    {
     "name": "stdout",
     "output_type": "stream",
     "text": [
      "67592000 67193000 68439000 69398000 71904000 \n",
      "20230831 222136\t-0.927230631894749\t7998\t3998\t20\t5\t5\t68905200\t71\n"
     ]
    },
    {
     "name": "stderr",
     "output_type": "stream",
     "text": [
      "[mbo] 55: cp=-0.927; minsplit=7998; minbucket=3998; maxdepth=20 : y = 6.89e+07 : 155.6 secs : infill_ei\n",
      "\n"
     ]
    },
    {
     "name": "stdout",
     "output_type": "stream",
     "text": [
      "98679000 92988000 94976000 97181000 96831000 \n",
      "20230831 222438\t-0.704924202037799\t688\t234\t8\t5\t5\t96131000\t72\n"
     ]
    },
    {
     "name": "stderr",
     "output_type": "stream",
     "text": [
      "[mbo] 56: cp=-0.705; minsplit=688; minbucket=234; maxdepth=8 : y = 9.61e+07 : 180.9 secs : infill_ei\n",
      "\n"
     ]
    },
    {
     "name": "stdout",
     "output_type": "stream",
     "text": [
      "98511000 97209000 96026000 99029000 97426000 \n",
      "20230831 222733\t-0.741988308706041\t640\t320\t7\t5\t5\t97640200\t73\n"
     ]
    },
    {
     "name": "stderr",
     "output_type": "stream",
     "text": [
      "[mbo] 57: cp=-0.742; minsplit=640; minbucket=320; maxdepth=7 : y = 9.76e+07 : 171.5 secs : infill_ei\n",
      "\n",
      "Saved the current state after iteration 58 in the file bayesiana.RDATA.\n",
      "\n"
     ]
    },
    {
     "name": "stdout",
     "output_type": "stream",
     "text": [
      "73647000 74830000 71085000 72758000 75817000 \n",
      "20230831 223015\t-0.371024195080072\t5624\t2812\t20\t5\t5\t73627400\t74\n"
     ]
    },
    {
     "name": "stderr",
     "output_type": "stream",
     "text": [
      "[mbo] 58: cp=-0.371; minsplit=5624; minbucket=2812; maxdepth=20 : y = 7.36e+07 : 159.8 secs : infill_ei\n",
      "\n"
     ]
    },
    {
     "name": "stdout",
     "output_type": "stream",
     "text": [
      "95935000 93695000 93401000 95746000 91700000 \n",
      "20230831 223325\t-0.723627167381588\t1701\t271\t7\t5\t5\t94095400\t75\n"
     ]
    },
    {
     "name": "stderr",
     "output_type": "stream",
     "text": [
      "[mbo] 59: cp=-0.724; minsplit=1701; minbucket=271; maxdepth=7 : y = 9.41e+07 : 188.1 secs : infill_ei\n",
      "\n"
     ]
    },
    {
     "name": "stdout",
     "output_type": "stream",
     "text": [
      "98329000 98154000 97566000 99043000 99351000 \n",
      "20230831 223651\t-0.560786979686421\t646\t288\t7\t5\t5\t98488600\t76\n"
     ]
    },
    {
     "name": "stderr",
     "output_type": "stream",
     "text": [
      "[mbo] 60: cp=-0.561; minsplit=646; minbucket=288; maxdepth=7 : y = 9.85e+07 : 203.5 secs : infill_ei\n",
      "\n"
     ]
    },
    {
     "name": "stdout",
     "output_type": "stream",
     "text": [
      "96761000 95991000 93513000 96628000 96068000 \n",
      "20230831 224030\t-0.540964184625256\t1296\t268\t7\t5\t5\t95792200\t77\n"
     ]
    },
    {
     "name": "stderr",
     "output_type": "stream",
     "text": [
      "[mbo] 61: cp=-0.541; minsplit=1296; minbucket=268; maxdepth=7 : y = 9.58e+07 : 216.6 secs : infill_ei\n",
      "\n",
      "Saved the current state after iteration 62 in the file bayesiana.RDATA.\n",
      "\n"
     ]
    },
    {
     "name": "stdout",
     "output_type": "stream",
     "text": [
      "88501000 85764000 87500000 89040000 90496000 \n",
      "20230831 224353\t-0.422763945092251\t2927\t273\t7\t5\t5\t88260200\t78\n"
     ]
    },
    {
     "name": "stderr",
     "output_type": "stream",
     "text": [
      "[mbo] 62: cp=-0.423; minsplit=2927; minbucket=273; maxdepth=7 : y = 8.83e+07 : 200.5 secs : infill_ei\n",
      "\n"
     ]
    },
    {
     "name": "stdout",
     "output_type": "stream",
     "text": [
      "9.8e+07 96607000 95263000 99267000 97643000 \n",
      "20230831 224731\t-0.999197309763924\t711\t318\t7\t5\t5\t97356000\t79\n"
     ]
    },
    {
     "name": "stderr",
     "output_type": "stream",
     "text": [
      "[mbo] 63: cp=-0.999; minsplit=711; minbucket=318; maxdepth=7 : y = 9.74e+07 : 215.5 secs : infill_ei\n",
      "\n"
     ]
    },
    {
     "name": "stdout",
     "output_type": "stream",
     "text": [
      "67592000 67193000 68432000 69335000 71904000 \n",
      "20230831 225102\t-0.457455277640268\t8000\t4000\t13\t5\t5\t68891200\t80\n"
     ]
    },
    {
     "name": "stderr",
     "output_type": "stream",
     "text": [
      "[mbo] 64: cp=-0.457; minsplit=8000; minbucket=4000; maxdepth=13 : y = 6.89e+07 : 207.7 secs : infill_ei\n",
      "\n",
      "Saved the current state after iteration 65 in the file bayesiana.RDATA.\n",
      "\n"
     ]
    },
    {
     "name": "stdout",
     "output_type": "stream",
     "text": [
      "81438000 79989000 77805000 85498000 82180000 \n",
      "20230831 225514\t-0.999829809422455\t4654\t1514\t15\t5\t5\t81382000\t81\n"
     ]
    },
    {
     "name": "stderr",
     "output_type": "stream",
     "text": [
      "[mbo] 65: cp=-1; minsplit=4654; minbucket=1514; maxdepth=15 : y = 8.14e+07 : 249.8 secs : infill_ei\n",
      "\n"
     ]
    },
    {
     "name": "stdout",
     "output_type": "stream",
     "text": [
      "95774000 92533000 98350000 95347000 97356000 \n",
      "20230831 230104\t-0.961391157425287\t1182\t280\t15\t5\t5\t95872000\t82\n"
     ]
    },
    {
     "name": "stderr",
     "output_type": "stream",
     "text": [
      "[mbo] 66: cp=-0.961; minsplit=1182; minbucket=280; maxdepth=15 : y = 9.59e+07 : 347.1 secs : infill_ei\n",
      "\n",
      "Saved the current state after iteration 67 in the file bayesiana.RDATA.\n",
      "\n"
     ]
    },
    {
     "name": "stdout",
     "output_type": "stream",
     "text": [
      "91497000 92057000 95585000 98931000 96005000 \n",
      "20230831 230635\t-0.569815485257744\t669\t298\t15\t5\t5\t94815000\t83\n"
     ]
    },
    {
     "name": "stderr",
     "output_type": "stream",
     "text": [
      "[mbo] 67: cp=-0.57; minsplit=669; minbucket=298; maxdepth=15 : y = 9.48e+07 : 328.3 secs : infill_ei\n",
      "\n"
     ]
    },
    {
     "name": "stdout",
     "output_type": "stream",
     "text": [
      "68005000 66829000 66143000 66059000 70077000 \n",
      "20230831 231037\t-0.300523011086792\t6767\t1529\t15\t5\t5\t67422600\t84\n"
     ]
    },
    {
     "name": "stderr",
     "output_type": "stream",
     "text": [
      "[mbo] 68: cp=-0.301; minsplit=6767; minbucket=1529; maxdepth=15 : y = 6.74e+07 : 239.4 secs : infill_ei\n",
      "\n"
     ]
    },
    {
     "name": "stdout",
     "output_type": "stream",
     "text": [
      "63602000 60431000 64596000 66661000 62825000 \n",
      "20230831 231226\t-0.999051940146861\t7992\t1\t3\t5\t5\t63623000\t85\n"
     ]
    },
    {
     "name": "stderr",
     "output_type": "stream",
     "text": [
      "[mbo] 69: cp=-0.999; minsplit=7992; minbucket=1; maxdepth=3 : y = 6.36e+07 : 106.7 secs : infill_ei\n",
      "\n",
      "Saved the current state after iteration 70 in the file bayesiana.RDATA.\n",
      "\n"
     ]
    },
    {
     "name": "stdout",
     "output_type": "stream",
     "text": [
      "97853000 97944000 97496000 98140000 99435000 \n",
      "20230831 231607\t-0.505230613110426\t631\t297\t7\t5\t5\t98173600\t86\n"
     ]
    },
    {
     "name": "stderr",
     "output_type": "stream",
     "text": [
      "[mbo] 70: cp=-0.505; minsplit=631; minbucket=297; maxdepth=7 : y = 9.82e+07 : 218.7 secs : infill_ei\n",
      "\n"
     ]
    },
    {
     "name": "stdout",
     "output_type": "stream",
     "text": [
      "89523000 92974000 96964000 97349000 97027000 \n",
      "20230831 232140\t-0.407488874034599\t626\t303\t17\t5\t5\t94767400\t87\n"
     ]
    },
    {
     "name": "stderr",
     "output_type": "stream",
     "text": [
      "[mbo] 71: cp=-0.407; minsplit=626; minbucket=303; maxdepth=17 : y = 9.48e+07 : 329.2 secs : infill_ei\n",
      "\n"
     ]
    },
    {
     "name": "stdout",
     "output_type": "stream",
     "text": [
      "97181000 97062000 97615000 98609000 98777000 \n",
      "20230831 232510\t-0.606988058211402\t625\t307\t7\t5\t5\t97848800\t88\n"
     ]
    },
    {
     "name": "stderr",
     "output_type": "stream",
     "text": [
      "[mbo] 72: cp=-0.607; minsplit=625; minbucket=307; maxdepth=7 : y = 9.78e+07 : 207.0 secs : infill_ei\n",
      "\n",
      "Saved the current state after iteration 73 in the file bayesiana.RDATA.\n",
      "\n"
     ]
    },
    {
     "name": "stdout",
     "output_type": "stream",
     "text": [
      "98364000 98301000 97580000 99092000 99274000 \n",
      "20230831 232836\t-0.461564379843565\t641\t278\t7\t5\t5\t98522200\t89\n"
     ]
    },
    {
     "name": "stderr",
     "output_type": "stream",
     "text": [
      "[mbo] 73: cp=-0.462; minsplit=641; minbucket=278; maxdepth=7 : y = 9.85e+07 : 203.8 secs : infill_ei\n",
      "\n"
     ]
    },
    {
     "name": "stdout",
     "output_type": "stream",
     "text": [
      "93191000 91896000 94451000 91140000 94171000 \n",
      "20230831 233355\t-0.34090871204634\t1960\t279\t20\t5\t5\t92969800\t90\n"
     ]
    },
    {
     "name": "stderr",
     "output_type": "stream",
     "text": [
      "[mbo] 74: cp=-0.341; minsplit=1960; minbucket=279; maxdepth=20 : y = 9.3e+07 : 315.8 secs : infill_ei\n",
      "\n"
     ]
    },
    {
     "name": "stdout",
     "output_type": "stream",
     "text": [
      "63630000 63539000 65856000 66059000 66997000 \n",
      "20230831 233647\t-0.999562233153061\t8000\t1733\t20\t5\t5\t65216200\t91\n"
     ]
    },
    {
     "name": "stderr",
     "output_type": "stream",
     "text": [
      "[mbo] 75: cp=-1; minsplit=8000; minbucket=1733; maxdepth=20 : y = 6.52e+07 : 169.6 secs : infill_ei\n",
      "\n",
      "Saved the current state after iteration 76 in the file bayesiana.RDATA.\n",
      "\n"
     ]
    },
    {
     "name": "stdout",
     "output_type": "stream",
     "text": [
      "95851000 90202000 91504000 93849000 91875000 \n",
      "20230831 233939\t-0.99952301499599\t1471\t282\t6\t5\t5\t92656200\t92\n"
     ]
    },
    {
     "name": "stderr",
     "output_type": "stream",
     "text": [
      "[mbo] 76: cp=-1; minsplit=1471; minbucket=282; maxdepth=6 : y = 9.27e+07 : 169.1 secs : infill_ei\n",
      "\n"
     ]
    },
    {
     "name": "stdout",
     "output_type": "stream",
     "text": [
      "82250000 80899000 83153000 80318000 85841000 \n",
      "20230831 234413\t-0.892236614363215\t4249\t4\t15\t5\t5\t82492200\t93\n"
     ]
    },
    {
     "name": "stderr",
     "output_type": "stream",
     "text": [
      "[mbo] 77: cp=-0.892; minsplit=4249; minbucket=4; maxdepth=15 : y = 8.25e+07 : 271.9 secs : infill_ei\n",
      "\n"
     ]
    },
    {
     "name": "stdout",
     "output_type": "stream",
     "text": [
      "95053000 91511000 97055000 93926000 96292000 \n",
      "20230831 234853\t-0.291602368165555\t862\t278\t20\t5\t5\t94767400\t94\n"
     ]
    },
    {
     "name": "stderr",
     "output_type": "stream",
     "text": [
      "[mbo] 78: cp=-0.292; minsplit=862; minbucket=278; maxdepth=20 : y = 9.48e+07 : 277.4 secs : infill_ei\n",
      "\n",
      "Saved the current state after iteration 79 in the file bayesiana.RDATA.\n",
      "\n"
     ]
    },
    {
     "name": "stdout",
     "output_type": "stream",
     "text": [
      "98112000 97937000 95655000 98245000 99155000 \n",
      "20230831 235143\t-0.451825285612611\t751\t278\t7\t5\t5\t97820800\t95\n"
     ]
    },
    {
     "name": "stderr",
     "output_type": "stream",
     "text": [
      "[mbo] 79: cp=-0.452; minsplit=751; minbucket=278; maxdepth=7 : y = 9.78e+07 : 167.3 secs : infill_ei\n",
      "\n"
     ]
    },
    {
     "name": "stdout",
     "output_type": "stream",
     "text": [
      "98056000 97874000 95991000 98679000 99393000 \n",
      "20230831 235433\t-0.304277179783874\t641\t264\t7\t5\t5\t97998600\t96\n"
     ]
    },
    {
     "name": "stderr",
     "output_type": "stream",
     "text": [
      "[mbo] 80: cp=-0.304; minsplit=641; minbucket=264; maxdepth=7 : y = 9.8e+07 : 167.0 secs : infill_ei\n",
      "\n"
     ]
    },
    {
     "name": "stdout",
     "output_type": "stream",
     "text": [
      "93835000 89859000 92092000 92323000 92715000 \n",
      "20230831 235717\t-0.291090096703687\t1563\t6\t7\t5\t5\t92164800\t97\n"
     ]
    },
    {
     "name": "stderr",
     "output_type": "stream",
     "text": [
      "[mbo] 81: cp=-0.291; minsplit=1563; minbucket=6; maxdepth=7 : y = 9.22e+07 : 162.5 secs : infill_ei\n",
      "\n"
     ]
    },
    {
     "name": "stdout",
     "output_type": "stream",
     "text": [
      "86030000 81732000 84476000 85316000 85071000 \n",
      "20230901 000002\t-0.897350065239252\t3542\t759\t7\t5\t5\t84525000\t98\n"
     ]
    },
    {
     "name": "stderr",
     "output_type": "stream",
     "text": [
      "[mbo] 82: cp=-0.897; minsplit=3542; minbucket=759; maxdepth=7 : y = 8.45e+07 : 162.7 secs : infill_ei\n",
      "\n",
      "Saved the current state after iteration 83 in the file bayesiana.RDATA.\n",
      "\n"
     ]
    },
    {
     "name": "stdout",
     "output_type": "stream",
     "text": [
      "84210000 81361000 81249000 84917000 83265000 \n",
      "20230901 000229\t-0.553652674931419\t2520\t1260\t6\t5\t5\t83000400\t99\n"
     ]
    },
    {
     "name": "stderr",
     "output_type": "stream",
     "text": [
      "[mbo] 83: cp=-0.554; minsplit=2520; minbucket=1260; maxdepth=6 : y = 8.3e+07 : 144.2 secs : infill_ei\n",
      "\n"
     ]
    },
    {
     "name": "stdout",
     "output_type": "stream",
     "text": [
      "81963000 82327000 78190000 84728000 84021000 \n",
      "20230901 000546\t-0.318136256236593\t3573\t1783\t20\t5\t5\t82245800\t100\n"
     ]
    },
    {
     "name": "stderr",
     "output_type": "stream",
     "text": [
      "[mbo] 84: cp=-0.318; minsplit=3573; minbucket=1783; maxdepth=20 : y = 8.22e+07 : 194.2 secs : infill_ei\n",
      "\n"
     ]
    },
    {
     "name": "stdout",
     "output_type": "stream",
     "text": [
      "96516000 98021000 94731000 97769000 98056000 \n",
      "20230901 000855\t-0.260070078479297\t607\t286\t8\t5\t5\t97018600\t101\n"
     ]
    },
    {
     "name": "stderr",
     "output_type": "stream",
     "text": [
      "[mbo] 85: cp=-0.26; minsplit=607; minbucket=286; maxdepth=8 : y = 9.7e+07 : 187.1 secs : infill_ei\n",
      "\n"
     ]
    },
    {
     "name": "stdout",
     "output_type": "stream",
     "text": [
      "67592000 67193000 68439000 69398000 71911000 \n",
      "20230901 001028\t-0.666351887154215\t7997\t3997\t3\t5\t5\t68906600\t102\n"
     ]
    },
    {
     "name": "stderr",
     "output_type": "stream",
     "text": [
      "[mbo] 86: cp=-0.666; minsplit=7997; minbucket=3997; maxdepth=3 : y = 6.89e+07 : 90.5 secs : infill_ei\n",
      "\n",
      "Saved the current state after iteration 87 in the file bayesiana.RDATA.\n",
      "\n"
     ]
    },
    {
     "name": "stdout",
     "output_type": "stream",
     "text": [
      "68992000 67914000 67900000 66297000 71232000 \n",
      "20230901 001201\t-0.221440655559904\t5656\t810\t3\t5\t5\t68467000\t103\n"
     ]
    },
    {
     "name": "stderr",
     "output_type": "stream",
     "text": [
      "[mbo] 87: cp=-0.221; minsplit=5656; minbucket=810; maxdepth=3 : y = 6.85e+07 : 91.0 secs : infill_ei\n",
      "\n"
     ]
    },
    {
     "name": "stdout",
     "output_type": "stream",
     "text": [
      "84973000 80563000 82558000 84560000 85666000 \n",
      "20230901 001618\t-0.451745315270826\t3958\t289\t20\t5\t5\t83664000\t104\n"
     ]
    },
    {
     "name": "stderr",
     "output_type": "stream",
     "text": [
      "[mbo] 88: cp=-0.452; minsplit=3958; minbucket=289; maxdepth=20 : y = 8.37e+07 : 255.2 secs : infill_ei\n",
      "\n"
     ]
    },
    {
     "name": "stdout",
     "output_type": "stream",
     "text": [
      "98441000 98140000 97748000 99799000 99316000 \n",
      "20230901 001909\t-0.889968462117317\t657\t282\t7\t5\t5\t98688800\t105\n"
     ]
    },
    {
     "name": "stderr",
     "output_type": "stream",
     "text": [
      "[mbo] 89: cp=-0.89; minsplit=657; minbucket=282; maxdepth=7 : y = 9.87e+07 : 168.0 secs : infill_ei\n",
      "\n"
     ]
    },
    {
     "name": "stdout",
     "output_type": "stream",
     "text": [
      "98861000 97209000 96026000 99589000 97426000 \n",
      "20230901 002154\t-0.902160763777551\t644\t320\t7\t5\t5\t97822200\t106\n"
     ]
    },
    {
     "name": "stderr",
     "output_type": "stream",
     "text": [
      "[mbo] 90: cp=-0.902; minsplit=644; minbucket=320; maxdepth=7 : y = 9.78e+07 : 163.0 secs : infill_ei\n",
      "\n",
      "Saved the current state after iteration 91 in the file bayesiana.RDATA.\n",
      "\n"
     ]
    },
    {
     "name": "stdout",
     "output_type": "stream",
     "text": [
      "94479000 94192000 97216000 94017000 96117000 \n",
      "20230901 002624\t-0.884657257821967\t1303\t259\t16\t5\t5\t95204200\t107\n"
     ]
    },
    {
     "name": "stderr",
     "output_type": "stream",
     "text": [
      "[mbo] 91: cp=-0.885; minsplit=1303; minbucket=259; maxdepth=16 : y = 9.52e+07 : 266.4 secs : infill_ei\n",
      "\n"
     ]
    },
    {
     "name": "stdout",
     "output_type": "stream",
     "text": [
      "80346000 77875000 78288000 81515000 81858000 \n",
      "20230901 002900\t-0.216885495047344\t5149\t2571\t7\t5\t5\t79976400\t108\n"
     ]
    },
    {
     "name": "stderr",
     "output_type": "stream",
     "text": [
      "[mbo] 92: cp=-0.217; minsplit=5149; minbucket=2571; maxdepth=7 : y = 8e+07 : 153.6 secs : infill_ei\n",
      "\n"
     ]
    },
    {
     "name": "stdout",
     "output_type": "stream",
     "text": [
      "64085000 61397000 63840000 65884000 64603000 \n",
      "20230901 003215\t-0.731585427262585\t8000\t9\t11\t5\t5\t63961800\t109\n"
     ]
    },
    {
     "name": "stderr",
     "output_type": "stream",
     "text": [
      "[mbo] 93: cp=-0.732; minsplit=8000; minbucket=9; maxdepth=11 : y = 6.4e+07 : 192.3 secs : infill_ei\n",
      "\n",
      "Saved the current state after iteration 94 in the file bayesiana.RDATA.\n",
      "\n"
     ]
    },
    {
     "name": "stdout",
     "output_type": "stream",
     "text": [
      "98763000 97867000 94430000 97559000 98889000 \n",
      "20230901 003503\t-0.882940059323807\t731\t242\t7\t5\t5\t97501600\t110\n"
     ]
    },
    {
     "name": "stderr",
     "output_type": "stream",
     "text": [
      "[mbo] 94: cp=-0.883; minsplit=731; minbucket=242; maxdepth=7 : y = 9.75e+07 : 165.7 secs : infill_ei\n",
      "\n"
     ]
    },
    {
     "name": "stdout",
     "output_type": "stream",
     "text": [
      "82656000 80521000 77525000 85050000 85218000 \n",
      "20230901 003817\t-0.440420935285547\t4561\t1287\t20\t5\t5\t82194000\t111\n"
     ]
    },
    {
     "name": "stderr",
     "output_type": "stream",
     "text": [
      "[mbo] 95: cp=-0.44; minsplit=4561; minbucket=1287; maxdepth=20 : y = 8.22e+07 : 192.0 secs : infill_ei\n",
      "\n"
     ]
    },
    {
     "name": "stdout",
     "output_type": "stream",
     "text": [
      "94241000 92995000 94675000 101157000 96502000 \n",
      "20230901 004202\t-0.298504514300735\t668\t328\t11\t5\t5\t95914000\t112\n"
     ]
    },
    {
     "name": "stderr",
     "output_type": "stream",
     "text": [
      "[mbo] 96: cp=-0.299; minsplit=668; minbucket=328; maxdepth=11 : y = 9.59e+07 : 221.5 secs : infill_ei\n",
      "\n"
     ]
    },
    {
     "name": "stdout",
     "output_type": "stream",
     "text": [
      "98441000 98140000 97748000 99778000 99288000 \n",
      "20230901 004451\t-0.539789852820778\t641\t281\t7\t5\t5\t98679000\t113\n"
     ]
    },
    {
     "name": "stderr",
     "output_type": "stream",
     "text": [
      "[mbo] 97: cp=-0.54; minsplit=641; minbucket=281; maxdepth=7 : y = 9.87e+07 : 166.4 secs : infill_ei\n",
      "\n",
      "Saved the current state after iteration 98 in the file bayesiana.RDATA.\n",
      "\n"
     ]
    },
    {
     "name": "stdout",
     "output_type": "stream",
     "text": [
      "98056000 97874000 95991000 98679000 99365000 \n",
      "20230901 004741\t-0.533275117447612\t656\t263\t7\t5\t5\t97993000\t114\n"
     ]
    },
    {
     "name": "stderr",
     "output_type": "stream",
     "text": [
      "[mbo] 98: cp=-0.533; minsplit=656; minbucket=263; maxdepth=7 : y = 9.8e+07 : 166.8 secs : infill_ei\n",
      "\n"
     ]
    },
    {
     "name": "stdout",
     "output_type": "stream",
     "text": [
      "63630000 62909000 65856000 66059000 66997000 \n",
      "20230901 004913\t-0.999071249273272\t7999\t2787\t3\t5\t5\t65090200\t115\n"
     ]
    },
    {
     "name": "stderr",
     "output_type": "stream",
     "text": [
      "[mbo] 99: cp=-0.999; minsplit=7999; minbucket=2787; maxdepth=3 : y = 6.51e+07 : 89.3 secs : infill_ei\n",
      "\n"
     ]
    },
    {
     "name": "stdout",
     "output_type": "stream",
     "text": [
      "81963000 82327000 78190000 84728000 84021000 \n",
      "20230901 005218\t-0.998889408092219\t3546\t1771\t20\t5\t5\t82245800\t116\n"
     ]
    },
    {
     "name": "stderr",
     "output_type": "stream",
     "text": [
      "[mbo] 100: cp=-0.999; minsplit=3546; minbucket=1771; maxdepth=20 : y = 8.22e+07 : 181.9 secs : infill_ei\n",
      "\n"
     ]
    },
    {
     "name": "stdout",
     "output_type": "stream",
     "text": [
      "97923000 97678000 97748000 99183000 99134000 \n",
      "20230901 005507\t-0.958026949272256\t587\t281\t7\t5\t5\t98333200\t117\n"
     ]
    },
    {
     "name": "stderr",
     "output_type": "stream",
     "text": [
      "[mbo] 101: cp=-0.958; minsplit=587; minbucket=281; maxdepth=7 : y = 9.83e+07 : 165.5 secs : infill_ei\n",
      "\n",
      "Saved the current state after iteration 102 in the file bayesiana.RDATA.\n",
      "\n"
     ]
    },
    {
     "name": "stdout",
     "output_type": "stream",
     "text": [
      "81473000 81298000 80325000 84707000 81928000 \n",
      "20230901 005812\t-0.552016488182676\t4177\t1807\t14\t5\t5\t81946200\t118\n"
     ]
    },
    {
     "name": "stderr",
     "output_type": "stream",
     "text": [
      "[mbo] 102: cp=-0.552; minsplit=4177; minbucket=1807; maxdepth=14 : y = 8.19e+07 : 182.8 secs : infill_ei\n",
      "\n"
     ]
    },
    {
     "name": "stdout",
     "output_type": "stream",
     "text": [
      "74172000 72954000 74235000 73682000 73941000 \n",
      "20230901 005945\t-0.823821070013558\t3356\t1678\t3\t5\t5\t73796800\t119\n"
     ]
    },
    {
     "name": "stderr",
     "output_type": "stream",
     "text": [
      "[mbo] 103: cp=-0.824; minsplit=3356; minbucket=1678; maxdepth=3 : y = 7.38e+07 : 90.4 secs : infill_ei\n",
      "\n"
     ]
    },
    {
     "name": "stdout",
     "output_type": "stream",
     "text": [
      "93926000 92309000 99267000 94843000 96901000 \n",
      "20230901 010421\t-0.457993076459235\t1113\t281\t20\t5\t5\t95449200\t120\n"
     ]
    },
    {
     "name": "stderr",
     "output_type": "stream",
     "text": [
      "[mbo] 104: cp=-0.458; minsplit=1113; minbucket=281; maxdepth=20 : y = 9.54e+07 : 273.3 secs : infill_ei\n",
      "\n"
     ]
    },
    {
     "name": "stdout",
     "output_type": "stream",
     "text": [
      "66500000 68481000 70721000 69685000 69468000 \n",
      "20230901 010708\t-0.997924707671861\t6840\t3413\t20\t5\t5\t68971000\t121\n"
     ]
    },
    {
     "name": "stderr",
     "output_type": "stream",
     "text": [
      "[mbo] 105: cp=-0.998; minsplit=6840; minbucket=3413; maxdepth=20 : y = 6.9e+07 : 164.6 secs : infill_ei\n",
      "\n",
      "Saved the current state after iteration 106 in the file bayesiana.RDATA.\n",
      "\n"
     ]
    },
    {
     "name": "stdout",
     "output_type": "stream",
     "text": [
      "0 0 0 0 0 \n",
      "20230901 010841\t0.0172015951321913\t7997\t3998\t3\t5\t5\t0\t122\n"
     ]
    },
    {
     "name": "stderr",
     "output_type": "stream",
     "text": [
      "[mbo] 106: cp=0.0172; minsplit=7997; minbucket=3998; maxdepth=3 : y = 0 : 90.3 secs : infill_ei\n",
      "\n"
     ]
    },
    {
     "name": "stdout",
     "output_type": "stream",
     "text": [
      "93366000 90552000 93247000 93709000 93464000 \n",
      "20230901 011122\t-0.999058762562659\t1685\t1\t7\t5\t5\t92867600\t123\n"
     ]
    },
    {
     "name": "stderr",
     "output_type": "stream",
     "text": [
      "[mbo] 107: cp=-0.999; minsplit=1685; minbucket=1; maxdepth=7 : y = 9.29e+07 : 159.2 secs : infill_ei\n",
      "\n"
     ]
    },
    {
     "name": "stdout",
     "output_type": "stream",
     "text": [
      "63469000 65422000 69958000 69853000 70784000 \n",
      "20230901 011421\t-0.480485244888294\t8000\t3474\t20\t5\t5\t67897200\t124\n"
     ]
    },
    {
     "name": "stderr",
     "output_type": "stream",
     "text": [
      "[mbo] 108: cp=-0.48; minsplit=8000; minbucket=3474; maxdepth=20 : y = 6.79e+07 : 176.5 secs : infill_ei\n",
      "\n"
     ]
    },
    {
     "name": "stdout",
     "output_type": "stream",
     "text": [
      "99953000 94220000 94759000 92393000 96992000 \n",
      "20230901 011710\t-0.279948875374166\t961\t478\t7\t5\t5\t95663400\t125\n"
     ]
    },
    {
     "name": "stderr",
     "output_type": "stream",
     "text": [
      "[mbo] 109: cp=-0.28; minsplit=961; minbucket=478; maxdepth=7 : y = 9.57e+07 : 165.1 secs : infill_ei\n",
      "\n",
      "Saved the current state after iteration 110 in the file bayesiana.RDATA.\n",
      "\n"
     ]
    },
    {
     "name": "stdout",
     "output_type": "stream",
     "text": [
      "67368000 66493000 69678000 69104000 69692000 \n",
      "20230901 011844\t-0.999874002509971\t6669\t3334\t3\t5\t5\t68467000\t126\n"
     ]
    },
    {
     "name": "stderr",
     "output_type": "stream",
     "text": [
      "[mbo] 110: cp=-1; minsplit=6669; minbucket=3334; maxdepth=3 : y = 6.85e+07 : 91.5 secs : infill_ei\n",
      "\n"
     ]
    },
    {
     "name": "stdout",
     "output_type": "stream",
     "text": [
      "96754000 92708000 98945000 94689000 100023000 \n",
      "20230901 012251\t-0.447115021152657\t984\t489\t18\t5\t5\t96623800\t127\n"
     ]
    },
    {
     "name": "stderr",
     "output_type": "stream",
     "text": [
      "[mbo] 111: cp=-0.447; minsplit=984; minbucket=489; maxdepth=18 : y = 9.66e+07 : 243.9 secs : infill_ei\n",
      "\n"
     ]
    },
    {
     "name": "stdout",
     "output_type": "stream",
     "text": [
      "91812000 91287000 94052000 90482000 92204000 \n",
      "20230901 012715\t-0.891632111801245\t2046\t276\t18\t5\t5\t91967400\t128\n"
     ]
    },
    {
     "name": "stderr",
     "output_type": "stream",
     "text": [
      "[mbo] 112: cp=-0.892; minsplit=2046; minbucket=276; maxdepth=18 : y = 9.2e+07 : 261.0 secs : infill_ei\n",
      "\n",
      "Saved the current state after iteration 113 in the file bayesiana.RDATA.\n",
      "\n"
     ]
    },
    {
     "name": "stdout",
     "output_type": "stream",
     "text": [
      "69419000 67102000 69888000 68901000 69930000 \n",
      "20230901 012940\t-0.791533811240048\t7307\t3642\t7\t5\t5\t69048000\t129\n"
     ]
    },
    {
     "name": "stderr",
     "output_type": "stream",
     "text": [
      "[mbo] 113: cp=-0.792; minsplit=7307; minbucket=3642; maxdepth=7 : y = 6.9e+07 : 142.0 secs : infill_ei\n",
      "\n"
     ]
    },
    {
     "name": "stdout",
     "output_type": "stream",
     "text": [
      "92477000 92904000 98840000 90748000 95144000 \n",
      "20230901 013344\t-0.314513188749621\t1080\t539\t20\t5\t5\t94022600\t130\n"
     ]
    },
    {
     "name": "stderr",
     "output_type": "stream",
     "text": [
      "[mbo] 114: cp=-0.315; minsplit=1080; minbucket=539; maxdepth=20 : y = 9.4e+07 : 241.2 secs : infill_ei\n",
      "\n"
     ]
    },
    {
     "name": "stdout",
     "output_type": "stream",
     "text": [
      "93415000 91560000 91455000 94052000 92064000 \n",
      "20230901 013628\t-0.287549066819751\t2124\t278\t7\t5\t5\t92509200\t131\n"
     ]
    },
    {
     "name": "stderr",
     "output_type": "stream",
     "text": [
      "[mbo] 115: cp=-0.288; minsplit=2124; minbucket=278; maxdepth=7 : y = 9.25e+07 : 161.8 secs : infill_ei\n",
      "\n"
     ]
    },
    {
     "name": "stdout",
     "output_type": "stream",
     "text": [
      "97923000 97398000 97748000 99218000 99281000 \n",
      "20230901 013918\t-0.810309804235938\t566\t282\t7\t5\t5\t98313600\t132\n"
     ]
    },
    {
     "name": "stderr",
     "output_type": "stream",
     "text": [
      "[mbo] 116: cp=-0.81; minsplit=566; minbucket=282; maxdepth=7 : y = 9.83e+07 : 167.7 secs : infill_ei\n",
      "\n",
      "Saved the current state after iteration 117 in the file bayesiana.RDATA.\n",
      "\n"
     ]
    },
    {
     "name": "stdout",
     "output_type": "stream",
     "text": [
      "79863000 80360000 81067000 83937000 83328000 \n",
      "20230901 014222\t-0.28176359583828\t4554\t2275\t15\t5\t5\t81711000\t133\n"
     ]
    },
    {
     "name": "stderr",
     "output_type": "stream",
     "text": [
      "[mbo] 117: cp=-0.282; minsplit=4554; minbucket=2275; maxdepth=15 : y = 8.17e+07 : 180.7 secs : infill_ei\n",
      "\n"
     ]
    },
    {
     "name": "stdout",
     "output_type": "stream",
     "text": [
      "95445000 91616000 101241000 97195000 98539000 \n",
      "20230901 014644\t-0.722165366105941\t966\t290\t18\t5\t5\t96807200\t134\n"
     ]
    },
    {
     "name": "stderr",
     "output_type": "stream",
     "text": [
      "[mbo] 118: cp=-0.722; minsplit=966; minbucket=290; maxdepth=18 : y = 9.68e+07 : 259.3 secs : infill_ei\n",
      "\n"
     ]
    },
    {
     "name": "stdout",
     "output_type": "stream",
     "text": [
      "63763000 60795000 63364000 65296000 64358000 \n",
      "20230901 015132\t-0.99797804613383\t8000\t4\t20\t5\t5\t63515200\t135\n"
     ]
    },
    {
     "name": "stderr",
     "output_type": "stream",
     "text": [
      "[mbo] 119: cp=-0.998; minsplit=8000; minbucket=4; maxdepth=20 : y = 6.35e+07 : 285.5 secs : infill_ei\n",
      "\n",
      "Saved the current state after iteration 120 in the file bayesiana.RDATA.\n",
      "\n"
     ]
    },
    {
     "name": "stdout",
     "output_type": "stream",
     "text": [
      "64225000 60788000 63336000 66689000 64050000 \n",
      "20230901 015637\t-0.175699848868656\t7963\t1\t20\t5\t5\t63817600\t136\n"
     ]
    },
    {
     "name": "stderr",
     "output_type": "stream",
     "text": [
      "[mbo] 120: cp=-0.176; minsplit=7963; minbucket=1; maxdepth=20 : y = 6.38e+07 : 302.4 secs : infill_ei\n",
      "\n"
     ]
    },
    {
     "name": "stdout",
     "output_type": "stream",
     "text": [
      "97811000 98581000 97566000 98448000 99176000 \n",
      "20230901 015931\t-0.282625493792777\t596\t288\t7\t5\t5\t98316400\t137\n"
     ]
    },
    {
     "name": "stderr",
     "output_type": "stream",
     "text": [
      "[mbo] 121: cp=-0.283; minsplit=596; minbucket=288; maxdepth=7 : y = 9.83e+07 : 170.8 secs : infill_ei\n",
      "\n"
     ]
    },
    {
     "name": "stdout",
     "output_type": "stream",
     "text": [
      "83006000 83734000 85603000 83377000 86639000 \n",
      "20230901 020156\t-0.224939845720265\t4257\t2\t6\t5\t5\t84471800\t138\n"
     ]
    },
    {
     "name": "stderr",
     "output_type": "stream",
     "text": [
      "[mbo] 122: cp=-0.225; minsplit=4257; minbucket=2; maxdepth=6 : y = 8.45e+07 : 142.9 secs : infill_ei\n",
      "\n",
      "Saved the current state after iteration 123 in the file bayesiana.RDATA.\n",
      "\n"
     ]
    },
    {
     "name": "stdout",
     "output_type": "stream",
     "text": [
      "95648000 91329000 92708000 95942000 93856000 \n",
      "20230901 020426\t-0.546710520993029\t588\t286\t6\t5\t5\t93896600\t139\n"
     ]
    },
    {
     "name": "stderr",
     "output_type": "stream",
     "text": [
      "[mbo] 123: cp=-0.547; minsplit=588; minbucket=286; maxdepth=6 : y = 9.39e+07 : 147.1 secs : infill_ei\n",
      "\n"
     ]
    },
    {
     "name": "stdout",
     "output_type": "stream",
     "text": [
      "97181000 98301000 97601000 98175000 98182000 \n",
      "20230901 020718\t-0.232358309366053\t624\t309\t7\t5\t5\t97888000\t140\n"
     ]
    },
    {
     "name": "stderr",
     "output_type": "stream",
     "text": [
      "[mbo] 124: cp=-0.232; minsplit=624; minbucket=309; maxdepth=7 : y = 9.79e+07 : 169.7 secs : infill_ei\n",
      "\n"
     ]
    },
    {
     "name": "stdout",
     "output_type": "stream",
     "text": [
      "93905000 91952000 98777000 97307000 97279000 \n",
      "20230901 021141\t-0.353361545212449\t922\t313\t18\t5\t5\t95844000\t141\n"
     ]
    },
    {
     "name": "stderr",
     "output_type": "stream",
     "text": [
      "[mbo] 125: cp=-0.353; minsplit=922; minbucket=313; maxdepth=18 : y = 9.58e+07 : 260.3 secs : infill_ei\n",
      "\n"
     ]
    },
    {
     "name": "stdout",
     "output_type": "stream",
     "text": [
      "97573000 91980000 97538000 91952000 96432000 \n",
      "20230901 021552\t-0.720683283083583\t934\t467\t16\t5\t5\t95095000\t142\n"
     ]
    },
    {
     "name": "stderr",
     "output_type": "stream",
     "text": [
      "[mbo] 126: cp=-0.721; minsplit=934; minbucket=467; maxdepth=16 : y = 9.51e+07 : 248.0 secs : infill_ei\n",
      "\n",
      "Saved the current state after iteration 127 in the file bayesiana.RDATA.\n",
      "\n"
     ]
    },
    {
     "name": "stdout",
     "output_type": "stream",
     "text": [
      "96019000 93702000 97300000 93429000 93632000 \n",
      "20230901 022011\t-0.45236921723521\t1595\t304\t19\t5\t5\t94816400\t143\n"
     ]
    },
    {
     "name": "stderr",
     "output_type": "stream",
     "text": [
      "[mbo] 127: cp=-0.452; minsplit=1595; minbucket=304; maxdepth=19 : y = 9.48e+07 : 256.4 secs : infill_ei\n",
      "\n"
     ]
    },
    {
     "name": "stdout",
     "output_type": "stream",
     "text": [
      "88319000 82929000 87871000 89082000 90496000 \n",
      "20230901 022430\t-0.715791755733072\t2978\t268\t20\t5\t5\t87739400\t144\n"
     ]
    },
    {
     "name": "stderr",
     "output_type": "stream",
     "text": [
      "[mbo] 128: cp=-0.716; minsplit=2978; minbucket=268; maxdepth=20 : y = 8.77e+07 : 257.0 secs : infill_ei\n",
      "\n"
     ]
    },
    {
     "name": "stdout",
     "output_type": "stream",
     "text": [
      "95536000 91721000 93884000 95935000 92050000 \n",
      "20230901 022717\t-0.458486823468518\t1794\t285\t7\t5\t5\t93825200\t145\n"
     ]
    },
    {
     "name": "stderr",
     "output_type": "stream",
     "text": [
      "[mbo] 129: cp=-0.458; minsplit=1794; minbucket=285; maxdepth=7 : y = 9.38e+07 : 163.9 secs : infill_ei\n",
      "\n",
      "Saved the current state after iteration 130 in the file bayesiana.RDATA.\n",
      "\n"
     ]
    },
    {
     "name": "stdout",
     "output_type": "stream",
     "text": [
      "85547000 78323000 77994000 86037000 82859000 \n",
      "20230901 022959\t-0.999000475064241\t2656\t1328\t7\t5\t5\t82152000\t146\n"
     ]
    },
    {
     "name": "stderr",
     "output_type": "stream",
     "text": [
      "[mbo] 130: cp=-0.999; minsplit=2656; minbucket=1328; maxdepth=7 : y = 8.22e+07 : 159.5 secs : infill_ei\n",
      "\n"
     ]
    },
    {
     "name": "stdout",
     "output_type": "stream",
     "text": [
      "86800000 82544000 83272000 84056000 85736000 \n",
      "20230901 023335\t-0.952926534937647\t4172\t948\t20\t5\t5\t84481600\t147\n"
     ]
    },
    {
     "name": "stderr",
     "output_type": "stream",
     "text": [
      "[mbo] 131: cp=-0.953; minsplit=4172; minbucket=948; maxdepth=20 : y = 8.45e+07 : 213.5 secs : infill_ei\n",
      "\n"
     ]
    },
    {
     "name": "stdout",
     "output_type": "stream",
     "text": [
      "94752000 89229000 95438000 93639000 92981000 \n",
      "20230901 023830\t-0.6696833015759\t1691\t143\t20\t5\t5\t93207800\t148\n"
     ]
    },
    {
     "name": "stderr",
     "output_type": "stream",
     "text": [
      "[mbo] 132: cp=-0.67; minsplit=1691; minbucket=143; maxdepth=20 : y = 9.32e+07 : 292.5 secs : infill_ei\n",
      "\n",
      "Saved the current state after iteration 133 in the file bayesiana.RDATA.\n",
      "\n"
     ]
    },
    {
     "name": "stdout",
     "output_type": "stream",
     "text": [
      "83825000 86912000 79121000 87430000 83881000 \n",
      "20230901 024113\t-0.241314209497947\t2155\t1077\t7\t5\t5\t84233800\t149\n"
     ]
    },
    {
     "name": "stderr",
     "output_type": "stream",
     "text": [
      "[mbo] 133: cp=-0.241; minsplit=2155; minbucket=1077; maxdepth=7 : y = 8.42e+07 : 158.9 secs : infill_ei\n",
      "\n"
     ]
    },
    {
     "name": "stdout",
     "output_type": "stream",
     "text": [
      "94241000 91336000 94332000 90433000 93849000 \n",
      "20230901 024514\t-0.999705298909784\t1163\t581\t20\t5\t5\t92838200\t150\n"
     ]
    },
    {
     "name": "stderr",
     "output_type": "stream",
     "text": [
      "[mbo] 134: cp=-1; minsplit=1163; minbucket=581; maxdepth=20 : y = 9.28e+07 : 238.3 secs : infill_ei\n",
      "\n"
     ]
    },
    {
     "name": "stdout",
     "output_type": "stream",
     "text": [
      "91091000 84665000 90020000 88921000 91385000 \n",
      "20230901 024945\t-0.386938832011289\t2492\t252\t20\t5\t5\t89216400\t151\n"
     ]
    },
    {
     "name": "stderr",
     "output_type": "stream",
     "text": [
      "[mbo] 135: cp=-0.387; minsplit=2492; minbucket=252; maxdepth=20 : y = 8.92e+07 : 268.8 secs : infill_ei\n",
      "\n",
      "Saved the current state after iteration 136 in the file bayesiana.RDATA.\n",
      "\n"
     ]
    },
    {
     "name": "stdout",
     "output_type": "stream",
     "text": [
      "80703000 75957000 78904000 80647000 80479000 \n",
      "20230901 025249\t-0.702805598403329\t5154\t1588\t20\t5\t5\t79338000\t152\n"
     ]
    },
    {
     "name": "stderr",
     "output_type": "stream",
     "text": [
      "[mbo] 136: cp=-0.703; minsplit=5154; minbucket=1588; maxdepth=20 : y = 7.93e+07 : 181.8 secs : infill_ei\n",
      "\n"
     ]
    },
    {
     "name": "stdout",
     "output_type": "stream",
     "text": [
      "93856000 91343000 93597000 99939000 95697000 \n",
      "20230901 025710\t-0.247988581683442\t664\t329\t15\t5\t5\t94886400\t153\n"
     ]
    },
    {
     "name": "stderr",
     "output_type": "stream",
     "text": [
      "[mbo] 137: cp=-0.248; minsplit=664; minbucket=329; maxdepth=15 : y = 9.49e+07 : 258.3 secs : infill_ei\n",
      "\n"
     ]
    },
    {
     "name": "stdout",
     "output_type": "stream",
     "text": [
      "84973000 80584000 84259000 84693000 85918000 \n",
      "20230901 030042\t-0.644063767591468\t3720\t160\t11\t5\t5\t84085400\t154\n"
     ]
    },
    {
     "name": "stderr",
     "output_type": "stream",
     "text": [
      "[mbo] 138: cp=-0.644; minsplit=3720; minbucket=160; maxdepth=11 : y = 8.41e+07 : 209.8 secs : infill_ei\n",
      "\n",
      "Saved the current state after iteration 139 in the file bayesiana.RDATA.\n",
      "\n"
     ]
    },
    {
     "name": "stdout",
     "output_type": "stream",
     "text": [
      "73024000 69608000 72639000 73682000 73941000 \n",
      "20230901 030218\t-0.879051137505837\t5001\t280\t3\t5\t5\t72578800\t155\n"
     ]
    },
    {
     "name": "stderr",
     "output_type": "stream",
     "text": [
      "[mbo] 139: cp=-0.879; minsplit=5001; minbucket=280; maxdepth=3 : y = 7.26e+07 : 93.0 secs : infill_ei\n",
      "\n"
     ]
    },
    {
     "name": "stdout",
     "output_type": "stream",
     "text": [
      "67522000 64295000 65541000 67137000 65359000 \n",
      "20230901 030441\t-0.561976134876226\t6913\t2\t6\t5\t5\t65970800\t156\n"
     ]
    },
    {
     "name": "stderr",
     "output_type": "stream",
     "text": [
      "[mbo] 140: cp=-0.562; minsplit=6913; minbucket=2; maxdepth=6 : y = 6.6e+07 : 139.9 secs : infill_ei\n",
      "\n"
     ]
    },
    {
     "name": "stdout",
     "output_type": "stream",
     "text": [
      "97818000 98245000 97601000 98756000 98182000 \n",
      "20230901 030727\t-0.443455532796388\t631\t311\t7\t5\t5\t98120400\t157\n"
     ]
    },
    {
     "name": "stderr",
     "output_type": "stream",
     "text": [
      "[mbo] 141: cp=-0.443; minsplit=631; minbucket=311; maxdepth=7 : y = 9.81e+07 : 163.2 secs : infill_ei\n",
      "\n"
     ]
    },
    {
     "name": "stdout",
     "output_type": "stream",
     "text": [
      "67340000 70063000 69559000 71442000 73465000 \n",
      "20230901 031011\t-0.205433353672705\t6695\t3347\t20\t5\t5\t70373800\t158\n"
     ]
    },
    {
     "name": "stderr",
     "output_type": "stream",
     "text": [
      "[mbo] 142: cp=-0.205; minsplit=6695; minbucket=3347; maxdepth=20 : y = 7.04e+07 : 160.6 secs : infill_ei\n",
      "\n"
     ]
    },
    {
     "name": "stdout",
     "output_type": "stream",
     "text": [
      "81473000 81403000 79898000 86142000 82257000 \n",
      "20230901 031240\t-0.233600040340613\t3986\t1992\t6\t5\t5\t82234600\t159\n"
     ]
    },
    {
     "name": "stderr",
     "output_type": "stream",
     "text": [
      "[mbo] 143: cp=-0.234; minsplit=3986; minbucket=1992; maxdepth=6 : y = 8.22e+07 : 146.2 secs : infill_ei\n",
      "\n",
      "Saved the current state after iteration 144 in the file bayesiana.RDATA.\n",
      "\n"
     ]
    },
    {
     "name": "stdout",
     "output_type": "stream",
     "text": [
      "63630000 62909000 65856000 66059000 66997000 \n",
      "20230901 031524\t-0.232349898348141\t7998\t2923\t17\t5\t5\t65090200\t160\n"
     ]
    },
    {
     "name": "stderr",
     "output_type": "stream",
     "text": [
      "[mbo] 144: cp=-0.232; minsplit=7998; minbucket=2923; maxdepth=17 : y = 6.51e+07 : 160.7 secs : infill_ei\n",
      "\n"
     ]
    },
    {
     "name": "stdout",
     "output_type": "stream",
     "text": [
      "98329000 97860000 97566000 98469000 99351000 \n",
      "20230901 031813\t-0.65495964963028\t632\t287\t7\t5\t5\t98315000\t161\n"
     ]
    },
    {
     "name": "stderr",
     "output_type": "stream",
     "text": [
      "[mbo] 145: cp=-0.655; minsplit=632; minbucket=287; maxdepth=7 : y = 9.83e+07 : 165.8 secs : infill_ei\n",
      "\n"
     ]
    },
    {
     "name": "stdout",
     "output_type": "stream",
     "text": [
      "63602000 64876000 68922000 68530000 69104000 \n",
      "20230901 032056\t-0.935833365602728\t8000\t3283\t14\t5\t5\t67006800\t162\n"
     ]
    },
    {
     "name": "stderr",
     "output_type": "stream",
     "text": [
      "[mbo] 146: cp=-0.936; minsplit=8000; minbucket=3283; maxdepth=14 : y = 6.7e+07 : 160.5 secs : infill_ei\n",
      "\n"
     ]
    },
    {
     "name": "stdout",
     "output_type": "stream",
     "text": [
      "97930000 97860000 97762000 99050000 99316000 \n",
      "20230901 032345\t-0.837395939336064\t628\t285\t7\t5\t5\t98383600\t163\n"
     ]
    },
    {
     "name": "stderr",
     "output_type": "stream",
     "text": [
      "[mbo] 147: cp=-0.837; minsplit=628; minbucket=285; maxdepth=7 : y = 9.84e+07 : 166.5 secs : infill_ei\n",
      "\n",
      "Saved the current state after iteration 148 in the file bayesiana.RDATA.\n",
      "\n"
     ]
    },
    {
     "name": "stdout",
     "output_type": "stream",
     "text": [
      "98189000 96124000 92120000 97293000 95550000 \n",
      "20230901 032628\t-0.635097320480242\t1513\t133\t7\t5\t5\t95855200\t164\n"
     ]
    },
    {
     "name": "stderr",
     "output_type": "stream",
     "text": [
      "[mbo] 148: cp=-0.635; minsplit=1513; minbucket=133; maxdepth=7 : y = 9.59e+07 : 159.8 secs : infill_ei\n",
      "\n"
     ]
    },
    {
     "name": "stdout",
     "output_type": "stream",
     "text": [
      "63630000 63021000 65856000 66059000 66997000 \n",
      "20230901 032852\t-0.296126538186494\t8000\t2411\t7\t5\t5\t65112600\t165\n"
     ]
    },
    {
     "name": "stderr",
     "output_type": "stream",
     "text": [
      "[mbo] 149: cp=-0.296; minsplit=8000; minbucket=2411; maxdepth=7 : y = 6.51e+07 : 141.5 secs : infill_ei\n",
      "\n"
     ]
    },
    {
     "name": "stdout",
     "output_type": "stream",
     "text": [
      "97853000 97944000 97496000 98140000 99435000 \n",
      "20230901 033142\t-0.262807416301796\t635\t297\t7\t5\t5\t98173600\t166\n"
     ]
    },
    {
     "name": "stderr",
     "output_type": "stream",
     "text": [
      "[mbo] 150: cp=-0.263; minsplit=635; minbucket=297; maxdepth=7 : y = 9.82e+07 : 167.2 secs : infill_ei\n",
      "\n"
     ]
    },
    {
     "name": "stdout",
     "output_type": "stream",
     "text": [
      "94745000 93541000 95137000 97741000 95004000 \n",
      "20230901 033557\t-0.477112167293196\t789\t392\t18\t5\t5\t95233600\t167\n"
     ]
    },
    {
     "name": "stderr",
     "output_type": "stream",
     "text": [
      "[mbo] 151: cp=-0.477; minsplit=789; minbucket=392; maxdepth=18 : y = 9.52e+07 : 250.7 secs : infill_ei\n",
      "\n",
      "Saved the current state after iteration 152 in the file bayesiana.RDATA.\n",
      "\n"
     ]
    },
    {
     "name": "stdout",
     "output_type": "stream",
     "text": [
      "80297000 77707000 78288000 81515000 81858000 \n",
      "20230901 033833\t-0.788604661172476\t5144\t2568\t7\t5\t5\t79933000\t168\n"
     ]
    },
    {
     "name": "stderr",
     "output_type": "stream",
     "text": [
      "[mbo] 152: cp=-0.789; minsplit=5144; minbucket=2568; maxdepth=7 : y = 7.99e+07 : 152.7 secs : infill_ei\n",
      "\n"
     ]
    },
    {
     "name": "stdout",
     "output_type": "stream",
     "text": [
      "94584000 93240000 94941000 99582000 96082000 \n",
      "20230901 034230\t-0.799824523366828\t661\t281\t12\t5\t5\t95685800\t169\n"
     ]
    },
    {
     "name": "stderr",
     "output_type": "stream",
     "text": [
      "[mbo] 153: cp=-0.8; minsplit=661; minbucket=281; maxdepth=12 : y = 9.57e+07 : 234.7 secs : infill_ei\n",
      "\n"
     ]
    },
    {
     "name": "stdout",
     "output_type": "stream",
     "text": [
      "63630000 63966000 65856000 66059000 66997000 \n",
      "20230901 034402\t-0.999201310278474\t8000\t918\t3\t5\t5\t65301600\t170\n"
     ]
    },
    {
     "name": "stderr",
     "output_type": "stream",
     "text": [
      "[mbo] 154: cp=-0.999; minsplit=8000; minbucket=918; maxdepth=3 : y = 6.53e+07 : 89.3 secs : infill_ei\n",
      "\n"
     ]
    },
    {
     "name": "stdout",
     "output_type": "stream",
     "text": [
      "98329000 98140000 97566000 99050000 99351000 \n",
      "20230901 034651\t-0.346069653591741\t648\t287\t7\t5\t5\t98487200\t171\n"
     ]
    },
    {
     "name": "stderr",
     "output_type": "stream",
     "text": [
      "[mbo] 155: cp=-0.346; minsplit=648; minbucket=287; maxdepth=7 : y = 9.85e+07 : 165.5 secs : infill_ei\n",
      "\n",
      "Saved the current state after iteration 156 in the file bayesiana.RDATA.\n",
      "\n"
     ]
    },
    {
     "name": "stdout",
     "output_type": "stream",
     "text": [
      "79765000 78127000 79590000 83965000 84483000 \n",
      "20230901 034950\t-0.997068895956858\t4745\t2370\t12\t5\t5\t81186000\t172\n"
     ]
    },
    {
     "name": "stderr",
     "output_type": "stream",
     "text": [
      "[mbo] 156: cp=-0.997; minsplit=4745; minbucket=2370; maxdepth=12 : y = 8.12e+07 : 176.3 secs : infill_ei\n",
      "\n"
     ]
    },
    {
     "name": "stdout",
     "output_type": "stream",
     "text": [
      "95851000 96901000 92610000 96572000 95214000 \n",
      "20230901 035236\t-0.238991661276353\t626\t186\t7\t5\t5\t95429600\t173\n"
     ]
    },
    {
     "name": "stderr",
     "output_type": "stream",
     "text": [
      "[mbo] 157: cp=-0.239; minsplit=626; minbucket=186; maxdepth=7 : y = 9.54e+07 : 162.7 secs : infill_ei\n",
      "\n"
     ]
    },
    {
     "name": "stdout",
     "output_type": "stream",
     "text": [
      "92057000 89635000 93219000 92379000 92267000 \n",
      "20230901 035520\t-0.816933134135705\t2321\t11\t7\t5\t5\t91911400\t174\n"
     ]
    },
    {
     "name": "stderr",
     "output_type": "stream",
     "text": [
      "[mbo] 158: cp=-0.817; minsplit=2321; minbucket=11; maxdepth=7 : y = 9.19e+07 : 161.5 secs : infill_ei\n",
      "\n"
     ]
    },
    {
     "name": "stdout",
     "output_type": "stream",
     "text": [
      "86576000 83251000 85666000 88921000 87024000 \n",
      "20230901 035744\t-0.333363432210056\t3381\t3\t6\t5\t5\t86287600\t175\n"
     ]
    },
    {
     "name": "stderr",
     "output_type": "stream",
     "text": [
      "[mbo] 159: cp=-0.333; minsplit=3381; minbucket=3; maxdepth=6 : y = 8.63e+07 : 140.8 secs : infill_ei\n",
      "\n",
      "Saved the current state after iteration 160 in the file bayesiana.RDATA.\n",
      "\n"
     ]
    },
    {
     "name": "stdout",
     "output_type": "stream",
     "text": [
      "80038000 77105000 77980000 80934000 83531000 \n",
      "20230901 040239\t-0.219826376239961\t4614\t29\t20\t5\t5\t79917600\t176\n"
     ]
    },
    {
     "name": "stderr",
     "output_type": "stream",
     "text": [
      "[mbo] 160: cp=-0.22; minsplit=4614; minbucket=29; maxdepth=20 : y = 7.99e+07 : 292.6 secs : infill_ei\n",
      "\n"
     ]
    },
    {
     "name": "stdout",
     "output_type": "stream",
     "text": [
      "81627000 81508000 80717000 86191000 82558000 \n",
      "20230901 040540\t-0.180297180524503\t4287\t2143\t20\t5\t5\t82520200\t177\n"
     ]
    },
    {
     "name": "stderr",
     "output_type": "stream",
     "text": [
      "[mbo] 161: cp=-0.18; minsplit=4287; minbucket=2143; maxdepth=20 : y = 8.25e+07 : 178.3 secs : infill_ei\n",
      "\n"
     ]
    },
    {
     "name": "stdout",
     "output_type": "stream",
     "text": [
      "90174000 92309000 94871000 98763000 96005000 \n",
      "20230901 040953\t-0.960080321793857\t647\t298\t14\t5\t5\t94424400\t178\n"
     ]
    },
    {
     "name": "stderr",
     "output_type": "stream",
     "text": [
      "[mbo] 162: cp=-0.96; minsplit=647; minbucket=298; maxdepth=14 : y = 9.44e+07 : 249.3 secs : infill_ei\n",
      "\n",
      "Saved the current state after iteration 163 in the file bayesiana.RDATA.\n",
      "\n"
     ]
    },
    {
     "name": "stdout",
     "output_type": "stream",
     "text": [
      "82446000 78176000 82516000 79471000 81417000 \n",
      "20230901 041143\t-0.33884253525432\t2456\t1\t4\t5\t5\t80805200\t179\n"
     ]
    },
    {
     "name": "stderr",
     "output_type": "stream",
     "text": [
      "[mbo] 163: cp=-0.339; minsplit=2456; minbucket=1; maxdepth=4 : y = 8.08e+07 : 106.9 secs : infill_ei\n",
      "\n"
     ]
    },
    {
     "name": "stdout",
     "output_type": "stream",
     "text": [
      "63924000 63938000 64841000 65576000 66185000 \n",
      "20230901 041457\t-0.214243831431221\t7998\t960\t20\t5\t5\t64892800\t180\n"
     ]
    },
    {
     "name": "stderr",
     "output_type": "stream",
     "text": [
      "[mbo] 164: cp=-0.214; minsplit=7998; minbucket=960; maxdepth=20 : y = 6.49e+07 : 190.9 secs : infill_ei\n",
      "\n"
     ]
    },
    {
     "name": "stdout",
     "output_type": "stream",
     "text": [
      "87269000 83601000 85365000 88634000 84504000 \n",
      "20230901 041744\t-0.776145647474681\t1875\t937\t7\t5\t5\t85874600\t181\n"
     ]
    },
    {
     "name": "stderr",
     "output_type": "stream",
     "text": [
      "[mbo] 165: cp=-0.776; minsplit=1875; minbucket=937; maxdepth=7 : y = 8.59e+07 : 163.9 secs : infill_ei\n",
      "\n"
     ]
    },
    {
     "name": "stdout",
     "output_type": "stream",
     "text": [
      "95739000 91469000 91147000 90475000 93975000 \n",
      "20230901 042026\t-0.993402566030465\t1306\t651\t7\t5\t5\t92561000\t182\n"
     ]
    },
    {
     "name": "stderr",
     "output_type": "stream",
     "text": [
      "[mbo] 166: cp=-0.993; minsplit=1306; minbucket=651; maxdepth=7 : y = 9.26e+07 : 159.3 secs : infill_ei\n",
      "\n",
      "Saved the current state after iteration 167 in the file bayesiana.RDATA.\n",
      "\n"
     ]
    },
    {
     "name": "stdout",
     "output_type": "stream",
     "text": [
      "84273000 82047000 78442000 85596000 81669000 \n",
      "20230901 042348\t-0.284698181789431\t2757\t1374\t15\t5\t5\t82405400\t183\n"
     ]
    },
    {
     "name": "stderr",
     "output_type": "stream",
     "text": [
      "[mbo] 167: cp=-0.285; minsplit=2757; minbucket=1374; maxdepth=15 : y = 8.24e+07 : 198.0 secs : infill_ei\n",
      "\n"
     ]
    },
    {
     "name": "stdout",
     "output_type": "stream",
     "text": [
      "74172000 72954000 74235000 73682000 73941000 \n",
      "20230901 042522\t-0.999962954759364\t4331\t1122\t3\t5\t5\t73796800\t184\n"
     ]
    },
    {
     "name": "stderr",
     "output_type": "stream",
     "text": [
      "[mbo] 168: cp=-1; minsplit=4331; minbucket=1122; maxdepth=3 : y = 7.38e+07 : 91.2 secs : infill_ei\n",
      "\n"
     ]
    },
    {
     "name": "stdout",
     "output_type": "stream",
     "text": [
      "63630000 63987000 64631000 66059000 66997000 \n",
      "20230901 042739\t-0.211162902512209\t8000\t1298\t6\t5\t5\t65060800\t185\n"
     ]
    },
    {
     "name": "stderr",
     "output_type": "stream",
     "text": [
      "[mbo] 169: cp=-0.211; minsplit=8000; minbucket=1298; maxdepth=6 : y = 6.51e+07 : 133.5 secs : infill_ei\n",
      "\n"
     ]
    },
    {
     "name": "stdout",
     "output_type": "stream",
     "text": [
      "97916000 97265000 97811000 98693000 97867000 \n",
      "20230901 043028\t-0.191214033814219\t633\t315\t7\t5\t5\t97910400\t186\n"
     ]
    },
    {
     "name": "stderr",
     "output_type": "stream",
     "text": [
      "[mbo] 170: cp=-0.191; minsplit=633; minbucket=315; maxdepth=7 : y = 9.79e+07 : 164.9 secs : infill_ei\n",
      "\n",
      "Saved the current state after iteration 171 in the file bayesiana.RDATA.\n",
      "\n"
     ]
    },
    {
     "name": "stdout",
     "output_type": "stream",
     "text": [
      "68320000 66416000 70434000 69258000 70483000 \n",
      "20230901 043311\t-0.650990658726019\t7614\t3806\t17\t5\t5\t68982200\t187\n"
     ]
    },
    {
     "name": "stderr",
     "output_type": "stream",
     "text": [
      "[mbo] 171: cp=-0.651; minsplit=7614; minbucket=3806; maxdepth=17 : y = 6.9e+07 : 159.6 secs : infill_ei\n",
      "\n"
     ]
    },
    {
     "name": "stdout",
     "output_type": "stream",
     "text": [
      "94850000 95179000 98490000 98938000 96894000 \n",
      "20230901 043720\t-0.999665894137635\t1000\t435\t18\t5\t5\t96870200\t188\n"
     ]
    },
    {
     "name": "stderr",
     "output_type": "stream",
     "text": [
      "[mbo] 172: cp=-1; minsplit=1000; minbucket=435; maxdepth=18 : y = 9.69e+07 : 246.4 secs : infill_ei\n",
      "\n"
     ]
    },
    {
     "name": "stdout",
     "output_type": "stream",
     "text": [
      "95242000 91994000 101318000 96852000 97986000 \n",
      "20230901 044145\t-0.91877126793668\t1020\t282\t17\t5\t5\t96678400\t189\n"
     ]
    },
    {
     "name": "stderr",
     "output_type": "stream",
     "text": [
      "[mbo] 173: cp=-0.919; minsplit=1020; minbucket=282; maxdepth=17 : y = 9.67e+07 : 261.8 secs : infill_ei\n",
      "\n",
      "Saved the current state after iteration 174 in the file bayesiana.RDATA.\n",
      "\n"
     ]
    },
    {
     "name": "stdout",
     "output_type": "stream",
     "text": [
      "81564000 82110000 80773000 83951000 82950000 \n",
      "20230901 044421\t-0.602561734110947\t4428\t2207\t7\t5\t5\t82269600\t190\n"
     ]
    },
    {
     "name": "stderr",
     "output_type": "stream",
     "text": [
      "[mbo] 174: cp=-0.603; minsplit=4428; minbucket=2207; maxdepth=7 : y = 8.23e+07 : 152.3 secs : infill_ei\n",
      "\n"
     ]
    },
    {
     "name": "stdout",
     "output_type": "stream",
     "text": [
      "74172000 72954000 74235000 73682000 73941000 \n",
      "20230901 044557\t-0.173892111473854\t2980\t1486\t3\t5\t5\t73796800\t191\n"
     ]
    },
    {
     "name": "stderr",
     "output_type": "stream",
     "text": [
      "[mbo] 175: cp=-0.174; minsplit=2980; minbucket=1486; maxdepth=3 : y = 7.38e+07 : 93.0 secs : infill_ei\n",
      "\n"
     ]
    },
    {
     "name": "stdout",
     "output_type": "stream",
     "text": [
      "74704000 71932000 71358000 73262000 77497000 \n",
      "20230901 044804\t-0.186977604378221\t5690\t2104\t5\t5\t5\t73750600\t192\n"
     ]
    },
    {
     "name": "stderr",
     "output_type": "stream",
     "text": [
      "[mbo] 176: cp=-0.187; minsplit=5690; minbucket=2104; maxdepth=5 : y = 7.38e+07 : 123.7 secs : infill_ei\n",
      "\n"
     ]
    },
    {
     "name": "stdout",
     "output_type": "stream",
     "text": [
      "79044000 74683000 76909000 77182000 78652000 \n",
      "20230901 045105\t-0.999325589927558\t5222\t2061\t18\t5\t5\t77294000\t193\n"
     ]
    },
    {
     "name": "stderr",
     "output_type": "stream",
     "text": [
      "[mbo] 177: cp=-0.999; minsplit=5222; minbucket=2061; maxdepth=18 : y = 7.73e+07 : 177.8 secs : infill_ei\n",
      "\n"
     ]
    },
    {
     "name": "stdout",
     "output_type": "stream",
     "text": [
      "74256000 72520000 69993000 72779000 76580000 \n",
      "20230901 045334\t-0.99982057586488\t5730\t2864\t7\t5\t5\t73225600\t194\n"
     ]
    },
    {
     "name": "stderr",
     "output_type": "stream",
     "text": [
      "[mbo] 178: cp=-1; minsplit=5730; minbucket=2864; maxdepth=7 : y = 7.32e+07 : 146.2 secs : infill_ei\n",
      "\n",
      "Saved the current state after iteration 179 in the file bayesiana.RDATA.\n",
      "\n"
     ]
    },
    {
     "name": "stdout",
     "output_type": "stream",
     "text": [
      "63602000 64848000 68873000 69104000 69685000 \n",
      "20230901 045541\t-0.603329663010215\t7996\t3345\t5\t5\t5\t67222400\t195\n"
     ]
    },
    {
     "name": "stderr",
     "output_type": "stream",
     "text": [
      "[mbo] 179: cp=-0.603; minsplit=7996; minbucket=3345; maxdepth=5 : y = 6.72e+07 : 122.8 secs : infill_ei\n",
      "\n"
     ]
    },
    {
     "name": "stdout",
     "output_type": "stream",
     "text": [
      "63924000 63938000 64841000 65576000 66185000 \n",
      "20230901 045904\t-0.823677585818981\t7998\t821\t20\t5\t5\t64892800\t196\n"
     ]
    },
    {
     "name": "stderr",
     "output_type": "stream",
     "text": [
      "[mbo] 180: cp=-0.824; minsplit=7998; minbucket=821; maxdepth=20 : y = 6.49e+07 : 199.5 secs : infill_ei\n",
      "\n"
     ]
    },
    {
     "name": "stdout",
     "output_type": "stream",
     "text": [
      "91938000 93009000 95732000 99141000 95319000 \n",
      "20230901 050327\t-0.191524725075199\t690\t341\t20\t5\t5\t95027800\t197\n"
     ]
    },
    {
     "name": "stderr",
     "output_type": "stream",
     "text": [
      "[mbo] 181: cp=-0.192; minsplit=690; minbucket=341; maxdepth=20 : y = 9.5e+07 : 260.7 secs : infill_ei\n",
      "\n"
     ]
    },
    {
     "name": "stdout",
     "output_type": "stream",
     "text": [
      "97055000 95515000 98322000 97636000 96138000 \n",
      "20230901 050739\t-0.211101755327919\t988\t441\t20\t5\t5\t96933200\t198\n"
     ]
    },
    {
     "name": "stderr",
     "output_type": "stream",
     "text": [
      "[mbo] 182: cp=-0.211; minsplit=988; minbucket=441; maxdepth=20 : y = 9.69e+07 : 249.1 secs : infill_ei\n",
      "\n",
      "Saved the current state after iteration 183 in the file bayesiana.RDATA.\n",
      "\n"
     ]
    },
    {
     "name": "stdout",
     "output_type": "stream",
     "text": [
      "94892000 93765000 97265000 92806000 95942000 \n",
      "20230901 051207\t-0.208208958057434\t1461\t275\t18\t5\t5\t94934000\t199\n"
     ]
    },
    {
     "name": "stderr",
     "output_type": "stream",
     "text": [
      "[mbo] 183: cp=-0.208; minsplit=1461; minbucket=275; maxdepth=18 : y = 9.49e+07 : 264.4 secs : infill_ei\n",
      "\n"
     ]
    },
    {
     "name": "stdout",
     "output_type": "stream",
     "text": [
      "88935000 87528000 89341000 87871000 86646000 \n",
      "20230901 051555\t-0.414078841453741\t1700\t818\t20\t5\t5\t88064200\t200\n"
     ]
    },
    {
     "name": "stderr",
     "output_type": "stream",
     "text": [
      "[mbo] 184: cp=-0.414; minsplit=1700; minbucket=818; maxdepth=20 : y = 8.81e+07 : 225.2 secs : infill_ei\n",
      "\n"
     ]
    },
    {
     "name": "stdout",
     "output_type": "stream",
     "text": [
      "84539000 82523000 78904000 84819000 81998000 \n",
      "20230901 051907\t-0.201895331025262\t3339\t1667\t11\t5\t5\t82556600\t201\n"
     ]
    },
    {
     "name": "stderr",
     "output_type": "stream",
     "text": [
      "[mbo] 185: cp=-0.202; minsplit=3339; minbucket=1667; maxdepth=11 : y = 8.26e+07 : 188.2 secs : infill_ei\n",
      "\n",
      "Saved the current state after iteration 186 in the file bayesiana.RDATA.\n",
      "\n"
     ]
    },
    {
     "name": "stdout",
     "output_type": "stream",
     "text": [
      "79044000 75341000 76909000 77182000 78652000 \n",
      "20230901 052112\t-0.999551565989855\t5213\t1804\t5\t5\t5\t77425600\t202\n"
     ]
    },
    {
     "name": "stderr",
     "output_type": "stream",
     "text": [
      "[mbo] 186: cp=-1; minsplit=5213; minbucket=1804; maxdepth=5 : y = 7.74e+07 : 122.5 secs : infill_ei\n",
      "\n"
     ]
    },
    {
     "name": "stdout",
     "output_type": "stream",
     "text": [
      "79709000 77714000 80493000 84294000 82061000 \n",
      "20230901 052411\t-0.337327301844906\t4689\t2035\t12\t5\t5\t80854200\t203\n"
     ]
    },
    {
     "name": "stderr",
     "output_type": "stream",
     "text": [
      "[mbo] 187: cp=-0.337; minsplit=4689; minbucket=2035; maxdepth=12 : y = 8.09e+07 : 176.0 secs : infill_ei\n",
      "\n"
     ]
    },
    {
     "name": "stdout",
     "output_type": "stream",
     "text": [
      "63630000 63126000 65856000 66059000 66997000 \n",
      "20230901 052659\t-0.2115753476863\t7997\t2135\t20\t5\t5\t65133600\t204\n"
     ]
    },
    {
     "name": "stderr",
     "output_type": "stream",
     "text": [
      "[mbo] 188: cp=-0.212; minsplit=7997; minbucket=2135; maxdepth=20 : y = 6.51e+07 : 165.3 secs : infill_ei\n",
      "\n"
     ]
    },
    {
     "name": "stdout",
     "output_type": "stream",
     "text": [
      "79765000 75943000 79541000 83923000 84483000 \n",
      "20230901 052958\t-0.539029996548861\t4783\t2384\t20\t5\t5\t80731000\t205\n"
     ]
    },
    {
     "name": "stderr",
     "output_type": "stream",
     "text": [
      "[mbo] 189: cp=-0.539; minsplit=4783; minbucket=2384; maxdepth=20 : y = 8.07e+07 : 175.2 secs : infill_ei\n",
      "\n",
      "Saved the current state after iteration 190 in the file bayesiana.RDATA.\n",
      "\n"
     ]
    },
    {
     "name": "stdout",
     "output_type": "stream",
     "text": [
      "94346000 92918000 99463000 95186000 96943000 \n",
      "20230901 053433\t-0.770293836555744\t1087\t280\t19\t5\t5\t95771200\t206\n"
     ]
    },
    {
     "name": "stderr",
     "output_type": "stream",
     "text": [
      "[mbo] 190: cp=-0.77; minsplit=1087; minbucket=280; maxdepth=19 : y = 9.58e+07 : 271.9 secs : infill_ei\n",
      "\n"
     ]
    },
    {
     "name": "stdout",
     "output_type": "stream",
     "text": [
      "63630000 63343000 65856000 66059000 66997000 \n",
      "20230901 053704\t-0.999881956570216\t7995\t1996\t7\t5\t5\t65177000\t207\n"
     ]
    },
    {
     "name": "stderr",
     "output_type": "stream",
     "text": [
      "[mbo] 191: cp=-1; minsplit=7995; minbucket=1996; maxdepth=7 : y = 6.52e+07 : 148.6 secs : infill_ei\n",
      "\n"
     ]
    },
    {
     "name": "stdout",
     "output_type": "stream",
     "text": [
      "66668000 65317000 68761000 68901000 69930000 \n",
      "20230901 053941\t-0.239544873604229\t8000\t3655\t12\t5\t5\t67915400\t208\n"
     ]
    },
    {
     "name": "stderr",
     "output_type": "stream",
     "text": [
      "[mbo] 192: cp=-0.24; minsplit=8000; minbucket=3655; maxdepth=12 : y = 6.79e+07 : 153.9 secs : infill_ei\n",
      "\n"
     ]
    },
    {
     "name": "stdout",
     "output_type": "stream",
     "text": [
      "69720000 69034000 65093000 68992000 69720000 \n",
      "20230901 054328\t-0.195257804208296\t6338\t490\t20\t5\t5\t68511800\t209\n"
     ]
    },
    {
     "name": "stderr",
     "output_type": "stream",
     "text": [
      "[mbo] 193: cp=-0.195; minsplit=6338; minbucket=490; maxdepth=20 : y = 6.85e+07 : 224.0 secs : infill_ei\n",
      "\n",
      "Saved the current state after iteration 194 in the file bayesiana.RDATA.\n",
      "\n"
     ]
    },
    {
     "name": "stdout",
     "output_type": "stream",
     "text": [
      "84595000 81858000 78582000 85141000 84840000 \n",
      "20230901 054645\t-0.665214658973813\t3836\t1390\t18\t5\t5\t83003200\t210\n"
     ]
    },
    {
     "name": "stderr",
     "output_type": "stream",
     "text": [
      "[mbo] 194: cp=-0.665; minsplit=3836; minbucket=1390; maxdepth=18 : y = 8.3e+07 : 194.3 secs : infill_ei\n",
      "\n"
     ]
    },
    {
     "name": "stdout",
     "output_type": "stream",
     "text": [
      "67893000 63154000 64841000 65576000 66185000 \n",
      "20230901 054952\t-0.200396385535256\t7567\t742\t11\t5\t5\t65529800\t211\n"
     ]
    },
    {
     "name": "stderr",
     "output_type": "stream",
     "text": [
      "[mbo] 195: cp=-0.2; minsplit=7567; minbucket=742; maxdepth=11 : y = 6.55e+07 : 184.4 secs : infill_ei\n",
      "\n"
     ]
    },
    {
     "name": "stdout",
     "output_type": "stream",
     "text": [
      "95991000 93884000 92015000 96999000 93324000 \n",
      "20230901 055236\t-0.205939880032404\t1614\t194\t7\t5\t5\t94442600\t212\n"
     ]
    },
    {
     "name": "stderr",
     "output_type": "stream",
     "text": [
      "[mbo] 196: cp=-0.206; minsplit=1614; minbucket=194; maxdepth=7 : y = 9.44e+07 : 160.2 secs : infill_ei\n",
      "\n"
     ]
    },
    {
     "name": "stdout",
     "output_type": "stream",
     "text": [
      "95382000 93765000 97216000 92848000 96299000 \n",
      "20230901 055657\t-0.675708361380283\t1450\t279\t17\t5\t5\t95102000\t213\n"
     ]
    },
    {
     "name": "stderr",
     "output_type": "stream",
     "text": [
      "[mbo] 197: cp=-0.676; minsplit=1450; minbucket=279; maxdepth=17 : y = 9.51e+07 : 257.6 secs : infill_ei\n",
      "\n",
      "Saved the current state after iteration 198 in the file bayesiana.RDATA.\n",
      "\n"
     ]
    },
    {
     "name": "stdout",
     "output_type": "stream",
     "text": [
      "97923000 97860000 97748000 99253000 99288000 \n",
      "20230901 055948\t-0.934088868505181\t626\t281\t7\t5\t5\t98414400\t214\n"
     ]
    },
    {
     "name": "stderr",
     "output_type": "stream",
     "text": [
      "[mbo] 198: cp=-0.934; minsplit=626; minbucket=281; maxdepth=7 : y = 9.84e+07 : 167.2 secs : infill_ei\n",
      "\n"
     ]
    },
    {
     "name": "stdout",
     "output_type": "stream",
     "text": [
      "92414000 93135000 95249000 99106000 97090000 \n",
      "20230901 060345\t-0.199531549785672\t657\t291\t12\t5\t5\t95398800\t215\n"
     ]
    },
    {
     "name": "stderr",
     "output_type": "stream",
     "text": [
      "[mbo] 199: cp=-0.2; minsplit=657; minbucket=291; maxdepth=12 : y = 9.54e+07 : 233.4 secs : infill_ei\n",
      "\n"
     ]
    },
    {
     "name": "stdout",
     "output_type": "stream",
     "text": [
      "98434000 98028000 97748000 98210000 99288000 \n",
      "20230901 060634\t-0.982746110614007\t631\t280\t7\t5\t5\t98341600\t216\n"
     ]
    },
    {
     "name": "stderr",
     "output_type": "stream",
     "text": [
      "[mbo] 200: cp=-0.983; minsplit=631; minbucket=280; maxdepth=7 : y = 9.83e+07 : 165.9 secs : infill_ei\n",
      "\n"
     ]
    },
    {
     "name": "stdout",
     "output_type": "stream",
     "text": [
      "98406000 98140000 97167000 99778000 99288000 \n",
      "20230901 060921\t-0.94773282132567\t661\t281\t7\t5\t5\t98555800\t217\n"
     ]
    },
    {
     "name": "stderr",
     "output_type": "stream",
     "text": [
      "[mbo] 201: cp=-0.948; minsplit=661; minbucket=281; maxdepth=7 : y = 9.86e+07 : 163.4 secs : infill_ei\n",
      "\n",
      "Saved the current state after iteration 202 in the file bayesiana.RDATA.\n",
      "\n"
     ]
    },
    {
     "name": "stdout",
     "output_type": "stream",
     "text": [
      "98714000 96187000 96523000 98574000 97979000 \n",
      "20230901 061208\t-0.952474363622334\t933\t277\t7\t5\t5\t97595400\t218\n"
     ]
    },
    {
     "name": "stderr",
     "output_type": "stream",
     "text": [
      "[mbo] 202: cp=-0.952; minsplit=933; minbucket=277; maxdepth=7 : y = 9.76e+07 : 163.8 secs : infill_ei\n",
      "\n"
     ]
    },
    {
     "name": "stdout",
     "output_type": "stream",
     "text": [
      "96894000 95116000 94465000 94514000 96061000 \n",
      "20230901 061456\t-0.956685886341051\t1096\t172\t7\t5\t5\t95410000\t219\n"
     ]
    },
    {
     "name": "stderr",
     "output_type": "stream",
     "text": [
      "[mbo] 203: cp=-0.957; minsplit=1096; minbucket=172; maxdepth=7 : y = 9.54e+07 : 164.0 secs : infill_ei\n",
      "\n"
     ]
    },
    {
     "name": "stdout",
     "output_type": "stream",
     "text": [
      "97041000 91980000 97538000 91959000 96369000 \n",
      "20230901 061907\t-0.206369491427741\t934\t465\t18\t5\t5\t94977400\t220\n"
     ]
    },
    {
     "name": "stderr",
     "output_type": "stream",
     "text": [
      "[mbo] 204: cp=-0.206; minsplit=934; minbucket=465; maxdepth=18 : y = 9.5e+07 : 247.4 secs : infill_ei\n",
      "\n"
     ]
    },
    {
     "name": "stdout",
     "output_type": "stream",
     "text": [
      "73395000 69398000 72632000 74312000 75943000 \n",
      "20230901 062043\t-0.999729182276573\t4889\t2444\t3\t5\t5\t73136000\t221\n"
     ]
    },
    {
     "name": "stderr",
     "output_type": "stream",
     "text": [
      "[mbo] 205: cp=-1; minsplit=4889; minbucket=2444; maxdepth=3 : y = 7.31e+07 : 92.9 secs : infill_ei\n",
      "\n",
      "Saved the current state after iteration 206 in the file bayesiana.RDATA.\n",
      "\n"
     ]
    },
    {
     "name": "stdout",
     "output_type": "stream",
     "text": [
      "68516000 66206000 70434000 68418000 70245000 \n",
      "20230901 062247\t-0.390418130034859\t7525\t3762\t5\t5\t5\t68763800\t222\n"
     ]
    },
    {
     "name": "stderr",
     "output_type": "stream",
     "text": [
      "[mbo] 206: cp=-0.39; minsplit=7525; minbucket=3762; maxdepth=5 : y = 6.88e+07 : 120.3 secs : infill_ei\n",
      "\n"
     ]
    },
    {
     "name": "stdout",
     "output_type": "stream",
     "text": [
      "93499000 92890000 96243000 95998000 94073000 \n",
      "20230901 062710\t-0.243963854882842\t1114\t369\t20\t5\t5\t94540600\t223\n"
     ]
    },
    {
     "name": "stderr",
     "output_type": "stream",
     "text": [
      "[mbo] 207: cp=-0.244; minsplit=1114; minbucket=369; maxdepth=20 : y = 9.45e+07 : 259.9 secs : infill_ei\n",
      "\n"
     ]
    },
    {
     "name": "stdout",
     "output_type": "stream",
     "text": [
      "97748000 97419000 96572000 98889000 98812000 \n",
      "20230901 063001\t-0.545549558831934\t659\t299\t7\t5\t5\t97888000\t224\n"
     ]
    },
    {
     "name": "stderr",
     "output_type": "stream",
     "text": [
      "[mbo] 208: cp=-0.546; minsplit=659; minbucket=299; maxdepth=7 : y = 9.79e+07 : 167.8 secs : infill_ei\n",
      "\n"
     ]
    },
    {
     "name": "stdout",
     "output_type": "stream",
     "text": [
      "69524000 71141000 68635000 73234000 73682000 \n",
      "20230901 063254\t-0.205644687065372\t5977\t2574\t13\t5\t5\t71243200\t225\n"
     ]
    },
    {
     "name": "stderr",
     "output_type": "stream",
     "text": [
      "[mbo] 209: cp=-0.206; minsplit=5977; minbucket=2574; maxdepth=13 : y = 7.12e+07 : 170.0 secs : infill_ei\n",
      "\n",
      "Saved the current state after iteration 210 in the file bayesiana.RDATA.\n",
      "\n"
     ]
    },
    {
     "name": "stdout",
     "output_type": "stream",
     "text": [
      "97874000 97272000 97573000 97706000 99274000 \n",
      "20230901 063540\t-0.37207419402191\t618\t279\t7\t5\t5\t97939800\t226\n"
     ]
    },
    {
     "name": "stderr",
     "output_type": "stream",
     "text": [
      "[mbo] 210: cp=-0.372; minsplit=618; minbucket=279; maxdepth=7 : y = 9.79e+07 : 161.8 secs : infill_ei\n",
      "\n"
     ]
    },
    {
     "name": "stdout",
     "output_type": "stream",
     "text": [
      "88172000 82306000 84056000 92512000 91763000 \n",
      "20230901 064135\t-0.19965245400626\t1545\t3\t20\t5\t5\t87761800\t227\n"
     ]
    },
    {
     "name": "stderr",
     "output_type": "stream",
     "text": [
      "[mbo] 211: cp=-0.2; minsplit=1545; minbucket=3; maxdepth=20 : y = 8.78e+07 : 352.6 secs : infill_ei\n",
      "\n"
     ]
    },
    {
     "name": "stdout",
     "output_type": "stream",
     "text": [
      "86317000 82271000 80479000 86744000 85218000 \n",
      "20230901 064447\t-0.2002873279696\t4183\t1264\t11\t5\t5\t84205800\t228\n"
     ]
    },
    {
     "name": "stderr",
     "output_type": "stream",
     "text": [
      "[mbo] 212: cp=-0.2; minsplit=4183; minbucket=1264; maxdepth=11 : y = 8.42e+07 : 188.6 secs : infill_ei\n",
      "\n",
      "Saved the current state after iteration 213 in the file bayesiana.RDATA.\n",
      "\n"
     ]
    },
    {
     "name": "stdout",
     "output_type": "stream",
     "text": [
      "98077000 97902000 94367000 97846000 98700000 \n",
      "20230901 064735\t-0.435417790027498\t552\t249\t7\t5\t5\t97378400\t229\n"
     ]
    },
    {
     "name": "stderr",
     "output_type": "stream",
     "text": [
      "[mbo] 213: cp=-0.435; minsplit=552; minbucket=249; maxdepth=7 : y = 9.74e+07 : 164.2 secs : infill_ei\n",
      "\n"
     ]
    },
    {
     "name": "stdout",
     "output_type": "stream",
     "text": [
      "95893000 91882000 100611000 97083000 97321000 \n",
      "20230901 065155\t-0.758309805863461\t959\t281\t15\t5\t5\t96558000\t230\n"
     ]
    },
    {
     "name": "stderr",
     "output_type": "stream",
     "text": [
      "[mbo] 214: cp=-0.758; minsplit=959; minbucket=281; maxdepth=15 : y = 9.66e+07 : 257.4 secs : infill_ei\n",
      "\n"
     ]
    },
    {
     "name": "stdout",
     "output_type": "stream",
     "text": [
      "94185000 90874000 95382000 94297000 95949000 \n",
      "20230901 065632\t-0.993222512903587\t1496\t206\t18\t5\t5\t94137400\t231\n"
     ]
    },
    {
     "name": "stderr",
     "output_type": "stream",
     "text": [
      "[mbo] 215: cp=-0.993; minsplit=1496; minbucket=206; maxdepth=18 : y = 9.41e+07 : 273.2 secs : infill_ei\n",
      "\n",
      "Saved the current state after iteration 216 in the file bayesiana.RDATA.\n",
      "\n"
     ]
    },
    {
     "name": "stdout",
     "output_type": "stream",
     "text": [
      "96628000 93240000 97412000 92351000 96586000 \n",
      "20230901 070048\t-0.690864998589404\t975\t478\t19\t5\t5\t95243400\t232\n"
     ]
    },
    {
     "name": "stderr",
     "output_type": "stream",
     "text": [
      "[mbo] 216: cp=-0.691; minsplit=975; minbucket=478; maxdepth=19 : y = 9.52e+07 : 252.8 secs : infill_ei\n",
      "\n"
     ]
    },
    {
     "name": "stdout",
     "output_type": "stream",
     "text": [
      "69874000 69727000 71190000 70287000 74305000 \n",
      "20230901 070344\t-0.810736147003795\t6102\t3047\t20\t5\t5\t71076600\t233\n"
     ]
    },
    {
     "name": "stderr",
     "output_type": "stream",
     "text": [
      "[mbo] 217: cp=-0.811; minsplit=6102; minbucket=3047; maxdepth=20 : y = 7.11e+07 : 172.5 secs : infill_ei\n",
      "\n"
     ]
    },
    {
     "name": "stdout",
     "output_type": "stream",
     "text": [
      "67060000 65443000 70434000 68418000 70245000 \n",
      "20230901 070520\t-0.91949884998091\t7999\t3776\t3\t5\t5\t68320000\t234\n"
     ]
    },
    {
     "name": "stderr",
     "output_type": "stream",
     "text": [
      "[mbo] 218: cp=-0.919; minsplit=7999; minbucket=3776; maxdepth=3 : y = 6.83e+07 : 92.6 secs : infill_ei\n",
      "\n"
     ]
    },
    {
     "name": "stdout",
     "output_type": "stream",
     "text": [
      "83314000 81704000 78232000 86660000 84658000 \n",
      "20230901 070833\t-0.199159920209192\t4148\t1488\t20\t5\t5\t82913600\t235\n"
     ]
    },
    {
     "name": "stderr",
     "output_type": "stream",
     "text": [
      "[mbo] 219: cp=-0.199; minsplit=4148; minbucket=1488; maxdepth=20 : y = 8.29e+07 : 189.6 secs : infill_ei\n",
      "\n",
      "Saved the current state after iteration 220 in the file bayesiana.RDATA.\n",
      "\n"
     ]
    },
    {
     "name": "stdout",
     "output_type": "stream",
     "text": [
      "95242000 91994000 101318000 96852000 97986000 \n",
      "20230901 071308\t-0.943988347984703\t1023\t282\t18\t5\t5\t96678400\t236\n"
     ]
    },
    {
     "name": "stderr",
     "output_type": "stream",
     "text": [
      "[mbo] 220: cp=-0.944; minsplit=1023; minbucket=282; maxdepth=18 : y = 9.67e+07 : 272.2 secs : infill_ei\n",
      "\n"
     ]
    },
    {
     "name": "stdout",
     "output_type": "stream",
     "text": [
      "80507000 73766000 71470000 74375000 79142000 \n",
      "20230901 071634\t-0.999566029182709\t5536\t778\t20\t5\t5\t75852000\t237\n"
     ]
    },
    {
     "name": "stderr",
     "output_type": "stream",
     "text": [
      "[mbo] 221: cp=-1; minsplit=5536; minbucket=778; maxdepth=20 : y = 7.59e+07 : 202.4 secs : infill_ei\n",
      "\n"
     ]
    },
    {
     "name": "stdout",
     "output_type": "stream",
     "text": [
      "81473000 81179000 80136000 84294000 81928000 \n",
      "20230901 071939\t-0.887495269941687\t4510\t1871\t10\t5\t5\t81802000\t238\n"
     ]
    },
    {
     "name": "stderr",
     "output_type": "stream",
     "text": [
      "[mbo] 222: cp=-0.887; minsplit=4510; minbucket=1871; maxdepth=10 : y = 8.18e+07 : 181.0 secs : infill_ei\n",
      "\n",
      "Saved the current state after iteration 223 in the file bayesiana.RDATA.\n",
      "\n"
     ]
    },
    {
     "name": "stdout",
     "output_type": "stream",
     "text": [
      "93996000 96334000 95627000 98875000 96943000 \n",
      "20230901 072327\t-0.649293342608604\t622\t281\t11\t5\t5\t96355000\t239\n"
     ]
    },
    {
     "name": "stderr",
     "output_type": "stream",
     "text": [
      "[mbo] 223: cp=-0.649; minsplit=622; minbucket=281; maxdepth=11 : y = 9.64e+07 : 224.7 secs : infill_ei\n",
      "\n"
     ]
    },
    {
     "name": "stdout",
     "output_type": "stream",
     "text": [
      "98728000 96194000 97811000 99036000 97993000 \n",
      "20230901 072612\t-0.327193735489865\t960\t281\t7\t5\t5\t97952400\t240\n"
     ]
    },
    {
     "name": "stderr",
     "output_type": "stream",
     "text": [
      "[mbo] 224: cp=-0.327; minsplit=960; minbucket=281; maxdepth=7 : y = 9.8e+07 : 161.7 secs : infill_ei\n",
      "\n"
     ]
    },
    {
     "name": "stdout",
     "output_type": "stream",
     "text": [
      "96481000 95270000 92015000 97146000 96306000 \n",
      "20230901 072858\t-0.334300435997583\t1492\t202\t7\t5\t5\t95443600\t241\n"
     ]
    },
    {
     "name": "stderr",
     "output_type": "stream",
     "text": [
      "[mbo] 225: cp=-0.334; minsplit=1492; minbucket=202; maxdepth=7 : y = 9.54e+07 : 162.6 secs : infill_ei\n",
      "\n"
     ]
    },
    {
     "name": "stdout",
     "output_type": "stream",
     "text": [
      "97923000 97860000 97748000 98693000 99288000 \n",
      "20230901 073150\t-0.169403697602025\t620\t281\t7\t5\t5\t98302400\t242\n"
     ]
    },
    {
     "name": "stderr",
     "output_type": "stream",
     "text": [
      "[mbo] 226: cp=-0.169; minsplit=620; minbucket=281; maxdepth=7 : y = 9.83e+07 : 167.9 secs : infill_ei\n",
      "\n",
      "Saved the current state after iteration 227 in the file bayesiana.RDATA.\n",
      "\n"
     ]
    },
    {
     "name": "stdout",
     "output_type": "stream",
     "text": [
      "0 0 0 0 0 \n",
      "20230901 073325\t0.0997319719255622\t7983\t3789\t20\t5\t5\t0\t243\n"
     ]
    },
    {
     "name": "stderr",
     "output_type": "stream",
     "text": [
      "[mbo] 227: cp=0.0997; minsplit=7983; minbucket=3789; maxdepth=20 : y = 0 : 91.5 secs : infill_ei\n",
      "\n"
     ]
    },
    {
     "name": "stdout",
     "output_type": "stream",
     "text": [
      "95228000 91994000 101318000 95473000 97958000 \n",
      "20230901 073743\t-0.171999528149576\t1021\t280\t15\t5\t5\t96394200\t244\n"
     ]
    },
    {
     "name": "stderr",
     "output_type": "stream",
     "text": [
      "[mbo] 228: cp=-0.172; minsplit=1021; minbucket=280; maxdepth=15 : y = 9.64e+07 : 255.0 secs : infill_ei\n",
      "\n"
     ]
    },
    {
     "name": "stdout",
     "output_type": "stream",
     "text": [
      "80997000 78288000 77238000 84938000 83958000 \n",
      "20230901 074021\t-0.146996179824886\t4861\t1412\t7\t5\t5\t81083800\t245\n"
     ]
    },
    {
     "name": "stderr",
     "output_type": "stream",
     "text": [
      "[mbo] 229: cp=-0.147; minsplit=4861; minbucket=1412; maxdepth=7 : y = 8.11e+07 : 154.7 secs : infill_ei\n",
      "\n"
     ]
    },
    {
     "name": "stdout",
     "output_type": "stream",
     "text": [
      "97916000 98028000 97748000 98266000 99288000 \n",
      "20230901 074313\t-0.802085445919682\t625\t280\t7\t5\t5\t98249200\t246\n"
     ]
    },
    {
     "name": "stderr",
     "output_type": "stream",
     "text": [
      "[mbo] 230: cp=-0.802; minsplit=625; minbucket=280; maxdepth=7 : y = 9.82e+07 : 168.2 secs : infill_ei\n",
      "\n",
      "Saved the current state after iteration 231 in the file bayesiana.RDATA.\n",
      "\n"
     ]
    },
    {
     "name": "stdout",
     "output_type": "stream",
     "text": [
      "97916000 97447000 97748000 97706000 99288000 \n",
      "20230901 074559\t-0.633682733176627\t613\t280\t7\t5\t5\t98021000\t247\n"
     ]
    },
    {
     "name": "stderr",
     "output_type": "stream",
     "text": [
      "[mbo] 231: cp=-0.634; minsplit=613; minbucket=280; maxdepth=7 : y = 9.8e+07 : 162.4 secs : infill_ei\n",
      "\n"
     ]
    },
    {
     "name": "stdout",
     "output_type": "stream",
     "text": [
      "97804000 98469000 97622000 98161000 98763000 \n",
      "20230901 074847\t-0.666631576092587\t604\t276\t7\t5\t5\t98163800\t248\n"
     ]
    },
    {
     "name": "stderr",
     "output_type": "stream",
     "text": [
      "[mbo] 232: cp=-0.667; minsplit=604; minbucket=276; maxdepth=7 : y = 9.82e+07 : 165.0 secs : infill_ei\n",
      "\n"
     ]
    },
    {
     "name": "stdout",
     "output_type": "stream",
     "text": [
      "98441000 98140000 97748000 99799000 99316000 \n",
      "20230901 075134\t-0.48227043087606\t652\t282\t7\t5\t5\t98688800\t249\n"
     ]
    },
    {
     "name": "stderr",
     "output_type": "stream",
     "text": [
      "[mbo] 233: cp=-0.482; minsplit=652; minbucket=282; maxdepth=7 : y = 9.87e+07 : 163.9 secs : infill_ei\n",
      "\n"
     ]
    },
    {
     "name": "stdout",
     "output_type": "stream",
     "text": [
      "98364000 98028000 97580000 98448000 99274000 \n",
      "20230901 075421\t-0.583296991353126\t637\t277\t7\t5\t5\t98338800\t250\n"
     ]
    },
    {
     "name": "stderr",
     "output_type": "stream",
     "text": [
      "[mbo] 234: cp=-0.583; minsplit=637; minbucket=277; maxdepth=7 : y = 9.83e+07 : 163.1 secs : infill_ei\n",
      "\n",
      "Saved the current state after iteration 235 in the file bayesiana.RDATA.\n",
      "\n"
     ]
    },
    {
     "name": "stdout",
     "output_type": "stream",
     "text": [
      "97349000 98784000 97104000 98392000 99638000 \n",
      "20230901 075712\t-0.467243360552867\t595\t292\t7\t5\t5\t98253400\t251\n"
     ]
    },
    {
     "name": "stderr",
     "output_type": "stream",
     "text": [
      "[mbo] 235: cp=-0.467; minsplit=595; minbucket=292; maxdepth=7 : y = 9.83e+07 : 167.1 secs : infill_ei\n",
      "\n"
     ]
    },
    {
     "name": "stdout",
     "output_type": "stream",
     "text": [
      "97916000 97447000 97748000 97706000 99288000 \n",
      "20230901 080002\t-0.819167380996229\t612\t280\t7\t5\t5\t98021000\t252\n"
     ]
    },
    {
     "name": "stderr",
     "output_type": "stream",
     "text": [
      "[mbo] 236: cp=-0.819; minsplit=612; minbucket=280; maxdepth=7 : y = 9.8e+07 : 167.0 secs : infill_ei\n",
      "\n"
     ]
    },
    {
     "name": "stdout",
     "output_type": "stream",
     "text": [
      "79121000 77392000 77728000 81165000 83867000 \n",
      "20230901 080521\t-0.65583763588577\t4739\t1\t20\t5\t5\t79854600\t253\n"
     ]
    },
    {
     "name": "stderr",
     "output_type": "stream",
     "text": [
      "[mbo] 237: cp=-0.656; minsplit=4739; minbucket=1; maxdepth=20 : y = 7.99e+07 : 315.5 secs : infill_ei\n",
      "\n",
      "Saved the current state after iteration 238 in the file bayesiana.RDATA.\n",
      "\n"
     ]
    },
    {
     "name": "stdout",
     "output_type": "stream",
     "text": [
      "95508000 91882000 101759000 95718000 97958000 \n",
      "20230901 080948\t-0.325961664495576\t987\t280\t16\t5\t5\t96565000\t254\n"
     ]
    },
    {
     "name": "stderr",
     "output_type": "stream",
     "text": [
      "[mbo] 238: cp=-0.326; minsplit=987; minbucket=280; maxdepth=16 : y = 9.66e+07 : 263.3 secs : infill_ei\n",
      "\n"
     ]
    },
    {
     "name": "stdout",
     "output_type": "stream",
     "text": [
      "95242000 92449000 100765000 96670000 97986000 \n",
      "20230901 081427\t-0.161059967855846\t1037\t283\t20\t5\t5\t96622400\t255\n"
     ]
    },
    {
     "name": "stderr",
     "output_type": "stream",
     "text": [
      "[mbo] 239: cp=-0.161; minsplit=1037; minbucket=283; maxdepth=20 : y = 9.66e+07 : 274.5 secs : infill_ei\n",
      "\n"
     ]
    },
    {
     "name": "stdout",
     "output_type": "stream",
     "text": [
      "93191000 90062000 92652000 92204000 92407000 \n",
      "20230901 081710\t-0.569198282879344\t1683\t6\t7\t5\t5\t92103200\t256\n"
     ]
    },
    {
     "name": "stderr",
     "output_type": "stream",
     "text": [
      "[mbo] 240: cp=-0.569; minsplit=1683; minbucket=6; maxdepth=7 : y = 9.21e+07 : 160.0 secs : infill_ei\n",
      "\n",
      "Saved the current state after iteration 241 in the file bayesiana.RDATA.\n",
      "\n"
     ]
    },
    {
     "name": "stdout",
     "output_type": "stream",
     "text": [
      "98609000 96194000 97811000 98546000 97993000 \n",
      "20230901 081957\t-0.20457425213212\t981\t280\t7\t5\t5\t97830600\t257\n"
     ]
    },
    {
     "name": "stderr",
     "output_type": "stream",
     "text": [
      "[mbo] 241: cp=-0.205; minsplit=981; minbucket=280; maxdepth=7 : y = 9.78e+07 : 163.4 secs : infill_ei\n",
      "\n"
     ]
    },
    {
     "name": "stdout",
     "output_type": "stream",
     "text": [
      "79485000 75880000 80213000 83930000 83391000 \n",
      "20230901 082259\t-0.885567848473175\t4837\t2418\t17\t5\t5\t80579800\t258\n"
     ]
    },
    {
     "name": "stderr",
     "output_type": "stream",
     "text": [
      "[mbo] 242: cp=-0.886; minsplit=4837; minbucket=2418; maxdepth=17 : y = 8.06e+07 : 178.4 secs : infill_ei\n",
      "\n"
     ]
    },
    {
     "name": "stdout",
     "output_type": "stream",
     "text": [
      "69965000 65702000 67340000 66472000 70987000 \n",
      "20230901 082434\t-0.650977914074641\t5790\t2895\t3\t5\t5\t68093200\t259\n"
     ]
    },
    {
     "name": "stderr",
     "output_type": "stream",
     "text": [
      "[mbo] 243: cp=-0.651; minsplit=5790; minbucket=2895; maxdepth=3 : y = 6.81e+07 : 91.3 secs : infill_ei\n",
      "\n"
     ]
    },
    {
     "name": "stdout",
     "output_type": "stream",
     "text": [
      "97804000 97454000 97580000 97951000 99120000 \n",
      "20230901 082726\t-0.215456146481229\t608\t278\t7\t5\t5\t97981800\t260\n"
     ]
    },
    {
     "name": "stderr",
     "output_type": "stream",
     "text": [
      "[mbo] 244: cp=-0.215; minsplit=608; minbucket=278; maxdepth=7 : y = 9.8e+07 : 167.8 secs : infill_ei\n",
      "\n",
      "Saved the current state after iteration 245 in the file bayesiana.RDATA.\n",
      "\n"
     ]
    },
    {
     "name": "stdout",
     "output_type": "stream",
     "text": [
      "94024000 92449000 100177000 96131000 97979000 \n",
      "20230901 083202\t-0.18541217538052\t1050\t284\t19\t5\t5\t96152000\t261\n"
     ]
    },
    {
     "name": "stderr",
     "output_type": "stream",
     "text": [
      "[mbo] 245: cp=-0.185; minsplit=1050; minbucket=284; maxdepth=19 : y = 9.62e+07 : 272.1 secs : infill_ei\n",
      "\n"
     ]
    },
    {
     "name": "stdout",
     "output_type": "stream",
     "text": [
      "9.8e+07 98147000 97104000 99029000 100086000 \n",
      "20230901 083452\t-0.153045892560392\t645\t291\t7\t5\t5\t98473200\t262\n"
     ]
    },
    {
     "name": "stderr",
     "output_type": "stream",
     "text": [
      "[mbo] 246: cp=-0.153; minsplit=645; minbucket=291; maxdepth=7 : y = 9.85e+07 : 166.3 secs : infill_ei\n",
      "\n"
     ]
    },
    {
     "name": "stdout",
     "output_type": "stream",
     "text": [
      "98448000 98140000 97762000 99064000 99351000 \n",
      "20230901 083744\t-0.142359735441074\t644\t286\t7\t5\t5\t98553000\t263\n"
     ]
    },
    {
     "name": "stderr",
     "output_type": "stream",
     "text": [
      "[mbo] 247: cp=-0.142; minsplit=644; minbucket=286; maxdepth=7 : y = 9.86e+07 : 168.3 secs : infill_ei\n",
      "\n",
      "Saved the current state after iteration 248 in the file bayesiana.RDATA.\n",
      "\n"
     ]
    },
    {
     "name": "stdout",
     "output_type": "stream",
     "text": [
      "96292000 92512000 100093000 97671000 98014000 \n",
      "20230901 084115\t-0.142461001319846\t967\t284\t10\t5\t5\t96916400\t264\n"
     ]
    },
    {
     "name": "stderr",
     "output_type": "stream",
     "text": [
      "[mbo] 248: cp=-0.142; minsplit=967; minbucket=284; maxdepth=10 : y = 9.69e+07 : 207.3 secs : infill_ei\n",
      "\n"
     ]
    },
    {
     "name": "stdout",
     "output_type": "stream",
     "text": [
      "79919000 78267000 79541000 84056000 84049000 \n",
      "20230901 084412\t-0.116987143033463\t4664\t2331\t10\t5\t5\t81166400\t265\n"
     ]
    },
    {
     "name": "stderr",
     "output_type": "stream",
     "text": [
      "[mbo] 249: cp=-0.117; minsplit=4664; minbucket=2331; maxdepth=10 : y = 8.12e+07 : 172.8 secs : infill_ei\n",
      "\n"
     ]
    },
    {
     "name": "stdout",
     "output_type": "stream",
     "text": [
      "63630000 62909000 65856000 66059000 66997000 \n",
      "20230901 084545\t-0.123054622635598\t7997\t2576\t3\t5\t5\t65090200\t266\n"
     ]
    },
    {
     "name": "stderr",
     "output_type": "stream",
     "text": [
      "[mbo] 250: cp=-0.123; minsplit=7997; minbucket=2576; maxdepth=3 : y = 6.51e+07 : 89.2 secs : infill_ei\n",
      "\n"
     ]
    },
    {
     "name": "stdout",
     "output_type": "stream",
     "text": [
      "83139000 84441000 78932000 84140000 80577000 \n",
      "20230901 084911\t-0.141712496355394\t2428\t1213\t20\t5\t5\t82245800\t267\n"
     ]
    },
    {
     "name": "stderr",
     "output_type": "stream",
     "text": [
      "[mbo] 251: cp=-0.142; minsplit=2428; minbucket=1213; maxdepth=20 : y = 8.22e+07 : 202.4 secs : infill_ei\n",
      "\n",
      "Saved the current state after iteration 252 in the file bayesiana.RDATA.\n",
      "\n"
     ]
    },
    {
     "name": "stdout",
     "output_type": "stream",
     "text": [
      "98812000 96194000 96530000 98875000 97923000 \n",
      "20230901 085155\t-0.144554143146174\t920\t284\t7\t5\t5\t97666800\t268\n"
     ]
    },
    {
     "name": "stderr",
     "output_type": "stream",
     "text": [
      "[mbo] 252: cp=-0.145; minsplit=920; minbucket=284; maxdepth=7 : y = 9.77e+07 : 160.3 secs : infill_ei\n",
      "\n"
     ]
    },
    {
     "name": "stdout",
     "output_type": "stream",
     "text": [
      "79198000 79100000 79457000 85757000 84168000 \n",
      "20230901 085402\t-0.855924887509757\t4741\t1428\t5\t5\t5\t81536000\t269\n"
     ]
    },
    {
     "name": "stderr",
     "output_type": "stream",
     "text": [
      "[mbo] 253: cp=-0.856; minsplit=4741; minbucket=1428; maxdepth=5 : y = 8.15e+07 : 123.0 secs : infill_ei\n",
      "\n"
     ]
    },
    {
     "name": "stdout",
     "output_type": "stream",
     "text": [
      "95095000 96740000 94465000 98896000 97853000 \n",
      "20230901 085726\t-0.137231435729462\t618\t284\t9\t5\t5\t96609800\t270\n"
     ]
    },
    {
     "name": "stderr",
     "output_type": "stream",
     "text": [
      "[mbo] 254: cp=-0.137; minsplit=618; minbucket=284; maxdepth=9 : y = 9.66e+07 : 200.4 secs : infill_ei\n",
      "\n"
     ]
    },
    {
     "name": "stdout",
     "output_type": "stream",
     "text": [
      "96712000 89754000 91861000 88809000 92239000 \n",
      "20230901 090013\t-0.136176195304946\t1438\t717\t7\t5\t5\t91875000\t271\n"
     ]
    },
    {
     "name": "stderr",
     "output_type": "stream",
     "text": [
      "[mbo] 255: cp=-0.136; minsplit=1438; minbucket=717; maxdepth=7 : y = 9.19e+07 : 163.1 secs : infill_ei\n",
      "\n",
      "Saved the current state after iteration 256 in the file bayesiana.RDATA.\n",
      "\n"
     ]
    },
    {
     "name": "stdout",
     "output_type": "stream",
     "text": [
      "81473000 81179000 80185000 82264000 81928000 \n",
      "20230901 090318\t-0.137269102253728\t4302\t1841\t15\t5\t5\t81405800\t272\n"
     ]
    },
    {
     "name": "stderr",
     "output_type": "stream",
     "text": [
      "[mbo] 256: cp=-0.137; minsplit=4302; minbucket=1841; maxdepth=15 : y = 8.14e+07 : 181.3 secs : infill_ei\n",
      "\n"
     ]
    },
    {
     "name": "stdout",
     "output_type": "stream",
     "text": [
      "84917000 80374000 84035000 84154000 85456000 \n",
      "20230901 090722\t-0.198293280450804\t3734\t128\t15\t5\t5\t83787200\t273\n"
     ]
    },
    {
     "name": "stderr",
     "output_type": "stream",
     "text": [
      "[mbo] 257: cp=-0.198; minsplit=3734; minbucket=128; maxdepth=15 : y = 8.38e+07 : 239.8 secs : infill_ei\n",
      "\n"
     ]
    },
    {
     "name": "stdout",
     "output_type": "stream",
     "text": [
      "68768000 67550000 70140000 70126000 74214000 \n",
      "20230901 090943\t-0.128796184917583\t6180\t3083\t6\t5\t5\t70159600\t274\n"
     ]
    },
    {
     "name": "stderr",
     "output_type": "stream",
     "text": [
      "[mbo] 258: cp=-0.129; minsplit=6180; minbucket=3083; maxdepth=6 : y = 7.02e+07 : 137.9 secs : infill_ei\n",
      "\n"
     ]
    },
    {
     "name": "stdout",
     "output_type": "stream",
     "text": [
      "80486000 76937000 73493000 77357000 81606000 \n",
      "20230901 091303\t-0.143353576609842\t5262\t1107\t17\t5\t5\t77975800\t275\n"
     ]
    },
    {
     "name": "stderr",
     "output_type": "stream",
     "text": [
      "[mbo] 259: cp=-0.143; minsplit=5262; minbucket=1107; maxdepth=17 : y = 7.8e+07 : 196.1 secs : infill_ei\n",
      "\n",
      "Saved the current state after iteration 260 in the file bayesiana.RDATA.\n",
      "\n"
     ]
    },
    {
     "name": "stdout",
     "output_type": "stream",
     "text": [
      "98322000 98147000 97566000 99043000 100079000 \n",
      "20230901 091551\t-0.129951709975804\t656\t289\t7\t5\t5\t98631400\t276\n"
     ]
    },
    {
     "name": "stderr",
     "output_type": "stream",
     "text": [
      "[mbo] 260: cp=-0.13; minsplit=656; minbucket=289; maxdepth=7 : y = 9.86e+07 : 163.7 secs : infill_ei\n",
      "\n"
     ]
    },
    {
     "name": "stdout",
     "output_type": "stream",
     "text": [
      "97916000 97839000 97748000 99106000 99316000 \n",
      "20230901 091839\t-0.124902893301862\t627\t283\t7\t5\t5\t98385000\t277\n"
     ]
    },
    {
     "name": "stderr",
     "output_type": "stream",
     "text": [
      "[mbo] 261: cp=-0.125; minsplit=627; minbucket=283; maxdepth=7 : y = 9.84e+07 : 164.5 secs : infill_ei\n",
      "\n"
     ]
    },
    {
     "name": "stdout",
     "output_type": "stream",
     "text": [
      "98511000 95998000 97447000 99561000 97846000 \n",
      "20230901 092122\t-0.405784212688238\t988\t271\t7\t5\t5\t97872600\t278\n"
     ]
    },
    {
     "name": "stderr",
     "output_type": "stream",
     "text": [
      "[mbo] 262: cp=-0.406; minsplit=988; minbucket=271; maxdepth=7 : y = 9.79e+07 : 159.1 secs : infill_ei\n",
      "\n"
     ]
    },
    {
     "name": "stdout",
     "output_type": "stream",
     "text": [
      "63630000 63966000 65856000 66059000 66997000 \n",
      "20230901 092256\t-0.776088297665517\t8000\t2119\t3\t5\t5\t65301600\t279\n"
     ]
    },
    {
     "name": "stderr",
     "output_type": "stream",
     "text": [
      "[mbo] 263: cp=-0.776; minsplit=8000; minbucket=2119; maxdepth=3 : y = 6.53e+07 : 90.4 secs : infill_ei\n",
      "\n"
     ]
    },
    {
     "name": "stdout",
     "output_type": "stream",
     "text": [
      "92876000 93198000 90139000 95382000 92918000 \n",
      "20230901 092541\t-0.655370745966592\t2191\t93\t7\t5\t5\t92902600\t280\n"
     ]
    },
    {
     "name": "stderr",
     "output_type": "stream",
     "text": [
      "[mbo] 264: cp=-0.655; minsplit=2191; minbucket=93; maxdepth=7 : y = 9.29e+07 : 162.1 secs : infill_ei\n",
      "\n",
      "Saved the current state after iteration 265 in the file bayesiana.RDATA.\n",
      "\n"
     ]
    },
    {
     "name": "stdout",
     "output_type": "stream",
     "text": [
      "97804000 98462000 97580000 97888000 99120000 \n",
      "20230901 092830\t-0.83948744675765\t611\t277\t7\t5\t5\t98170800\t281\n"
     ]
    },
    {
     "name": "stderr",
     "output_type": "stream",
     "text": [
      "[mbo] 265: cp=-0.839; minsplit=611; minbucket=277; maxdepth=7 : y = 9.82e+07 : 164.5 secs : infill_ei\n",
      "\n"
     ]
    },
    {
     "name": "stdout",
     "output_type": "stream",
     "text": [
      "95305000 91994000 101318000 96838000 97958000 \n",
      "20230901 093258\t-0.808477503370095\t1016\t281\t17\t5\t5\t96682600\t282\n"
     ]
    },
    {
     "name": "stderr",
     "output_type": "stream",
     "text": [
      "[mbo] 266: cp=-0.808; minsplit=1016; minbucket=281; maxdepth=17 : y = 9.67e+07 : 263.9 secs : infill_ei\n",
      "\n"
     ]
    },
    {
     "name": "stdout",
     "output_type": "stream",
     "text": [
      "96257000 95515000 98840000 97531000 95963000 \n",
      "20230901 093718\t-0.129032829689457\t992\t440\t20\t5\t5\t96821200\t283\n"
     ]
    },
    {
     "name": "stderr",
     "output_type": "stream",
     "text": [
      "[mbo] 267: cp=-0.129; minsplit=992; minbucket=440; maxdepth=20 : y = 9.68e+07 : 255.6 secs : infill_ei\n",
      "\n",
      "Saved the current state after iteration 268 in the file bayesiana.RDATA.\n",
      "\n"
     ]
    },
    {
     "name": "stdout",
     "output_type": "stream",
     "text": [
      "97097000 96138000 96131000 99512000 95410000 \n",
      "20230901 094008\t-0.132704731720156\t717\t342\t7\t5\t5\t96857600\t284\n"
     ]
    },
    {
     "name": "stderr",
     "output_type": "stream",
     "text": [
      "[mbo] 268: cp=-0.133; minsplit=717; minbucket=342; maxdepth=7 : y = 9.69e+07 : 165.4 secs : infill_ei\n",
      "\n"
     ]
    },
    {
     "name": "stdout",
     "output_type": "stream",
     "text": [
      "98070000 93961000 98119000 94122000 98861000 \n",
      "20230901 094259\t-0.833499860948375\t1001\t492\t7\t5\t5\t96626600\t285\n"
     ]
    },
    {
     "name": "stderr",
     "output_type": "stream",
     "text": [
      "[mbo] 269: cp=-0.833; minsplit=1001; minbucket=492; maxdepth=7 : y = 9.66e+07 : 167.1 secs : infill_ei\n",
      "\n"
     ]
    },
    {
     "name": "stdout",
     "output_type": "stream",
     "text": [
      "97916000 97377000 97748000 99050000 99155000 \n",
      "20230901 094550\t-0.774479225937308\t571\t283\t7\t5\t5\t98249200\t286\n"
     ]
    },
    {
     "name": "stderr",
     "output_type": "stream",
     "text": [
      "[mbo] 270: cp=-0.774; minsplit=571; minbucket=283; maxdepth=7 : y = 9.82e+07 : 166.9 secs : infill_ei\n",
      "\n"
     ]
    },
    {
     "name": "stdout",
     "output_type": "stream",
     "text": [
      "63630000 63987000 64631000 66059000 66997000 \n",
      "20230901 094856\t-0.600015057354483\t8000\t1310\t13\t5\t5\t65060800\t287\n"
     ]
    },
    {
     "name": "stderr",
     "output_type": "stream",
     "text": [
      "[mbo] 271: cp=-0.6; minsplit=8000; minbucket=1310; maxdepth=13 : y = 6.51e+07 : 182.5 secs : infill_ei\n",
      "\n",
      "Saved the current state after iteration 272 in the file bayesiana.RDATA.\n",
      "\n"
     ]
    },
    {
     "name": "stdout",
     "output_type": "stream",
     "text": [
      "96698000 93555000 97412000 92351000 96446000 \n",
      "20230901 095303\t-0.973493976058094\t990\t478\t17\t5\t5\t95292400\t288\n"
     ]
    },
    {
     "name": "stderr",
     "output_type": "stream",
     "text": [
      "[mbo] 272: cp=-0.973; minsplit=990; minbucket=478; maxdepth=17 : y = 9.53e+07 : 243.5 secs : infill_ei\n",
      "\n"
     ]
    },
    {
     "name": "stdout",
     "output_type": "stream",
     "text": [
      "95270000 91637000 101318000 96950000 97972000 \n",
      "20230901 095809\t-0.99946134374201\t1002\t289\t20\t5\t5\t96629400\t289\n"
     ]
    },
    {
     "name": "stderr",
     "output_type": "stream",
     "text": [
      "[mbo] 273: cp=-0.999; minsplit=1002; minbucket=289; maxdepth=20 : y = 9.66e+07 : 301.9 secs : infill_ei\n",
      "\n"
     ]
    },
    {
     "name": "stdout",
     "output_type": "stream",
     "text": [
      "95060000 93576000 98595000 99477000 95277000 \n",
      "20230901 100222\t-0.99132775136511\t994\t394\t19\t5\t5\t96397000\t290\n"
     ]
    },
    {
     "name": "stderr",
     "output_type": "stream",
     "text": [
      "[mbo] 274: cp=-0.991; minsplit=994; minbucket=394; maxdepth=19 : y = 9.64e+07 : 249.6 secs : infill_ei\n",
      "\n",
      "Saved the current state after iteration 275 in the file bayesiana.RDATA.\n",
      "\n"
     ]
    },
    {
     "name": "stdout",
     "output_type": "stream",
     "text": [
      "82866000 78071000 78050000 84133000 84098000 \n",
      "20230901 100537\t-0.832206303449429\t5043\t1167\t13\t5\t5\t81443600\t291\n"
     ]
    },
    {
     "name": "stderr",
     "output_type": "stream",
     "text": [
      "[mbo] 275: cp=-0.832; minsplit=5043; minbucket=1167; maxdepth=13 : y = 8.14e+07 : 190.4 secs : infill_ei\n",
      "\n"
     ]
    },
    {
     "name": "stdout",
     "output_type": "stream",
     "text": [
      "95522000 91329000 92099000 87990000 92512000 \n",
      "20230901 100820\t-0.567147831406413\t1546\t694\t7\t5\t5\t91890400\t292\n"
     ]
    },
    {
     "name": "stderr",
     "output_type": "stream",
     "text": [
      "[mbo] 276: cp=-0.567; minsplit=1546; minbucket=694; maxdepth=7 : y = 9.19e+07 : 159.8 secs : infill_ei\n",
      "\n"
     ]
    },
    {
     "name": "stdout",
     "output_type": "stream",
     "text": [
      "66276000 64267000 66143000 66059000 66997000 \n",
      "20230901 100950\t-0.946060410387885\t7112\t1512\t3\t5\t5\t65948400\t293\n"
     ]
    },
    {
     "name": "stderr",
     "output_type": "stream",
     "text": [
      "[mbo] 277: cp=-0.946; minsplit=7112; minbucket=1512; maxdepth=3 : y = 6.59e+07 : 86.4 secs : infill_ei\n",
      "\n"
     ]
    },
    {
     "name": "stdout",
     "output_type": "stream",
     "text": [
      "68236000 66675000 70434000 69258000 70476000 \n",
      "20230901 101245\t-0.346143150255467\t7658\t3828\t20\t5\t5\t69015800\t294\n"
     ]
    },
    {
     "name": "stderr",
     "output_type": "stream",
     "text": [
      "[mbo] 278: cp=-0.346; minsplit=7658; minbucket=3828; maxdepth=20 : y = 6.9e+07 : 170.1 secs : infill_ei\n",
      "\n",
      "Saved the current state after iteration 279 in the file bayesiana.RDATA.\n",
      "\n"
     ]
    },
    {
     "name": "stdout",
     "output_type": "stream",
     "text": [
      "84777000 81130000 78904000 84980000 82257000 \n",
      "20230901 101604\t-0.480544404634526\t3116\t1557\t19\t5\t5\t82409600\t295\n"
     ]
    },
    {
     "name": "stderr",
     "output_type": "stream",
     "text": [
      "[mbo] 279: cp=-0.481; minsplit=3116; minbucket=1557; maxdepth=19 : y = 8.24e+07 : 194.2 secs : infill_ei\n",
      "\n"
     ]
    },
    {
     "name": "stdout",
     "output_type": "stream",
     "text": [
      "97811000 97860000 97566000 98525000 99351000 \n",
      "20230901 101846\t-0.873769088264835\t625\t287\t7\t5\t5\t98222600\t296\n"
     ]
    },
    {
     "name": "stderr",
     "output_type": "stream",
     "text": [
      "[mbo] 280: cp=-0.874; minsplit=625; minbucket=287; maxdepth=7 : y = 9.82e+07 : 158.3 secs : infill_ei\n",
      "\n"
     ]
    },
    {
     "name": "stdout",
     "output_type": "stream",
     "text": [
      "94759000 91728000 101101000 96950000 97251000 \n",
      "20230901 102259\t-0.271268181908455\t1009\t291\t13\t5\t5\t96357800\t297\n"
     ]
    },
    {
     "name": "stderr",
     "output_type": "stream",
     "text": [
      "[mbo] 281: cp=-0.271; minsplit=1009; minbucket=291; maxdepth=13 : y = 9.64e+07 : 248.9 secs : infill_ei\n",
      "\n",
      "Saved the current state after iteration 282 in the file bayesiana.RDATA.\n",
      "\n"
     ]
    },
    {
     "name": "stdout",
     "output_type": "stream",
     "text": [
      "80584000 77840000 76160000 76258000 81935000 \n",
      "20230901 102617\t-0.111844741492562\t5200\t2599\t20\t5\t5\t78555400\t298\n"
     ]
    },
    {
     "name": "stderr",
     "output_type": "stream",
     "text": [
      "[mbo] 282: cp=-0.112; minsplit=5200; minbucket=2599; maxdepth=20 : y = 7.86e+07 : 193.8 secs : infill_ei\n",
      "\n"
     ]
    },
    {
     "name": "stdout",
     "output_type": "stream",
     "text": [
      "97433000 95284000 99694000 96173000 96838000 \n",
      "20230901 103112\t-0.61443210358473\t997\t447\t20\t5\t5\t97084400\t299\n"
     ]
    },
    {
     "name": "stderr",
     "output_type": "stream",
     "text": [
      "[mbo] 283: cp=-0.614; minsplit=997; minbucket=447; maxdepth=20 : y = 9.71e+07 : 291.1 secs : infill_ei\n",
      "\n"
     ]
    },
    {
     "name": "stdout",
     "output_type": "stream",
     "text": [
      "95487000 91623000 101759000 97195000 98497000 \n",
      "20230901 103730\t-0.647578866649996\t989\t289\t19\t5\t5\t96912200\t300\n"
     ]
    },
    {
     "name": "stderr",
     "output_type": "stream",
     "text": [
      "[mbo] 284: cp=-0.648; minsplit=989; minbucket=289; maxdepth=19 : y = 9.69e+07 : 373.1 secs : infill_ei\n",
      "\n",
      "Saved the current state after iteration 285 in the file bayesiana.RDATA.\n",
      "\n"
     ]
    },
    {
     "name": "stdout",
     "output_type": "stream",
     "text": [
      "97356000 94626000 98637000 96425000 96327000 \n",
      "20230901 104249\t-0.535877091636997\t972\t446\t20\t5\t5\t96674200\t301\n"
     ]
    },
    {
     "name": "stderr",
     "output_type": "stream",
     "text": [
      "[mbo] 285: cp=-0.536; minsplit=972; minbucket=446; maxdepth=20 : y = 9.67e+07 : 311.8 secs : infill_ei\n",
      "\n"
     ]
    },
    {
     "name": "stdout",
     "output_type": "stream",
     "text": [
      "0 0 0 0 0 \n",
      "20230901 104417\t0.0999532323051469\t7992\t2\t3\t5\t5\t0\t302\n"
     ]
    },
    {
     "name": "stderr",
     "output_type": "stream",
     "text": [
      "[mbo] 286: cp=0.1; minsplit=7992; minbucket=2; maxdepth=3 : y = 0 : 84.2 secs : infill_ei\n",
      "\n"
     ]
    },
    {
     "name": "stdout",
     "output_type": "stream",
     "text": [
      "69524000 68992000 69531000 69573000 69552000 \n",
      "20230901 104658\t-0.130167869105272\t7200\t3600\t16\t5\t5\t69434400\t303\n"
     ]
    },
    {
     "name": "stderr",
     "output_type": "stream",
     "text": [
      "[mbo] 287: cp=-0.13; minsplit=7200; minbucket=3600; maxdepth=16 : y = 6.94e+07 : 156.1 secs : infill_ei\n",
      "\n"
     ]
    },
    {
     "name": "stdout",
     "output_type": "stream",
     "text": [
      "98161000 98070000 97622000 99463000 98917000 \n",
      "20230901 105023\t-0.735642431229585\t639\t274\t7\t5\t5\t98446600\t304\n"
     ]
    },
    {
     "name": "stderr",
     "output_type": "stream",
     "text": [
      "[mbo] 288: cp=-0.736; minsplit=639; minbucket=274; maxdepth=7 : y = 9.84e+07 : 201.3 secs : infill_ei\n",
      "\n",
      "Saved the current state after iteration 289 in the file bayesiana.RDATA.\n",
      "\n"
     ]
    },
    {
     "name": "stdout",
     "output_type": "stream",
     "text": [
      "97027000 97664000 95487000 98546000 98350000 \n",
      "20230901 105419\t-0.989636394049719\t655\t283\t8\t5\t5\t97414800\t305\n"
     ]
    },
    {
     "name": "stderr",
     "output_type": "stream",
     "text": [
      "[mbo] 289: cp=-0.99; minsplit=655; minbucket=283; maxdepth=8 : y = 9.74e+07 : 230.6 secs : infill_ei\n",
      "\n"
     ]
    },
    {
     "name": "stdout",
     "output_type": "stream",
     "text": [
      "98448000 98119000 97755000 99631000 99316000 \n",
      "20230901 105751\t-0.135071571845841\t658\t284\t7\t5\t5\t98653800\t306\n"
     ]
    },
    {
     "name": "stderr",
     "output_type": "stream",
     "text": [
      "[mbo] 290: cp=-0.135; minsplit=658; minbucket=284; maxdepth=7 : y = 9.87e+07 : 206.4 secs : infill_ei\n",
      "\n"
     ]
    },
    {
     "name": "stdout",
     "output_type": "stream",
     "text": [
      "97636000 97923000 97496000 98154000 99400000 \n",
      "20230901 110127\t-0.132776720918616\t632\t295\t7\t5\t5\t98121800\t307\n"
     ]
    },
    {
     "name": "stderr",
     "output_type": "stream",
     "text": [
      "[mbo] 291: cp=-0.133; minsplit=632; minbucket=295; maxdepth=7 : y = 9.81e+07 : 211.2 secs : infill_ei\n",
      "\n",
      "Saved the current state after iteration 292 in the file bayesiana.RDATA.\n",
      "\n"
     ]
    },
    {
     "name": "stdout",
     "output_type": "stream",
     "text": [
      "63630000 62909000 65856000 66059000 66997000 \n",
      "20230901 110512\t-0.999471954795196\t7999\t3031\t20\t5\t5\t65090200\t308\n"
     ]
    },
    {
     "name": "stderr",
     "output_type": "stream",
     "text": [
      "[mbo] 292: cp=-0.999; minsplit=7999; minbucket=3031; maxdepth=20 : y = 6.51e+07 : 218.0 secs : infill_ei\n",
      "\n"
     ]
    },
    {
     "name": "stdout",
     "output_type": "stream",
     "text": [
      "78351000 75299000 72807000 75481000 78477000 \n",
      "20230901 110838\t-0.715610392772172\t5417\t2704\t15\t5\t5\t76083000\t309\n"
     ]
    },
    {
     "name": "stderr",
     "output_type": "stream",
     "text": [
      "[mbo] 293: cp=-0.716; minsplit=5417; minbucket=2704; maxdepth=15 : y = 7.61e+07 : 201.2 secs : infill_ei\n",
      "\n"
     ]
    },
    {
     "name": "stdout",
     "output_type": "stream",
     "text": [
      "63770000 64701000 64806000 65576000 66465000 \n",
      "20230901 111151\t-0.834616738275312\t7999\t494\t6\t5\t5\t65063600\t310\n"
     ]
    },
    {
     "name": "stderr",
     "output_type": "stream",
     "text": [
      "[mbo] 294: cp=-0.835; minsplit=7999; minbucket=494; maxdepth=6 : y = 6.51e+07 : 186.9 secs : infill_ei\n",
      "\n",
      "Saved the current state after iteration 295 in the file bayesiana.RDATA.\n",
      "\n"
     ]
    },
    {
     "name": "stdout",
     "output_type": "stream",
     "text": [
      "94010000 94584000 93660000 93555000 95634000 \n",
      "20230901 111454\t-0.124854302154109\t966\t144\t7\t5\t5\t94288600\t311\n"
     ]
    },
    {
     "name": "stderr",
     "output_type": "stream",
     "text": [
      "[mbo] 295: cp=-0.125; minsplit=966; minbucket=144; maxdepth=7 : y = 9.43e+07 : 176.4 secs : infill_ei\n",
      "\n"
     ]
    },
    {
     "name": "stdout",
     "output_type": "stream",
     "text": [
      "93996000 86884000 91938000 94192000 93338000 \n",
      "20230901 111831\t-0.233616138721496\t2342\t2\t11\t5\t5\t92069600\t312\n"
     ]
    },
    {
     "name": "stderr",
     "output_type": "stream",
     "text": [
      "[mbo] 296: cp=-0.234; minsplit=2342; minbucket=2; maxdepth=11 : y = 9.21e+07 : 212.7 secs : infill_ei\n",
      "\n"
     ]
    },
    {
     "name": "stdout",
     "output_type": "stream",
     "text": [
      "99750000 96306000 94801000 95361000 96054000 \n",
      "20230901 112119\t-0.835596114931725\t889\t443\t7\t5\t5\t96454400\t313\n"
     ]
    },
    {
     "name": "stderr",
     "output_type": "stream",
     "text": [
      "[mbo] 297: cp=-0.836; minsplit=889; minbucket=443; maxdepth=7 : y = 9.65e+07 : 163.3 secs : infill_ei\n",
      "\n"
     ]
    },
    {
     "name": "stdout",
     "output_type": "stream",
     "text": [
      "85351000 82334000 83860000 83230000 85729000 \n",
      "20230901 112348\t-0.535242136801797\t4413\t972\t6\t5\t5\t84100800\t314\n"
     ]
    },
    {
     "name": "stderr",
     "output_type": "stream",
     "text": [
      "[mbo] 298: cp=-0.535; minsplit=4413; minbucket=972; maxdepth=6 : y = 8.41e+07 : 144.4 secs : infill_ei\n",
      "\n",
      "Saved the current state after iteration 299 in the file bayesiana.RDATA.\n",
      "\n"
     ]
    },
    {
     "name": "stdout",
     "output_type": "stream",
     "text": [
      "66276000 65065000 66080000 66059000 66997000 \n",
      "20230901 112632\t-0.141416481814274\t7216\t2817\t10\t5\t5\t66095400\t315\n"
     ]
    },
    {
     "name": "stderr",
     "output_type": "stream",
     "text": [
      "[mbo] 299: cp=-0.141; minsplit=7216; minbucket=2817; maxdepth=10 : y = 6.61e+07 : 160.2 secs : infill_ei\n",
      "\n"
     ]
    },
    {
     "name": "stdout",
     "output_type": "stream",
     "text": [
      "64365000 61005000 63686000 66787000 64526000 \n",
      "20230901 113039\t-0.124928741438601\t8000\t2\t14\t5\t5\t64073800\t316\n"
     ]
    },
    {
     "name": "stderr",
     "output_type": "stream",
     "text": [
      "[mbo] 300: cp=-0.125; minsplit=8000; minbucket=2; maxdepth=14 : y = 6.41e+07 : 243.7 secs : infill_ei\n",
      "\n",
      "Saved the final state in the file bayesiana.RDATA\n",
      "\n"
     ]
    }
   ],
   "source": [
    "# inicio la optimizacion bayesiana\n",
    "if (!file.exists(archivo_BO)) {\n",
    "  run <- mbo(\n",
    "    fun = obj.fun,\n",
    "    learner = surr.km,\n",
    "    control = ctrl\n",
    "  )\n",
    "} else {\n",
    "  run <- mboContinue(archivo_BO)\n",
    "}\n",
    "# retomo en caso que ya exista"
   ]
  }
 ],
 "metadata": {
  "kernelspec": {
   "display_name": "R",
   "language": "R",
   "name": "ir"
  },
  "language_info": {
   "codemirror_mode": "r",
   "file_extension": ".r",
   "mimetype": "text/x-r-source",
   "name": "R",
   "pygments_lexer": "r",
   "version": "4.3.1"
  },
  "orig_nbformat": 4
 },
 "nbformat": 4,
 "nbformat_minor": 2
}
