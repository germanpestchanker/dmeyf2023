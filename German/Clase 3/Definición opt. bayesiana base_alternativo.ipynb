{
 "cells": [
  {
   "cell_type": "markdown",
   "metadata": {},
   "source": [
    "# Step 1"
   ]
  },
  {
   "cell_type": "markdown",
   "metadata": {},
   "source": [
    "- Optimizacion Bayesiana de hiperparametros de  rpart\n",
    "- 10-repeated 5-fold Cross Validation\n",
    "- trabaja con la clase_ternaria (más lento -puede tardar un día-, pero certero que la binaria)"
   ]
  },
  {
   "cell_type": "code",
   "execution_count": 1,
   "metadata": {
    "vscode": {
     "languageId": "r"
    }
   },
   "outputs": [
    {
     "data": {
      "text/html": [
       "<table class=\"dataframe\">\n",
       "<caption>A matrix: 2 × 6 of type dbl</caption>\n",
       "<thead>\n",
       "\t<tr><th></th><th scope=col>used</th><th scope=col>(Mb)</th><th scope=col>gc trigger</th><th scope=col>(Mb)</th><th scope=col>max used</th><th scope=col>(Mb)</th></tr>\n",
       "</thead>\n",
       "<tbody>\n",
       "\t<tr><th scope=row>Ncells</th><td> 627610</td><td>33.6</td><td>1404611</td><td>75.1</td><td> 994516</td><td>53.2</td></tr>\n",
       "\t<tr><th scope=row>Vcells</th><td>1149702</td><td> 8.8</td><td>8388608</td><td>64.0</td><td>1769393</td><td>13.5</td></tr>\n",
       "</tbody>\n",
       "</table>\n"
      ],
      "text/latex": [
       "A matrix: 2 × 6 of type dbl\n",
       "\\begin{tabular}{r|llllll}\n",
       "  & used & (Mb) & gc trigger & (Mb) & max used & (Mb)\\\\\n",
       "\\hline\n",
       "\tNcells &  627610 & 33.6 & 1404611 & 75.1 &  994516 & 53.2\\\\\n",
       "\tVcells & 1149702 &  8.8 & 8388608 & 64.0 & 1769393 & 13.5\\\\\n",
       "\\end{tabular}\n"
      ],
      "text/markdown": [
       "\n",
       "A matrix: 2 × 6 of type dbl\n",
       "\n",
       "| <!--/--> | used | (Mb) | gc trigger | (Mb) | max used | (Mb) |\n",
       "|---|---|---|---|---|---|---|\n",
       "| Ncells |  627610 | 33.6 | 1404611 | 75.1 |  994516 | 53.2 |\n",
       "| Vcells | 1149702 |  8.8 | 8388608 | 64.0 | 1769393 | 13.5 |\n",
       "\n"
      ],
      "text/plain": [
       "       used    (Mb) gc trigger (Mb) max used (Mb)\n",
       "Ncells  627610 33.6 1404611    75.1  994516  53.2\n",
       "Vcells 1149702  8.8 8388608    64.0 1769393  13.5"
      ]
     },
     "metadata": {},
     "output_type": "display_data"
    }
   ],
   "source": [
    "# Limpiamos el entorno\n",
    "rm(list = ls())\n",
    "gc(verbose = FALSE)"
   ]
  },
  {
   "cell_type": "code",
   "execution_count": 2,
   "metadata": {
    "vscode": {
     "languageId": "r"
    }
   },
   "outputs": [
    {
     "name": "stderr",
     "output_type": "stream",
     "text": [
      "Loading required package: data.table\n",
      "\n"
     ]
    },
    {
     "name": "stderr",
     "output_type": "stream",
     "text": [
      "Loading required package: rpart\n",
      "\n",
      "Loading required package: DiceKriging\n",
      "\n",
      "Loading required package: mlrMBO\n",
      "\n",
      "Loading required package: mlr\n",
      "\n",
      "Loading required package: ParamHelpers\n",
      "\n",
      "Warning message: 'mlr' is in 'maintenance-only' mode since July 2019.\n",
      "Future development will only happen in 'mlr3'\n",
      "(<https://mlr3.mlr-org.com>). Due to the focus on 'mlr3' there might be\n",
      "uncaught bugs meanwhile in {mlr} - please consider switching.\n",
      "\n",
      "Loading required package: smoof\n",
      "\n",
      "Loading required package: checkmate\n",
      "\n",
      "\n",
      "Attaching package: 'checkmate'\n",
      "\n",
      "\n",
      "The following object is masked from 'package:DiceKriging':\n",
      "\n",
      "    checkNames\n",
      "\n",
      "\n",
      "Loading required package: rlist\n",
      "\n",
      "Loading required package: parallel\n",
      "\n"
     ]
    }
   ],
   "source": [
    "# Librerías necesarias\n",
    "require(\"data.table\")\n",
    "require(\"rpart\")\n",
    "require(\"DiceKriging\")\n",
    "require(\"mlrMBO\")\n",
    "require(\"rlist\")\n",
    "require(\"parallel\")"
   ]
  },
  {
   "cell_type": "code",
   "execution_count": 3,
   "metadata": {
    "vscode": {
     "languageId": "r"
    }
   },
   "outputs": [],
   "source": [
    "# Aqui se debe poner la carpeta de la materia de SU computadora local\n",
    "setwd(\"C:/Users/German/Desktop/dmeyf2023/German/Clase 3\") # Establezco el Working Directory\n",
    "#\"C:/Users/German/Documents/dmeyf2023/German/Clase 3\" #Laptop"
   ]
  },
  {
   "cell_type": "code",
   "execution_count": 4,
   "metadata": {
    "vscode": {
     "languageId": "r"
    }
   },
   "outputs": [],
   "source": [
    "# Defino la  Optimizacion Bayesiana\n",
    "PARAM <- list()\n",
    "\n",
    "PARAM$home <- \"C:/Users/German/Desktop/dmeyf2023/German/Clase 3\"\n",
    "\n",
    "PARAM$experimento <- \"HT3220_alternativo\"\n",
    "\n",
    "# Aqui van las 10 semillas que hacen el 10-repeated\n",
    "#  si se pone una sola semilla, se esta haciendo solo 5-fold xval\n",
    "PARAM$semilla_azar <- c(279511, 279523, 279541, 279551, 279571,\n",
    "279581, 279591, 279592, 279593, 279594) #Agrego 5 más para llegar a las 10"
   ]
  },
  {
   "cell_type": "code",
   "execution_count": 5,
   "metadata": {
    "vscode": {
     "languageId": "r"
    }
   },
   "outputs": [],
   "source": [
    "# Cargamos el dataset\n",
    "#dataset <- fread(\"competencia_01.csv\")\n",
    "\n",
    "# Nos quedamos solo con el 202103\n",
    "#dataset <- dataset[foto_mes == 202103]"
   ]
  },
  {
   "cell_type": "code",
   "execution_count": 6,
   "metadata": {
    "vscode": {
     "languageId": "r"
    }
   },
   "outputs": [],
   "source": [
    "# folds del cross validation\n",
    "PARAM$xval_folds <- 5\n",
    "\n",
    "# cantidad de iteraciones de la Optimizacion Bayesiana\n",
    "PARAM$BO_iter <- 300\n",
    "\n",
    "# la letra L al final de 1L significa ENTERO\n",
    "PARAM$hs <- makeParamSet(\n",
    "  makeNumericParam(\"cp\", lower = -1, upper = 0.1),\n",
    "  makeIntegerParam(\"minsplit\", lower = 1L, upper = 8000L),\n",
    "  makeIntegerParam(\"minbucket\", lower = 1L, upper = 4000L),\n",
    "  makeIntegerParam(\"maxdepth\", lower = 3L, upper = 20L),\n",
    "  forbidden = quote(minbucket > 0.5 * minsplit)\n",
    ")\n",
    "# minbuket NO PUEDE ser mayor que la mitad de minsplit\n",
    "\n",
    "\n",
    "# este valor debe ser 1 si se utiliza Windows\n",
    "PARAM$cores <- 1"
   ]
  },
  {
   "cell_type": "markdown",
   "metadata": {},
   "source": [
    "# Step 2: graba a un archivo los componentes de lista para el primer registro, escribe antes los titulos"
   ]
  },
  {
   "cell_type": "code",
   "execution_count": 7,
   "metadata": {
    "vscode": {
     "languageId": "r"
    }
   },
   "outputs": [],
   "source": [
    "loguear <- function(reg, arch = NA, folder = \"./work/\", ext = \".txt\",\n",
    "                    verbose = TRUE) {\n",
    "  archivo <- arch\n",
    "  if (is.na(arch)) archivo <- paste0(folder, substitute(reg), ext)\n",
    "\n",
    "  # Escribo los titulos\n",
    "  if (!file.exists(archivo)) {\n",
    "    linea <- paste0(\n",
    "      \"fecha\\t\",\n",
    "      paste(list.names(reg), collapse = \"\\t\"), \"\\n\"\n",
    "    )\n",
    "\n",
    "    cat(linea, file = archivo)\n",
    "  }\n",
    "\n",
    "  # la fecha y hora\n",
    "  linea <- paste0(\n",
    "    format(Sys.time(), \"%Y%m%d %H%M%S\"), \"\\t\",\n",
    "    gsub(\", \", \"\\t\", toString(reg)), \"\\n\"\n",
    "  )\n",
    "\n",
    "  # grabo al archivo\n",
    "  cat(linea, file = archivo, append = TRUE)\n",
    "\n",
    "  # imprimo por pantalla\n",
    "  if (verbose) cat(linea)\n",
    "}"
   ]
  },
  {
   "cell_type": "markdown",
   "metadata": {},
   "source": [
    "- Particionar agrega una columna llamada fold a un dataset que consiste en una particion estratificada segun agrupa \n",
    "- particionar( data=dataset, division=c(70,30), agrupa=clase_ternaria, seed=semilla)   crea una particion 70, 30\n",
    "- particionar( data=dataset, division=c(1,1,1,1,1), agrupa=clase_ternaria, seed=semilla)   divide el dataset en 5 particiones\n"
   ]
  },
  {
   "cell_type": "code",
   "execution_count": 8,
   "metadata": {
    "vscode": {
     "languageId": "r"
    }
   },
   "outputs": [],
   "source": [
    "particionar <- function(data, division, agrupa = \"\", campo = \"fold\",\n",
    "                        start = 1, seed = NA) {\n",
    "  if (!is.na(seed)) set.seed(seed)\n",
    "\n",
    "  bloque <- unlist(mapply(\n",
    "    function(x, y) {\n",
    "      rep(y, x)\n",
    "    }, division,\n",
    "    seq(from = start, length.out = length(division))\n",
    "  ))\n",
    "\n",
    "  data[, (campo) := sample(rep(bloque, ceiling(.N / length(bloque))))[1:.N],\n",
    "    by = agrupa\n",
    "  ]\n",
    "}"
   ]
  },
  {
   "cell_type": "code",
   "execution_count": 9,
   "metadata": {
    "vscode": {
     "languageId": "r"
    }
   },
   "outputs": [],
   "source": [
    "# fold_test  tiene el numero de fold que voy a usar para testear,\n",
    "#  entreno en el resto de los folds\n",
    "# param tiene los hiperparametros del arbol\n",
    "\n",
    "ArbolSimple <- function(fold_test, data, param) {\n",
    "  # genero el modelo\n",
    "  # entreno en todo MENOS el fold_test que uso para testing\n",
    "  modelo <- rpart(\"clase_ternaria ~ .\",\n",
    "    data = data[fold != fold_test, ],\n",
    "    xval = 0,\n",
    "    control = param\n",
    "  )\n",
    "\n",
    "  # aplico el modelo a los datos de testing\n",
    "  # aplico el modelo sobre los datos de testing\n",
    "  # quiero que me devuelva probabilidades\n",
    "  prediccion <- predict(modelo,\n",
    "    data[fold == fold_test, ],\n",
    "    type = \"prob\"\n",
    "  )\n",
    "\n",
    "  # esta es la probabilidad de baja\n",
    "  prob_baja2 <- prediccion[, \"BAJA+2\"]\n",
    "\n",
    "  # calculo la ganancia\n",
    "  ganancia_testing <- data[fold == fold_test][\n",
    "    prob_baja2 > 1 / 40,\n",
    "    sum(ifelse(clase_ternaria == \"BAJA+2\",\n",
    "      273000, -7000\n",
    "    ))\n",
    "  ]\n",
    "\n",
    "  # esta es la ganancia sobre el fold de testing, NO esta normalizada\n",
    "  return(ganancia_testing)\n",
    "}"
   ]
  },
  {
   "cell_type": "code",
   "execution_count": 10,
   "metadata": {
    "vscode": {
     "languageId": "r"
    }
   },
   "outputs": [],
   "source": [
    "ArbolesCrossValidation <- function(data, param, qfolds, pagrupa, semilla) {\n",
    "  # generalmente  c(1, 1, 1, 1, 1 )  cinco unos\n",
    "  divi <- rep(1, qfolds)\n",
    "\n",
    "  # particiono en dataset en folds\n",
    "  particionar(data, divi, seed = semilla, agrupa = pagrupa)\n",
    "\n",
    "  ganancias <- mcmapply(ArbolSimple,\n",
    "    seq(qfolds), # 1 2 3 4 5\n",
    "    MoreArgs = list(data, param),\n",
    "    SIMPLIFY = FALSE,\n",
    "    mc.cores = PARAM$cores\n",
    "  )\n",
    "\n",
    "  data[, fold := NULL]\n",
    "\n",
    "  ganancia_xval <- sum(unlist(ganancias))\n",
    "\n",
    "  return(ganancia_xval)\n",
    "}"
   ]
  },
  {
   "cell_type": "code",
   "execution_count": 11,
   "metadata": {
    "vscode": {
     "languageId": "r"
    }
   },
   "outputs": [],
   "source": [
    "# esta funcion solo puede recibir los parametros que se estan optimizando\n",
    "# el resto de los parametros, lamentablemente se pasan como variables globales\n",
    "\n",
    "EstimarGanancia <- function(x) {\n",
    "  GLOBAL_iteracion <<- GLOBAL_iteracion + 1\n",
    "\n",
    "  # param= x los hiperparametros del arbol\n",
    "  # qfolds= PARAM$xval_folds  la cantidad de folds\n",
    "  gans <- c()\n",
    "  for (semilla in PARAM$semilla_azar)\n",
    "  {\n",
    "    ganancia <- ArbolesCrossValidation(dataset,\n",
    "      param = x,\n",
    "      qfolds = PARAM$xval_folds,\n",
    "      pagrupa = \"clase_ternaria\",\n",
    "      semilla = semilla\n",
    "    )\n",
    "\n",
    "    gans <- c(gans, ganancia)\n",
    "  }\n",
    "  # imprimo el vector con las ganancias de xval\n",
    "  # para que se aprecia la variabilidad aun con 5-fold\n",
    "  cat(gans, \"\\n\")\n",
    "\n",
    "  # logueo\n",
    "  xx <- x\n",
    "  xx$xval_repeats <- length(PARAM$semilla_azar)\n",
    "  xx$xval_folds <- PARAM$xval_folds\n",
    "  xx$ganancia <- mean(gans)\n",
    "  xx$iteracion <- GLOBAL_iteracion\n",
    "  loguear(xx, arch = archivo_log)\n",
    "\n",
    "  return(mean(gans))\n",
    "}"
   ]
  },
  {
   "cell_type": "code",
   "execution_count": null,
   "metadata": {
    "vscode": {
     "languageId": "r"
    }
   },
   "outputs": [],
   "source": []
  },
  {
   "cell_type": "markdown",
   "metadata": {},
   "source": [
    "# Step 3: Aqui empieza el programa"
   ]
  },
  {
   "cell_type": "code",
   "execution_count": 12,
   "metadata": {
    "vscode": {
     "languageId": "r"
    }
   },
   "outputs": [],
   "source": [
    "# Establezco el Working Directory inicial\n",
    "setwd(PARAM$home)\n",
    "\n",
    "# cargo los datos\n",
    "dataset <- fread(\"competencia_01_alternativo.csv\")\n",
    "# entreno en 202103\n",
    "dataset <- dataset[foto_mes == 202103]"
   ]
  },
  {
   "cell_type": "code",
   "execution_count": 13,
   "metadata": {
    "vscode": {
     "languageId": "r"
    }
   },
   "outputs": [],
   "source": [
    "# creo la carpeta donde va el experimento\n",
    "#  HT  representa  Hiperparameter Tuning\n",
    "dir.create(\"./exp/\", showWarnings = FALSE)\n",
    "\n",
    "dir.create(paste0(\"./exp/\", PARAM$experimento, \"/\"),\n",
    "  showWarnings = FALSE\n",
    ")"
   ]
  },
  {
   "cell_type": "code",
   "execution_count": 14,
   "metadata": {
    "vscode": {
     "languageId": "r"
    }
   },
   "outputs": [],
   "source": [
    "# Establezco el Working Directory DEL EXPERIMENTO\n",
    "setwd(paste0(\"./exp/\", PARAM$experimento, \"/\"))"
   ]
  },
  {
   "cell_type": "code",
   "execution_count": 15,
   "metadata": {
    "vscode": {
     "languageId": "r"
    }
   },
   "outputs": [],
   "source": [
    "archivo_log <- \"BO_log.txt\"\n",
    "archivo_BO <- \"bayesiana.RDATA\"\n",
    "\n",
    "# leo si ya existe el log\n",
    "#  para retomar en caso que se se corte el programa\n",
    "GLOBAL_iteracion <- 0\n",
    "\n",
    "if (file.exists(archivo_log)) {\n",
    "  tabla_log <- fread(archivo_log)\n",
    "  GLOBAL_iteracion <- nrow(tabla_log)\n",
    "}"
   ]
  },
  {
   "cell_type": "markdown",
   "metadata": {},
   "source": [
    "# Step 4:\"Aqui comienza la configuracion de la Bayesian Optimization\""
   ]
  },
  {
   "cell_type": "code",
   "execution_count": 16,
   "metadata": {
    "vscode": {
     "languageId": "r"
    }
   },
   "outputs": [],
   "source": [
    "funcion_optimizar <- EstimarGanancia"
   ]
  },
  {
   "cell_type": "code",
   "execution_count": 17,
   "metadata": {
    "vscode": {
     "languageId": "r"
    }
   },
   "outputs": [],
   "source": [
    "configureMlr(show.learner.output = FALSE)"
   ]
  },
  {
   "cell_type": "code",
   "execution_count": 18,
   "metadata": {
    "vscode": {
     "languageId": "r"
    }
   },
   "outputs": [],
   "source": [
    "# configuro la busqueda bayesiana,\n",
    "#  los hiperparametros que se van a optimizar\n",
    "# por favor, no desesperarse por lo complejo\n",
    "# minimize= FALSE estoy Maximizando la ganancia\n",
    "obj.fun <- makeSingleObjectiveFunction(\n",
    "  fn = funcion_optimizar,\n",
    "  minimize = FALSE,\n",
    "  noisy = TRUE,\n",
    "  par.set = PARAM$hs,\n",
    "  has.simple.signature = FALSE\n",
    ")"
   ]
  },
  {
   "cell_type": "code",
   "execution_count": 19,
   "metadata": {
    "vscode": {
     "languageId": "r"
    }
   },
   "outputs": [],
   "source": [
    "ctrl <- makeMBOControl(\n",
    "  save.on.disk.at.time = 600,\n",
    "  save.file.path = archivo_BO\n",
    ")"
   ]
  },
  {
   "cell_type": "code",
   "execution_count": 20,
   "metadata": {
    "vscode": {
     "languageId": "r"
    }
   },
   "outputs": [],
   "source": [
    "ctrl <- setMBOControlTermination(ctrl, iters = PARAM$BO_iter)\n",
    "ctrl <- setMBOControlInfill(ctrl, crit = makeMBOInfillCritEI())\n"
   ]
  },
  {
   "cell_type": "code",
   "execution_count": 21,
   "metadata": {
    "vscode": {
     "languageId": "r"
    }
   },
   "outputs": [],
   "source": [
    "surr.km <- makeLearner(\"regr.km\",\n",
    "  predict.type = \"se\",\n",
    "  covtype = \"matern3_2\", control = list(trace = TRUE)\n",
    ")"
   ]
  },
  {
   "cell_type": "code",
   "execution_count": 22,
   "metadata": {
    "vscode": {
     "languageId": "r"
    }
   },
   "outputs": [
    {
     "name": "stderr",
     "output_type": "stream",
     "text": [
      "Computing y column(s) for design. Not provided.\n",
      "\n"
     ]
    },
    {
     "name": "stdout",
     "output_type": "stream",
     "text": [
      "70595000 67144000 67494000 66339000 69881000 69265000 67963000 65947000 63133000 70567000 \n",
      "20230905 110017\t-0.284313363989349\t3345\t745\t17\t10\t5\t67832800\t1\n",
      "51520000 50064000 49791000 53704000 55426000 51051000 52430000 50456000 50694000 51541000 \n",
      "20230905 110707\t-0.452143641882867\t6974\t890\t20\t10\t5\t51667700\t2\n",
      "62510000 61922000 60522000 60109000 61656000 59514000 60550000 60592000 58002000 63644000 \n",
      "20230905 111115\t-0.145418120472459\t2952\t1306\t4\t10\t5\t60902100\t3\n",
      "51520000 50246000 49791000 53704000 55426000 51051000 52430000 50848000 51590000 51464000 \n",
      "20230905 111546\t-0.661265737036592\t7174\t1534\t5\t10\t5\t51807000\t4\n",
      "67067000 70462000 72597000 70791000 73066000 72373000 72674000 74137000 66850000 71309000 \n",
      "20230905 112227\t-0.602451440013829\t1918\t455\t9\t10\t5\t71132600\t5\n",
      "51520000 52129000 49791000 53704000 55426000 51051000 55125000 51198000 54831000 51422000 \n",
      "20230905 112852\t-0.839975238118495\t7793\t2067\t16\t10\t5\t52619700\t6\n",
      "52528000 51702000 49168000 53809000 56707000 54012000 54789000 50708000 50204000 53123000 \n",
      "20230905 113805\t-0.195037468754163\t6321\t98\t14\t10\t5\t52675000\t7\n",
      "55279000 54726000 50358000 54397000 57218000 54159000 61166000 59661000 57449000 55111000 \n",
      "20230905 114457\t-0.357370477376713\t5633\t951\t19\t10\t5\t55952400\t8\n",
      "51520000 50463000 49791000 53704000 57708000 52850000 55496000 50582000 51135000 53277000 \n",
      "20230905 115106\t-0.490437677168908\t6751\t1351\t18\t10\t5\t52652600\t9\n",
      "50813000 50015000 49791000 53200000 54866000 51051000 52430000 50708000 50834000 51541000 \n",
      "20230905 115858\t-0.210762592710347\t7150\t154\t13\t10\t5\t51524900\t10\n",
      "51520000 49896000 49791000 53704000 55426000 51051000 52549000 51205000 53004000 51016000 \n",
      "20230905 120442\t-0.865021621466925\t7161\t2681\t11\t10\t5\t51916200\t11\n",
      "51583000 49910000 49070000 52738000 55902000 54166000 54257000 49868000 50981000 52661000 \n",
      "20230905 120950\t-0.273707636391434\t6270\t21\t6\t10\t5\t52113600\t12\n",
      "0 0 0 0 0 0 0 0 0 0 \n",
      "20230905 121347\t0.0287623060440336\t3552\t1662\t13\t10\t5\t0\t13\n",
      "61586000 59178000 60452000 58968000 62363000 59052000 61985000 61649000 56490000 63630000 \n",
      "20230905 121734\t-0.189083820903518\t2552\t909\t4\t10\t5\t60535300\t14\n",
      "0 0 0 0 0 0 0 0 0 0 \n",
      "20230905 122145\t0.0936990507296287\t4861\t736\t6\t10\t5\t0\t15\n",
      "51520000 52129000 49791000 53704000 55426000 51051000 55125000 51198000 54831000 51422000 \n",
      "20230905 122656\t-0.135148033965379\t7860\t1840\t6\t10\t5\t52619700\t16\n"
     ]
    },
    {
     "name": "stderr",
     "output_type": "stream",
     "text": [
      "[mbo] 0: cp=-0.284; minsplit=3345; minbucket=745; maxdepth=17 : y = 6.78e+07 : 500.5 secs : initdesign\n",
      "\n",
      "[mbo] 0: cp=-0.452; minsplit=6974; minbucket=890; maxdepth=20 : y = 5.17e+07 : 410.4 secs : initdesign\n",
      "\n",
      "[mbo] 0: cp=-0.145; minsplit=2952; minbucket=1306; maxdepth=4 : y = 6.09e+07 : 248.3 secs : initdesign\n",
      "\n",
      "[mbo] 0: cp=-0.661; minsplit=7174; minbucket=1534; maxdepth=5 : y = 5.18e+07 : 270.8 secs : initdesign\n",
      "\n",
      "[mbo] 0: cp=-0.602; minsplit=1918; minbucket=455; maxdepth=9 : y = 7.11e+07 : 401.1 secs : initdesign\n",
      "\n",
      "[mbo] 0: cp=-0.84; minsplit=7793; minbucket=2067; maxdepth=16 : y = 5.26e+07 : 384.7 secs : initdesign\n",
      "\n",
      "[mbo] 0: cp=-0.195; minsplit=6321; minbucket=98; maxdepth=14 : y = 5.27e+07 : 553.4 secs : initdesign\n",
      "\n",
      "[mbo] 0: cp=-0.357; minsplit=5633; minbucket=951; maxdepth=19 : y = 5.6e+07 : 412.0 secs : initdesign\n",
      "\n",
      "[mbo] 0: cp=-0.49; minsplit=6751; minbucket=1351; maxdepth=18 : y = 5.27e+07 : 368.7 secs : initdesign\n",
      "\n",
      "[mbo] 0: cp=-0.211; minsplit=7150; minbucket=154; maxdepth=13 : y = 5.15e+07 : 471.8 secs : initdesign\n",
      "\n",
      "[mbo] 0: cp=-0.865; minsplit=7161; minbucket=2681; maxdepth=11 : y = 5.19e+07 : 344.5 secs : initdesign\n",
      "\n",
      "[mbo] 0: cp=-0.274; minsplit=6270; minbucket=21; maxdepth=6 : y = 5.21e+07 : 307.4 secs : initdesign\n",
      "\n",
      "[mbo] 0: cp=0.0288; minsplit=3552; minbucket=1662; maxdepth=13 : y = 0 : 237.2 secs : initdesign\n",
      "\n",
      "[mbo] 0: cp=-0.189; minsplit=2552; minbucket=909; maxdepth=4 : y = 6.05e+07 : 226.6 secs : initdesign\n",
      "\n",
      "[mbo] 0: cp=0.0937; minsplit=4861; minbucket=736; maxdepth=6 : y = 0 : 251.9 secs : initdesign\n",
      "\n",
      "[mbo] 0: cp=-0.135; minsplit=7860; minbucket=1840; maxdepth=6 : y = 5.26e+07 : 310.9 secs : initdesign\n",
      "\n",
      "Saved the current state after iteration 1 in the file bayesiana.RDATA.\n",
      "\n"
     ]
    },
    {
     "name": "stdout",
     "output_type": "stream",
     "text": [
      "30254000 39193000 29078000 33880000 34433000 29617000 34258000 35077000 36323000 30744000 \n",
      "20230905 123943\t-0.555082874375618\t16\t6\t17\t10\t5\t33285700\t17\n"
     ]
    },
    {
     "name": "stderr",
     "output_type": "stream",
     "text": [
      "[mbo] 1: cp=-0.555; minsplit=16; minbucket=6; maxdepth=17 : y = 3.33e+07 : 762.6 secs : infill_ei\n",
      "\n",
      "Saved the current state after iteration 2 in the file bayesiana.RDATA.\n",
      "\n"
     ]
    },
    {
     "name": "stdout",
     "output_type": "stream",
     "text": [
      "61411000 58793000 59150000 60473000 62979000 60074000 60977000 61250000 58996000 59955000 \n",
      "20230905 124319\t-0.591667177889937\t1802\t590\t3\t10\t5\t60405800\t18\n"
     ]
    },
    {
     "name": "stderr",
     "output_type": "stream",
     "text": [
      "[mbo] 2: cp=-0.592; minsplit=1802; minbucket=590; maxdepth=3 : y = 6.04e+07 : 213.8 secs : infill_ei\n",
      "\n"
     ]
    },
    {
     "name": "stdout",
     "output_type": "stream",
     "text": [
      "65373000 64323000 65072000 64260000 67893000 64421000 67627000 61271000 61180000 66934000 \n",
      "20230905 124946\t-0.604684060066009\t3326\t1656\t9\t10\t5\t64835400\t19\n"
     ]
    },
    {
     "name": "stderr",
     "output_type": "stream",
     "text": [
      "[mbo] 3: cp=-0.605; minsplit=3326; minbucket=1656; maxdepth=9 : y = 6.48e+07 : 385.1 secs : infill_ei\n",
      "\n",
      "Saved the current state after iteration 4 in the file bayesiana.RDATA.\n",
      "\n"
     ]
    },
    {
     "name": "stdout",
     "output_type": "stream",
     "text": [
      "70035000 73080000 64778000 70203000 71890000 73143000 67599000 67942000 69846000 71484000 \n",
      "20230905 125658\t-0.670003588254582\t1820\t4\t9\t10\t5\t7e+07\t20\n"
     ]
    },
    {
     "name": "stderr",
     "output_type": "stream",
     "text": [
      "[mbo] 4: cp=-0.67; minsplit=1820; minbucket=4; maxdepth=9 : y = 7e+07 : 430.6 secs : infill_ei\n",
      "\n"
     ]
    },
    {
     "name": "stdout",
     "output_type": "stream",
     "text": [
      "66290000 64540000 62622000 66696000 67739000 66073000 63721000 62202000 66696000 64974000 \n",
      "20230905 130400\t-0.619882752171832\t3666\t3\t9\t10\t5\t65155300\t21\n"
     ]
    },
    {
     "name": "stderr",
     "output_type": "stream",
     "text": [
      "[mbo] 5: cp=-0.62; minsplit=3666; minbucket=3; maxdepth=9 : y = 6.52e+07 : 420.4 secs : infill_ei\n",
      "\n",
      "Saved the current state after iteration 6 in the file bayesiana.RDATA.\n",
      "\n"
     ]
    },
    {
     "name": "stdout",
     "output_type": "stream",
     "text": [
      "71610000 70903000 69916000 73045000 69818000 70441000 73122000 68747000 74564000 72030000 \n",
      "20230905 131110\t-0.633742671840732\t790\t391\t8\t10\t5\t71419600\t22\n"
     ]
    },
    {
     "name": "stderr",
     "output_type": "stream",
     "text": [
      "[mbo] 6: cp=-0.634; minsplit=790; minbucket=391; maxdepth=8 : y = 7.14e+07 : 427.9 secs : infill_ei\n",
      "\n"
     ]
    },
    {
     "name": "stdout",
     "output_type": "stream",
     "text": [
      "67354000 65688000 65170000 67256000 70364000 64225000 66052000 67053000 61845000 67578000 \n",
      "20230905 131829\t-0.445972380730888\t1777\t885\t9\t10\t5\t66258500\t23\n"
     ]
    },
    {
     "name": "stderr",
     "output_type": "stream",
     "text": [
      "[mbo] 7: cp=-0.446; minsplit=1777; minbucket=885; maxdepth=9 : y = 6.63e+07 : 435.9 secs : infill_ei\n",
      "\n",
      "Saved the current state after iteration 8 in the file bayesiana.RDATA.\n",
      "\n"
     ]
    },
    {
     "name": "stdout",
     "output_type": "stream",
     "text": [
      "66955000 68271000 69153000 70980000 70350000 68698000 67963000 68929000 68663000 71218000 \n",
      "20230905 132453\t-0.759531280667063\t1008\t502\t8\t10\t5\t69118000\t24\n"
     ]
    },
    {
     "name": "stderr",
     "output_type": "stream",
     "text": [
      "[mbo] 8: cp=-0.76; minsplit=1008; minbucket=502; maxdepth=8 : y = 6.91e+07 : 381.2 secs : infill_ei\n",
      "\n"
     ]
    },
    {
     "name": "stdout",
     "output_type": "stream",
     "text": [
      "69531000 64848000 66969000 66290000 69664000 62636000 66710000 65142000 63112000 67487000 \n",
      "20230905 133150\t-0.296929721043803\t2550\t1275\t11\t10\t5\t66238900\t25\n"
     ]
    },
    {
     "name": "stderr",
     "output_type": "stream",
     "text": [
      "[mbo] 9: cp=-0.297; minsplit=2550; minbucket=1275; maxdepth=11 : y = 6.62e+07 : 414.3 secs : infill_ei\n",
      "\n",
      "Saved the current state after iteration 10 in the file bayesiana.RDATA.\n",
      "\n"
     ]
    },
    {
     "name": "stdout",
     "output_type": "stream",
     "text": [
      "65023000 69797000 72030000 68257000 67536000 67620000 70434000 71512000 64876000 69174000 \n",
      "20230905 133729\t-0.693482612763091\t1484\t731\t8\t10\t5\t68625900\t26\n"
     ]
    },
    {
     "name": "stderr",
     "output_type": "stream",
     "text": [
      "[mbo] 10: cp=-0.693; minsplit=1484; minbucket=731; maxdepth=8 : y = 6.86e+07 : 337.2 secs : infill_ei\n",
      "\n"
     ]
    },
    {
     "name": "stdout",
     "output_type": "stream",
     "text": [
      "68166000 68264000 62104000 67403000 67613000 64099000 63532000 64309000 63595000 60655000 \n",
      "20230905 134444\t-0.879191126246576\t7\t3\t9\t10\t5\t64974000\t27\n"
     ]
    },
    {
     "name": "stderr",
     "output_type": "stream",
     "text": [
      "[mbo] 11: cp=-0.879; minsplit=7; minbucket=3; maxdepth=9 : y = 6.5e+07 : 432.5 secs : infill_ei\n",
      "\n",
      "Saved the current state after iteration 12 in the file bayesiana.RDATA.\n",
      "\n"
     ]
    },
    {
     "name": "stdout",
     "output_type": "stream",
     "text": [
      "64687000 58674000 62398000 64743000 64183000 63245000 61348000 60914000 56294000 59409000 \n",
      "20230905 135041\t-0.263387441604164\t4810\t2405\t17\t10\t5\t61589500\t28\n"
     ]
    },
    {
     "name": "stderr",
     "output_type": "stream",
     "text": [
      "[mbo] 12: cp=-0.263; minsplit=4810; minbucket=2405; maxdepth=17 : y = 6.16e+07 : 354.2 secs : infill_ei\n",
      "\n"
     ]
    },
    {
     "name": "stdout",
     "output_type": "stream",
     "text": [
      "69412000 70847000 67088000 66556000 74179000 61173000 67214000 68159000 70644000 68586000 \n",
      "20230905 135707\t-0.589065883953984\t180\t81\t8\t10\t5\t68385800\t29\n"
     ]
    },
    {
     "name": "stderr",
     "output_type": "stream",
     "text": [
      "[mbo] 13: cp=-0.589; minsplit=180; minbucket=81; maxdepth=8 : y = 6.84e+07 : 384.2 secs : infill_ei\n",
      "\n",
      "Saved the current state after iteration 14 in the file bayesiana.RDATA.\n",
      "\n"
     ]
    },
    {
     "name": "stdout",
     "output_type": "stream",
     "text": [
      "69552000 68187000 67795000 70728000 67963000 71624000 67361000 67319000 67494000 69223000 \n",
      "20230905 140338\t-0.634279336647023\t1093\t544\t9\t10\t5\t68724600\t30\n"
     ]
    },
    {
     "name": "stderr",
     "output_type": "stream",
     "text": [
      "[mbo] 14: cp=-0.634; minsplit=1093; minbucket=544; maxdepth=9 : y = 6.87e+07 : 388.9 secs : infill_ei\n",
      "\n"
     ]
    },
    {
     "name": "stdout",
     "output_type": "stream",
     "text": [
      "71344000 68229000 72282000 73276000 74991000 70245000 73738000 74172000 69608000 73808000 \n",
      "20230905 140859\t-0.615938591495071\t1834\t158\t7\t10\t5\t72169300\t31\n"
     ]
    },
    {
     "name": "stderr",
     "output_type": "stream",
     "text": [
      "[mbo] 15: cp=-0.616; minsplit=1834; minbucket=158; maxdepth=7 : y = 7.22e+07 : 319.3 secs : infill_ei\n",
      "\n",
      "Saved the current state after iteration 16 in the file bayesiana.RDATA.\n",
      "\n"
     ]
    },
    {
     "name": "stdout",
     "output_type": "stream",
     "text": [
      "72912000 68873000 69741000 71260000 73234000 74361000 69188000 69251000 74333000 70392000 \n",
      "20230905 141416\t-0.817243316100094\t2174\t3\t7\t10\t5\t71354500\t32\n"
     ]
    },
    {
     "name": "stderr",
     "output_type": "stream",
     "text": [
      "[mbo] 16: cp=-0.817; minsplit=2174; minbucket=3; maxdepth=7 : y = 7.14e+07 : 315.2 secs : infill_ei\n",
      "\n"
     ]
    },
    {
     "name": "stdout",
     "output_type": "stream",
     "text": [
      "67669000 65415000 64659000 66143000 68509000 66045000 71638000 64862000 63875000 70525000 \n",
      "20230905 141834\t-0.805611168254968\t30\t4\t5\t10\t5\t66934000\t33\n"
     ]
    },
    {
     "name": "stderr",
     "output_type": "stream",
     "text": [
      "[mbo] 17: cp=-0.806; minsplit=30; minbucket=4; maxdepth=5 : y = 6.69e+07 : 256.0 secs : infill_ei\n",
      "\n"
     ]
    },
    {
     "name": "stdout",
     "output_type": "stream",
     "text": [
      "74018000 69020000 68516000 71582000 71897000 72653000 69566000 69489000 72506000 69601000 \n",
      "20230905 142353\t-0.99618241906073\t2302\t1\t7\t10\t5\t70884800\t34\n"
     ]
    },
    {
     "name": "stderr",
     "output_type": "stream",
     "text": [
      "[mbo] 18: cp=-0.996; minsplit=2302; minbucket=1; maxdepth=7 : y = 7.09e+07 : 317.5 secs : infill_ei\n",
      "\n",
      "Saved the current state after iteration 19 in the file bayesiana.RDATA.\n",
      "\n"
     ]
    },
    {
     "name": "stdout",
     "output_type": "stream",
     "text": [
      "71330000 69769000 70756000 74137000 72128000 71260000 74613000 70910000 67431000 74900000 \n",
      "20230905 142845\t-0.924022963307074\t2013\t241\t6\t10\t5\t71723400\t35\n"
     ]
    },
    {
     "name": "stderr",
     "output_type": "stream",
     "text": [
      "[mbo] 19: cp=-0.924; minsplit=2013; minbucket=241; maxdepth=6 : y = 7.17e+07 : 289.9 secs : infill_ei\n",
      "\n"
     ]
    },
    {
     "name": "stdout",
     "output_type": "stream",
     "text": [
      "70553000 66101000 66745000 70434000 70630000 67627000 66815000 67942000 70280000 66640000 \n",
      "20230905 143430\t-0.933750125980917\t3003\t3\t8\t10\t5\t68376700\t36\n"
     ]
    },
    {
     "name": "stderr",
     "output_type": "stream",
     "text": [
      "[mbo] 20: cp=-0.934; minsplit=3003; minbucket=3; maxdepth=8 : y = 6.84e+07 : 343.3 secs : infill_ei\n",
      "\n",
      "Saved the current state after iteration 21 in the file bayesiana.RDATA.\n",
      "\n"
     ]
    },
    {
     "name": "stdout",
     "output_type": "stream",
     "text": [
      "58863000 54019000 56343000 57211000 58912000 60256000 57029000 61250000 57834000 57617000 \n",
      "20230905 143728\t-0.999199931232088\t1063\t1\t3\t10\t5\t57933400\t37\n"
     ]
    },
    {
     "name": "stderr",
     "output_type": "stream",
     "text": [
      "[mbo] 21: cp=-0.999; minsplit=1063; minbucket=1; maxdepth=3 : y = 5.79e+07 : 176.5 secs : infill_ei\n",
      "\n"
     ]
    },
    {
     "name": "stdout",
     "output_type": "stream",
     "text": [
      "66591000 66801000 66752000 64911000 70301000 65618000 66199000 62874000 64715000 69146000 \n",
      "20230905 144257\t-0.986341563520245\t2264\t1127\t7\t10\t5\t66390800\t38\n"
     ]
    },
    {
     "name": "stderr",
     "output_type": "stream",
     "text": [
      "[mbo] 22: cp=-0.986; minsplit=2264; minbucket=1127; maxdepth=7 : y = 6.64e+07 : 326.0 secs : infill_ei\n",
      "\n"
     ]
    },
    {
     "name": "stdout",
     "output_type": "stream",
     "text": [
      "56119000 51527000 55111000 58877000 60732000 57750000 55391000 57148000 55258000 53186000 \n",
      "20230905 144553\t-0.262566735645476\t4890\t2445\t3\t10\t5\t56109900\t39\n"
     ]
    },
    {
     "name": "stderr",
     "output_type": "stream",
     "text": [
      "[mbo] 23: cp=-0.263; minsplit=4890; minbucket=2445; maxdepth=3 : y = 5.61e+07 : 174.2 secs : infill_ei\n",
      "\n",
      "Saved the current state after iteration 24 in the file bayesiana.RDATA.\n",
      "\n"
     ]
    },
    {
     "name": "stdout",
     "output_type": "stream",
     "text": [
      "72408000 70147000 69251000 70343000 73941000 73927000 69874000 69846000 72758000 71057000 \n",
      "20230905 145124\t-0.889886151768545\t1709\t4\t7\t10\t5\t71355200\t40\n"
     ]
    },
    {
     "name": "stderr",
     "output_type": "stream",
     "text": [
      "[mbo] 24: cp=-0.89; minsplit=1709; minbucket=4; maxdepth=7 : y = 7.14e+07 : 329.1 secs : infill_ei\n",
      "\n"
     ]
    },
    {
     "name": "stdout",
     "output_type": "stream",
     "text": [
      "69727000 68768000 72408000 73899000 74424000 70756000 74088000 72324000 67998000 74081000 \n",
      "20230905 145719\t-0.610972108288281\t2011\t319\t8\t10\t5\t71847300\t41\n"
     ]
    },
    {
     "name": "stderr",
     "output_type": "stream",
     "text": [
      "[mbo] 25: cp=-0.611; minsplit=2011; minbucket=319; maxdepth=8 : y = 7.18e+07 : 352.7 secs : infill_ei\n",
      "\n",
      "Saved the current state after iteration 26 in the file bayesiana.RDATA.\n",
      "\n"
     ]
    },
    {
     "name": "stdout",
     "output_type": "stream",
     "text": [
      "73969000 70462000 68579000 74837000 73570000 69958000 71512000 72863000 70469000 67193000 \n",
      "20230905 150250\t-0.67060601670637\t783\t60\t7\t10\t5\t71341200\t42\n"
     ]
    },
    {
     "name": "stderr",
     "output_type": "stream",
     "text": [
      "[mbo] 26: cp=-0.671; minsplit=783; minbucket=60; maxdepth=7 : y = 7.13e+07 : 329.1 secs : infill_ei\n",
      "\n"
     ]
    },
    {
     "name": "stdout",
     "output_type": "stream",
     "text": [
      "51716000 49679000 49784000 53578000 54908000 53235000 56224000 51065000 53921000 51471000 \n",
      "20230905 150730\t-0.999782465095876\t7446\t1\t6\t10\t5\t52558100\t43\n"
     ]
    },
    {
     "name": "stderr",
     "output_type": "stream",
     "text": [
      "[mbo] 27: cp=-1; minsplit=7446; minbucket=1; maxdepth=6 : y = 5.26e+07 : 278.1 secs : infill_ei\n",
      "\n",
      "Saved the current state after iteration 28 in the file bayesiana.RDATA.\n",
      "\n"
     ]
    },
    {
     "name": "stdout",
     "output_type": "stream",
     "text": [
      "51562000 51527000 51380000 53683000 52493000 53984000 55671000 52514000 54187000 54299000 \n",
      "20230905 151243\t-0.453306412994712\t7996\t3998\t10\t10\t5\t53130000\t44\n"
     ]
    },
    {
     "name": "stderr",
     "output_type": "stream",
     "text": [
      "[mbo] 28: cp=-0.453; minsplit=7996; minbucket=3998; maxdepth=10 : y = 5.31e+07 : 311.3 secs : infill_ei\n",
      "\n"
     ]
    },
    {
     "name": "stdout",
     "output_type": "stream",
     "text": [
      "68922000 71057000 66941000 69153000 68173000 71855000 66052000 64526000 67697000 68705000 \n",
      "20230905 152014\t-0.999854146214063\t1965\t5\t11\t10\t5\t68308100\t45\n"
     ]
    },
    {
     "name": "stderr",
     "output_type": "stream",
     "text": [
      "[mbo] 29: cp=-1; minsplit=1965; minbucket=5; maxdepth=11 : y = 6.83e+07 : 449.3 secs : infill_ei\n",
      "\n",
      "Saved the current state after iteration 30 in the file bayesiana.RDATA.\n",
      "\n"
     ]
    },
    {
     "name": "stdout",
     "output_type": "stream",
     "text": [
      "64372000 64043000 60207000 65359000 67641000 64785000 62888000 61985000 65352000 64967000 \n",
      "20230905 152808\t-0.378831101072914\t3416\t4\t13\t10\t5\t64159900\t46\n"
     ]
    },
    {
     "name": "stderr",
     "output_type": "stream",
     "text": [
      "[mbo] 30: cp=-0.379; minsplit=3416; minbucket=4; maxdepth=13 : y = 6.42e+07 : 471.3 secs : infill_ei\n",
      "\n"
     ]
    },
    {
     "name": "stdout",
     "output_type": "stream",
     "text": [
      "71694000 69986000 67921000 72667000 74151000 72863000 72793000 71421000 69790000 74172000 \n",
      "20230905 153257\t-0.632075613095036\t687\t330\t6\t10\t5\t71745800\t47\n"
     ]
    },
    {
     "name": "stderr",
     "output_type": "stream",
     "text": [
      "[mbo] 31: cp=-0.632; minsplit=687; minbucket=330; maxdepth=6 : y = 7.17e+07 : 287.5 secs : infill_ei\n",
      "\n",
      "Saved the current state after iteration 32 in the file bayesiana.RDATA.\n",
      "\n"
     ]
    },
    {
     "name": "stdout",
     "output_type": "stream",
     "text": [
      "74081000 69958000 69587000 71190000 73864000 75152000 69132000 71225000 73381000 70826000 \n",
      "20230905 153818\t-0.948311520777626\t1799\t2\t7\t10\t5\t71839600\t48\n"
     ]
    },
    {
     "name": "stderr",
     "output_type": "stream",
     "text": [
      "[mbo] 32: cp=-0.948; minsplit=1799; minbucket=2; maxdepth=7 : y = 7.18e+07 : 319.0 secs : infill_ei\n",
      "\n"
     ]
    },
    {
     "name": "stdout",
     "output_type": "stream",
     "text": [
      "68138000 66402000 67137000 70819000 72212000 69055000 69685000 70203000 64155000 71253000 \n",
      "20230905 154700\t-0.999983339823574\t3035\t228\t20\t10\t5\t68905900\t49\n"
     ]
    },
    {
     "name": "stderr",
     "output_type": "stream",
     "text": [
      "[mbo] 33: cp=-1; minsplit=3035; minbucket=228; maxdepth=20 : y = 6.89e+07 : 519.9 secs : infill_ei\n",
      "\n",
      "Saved the current state after iteration 34 in the file bayesiana.RDATA.\n",
      "\n"
     ]
    },
    {
     "name": "stdout",
     "output_type": "stream",
     "text": [
      "52801000 52024000 49742000 53550000 56917000 53774000 54775000 50708000 50204000 52920000 \n",
      "20230905 155520\t-0.999551234680372\t6210\t190\t20\t10\t5\t52741500\t50\n"
     ]
    },
    {
     "name": "stderr",
     "output_type": "stream",
     "text": [
      "[mbo] 34: cp=-1; minsplit=6210; minbucket=190; maxdepth=20 : y = 5.27e+07 : 498.4 secs : infill_ei\n",
      "\n"
     ]
    },
    {
     "name": "stdout",
     "output_type": "stream",
     "text": [
      "67739000 69104000 63812000 67340000 69916000 69020000 63847000 65016000 68215000 66885000 \n",
      "20230905 160532\t-0.999966558879321\t2162\t2\t17\t10\t5\t67089400\t51\n"
     ]
    },
    {
     "name": "stderr",
     "output_type": "stream",
     "text": [
      "[mbo] 35: cp=-1; minsplit=2162; minbucket=2; maxdepth=17 : y = 6.71e+07 : 610.6 secs : infill_ei\n",
      "\n",
      "Saved the current state after iteration 36 in the file bayesiana.RDATA.\n",
      "\n"
     ]
    },
    {
     "name": "stdout",
     "output_type": "stream",
     "text": [
      "68586000 65044000 63189000 66857000 69531000 64974000 64939000 65149000 67578000 64708000 \n",
      "20230905 161657\t-0.913959472184092\t2433\t1\t20\t10\t5\t66055500\t52\n"
     ]
    },
    {
     "name": "stderr",
     "output_type": "stream",
     "text": [
      "[mbo] 36: cp=-0.914; minsplit=2433; minbucket=1; maxdepth=20 : y = 6.61e+07 : 682.0 secs : infill_ei\n",
      "\n",
      "Saved the current state after iteration 37 in the file bayesiana.RDATA.\n",
      "\n"
     ]
    },
    {
     "name": "stdout",
     "output_type": "stream",
     "text": [
      "67228000 65639000 65611000 65982000 69664000 63028000 66360000 65030000 65107000 66962000 \n",
      "20230905 162348\t-0.999777203040719\t2486\t1241\t20\t10\t5\t66061100\t53\n"
     ]
    },
    {
     "name": "stderr",
     "output_type": "stream",
     "text": [
      "[mbo] 37: cp=-1; minsplit=2486; minbucket=1241; maxdepth=20 : y = 6.61e+07 : 409.1 secs : infill_ei\n",
      "\n"
     ]
    },
    {
     "name": "stdout",
     "output_type": "stream",
     "text": [
      "65373000 61509000 60795000 67452000 67410000 63420000 64239000 64855000 66787000 63175000 \n",
      "20230905 163449\t-0.243477034043861\t3039\t2\t20\t10\t5\t64501500\t54\n"
     ]
    },
    {
     "name": "stderr",
     "output_type": "stream",
     "text": [
      "[mbo] 38: cp=-0.243; minsplit=3039; minbucket=2; maxdepth=20 : y = 6.45e+07 : 659.8 secs : infill_ei\n",
      "\n",
      "Saved the current state after iteration 39 in the file bayesiana.RDATA.\n",
      "\n"
     ]
    },
    {
     "name": "stdout",
     "output_type": "stream",
     "text": [
      "70966000 69139000 72002000 74459000 75390000 72590000 72275000 74032000 69748000 72261000 \n",
      "20230905 164011\t-0.638713379989054\t1783\t295\t7\t10\t5\t72286200\t55\n"
     ]
    },
    {
     "name": "stderr",
     "output_type": "stream",
     "text": [
      "[mbo] 39: cp=-0.639; minsplit=1783; minbucket=295; maxdepth=7 : y = 7.23e+07 : 319.4 secs : infill_ei\n",
      "\n"
     ]
    },
    {
     "name": "stdout",
     "output_type": "stream",
     "text": [
      "71323000 69895000 72191000 73787000 71764000 73045000 71470000 74151000 70210000 72919000 \n",
      "20230905 164528\t-0.594596280941916\t1717\t378\t7\t10\t5\t72075500\t56\n"
     ]
    },
    {
     "name": "stderr",
     "output_type": "stream",
     "text": [
      "[mbo] 40: cp=-0.595; minsplit=1717; minbucket=378; maxdepth=7 : y = 7.21e+07 : 315.7 secs : infill_ei\n",
      "\n",
      "Saved the current state after iteration 41 in the file bayesiana.RDATA.\n",
      "\n"
     ]
    },
    {
     "name": "stdout",
     "output_type": "stream",
     "text": [
      "70798000 69153000 71631000 73843000 75467000 71596000 72520000 74207000 69601000 73080000 \n",
      "20230905 165049\t-0.843880235125128\t1841\t281\t7\t10\t5\t72189600\t57\n"
     ]
    },
    {
     "name": "stderr",
     "output_type": "stream",
     "text": [
      "[mbo] 41: cp=-0.844; minsplit=1841; minbucket=281; maxdepth=7 : y = 7.22e+07 : 318.3 secs : infill_ei\n",
      "\n"
     ]
    },
    {
     "name": "stdout",
     "output_type": "stream",
     "text": [
      "71974000 68866000 70574000 74480000 75222000 71848000 72506000 74522000 69825000 75138000 \n",
      "20230905 165614\t-0.801625337600724\t1805\t251\t7\t10\t5\t72495500\t58\n"
     ]
    },
    {
     "name": "stderr",
     "output_type": "stream",
     "text": [
      "[mbo] 42: cp=-0.802; minsplit=1805; minbucket=251; maxdepth=7 : y = 7.25e+07 : 322.5 secs : infill_ei\n",
      "\n",
      "Saved the current state after iteration 43 in the file bayesiana.RDATA.\n",
      "\n"
     ]
    },
    {
     "name": "stdout",
     "output_type": "stream",
     "text": [
      "51562000 51527000 51380000 53683000 52493000 53984000 55671000 52514000 54187000 54299000 \n",
      "20230905 170138\t-0.682393016961464\t7998\t3998\t20\t10\t5\t53130000\t59\n"
     ]
    },
    {
     "name": "stderr",
     "output_type": "stream",
     "text": [
      "[mbo] 43: cp=-0.682; minsplit=7998; minbucket=3998; maxdepth=20 : y = 5.31e+07 : 321.2 secs : infill_ei\n",
      "\n"
     ]
    },
    {
     "name": "stdout",
     "output_type": "stream",
     "text": [
      "51562000 51527000 51387000 53683000 52500000 53991000 55671000 52514000 54194000 54299000 \n",
      "20230905 170655\t-0.242435267530484\t8000\t3995\t20\t10\t5\t53132800\t60\n"
     ]
    },
    {
     "name": "stderr",
     "output_type": "stream",
     "text": [
      "[mbo] 44: cp=-0.242; minsplit=8000; minbucket=3995; maxdepth=20 : y = 5.31e+07 : 314.8 secs : infill_ei\n",
      "\n",
      "Saved the current state after iteration 45 in the file bayesiana.RDATA.\n",
      "\n"
     ]
    },
    {
     "name": "stdout",
     "output_type": "stream",
     "text": [
      "72681000 73724000 71239000 72800000 74746000 68173000 70728000 72814000 70903000 74340000 \n",
      "20230905 171303\t-0.305107971463864\t614\t307\t7\t10\t5\t72214800\t61\n"
     ]
    },
    {
     "name": "stderr",
     "output_type": "stream",
     "text": [
      "[mbo] 45: cp=-0.305; minsplit=614; minbucket=307; maxdepth=7 : y = 7.22e+07 : 365.6 secs : infill_ei\n",
      "\n"
     ]
    },
    {
     "name": "stdout",
     "output_type": "stream",
     "text": [
      "70308000 70763000 65058000 67011000 68964000 71694000 65450000 65947000 67382000 69482000 \n",
      "20230905 171937\t-0.298442759095901\t1712\t9\t9\t10\t5\t68205900\t62\n"
     ]
    },
    {
     "name": "stderr",
     "output_type": "stream",
     "text": [
      "[mbo] 46: cp=-0.298; minsplit=1712; minbucket=9; maxdepth=9 : y = 6.82e+07 : 391.8 secs : infill_ei\n",
      "\n",
      "Saved the current state after iteration 47 in the file bayesiana.RDATA.\n",
      "\n"
     ]
    },
    {
     "name": "stdout",
     "output_type": "stream",
     "text": [
      "73626000 71288000 71757000 73073000 74830000 70329000 71330000 74144000 71512000 74711000 \n",
      "20230905 172509\t-0.343459967302127\t739\t367\t7\t10\t5\t72660000\t63\n"
     ]
    },
    {
     "name": "stderr",
     "output_type": "stream",
     "text": [
      "[mbo] 47: cp=-0.343; minsplit=739; minbucket=367; maxdepth=7 : y = 7.27e+07 : 329.3 secs : infill_ei\n",
      "\n"
     ]
    },
    {
     "name": "stdout",
     "output_type": "stream",
     "text": [
      "71771000 69629000 67753000 73262000 73101000 72156000 72219000 71666000 69125000 74249000 \n",
      "20230905 173012\t-0.329508022737103\t701\t346\t6\t10\t5\t71493100\t64\n"
     ]
    },
    {
     "name": "stderr",
     "output_type": "stream",
     "text": [
      "[mbo] 48: cp=-0.33; minsplit=701; minbucket=346; maxdepth=6 : y = 7.15e+07 : 300.8 secs : infill_ei\n",
      "\n",
      "Saved the current state after iteration 49 in the file bayesiana.RDATA.\n",
      "\n"
     ]
    },
    {
     "name": "stdout",
     "output_type": "stream",
     "text": [
      "67081000 65562000 65072000 64316000 67893000 64827000 65863000 61971000 62573000 66878000 \n",
      "20230905 173522\t-0.306701938750229\t3143\t1564\t7\t10\t5\t65203600\t65\n"
     ]
    },
    {
     "name": "stderr",
     "output_type": "stream",
     "text": [
      "[mbo] 49: cp=-0.307; minsplit=3143; minbucket=1564; maxdepth=7 : y = 6.52e+07 : 307.1 secs : infill_ei\n",
      "\n"
     ]
    },
    {
     "name": "stdout",
     "output_type": "stream",
     "text": [
      "73318000 72926000 71491000 72737000 75474000 68453000 72856000 73619000 66927000 72856000 \n",
      "20230905 174052\t-0.369881386515814\t574\t283\t7\t10\t5\t72065700\t66\n"
     ]
    },
    {
     "name": "stderr",
     "output_type": "stream",
     "text": [
      "[mbo] 50: cp=-0.37; minsplit=574; minbucket=283; maxdepth=7 : y = 7.21e+07 : 327.7 secs : infill_ei\n",
      "\n",
      "Saved the current state after iteration 51 in the file bayesiana.RDATA.\n",
      "\n"
     ]
    },
    {
     "name": "stdout",
     "output_type": "stream",
     "text": [
      "71407000 71204000 72191000 75180000 72548000 65044000 71554000 72184000 70014000 71064000 \n",
      "20230905 174650\t-0.329926229007885\t591\t292\t8\t10\t5\t71239000\t67\n"
     ]
    },
    {
     "name": "stderr",
     "output_type": "stream",
     "text": [
      "[mbo] 51: cp=-0.33; minsplit=591; minbucket=292; maxdepth=8 : y = 7.12e+07 : 356.6 secs : infill_ei\n",
      "\n"
     ]
    },
    {
     "name": "stdout",
     "output_type": "stream",
     "text": [
      "51562000 51527000 51387000 53683000 52500000 53991000 55671000 52514000 54194000 54299000 \n",
      "20230905 174953\t-0.999615346370141\t7995\t3995\t3\t10\t5\t53132800\t68\n"
     ]
    },
    {
     "name": "stderr",
     "output_type": "stream",
     "text": [
      "[mbo] 52: cp=-1; minsplit=7995; minbucket=3995; maxdepth=3 : y = 5.31e+07 : 180.3 secs : infill_ei\n",
      "\n"
     ]
    },
    {
     "name": "stdout",
     "output_type": "stream",
     "text": [
      "70707000 66024000 67494000 67592000 71197000 70287000 69286000 68355000 62699000 69321000 \n",
      "20230905 175717\t-0.805623789076001\t3171\t415\t15\t10\t5\t68296200\t69\n"
     ]
    },
    {
     "name": "stderr",
     "output_type": "stream",
     "text": [
      "[mbo] 53: cp=-0.806; minsplit=3171; minbucket=415; maxdepth=15 : y = 6.83e+07 : 442.5 secs : infill_ei\n",
      "\n",
      "Saved the current state after iteration 54 in the file bayesiana.RDATA.\n",
      "\n"
     ]
    },
    {
     "name": "stdout",
     "output_type": "stream",
     "text": [
      "64393000 62783000 63777000 65450000 64225000 64393000 66017000 60312000 63497000 64183000 \n",
      "20230905 180316\t-0.803117195520868\t3910\t1954\t20\t10\t5\t63903000\t70\n"
     ]
    },
    {
     "name": "stderr",
     "output_type": "stream",
     "text": [
      "[mbo] 54: cp=-0.803; minsplit=3910; minbucket=1954; maxdepth=20 : y = 6.39e+07 : 356.0 secs : infill_ei\n",
      "\n"
     ]
    },
    {
     "name": "stdout",
     "output_type": "stream",
     "text": [
      "70091000 69153000 71344000 74172000 75509000 72254000 74788000 74207000 69398000 74081000 \n",
      "20230905 180836\t-0.922624428699992\t1978\t280\t7\t10\t5\t72499700\t71\n"
     ]
    },
    {
     "name": "stderr",
     "output_type": "stream",
     "text": [
      "[mbo] 55: cp=-0.923; minsplit=1978; minbucket=280; maxdepth=7 : y = 7.25e+07 : 318.5 secs : infill_ei\n",
      "\n",
      "Saved the current state after iteration 56 in the file bayesiana.RDATA.\n",
      "\n"
     ]
    },
    {
     "name": "stdout",
     "output_type": "stream",
     "text": [
      "51562000 51527000 51387000 53683000 52500000 53991000 55671000 52514000 54194000 54299000 \n",
      "20230905 181144\t-0.157727666149764\t7999\t3995\t3\t10\t5\t53132800\t72\n"
     ]
    },
    {
     "name": "stderr",
     "output_type": "stream",
     "text": [
      "[mbo] 56: cp=-0.158; minsplit=7999; minbucket=3995; maxdepth=3 : y = 5.31e+07 : 185.1 secs : infill_ei\n",
      "\n"
     ]
    },
    {
     "name": "stdout",
     "output_type": "stream",
     "text": [
      "72478000 72604000 72639000 73507000 73017000 69013000 68691000 71932000 70658000 74739000 \n",
      "20230905 181715\t-0.170717349644494\t660\t319\t7\t10\t5\t71927800\t73\n"
     ]
    },
    {
     "name": "stderr",
     "output_type": "stream",
     "text": [
      "[mbo] 57: cp=-0.171; minsplit=660; minbucket=319; maxdepth=7 : y = 7.19e+07 : 329.2 secs : infill_ei\n",
      "\n"
     ]
    },
    {
     "name": "stdout",
     "output_type": "stream",
     "text": [
      "74361000 72373000 72485000 73381000 74438000 69678000 69846000 74291000 71309000 74907000 \n",
      "20230905 182247\t-0.244728641487407\t738\t358\t7\t10\t5\t72706900\t74\n"
     ]
    },
    {
     "name": "stderr",
     "output_type": "stream",
     "text": [
      "[mbo] 58: cp=-0.245; minsplit=738; minbucket=358; maxdepth=7 : y = 7.27e+07 : 329.7 secs : infill_ei\n",
      "\n",
      "Saved the current state after iteration 59 in the file bayesiana.RDATA.\n",
      "\n"
     ]
    },
    {
     "name": "stdout",
     "output_type": "stream",
     "text": [
      "58863000 54019000 56343000 57211000 59948000 60256000 57029000 61768000 57834000 57617000 \n",
      "20230905 182548\t-0.142986127411336\t13\t6\t3\t10\t5\t58088800\t75\n"
     ]
    },
    {
     "name": "stderr",
     "output_type": "stream",
     "text": [
      "[mbo] 59: cp=-0.143; minsplit=13; minbucket=6; maxdepth=3 : y = 5.81e+07 : 178.4 secs : infill_ei\n",
      "\n"
     ]
    },
    {
     "name": "stdout",
     "output_type": "stream",
     "text": [
      "73892000 71582000 71435000 74634000 73276000 69650000 70133000 73773000 70252000 74746000 \n",
      "20230905 183112\t-0.612035415581671\t762\t338\t7\t10\t5\t72337300\t76\n"
     ]
    },
    {
     "name": "stderr",
     "output_type": "stream",
     "text": [
      "[mbo] 60: cp=-0.612; minsplit=762; minbucket=338; maxdepth=7 : y = 7.23e+07 : 321.9 secs : infill_ei\n",
      "\n"
     ]
    },
    {
     "name": "stdout",
     "output_type": "stream",
     "text": [
      "70861000 71876000 72870000 73654000 73605000 70987000 71568000 70539000 71757000 74655000 \n",
      "20230905 183641\t-0.271154902272741\t854\t421\t7\t10\t5\t72237200\t77\n"
     ]
    },
    {
     "name": "stderr",
     "output_type": "stream",
     "text": [
      "[mbo] 61: cp=-0.271; minsplit=854; minbucket=421; maxdepth=7 : y = 7.22e+07 : 326.8 secs : infill_ei\n",
      "\n",
      "Saved the current state after iteration 62 in the file bayesiana.RDATA.\n",
      "\n"
     ]
    },
    {
     "name": "stdout",
     "output_type": "stream",
     "text": [
      "70161000 66787000 67494000 68054000 69762000 69265000 67963000 65989000 63140000 69419000 \n",
      "20230905 184412\t-0.943411408501321\t3350\t487\t17\t10\t5\t67803400\t78\n"
     ]
    },
    {
     "name": "stderr",
     "output_type": "stream",
     "text": [
      "[mbo] 62: cp=-0.943; minsplit=3350; minbucket=487; maxdepth=17 : y = 6.78e+07 : 448.7 secs : infill_ei\n",
      "\n"
     ]
    },
    {
     "name": "stdout",
     "output_type": "stream",
     "text": [
      "73668000 72198000 71533000 72905000 74340000 70294000 71491000 74333000 71757000 74746000 \n",
      "20230905 184940\t-0.216895242838862\t744\t364\t7\t10\t5\t72726500\t79\n"
     ]
    },
    {
     "name": "stderr",
     "output_type": "stream",
     "text": [
      "[mbo] 63: cp=-0.217; minsplit=744; minbucket=364; maxdepth=7 : y = 7.27e+07 : 325.3 secs : infill_ei\n",
      "\n",
      "Saved the current state after iteration 64 in the file bayesiana.RDATA.\n",
      "\n"
     ]
    },
    {
     "name": "stdout",
     "output_type": "stream",
     "text": [
      "73353000 71134000 67760000 73990000 75362000 68327000 71659000 73717000 69132000 72317000 \n",
      "20230905 185506\t-0.523311781581289\t749\t250\t7\t10\t5\t71675100\t80\n"
     ]
    },
    {
     "name": "stderr",
     "output_type": "stream",
     "text": [
      "[mbo] 64: cp=-0.523; minsplit=749; minbucket=250; maxdepth=7 : y = 7.17e+07 : 323.6 secs : infill_ei\n",
      "\n"
     ]
    },
    {
     "name": "stdout",
     "output_type": "stream",
     "text": [
      "69531000 66570000 66794000 67879000 69244000 68418000 67963000 65989000 61369000 69419000 \n",
      "20230905 190245\t-0.629113153261748\t3387\t462\t20\t10\t5\t67317600\t81\n"
     ]
    },
    {
     "name": "stderr",
     "output_type": "stream",
     "text": [
      "[mbo] 65: cp=-0.629; minsplit=3387; minbucket=462; maxdepth=20 : y = 6.73e+07 : 457.5 secs : infill_ei\n",
      "\n",
      "Saved the current state after iteration 66 in the file bayesiana.RDATA.\n",
      "\n"
     ]
    },
    {
     "name": "stdout",
     "output_type": "stream",
     "text": [
      "67046000 64323000 65072000 64316000 67893000 65401000 65863000 61782000 61159000 66892000 \n",
      "20230905 190908\t-0.329972319515265\t3210\t1604\t20\t10\t5\t64974700\t82\n"
     ]
    },
    {
     "name": "stderr",
     "output_type": "stream",
     "text": [
      "[mbo] 66: cp=-0.33; minsplit=3210; minbucket=1604; maxdepth=20 : y = 6.5e+07 : 380.2 secs : infill_ei\n",
      "\n"
     ]
    },
    {
     "name": "stdout",
     "output_type": "stream",
     "text": [
      "70609000 69167000 69902000 73934000 75082000 71022000 73773000 74473000 68901000 74592000 \n",
      "20230905 191501\t-0.961761167183216\t1975\t230\t8\t10\t5\t72145500\t83\n"
     ]
    },
    {
     "name": "stderr",
     "output_type": "stream",
     "text": [
      "[mbo] 67: cp=-0.962; minsplit=1975; minbucket=230; maxdepth=8 : y = 7.21e+07 : 350.4 secs : infill_ei\n",
      "\n",
      "Saved the current state after iteration 68 in the file bayesiana.RDATA.\n",
      "\n"
     ]
    },
    {
     "name": "stdout",
     "output_type": "stream",
     "text": [
      "70112000 66885000 69384000 70798000 73402000 69860000 69685000 69699000 64519000 70931000 \n",
      "20230905 192305\t-0.589655018486094\t2975\t390\t15\t10\t5\t69527500\t84\n"
     ]
    },
    {
     "name": "stderr",
     "output_type": "stream",
     "text": [
      "[mbo] 68: cp=-0.59; minsplit=2975; minbucket=390; maxdepth=15 : y = 6.95e+07 : 482.8 secs : infill_ei\n",
      "\n"
     ]
    },
    {
     "name": "stdout",
     "output_type": "stream",
     "text": [
      "75173000 69202000 68537000 72128000 72275000 69461000 72184000 73689000 67970000 74662000 \n",
      "20230905 192939\t-0.227250907121614\t772\t195\t7\t10\t5\t71528100\t85\n"
     ]
    },
    {
     "name": "stderr",
     "output_type": "stream",
     "text": [
      "[mbo] 69: cp=-0.227; minsplit=772; minbucket=195; maxdepth=7 : y = 7.15e+07 : 391.0 secs : infill_ei\n",
      "\n",
      "Saved the current state after iteration 70 in the file bayesiana.RDATA.\n",
      "\n"
     ]
    },
    {
     "name": "stdout",
     "output_type": "stream",
     "text": [
      "72744000 71673000 70917000 73248000 72331000 72394000 72632000 70728000 72135000 71043000 \n",
      "20230905 193619\t-0.22844441435513\t784\t392\t7\t10\t5\t71984500\t86\n"
     ]
    },
    {
     "name": "stderr",
     "output_type": "stream",
     "text": [
      "[mbo] 70: cp=-0.228; minsplit=784; minbucket=392; maxdepth=7 : y = 7.2e+07 : 397.8 secs : infill_ei\n",
      "\n"
     ]
    },
    {
     "name": "stdout",
     "output_type": "stream",
     "text": [
      "73241000 71967000 72751000 74025000 74116000 70294000 70140000 72968000 70350000 75061000 \n",
      "20230905 194204\t-0.203113590377369\t675\t337\t7\t10\t5\t72491300\t87\n"
     ]
    },
    {
     "name": "stderr",
     "output_type": "stream",
     "text": [
      "[mbo] 71: cp=-0.203; minsplit=675; minbucket=337; maxdepth=7 : y = 7.25e+07 : 342.0 secs : infill_ei\n",
      "\n",
      "Saved the current state after iteration 72 in the file bayesiana.RDATA.\n",
      "\n"
     ]
    },
    {
     "name": "stdout",
     "output_type": "stream",
     "text": [
      "71974000 69076000 71596000 73605000 75040000 70371000 72422000 74662000 69328000 73759000 \n",
      "20230905 194709\t-0.731769681302377\t1857\t233\t7\t10\t5\t72183300\t88\n"
     ]
    },
    {
     "name": "stderr",
     "output_type": "stream",
     "text": [
      "[mbo] 72: cp=-0.732; minsplit=1857; minbucket=233; maxdepth=7 : y = 7.22e+07 : 302.0 secs : infill_ei\n",
      "\n"
     ]
    },
    {
     "name": "stdout",
     "output_type": "stream",
     "text": [
      "73654000 70994000 68859000 73549000 75005000 67109000 71743000 73535000 68691000 72317000 \n",
      "20230905 195359\t-0.568359817267202\t722\t254\t7\t10\t5\t71545600\t89\n"
     ]
    },
    {
     "name": "stderr",
     "output_type": "stream",
     "text": [
      "[mbo] 73: cp=-0.568; minsplit=722; minbucket=254; maxdepth=7 : y = 7.15e+07 : 407.9 secs : infill_ei\n",
      "\n",
      "Saved the current state after iteration 74 in the file bayesiana.RDATA.\n",
      "\n",
      "Warning message in generateDesign(control$infill.opt.focussearch.points, ps.local, :\n",
      "\"generateDesign could only produce 999 points instead of 1000!\"\n"
     ]
    },
    {
     "name": "stdout",
     "output_type": "stream",
     "text": [
      "67592000 64974000 64428000 66395000 69937000 67109000 67340000 62552000 63245000 69034000 \n",
      "20230905 200057\t-0.666975008261172\t3134\t1340\t16\t10\t5\t66260600\t90\n"
     ]
    },
    {
     "name": "stderr",
     "output_type": "stream",
     "text": [
      "[mbo] 74: cp=-0.667; minsplit=3134; minbucket=1340; maxdepth=16 : y = 6.63e+07 : 414.4 secs : infill_ei\n",
      "\n"
     ]
    },
    {
     "name": "stdout",
     "output_type": "stream",
     "text": [
      "51562000 51527000 51380000 53683000 52493000 53984000 55671000 52514000 54187000 54299000 \n",
      "20230905 200554\t-0.999082059633727\t8000\t3998\t20\t10\t5\t53130000\t91\n"
     ]
    },
    {
     "name": "stderr",
     "output_type": "stream",
     "text": [
      "[mbo] 75: cp=-0.999; minsplit=8000; minbucket=3998; maxdepth=20 : y = 5.31e+07 : 295.2 secs : infill_ei\n",
      "\n",
      "Saved the current state after iteration 76 in the file bayesiana.RDATA.\n",
      "\n"
     ]
    },
    {
     "name": "stdout",
     "output_type": "stream",
     "text": [
      "71974000 69069000 70525000 73864000 75663000 72282000 73136000 74592000 69328000 74389000 \n",
      "20230905 201105\t-0.779297456820056\t1893\t242\t7\t10\t5\t72482200\t92\n"
     ]
    },
    {
     "name": "stderr",
     "output_type": "stream",
     "text": [
      "[mbo] 76: cp=-0.779; minsplit=1893; minbucket=242; maxdepth=7 : y = 7.25e+07 : 309.2 secs : infill_ei\n",
      "\n"
     ]
    },
    {
     "name": "stdout",
     "output_type": "stream",
     "text": [
      "74242000 72128000 71057000 73934000 72716000 69965000 69461000 73185000 70399000 75558000 \n",
      "20230905 201650\t-0.463974477691739\t802\t357\t7\t10\t5\t72264500\t93\n"
     ]
    },
    {
     "name": "stderr",
     "output_type": "stream",
     "text": [
      "[mbo] 77: cp=-0.464; minsplit=802; minbucket=357; maxdepth=7 : y = 7.23e+07 : 342.9 secs : infill_ei\n",
      "\n",
      "Saved the current state after iteration 78 in the file bayesiana.RDATA.\n",
      "\n"
     ]
    },
    {
     "name": "stdout",
     "output_type": "stream",
     "text": [
      "62475000 58513000 62356000 64414000 63966000 63231000 60368000 60823000 56511000 59374000 \n",
      "20230905 202333\t-0.587361425554086\t4884\t2439\t19\t10\t5\t61203100\t94\n"
     ]
    },
    {
     "name": "stderr",
     "output_type": "stream",
     "text": [
      "[mbo] 78: cp=-0.587; minsplit=4884; minbucket=2439; maxdepth=19 : y = 6.12e+07 : 399.9 secs : infill_ei\n",
      "\n"
     ]
    },
    {
     "name": "stdout",
     "output_type": "stream",
     "text": [
      "70861000 67487000 68362000 70833000 73402000 71204000 71477000 69699000 65205000 70931000 \n",
      "20230905 203025\t-0.268254965318309\t2867\t340\t10\t10\t5\t69946100\t95\n"
     ]
    },
    {
     "name": "stderr",
     "output_type": "stream",
     "text": [
      "[mbo] 79: cp=-0.268; minsplit=2867; minbucket=340; maxdepth=10 : y = 6.99e+07 : 408.7 secs : infill_ei\n",
      "\n",
      "Saved the current state after iteration 80 in the file bayesiana.RDATA.\n",
      "\n"
     ]
    },
    {
     "name": "stdout",
     "output_type": "stream",
     "text": [
      "70924000 69244000 72569000 74473000 73822000 71890000 71057000 72100000 68971000 72380000 \n",
      "20230905 203630\t-0.416453429204281\t1611\t318\t7\t10\t5\t71743000\t96\n"
     ]
    },
    {
     "name": "stderr",
     "output_type": "stream",
     "text": [
      "[mbo] 80: cp=-0.416; minsplit=1611; minbucket=318; maxdepth=7 : y = 7.17e+07 : 363.0 secs : infill_ei\n",
      "\n"
     ]
    },
    {
     "name": "stdout",
     "output_type": "stream",
     "text": [
      "69909000 71106000 71134000 69685000 74438000 71099000 75432000 71309000 67291000 72513000 \n",
      "20230905 204348\t-0.267412296527166\t2499\t361\t14\t10\t5\t71391600\t97\n"
     ]
    },
    {
     "name": "stderr",
     "output_type": "stream",
     "text": [
      "[mbo] 81: cp=-0.267; minsplit=2499; minbucket=361; maxdepth=14 : y = 7.14e+07 : 435.6 secs : infill_ei\n",
      "\n",
      "Saved the current state after iteration 82 in the file bayesiana.RDATA.\n",
      "\n"
     ]
    },
    {
     "name": "stdout",
     "output_type": "stream",
     "text": [
      "64505000 63595000 62580000 63679000 65128000 62363000 61558000 60557000 60515000 63931000 \n",
      "20230905 204820\t-0.99974009778844\t4562\t2278\t6\t10\t5\t62841100\t98\n"
     ]
    },
    {
     "name": "stderr",
     "output_type": "stream",
     "text": [
      "[mbo] 82: cp=-1; minsplit=4562; minbucket=2278; maxdepth=6 : y = 6.28e+07 : 269.6 secs : infill_ei\n",
      "\n"
     ]
    },
    {
     "name": "stdout",
     "output_type": "stream",
     "text": [
      "64687000 62608000 61950000 64092000 64603000 62804000 61362000 60914000 57960000 59297000 \n",
      "20230905 205405\t-0.999821058852154\t4738\t2368\t20\t10\t5\t62027700\t99\n"
     ]
    },
    {
     "name": "stderr",
     "output_type": "stream",
     "text": [
      "[mbo] 83: cp=-1; minsplit=4738; minbucket=2368; maxdepth=20 : y = 6.2e+07 : 343.5 secs : infill_ei\n",
      "\n",
      "Saved the current state after iteration 84 in the file bayesiana.RDATA.\n",
      "\n"
     ]
    },
    {
     "name": "stdout",
     "output_type": "stream",
     "text": [
      "51520000 52472000 49791000 53704000 55426000 51051000 55125000 51198000 54831000 51422000 \n",
      "20230905 205935\t-0.316795639465576\t8000\t2509\t20\t10\t5\t52654000\t100\n"
     ]
    },
    {
     "name": "stderr",
     "output_type": "stream",
     "text": [
      "[mbo] 84: cp=-0.317; minsplit=8000; minbucket=2509; maxdepth=20 : y = 5.27e+07 : 327.9 secs : infill_ei\n",
      "\n"
     ]
    },
    {
     "name": "stdout",
     "output_type": "stream",
     "text": [
      "71848000 69244000 72569000 74522000 73010000 74088000 70476000 72590000 70182000 73122000 \n",
      "20230905 210452\t-0.26045122423282\t1558\t337\t7\t10\t5\t72165100\t101\n"
     ]
    },
    {
     "name": "stderr",
     "output_type": "stream",
     "text": [
      "[mbo] 85: cp=-0.26; minsplit=1558; minbucket=337; maxdepth=7 : y = 7.22e+07 : 314.9 secs : infill_ei\n",
      "\n",
      "Saved the current state after iteration 86 in the file bayesiana.RDATA.\n",
      "\n"
     ]
    },
    {
     "name": "stdout",
     "output_type": "stream",
     "text": [
      "70959000 67893000 70378000 71883000 73724000 70658000 74697000 72359000 68341000 74298000 \n",
      "20230905 211046\t-0.939285800990357\t2083\t163\t7\t10\t5\t71519000\t102\n"
     ]
    },
    {
     "name": "stderr",
     "output_type": "stream",
     "text": [
      "[mbo] 86: cp=-0.939; minsplit=2083; minbucket=163; maxdepth=7 : y = 7.15e+07 : 351.7 secs : infill_ei\n",
      "\n"
     ]
    },
    {
     "name": "stdout",
     "output_type": "stream",
     "text": [
      "71099000 67550000 69832000 70833000 73402000 71204000 72590000 70476000 66052000 70931000 \n",
      "20230905 212055\t-0.334884143043283\t2815\t373\t16\t10\t5\t70396900\t103\n"
     ]
    },
    {
     "name": "stderr",
     "output_type": "stream",
     "text": [
      "[mbo] 87: cp=-0.335; minsplit=2815; minbucket=373; maxdepth=16 : y = 7.04e+07 : 607.4 secs : infill_ei\n",
      "\n",
      "Saved the current state after iteration 88 in the file bayesiana.RDATA.\n",
      "\n"
     ]
    },
    {
     "name": "stdout",
     "output_type": "stream",
     "text": [
      "72023000 72569000 71099000 70462000 75117000 72408000 76979000 73269000 69475000 74984000 \n",
      "20230905 212615\t-0.973307976797307\t2205\t414\t7\t10\t5\t72838500\t104\n"
     ]
    },
    {
     "name": "stderr",
     "output_type": "stream",
     "text": [
      "[mbo] 88: cp=-0.973; minsplit=2205; minbucket=414; maxdepth=7 : y = 7.28e+07 : 316.9 secs : infill_ei\n",
      "\n"
     ]
    },
    {
     "name": "stdout",
     "output_type": "stream",
     "text": [
      "71323000 69601000 71953000 73731000 75096000 72086000 74319000 73990000 70210000 73815000 \n",
      "20230905 213125\t-0.971004732119563\t1851\t388\t7\t10\t5\t72612400\t105\n"
     ]
    },
    {
     "name": "stderr",
     "output_type": "stream",
     "text": [
      "[mbo] 89: cp=-0.971; minsplit=1851; minbucket=388; maxdepth=7 : y = 7.26e+07 : 308.1 secs : infill_ei\n",
      "\n",
      "Saved the current state after iteration 90 in the file bayesiana.RDATA.\n",
      "\n"
     ]
    },
    {
     "name": "stdout",
     "output_type": "stream",
     "text": [
      "69538000 70511000 71722000 69496000 74536000 70861000 74375000 71610000 66136000 72058000 \n",
      "20230905 213628\t-0.792685907513182\t2528\t443\t7\t10\t5\t71084300\t106\n"
     ]
    },
    {
     "name": "stderr",
     "output_type": "stream",
     "text": [
      "[mbo] 90: cp=-0.793; minsplit=2528; minbucket=443; maxdepth=7 : y = 7.11e+07 : 301.1 secs : infill_ei\n",
      "\n"
     ]
    },
    {
     "name": "stdout",
     "output_type": "stream",
     "text": [
      "68901000 66927000 65954000 64778000 68719000 67172000 66535000 64386000 63861000 67991000 \n",
      "20230905 214059\t-0.999962221876768\t4296\t667\t6\t10\t5\t66522400\t107\n"
     ]
    },
    {
     "name": "stderr",
     "output_type": "stream",
     "text": [
      "[mbo] 91: cp=-1; minsplit=4296; minbucket=667; maxdepth=6 : y = 6.65e+07 : 269.2 secs : infill_ei\n",
      "\n"
     ]
    },
    {
     "name": "stdout",
     "output_type": "stream",
     "text": [
      "70504000 72184000 72170000 72947000 73759000 73143000 76055000 72618000 69601000 75117000 \n",
      "20230905 214625\t-0.956934658822859\t2023\t423\t8\t10\t5\t72809800\t108\n"
     ]
    },
    {
     "name": "stderr",
     "output_type": "stream",
     "text": [
      "[mbo] 92: cp=-0.957; minsplit=2023; minbucket=423; maxdepth=8 : y = 7.28e+07 : 324.0 secs : infill_ei\n",
      "\n",
      "Saved the current state after iteration 93 in the file bayesiana.RDATA.\n",
      "\n"
     ]
    },
    {
     "name": "stdout",
     "output_type": "stream",
     "text": [
      "70791000 72373000 71708000 70294000 73486000 71701000 75432000 73605000 68334000 73486000 \n",
      "20230905 215154\t-0.971727453512755\t2428\t435\t8\t10\t5\t72121000\t109\n"
     ]
    },
    {
     "name": "stderr",
     "output_type": "stream",
     "text": [
      "[mbo] 93: cp=-0.972; minsplit=2428; minbucket=435; maxdepth=8 : y = 7.21e+07 : 327.7 secs : infill_ei\n",
      "\n"
     ]
    },
    {
     "name": "stdout",
     "output_type": "stream",
     "text": [
      "70189000 70483000 72408000 72170000 74508000 72835000 74354000 72835000 68999000 74648000 \n",
      "20230905 215658\t-0.481865543784534\t2100\t338\t7\t10\t5\t72342900\t110\n"
     ]
    },
    {
     "name": "stderr",
     "output_type": "stream",
     "text": [
      "[mbo] 94: cp=-0.482; minsplit=2100; minbucket=338; maxdepth=7 : y = 7.23e+07 : 301.5 secs : infill_ei\n",
      "\n",
      "Saved the current state after iteration 95 in the file bayesiana.RDATA.\n",
      "\n"
     ]
    },
    {
     "name": "stdout",
     "output_type": "stream",
     "text": [
      "70980000 69139000 72002000 74515000 75369000 71904000 72275000 72646000 69769000 72261000 \n",
      "20230905 220206\t-0.486762818899185\t1762\t292\t7\t10\t5\t72086000\t111\n"
     ]
    },
    {
     "name": "stderr",
     "output_type": "stream",
     "text": [
      "[mbo] 95: cp=-0.487; minsplit=1762; minbucket=292; maxdepth=7 : y = 7.21e+07 : 306.8 secs : infill_ei\n",
      "\n"
     ]
    },
    {
     "name": "stdout",
     "output_type": "stream",
     "text": [
      "72709000 72212000 72590000 73962000 74956000 70322000 69258000 73192000 71477000 74550000 \n",
      "20230905 220748\t-0.256214036518894\t670\t333\t7\t10\t5\t72522800\t112\n"
     ]
    },
    {
     "name": "stderr",
     "output_type": "stream",
     "text": [
      "[mbo] 96: cp=-0.256; minsplit=670; minbucket=333; maxdepth=7 : y = 7.25e+07 : 339.5 secs : infill_ei\n",
      "\n",
      "Saved the current state after iteration 97 in the file bayesiana.RDATA.\n",
      "\n"
     ]
    },
    {
     "name": "stdout",
     "output_type": "stream",
     "text": [
      "70784000 67487000 69160000 70833000 73402000 71204000 71477000 69699000 66052000 70931000 \n",
      "20230905 221314\t-0.472763677698382\t2852\t367\t7\t10\t5\t70102900\t113\n"
     ]
    },
    {
     "name": "stderr",
     "output_type": "stream",
     "text": [
      "[mbo] 97: cp=-0.473; minsplit=2852; minbucket=367; maxdepth=7 : y = 7.01e+07 : 324.1 secs : infill_ei\n",
      "\n"
     ]
    },
    {
     "name": "stdout",
     "output_type": "stream",
     "text": [
      "70707000 66024000 67494000 67767000 70378000 69265000 69286000 68355000 63140000 69888000 \n",
      "20230905 222112\t-0.477780934659744\t3192\t487\t15\t10\t5\t68230400\t114\n"
     ]
    },
    {
     "name": "stderr",
     "output_type": "stream",
     "text": [
      "[mbo] 98: cp=-0.478; minsplit=3192; minbucket=487; maxdepth=15 : y = 6.82e+07 : 475.1 secs : infill_ei\n",
      "\n",
      "Saved the current state after iteration 99 in the file bayesiana.RDATA.\n",
      "\n"
     ]
    },
    {
     "name": "stdout",
     "output_type": "stream",
     "text": [
      "70175000 68145000 72156000 73941000 74956000 72261000 74354000 72835000 69496000 74648000 \n",
      "20230905 222727\t-0.362218474544877\t2023\t344\t7\t10\t5\t72296700\t115\n"
     ]
    },
    {
     "name": "stderr",
     "output_type": "stream",
     "text": [
      "[mbo] 99: cp=-0.362; minsplit=2023; minbucket=344; maxdepth=7 : y = 7.23e+07 : 372.9 secs : infill_ei\n",
      "\n"
     ]
    },
    {
     "name": "stdout",
     "output_type": "stream",
     "text": [
      "67648000 62265000 64225000 64995000 66381000 66066000 64862000 62587000 63210000 66731000 \n",
      "20230905 223538\t-0.691667176107794\t4545\t458\t16\t10\t5\t64897000\t116\n"
     ]
    },
    {
     "name": "stderr",
     "output_type": "stream",
     "text": [
      "[mbo] 100: cp=-0.692; minsplit=4545; minbucket=458; maxdepth=16 : y = 6.49e+07 : 487.6 secs : infill_ei\n",
      "\n",
      "Saved the current state after iteration 101 in the file bayesiana.RDATA.\n",
      "\n"
     ]
    },
    {
     "name": "stdout",
     "output_type": "stream",
     "text": [
      "70098000 68530000 70721000 7e+07 73402000 70826000 73388000 70476000 67144000 71218000 \n",
      "20230905 224435\t-0.210401017085325\t2703\t370\t16\t10\t5\t70580300\t117\n"
     ]
    },
    {
     "name": "stderr",
     "output_type": "stream",
     "text": [
      "[mbo] 101: cp=-0.21; minsplit=2703; minbucket=370; maxdepth=16 : y = 7.06e+07 : 534.9 secs : infill_ei\n",
      "\n"
     ]
    },
    {
     "name": "stdout",
     "output_type": "stream",
     "text": [
      "51520000 49812000 49791000 53704000 55426000 51051000 52514000 51198000 53109000 50617000 \n",
      "20230905 224745\t-0.743725731055043\t6078\t3039\t3\t10\t5\t51874200\t118\n"
     ]
    },
    {
     "name": "stderr",
     "output_type": "stream",
     "text": [
      "[mbo] 102: cp=-0.744; minsplit=6078; minbucket=3039; maxdepth=3 : y = 5.19e+07 : 186.6 secs : infill_ei\n",
      "\n",
      "Saved the current state after iteration 103 in the file bayesiana.RDATA.\n",
      "\n"
     ]
    },
    {
     "name": "stdout",
     "output_type": "stream",
     "text": [
      "51520000 52129000 49791000 53704000 55426000 51051000 55125000 51198000 54831000 51422000 \n",
      "20230905 225052\t-0.999680589279408\t7999\t1896\t3\t10\t5\t52619700\t119\n"
     ]
    },
    {
     "name": "stderr",
     "output_type": "stream",
     "text": [
      "[mbo] 103: cp=-1; minsplit=7999; minbucket=1896; maxdepth=3 : y = 5.26e+07 : 184.7 secs : infill_ei\n",
      "\n"
     ]
    },
    {
     "name": "stdout",
     "output_type": "stream",
     "text": [
      "71323000 69601000 72527000 73731000 75775000 73024000 73479000 74788000 69909000 74648000 \n",
      "20230905 225624\t-0.79690699803455\t1891\t379\t7\t10\t5\t72880500\t120\n"
     ]
    },
    {
     "name": "stderr",
     "output_type": "stream",
     "text": [
      "[mbo] 104: cp=-0.797; minsplit=1891; minbucket=379; maxdepth=7 : y = 7.29e+07 : 329.7 secs : infill_ei\n",
      "\n"
     ]
    },
    {
     "name": "stdout",
     "output_type": "stream",
     "text": [
      "69510000 70231000 72156000 72947000 75628000 73962000 74977000 74781000 69531000 75117000 \n",
      "20230905 230153\t-0.958923263715685\t1980\t410\t7\t10\t5\t72884000\t121\n"
     ]
    },
    {
     "name": "stderr",
     "output_type": "stream",
     "text": [
      "[mbo] 105: cp=-0.959; minsplit=1980; minbucket=410; maxdepth=7 : y = 7.29e+07 : 326.8 secs : infill_ei\n",
      "\n",
      "Saved the current state after iteration 106 in the file bayesiana.RDATA.\n",
      "\n"
     ]
    },
    {
     "name": "stdout",
     "output_type": "stream",
     "text": [
      "70231000 68145000 72408000 73815000 74956000 72261000 74361000 72835000 69125000 74081000 \n",
      "20230905 230714\t-0.210800713329502\t2034\t332\t7\t10\t5\t72221800\t122\n"
     ]
    },
    {
     "name": "stderr",
     "output_type": "stream",
     "text": [
      "[mbo] 106: cp=-0.211; minsplit=2034; minbucket=332; maxdepth=7 : y = 7.22e+07 : 318.4 secs : infill_ei\n",
      "\n"
     ]
    },
    {
     "name": "stdout",
     "output_type": "stream",
     "text": [
      "69167000 72639000 72156000 72947000 75628000 73962000 74977000 72611000 69601000 75117000 \n",
      "20230905 231238\t-0.913306175541888\t1986\t418\t7\t10\t5\t72880500\t123\n"
     ]
    },
    {
     "name": "stderr",
     "output_type": "stream",
     "text": [
      "[mbo] 107: cp=-0.913; minsplit=1986; minbucket=418; maxdepth=7 : y = 7.29e+07 : 321.3 secs : infill_ei\n",
      "\n",
      "Saved the current state after iteration 108 in the file bayesiana.RDATA.\n",
      "\n"
     ]
    },
    {
     "name": "stdout",
     "output_type": "stream",
     "text": [
      "70154000 71106000 72156000 71953000 73458000 72835000 74340000 72835000 68999000 74648000 \n",
      "20230905 231832\t-0.28168340126236\t2117\t347\t8\t10\t5\t72248400\t124\n"
     ]
    },
    {
     "name": "stderr",
     "output_type": "stream",
     "text": [
      "[mbo] 108: cp=-0.282; minsplit=2117; minbucket=347; maxdepth=8 : y = 7.22e+07 : 351.6 secs : infill_ei\n",
      "\n"
     ]
    },
    {
     "name": "stdout",
     "output_type": "stream",
     "text": [
      "70791000 69762000 72919000 73423000 75628000 73024000 75537000 74144000 69510000 74648000 \n",
      "20230905 232350\t-0.919274185614867\t1920\t402\t7\t10\t5\t72938600\t125\n"
     ]
    },
    {
     "name": "stderr",
     "output_type": "stream",
     "text": [
      "[mbo] 109: cp=-0.919; minsplit=1920; minbucket=402; maxdepth=7 : y = 7.29e+07 : 315.1 secs : infill_ei\n",
      "\n",
      "Saved the current state after iteration 110 in the file bayesiana.RDATA.\n",
      "\n"
     ]
    },
    {
     "name": "stdout",
     "output_type": "stream",
     "text": [
      "68586000 67599000 66374000 69244000 74039000 70623000 74179000 71134000 66724000 70686000 \n",
      "20230905 233140\t-0.978590999307496\t2201\t510\t20\t10\t5\t69918800\t126\n"
     ]
    },
    {
     "name": "stderr",
     "output_type": "stream",
     "text": [
      "[mbo] 110: cp=-0.979; minsplit=2201; minbucket=510; maxdepth=20 : y = 6.99e+07 : 467.4 secs : infill_ei\n",
      "\n"
     ]
    },
    {
     "name": "stdout",
     "output_type": "stream",
     "text": [
      "64393000 64386000 63763000 65450000 62370000 63476000 65793000 60312000 63497000 63378000 \n",
      "20230905 233735\t-0.424206596833863\t4007\t1997\t15\t10\t5\t63681800\t127\n"
     ]
    },
    {
     "name": "stderr",
     "output_type": "stream",
     "text": [
      "[mbo] 111: cp=-0.424; minsplit=4007; minbucket=1997; maxdepth=15 : y = 6.37e+07 : 352.6 secs : infill_ei\n",
      "\n",
      "Saved the current state after iteration 112 in the file bayesiana.RDATA.\n",
      "\n"
     ]
    },
    {
     "name": "stdout",
     "output_type": "stream",
     "text": [
      "70616000 68768000 71239000 73941000 74725000 72842000 71575000 74739000 69083000 74648000 \n",
      "20230905 234411\t-0.210804864970439\t1916\t337\t10\t10\t5\t72217600\t128\n"
     ]
    },
    {
     "name": "stderr",
     "output_type": "stream",
     "text": [
      "[mbo] 112: cp=-0.211; minsplit=1916; minbucket=337; maxdepth=10 : y = 7.22e+07 : 392.4 secs : infill_ei\n",
      "\n"
     ]
    },
    {
     "name": "stdout",
     "output_type": "stream",
     "text": [
      "71512000 72562000 72156000 71134000 75117000 72030000 76314000 72870000 69657000 74515000 \n",
      "20230905 234932\t-0.960145204391266\t2175\t383\t7\t10\t5\t72786700\t129\n"
     ]
    },
    {
     "name": "stderr",
     "output_type": "stream",
     "text": [
      "[mbo] 113: cp=-0.96; minsplit=2175; minbucket=383; maxdepth=7 : y = 7.28e+07 : 318.7 secs : infill_ei\n",
      "\n",
      "Saved the current state after iteration 114 in the file bayesiana.RDATA.\n",
      "\n"
     ]
    },
    {
     "name": "stdout",
     "output_type": "stream",
     "text": [
      "69727000 67879000 69384000 68446000 71932000 69055000 69685000 69657000 64953000 71092000 \n",
      "20230905 235633\t-0.778957143065567\t3010\t743\t20\t10\t5\t69181000\t130\n"
     ]
    },
    {
     "name": "stderr",
     "output_type": "stream",
     "text": [
      "[mbo] 114: cp=-0.779; minsplit=3010; minbucket=743; maxdepth=20 : y = 6.92e+07 : 419.2 secs : infill_ei\n",
      "\n"
     ]
    },
    {
     "name": "stdout",
     "output_type": "stream",
     "text": [
      "54033000 54999000 51478000 55909000 56889000 54586000 57267000 52248000 55027000 54817000 \n",
      "20230906 000156\t-0.345368274221758\t6399\t3199\t15\t10\t5\t54725300\t131\n"
     ]
    },
    {
     "name": "stderr",
     "output_type": "stream",
     "text": [
      "[mbo] 115: cp=-0.345; minsplit=6399; minbucket=3199; maxdepth=15 : y = 5.47e+07 : 319.7 secs : infill_ei\n",
      "\n",
      "Saved the current state after iteration 116 in the file bayesiana.RDATA.\n",
      "\n"
     ]
    },
    {
     "name": "stdout",
     "output_type": "stream",
     "text": [
      "71925000 71680000 72170000 75523000 71925000 67599000 70112000 70007000 70721000 74984000 \n",
      "20230906 000756\t-0.211949786334714\t1069\t346\t8\t10\t5\t71664600\t132\n"
     ]
    },
    {
     "name": "stderr",
     "output_type": "stream",
     "text": [
      "[mbo] 116: cp=-0.212; minsplit=1069; minbucket=346; maxdepth=8 : y = 7.17e+07 : 357.5 secs : infill_ei\n",
      "\n"
     ]
    },
    {
     "name": "stdout",
     "output_type": "stream",
     "text": [
      "70273000 69818000 72156000 73815000 73906000 72835000 74319000 73269000 69083000 74648000 \n",
      "20230906 001459\t-0.282802742184913\t2028\t356\t11\t10\t5\t72412200\t133\n"
     ]
    },
    {
     "name": "stderr",
     "output_type": "stream",
     "text": [
      "[mbo] 117: cp=-0.283; minsplit=2028; minbucket=356; maxdepth=11 : y = 7.24e+07 : 420.7 secs : infill_ei\n",
      "\n",
      "Saved the current state after iteration 118 in the file bayesiana.RDATA.\n",
      "\n"
     ]
    },
    {
     "name": "stdout",
     "output_type": "stream",
     "text": [
      "71323000 69601000 72555000 73731000 75775000 73024000 75033000 73990000 69909000 74648000 \n",
      "20230906 002025\t-0.813906457540503\t1890\t388\t7\t10\t5\t72958900\t134\n"
     ]
    },
    {
     "name": "stderr",
     "output_type": "stream",
     "text": [
      "[mbo] 118: cp=-0.814; minsplit=1890; minbucket=388; maxdepth=7 : y = 7.3e+07 : 323.5 secs : infill_ei\n",
      "\n"
     ]
    },
    {
     "name": "stdout",
     "output_type": "stream",
     "text": [
      "72023000 71925000 70294000 70511000 74186000 72408000 75964000 72338000 68789000 73185000 \n",
      "20230906 002833\t-0.214016907034144\t2227\t430\t20\t10\t5\t72162300\t135\n"
     ]
    },
    {
     "name": "stderr",
     "output_type": "stream",
     "text": [
      "[mbo] 119: cp=-0.214; minsplit=2227; minbucket=430; maxdepth=20 : y = 7.22e+07 : 485.4 secs : infill_ei\n",
      "\n",
      "Saved the current state after iteration 120 in the file bayesiana.RDATA.\n",
      "\n"
     ]
    },
    {
     "name": "stdout",
     "output_type": "stream",
     "text": [
      "72023000 72597000 71659000 70749000 74193000 72359000 75621000 72968000 67879000 74494000 \n",
      "20230906 003622\t-0.247392922907195\t2255\t415\t18\t10\t5\t72454200\t136\n"
     ]
    },
    {
     "name": "stderr",
     "output_type": "stream",
     "text": [
      "[mbo] 120: cp=-0.247; minsplit=2255; minbucket=415; maxdepth=18 : y = 7.25e+07 : 466.4 secs : infill_ei\n",
      "\n"
     ]
    },
    {
     "name": "stdout",
     "output_type": "stream",
     "text": [
      "71155000 72583000 70308000 69958000 73045000 72485000 76979000 72338000 69349000 73276000 \n",
      "20230906 004427\t-0.251443118585407\t2182\t439\t16\t10\t5\t72147600\t137\n"
     ]
    },
    {
     "name": "stderr",
     "output_type": "stream",
     "text": [
      "[mbo] 121: cp=-0.251; minsplit=2182; minbucket=439; maxdepth=16 : y = 7.21e+07 : 482.2 secs : infill_ei\n",
      "\n",
      "Saved the current state after iteration 122 in the file bayesiana.RDATA.\n",
      "\n"
     ]
    },
    {
     "name": "stdout",
     "output_type": "stream",
     "text": [
      "67970000 69713000 70609000 69797000 72303000 68705000 72597000 70868000 68026000 72184000 \n",
      "20230906 005207\t-0.269468199387266\t2414\t533\t20\t10\t5\t70277200\t138\n"
     ]
    },
    {
     "name": "stderr",
     "output_type": "stream",
     "text": [
      "[mbo] 122: cp=-0.269; minsplit=2414; minbucket=533; maxdepth=20 : y = 7.03e+07 : 457.7 secs : infill_ei\n",
      "\n"
     ]
    },
    {
     "name": "stdout",
     "output_type": "stream",
     "text": [
      "70189000 70070000 71582000 74060000 74725000 72835000 74886000 73276000 69370000 74648000 \n",
      "20230906 010015\t-0.211529722754109\t2009\t378\t18\t10\t5\t72564100\t139\n"
     ]
    },
    {
     "name": "stderr",
     "output_type": "stream",
     "text": [
      "[mbo] 123: cp=-0.212; minsplit=2009; minbucket=378; maxdepth=18 : y = 7.26e+07 : 485.1 secs : infill_ei\n",
      "\n",
      "Saved the current state after iteration 124 in the file bayesiana.RDATA.\n",
      "\n"
     ]
    },
    {
     "name": "stdout",
     "output_type": "stream",
     "text": [
      "71512000 72653000 71582000 71134000 74067000 72030000 76314000 72541000 68586000 74515000 \n",
      "20230906 010826\t-0.176105805396294\t2173\t373\t19\t10\t5\t72493400\t140\n"
     ]
    },
    {
     "name": "stderr",
     "output_type": "stream",
     "text": [
      "[mbo] 124: cp=-0.176; minsplit=2173; minbucket=373; maxdepth=19 : y = 7.25e+07 : 488.6 secs : infill_ei\n",
      "\n"
     ]
    },
    {
     "name": "stdout",
     "output_type": "stream",
     "text": [
      "68684000 71953000 72072000 70791000 74116000 72394000 74529000 74263000 67620000 71295000 \n",
      "20230906 011349\t-0.923696694780383\t1956\t450\t7\t10\t5\t71771700\t141\n"
     ]
    },
    {
     "name": "stderr",
     "output_type": "stream",
     "text": [
      "[mbo] 125: cp=-0.924; minsplit=1956; minbucket=450; maxdepth=7 : y = 7.18e+07 : 320.7 secs : infill_ei\n",
      "\n",
      "Saved the current state after iteration 126 in the file bayesiana.RDATA.\n",
      "\n"
     ]
    },
    {
     "name": "stdout",
     "output_type": "stream",
     "text": [
      "62510000 61922000 60774000 60102000 61656000 57260000 62790000 60592000 58002000 63644000 \n",
      "20230906 011731\t-0.374648458034809\t2614\t1305\t4\t10\t5\t60925200\t142\n"
     ]
    },
    {
     "name": "stderr",
     "output_type": "stream",
     "text": [
      "[mbo] 126: cp=-0.375; minsplit=2614; minbucket=1305; maxdepth=4 : y = 6.09e+07 : 218.1 secs : infill_ei\n",
      "\n"
     ]
    },
    {
     "name": "stdout",
     "output_type": "stream",
     "text": [
      "64407000 65030000 66059000 64974000 68663000 64113000 63266000 64561000 62538000 67179000 \n",
      "20230906 012429\t-0.279245896997109\t2061\t1028\t19\t10\t5\t65079000\t143\n"
     ]
    },
    {
     "name": "stderr",
     "output_type": "stream",
     "text": [
      "[mbo] 127: cp=-0.279; minsplit=2061; minbucket=1028; maxdepth=19 : y = 6.51e+07 : 414.5 secs : infill_ei\n",
      "\n",
      "Saved the current state after iteration 128 in the file bayesiana.RDATA.\n",
      "\n"
     ]
    },
    {
     "name": "stdout",
     "output_type": "stream",
     "text": [
      "65373000 64323000 65072000 64302000 65807000 64477000 67627000 61047000 62545000 65044000 \n",
      "20230906 013048\t-0.999349324037022\t3392\t1695\t13\t10\t5\t64561700\t144\n"
     ]
    },
    {
     "name": "stderr",
     "output_type": "stream",
     "text": [
      "[mbo] 128: cp=-0.999; minsplit=3392; minbucket=1695; maxdepth=13 : y = 6.46e+07 : 375.6 secs : infill_ei\n",
      "\n"
     ]
    },
    {
     "name": "stdout",
     "output_type": "stream",
     "text": [
      "67515000 67788000 66801000 69510000 71715000 66017000 69468000 72009000 67536000 71729000 \n",
      "20230906 013806\t-0.998907293946929\t2414\t802\t16\t10\t5\t69008800\t145\n"
     ]
    },
    {
     "name": "stderr",
     "output_type": "stream",
     "text": [
      "[mbo] 129: cp=-0.999; minsplit=2414; minbucket=802; maxdepth=16 : y = 6.9e+07 : 435.4 secs : infill_ei\n",
      "\n",
      "Saved the current state after iteration 130 in the file bayesiana.RDATA.\n",
      "\n"
     ]
    },
    {
     "name": "stdout",
     "output_type": "stream",
     "text": [
      "51149000 51408000 51779000 52304000 56203000 53886000 52724000 52864000 54761000 53165000 \n",
      "20230906 014323\t-0.999911075167271\t6850\t3423\t9\t10\t5\t53024300\t146\n"
     ]
    },
    {
     "name": "stderr",
     "output_type": "stream",
     "text": [
      "[mbo] 130: cp=-1; minsplit=6850; minbucket=3423; maxdepth=9 : y = 5.3e+07 : 313.9 secs : infill_ei\n",
      "\n"
     ]
    },
    {
     "name": "stdout",
     "output_type": "stream",
     "text": [
      "51520000 52472000 49791000 53704000 55426000 51051000 55125000 51198000 54831000 51422000 \n",
      "20230906 014748\t-0.197164955978254\t7999\t3023\t6\t10\t5\t52654000\t147\n"
     ]
    },
    {
     "name": "stderr",
     "output_type": "stream",
     "text": [
      "[mbo] 131: cp=-0.197; minsplit=7999; minbucket=3023; maxdepth=6 : y = 5.27e+07 : 262.7 secs : infill_ei\n",
      "\n"
     ]
    },
    {
     "name": "stdout",
     "output_type": "stream",
     "text": [
      "67858000 69783000 67683000 69384000 72016000 67865000 70665000 72226000 65982000 71946000 \n",
      "20230906 015457\t-0.627001791789435\t2356\t707\t13\t10\t5\t69540800\t148\n"
     ]
    },
    {
     "name": "stderr",
     "output_type": "stream",
     "text": [
      "[mbo] 132: cp=-0.627; minsplit=2356; minbucket=707; maxdepth=13 : y = 6.95e+07 : 426.3 secs : infill_ei\n",
      "\n",
      "Saved the current state after iteration 133 in the file bayesiana.RDATA.\n",
      "\n"
     ]
    },
    {
     "name": "stdout",
     "output_type": "stream",
     "text": [
      "71141000 67431000 67494000 65394000 70497000 69265000 69286000 68313000 63133000 71036000 \n",
      "20230906 020209\t-0.999835908202072\t3207\t741\t20\t10\t5\t68299000\t149\n"
     ]
    },
    {
     "name": "stderr",
     "output_type": "stream",
     "text": [
      "[mbo] 133: cp=-1; minsplit=3207; minbucket=741; maxdepth=20 : y = 6.83e+07 : 429.5 secs : infill_ei\n",
      "\n"
     ]
    },
    {
     "name": "stdout",
     "output_type": "stream",
     "text": [
      "62720000 64813000 62300000 64645000 65646000 62258000 64974000 63511000 63917000 65429000 \n",
      "20230906 020755\t-0.999573669318145\t4531\t1417\t9\t10\t5\t64021300\t150\n"
     ]
    },
    {
     "name": "stderr",
     "output_type": "stream",
     "text": [
      "[mbo] 134: cp=-1; minsplit=4531; minbucket=1417; maxdepth=9 : y = 6.4e+07 : 343.7 secs : infill_ei\n",
      "\n",
      "Saved the current state after iteration 135 in the file bayesiana.RDATA.\n",
      "\n"
     ]
    },
    {
     "name": "stdout",
     "output_type": "stream",
     "text": [
      "68124000 68572000 67298000 69615000 72030000 67851000 69979000 71078000 64680000 72709000 \n",
      "20230906 021402\t-0.998959754062144\t2248\t731\t9\t10\t5\t69193600\t151\n"
     ]
    },
    {
     "name": "stderr",
     "output_type": "stream",
     "text": [
      "[mbo] 135: cp=-0.999; minsplit=2248; minbucket=731; maxdepth=9 : y = 6.92e+07 : 364.1 secs : infill_ei\n",
      "\n"
     ]
    },
    {
     "name": "stdout",
     "output_type": "stream",
     "text": [
      "71169000 72562000 70525000 70462000 74067000 72408000 76314000 72632000 68971000 74515000 \n",
      "20230906 022145\t-0.998740204327439\t2197\t408\t14\t10\t5\t72362500\t152\n"
     ]
    },
    {
     "name": "stderr",
     "output_type": "stream",
     "text": [
      "[mbo] 136: cp=-0.999; minsplit=2197; minbucket=408; maxdepth=14 : y = 7.24e+07 : 459.8 secs : infill_ei\n",
      "\n",
      "Saved the current state after iteration 137 in the file bayesiana.RDATA.\n",
      "\n"
     ]
    },
    {
     "name": "stdout",
     "output_type": "stream",
     "text": [
      "69510000 72562000 72156000 71932000 73311000 73213000 75390000 72632000 69384000 74648000 \n",
      "20230906 022806\t-0.981764994926526\t2073\t408\t9\t10\t5\t72473800\t153\n"
     ]
    },
    {
     "name": "stderr",
     "output_type": "stream",
     "text": [
      "[mbo] 137: cp=-0.982; minsplit=2073; minbucket=408; maxdepth=9 : y = 7.25e+07 : 377.7 secs : infill_ei\n",
      "\n"
     ]
    },
    {
     "name": "stdout",
     "output_type": "stream",
     "text": [
      "64827000 65030000 64596000 63413000 64946000 63329000 66605000 59766000 63497000 63567000 \n",
      "20230906 023351\t-0.726588954682005\t4372\t2180\t10\t10\t5\t63957600\t154\n"
     ]
    },
    {
     "name": "stderr",
     "output_type": "stream",
     "text": [
      "[mbo] 138: cp=-0.727; minsplit=4372; minbucket=2180; maxdepth=10 : y = 6.4e+07 : 342.5 secs : infill_ei\n",
      "\n",
      "Saved the current state after iteration 139 in the file bayesiana.RDATA.\n",
      "\n"
     ]
    },
    {
     "name": "stdout",
     "output_type": "stream",
     "text": [
      "64323000 64582000 65100000 65247000 65807000 63658000 67669000 63840000 63497000 64946000 \n",
      "20230906 023830\t-0.825321123598457\t3624\t1807\t6\t10\t5\t64866900\t155\n"
     ]
    },
    {
     "name": "stderr",
     "output_type": "stream",
     "text": [
      "[mbo] 139: cp=-0.825; minsplit=3624; minbucket=1807; maxdepth=6 : y = 6.49e+07 : 275.4 secs : infill_ei\n",
      "\n"
     ]
    },
    {
     "name": "stdout",
     "output_type": "stream",
     "text": [
      "70616000 69048000 72527000 73514000 75775000 73024000 73479000 74781000 69125000 74648000 \n",
      "20230906 024353\t-0.69678129093603\t1913\t372\t7\t10\t5\t72653700\t156\n"
     ]
    },
    {
     "name": "stderr",
     "output_type": "stream",
     "text": [
      "[mbo] 140: cp=-0.697; minsplit=1913; minbucket=372; maxdepth=7 : y = 7.27e+07 : 320.5 secs : infill_ei\n",
      "\n",
      "Saved the current state after iteration 141 in the file bayesiana.RDATA.\n",
      "\n"
     ]
    },
    {
     "name": "stdout",
     "output_type": "stream",
     "text": [
      "70700000 68726000 70987000 73430000 75775000 73024000 72114000 74935000 69496000 74648000 \n",
      "20230906 024923\t-0.911382089649672\t1910\t356\t7\t10\t5\t72383500\t157\n"
     ]
    },
    {
     "name": "stderr",
     "output_type": "stream",
     "text": [
      "[mbo] 141: cp=-0.911; minsplit=1910; minbucket=356; maxdepth=7 : y = 7.24e+07 : 327.5 secs : infill_ei\n",
      "\n"
     ]
    },
    {
     "name": "stdout",
     "output_type": "stream",
     "text": [
      "0 0 0 0 0 0 0 0 0 0 \n",
      "20230906 025225\t0.0991949594390688\t7996\t3997\t12\t10\t5\t0\t158\n"
     ]
    },
    {
     "name": "stderr",
     "output_type": "stream",
     "text": [
      "[mbo] 142: cp=0.0992; minsplit=7996; minbucket=3997; maxdepth=12 : y = 0 : 178.4 secs : infill_ei\n",
      "\n"
     ]
    },
    {
     "name": "stdout",
     "output_type": "stream",
     "text": [
      "51758000 52941000 50554000 54698000 53221000 52073000 55041000 52206000 55258000 53207000 \n",
      "20230906 025529\t-0.396101944477584\t7999\t3600\t3\t10\t5\t53095700\t159\n"
     ]
    },
    {
     "name": "stderr",
     "output_type": "stream",
     "text": [
      "[mbo] 143: cp=-0.396; minsplit=7999; minbucket=3600; maxdepth=3 : y = 5.31e+07 : 181.2 secs : infill_ei\n",
      "\n",
      "Saved the current state after iteration 144 in the file bayesiana.RDATA.\n",
      "\n"
     ]
    },
    {
     "name": "stdout",
     "output_type": "stream",
     "text": [
      "53774000 54509000 50274000 55741000 58639000 53907000 57302000 52500000 55377000 55118000 \n",
      "20230906 030103\t-0.994236361809229\t6170\t3083\t20\t10\t5\t54714100\t160\n"
     ]
    },
    {
     "name": "stderr",
     "output_type": "stream",
     "text": [
      "[mbo] 144: cp=-0.994; minsplit=6170; minbucket=3083; maxdepth=20 : y = 5.47e+07 : 330.8 secs : infill_ei\n",
      "\n"
     ]
    },
    {
     "name": "stdout",
     "output_type": "stream",
     "text": [
      "71547000 72646000 70770000 70294000 73388000 71680000 75621000 72968000 67480000 73976000 \n",
      "20230906 030846\t-0.966400302033792\t2317\t406\t15\t10\t5\t72037000\t161\n"
     ]
    },
    {
     "name": "stderr",
     "output_type": "stream",
     "text": [
      "[mbo] 145: cp=-0.966; minsplit=2317; minbucket=406; maxdepth=15 : y = 7.2e+07 : 460.2 secs : infill_ei\n",
      "\n",
      "Saved the current state after iteration 146 in the file bayesiana.RDATA.\n",
      "\n"
     ]
    },
    {
     "name": "stdout",
     "output_type": "stream",
     "text": [
      "71687000 72562000 71582000 71281000 73311000 73213000 76055000 73269000 68992000 75117000 \n",
      "20230906 031614\t-0.968391859367919\t2138\t410\t13\t10\t5\t72706900\t162\n"
     ]
    },
    {
     "name": "stderr",
     "output_type": "stream",
     "text": [
      "[mbo] 146: cp=-0.968; minsplit=2138; minbucket=410; maxdepth=13 : y = 7.27e+07 : 444.8 secs : infill_ei\n",
      "\n"
     ]
    },
    {
     "name": "stdout",
     "output_type": "stream",
     "text": [
      "70210000 72485000 72156000 72170000 73458000 72835000 74886000 73269000 68586000 74648000 \n",
      "20230906 032251\t-0.384904964341817\t2087\t368\t10\t10\t5\t72470300\t163\n"
     ]
    },
    {
     "name": "stderr",
     "output_type": "stream",
     "text": [
      "[mbo] 147: cp=-0.385; minsplit=2087; minbucket=368; maxdepth=10 : y = 7.25e+07 : 394.1 secs : infill_ei\n",
      "\n",
      "Saved the current state after iteration 148 in the file bayesiana.RDATA.\n",
      "\n"
     ]
    },
    {
     "name": "stdout",
     "output_type": "stream",
     "text": [
      "71267000 69076000 70189000 73920000 75026000 71008000 74760000 73080000 68754000 74606000 \n",
      "20230906 032812\t-0.663377207264921\t1998\t235\t7\t10\t5\t72168600\t164\n"
     ]
    },
    {
     "name": "stderr",
     "output_type": "stream",
     "text": [
      "[mbo] 148: cp=-0.663; minsplit=1998; minbucket=235; maxdepth=7 : y = 7.22e+07 : 317.9 secs : infill_ei\n",
      "\n"
     ]
    },
    {
     "name": "stdout",
     "output_type": "stream",
     "text": [
      "51520000 52129000 49791000 53704000 55426000 51051000 55125000 51198000 54831000 51422000 \n",
      "20230906 033115\t-0.217587462992201\t7993\t1356\t3\t10\t5\t52619700\t165\n"
     ]
    },
    {
     "name": "stderr",
     "output_type": "stream",
     "text": [
      "[mbo] 149: cp=-0.218; minsplit=7993; minbucket=1356; maxdepth=3 : y = 5.26e+07 : 180.0 secs : infill_ei\n",
      "\n"
     ]
    },
    {
     "name": "stdout",
     "output_type": "stream",
     "text": [
      "51520000 52129000 49791000 53704000 55426000 51051000 55125000 51198000 54831000 51422000 \n",
      "20230906 033629\t-0.999566949044288\t7995\t951\t8\t10\t5\t52619700\t166\n"
     ]
    },
    {
     "name": "stderr",
     "output_type": "stream",
     "text": [
      "[mbo] 150: cp=-1; minsplit=7995; minbucket=951; maxdepth=8 : y = 5.26e+07 : 310.7 secs : infill_ei\n",
      "\n",
      "Saved the current state after iteration 151 in the file bayesiana.RDATA.\n",
      "\n"
     ]
    },
    {
     "name": "stdout",
     "output_type": "stream",
     "text": [
      "66990000 63931000 65576000 65982000 69664000 62993000 67207000 65030000 64512000 66962000 \n",
      "20230906 034243\t-0.810479565819296\t2475\t1233\t10\t10\t5\t65884700\t167\n"
     ]
    },
    {
     "name": "stderr",
     "output_type": "stream",
     "text": [
      "[mbo] 151: cp=-0.81; minsplit=2475; minbucket=1233; maxdepth=10 : y = 6.59e+07 : 370.1 secs : infill_ei\n",
      "\n"
     ]
    },
    {
     "name": "stdout",
     "output_type": "stream",
     "text": [
      "71512000 72646000 70525000 71134000 74067000 72030000 76314000 72534000 68586000 74515000 \n",
      "20230906 035050\t-0.211313841450033\t2181\t369\t19\t10\t5\t72386300\t168\n"
     ]
    },
    {
     "name": "stderr",
     "output_type": "stream",
     "text": [
      "[mbo] 152: cp=-0.211; minsplit=2181; minbucket=369; maxdepth=19 : y = 7.24e+07 : 485.1 secs : infill_ei\n",
      "\n",
      "Saved the current state after iteration 153 in the file bayesiana.RDATA.\n",
      "\n"
     ]
    },
    {
     "name": "stdout",
     "output_type": "stream",
     "text": [
      "71687000 72562000 72156000 72415000 73311000 72835000 74886000 72625000 69657000 74648000 \n",
      "20230906 035634\t-0.917490993688202\t2099\t400\t8\t10\t5\t72678200\t169\n"
     ]
    },
    {
     "name": "stderr",
     "output_type": "stream",
     "text": [
      "[mbo] 153: cp=-0.917; minsplit=2099; minbucket=400; maxdepth=8 : y = 7.27e+07 : 341.2 secs : infill_ei\n",
      "\n"
     ]
    },
    {
     "name": "stdout",
     "output_type": "stream",
     "text": [
      "70252000 70147000 72156000 74060000 74725000 72835000 74886000 73269000 69083000 74648000 \n",
      "20230906 040308\t-0.282102915477641\t2010\t365\t10\t10\t5\t72606100\t170\n"
     ]
    },
    {
     "name": "stderr",
     "output_type": "stream",
     "text": [
      "[mbo] 154: cp=-0.282; minsplit=2010; minbucket=365; maxdepth=10 : y = 7.26e+07 : 390.9 secs : infill_ei\n",
      "\n",
      "Saved the current state after iteration 155 in the file bayesiana.RDATA.\n",
      "\n"
     ]
    },
    {
     "name": "stdout",
     "output_type": "stream",
     "text": [
      "70553000 69195000 70595000 72212000 72814000 72037000 74697000 71484000 67508000 74081000 \n",
      "20230906 041158\t-0.14884354350981\t2090\t274\t20\t10\t5\t71517600\t171\n"
     ]
    },
    {
     "name": "stderr",
     "output_type": "stream",
     "text": [
      "[mbo] 155: cp=-0.149; minsplit=2090; minbucket=274; maxdepth=20 : y = 7.15e+07 : 527.1 secs : infill_ei\n",
      "\n"
     ]
    },
    {
     "name": "stdout",
     "output_type": "stream",
     "text": [
      "65394000 68236000 65366000 68579000 72933000 67949000 70854000 71561000 64799000 70063000 \n",
      "20230906 041923\t-0.333508451760333\t2217\t645\t15\t10\t5\t68573400\t172\n"
     ]
    },
    {
     "name": "stderr",
     "output_type": "stream",
     "text": [
      "[mbo] 156: cp=-0.334; minsplit=2217; minbucket=645; maxdepth=15 : y = 6.86e+07 : 442.2 secs : infill_ei\n",
      "\n",
      "Saved the current state after iteration 157 in the file bayesiana.RDATA.\n",
      "\n"
     ]
    },
    {
     "name": "stdout",
     "output_type": "stream",
     "text": [
      "71715000 72569000 71582000 71281000 73311000 73213000 76055000 73269000 69027000 75117000 \n",
      "20230906 042639\t-0.69803486097758\t2132\t412\t12\t10\t5\t72713900\t173\n"
     ]
    },
    {
     "name": "stderr",
     "output_type": "stream",
     "text": [
      "[mbo] 157: cp=-0.698; minsplit=2132; minbucket=412; maxdepth=12 : y = 7.27e+07 : 432.8 secs : infill_ei\n",
      "\n"
     ]
    },
    {
     "name": "stdout",
     "output_type": "stream",
     "text": [
      "71715000 72569000 72156000 71281000 73458000 73213000 77455000 73269000 69062000 75117000 \n",
      "20230906 043344\t-0.623128522600094\t2152\t413\t11\t10\t5\t72929500\t174\n"
     ]
    },
    {
     "name": "stderr",
     "output_type": "stream",
     "text": [
      "[mbo] 158: cp=-0.623; minsplit=2152; minbucket=413; maxdepth=11 : y = 7.29e+07 : 422.8 secs : infill_ei\n",
      "\n",
      "Saved the current state after iteration 159 in the file bayesiana.RDATA.\n",
      "\n"
     ]
    },
    {
     "name": "stdout",
     "output_type": "stream",
     "text": [
      "70266000 69811000 71582000 73815000 73906000 72835000 74319000 73269000 69083000 74648000 \n",
      "20230906 044213\t-0.179987546938709\t2027\t359\t20\t10\t5\t72353400\t175\n"
     ]
    },
    {
     "name": "stderr",
     "output_type": "stream",
     "text": [
      "[mbo] 159: cp=-0.18; minsplit=2027; minbucket=359; maxdepth=20 : y = 7.24e+07 : 505.3 secs : infill_ei\n",
      "\n"
     ]
    },
    {
     "name": "stdout",
     "output_type": "stream",
     "text": [
      "51520000 52129000 49791000 53704000 55426000 51051000 55125000 51198000 54831000 51422000 \n",
      "20230906 044705\t-0.479614321152429\t7998\t2260\t7\t10\t5\t52619700\t176\n"
     ]
    },
    {
     "name": "stderr",
     "output_type": "stream",
     "text": [
      "[mbo] 160: cp=-0.48; minsplit=7998; minbucket=2260; maxdepth=7 : y = 5.26e+07 : 288.8 secs : infill_ei\n",
      "\n",
      "Saved the current state after iteration 161 in the file bayesiana.RDATA.\n",
      "\n"
     ]
    },
    {
     "name": "stdout",
     "output_type": "stream",
     "text": [
      "72023000 71918000 70658000 70749000 74088000 72408000 75621000 72303000 68306000 74494000 \n",
      "20230906 045413\t-0.609661921007423\t2238\t419\t12\t10\t5\t72256800\t177\n"
     ]
    },
    {
     "name": "stderr",
     "output_type": "stream",
     "text": [
      "[mbo] 161: cp=-0.61; minsplit=2238; minbucket=419; maxdepth=12 : y = 7.23e+07 : 424.2 secs : infill_ei\n",
      "\n"
     ]
    },
    {
     "name": "stdout",
     "output_type": "stream",
     "text": [
      "71666000 72569000 72156000 71281000 73311000 73213000 76055000 72611000 69062000 75117000 \n",
      "20230906 050104\t-0.684610259584091\t2130\t416\t11\t10\t5\t72704100\t178\n"
     ]
    },
    {
     "name": "stderr",
     "output_type": "stream",
     "text": [
      "[mbo] 162: cp=-0.685; minsplit=2130; minbucket=416; maxdepth=11 : y = 7.27e+07 : 408.6 secs : infill_ei\n",
      "\n",
      "Saved the current state after iteration 163 in the file bayesiana.RDATA.\n",
      "\n"
     ]
    },
    {
     "name": "stdout",
     "output_type": "stream",
     "text": [
      "74137000 69958000 70490000 71519000 72835000 74872000 69027000 70609000 73311000 69713000 \n",
      "20230906 050617\t-0.620866422565359\t2028\t2\t7\t10\t5\t71647100\t179\n"
     ]
    },
    {
     "name": "stderr",
     "output_type": "stream",
     "text": [
      "[mbo] 163: cp=-0.621; minsplit=2028; minbucket=2; maxdepth=7 : y = 7.16e+07 : 308.9 secs : infill_ei\n",
      "\n"
     ]
    },
    {
     "name": "stdout",
     "output_type": "stream",
     "text": [
      "71687000 72562000 72156000 71932000 73311000 72835000 75390000 72632000 68971000 74648000 \n",
      "20230906 051254\t-0.625317927925445\t2091\t405\t10\t10\t5\t72612400\t180\n"
     ]
    },
    {
     "name": "stderr",
     "output_type": "stream",
     "text": [
      "[mbo] 164: cp=-0.625; minsplit=2091; minbucket=405; maxdepth=10 : y = 7.26e+07 : 393.8 secs : infill_ei\n",
      "\n",
      "Saved the current state after iteration 165 in the file bayesiana.RDATA.\n",
      "\n"
     ]
    },
    {
     "name": "stdout",
     "output_type": "stream",
     "text": [
      "69650000 64813000 65667000 67452000 66815000 65968000 67179000 65037000 65107000 68936000 \n",
      "20230906 051803\t-0.271812466005117\t4240\t1284\t7\t10\t5\t66662400\t181\n"
     ]
    },
    {
     "name": "stderr",
     "output_type": "stream",
     "text": [
      "[mbo] 165: cp=-0.272; minsplit=4240; minbucket=1284; maxdepth=7 : y = 6.67e+07 : 306.0 secs : infill_ei\n",
      "\n"
     ]
    },
    {
     "name": "stdout",
     "output_type": "stream",
     "text": [
      "64393000 64386000 64596000 65450000 64274000 63476000 66395000 60312000 63497000 64659000 \n",
      "20230906 052355\t-0.274807430946885\t4189\t2090\t20\t10\t5\t64143800\t182\n"
     ]
    },
    {
     "name": "stderr",
     "output_type": "stream",
     "text": [
      "[mbo] 166: cp=-0.275; minsplit=4189; minbucket=2090; maxdepth=20 : y = 6.41e+07 : 348.5 secs : infill_ei\n",
      "\n",
      "Saved the current state after iteration 167 in the file bayesiana.RDATA.\n",
      "\n"
     ]
    },
    {
     "name": "stdout",
     "output_type": "stream",
     "text": [
      "72940000 71862000 69286000 72058000 70378000 71701000 71267000 71092000 71960000 71799000 \n",
      "20230906 052919\t-0.701864830488616\t1353\t404\t7\t10\t5\t71434300\t183\n"
     ]
    },
    {
     "name": "stderr",
     "output_type": "stream",
     "text": [
      "[mbo] 167: cp=-0.702; minsplit=1353; minbucket=404; maxdepth=7 : y = 7.14e+07 : 321.2 secs : infill_ei\n",
      "\n"
     ]
    },
    {
     "name": "stdout",
     "output_type": "stream",
     "text": [
      "68901000 66570000 67179000 68026000 68138000 67186000 66535000 65968000 63861000 68656000 \n",
      "20230906 053658\t-0.265592088364458\t3827\t407\t20\t10\t5\t67102000\t184\n"
     ]
    },
    {
     "name": "stderr",
     "output_type": "stream",
     "text": [
      "[mbo] 168: cp=-0.266; minsplit=3827; minbucket=407; maxdepth=20 : y = 6.71e+07 : 456.9 secs : infill_ei\n",
      "\n",
      "Saved the current state after iteration 169 in the file bayesiana.RDATA.\n",
      "\n"
     ]
    },
    {
     "name": "stdout",
     "output_type": "stream",
     "text": [
      "71106000 72982000 70770000 70294000 73388000 71680000 75621000 72982000 67480000 74445000 \n",
      "20230906 054452\t-0.7106351850443\t2344\t416\t17\t10\t5\t72074800\t185\n"
     ]
    },
    {
     "name": "stderr",
     "output_type": "stream",
     "text": [
      "[mbo] 169: cp=-0.711; minsplit=2344; minbucket=416; maxdepth=17 : y = 7.21e+07 : 469.7 secs : infill_ei\n",
      "\n"
     ]
    },
    {
     "name": "stdout",
     "output_type": "stream",
     "text": [
      "71757000 72002000 70525000 70938000 74088000 72030000 75299000 72240000 67886000 74025000 \n",
      "20230906 055258\t-0.208613842573258\t2223\t368\t17\t10\t5\t72079000\t186\n"
     ]
    },
    {
     "name": "stderr",
     "output_type": "stream",
     "text": [
      "[mbo] 170: cp=-0.209; minsplit=2223; minbucket=368; maxdepth=17 : y = 7.21e+07 : 482.9 secs : infill_ei\n",
      "\n",
      "Saved the current state after iteration 171 in the file bayesiana.RDATA.\n",
      "\n"
     ]
    },
    {
     "name": "stdout",
     "output_type": "stream",
     "text": [
      "71890000 72569000 70525000 70462000 74067000 72408000 76979000 72968000 69062000 74984000 \n",
      "20230906 060059\t-0.979735557922116\t2208\t413\t18\t10\t5\t72591400\t187\n"
     ]
    },
    {
     "name": "stderr",
     "output_type": "stream",
     "text": [
      "[mbo] 171: cp=-0.98; minsplit=2208; minbucket=413; maxdepth=18 : y = 7.26e+07 : 478.1 secs : infill_ei\n",
      "\n"
     ]
    },
    {
     "name": "stdout",
     "output_type": "stream",
     "text": [
      "68285000 67074000 63623000 65919000 69965000 65373000 69958000 68404000 63735000 70119000 \n",
      "20230906 060807\t-0.708251878245006\t2512\t853\t18\t10\t5\t67245500\t188\n"
     ]
    },
    {
     "name": "stderr",
     "output_type": "stream",
     "text": [
      "[mbo] 172: cp=-0.708; minsplit=2512; minbucket=853; maxdepth=18 : y = 6.72e+07 : 424.7 secs : infill_ei\n",
      "\n",
      "Saved the current state after iteration 173 in the file bayesiana.RDATA.\n",
      "\n"
     ]
    },
    {
     "name": "stdout",
     "output_type": "stream",
     "text": [
      "70616000 69517000 71764000 74060000 75775000 73654000 75033000 74781000 69125000 74648000 \n",
      "20230906 061328\t-0.441506831264469\t1974\t372\t7\t10\t5\t72897300\t189\n"
     ]
    },
    {
     "name": "stderr",
     "output_type": "stream",
     "text": [
      "[mbo] 173: cp=-0.442; minsplit=1974; minbucket=372; maxdepth=7 : y = 7.29e+07 : 316.7 secs : infill_ei\n",
      "\n"
     ]
    },
    {
     "name": "stdout",
     "output_type": "stream",
     "text": [
      "69216000 69769000 72919000 72401000 75628000 73332000 74977000 74781000 69601000 75117000 \n",
      "20230906 061848\t-0.619145374921587\t1908\t413\t7\t10\t5\t72774100\t190\n"
     ]
    },
    {
     "name": "stderr",
     "output_type": "stream",
     "text": [
      "[mbo] 174: cp=-0.619; minsplit=1908; minbucket=413; maxdepth=7 : y = 7.28e+07 : 317.4 secs : infill_ei\n",
      "\n",
      "Saved the current state after iteration 175 in the file bayesiana.RDATA.\n",
      "\n"
     ]
    },
    {
     "name": "stdout",
     "output_type": "stream",
     "text": [
      "69510000 69111000 70441000 71260000 76202000 70840000 73332000 71855000 68537000 73864000 \n",
      "20230906 062436\t-0.172989358624738\t1907\t97\t8\t10\t5\t71495200\t191\n"
     ]
    },
    {
     "name": "stderr",
     "output_type": "stream",
     "text": [
      "[mbo] 175: cp=-0.173; minsplit=1907; minbucket=97; maxdepth=8 : y = 7.15e+07 : 344.4 secs : infill_ei\n",
      "\n"
     ]
    },
    {
     "name": "stdout",
     "output_type": "stream",
     "text": [
      "71512000 72401000 72156000 71953000 73458000 72835000 74886000 73276000 69244000 74648000 \n",
      "20230906 063129\t-0.438748201976115\t2113\t376\t11\t10\t5\t72636900\t192\n"
     ]
    },
    {
     "name": "stderr",
     "output_type": "stream",
     "text": [
      "[mbo] 176: cp=-0.439; minsplit=2113; minbucket=376; maxdepth=11 : y = 7.26e+07 : 409.4 secs : infill_ei\n",
      "\n",
      "Saved the current state after iteration 177 in the file bayesiana.RDATA.\n",
      "\n"
     ]
    },
    {
     "name": "stdout",
     "output_type": "stream",
     "text": [
      "71841000 72569000 70525000 70462000 74067000 72408000 76979000 73269000 69062000 74984000 \n",
      "20230906 063904\t-0.698418628161283\t2201\t414\t13\t10\t5\t72616600\t193\n"
     ]
    },
    {
     "name": "stderr",
     "output_type": "stream",
     "text": [
      "[mbo] 177: cp=-0.698; minsplit=2201; minbucket=414; maxdepth=13 : y = 7.26e+07 : 451.4 secs : infill_ei\n",
      "\n"
     ]
    },
    {
     "name": "stdout",
     "output_type": "stream",
     "text": [
      "61719000 58856000 60417000 61866000 63756000 61992000 61362000 59556000 58695000 56756000 \n",
      "20230906 064507\t-0.99980630668151\t5109\t1686\t20\t10\t5\t60497500\t194\n"
     ]
    },
    {
     "name": "stderr",
     "output_type": "stream",
     "text": [
      "[mbo] 178: cp=-1; minsplit=5109; minbucket=1686; maxdepth=20 : y = 6.05e+07 : 359.6 secs : infill_ei\n",
      "\n",
      "Saved the current state after iteration 179 in the file bayesiana.RDATA.\n",
      "\n"
     ]
    },
    {
     "name": "stdout",
     "output_type": "stream",
     "text": [
      "69216000 70238000 72156000 72947000 74578000 73143000 74977000 73269000 69601000 75117000 \n",
      "20230906 065054\t-0.973918469883339\t1999\t413\t8\t10\t5\t72524200\t195\n"
     ]
    },
    {
     "name": "stderr",
     "output_type": "stream",
     "text": [
      "[mbo] 179: cp=-0.974; minsplit=1999; minbucket=413; maxdepth=8 : y = 7.25e+07 : 343.8 secs : infill_ei\n",
      "\n"
     ]
    },
    {
     "name": "stdout",
     "output_type": "stream",
     "text": [
      "53550000 53865000 53088000 58163000 59087000 56896000 58002000 52633000 53529000 53886000 \n",
      "20230906 065527\t-0.268061932726824\t5950\t2001\t6\t10\t5\t55269900\t196\n"
     ]
    },
    {
     "name": "stderr",
     "output_type": "stream",
     "text": [
      "[mbo] 180: cp=-0.268; minsplit=5950; minbucket=2001; maxdepth=6 : y = 5.53e+07 : 269.2 secs : infill_ei\n",
      "\n",
      "Saved the current state after iteration 181 in the file bayesiana.RDATA.\n",
      "\n"
     ]
    },
    {
     "name": "stdout",
     "output_type": "stream",
     "text": [
      "70777000 71659000 71134000 69496000 74438000 71477000 75432000 71274000 67249000 72982000 \n",
      "20230906 070313\t-0.997212342123822\t2491\t419\t17\t10\t5\t71591800\t197\n"
     ]
    },
    {
     "name": "stderr",
     "output_type": "stream",
     "text": [
      "[mbo] 181: cp=-0.997; minsplit=2491; minbucket=419; maxdepth=17 : y = 7.16e+07 : 462.9 secs : infill_ei\n",
      "\n"
     ]
    },
    {
     "name": "stdout",
     "output_type": "stream",
     "text": [
      "69440000 67046000 66773000 66549000 68243000 66640000 66115000 65219000 62909000 68474000 \n",
      "20230906 071001\t-0.96985937402143\t4106\t1114\t14\t10\t5\t66740800\t198\n"
     ]
    },
    {
     "name": "stderr",
     "output_type": "stream",
     "text": [
      "[mbo] 182: cp=-0.97; minsplit=4106; minbucket=1114; maxdepth=14 : y = 6.67e+07 : 404.4 secs : infill_ei\n",
      "\n",
      "Saved the current state after iteration 183 in the file bayesiana.RDATA.\n",
      "\n"
     ]
    },
    {
     "name": "stdout",
     "output_type": "stream",
     "text": [
      "71666000 72569000 71582000 71281000 73311000 73213000 76055000 72611000 69062000 75117000 \n",
      "20230906 071735\t-0.947354035161586\t2128\t416\t14\t10\t5\t72646700\t199\n"
     ]
    },
    {
     "name": "stderr",
     "output_type": "stream",
     "text": [
      "[mbo] 183: cp=-0.947; minsplit=2128; minbucket=416; maxdepth=14 : y = 7.26e+07 : 450.4 secs : infill_ei\n",
      "\n"
     ]
    },
    {
     "name": "stdout",
     "output_type": "stream",
     "text": [
      "69650000 64813000 65975000 67452000 67921000 67074000 67179000 63616000 63112000 68936000 \n",
      "20230906 072406\t-0.256315114512067\t3537\t1283\t20\t10\t5\t66572800\t200\n"
     ]
    },
    {
     "name": "stderr",
     "output_type": "stream",
     "text": [
      "[mbo] 184: cp=-0.256; minsplit=3537; minbucket=1283; maxdepth=20 : y = 6.66e+07 : 388.4 secs : infill_ei\n",
      "\n",
      "Saved the current state after iteration 185 in the file bayesiana.RDATA.\n",
      "\n"
     ]
    },
    {
     "name": "stdout",
     "output_type": "stream",
     "text": [
      "50792000 51198000 48937000 52549000 54096000 51947000 54425000 49966000 54726000 50421000 \n",
      "20230906 073350\t-0.615047721997426\t8000\t1\t19\t10\t5\t51905700\t201\n"
     ]
    },
    {
     "name": "stderr",
     "output_type": "stream",
     "text": [
      "[mbo] 185: cp=-0.615; minsplit=8000; minbucket=1; maxdepth=19 : y = 5.19e+07 : 579.6 secs : infill_ei\n",
      "\n"
     ]
    },
    {
     "name": "stdout",
     "output_type": "stream",
     "text": [
      "74480000 72450000 68194000 71526000 76461000 69559000 72534000 72072000 69720000 71813000 \n",
      "20230906 073918\t-0.948456032130722\t500\t250\t7\t10\t5\t71880900\t202\n"
     ]
    },
    {
     "name": "stderr",
     "output_type": "stream",
     "text": [
      "[mbo] 186: cp=-0.948; minsplit=500; minbucket=250; maxdepth=7 : y = 7.19e+07 : 324.4 secs : infill_ei\n",
      "\n",
      "Saved the current state after iteration 187 in the file bayesiana.RDATA.\n",
      "\n"
     ]
    },
    {
     "name": "stdout",
     "output_type": "stream",
     "text": [
      "58863000 58716000 52423000 56777000 59381000 57897000 60487000 59857000 54642000 54999000 \n",
      "20230906 074457\t-0.303048550040022\t5596\t2797\t20\t10\t5\t57404200\t203\n"
     ]
    },
    {
     "name": "stderr",
     "output_type": "stream",
     "text": [
      "[mbo] 187: cp=-0.303; minsplit=5596; minbucket=2797; maxdepth=20 : y = 5.74e+07 : 334.5 secs : infill_ei\n",
      "\n"
     ]
    },
    {
     "name": "stdout",
     "output_type": "stream",
     "text": [
      "51212000 53382000 52017000 53564000 56686000 52640000 56056000 52528000 55153000 53004000 \n",
      "20230906 075011\t-0.811212596477423\t7998\t3358\t20\t10\t5\t53624200\t204\n"
     ]
    },
    {
     "name": "stderr",
     "output_type": "stream",
     "text": [
      "[mbo] 188: cp=-0.811; minsplit=7998; minbucket=3358; maxdepth=20 : y = 5.36e+07 : 310.4 secs : infill_ei\n",
      "\n",
      "Saved the current state after iteration 189 in the file bayesiana.RDATA.\n",
      "\n"
     ]
    },
    {
     "name": "stdout",
     "output_type": "stream",
     "text": [
      "71120000 72576000 71113000 70462000 74067000 72408000 76979000 72618000 69062000 74984000 \n",
      "20230906 075700\t-0.955950677762746\t2192\t422\t11\t10\t5\t72538900\t205\n"
     ]
    },
    {
     "name": "stderr",
     "output_type": "stream",
     "text": [
      "[mbo] 189: cp=-0.956; minsplit=2192; minbucket=422; maxdepth=11 : y = 7.25e+07 : 405.5 secs : infill_ei\n",
      "\n"
     ]
    },
    {
     "name": "stdout",
     "output_type": "stream",
     "text": [
      "70133000 69447000 69965000 70679000 73192000 71729000 74858000 73458000 69874000 73752000 \n",
      "20230906 080224\t-0.442693713068436\t2096\t88\t7\t10\t5\t71708700\t206\n"
     ]
    },
    {
     "name": "stderr",
     "output_type": "stream",
     "text": [
      "[mbo] 190: cp=-0.443; minsplit=2096; minbucket=88; maxdepth=7 : y = 7.17e+07 : 320.2 secs : infill_ei\n",
      "\n",
      "Saved the current state after iteration 191 in the file bayesiana.RDATA.\n",
      "\n"
     ]
    },
    {
     "name": "stdout",
     "output_type": "stream",
     "text": [
      "70812000 72569000 72156000 71932000 74809000 73213000 76055000 73276000 69475000 75117000 \n",
      "20230906 080747\t-0.7796494083155\t2066\t415\t7\t10\t5\t72941400\t207\n"
     ]
    },
    {
     "name": "stderr",
     "output_type": "stream",
     "text": [
      "[mbo] 191: cp=-0.78; minsplit=2066; minbucket=415; maxdepth=7 : y = 7.29e+07 : 319.4 secs : infill_ei\n",
      "\n"
     ]
    },
    {
     "name": "stdout",
     "output_type": "stream",
     "text": [
      "69510000 69762000 73437000 72618000 75628000 72198000 74263000 74781000 69531000 74284000 \n",
      "20230906 081307\t-0.916436627959669\t1863\t410\t7\t10\t5\t72601200\t208\n"
     ]
    },
    {
     "name": "stderr",
     "output_type": "stream",
     "text": [
      "[mbo] 192: cp=-0.916; minsplit=1863; minbucket=410; maxdepth=7 : y = 7.26e+07 : 316.6 secs : infill_ei\n",
      "\n",
      "Saved the current state after iteration 193 in the file bayesiana.RDATA.\n",
      "\n"
     ]
    },
    {
     "name": "stdout",
     "output_type": "stream",
     "text": [
      "66997000 65821000 65086000 64757000 67893000 65079000 64491000 62181000 62944000 66836000 \n",
      "20230906 081932\t-0.759929828546025\t3050\t1519\t20\t10\t5\t65208500\t209\n"
     ]
    },
    {
     "name": "stderr",
     "output_type": "stream",
     "text": [
      "[mbo] 193: cp=-0.76; minsplit=3050; minbucket=1519; maxdepth=20 : y = 6.52e+07 : 381.5 secs : infill_ei\n",
      "\n"
     ]
    },
    {
     "name": "stdout",
     "output_type": "stream",
     "text": [
      "66465000 66241000 66668000 65261000 70560000 66724000 65289000 64792000 64162000 68936000 \n",
      "20230906 082443\t-0.268700012037492\t2314\t1155\t7\t10\t5\t66509800\t210\n"
     ]
    },
    {
     "name": "stderr",
     "output_type": "stream",
     "text": [
      "[mbo] 194: cp=-0.269; minsplit=2314; minbucket=1155; maxdepth=7 : y = 6.65e+07 : 306.8 secs : infill_ei\n",
      "\n",
      "Saved the current state after iteration 195 in the file bayesiana.RDATA.\n",
      "\n"
     ]
    },
    {
     "name": "stdout",
     "output_type": "stream",
     "text": [
      "65009000 64967000 64729000 63679000 65128000 62363000 65394000 60627000 61649000 63756000 \n",
      "20230906 083028\t-0.419947851065964\t4475\t2237\t20\t10\t5\t63730100\t211\n"
     ]
    },
    {
     "name": "stderr",
     "output_type": "stream",
     "text": [
      "[mbo] 195: cp=-0.42; minsplit=4475; minbucket=2237; maxdepth=20 : y = 6.37e+07 : 341.1 secs : infill_ei\n",
      "\n"
     ]
    },
    {
     "name": "stdout",
     "output_type": "stream",
     "text": [
      "71680000 72114000 71925000 71043000 74459000 73213000 76055000 72618000 69713000 74557000 \n",
      "20230906 083557\t-0.94647983460692\t2133\t426\t7\t10\t5\t72737700\t212\n"
     ]
    },
    {
     "name": "stderr",
     "output_type": "stream",
     "text": [
      "[mbo] 196: cp=-0.946; minsplit=2133; minbucket=426; maxdepth=7 : y = 7.27e+07 : 324.7 secs : infill_ei\n",
      "\n",
      "Saved the current state after iteration 197 in the file bayesiana.RDATA.\n",
      "\n"
     ]
    },
    {
     "name": "stdout",
     "output_type": "stream",
     "text": [
      "62965000 66248000 66514000 69286000 73451000 68159000 69454000 71827000 65317000 69755000 \n",
      "20230906 084341\t-0.748934929877173\t2075\t607\t18\t10\t5\t68297600\t213\n"
     ]
    },
    {
     "name": "stderr",
     "output_type": "stream",
     "text": [
      "[mbo] 197: cp=-0.749; minsplit=2075; minbucket=607; maxdepth=18 : y = 6.83e+07 : 461.1 secs : infill_ei\n",
      "\n"
     ]
    },
    {
     "name": "stdout",
     "output_type": "stream",
     "text": [
      "70686000 69951000 70007000 71722000 73857000 71337000 75327000 71764000 69783000 73500000 \n",
      "20230906 085034\t-0.6245549078226\t1948\t76\t7\t10\t5\t71793400\t214\n"
     ]
    },
    {
     "name": "stderr",
     "output_type": "stream",
     "text": [
      "[mbo] 198: cp=-0.625; minsplit=1948; minbucket=76; maxdepth=7 : y = 7.18e+07 : 408.8 secs : infill_ei\n",
      "\n",
      "Saved the current state after iteration 199 in the file bayesiana.RDATA.\n",
      "\n"
     ]
    },
    {
     "name": "stdout",
     "output_type": "stream",
     "text": [
      "69335000 67886000 69195000 68026000 72093000 68908000 69286000 69538000 66031000 71162000 \n",
      "20230906 085608\t-0.771870618286603\t3005\t806\t7\t10\t5\t69146000\t215\n"
     ]
    },
    {
     "name": "stderr",
     "output_type": "stream",
     "text": [
      "[mbo] 199: cp=-0.772; minsplit=3005; minbucket=806; maxdepth=7 : y = 6.91e+07 : 329.9 secs : infill_ei\n",
      "\n"
     ]
    },
    {
     "name": "stdout",
     "output_type": "stream",
     "text": [
      "64141000 64582000 65114000 65471000 65807000 63609000 67669000 62391000 63497000 64946000 \n",
      "20230906 090325\t-0.551421848820367\t3654\t1826\t20\t10\t5\t64722700\t216\n"
     ]
    },
    {
     "name": "stderr",
     "output_type": "stream",
     "text": [
      "[mbo] 200: cp=-0.551; minsplit=3654; minbucket=1826; maxdepth=20 : y = 6.47e+07 : 434.4 secs : infill_ei\n",
      "\n",
      "Saved the current state after iteration 201 in the file bayesiana.RDATA.\n",
      "\n"
     ]
    },
    {
     "name": "stdout",
     "output_type": "stream",
     "text": [
      "73115000 73087000 68691000 71421000 76461000 69468000 72541000 71764000 69524000 71834000 \n",
      "20230906 091000\t-0.626644491539193\t497\t245\t7\t10\t5\t71790600\t217\n"
     ]
    },
    {
     "name": "stderr",
     "output_type": "stream",
     "text": [
      "[mbo] 201: cp=-0.627; minsplit=497; minbucket=245; maxdepth=7 : y = 7.18e+07 : 390.9 secs : infill_ei\n",
      "\n"
     ]
    },
    {
     "name": "stdout",
     "output_type": "stream",
     "text": [
      "0 0 0 0 0 0 0 0 0 0 \n",
      "20230906 091333\t0.0983636847058598\t2393\t1\t20\t10\t5\t0\t218\n"
     ]
    },
    {
     "name": "stderr",
     "output_type": "stream",
     "text": [
      "[mbo] 202: cp=0.0984; minsplit=2393; minbucket=1; maxdepth=20 : y = 0 : 209.3 secs : infill_ei\n",
      "\n",
      "Saved the current state after iteration 203 in the file bayesiana.RDATA.\n",
      "\n"
     ]
    },
    {
     "name": "stdout",
     "output_type": "stream",
     "text": [
      "70014000 66472000 69552000 70798000 72534000 69538000 69685000 69699000 64519000 70931000 \n",
      "20230906 092148\t-0.722928985659022\t3049\t391\t19\t10\t5\t69374200\t219\n"
     ]
    },
    {
     "name": "stderr",
     "output_type": "stream",
     "text": [
      "[mbo] 203: cp=-0.723; minsplit=3049; minbucket=391; maxdepth=19 : y = 6.94e+07 : 491.6 secs : infill_ei\n",
      "\n"
     ]
    },
    {
     "name": "stdout",
     "output_type": "stream",
     "text": [
      "71890000 71918000 71099000 70749000 75138000 72030000 75299000 72331000 68957000 74025000 \n",
      "20230906 092745\t-0.874535656812277\t2224\t401\t7\t10\t5\t72343600\t220\n"
     ]
    },
    {
     "name": "stderr",
     "output_type": "stream",
     "text": [
      "[mbo] 204: cp=-0.875; minsplit=2224; minbucket=401; maxdepth=7 : y = 7.23e+07 : 353.7 secs : infill_ei\n",
      "\n",
      "Saved the current state after iteration 205 in the file bayesiana.RDATA.\n",
      "\n"
     ]
    },
    {
     "name": "stdout",
     "output_type": "stream",
     "text": [
      "51667000 53228000 51639000 52668000 55251000 51009000 54894000 51191000 55020000 51422000 \n",
      "20230906 093112\t-0.999318528938773\t7994\t3128\t3\t10\t5\t52798900\t221\n"
     ]
    },
    {
     "name": "stderr",
     "output_type": "stream",
     "text": [
      "[mbo] 205: cp=-0.999; minsplit=7994; minbucket=3128; maxdepth=3 : y = 5.28e+07 : 203.5 secs : infill_ei\n",
      "\n"
     ]
    },
    {
     "name": "stdout",
     "output_type": "stream",
     "text": [
      "70616000 69195000 69384000 71995000 73507000 72037000 74697000 71484000 67508000 74403000 \n",
      "20230906 094138\t-0.187806430324923\t2130\t263\t18\t10\t5\t71482600\t222\n"
     ]
    },
    {
     "name": "stderr",
     "output_type": "stream",
     "text": [
      "[mbo] 206: cp=-0.188; minsplit=2130; minbucket=263; maxdepth=18 : y = 7.15e+07 : 621.5 secs : infill_ei\n",
      "\n",
      "Saved the current state after iteration 207 in the file bayesiana.RDATA.\n",
      "\n"
     ]
    },
    {
     "name": "stdout",
     "output_type": "stream",
     "text": [
      "66626000 66647000 67760000 67641000 72401000 68355000 69622000 72828000 62979000 69853000 \n",
      "20230906 094715\t-0.20503129858322\t1889\t748\t7\t10\t5\t68471200\t223\n"
     ]
    },
    {
     "name": "stderr",
     "output_type": "stream",
     "text": [
      "[mbo] 207: cp=-0.205; minsplit=1889; minbucket=748; maxdepth=7 : y = 6.85e+07 : 333.5 secs : infill_ei\n",
      "\n"
     ]
    },
    {
     "name": "stdout",
     "output_type": "stream",
     "text": [
      "51758000 49973000 49686000 54663000 53039000 52346000 52031000 52570000 53151000 53277000 \n",
      "20230906 095335\t-0.445632662600186\t7294\t3626\t20\t10\t5\t52249400\t224\n"
     ]
    },
    {
     "name": "stderr",
     "output_type": "stream",
     "text": [
      "[mbo] 208: cp=-0.446; minsplit=7294; minbucket=3626; maxdepth=20 : y = 5.22e+07 : 376.7 secs : infill_ei\n",
      "\n",
      "Saved the current state after iteration 209 in the file bayesiana.RDATA.\n",
      "\n"
     ]
    },
    {
     "name": "stdout",
     "output_type": "stream",
     "text": [
      "51520000 52129000 49791000 53704000 55426000 51051000 55125000 51198000 54831000 51422000 \n",
      "20230906 100046\t-0.272147108130573\t8000\t1775\t20\t10\t5\t52619700\t225\n"
     ]
    },
    {
     "name": "stderr",
     "output_type": "stream",
     "text": [
      "[mbo] 209: cp=-0.272; minsplit=8000; minbucket=1775; maxdepth=20 : y = 5.26e+07 : 426.5 secs : infill_ei\n",
      "\n"
     ]
    },
    {
     "name": "stdout",
     "output_type": "stream",
     "text": [
      "70490000 72184000 72170000 72702000 73759000 73143000 76055000 72611000 69188000 75117000 \n",
      "20230906 100917\t-0.63063133801775\t2027\t421\t11\t10\t5\t72741900\t226\n"
     ]
    },
    {
     "name": "stderr",
     "output_type": "stream",
     "text": [
      "[mbo] 210: cp=-0.631; minsplit=2027; minbucket=421; maxdepth=11 : y = 7.27e+07 : 507.7 secs : infill_ei\n",
      "\n",
      "Saved the current state after iteration 211 in the file bayesiana.RDATA.\n",
      "\n"
     ]
    },
    {
     "name": "stdout",
     "output_type": "stream",
     "text": [
      "70553000 65212000 69258000 70945000 74746000 64624000 68355000 71995000 68614000 74067000 \n",
      "20230906 102005\t-0.954488350264255\t670\t329\t18\t10\t5\t69836900\t227\n"
     ]
    },
    {
     "name": "stderr",
     "output_type": "stream",
     "text": [
      "[mbo] 211: cp=-0.954; minsplit=670; minbucket=329; maxdepth=18 : y = 6.98e+07 : 643.2 secs : infill_ei\n",
      "\n",
      "Saved the current state after iteration 212 in the file bayesiana.RDATA.\n",
      "\n"
     ]
    },
    {
     "name": "stdout",
     "output_type": "stream",
     "text": [
      "70791000 70231000 71582000 73906000 74578000 73024000 75537000 74144000 69370000 74648000 \n",
      "20230906 102827\t-0.958089998645694\t1950\t401\t20\t10\t5\t72781100\t228\n"
     ]
    },
    {
     "name": "stderr",
     "output_type": "stream",
     "text": [
      "[mbo] 212: cp=-0.958; minsplit=1950; minbucket=401; maxdepth=20 : y = 7.28e+07 : 497.1 secs : infill_ei\n",
      "\n"
     ]
    },
    {
     "name": "stdout",
     "output_type": "stream",
     "text": [
      "58702000 56189000 56756000 57911000 60627000 57981000 58562000 58499000 57386000 57379000 \n",
      "20230906 103211\t-0.624712130688072\t4201\t2100\t3\t10\t5\t57999200\t229\n"
     ]
    },
    {
     "name": "stderr",
     "output_type": "stream",
     "text": [
      "[mbo] 213: cp=-0.625; minsplit=4201; minbucket=2100; maxdepth=3 : y = 5.8e+07 : 218.4 secs : infill_ei\n",
      "\n",
      "Saved the current state after iteration 214 in the file bayesiana.RDATA.\n",
      "\n"
     ]
    },
    {
     "name": "stdout",
     "output_type": "stream",
     "text": [
      "70609000 69531000 69195000 74193000 74795000 72282000 73857000 73745000 68502000 74389000 \n",
      "20230906 104238\t-0.955528078612181\t1974\t251\t20\t10\t5\t72109800\t230\n"
     ]
    },
    {
     "name": "stderr",
     "output_type": "stream",
     "text": [
      "[mbo] 214: cp=-0.956; minsplit=1974; minbucket=251; maxdepth=20 : y = 7.21e+07 : 622.8 secs : infill_ei\n",
      "\n",
      "Saved the current state after iteration 215 in the file bayesiana.RDATA.\n",
      "\n"
     ]
    },
    {
     "name": "stdout",
     "output_type": "stream",
     "text": [
      "71547000 72086000 70770000 70294000 74193000 71680000 75621000 72968000 67480000 73976000 \n",
      "20230906 105112\t-0.65097716347817\t2311\t406\t12\t10\t5\t72061500\t231\n"
     ]
    },
    {
     "name": "stderr",
     "output_type": "stream",
     "text": [
      "[mbo] 215: cp=-0.651; minsplit=2311; minbucket=406; maxdepth=12 : y = 7.21e+07 : 511.2 secs : infill_ei\n",
      "\n"
     ]
    },
    {
     "name": "stdout",
     "output_type": "stream",
     "text": [
      "70364000 72632000 71582000 73178000 73759000 72835000 75390000 72632000 69097000 74648000 \n",
      "20230906 110049\t-0.953427626289458\t2033\t402\t18\t10\t5\t72611700\t232\n"
     ]
    },
    {
     "name": "stderr",
     "output_type": "stream",
     "text": [
      "[mbo] 216: cp=-0.953; minsplit=2033; minbucket=402; maxdepth=18 : y = 7.26e+07 : 571.2 secs : infill_ei\n",
      "\n",
      "Saved the current state after iteration 217 in the file bayesiana.RDATA.\n",
      "\n"
     ]
    },
    {
     "name": "stdout",
     "output_type": "stream",
     "text": [
      "70329000 67697000 70378000 74088000 74319000 71134000 74557000 73423000 70182000 74186000 \n",
      "20230906 110712\t-0.263726332676068\t2020\t140\t7\t10\t5\t72029300\t233\n"
     ]
    },
    {
     "name": "stderr",
     "output_type": "stream",
     "text": [
      "[mbo] 217: cp=-0.264; minsplit=2020; minbucket=140; maxdepth=7 : y = 7.2e+07 : 379.8 secs : infill_ei\n",
      "\n"
     ]
    },
    {
     "name": "stdout",
     "output_type": "stream",
     "text": [
      "69818000 69069000 70224000 75593000 70042000 69258000 69902000 69279000 69174000 71974000 \n",
      "20230906 111604\t-0.999229481160318\t1090\t396\t19\t10\t5\t70433300\t234\n"
     ]
    },
    {
     "name": "stderr",
     "output_type": "stream",
     "text": [
      "[mbo] 218: cp=-0.999; minsplit=1090; minbucket=396; maxdepth=19 : y = 7.04e+07 : 527.8 secs : infill_ei\n",
      "\n",
      "Saved the current state after iteration 219 in the file bayesiana.RDATA.\n",
      "\n"
     ]
    },
    {
     "name": "stdout",
     "output_type": "stream",
     "text": [
      "64393000 64428000 64596000 65450000 64274000 63441000 66115000 60312000 63497000 64603000 \n",
      "20230906 112253\t-0.948756455883009\t4243\t2109\t15\t10\t5\t64110900\t235\n"
     ]
    },
    {
     "name": "stderr",
     "output_type": "stream",
     "text": [
      "[mbo] 219: cp=-0.949; minsplit=4243; minbucket=2109; maxdepth=15 : y = 6.41e+07 : 404.6 secs : infill_ei\n",
      "\n"
     ]
    },
    {
     "name": "stdout",
     "output_type": "stream",
     "text": [
      "64393000 64743000 63329000 62909000 64057000 63385000 65961000 60312000 63497000 62692000 \n",
      "20230906 112955\t-0.701731929395576\t4331\t1780\t16\t10\t5\t63527800\t236\n"
     ]
    },
    {
     "name": "stderr",
     "output_type": "stream",
     "text": [
      "[mbo] 220: cp=-0.702; minsplit=4331; minbucket=1780; maxdepth=16 : y = 6.35e+07 : 418.5 secs : infill_ei\n",
      "\n",
      "Saved the current state after iteration 221 in the file bayesiana.RDATA.\n",
      "\n"
     ]
    },
    {
     "name": "stdout",
     "output_type": "stream",
     "text": [
      "51562000 51527000 51380000 53683000 52493000 53984000 55671000 52514000 54187000 54299000 \n",
      "20230906 113318\t-0.652429398328774\t8000\t3998\t3\t10\t5\t53130000\t237\n"
     ]
    },
    {
     "name": "stderr",
     "output_type": "stream",
     "text": [
      "[mbo] 221: cp=-0.652; minsplit=8000; minbucket=3998; maxdepth=3 : y = 5.31e+07 : 197.9 secs : infill_ei\n",
      "\n"
     ]
    },
    {
     "name": "stdout",
     "output_type": "stream",
     "text": [
      "51212000 50953000 52017000 53669000 56714000 52640000 53298000 52528000 53998000 52080000 \n",
      "20230906 113702\t-0.182870922173876\t6697\t3346\t3\t10\t5\t52910900\t238\n"
     ]
    },
    {
     "name": "stderr",
     "output_type": "stream",
     "text": [
      "[mbo] 222: cp=-0.183; minsplit=6697; minbucket=3346; maxdepth=3 : y = 5.29e+07 : 220.0 secs : infill_ei\n",
      "\n"
     ]
    },
    {
     "name": "stdout",
     "output_type": "stream",
     "text": [
      "71120000 72576000 70525000 70462000 74067000 72408000 76979000 72611000 69062000 74984000 \n",
      "20230906 114638\t-0.963340914635293\t2199\t420\t20\t10\t5\t72479400\t239\n"
     ]
    },
    {
     "name": "stderr",
     "output_type": "stream",
     "text": [
      "[mbo] 223: cp=-0.963; minsplit=2199; minbucket=420; maxdepth=20 : y = 7.25e+07 : 571.5 secs : infill_ei\n",
      "\n",
      "Saved the current state after iteration 224 in the file bayesiana.RDATA.\n",
      "\n"
     ]
    },
    {
     "name": "stdout",
     "output_type": "stream",
     "text": [
      "65877000 67494000 67760000 67613000 71435000 67172000 68726000 72814000 61964000 69853000 \n",
      "20230906 115430\t-0.172827620074627\t1891\t759\t20\t10\t5\t68070800\t240\n"
     ]
    },
    {
     "name": "stderr",
     "output_type": "stream",
     "text": [
      "[mbo] 224: cp=-0.173; minsplit=1891; minbucket=759; maxdepth=20 : y = 6.81e+07 : 468.4 secs : infill_ei\n",
      "\n"
     ]
    },
    {
     "name": "stdout",
     "output_type": "stream",
     "text": [
      "68425000 66927000 66234000 67977000 69552000 67879000 67613000 64029000 62370000 69657000 \n",
      "20230906 120059\t-0.970052678378595\t3487\t946\t9\t10\t5\t67066300\t241\n"
     ]
    },
    {
     "name": "stderr",
     "output_type": "stream",
     "text": [
      "[mbo] 225: cp=-0.97; minsplit=3487; minbucket=946; maxdepth=9 : y = 6.71e+07 : 384.5 secs : infill_ei\n",
      "\n",
      "Saved the current state after iteration 226 in the file bayesiana.RDATA.\n",
      "\n"
     ]
    },
    {
     "name": "stdout",
     "output_type": "stream",
     "text": [
      "68873000 67340000 67207000 71631000 69671000 68131000 71127000 66115000 71498000 69475000 \n",
      "20230906 120911\t-0.974821720788935\t788\t394\t13\t10\t5\t69106800\t242\n"
     ]
    },
    {
     "name": "stderr",
     "output_type": "stream",
     "text": [
      "[mbo] 226: cp=-0.975; minsplit=788; minbucket=394; maxdepth=13 : y = 6.91e+07 : 487.6 secs : infill_ei\n",
      "\n"
     ]
    },
    {
     "name": "stdout",
     "output_type": "stream",
     "text": [
      "72408000 68866000 69349000 73864000 75803000 71638000 73220000 74172000 69314000 73556000 \n",
      "20230906 121503\t-0.206403310869438\t1883\t258\t7\t10\t5\t72219000\t243\n"
     ]
    },
    {
     "name": "stderr",
     "output_type": "stream",
     "text": [
      "[mbo] 227: cp=-0.206; minsplit=1883; minbucket=258; maxdepth=7 : y = 7.22e+07 : 347.7 secs : infill_ei\n",
      "\n",
      "Saved the current state after iteration 228 in the file bayesiana.RDATA.\n",
      "\n"
     ]
    },
    {
     "name": "stdout",
     "output_type": "stream",
     "text": [
      "61866000 57589000 56273000 59668000 59192000 62825000 57057000 59010000 59640000 58429000 \n",
      "20230906 121957\t-0.999836553754991\t4733\t1\t6\t10\t5\t59154900\t244\n"
     ]
    },
    {
     "name": "stderr",
     "output_type": "stream",
     "text": [
      "[mbo] 228: cp=-1; minsplit=4733; minbucket=1; maxdepth=6 : y = 5.92e+07 : 290.0 secs : infill_ei\n",
      "\n"
     ]
    },
    {
     "name": "stdout",
     "output_type": "stream",
     "text": [
      "58702000 56448000 56056000 57407000 60410000 56959000 58107000 58499000 56434000 57477000 \n",
      "20230906 122352\t-0.998877891072722\t3195\t1587\t3\t10\t5\t57649900\t245\n"
     ]
    },
    {
     "name": "stderr",
     "output_type": "stream",
     "text": [
      "[mbo] 229: cp=-0.999; minsplit=3195; minbucket=1587; maxdepth=3 : y = 5.76e+07 : 230.0 secs : infill_ei\n",
      "\n"
     ]
    },
    {
     "name": "stdout",
     "output_type": "stream",
     "text": [
      "70007000 69615000 71694000 74158000 74074000 71995000 73416000 74165000 68306000 73759000 \n",
      "20230906 123458\t-0.986857764782226\t1929\t301\t20\t10\t5\t72118900\t246\n"
     ]
    },
    {
     "name": "stderr",
     "output_type": "stream",
     "text": [
      "[mbo] 230: cp=-0.987; minsplit=1929; minbucket=301; maxdepth=20 : y = 7.21e+07 : 661.8 secs : infill_ei\n",
      "\n",
      "Saved the current state after iteration 231 in the file bayesiana.RDATA.\n",
      "\n"
     ]
    },
    {
     "name": "stdout",
     "output_type": "stream",
     "text": [
      "55279000 56035000 50358000 54397000 57218000 54159000 61166000 59661000 57449000 55111000 \n",
      "20230906 124034\t-0.903562556421078\t5594\t776\t6\t10\t5\t56083300\t247\n"
     ]
    },
    {
     "name": "stderr",
     "output_type": "stream",
     "text": [
      "[mbo] 231: cp=-0.904; minsplit=5594; minbucket=776; maxdepth=6 : y = 5.61e+07 : 330.2 secs : infill_ei\n",
      "\n"
     ]
    },
    {
     "name": "stdout",
     "output_type": "stream",
     "text": [
      "63574000 58534000 59598000 62160000 65737000 63868000 59857000 61404000 62237000 60109000 \n",
      "20230906 124558\t-0.154449668092405\t4331\t1\t6\t10\t5\t61707800\t248\n"
     ]
    },
    {
     "name": "stderr",
     "output_type": "stream",
     "text": [
      "[mbo] 232: cp=-0.154; minsplit=4331; minbucket=1; maxdepth=6 : y = 6.17e+07 : 319.8 secs : infill_ei\n",
      "\n",
      "Saved the current state after iteration 233 in the file bayesiana.RDATA.\n",
      "\n"
     ]
    },
    {
     "name": "stdout",
     "output_type": "stream",
     "text": [
      "51086000 51772000 49791000 53529000 54866000 51051000 55125000 50939000 54831000 51422000 \n",
      "20230906 125121\t-0.615966667808697\t7994\t428\t6\t10\t5\t52441200\t249\n"
     ]
    },
    {
     "name": "stderr",
     "output_type": "stream",
     "text": [
      "[mbo] 233: cp=-0.616; minsplit=7994; minbucket=428; maxdepth=6 : y = 5.24e+07 : 318.0 secs : infill_ei\n",
      "\n"
     ]
    },
    {
     "name": "stdout",
     "output_type": "stream",
     "text": [
      "69944000 69678000 71645000 74235000 71316000 72723000 72065000 72184000 70399000 72261000 \n",
      "20230906 130051\t-0.968428951896244\t1650\t398\t20\t10\t5\t71645000\t250\n"
     ]
    },
    {
     "name": "stderr",
     "output_type": "stream",
     "text": [
      "[mbo] 234: cp=-0.968; minsplit=1650; minbucket=398; maxdepth=20 : y = 7.16e+07 : 566.9 secs : infill_ei\n",
      "\n",
      "Saved the current state after iteration 235 in the file bayesiana.RDATA.\n",
      "\n"
     ]
    },
    {
     "name": "stdout",
     "output_type": "stream",
     "text": [
      "68082000 66927000 65954000 64778000 68719000 66066000 66535000 64645000 63861000 66920000 \n",
      "20230906 130806\t-0.999208811190761\t4417\t791\t20\t10\t5\t66248700\t251\n"
     ]
    },
    {
     "name": "stderr",
     "output_type": "stream",
     "text": [
      "[mbo] 235: cp=-0.999; minsplit=4417; minbucket=791; maxdepth=20 : y = 6.62e+07 : 429.9 secs : infill_ei\n",
      "\n"
     ]
    },
    {
     "name": "stdout",
     "output_type": "stream",
     "text": [
      "71512000 72401000 72156000 72170000 74508000 72835000 74886000 72478000 69657000 74648000 \n",
      "20230906 131342\t-0.459531603470701\t2096\t382\t7\t10\t5\t72725100\t252\n"
     ]
    },
    {
     "name": "stderr",
     "output_type": "stream",
     "text": [
      "[mbo] 236: cp=-0.46; minsplit=2096; minbucket=382; maxdepth=7 : y = 7.27e+07 : 331.6 secs : infill_ei\n",
      "\n",
      "Saved the current state after iteration 237 in the file bayesiana.RDATA.\n",
      "\n"
     ]
    },
    {
     "name": "stdout",
     "output_type": "stream",
     "text": [
      "70364000 72632000 72156000 73178000 74809000 72835000 75390000 72632000 69510000 74648000 \n",
      "20230906 131903\t-0.831692420754206\t2031\t402\t7\t10\t5\t72815400\t253\n"
     ]
    },
    {
     "name": "stderr",
     "output_type": "stream",
     "text": [
      "[mbo] 237: cp=-0.832; minsplit=2031; minbucket=402; maxdepth=7 : y = 7.28e+07 : 317.6 secs : infill_ei\n",
      "\n"
     ]
    },
    {
     "name": "stdout",
     "output_type": "stream",
     "text": [
      "75292000 71029000 70091000 72583000 74487000 66969000 71778000 73402000 70294000 74291000 \n",
      "20230906 132422\t-0.807585191351055\t894\t220\t7\t10\t5\t72021600\t254\n"
     ]
    },
    {
     "name": "stderr",
     "output_type": "stream",
     "text": [
      "[mbo] 238: cp=-0.808; minsplit=894; minbucket=220; maxdepth=7 : y = 7.2e+07 : 315.2 secs : infill_ei\n",
      "\n",
      "Saved the current state after iteration 239 in the file bayesiana.RDATA.\n",
      "\n"
     ]
    },
    {
     "name": "stdout",
     "output_type": "stream",
     "text": [
      "70812000 72184000 72170000 71519000 73759000 73213000 76055000 72611000 69475000 75117000 \n",
      "20230906 133111\t-0.768811752871423\t2040\t421\t9\t10\t5\t72691500\t255\n"
     ]
    },
    {
     "name": "stderr",
     "output_type": "stream",
     "text": [
      "[mbo] 239: cp=-0.769; minsplit=2040; minbucket=421; maxdepth=9 : y = 7.27e+07 : 403.9 secs : infill_ei\n",
      "\n"
     ]
    },
    {
     "name": "stdout",
     "output_type": "stream",
     "text": [
      "70770000 69762000 72919000 74060000 75775000 73024000 75033000 74137000 69783000 74648000 \n",
      "20230906 133625\t-0.805955567706734\t1935\t394\t7\t10\t5\t72991100\t256\n"
     ]
    },
    {
     "name": "stderr",
     "output_type": "stream",
     "text": [
      "[mbo] 240: cp=-0.806; minsplit=1935; minbucket=394; maxdepth=7 : y = 7.3e+07 : 310.3 secs : infill_ei\n",
      "\n",
      "Saved the current state after iteration 241 in the file bayesiana.RDATA.\n",
      "\n"
     ]
    },
    {
     "name": "stdout",
     "output_type": "stream",
     "text": [
      "64491000 64813000 63378000 67067000 64365000 62706000 66374000 64162000 65359000 66780000 \n",
      "20230906 134225\t-0.440623392851114\t4111\t1432\t20\t10\t5\t64949500\t257\n"
     ]
    },
    {
     "name": "stderr",
     "output_type": "stream",
     "text": [
      "[mbo] 241: cp=-0.441; minsplit=4111; minbucket=1432; maxdepth=20 : y = 6.49e+07 : 353.9 secs : infill_ei\n",
      "\n"
     ]
    },
    {
     "name": "stdout",
     "output_type": "stream",
     "text": [
      "64393000 62797000 63357000 65450000 64225000 64393000 65996000 60312000 63497000 64183000 \n",
      "20230906 134748\t-0.999734785605622\t3898\t1947\t8\t10\t5\t63860300\t258\n"
     ]
    },
    {
     "name": "stderr",
     "output_type": "stream",
     "text": [
      "[mbo] 242: cp=-1; minsplit=3898; minbucket=1947; maxdepth=8 : y = 6.39e+07 : 318.7 secs : infill_ei\n",
      "\n",
      "Saved the current state after iteration 243 in the file bayesiana.RDATA.\n",
      "\n"
     ]
    },
    {
     "name": "stdout",
     "output_type": "stream",
     "text": [
      "72023000 72576000 71113000 70749000 74088000 72408000 76979000 72303000 69062000 74984000 \n",
      "20230906 135402\t-0.518635103959817\t2220\t422\t10\t10\t5\t72628500\t259\n"
     ]
    },
    {
     "name": "stderr",
     "output_type": "stream",
     "text": [
      "[mbo] 243: cp=-0.519; minsplit=2220; minbucket=422; maxdepth=10 : y = 7.26e+07 : 370.0 secs : infill_ei\n",
      "\n"
     ]
    },
    {
     "name": "stdout",
     "output_type": "stream",
     "text": [
      "66276000 67697000 66164000 69062000 71890000 67921000 71134000 71078000 63938000 70630000 \n",
      "20230906 135918\t-0.518296270129235\t2194\t735\t7\t10\t5\t68579000\t260\n"
     ]
    },
    {
     "name": "stderr",
     "output_type": "stream",
     "text": [
      "[mbo] 244: cp=-0.518; minsplit=2194; minbucket=735; maxdepth=7 : y = 6.86e+07 : 311.5 secs : infill_ei\n",
      "\n",
      "Saved the current state after iteration 245 in the file bayesiana.RDATA.\n",
      "\n"
     ]
    },
    {
     "name": "stdout",
     "output_type": "stream",
     "text": [
      "71890000 72597000 72233000 70938000 74088000 72030000 75621000 72331000 68544000 74025000 \n",
      "20230906 140629\t-0.447566521313076\t2247\t392\t10\t10\t5\t72429700\t261\n"
     ]
    },
    {
     "name": "stderr",
     "output_type": "stream",
     "text": [
      "[mbo] 245: cp=-0.448; minsplit=2247; minbucket=392; maxdepth=10 : y = 7.24e+07 : 425.7 secs : infill_ei\n",
      "\n"
     ]
    },
    {
     "name": "stdout",
     "output_type": "stream",
     "text": [
      "71120000 72576000 70539000 70462000 74067000 72408000 76979000 72618000 69062000 74984000 \n",
      "20230906 141446\t-0.707115760516389\t2183\t422\t14\t10\t5\t72481500\t262\n"
     ]
    },
    {
     "name": "stderr",
     "output_type": "stream",
     "text": [
      "[mbo] 246: cp=-0.707; minsplit=2183; minbucket=422; maxdepth=14 : y = 7.25e+07 : 492.1 secs : infill_ei\n",
      "\n",
      "Saved the current state after iteration 247 in the file bayesiana.RDATA.\n",
      "\n"
     ]
    },
    {
     "name": "stdout",
     "output_type": "stream",
     "text": [
      "66927000 64757000 64841000 65653000 70098000 64876000 66668000 64351000 63518000 67333000 \n",
      "20230906 142003\t-0.711546824617371\t2810\t1402\t7\t10\t5\t65902200\t263\n"
     ]
    },
    {
     "name": "stderr",
     "output_type": "stream",
     "text": [
      "[mbo] 247: cp=-0.712; minsplit=2810; minbucket=1402; maxdepth=7 : y = 6.59e+07 : 311.7 secs : infill_ei\n",
      "\n"
     ]
    },
    {
     "name": "stdout",
     "output_type": "stream",
     "text": [
      "51212000 53130000 51863000 52465000 54691000 50603000 55832000 52535000 54845000 52528000 \n",
      "20230906 142540\t-0.171080762999626\t7999\t3275\t20\t10\t5\t52970400\t264\n"
     ]
    },
    {
     "name": "stderr",
     "output_type": "stream",
     "text": [
      "[mbo] 248: cp=-0.171; minsplit=7999; minbucket=3275; maxdepth=20 : y = 5.3e+07 : 332.1 secs : infill_ei\n",
      "\n",
      "Saved the current state after iteration 249 in the file bayesiana.RDATA.\n",
      "\n"
     ]
    },
    {
     "name": "stdout",
     "output_type": "stream",
     "text": [
      "51702000 52857000 50575000 53263000 53592000 51079000 54950000 52346000 54691000 54166000 \n",
      "20230906 143057\t-0.842318390161352\t7999\t3811\t13\t10\t5\t52922100\t265\n"
     ]
    },
    {
     "name": "stderr",
     "output_type": "stream",
     "text": [
      "[mbo] 249: cp=-0.842; minsplit=7999; minbucket=3811; maxdepth=13 : y = 5.29e+07 : 312.2 secs : infill_ei\n",
      "\n"
     ]
    },
    {
     "name": "stdout",
     "output_type": "stream",
     "text": [
      "71890000 72562000 71099000 70945000 74067000 72030000 76314000 72625000 69244000 74515000 \n",
      "20230906 143754\t-0.509156658595075\t2204\t399\t11\t10\t5\t72529100\t266\n"
     ]
    },
    {
     "name": "stderr",
     "output_type": "stream",
     "text": [
      "[mbo] 250: cp=-0.509; minsplit=2204; minbucket=399; maxdepth=11 : y = 7.25e+07 : 410.1 secs : infill_ei\n",
      "\n",
      "Saved the current state after iteration 251 in the file bayesiana.RDATA.\n",
      "\n"
     ]
    },
    {
     "name": "stdout",
     "output_type": "stream",
     "text": [
      "72023000 72597000 72233000 70749000 74088000 72408000 75621000 72303000 68306000 74494000 \n",
      "20230906 144445\t-0.711994701374078\t2246\t417\t11\t10\t5\t72482200\t267\n"
     ]
    },
    {
     "name": "stderr",
     "output_type": "stream",
     "text": [
      "[mbo] 251: cp=-0.712; minsplit=2246; minbucket=417; maxdepth=11 : y = 7.25e+07 : 406.1 secs : infill_ei\n",
      "\n"
     ]
    },
    {
     "name": "stdout",
     "output_type": "stream",
     "text": [
      "51520000 52472000 49791000 53704000 55426000 51051000 55125000 51198000 54831000 51422000 \n",
      "20230906 145006\t-0.616529199399708\t7996\t3023\t16\t10\t5\t52654000\t268\n"
     ]
    },
    {
     "name": "stderr",
     "output_type": "stream",
     "text": [
      "[mbo] 252: cp=-0.617; minsplit=7996; minbucket=3023; maxdepth=16 : y = 5.27e+07 : 316.6 secs : infill_ei\n",
      "\n",
      "Saved the current state after iteration 253 in the file bayesiana.RDATA.\n",
      "\n"
     ]
    },
    {
     "name": "stdout",
     "output_type": "stream",
     "text": [
      "70189000 70070000 72156000 74060000 75775000 72835000 74886000 72478000 69783000 74648000 \n",
      "20230906 145528\t-0.527036576709782\t2014\t383\t7\t10\t5\t72688000\t269\n"
     ]
    },
    {
     "name": "stderr",
     "output_type": "stream",
     "text": [
      "[mbo] 253: cp=-0.527; minsplit=2014; minbucket=383; maxdepth=7 : y = 7.27e+07 : 317.4 secs : infill_ei\n",
      "\n"
     ]
    },
    {
     "name": "stdout",
     "output_type": "stream",
     "text": [
      "71323000 69048000 72527000 73731000 75775000 73024000 73479000 74781000 69251000 74648000 \n",
      "20230906 150050\t-0.271207401440749\t1893\t372\t7\t10\t5\t72758700\t270\n"
     ]
    },
    {
     "name": "stderr",
     "output_type": "stream",
     "text": [
      "[mbo] 254: cp=-0.271; minsplit=1893; minbucket=372; maxdepth=7 : y = 7.28e+07 : 317.4 secs : infill_ei\n",
      "\n",
      "Saved the current state after iteration 255 in the file bayesiana.RDATA.\n",
      "\n"
     ]
    },
    {
     "name": "stdout",
     "output_type": "stream",
     "text": [
      "71680000 72576000 71925000 71043000 73556000 73213000 77455000 72625000 69300000 74557000 \n",
      "20230906 150825\t-0.408636899814955\t2150\t427\t11\t10\t5\t72793000\t271\n"
     ]
    },
    {
     "name": "stderr",
     "output_type": "stream",
     "text": [
      "[mbo] 255: cp=-0.409; minsplit=2150; minbucket=427; maxdepth=11 : y = 7.28e+07 : 450.2 secs : infill_ei\n",
      "\n"
     ]
    },
    {
     "name": "stdout",
     "output_type": "stream",
     "text": [
      "66031000 66094000 69776000 69461000 72009000 69160000 71351000 69678000 66717000 70924000 \n",
      "20230906 151548\t-0.214337064121589\t2065\t523\t11\t10\t5\t69120100\t272\n"
     ]
    },
    {
     "name": "stderr",
     "output_type": "stream",
     "text": [
      "[mbo] 256: cp=-0.214; minsplit=2065; minbucket=523; maxdepth=11 : y = 6.91e+07 : 438.7 secs : infill_ei\n",
      "\n",
      "Saved the current state after iteration 257 in the file bayesiana.RDATA.\n",
      "\n"
     ]
    },
    {
     "name": "stdout",
     "output_type": "stream",
     "text": [
      "66752000 67725000 65744000 69069000 71505000 67662000 70504000 71127000 64652000 70630000 \n",
      "20230906 152348\t-0.780311454367845\t2212\t755\t12\t10\t5\t68537000\t273\n"
     ]
    },
    {
     "name": "stderr",
     "output_type": "stream",
     "text": [
      "[mbo] 257: cp=-0.78; minsplit=2212; minbucket=755; maxdepth=12 : y = 6.85e+07 : 476.0 secs : infill_ei\n",
      "\n"
     ]
    },
    {
     "name": "stdout",
     "output_type": "stream",
     "text": [
      "71169000 72562000 70525000 71134000 74067000 72030000 76314000 72625000 69244000 74515000 \n",
      "20230906 153406\t-0.793849962868192\t2194\t398\t20\t10\t5\t72418500\t274\n"
     ]
    },
    {
     "name": "stderr",
     "output_type": "stream",
     "text": [
      "[mbo] 258: cp=-0.794; minsplit=2194; minbucket=398; maxdepth=20 : y = 7.24e+07 : 612.4 secs : infill_ei\n",
      "\n",
      "Saved the current state after iteration 259 in the file bayesiana.RDATA.\n",
      "\n"
     ]
    },
    {
     "name": "stdout",
     "output_type": "stream",
     "text": [
      "70616000 69601000 71953000 74060000 74725000 73024000 75033000 74788000 69370000 74648000 \n",
      "20230906 154416\t-0.16268841261677\t1925\t377\t18\t10\t5\t72781800\t275\n"
     ]
    },
    {
     "name": "stderr",
     "output_type": "stream",
     "text": [
      "[mbo] 259: cp=-0.163; minsplit=1925; minbucket=377; maxdepth=18 : y = 7.28e+07 : 605.5 secs : infill_ei\n",
      "\n",
      "Saved the current state after iteration 260 in the file bayesiana.RDATA.\n",
      "\n"
     ]
    },
    {
     "name": "stdout",
     "output_type": "stream",
     "text": [
      "71316000 66395000 67774000 69335000 71414000 65135000 68999000 71127000 68348000 74193000 \n",
      "20230906 155450\t-0.154598634620971\t729\t356\t19\t10\t5\t69403600\t276\n"
     ]
    },
    {
     "name": "stderr",
     "output_type": "stream",
     "text": [
      "[mbo] 260: cp=-0.155; minsplit=729; minbucket=356; maxdepth=19 : y = 6.94e+07 : 628.6 secs : infill_ei\n",
      "\n",
      "Saved the current state after iteration 261 in the file bayesiana.RDATA.\n",
      "\n"
     ]
    },
    {
     "name": "stdout",
     "output_type": "stream",
     "text": [
      "71680000 72114000 72170000 71932000 73311000 73213000 76055000 72618000 69062000 75117000 \n",
      "20230906 160310\t-0.365459203363456\t2101\t423\t11\t10\t5\t72727200\t277\n"
     ]
    },
    {
     "name": "stderr",
     "output_type": "stream",
     "text": [
      "[mbo] 261: cp=-0.365; minsplit=2101; minbucket=423; maxdepth=11 : y = 7.27e+07 : 494.0 secs : infill_ei\n",
      "\n"
     ]
    },
    {
     "name": "stdout",
     "output_type": "stream",
     "text": [
      "69510000 70231000 72156000 72947000 75628000 73962000 74977000 73269000 69566000 75117000 \n",
      "20230906 160905\t-0.766717838139472\t1991\t411\t7\t10\t5\t72736300\t278\n"
     ]
    },
    {
     "name": "stderr",
     "output_type": "stream",
     "text": [
      "[mbo] 262: cp=-0.767; minsplit=1991; minbucket=411; maxdepth=7 : y = 7.27e+07 : 350.5 secs : infill_ei\n",
      "\n",
      "Saved the current state after iteration 263 in the file bayesiana.RDATA.\n",
      "\n"
     ]
    },
    {
     "name": "stdout",
     "output_type": "stream",
     "text": [
      "70826000 72184000 71351000 71281000 73857000 73213000 76055000 73017000 69300000 74298000 \n",
      "20230906 161904\t-0.766201698298524\t2048\t428\t20\t10\t5\t72538200\t279\n"
     ]
    },
    {
     "name": "stderr",
     "output_type": "stream",
     "text": [
      "[mbo] 263: cp=-0.766; minsplit=2048; minbucket=428; maxdepth=20 : y = 7.25e+07 : 593.6 secs : infill_ei\n",
      "\n"
     ]
    },
    {
     "name": "stdout",
     "output_type": "stream",
     "text": [
      "71680000 72114000 71596000 71694000 73311000 73213000 76055000 73010000 69062000 74557000 \n",
      "20230906 162825\t-0.267938837112563\t2081\t424\t19\t10\t5\t72629200\t280\n"
     ]
    },
    {
     "name": "stderr",
     "output_type": "stream",
     "text": [
      "[mbo] 264: cp=-0.268; minsplit=2081; minbucket=424; maxdepth=19 : y = 7.26e+07 : 555.7 secs : infill_ei\n",
      "\n",
      "Saved the current state after iteration 265 in the file bayesiana.RDATA.\n",
      "\n"
     ]
    },
    {
     "name": "stdout",
     "output_type": "stream",
     "text": [
      "69412000 67032000 67550000 66843000 69489000 68152000 66703000 65968000 61852000 68768000 \n",
      "20230906 163450\t-0.623952062449776\t3135\t1073\t8\t10\t5\t67176900\t281\n"
     ]
    },
    {
     "name": "stderr",
     "output_type": "stream",
     "text": [
      "[mbo] 265: cp=-0.624; minsplit=3135; minbucket=1073; maxdepth=8 : y = 6.72e+07 : 381.4 secs : infill_ei\n",
      "\n"
     ]
    },
    {
     "name": "stdout",
     "output_type": "stream",
     "text": [
      "69958000 68285000 67032000 71883000 73346000 69377000 74277000 71358000 67172000 74298000 \n",
      "20230906 164148\t-0.156378364052877\t2073\t168\t11\t10\t5\t70698600\t282\n"
     ]
    },
    {
     "name": "stderr",
     "output_type": "stream",
     "text": [
      "[mbo] 266: cp=-0.156; minsplit=2073; minbucket=168; maxdepth=11 : y = 7.07e+07 : 413.1 secs : infill_ei\n",
      "\n",
      "Saved the current state after iteration 267 in the file bayesiana.RDATA.\n",
      "\n"
     ]
    },
    {
     "name": "stdout",
     "output_type": "stream",
     "text": [
      "69489000 66766000 66934000 67655000 66969000 65905000 65996000 66430000 65002000 68852000 \n",
      "20230906 164814\t-0.622692462452041\t3900\t1212\t20\t10\t5\t66999800\t283\n"
     ]
    },
    {
     "name": "stderr",
     "output_type": "stream",
     "text": [
      "[mbo] 267: cp=-0.623; minsplit=3900; minbucket=1212; maxdepth=20 : y = 6.7e+07 : 381.7 secs : infill_ei\n",
      "\n"
     ]
    },
    {
     "name": "stdout",
     "output_type": "stream",
     "text": [
      "69181000 70686000 72933000 72163000 74578000 73332000 74977000 74522000 68523000 74557000 \n",
      "20230906 165418\t-0.311284742908837\t1907\t425\t9\t10\t5\t72545200\t284\n"
     ]
    },
    {
     "name": "stderr",
     "output_type": "stream",
     "text": [
      "[mbo] 268: cp=-0.311; minsplit=1907; minbucket=425; maxdepth=9 : y = 7.25e+07 : 359.7 secs : infill_ei\n",
      "\n",
      "Saved the current state after iteration 269 in the file bayesiana.RDATA.\n",
      "\n"
     ]
    },
    {
     "name": "stdout",
     "output_type": "stream",
     "text": [
      "71680000 72114000 72170000 71477000 73311000 73213000 76055000 72618000 69475000 74557000 \n",
      "20230906 170018\t-0.43152495207736\t2123\t424\t9\t10\t5\t72667000\t285\n"
     ]
    },
    {
     "name": "stderr",
     "output_type": "stream",
     "text": [
      "[mbo] 269: cp=-0.432; minsplit=2123; minbucket=424; maxdepth=9 : y = 7.27e+07 : 354.9 secs : infill_ei\n",
      "\n"
     ]
    },
    {
     "name": "stdout",
     "output_type": "stream",
     "text": [
      "70700000 68726000 70987000 73430000 76440000 73024000 72114000 74935000 69496000 74648000 \n",
      "20230906 170530\t-0.453418560905949\t1907\t356\t7\t10\t5\t72450000\t286\n"
     ]
    },
    {
     "name": "stderr",
     "output_type": "stream",
     "text": [
      "[mbo] 270: cp=-0.453; minsplit=1907; minbucket=356; maxdepth=7 : y = 7.24e+07 : 307.6 secs : infill_ei\n",
      "\n",
      "Saved the current state after iteration 271 in the file bayesiana.RDATA.\n",
      "\n"
     ]
    },
    {
     "name": "stdout",
     "output_type": "stream",
     "text": [
      "67137000 67690000 66073000 69209000 70385000 67417000 69769000 71421000 65359000 70084000 \n",
      "20230906 171233\t-0.316071104942117\t2156\t784\t20\t10\t5\t68454400\t287\n"
     ]
    },
    {
     "name": "stderr",
     "output_type": "stream",
     "text": [
      "[mbo] 271: cp=-0.316; minsplit=2156; minbucket=784; maxdepth=20 : y = 6.85e+07 : 418.3 secs : infill_ei\n",
      "\n"
     ]
    },
    {
     "name": "stdout",
     "output_type": "stream",
     "text": [
      "64393000 64428000 64596000 64743000 64274000 63441000 66101000 59766000 63497000 64554000 \n",
      "20230906 171810\t-0.633667673458132\t4261\t2125\t20\t10\t5\t63979300\t288\n"
     ]
    },
    {
     "name": "stderr",
     "output_type": "stream",
     "text": [
      "[mbo] 272: cp=-0.634; minsplit=4261; minbucket=2125; maxdepth=20 : y = 6.4e+07 : 331.6 secs : infill_ei\n",
      "\n",
      "Saved the current state after iteration 273 in the file bayesiana.RDATA.\n",
      "\n"
     ]
    },
    {
     "name": "stdout",
     "output_type": "stream",
     "text": [
      "61789000 58940000 55146000 59136000 58835000 58653000 58905000 59717000 56217000 55020000 \n",
      "20230906 172315\t-0.494091984638533\t5273\t2636\t8\t10\t5\t58235800\t289\n"
     ]
    },
    {
     "name": "stderr",
     "output_type": "stream",
     "text": [
      "[mbo] 273: cp=-0.494; minsplit=5273; minbucket=2636; maxdepth=8 : y = 5.82e+07 : 299.3 secs : infill_ei\n",
      "\n"
     ]
    },
    {
     "name": "stdout",
     "output_type": "stream",
     "text": [
      "70679000 69517000 69923000 69594000 72422000 72492000 75243000 72849000 70007000 73661000 \n",
      "20230906 172823\t-0.215319616438584\t2129\t67\t7\t10\t5\t71638700\t290\n"
     ]
    },
    {
     "name": "stderr",
     "output_type": "stream",
     "text": [
      "[mbo] 274: cp=-0.215; minsplit=2129; minbucket=67; maxdepth=7 : y = 7.16e+07 : 302.7 secs : infill_ei\n",
      "\n",
      "Saved the current state after iteration 275 in the file bayesiana.RDATA.\n",
      "\n"
     ]
    },
    {
     "name": "stdout",
     "output_type": "stream",
     "text": [
      "51702000 50358000 48825000 52220000 53207000 52276000 54670000 51884000 53501000 53648000 \n",
      "20230906 173324\t-0.255353157628942\t7439\t3716\t9\t10\t5\t52229100\t291\n"
     ]
    },
    {
     "name": "stderr",
     "output_type": "stream",
     "text": [
      "[mbo] 275: cp=-0.255; minsplit=7439; minbucket=3716; maxdepth=9 : y = 5.22e+07 : 297.0 secs : infill_ei\n",
      "\n"
     ]
    },
    {
     "name": "stdout",
     "output_type": "stream",
     "text": [
      "69335000 66927000 65954000 67837000 68719000 67186000 66535000 65716000 63861000 67991000 \n",
      "20230906 173938\t-0.6194749980316\t4100\t760\t11\t10\t5\t67006100\t292\n"
     ]
    },
    {
     "name": "stderr",
     "output_type": "stream",
     "text": [
      "[mbo] 276: cp=-0.619; minsplit=4100; minbucket=760; maxdepth=11 : y = 6.7e+07 : 368.1 secs : infill_ei\n",
      "\n",
      "Saved the current state after iteration 277 in the file bayesiana.RDATA.\n",
      "\n"
     ]
    },
    {
     "name": "stdout",
     "output_type": "stream",
     "text": [
      "71547000 72086000 70770000 70749000 74193000 72359000 75621000 72968000 68208000 74445000 \n",
      "20230906 174647\t-0.955065899177\t2285\t410\t14\t10\t5\t72294600\t293\n"
     ]
    },
    {
     "name": "stderr",
     "output_type": "stream",
     "text": [
      "[mbo] 277: cp=-0.955; minsplit=2285; minbucket=410; maxdepth=14 : y = 7.23e+07 : 424.3 secs : infill_ei\n",
      "\n"
     ]
    },
    {
     "name": "stdout",
     "output_type": "stream",
     "text": [
      "69167000 70686000 72345000 72947000 74578000 73332000 74977000 74123000 69188000 75117000 \n",
      "20230906 175456\t-0.920721516864134\t1939\t420\t20\t10\t5\t72646000\t294\n"
     ]
    },
    {
     "name": "stderr",
     "output_type": "stream",
     "text": [
      "[mbo] 278: cp=-0.921; minsplit=1939; minbucket=420; maxdepth=20 : y = 7.26e+07 : 484.6 secs : infill_ei\n",
      "\n",
      "Saved the current state after iteration 279 in the file bayesiana.RDATA.\n",
      "\n"
     ]
    },
    {
     "name": "stdout",
     "output_type": "stream",
     "text": [
      "69657000 64813000 66087000 67627000 67942000 65716000 67200000 65065000 65107000 68936000 \n",
      "20230906 180108\t-0.999717121900344\t3638\t1296\t16\t10\t5\t66815000\t295\n"
     ]
    },
    {
     "name": "stderr",
     "output_type": "stream",
     "text": [
      "[mbo] 279: cp=-1; minsplit=3638; minbucket=1296; maxdepth=16 : y = 6.68e+07 : 366.9 secs : infill_ei\n",
      "\n"
     ]
    },
    {
     "name": "stdout",
     "output_type": "stream",
     "text": [
      "64827000 58513000 62895000 64435000 63966000 63378000 60368000 60893000 56504000 59402000 \n",
      "20230906 180547\t-0.814777592460048\t4866\t2432\t6\t10\t5\t61518100\t296\n"
     ]
    },
    {
     "name": "stderr",
     "output_type": "stream",
     "text": [
      "[mbo] 280: cp=-0.815; minsplit=4866; minbucket=2432; maxdepth=6 : y = 6.15e+07 : 273.8 secs : infill_ei\n",
      "\n",
      "Saved the current state after iteration 281 in the file bayesiana.RDATA.\n",
      "\n"
     ]
    },
    {
     "name": "stdout",
     "output_type": "stream",
     "text": [
      "63434000 60676000 60438000 63350000 64344000 63525000 61047000 60760000 57666000 57162000 \n",
      "20230906 181140\t-0.999104512003789\t5116\t2548\t13\t10\t5\t61240200\t297\n"
     ]
    },
    {
     "name": "stderr",
     "output_type": "stream",
     "text": [
      "[mbo] 281: cp=-0.999; minsplit=5116; minbucket=2548; maxdepth=13 : y = 6.12e+07 : 346.8 secs : infill_ei\n",
      "\n"
     ]
    },
    {
     "name": "stdout",
     "output_type": "stream",
     "text": [
      "65030000 65030000 64799000 63385000 65303000 62363000 65366000 60634000 61831000 63777000 \n",
      "20230906 181712\t-0.180986583804127\t4438\t2216\t8\t10\t5\t63751800\t298\n"
     ]
    },
    {
     "name": "stderr",
     "output_type": "stream",
     "text": [
      "[mbo] 282: cp=-0.181; minsplit=4438; minbucket=2216; maxdepth=8 : y = 6.38e+07 : 325.6 secs : infill_ei\n",
      "\n",
      "Saved the current state after iteration 283 in the file bayesiana.RDATA.\n",
      "\n"
     ]
    },
    {
     "name": "stdout",
     "output_type": "stream",
     "text": [
      "62020000 60543000 60641000 63266000 64253000 63434000 61061000 62223000 57834000 57302000 \n",
      "20230906 182258\t-0.147854679293817\t5159\t2579\t20\t10\t5\t61257700\t299\n"
     ]
    },
    {
     "name": "stderr",
     "output_type": "stream",
     "text": [
      "[mbo] 283: cp=-0.148; minsplit=5159; minbucket=2579; maxdepth=20 : y = 6.13e+07 : 341.0 secs : infill_ei\n",
      "\n"
     ]
    },
    {
     "name": "stdout",
     "output_type": "stream",
     "text": [
      "51520000 52472000 49791000 53704000 55426000 51051000 55125000 51198000 54831000 51422000 \n",
      "20230906 182605\t-0.101602029780987\t7999\t2570\t3\t10\t5\t52654000\t300\n"
     ]
    },
    {
     "name": "stderr",
     "output_type": "stream",
     "text": [
      "[mbo] 284: cp=-0.102; minsplit=7999; minbucket=2570; maxdepth=3 : y = 5.27e+07 : 182.3 secs : infill_ei\n",
      "\n"
     ]
    },
    {
     "name": "stdout",
     "output_type": "stream",
     "text": [
      "70504000 72184000 71596000 72709000 73759000 73143000 76055000 73010000 69188000 74557000 \n",
      "20230906 183414\t-0.982176384689969\t2023\t424\t19\t10\t5\t72670500\t301\n"
     ]
    },
    {
     "name": "stderr",
     "output_type": "stream",
     "text": [
      "[mbo] 285: cp=-0.982; minsplit=2023; minbucket=424; maxdepth=19 : y = 7.27e+07 : 483.8 secs : infill_ei\n",
      "\n",
      "Saved the current state after iteration 286 in the file bayesiana.RDATA.\n",
      "\n"
     ]
    },
    {
     "name": "stdout",
     "output_type": "stream",
     "text": [
      "71687000 72562000 71582000 71932000 73311000 72835000 75390000 72632000 68971000 74648000 \n",
      "20230906 184237\t-0.704762266209796\t2103\t402\t20\t10\t5\t72555000\t302\n"
     ]
    },
    {
     "name": "stderr",
     "output_type": "stream",
     "text": [
      "[mbo] 286: cp=-0.705; minsplit=2103; minbucket=402; maxdepth=20 : y = 7.26e+07 : 498.4 secs : infill_ei\n",
      "\n"
     ]
    },
    {
     "name": "stdout",
     "output_type": "stream",
     "text": [
      "59605000 59003000 54341000 59220000 58625000 58667000 58758000 59689000 54607000 54838000 \n",
      "20230906 184809\t-0.159439674303119\t5421\t2708\t9\t10\t5\t57735300\t303\n"
     ]
    },
    {
     "name": "stderr",
     "output_type": "stream",
     "text": [
      "[mbo] 287: cp=-0.159; minsplit=5421; minbucket=2708; maxdepth=9 : y = 5.77e+07 : 327.3 secs : infill_ei\n",
      "\n",
      "Saved the current state after iteration 288 in the file bayesiana.RDATA.\n",
      "\n"
     ]
    },
    {
     "name": "stdout",
     "output_type": "stream",
     "text": [
      "51520000 52129000 49791000 53704000 55426000 51051000 55125000 51198000 54831000 51422000 \n",
      "20230906 185344\t-0.141775023332128\t7995\t2245\t19\t10\t5\t52619700\t304\n"
     ]
    },
    {
     "name": "stderr",
     "output_type": "stream",
     "text": [
      "[mbo] 288: cp=-0.142; minsplit=7995; minbucket=2245; maxdepth=19 : y = 5.26e+07 : 329.6 secs : infill_ei\n",
      "\n"
     ]
    },
    {
     "name": "stdout",
     "output_type": "stream",
     "text": [
      "69412000 66003000 67361000 67788000 69517000 67893000 67179000 65996000 61880000 69797000 \n",
      "20230906 190033\t-0.780259823846557\t3277\t1083\t20\t10\t5\t67282600\t305\n"
     ]
    },
    {
     "name": "stderr",
     "output_type": "stream",
     "text": [
      "[mbo] 289: cp=-0.78; minsplit=3277; minbucket=1083; maxdepth=20 : y = 6.73e+07 : 404.8 secs : infill_ei\n",
      "\n",
      "Saved the current state after iteration 290 in the file bayesiana.RDATA.\n",
      "\n"
     ]
    },
    {
     "name": "stdout",
     "output_type": "stream",
     "text": [
      "70616000 69517000 71764000 74060000 75775000 73654000 75033000 74788000 69125000 74648000 \n",
      "20230906 190603\t-0.310763164732121\t1968\t373\t7\t10\t5\t72898000\t306\n"
     ]
    },
    {
     "name": "stderr",
     "output_type": "stream",
     "text": [
      "[mbo] 290: cp=-0.311; minsplit=1968; minbucket=373; maxdepth=7 : y = 7.29e+07 : 326.0 secs : infill_ei\n",
      "\n"
     ]
    },
    {
     "name": "stdout",
     "output_type": "stream",
     "text": [
      "70833000 72114000 71925000 71281000 74907000 73213000 76055000 73017000 69713000 74298000 \n",
      "20230906 191122\t-0.328097139846646\t2055\t429\t7\t10\t5\t72735600\t307\n"
     ]
    },
    {
     "name": "stderr",
     "output_type": "stream",
     "text": [
      "[mbo] 291: cp=-0.328; minsplit=2055; minbucket=429; maxdepth=7 : y = 7.27e+07 : 314.8 secs : infill_ei\n",
      "\n",
      "Saved the current state after iteration 292 in the file bayesiana.RDATA.\n",
      "\n"
     ]
    },
    {
     "name": "stdout",
     "output_type": "stream",
     "text": [
      "51520000 52129000 49791000 53704000 55426000 51051000 55125000 51198000 54831000 51422000 \n",
      "20230906 191725\t-0.999714203246539\t8000\t1330\t20\t10\t5\t52619700\t308\n"
     ]
    },
    {
     "name": "stderr",
     "output_type": "stream",
     "text": [
      "[mbo] 292: cp=-1; minsplit=8000; minbucket=1330; maxdepth=20 : y = 5.26e+07 : 357.9 secs : infill_ei\n",
      "\n"
     ]
    },
    {
     "name": "stdout",
     "output_type": "stream",
     "text": [
      "64141000 64582000 65520000 65471000 65807000 64211000 67788000 61705000 63497000 64946000 \n",
      "20230906 192253\t-0.388320356461184\t3687\t1837\t8\t10\t5\t64766800\t309\n"
     ]
    },
    {
     "name": "stderr",
     "output_type": "stream",
     "text": [
      "[mbo] 293: cp=-0.388; minsplit=3687; minbucket=1837; maxdepth=8 : y = 6.48e+07 : 322.3 secs : infill_ei\n",
      "\n",
      "Saved the current state after iteration 294 in the file bayesiana.RDATA.\n",
      "\n"
     ]
    },
    {
     "name": "stdout",
     "output_type": "stream",
     "text": [
      "71708000 72583000 71351000 70238000 74165000 72457000 76979000 72660000 69300000 73416000 \n",
      "20230906 193040\t-0.289939840970928\t2171\t431\t18\t10\t5\t72485700\t310\n"
     ]
    },
    {
     "name": "stderr",
     "output_type": "stream",
     "text": [
      "[mbo] 294: cp=-0.29; minsplit=2171; minbucket=431; maxdepth=18 : y = 7.25e+07 : 461.5 secs : infill_ei\n",
      "\n"
     ]
    },
    {
     "name": "stdout",
     "output_type": "stream",
     "text": [
      "71512000 72562000 70525000 71134000 74067000 72030000 76314000 72870000 69244000 74515000 \n",
      "20230906 193855\t-0.265885455754903\t2179\t382\t20\t10\t5\t72477300\t311\n"
     ]
    },
    {
     "name": "stderr",
     "output_type": "stream",
     "text": [
      "[mbo] 295: cp=-0.266; minsplit=2179; minbucket=382; maxdepth=20 : y = 7.25e+07 : 489.1 secs : infill_ei\n",
      "\n",
      "Saved the current state after iteration 296 in the file bayesiana.RDATA.\n",
      "\n"
     ]
    },
    {
     "name": "stdout",
     "output_type": "stream",
     "text": [
      "51086000 51772000 49791000 53529000 54866000 51051000 55125000 50939000 54831000 51422000 \n",
      "20230906 194613\t-0.997725881460164\t8000\t431\t20\t10\t5\t52441200\t312\n"
     ]
    },
    {
     "name": "stderr",
     "output_type": "stream",
     "text": [
      "[mbo] 296: cp=-0.998; minsplit=8000; minbucket=431; maxdepth=20 : y = 5.24e+07 : 431.9 secs : infill_ei\n",
      "\n"
     ]
    },
    {
     "name": "stdout",
     "output_type": "stream",
     "text": [
      "70231000 70077000 71582000 72170000 73906000 72835000 74886000 73269000 68586000 74648000 \n",
      "20230906 195425\t-0.156309583302807\t2067\t366\t18\t10\t5\t72219000\t313\n"
     ]
    },
    {
     "name": "stderr",
     "output_type": "stream",
     "text": [
      "[mbo] 297: cp=-0.156; minsplit=2067; minbucket=366; maxdepth=18 : y = 7.22e+07 : 486.6 secs : infill_ei\n",
      "\n",
      "Saved the current state after iteration 298 in the file bayesiana.RDATA.\n",
      "\n"
     ]
    },
    {
     "name": "stdout",
     "output_type": "stream",
     "text": [
      "61432000 60221000 56882000 59206000 58800000 60137000 59290000 61390000 57855000 55034000 \n",
      "20230906 200008\t-0.783495368184452\t5231\t2613\t20\t10\t5\t59024700\t314\n"
     ]
    },
    {
     "name": "stderr",
     "output_type": "stream",
     "text": [
      "[mbo] 298: cp=-0.783; minsplit=5231; minbucket=2613; maxdepth=20 : y = 5.9e+07 : 338.8 secs : infill_ei\n",
      "\n"
     ]
    },
    {
     "name": "stdout",
     "output_type": "stream",
     "text": [
      "59619000 59010000 54292000 59122000 58835000 58499000 58996000 59626000 54607000 54838000 \n",
      "20230906 200349\t-0.999825408687272\t5477\t2735\t4\t10\t5\t57744400\t315\n"
     ]
    },
    {
     "name": "stderr",
     "output_type": "stream",
     "text": [
      "[mbo] 299: cp=-1; minsplit=5477; minbucket=2735; maxdepth=4 : y = 5.77e+07 : 216.4 secs : infill_ei\n",
      "\n"
     ]
    },
    {
     "name": "stdout",
     "output_type": "stream",
     "text": [
      "67970000 64925000 66332000 66269000 69664000 63154000 66689000 65135000 65107000 67487000 \n",
      "20230906 201032\t-0.398059665473806\t2534\t1267\t20\t10\t5\t66273200\t316\n"
     ]
    },
    {
     "name": "stderr",
     "output_type": "stream",
     "text": [
      "[mbo] 300: cp=-0.398; minsplit=2534; minbucket=1267; maxdepth=20 : y = 6.63e+07 : 398.5 secs : infill_ei\n",
      "\n",
      "Saved the final state in the file bayesiana.RDATA\n",
      "\n",
      "Saved the final state in the file bayesiana.RDATA\n",
      "\n"
     ]
    }
   ],
   "source": [
    "# inicio la optimizacion bayesiana\n",
    "if (!file.exists(archivo_BO)) {\n",
    "  run <- mbo(\n",
    "    fun = obj.fun,\n",
    "    learner = surr.km,\n",
    "    control = ctrl\n",
    "  )\n",
    "} else {\n",
    "  run <- mboContinue(archivo_BO)\n",
    "}\n",
    "# retomo en caso que ya exista"
   ]
  }
 ],
 "metadata": {
  "kernelspec": {
   "display_name": "R",
   "language": "R",
   "name": "ir"
  },
  "language_info": {
   "codemirror_mode": "r",
   "file_extension": ".r",
   "mimetype": "text/x-r-source",
   "name": "R",
   "pygments_lexer": "r",
   "version": "4.3.1"
  },
  "orig_nbformat": 4
 },
 "nbformat": 4,
 "nbformat_minor": 2
}
