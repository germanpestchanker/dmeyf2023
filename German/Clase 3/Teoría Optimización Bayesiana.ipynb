{
 "cells": [
  {
   "cell_type": "markdown",
   "metadata": {},
   "source": [
    "# Step 1: Cargando los datos y las librerías"
   ]
  },
  {
   "cell_type": "markdown",
   "metadata": {},
   "source": [
    "\"Sobre Cocinar Pizzas\""
   ]
  },
  {
   "cell_type": "markdown",
   "metadata": {},
   "source": [
    "Success is a lousy teacher. It seduces smart people into thinking they can't lose.\n",
    " --- Bill Gates"
   ]
  },
  {
   "cell_type": "code",
   "execution_count": null,
   "metadata": {
    "vscode": {
     "languageId": "r"
    }
   },
   "outputs": [],
   "source": [
    "# Limpiamos el entorno\n",
    "rm(list = ls())\n",
    "gc(verbose = FALSE)"
   ]
  },
  {
   "cell_type": "code",
   "execution_count": 2,
   "metadata": {
    "vscode": {
     "languageId": "r"
    }
   },
   "outputs": [
    {
     "name": "stderr",
     "output_type": "stream",
     "text": [
      "Loading required package: data.table\n",
      "\n",
      "Loading required package: rpart\n",
      "\n",
      "Loading required package: ggplot2\n",
      "\n",
      "Loading required package: ROCR\n",
      "\n",
      "Loading required package: lubridate\n",
      "\n",
      "\n",
      "Attaching package: 'lubridate'\n",
      "\n",
      "\n",
      "The following objects are masked from 'package:data.table':\n",
      "\n",
      "    hour, isoweek, mday, minute, month, quarter, second, wday, week,\n",
      "    yday, year\n",
      "\n",
      "\n",
      "The following objects are masked from 'package:base':\n",
      "\n",
      "    date, intersect, setdiff, union\n",
      "\n",
      "\n",
      "Loading required package: lhs\n",
      "\n",
      "Loading required package: DiceKriging\n",
      "\n",
      "Loading required package: mlrMBO\n",
      "\n",
      "Loading required package: mlr\n",
      "\n",
      "Loading required package: ParamHelpers\n",
      "\n",
      "Warning message: 'mlr' is in 'maintenance-only' mode since July 2019.\n",
      "Future development will only happen in 'mlr3'\n",
      "(<https://mlr3.mlr-org.com>). Due to the focus on 'mlr3' there might be\n",
      "uncaught bugs meanwhile in {mlr} - please consider switching.\n",
      "\n",
      "\n",
      "Attaching package: 'mlr'\n",
      "\n",
      "\n",
      "The following object is masked from 'package:ROCR':\n",
      "\n",
      "    performance\n",
      "\n",
      "\n",
      "Loading required package: smoof\n",
      "\n",
      "Loading required package: checkmate\n",
      "\n",
      "\n",
      "Attaching package: 'checkmate'\n",
      "\n",
      "\n",
      "The following object is masked from 'package:DiceKriging':\n",
      "\n",
      "    checkNames\n",
      "\n",
      "\n"
     ]
    }
   ],
   "source": [
    "# Librerías necesarias\n",
    "require(\"data.table\")\n",
    "require(\"rpart\")\n",
    "require(\"ggplot2\")\n",
    "require(\"ROCR\")\n",
    "require(\"lubridate\")\n",
    "require(\"lhs\")\n",
    "require(\"DiceKriging\")\n",
    "require(\"mlrMBO\")"
   ]
  },
  {
   "cell_type": "code",
   "execution_count": 3,
   "metadata": {
    "vscode": {
     "languageId": "r"
    }
   },
   "outputs": [],
   "source": [
    "# Aqui se debe poner la carpeta de la materia de SU computadora local\n",
    "setwd(\"C:/Users/German/Desktop/dmeyf2023/German/Clase 1\") # Establezco el Working Directory\n",
    "\n",
    "# Poner sus semillas\n",
    "semillas <- c(279511, 279523, 279541, 279551, 279571)"
   ]
  },
  {
   "cell_type": "code",
   "execution_count": 5,
   "metadata": {
    "vscode": {
     "languageId": "r"
    }
   },
   "outputs": [],
   "source": [
    "# Cargamos el dataset\n",
    "dataset <- fread(\"competencia_01.csv\")\n",
    "\n",
    "# Nos quedamos solo con el 202103\n",
    "dataset <- dataset[foto_mes == 202103]"
   ]
  },
  {
   "cell_type": "code",
   "execution_count": 6,
   "metadata": {
    "vscode": {
     "languageId": "r"
    }
   },
   "outputs": [],
   "source": [
    "# Creamos una clase binaria\n",
    "dataset[, clase_binaria := ifelse(\n",
    "                            clase_ternaria == \"BAJA+2\",\n",
    "                                \"evento\",\n",
    "                                \"noevento\"\n",
    "                            )]\n",
    "# Borramos el target viejo\n",
    "dataset[, clase_ternaria := NULL]"
   ]
  },
  {
   "cell_type": "code",
   "execution_count": 7,
   "metadata": {
    "vscode": {
     "languageId": "r"
    }
   },
   "outputs": [],
   "source": [
    "# Seteamos nuestra primera semilla\n",
    "set.seed(semillas[1])\n",
    "\n",
    "# Particionamos de forma estratificada\n",
    "in_training <- caret::createDataPartition(dataset$clase_binaria,\n",
    "                     p = 0.70, list = FALSE)\n",
    "dtrain  <-  dataset[in_training, ]\n",
    "dtest   <-  dataset[-in_training, ]"
   ]
  },
  {
   "cell_type": "markdown",
   "metadata": {},
   "source": [
    "# Step 2: Nuestra pizza: Un modelo"
   ]
  },
  {
   "cell_type": "code",
   "execution_count": 8,
   "metadata": {
    "vscode": {
     "languageId": "r"
    }
   },
   "outputs": [
    {
     "name": "stdout",
     "output_type": "stream",
     "text": [
      "[1] \"Tiempo de ajuste en train y predict en test\"\n",
      "Time difference of 7.745408 secs\n",
      "[1] \"La ganancia NORMALIZADA de nuestro modelo es:\"\n",
      "[1] 71726667\n"
     ]
    }
   ],
   "source": [
    "# Calculamos cuanto tarda un modelo \"promedio\" entrenar.\n",
    "start_time <- Sys.time()\n",
    "modelo <- rpart(clase_binaria ~ .,\n",
    "                data = dtrain,\n",
    "                xval = 0,\n",
    "                cp = 0,\n",
    "                minsplit = 20,\n",
    "                minbucket = 10,\n",
    "                maxdepth = 10)\n",
    "pred_testing <- predict(modelo, dtest, type = \"prob\")\n",
    "end_time <- Sys.time()\n",
    "model_time <- end_time - start_time\n",
    "print(\"Tiempo de ajuste en train y predict en test\")\n",
    "print(model_time)\n",
    "\n",
    "ganancia <- function(probabilidades, clase) {\n",
    "  return(sum(\n",
    "    (probabilidades >= 0.025) * ifelse(clase == \"evento\", 273000, -7000))\n",
    "  )\n",
    "}\n",
    "\n",
    "print(\"La ganancia NORMALIZADA de nuestro modelo es:\")\n",
    "print(ganancia(pred_testing[, \"evento\"], dtest$clase_binaria) / 0.3)"
   ]
  },
  {
   "cell_type": "markdown",
   "metadata": {},
   "source": [
    "**Preguntas**\n",
    "- ¿Es acaso este el mejor modelo posible?\n",
    "- ¿Dónde lo buscamos el mejor modelo?\n",
    "- ¿Qué parámetros conoce para un árbol de decisión?\n",
    "- ¿Qué espacios de búsqueda tienen los parámetros *maxdepth* y *minsplit*?\n",
    "- ¿Cómo se imagina la interacción entre esto dos últimos parámetros?"
   ]
  },
  {
   "cell_type": "markdown",
   "metadata": {},
   "source": [
    "# Step 3: There Ain't No Such Thing As A Free Lunch"
   ]
  },
  {
   "cell_type": "code",
   "execution_count": 9,
   "metadata": {
    "vscode": {
     "languageId": "r"
    }
   },
   "outputs": [
    {
     "name": "stdout",
     "output_type": "stream",
     "text": [
      "[1] \"2d 7H 22M 46.8034172058105S\"\n",
      "[1] \"226d 3H 12M 26.7348861694336S\"\n"
     ]
    }
   ],
   "source": [
    "# Supongamos que sólo vamos a buscar sobre los parámetros *maxdepth* y\n",
    "# *minsplit*\n",
    "\n",
    "# Tamaño del espacio de búsqueda de *maxdepth*\n",
    "n_md <- 30 - 4\n",
    "# Tamaño del espacio de búsqueda de *minsplit*\n",
    "n_ms <- 200 - 2\n",
    "# Cantidad de semillas\n",
    "n_seeds <- 5\n",
    "\n",
    "# Estimación de cuanto tardaría en buscar el mejor modelo con 2 parámetros.\n",
    "print(seconds_to_period(n_md * n_ms * n_seeds * model_time))\n",
    "\n",
    "# Tamaño del espacio de búsqueda de *minbucket*\n",
    "n_mb <- 100 - 2\n",
    "\n",
    "# Estimación de cuanto tardaría en buscar el mejor modelo con 3 parámetros.\n",
    "print(seconds_to_period(n_md * n_ms * n_seeds * model_time * n_mb))"
   ]
  },
  {
   "cell_type": "markdown",
   "metadata": {},
   "source": [
    "**Preguntas**\n",
    "- ¿Dispone del tiempo para realizar esta búsqueda?\n",
    "- ¿Qué hacemos cuándo un parámetro tiene valores continuos?"
   ]
  },
  {
   "cell_type": "markdown",
   "metadata": {},
   "source": [
    "# Step 4: Empezando a probar con menos casos"
   ]
  },
  {
   "cell_type": "code",
   "execution_count": 10,
   "metadata": {
    "vscode": {
     "languageId": "r"
    }
   },
   "outputs": [
    {
     "data": {
      "image/png": "[encoded data removed]",
      "text/plain": [
       "plot without title"
      ]
     },
     "metadata": {
      "image/png": {
       "height": 420,
       "width": 420
      }
     },
     "output_type": "display_data"
    }
   ],
   "source": [
    "set.seed(semillas[1])\n",
    "dist_uni <- matrix(runif(20), 10, 2)\n",
    "\n",
    "# LHS Latin hypercube sampling\n",
    "set.seed(semillas[1])\n",
    "dist_lhs <- optimumLHS(10, 2)\n",
    "\n",
    "par(mfrow = c(1, 2))\n",
    "plot(dist_uni)\n",
    "plot(dist_lhs)"
   ]
  },
  {
   "cell_type": "markdown",
   "metadata": {},
   "source": [
    "**Preguntas**\n",
    "- ¿Cuál distribución considera mejor? Justifique"
   ]
  },
  {
   "cell_type": "markdown",
   "metadata": {},
   "source": [
    "# Step 5:"
   ]
  },
  {
   "cell_type": "code",
   "execution_count": null,
   "metadata": {
    "vscode": {
     "languageId": "r"
    }
   },
   "outputs": [],
   "source": []
  },
  {
   "cell_type": "code",
   "execution_count": null,
   "metadata": {
    "vscode": {
     "languageId": "r"
    }
   },
   "outputs": [],
   "source": []
  },
  {
   "cell_type": "markdown",
   "metadata": {},
   "source": [
    "# Step 6:"
   ]
  },
  {
   "cell_type": "code",
   "execution_count": null,
   "metadata": {
    "vscode": {
     "languageId": "r"
    }
   },
   "outputs": [],
   "source": []
  },
  {
   "cell_type": "code",
   "execution_count": null,
   "metadata": {
    "vscode": {
     "languageId": "r"
    }
   },
   "outputs": [],
   "source": []
  },
  {
   "cell_type": "code",
   "execution_count": null,
   "metadata": {
    "vscode": {
     "languageId": "r"
    }
   },
   "outputs": [],
   "source": []
  },
  {
   "cell_type": "markdown",
   "metadata": {},
   "source": [
    "# Step 7:"
   ]
  },
  {
   "cell_type": "code",
   "execution_count": null,
   "metadata": {
    "vscode": {
     "languageId": "r"
    }
   },
   "outputs": [],
   "source": []
  },
  {
   "cell_type": "code",
   "execution_count": null,
   "metadata": {
    "vscode": {
     "languageId": "r"
    }
   },
   "outputs": [],
   "source": []
  },
  {
   "cell_type": "code",
   "execution_count": null,
   "metadata": {
    "vscode": {
     "languageId": "r"
    }
   },
   "outputs": [],
   "source": []
  },
  {
   "cell_type": "markdown",
   "metadata": {},
   "source": [
    "# Step 8:\n"
   ]
  },
  {
   "cell_type": "code",
   "execution_count": null,
   "metadata": {
    "vscode": {
     "languageId": "r"
    }
   },
   "outputs": [],
   "source": []
  },
  {
   "cell_type": "code",
   "execution_count": null,
   "metadata": {
    "vscode": {
     "languageId": "r"
    }
   },
   "outputs": [],
   "source": []
  },
  {
   "cell_type": "markdown",
   "metadata": {},
   "source": [
    "# Step 9:"
   ]
  },
  {
   "cell_type": "code",
   "execution_count": null,
   "metadata": {
    "vscode": {
     "languageId": "r"
    }
   },
   "outputs": [],
   "source": []
  },
  {
   "cell_type": "code",
   "execution_count": null,
   "metadata": {
    "vscode": {
     "languageId": "r"
    }
   },
   "outputs": [],
   "source": []
  }
 ],
 "metadata": {
  "kernelspec": {
   "display_name": "R",
   "language": "R",
   "name": "ir"
  },
  "language_info": {
   "codemirror_mode": "r",
   "file_extension": ".r",
   "mimetype": "text/x-r-source",
   "name": "R",
   "pygments_lexer": "r",
   "version": "4.3.1"
  },
  "orig_nbformat": 4
 },
 "nbformat": 4,
 "nbformat_minor": 2
}
