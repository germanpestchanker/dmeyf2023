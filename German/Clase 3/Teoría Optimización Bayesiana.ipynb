{
 "cells": [
  {
   "cell_type": "markdown",
   "metadata": {},
   "source": [
    "# Step 1: Cargando los datos y las librerías"
   ]
  },
  {
   "cell_type": "markdown",
   "metadata": {},
   "source": [
    "\"Sobre Cocinar Pizzas\""
   ]
  },
  {
   "cell_type": "markdown",
   "metadata": {},
   "source": [
    "Success is a lousy teacher. It seduces smart people into thinking they can't lose.\n",
    " --- Bill Gates"
   ]
  },
  {
   "cell_type": "code",
   "execution_count": null,
   "metadata": {
    "vscode": {
     "languageId": "r"
    }
   },
   "outputs": [],
   "source": [
    "# Limpiamos el entorno\n",
    "rm(list = ls())\n",
    "gc(verbose = FALSE)"
   ]
  },
  {
   "cell_type": "code",
   "execution_count": 24,
   "metadata": {
    "vscode": {
     "languageId": "r"
    }
   },
   "outputs": [
    {
     "name": "stderr",
     "output_type": "stream",
     "text": [
      "Installing package into 'C:/Users/German/AppData/Local/R/win-library/4.3'\n",
      "(as 'lib' is unspecified)\n",
      "\n"
     ]
    },
    {
     "name": "stdout",
     "output_type": "stream",
     "text": [
      "package 'rgenoud' successfully unpacked and MD5 sums checked\n",
      "\n",
      "The downloaded binary packages are in\n",
      "\tC:\\Users\\German\\AppData\\Local\\Temp\\RtmpYzRNPU\\downloaded_packages\n"
     ]
    }
   ],
   "source": [
    "install.packages(\"rgenoud\")"
   ]
  },
  {
   "cell_type": "code",
   "execution_count": 25,
   "metadata": {
    "vscode": {
     "languageId": "r"
    }
   },
   "outputs": [
    {
     "name": "stderr",
     "output_type": "stream",
     "text": [
      "Loading required package: rgenoud\n",
      "\n"
     ]
    },
    {
     "name": "stderr",
     "output_type": "stream",
     "text": [
      "##  rgenoud (Version 5.9-0.3, Build Date: 2022-04-19)\n",
      "##  See http://sekhon.berkeley.edu/rgenoud for additional documentation.\n",
      "##  Please cite software as:\n",
      "##   Walter Mebane, Jr. and Jasjeet S. Sekhon. 2011.\n",
      "##   ``Genetic Optimization Using Derivatives: The rgenoud package for R.''\n",
      "##   Journal of Statistical Software, 42(11): 1-26. \n",
      "##\n",
      "\n",
      "\n"
     ]
    }
   ],
   "source": [
    "# Librerías necesarias\n",
    "require(\"data.table\")\n",
    "require(\"rpart\")\n",
    "require(\"ggplot2\")\n",
    "require(\"ROCR\")\n",
    "require(\"lubridate\")\n",
    "require(\"lhs\")\n",
    "require(\"DiceKriging\")\n",
    "require(\"mlrMBO\")\n",
    "require(\"rgenoud\")"
   ]
  },
  {
   "cell_type": "code",
   "execution_count": 3,
   "metadata": {
    "vscode": {
     "languageId": "r"
    }
   },
   "outputs": [],
   "source": [
    "# Aqui se debe poner la carpeta de la materia de SU computadora local\n",
    "setwd(\"C:/Users/German/Desktop/dmeyf2023/German/Clase 1\") # Establezco el Working Directory\n",
    "\n",
    "# Poner sus semillas\n",
    "semillas <- c(279511, 279523, 279541, 279551, 279571)"
   ]
  },
  {
   "cell_type": "code",
   "execution_count": 5,
   "metadata": {
    "vscode": {
     "languageId": "r"
    }
   },
   "outputs": [],
   "source": [
    "# Cargamos el dataset\n",
    "dataset <- fread(\"competencia_01.csv\")\n",
    "\n",
    "# Nos quedamos solo con el 202103\n",
    "dataset <- dataset[foto_mes == 202103]"
   ]
  },
  {
   "cell_type": "code",
   "execution_count": 6,
   "metadata": {
    "vscode": {
     "languageId": "r"
    }
   },
   "outputs": [],
   "source": [
    "# Creamos una clase binaria\n",
    "dataset[, clase_binaria := ifelse(\n",
    "                            clase_ternaria == \"BAJA+2\",\n",
    "                                \"evento\",\n",
    "                                \"noevento\"\n",
    "                            )]\n",
    "# Borramos el target viejo\n",
    "dataset[, clase_ternaria := NULL]"
   ]
  },
  {
   "cell_type": "code",
   "execution_count": 7,
   "metadata": {
    "vscode": {
     "languageId": "r"
    }
   },
   "outputs": [],
   "source": [
    "# Seteamos nuestra primera semilla\n",
    "set.seed(semillas[1])\n",
    "\n",
    "# Particionamos de forma estratificada\n",
    "in_training <- caret::createDataPartition(dataset$clase_binaria,\n",
    "                     p = 0.70, list = FALSE)\n",
    "dtrain  <-  dataset[in_training, ]\n",
    "dtest   <-  dataset[-in_training, ]"
   ]
  },
  {
   "cell_type": "markdown",
   "metadata": {},
   "source": [
    "# Step 2: Nuestra pizza: Un modelo"
   ]
  },
  {
   "cell_type": "code",
   "execution_count": 8,
   "metadata": {
    "vscode": {
     "languageId": "r"
    }
   },
   "outputs": [
    {
     "name": "stdout",
     "output_type": "stream",
     "text": [
      "[1] \"Tiempo de ajuste en train y predict en test\"\n",
      "Time difference of 7.745408 secs\n",
      "[1] \"La ganancia NORMALIZADA de nuestro modelo es:\"\n",
      "[1] 71726667\n"
     ]
    }
   ],
   "source": [
    "# Calculamos cuanto tarda un modelo \"promedio\" entrenar.\n",
    "start_time <- Sys.time()\n",
    "modelo <- rpart(clase_binaria ~ .,\n",
    "                data = dtrain,\n",
    "                xval = 0,\n",
    "                cp = 0,\n",
    "                minsplit = 20,\n",
    "                minbucket = 10,\n",
    "                maxdepth = 10)\n",
    "pred_testing <- predict(modelo, dtest, type = \"prob\")\n",
    "end_time <- Sys.time()\n",
    "model_time <- end_time - start_time\n",
    "print(\"Tiempo de ajuste en train y predict en test\")\n",
    "print(model_time)\n",
    "\n",
    "ganancia <- function(probabilidades, clase) {\n",
    "  return(sum(\n",
    "    (probabilidades >= 0.025) * ifelse(clase == \"evento\", 273000, -7000))\n",
    "  )\n",
    "}\n",
    "\n",
    "print(\"La ganancia NORMALIZADA de nuestro modelo es:\")\n",
    "print(ganancia(pred_testing[, \"evento\"], dtest$clase_binaria) / 0.3)"
   ]
  },
  {
   "cell_type": "markdown",
   "metadata": {},
   "source": [
    "**Preguntas**\n",
    "- ¿Es acaso este el mejor modelo posible?\n",
    "- ¿Dónde lo buscamos el mejor modelo?\n",
    "- ¿Qué parámetros conoce para un árbol de decisión?\n",
    "- ¿Qué espacios de búsqueda tienen los parámetros *maxdepth* y *minsplit*?\n",
    "- ¿Cómo se imagina la interacción entre esto dos últimos parámetros?"
   ]
  },
  {
   "cell_type": "markdown",
   "metadata": {},
   "source": [
    "# Step 3: There Ain't No Such Thing As A Free Lunch"
   ]
  },
  {
   "cell_type": "code",
   "execution_count": 9,
   "metadata": {
    "vscode": {
     "languageId": "r"
    }
   },
   "outputs": [
    {
     "name": "stdout",
     "output_type": "stream",
     "text": [
      "[1] \"2d 7H 22M 46.8034172058105S\"\n",
      "[1] \"226d 3H 12M 26.7348861694336S\"\n"
     ]
    }
   ],
   "source": [
    "# Supongamos que sólo vamos a buscar sobre los parámetros *maxdepth* y\n",
    "# *minsplit*\n",
    "\n",
    "# Tamaño del espacio de búsqueda de *maxdepth*\n",
    "n_md <- 30 - 4\n",
    "# Tamaño del espacio de búsqueda de *minsplit*\n",
    "n_ms <- 200 - 2\n",
    "# Cantidad de semillas\n",
    "n_seeds <- 5\n",
    "\n",
    "# Estimación de cuanto tardaría en buscar el mejor modelo con 2 parámetros.\n",
    "print(seconds_to_period(n_md * n_ms * n_seeds * model_time))\n",
    "\n",
    "# Tamaño del espacio de búsqueda de *minbucket*\n",
    "n_mb <- 100 - 2\n",
    "\n",
    "# Estimación de cuanto tardaría en buscar el mejor modelo con 3 parámetros.\n",
    "print(seconds_to_period(n_md * n_ms * n_seeds * model_time * n_mb))"
   ]
  },
  {
   "cell_type": "markdown",
   "metadata": {},
   "source": [
    "**Preguntas**\n",
    "- ¿Dispone del tiempo para realizar esta búsqueda?\n",
    "- ¿Qué hacemos cuándo un parámetro tiene valores continuos?"
   ]
  },
  {
   "cell_type": "markdown",
   "metadata": {},
   "source": [
    "# Step 4: Empezando a probar con menos casos"
   ]
  },
  {
   "cell_type": "code",
   "execution_count": 10,
   "metadata": {
    "vscode": {
     "languageId": "r"
    }
   },
   "outputs": [
    {
     "data": {
      "image/png": "[encoded data removed]",
      "text/plain": [
       "plot without title"
      ]
     },
     "metadata": {
      "image/png": {
       "height": 420,
       "width": 420
      }
     },
     "output_type": "display_data"
    }
   ],
   "source": [
    "set.seed(semillas[1])\n",
    "dist_uni <- matrix(runif(20), 10, 2)\n",
    "\n",
    "# LHS Latin hypercube sampling\n",
    "set.seed(semillas[1])\n",
    "dist_lhs <- optimumLHS(10, 2)\n",
    "\n",
    "par(mfrow = c(1, 2))\n",
    "plot(dist_uni)\n",
    "plot(dist_lhs)"
   ]
  },
  {
   "cell_type": "markdown",
   "metadata": {},
   "source": [
    "**Preguntas**\n",
    "- ¿Cuál distribución considera mejor? Justifique"
   ]
  },
  {
   "cell_type": "markdown",
   "metadata": {},
   "source": [
    "# Step 5: \"Tomando una muestra de sangre\""
   ]
  },
  {
   "cell_type": "code",
   "execution_count": 11,
   "metadata": {
    "vscode": {
     "languageId": "r"
    }
   },
   "outputs": [],
   "source": [
    "# Armamos una función para modelar con el fin de simplificar el código futuro\n",
    "modelo_rpart <- function(train, test, cp =  0, ms = 20, mb = 1, md = 10) {\n",
    "    modelo <- rpart(clase_binaria ~ ., data = train,\n",
    "                    xval = 0,\n",
    "                    cp = cp,\n",
    "                    minsplit = ms,\n",
    "                    minbucket = mb,\n",
    "                    maxdepth = md)\n",
    "\n",
    "    test_prediccion <- predict(modelo, test, type = \"prob\")\n",
    "    roc_pred <-  ROCR::prediction(test_prediccion[, \"evento\"],\n",
    "                    test$clase_binaria,\n",
    "                                  label.ordering = c(\"noevento\", \"evento\"))\n",
    "    auc_t <-  ROCR::performance(roc_pred, \"auc\")\n",
    "\n",
    "    unlist(auc_t@y.values)\n",
    "}"
   ]
  },
  {
   "cell_type": "code",
   "execution_count": 12,
   "metadata": {
    "vscode": {
     "languageId": "r"
    }
   },
   "outputs": [],
   "source": [
    "# Función para tomar un muestra dejando todos los elementos de la clase BAJA+2\n",
    "tomar_muestra <- function(datos, resto = 10000) {\n",
    "      t <- datos$clase_binaria == \"evento\"\n",
    "      r <- rep(FALSE, length(datos$clase_binaria))\n",
    "      r[!t][sample.int(resto, n = (length(t) - sum(t)))] <- TRUE\n",
    "      t | r\n",
    "}"
   ]
  },
  {
   "cell_type": "code",
   "execution_count": 13,
   "metadata": {
    "vscode": {
     "languageId": "r"
    }
   },
   "outputs": [
    {
     "data": {
      "text/plain": [
       "\n",
       "  evento noevento \n",
       "    1049    10000 "
      ]
     },
     "metadata": {},
     "output_type": "display_data"
    }
   ],
   "source": [
    "set.seed(semillas[1])\n",
    "ds_sample <- tomar_muestra(dataset)\n",
    "table(dataset[ds_sample]$clase_binaria)\n"
   ]
  },
  {
   "cell_type": "markdown",
   "metadata": {},
   "source": [
    "**Preguntas**\n",
    "- ¿Qué tipo de muestre se tomó?\n",
    "- ¿Hay mejores formas de muestrear?\n",
    "- ¿Es bueno muestrear?\n",
    "- ¿Qué efectos en las métricas va a producir el muestreo?\n",
    "- ¿Por qué se eligió usar el AUC?\n",
    "- ¿Qué hay que cambiar en la función de ganancia para poder utilizarla?"
   ]
  },
  {
   "cell_type": "markdown",
   "metadata": {},
   "source": [
    "# Step 6: Comparando tiempos con o sin muestras"
   ]
  },
  {
   "cell_type": "code",
   "execution_count": 14,
   "metadata": {
    "vscode": {
     "languageId": "r"
    }
   },
   "outputs": [
    {
     "name": "stdout",
     "output_type": "stream",
     "text": [
      "[1] \"Train entero\"\n",
      "Time difference of 8.149401 secs\n",
      "[1] 0.8767164\n"
     ]
    }
   ],
   "source": [
    "t0 <- Sys.time()\n",
    "r1 <- modelo_rpart(dtrain, dtest)\n",
    "t1 <- Sys.time()\n",
    "print(\"Train entero\")\n",
    "print(t1 - t0)\n",
    "print(r1)"
   ]
  },
  {
   "cell_type": "code",
   "execution_count": 15,
   "metadata": {
    "vscode": {
     "languageId": "r"
    }
   },
   "outputs": [],
   "source": [
    "set.seed(semillas[1])\n",
    "dtrain_sample <- tomar_muestra(dtrain)"
   ]
  },
  {
   "cell_type": "code",
   "execution_count": 16,
   "metadata": {
    "vscode": {
     "languageId": "r"
    }
   },
   "outputs": [
    {
     "name": "stdout",
     "output_type": "stream",
     "text": [
      "[1] \"Muestra train\"\n",
      "Time difference of 0.8057709 secs\n",
      "[1] 0.8582668\n"
     ]
    }
   ],
   "source": [
    "t0 <- Sys.time()\n",
    "r2 <- modelo_rpart(dtrain[dtrain_sample, ], dtest)\n",
    "t1 <- Sys.time()\n",
    "print(\"Muestra train\")\n",
    "print(t1 - t0)\n",
    "print(r2)"
   ]
  },
  {
   "cell_type": "markdown",
   "metadata": {},
   "source": [
    "Preguntas\n",
    "- ¿Por qué sólo se muestrea train?"
   ]
  },
  {
   "cell_type": "markdown",
   "metadata": {},
   "source": [
    "# Step 7: Buscando el mejor modelo con muestras aleatorias LHS"
   ]
  },
  {
   "cell_type": "code",
   "execution_count": 17,
   "metadata": {
    "vscode": {
     "languageId": "r"
    }
   },
   "outputs": [],
   "source": [
    "# Una función auxiliar para los experimentos\n",
    "experimento_rpart <- function(ds, semillas, cp = 0, ms = 20, mb = 1, md = 10) {\n",
    "  auc <- c()\n",
    "  for (s in semillas) {\n",
    "    set.seed(s)\n",
    "    in_training <- caret::createDataPartition(ds$clase_binaria, p = 0.70,\n",
    "        list = FALSE)\n",
    "    train  <-  ds[in_training, ]\n",
    "    test   <-  ds[-in_training, ]\n",
    "    train_sample <- tomar_muestra(train)\n",
    "    r <- modelo_rpart(train[train_sample,], test, \n",
    "                    cp = cp, ms = ms, mb = mb, md = md)\n",
    "    auc <- c(auc, r)\n",
    "  }\n",
    "  mean(auc)\n",
    "}"
   ]
  },
  {
   "cell_type": "code",
   "execution_count": 18,
   "metadata": {
    "vscode": {
     "languageId": "r"
    }
   },
   "outputs": [
    {
     "name": "stdout",
     "output_type": "stream",
     "text": [
      "    md  ms       auc\n",
      " 1: 12  54 0.8711736\n",
      " 2: 18  79 0.8700500\n",
      " 3:  6 150 0.8759515\n",
      " 4: 16 188 0.8817030\n",
      " 5:  5 183 0.8638452\n",
      " 6: 13 139 0.8807381\n",
      " 7:  9  20 0.8658259\n",
      " 8: 18 132 0.8773719\n",
      " 9:  8  36 0.8724344\n",
      "10:  4  30 0.8488628\n",
      "11: 12 112 0.8790455\n",
      "12: 10 128 0.8805852\n",
      "13:  6  11 0.8731927\n",
      "14:  7  67 0.8774589\n",
      "15:  9  95 0.8817945\n",
      "16: 17  64 0.8683098\n",
      "17: 11  89 0.8792865\n",
      "18: 14  43 0.8578880\n",
      "19: 15 154 0.8804674\n",
      "20: 11 166 0.8818118\n",
      "21: 14 117 0.8782123\n",
      "22: 13 170 0.8802753\n",
      "23: 16   8 0.7318961\n",
      "24:  4 100 0.8492096\n",
      "25:  7 194 0.8770694\n",
      "    md  ms       auc\n"
     ]
    },
    {
     "data": {
      "image/png": "[encoded data removed]",
      "text/plain": [
       "plot without title"
      ]
     },
     "metadata": {
      "image/png": {
       "height": 420,
       "width": 420
      }
     },
     "output_type": "display_data"
    }
   ],
   "source": [
    "# Haremos 25 experimentos aleatorios, armamos las muestras de acuerdo a como\n",
    "# son las entradas de nuestro experimento.\n",
    "\n",
    "set.seed(semillas[1])\n",
    "cantidad_puntos <- 25\n",
    "espacio_busqueda_1 <- optimumLHS(cantidad_puntos, 2)\n",
    "\n",
    "# la primera columna es para el maxdepth, y la segunda para el minslip\n",
    "espacio_busqueda_1[, 1] <- floor(15 * espacio_busqueda_1[, 1]) + 4\n",
    "espacio_busqueda_1[, 2] <- floor(200 * espacio_busqueda_1[, 2]) + 2\n",
    "\n",
    "resultados_random_search <- data.table()\n",
    "for (e in 1:cantidad_puntos) {\n",
    "  r <- experimento_rpart(dataset, semillas,\n",
    "                        ms = espacio_busqueda_1[e, 2],\n",
    "                        md = espacio_busqueda_1[e, 1])\n",
    "  resultados_random_search <- rbindlist(list(resultados_random_search,\n",
    "                  data.table(\n",
    "                    md = espacio_busqueda_1[e, 1],\n",
    "                    ms = espacio_busqueda_1[e, 2],\n",
    "                    auc = r)\n",
    "  ))\n",
    "}\n",
    "\n",
    "print(resultados_random_search)\n",
    "ggplot(resultados_random_search, aes(x = md, y = ms, color = auc)) +\n",
    "    scale_color_gradient(low = \"blue\", high = \"red\") +\n",
    "    geom_point(aes(size = auc))"
   ]
  },
  {
   "cell_type": "markdown",
   "metadata": {},
   "source": [
    "Preguntas\n",
    "- ¿Hay alguna zona dónde parece que hay más ganancia?\n",
    "- ¿Cómo podemos continuar nuestra búsqueda?"
   ]
  },
  {
   "cell_type": "markdown",
   "metadata": {},
   "source": [
    "# Step 8: Trabajando con herramientas más profesionales\n"
   ]
  },
  {
   "cell_type": "code",
   "execution_count": 26,
   "metadata": {
    "vscode": {
     "languageId": "r"
    }
   },
   "outputs": [
    {
     "name": "stderr",
     "output_type": "stream",
     "text": [
      "Evaluating true objective function at 100 points.\n",
      "\n",
      "Performing MBO on function.\n",
      "\n",
      "Learner: regr.km. Settings:\n",
      "jitter=FALSE,covtype=matern3_2,optim.method=gen,nugget.stability=1e-08\n",
      "\n",
      "Computing y column(s) for design. Not provided.\n",
      "\n",
      "[mbo] 0: x=6.86 : y = 0.542 : 0.0 secs : initdesign\n",
      "\n",
      "[mbo] 0: x=5.6 : y = -0.629 : 0.0 secs : initdesign\n",
      "\n",
      "[mbo] 0: x=12.8 : y = 0.217 : 0.0 secs : initdesign\n",
      "\n",
      "[mbo] 0: x=10.9 : y = -0.994 : 0.0 secs : initdesign\n",
      "\n",
      "[mbo] 0: x=3.35 : y = -0.203 : 0.0 secs : initdesign\n",
      "\n",
      "[mbo] 0: x=8.22 : y = 0.935 : 0.0 secs : initdesign\n",
      "\n"
     ]
    },
    {
     "name": "stdout",
     "output_type": "stream",
     "text": [
      "\n",
      "optimisation start\n",
      "------------------\n",
      "* estimation method   : MLE \n",
      "* optimisation method : gen \n",
      "* analytical gradient : used\n",
      "* trend model : ~1\n",
      "* covariance model : \n",
      "  - type :  matern3_2 \n",
      "  - nugget : 5.272435e-09 \n",
      "  - parameters lower bounds :  1e-10 \n",
      "  - parameters upper bounds :  18.8782 \n",
      "  - variance bounds :  0.02547322 5.272435 \n",
      "  - best initial criterion value(s) :  -6.271795 \n",
      "\n",
      "\n",
      "Wed Aug 30 00:04:36 2023\n",
      "Domains:\n",
      " 1.000000e-10   <=  X1   <=    1.887820e+01 \n",
      " 2.547322e-02   <=  X2   <=    5.272435e+00 \n",
      "\n",
      "Data Type: Floating Point\n",
      "Operators (code number, name, population) \n",
      "\t(1) Cloning........................... \t3\n",
      "\t(2) Uniform Mutation.................. \t0\n",
      "\t(3) Boundary Mutation................. \t0\n",
      "\t(4) Non-Uniform Mutation.............. \t0\n",
      "\t(5) Polytope Crossover................ \t0\n",
      "\t(6) Simple Crossover.................. \t0\n",
      "\t(7) Whole Non-Uniform Mutation........ \t0\n",
      "\t(8) Heuristic Crossover............... \t0\n",
      "\t(9) Local-Minimum Crossover........... \t0\n",
      "\n",
      "HARD Maximum Number of Generations: 5\n",
      "Maximum Nonchanging Generations: 2\n",
      "Population size       : 4\n",
      "Convergence Tolerance: 1.000000e-03\n",
      "\n",
      "Using the BFGS Derivative Based Optimizer on the Best Individual Each Generation.\n",
      "Not Checking Gradients before Stopping.\n",
      "Not Using Out of Bounds Individuals and Not Allowing Trespassing.\n",
      "\n",
      "Maximization Problem.\n",
      "\n",
      "\n",
      "Generation#\t    Solution Value\n",
      "\n",
      "      0 \t-6.271795e+00\n",
      "      1 \t-6.043818e+00\n",
      "\n",
      "'wait.generations' limit reached.\n",
      "No significant improvement in 2 generations.\n",
      "\n",
      "Solution Fitness Value: -6.043818e+00\n",
      "\n",
      "Parameters at the Solution (parameter, gradient):\n",
      "\n",
      " X[ 1] :\t5.516898e-01\tG[ 1] :\t-7.080400e-09\n",
      " X[ 2] :\t4.401058e-01\tG[ 2] :\t-7.671979e-09\n",
      "\n",
      "Solution Found Generation 1\n",
      "Number of Generations Run 4\n",
      "\n",
      "Wed Aug 30 00:04:36 2023\n",
      "Total run time : 0 hours 0 minutes and 0 seconds\n"
     ]
    },
    {
     "name": "stderr",
     "output_type": "stream",
     "text": [
      "[mbo] 1: x=10.6 : y = -0.927 : 0.0 secs : infill_ei\n",
      "\n"
     ]
    },
    {
     "name": "stdout",
     "output_type": "stream",
     "text": [
      "\n",
      "optimisation start\n",
      "------------------\n",
      "* estimation method   : MLE \n",
      "* optimisation method : gen \n",
      "* analytical gradient : used\n",
      "* trend model : ~1\n",
      "* covariance model : \n",
      "  - type :  matern3_2 \n",
      "  - nugget : 5.564978e-09 \n",
      "  - parameters lower bounds :  1e-10 \n",
      "  - parameters upper bounds :  18.8782 \n",
      "  - variance bounds :  0.03269355 5.564978 \n",
      "  - best initial criterion value(s) :  -6.278113 \n",
      "\n",
      "\n",
      "Wed Aug 30 00:04:37 2023\n",
      "Domains:\n",
      " 1.000000e-10   <=  X1   <=    1.887820e+01 \n",
      " 3.269355e-02   <=  X2   <=    5.564978e+00 \n",
      "\n",
      "Data Type: Floating Point\n",
      "Operators (code number, name, population) \n",
      "\t(1) Cloning........................... \t3\n",
      "\t(2) Uniform Mutation.................. \t0\n",
      "\t(3) Boundary Mutation................. \t0\n",
      "\t(4) Non-Uniform Mutation.............. \t0\n",
      "\t(5) Polytope Crossover................ \t0\n",
      "\t(6) Simple Crossover.................. \t0\n",
      "\t(7) Whole Non-Uniform Mutation........ \t0\n",
      "\t(8) Heuristic Crossover............... \t0\n",
      "\t(9) Local-Minimum Crossover........... \t0\n",
      "\n",
      "HARD Maximum Number of Generations: 5\n",
      "Maximum Nonchanging Generations: 2\n",
      "Population size       : 4\n",
      "Convergence Tolerance: 1.000000e-03\n",
      "\n",
      "Using the BFGS Derivative Based Optimizer on the Best Individual Each Generation.\n",
      "Not Checking Gradients before Stopping.\n",
      "Not Using Out of Bounds Individuals and Not Allowing Trespassing.\n",
      "\n",
      "Maximization Problem.\n",
      "\n",
      "\n",
      "Generation#\t    Solution Value\n",
      "\n",
      "      0 \t-6.278113e+00\n",
      "      1 \t-5.745220e+00\n",
      "\n",
      "'wait.generations' limit reached.\n",
      "No significant improvement in 2 generations.\n",
      "\n",
      "Solution Fitness Value: -5.745220e+00\n",
      "\n",
      "Parameters at the Solution (parameter, gradient):\n",
      "\n",
      " X[ 1] :\t1.040456e+00\tG[ 1] :\t2.248985e-08\n",
      " X[ 2] :\t4.179576e-01\tG[ 2] :\t2.654197e-08\n",
      "\n",
      "Solution Found Generation 1\n",
      "Number of Generations Run 4\n",
      "\n",
      "Wed Aug 30 00:04:37 2023\n",
      "Total run time : 0 hours 0 minutes and 0 seconds\n"
     ]
    },
    {
     "name": "stderr",
     "output_type": "stream",
     "text": [
      "[mbo] 2: x=11.3 : y = -0.958 : 0.0 secs : infill_ei\n",
      "\n"
     ]
    },
    {
     "name": "stdout",
     "output_type": "stream",
     "text": [
      "\n",
      "optimisation start\n",
      "------------------\n",
      "* estimation method   : MLE \n",
      "* optimisation method : gen \n",
      "* analytical gradient : used\n",
      "* trend model : ~1\n",
      "* covariance model : \n",
      "  - type :  matern3_2 \n",
      "  - nugget : 5.583179e-09 \n",
      "  - parameters lower bounds :  1e-10 \n",
      "  - parameters upper bounds :  18.8782 \n",
      "  - variance bounds :  0.04151783 5.583179 \n",
      "  - best initial criterion value(s) :  -5.996528 \n",
      "\n",
      "\n",
      "Wed Aug 30 00:04:37 2023\n",
      "Domains:\n",
      " 1.000000e-10   <=  X1   <=    1.887820e+01 \n",
      " 4.151783e-02   <=  X2   <=    5.583179e+00 \n",
      "\n",
      "Data Type: Floating Point\n",
      "Operators (code number, name, population) \n",
      "\t(1) Cloning........................... \t3\n",
      "\t(2) Uniform Mutation.................. \t0\n",
      "\t(3) Boundary Mutation................. \t0\n",
      "\t(4) Non-Uniform Mutation.............. \t0\n",
      "\t(5) Polytope Crossover................ \t0\n",
      "\t(6) Simple Crossover.................. \t0\n",
      "\t(7) Whole Non-Uniform Mutation........ \t0\n",
      "\t(8) Heuristic Crossover............... \t0\n",
      "\t(9) Local-Minimum Crossover........... \t0\n",
      "\n",
      "HARD Maximum Number of Generations: 5\n",
      "Maximum Nonchanging Generations: 2\n",
      "Population size       : 4\n",
      "Convergence Tolerance: 1.000000e-03\n",
      "\n",
      "Using the BFGS Derivative Based Optimizer on the Best Individual Each Generation.\n",
      "Not Checking Gradients before Stopping.\n",
      "Not Using Out of Bounds Individuals and Not Allowing Trespassing.\n",
      "\n",
      "Maximization Problem.\n",
      "\n",
      "\n",
      "Generation#\t    Solution Value\n",
      "\n",
      "      0 \t-5.996528e+00\n",
      "      1 \t-5.384941e+00\n",
      "\n",
      "'wait.generations' limit reached.\n",
      "No significant improvement in 2 generations.\n",
      "\n",
      "Solution Fitness Value: -5.384941e+00\n",
      "\n",
      "Parameters at the Solution (parameter, gradient):\n",
      "\n",
      " X[ 1] :\t1.400836e+00\tG[ 1] :\t2.775012e-06\n",
      " X[ 2] :\t4.576979e-01\tG[ 2] :\t1.798122e-06\n",
      "\n",
      "Solution Found Generation 1\n",
      "Number of Generations Run 4\n",
      "\n",
      "Wed Aug 30 00:04:37 2023\n",
      "Total run time : 0 hours 0 minutes and 0 seconds\n"
     ]
    },
    {
     "name": "stderr",
     "output_type": "stream",
     "text": [
      "[mbo] 3: x=4.76 : y = -0.999 : 0.0 secs : infill_ei\n",
      "\n"
     ]
    },
    {
     "name": "stdout",
     "output_type": "stream",
     "text": [
      "\n",
      "optimisation start\n",
      "------------------\n",
      "* estimation method   : MLE \n",
      "* optimisation method : gen \n",
      "* analytical gradient : used\n",
      "* trend model : ~1\n",
      "* covariance model : \n",
      "  - type :  matern3_2 \n",
      "  - nugget : 5.505036e-09 \n",
      "  - parameters lower bounds :  1e-10 \n",
      "  - parameters upper bounds :  18.8782 \n",
      "  - variance bounds :  0.03641866 5.505035 \n",
      "  - best initial criterion value(s) :  -12.67779 \n",
      "\n",
      "\n",
      "Wed Aug 30 00:04:38 2023\n",
      "Domains:\n",
      " 1.000000e-10   <=  X1   <=    1.887820e+01 \n",
      " 3.641866e-02   <=  X2   <=    5.505035e+00 \n",
      "\n",
      "Data Type: Floating Point\n",
      "Operators (code number, name, population) \n",
      "\t(1) Cloning........................... \t3\n",
      "\t(2) Uniform Mutation.................. \t0\n",
      "\t(3) Boundary Mutation................. \t0\n",
      "\t(4) Non-Uniform Mutation.............. \t0\n",
      "\t(5) Polytope Crossover................ \t0\n",
      "\t(6) Simple Crossover.................. \t0\n",
      "\t(7) Whole Non-Uniform Mutation........ \t0\n",
      "\t(8) Heuristic Crossover............... \t0\n",
      "\t(9) Local-Minimum Crossover........... \t0\n",
      "\n",
      "HARD Maximum Number of Generations: 5\n",
      "Maximum Nonchanging Generations: 2\n",
      "Population size       : 4\n",
      "Convergence Tolerance: 1.000000e-03\n",
      "\n",
      "Using the BFGS Derivative Based Optimizer on the Best Individual Each Generation.\n",
      "Not Checking Gradients before Stopping.\n",
      "Not Using Out of Bounds Individuals and Not Allowing Trespassing.\n",
      "\n",
      "Maximization Problem.\n",
      "\n",
      "\n",
      "Generation#\t    Solution Value\n",
      "\n",
      "      0 \t-7.559351e+00\n",
      "      1 \t-5.854769e+00\n",
      "\n",
      "'wait.generations' limit reached.\n",
      "No significant improvement in 2 generations.\n",
      "\n",
      "Solution Fitness Value: -5.854769e+00\n",
      "\n",
      "Parameters at the Solution (parameter, gradient):\n",
      "\n",
      " X[ 1] :\t1.658928e+00\tG[ 1] :\t-1.420251e-07\n",
      " X[ 2] :\t5.384744e-01\tG[ 2] :\t-1.132747e-08\n",
      "\n",
      "Solution Found Generation 1\n",
      "Number of Generations Run 4\n",
      "\n",
      "Wed Aug 30 00:04:38 2023\n",
      "Total run time : 0 hours 0 minutes and 0 seconds\n"
     ]
    },
    {
     "name": "stderr",
     "output_type": "stream",
     "text": [
      "[mbo] 4: x=4.99 : y = -0.962 : 0.0 secs : infill_ei\n",
      "\n"
     ]
    },
    {
     "name": "stdout",
     "output_type": "stream",
     "text": [
      "\n",
      "optimisation start\n",
      "------------------\n",
      "* estimation method   : MLE \n",
      "* optimisation method : gen \n",
      "* analytical gradient : used\n",
      "* trend model : ~1\n",
      "* covariance model : \n",
      "  - type :  matern3_2 \n",
      "  - nugget : 5.286114e-09 \n",
      "  - parameters lower bounds :  1e-10 \n",
      "  - parameters upper bounds :  18.8782 \n",
      "  - variance bounds :  0.03296095 5.286114 \n",
      "  - best initial criterion value(s) :  -10.09012 \n",
      "\n",
      "\n",
      "Wed Aug 30 00:04:38 2023\n",
      "Domains:\n",
      " 1.000000e-10   <=  X1   <=    1.887820e+01 \n",
      " 3.296095e-02   <=  X2   <=    5.286114e+00 \n",
      "\n",
      "Data Type: Floating Point\n",
      "Operators (code number, name, population) \n",
      "\t(1) Cloning........................... \t3\n",
      "\t(2) Uniform Mutation.................. \t0\n",
      "\t(3) Boundary Mutation................. \t0\n",
      "\t(4) Non-Uniform Mutation.............. \t0\n",
      "\t(5) Polytope Crossover................ \t0\n",
      "\t(6) Simple Crossover.................. \t0\n",
      "\t(7) Whole Non-Uniform Mutation........ \t0\n",
      "\t(8) Heuristic Crossover............... \t0\n",
      "\t(9) Local-Minimum Crossover........... \t0\n",
      "\n",
      "HARD Maximum Number of Generations: 5\n",
      "Maximum Nonchanging Generations: 2\n",
      "Population size       : 4\n",
      "Convergence Tolerance: 1.000000e-03\n",
      "\n",
      "Using the BFGS Derivative Based Optimizer on the Best Individual Each Generation.\n",
      "Not Checking Gradients before Stopping.\n",
      "Not Using Out of Bounds Individuals and Not Allowing Trespassing.\n",
      "\n",
      "Maximization Problem.\n",
      "\n",
      "\n",
      "Generation#\t    Solution Value\n",
      "\n",
      "      0 \t-9.095959e+00\n",
      "      1 \t-4.401345e+00\n",
      "\n",
      "'wait.generations' limit reached.\n",
      "No significant improvement in 2 generations.\n",
      "\n",
      "Solution Fitness Value: -4.401345e+00\n",
      "\n",
      "Parameters at the Solution (parameter, gradient):\n",
      "\n",
      " X[ 1] :\t1.981347e+00\tG[ 1] :\t-2.310868e-07\n",
      " X[ 2] :\t6.085686e-01\tG[ 2] :\t1.934167e-07\n",
      "\n",
      "Solution Found Generation 1\n",
      "Number of Generations Run 4\n",
      "\n",
      "Wed Aug 30 00:04:38 2023\n",
      "Total run time : 0 hours 0 minutes and 0 seconds\n"
     ]
    },
    {
     "name": "stderr",
     "output_type": "stream",
     "text": [
      "[mbo] 5: x=4.47 : y = -0.971 : 0.0 secs : infill_ei\n",
      "\n"
     ]
    },
    {
     "name": "stdout",
     "output_type": "stream",
     "text": [
      "\n",
      "optimisation start\n",
      "------------------\n",
      "* estimation method   : MLE \n",
      "* optimisation method : gen \n",
      "* analytical gradient : used\n",
      "* trend model : ~1\n",
      "* covariance model : \n",
      "  - type :  matern3_2 \n",
      "  - nugget : 5.055668e-09 \n",
      "  - parameters lower bounds :  1e-10 \n",
      "  - parameters upper bounds :  18.8782 \n",
      "  - variance bounds :  0.03619676 5.055668 \n",
      "  - best initial criterion value(s) :  -4.037319 \n",
      "\n",
      "\n",
      "Wed Aug 30 00:04:38 2023\n",
      "Domains:\n",
      " 1.000000e-10   <=  X1   <=    1.887820e+01 \n",
      " 3.619676e-02   <=  X2   <=    5.055668e+00 \n",
      "\n",
      "Data Type: Floating Point\n",
      "Operators (code number, name, population) \n",
      "\t(1) Cloning........................... \t3\n",
      "\t(2) Uniform Mutation.................. \t0\n",
      "\t(3) Boundary Mutation................. \t0\n",
      "\t(4) Non-Uniform Mutation.............. \t0\n",
      "\t(5) Polytope Crossover................ \t0\n",
      "\t(6) Simple Crossover.................. \t0\n",
      "\t(7) Whole Non-Uniform Mutation........ \t0\n",
      "\t(8) Heuristic Crossover............... \t0\n",
      "\t(9) Local-Minimum Crossover........... \t0\n",
      "\n",
      "HARD Maximum Number of Generations: 5\n",
      "Maximum Nonchanging Generations: 2\n",
      "Population size       : 4\n",
      "Convergence Tolerance: 1.000000e-03\n",
      "\n",
      "Using the BFGS Derivative Based Optimizer on the Best Individual Each Generation.\n",
      "Not Checking Gradients before Stopping.\n",
      "Not Using Out of Bounds Individuals and Not Allowing Trespassing.\n",
      "\n",
      "Maximization Problem.\n",
      "\n",
      "\n",
      "Generation#\t    Solution Value\n",
      "\n",
      "      0 \t-4.037319e+00\n",
      "      1 \t-3.038155e+00\n",
      "\n",
      "'wait.generations' limit reached.\n",
      "No significant improvement in 2 generations.\n",
      "\n",
      "Solution Fitness Value: -3.038155e+00\n",
      "\n",
      "Parameters at the Solution (parameter, gradient):\n",
      "\n",
      " X[ 1] :\t2.302900e+00\tG[ 1] :\t2.497844e-08\n",
      " X[ 2] :\t7.089036e-01\tG[ 2] :\t-4.513763e-08\n",
      "\n",
      "Solution Found Generation 1\n",
      "Number of Generations Run 4\n",
      "\n",
      "Wed Aug 30 00:04:38 2023\n",
      "Total run time : 0 hours 0 minutes and 0 seconds\n"
     ]
    },
    {
     "name": "stderr",
     "output_type": "stream",
     "text": [
      "[mbo] 6: x=11.1 : y = -0.998 : 0.0 secs : infill_ei\n",
      "\n"
     ]
    },
    {
     "name": "stdout",
     "output_type": "stream",
     "text": [
      "\n",
      "optimisation start\n",
      "------------------\n",
      "* estimation method   : MLE \n",
      "* optimisation method : gen \n",
      "* analytical gradient : used\n",
      "* trend model : ~1\n",
      "* covariance model : \n",
      "  - type :  matern3_2 \n",
      "  - nugget : 4.846441e-09 \n",
      "  - parameters lower bounds :  1e-10 \n",
      "  - parameters upper bounds :  18.8782 \n",
      "  - variance bounds :  0.03437544 4.846441 \n",
      "  - best initial criterion value(s) :  -48.92118 \n",
      "\n",
      "\n",
      "Wed Aug 30 00:04:39 2023\n",
      "Domains:\n",
      " 1.000000e-10   <=  X1   <=    1.887820e+01 \n",
      " 3.437544e-02   <=  X2   <=    4.846441e+00 \n",
      "\n",
      "Data Type: Floating Point\n",
      "Operators (code number, name, population) \n",
      "\t(1) Cloning........................... \t3\n",
      "\t(2) Uniform Mutation.................. \t0\n",
      "\t(3) Boundary Mutation................. \t0\n",
      "\t(4) Non-Uniform Mutation.............. \t0\n",
      "\t(5) Polytope Crossover................ \t0\n",
      "\t(6) Simple Crossover.................. \t0\n",
      "\t(7) Whole Non-Uniform Mutation........ \t0\n",
      "\t(8) Heuristic Crossover............... \t0\n",
      "\t(9) Local-Minimum Crossover........... \t0\n",
      "\n",
      "HARD Maximum Number of Generations: 5\n",
      "Maximum Nonchanging Generations: 2\n",
      "Population size       : 4\n",
      "Convergence Tolerance: 1.000000e-03\n",
      "\n",
      "Using the BFGS Derivative Based Optimizer on the Best Individual Each Generation.\n",
      "Not Checking Gradients before Stopping.\n",
      "Not Using Out of Bounds Individuals and Not Allowing Trespassing.\n",
      "\n",
      "Maximization Problem.\n",
      "\n",
      "\n",
      "Generation#\t    Solution Value\n",
      "\n",
      "      0 \t-1.299038e+01\n",
      "      1 \t-3.772049e-01\n",
      "\n",
      "'wait.generations' limit reached.\n",
      "No significant improvement in 2 generations.\n",
      "\n",
      "Solution Fitness Value: -3.772049e-01\n",
      "\n",
      "Parameters at the Solution (parameter, gradient):\n",
      "\n",
      " X[ 1] :\t2.642382e+00\tG[ 1] :\t8.456834e-08\n",
      " X[ 2] :\t8.291258e-01\tG[ 2] :\t2.783124e-08\n",
      "\n",
      "Solution Found Generation 1\n",
      "Number of Generations Run 4\n",
      "\n",
      "Wed Aug 30 00:04:39 2023\n",
      "Total run time : 0 hours 0 minutes and 0 seconds\n"
     ]
    },
    {
     "name": "stderr",
     "output_type": "stream",
     "text": [
      "[mbo] 7: x=4.65 : y = -0.998 : 0.0 secs : infill_ei\n",
      "\n"
     ]
    },
    {
     "name": "stdout",
     "output_type": "stream",
     "text": [
      "\n",
      "optimisation start\n",
      "------------------\n",
      "* estimation method   : MLE \n",
      "* optimisation method : gen \n",
      "* analytical gradient : used\n",
      "* trend model : ~1\n",
      "* covariance model : \n",
      "  - type :  matern3_2 \n",
      "  - nugget : 4.636586e-09 \n",
      "  - parameters lower bounds :  1e-10 \n",
      "  - parameters upper bounds :  18.8782 \n",
      "  - variance bounds :  0.03577606 4.636586 \n",
      "  - best initial criterion value(s) :  -0.3939174 \n",
      "\n",
      "\n",
      "Wed Aug 30 00:04:39 2023\n",
      "Domains:\n",
      " 1.000000e-10   <=  X1   <=    1.887820e+01 \n",
      " 3.577606e-02   <=  X2   <=    4.636586e+00 \n",
      "\n",
      "Data Type: Floating Point\n",
      "Operators (code number, name, population) \n",
      "\t(1) Cloning........................... \t3\n",
      "\t(2) Uniform Mutation.................. \t0\n",
      "\t(3) Boundary Mutation................. \t0\n",
      "\t(4) Non-Uniform Mutation.............. \t0\n",
      "\t(5) Polytope Crossover................ \t0\n",
      "\t(6) Simple Crossover.................. \t0\n",
      "\t(7) Whole Non-Uniform Mutation........ \t0\n",
      "\t(8) Heuristic Crossover............... \t0\n",
      "\t(9) Local-Minimum Crossover........... \t0\n",
      "\n",
      "HARD Maximum Number of Generations: 5\n",
      "Maximum Nonchanging Generations: 2\n",
      "Population size       : 4\n",
      "Convergence Tolerance: 1.000000e-03\n",
      "\n",
      "Using the BFGS Derivative Based Optimizer on the Best Individual Each Generation.\n",
      "Not Checking Gradients before Stopping.\n",
      "Not Using Out of Bounds Individuals and Not Allowing Trespassing.\n",
      "\n",
      "Maximization Problem.\n",
      "\n",
      "\n",
      "Generation#\t    Solution Value\n",
      "\n",
      "      0 \t-3.939174e-01\n",
      "      1 \t2.925616e+00\n",
      "\n",
      "'wait.generations' limit reached.\n",
      "No significant improvement in 2 generations.\n",
      "\n",
      "Solution Fitness Value: 2.925616e+00\n",
      "\n",
      "Parameters at the Solution (parameter, gradient):\n",
      "\n",
      " X[ 1] :\t2.980627e+00\tG[ 1] :\t-6.043490e-08\n",
      " X[ 2] :\t9.680835e-01\tG[ 2] :\t-3.681178e-08\n",
      "\n",
      "Solution Found Generation 1\n",
      "Number of Generations Run 4\n",
      "\n",
      "Wed Aug 30 00:04:39 2023\n",
      "Total run time : 0 hours 0 minutes and 0 seconds\n"
     ]
    },
    {
     "name": "stderr",
     "output_type": "stream",
     "text": [
      "[mbo] 8: x=11 : y = -1 : 0.0 secs : infill_ei\n",
      "\n"
     ]
    },
    {
     "name": "stdout",
     "output_type": "stream",
     "text": [
      "\n",
      "optimisation start\n",
      "------------------\n",
      "* estimation method   : MLE \n",
      "* optimisation method : gen \n",
      "* analytical gradient : used\n",
      "* trend model : ~1\n",
      "* covariance model : \n",
      "  - type :  matern3_2 \n",
      "  - nugget : 4.43482e-09 \n",
      "  - parameters lower bounds :  1e-10 \n",
      "  - parameters upper bounds :  18.8782 \n",
      "  - variance bounds :  0.03035779 4.43482 \n",
      "  - best initial criterion value(s) :  5.694509 \n",
      "\n",
      "\n",
      "Wed Aug 30 00:04:39 2023\n",
      "Domains:\n",
      " 1.000000e-10   <=  X1   <=    1.887820e+01 \n",
      " 3.035779e-02   <=  X2   <=    4.434820e+00 \n",
      "\n",
      "Data Type: Floating Point\n",
      "Operators (code number, name, population) \n",
      "\t(1) Cloning........................... \t3\n",
      "\t(2) Uniform Mutation.................. \t0\n",
      "\t(3) Boundary Mutation................. \t0\n",
      "\t(4) Non-Uniform Mutation.............. \t0\n",
      "\t(5) Polytope Crossover................ \t0\n",
      "\t(6) Simple Crossover.................. \t0\n",
      "\t(7) Whole Non-Uniform Mutation........ \t0\n",
      "\t(8) Heuristic Crossover............... \t0\n",
      "\t(9) Local-Minimum Crossover........... \t0\n",
      "\n",
      "HARD Maximum Number of Generations: 5\n",
      "Maximum Nonchanging Generations: 2\n",
      "Population size       : 4\n",
      "Convergence Tolerance: 1.000000e-03\n",
      "\n",
      "Using the BFGS Derivative Based Optimizer on the Best Individual Each Generation.\n",
      "Not Checking Gradients before Stopping.\n",
      "Not Using Out of Bounds Individuals and Not Allowing Trespassing.\n",
      "\n",
      "Maximization Problem.\n",
      "\n",
      "\n",
      "Generation#\t    Solution Value\n",
      "\n",
      "      0 \t5.694509e+00\n",
      "      1 \t7.016838e+00\n",
      "\n",
      "'wait.generations' limit reached.\n",
      "No significant improvement in 2 generations.\n",
      "\n",
      "Solution Fitness Value: 7.016838e+00\n",
      "\n",
      "Parameters at the Solution (parameter, gradient):\n",
      "\n",
      " X[ 1] :\t3.318262e+00\tG[ 1] :\t1.830361e-06\n",
      " X[ 2] :\t1.124294e+00\tG[ 2] :\t-2.114355e-06\n",
      "\n",
      "Solution Found Generation 1\n",
      "Number of Generations Run 4\n",
      "\n",
      "Wed Aug 30 00:04:39 2023\n",
      "Total run time : 0 hours 0 minutes and 0 seconds\n"
     ]
    },
    {
     "name": "stderr",
     "output_type": "stream",
     "text": [
      "[mbo] 9: x=4.71 : y = -1 : 0.0 secs : infill_ei\n",
      "\n"
     ]
    },
    {
     "name": "stdout",
     "output_type": "stream",
     "text": [
      "\n",
      "optimisation start\n",
      "------------------\n",
      "* estimation method   : MLE \n",
      "* optimisation method : gen \n",
      "* analytical gradient : used\n",
      "* trend model : ~1\n",
      "* covariance model : \n",
      "  - type :  matern3_2 \n",
      "  - nugget : 4.242749e-09 \n",
      "  - parameters lower bounds :  1e-10 \n",
      "  - parameters upper bounds :  18.8782 \n",
      "  - variance bounds :  0.0312936 4.242749 \n",
      "  - best initial criterion value(s) :  10.09968 \n",
      "\n",
      "\n",
      "Wed Aug 30 00:04:39 2023\n",
      "Domains:\n",
      " 1.000000e-10   <=  X1   <=    1.887820e+01 \n",
      " 3.129360e-02   <=  X2   <=    4.242749e+00 \n",
      "\n",
      "Data Type: Floating Point\n",
      "Operators (code number, name, population) \n",
      "\t(1) Cloning........................... \t3\n",
      "\t(2) Uniform Mutation.................. \t0\n",
      "\t(3) Boundary Mutation................. \t0\n",
      "\t(4) Non-Uniform Mutation.............. \t0\n",
      "\t(5) Polytope Crossover................ \t0\n",
      "\t(6) Simple Crossover.................. \t0\n",
      "\t(7) Whole Non-Uniform Mutation........ \t0\n",
      "\t(8) Heuristic Crossover............... \t0\n",
      "\t(9) Local-Minimum Crossover........... \t0\n",
      "\n",
      "HARD Maximum Number of Generations: 5\n",
      "Maximum Nonchanging Generations: 2\n",
      "Population size       : 4\n",
      "Convergence Tolerance: 1.000000e-03\n",
      "\n",
      "Using the BFGS Derivative Based Optimizer on the Best Individual Each Generation.\n",
      "Not Checking Gradients before Stopping.\n",
      "Not Using Out of Bounds Individuals and Not Allowing Trespassing.\n",
      "\n",
      "Maximization Problem.\n",
      "\n",
      "\n",
      "Generation#\t    Solution Value\n",
      "\n",
      "      0 \t1.009968e+01\n",
      "      1 \t1.182214e+01\n",
      "\n",
      "'wait.generations' limit reached.\n",
      "No significant improvement in 2 generations.\n",
      "\n",
      "Solution Fitness Value: 1.182214e+01\n",
      "\n",
      "Parameters at the Solution (parameter, gradient):\n",
      "\n",
      " X[ 1] :\t3.652942e+00\tG[ 1] :\t-2.220023e-06\n",
      " X[ 2] :\t1.295816e+00\tG[ 2] :\t1.366836e-06\n",
      "\n",
      "Solution Found Generation 1\n",
      "Number of Generations Run 4\n",
      "\n",
      "Wed Aug 30 00:04:39 2023\n",
      "Total run time : 0 hours 0 minutes and 0 seconds\n"
     ]
    },
    {
     "name": "stderr",
     "output_type": "stream",
     "text": [
      "[mbo] 10: x=11 : y = -1 : 0.0 secs : infill_ei\n",
      "\n"
     ]
    },
    {
     "name": "stdout",
     "output_type": "stream",
     "text": [
      "\n",
      "optimisation start\n",
      "------------------\n",
      "* estimation method   : MLE \n",
      "* optimisation method : gen \n",
      "* analytical gradient : used\n",
      "* trend model : ~1\n",
      "* covariance model : \n",
      "  - type :  matern3_2 \n",
      "  - nugget : 4.061679e-09 \n",
      "  - parameters lower bounds :  1e-10 \n",
      "  - parameters upper bounds :  18.8782 \n",
      "  - variance bounds :  0.02974745 4.061679 \n",
      "  - best initial criterion value(s) :  15.21491 \n",
      "\n",
      "\n",
      "Wed Aug 30 00:04:40 2023\n",
      "Domains:\n",
      " 1.000000e-10   <=  X1   <=    1.887820e+01 \n",
      " 2.974745e-02   <=  X2   <=    4.061679e+00 \n",
      "\n",
      "Data Type: Floating Point\n",
      "Operators (code number, name, population) \n",
      "\t(1) Cloning........................... \t3\n",
      "\t(2) Uniform Mutation.................. \t0\n",
      "\t(3) Boundary Mutation................. \t0\n",
      "\t(4) Non-Uniform Mutation.............. \t0\n",
      "\t(5) Polytope Crossover................ \t0\n",
      "\t(6) Simple Crossover.................. \t0\n",
      "\t(7) Whole Non-Uniform Mutation........ \t0\n",
      "\t(8) Heuristic Crossover............... \t0\n",
      "\t(9) Local-Minimum Crossover........... \t0\n",
      "\n",
      "HARD Maximum Number of Generations: 5\n",
      "Maximum Nonchanging Generations: 2\n",
      "Population size       : 4\n",
      "Convergence Tolerance: 1.000000e-03\n",
      "\n",
      "Using the BFGS Derivative Based Optimizer on the Best Individual Each Generation.\n",
      "Not Checking Gradients before Stopping.\n",
      "Not Using Out of Bounds Individuals and Not Allowing Trespassing.\n",
      "\n",
      "Maximization Problem.\n",
      "\n",
      "\n",
      "Generation#\t    Solution Value\n",
      "\n",
      "      0 \t1.521491e+01\n",
      "      1 \t1.727141e+01\n",
      "\n",
      "'wait.generations' limit reached.\n",
      "No significant improvement in 2 generations.\n",
      "\n",
      "Solution Fitness Value: 1.727141e+01\n",
      "\n",
      "Parameters at the Solution (parameter, gradient):\n",
      "\n",
      " X[ 1] :\t3.984425e+00\tG[ 1] :\t-1.191279e-05\n",
      " X[ 2] :\t1.481696e+00\tG[ 2] :\t8.838710e-06\n",
      "\n",
      "Solution Found Generation 1\n",
      "Number of Generations Run 4\n",
      "\n",
      "Wed Aug 30 00:04:40 2023\n",
      "Total run time : 0 hours 0 minutes and 0 seconds\n"
     ]
    }
   ],
   "source": [
    "# Veamos un ejemplo\n",
    "set.seed(semillas[1])\n",
    "obj_fun <- makeSingleObjectiveFunction(\n",
    "  name = \"Sine\",\n",
    "  fn = function(x) sin(x),\n",
    "  par.set = makeNumericParamSet(lower = 3, upper = 13, len = 1)\n",
    ")\n",
    "\n",
    "ctrl <- makeMBOControl()\n",
    "ctrl <- setMBOControlTermination(ctrl, iters = 10L)\n",
    "ctrl <- setMBOControlInfill(ctrl, crit = makeMBOInfillCritEI(),\n",
    "                           opt = \"focussearch\")\n",
    "\n",
    "lrn <- makeMBOLearner(ctrl, obj_fun)\n",
    "design <- generateDesign(6L, getParamSet(obj_fun), fun = lhs::maximinLHS)\n",
    "\n",
    "run <- exampleRun(obj_fun, design = design, learner = lrn,\n",
    "                 control = ctrl, points.per.dim = 100, show.info = TRUE)"
   ]
  },
  {
   "cell_type": "code",
   "execution_count": 27,
   "metadata": {
    "vscode": {
     "languageId": "r"
    }
   },
   "outputs": [
    {
     "data": {
      "image/png": "[encoded data removed]",
      "text/plain": [
       "plot without title"
      ]
     },
     "metadata": {
      "image/png": {
       "height": 420,
       "width": 420
      }
     },
     "output_type": "display_data"
    },
    {
     "data": {
      "image/png": "[encoded data removed]",
      "text/plain": [
       "plot without title"
      ]
     },
     "metadata": {
      "image/png": {
       "height": 420,
       "width": 420
      }
     },
     "output_type": "display_data"
    },
    {
     "data": {
      "image/png": "[encoded data removed]",
      "text/plain": [
       "plot without title"
      ]
     },
     "metadata": {
      "image/png": {
       "height": 420,
       "width": 420
      }
     },
     "output_type": "display_data"
    },
    {
     "data": {
      "image/png": "[encoded data removed]",
      "text/plain": [
       "plot without title"
      ]
     },
     "metadata": {
      "image/png": {
       "height": 420,
       "width": 420
      }
     },
     "output_type": "display_data"
    },
    {
     "data": {
      "image/png": "[encoded data removed]",
      "text/plain": [
       "plot without title"
      ]
     },
     "metadata": {
      "image/png": {
       "height": 420,
       "width": 420
      }
     },
     "output_type": "display_data"
    },
    {
     "data": {
      "image/png": "[encoded data removed]",
      "text/plain": [
       "plot without title"
      ]
     },
     "metadata": {
      "image/png": {
       "height": 420,
       "width": 420
      }
     },
     "output_type": "display_data"
    },
    {
     "data": {
      "image/png": "[encoded data removed]",
      "text/plain": [
       "plot without title"
      ]
     },
     "metadata": {
      "image/png": {
       "height": 420,
       "width": 420
      }
     },
     "output_type": "display_data"
    },
    {
     "data": {
      "image/png": "[encoded data removed]",
      "text/plain": [
       "plot without title"
      ]
     },
     "metadata": {
      "image/png": {
       "height": 420,
       "width": 420
      }
     },
     "output_type": "display_data"
    },
    {
     "data": {
      "image/png": "[encoded data removed]",
      "text/plain": [
       "plot without title"
      ]
     },
     "metadata": {
      "image/png": {
       "height": 420,
       "width": 420
      }
     },
     "output_type": "display_data"
    }
   ],
   "source": [
    "# Ejecutar de a uno\n",
    "plotExampleRun(run, iters = 1, densregion = TRUE, pause = FALSE)\n",
    "plotExampleRun(run, iters = 2, densregion = TRUE, pause = FALSE)\n",
    "plotExampleRun(run, iters = 3, densregion = TRUE, pause = FALSE)\n",
    "plotExampleRun(run, iters = 5, densregion = TRUE, pause = FALSE)\n",
    "plotExampleRun(run, iters = 6, densregion = TRUE, pause = FALSE)\n",
    "plotExampleRun(run, iters = 7, densregion = TRUE, pause = FALSE)\n",
    "plotExampleRun(run, iters = 8, densregion = TRUE, pause = FALSE)\n",
    "plotExampleRun(run, iters = 9, densregion = TRUE, pause = FALSE)\n",
    "plotExampleRun(run, iters = 10, densregion = TRUE, pause = FALSE)"
   ]
  },
  {
   "cell_type": "markdown",
   "metadata": {},
   "source": [
    "# Step 9: Introduciendo la técnica en nuestro conjunto"
   ]
  },
  {
   "cell_type": "code",
   "execution_count": 28,
   "metadata": {
    "vscode": {
     "languageId": "r"
    }
   },
   "outputs": [
    {
     "data": {
      "image/png": "[encoded data removed]",
      "text/plain": [
       "plot without title"
      ]
     },
     "metadata": {
      "image/png": {
       "height": 420,
       "width": 420
      }
     },
     "output_type": "display_data"
    }
   ],
   "source": [
    "resultados_maxdepth <- data.table()\n",
    "\n",
    "for (v in 4:20) {\n",
    "    r <- data.table(\n",
    "      md = v,\n",
    "      auc = experimento_rpart(dataset, semillas, md = v)\n",
    "    )\n",
    "    resultados_maxdepth <- rbindlist(list(resultados_maxdepth, r))\n",
    "}\n",
    "\n",
    "ggplot(resultados_maxdepth, aes(md, auc)) + geom_point()"
   ]
  },
  {
   "cell_type": "markdown",
   "metadata": {},
   "source": [
    "# Step 10: Buscando con una Opt. Bayesiana para 1 parámetro"
   ]
  },
  {
   "cell_type": "code",
   "execution_count": 29,
   "metadata": {
    "vscode": {
     "languageId": "r"
    }
   },
   "outputs": [],
   "source": [
    "set.seed(semillas[1])\n",
    "obj_fun_md <- function(x) {\n",
    "  experimento_rpart(dataset, semillas, md = x$maxdepth)\n",
    "}\n",
    "\n",
    "obj_fun <- makeSingleObjectiveFunction(\n",
    "  minimize = FALSE,\n",
    "  fn = obj_fun_md,\n",
    "  par.set = makeParamSet(\n",
    "    makeIntegerParam(\"maxdepth\",  lower = 4L, upper = 20L)\n",
    "  ),\n",
    "  # noisy = TRUE,\n",
    "  has.simple.signature = FALSE\n",
    ")\n",
    "\n",
    "ctrl <- makeMBOControl()\n",
    "ctrl <- setMBOControlTermination(ctrl, iters = 10L)\n",
    "ctrl <- setMBOControlInfill(\n",
    "  ctrl,\n",
    "  crit = makeMBOInfillCritEI(),\n",
    "  opt = \"focussearch\",\n",
    "  opt.focussearch.points = 2\n",
    ")"
   ]
  },
  {
   "cell_type": "code",
   "execution_count": 30,
   "metadata": {
    "vscode": {
     "languageId": "r"
    }
   },
   "outputs": [
    {
     "name": "stderr",
     "output_type": "stream",
     "text": [
      "Computing y column(s) for design. Not provided.\n",
      "\n",
      "[mbo] 0: maxdepth=10 : y = 0.858 : 5.6 secs : initdesign\n",
      "\n",
      "[mbo] 0: maxdepth=19 : y = 0.809 : 6.6 secs : initdesign\n",
      "\n",
      "[mbo] 0: maxdepth=5 : y = 0.862 : 3.7 secs : initdesign\n",
      "\n",
      "[mbo] 0: maxdepth=14 : y = 0.819 : 5.7 secs : initdesign\n",
      "\n"
     ]
    },
    {
     "name": "stdout",
     "output_type": "stream",
     "text": [
      "\n",
      "optimisation start\n",
      "------------------\n",
      "* estimation method   : MLE \n",
      "* optimisation method : BFGS \n",
      "* analytical gradient : used\n",
      "* trend model : ~1\n",
      "* covariance model : \n",
      "  - type :  matern3_2 \n",
      "  - nugget : NO\n",
      "  - parameters lower bounds :  1e-10 \n",
      "  - parameters upper bounds :  28 \n",
      "  - best initial criterion value(s) :  9.807585 \n",
      "\n",
      "N = 1, M = 5 machine precision = 2.22045e-16\n",
      "At X0, 0 variables are exactly at the bounds\n",
      "At iterate     0  f=      -9.8076  |proj g|=     0.034079\n",
      "At iterate     1  f =      -9.8087  |proj g|=       0.03229\n",
      "At iterate     2  f =       -9.818  |proj g|=     0.0029258\n",
      "At iterate     3  f =      -9.8181  |proj g|=    0.00020319\n",
      "At iterate     4  f =      -9.8181  |proj g|=    1.0603e-06\n",
      "At iterate     5  f =      -9.8181  |proj g|=    3.9056e-10\n",
      "\n",
      "iterations 5\n",
      "function evaluations 6\n",
      "segments explored during Cauchy searches 5\n",
      "BFGS updates skipped 0\n",
      "active bounds at final generalized Cauchy point 0\n",
      "norm of the final projected gradient 3.90564e-10\n",
      "final function value -9.8181\n",
      "\n",
      "F = -9.8181\n",
      "final  value -9.818097 \n",
      "converged\n"
     ]
    },
    {
     "name": "stderr",
     "output_type": "stream",
     "text": [
      "[mbo] 1: maxdepth=7 : y = 0.874 : 4.6 secs : infill_ei\n",
      "\n"
     ]
    },
    {
     "name": "stdout",
     "output_type": "stream",
     "text": [
      "\n",
      "optimisation start\n",
      "------------------\n",
      "* estimation method   : MLE \n",
      "* optimisation method : BFGS \n",
      "* analytical gradient : used\n",
      "* trend model : ~1\n",
      "* covariance model : \n",
      "  - type :  matern3_2 \n",
      "  - nugget : NO\n",
      "  - parameters lower bounds :  1e-10 \n",
      "  - parameters upper bounds :  28 \n",
      "  - best initial criterion value(s) :  13.06621 \n",
      "\n",
      "N = 1, M = 5 machine precision = 2.22045e-16\n",
      "At X0, 0 variables are exactly at the bounds\n",
      "At iterate     0  f=      -13.066  |proj g|=     0.039612\n",
      "At iterate     1  f =      -13.068  |proj g|=      0.036423\n",
      "At iterate     2  f =      -13.075  |proj g|=     0.0043937\n",
      "At iterate     3  f =      -13.075  |proj g|=    0.00040277\n",
      "At iterate     4  f =      -13.075  |proj g|=    3.8565e-06\n",
      "At iterate     5  f =      -13.075  |proj g|=    3.4398e-09\n",
      "\n",
      "iterations 5\n",
      "function evaluations 6\n",
      "segments explored during Cauchy searches 5\n",
      "BFGS updates skipped 0\n",
      "active bounds at final generalized Cauchy point 0\n",
      "norm of the final projected gradient 3.43977e-09\n",
      "final function value -13.0754\n",
      "\n",
      "F = -13.0754\n",
      "final  value -13.075368 \n",
      "converged\n"
     ]
    },
    {
     "name": "stderr",
     "output_type": "stream",
     "text": [
      "[mbo] 2: maxdepth=8 : y = 0.871 : 5.4 secs : infill_ei\n",
      "\n"
     ]
    },
    {
     "name": "stdout",
     "output_type": "stream",
     "text": [
      "\n",
      "optimisation start\n",
      "------------------\n",
      "* estimation method   : MLE \n",
      "* optimisation method : BFGS \n",
      "* analytical gradient : used\n",
      "* trend model : ~1\n",
      "* covariance model : \n",
      "  - type :  matern3_2 \n",
      "  - nugget : NO\n",
      "  - parameters lower bounds :  1e-10 \n",
      "  - parameters upper bounds :  28 \n",
      "  - best initial criterion value(s) :  17.72951 \n",
      "\n",
      "N = 1, M = 5 machine precision = 2.22045e-16\n",
      "At X0, 0 variables are exactly at the bounds\n",
      "At iterate     0  f=       -17.73  |proj g|=     0.024861\n",
      "At iterate     1  f =       -17.73  |proj g|=       0.02267\n",
      "At iterate     2  f =      -17.733  |proj g|=     0.0017598\n",
      "At iterate     3  f =      -17.733  |proj g|=    0.00011115\n",
      "At iterate     4  f =      -17.733  |proj g|=    4.9771e-07\n",
      "At iterate     5  f =      -17.733  |proj g|=    1.4171e-10\n",
      "\n",
      "iterations 5\n",
      "function evaluations 6\n",
      "segments explored during Cauchy searches 5\n",
      "BFGS updates skipped 0\n",
      "active bounds at final generalized Cauchy point 0\n",
      "norm of the final projected gradient 1.4171e-10\n",
      "final function value -17.7329\n",
      "\n",
      "F = -17.7329\n",
      "final  value -17.732880 \n",
      "converged\n"
     ]
    },
    {
     "name": "stderr",
     "output_type": "stream",
     "text": [
      "[mbo] 3: maxdepth=6 : y = 0.874 : 4.6 secs : infill_ei\n",
      "\n"
     ]
    },
    {
     "name": "stdout",
     "output_type": "stream",
     "text": [
      "\n",
      "optimisation start\n",
      "------------------\n",
      "* estimation method   : MLE \n",
      "* optimisation method : BFGS \n",
      "* analytical gradient : used\n",
      "* trend model : ~1\n",
      "* covariance model : \n",
      "  - type :  matern3_2 \n",
      "  - nugget : NO\n",
      "  - parameters lower bounds :  1e-10 \n",
      "  - parameters upper bounds :  28 \n",
      "  - best initial criterion value(s) :  21.3956 \n",
      "\n",
      "N = 1, M = 5 machine precision = 2.22045e-16\n",
      "At X0, 0 variables are exactly at the bounds\n",
      "At iterate     0  f=      -21.396  |proj g|=      0.12832\n",
      "At iterate     1  f =      -21.411  |proj g|=       0.11606\n",
      "At iterate     2  f =      -21.449  |proj g|=      0.082664\n",
      "At iterate     3  f =      -21.463  |proj g|=      0.021318\n",
      "At iterate     4  f =      -21.464  |proj g|=     0.0028622\n",
      "At iterate     5  f =      -21.464  |proj g|=    0.00012318\n",
      "At iterate     6  f =      -21.464  |proj g|=     6.687e-07\n",
      "\n",
      "iterations 6\n",
      "function evaluations 7\n",
      "segments explored during Cauchy searches 6\n",
      "BFGS updates skipped 0\n",
      "active bounds at final generalized Cauchy point 0\n",
      "norm of the final projected gradient 6.68704e-07\n",
      "final function value -21.4643\n",
      "\n",
      "F = -21.4643\n",
      "final  value -21.464330 \n",
      "converged\n"
     ]
    },
    {
     "name": "stderr",
     "output_type": "stream",
     "text": [
      "[mbo] 4: maxdepth=4 : y = 0.849 : 3.9 secs : infill_ei\n",
      "\n"
     ]
    },
    {
     "name": "stdout",
     "output_type": "stream",
     "text": [
      "\n",
      "optimisation start\n",
      "------------------\n",
      "* estimation method   : MLE \n",
      "* optimisation method : BFGS \n",
      "* analytical gradient : used\n",
      "* trend model : ~1\n",
      "* covariance model : \n",
      "  - type :  matern3_2 \n",
      "  - nugget : NO\n",
      "  - parameters lower bounds :  1e-10 \n",
      "  - parameters upper bounds :  30 \n",
      "  - best initial criterion value(s) :  25.60539 \n",
      "\n",
      "N = 1, M = 5 machine precision = 2.22045e-16\n",
      "At X0, 0 variables are exactly at the bounds\n",
      "At iterate     0  f=      -25.605  |proj g|=      0.10298\n",
      "At iterate     1  f =      -25.616  |proj g|=      0.094573\n",
      "At iterate     2  f =      -25.648  |proj g|=      0.058719\n",
      "At iterate     3  f =      -25.657  |proj g|=      0.015035\n",
      "At iterate     4  f =      -25.658  |proj g|=     0.0017714\n",
      "At iterate     5  f =      -25.658  |proj g|=    6.4007e-05\n",
      "At iterate     6  f =      -25.658  |proj g|=    2.5912e-07\n",
      "\n",
      "iterations 6\n",
      "function evaluations 7\n",
      "segments explored during Cauchy searches 6\n",
      "BFGS updates skipped 0\n",
      "active bounds at final generalized Cauchy point 0\n",
      "norm of the final projected gradient 2.59118e-07\n",
      "final function value -25.6579\n",
      "\n",
      "F = -25.6579\n",
      "final  value -25.657937 \n",
      "converged\n"
     ]
    },
    {
     "name": "stderr",
     "output_type": "stream",
     "text": [
      "[mbo] 5: maxdepth=9 : y = 0.866 : 5.1 secs : infill_ei\n",
      "\n"
     ]
    },
    {
     "name": "stdout",
     "output_type": "stream",
     "text": [
      "\n",
      "optimisation start\n",
      "------------------\n",
      "* estimation method   : MLE \n",
      "* optimisation method : BFGS \n",
      "* analytical gradient : used\n",
      "* trend model : ~1\n",
      "* covariance model : \n",
      "  - type :  matern3_2 \n",
      "  - nugget : NO\n",
      "  - parameters lower bounds :  1e-10 \n",
      "  - parameters upper bounds :  30 \n",
      "  - best initial criterion value(s) :  30.81775 \n",
      "\n",
      "N = 1, M = 5 machine precision = 2.22045e-16\n",
      "At X0, 0 variables are exactly at the bounds\n",
      "At iterate     0  f=      -30.818  |proj g|=     0.034501\n",
      "At iterate     1  f =      -30.819  |proj g|=      0.030841\n",
      "At iterate     2  f =      -30.823  |proj g|=     0.0036906\n",
      "At iterate     3  f =      -30.823  |proj g|=    0.00033496\n",
      "At iterate     4  f =      -30.823  |proj g|=    3.2283e-06\n",
      "At iterate     5  f =      -30.823  |proj g|=     2.862e-09\n",
      "\n",
      "iterations 5\n",
      "function evaluations 6\n",
      "segments explored during Cauchy searches 5\n",
      "BFGS updates skipped 0\n",
      "active bounds at final generalized Cauchy point 0\n",
      "norm of the final projected gradient 2.86199e-09\n",
      "final function value -30.823\n",
      "\n",
      "F = -30.823\n",
      "final  value -30.823041 \n",
      "converged\n"
     ]
    },
    {
     "name": "stderr",
     "output_type": "stream",
     "text": [
      "[mbo] 6: maxdepth=11 : y = 0.844 : 7.1 secs : infill_ei\n",
      "\n"
     ]
    },
    {
     "name": "stdout",
     "output_type": "stream",
     "text": [
      "\n",
      "optimisation start\n",
      "------------------\n",
      "* estimation method   : MLE \n",
      "* optimisation method : BFGS \n",
      "* analytical gradient : used\n",
      "* trend model : ~1\n",
      "* covariance model : \n",
      "  - type :  matern3_2 \n",
      "  - nugget : NO\n",
      "  - parameters lower bounds :  1e-10 \n",
      "  - parameters upper bounds :  30 \n",
      "  - best initial criterion value(s) :  34.9384 \n",
      "\n",
      "N = 1, M = 5 machine precision = 2.22045e-16\n",
      "At X0, 0 variables are exactly at the bounds\n",
      "At iterate     0  f=      -34.938  |proj g|=     0.053519\n",
      "At iterate     1  f =      -34.941  |proj g|=      0.047733\n",
      "At iterate     2  f =       -34.95  |proj g|=     0.0096678\n",
      "At iterate     3  f =       -34.95  |proj g|=     0.0013268\n",
      "At iterate     4  f =      -34.951  |proj g|=    3.0967e-05\n",
      "At iterate     5  f =      -34.951  |proj g|=    1.0247e-07\n",
      "\n",
      "iterations 5\n",
      "function evaluations 6\n",
      "segments explored during Cauchy searches 5\n",
      "BFGS updates skipped 0\n",
      "active bounds at final generalized Cauchy point 0\n",
      "norm of the final projected gradient 1.02474e-07\n",
      "final function value -34.9505\n",
      "\n",
      "F = -34.9505\n",
      "final  value -34.950502 \n",
      "converged\n"
     ]
    },
    {
     "name": "stderr",
     "output_type": "stream",
     "text": [
      "[mbo] 7: maxdepth=17 : y = 0.812 : 8.5 secs : infill_ei\n",
      "\n"
     ]
    },
    {
     "name": "stdout",
     "output_type": "stream",
     "text": [
      "\n",
      "optimisation start\n",
      "------------------\n",
      "* estimation method   : MLE \n",
      "* optimisation method : BFGS \n",
      "* analytical gradient : used\n",
      "* trend model : ~1\n",
      "* covariance model : \n",
      "  - type :  matern3_2 \n",
      "  - nugget : NO\n",
      "  - parameters lower bounds :  1e-10 \n",
      "  - parameters upper bounds :  30 \n",
      "  - best initial criterion value(s) :  38.93257 \n",
      "\n",
      "N = 1, M = 5 machine precision = 2.22045e-16\n",
      "At X0, 0 variables are exactly at the bounds\n",
      "At iterate     0  f=      -38.933  |proj g|=     0.019268\n",
      "At iterate     1  f =      -38.933  |proj g|=       0.01692\n",
      "At iterate     2  f =      -38.934  |proj g|=    0.00097662\n",
      "At iterate     3  f =      -38.934  |proj g|=    4.5753e-05\n",
      "At iterate     4  f =      -38.934  |proj g|=    1.1622e-07\n",
      "\n",
      "iterations 4\n",
      "function evaluations 5\n",
      "segments explored during Cauchy searches 4\n",
      "BFGS updates skipped 0\n",
      "active bounds at final generalized Cauchy point 0\n",
      "norm of the final projected gradient 1.16225e-07\n",
      "final function value -38.934\n",
      "\n",
      "F = -38.934\n",
      "final  value -38.934048 \n",
      "converged\n"
     ]
    },
    {
     "name": "stderr",
     "output_type": "stream",
     "text": [
      "[mbo] 8: maxdepth=12 : y = 0.835 : 5.9 secs : infill_ei\n",
      "\n"
     ]
    },
    {
     "name": "stdout",
     "output_type": "stream",
     "text": [
      "\n",
      "optimisation start\n",
      "------------------\n",
      "* estimation method   : MLE \n",
      "* optimisation method : BFGS \n",
      "* analytical gradient : used\n",
      "* trend model : ~1\n",
      "* covariance model : \n",
      "  - type :  matern3_2 \n",
      "  - nugget : NO\n",
      "  - parameters lower bounds :  1e-10 \n",
      "  - parameters upper bounds :  30 \n",
      "  - best initial criterion value(s) :  43.39866 \n",
      "\n",
      "N = 1, M = 5 machine precision = 2.22045e-16\n",
      "At X0, 0 variables are exactly at the bounds\n",
      "At iterate     0  f=      -43.399  |proj g|=     0.027517\n",
      "At iterate     1  f =      -43.399  |proj g|=      0.024011\n",
      "At iterate     2  f =      -43.402  |proj g|=      0.001998\n",
      "At iterate     3  f =      -43.402  |proj g|=    0.00012954\n",
      "At iterate     4  f =      -43.402  |proj g|=    6.4164e-07\n",
      "\n",
      "iterations 4\n",
      "function evaluations 5\n",
      "segments explored during Cauchy searches 4\n",
      "BFGS updates skipped 0\n",
      "active bounds at final generalized Cauchy point 0\n",
      "norm of the final projected gradient 6.41641e-07\n",
      "final function value -43.4015\n",
      "\n",
      "F = -43.4015\n",
      "final  value -43.401516 \n",
      "converged\n"
     ]
    },
    {
     "name": "stderr",
     "output_type": "stream",
     "text": [
      "[mbo] 9: maxdepth=15 : y = 0.821 : 8.2 secs : infill_ei\n",
      "\n"
     ]
    },
    {
     "name": "stdout",
     "output_type": "stream",
     "text": [
      "\n",
      "optimisation start\n",
      "------------------\n",
      "* estimation method   : MLE \n",
      "* optimisation method : BFGS \n",
      "* analytical gradient : used\n",
      "* trend model : ~1\n",
      "* covariance model : \n",
      "  - type :  matern3_2 \n",
      "  - nugget : NO\n",
      "  - parameters lower bounds :  1e-10 \n",
      "  - parameters upper bounds :  30 \n",
      "  - best initial criterion value(s) :  46.32493 \n",
      "\n",
      "N = 1, M = 5 machine precision = 2.22045e-16\n",
      "At X0, 0 variables are exactly at the bounds\n",
      "At iterate     0  f=      -46.325  |proj g|=      0.18568\n",
      "At iterate     1  f =      -46.358  |proj g|=       0.16946\n",
      "At iterate     2  f =       -46.46  |proj g|=      0.018889\n",
      "At iterate     3  f =      -46.461  |proj g|=      0.011008\n",
      "At iterate     4  f =      -46.461  |proj g|=    0.00037231\n",
      "At iterate     5  f =      -46.461  |proj g|=    7.0118e-06\n",
      "At iterate     6  f =      -46.461  |proj g|=    4.5854e-09\n",
      "\n",
      "iterations 6\n",
      "function evaluations 8\n",
      "segments explored during Cauchy searches 6\n",
      "BFGS updates skipped 0\n",
      "active bounds at final generalized Cauchy point 0\n",
      "norm of the final projected gradient 4.58537e-09\n",
      "final function value -46.4608\n",
      "\n",
      "F = -46.4608\n",
      "final  value -46.460807 \n",
      "converged\n"
     ]
    },
    {
     "name": "stderr",
     "output_type": "stream",
     "text": [
      "[mbo] 10: maxdepth=13 : y = 0.822 : 6.9 secs : infill_ei\n",
      "\n"
     ]
    },
    {
     "name": "stdout",
     "output_type": "stream",
     "text": [
      "\n",
      "optimisation start\n",
      "------------------\n",
      "* estimation method   : MLE \n",
      "* optimisation method : BFGS \n",
      "* analytical gradient : used\n",
      "* trend model : ~1\n",
      "* covariance model : \n",
      "  - type :  matern3_2 \n",
      "  - nugget : NO\n",
      "  - parameters lower bounds :  1e-10 \n",
      "  - parameters upper bounds :  30 \n",
      "  - best initial criterion value(s) :  50.59081 \n",
      "\n",
      "N = 1, M = 5 machine precision = 2.22045e-16\n",
      "At X0, 0 variables are exactly at the bounds\n",
      "At iterate     0  f=      -50.591  |proj g|=      0.21721\n",
      "At iterate     1  f =      -50.636  |proj g|=       0.19983\n",
      "At iterate     2  f =      -50.773  |proj g|=      0.040711\n",
      "At iterate     3  f =      -50.774  |proj g|=      0.031502\n",
      "At iterate     4  f =      -50.776  |proj g|=     0.0021505\n",
      "At iterate     5  f =      -50.776  |proj g|=    0.00010395\n",
      "At iterate     6  f =      -50.776  |proj g|=    3.6736e-07\n",
      "\n",
      "iterations 6\n",
      "function evaluations 8\n",
      "segments explored during Cauchy searches 6\n",
      "BFGS updates skipped 0\n",
      "active bounds at final generalized Cauchy point 0\n",
      "norm of the final projected gradient 3.67356e-07\n",
      "final function value -50.7758\n",
      "\n",
      "F = -50.7758\n",
      "final  value -50.775759 \n",
      "converged\n",
      "Recommended parameters:\n",
      "maxdepth=7\n",
      "Objective: y = 0.874\n",
      "\n",
      "Optimization path\n",
      "4 + 10 entries in total, displaying last 10 (or less):\n",
      "   maxdepth         y dob eol error.message exec.time             ei\n",
      "5         7 0.8739240   1  NA          <NA>      4.61  -4.497331e-03\n",
      "6         8 0.8707664   2  NA          <NA>      5.36  -8.210801e-04\n",
      "7         6 0.8739230   3  NA          <NA>      4.61  -2.029593e-05\n",
      "8         4 0.8488621   4  NA          <NA>      3.94  -2.240840e-08\n",
      "9         9 0.8658259   5  NA          <NA>      5.10  -9.027030e-08\n",
      "10       11 0.8437344   6  NA          <NA>      7.10  -2.533922e-17\n",
      "11       17 0.8115385   7  NA          <NA>      8.50  -4.256071e-20\n",
      "12       12 0.8350453   8  NA          <NA>      5.85  -2.788234e-52\n",
      "13       15 0.8210595   9  NA          <NA>      8.19  -2.479092e-88\n",
      "14       13 0.8223020  10  NA          <NA>      6.90 -3.702977e-114\n",
      "   error.model train.time prop.type propose.time          se      mean\n",
      "5         <NA>       0.03 infill_ei         0.13 0.008094662 0.8647104\n",
      "6         <NA>       0.05 infill_ei         0.28 0.003620875 0.8724368\n",
      "7         <NA>       0.02 infill_ei         0.12 0.002040955 0.8699636\n",
      "8         <NA>       0.01 infill_ei         0.11 0.005347091 0.8518998\n",
      "9         <NA>       0.02 infill_ei         0.12 0.002369309 0.8653793\n",
      "10        <NA>       0.02 infill_ei         0.12 0.003542120 0.8476118\n",
      "11        <NA>       0.02 infill_ei         0.14 0.007605043 0.8107251\n",
      "12        <NA>       0.05 infill_ei         0.18 0.002853362 0.8322698\n",
      "13        <NA>       0.04 infill_ei         0.15 0.003037733 0.8148542\n",
      "14        <NA>       0.02 infill_ei         0.14 0.002186038 0.8252456\n"
     ]
    }
   ],
   "source": [
    "lrn <- makeMBOLearner(ctrl, obj_fun)\n",
    "\n",
    "surr_km <- makeLearner(\"regr.km\", predict.type = \"se\", covtype = \"matern3_2\")\n",
    "\n",
    "run_md <- mbo(obj_fun, learner = surr_km, control = ctrl)\n",
    "print(run_md)"
   ]
  },
  {
   "cell_type": "markdown",
   "metadata": {},
   "source": [
    "# Step 11: Buscando con una Opt. Bayesiana para 2 parámetros"
   ]
  },
  {
   "cell_type": "code",
   "execution_count": 31,
   "metadata": {
    "vscode": {
     "languageId": "r"
    }
   },
   "outputs": [],
   "source": [
    "set.seed(semillas[1])\n",
    "obj_fun_md_ms <- function(x) {\n",
    "  experimento_rpart(dataset, semillas\n",
    "            , md = x$maxdepth\n",
    "            , ms = x$minsplit)\n",
    "}\n",
    "\n",
    "obj_fun <- makeSingleObjectiveFunction(\n",
    "  minimize = FALSE,\n",
    "  fn = obj_fun_md_ms,\n",
    "  par.set = makeParamSet(\n",
    "    makeIntegerParam(\"maxdepth\",  lower = 4L, upper = 20L),\n",
    "    makeIntegerParam(\"minsplit\",  lower = 1L, upper = 200L)\n",
    "    # makeNumericParam <- para parámetros continuos\n",
    "  ),\n",
    "  # noisy = TRUE,\n",
    "  has.simple.signature = FALSE\n",
    ")\n",
    "\n",
    "ctrl <- makeMBOControl()\n",
    "ctrl <- setMBOControlTermination(ctrl, iters = 16L)\n",
    "ctrl <- setMBOControlInfill(\n",
    "  ctrl,\n",
    "  crit = makeMBOInfillCritEI(),\n",
    "  opt = \"focussearch\",\n",
    "  # sacar parámetro opt.focussearch.points en próximas ejecuciones\n",
    "  opt.focussearch.points = 20\n",
    ")"
   ]
  },
  {
   "cell_type": "code",
   "execution_count": 32,
   "metadata": {
    "vscode": {
     "languageId": "r"
    }
   },
   "outputs": [],
   "source": [
    "lrn <- makeMBOLearner(ctrl, obj_fun)\n",
    "\n",
    "surr_km <- makeLearner(\"regr.km\", predict.type = \"se\", covtype = \"matern3_2\")"
   ]
  },
  {
   "cell_type": "code",
   "execution_count": 33,
   "metadata": {
    "vscode": {
     "languageId": "r"
    }
   },
   "outputs": [
    {
     "name": "stderr",
     "output_type": "stream",
     "text": [
      "Computing y column(s) for design. Not provided.\n",
      "\n",
      "[mbo] 0: maxdepth=15; minsplit=164 : y = 0.881 : 6.1 secs : initdesign\n",
      "\n",
      "[mbo] 0: maxdepth=9; minsplit=96 : y = 0.882 : 4.9 secs : initdesign\n",
      "\n",
      "[mbo] 0: maxdepth=7; minsplit=27 : y = 0.874 : 4.2 secs : initdesign\n",
      "\n",
      "[mbo] 0: maxdepth=20; minsplit=74 : y = 0.869 : 5.9 secs : initdesign\n",
      "\n",
      "[mbo] 0: maxdepth=17; minsplit=106 : y = 0.877 : 5.6 secs : initdesign\n",
      "\n",
      "[mbo] 0: maxdepth=4; minsplit=141 : y = 0.849 : 3.2 secs : initdesign\n",
      "\n",
      "[mbo] 0: maxdepth=11; minsplit=20 : y = 0.844 : 5.0 secs : initdesign\n",
      "\n",
      "[mbo] 0: maxdepth=13; minsplit=179 : y = 0.881 : 4.9 secs : initdesign\n",
      "\n"
     ]
    },
    {
     "name": "stdout",
     "output_type": "stream",
     "text": [
      "\n",
      "optimisation start\n",
      "------------------\n",
      "* estimation method   : MLE \n",
      "* optimisation method : BFGS \n",
      "* analytical gradient : used\n",
      "* trend model : ~1\n",
      "* covariance model : \n",
      "  - type :  matern3_2 \n",
      "  - nugget : NO\n",
      "  - parameters lower bounds :  1e-10 1e-10 \n",
      "  - parameters upper bounds :  32 318 \n",
      "  - best initial criterion value(s) :  22.82569 \n",
      "\n",
      "N = 2, M = 5 machine precision = 2.22045e-16\n",
      "At X0, 0 variables are exactly at the bounds\n",
      "At iterate     0  f=      -22.826  |proj g|=   2.2355e-05\n",
      "At iterate     1  f =      -22.826  |proj g|=    2.2347e-05\n",
      "\n",
      "iterations 1\n",
      "function evaluations 2\n",
      "segments explored during Cauchy searches 1\n",
      "BFGS updates skipped 0\n",
      "active bounds at final generalized Cauchy point 0\n",
      "norm of the final projected gradient 2.23466e-05\n",
      "final function value -22.8257\n",
      "\n",
      "F = -22.8257\n",
      "final  value -22.825693 \n",
      "converged\n"
     ]
    },
    {
     "name": "stderr",
     "output_type": "stream",
     "text": [
      "Warning message in generateDesign(control$infill.opt.focussearch.points, ps.local, :\n",
      "\"generateDesign could only produce 18 points instead of 20!\"\n",
      "[mbo] 1: maxdepth=15; minsplit=165 : y = 0.881 : 5.5 secs : infill_ei\n",
      "\n"
     ]
    },
    {
     "name": "stdout",
     "output_type": "stream",
     "text": [
      "\n",
      "optimisation start\n",
      "------------------\n",
      "* estimation method   : MLE \n",
      "* optimisation method : BFGS \n",
      "* analytical gradient : used\n",
      "* trend model : ~1\n",
      "* covariance model : \n",
      "  - type :  matern3_2 \n",
      "  - nugget : NO\n",
      "  - parameters lower bounds :  1e-10 1e-10 \n",
      "  - parameters upper bounds :  32 318 \n",
      "  - best initial criterion value(s) :  30.5823 \n",
      "\n",
      "N = 2, M = 5 machine precision = 2.22045e-16\n",
      "At X0, 0 variables are exactly at the bounds\n",
      "At iterate     0  f=      -30.582  |proj g|=      0.89881\n",
      "At iterate     1  f =      -31.068  |proj g|=      0.067246\n",
      "At iterate     2  f =      -31.071  |proj g|=      0.023746\n",
      "At iterate     3  f =      -31.071  |proj g|=      0.010394\n",
      "At iterate     4  f =      -31.072  |proj g|=      0.004461\n",
      "At iterate     5  f =      -31.072  |proj g|=     0.0044602\n",
      "At iterate     6  f =      -31.075  |proj g|=     0.0044496\n",
      "At iterate     7  f =       -31.08  |proj g|=     0.0044262\n",
      "At iterate     8  f =      -31.423  |proj g|=             0\n",
      "\n",
      "iterations 8\n",
      "function evaluations 10\n",
      "segments explored during Cauchy searches 9\n",
      "BFGS updates skipped 0\n",
      "active bounds at final generalized Cauchy point 2\n",
      "norm of the final projected gradient 0\n",
      "final function value -31.4235\n",
      "\n",
      "F = -31.4235\n",
      "final  value -31.423490 \n",
      "converged\n"
     ]
    },
    {
     "name": "stderr",
     "output_type": "stream",
     "text": [
      "Warning message in generateDesign(control$infill.opt.focussearch.points, ps.local, :\n",
      "\"generateDesign could only produce 15 points instead of 20!\"\n",
      "Warning message in generateDesign(control$infill.opt.focussearch.points, ps.local, :\n",
      "\"generateDesign could only produce 8 points instead of 20!\"\n",
      "Warning message in generateDesign(control$infill.opt.focussearch.points, ps.local, :\n",
      "\"generateDesign could only produce 12 points instead of 20!\"\n",
      "[mbo] 2: maxdepth=13; minsplit=3 : y = 0.7 : 6.0 secs : infill_ei\n",
      "\n"
     ]
    },
    {
     "name": "stdout",
     "output_type": "stream",
     "text": [
      "\n",
      "optimisation start\n",
      "------------------\n",
      "* estimation method   : MLE \n",
      "* optimisation method : BFGS \n",
      "* analytical gradient : used\n",
      "* trend model : ~1\n",
      "* covariance model : \n",
      "  - type :  matern3_2 \n",
      "  - nugget : NO\n",
      "  - parameters lower bounds :  1e-10 1e-10 \n",
      "  - parameters upper bounds :  32 352 \n",
      "  - best initial criterion value(s) :  18.12718 \n",
      "\n",
      "N = 2, M = 5 machine precision = 2.22045e-16\n",
      "At X0, 0 variables are exactly at the bounds\n",
      "At iterate     0  f=      -18.127  |proj g|=      0.62038\n",
      "At iterate     1  f =      -18.507  |proj g|=       0.59265\n",
      "At iterate     2  f =      -18.983  |proj g|=     0.0035719\n",
      "At iterate     3  f =      -18.988  |proj g|=     0.0031842\n",
      "At iterate     4  f =      -19.005  |proj g|=    0.00037443\n",
      "At iterate     5  f =      -19.005  |proj g|=    3.2539e-05\n",
      "At iterate     6  f =      -19.005  |proj g|=     2.899e-07\n",
      "At iterate     7  f =      -19.005  |proj g|=    2.2781e-10\n",
      "\n",
      "iterations 7\n",
      "function evaluations 11\n",
      "segments explored during Cauchy searches 8\n",
      "BFGS updates skipped 0\n",
      "active bounds at final generalized Cauchy point 1\n",
      "norm of the final projected gradient 2.27807e-10\n",
      "final function value -19.0048\n",
      "\n",
      "F = -19.0048\n",
      "final  value -19.004759 \n",
      "converged\n"
     ]
    },
    {
     "name": "stderr",
     "output_type": "stream",
     "text": [
      "Warning message in generateDesign(control$infill.opt.focussearch.points, ps.local, :\n",
      "\"generateDesign could only produce 12 points instead of 20!\"\n",
      "Warning message in generateDesign(control$infill.opt.focussearch.points, ps.local, :\n",
      "\"generateDesign could only produce 10 points instead of 20!\"\n",
      "[mbo] 3: maxdepth=9; minsplit=185 : y = 0.882 : 4.9 secs : infill_ei\n",
      "\n"
     ]
    },
    {
     "name": "stdout",
     "output_type": "stream",
     "text": [
      "\n",
      "optimisation start\n",
      "------------------\n",
      "* estimation method   : MLE \n",
      "* optimisation method : BFGS \n",
      "* analytical gradient : used\n",
      "* trend model : ~1\n",
      "* covariance model : \n",
      "  - type :  matern3_2 \n",
      "  - nugget : NO\n",
      "  - parameters lower bounds :  1e-10 1e-10 \n",
      "  - parameters upper bounds :  32 364 \n",
      "  - best initial criterion value(s) :  20.33066 \n",
      "\n",
      "N = 2, M = 5 machine precision = 2.22045e-16\n",
      "At X0, 0 variables are exactly at the bounds\n",
      "At iterate     0  f=      -20.331  |proj g|=     0.062173\n",
      "At iterate     1  f =      -20.336  |proj g|=      0.061995\n",
      "At iterate     2  f =      -21.465  |proj g|=     0.0059737\n",
      "At iterate     3  f =      -21.468  |proj g|=     1.625e-05\n",
      "At iterate     4  f =      -21.468  |proj g|=    8.7502e-07\n",
      "\n",
      "iterations 4\n",
      "function evaluations 6\n",
      "segments explored during Cauchy searches 5\n",
      "BFGS updates skipped 0\n",
      "active bounds at final generalized Cauchy point 1\n",
      "norm of the final projected gradient 8.75018e-07\n",
      "final function value -21.4683\n",
      "\n",
      "F = -21.4683\n",
      "final  value -21.468332 \n",
      "converged\n"
     ]
    },
    {
     "name": "stderr",
     "output_type": "stream",
     "text": [
      "[mbo] 4: maxdepth=10; minsplit=47 : y = 0.872 : 4.9 secs : infill_ei\n",
      "\n"
     ]
    },
    {
     "name": "stdout",
     "output_type": "stream",
     "text": [
      "\n",
      "optimisation start\n",
      "------------------\n",
      "* estimation method   : MLE \n",
      "* optimisation method : BFGS \n",
      "* analytical gradient : used\n",
      "* trend model : ~1\n",
      "* covariance model : \n",
      "  - type :  matern3_2 \n",
      "  - nugget : NO\n",
      "  - parameters lower bounds :  1e-10 1e-10 \n",
      "  - parameters upper bounds :  32 364 \n",
      "  - best initial criterion value(s) :  22.86524 \n",
      "\n",
      "N = 2, M = 5 machine precision = 2.22045e-16\n",
      "At X0, 0 variables are exactly at the bounds\n",
      "At iterate     0  f=      -22.865  |proj g|=        0.721\n",
      "At iterate     1  f =       -23.35  |proj g|=       0.59605\n",
      "At iterate     2  f =      -23.658  |proj g|=        0.2517\n",
      "At iterate     3  f =      -23.675  |proj g|=       0.21786\n",
      "At iterate     4  f =      -23.697  |proj g|=      0.023654\n",
      "At iterate     5  f =      -23.697  |proj g|=     0.0016444\n",
      "At iterate     6  f =      -23.697  |proj g|=     0.0014602\n",
      "At iterate     7  f =      -23.697  |proj g|=     0.0014524\n",
      "At iterate     8  f =      -23.697  |proj g|=      0.004336\n",
      "At iterate     9  f =      -23.697  |proj g|=     0.0084934\n",
      "At iterate    10  f =      -23.697  |proj g|=      0.015316\n",
      "At iterate    11  f =      -23.698  |proj g|=      0.024835\n",
      "At iterate    12  f =      -23.698  |proj g|=      0.035501\n",
      "At iterate    13  f =      -23.699  |proj g|=      0.038341\n",
      "At iterate    14  f =        -23.7  |proj g|=      0.004965\n",
      "At iterate    15  f =        -23.7  |proj g|=    0.00023764\n",
      "At iterate    16  f =        -23.7  |proj g|=    4.0433e-07\n",
      "At iterate    17  f =        -23.7  |proj g|=    4.2495e-08\n",
      "\n",
      "iterations 17\n",
      "function evaluations 20\n",
      "segments explored during Cauchy searches 18\n",
      "BFGS updates skipped 0\n",
      "active bounds at final generalized Cauchy point 0\n",
      "norm of the final projected gradient 4.24953e-08\n",
      "final function value -23.7004\n",
      "\n",
      "F = -23.7004\n",
      "final  value -23.700373 \n",
      "converged\n"
     ]
    },
    {
     "name": "stderr",
     "output_type": "stream",
     "text": [
      "[mbo] 5: maxdepth=11; minsplit=185 : y = 0.882 : 5.6 secs : infill_ei\n",
      "\n"
     ]
    },
    {
     "name": "stdout",
     "output_type": "stream",
     "text": [
      "\n",
      "optimisation start\n",
      "------------------\n",
      "* estimation method   : MLE \n",
      "* optimisation method : BFGS \n",
      "* analytical gradient : used\n",
      "* trend model : ~1\n",
      "* covariance model : \n",
      "  - type :  matern3_2 \n",
      "  - nugget : NO\n",
      "  - parameters lower bounds :  1e-10 1e-10 \n",
      "  - parameters upper bounds :  32 364 \n",
      "  - best initial criterion value(s) :  26.59784 \n",
      "\n",
      "N = 2, M = 5 machine precision = 2.22045e-16\n",
      "At X0, 0 variables are exactly at the bounds\n",
      "At iterate     0  f=      -26.598  |proj g|=     0.091537\n",
      "At iterate     1  f =      -26.609  |proj g|=      0.091151\n",
      "At iterate     2  f =      -27.947  |proj g|=      0.026468\n",
      "At iterate     3  f =      -28.028  |proj g|=     0.0042641\n",
      "At iterate     4  f =      -28.029  |proj g|=     0.0015077\n",
      "At iterate     5  f =      -28.029  |proj g|=    5.6153e-05\n",
      "At iterate     6  f =      -28.029  |proj g|=    7.0398e-07\n",
      "At iterate     7  f =      -28.029  |proj g|=    3.3437e-10\n",
      "\n",
      "iterations 7\n",
      "function evaluations 9\n",
      "segments explored during Cauchy searches 8\n",
      "BFGS updates skipped 0\n",
      "active bounds at final generalized Cauchy point 1\n",
      "norm of the final projected gradient 3.34374e-10\n",
      "final function value -28.0294\n",
      "\n",
      "F = -28.0294\n",
      "final  value -28.029410 \n",
      "converged\n"
     ]
    },
    {
     "name": "stderr",
     "output_type": "stream",
     "text": [
      "Warning message in generateDesign(control$infill.opt.focussearch.points, ps.local, :\n",
      "\"generateDesign could only produce 10 points instead of 20!\"\n",
      "Warning message in generateDesign(control$infill.opt.focussearch.points, ps.local, :\n",
      "\"generateDesign could only produce 4 points instead of 20!\"\n",
      "Warning message in generateDesign(control$infill.opt.focussearch.points, ps.local, :\n",
      "\"generateDesign could only produce 10 points instead of 20!\"\n",
      "Warning message in generateDesign(control$infill.opt.focussearch.points, ps.local, :\n",
      "\"generateDesign could only produce 4 points instead of 20!\"\n",
      "[mbo] 6: maxdepth=9; minsplit=200 : y = 0.882 : 5.4 secs : infill_ei\n",
      "\n"
     ]
    },
    {
     "name": "stdout",
     "output_type": "stream",
     "text": [
      "\n",
      "optimisation start\n",
      "------------------\n",
      "* estimation method   : MLE \n",
      "* optimisation method : BFGS \n",
      "* analytical gradient : used\n",
      "* trend model : ~1\n",
      "* covariance model : \n",
      "  - type :  matern3_2 \n",
      "  - nugget : NO\n",
      "  - parameters lower bounds :  1e-10 1e-10 \n",
      "  - parameters upper bounds :  32 394 \n",
      "  - best initial criterion value(s) :  28.96301 \n",
      "\n",
      "N = 2, M = 5 machine precision = 2.22045e-16\n",
      "At X0, 0 variables are exactly at the bounds\n",
      "At iterate     0  f=      -28.963  |proj g|=     0.096354\n",
      "At iterate     1  f =      -28.975  |proj g|=      0.095927\n",
      "At iterate     2  f =      -30.195  |proj g|=      0.036059\n",
      "At iterate     3  f =      -30.379  |proj g|=      0.020348\n",
      "At iterate     4  f =      -30.428  |proj g|=     0.0044159\n",
      "At iterate     5  f =       -30.43  |proj g|=     0.0012137\n",
      "At iterate     6  f =       -30.43  |proj g|=    5.1494e-05\n",
      "At iterate     7  f =       -30.43  |proj g|=    5.6769e-07\n",
      "At iterate     8  f =       -30.43  |proj g|=    2.6955e-10\n",
      "\n",
      "iterations 8\n",
      "function evaluations 11\n",
      "segments explored during Cauchy searches 9\n",
      "BFGS updates skipped 0\n",
      "active bounds at final generalized Cauchy point 1\n",
      "norm of the final projected gradient 2.69551e-10\n",
      "final function value -30.4298\n",
      "\n",
      "F = -30.4298\n",
      "final  value -30.429763 \n",
      "converged\n"
     ]
    },
    {
     "name": "stderr",
     "output_type": "stream",
     "text": [
      "Warning message in generateDesign(control$infill.opt.focussearch.points, ps.local, :\n",
      "\"generateDesign could only produce 14 points instead of 20!\"\n",
      "[mbo] 7: maxdepth=4; minsplit=82 : y = 0.849 : 3.8 secs : infill_ei\n",
      "\n"
     ]
    },
    {
     "name": "stdout",
     "output_type": "stream",
     "text": [
      "\n",
      "optimisation start\n",
      "------------------\n",
      "* estimation method   : MLE \n",
      "* optimisation method : BFGS \n",
      "* analytical gradient : used\n",
      "* trend model : ~1\n",
      "* covariance model : \n",
      "  - type :  matern3_2 \n",
      "  - nugget : NO\n",
      "  - parameters lower bounds :  1e-10 1e-10 \n",
      "  - parameters upper bounds :  32 394 \n",
      "  - best initial criterion value(s) :  31.34817 \n",
      "\n",
      "N = 2, M = 5 machine precision = 2.22045e-16\n",
      "At X0, 0 variables are exactly at the bounds\n",
      "At iterate     0  f=      -31.348  |proj g|=      0.79647\n",
      "At iterate     1  f =      -31.931  |proj g|=       0.62528\n",
      "At iterate     2  f =      -32.176  |proj g|=       0.34148\n",
      "At iterate     3  f =      -32.238  |proj g|=      0.053938\n",
      "At iterate     4  f =      -32.239  |proj g|=       0.01296\n",
      "At iterate     5  f =       -32.24  |proj g|=      0.010244\n",
      "At iterate     6  f =       -32.24  |proj g|=      0.010252\n",
      "At iterate     7  f =      -32.241  |proj g|=      0.029358\n",
      "At iterate     8  f =      -32.242  |proj g|=      0.059775\n",
      "At iterate     9  f =      -32.247  |proj g|=       0.10681\n",
      "At iterate    10  f =      -32.258  |proj g|=       0.16842\n",
      "At iterate    11  f =       -32.28  |proj g|=       0.22921\n",
      "At iterate    12  f =      -32.319  |proj g|=       0.23969\n",
      "At iterate    13  f =      -32.345  |proj g|=       0.12501\n",
      "At iterate    14  f =      -32.369  |proj g|=      0.016452\n",
      "At iterate    15  f =      -32.369  |proj g|=     0.0026312\n",
      "At iterate    16  f =      -32.369  |proj g|=    9.9509e-07\n",
      "At iterate    17  f =      -32.369  |proj g|=    9.1836e-08\n",
      "\n",
      "iterations 17\n",
      "function evaluations 21\n",
      "segments explored during Cauchy searches 18\n",
      "BFGS updates skipped 0\n",
      "active bounds at final generalized Cauchy point 0\n",
      "norm of the final projected gradient 9.18363e-08\n",
      "final function value -32.3694\n",
      "\n",
      "F = -32.3694\n",
      "final  value -32.369365 \n",
      "converged\n"
     ]
    },
    {
     "name": "stderr",
     "output_type": "stream",
     "text": [
      "Warning message in generateDesign(control$infill.opt.focussearch.points, ps.local, :\n",
      "\"generateDesign could only produce 9 points instead of 20!\"\n",
      "Warning message in generateDesign(control$infill.opt.focussearch.points, ps.local, :\n",
      "\"generateDesign could only produce 12 points instead of 20!\"\n",
      "[mbo] 8: maxdepth=18; minsplit=200 : y = 0.877 : 8.0 secs : infill_ei\n",
      "\n"
     ]
    },
    {
     "name": "stdout",
     "output_type": "stream",
     "text": [
      "\n",
      "optimisation start\n",
      "------------------\n",
      "* estimation method   : MLE \n",
      "* optimisation method : BFGS \n",
      "* analytical gradient : used\n",
      "* trend model : ~1\n",
      "* covariance model : \n",
      "  - type :  matern3_2 \n",
      "  - nugget : NO\n",
      "  - parameters lower bounds :  1e-10 1e-10 \n",
      "  - parameters upper bounds :  32 394 \n",
      "  - best initial criterion value(s) :  33.91061 \n",
      "\n",
      "N = 2, M = 5 machine precision = 2.22045e-16\n",
      "At X0, 0 variables are exactly at the bounds\n",
      "At iterate     0  f=      -33.911  |proj g|=      0.12389\n",
      "At iterate     1  f =      -33.929  |proj g|=        0.1232\n",
      "At iterate     2  f =      -35.314  |proj g|=      0.051396\n",
      "At iterate     3  f =      -35.758  |proj g|=      0.026738\n",
      "Nonpositive definiteness in Cholesky factorization in formk;\n",
      "   refresh the lbfgs memory and restart the iteration.\n",
      "At iterate     4  f =      -35.807  |proj g|=      0.015919\n",
      "At iterate     5  f =      -35.826  |proj g|=     0.0058833\n",
      "At iterate     6  f =      -35.828  |proj g|=     0.0008055\n",
      "At iterate     7  f =      -35.828  |proj g|=    3.4336e-05\n",
      "At iterate     8  f =      -35.828  |proj g|=    2.1268e-07\n",
      "At iterate     9  f =      -35.828  |proj g|=    5.5683e-11\n",
      "\n",
      "iterations 9\n",
      "function evaluations 16\n",
      "segments explored during Cauchy searches 12\n",
      "BFGS updates skipped 0\n",
      "active bounds at final generalized Cauchy point 1\n",
      "norm of the final projected gradient 5.56828e-11\n",
      "final function value -35.8281\n",
      "\n",
      "F = -35.8281\n",
      "final  value -35.828071 \n",
      "converged\n"
     ]
    },
    {
     "name": "stderr",
     "output_type": "stream",
     "text": [
      "[mbo] 9: maxdepth=20; minsplit=36 : y = 0.845 : 8.3 secs : infill_ei\n",
      "\n"
     ]
    },
    {
     "name": "stdout",
     "output_type": "stream",
     "text": [
      "\n",
      "optimisation start\n",
      "------------------\n",
      "* estimation method   : MLE \n",
      "* optimisation method : BFGS \n",
      "* analytical gradient : used\n",
      "* trend model : ~1\n",
      "* covariance model : \n",
      "  - type :  matern3_2 \n",
      "  - nugget : NO\n",
      "  - parameters lower bounds :  1e-10 1e-10 \n",
      "  - parameters upper bounds :  32 394 \n",
      "  - best initial criterion value(s) :  36.2326 \n",
      "\n",
      "N = 2, M = 5 machine precision = 2.22045e-16\n",
      "At X0, 0 variables are exactly at the bounds\n",
      "At iterate     0  f=      -36.233  |proj g|=      0.11819\n",
      "At iterate     1  f =      -36.249  |proj g|=       0.11717\n",
      "At iterate     2  f =      -37.148  |proj g|=      0.044331\n",
      "At iterate     3  f =      -37.811  |proj g|=      0.026452\n",
      "At iterate     4  f =      -37.876  |proj g|=      0.013778\n",
      "At iterate     5  f =      -37.889  |proj g|=     0.0079979\n",
      "At iterate     6  f =      -37.893  |proj g|=     0.0011753\n",
      "At iterate     7  f =      -37.893  |proj g|=    8.2944e-05\n",
      "At iterate     8  f =      -37.893  |proj g|=    9.5576e-07\n",
      "At iterate     9  f =      -37.893  |proj g|=    7.6457e-10\n",
      "\n",
      "iterations 9\n",
      "function evaluations 11\n",
      "segments explored during Cauchy searches 10\n",
      "BFGS updates skipped 0\n",
      "active bounds at final generalized Cauchy point 1\n",
      "norm of the final projected gradient 7.64566e-10\n",
      "final function value -37.8931\n",
      "\n",
      "F = -37.8931\n",
      "final  value -37.893054 \n",
      "converged\n"
     ]
    },
    {
     "name": "stderr",
     "output_type": "stream",
     "text": [
      "Warning message in generateDesign(control$infill.opt.focussearch.points, ps.local, :\n",
      "\"generateDesign could only produce 18 points instead of 20!\"\n",
      "[mbo] 10: maxdepth=20; minsplit=95 : y = 0.875 : 7.8 secs : infill_ei\n",
      "\n"
     ]
    },
    {
     "name": "stdout",
     "output_type": "stream",
     "text": [
      "\n",
      "optimisation start\n",
      "------------------\n",
      "* estimation method   : MLE \n",
      "* optimisation method : BFGS \n",
      "* analytical gradient : used\n",
      "* trend model : ~1\n",
      "* covariance model : \n",
      "  - type :  matern3_2 \n",
      "  - nugget : NO\n",
      "  - parameters lower bounds :  1e-10 1e-10 \n",
      "  - parameters upper bounds :  32 394 \n",
      "  - best initial criterion value(s) :  39.65552 \n",
      "\n",
      "N = 2, M = 5 machine precision = 2.22045e-16\n",
      "At X0, 0 variables are exactly at the bounds\n",
      "At iterate     0  f=      -39.656  |proj g|=      0.92938\n",
      "At iterate     1  f =      -40.347  |proj g|=       0.51071\n",
      "At iterate     2  f =      -40.517  |proj g|=      0.036466\n",
      "At iterate     3  f =      -40.518  |proj g|=      0.016897\n",
      "At iterate     4  f =      -40.519  |proj g|=      0.016988\n",
      "At iterate     5  f =      -40.523  |proj g|=      0.048689\n",
      "At iterate     6  f =      -40.543  |proj g|=       0.14571\n",
      "At iterate     7  f =      -40.578  |proj g|=       0.23637\n",
      "At iterate     8  f =       -40.64  |proj g|=       0.30171\n",
      "At iterate     9  f =      -40.712  |proj g|=       0.27181\n",
      "At iterate    10  f =      -40.767  |proj g|=      0.024697\n",
      "At iterate    11  f =      -40.777  |proj g|=     0.0010985\n",
      "At iterate    12  f =      -40.777  |proj g|=     0.0019426\n",
      "At iterate    13  f =      -40.777  |proj g|=     0.0019114\n",
      "At iterate    14  f =      -40.777  |proj g|=    1.0877e-06\n",
      "At iterate    15  f =      -40.777  |proj g|=    1.1188e-09\n",
      "\n",
      "iterations 15\n",
      "function evaluations 19\n",
      "segments explored during Cauchy searches 15\n",
      "BFGS updates skipped 0\n",
      "active bounds at final generalized Cauchy point 0\n",
      "norm of the final projected gradient 1.11881e-09\n",
      "final function value -40.777\n",
      "\n",
      "F = -40.777\n",
      "final  value -40.776985 \n",
      "converged\n"
     ]
    },
    {
     "name": "stderr",
     "output_type": "stream",
     "text": [
      "Warning message in generateDesign(control$infill.opt.focussearch.points, ps.local, :\n",
      "\"generateDesign could only produce 14 points instead of 20!\"\n",
      "[mbo] 11: maxdepth=7; minsplit=155 : y = 0.877 : 4.4 secs : infill_ei\n",
      "\n"
     ]
    },
    {
     "name": "stdout",
     "output_type": "stream",
     "text": [
      "\n",
      "optimisation start\n",
      "------------------\n",
      "* estimation method   : MLE \n",
      "* optimisation method : BFGS \n",
      "* analytical gradient : used\n",
      "* trend model : ~1\n",
      "* covariance model : \n",
      "  - type :  matern3_2 \n",
      "  - nugget : NO\n",
      "  - parameters lower bounds :  1e-10 1e-10 \n",
      "  - parameters upper bounds :  32 394 \n",
      "  - best initial criterion value(s) :  42.55045 \n",
      "\n",
      "N = 2, M = 5 machine precision = 2.22045e-16\n",
      "At X0, 0 variables are exactly at the bounds\n",
      "At iterate     0  f=       -42.55  |proj g|=      0.13336\n",
      "At iterate     1  f =       -42.57  |proj g|=       0.13196\n",
      "At iterate     2  f =       -43.28  |proj g|=      0.029798\n",
      "At iterate     3  f =      -43.773  |proj g|=      0.019527\n",
      "At iterate     4  f =      -43.801  |proj g|=    0.00064257\n",
      "At iterate     5  f =      -43.801  |proj g|=    0.00014167\n",
      "At iterate     6  f =      -43.801  |proj g|=    1.4803e-06\n",
      "At iterate     7  f =      -43.801  |proj g|=    3.3587e-09\n",
      "\n",
      "iterations 7\n",
      "function evaluations 10\n",
      "segments explored during Cauchy searches 8\n",
      "BFGS updates skipped 0\n",
      "active bounds at final generalized Cauchy point 1\n",
      "norm of the final projected gradient 3.35871e-09\n",
      "final function value -43.8015\n",
      "\n",
      "F = -43.8015\n",
      "final  value -43.801486 \n",
      "converged\n"
     ]
    },
    {
     "name": "stderr",
     "output_type": "stream",
     "text": [
      "Warning message in generateDesign(control$infill.opt.focussearch.points, ps.local, :\n",
      "\"generateDesign could only produce 18 points instead of 20!\"\n",
      "Warning message in generateDesign(control$infill.opt.focussearch.points, ps.local, :\n",
      "\"generateDesign could only produce 6 points instead of 20!\"\n",
      "[mbo] 12: maxdepth=4; minsplit=165 : y = 0.849 : 4.0 secs : infill_ei\n",
      "\n"
     ]
    },
    {
     "name": "stdout",
     "output_type": "stream",
     "text": [
      "\n",
      "optimisation start\n",
      "------------------\n",
      "* estimation method   : MLE \n",
      "* optimisation method : BFGS \n",
      "* analytical gradient : used\n",
      "* trend model : ~1\n",
      "* covariance model : \n",
      "  - type :  matern3_2 \n",
      "  - nugget : NO\n",
      "  - parameters lower bounds :  1e-10 1e-10 \n",
      "  - parameters upper bounds :  32 394 \n",
      "  - best initial criterion value(s) :  45.58031 \n",
      "\n",
      "N = 2, M = 5 machine precision = 2.22045e-16\n",
      "At X0, 0 variables are exactly at the bounds\n",
      "At iterate     0  f=       -45.58  |proj g|=      0.75339\n",
      "At iterate     1  f =      -46.043  |proj g|=       0.46871\n",
      "At iterate     2  f =       -46.32  |proj g|=       0.04839\n",
      "At iterate     3  f =      -46.322  |proj g|=       0.01382\n",
      "At iterate     4  f =      -46.322  |proj g|=      0.013844\n",
      "At iterate     5  f =      -46.324  |proj g|=      0.020881\n",
      "At iterate     6  f =      -46.328  |proj g|=      0.052266\n",
      "At iterate     7  f =       -46.34  |proj g|=       0.11341\n",
      "At iterate     8  f =      -46.371  |proj g|=       0.21483\n",
      "At iterate     9  f =      -46.451  |proj g|=       0.38943\n",
      "At iterate    10  f =      -46.643  |proj g|=       0.57556\n",
      "At iterate    11  f =      -46.834  |proj g|=       0.33049\n",
      "At iterate    12  f =      -46.888  |proj g|=      0.097196\n",
      "At iterate    13  f =      -46.894  |proj g|=      0.013234\n",
      "At iterate    14  f =      -46.894  |proj g|=     0.0009914\n",
      "At iterate    15  f =      -46.894  |proj g|=    8.5288e-06\n",
      "At iterate    16  f =      -46.894  |proj g|=     1.051e-08\n",
      "\n",
      "iterations 16\n",
      "function evaluations 17\n",
      "segments explored during Cauchy searches 16\n",
      "BFGS updates skipped 0\n",
      "active bounds at final generalized Cauchy point 0\n",
      "norm of the final projected gradient 1.05104e-08\n",
      "final function value -46.8938\n",
      "\n",
      "F = -46.8938\n",
      "final  value -46.893751 \n",
      "converged\n"
     ]
    },
    {
     "name": "stderr",
     "output_type": "stream",
     "text": [
      "[mbo] 13: maxdepth=16; minsplit=159 : y = 0.88 : 6.1 secs : infill_ei\n",
      "\n"
     ]
    },
    {
     "name": "stdout",
     "output_type": "stream",
     "text": [
      "\n",
      "optimisation start\n",
      "------------------\n",
      "* estimation method   : MLE \n",
      "* optimisation method : BFGS \n",
      "* analytical gradient : used\n",
      "* trend model : ~1\n",
      "* covariance model : \n",
      "  - type :  matern3_2 \n",
      "  - nugget : NO\n",
      "  - parameters lower bounds :  1e-10 1e-10 \n",
      "  - parameters upper bounds :  32 394 \n",
      "  - best initial criterion value(s) :  48.80247 \n",
      "\n",
      "N = 2, M = 5 machine precision = 2.22045e-16\n",
      "At X0, 0 variables are exactly at the bounds\n",
      "At iterate     0  f=      -48.802  |proj g|=      0.80813\n",
      "At iterate     1  f =      -49.282  |proj g|=       0.32917\n",
      "At iterate     2  f =      -49.327  |proj g|=       0.21166\n",
      "At iterate     3  f =      -49.347  |proj g|=       0.02691\n",
      "At iterate     4  f =      -49.348  |proj g|=      0.026292\n",
      "At iterate     5  f =      -49.349  |proj g|=      0.027079\n",
      "At iterate     6  f =      -49.354  |proj g|=      0.074451\n",
      "At iterate     7  f =      -49.366  |proj g|=       0.15183\n",
      "At iterate     8  f =      -49.395  |proj g|=       0.27075\n",
      "At iterate     9  f =      -49.467  |proj g|=       0.42548\n",
      "At iterate    10  f =      -49.616  |proj g|=       0.51852\n",
      "At iterate    11  f =      -49.826  |proj g|=       0.29718\n",
      "At iterate    12  f =      -49.884  |proj g|=       0.11031\n",
      "At iterate    13  f =      -49.891  |proj g|=      0.027551\n",
      "At iterate    14  f =      -49.891  |proj g|=     0.0030774\n",
      "At iterate    15  f =      -49.891  |proj g|=    1.4353e-05\n",
      "At iterate    16  f =      -49.891  |proj g|=    5.2591e-05\n",
      "\n",
      "iterations 16\n",
      "function evaluations 17\n",
      "segments explored during Cauchy searches 16\n",
      "BFGS updates skipped 0\n",
      "active bounds at final generalized Cauchy point 0\n",
      "norm of the final projected gradient 5.25914e-05\n",
      "final function value -49.8914\n",
      "\n",
      "F = -49.8914\n",
      "final  value -49.891356 \n",
      "converged\n"
     ]
    },
    {
     "name": "stderr",
     "output_type": "stream",
     "text": [
      "[mbo] 14: maxdepth=19; minsplit=139 : y = 0.878 : 6.4 secs : infill_ei\n",
      "\n"
     ]
    },
    {
     "name": "stdout",
     "output_type": "stream",
     "text": [
      "\n",
      "optimisation start\n",
      "------------------\n",
      "* estimation method   : MLE \n",
      "* optimisation method : BFGS \n",
      "* analytical gradient : used\n",
      "* trend model : ~1\n",
      "* covariance model : \n",
      "  - type :  matern3_2 \n",
      "  - nugget : NO\n",
      "  - parameters lower bounds :  1e-10 1e-10 \n",
      "  - parameters upper bounds :  32 394 \n",
      "  - best initial criterion value(s) :  51.88553 \n",
      "\n",
      "N = 2, M = 5 machine precision = 2.22045e-16\n",
      "At X0, 0 variables are exactly at the bounds\n",
      "At iterate     0  f=      -51.886  |proj g|=        0.658\n",
      "At iterate     1  f =      -52.204  |proj g|=       0.29373\n",
      "At iterate     2  f =      -52.269  |proj g|=      0.057943\n",
      "At iterate     3  f =      -52.272  |proj g|=      0.014937\n",
      "At iterate     4  f =      -52.278  |proj g|=      0.031423\n",
      "At iterate     5  f =       -52.33  |proj g|=       0.16222\n",
      "At iterate     6  f =      -52.435  |proj g|=       0.32206\n",
      "At iterate     7  f =      -52.609  |proj g|=       0.46319\n",
      "At iterate     8  f =      -52.766  |proj g|=       0.39359\n",
      "At iterate     9  f =      -52.866  |proj g|=      0.033983\n",
      "At iterate    10  f =      -52.868  |proj g|=     0.0052114\n",
      "At iterate    11  f =      -52.868  |proj g|=    0.00022589\n",
      "At iterate    12  f =      -52.868  |proj g|=    2.6665e-05\n",
      "\n",
      "iterations 12\n",
      "function evaluations 15\n",
      "segments explored during Cauchy searches 12\n",
      "BFGS updates skipped 0\n",
      "active bounds at final generalized Cauchy point 0\n",
      "norm of the final projected gradient 2.66648e-05\n",
      "final function value -52.8678\n",
      "\n",
      "F = -52.8678\n",
      "final  value -52.867781 \n",
      "converged\n"
     ]
    },
    {
     "name": "stderr",
     "output_type": "stream",
     "text": [
      "Warning message in generateDesign(control$infill.opt.focussearch.points, ps.local, :\n",
      "\"generateDesign could only produce 12 points instead of 20!\"\n",
      "Warning message in generateDesign(control$infill.opt.focussearch.points, ps.local, :\n",
      "\"generateDesign could only produce 6 points instead of 20!\"\n",
      "Warning message in generateDesign(control$infill.opt.focussearch.points, ps.local, :\n",
      "\"generateDesign could only produce 18 points instead of 20!\"\n",
      "[mbo] 15: maxdepth=12; minsplit=200 : y = 0.881 : 6.1 secs : infill_ei\n",
      "\n"
     ]
    },
    {
     "name": "stdout",
     "output_type": "stream",
     "text": [
      "\n",
      "optimisation start\n",
      "------------------\n",
      "* estimation method   : MLE \n",
      "* optimisation method : BFGS \n",
      "* analytical gradient : used\n",
      "* trend model : ~1\n",
      "* covariance model : \n",
      "  - type :  matern3_2 \n",
      "  - nugget : NO\n",
      "  - parameters lower bounds :  1e-10 1e-10 \n",
      "  - parameters upper bounds :  32 394 \n",
      "  - best initial criterion value(s) :  56.09488 \n",
      "\n",
      "N = 2, M = 5 machine precision = 2.22045e-16\n",
      "At X0, 0 variables are exactly at the bounds\n",
      "At iterate     0  f=      -56.095  |proj g|=     0.086292\n",
      "At iterate     1  f =      -56.102  |proj g|=      0.084781\n",
      "At iterate     2  f =      -56.364  |proj g|=      0.036881\n",
      "At iterate     3  f =      -56.435  |proj g|=      0.032485\n",
      "At iterate     4  f =      -56.679  |proj g|=    0.00087614\n",
      "At iterate     5  f =      -56.679  |proj g|=    0.00012254\n",
      "At iterate     6  f =      -56.679  |proj g|=    8.2474e-07\n",
      "At iterate     7  f =      -56.679  |proj g|=    7.8835e-10\n",
      "\n",
      "iterations 7\n",
      "function evaluations 8\n",
      "segments explored during Cauchy searches 7\n",
      "BFGS updates skipped 0\n",
      "active bounds at final generalized Cauchy point 1\n",
      "norm of the final projected gradient 7.88352e-10\n",
      "final function value -56.6791\n",
      "\n",
      "F = -56.6791\n",
      "final  value -56.679083 \n",
      "converged\n"
     ]
    },
    {
     "name": "stderr",
     "output_type": "stream",
     "text": [
      "Warning message in generateDesign(control$infill.opt.focussearch.points, ps.local, :\n",
      "\"generateDesign could only produce 16 points instead of 20!\"\n",
      "[mbo] 16: maxdepth=11; minsplit=148 : y = 0.882 : 5.7 secs : infill_ei\n",
      "\n"
     ]
    },
    {
     "name": "stdout",
     "output_type": "stream",
     "text": [
      "\n",
      "optimisation start\n",
      "------------------\n",
      "* estimation method   : MLE \n",
      "* optimisation method : BFGS \n",
      "* analytical gradient : used\n",
      "* trend model : ~1\n",
      "* covariance model : \n",
      "  - type :  matern3_2 \n",
      "  - nugget : NO\n",
      "  - parameters lower bounds :  1e-10 1e-10 \n",
      "  - parameters upper bounds :  32 394 \n",
      "  - best initial criterion value(s) :  59.55922 \n",
      "\n",
      "N = 2, M = 5 machine precision = 2.22045e-16\n",
      "At X0, 0 variables are exactly at the bounds\n",
      "At iterate     0  f=      -59.559  |proj g|=     0.090666\n",
      "At iterate     1  f =      -59.568  |proj g|=      0.088991\n",
      "At iterate     2  f =      -59.843  |proj g|=      0.038623\n",
      "At iterate     3  f =       -60.15  |proj g|=      0.018623\n",
      "At iterate     4  f =      -60.245  |proj g|=    0.00085236\n",
      "At iterate     5  f =      -60.245  |proj g|=    8.1211e-05\n",
      "At iterate     6  f =      -60.245  |proj g|=    4.9664e-07\n",
      "At iterate     7  f =      -60.245  |proj g|=    2.9401e-10\n",
      "\n",
      "iterations 7\n",
      "function evaluations 9\n",
      "segments explored during Cauchy searches 7\n",
      "BFGS updates skipped 0\n",
      "active bounds at final generalized Cauchy point 1\n",
      "norm of the final projected gradient 2.94014e-10\n",
      "final function value -60.2448\n",
      "\n",
      "F = -60.2448\n",
      "final  value -60.244845 \n",
      "converged\n",
      "Recommended parameters:\n",
      "maxdepth=9; minsplit=185\n",
      "Objective: y = 0.882\n",
      "\n",
      "Optimization path\n",
      "8 + 16 entries in total, displaying last 10 (or less):\n",
      "   maxdepth minsplit         y dob eol error.message exec.time           ei\n",
      "15        4       82 0.8491361   7  NA          <NA>      3.82 -0.007456437\n",
      "16       18      200 0.8771663   8  NA          <NA>      8.01 -0.010436494\n",
      "17       20       36 0.8447402   9  NA          <NA>      8.33 -0.008506480\n",
      "18       20       95 0.8746070  10  NA          <NA>      7.76 -0.008831345\n",
      "19        7      155 0.8773418  11  NA          <NA>      4.39 -0.008978901\n",
      "20        4      165 0.8492355  12  NA          <NA>      3.98 -0.005972696\n",
      "21       16      159 0.8800729  13  NA          <NA>      6.11 -0.008363298\n",
      "22       19      139 0.8780697  14  NA          <NA>      6.38 -0.007633350\n",
      "23       12      200 0.8809059  15  NA          <NA>      6.15 -0.006999618\n",
      "24       11      148 0.8815296  16  NA          <NA>      5.67 -0.007036977\n",
      "   error.model train.time prop.type propose.time          se      mean\n",
      "15        <NA>       0.04 infill_ei         0.18 0.027700112 0.8741535\n",
      "16        <NA>       0.02 infill_ei         0.22 0.041886207 0.8677470\n",
      "17        <NA>       0.03 infill_ei         0.19 0.029056427 0.8754851\n",
      "18        <NA>       0.03 infill_ei         0.21 0.019651363 0.8841976\n",
      "19        <NA>       0.03 infill_ei         0.22 0.035345341 0.8704872\n",
      "20        <NA>       0.04 infill_ei         0.24 0.015702642 0.8816960\n",
      "21        <NA>       0.03 infill_ei         0.17 0.021398729 0.8819390\n",
      "22        <NA>       0.04 infill_ei         0.15 0.020746781 0.8809680\n",
      "23        <NA>       0.03 infill_ei         0.21 0.015600028 0.8837835\n",
      "24        <NA>       0.03 infill_ei         0.30 0.008320736 0.8881440\n"
     ]
    }
   ],
   "source": [
    "run_md_ms <- mbo(obj_fun, learner = surr_km, control = ctrl, )\n",
    "print(run_md_ms)"
   ]
  },
  {
   "cell_type": "code",
   "execution_count": 34,
   "metadata": {
    "vscode": {
     "languageId": "r"
    }
   },
   "outputs": [
    {
     "data": {
      "image/png": "[encoded data removed]",
      "text/plain": [
       "plot without title"
      ]
     },
     "metadata": {
      "image/png": {
       "height": 420,
       "width": 420
      }
     },
     "output_type": "display_data"
    }
   ],
   "source": [
    "## Visualizamos\n",
    "iter <- as.data.frame(run_md_ms$opt.path)\n",
    "ggplot(iter, aes(y=minsplit,x=maxdepth, color=prop.type)) + geom_point(aes(size = y))"
   ]
  }
 ],
 "metadata": {
  "kernelspec": {
   "display_name": "R",
   "language": "R",
   "name": "ir"
  },
  "language_info": {
   "codemirror_mode": "r",
   "file_extension": ".r",
   "mimetype": "text/x-r-source",
   "name": "R",
   "pygments_lexer": "r",
   "version": "4.3.1"
  },
  "orig_nbformat": 4
 },
 "nbformat": 4,
 "nbformat_minor": 2
}
