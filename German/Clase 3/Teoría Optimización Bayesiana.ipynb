{
 "cells": [
  {
   "cell_type": "markdown",
   "metadata": {},
   "source": [
    "# Step 1: Cargando los datos y las librerías"
   ]
  },
  {
   "cell_type": "markdown",
   "metadata": {},
   "source": [
    "\"Sobre Cocinar Pizzas\""
   ]
  },
  {
   "cell_type": "markdown",
   "metadata": {},
   "source": [
    "Success is a lousy teacher. It seduces smart people into thinking they can't lose.\n",
    " --- Bill Gates"
   ]
  },
  {
   "cell_type": "code",
   "execution_count": null,
   "metadata": {
    "vscode": {
     "languageId": "r"
    }
   },
   "outputs": [],
   "source": [
    "# Limpiamos el entorno\n",
    "rm(list = ls())\n",
    "gc(verbose = FALSE)"
   ]
  },
  {
   "cell_type": "code",
   "execution_count": 2,
   "metadata": {
    "vscode": {
     "languageId": "r"
    }
   },
   "outputs": [
    {
     "name": "stderr",
     "output_type": "stream",
     "text": [
      "Loading required package: data.table\n",
      "\n",
      "Loading required package: rpart\n",
      "\n",
      "Loading required package: ggplot2\n",
      "\n",
      "Loading required package: ROCR\n",
      "\n",
      "Loading required package: lubridate\n",
      "\n",
      "\n",
      "Attaching package: 'lubridate'\n",
      "\n",
      "\n",
      "The following objects are masked from 'package:data.table':\n",
      "\n",
      "    hour, isoweek, mday, minute, month, quarter, second, wday, week,\n",
      "    yday, year\n",
      "\n",
      "\n",
      "The following objects are masked from 'package:base':\n",
      "\n",
      "    date, intersect, setdiff, union\n",
      "\n",
      "\n",
      "Loading required package: lhs\n",
      "\n",
      "Loading required package: DiceKriging\n",
      "\n",
      "Loading required package: mlrMBO\n",
      "\n",
      "Loading required package: mlr\n",
      "\n",
      "Loading required package: ParamHelpers\n",
      "\n",
      "Warning message: 'mlr' is in 'maintenance-only' mode since July 2019.\n",
      "Future development will only happen in 'mlr3'\n",
      "(<https://mlr3.mlr-org.com>). Due to the focus on 'mlr3' there might be\n",
      "uncaught bugs meanwhile in {mlr} - please consider switching.\n",
      "\n",
      "\n",
      "Attaching package: 'mlr'\n",
      "\n",
      "\n",
      "The following object is masked from 'package:ROCR':\n",
      "\n",
      "    performance\n",
      "\n",
      "\n",
      "Loading required package: smoof\n",
      "\n",
      "Loading required package: checkmate\n",
      "\n",
      "\n",
      "Attaching package: 'checkmate'\n",
      "\n",
      "\n",
      "The following object is masked from 'package:DiceKriging':\n",
      "\n",
      "    checkNames\n",
      "\n",
      "\n"
     ]
    }
   ],
   "source": [
    "# Librerías necesarias\n",
    "require(\"data.table\")\n",
    "require(\"rpart\")\n",
    "require(\"ggplot2\")\n",
    "require(\"ROCR\")\n",
    "require(\"lubridate\")\n",
    "require(\"lhs\")\n",
    "require(\"DiceKriging\")\n",
    "require(\"mlrMBO\")"
   ]
  },
  {
   "cell_type": "code",
   "execution_count": 3,
   "metadata": {
    "vscode": {
     "languageId": "r"
    }
   },
   "outputs": [],
   "source": [
    "# Aqui se debe poner la carpeta de la materia de SU computadora local\n",
    "setwd(\"C:/Users/German/Desktop/dmeyf2023/German/Clase 1\") # Establezco el Working Directory\n",
    "\n",
    "# Poner sus semillas\n",
    "semillas <- c(279511, 279523, 279541, 279551, 279571)"
   ]
  },
  {
   "cell_type": "code",
   "execution_count": 5,
   "metadata": {
    "vscode": {
     "languageId": "r"
    }
   },
   "outputs": [],
   "source": [
    "# Cargamos el dataset\n",
    "dataset <- fread(\"competencia_01.csv\")\n",
    "\n",
    "# Nos quedamos solo con el 202103\n",
    "dataset <- dataset[foto_mes == 202103]"
   ]
  },
  {
   "cell_type": "code",
   "execution_count": 6,
   "metadata": {
    "vscode": {
     "languageId": "r"
    }
   },
   "outputs": [],
   "source": [
    "# Creamos una clase binaria\n",
    "dataset[, clase_binaria := ifelse(\n",
    "                            clase_ternaria == \"BAJA+2\",\n",
    "                                \"evento\",\n",
    "                                \"noevento\"\n",
    "                            )]\n",
    "# Borramos el target viejo\n",
    "dataset[, clase_ternaria := NULL]"
   ]
  },
  {
   "cell_type": "code",
   "execution_count": 7,
   "metadata": {
    "vscode": {
     "languageId": "r"
    }
   },
   "outputs": [],
   "source": [
    "# Seteamos nuestra primera semilla\n",
    "set.seed(semillas[1])\n",
    "\n",
    "# Particionamos de forma estratificada\n",
    "in_training <- caret::createDataPartition(dataset$clase_binaria,\n",
    "                     p = 0.70, list = FALSE)\n",
    "dtrain  <-  dataset[in_training, ]\n",
    "dtest   <-  dataset[-in_training, ]"
   ]
  },
  {
   "cell_type": "markdown",
   "metadata": {},
   "source": [
    "# Step 2: Nuestra pizza: Un modelo"
   ]
  },
  {
   "cell_type": "code",
   "execution_count": 8,
   "metadata": {
    "vscode": {
     "languageId": "r"
    }
   },
   "outputs": [
    {
     "name": "stdout",
     "output_type": "stream",
     "text": [
      "[1] \"Tiempo de ajuste en train y predict en test\"\n",
      "Time difference of 7.745408 secs\n",
      "[1] \"La ganancia NORMALIZADA de nuestro modelo es:\"\n",
      "[1] 71726667\n"
     ]
    }
   ],
   "source": [
    "# Calculamos cuanto tarda un modelo \"promedio\" entrenar.\n",
    "start_time <- Sys.time()\n",
    "modelo <- rpart(clase_binaria ~ .,\n",
    "                data = dtrain,\n",
    "                xval = 0,\n",
    "                cp = 0,\n",
    "                minsplit = 20,\n",
    "                minbucket = 10,\n",
    "                maxdepth = 10)\n",
    "pred_testing <- predict(modelo, dtest, type = \"prob\")\n",
    "end_time <- Sys.time()\n",
    "model_time <- end_time - start_time\n",
    "print(\"Tiempo de ajuste en train y predict en test\")\n",
    "print(model_time)\n",
    "\n",
    "ganancia <- function(probabilidades, clase) {\n",
    "  return(sum(\n",
    "    (probabilidades >= 0.025) * ifelse(clase == \"evento\", 273000, -7000))\n",
    "  )\n",
    "}\n",
    "\n",
    "print(\"La ganancia NORMALIZADA de nuestro modelo es:\")\n",
    "print(ganancia(pred_testing[, \"evento\"], dtest$clase_binaria) / 0.3)"
   ]
  },
  {
   "cell_type": "markdown",
   "metadata": {},
   "source": [
    "**Preguntas**\n",
    "- ¿Es acaso este el mejor modelo posible?\n",
    "- ¿Dónde lo buscamos el mejor modelo?\n",
    "- ¿Qué parámetros conoce para un árbol de decisión?\n",
    "- ¿Qué espacios de búsqueda tienen los parámetros *maxdepth* y *minsplit*?\n",
    "- ¿Cómo se imagina la interacción entre esto dos últimos parámetros?"
   ]
  },
  {
   "cell_type": "markdown",
   "metadata": {},
   "source": [
    "# Step 3: There Ain't No Such Thing As A Free Lunch"
   ]
  },
  {
   "cell_type": "code",
   "execution_count": 9,
   "metadata": {
    "vscode": {
     "languageId": "r"
    }
   },
   "outputs": [
    {
     "name": "stdout",
     "output_type": "stream",
     "text": [
      "[1] \"2d 7H 22M 46.8034172058105S\"\n",
      "[1] \"226d 3H 12M 26.7348861694336S\"\n"
     ]
    }
   ],
   "source": [
    "# Supongamos que sólo vamos a buscar sobre los parámetros *maxdepth* y\n",
    "# *minsplit*\n",
    "\n",
    "# Tamaño del espacio de búsqueda de *maxdepth*\n",
    "n_md <- 30 - 4\n",
    "# Tamaño del espacio de búsqueda de *minsplit*\n",
    "n_ms <- 200 - 2\n",
    "# Cantidad de semillas\n",
    "n_seeds <- 5\n",
    "\n",
    "# Estimación de cuanto tardaría en buscar el mejor modelo con 2 parámetros.\n",
    "print(seconds_to_period(n_md * n_ms * n_seeds * model_time))\n",
    "\n",
    "# Tamaño del espacio de búsqueda de *minbucket*\n",
    "n_mb <- 100 - 2\n",
    "\n",
    "# Estimación de cuanto tardaría en buscar el mejor modelo con 3 parámetros.\n",
    "print(seconds_to_period(n_md * n_ms * n_seeds * model_time * n_mb))"
   ]
  },
  {
   "cell_type": "markdown",
   "metadata": {},
   "source": [
    "**Preguntas**\n",
    "- ¿Dispone del tiempo para realizar esta búsqueda?\n",
    "- ¿Qué hacemos cuándo un parámetro tiene valores continuos?"
   ]
  },
  {
   "cell_type": "markdown",
   "metadata": {},
   "source": [
    "# Step 4: Empezando a probar con menos casos"
   ]
  },
  {
   "cell_type": "code",
   "execution_count": 10,
   "metadata": {
    "vscode": {
     "languageId": "r"
    }
   },
   "outputs": [
    {
     "data": {
      "image/png": "[encoded data removed]",
      "text/plain": [
       "plot without title"
      ]
     },
     "metadata": {
      "image/png": {
       "height": 420,
       "width": 420
      }
     },
     "output_type": "display_data"
    }
   ],
   "source": [
    "set.seed(semillas[1])\n",
    "dist_uni <- matrix(runif(20), 10, 2)\n",
    "\n",
    "# LHS Latin hypercube sampling\n",
    "set.seed(semillas[1])\n",
    "dist_lhs <- optimumLHS(10, 2)\n",
    "\n",
    "par(mfrow = c(1, 2))\n",
    "plot(dist_uni)\n",
    "plot(dist_lhs)"
   ]
  },
  {
   "cell_type": "markdown",
   "metadata": {},
   "source": [
    "**Preguntas**\n",
    "- ¿Cuál distribución considera mejor? Justifique"
   ]
  },
  {
   "cell_type": "markdown",
   "metadata": {},
   "source": [
    "# Step 5: \"Tomando una muestra de sangre\""
   ]
  },
  {
   "cell_type": "code",
   "execution_count": 11,
   "metadata": {
    "vscode": {
     "languageId": "r"
    }
   },
   "outputs": [],
   "source": [
    "# Armamos una función para modelar con el fin de simplificar el código futuro\n",
    "modelo_rpart <- function(train, test, cp =  0, ms = 20, mb = 1, md = 10) {\n",
    "    modelo <- rpart(clase_binaria ~ ., data = train,\n",
    "                    xval = 0,\n",
    "                    cp = cp,\n",
    "                    minsplit = ms,\n",
    "                    minbucket = mb,\n",
    "                    maxdepth = md)\n",
    "\n",
    "    test_prediccion <- predict(modelo, test, type = \"prob\")\n",
    "    roc_pred <-  ROCR::prediction(test_prediccion[, \"evento\"],\n",
    "                    test$clase_binaria,\n",
    "                                  label.ordering = c(\"noevento\", \"evento\"))\n",
    "    auc_t <-  ROCR::performance(roc_pred, \"auc\")\n",
    "\n",
    "    unlist(auc_t@y.values)\n",
    "}"
   ]
  },
  {
   "cell_type": "code",
   "execution_count": 12,
   "metadata": {
    "vscode": {
     "languageId": "r"
    }
   },
   "outputs": [],
   "source": [
    "# Función para tomar un muestra dejando todos los elementos de la clase BAJA+2\n",
    "tomar_muestra <- function(datos, resto = 10000) {\n",
    "      t <- datos$clase_binaria == \"evento\"\n",
    "      r <- rep(FALSE, length(datos$clase_binaria))\n",
    "      r[!t][sample.int(resto, n = (length(t) - sum(t)))] <- TRUE\n",
    "      t | r\n",
    "}"
   ]
  },
  {
   "cell_type": "code",
   "execution_count": 13,
   "metadata": {
    "vscode": {
     "languageId": "r"
    }
   },
   "outputs": [
    {
     "data": {
      "text/plain": [
       "\n",
       "  evento noevento \n",
       "    1049    10000 "
      ]
     },
     "metadata": {},
     "output_type": "display_data"
    }
   ],
   "source": [
    "set.seed(semillas[1])\n",
    "ds_sample <- tomar_muestra(dataset)\n",
    "table(dataset[ds_sample]$clase_binaria)\n"
   ]
  },
  {
   "cell_type": "markdown",
   "metadata": {},
   "source": [
    "**Preguntas**\n",
    "- ¿Qué tipo de muestre se tomó?\n",
    "- ¿Hay mejores formas de muestrear?\n",
    "- ¿Es bueno muestrear?\n",
    "- ¿Qué efectos en las métricas va a producir el muestreo?\n",
    "- ¿Por qué se eligió usar el AUC?\n",
    "- ¿Qué hay que cambiar en la función de ganancia para poder utilizarla?"
   ]
  },
  {
   "cell_type": "markdown",
   "metadata": {},
   "source": [
    "# Step 6: Comparando tiempos con o sin muestras"
   ]
  },
  {
   "cell_type": "code",
   "execution_count": 14,
   "metadata": {
    "vscode": {
     "languageId": "r"
    }
   },
   "outputs": [
    {
     "name": "stdout",
     "output_type": "stream",
     "text": [
      "[1] \"Train entero\"\n",
      "Time difference of 8.149401 secs\n",
      "[1] 0.8767164\n"
     ]
    }
   ],
   "source": [
    "t0 <- Sys.time()\n",
    "r1 <- modelo_rpart(dtrain, dtest)\n",
    "t1 <- Sys.time()\n",
    "print(\"Train entero\")\n",
    "print(t1 - t0)\n",
    "print(r1)"
   ]
  },
  {
   "cell_type": "code",
   "execution_count": 15,
   "metadata": {
    "vscode": {
     "languageId": "r"
    }
   },
   "outputs": [],
   "source": [
    "set.seed(semillas[1])\n",
    "dtrain_sample <- tomar_muestra(dtrain)"
   ]
  },
  {
   "cell_type": "code",
   "execution_count": 16,
   "metadata": {
    "vscode": {
     "languageId": "r"
    }
   },
   "outputs": [
    {
     "name": "stdout",
     "output_type": "stream",
     "text": [
      "[1] \"Muestra train\"\n",
      "Time difference of 0.8057709 secs\n",
      "[1] 0.8582668\n"
     ]
    }
   ],
   "source": [
    "t0 <- Sys.time()\n",
    "r2 <- modelo_rpart(dtrain[dtrain_sample, ], dtest)\n",
    "t1 <- Sys.time()\n",
    "print(\"Muestra train\")\n",
    "print(t1 - t0)\n",
    "print(r2)"
   ]
  },
  {
   "cell_type": "markdown",
   "metadata": {},
   "source": [
    "Preguntas\n",
    "- ¿Por qué sólo se muestrea train?"
   ]
  },
  {
   "cell_type": "markdown",
   "metadata": {},
   "source": [
    "# Step 7: Buscando el mejor modelo con muestras aleatorias LHS"
   ]
  },
  {
   "cell_type": "code",
   "execution_count": 17,
   "metadata": {
    "vscode": {
     "languageId": "r"
    }
   },
   "outputs": [],
   "source": [
    "# Una función auxiliar para los experimentos\n",
    "experimento_rpart <- function(ds, semillas, cp = 0, ms = 20, mb = 1, md = 10) {\n",
    "  auc <- c()\n",
    "  for (s in semillas) {\n",
    "    set.seed(s)\n",
    "    in_training <- caret::createDataPartition(ds$clase_binaria, p = 0.70,\n",
    "        list = FALSE)\n",
    "    train  <-  ds[in_training, ]\n",
    "    test   <-  ds[-in_training, ]\n",
    "    train_sample <- tomar_muestra(train)\n",
    "    r <- modelo_rpart(train[train_sample,], test, \n",
    "                    cp = cp, ms = ms, mb = mb, md = md)\n",
    "    auc <- c(auc, r)\n",
    "  }\n",
    "  mean(auc)\n",
    "}"
   ]
  },
  {
   "cell_type": "code",
   "execution_count": 18,
   "metadata": {
    "vscode": {
     "languageId": "r"
    }
   },
   "outputs": [
    {
     "name": "stdout",
     "output_type": "stream",
     "text": [
      "    md  ms       auc\n",
      " 1: 12  54 0.8711736\n",
      " 2: 18  79 0.8700500\n",
      " 3:  6 150 0.8759515\n",
      " 4: 16 188 0.8817030\n",
      " 5:  5 183 0.8638452\n",
      " 6: 13 139 0.8807381\n",
      " 7:  9  20 0.8658259\n",
      " 8: 18 132 0.8773719\n",
      " 9:  8  36 0.8724344\n",
      "10:  4  30 0.8488628\n",
      "11: 12 112 0.8790455\n",
      "12: 10 128 0.8805852\n",
      "13:  6  11 0.8731927\n",
      "14:  7  67 0.8774589\n",
      "15:  9  95 0.8817945\n",
      "16: 17  64 0.8683098\n",
      "17: 11  89 0.8792865\n",
      "18: 14  43 0.8578880\n",
      "19: 15 154 0.8804674\n",
      "20: 11 166 0.8818118\n",
      "21: 14 117 0.8782123\n",
      "22: 13 170 0.8802753\n",
      "23: 16   8 0.7318961\n",
      "24:  4 100 0.8492096\n",
      "25:  7 194 0.8770694\n",
      "    md  ms       auc\n"
     ]
    },
    {
     "data": {
      "image/png": "[encoded data removed]",
      "text/plain": [
       "plot without title"
      ]
     },
     "metadata": {
      "image/png": {
       "height": 420,
       "width": 420
      }
     },
     "output_type": "display_data"
    }
   ],
   "source": [
    "# Haremos 25 experimentos aleatorios, armamos las muestras de acuerdo a como\n",
    "# son las entradas de nuestro experimento.\n",
    "\n",
    "set.seed(semillas[1])\n",
    "cantidad_puntos <- 25\n",
    "espacio_busqueda_1 <- optimumLHS(cantidad_puntos, 2)\n",
    "\n",
    "# la primera columna es para el maxdepth, y la segunda para el minslip\n",
    "espacio_busqueda_1[, 1] <- floor(15 * espacio_busqueda_1[, 1]) + 4\n",
    "espacio_busqueda_1[, 2] <- floor(200 * espacio_busqueda_1[, 2]) + 2\n",
    "\n",
    "resultados_random_search <- data.table()\n",
    "for (e in 1:cantidad_puntos) {\n",
    "  r <- experimento_rpart(dataset, semillas,\n",
    "                        ms = espacio_busqueda_1[e, 2],\n",
    "                        md = espacio_busqueda_1[e, 1])\n",
    "  resultados_random_search <- rbindlist(list(resultados_random_search,\n",
    "                  data.table(\n",
    "                    md = espacio_busqueda_1[e, 1],\n",
    "                    ms = espacio_busqueda_1[e, 2],\n",
    "                    auc = r)\n",
    "  ))\n",
    "}\n",
    "\n",
    "print(resultados_random_search)\n",
    "ggplot(resultados_random_search, aes(x = md, y = ms, color = auc)) +\n",
    "    scale_color_gradient(low = \"blue\", high = \"red\") +\n",
    "    geom_point(aes(size = auc))"
   ]
  },
  {
   "cell_type": "markdown",
   "metadata": {},
   "source": [
    "Preguntas\n",
    "- ¿Hay alguna zona dónde parece que hay más ganancia?\n",
    "- ¿Cómo podemos continuar nuestra búsqueda?"
   ]
  },
  {
   "cell_type": "markdown",
   "metadata": {},
   "source": [
    "# Step 8: Trabajando con herramientas más profesionales\n"
   ]
  },
  {
   "cell_type": "code",
   "execution_count": null,
   "metadata": {
    "vscode": {
     "languageId": "r"
    }
   },
   "outputs": [],
   "source": [
    "# Veamos un ejemplo\n",
    "set.seed(semillas[1])\n",
    "obj_fun <- makeSingleObjectiveFunction(\n",
    "  name = \"Sine\",\n",
    "  fn = function(x) sin(x),\n",
    "  par.set = makeNumericParamSet(lower = 3, upper = 13, len = 1)\n",
    ")\n",
    "\n",
    "ctrl <- makeMBOControl()\n",
    "ctrl <- setMBOControlTermination(ctrl, iters = 10L)\n",
    "ctrl <- setMBOControlInfill(ctrl, crit = makeMBOInfillCritEI(),\n",
    "                           opt = \"focussearch\")\n",
    "\n",
    "lrn <- makeMBOLearner(ctrl, obj_fun)\n",
    "design <- generateDesign(6L, getParamSet(obj_fun), fun = lhs::maximinLHS)\n",
    "\n",
    "run <- exampleRun(obj_fun, design = design, learner = lrn,\n",
    "                 control = ctrl, points.per.dim = 100, show.info = TRUE)"
   ]
  },
  {
   "cell_type": "code",
   "execution_count": null,
   "metadata": {
    "vscode": {
     "languageId": "r"
    }
   },
   "outputs": [],
   "source": [
    "# Ejecutar de a uno\n",
    "plotExampleRun(run, iters = 1, densregion = TRUE, pause = FALSE)\n",
    "plotExampleRun(run, iters = 2, densregion = TRUE, pause = FALSE)\n",
    "plotExampleRun(run, iters = 3, densregion = TRUE, pause = FALSE)\n",
    "plotExampleRun(run, iters = 5, densregion = TRUE, pause = FALSE)\n",
    "plotExampleRun(run, iters = 6, densregion = TRUE, pause = FALSE)\n",
    "plotExampleRun(run, iters = 7, densregion = TRUE, pause = FALSE)\n",
    "plotExampleRun(run, iters = 8, densregion = TRUE, pause = FALSE)\n",
    "plotExampleRun(run, iters = 9, densregion = TRUE, pause = FALSE)\n",
    "plotExampleRun(run, iters = 10, densregion = TRUE, pause = FALSE)"
   ]
  },
  {
   "cell_type": "markdown",
   "metadata": {},
   "source": [
    "# Step 9: Introduciendo la técnica en nuestro conjunto"
   ]
  },
  {
   "cell_type": "code",
   "execution_count": null,
   "metadata": {
    "vscode": {
     "languageId": "r"
    }
   },
   "outputs": [],
   "source": [
    "resultados_maxdepth <- data.table()\n",
    "\n",
    "for (v in 4:20) {\n",
    "    r <- data.table(\n",
    "      md = v,\n",
    "      auc = experimento_rpart(dataset, semillas, md = v)\n",
    "    )\n",
    "    resultados_maxdepth <- rbindlist(list(resultados_maxdepth, r))\n",
    "}\n",
    "\n",
    "ggplot(resultados_maxdepth, aes(md, auc)) + geom_point()"
   ]
  },
  {
   "cell_type": "markdown",
   "metadata": {},
   "source": [
    "# Step 10: Buscando con una Opt. Bayesiana para 1 parámetro"
   ]
  },
  {
   "cell_type": "code",
   "execution_count": null,
   "metadata": {
    "vscode": {
     "languageId": "r"
    }
   },
   "outputs": [],
   "source": [
    "et.seed(semillas[1])\n",
    "obj_fun_md <- function(x) {\n",
    "  experimento_rpart(dataset, semillas, md = x$maxdepth)\n",
    "}\n",
    "\n",
    "obj_fun <- makeSingleObjectiveFunction(\n",
    "  minimize = FALSE,\n",
    "  fn = obj_fun_md,\n",
    "  par.set = makeParamSet(\n",
    "    makeIntegerParam(\"maxdepth\",  lower = 4L, upper = 20L)\n",
    "  ),\n",
    "  # noisy = TRUE,\n",
    "  has.simple.signature = FALSE\n",
    ")\n",
    "\n",
    "ctrl <- makeMBOControl()\n",
    "ctrl <- setMBOControlTermination(ctrl, iters = 10L)\n",
    "ctrl <- setMBOControlInfill(\n",
    "  ctrl,\n",
    "  crit = makeMBOInfillCritEI(),\n",
    "  opt = \"focussearch\",\n",
    "  opt.focussearch.points = 2\n",
    ")"
   ]
  },
  {
   "cell_type": "code",
   "execution_count": null,
   "metadata": {
    "vscode": {
     "languageId": "r"
    }
   },
   "outputs": [],
   "source": [
    "lrn <- makeMBOLearner(ctrl, obj_fun)\n",
    "\n",
    "surr_km <- makeLearner(\"regr.km\", predict.type = \"se\", covtype = \"matern3_2\")\n",
    "\n",
    "run_md <- mbo(obj_fun, learner = surr_km, control = ctrl)\n",
    "print(run_md)"
   ]
  },
  {
   "cell_type": "markdown",
   "metadata": {},
   "source": [
    "# Step 11: Buscando con una Opt. Bayesiana para 2 parámetros"
   ]
  },
  {
   "cell_type": "code",
   "execution_count": null,
   "metadata": {
    "vscode": {
     "languageId": "r"
    }
   },
   "outputs": [],
   "source": [
    "set.seed(semillas[1])\n",
    "obj_fun_md_ms <- function(x) {\n",
    "  experimento_rpart(dataset, semillas\n",
    "            , md = x$maxdepth\n",
    "            , ms = x$minsplit)\n",
    "}\n",
    "\n",
    "obj_fun <- makeSingleObjectiveFunction(\n",
    "  minimize = FALSE,\n",
    "  fn = obj_fun_md_ms,\n",
    "  par.set = makeParamSet(\n",
    "    makeIntegerParam(\"maxdepth\",  lower = 4L, upper = 20L),\n",
    "    makeIntegerParam(\"minsplit\",  lower = 1L, upper = 200L)\n",
    "    # makeNumericParam <- para parámetros continuos\n",
    "  ),\n",
    "  # noisy = TRUE,\n",
    "  has.simple.signature = FALSE\n",
    ")\n",
    "\n",
    "ctrl <- makeMBOControl()\n",
    "ctrl <- setMBOControlTermination(ctrl, iters = 16L)\n",
    "ctrl <- setMBOControlInfill(\n",
    "  ctrl,\n",
    "  crit = makeMBOInfillCritEI(),\n",
    "  opt = \"focussearch\",\n",
    "  # sacar parámetro opt.focussearch.points en próximas ejecuciones\n",
    "  opt.focussearch.points = 20\n",
    ")"
   ]
  },
  {
   "cell_type": "code",
   "execution_count": null,
   "metadata": {
    "vscode": {
     "languageId": "r"
    }
   },
   "outputs": [],
   "source": [
    "lrn <- makeMBOLearner(ctrl, obj_fun)\n",
    "\n",
    "surr_km <- makeLearner(\"regr.km\", predict.type = \"se\", covtype = \"matern3_2\")"
   ]
  },
  {
   "cell_type": "code",
   "execution_count": null,
   "metadata": {
    "vscode": {
     "languageId": "r"
    }
   },
   "outputs": [],
   "source": [
    "run_md_ms <- mbo(obj_fun, learner = surr_km, control = ctrl, )\n",
    "print(run_md_ms)"
   ]
  },
  {
   "cell_type": "code",
   "execution_count": null,
   "metadata": {
    "vscode": {
     "languageId": "r"
    }
   },
   "outputs": [],
   "source": [
    "## Visualizamos\n",
    "iter <- as.data.frame(run_md_ms$opt.path)\n",
    "ggplot(iter, aes(y=minsplit,x=maxdepth, color=prop.type)) + geom_point(aes(size = y))"
   ]
  }
 ],
 "metadata": {
  "kernelspec": {
   "display_name": "R",
   "language": "R",
   "name": "ir"
  },
  "language_info": {
   "codemirror_mode": "r",
   "file_extension": ".r",
   "mimetype": "text/x-r-source",
   "name": "R",
   "pygments_lexer": "r",
   "version": "4.3.1"
  },
  "orig_nbformat": 4
 },
 "nbformat": 4,
 "nbformat_minor": 2
}
