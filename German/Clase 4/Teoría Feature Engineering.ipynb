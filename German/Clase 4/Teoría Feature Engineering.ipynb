{
 "cells": [
  {
   "cell_type": "markdown",
   "metadata": {},
   "source": [
    "# Step 1: Cargando los datos y las librerías"
   ]
  },
  {
   "cell_type": "markdown",
   "metadata": {},
   "source": [
    "Genius is one percent inspiration and 99 percent perspiration\n",
    "-- ~~Thomas Edison~~ Kate Sanborn"
   ]
  },
  {
   "cell_type": "code",
   "execution_count": 1,
   "metadata": {
    "vscode": {
     "languageId": "r"
    }
   },
   "outputs": [
    {
     "data": {
      "text/html": [
       "<table class=\"dataframe\">\n",
       "<caption>A matrix: 2 × 6 of type dbl</caption>\n",
       "<thead>\n",
       "\t<tr><th></th><th scope=col>used</th><th scope=col>(Mb)</th><th scope=col>gc trigger</th><th scope=col>(Mb)</th><th scope=col>max used</th><th scope=col>(Mb)</th></tr>\n",
       "</thead>\n",
       "<tbody>\n",
       "\t<tr><th scope=row>Ncells</th><td> 627610</td><td>33.6</td><td>1404602</td><td>75.1</td><td> 994520</td><td>53.2</td></tr>\n",
       "\t<tr><th scope=row>Vcells</th><td>1149698</td><td> 8.8</td><td>8388608</td><td>64.0</td><td>1769393</td><td>13.5</td></tr>\n",
       "</tbody>\n",
       "</table>\n"
      ],
      "text/latex": [
       "A matrix: 2 × 6 of type dbl\n",
       "\\begin{tabular}{r|llllll}\n",
       "  & used & (Mb) & gc trigger & (Mb) & max used & (Mb)\\\\\n",
       "\\hline\n",
       "\tNcells &  627610 & 33.6 & 1404602 & 75.1 &  994520 & 53.2\\\\\n",
       "\tVcells & 1149698 &  8.8 & 8388608 & 64.0 & 1769393 & 13.5\\\\\n",
       "\\end{tabular}\n"
      ],
      "text/markdown": [
       "\n",
       "A matrix: 2 × 6 of type dbl\n",
       "\n",
       "| <!--/--> | used | (Mb) | gc trigger | (Mb) | max used | (Mb) |\n",
       "|---|---|---|---|---|---|---|\n",
       "| Ncells |  627610 | 33.6 | 1404602 | 75.1 |  994520 | 53.2 |\n",
       "| Vcells | 1149698 |  8.8 | 8388608 | 64.0 | 1769393 | 13.5 |\n",
       "\n"
      ],
      "text/plain": [
       "       used    (Mb) gc trigger (Mb) max used (Mb)\n",
       "Ncells  627610 33.6 1404602    75.1  994520  53.2\n",
       "Vcells 1149698  8.8 8388608    64.0 1769393  13.5"
      ]
     },
     "metadata": {},
     "output_type": "display_data"
    }
   ],
   "source": [
    "# Limpiamos el entorno\n",
    "rm(list = ls())\n",
    "gc(verbose = FALSE)"
   ]
  },
  {
   "cell_type": "code",
   "execution_count": 2,
   "metadata": {
    "vscode": {
     "languageId": "r"
    }
   },
   "outputs": [
    {
     "name": "stderr",
     "output_type": "stream",
     "text": [
      "Loading required package: data.table\n",
      "\n",
      "Loading required package: rpart\n",
      "\n",
      "Loading required package: ggplot2\n",
      "\n",
      "Loading required package: dplyr\n",
      "\n",
      "\n",
      "Attaching package: 'dplyr'\n",
      "\n",
      "\n",
      "The following objects are masked from 'package:data.table':\n",
      "\n",
      "    between, first, last\n",
      "\n",
      "\n",
      "The following objects are masked from 'package:stats':\n",
      "\n",
      "    filter, lag\n",
      "\n",
      "\n",
      "The following objects are masked from 'package:base':\n",
      "\n",
      "    intersect, setdiff, setequal, union\n",
      "\n",
      "\n"
     ]
    }
   ],
   "source": [
    "# Librerías necesarias\n",
    "require(\"data.table\")\n",
    "require(\"rpart\")\n",
    "require(\"ggplot2\")\n",
    "require(\"dplyr\")"
   ]
  },
  {
   "cell_type": "code",
   "execution_count": 3,
   "metadata": {
    "vscode": {
     "languageId": "r"
    }
   },
   "outputs": [],
   "source": [
    "# Aqui se debe poner la carpeta de la materia de SU computadora local\n",
    "setwd(\"C:/Users/German/Desktop/dmeyf2023/German/Clase 1\") # Establezco el Working Directory\n",
    "\n",
    "# Poner sus semillas\n",
    "semillas <- c(279511, 279523, 279541, 279551, 279571)"
   ]
  },
  {
   "cell_type": "code",
   "execution_count": 4,
   "metadata": {
    "vscode": {
     "languageId": "r"
    }
   },
   "outputs": [],
   "source": [
    "# Cargamos el dataset\n",
    "dataset <- fread(\"competencia_01.csv\")\n",
    "\n",
    "# Nos quedamos solo con el 202103\n",
    "dataset <- dataset[foto_mes == 202103]"
   ]
  },
  {
   "cell_type": "code",
   "execution_count": 5,
   "metadata": {
    "vscode": {
     "languageId": "r"
    }
   },
   "outputs": [],
   "source": [
    "# Creamos una clase binaria\n",
    "dataset[, clase_binaria := ifelse(\n",
    "                            clase_ternaria == \"BAJA+2\",\n",
    "                                \"evento\",\n",
    "                                \"noevento\"\n",
    "                            )]\n",
    "# Borramos el target viejo\n",
    "dataset[, clase_ternaria := NULL]\n",
    "\n",
    "set.seed(semillas[1])\n",
    "\n",
    "calcular_ganancia <- function(modelo, test) {\n",
    "    pred_testing <- predict(modelo, test, type = \"prob\")\n",
    "    sum(\n",
    "        (pred_testing[, \"evento\"] >= 0.025) * ifelse(test$clase_binaria == \"evento\",\n",
    "                                          273000, -7000) / 0.3\n",
    "    )\n",
    "}"
   ]
  },
  {
   "cell_type": "markdown",
   "metadata": {},
   "source": [
    "# Step 2: Importancia de variables"
   ]
  },
  {
   "cell_type": "code",
   "execution_count": 6,
   "metadata": {
    "vscode": {
     "languageId": "r"
    }
   },
   "outputs": [],
   "source": [
    "# Particionamos de forma estratificada\n",
    "in_training <- caret::createDataPartition(dataset$clase_binaria,\n",
    "                     p = 0.70, list = FALSE)\n",
    "dtrain  <-  dataset[in_training, ]\n",
    "dtest   <-  dataset[-in_training, ]"
   ]
  },
  {
   "cell_type": "code",
   "execution_count": 7,
   "metadata": {
    "vscode": {
     "languageId": "r"
    }
   },
   "outputs": [
    {
     "data": {
      "text/html": [
       "83673333.3333333"
      ],
      "text/latex": [
       "83673333.3333333"
      ],
      "text/markdown": [
       "83673333.3333333"
      ],
      "text/plain": [
       "[1] 83673333"
      ]
     },
     "metadata": {},
     "output_type": "display_data"
    },
    {
     "name": "stdout",
     "output_type": "stream",
     "text": [
      "                     ctrx_quarter                       Visa_status \n",
      "                     2.756308e+01                      1.387882e+01 \n",
      "         cdescubierto_preacordado                    mcuentas_saldo \n",
      "                     1.352785e+01                      1.094682e+01 \n",
      "            mprestamos_personales             cprestamos_personales \n",
      "                     1.066534e+01                      9.705876e+00 \n",
      "                mcuenta_corriente                   mactivos_margen \n",
      "                     8.979297e+00                      8.555482e+00 \n",
      "                  mpasivos_margen                      mcaja_ahorro \n",
      "                     7.236420e+00                      7.171977e+00 \n",
      "        mcomisiones_mantenimiento         ccomisiones_mantenimiento \n",
      "                     6.631820e+00                      5.813721e+00 \n",
      "                ccomisiones_otras                     Master_status \n",
      "                     5.567390e+00                      5.350996e+00 \n",
      "                   active_quarter                     mrentabilidad \n",
      "                     5.067053e+00                      4.408835e+00 \n",
      "            mtarjeta_visa_consumo                        cproductos \n",
      "                     3.693095e+00                      3.539411e+00 \n",
      "             mrentabilidad_annual                  Visa_msaldototal \n",
      "                     2.969304e+00                      2.934178e+00 \n",
      "                 Visa_msaldopesos                      thomebanking \n",
      "                     2.913536e+00                      2.829879e+00 \n",
      "      ctarjeta_visa_transacciones                 mcomisiones_otras \n",
      "                     2.777303e+00                      2.659917e+00 \n",
      "                      mcomisiones        chomebanking_transacciones \n",
      "                     2.655858e+00                      2.352811e+00 \n",
      "                 Visa_mpagominimo                          tcuentas \n",
      "                     2.198787e+00                      1.204312e+00 \n",
      "        ccallcenter_transacciones                          mpayroll \n",
      "                     1.083252e+00                      1.044004e+00 \n",
      "                     cpayroll_trx                       tcallcenter \n",
      "                     1.027567e+00                      8.557303e-01 \n",
      "                     ccajas_otras                cliente_antiguedad \n",
      "                     6.567226e-01                      6.045039e-01 \n",
      "                    ctarjeta_visa                  Visa_mpagospesos \n",
      "                     5.897098e-01                      5.797371e-01 \n",
      "                   Visa_cconsumos         mtransferencias_recibidas \n",
      "                     5.470584e-01                      2.614263e-01 \n",
      "                numero_de_cliente                          internet \n",
      "                     2.290373e-01                      2.065151e-01 \n",
      "         mextraccion_autoservicio          cextraccion_autoservicio \n",
      "                     1.332733e-01                      1.313829e-01 \n",
      "                             matm                          catm_trx \n",
      "                     1.127939e-01                      1.105885e-01 \n",
      "ctarjeta_visa_debitos_automaticos               Visa_mconsumospesos \n",
      "                     1.088234e-01                      1.010245e-01 \n",
      "               Visa_mconsumototal            mcaja_ahorro_adicional \n",
      "                     5.794113e-02                      4.929135e-02 \n",
      "    ctarjeta_debito_transacciones                     mautoservicio \n",
      "                     4.576057e-02                      4.576057e-02 \n",
      "        Visa_mfinanciacion_limite                Visa_mlimitecompra \n",
      "                     1.989482e-02                      1.989482e-02 \n",
      "                     cseguro_auto                Visa_msaldodolares \n",
      "                     1.247764e-02                      8.842144e-03 \n",
      "              mplazo_fijo_dolares                        cforex_buy \n",
      "                     1.854664e-03                      1.512062e-03 \n",
      "                           cforex                  ccajas_depositos \n",
      "                     7.560310e-04                      5.288512e-04 \n",
      "                ccheques_emitidos                      cliente_edad \n",
      "                     1.546548e-04                      7.732738e-05 \n",
      "      mcuenta_corriente_adicional \n",
      "                     7.732738e-05 \n"
     ]
    }
   ],
   "source": [
    "# Antes de empezar vamos a ver la importancia de variables\n",
    "modelo <- rpart(clase_binaria ~ .,\n",
    "                data = dtrain,\n",
    "                xval = 0,\n",
    "                cp = -1,\n",
    "                minsplit = 1000,\n",
    "                minbucket = 40,\n",
    "                maxdepth = 7)\n",
    "\n",
    "calcular_ganancia(modelo, dtest)\n",
    "print(modelo$variable.importance)"
   ]
  },
  {
   "cell_type": "markdown",
   "metadata": {},
   "source": [
    "**Preguntas**\n",
    "- ¿Cuáles son las variables más importantes para el modelo?\n",
    "- ¿Cómo calcula RPART la importancia de una variable?\n",
    "- ¿Es la única forma de calcular la importancia de una variable?"
   ]
  },
  {
   "cell_type": "markdown",
   "metadata": {},
   "source": [
    "# Step 3: Datos nulos"
   ]
  },
  {
   "cell_type": "code",
   "execution_count": 8,
   "metadata": {
    "vscode": {
     "languageId": "r"
    }
   },
   "outputs": [
    {
     "data": {
      "text/plain": [
       " numero_de_cliente      foto_mes      active_quarter    cliente_vip      \n",
       " Min.   : 29183981   Min.   :202103   Min.   :0.0000   Min.   :0.000000  \n",
       " 1st Qu.: 60732324   1st Qu.:202103   1st Qu.:1.0000   1st Qu.:0.000000  \n",
       " Median : 85532032   Median :202103   Median :1.0000   Median :0.000000  \n",
       " Mean   : 90117496   Mean   :202103   Mean   :0.9863   Mean   :0.002711  \n",
       " 3rd Qu.:116915971   3rd Qu.:202103   3rd Qu.:1.0000   3rd Qu.:0.000000  \n",
       " Max.   :186140768   Max.   :202103   Max.   :1.0000   Max.   :1.000000  \n",
       "                                                                         \n",
       "    internet        cliente_edad   cliente_antiguedad mrentabilidad      \n",
       " Min.   :0.00000   Min.   :18.00   Min.   :  1.0      Min.   :-194044.0  \n",
       " 1st Qu.:0.00000   1st Qu.:37.00   1st Qu.: 61.0      1st Qu.:    -48.2  \n",
       " Median :0.00000   Median :45.00   Median :127.0      Median :   1246.9  \n",
       " Mean   :0.05215   Mean   :46.87   Mean   :133.8      Mean   :   2440.4  \n",
       " 3rd Qu.:0.00000   3rd Qu.:56.00   3rd Qu.:188.0      3rd Qu.:   3265.6  \n",
       " Max.   :3.00000   Max.   :98.00   Max.   :375.0      Max.   : 397988.8  \n",
       "                                                                         \n",
       " mrentabilidad_annual  mcomisiones        mactivos_margen    \n",
       " Min.   : -806460     Min.   :-119686.4   Min.   :-177344.0  \n",
       " 1st Qu.:    2073     1st Qu.:    314.9   1st Qu.:  -2046.2  \n",
       " Median :   12931     Median :    985.4   Median :   -583.6  \n",
       " Mean   :   23890     Mean   :   1789.7   Mean   :  -1098.5  \n",
       " 3rd Qu.:   30640     3rd Qu.:   2220.2   3rd Qu.:      0.0  \n",
       " Max.   :10926142     Max.   : 281745.6   Max.   : 225879.2  \n",
       "                                                             \n",
       " mpasivos_margen      cproductos       tcuentas     ccuenta_corriente\n",
       " Min.   :-20289.6   Min.   : 3.00   Min.   :1.000   Min.   :1.000    \n",
       " 1st Qu.:   254.7   1st Qu.: 7.00   1st Qu.:1.000   1st Qu.:1.000    \n",
       " Median :   686.4   Median : 7.00   Median :1.000   Median :1.000    \n",
       " Mean   :  1653.0   Mean   : 7.54   Mean   :1.006   Mean   :1.002    \n",
       " 3rd Qu.:  1595.3   3rd Qu.: 8.00   3rd Qu.:1.000   3rd Qu.:1.000    \n",
       " Max.   :327449.6   Max.   :17.00   Max.   :2.000   Max.   :3.000    \n",
       "                                                                     \n",
       " mcuenta_corriente_adicional mcuenta_corriente   ccaja_ahorro  \n",
       " Min.   :   -1983            Min.   :-1281126   Min.   :2.000  \n",
       " 1st Qu.:       0            1st Qu.:    -973   1st Qu.:2.000  \n",
       " Median :       0            Median :       0   Median :2.000  \n",
       " Mean   :     249            Mean   :    2894   Mean   :2.129  \n",
       " 3rd Qu.:       0            3rd Qu.:       0   3rd Qu.:2.000  \n",
       " Max.   :12638551            Max.   :23394150   Max.   :8.000  \n",
       "                                                               \n",
       "  mcaja_ahorro      mcaja_ahorro_adicional mcaja_ahorro_dolares\n",
       " Min.   :   -1024   Min.   :  -5249        Min.   :   -68902   \n",
       " 1st Qu.:    6391   1st Qu.:      0        1st Qu.:        0   \n",
       " Median :   24768   Median :      0        Median :        8   \n",
       " Mean   :   78312   Mean   :   1047        Mean   :   107249   \n",
       " 3rd Qu.:   68818   3rd Qu.:      0        3rd Qu.:    18375   \n",
       " Max.   :18293628   Max.   :7270136        Max.   :102816578   \n",
       "                                                               \n",
       " cdescubierto_preacordado mcuentas_saldo      ctarjeta_debito \n",
       " Min.   :0.000            Min.   : -1696965   Min.   : 0.000  \n",
       " 1st Qu.:1.000            1st Qu.:      580   1st Qu.: 1.000  \n",
       " Median :1.000            Median :    34206   Median : 1.000  \n",
       " Mean   :0.965            Mean   :   210261   Mean   : 1.484  \n",
       " 3rd Qu.:1.000            3rd Qu.:   140862   3rd Qu.: 2.000  \n",
       " Max.   :1.000            Max.   :251511971   Max.   :12.000  \n",
       "                                                              \n",
       " ctarjeta_debito_transacciones mautoservicio    ctarjeta_visa   \n",
       " Min.   :  0.000               Min.   :     0   Min.   :0.0000  \n",
       " 1st Qu.:  0.000               1st Qu.:     0   1st Qu.:1.0000  \n",
       " Median :  4.000               Median :  8860   Median :1.0000  \n",
       " Mean   :  8.742               Mean   : 19971   Mean   :0.9534  \n",
       " 3rd Qu.: 13.000               3rd Qu.: 27830   3rd Qu.:1.0000  \n",
       " Max.   :155.000               Max.   :837912   Max.   :3.0000  \n",
       "                                                                \n",
       " ctarjeta_visa_transacciones mtarjeta_visa_consumo ctarjeta_master \n",
       " Min.   :  0.00              Min.   :      0       Min.   :0.0000  \n",
       " 1st Qu.:  3.00              1st Qu.:   4948       1st Qu.:1.0000  \n",
       " Median :  8.00              Median :  17736       Median :1.0000  \n",
       " Mean   : 12.38              Mean   :  30858       Mean   :0.8962  \n",
       " 3rd Qu.: 17.00              3rd Qu.:  39565       3rd Qu.:1.0000  \n",
       " Max.   :426.00              Max.   :1384619       Max.   :2.0000  \n",
       "                                                                   \n",
       " ctarjeta_master_transacciones mtarjeta_master_consumo cprestamos_personales\n",
       " Min.   :  0.000               Min.   :      0         Min.   :  0.0000     \n",
       " 1st Qu.:  0.000               1st Qu.:      0         1st Qu.:  0.0000     \n",
       " Median :  0.000               Median :      0         Median :  0.0000     \n",
       " Mean   :  2.207               Mean   :   6602         Mean   :  0.8292     \n",
       " 3rd Qu.:  2.000               3rd Qu.:   4235         3rd Qu.:  0.0000     \n",
       " Max.   :189.000               Max.   :2310045         Max.   :515.0000     \n",
       "                                                                            \n",
       " mprestamos_personales cprestamos_prendarios mprestamos_prendarios\n",
       " Min.   :      0       Min.   : 0.00000      Min.   :-593199      \n",
       " 1st Qu.:      0       1st Qu.: 0.00000      1st Qu.:      0      \n",
       " Median :      0       Median : 0.00000      Median :      0      \n",
       " Mean   :  31853       Mean   : 0.01615      Mean   :   4192      \n",
       " 3rd Qu.:      0       3rd Qu.: 0.00000      3rd Qu.:      0      \n",
       " Max.   :4167992       Max.   :23.00000      Max.   :6800752      \n",
       "                                                                  \n",
       " cprestamos_hipotecarios mprestamos_hipotecarios  cplazo_fijo     \n",
       " Min.   : 0.00000        Min.   :       0        Min.   : 0.0000  \n",
       " 1st Qu.: 0.00000        1st Qu.:       0        1st Qu.: 0.0000  \n",
       " Median : 0.00000        Median :       0        Median : 0.0000  \n",
       " Mean   : 0.01429        Mean   :   23617        Mean   : 0.2285  \n",
       " 3rd Qu.: 0.00000        3rd Qu.:       0        3rd Qu.: 0.0000  \n",
       " Max.   :14.00000        Max.   :31148075        Max.   :58.0000  \n",
       "                                                                  \n",
       " mplazo_fijo_dolares mplazo_fijo_pesos   cinversion1       minversion1_pesos \n",
       " Min.   :       0    Min.   :       0   Min.   : 0.00000   Min.   :       0  \n",
       " 1st Qu.:       0    1st Qu.:       0   1st Qu.: 0.00000   1st Qu.:       0  \n",
       " Median :       0    Median :       0   Median : 0.00000   Median :       0  \n",
       " Mean   :  102489    Mean   :    5732   Mean   : 0.05184   Mean   :   18853  \n",
       " 3rd Qu.:       0    3rd Qu.:       0   3rd Qu.: 0.00000   3rd Qu.:       0  \n",
       " Max.   :37406430    Max.   :36502302   Max.   :13.00000   Max.   :42386963  \n",
       "                                                                             \n",
       " minversion1_dolares  cinversion2        minversion2         cseguro_vida   \n",
       " Min.   :       0    Min.   :  0.0000   Min.   :        0   Min.   :0.0000  \n",
       " 1st Qu.:       0    1st Qu.:  0.0000   1st Qu.:        0   1st Qu.:0.0000  \n",
       " Median :       0    Median :  0.0000   Median :        0   Median :0.0000  \n",
       " Mean   :    4115    Mean   :  0.1044   Mean   :    38505   Mean   :0.1154  \n",
       " 3rd Qu.:       0    3rd Qu.:  0.0000   3rd Qu.:        0   3rd Qu.:0.0000  \n",
       " Max.   :53621155    Max.   :112.0000   Max.   :236534023   Max.   :3.0000  \n",
       "                                                                            \n",
       "  cseguro_auto     cseguro_vivienda cseguro_accidentes_personales\n",
       " Min.   :0.00000   Min.   :0.0000   Min.   :0.000                \n",
       " 1st Qu.:0.00000   1st Qu.:0.0000   1st Qu.:0.000                \n",
       " Median :0.00000   Median :0.0000   Median :0.000                \n",
       " Mean   :0.03183   Mean   :0.1342   Mean   :0.144                \n",
       " 3rd Qu.:0.00000   3rd Qu.:0.0000   3rd Qu.:0.000                \n",
       " Max.   :5.00000   Max.   :7.0000   Max.   :3.000                \n",
       "                                                                 \n",
       " ccaja_seguridad    cpayroll_trx         mpayroll          mpayroll2        \n",
       " Min.   :0.00000   Min.   :  0.0000   Min.   :       0   Min.   :      0.0  \n",
       " 1st Qu.:0.00000   1st Qu.:  0.0000   1st Qu.:       0   1st Qu.:      0.0  \n",
       " Median :0.00000   Median :  1.0000   Median :   27839   Median :      0.0  \n",
       " Mean   :0.06976   Mean   :  0.9506   Mean   :   75814   Mean   :     95.5  \n",
       " 3rd Qu.:0.00000   3rd Qu.:  1.0000   3rd Qu.:  103939   3rd Qu.:      0.0  \n",
       " Max.   :7.00000   Max.   :160.0000   Max.   :18140445   Max.   :1181166.6  \n",
       "                                                                            \n",
       " cpayroll2_trx       ccuenta_debitos_automaticos mcuenta_debitos_automaticos\n",
       " Min.   : 0.000000   Min.   :  0.000             Min.   :      0            \n",
       " 1st Qu.: 0.000000   1st Qu.:  0.000             1st Qu.:      0            \n",
       " Median : 0.000000   Median :  0.000             Median :      0            \n",
       " Mean   : 0.001828   Mean   :  1.113             Mean   :   4016            \n",
       " 3rd Qu.: 0.000000   3rd Qu.:  2.000             3rd Qu.:   3234            \n",
       " Max.   :10.000000   Max.   :214.000             Max.   :2134698            \n",
       "                                                                            \n",
       " ctarjeta_visa_debitos_automaticos mttarjeta_visa_debitos_automaticos\n",
       " Min.   : 0.000                    Min.   :     0                    \n",
       " 1st Qu.: 0.000                    1st Qu.:     0                    \n",
       " Median : 1.000                    Median :   654                    \n",
       " Mean   : 1.691                    Mean   :  4830                    \n",
       " 3rd Qu.: 3.000                    3rd Qu.:  5615                    \n",
       " Max.   :45.000                    Max.   :337086                    \n",
       "                                                                     \n",
       " ctarjeta_master_debitos_automaticos mttarjeta_master_debitos_automaticos\n",
       " Min.   : 0.000                      Min.   :     0.0                    \n",
       " 1st Qu.: 0.000                      1st Qu.:     0.0                    \n",
       " Median : 0.000                      Median :     0.0                    \n",
       " Mean   : 0.322                      Mean   :   909.2                    \n",
       " 3rd Qu.: 0.000                      3rd Qu.:     0.0                    \n",
       " Max.   :37.000                      Max.   :269344.9                    \n",
       "                                                                         \n",
       " cpagodeservicios   mpagodeservicios  cpagomiscuentas   mpagomiscuentas   \n",
       " Min.   : 0.00000   Min.   :      0   Min.   :  0.000   Min.   :       0  \n",
       " 1st Qu.: 0.00000   1st Qu.:      0   1st Qu.:  0.000   1st Qu.:       0  \n",
       " Median : 0.00000   Median :      0   Median :  0.000   Median :       0  \n",
       " Mean   : 0.02436   Mean   :    239   Mean   :  2.419   Mean   :   16220  \n",
       " 3rd Qu.: 0.00000   3rd Qu.:      0   3rd Qu.:  4.000   3rd Qu.:   10404  \n",
       " Max.   :25.00000   Max.   :2747053   Max.   :420.000   Max.   :38720885  \n",
       "                                                                          \n",
       " ccajeros_propios_descuentos mcajeros_propios_descuentos\n",
       " Min.   : 0.00000            Min.   :    0.0            \n",
       " 1st Qu.: 0.00000            1st Qu.:    0.0            \n",
       " Median : 0.00000            Median :    0.0            \n",
       " Mean   : 0.08728            Mean   :   21.8            \n",
       " 3rd Qu.: 0.00000            3rd Qu.:    0.0            \n",
       " Max.   :16.00000            Max.   :17051.0            \n",
       "                                                        \n",
       " ctarjeta_visa_descuentos mtarjeta_visa_descuentos ctarjeta_master_descuentos\n",
       " Min.   : 0.0000          Min.   :    0.00         Min.   : 0.00000          \n",
       " 1st Qu.: 0.0000          1st Qu.:    0.00         1st Qu.: 0.00000          \n",
       " Median : 0.0000          Median :    0.00         Median : 0.00000          \n",
       " Mean   : 0.1137          Mean   :   73.13         Mean   : 0.07093          \n",
       " 3rd Qu.: 0.0000          3rd Qu.:    0.00         3rd Qu.: 0.00000          \n",
       " Max.   :21.0000          Max.   :97681.02         Max.   :18.00000          \n",
       "                          NA's   :2485                                       \n",
       " mtarjeta_master_descuentos ccomisiones_mantenimiento mcomisiones_mantenimiento\n",
       " Min.   :    0.00           Min.   : 0.0000           Min.   :-10504.6         \n",
       " 1st Qu.:    0.00           1st Qu.: 0.0000           1st Qu.:     0.0         \n",
       " Median :    0.00           Median : 0.0000           Median :     0.0         \n",
       " Mean   :   14.85           Mean   : 0.3462           Mean   :   660.4         \n",
       " 3rd Qu.:    0.00           3rd Qu.: 1.0000           3rd Qu.:  1774.0         \n",
       " Max.   :34086.85           Max.   :15.0000           Max.   :  6580.4         \n",
       " NA's   :3443                                                                  \n",
       " ccomisiones_otras mcomisiones_otras       cforex          cforex_buy      \n",
       " Min.   :  0.000   Min.   :-119686.4   Min.   :0.00000   Min.   :0.000000  \n",
       " 1st Qu.:  6.000   1st Qu.:    316.4   1st Qu.:0.00000   1st Qu.:0.000000  \n",
       " Median :  8.000   Median :    990.0   Median :0.00000   Median :0.000000  \n",
       " Mean   :  9.025   Mean   :   1796.3   Mean   :0.05179   Mean   :0.007076  \n",
       " 3rd Qu.: 12.000   3rd Qu.:   2227.0   3rd Qu.:0.00000   3rd Qu.:0.000000  \n",
       " Max.   :231.000   Max.   : 281745.6   Max.   :8.00000   Max.   :8.000000  \n",
       "                                                                           \n",
       "   mforex_buy        cforex_sell       mforex_sell      \n",
       " Min.   :   0.000   Min.   :0.00000   Min.   :   0.000  \n",
       " 1st Qu.:   0.000   1st Qu.:0.00000   1st Qu.:   0.000  \n",
       " Median :   0.000   Median :0.00000   Median :   0.000  \n",
       " Mean   :   1.391   Mean   :0.04471   Mean   :   8.353  \n",
       " 3rd Qu.:   0.000   3rd Qu.:0.00000   3rd Qu.:   0.000  \n",
       " Max.   :7632.170   Max.   :5.00000   Max.   :7632.170  \n",
       "                                                        \n",
       " ctransferencias_recibidas mtransferencias_recibidas ctransferencias_emitidas\n",
       " Min.   :   0.000          Min.   :        0         Min.   :  0.00          \n",
       " 1st Qu.:   1.000          1st Qu.:      450         1st Qu.:  0.00          \n",
       " Median :   2.000          Median :    36365         Median :  1.00          \n",
       " Mean   :   3.329          Mean   :   127733         Mean   :  3.11          \n",
       " 3rd Qu.:   4.000          3rd Qu.:   114280         3rd Qu.:  4.00          \n",
       " Max.   :1257.000          Max.   :119454226         Max.   :398.00          \n",
       "                                                                             \n",
       " mtransferencias_emitidas cextraccion_autoservicio mextraccion_autoservicio\n",
       " Min.   :       0         Min.   :  0.000          Min.   :      0         \n",
       " 1st Qu.:       0         1st Qu.:  0.000          1st Qu.:      0         \n",
       " Median :    7219         Median :  1.000          Median :   2346         \n",
       " Mean   :   63941         Mean   :  2.757          Mean   :  24133         \n",
       " 3rd Qu.:   41841         3rd Qu.:  4.000          3rd Qu.:  31671         \n",
       " Max.   :47464289         Max.   :172.000          Max.   :1468596         \n",
       "                                                                           \n",
       " ccheques_depositados mcheques_depositados ccheques_emitidos \n",
       " Min.   :  0.0000     Min.   :       0     Min.   :  0.0000  \n",
       " 1st Qu.:  0.0000     1st Qu.:       0     1st Qu.:  0.0000  \n",
       " Median :  0.0000     Median :       0     Median :  0.0000  \n",
       " Mean   :  0.1158     Mean   :    7935     Mean   :  0.1218  \n",
       " 3rd Qu.:  0.0000     3rd Qu.:       0     3rd Qu.:  0.0000  \n",
       " Max.   :365.0000     Max.   :17595000     Max.   :147.0000  \n",
       "                                                             \n",
       " mcheques_emitidos  ccheques_depositados_rechazados\n",
       " Min.   :       0   Min.   :0.000000               \n",
       " 1st Qu.:       0   1st Qu.:0.000000               \n",
       " Median :       0   Median :0.000000               \n",
       " Mean   :    7096   Mean   :0.002292               \n",
       " 3rd Qu.:       0   3rd Qu.:0.000000               \n",
       " Max.   :18960731   Max.   :6.000000               \n",
       "                                                   \n",
       " mcheques_depositados_rechazados ccheques_emitidos_rechazados\n",
       " Min.   :      0.0               Min.   : 0.000000           \n",
       " 1st Qu.:      0.0               1st Qu.: 0.000000           \n",
       " Median :      0.0               Median : 0.000000           \n",
       " Mean   :    221.2               Mean   : 0.002344           \n",
       " 3rd Qu.:      0.0               3rd Qu.: 0.000000           \n",
       " Max.   :1524900.0               Max.   :15.000000           \n",
       "                                                             \n",
       " mcheques_emitidos_rechazados  tcallcenter     ccallcenter_transacciones\n",
       " Min.   :      0.0            Min.   :0.0000   Min.   : 0.000           \n",
       " 1st Qu.:      0.0            1st Qu.:0.0000   1st Qu.: 0.000           \n",
       " Median :      0.0            Median :0.0000   Median : 0.000           \n",
       " Mean   :    181.6            Mean   :0.1081   Mean   : 0.442           \n",
       " 3rd Qu.:      0.0            3rd Qu.:0.0000   3rd Qu.: 0.000           \n",
       " Max.   :1524900.0            Max.   :1.0000   Max.   :69.000           \n",
       "                                                                        \n",
       "  thomebanking    chomebanking_transacciones ccajas_transacciones\n",
       " Min.   :0.0000   Min.   :   0.00            Min.   :0.00000     \n",
       " 1st Qu.:0.0000   1st Qu.:   4.00            1st Qu.:0.00000     \n",
       " Median :1.0000   Median :  28.00            Median :0.00000     \n",
       " Mean   :0.7487   Mean   :  57.13            Mean   :0.09705     \n",
       " 3rd Qu.:1.0000   3rd Qu.:  80.00            3rd Qu.:0.00000     \n",
       " Max.   :1.0000   Max.   :4073.00            Max.   :1.00000     \n",
       "                                                                 \n",
       " ccajas_consultas   ccajas_depositos   ccajas_extracciones  ccajas_otras      \n",
       " Min.   : 0.00000   Min.   : 0.00000   Min.   : 0.00000    Min.   :  0.00000  \n",
       " 1st Qu.: 0.00000   1st Qu.: 0.00000   1st Qu.: 0.00000    1st Qu.:  0.00000  \n",
       " Median : 0.00000   Median : 0.00000   Median : 0.00000    Median :  0.00000  \n",
       " Mean   : 0.06674   Mean   : 0.05725   Mean   : 0.07156    Mean   :  0.02363  \n",
       " 3rd Qu.: 0.00000   3rd Qu.: 0.00000   3rd Qu.: 0.00000    3rd Qu.:  0.00000  \n",
       " Max.   :23.00000   Max.   :27.00000   Max.   :14.00000    Max.   :210.00000  \n",
       "                                                                              \n",
       "    catm_trx            matm         catm_trx_other      matm_other    \n",
       " Min.   :  0.000   Min.   :      0   Min.   : 0.0000   Min.   :     0  \n",
       " 1st Qu.:  0.000   1st Qu.:      0   1st Qu.: 0.0000   1st Qu.:     0  \n",
       " Median :  0.000   Median :      0   Median : 0.0000   Median :     0  \n",
       " Mean   :  1.952   Mean   :  19817   Mean   : 0.8053   Mean   :  4316  \n",
       " 3rd Qu.:  3.000   3rd Qu.:  22287   3rd Qu.: 0.0000   3rd Qu.:     0  \n",
       " Max.   :172.000   Max.   :1466250   Max.   :59.0000   Max.   :716877  \n",
       "                                                                       \n",
       "  ctrx_quarter     tmobile_app      cmobile_app_trx  Master_delinquency\n",
       " Min.   :   0.0   Min.   :0.00000   Min.   :0.0000   Min.   :0.000     \n",
       " 1st Qu.:  59.0   1st Qu.:0.00000   1st Qu.:0.0000   1st Qu.:0.000     \n",
       " Median : 105.0   Median :0.00000   Median :1.0000   Median :0.000     \n",
       " Mean   : 118.4   Mean   :0.03266   Mean   :0.7121   Mean   :0.008     \n",
       " 3rd Qu.: 158.0   3rd Qu.:0.00000   3rd Qu.:1.0000   3rd Qu.:0.000     \n",
       " Max.   :3265.0   Max.   :1.00000   Max.   :1.0000   Max.   :1.000     \n",
       "                                                     NA's   :11652     \n",
       " Master_status   Master_mfinanciacion_limite Master_Fvencimiento\n",
       " Min.   :0.000   Min.   :        0           Min.   :-2914178   \n",
       " 1st Qu.:0.000   1st Qu.:    88679           1st Qu.:   -1460   \n",
       " Median :0.000   Median :   177358           Median :    -851   \n",
       " Mean   :0.023   Mean   :   365018           Mean   :   -1040   \n",
       " 3rd Qu.:0.000   3rd Qu.:   436989           3rd Qu.:    -517   \n",
       " Max.   :9.000   Max.   :122174659           Max.   :    6485   \n",
       " NA's   :11652   NA's   :11652               NA's   :11652      \n",
       " Master_Finiciomora Master_msaldototal Master_msaldopesos Master_msaldodolares\n",
       " Min.   :  2.00     Min.   :-787024    Min.   :-347454    Min.   :-679820.4   \n",
       " 1st Qu.: 16.00     1st Qu.:      0    1st Qu.:      0    1st Qu.:      0.0   \n",
       " Median : 16.00     Median :      0    Median :      0    Median :      0.0   \n",
       " Mean   : 22.79     Mean   :  10782    Mean   :  10595    Mean   :    187.7   \n",
       " 3rd Qu.: 23.00     3rd Qu.:   6486    3rd Qu.:   6455    3rd Qu.:      0.0   \n",
       " Max.   :169.00     Max.   :5459918    Max.   :5459918    Max.   :2155255.2   \n",
       " NA's   :113529     NA's   :11652      NA's   :11652      NA's   :11652       \n",
       " Master_mconsumospesos Master_mconsumosdolares Master_mlimitecompra\n",
       " Min.   : -21546       Min.   :    0.0         Min.   :     985    \n",
       " 1st Qu.:      0       1st Qu.:    0.0         1st Qu.:   98532    \n",
       " Median :   1520       Median :    0.0         Median :  197064    \n",
       " Mean   :   9755       Mean   :    7.6         Mean   :  394815    \n",
       " 3rd Qu.:   9383       3rd Qu.:    0.0         3rd Qu.:  485543    \n",
       " Max.   :2281776       Max.   :23460.0         Max.   :25895617    \n",
       " NA's   :68034         NA's   :68034           NA's   :11652       \n",
       " Master_madelantopesos Master_madelantodolares Master_fultimo_cierre\n",
       " Min.   :    0.00      Min.   :  0.00          Min.   :   1.000     \n",
       " 1st Qu.:    0.00      1st Qu.:  0.00          1st Qu.:   1.000     \n",
       " Median :    0.00      Median :  0.00          Median :   1.000     \n",
       " Mean   :   34.99      Mean   :  0.01          Mean   :   3.291     \n",
       " 3rd Qu.:    0.00      3rd Qu.:  0.00          3rd Qu.:   1.000     \n",
       " Max.   :17595.00      Max.   :152.94          Max.   :1771.000     \n",
       " NA's   :68034         NA's   :68034           NA's   :11690        \n",
       " Master_mpagado      Master_mpagospesos Master_mpagosdolares Master_fechaalta\n",
       " Min.   :      0.0   Min.   :-1929203   Min.   :    0.00     Min.   :   1    \n",
       " 1st Qu.:      0.0   1st Qu.:  -19813   1st Qu.:    0.00     1st Qu.: 806    \n",
       " Median :      0.0   Median :   -7282   Median :    0.00     Median :2194    \n",
       " Mean   :    994.8   Mean   :  -18148   Mean   :    6.22     Mean   :2532    \n",
       " 3rd Qu.:      0.0   3rd Qu.:   -1879   3rd Qu.:    0.00     3rd Qu.:3815    \n",
       " Max.   :2146087.9   Max.   :   33270   Max.   :11870.76     Max.   :7602    \n",
       " NA's   :11652       NA's   :68034      NA's   :68034        NA's   :11652   \n",
       " Master_mconsumototal Master_cconsumos Master_cadelantosefectivo\n",
       " Min.   : -21546      Min.   :  0      Min.   : 0.00            \n",
       " 1st Qu.:      0      1st Qu.:  0      1st Qu.: 0.00            \n",
       " Median :   1520      Median :  1      Median : 0.00            \n",
       " Mean   :   9755      Mean   :  3      Mean   : 0.02            \n",
       " 3rd Qu.:   9383      3rd Qu.:  4      3rd Qu.: 0.00            \n",
       " Max.   :2281776      Max.   :139      Max.   :15.00            \n",
       " NA's   :68034        NA's   :68034    NA's   :68034            \n",
       " Master_mpagominimo  Visa_delinquency  Visa_status    Visa_mfinanciacion_limite\n",
       " Min.   :      0.0   Min.   :0.00     Min.   :0.000   Min.   :        0        \n",
       " 1st Qu.:      0.0   1st Qu.:0.00     1st Qu.:0.000   1st Qu.:   101347        \n",
       " Median :      0.0   Median :0.00     Median :0.000   Median :   177358        \n",
       " Mean   :   2061.8   Mean   :0.01     Mean   :0.025   Mean   :   362453        \n",
       " 3rd Qu.:    656.9   3rd Qu.:0.00     3rd Qu.:0.000   3rd Qu.:   436989        \n",
       " Max.   :3162267.2   Max.   :1.00     Max.   :9.000   Max.   :122174659        \n",
       " NA's   :11652       NA's   :5484     NA's   :5484    NA's   :5484             \n",
       " Visa_Fvencimiento  Visa_Finiciomora Visa_msaldototal  Visa_msaldopesos \n",
       " Min.   :-2914178   Min.   :  3.00   Min.   :-769210   Min.   :-554791  \n",
       " 1st Qu.:   -1704   1st Qu.: 17.00   1st Qu.:   6431   1st Qu.:   7557  \n",
       " Median :   -1339   Median : 17.00   Median :  18913   Median :  22090  \n",
       " Mean   :  -10130   Mean   : 27.74   Mean   :  35119   Mean   :  40745  \n",
       " 3rd Qu.:    -851   3rd Qu.: 24.00   3rd Qu.:  41501   3rd Qu.:  48277  \n",
       " Max.   :    2102   Max.   :178.00   Max.   :4445916   Max.   :5133422  \n",
       " NA's   :5484       NA's   :113217   NA's   :5484      NA's   :5484     \n",
       " Visa_msaldodolares  Visa_mconsumospesos Visa_mconsumosdolares\n",
       " Min.   :-659465.5   Min.   : -48188     Min.   :    0.00     \n",
       " 1st Qu.:      0.0   1st Qu.:   2130     1st Qu.:    0.00     \n",
       " Median :      0.0   Median :   9390     Median :    0.00     \n",
       " Mean   :    452.7   Mean   :  20987     Mean   :   10.47     \n",
       " 3rd Qu.:      0.0   3rd Qu.:  25633     3rd Qu.:    1.30     \n",
       " Max.   :1078380.4   Max.   :1359524     Max.   :11738.19     \n",
       " NA's   :5484        NA's   :15325       NA's   :15325        \n",
       " Visa_mlimitecompra Visa_madelantopesos Visa_madelantodolares\n",
       " Min.   :    1012   Min.   :     0.00   Min.   :   0.000     \n",
       " 1st Qu.:  112608   1st Qu.:     0.00   1st Qu.:   0.000     \n",
       " Median :  197064   Median :     0.00   Median :   0.000     \n",
       " Mean   :  390179   Mean   :    26.17   Mean   :   0.026     \n",
       " 3rd Qu.:  485543   3rd Qu.:     0.00   3rd Qu.:   0.000     \n",
       " Max.   :25835090   Max.   :133394.76   Max.   :1450.170     \n",
       " NA's   :5484       NA's   :15325       NA's   :15325        \n",
       " Visa_fultimo_cierre  Visa_mpagado     Visa_mpagospesos   Visa_mpagosdolares \n",
       " Min.   :   1.000    Min.   :      0   Min.   :-5985265   Min.   :    0.000  \n",
       " 1st Qu.:   1.000    1st Qu.:      0   1st Qu.:  -47673   1st Qu.:    0.000  \n",
       " Median :   1.000    Median :      0   Median :  -23460   Median :    0.000  \n",
       " Mean   :   3.665    Mean   :   3642   Mean   :  -39193   Mean   :    8.214  \n",
       " 3rd Qu.:   7.000    3rd Qu.:      0   3rd Qu.:   -9848   3rd Qu.:    0.000  \n",
       " Max.   :1771.000    Max.   :1806451   Max.   :  138071   Max.   :13036.780  \n",
       " NA's   :5505        NA's   :5484      NA's   :15325      NA's   :15325      \n",
       " Visa_fechaalta  Visa_mconsumototal Visa_cconsumos    Visa_cadelantosefectivo\n",
       " Min.   :    1   Min.   : -48188    Min.   :  0.000   Min.   :0e+00          \n",
       " 1st Qu.: 1396   1st Qu.:   2130    1st Qu.:  2.000   1st Qu.:0e+00          \n",
       " Median : 2929   Median :   9390    Median :  5.000   Median :0e+00          \n",
       " Mean   : 3219   Mean   :  20987    Mean   :  8.023   Mean   :8e-03          \n",
       " 3rd Qu.: 4805   3rd Qu.:  25633    3rd Qu.: 11.000   3rd Qu.:0e+00          \n",
       " Max.   :12645   Max.   :1359524    Max.   :176.000   Max.   :1e+01          \n",
       " NA's   :5484    NA's   :15325      NA's   :15325     NA's   :15325          \n",
       " Visa_mpagominimo    clase_binaria     \n",
       " Min.   :      0.0   Length:114328     \n",
       " 1st Qu.:    574.8   Class :character  \n",
       " Median :   2275.6   Mode  :character  \n",
       " Mean   :   6766.7                     \n",
       " 3rd Qu.:   5935.4                     \n",
       " Max.   :1367072.9                     \n",
       " NA's   :5484                          "
      ]
     },
     "metadata": {},
     "output_type": "display_data"
    }
   ],
   "source": [
    "# Tenemos variables con nulos en el dataset?\n",
    "summary(dtrain)"
   ]
  },
  {
   "cell_type": "code",
   "execution_count": 9,
   "metadata": {
    "vscode": {
     "languageId": "r"
    }
   },
   "outputs": [
    {
     "name": "stdout",
     "output_type": "stream",
     "text": [
      "Call:\n",
      "rpart(formula = clase_binaria ~ ., data = dtrain, xval = 0, cp = -1, \n",
      "    minsplit = 1000, minbucket = 40, maxdepth = 7)\n",
      "  n= 114328 \n",
      "\n",
      "  CP nsplit rel error\n",
      "1  0      0         1\n",
      "2 -1     37         1\n",
      "\n",
      "Variable importance\n",
      "               ctrx_quarter                 Visa_status \n",
      "                         14                           7 \n",
      "   cdescubierto_preacordado              mcuentas_saldo \n",
      "                          7                           6 \n",
      "      mprestamos_personales       cprestamos_personales \n",
      "                          6                           5 \n",
      "          mcuenta_corriente             mactivos_margen \n",
      "                          5                           4 \n",
      "            mpasivos_margen                mcaja_ahorro \n",
      "                          4                           4 \n",
      "  mcomisiones_mantenimiento   ccomisiones_mantenimiento \n",
      "                          3                           3 \n",
      "          ccomisiones_otras               Master_status \n",
      "                          3                           3 \n",
      "             active_quarter               mrentabilidad \n",
      "                          3                           2 \n",
      "      mtarjeta_visa_consumo                  cproductos \n",
      "                          2                           2 \n",
      "       mrentabilidad_annual            Visa_msaldototal \n",
      "                          2                           2 \n",
      "           Visa_msaldopesos                thomebanking \n",
      "                          2                           1 \n",
      "ctarjeta_visa_transacciones           mcomisiones_otras \n",
      "                          1                           1 \n",
      "                mcomisiones  chomebanking_transacciones \n",
      "                          1                           1 \n",
      "           Visa_mpagominimo                    tcuentas \n",
      "                          1                           1 \n",
      "  ccallcenter_transacciones                    mpayroll \n",
      "                          1                           1 \n",
      "               cpayroll_trx \n",
      "                          1 \n",
      "\n",
      "Node number 1: 114328 observations,    complexity param=0\n",
      "  predicted class=noevento  expected loss=0.006428871  P(node) =1\n",
      "    class counts:   735 113593\n",
      "   probabilities: 0.006 0.994 \n",
      "\n"
     ]
    }
   ],
   "source": [
    "# En el summary del modelo buscamos un corte donde la primera variable\n",
    "# tenga missing.\n",
    "summary(modelo)"
   ]
  },
  {
   "cell_type": "markdown",
   "metadata": {},
   "source": [
    "**Preguntas**\n",
    "- ¿Cómo operó con la variable nula?\n",
    "- ¿Hace falta imputar las variables para que el árbol abra?"
   ]
  },
  {
   "cell_type": "code",
   "execution_count": 10,
   "metadata": {
    "vscode": {
     "languageId": "r"
    }
   },
   "outputs": [
    {
     "name": "stdout",
     "output_type": "stream",
     "text": [
      "[1] 86608667\n",
      "                        ctrx_quarter                       mcuentas_saldo \n",
      "                        4.127537e+01                         2.287475e+01 \n",
      "                   mcuenta_corriente                         mcaja_ahorro \n",
      "                        1.801011e+01                         1.642235e+01 \n",
      "                ccajas_transacciones                mprestamos_personales \n",
      "                        1.561809e+01                         1.516117e+01 \n",
      "               cprestamos_personales                      mactivos_margen \n",
      "                        1.401629e+01                         1.359414e+01 \n",
      "                    ccajas_consultas             cdescubierto_preacordado \n",
      "                        1.253243e+01                         1.059381e+01 \n",
      "           mcomisiones_mantenimiento                      mpasivos_margen \n",
      "                        1.027260e+01                         9.699559e+00 \n",
      "           ccomisiones_mantenimiento                    ccomisiones_otras \n",
      "                        8.576112e+00                         8.084683e+00 \n",
      "                      active_quarter                         ccajas_otras \n",
      "                        7.858429e+00                         6.738619e+00 \n",
      "                       ctarjeta_visa                mtarjeta_visa_consumo \n",
      "                        6.106571e+00                         4.654083e+00 \n",
      "                            mpayroll                        mrentabilidad \n",
      "                        4.162499e+00                         4.141948e+00 \n",
      "                        cpayroll_trx          ctarjeta_visa_transacciones \n",
      "                        4.024086e+00                         3.712972e+00 \n",
      "                        thomebanking                           cproductos \n",
      "                        3.654034e+00                         3.050795e+00 \n",
      "          chomebanking_transacciones                     ccajas_depositos \n",
      "                        2.945373e+00                         2.896904e+00 \n",
      "                    Visa_msaldopesos                     Visa_msaldototal \n",
      "                        2.476514e+00                         2.466815e+00 \n",
      "                mrentabilidad_annual                   cliente_antiguedad \n",
      "                        1.958944e+00                         1.946448e+00 \n",
      "                            tcuentas                      ctarjeta_master \n",
      "                        1.895452e+00                         1.849845e+00 \n",
      "                    Visa_mpagominimo                  ccajas_extracciones \n",
      "                        1.702511e+00                         1.700357e+00 \n",
      "             mtarjeta_master_consumo                          mcomisiones \n",
      "                        1.661947e+00                         1.603525e+00 \n",
      "                   mcomisiones_otras        ctarjeta_master_transacciones \n",
      "                        1.591264e+00                         1.226741e+00 \n",
      "            mextraccion_autoservicio            ccallcenter_transacciones \n",
      "                        1.052866e+00                         9.930671e-01 \n",
      "            cextraccion_autoservicio                    numero_de_cliente \n",
      "                        8.246773e-01                         8.077050e-01 \n",
      "                                matm                             catm_trx \n",
      "                        7.477100e-01                         7.269403e-01 \n",
      "                         tcallcenter                             internet \n",
      "                        6.904525e-01                         6.825147e-01 \n",
      "mttarjeta_master_debitos_automaticos  ctarjeta_master_debitos_automaticos \n",
      "                        6.692799e-01                         5.564116e-01 \n",
      "                    Master_fechaalta                     Visa_mpagospesos \n",
      "                        2.740343e-01                         2.583807e-01 \n",
      "                         Visa_status           ctarjeta_master_descuentos \n",
      "                        2.493428e-01                         9.774799e-02 \n",
      "                          matm_other                         ccaja_ahorro \n",
      "                        8.591512e-02                         8.487231e-02 \n",
      "                      catm_trx_other            Visa_mfinanciacion_limite \n",
      "                        7.816900e-02                         7.565812e-02 \n",
      "                  Visa_mlimitecompra                       Visa_fechaalta \n",
      "                        7.463022e-02                         4.703297e-02 \n",
      "                       mautoservicio               mcaja_ahorro_adicional \n",
      "                        3.330974e-02                         3.176927e-02 \n",
      "                        cliente_edad                   Master_mpagospesos \n",
      "                        2.741530e-02                         6.134072e-03 \n",
      "                         cinversion2              Visa_cadelantosefectivo \n",
      "                        2.262896e-03                         2.223827e-03 \n",
      "       ctarjeta_debito_transacciones                 mcaja_ahorro_dolares \n",
      "                        1.976885e-03                         1.345020e-03 \n",
      "         mcuenta_debitos_automaticos                  mplazo_fijo_dolares \n",
      "                        1.111913e-03                         9.299563e-04 \n",
      "           mtransferencias_recibidas                 Master_mpagosdolares \n",
      "                        8.727445e-04                         8.000963e-04 \n",
      "                        cseguro_auto                      ctarjeta_debito \n",
      "                        7.086993e-04                         5.422332e-04 \n",
      "                   minversion1_pesos         mcheques_emitidos_rechazados \n",
      "                        4.966337e-04                         4.159992e-04 \n",
      "                         minversion2                mprestamos_prendarios \n",
      "                        4.125699e-04                         3.483681e-04 \n",
      "                         cplazo_fijo              cprestamos_hipotecarios \n",
      "                        3.382534e-04                         3.221529e-04 \n",
      "                          mforex_buy                          mforex_sell \n",
      "                        2.750466e-04                         2.750466e-04 \n",
      "  mttarjeta_visa_debitos_automaticos                   Master_msaldopesos \n",
      "                        2.033373e-04                         1.846376e-04 \n",
      "                  Master_msaldototal                      mpagomiscuentas \n",
      "                        1.846376e-04                         1.260956e-04 \n"
     ]
    }
   ],
   "source": [
    "# Actividad en clase:\n",
    "# -------------------\n",
    "\n",
    "# Impute una variable que sea importante y vea si mejora tanto su ganancia\n",
    "# y su importancia. Un ejemplo\n",
    "\n",
    "experimento <- function(ds, semillas, cp = -1, minsplit = 1000, minbucket = 200, maxdepth = 7) {\n",
    "    gan <- c()\n",
    "    for (s in semillas) {\n",
    "        set.seed(s)\n",
    "        in_training <- caret::createDataPartition(ds$clase_binaria, p = 0.70,\n",
    "            list = FALSE)\n",
    "        train  <-  dataset[in_training, ]\n",
    "        test   <-  dataset[-in_training, ]\n",
    "\n",
    "        r <- rpart(clase_binaria ~ .,\n",
    "                    data = train,\n",
    "                    xval = 0,\n",
    "                    cp = cp,\n",
    "                    minsplit = minsplit,\n",
    "                    minbucket = minbucket,\n",
    "                    maxdepth = maxdepth)\n",
    "\n",
    "        gan <- c(gan, calcular_ganancia(r, test))\n",
    "    }\n",
    "    print(mean(gan))\n",
    "    r <- rpart(clase_binaria ~ .,\n",
    "            data = ds,\n",
    "            xval = 0,\n",
    "            cp = cp,\n",
    "            minsplit = minsplit,\n",
    "            minbucket = minbucket,\n",
    "            maxdepth = maxdepth)\n",
    "    print(r$variable.importance)\n",
    "}\n",
    "experimento(dataset, semillas)"
   ]
  },
  {
   "cell_type": "code",
   "execution_count": 11,
   "metadata": {
    "vscode": {
     "languageId": "r"
    }
   },
   "outputs": [
    {
     "name": "stdout",
     "output_type": "stream",
     "text": [
      "[1] 7831\n",
      "[1] 86492000\n",
      "                        ctrx_quarter                       mcuentas_saldo \n",
      "                        4.127537e+01                         2.287475e+01 \n",
      "                   mcuenta_corriente                         mcaja_ahorro \n",
      "                        1.801012e+01                         1.632994e+01 \n",
      "                ccajas_transacciones                mprestamos_personales \n",
      "                        1.561809e+01                         1.517995e+01 \n",
      "               cprestamos_personales                      mactivos_margen \n",
      "                        1.401629e+01                         1.359305e+01 \n",
      "                    ccajas_consultas             cdescubierto_preacordado \n",
      "                        1.253243e+01                         1.061908e+01 \n",
      "           mcomisiones_mantenimiento                      mpasivos_margen \n",
      "                        1.027240e+01                         9.597981e+00 \n",
      "           ccomisiones_mantenimiento                    ccomisiones_otras \n",
      "                        8.576112e+00                         8.084683e+00 \n",
      "                      active_quarter                         ccajas_otras \n",
      "                        7.858429e+00                         6.738619e+00 \n",
      "                Visa_mlimitecompra_2                        ctarjeta_visa \n",
      "                        6.347314e+00                         6.266363e+00 \n",
      "               mtarjeta_visa_consumo                             mpayroll \n",
      "                        4.654083e+00                         4.162499e+00 \n",
      "                        cpayroll_trx                        mrentabilidad \n",
      "                        4.024086e+00                         3.835248e+00 \n",
      "         ctarjeta_visa_transacciones                         thomebanking \n",
      "                        3.712972e+00                         3.654034e+00 \n",
      "                          cproductos           chomebanking_transacciones \n",
      "                        3.127636e+00                         2.945373e+00 \n",
      "                    ccajas_depositos                     Visa_msaldopesos \n",
      "                        2.896904e+00                         2.476514e+00 \n",
      "                    Visa_msaldototal                   cliente_antiguedad \n",
      "                        2.466815e+00                         2.107291e+00 \n",
      "                            tcuentas                 mrentabilidad_annual \n",
      "                        1.895452e+00                         1.790521e+00 \n",
      "                 ccajas_extracciones                     Visa_mpagominimo \n",
      "                        1.700357e+00                         1.687804e+00 \n",
      "                     ctarjeta_master              mtarjeta_master_consumo \n",
      "                        1.675798e+00                         1.661947e+00 \n",
      "                         mcomisiones                    mcomisiones_otras \n",
      "                        1.473180e+00                         1.470681e+00 \n",
      "       ctarjeta_master_transacciones             mextraccion_autoservicio \n",
      "                        1.226741e+00                         1.052866e+00 \n",
      "           ccallcenter_transacciones                    numero_de_cliente \n",
      "                        9.930671e-01                         8.392465e-01 \n",
      "            cextraccion_autoservicio                                 matm \n",
      "                        8.246773e-01                         7.477100e-01 \n",
      "                            catm_trx                          tcallcenter \n",
      "                        7.269403e-01                         6.904525e-01 \n",
      "                            internet mttarjeta_master_debitos_automaticos \n",
      "                        6.825147e-01                         6.692799e-01 \n",
      " ctarjeta_master_debitos_automaticos                     Master_fechaalta \n",
      "                        5.564116e-01                         2.740343e-01 \n",
      "                    Visa_mpagospesos                       Visa_fechaalta \n",
      "                        2.583807e-01                         2.283086e-01 \n",
      "                         Visa_status           ctarjeta_master_descuentos \n",
      "                        1.521951e-01                         9.774799e-02 \n",
      "                          matm_other                         ccaja_ahorro \n",
      "                        8.591512e-02                         8.487231e-02 \n",
      "                      catm_trx_other            Visa_mfinanciacion_limite \n",
      "                        7.804332e-02                         7.565812e-02 \n",
      "                  Visa_mlimitecompra                        mautoservicio \n",
      "                        7.463022e-02                         3.330974e-02 \n",
      "              mcaja_ahorro_adicional                         cliente_edad \n",
      "                        3.176927e-02                         2.529153e-02 \n",
      "                  Master_mpagospesos                          cinversion2 \n",
      "                        6.134072e-03                         2.262896e-03 \n",
      "             Visa_cadelantosefectivo                 mcaja_ahorro_dolares \n",
      "                        2.223827e-03                         1.345020e-03 \n",
      "         mcuenta_debitos_automaticos                  mplazo_fijo_dolares \n",
      "                        1.111913e-03                         9.299563e-04 \n",
      "           mtransferencias_recibidas                 Master_mpagosdolares \n",
      "                        8.727445e-04                         8.000963e-04 \n",
      "                        cseguro_auto                      ctarjeta_debito \n",
      "                        7.086993e-04                         5.422332e-04 \n",
      "                   minversion1_pesos         mcheques_emitidos_rechazados \n",
      "                        4.985879e-04                         4.159992e-04 \n",
      "                         minversion2                mprestamos_prendarios \n",
      "                        4.145242e-04                         3.483681e-04 \n",
      "                         cplazo_fijo              cprestamos_hipotecarios \n",
      "                        3.382534e-04                         3.221529e-04 \n",
      "                          mforex_buy                          mforex_sell \n",
      "                        2.763495e-04                         2.763495e-04 \n",
      "  mttarjeta_visa_debitos_automaticos                   Master_msaldopesos \n",
      "                        2.033373e-04                         1.846376e-04 \n",
      "                  Master_msaldototal                      mpagomiscuentas \n",
      "                        1.846376e-04                         1.260956e-04 \n"
     ]
    }
   ],
   "source": [
    "# Imputamos los nulos de una variable con ceros\n",
    "print(sum(is.na(dataset$Visa_mlimitecompra)))\n",
    "dataset[, Visa_mlimitecompra_2 := ifelse(is.na(Visa_mlimitecompra), 0, Visa_fechaalta)]\n",
    "experimento(dataset, semillas)\n",
    "\n",
    "## Comparta sus resultados"
   ]
  },
  {
   "cell_type": "markdown",
   "metadata": {},
   "source": [
    "# Step 4: Correlaciones"
   ]
  },
  {
   "cell_type": "markdown",
   "metadata": {},
   "source": [
    "Varios modelos en los que entren dos variables muy correlacionadas se romperían. Sucede esto con los árboles?"
   ]
  },
  {
   "cell_type": "markdown",
   "metadata": {},
   "source": [
    "Actividad en clase: Cree una variable muy correlacionada con su mejor variables y comparta que sucede.\n"
   ]
  },
  {
   "cell_type": "markdown",
   "metadata": {},
   "source": [
    "# Step 5: Outliers"
   ]
  },
  {
   "cell_type": "code",
   "execution_count": 12,
   "metadata": {
    "vscode": {
     "languageId": "r"
    }
   },
   "outputs": [
    {
     "data": {
      "image/png": "[encoded data removed]",
      "text/plain": [
       "plot without title"
      ]
     },
     "metadata": {
      "image/png": {
       "height": 420,
       "width": 420
      }
     },
     "output_type": "display_data"
    }
   ],
   "source": [
    "# Veamos el boxplot de una variable muy importante según nuestro árbol\n",
    "ggplot(dataset, aes(x=ctrx_quarter)) + geom_boxplot()"
   ]
  },
  {
   "cell_type": "code",
   "execution_count": 13,
   "metadata": {
    "vscode": {
     "languageId": "r"
    }
   },
   "outputs": [
    {
     "data": {
      "text/html": [
       "<style>\n",
       ".dl-inline {width: auto; margin:0; padding: 0}\n",
       ".dl-inline>dt, .dl-inline>dd {float: none; width: auto; display: inline-block}\n",
       ".dl-inline>dt::after {content: \":\\0020\"; padding-right: .5ex}\n",
       ".dl-inline>dt:not(:first-of-type) {padding-left: .5ex}\n",
       "</style><dl class=dl-inline><dt>0%</dt><dd>0</dd><dt>50%</dt><dd>105</dd><dt>75%</dt><dd>158</dd><dt>90%</dt><dd>218</dd><dt>95%</dt><dd>267</dd><dt>99%</dt><dd>412</dd><dt>100%</dt><dd>3265</dd></dl>\n"
      ],
      "text/latex": [
       "\\begin{description*}\n",
       "\\item[0\\textbackslash{}\\%] 0\n",
       "\\item[50\\textbackslash{}\\%] 105\n",
       "\\item[75\\textbackslash{}\\%] 158\n",
       "\\item[90\\textbackslash{}\\%] 218\n",
       "\\item[95\\textbackslash{}\\%] 267\n",
       "\\item[99\\textbackslash{}\\%] 412\n",
       "\\item[100\\textbackslash{}\\%] 3265\n",
       "\\end{description*}\n"
      ],
      "text/markdown": [
       "0%\n",
       ":   050%\n",
       ":   10575%\n",
       ":   15890%\n",
       ":   21895%\n",
       ":   26799%\n",
       ":   412100%\n",
       ":   3265\n",
       "\n"
      ],
      "text/plain": [
       "  0%  50%  75%  90%  95%  99% 100% \n",
       "   0  105  158  218  267  412 3265 "
      ]
     },
     "metadata": {},
     "output_type": "display_data"
    }
   ],
   "source": [
    "# Vemos la distribución de los deciles\n",
    "quantile(dataset$ctrx_quarter, probs = c(0,0.5, 0.75, 0.9, 0.95, 0.99, 1))"
   ]
  },
  {
   "cell_type": "markdown",
   "metadata": {},
   "source": [
    "**Preguntas**\n",
    "- ¿Qué tan frecuentes considera estas dispersiones en los datasets?"
   ]
  },
  {
   "cell_type": "code",
   "execution_count": 14,
   "metadata": {
    "vscode": {
     "languageId": "r"
    }
   },
   "outputs": [
    {
     "data": {
      "text/html": [
       "<style>\n",
       ".dl-inline {width: auto; margin:0; padding: 0}\n",
       ".dl-inline>dt, .dl-inline>dd {float: none; width: auto; display: inline-block}\n",
       ".dl-inline>dt::after {content: \":\\0020\"; padding-right: .5ex}\n",
       ".dl-inline>dt:not(:first-of-type) {padding-left: .5ex}\n",
       "</style><dl class=dl-inline><dt>0%</dt><dd>0</dd><dt>50%</dt><dd>4.66343909411207</dd><dt>75%</dt><dd>5.06890420222023</dd><dt>90%</dt><dd>5.3890717298165</dd><dt>95%</dt><dd>5.59098698051086</dd><dt>99%</dt><dd>6.02344759296103</dd><dt>100%</dt><dd>8.09132127353041</dd></dl>\n"
      ],
      "text/latex": [
       "\\begin{description*}\n",
       "\\item[0\\textbackslash{}\\%] 0\n",
       "\\item[50\\textbackslash{}\\%] 4.66343909411207\n",
       "\\item[75\\textbackslash{}\\%] 5.06890420222023\n",
       "\\item[90\\textbackslash{}\\%] 5.3890717298165\n",
       "\\item[95\\textbackslash{}\\%] 5.59098698051086\n",
       "\\item[99\\textbackslash{}\\%] 6.02344759296103\n",
       "\\item[100\\textbackslash{}\\%] 8.09132127353041\n",
       "\\end{description*}\n"
      ],
      "text/markdown": [
       "0%\n",
       ":   050%\n",
       ":   4.6634390941120775%\n",
       ":   5.0689042022202390%\n",
       ":   5.389071729816595%\n",
       ":   5.5909869805108699%\n",
       ":   6.02344759296103100%\n",
       ":   8.09132127353041\n",
       "\n"
      ],
      "text/plain": [
       "      0%      50%      75%      90%      95%      99%     100% \n",
       "0.000000 4.663439 5.068904 5.389072 5.590987 6.023448 8.091321 "
      ]
     },
     "metadata": {},
     "output_type": "display_data"
    }
   ],
   "source": [
    "# Reduzcamos la enorme disperción usando un logaritmo\n",
    "dataset[, ctrx_quarter_2 := log(ctrx_quarter + 1)]\n",
    "quantile(dataset$ctrx_quarter_2, probs = c(0,0.5, 0.75, 0.9, 0.95, 0.99, 1))"
   ]
  },
  {
   "cell_type": "code",
   "execution_count": 15,
   "metadata": {
    "vscode": {
     "languageId": "r"
    }
   },
   "outputs": [],
   "source": [
    "# Comparemos dos splits\n",
    "modelo_cq_1 <- rpart(clase_binaria ~ ctrx_quarter,\n",
    "                    data = dataset,\n",
    "                    xval = 0,\n",
    "                    cp = -1,\n",
    "                    maxdepth = 1)\n",
    "modelo_cq_2 <- rpart(clase_binaria ~ ctrx_quarter_2,\n",
    "                    data = dataset,\n",
    "                    xval = 0,\n",
    "                    cp = -1,\n",
    "                    maxdepth = 1)"
   ]
  },
  {
   "cell_type": "code",
   "execution_count": 16,
   "metadata": {
    "vscode": {
     "languageId": "r"
    }
   },
   "outputs": [
    {
     "name": "stdout",
     "output_type": "stream",
     "text": [
      "n= 163324 \n",
      "\n",
      "node), split, n, loss, yval, (yprob)\n",
      "      * denotes terminal node\n",
      "\n",
      "1) root 163324 1049 noevento (0.006422816 0.993577184)  \n",
      "  2) ctrx_quarter< 17.5 10372  477 noevento (0.045989202 0.954010798) *\n",
      "  3) ctrx_quarter>=17.5 152952  572 noevento (0.003739735 0.996260265) *\n"
     ]
    }
   ],
   "source": [
    "print(modelo_cq_1)"
   ]
  },
  {
   "cell_type": "code",
   "execution_count": 17,
   "metadata": {
    "vscode": {
     "languageId": "r"
    }
   },
   "outputs": [
    {
     "name": "stdout",
     "output_type": "stream",
     "text": [
      "n= 163324 \n",
      "\n",
      "node), split, n, loss, yval, (yprob)\n",
      "      * denotes terminal node\n",
      "\n",
      "1) root 163324 1049 noevento (0.006422816 0.993577184)  \n",
      "  2) ctrx_quarter_2< 2.917405 10372  477 noevento (0.045989202 0.954010798) *\n",
      "  3) ctrx_quarter_2>=2.917405 152952  572 noevento (0.003739735 0.996260265) *\n"
     ]
    }
   ],
   "source": [
    "print(modelo_cq_2)"
   ]
  },
  {
   "cell_type": "markdown",
   "metadata": {},
   "source": [
    "**Preguntas**\n",
    "- Mirando los puntos de corte de los dos modelos ¿Existe una relación matermática entre ellos?\n",
    "- ¿Es útil una transformación monótona en los árboles de decisión?"
   ]
  },
  {
   "cell_type": "markdown",
   "metadata": {},
   "source": [
    "# Step 6: Data drifting"
   ]
  },
  {
   "cell_type": "markdown",
   "metadata": {},
   "source": [
    "**Actividad en clase**: Qué es y como lo solucionamos"
   ]
  }
 ],
 "metadata": {
  "kernelspec": {
   "display_name": "R",
   "language": "R",
   "name": "ir"
  },
  "language_info": {
   "codemirror_mode": "r",
   "file_extension": ".r",
   "mimetype": "text/x-r-source",
   "name": "R",
   "pygments_lexer": "r",
   "version": "4.3.1"
  },
  "orig_nbformat": 4
 },
 "nbformat": 4,
 "nbformat_minor": 2
}
