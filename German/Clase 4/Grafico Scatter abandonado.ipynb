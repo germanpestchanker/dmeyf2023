{
 "cells": [
  {
   "cell_type": "markdown",
   "metadata": {},
   "source": [
    "Gráfico de Scatter Plot"
   ]
  },
  {
   "cell_type": "markdown",
   "metadata": {},
   "source": [
    "# Preparación del Entorno"
   ]
  },
  {
   "cell_type": "code",
   "execution_count": 1,
   "metadata": {
    "vscode": {
     "languageId": "r"
    }
   },
   "outputs": [
    {
     "data": {
      "text/html": [
       "<table class=\"dataframe\">\n",
       "<caption>A matrix: 2 × 6 of type dbl</caption>\n",
       "<thead>\n",
       "\t<tr><th></th><th scope=col>used</th><th scope=col>(Mb)</th><th scope=col>gc trigger</th><th scope=col>(Mb)</th><th scope=col>max used</th><th scope=col>(Mb)</th></tr>\n",
       "</thead>\n",
       "<tbody>\n",
       "\t<tr><th scope=row>Ncells</th><td> 627601</td><td>33.6</td><td>1404617</td><td>75.1</td><td> 994247</td><td>53.1</td></tr>\n",
       "\t<tr><th scope=row>Vcells</th><td>1149651</td><td> 8.8</td><td>8388608</td><td>64.0</td><td>1769393</td><td>13.5</td></tr>\n",
       "</tbody>\n",
       "</table>\n"
      ],
      "text/latex": [
       "A matrix: 2 × 6 of type dbl\n",
       "\\begin{tabular}{r|llllll}\n",
       "  & used & (Mb) & gc trigger & (Mb) & max used & (Mb)\\\\\n",
       "\\hline\n",
       "\tNcells &  627601 & 33.6 & 1404617 & 75.1 &  994247 & 53.1\\\\\n",
       "\tVcells & 1149651 &  8.8 & 8388608 & 64.0 & 1769393 & 13.5\\\\\n",
       "\\end{tabular}\n"
      ],
      "text/markdown": [
       "\n",
       "A matrix: 2 × 6 of type dbl\n",
       "\n",
       "| <!--/--> | used | (Mb) | gc trigger | (Mb) | max used | (Mb) |\n",
       "|---|---|---|---|---|---|---|\n",
       "| Ncells |  627601 | 33.6 | 1404617 | 75.1 |  994247 | 53.1 |\n",
       "| Vcells | 1149651 |  8.8 | 8388608 | 64.0 | 1769393 | 13.5 |\n",
       "\n"
      ],
      "text/plain": [
       "       used    (Mb) gc trigger (Mb) max used (Mb)\n",
       "Ncells  627601 33.6 1404617    75.1  994247  53.1\n",
       "Vcells 1149651  8.8 8388608    64.0 1769393  13.5"
      ]
     },
     "metadata": {},
     "output_type": "display_data"
    }
   ],
   "source": [
    "# Limpio la memoria\n",
    "rm(list = ls())\n",
    "gc()"
   ]
  },
  {
   "cell_type": "code",
   "execution_count": 2,
   "metadata": {
    "vscode": {
     "languageId": "r"
    }
   },
   "outputs": [
    {
     "name": "stderr",
     "output_type": "stream",
     "text": [
      "Loading required package: data.table\n",
      "\n",
      "Loading required package: rpart\n",
      "\n"
     ]
    }
   ],
   "source": [
    "require(\"data.table\")\n",
    "require(\"rpart\")"
   ]
  },
  {
   "cell_type": "code",
   "execution_count": 3,
   "metadata": {
    "vscode": {
     "languageId": "r"
    }
   },
   "outputs": [],
   "source": [
    "# Cargamos el dataset\n",
    "dataset <- fread(\"competencia_01_alternativo.csv\")\n",
    "\n",
    "dir.create(\"./exp/\", showWarnings = FALSE)\n",
    "dir.create(\"./exp/DR3610/\", showWarnings = FALSE)\n",
    "setwd(\"./exp/DR3610/\")"
   ]
  },
  {
   "cell_type": "markdown",
   "metadata": {},
   "source": [
    "# Gráfico"
   ]
  },
  {
   "cell_type": "code",
   "execution_count": 4,
   "metadata": {
    "vscode": {
     "languageId": "r"
    }
   },
   "outputs": [],
   "source": [
    "# Filtra los datos para foto_mes igual a 202103\n",
    "dataset <- dataset[foto_mes == 202103]\n",
    "\n",
    "# Creo la clase_binaria SI={ BAJA+1, BAJA+2 } NO={ CONTINUA }\n",
    "dataset[, clase_binaria := ifelse(clase_ternaria == \"CONTINUA\", \"NO\", \"SI\")]"
   ]
  },
  {
   "cell_type": "code",
   "execution_count": 5,
   "metadata": {
    "vscode": {
     "languageId": "r"
    }
   },
   "outputs": [],
   "source": [
    "# Inicia un archivo PDF para guardar los gráficos\n",
    "pdf(\"scatter_plots.pdf\", width = 8, height = 8)"
   ]
  },
  {
   "cell_type": "code",
   "execution_count": null,
   "metadata": {
    "vscode": {
     "languageId": "r"
    }
   },
   "outputs": [
    {
     "name": "stderr",
     "output_type": "stream",
     "text": [
      "Warning message in min(x):\n",
      "\"ningún argumento finito para min; retornando Inf\"\n",
      "Warning message in max(x):\n",
      "\"ningun argumento finito para max; retornando -Inf\"\n",
      "Warning message in min(x):\n",
      "\"ningún argumento finito para min; retornando Inf\"\n",
      "Warning message in max(x):\n",
      "\"ningun argumento finito para max; retornando -Inf\"\n"
     ]
    },
    {
     "ename": "ERROR",
     "evalue": "Error in plot.window(...): se necesitan valores finitos de 'xlim'\n",
     "output_type": "error",
     "traceback": [
      "Error in plot.window(...): se necesitan valores finitos de 'xlim'\nTraceback:\n",
      "1. plot(undersampled_dataset[[columna]], main = paste(\"Scatter Plot de\", \n .     columna), xlab = \"Índice de datos\", ylab = columna, col = colores, \n .     pch = 16)",
      "2. plot.default(undersampled_dataset[[columna]], main = paste(\"Scatter Plot de\", \n .     columna), xlab = \"Índice de datos\", ylab = columna, col = colores, \n .     pch = 16)",
      "3. localWindow(xlim, ylim, log, asp, ...)",
      "4. plot.window(...)"
     ]
    },
    {
     "data": {
      "image/png": "[encoded data removed]",
      "text/plain": [
       "plot without title"
      ]
     },
     "metadata": {
      "image/png": {
       "height": 420,
       "width": 420
      }
     },
     "output_type": "display_data"
    }
   ],
   "source": [
    "# Itera a través de las variables y crea los gráficos de dispersión\n",
    "for (columna in colnames(undersampled_dataset)) {\n",
    "  if (is.numeric(undersampled_dataset[[columna]])) {  # Verifica si la columna es numérica\n",
    "    # Crea un vector de colores basado en la variable de clase binaria\n",
    "    colores <- ifelse(undersampled_dataset$clase_binaria == \"SI\", \"blue\", \"red\")\n",
    "    \n",
    "    # Crea el scatter plot con colores personalizados\n",
    "    plot(undersampled_dataset[[columna]], \n",
    "         main = paste(\"Scatter Plot de\", columna), \n",
    "         xlab = \"Índice de datos\", \n",
    "         ylab = columna,\n",
    "         col = colores,\n",
    "         pch = 16)  # Cambia el tipo de punto a 16 para que sea más visible\n",
    "    \n",
    "    # Agrega una leyenda\n",
    "    legend(\"topright\", legend = c(\"SI\", \"NO\"), col = c(\"blue\", \"red\"), pch = 16, title = \"Clase Binaria\")\n",
    "  }\n",
    "}\n"
   ]
  },
  {
   "cell_type": "code",
   "execution_count": 2,
   "metadata": {
    "vscode": {
     "languageId": "r"
    }
   },
   "outputs": [
    {
     "data": {
      "text/html": [
       "<strong>null device:</strong> 1"
      ],
      "text/latex": [
       "\\textbf{null device:} 1"
      ],
      "text/markdown": [
       "**null device:** 1"
      ],
      "text/plain": [
       "null device \n",
       "          1 "
      ]
     },
     "metadata": {},
     "output_type": "display_data"
    }
   ],
   "source": [
    "# Cierra el archivo PDF\n",
    "dev.off()"
   ]
  }
 ],
 "metadata": {
  "kernelspec": {
   "display_name": "R",
   "language": "R",
   "name": "ir"
  },
  "language_info": {
   "codemirror_mode": "r",
   "file_extension": ".r",
   "mimetype": "text/x-r-source",
   "name": "R",
   "pygments_lexer": "r",
   "version": "4.3.1"
  },
  "orig_nbformat": 4
 },
 "nbformat": 4,
 "nbformat_minor": 2
}
