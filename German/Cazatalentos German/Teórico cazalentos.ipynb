{
 "cells": [
  {
   "cell_type": "markdown",
   "metadata": {},
   "source": [
    "El siguiente desafío busca introducir el problema fundamental de la Ciencia de Datos que es el\n",
    "overfitting desde un ángulo distinto, presentando los fenómenos del efecto del tamaño de la\n",
    "muestra, el conocido problema de las múltiples comparaciones y “la maldición del ganador”."
   ]
  },
  {
   "cell_type": "markdown",
   "metadata": {},
   "source": [
    "# Definición del problema"
   ]
  },
  {
   "cell_type": "markdown",
   "metadata": {},
   "source": [
    "## 0) Caso fallido: \"una jugadora se quiere pasar de lista\""
   ]
  },
  {
   "cell_type": "markdown",
   "metadata": {},
   "source": [
    "Una es super talentosa se llama Diana Taurasi, nosotros sabemos que tiene un “índice de enceste”\n",
    "del 0.85, es decir cada vez que hace un tiro libre su probabilidad de encestar es del 85%. Si hace\n",
    "100 tiros libres, en promedio encesta 85 veces, a veces puede ser más, a veces menos, pero en\n",
    "promedio encesta 85 de 100."
   ]
  },
  {
   "cell_type": "markdown",
   "metadata": {},
   "source": [
    "La otra es un auténtico desastre, a quien llamaremos Miss X, y su índice de enceste es de 0.10.\n",
    "Esto quiere decir que si hace 100 tiros libres, en promedio encesta 10.\n",
    "La cazatalentos NO tiene forma de conocer los valores de 0.85 y 0.10, solo puede hacerlas tirar y\n",
    "contar aciertos."
   ]
  },
  {
   "cell_type": "markdown",
   "metadata": {},
   "source": [
    "La cazatalentos llega al gimnasio, y solo se encuentra Diana, con lo cual le indica que comience a\n",
    "tirar. Al tiro 10, Diana lleva 8 encestes y dos no-enceste.\n"
   ]
  },
  {
   "cell_type": "markdown",
   "metadata": {},
   "source": [
    "En ese momento, llega con un andar cansino Miss X y las interrumpe : ¿cuánto va Diana ? La\n",
    "cazatalentos le responde 8 de 10. Miss X solicita permiso para tirar, y acierta ese tiro.\n",
    "Ahí mismo dice : “paren las rotativas, yo soy la clara ganadora de este torneo, mi índice de acierto\n",
    "es del 100% y el de Diana es del 80% , la matemática es clara”."
   ]
  },
  {
   "cell_type": "markdown",
   "metadata": {},
   "source": [
    "La cazatalentos monta en cólera y le dice : pues usted joven solo ha realizado un tiro, ¿Si lo\n",
    "hubiera errado, aceptaría decir entonces que su índice de acierto es del 0%? Ciertamente no.\n",
    "Pues ahora, usted deberá seguir tirando hasta completar sus 10 tiros libres, y recién ahí\n",
    "compararé."
   ]
  },
  {
   "cell_type": "markdown",
   "metadata": {},
   "source": [
    "## 1) Primer caso, sin overfitting"
   ]
  },
  {
   "cell_type": "markdown",
   "metadata": {},
   "source": [
    "La cazatalentos tiene el siguiente algoritmo, hace que Diana Taurasi y Miss X hagan 10 tiros libres\n",
    "cada una, y elige a la ganadora de esos 10 tiros libres."
   ]
  },
  {
   "cell_type": "markdown",
   "metadata": {},
   "source": [
    "¿Garantiza este método que por lo menos el 99% de las veces elige a Diana Taurasi?\n",
    "¿La desastrosa Miss X puede llegar a encestar los 10 tiros libres? Efectivamente sí existe esa\n",
    "posibilidad, pero con una muy baja probabilidad, la probabilidad es de 0.10 ^10 = 1e-10"
   ]
  },
  {
   "cell_type": "markdown",
   "metadata": {},
   "source": [
    "El símbolo de ^ significa \"elevado a la potencia de\"\n",
    "¿Cual es la probabilidad que Miss X tire una sola vez y acierte este tiro? Simplemente 0.1 , una en\n",
    "diez, con lo cual ha tenido mucha suerte en su primer tiro, pero no la va a poder mantener !"
   ]
  },
  {
   "cell_type": "markdown",
   "metadata": {},
   "source": [
    "¿La adolescente Diana Taurasi puede llegar a encestar los 10 tiros libres? Efectivamente, su\n",
    "probabilidad es 0.85 ^10 = 0.1968744"
   ]
  },
  {
   "cell_type": "markdown",
   "metadata": {},
   "source": [
    "En el lenguaje Python la instrucción random.random(10) genera un vector con 10 números\n",
    "aleatorios con distribución uniforme en el intervalo [0,1], por ejemplo"
   ]
  },
  {
   "cell_type": "code",
   "execution_count": 1,
   "metadata": {},
   "outputs": [
    {
     "data": {
      "text/plain": [
       "array([0.26950279, 0.15320624, 0.7695055 , 0.33183013, 0.51932396,\n",
       "       0.0030203 , 0.6332249 , 0.35497789, 0.03610054, 0.4688969 ])"
      ]
     },
     "execution_count": 1,
     "metadata": {},
     "output_type": "execute_result"
    }
   ],
   "source": [
    "import numpy as np\n",
    "np.random.random(10)"
   ]
  },
  {
   "cell_type": "markdown",
   "metadata": {},
   "source": [
    "La instrucción sum( np.random.random(10) < 0.85 ) calcula cuántos de los 10 valores son\n",
    "menores a 0.85, es decir, cuantos encestes hizo Michael Jordan en esos 10 tiros libres.\n",
    "Ahora simulamos 10000 veces la estrategia de tirar 10 tiros libres y quedarse con el ganador."
   ]
  },
  {
   "cell_type": "markdown",
   "metadata": {},
   "source": [
    "Ahora simulamos 10000 veces la estrategia de tirar 10 tiros libres y quedarse con el ganador."
   ]
  },
  {
   "cell_type": "code",
   "execution_count": 7,
   "metadata": {},
   "outputs": [
    {
     "name": "stdout",
     "output_type": "stream",
     "text": [
      "0\n"
     ]
    }
   ],
   "source": [
    "missX_ganadora = 0\n",
    "\n",
    "for i in range(10000):\n",
    "    aciertos_diana = sum(np.random.random(10) < 0.85)\n",
    "    aciertos_missX = sum(np.random.random(10) < 0.10)\n",
    "    if (aciertos_missX > aciertos_diana) :\n",
    "        missX_ganadora = missX_ganadora + 1\n",
    "\n",
    "print(missX_ganadora)"
   ]
  },
  {
   "cell_type": "markdown",
   "metadata": {},
   "source": [
    "Lo que da la cantidad de 0, o sea que en 10000 veces, siempre ganó Diana Taurasi, con lo cual la\n",
    "estrategia de quedarse con el mejor de 10 tiros ha funcionado, para este obvio caso donde hay\n",
    "apenas dos jugadoras y hay una diferencia abismal entre ellas."
   ]
  },
  {
   "cell_type": "markdown",
   "metadata": {},
   "source": [
    "En este caso NO aparece el overfitting por ningún lado"
   ]
  },
  {
   "cell_type": "markdown",
   "metadata": {},
   "source": [
    "## 2) Segundo Caso, aparece el overfitting"
   ]
  },
  {
   "cell_type": "markdown",
   "metadata": {},
   "source": [
    "La cazatalentos llega ahora a un pueblo donde hay 100 jugadoras las que son mucho más parejas\n",
    "entre sí desde el punto de vista del ratio de enceste."
   ]
  },
  {
   "cell_type": "markdown",
   "metadata": {},
   "source": [
    "Hay una jugadora, que llamaremos jugadora 1 que tiene un “índice de enceste” de 0.70\n",
    "Las 99 jugadoras restantes que llamaremos “el pelotón” tienen los índices de enceste { 0.501,\n",
    "0.0502, 0.503, …, 0.599 }\n",
    "Es decir la jugadora 1 tiene 0.70 y la mejor jugadora del pelotón tiene 0.599, hay un poco más de\n",
    "0.10 de diferencia. La diferencia de 0.10 es significativa en basket."
   ]
  },
  {
   "cell_type": "markdown",
   "metadata": {},
   "source": [
    "¿Qué sucede con el algoritmo de la cazatalentos de hacer tirar 10 tiros libres a cada una de las\n",
    "jugadoras y elegir la que más encestes logró ?"
   ]
  },
  {
   "cell_type": "code",
   "execution_count": 8,
   "metadata": {},
   "outputs": [
    {
     "name": "stdout",
     "output_type": "stream",
     "text": [
      "1283\n"
     ]
    }
   ],
   "source": [
    "#Pongo mi primer semilla\n",
    "np.random.seed(279511)\n",
    "\n",
    "# calcula cuantos encestes logra un jugadora con indice de enceste prob\n",
    "# haciendo qyt tiros libres\n",
    "\n",
    "def ftirar(prob, qty):\n",
    "  return sum(np.random.rand(qty) < prob)\n",
    "\n",
    "\n",
    "\n",
    "# defino los jugadoras\n",
    "mejor = 0.7\n",
    "peloton = np.array(range(501, 600)) / 1000\n",
    "jugadoras = np.append(mejor, peloton)\n",
    "\n",
    "# veo que tiene el vector\n",
    "jugadoras\n",
    "\n",
    "# vectorizo la funcion  ftirar\n",
    "vec_ftirar = np.vectorize(ftirar)\n",
    "\n",
    "# hago que las 100 jugadoras tiren 10 veces cada una\n",
    "vec_ftirar(jugadoras, 10)\n",
    "\n",
    "primera_ganadora = 0\n",
    "\n",
    "for i in range(10000): # diez mil experimentos\n",
    "  vaciertos = vec_ftirar(jugadoras, 10) # 10 tiros libres cada jugadora\n",
    "  mejor_ronda = np.argmax(vaciertos)\n",
    "  if mejor_ronda == 0:\n",
    "    primera_ganadora += 1\n",
    "\n",
    "\n",
    "\n",
    "\n",
    "print(primera_ganadora)"
   ]
  },
  {
   "cell_type": "markdown",
   "metadata": {},
   "source": [
    "Aquí ya pasa algo asombroso, el overfitting en todo su esplendor."
   ]
  },
  {
   "cell_type": "markdown",
   "metadata": {},
   "source": [
    "Si hago tirar 10 tiros libres a cada una de las 100 jugadoras, apenas 1450 veces de las 10000 este\n",
    "método devuelve a la verdadera mejor, que es la jugadora con un índice de enceste de 0.70"
   ]
  },
  {
   "cell_type": "markdown",
   "metadata": {},
   "source": [
    "Intuitivamente, lo que está sucediendo es que la inmensa mayoría de las veces, una de las 99\n",
    "jugadoras del pelotón tiene mucha suerte y supera a la jugadora de 0.70, con lo cual se elige a una\n",
    "del pelotón y no a la verdadera mejor ! El tener 99 jugadoras en el pelotón hace que al ser tantas\n",
    "hay varias que tienen mala suerte, pero también hay varias con muy buena suerte, y la que tuvo\n",
    "más suerte supera a la verdadera mejor !"
   ]
  },
  {
   "cell_type": "markdown",
   "metadata": {},
   "source": [
    "## 3) Tercer caso, nueva ronda: \"Maldición del ganador\""
   ]
  },
  {
   "cell_type": "markdown",
   "metadata": {},
   "source": [
    "Tenemos a nuestra jugadora de 0.70, y a las 99 jugadoras del pelotón. Las hacemos tirar a cada una\n",
    "10 tiros libres, elegimos a la ganadora registrando cuántos aciertos tuvo, y solo a esa ganadora la\n",
    "hacemos tirar una nueva ronda de 10 tiros libres, finalmente comparamos estos nuevos aciertos\n",
    "con los originales."
   ]
  },
  {
   "cell_type": "code",
   "execution_count": 9,
   "metadata": {},
   "outputs": [
    {
     "name": "stdout",
     "output_type": "stream",
     "text": [
      "9 \t 7\n",
      "10 \t 7\n",
      "9 \t 8\n",
      "9 \t 4\n",
      "10 \t 6\n",
      "10 \t 7\n",
      "9 \t 6\n",
      "9 \t 6\n",
      "10 \t 7\n",
      "9 \t 6\n"
     ]
    }
   ],
   "source": [
    "# calcula cuantos encestes logra una jugadora con indice de enceste prob\n",
    "# que hace qyt tiros libres\n",
    "\n",
    "def ftirar(prob, qty):\n",
    "  return sum(np.random.rand(qty) < prob)\n",
    "\n",
    "\n",
    "\n",
    "# defino las jugadoras\n",
    "mejor = 0.7\n",
    "peloton = np.array(range(501, 600)) / 1000\n",
    "jugadoras = np.append(mejor, peloton)\n",
    "\n",
    "# veo que tiene el vector\n",
    "jugadoras\n",
    "\n",
    "# vectorizo la funcion  ftirar\n",
    "vec_ftirar = np.vectorize(ftirar)\n",
    "\n",
    "for i in range(10):\n",
    "  vaciertos = vec_ftirar(jugadoras, 10) # 10 tiros libres cada jugadora\n",
    "  mejor_ronda = np.argmax(vaciertos)\n",
    "  aciertos_torneo = vaciertos[mejor_ronda]\n",
    "  aciertos_segunda = vec_ftirar(jugadoras[mejor_ronda], 10)\n",
    "  print(aciertos_torneo, \"\\t\", aciertos_segunda)"
   ]
  },
  {
   "attachments": {
    "image.png": {
     "image/png": "[encoded data removed]"
    }
   },
   "cell_type": "markdown",
   "metadata": {},
   "source": [
    "(Imagen ilustrativa)\n",
    "![image.png](attachment:image.png)"
   ]
  },
  {
   "cell_type": "markdown",
   "metadata": {},
   "source": [
    "Lo que se observa en este caso es “La maldición del ganador”, la\n",
    "performance que la jugadora que logró más aciertos en la\n",
    "competencia general luego NO LA PUEDE MANTENER, en todos\n",
    "los casos vemos que en la nueva ronda de diez tiene menos\n",
    "aciertos que en la primera ronda de diez."
   ]
  },
  {
   "cell_type": "markdown",
   "metadata": {},
   "source": [
    "La primera ronda la jugadora que resultó ganadora fue debido a\n",
    "la suerte, y esa suerte ya no la acompaña para la segunda ronda\n",
    "de 10 tiros libres."
   ]
  },
  {
   "cell_type": "markdown",
   "metadata": {},
   "source": [
    "Relacionado con las competencias Kaggle, una forma de pensar\n",
    "esto es \"¿Cómo le va a ir al mejor modelo del Public Leaderboard\n",
    "en el Private?\" , esta es la razón por la que los puntajes que\n",
    "vemos en el Private son inferiores al Public."
   ]
  },
  {
   "cell_type": "markdown",
   "metadata": {},
   "source": [
    "La primera ronda puede verse como quedarnos con el mejor\n",
    "modelo del Public Leaderboard, la nueva ronda es como le va a\n",
    "ese modelo en el Private Leaderboard."
   ]
  },
  {
   "cell_type": "markdown",
   "metadata": {},
   "source": [
    "Elegir el mejor modelo del Public, suele ser una pésima estrategia."
   ]
  },
  {
   "cell_type": "markdown",
   "metadata": {},
   "source": [
    "## 4) Cuarto Caso, el overfitting en su plenitud"
   ]
  },
  {
   "cell_type": "markdown",
   "metadata": {},
   "source": [
    "¿Cuándo es más extremo el efecto de “La maldición del ganador” ?"
   ]
  },
  {
   "cell_type": "markdown",
   "metadata": {},
   "source": [
    "Supongamos por un momento que ahora, en otro pueblo, tenemos 100 jugadoras nuevas, todas\n",
    "con un “índice de enceste” de 0.70 ; recordar que ese valor jamás es conocido por la cazatalentos.\n",
    "Ahora nos ponemos más estrictos, y las hacemos tirar 100 veces a cada una, elegimos a la\n",
    "ganadora, y solo a esa ganadora la hacemos tirar 100 nuevos tiros libres."
   ]
  },
  {
   "cell_type": "markdown",
   "metadata": {},
   "source": [
    "Podemos pensarlo como que la cazatalentos se lleva a la mejor jugadora a la gran ciudad, le habla maravillas de ella a la\n",
    "entrenadora, y la entrenadora dice “probemos a ver si es tan buena como decís, que haga 100 tiros\n",
    "libres aquí y ahora”"
   ]
  },
  {
   "cell_type": "code",
   "execution_count": 10,
   "metadata": {},
   "outputs": [
    {
     "name": "stdout",
     "output_type": "stream",
     "text": [
      "81 \t 69\n",
      "82 \t 70\n",
      "85 \t 58\n",
      "80 \t 70\n",
      "82 \t 68\n",
      "82 \t 66\n",
      "80 \t 68\n",
      "81 \t 75\n",
      "81 \t 73\n",
      "81 \t 75\n"
     ]
    }
   ],
   "source": [
    "# calcula cuantos encestes logra una jugadora con indice de enceste prob\n",
    "# que hace qyt tiros libres\n",
    "\n",
    "def ftirar(prob, qty):\n",
    "  return sum(np.random.rand(qty) < prob)\n",
    "\n",
    "\n",
    "\n",
    "# defino las jugadoras\n",
    "jugadoras = [0.7] * 100\n",
    "\n",
    "\n",
    "#vectorizo la funcion  ftirar\n",
    "vec_ftirar = np.vectorize(ftirar)\n",
    "\n",
    "for i in range(10):\n",
    "  vaciertos = vec_ftirar(jugadoras, 100) # 10 tiros libres cada jugadora\n",
    "  mejor_ronda = np.argmax(vaciertos)\n",
    "  aciertos_torneo = vaciertos[mejor_ronda]\n",
    "  aciertos_segunda = vec_ftirar(jugadoras[mejor_ronda], 100)\n",
    "  print(aciertos_torneo, \"\\t\", aciertos_segunda)"
   ]
  },
  {
   "attachments": {
    "image.png": {
     "image/png": "[encoded data removed]"
    }
   },
   "cell_type": "markdown",
   "metadata": {},
   "source": [
    "(imagen ilustrativa)\n",
    "![image.png](attachment:image.png)"
   ]
  },
  {
   "cell_type": "markdown",
   "metadata": {},
   "source": [
    "Nuevamente vemos, que el puntaje alcanzado por la mejor jugadora cuando compitió contra las\n",
    "otras 99, NO ES VUELTO A ALCANZAR en la nueva ronda de 100 tiros libres que hace esa jugadora."
   ]
  },
  {
   "cell_type": "markdown",
   "metadata": {},
   "source": [
    "Este efecto es exactamente el mismo que vemos cuando alguien se empecina en lograr en el\n",
    "Leaderboard Público el mayor puntaje de la clase, le va muy bien en el Público, pero se derrumba\n",
    "catastróficamente en el Privado. Decimos que “overfiteó / sobreajustó el Leaderboard Publico”."
   ]
  },
  {
   "cell_type": "markdown",
   "metadata": {},
   "source": [
    "## 5) Quinto Caso, medida de la diferencia: \"El problema de las múltiples comparaciones”"
   ]
  },
  {
   "cell_type": "markdown",
   "metadata": {},
   "source": [
    "Ahora nos preguntamos, en este caso, en promedio ¿Cuánto más aciertos tiene la ganadora (debido\n",
    "a la suerte) en la primera ronda con respecto a la segunda?"
   ]
  },
  {
   "cell_type": "markdown",
   "metadata": {},
   "source": [
    "Corriendo el siguiente código vemos que la diferencia promedio es de aproximadamente 11.0"
   ]
  },
  {
   "cell_type": "code",
   "execution_count": 11,
   "metadata": {},
   "outputs": [
    {
     "name": "stdout",
     "output_type": "stream",
     "text": [
      "11.0179\n"
     ]
    }
   ],
   "source": [
    "# calcula cuantos encestes logra una jugadora con indice de enceste prob\n",
    "# que hace qyt tiros libres\n",
    "\n",
    "def ftirar(prob, qty):\n",
    "  return sum(np.random.rand(qty) < prob)\n",
    "\n",
    "\n",
    "\n",
    "# defino las jugadoras\n",
    "jugadoras = [0.7] * 100\n",
    "\n",
    "\n",
    "# vectorizo la funcion  ftirar\n",
    "vec_ftirar = np.vectorize(ftirar)\n",
    "\n",
    "suma_diferencias = 0\n",
    "\n",
    "for i in range(10000):\n",
    "  vaciertos = vec_ftirar(jugadoras, 100) # 10 tiros libres cada jugadora\n",
    "  mejor_ronda = np.argmax(vaciertos)\n",
    "  aciertos_torneo = vaciertos[mejor_ronda]\n",
    "  aciertos_segunda = vec_ftirar(jugadoras[mejor_ronda], 100)\n",
    "  suma_diferencias += (aciertos_torneo - aciertos_segunda)\n",
    "\n",
    "\n",
    "\n",
    "\n",
    "print(suma_diferencias/10000)"
   ]
  },
  {
   "cell_type": "markdown",
   "metadata": {},
   "source": [
    "Exactamente este mismo efecto se da en el marketing digital. Si en un A/B testing se prueban cien\n",
    "alternativas y se elige a la que tiene más efectividad, se observará que en un nuevo experimento\n",
    "disminuirá el rendimiento de esa alternativa."
   ]
  },
  {
   "cell_type": "markdown",
   "metadata": {},
   "source": [
    "También sucede si se prueban muchos medicamentos al mismo tiempo, el que resulte más\n",
    "efectivo disminuirá su efectividad en la nueva prueba."
   ]
  },
  {
   "cell_type": "markdown",
   "metadata": {},
   "source": [
    "Este problema es llamado “El problema de las múltiples comparaciones”"
   ]
  }
 ],
 "metadata": {
  "kernelspec": {
   "display_name": "base",
   "language": "python",
   "name": "python3"
  },
  "language_info": {
   "codemirror_mode": {
    "name": "ipython",
    "version": 3
   },
   "file_extension": ".py",
   "mimetype": "text/x-python",
   "name": "python",
   "nbconvert_exporter": "python",
   "pygments_lexer": "ipython3",
   "version": "3.8.5"
  },
  "orig_nbformat": 4
 },
 "nbformat": 4,
 "nbformat_minor": 2
}
