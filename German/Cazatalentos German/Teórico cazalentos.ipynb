{
 "cells": [
  {
   "cell_type": "markdown",
   "metadata": {},
   "source": [
    "El siguiente desafío busca introducir el problema fundamental de la Ciencia de Datos que es el\n",
    "overfitting desde un ángulo distinto, presentando los fenómenos del efecto del tamaño de la\n",
    "muestra, el conocido problema de las múltiples comparaciones y “la maldición del ganador”."
   ]
  },
  {
   "cell_type": "markdown",
   "metadata": {},
   "source": [
    "# Definición del problema"
   ]
  },
  {
   "cell_type": "markdown",
   "metadata": {},
   "source": [
    "## 0) Caso fallido: \"una jugadora se quiere pasar de lista\""
   ]
  },
  {
   "cell_type": "markdown",
   "metadata": {},
   "source": [
    "Una es super talentosa se llama Diana Taurasi, nosotros sabemos que tiene un “índice de enceste”\n",
    "del 0.85, es decir cada vez que hace un tiro libre su probabilidad de encestar es del 85%. Si hace\n",
    "100 tiros libres, en promedio encesta 85 veces, a veces puede ser más, a veces menos, pero en\n",
    "promedio encesta 85 de 100."
   ]
  },
  {
   "cell_type": "markdown",
   "metadata": {},
   "source": [
    "La otra es un auténtico desastre, a quien llamaremos Miss X, y su índice de enceste es de 0.10.\n",
    "Esto quiere decir que si hace 100 tiros libres, en promedio encesta 10.\n",
    "La cazatalentos NO tiene forma de conocer los valores de 0.85 y 0.10, solo puede hacerlas tirar y\n",
    "contar aciertos."
   ]
  },
  {
   "cell_type": "markdown",
   "metadata": {},
   "source": [
    "La cazatalentos llega al gimnasio, y solo se encuentra Diana, con lo cual le indica que comience a\n",
    "tirar. Al tiro 10, Diana lleva 8 encestes y dos no-enceste.\n"
   ]
  },
  {
   "cell_type": "markdown",
   "metadata": {},
   "source": [
    "En ese momento, llega con un andar cansino Miss X y las interrumpe : ¿cuánto va Diana ? La\n",
    "cazatalentos le responde 8 de 10. Miss X solicita permiso para tirar, y acierta ese tiro.\n",
    "Ahí mismo dice : “paren las rotativas, yo soy la clara ganadora de este torneo, mi índice de acierto\n",
    "es del 100% y el de Diana es del 80% , la matemática es clara”."
   ]
  },
  {
   "cell_type": "markdown",
   "metadata": {},
   "source": [
    "La cazatalentos monta en cólera y le dice : pues usted joven solo ha realizado un tiro, ¿Si lo\n",
    "hubiera errado, aceptaría decir entonces que su índice de acierto es del 0%? Ciertamente no.\n",
    "Pues ahora, usted deberá seguir tirando hasta completar sus 10 tiros libres, y recién ahí\n",
    "compararé."
   ]
  },
  {
   "cell_type": "markdown",
   "metadata": {},
   "source": [
    "## 1) Primer caso, sin overfitting"
   ]
  },
  {
   "cell_type": "markdown",
   "metadata": {},
   "source": [
    "La cazatalentos tiene el siguiente algoritmo, hace que Diana Taurasi y Miss X hagan 10 tiros libres\n",
    "cada una, y elige a la ganadora de esos 10 tiros libres."
   ]
  },
  {
   "cell_type": "markdown",
   "metadata": {},
   "source": [
    "¿Garantiza este método que por lo menos el 99% de las veces elige a Diana Taurasi?\n",
    "¿La desastrosa Miss X puede llegar a encestar los 10 tiros libres? Efectivamente sí existe esa\n",
    "posibilidad, pero con una muy baja probabilidad, la probabilidad es de 0.10 ^10 = 1e-10"
   ]
  },
  {
   "cell_type": "markdown",
   "metadata": {},
   "source": [
    "El símbolo de ^ significa \"elevado a la potencia de\"\n",
    "¿Cual es la probabilidad que Miss X tire una sola vez y acierte este tiro? Simplemente 0.1 , una en\n",
    "diez, con lo cual ha tenido mucha suerte en su primer tiro, pero no la va a poder mantener !"
   ]
  },
  {
   "cell_type": "markdown",
   "metadata": {},
   "source": [
    "¿La adolescente Diana Taurasi puede llegar a encestar los 10 tiros libres? Efectivamente, su\n",
    "probabilidad es 0.85 ^10 = 0.1968744"
   ]
  },
  {
   "cell_type": "markdown",
   "metadata": {},
   "source": [
    "En el lenguaje Python la instrucción random.random(10) genera un vector con 10 números\n",
    "aleatorios con distribución uniforme en el intervalo [0,1], por ejemplo"
   ]
  },
  {
   "cell_type": "code",
   "execution_count": 1,
   "metadata": {},
   "outputs": [
    {
     "data": {
      "text/plain": [
       "array([0.26950279, 0.15320624, 0.7695055 , 0.33183013, 0.51932396,\n",
       "       0.0030203 , 0.6332249 , 0.35497789, 0.03610054, 0.4688969 ])"
      ]
     },
     "execution_count": 1,
     "metadata": {},
     "output_type": "execute_result"
    }
   ],
   "source": [
    "import numpy as np\n",
    "np.random.random(10)"
   ]
  },
  {
   "cell_type": "markdown",
   "metadata": {},
   "source": [
    "La instrucción sum( np.random.random(10) < 0.85 ) calcula cuántos de los 10 valores son\n",
    "menores a 0.85, es decir, cuantos encestes hizo Michael Jordan en esos 10 tiros libres.\n",
    "Ahora simulamos 10000 veces la estrategia de tirar 10 tiros libres y quedarse con el ganador."
   ]
  },
  {
   "cell_type": "markdown",
   "metadata": {},
   "source": [
    "Ahora simulamos 10000 veces la estrategia de tirar 10 tiros libres y quedarse con el ganador."
   ]
  },
  {
   "cell_type": "code",
   "execution_count": 7,
   "metadata": {},
   "outputs": [
    {
     "name": "stdout",
     "output_type": "stream",
     "text": [
      "0\n"
     ]
    }
   ],
   "source": [
    "missX_ganadora = 0\n",
    "\n",
    "for i in range(10000):\n",
    "    aciertos_diana = sum(np.random.random(10) < 0.85)\n",
    "    aciertos_missX = sum(np.random.random(10) < 0.10)\n",
    "    if (aciertos_missX > aciertos_diana) :\n",
    "        missX_ganadora = missX_ganadora + 1\n",
    "\n",
    "print(missX_ganadora)"
   ]
  },
  {
   "cell_type": "markdown",
   "metadata": {},
   "source": [
    "Lo que da la cantidad de 0, o sea que en 10000 veces, siempre ganó Diana Taurasi, con lo cual la\n",
    "estrategia de quedarse con el mejor de 10 tiros ha funcionado, para este obvio caso donde hay\n",
    "apenas dos jugadoras y hay una diferencia abismal entre ellas."
   ]
  },
  {
   "cell_type": "markdown",
   "metadata": {},
   "source": [
    "En este caso NO aparece el overfitting por ningún lado"
   ]
  },
  {
   "cell_type": "markdown",
   "metadata": {},
   "source": [
    "## 2) Segundo Caso, aparece el overfitting"
   ]
  },
  {
   "cell_type": "markdown",
   "metadata": {},
   "source": [
    "La cazatalentos llega ahora a un pueblo donde hay 100 jugadoras las que son mucho más parejas\n",
    "entre sí desde el punto de vista del ratio de enceste."
   ]
  },
  {
   "cell_type": "markdown",
   "metadata": {},
   "source": [
    "Hay una jugadora, que llamaremos jugadora 1 que tiene un “índice de enceste” de 0.70\n",
    "Las 99 jugadoras restantes que llamaremos “el pelotón” tienen los índices de enceste { 0.501,\n",
    "0.0502, 0.503, …, 0.599 }\n",
    "Es decir la jugadora 1 tiene 0.70 y la mejor jugadora del pelotón tiene 0.599, hay un poco más de\n",
    "0.10 de diferencia. La diferencia de 0.10 es significativa en basket."
   ]
  },
  {
   "cell_type": "markdown",
   "metadata": {},
   "source": [
    "¿Qué sucede con el algoritmo de la cazatalentos de hacer tirar 10 tiros libres a cada una de las\n",
    "jugadoras y elegir la que más encestes logró ?"
   ]
  },
  {
   "cell_type": "code",
   "execution_count": 8,
   "metadata": {},
   "outputs": [
    {
     "name": "stdout",
     "output_type": "stream",
     "text": [
      "1283\n"
     ]
    }
   ],
   "source": [
    "#Pongo mi primer semilla\n",
    "np.random.seed(279511)\n",
    "\n",
    "# calcula cuantos encestes logra un jugadora con indice de enceste prob\n",
    "# haciendo qyt tiros libres\n",
    "\n",
    "def ftirar(prob, qty):\n",
    "  return sum(np.random.rand(qty) < prob)\n",
    "\n",
    "\n",
    "\n",
    "# defino los jugadoras\n",
    "mejor = 0.7\n",
    "peloton = np.array(range(501, 600)) / 1000\n",
    "jugadoras = np.append(mejor, peloton)\n",
    "\n",
    "# veo que tiene el vector\n",
    "jugadoras\n",
    "\n",
    "# vectorizo la funcion  ftirar\n",
    "vec_ftirar = np.vectorize(ftirar)\n",
    "\n",
    "# hago que las 100 jugadoras tiren 10 veces cada una\n",
    "vec_ftirar(jugadoras, 10)\n",
    "\n",
    "primera_ganadora = 0\n",
    "\n",
    "for i in range(10000): # diez mil experimentos\n",
    "  vaciertos = vec_ftirar(jugadoras, 10) # 10 tiros libres cada jugadora\n",
    "  mejor_ronda = np.argmax(vaciertos)\n",
    "  if mejor_ronda == 0:\n",
    "    primera_ganadora += 1\n",
    "\n",
    "\n",
    "\n",
    "\n",
    "print(primera_ganadora)"
   ]
  },
  {
   "cell_type": "markdown",
   "metadata": {},
   "source": [
    "Aquí ya pasa algo asombroso, el overfitting en todo su esplendor."
   ]
  },
  {
   "cell_type": "markdown",
   "metadata": {},
   "source": [
    "Si hago tirar 10 tiros libres a cada una de las 100 jugadoras, apenas 1450 veces de las 10000 este\n",
    "método devuelve a la verdadera mejor, que es la jugadora con un índice de enceste de 0.70"
   ]
  },
  {
   "cell_type": "markdown",
   "metadata": {},
   "source": [
    "Intuitivamente, lo que está sucediendo es que la inmensa mayoría de las veces, una de las 99\n",
    "jugadoras del pelotón tiene mucha suerte y supera a la jugadora de 0.70, con lo cual se elige a una\n",
    "del pelotón y no a la verdadera mejor ! El tener 99 jugadoras en el pelotón hace que al ser tantas\n",
    "hay varias que tienen mala suerte, pero también hay varias con muy buena suerte, y la que tuvo\n",
    "más suerte supera a la verdadera mejor !"
   ]
  }
 ],
 "metadata": {
  "kernelspec": {
   "display_name": "base",
   "language": "python",
   "name": "python3"
  },
  "language_info": {
   "codemirror_mode": {
    "name": "ipython",
    "version": 3
   },
   "file_extension": ".py",
   "mimetype": "text/x-python",
   "name": "python",
   "nbconvert_exporter": "python",
   "pygments_lexer": "ipython3",
   "version": "3.8.5"
  },
  "orig_nbformat": 4
 },
 "nbformat": 4,
 "nbformat_minor": 2
}
