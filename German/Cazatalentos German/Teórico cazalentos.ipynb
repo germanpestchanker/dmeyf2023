{
 "cells": [
  {
   "cell_type": "markdown",
   "metadata": {},
   "source": [
    "El siguiente desafío busca introducir el problema fundamental de la Ciencia de Datos que es el\n",
    "overfitting desde un ángulo distinto, presentando los fenómenos del efecto del tamaño de la\n",
    "muestra, el conocido problema de las múltiples comparaciones y “la maldición del ganador”."
   ]
  },
  {
   "cell_type": "markdown",
   "metadata": {},
   "source": [
    "# Definición del problema"
   ]
  },
  {
   "cell_type": "markdown",
   "metadata": {},
   "source": [
    "## 0) Caso fallido: \"una jugadora se quiere pasar de lista\""
   ]
  },
  {
   "cell_type": "markdown",
   "metadata": {},
   "source": [
    "Una es super talentosa se llama Diana Taurasi, nosotros sabemos que tiene un “índice de enceste”\n",
    "del 0.85, es decir cada vez que hace un tiro libre su probabilidad de encestar es del 85%. Si hace\n",
    "100 tiros libres, en promedio encesta 85 veces, a veces puede ser más, a veces menos, pero en\n",
    "promedio encesta 85 de 100."
   ]
  },
  {
   "cell_type": "markdown",
   "metadata": {},
   "source": [
    "La otra es un auténtico desastre, a quien llamaremos Miss X, y su índice de enceste es de 0.10.\n",
    "Esto quiere decir que si hace 100 tiros libres, en promedio encesta 10.\n",
    "La cazatalentos NO tiene forma de conocer los valores de 0.85 y 0.10, solo puede hacerlas tirar y\n",
    "contar aciertos."
   ]
  },
  {
   "cell_type": "markdown",
   "metadata": {},
   "source": [
    "La cazatalentos llega al gimnasio, y solo se encuentra Diana, con lo cual le indica que comience a\n",
    "tirar. Al tiro 10, Diana lleva 8 encestes y dos no-enceste.\n"
   ]
  },
  {
   "cell_type": "markdown",
   "metadata": {},
   "source": [
    "En ese momento, llega con un andar cansino Miss X y las interrumpe : ¿cuánto va Diana ? La\n",
    "cazatalentos le responde 8 de 10. Miss X solicita permiso para tirar, y acierta ese tiro.\n",
    "Ahí mismo dice : “paren las rotativas, yo soy la clara ganadora de este torneo, mi índice de acierto\n",
    "es del 100% y el de Diana es del 80% , la matemática es clara”."
   ]
  },
  {
   "cell_type": "markdown",
   "metadata": {},
   "source": [
    "La cazatalentos monta en cólera y le dice : pues usted joven solo ha realizado un tiro, ¿Si lo\n",
    "hubiera errado, aceptaría decir entonces que su índice de acierto es del 0%? Ciertamente no.\n",
    "Pues ahora, usted deberá seguir tirando hasta completar sus 10 tiros libres, y recién ahí\n",
    "compararé."
   ]
  },
  {
   "cell_type": "markdown",
   "metadata": {},
   "source": [
    "## 1) Primer caso, sin overfitting"
   ]
  },
  {
   "cell_type": "markdown",
   "metadata": {},
   "source": [
    "La cazatalentos tiene el siguiente algoritmo, hace que Diana Taurasi y Miss X hagan 10 tiros libres\n",
    "cada una, y elige a la ganadora de esos 10 tiros libres."
   ]
  },
  {
   "cell_type": "markdown",
   "metadata": {},
   "source": [
    "¿Garantiza este método que por lo menos el 99% de las veces elige a Diana Taurasi?\n",
    "¿La desastrosa Miss X puede llegar a encestar los 10 tiros libres? Efectivamente sí existe esa\n",
    "posibilidad, pero con una muy baja probabilidad, la probabilidad es de 0.10 ^10 = 1e-10"
   ]
  },
  {
   "cell_type": "markdown",
   "metadata": {},
   "source": [
    "El símbolo de ^ significa \"elevado a la potencia de\"\n",
    "¿Cual es la probabilidad que Miss X tire una sola vez y acierte este tiro? Simplemente 0.1 , una en\n",
    "diez, con lo cual ha tenido mucha suerte en su primer tiro, pero no la va a poder mantener !"
   ]
  },
  {
   "cell_type": "markdown",
   "metadata": {},
   "source": [
    "¿La adolescente Diana Taurasi puede llegar a encestar los 10 tiros libres? Efectivamente, su\n",
    "probabilidad es 0.85 ^10 = 0.1968744"
   ]
  },
  {
   "cell_type": "markdown",
   "metadata": {},
   "source": [
    "En el lenguaje Python la instrucción random.random(10) genera un vector con 10 números\n",
    "aleatorios con distribución uniforme en el intervalo [0,1], por ejemplo"
   ]
  },
  {
   "cell_type": "code",
   "execution_count": 1,
   "metadata": {},
   "outputs": [
    {
     "data": {
      "text/plain": [
       "array([0.26950279, 0.15320624, 0.7695055 , 0.33183013, 0.51932396,\n",
       "       0.0030203 , 0.6332249 , 0.35497789, 0.03610054, 0.4688969 ])"
      ]
     },
     "execution_count": 1,
     "metadata": {},
     "output_type": "execute_result"
    }
   ],
   "source": [
    "import numpy as np\n",
    "np.random.random(10)"
   ]
  },
  {
   "cell_type": "markdown",
   "metadata": {},
   "source": [
    "La instrucción sum( np.random.random(10) < 0.85 ) calcula cuántos de los 10 valores son\n",
    "menores a 0.85, es decir, cuantos encestes hizo Michael Jordan en esos 10 tiros libres.\n",
    "Ahora simulamos 10000 veces la estrategia de tirar 10 tiros libres y quedarse con el ganador."
   ]
  },
  {
   "cell_type": "markdown",
   "metadata": {},
   "source": [
    "Ahora simulamos 10000 veces la estrategia de tirar 10 tiros libres y quedarse con el ganador."
   ]
  },
  {
   "cell_type": "code",
   "execution_count": 7,
   "metadata": {},
   "outputs": [
    {
     "name": "stdout",
     "output_type": "stream",
     "text": [
      "0\n"
     ]
    }
   ],
   "source": [
    "missX_ganadora = 0\n",
    "\n",
    "for i in range(10000):\n",
    "    aciertos_diana = sum(np.random.random(10) < 0.85)\n",
    "    aciertos_missX = sum(np.random.random(10) < 0.10)\n",
    "    if (aciertos_missX > aciertos_diana) :\n",
    "        missX_ganadora = missX_ganadora + 1\n",
    "\n",
    "print(missX_ganadora)"
   ]
  },
  {
   "cell_type": "markdown",
   "metadata": {},
   "source": [
    "Lo que da la cantidad de 0, o sea que en 10000 veces, siempre ganó Diana Taurasi, con lo cual la\n",
    "estrategia de quedarse con el mejor de 10 tiros ha funcionado, para este obvio caso donde hay\n",
    "apenas dos jugadoras y hay una diferencia abismal entre ellas."
   ]
  },
  {
   "cell_type": "markdown",
   "metadata": {},
   "source": [
    "En este caso NO aparece el overfitting por ningún lado"
   ]
  },
  {
   "cell_type": "markdown",
   "metadata": {},
   "source": [
    "## 2) Segundo Caso, aparece el overfitting"
   ]
  },
  {
   "cell_type": "markdown",
   "metadata": {},
   "source": [
    "La cazatalentos llega ahora a un pueblo donde hay 100 jugadoras las que son mucho más parejas\n",
    "entre sí desde el punto de vista del ratio de enceste."
   ]
  },
  {
   "cell_type": "markdown",
   "metadata": {},
   "source": [
    "Hay una jugadora, que llamaremos jugadora 1 que tiene un “índice de enceste” de 0.70\n",
    "Las 99 jugadoras restantes que llamaremos “el pelotón” tienen los índices de enceste { 0.501,\n",
    "0.0502, 0.503, …, 0.599 }\n",
    "Es decir la jugadora 1 tiene 0.70 y la mejor jugadora del pelotón tiene 0.599, hay un poco más de\n",
    "0.10 de diferencia. La diferencia de 0.10 es significativa en basket."
   ]
  },
  {
   "cell_type": "markdown",
   "metadata": {},
   "source": [
    "¿Qué sucede con el algoritmo de la cazatalentos de hacer tirar 10 tiros libres a cada una de las\n",
    "jugadoras y elegir la que más encestes logró ?"
   ]
  },
  {
   "cell_type": "code",
   "execution_count": 8,
   "metadata": {},
   "outputs": [
    {
     "name": "stdout",
     "output_type": "stream",
     "text": [
      "1283\n"
     ]
    }
   ],
   "source": [
    "#Pongo mi primer semilla\n",
    "np.random.seed(279511)\n",
    "\n",
    "# calcula cuantos encestes logra un jugadora con indice de enceste prob\n",
    "# haciendo qyt tiros libres\n",
    "\n",
    "def ftirar(prob, qty):\n",
    "  return sum(np.random.rand(qty) < prob)\n",
    "\n",
    "\n",
    "\n",
    "# defino los jugadoras\n",
    "mejor = 0.7\n",
    "peloton = np.array(range(501, 600)) / 1000\n",
    "jugadoras = np.append(mejor, peloton)\n",
    "\n",
    "# veo que tiene el vector\n",
    "jugadoras\n",
    "\n",
    "# vectorizo la funcion  ftirar\n",
    "vec_ftirar = np.vectorize(ftirar)\n",
    "\n",
    "# hago que las 100 jugadoras tiren 10 veces cada una\n",
    "vec_ftirar(jugadoras, 10)\n",
    "\n",
    "primera_ganadora = 0\n",
    "\n",
    "for i in range(10000): # diez mil experimentos\n",
    "  vaciertos = vec_ftirar(jugadoras, 10) # 10 tiros libres cada jugadora\n",
    "  mejor_ronda = np.argmax(vaciertos)\n",
    "  if mejor_ronda == 0:\n",
    "    primera_ganadora += 1\n",
    "\n",
    "\n",
    "\n",
    "\n",
    "print(primera_ganadora)"
   ]
  },
  {
   "cell_type": "markdown",
   "metadata": {},
   "source": [
    "Aquí ya pasa algo asombroso, el overfitting en todo su esplendor."
   ]
  },
  {
   "cell_type": "markdown",
   "metadata": {},
   "source": [
    "Si hago tirar 10 tiros libres a cada una de las 100 jugadoras, apenas 1450 veces de las 10000 este\n",
    "método devuelve a la verdadera mejor, que es la jugadora con un índice de enceste de 0.70"
   ]
  },
  {
   "cell_type": "markdown",
   "metadata": {},
   "source": [
    "Intuitivamente, lo que está sucediendo es que la inmensa mayoría de las veces, una de las 99\n",
    "jugadoras del pelotón tiene mucha suerte y supera a la jugadora de 0.70, con lo cual se elige a una\n",
    "del pelotón y no a la verdadera mejor ! El tener 99 jugadoras en el pelotón hace que al ser tantas\n",
    "hay varias que tienen mala suerte, pero también hay varias con muy buena suerte, y la que tuvo\n",
    "más suerte supera a la verdadera mejor !"
   ]
  },
  {
   "cell_type": "markdown",
   "metadata": {},
   "source": [
    "## 3) Tercer caso, nueva ronda: \"Maldición del ganador\""
   ]
  },
  {
   "cell_type": "markdown",
   "metadata": {},
   "source": [
    "Tenemos a nuestra jugadora de 0.70, y a las 99 jugadoras del pelotón. Las hacemos tirar a cada una\n",
    "10 tiros libres, elegimos a la ganadora registrando cuántos aciertos tuvo, y solo a esa ganadora la\n",
    "hacemos tirar una nueva ronda de 10 tiros libres, finalmente comparamos estos nuevos aciertos\n",
    "con los originales."
   ]
  },
  {
   "cell_type": "code",
   "execution_count": 9,
   "metadata": {},
   "outputs": [
    {
     "name": "stdout",
     "output_type": "stream",
     "text": [
      "9 \t 7\n",
      "10 \t 7\n",
      "9 \t 8\n",
      "9 \t 4\n",
      "10 \t 6\n",
      "10 \t 7\n",
      "9 \t 6\n",
      "9 \t 6\n",
      "10 \t 7\n",
      "9 \t 6\n"
     ]
    }
   ],
   "source": [
    "# calcula cuantos encestes logra una jugadora con indice de enceste prob\n",
    "# que hace qyt tiros libres\n",
    "\n",
    "def ftirar(prob, qty):\n",
    "  return sum(np.random.rand(qty) < prob)\n",
    "\n",
    "\n",
    "\n",
    "# defino las jugadoras\n",
    "mejor = 0.7\n",
    "peloton = np.array(range(501, 600)) / 1000\n",
    "jugadoras = np.append(mejor, peloton)\n",
    "\n",
    "# veo que tiene el vector\n",
    "jugadoras\n",
    "\n",
    "# vectorizo la funcion  ftirar\n",
    "vec_ftirar = np.vectorize(ftirar)\n",
    "\n",
    "for i in range(10):\n",
    "  vaciertos = vec_ftirar(jugadoras, 10) # 10 tiros libres cada jugadora\n",
    "  mejor_ronda = np.argmax(vaciertos)\n",
    "  aciertos_torneo = vaciertos[mejor_ronda]\n",
    "  aciertos_segunda = vec_ftirar(jugadoras[mejor_ronda], 10)\n",
    "  print(aciertos_torneo, \"\\t\", aciertos_segunda)"
   ]
  },
  {
   "attachments": {
    "image.png": {
     "image/png": "[encoded data removed]"
    }
   },
   "cell_type": "markdown",
   "metadata": {},
   "source": [
    "(Imagen ilustrativa)\n",
    "![image.png](attachment:image.png)"
   ]
  },
  {
   "cell_type": "markdown",
   "metadata": {},
   "source": [
    "Lo que se observa en este caso es “La maldición del ganador”, la\n",
    "performance que la jugadora que logró más aciertos en la\n",
    "competencia general luego NO LA PUEDE MANTENER, en todos\n",
    "los casos vemos que en la nueva ronda de diez tiene menos\n",
    "aciertos que en la primera ronda de diez."
   ]
  },
  {
   "cell_type": "markdown",
   "metadata": {},
   "source": [
    "La primera ronda la jugadora que resultó ganadora fue debido a\n",
    "la suerte, y esa suerte ya no la acompaña para la segunda ronda\n",
    "de 10 tiros libres."
   ]
  },
  {
   "cell_type": "markdown",
   "metadata": {},
   "source": [
    "Relacionado con las competencias Kaggle, una forma de pensar\n",
    "esto es \"¿Cómo le va a ir al mejor modelo del Public Leaderboard\n",
    "en el Private?\" , esta es la razón por la que los puntajes que\n",
    "vemos en el Private son inferiores al Public."
   ]
  },
  {
   "cell_type": "markdown",
   "metadata": {},
   "source": [
    "La primera ronda puede verse como quedarnos con el mejor\n",
    "modelo del Public Leaderboard, la nueva ronda es como le va a\n",
    "ese modelo en el Private Leaderboard."
   ]
  },
  {
   "cell_type": "markdown",
   "metadata": {},
   "source": [
    "Elegir el mejor modelo del Public, suele ser una pésima estrategia."
   ]
  },
  {
   "cell_type": "markdown",
   "metadata": {},
   "source": [
    "## 4) Cuarto Caso, el overfitting en su plenitud"
   ]
  },
  {
   "cell_type": "markdown",
   "metadata": {},
   "source": [
    "¿Cuándo es más extremo el efecto de “La maldición del ganador” ?"
   ]
  },
  {
   "cell_type": "markdown",
   "metadata": {},
   "source": [
    "Supongamos por un momento que ahora, en otro pueblo, tenemos 100 jugadoras nuevas, todas\n",
    "con un “índice de enceste” de 0.70 ; recordar que ese valor jamás es conocido por la cazatalentos.\n",
    "Ahora nos ponemos más estrictos, y las hacemos tirar 100 veces a cada una, elegimos a la\n",
    "ganadora, y solo a esa ganadora la hacemos tirar 100 nuevos tiros libres."
   ]
  },
  {
   "cell_type": "markdown",
   "metadata": {},
   "source": [
    "Podemos pensarlo como que la cazatalentos se lleva a la mejor jugadora a la gran ciudad, le habla maravillas de ella a la\n",
    "entrenadora, y la entrenadora dice “probemos a ver si es tan buena como decís, que haga 100 tiros\n",
    "libres aquí y ahora”"
   ]
  },
  {
   "cell_type": "code",
   "execution_count": 10,
   "metadata": {},
   "outputs": [
    {
     "name": "stdout",
     "output_type": "stream",
     "text": [
      "81 \t 69\n",
      "82 \t 70\n",
      "85 \t 58\n",
      "80 \t 70\n",
      "82 \t 68\n",
      "82 \t 66\n",
      "80 \t 68\n",
      "81 \t 75\n",
      "81 \t 73\n",
      "81 \t 75\n"
     ]
    }
   ],
   "source": [
    "# calcula cuantos encestes logra una jugadora con indice de enceste prob\n",
    "# que hace qyt tiros libres\n",
    "\n",
    "def ftirar(prob, qty):\n",
    "  return sum(np.random.rand(qty) < prob)\n",
    "\n",
    "\n",
    "\n",
    "# defino las jugadoras\n",
    "jugadoras = [0.7] * 100\n",
    "\n",
    "\n",
    "#vectorizo la funcion  ftirar\n",
    "vec_ftirar = np.vectorize(ftirar)\n",
    "\n",
    "for i in range(10):\n",
    "  vaciertos = vec_ftirar(jugadoras, 100) # 10 tiros libres cada jugadora\n",
    "  mejor_ronda = np.argmax(vaciertos)\n",
    "  aciertos_torneo = vaciertos[mejor_ronda]\n",
    "  aciertos_segunda = vec_ftirar(jugadoras[mejor_ronda], 100)\n",
    "  print(aciertos_torneo, \"\\t\", aciertos_segunda)"
   ]
  },
  {
   "attachments": {
    "image.png": {
     "image/png": "[encoded data removed]"
    }
   },
   "cell_type": "markdown",
   "metadata": {},
   "source": [
    "(imagen ilustrativa)\n",
    "![image.png](attachment:image.png)"
   ]
  },
  {
   "cell_type": "markdown",
   "metadata": {},
   "source": [
    "Nuevamente vemos, que el puntaje alcanzado por la mejor jugadora cuando compitió contra las\n",
    "otras 99, NO ES VUELTO A ALCANZAR en la nueva ronda de 100 tiros libres que hace esa jugadora."
   ]
  },
  {
   "cell_type": "markdown",
   "metadata": {},
   "source": [
    "Este efecto es exactamente el mismo que vemos cuando alguien se empecina en lograr en el\n",
    "Leaderboard Público el mayor puntaje de la clase, le va muy bien en el Público, pero se derrumba\n",
    "catastróficamente en el Privado. Decimos que “overfiteó / sobreajustó el Leaderboard Publico”."
   ]
  },
  {
   "cell_type": "markdown",
   "metadata": {},
   "source": [
    "## 5) Quinto Caso, medida de la diferencia: \"El problema de las múltiples comparaciones”"
   ]
  },
  {
   "cell_type": "markdown",
   "metadata": {},
   "source": [
    "Ahora nos preguntamos, en este caso, en promedio ¿Cuánto más aciertos tiene la ganadora (debido\n",
    "a la suerte) en la primera ronda con respecto a la segunda?"
   ]
  },
  {
   "cell_type": "markdown",
   "metadata": {},
   "source": [
    "Corriendo el siguiente código vemos que la diferencia promedio es de aproximadamente 11.0"
   ]
  },
  {
   "cell_type": "code",
   "execution_count": 11,
   "metadata": {},
   "outputs": [
    {
     "name": "stdout",
     "output_type": "stream",
     "text": [
      "11.0179\n"
     ]
    }
   ],
   "source": [
    "# calcula cuantos encestes logra una jugadora con indice de enceste prob\n",
    "# que hace qyt tiros libres\n",
    "\n",
    "def ftirar(prob, qty):\n",
    "  return sum(np.random.rand(qty) < prob)\n",
    "\n",
    "\n",
    "\n",
    "# defino las jugadoras\n",
    "jugadoras = [0.7] * 100\n",
    "\n",
    "\n",
    "# vectorizo la funcion  ftirar\n",
    "vec_ftirar = np.vectorize(ftirar)\n",
    "\n",
    "suma_diferencias = 0\n",
    "\n",
    "for i in range(10000):\n",
    "  vaciertos = vec_ftirar(jugadoras, 100) # 10 tiros libres cada jugadora\n",
    "  mejor_ronda = np.argmax(vaciertos)\n",
    "  aciertos_torneo = vaciertos[mejor_ronda]\n",
    "  aciertos_segunda = vec_ftirar(jugadoras[mejor_ronda], 100)\n",
    "  suma_diferencias += (aciertos_torneo - aciertos_segunda)\n",
    "\n",
    "\n",
    "\n",
    "\n",
    "print(suma_diferencias/10000)"
   ]
  },
  {
   "cell_type": "markdown",
   "metadata": {},
   "source": [
    "Exactamente este mismo efecto se da en el marketing digital. Si en un A/B testing se prueban cien\n",
    "alternativas y se elige a la que tiene más efectividad, se observará que en un nuevo experimento\n",
    "disminuirá el rendimiento de esa alternativa."
   ]
  },
  {
   "cell_type": "markdown",
   "metadata": {},
   "source": [
    "También sucede si se prueban muchos medicamentos al mismo tiempo, el que resulte más\n",
    "efectivo disminuirá su efectividad en la nueva prueba."
   ]
  },
  {
   "cell_type": "markdown",
   "metadata": {},
   "source": [
    "Este problema es llamado “El problema de las múltiples comparaciones”"
   ]
  },
  {
   "cell_type": "markdown",
   "metadata": {},
   "source": [
    "## 6) Sexto Caso, una sola jugadora muy buena: atenuación del overfitting"
   ]
  },
  {
   "cell_type": "markdown",
   "metadata": {},
   "source": [
    "Sexto caso, ¿cuándo se atenúa/desaparece el overfitting?"
   ]
  },
  {
   "cell_type": "markdown",
   "metadata": {},
   "source": [
    "Supongamos 99 jugadoras con un índice de enceste de 0.60 y ahora sumamos a la adolescente\n",
    "Diana Taurasi con su superlativo índice de enceste del 0.85"
   ]
  },
  {
   "cell_type": "markdown",
   "metadata": {},
   "source": [
    "Los hacemos tirar a todas 100 tiros libres, llevamos a la ganadora a la gran ciudad, y allí le\n",
    "contamos a la entrenadora de nuestra ganadora Diana Taurasi."
   ]
  },
  {
   "cell_type": "code",
   "execution_count": 12,
   "metadata": {},
   "outputs": [
    {
     "name": "stdout",
     "output_type": "stream",
     "text": [
      "90 \t 93\n",
      "86 \t 86\n",
      "89 \t 81\n",
      "81 \t 85\n",
      "86 \t 87\n",
      "85 \t 80\n",
      "82 \t 89\n",
      "84 \t 86\n",
      "88 \t 82\n",
      "85 \t 85\n"
     ]
    }
   ],
   "source": [
    "# calcula cuantos encestes logra una jugadora con indice de enceste prob\n",
    "# que hace qyt tiros libres\n",
    "\n",
    "def ftirar(prob, qty):\n",
    "  return sum(np.random.rand(qty) < prob)\n",
    "\n",
    "\n",
    "\n",
    "# defino las jugadoras\n",
    "taurasi = 0.85\n",
    "peloton = [0.6] * 99\n",
    "jugadoras = np.append(taurasi, peloton)\n",
    "\n",
    "# vectorizo la funcion  ftirar\n",
    "vec_ftirar = np.vectorize(ftirar)\n",
    "\n",
    "for i in range(10):\n",
    "  vaciertos = vec_ftirar(jugadoras, 100) # 10 tiros libres cada jugadora\n",
    "  mejor_ronda = np.argmax(vaciertos)\n",
    "  aciertos_torneo = vaciertos[mejor_ronda]\n",
    "  aciertos_segunda = vec_ftirar(jugadoras[mejor_ronda], 100)\n",
    "  print(aciertos_torneo, \"\\t\", aciertos_segunda)"
   ]
  },
  {
   "attachments": {
    "image.png": {
     "image/png": "[encoded data removed]"
    }
   },
   "cell_type": "markdown",
   "metadata": {},
   "source": [
    "(imagen ilustrativa)\n",
    "![image.png](attachment:image.png)"
   ]
  },
  {
   "cell_type": "markdown",
   "metadata": {},
   "source": [
    "En este caso observamos dos cosas, en primer lugar SIEMPRE la ganadora del torneo fue Diana\n",
    "Taurasi, y en segundo cuando tuvo que mostrar en la ciudad su performance, fue la misma que en\n",
    "el primer torneo. Es tan buena Taurasi que le ganó a la que tuvo más suerte del pelotón, el efecto\n",
    "suerte no está afectando a Taurasi porque está sola, y gana por su superioridad, no por la suerte."
   ]
  },
  {
   "cell_type": "markdown",
   "metadata": {},
   "source": [
    "## 7) Séptimo caso, tamaño de la ronda (\"la verdadera mejor\")"
   ]
  },
  {
   "cell_type": "markdown",
   "metadata": {},
   "source": [
    "Cazatalentos llega ahora a un pueblo donde hay 100 jugadoras las que son mucho más parejas\n",
    "entre sí desde el punto de vista del ratio de enceste."
   ]
  },
  {
   "cell_type": "markdown",
   "metadata": {},
   "source": [
    "Hay un jugadora, que llamaremos jugadora 1 que tiene un “índice de enceste” de 0.70 , es una\n",
    "jugadora buena pero dista mucho de ser Diana Taurasi, jamás estará en el \"WNBA Hall of Fame\"."
   ]
  },
  {
   "cell_type": "markdown",
   "metadata": {},
   "source": [
    "Las 99 jugadoras restantes que llamaremos “el pelotón” tienen los índices de enceste { 0.501,\n",
    "0.0502, 0.503, …, 0.599 } Es decir la jugadora 1 tiene 0.70 y la mejor jugadora del pelotón tiene\n",
    "0.599, o sea hay un poco más de 0.10 de diferencia. La diferencia de 0.10 es significativa"
   ]
  },
  {
   "cell_type": "markdown",
   "metadata": {},
   "source": [
    "¿Cuántos tiros libres debe la cazatalentos pedirles que haga cada jugadora para que si elige a la\n",
    "mejor jugadora tiene la certeza de llevarse a “la verdadero mejor” el 99% de los casos?"
   ]
  },
  {
   "cell_type": "code",
   "execution_count": 13,
   "metadata": {},
   "outputs": [
    {
     "name": "stdout",
     "output_type": "stream",
     "text": [
      "10 \t 0.0317\n",
      "20 \t 0.0802\n",
      "50 \t 0.2823\n",
      "100 \t 0.5516\n",
      "200 \t 0.8519\n",
      "300 \t 0.9598\n",
      "400 \t 0.9874\n",
      "415 \t 0.9917\n",
      "500 \t 0.9964\n",
      "600 \t 0.9995\n",
      "700 \t 0.9997\n",
      "1000 \t 1.0\n"
     ]
    }
   ],
   "source": [
    "# calcula cuantos encestes logra un jugador con indice de enceste prob\n",
    "# que hace qyt tiros libres\n",
    "def ftirar(prob, qty):\n",
    "  return sum(np.random.rand(qty) < prob) \n",
    "\n",
    "\n",
    "# defino las jugadoras\n",
    "mejor = 0.7\n",
    "peloton = np.array(range(501, 600)) / 1000\n",
    "jugadoras = np.append(peloton, mejor) # intencionalmente la mejor esta al final\n",
    "\n",
    "# vectorizo la funcion  ftirar\n",
    "vec_ftirar = np.vectorize(ftirar)\n",
    "\n",
    "for tiros_libres in [10, 20, 50, 100, 200, 300, 400, 415, 500, 600, 700, 1000]:\n",
    "  primera_ganadora = 0\n",
    "  for i in range(10000):\n",
    "    vaciertos = vec_ftirar(jugadoras, tiros_libres) # 10 tiros cada jugadora\n",
    "    mejor_ronda= np.argmax(vaciertos)\n",
    "    if mejor_ronda == 99:\n",
    "      primera_ganadora += 1\n",
    "  print(tiros_libres, \"\\t\", primera_ganadora/10000)"
   ]
  },
  {
   "attachments": {
    "image.png": {
     "image/png": "[encoded data removed]"
    }
   },
   "cell_type": "markdown",
   "metadata": {},
   "source": [
    "(imagen ilustrativa)\n",
    "![image.png](attachment:image.png)"
   ]
  },
  {
   "cell_type": "markdown",
   "metadata": {},
   "source": [
    "Haciendo tirar 415 tiros libres a cada una de los 100 jugadoras, y quedándose con la ganadora de\n",
    "ese torneo, en el 99.10% ( 0.9910 ) de los casos se está segura que esa es \"la verdadera mejor\"."
   ]
  },
  {
   "cell_type": "markdown",
   "metadata": {},
   "source": [
    "# Conclusiones"
   ]
  },
  {
   "cell_type": "markdown",
   "metadata": {},
   "source": [
    "El overfitting aparece cuando se comparan muchas jugadoras (modelos predictivos) muy\n",
    "parecidas entre sí. En el modelado predictivo es la situación más común que se tengan modelos\n",
    "con similar poder predictivo ya que generalmente solo difieren apenas en valores de los\n",
    "hiperparámetros o algunas columnas nuevas con feature engineering."
   ]
  },
  {
   "cell_type": "markdown",
   "metadata": {},
   "source": [
    "Las jugadoras no son determinísticas, sino probabilísticas, con lo cual al comparar muchas\n",
    "parecidas la ganadora es quien tuvo más suerte en ese torneo. La jugadora ganadora ganó por\n",
    "mera suerte, y NO puede sostener esa suerte en un nuevo torneo, por lo que el puntaje del primer\n",
    "torneo es mentiroso, no se sostiene en el nuevo torneo."
   ]
  },
  {
   "cell_type": "markdown",
   "metadata": {},
   "source": [
    "El overfitting se atenúa o puede llegar a desaparecer del todo, si en el torneo hay una jugadora\n",
    "ampliamente superior al resto. Esa jugadora SI mantiene su performance de un torneo al otro, ya\n",
    "que su puntaje en el primer torneo fue alto porque es realmente buena, porque no es el máximo\n",
    "de muchos parecidas a ella."
   ]
  },
  {
   "cell_type": "markdown",
   "metadata": {},
   "source": [
    "La forma de combatir el overfitting es hacer torneos de muchos tiros libres.\n",
    "Para estimar que tan buena es la jugadora ganadora de un torneo, hay que hacerla tirar\n",
    "nuevamente tiros libres. El secreto está en hacer más de un torneo."
   ]
  },
  {
   "cell_type": "markdown",
   "metadata": {},
   "source": [
    "# Desafío cazatalento: Ordenamiento"
   ]
  },
  {
   "cell_type": "markdown",
   "metadata": {},
   "source": [
    "Se reúne la entrenadora en la gran ciudad con algunas cazatalentos que visitaron regiones\n",
    "distintas."
   ]
  },
  {
   "cell_type": "markdown",
   "metadata": {},
   "source": [
    "Entrenadora: Bienvenidas a todas, veo que cada una de ustedes ha traído la estadística de su\n",
    "candidata. Sin embargo, yo debo ordenarlas de mejor a peor, y no me alcanza con que dos de\n",
    "ustedes me digan que que sus candidatas encestaron 80/100, necesito que me expliquen\n",
    "exactamente el procedimiento que han seguido para elegir a la mejor jugadora."
   ]
  },
  {
   "cell_type": "markdown",
   "metadata": {},
   "source": [
    "Cazatalentos 1: Discúlpeme entrenadora, si dos de nosotras le presentamos casos que en distintos\n",
    "pueblos han encestado exactamente 80 de 100, probabilísticamente esas adolescentes son\n",
    "equivalentes. Es cierto que luego aquí en la gran ciudad el día de la prueba una podrá encestar 77\n",
    "de 100, la otra 83, pero eso es la parte natural del random, ya sabemos que la distribución es\n",
    "binomial. Ambas son equivalentes, no importa qué pasó con el resto de las jugadoras de su\n",
    "pueblo."
   ]
  },
  {
   "cell_type": "markdown",
   "metadata": {},
   "source": [
    "Entrenadora: Estimada “Cazatalentos 1” tú estás equivocada, no consideras El Problema de las\n",
    "Múltiples Comparaciones; elegir cuales de esas adolescentes vendrán a la gran ciudad a ser\n",
    "evaluadas es mi decisión. Comienza tú contando detalladamente el proceso que has seguido."
   ]
  },
  {
   "cell_type": "markdown",
   "metadata": {},
   "source": [
    "- **Cazatalentos 1**: Llegué a la localidad habían 100 adolescentes en el gimnasio, hice tirar a cada una\n",
    "100 tiros, sólo una obtuvo 80 aciertos, luego un par 79, otro par 78, y así descendían."
   ]
  },
  {
   "cell_type": "markdown",
   "metadata": {},
   "source": [
    "- **Cazatalentos 2**: Llegué a una pequeña ciudad y habían 200 adolescentes en el gimnasio, hice tirar\n",
    "a cada una 100 tiros, sólo una obtuvo 80 aciertos, seis 79, cinco 78, y así descendían."
   ]
  },
  {
   "cell_type": "markdown",
   "metadata": {},
   "source": [
    "- **Cazatalentos 3**: Llegué a un minúsculo pueblo con un aro reglamentario en la pared de una\n",
    "escuela, había solamente 2 adolescentes, hice tirar a cada una 100 tiros, una obtuvo 80 y la otra 75."
   ]
  },
  {
   "cell_type": "markdown",
   "metadata": {},
   "source": [
    "- **Cazatalentos 4**: Ehh, yo soy nueva y no tenía clara la regla de hacer tirar 100 tiros. Fui a un pueblo,\n",
    "había 100 adolescentes, le hice tirar 10 tiros a cada una. La mejor de ellas acierta 9 y la elegí como ganadora, luego ya hay varias con 8 aciertos, 7, etc."
   ]
  },
  {
   "attachments": {
    "image.png": {
     "image/png": "[encoded data removed]"
    }
   },
   "cell_type": "markdown",
   "metadata": {},
   "source": [
    "- **Cazatalentos 5**: Había 100 adolescentes, las hice tirar una primer ronda de 100 tiros, me quedé con las 5 mejores de esa primer ronda, y luego hice dos rondas más de 100 tiros, los resultados fueron los siguientes\n",
    "\n",
    "![image.png](attachment:image.png)\n",
    "\n",
    "Elijo jugadora A"
   ]
  },
  {
   "cell_type": "markdown",
   "metadata": {},
   "source": [
    "- **Cazatalentos 6**: Yo poseo 25 años de experiencia como cazatalentos y tengo muy buena intuición para detectar el talento Llegué a un pueblo donde habían 100 adolescentes, me senté en las gradas del gimnasio y las observé detenidamente mientras recalentaban sin tirar al aro. A los 10 minutos, me paro, y señaló a una de ellas y le digo : 'tú, la número 13, a tirar 100 tiros; el resto, se puede ir a la casa”. Y ahí al tirar esos 100 tiros logró 80 aciertos y esa es mi candidata."
   ]
  },
  {
   "cell_type": "markdown",
   "metadata": {},
   "source": [
    "- **Cazatalentos 7**: Llegué al pueblo,habían 100 adolescentes, y les hice tirar una primera ronda de 100 tiros libres a cada una. Luego, a las 5 mejores, las hice tirar una segunda ronda de 100 tiros, y la mejor jugadora logró 80 aciertos en esta segunda ronda, y el resto 79, 78, 77 y 72."
   ]
  },
  {
   "cell_type": "markdown",
   "metadata": {},
   "source": [
    "- **Cazatalentos 8**: Conozco desde hace una década a la profesora de educación física que está a cargo del gimnasio del pueblo al que fui hoy. Llegué dos horas antes, y luego de ponernos al día, me mostró una planilla Excel con los resultados de tiros libres de 30 de las 100 adolescentes que iban a participar. Seguí el protocolo, hice tirar a cada una de los 100 adolescentes 100 tiros libres, hubo una que hizo 85 encestes, un par 84, tres 83, y luego continuaba la escalerita. Quien logró los 85 encestes, a quien elegí, en la planilla de profesora tenía la semana previa 790 encestes de 1000 tiros libres."
   ]
  },
  {
   "attachments": {
    "image.png": {
     "image/png": "[encoded data removed]"
    }
   },
   "cell_type": "markdown",
   "metadata": {},
   "source": [
    "- **Cazatalentos 9**: La cazatalentos 9 le dice a la entrenadora : “fui a una localidad de 500 habitantes, había una sola adolescente interesada, la hice tirar 100 tiros libres, y encestó 80, tengo grabado sin cortes los 100 tiros”. En realidad, esa adolescente es la sobrina de la cazatalentos, la hizo tirar 10 rondas de 100 tiros cada una, grabó todas, pero solo trae la grabación de la mejor ronda a la entrenadora. Los resultados obtenidos por su sobrina son...\n",
    "- (esta deshonestidad de la Cazatalentos 9 no debería parecerle extraña, es exactamente lo mismo que elegir cómo submit final el que le fue mejor en el Public Leaderboard, algo muy común entre los alumnos ...)\n",
    "- Por una persona espía en el pueblo, la entrenadora está al tanto de lo ocurrido y conoce la tabla anterior, usará dicha información para tomar la decisión, aunque no le dirá nada, por esta vez, a la cazatalentos.\n",
    "- Podemos suponer que la super talentosa Diana Taurasi con su “índice de enceste” del 0.85 es superior a todas las jugadoras evaluadas en los pueblos por las cazatalentos.\n",
    "\n",
    "![image.png](attachment:image.png)"
   ]
  },
  {
   "cell_type": "markdown",
   "metadata": {},
   "source": [
    "## Desafío"
   ]
  },
  {
   "cell_type": "markdown",
   "metadata": {},
   "source": [
    "Podemos suponer que la super talentosa Diana Taurasi con su “índice de enceste” del 0.85 es superior a todas las jugadoras evaluadas en los pueblos por las cazatalentos. ¿Si usted fuera la entrenadora, como ordena el valor esperado de encestes en una ronda de 100 tiros libres a cada una de las candidatas propuestas por las ocho cazatalentos ?"
   ]
  },
  {
   "cell_type": "markdown",
   "metadata": {},
   "source": [
    "donde Ci < Cj sii prob( #Encestes Ci < #Encestes Cj | 100 tiros cada uno ) > 0.5"
   ]
  },
  {
   "cell_type": "markdown",
   "metadata": {},
   "source": [
    "es decir que, haciendo 100 tiros libres, más de la mitad de las veces, Ci va a lograr menos\n",
    "encestes que Cj"
   ]
  },
  {
   "cell_type": "markdown",
   "metadata": {},
   "source": [
    "La entrenadora de la gran ciudad NO quiere traer a la elegida de cada cazatalentos y hacerlas tirar 100 tiros delante de ella para constatar cual logra más encestes en esa ronda. Ella quiere, con la información que le brindó cada cazatalento sobre el procedimiento y los resultados, elegir la mejor encestadora."
   ]
  },
  {
   "cell_type": "markdown",
   "metadata": {},
   "source": [
    "# Reglas"
   ]
  },
  {
   "cell_type": "markdown",
   "metadata": {},
   "source": [
    "La fecha de finalización del desafío es el domingo 10 de septiembre a las 23:59\n",
    "Usted podrá trabajar en forma individual o formando grupo de dos personas.\n",
    "Entrega\n",
    "- en la solapa CazaTalentos de la Google Sheet Colaborativa de la Asignatura\n",
    "- Ordenamiento\n",
    "- Explicación\n",
    "\n",
    "◦ Si se apoyó en algún/os script/s\n",
    "- carpeta en GitHub\n",
    "\n",
    "Recompensa:\n",
    "- Todos los integrantes de todos los grupos que logren un ordenamiento perfecto sumarán a su nota final el valor de 1.0 (siempre la nota máxima posible de toda la asignatura será de 10.0)\n",
    "- Particularidades: Es posible que usted llegue a la conclusión que lo mejor que se puede obtener es un orden parcial de las candidatas y no un orden total; deberá justificar.\n",
    "- Será muy valioso el intercambio de ideas en Zulip stream #CazaTalentos , este problema suele ser muy polémico, en particular la Cazatalentos 5 genera gran incertidumbre. La participación en este desafío es opcional."
   ]
  },
  {
   "cell_type": "markdown",
   "metadata": {},
   "source": [
    "**Bibliografía**\n",
    "- https://www.youtube.com/watch?v=FpCrY7x5nEE\n",
    "- https://www.youtube.com/watch?v=42QuXLucH3Q\n",
    "- https://www.youtube.com/watch?v=6ZxIzVjV1DE\n",
    "- https://en.wikipedia.org/wiki/Replication_crisis\n",
    "- https://www.theatlantic.com/magazine/archive/2010/11/lies-damned-lies-and-medical-science/3\n",
    "08269/\n",
    "- https://www.nature.com/news/over-half-of-psychology-studies-fail-reproducibility-test-1.18248"
   ]
  }
 ],
 "metadata": {
  "kernelspec": {
   "display_name": "base",
   "language": "python",
   "name": "python3"
  },
  "language_info": {
   "codemirror_mode": {
    "name": "ipython",
    "version": 3
   },
   "file_extension": ".py",
   "mimetype": "text/x-python",
   "name": "python",
   "nbconvert_exporter": "python",
   "pygments_lexer": "ipython3",
   "version": "3.8.5"
  },
  "orig_nbformat": 4
 },
 "nbformat": 4,
 "nbformat_minor": 2
}
