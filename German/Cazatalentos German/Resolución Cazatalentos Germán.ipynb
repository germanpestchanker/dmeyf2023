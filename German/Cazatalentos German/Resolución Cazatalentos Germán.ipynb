{
 "cells": [
  {
   "cell_type": "markdown",
   "metadata": {},
   "source": [
    "¿Si usted fuera la entrenadora, como ordena el valor esperado de encestes en una ronda de 100 tiros libres a cada una de las candidatas propuestas por las ocho cazatalentos ? donde Ci < Cj sii prob( #Encestes Ci < #Encestes Cj | 100 tiros cada uno ) > 0.5"
   ]
  },
  {
   "cell_type": "markdown",
   "metadata": {},
   "source": [
    "es decir que, haciendo 100 tiros libres, más de la mitad de las veces, Ci va a lograr menos\n",
    "encestes que Cj"
   ]
  },
  {
   "cell_type": "markdown",
   "metadata": {},
   "source": [
    "**Cazatalentos 1**: Llegué a la localidad habían 100 adolescentes en el gimnasio, hice tirar a cada una\n",
    "100 tiros, sólo una obtuvo 80 aciertos, luego un par 79, otro par 78, y así descendían."
   ]
  },
  {
   "cell_type": "markdown",
   "metadata": {},
   "source": [
    "Resolución: Este es análogo al \"Caso 2: Aparece el Overfitting\". Con 100 tiros, se puede suponer que la basquetbolista tuvo una esperanza de encestes de 0.8, y luego una sucesión de las dos siguientes 79 , luego 78, y así. "
   ]
  },
  {
   "cell_type": "markdown",
   "metadata": {},
   "source": [
    "Nota: Que haya sido una sóla ronda no garatiza que no haya sido la \"malidción del ganador\", donde si se repite, la basquetbolista ganadora (sobre todo al haber tan poca diferencia entre los primeros lugares) confirme luego su performance"
   ]
  },
  {
   "cell_type": "markdown",
   "metadata": {},
   "source": [
    "Por ello, luego habría que simular una nueva ronda para comparar"
   ]
  },
  {
   "cell_type": "code",
   "execution_count": 1,
   "metadata": {},
   "outputs": [],
   "source": [
    "import numpy as np\n",
    "\n",
    "#Pongo mi semilla[1]\n",
    "np.random.seed(279511)"
   ]
  },
  {
   "cell_type": "code",
   "execution_count": 2,
   "metadata": {},
   "outputs": [],
   "source": [
    "# calcula cuantos encestes logra un jugadora con indice de enceste prob\n",
    "# haciendo qyt tiros libres\n",
    "\n",
    "def ftirar(prob, qty):\n",
    "  return sum(np.random.rand(qty) < prob)\n",
    "\n",
    "\n",
    "# defino los jugadoras\n",
    "mejor = 0.8"
   ]
  },
  {
   "cell_type": "code",
   "execution_count": 3,
   "metadata": {},
   "outputs": [
    {
     "name": "stdout",
     "output_type": "stream",
     "text": [
      "[0.79 0.79 0.78 0.78 0.77 0.77 0.76 0.76 0.75 0.75 0.74 0.74 0.73 0.73\n",
      " 0.72 0.72 0.71 0.71 0.7  0.7  0.69 0.69 0.68 0.68 0.67 0.67 0.66 0.66\n",
      " 0.65 0.65 0.64 0.64 0.63 0.63 0.62 0.62 0.61 0.61 0.6  0.6  0.59 0.59\n",
      " 0.58 0.58 0.57 0.57 0.56 0.56 0.55 0.55 0.54 0.54 0.53 0.53 0.52 0.52\n",
      " 0.51 0.51 0.5  0.5  0.49 0.49 0.48 0.48 0.47 0.47 0.46 0.46 0.45 0.45\n",
      " 0.44 0.44 0.43 0.43 0.42 0.42 0.41 0.41 0.4  0.4  0.39 0.39 0.38 0.38\n",
      " 0.37 0.37 0.36 0.36 0.35 0.35 0.34 0.34 0.33 0.33 0.32 0.32 0.31 0.31\n",
      " 0.3  0.3 ]\n"
     ]
    }
   ],
   "source": [
    "#Defino el pelotón de jugadores siguientes\n",
    "inicio = 79\n",
    "final = 30\n",
    "paso = -1\n",
    "repeticiones = 2\n",
    "total_elementos = 99 - 70 + 1\n",
    "\n",
    "# Creo el array de secuencia descendente\n",
    "secuencia = np.arange(inicio, final + paso, paso)\n",
    "\n",
    "# Repito la secuencia 2 veces\n",
    "secuencia_repetida = np.repeat(secuencia, repeticiones)\n",
    "\n",
    "# Dividir cada elemento por 100\n",
    "peloton = secuencia_repetida / 100\n",
    "\n",
    "print(peloton)"
   ]
  },
  {
   "cell_type": "code",
   "execution_count": 4,
   "metadata": {},
   "outputs": [
    {
     "data": {
      "text/plain": [
       "99"
      ]
     },
     "execution_count": 4,
     "metadata": {},
     "output_type": "execute_result"
    }
   ],
   "source": [
    "# Le saco el último elemento del array\n",
    "peloton = peloton[:-1]\n",
    "len(peloton)"
   ]
  },
  {
   "cell_type": "code",
   "execution_count": 5,
   "metadata": {},
   "outputs": [
    {
     "data": {
      "text/plain": [
       "array([0.8 , 0.79, 0.79, 0.78, 0.78, 0.77, 0.77, 0.76, 0.76, 0.75, 0.75,\n",
       "       0.74, 0.74, 0.73, 0.73, 0.72, 0.72, 0.71, 0.71, 0.7 , 0.7 , 0.69,\n",
       "       0.69, 0.68, 0.68, 0.67, 0.67, 0.66, 0.66, 0.65, 0.65, 0.64, 0.64,\n",
       "       0.63, 0.63, 0.62, 0.62, 0.61, 0.61, 0.6 , 0.6 , 0.59, 0.59, 0.58,\n",
       "       0.58, 0.57, 0.57, 0.56, 0.56, 0.55, 0.55, 0.54, 0.54, 0.53, 0.53,\n",
       "       0.52, 0.52, 0.51, 0.51, 0.5 , 0.5 , 0.49, 0.49, 0.48, 0.48, 0.47,\n",
       "       0.47, 0.46, 0.46, 0.45, 0.45, 0.44, 0.44, 0.43, 0.43, 0.42, 0.42,\n",
       "       0.41, 0.41, 0.4 , 0.4 , 0.39, 0.39, 0.38, 0.38, 0.37, 0.37, 0.36,\n",
       "       0.36, 0.35, 0.35, 0.34, 0.34, 0.33, 0.33, 0.32, 0.32, 0.31, 0.31,\n",
       "       0.3 ])"
      ]
     },
     "execution_count": 5,
     "metadata": {},
     "output_type": "execute_result"
    }
   ],
   "source": [
    "jugadoras = np.append(mejor, peloton)\n",
    "# Reviso jugadoras\n",
    "jugadoras"
   ]
  },
  {
   "cell_type": "code",
   "execution_count": 6,
   "metadata": {},
   "outputs": [
    {
     "name": "stdout",
     "output_type": "stream",
     "text": [
      "2312\n"
     ]
    }
   ],
   "source": [
    "# Me fijo qué sucede si le hago realizar 100 tiros libres a las 100 jugadoras\n",
    "\n",
    "# vectorizo la funcion  ftirar\n",
    "vec_ftirar = np.vectorize(ftirar)\n",
    "\n",
    "# hago que las 100 jugadoras tiren 100 veces cada una\n",
    "vec_ftirar(jugadoras, 100)\n",
    "\n",
    "primera_ganadora = 0\n",
    "\n",
    "for i in range(10000): # diez mil experimentos\n",
    "  vaciertos = vec_ftirar(jugadoras, 100) # 100 tiros libres cada jugadora\n",
    "  mejor_ronda = np.argmax(vaciertos)\n",
    "  if mejor_ronda == 0:\n",
    "    primera_ganadora += 1\n",
    "\n",
    "\n",
    "\n",
    "\n",
    "print(primera_ganadora)"
   ]
  },
  {
   "cell_type": "markdown",
   "metadata": {},
   "source": [
    "En 10.000 experimentos, sólo en 2312 casos la mejor jugadora que eligió la cazatalento 1 fue la mejor..."
   ]
  },
  {
   "cell_type": "markdown",
   "metadata": {},
   "source": [
    "- **Cazatalentos 2**: Llegué a una pequeña ciudad y habían 200 adolescentes en el gimnasio, hice tirar\n",
    "a cada una 100 tiros, sólo una obtuvo 80 aciertos, seis 79, cinco 78, y así descendían."
   ]
  },
  {
   "cell_type": "markdown",
   "metadata": {},
   "source": [
    "Caso análogo al primero"
   ]
  },
  {
   "cell_type": "code",
   "execution_count": 7,
   "metadata": {},
   "outputs": [],
   "source": [
    "# defino los jugadoras\n",
    "mejor = 0.8"
   ]
  },
  {
   "cell_type": "code",
   "execution_count": 8,
   "metadata": {},
   "outputs": [
    {
     "name": "stdout",
     "output_type": "stream",
     "text": [
      "[0.79 0.79 0.79 0.79 0.79 0.79 0.78 0.78 0.78 0.78 0.78 0.77 0.77 0.77\n",
      " 0.77 0.76 0.76 0.76 0.75 0.75 0.74 0.73 0.72 0.71 0.7  0.69 0.68 0.67\n",
      " 0.66 0.65 0.64 0.63 0.62 0.61 0.6  0.59 0.58 0.57 0.56 0.55 0.54 0.53\n",
      " 0.52 0.51 0.5  0.49 0.48 0.47 0.46 0.45 0.44 0.43 0.42 0.41 0.4  0.39\n",
      " 0.38 0.37 0.36 0.35 0.34 0.33 0.32 0.31 0.3  0.29 0.28 0.27 0.26 0.25\n",
      " 0.24 0.23 0.22 0.21 0.2  0.19 0.18 0.17 0.16 0.15 0.14 0.13 0.12 0.11\n",
      " 0.1  0.1  0.1  0.1  0.1  0.1  0.1  0.1  0.1  0.1  0.1  0.1  0.1  0.1\n",
      " 0.1  0.1  0.1  0.1  0.1  0.1  0.1  0.1  0.1  0.1  0.1  0.1  0.1  0.1\n",
      " 0.1  0.1  0.1  0.1  0.1  0.1  0.1  0.1  0.1  0.1  0.1  0.1  0.1  0.1\n",
      " 0.1  0.1  0.1  0.1  0.1  0.1  0.1  0.1  0.1  0.1  0.1  0.1  0.1  0.1\n",
      " 0.1  0.1  0.1  0.1  0.1  0.1  0.1  0.1  0.1  0.1  0.1  0.1  0.1  0.1\n",
      " 0.1  0.1  0.1  0.1  0.1  0.1  0.1  0.1  0.1  0.1  0.1  0.1  0.1  0.1\n",
      " 0.1  0.1  0.1  0.1  0.1  0.1  0.1  0.1  0.1  0.1  0.1  0.1  0.1  0.1\n",
      " 0.1  0.1  0.1  0.1  0.1  0.1  0.1  0.1  0.1  0.1  0.1  0.1  0.1  0.1\n",
      " 0.1  0.1  0.1 ]\n"
     ]
    }
   ],
   "source": [
    "# Crear una secuencia descendente para el pelotón inicial\n",
    "secuencia1 = [np.repeat(80 - x, 7 - x) for x in range(1, 7)]\n",
    "peloton1 = np.concatenate(secuencia1)\n",
    "\n",
    "# Crear una secuencia descendente para el segundo pelotón\n",
    "peloton2 = np.arange(73, 9, -1)\n",
    "\n",
    "# Combinar ambas secuencias\n",
    "peloton = np.concatenate((peloton1, peloton2))\n",
    "\n",
    "# Asegurarse de que la longitud sea de 199 elementos\n",
    "while len(peloton) < 199:\n",
    "    peloton = np.append(peloton, 10)\n",
    "\n",
    "# Dividir todos los elementos por 100\n",
    "peloton = peloton / 100\n",
    "\n",
    "print(peloton)"
   ]
  },
  {
   "cell_type": "code",
   "execution_count": 9,
   "metadata": {},
   "outputs": [
    {
     "data": {
      "text/plain": [
       "199"
      ]
     },
     "execution_count": 9,
     "metadata": {},
     "output_type": "execute_result"
    }
   ],
   "source": [
    "len(peloton)"
   ]
  },
  {
   "cell_type": "code",
   "execution_count": 10,
   "metadata": {},
   "outputs": [
    {
     "data": {
      "text/plain": [
       "array([0.8 , 0.79, 0.79, 0.79, 0.79, 0.79, 0.79, 0.78, 0.78, 0.78, 0.78,\n",
       "       0.78, 0.77, 0.77, 0.77, 0.77, 0.76, 0.76, 0.76, 0.75, 0.75, 0.74,\n",
       "       0.73, 0.72, 0.71, 0.7 , 0.69, 0.68, 0.67, 0.66, 0.65, 0.64, 0.63,\n",
       "       0.62, 0.61, 0.6 , 0.59, 0.58, 0.57, 0.56, 0.55, 0.54, 0.53, 0.52,\n",
       "       0.51, 0.5 , 0.49, 0.48, 0.47, 0.46, 0.45, 0.44, 0.43, 0.42, 0.41,\n",
       "       0.4 , 0.39, 0.38, 0.37, 0.36, 0.35, 0.34, 0.33, 0.32, 0.31, 0.3 ,\n",
       "       0.29, 0.28, 0.27, 0.26, 0.25, 0.24, 0.23, 0.22, 0.21, 0.2 , 0.19,\n",
       "       0.18, 0.17, 0.16, 0.15, 0.14, 0.13, 0.12, 0.11, 0.1 , 0.1 , 0.1 ,\n",
       "       0.1 , 0.1 , 0.1 , 0.1 , 0.1 , 0.1 , 0.1 , 0.1 , 0.1 , 0.1 , 0.1 ,\n",
       "       0.1 , 0.1 , 0.1 , 0.1 , 0.1 , 0.1 , 0.1 , 0.1 , 0.1 , 0.1 , 0.1 ,\n",
       "       0.1 , 0.1 , 0.1 , 0.1 , 0.1 , 0.1 , 0.1 , 0.1 , 0.1 , 0.1 , 0.1 ,\n",
       "       0.1 , 0.1 , 0.1 , 0.1 , 0.1 , 0.1 , 0.1 , 0.1 , 0.1 , 0.1 , 0.1 ,\n",
       "       0.1 , 0.1 , 0.1 , 0.1 , 0.1 , 0.1 , 0.1 , 0.1 , 0.1 , 0.1 , 0.1 ,\n",
       "       0.1 , 0.1 , 0.1 , 0.1 , 0.1 , 0.1 , 0.1 , 0.1 , 0.1 , 0.1 , 0.1 ,\n",
       "       0.1 , 0.1 , 0.1 , 0.1 , 0.1 , 0.1 , 0.1 , 0.1 , 0.1 , 0.1 , 0.1 ,\n",
       "       0.1 , 0.1 , 0.1 , 0.1 , 0.1 , 0.1 , 0.1 , 0.1 , 0.1 , 0.1 , 0.1 ,\n",
       "       0.1 , 0.1 , 0.1 , 0.1 , 0.1 , 0.1 , 0.1 , 0.1 , 0.1 , 0.1 , 0.1 ,\n",
       "       0.1 , 0.1 , 0.1 , 0.1 , 0.1 , 0.1 , 0.1 , 0.1 , 0.1 , 0.1 , 0.1 ,\n",
       "       0.1 , 0.1 ])"
      ]
     },
     "execution_count": 10,
     "metadata": {},
     "output_type": "execute_result"
    }
   ],
   "source": [
    "jugadoras = np.append(mejor, peloton)\n",
    "# Reviso jugadoras\n",
    "jugadoras"
   ]
  },
  {
   "cell_type": "code",
   "execution_count": 11,
   "metadata": {},
   "outputs": [
    {
     "name": "stdout",
     "output_type": "stream",
     "text": [
      "1650\n"
     ]
    }
   ],
   "source": [
    "# Me fijo qué sucede si le hago realizar 100 tiros libres a las 200 jugadoras\n",
    "\n",
    "# vectorizo la funcion  ftirar\n",
    "vec_ftirar = np.vectorize(ftirar)\n",
    "\n",
    "# hago que las 100 jugadoras tiren 200 veces cada una\n",
    "vec_ftirar(jugadoras, 200)\n",
    "\n",
    "primera_ganadora = 0\n",
    "\n",
    "for i in range(10000): # diez mil experimentos\n",
    "  vaciertos = vec_ftirar(jugadoras, 200) # 200 tiros libres cada jugadora\n",
    "  mejor_ronda = np.argmax(vaciertos)\n",
    "  if mejor_ronda == 0:\n",
    "    primera_ganadora += 1\n",
    "\n",
    "\n",
    "\n",
    "\n",
    "print(primera_ganadora)"
   ]
  },
  {
   "cell_type": "markdown",
   "metadata": {},
   "source": [
    "En 10.000 experimentos, sólo en 1650 casos la mejor jugadora que eligió la cazatalento 21 fue la mejor..."
   ]
  },
  {
   "cell_type": "markdown",
   "metadata": {},
   "source": [
    "- **Cazatalentos 3**: Llegué a un minúsculo pueblo con un aro reglamentario en la pared de una\n",
    "escuela, había solamente 2 adolescentes, hice tirar a cada una 100 tiros, una obtuvo 80 y la otra 75"
   ]
  },
  {
   "cell_type": "markdown",
   "metadata": {},
   "source": [
    "Caso similar, pero menos participantes"
   ]
  },
  {
   "cell_type": "code",
   "execution_count": 12,
   "metadata": {},
   "outputs": [],
   "source": [
    "# defino los jugadoras\n",
    "mejor = 0.8\n",
    "peloton = 0.7\n",
    "jugadoras = np.append(mejor, peloton)"
   ]
  },
  {
   "cell_type": "code",
   "execution_count": 13,
   "metadata": {},
   "outputs": [
    {
     "name": "stdout",
     "output_type": "stream",
     "text": [
      "9566\n"
     ]
    }
   ],
   "source": [
    "# Me fijo qué sucede si le hago realizar 100 tiros libres a las 2 jugadoras\n",
    "\n",
    "# vectorizo la funcion  ftirar\n",
    "vec_ftirar = np.vectorize(ftirar)\n",
    "\n",
    "# hago que las 2 jugadoras tiren 100 veces cada una\n",
    "vec_ftirar(jugadoras, 100)\n",
    "\n",
    "primera_ganadora = 0\n",
    "\n",
    "for i in range(10000): # diez mil experimentos\n",
    "  vaciertos = vec_ftirar(jugadoras, 100) # 100 tiros libres cada jugadora\n",
    "  mejor_ronda = np.argmax(vaciertos)\n",
    "  if mejor_ronda == 0:\n",
    "    primera_ganadora += 1\n",
    "\n",
    "\n",
    "\n",
    "\n",
    "print(primera_ganadora)"
   ]
  },
  {
   "cell_type": "markdown",
   "metadata": {},
   "source": [
    "Más seguro que esta jugadora ha sido la mejor de estas 2: en 9566 de la 10.000 veces ganó, aunque muy baja la comparación"
   ]
  },
  {
   "cell_type": "markdown",
   "metadata": {},
   "source": [
    "- **Cazatalentos 4**: Ehh, yo soy nueva y no tenía clara la regla de hacer tirar 100 tiros. Fui a un pueblo,\n",
    "había 100 adolescentes, le hice tirar 10 tiros a cada una. La mejor de ellas acierta 9 y la elegí como ganadora, luego ya hay varias con 8 aciertos, 7, etc."
   ]
  },
  {
   "cell_type": "markdown",
   "metadata": {},
   "source": [
    "Similar al primer caso. Lo interpreto como que va descendiendo entre 0.8 a 0.7 con 100 elementos en el pelotón"
   ]
  },
  {
   "cell_type": "code",
   "execution_count": 14,
   "metadata": {},
   "outputs": [],
   "source": [
    "# defino los jugadoras\n",
    "mejor = 0.9"
   ]
  },
  {
   "cell_type": "code",
   "execution_count": 19,
   "metadata": {},
   "outputs": [
    {
     "data": {
      "text/plain": [
       "array([0.8  , 0.799, 0.798, 0.797, 0.796, 0.795, 0.794, 0.793, 0.792,\n",
       "       0.791, 0.79 , 0.789, 0.788, 0.787, 0.786, 0.785, 0.784, 0.783,\n",
       "       0.782, 0.781, 0.78 , 0.779, 0.778, 0.777, 0.776, 0.775, 0.774,\n",
       "       0.773, 0.772, 0.771, 0.77 , 0.769, 0.768, 0.767, 0.766, 0.765,\n",
       "       0.764, 0.763, 0.762, 0.761, 0.76 , 0.759, 0.758, 0.757, 0.756,\n",
       "       0.755, 0.754, 0.753, 0.752, 0.751, 0.75 , 0.749, 0.748, 0.747,\n",
       "       0.746, 0.745, 0.744, 0.743, 0.742, 0.741, 0.74 , 0.739, 0.738,\n",
       "       0.737, 0.736, 0.735, 0.734, 0.733, 0.732, 0.731, 0.73 , 0.729,\n",
       "       0.728, 0.727, 0.726, 0.725, 0.724, 0.723, 0.722, 0.721, 0.72 ,\n",
       "       0.719, 0.718, 0.717, 0.716, 0.715, 0.714, 0.713, 0.712, 0.711,\n",
       "       0.71 , 0.709, 0.708, 0.707, 0.706, 0.705, 0.704, 0.703, 0.702])"
      ]
     },
     "execution_count": 19,
     "metadata": {},
     "output_type": "execute_result"
    }
   ],
   "source": [
    "peloton = np.array(range(800, 701, -1)) / 1000\n",
    "peloton"
   ]
  },
  {
   "cell_type": "code",
   "execution_count": 20,
   "metadata": {},
   "outputs": [
    {
     "data": {
      "text/plain": [
       "99"
      ]
     },
     "execution_count": 20,
     "metadata": {},
     "output_type": "execute_result"
    }
   ],
   "source": [
    "len(peloton)"
   ]
  },
  {
   "cell_type": "code",
   "execution_count": 21,
   "metadata": {},
   "outputs": [
    {
     "data": {
      "text/plain": [
       "array([0.9  , 0.8  , 0.799, 0.798, 0.797, 0.796, 0.795, 0.794, 0.793,\n",
       "       0.792, 0.791, 0.79 , 0.789, 0.788, 0.787, 0.786, 0.785, 0.784,\n",
       "       0.783, 0.782, 0.781, 0.78 , 0.779, 0.778, 0.777, 0.776, 0.775,\n",
       "       0.774, 0.773, 0.772, 0.771, 0.77 , 0.769, 0.768, 0.767, 0.766,\n",
       "       0.765, 0.764, 0.763, 0.762, 0.761, 0.76 , 0.759, 0.758, 0.757,\n",
       "       0.756, 0.755, 0.754, 0.753, 0.752, 0.751, 0.75 , 0.749, 0.748,\n",
       "       0.747, 0.746, 0.745, 0.744, 0.743, 0.742, 0.741, 0.74 , 0.739,\n",
       "       0.738, 0.737, 0.736, 0.735, 0.734, 0.733, 0.732, 0.731, 0.73 ,\n",
       "       0.729, 0.728, 0.727, 0.726, 0.725, 0.724, 0.723, 0.722, 0.721,\n",
       "       0.72 , 0.719, 0.718, 0.717, 0.716, 0.715, 0.714, 0.713, 0.712,\n",
       "       0.711, 0.71 , 0.709, 0.708, 0.707, 0.706, 0.705, 0.704, 0.703,\n",
       "       0.702])"
      ]
     },
     "execution_count": 21,
     "metadata": {},
     "output_type": "execute_result"
    }
   ],
   "source": [
    "jugadoras = np.append(mejor, peloton)\n",
    "jugadoras"
   ]
  },
  {
   "cell_type": "code",
   "execution_count": 22,
   "metadata": {},
   "outputs": [
    {
     "name": "stdout",
     "output_type": "stream",
     "text": [
      "3652\n"
     ]
    }
   ],
   "source": [
    "# vectorizo la funcion  ftirar\n",
    "vec_ftirar = np.vectorize(ftirar)\n",
    "\n",
    "# hago que las 100 jugadoras tiren 10 veces cada una\n",
    "vec_ftirar(jugadoras, 10)\n",
    "\n",
    "primera_ganadora = 0\n",
    "\n",
    "for i in range(10000): # diez mil experimentos\n",
    "  vaciertos = vec_ftirar(jugadoras, 10) # 10 tiros libres cada jugadora\n",
    "  mejor_ronda = np.argmax(vaciertos)\n",
    "  if mejor_ronda == 0:\n",
    "    primera_ganadora += 1\n",
    "\n",
    "\n",
    "\n",
    "\n",
    "print(primera_ganadora)"
   ]
  },
  {
   "cell_type": "markdown",
   "metadata": {},
   "source": [
    "En 10.000 experimentos, sólo en 3652 casos la mejor jugadora que eligió la cazatalento 21 fue la mejor..."
   ]
  },
  {
   "cell_type": "markdown",
   "metadata": {},
   "source": [
    "- **Cazatalentos 5**: Había 100 adolescentes, las hice tirar una primer ronda de 100 tiros, me quedé con las 5 mejores de esa primer ronda, y luego hice dos rondas más de 100 tiros, y los resultados fueron los siguentes:\n",
    "\n",
    "![image.png](attachment:image.png)\n",
    "\n",
    "Elijo jugadora A"
   ]
  },
  {
   "cell_type": "markdown",
   "metadata": {},
   "source": [
    "Acá primero es como el caso del teórico \"Tercer Caso\" (nueva ronda) y \"Cuarto Caso\" (ganador de nueva ronda, overfitting en su máxima expresión), para explicar la \"Maldición del Ganador\""
   ]
  },
  {
   "cell_type": "code",
   "execution_count": null,
   "metadata": {},
   "outputs": [],
   "source": []
  }
 ],
 "metadata": {
  "kernelspec": {
   "display_name": "base",
   "language": "python",
   "name": "python3"
  },
  "language_info": {
   "codemirror_mode": {
    "name": "ipython",
    "version": 3
   },
   "file_extension": ".py",
   "mimetype": "text/x-python",
   "name": "python",
   "nbconvert_exporter": "python",
   "pygments_lexer": "ipython3",
   "version": "3.8.5"
  },
  "orig_nbformat": 4
 },
 "nbformat": 4,
 "nbformat_minor": 2
}
