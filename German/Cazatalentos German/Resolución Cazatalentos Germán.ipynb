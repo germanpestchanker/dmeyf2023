{
 "cells": [
  {
   "cell_type": "markdown",
   "metadata": {},
   "source": [
    "¿Si usted fuera la entrenadora, como ordena el valor esperado de encestes en una ronda de 100 tiros libres a cada una de las candidatas propuestas por las ocho cazatalentos ? donde Ci < Cj sii prob( #Encestes Ci < #Encestes Cj | 100 tiros cada uno ) > 0.5"
   ]
  },
  {
   "cell_type": "markdown",
   "metadata": {},
   "source": [
    "es decir que, haciendo 100 tiros libres, más de la mitad de las veces, Ci va a lograr menos\n",
    "encestes que Cj"
   ]
  },
  {
   "cell_type": "markdown",
   "metadata": {},
   "source": [
    "**Cazatalentos 1**: Llegué a la localidad habían 100 adolescentes en el gimnasio, hice tirar a cada una\n",
    "100 tiros, sólo una obtuvo 80 aciertos, luego un par 79, otro par 78, y así descendían."
   ]
  },
  {
   "cell_type": "markdown",
   "metadata": {},
   "source": [
    "Resolución: Este es análogo al \"Caso 2: Aparece el Overfitting\". Con 100 tiros, se puede suponer que la basquetbolista tuvo una esperanza de encestes de 0.8, y luego una sucesión de las dos siguientes 79 , luego 78, y así. "
   ]
  },
  {
   "cell_type": "markdown",
   "metadata": {},
   "source": [
    "Nota: Que haya sido una sóla ronda no garatiza que no haya sido la \"malidción del ganador\", donde si se repite, la basquetbolista ganadora (sobre todo al haber tan poca diferencia entre los primeros lugares) confirme luego su performance"
   ]
  },
  {
   "cell_type": "markdown",
   "metadata": {},
   "source": [
    "Por ello, luego habría que simular una nueva ronda para comparar"
   ]
  },
  {
   "cell_type": "code",
   "execution_count": 1,
   "metadata": {},
   "outputs": [],
   "source": [
    "import numpy as np\n",
    "\n",
    "#Pongo mi semilla[1]\n",
    "np.random.seed(279511)"
   ]
  },
  {
   "cell_type": "code",
   "execution_count": 2,
   "metadata": {},
   "outputs": [],
   "source": [
    "# calcula cuantos encestes logra un jugadora con indice de enceste prob\n",
    "# haciendo qyt tiros libres\n",
    "\n",
    "def ftirar(prob, qty):\n",
    "  return sum(np.random.rand(qty) < prob)\n",
    "\n",
    "\n",
    "# defino los jugadoras\n",
    "mejor = 0.8"
   ]
  },
  {
   "cell_type": "code",
   "execution_count": 3,
   "metadata": {},
   "outputs": [
    {
     "name": "stdout",
     "output_type": "stream",
     "text": [
      "[0.79 0.79 0.78 0.78 0.77 0.77 0.76 0.76 0.75 0.75 0.74 0.74 0.73 0.73\n",
      " 0.72 0.72 0.71 0.71 0.7  0.7  0.69 0.69 0.68 0.68 0.67 0.67 0.66 0.66\n",
      " 0.65 0.65 0.64 0.64 0.63 0.63 0.62 0.62 0.61 0.61 0.6  0.6  0.59 0.59\n",
      " 0.58 0.58 0.57 0.57 0.56 0.56 0.55 0.55 0.54 0.54 0.53 0.53 0.52 0.52\n",
      " 0.51 0.51 0.5  0.5  0.49 0.49 0.48 0.48 0.47 0.47 0.46 0.46 0.45 0.45\n",
      " 0.44 0.44 0.43 0.43 0.42 0.42 0.41 0.41 0.4  0.4  0.39 0.39 0.38 0.38\n",
      " 0.37 0.37 0.36 0.36 0.35 0.35 0.34 0.34 0.33 0.33 0.32 0.32 0.31 0.31\n",
      " 0.3  0.3 ]\n"
     ]
    }
   ],
   "source": [
    "#Defino el pelotón de jugadores siguientes\n",
    "inicio = 79\n",
    "final = 30\n",
    "paso = -1\n",
    "repeticiones = 2\n",
    "total_elementos = 99 - 70 + 1\n",
    "\n",
    "# Creo el array de secuencia descendente\n",
    "secuencia = np.arange(inicio, final + paso, paso)\n",
    "\n",
    "# Repito la secuencia 2 veces\n",
    "secuencia_repetida = np.repeat(secuencia, repeticiones)\n",
    "\n",
    "# Dividir cada elemento por 100\n",
    "peloton = secuencia_repetida / 100\n",
    "\n",
    "print(peloton)"
   ]
  },
  {
   "cell_type": "code",
   "execution_count": 6,
   "metadata": {},
   "outputs": [
    {
     "data": {
      "text/plain": [
       "99"
      ]
     },
     "execution_count": 6,
     "metadata": {},
     "output_type": "execute_result"
    }
   ],
   "source": [
    "# Le saco el último elemento del array\n",
    "peloton = peloton[:-1]\n",
    "len(peloton)"
   ]
  },
  {
   "cell_type": "code",
   "execution_count": 7,
   "metadata": {},
   "outputs": [
    {
     "data": {
      "text/plain": [
       "array([0.8 , 0.79, 0.79, 0.78, 0.78, 0.77, 0.77, 0.76, 0.76, 0.75, 0.75,\n",
       "       0.74, 0.74, 0.73, 0.73, 0.72, 0.72, 0.71, 0.71, 0.7 , 0.7 , 0.69,\n",
       "       0.69, 0.68, 0.68, 0.67, 0.67, 0.66, 0.66, 0.65, 0.65, 0.64, 0.64,\n",
       "       0.63, 0.63, 0.62, 0.62, 0.61, 0.61, 0.6 , 0.6 , 0.59, 0.59, 0.58,\n",
       "       0.58, 0.57, 0.57, 0.56, 0.56, 0.55, 0.55, 0.54, 0.54, 0.53, 0.53,\n",
       "       0.52, 0.52, 0.51, 0.51, 0.5 , 0.5 , 0.49, 0.49, 0.48, 0.48, 0.47,\n",
       "       0.47, 0.46, 0.46, 0.45, 0.45, 0.44, 0.44, 0.43, 0.43, 0.42, 0.42,\n",
       "       0.41, 0.41, 0.4 , 0.4 , 0.39, 0.39, 0.38, 0.38, 0.37, 0.37, 0.36,\n",
       "       0.36, 0.35, 0.35, 0.34, 0.34, 0.33, 0.33, 0.32, 0.32, 0.31, 0.31,\n",
       "       0.3 ])"
      ]
     },
     "execution_count": 7,
     "metadata": {},
     "output_type": "execute_result"
    }
   ],
   "source": [
    "jugadoras = np.append(mejor, peloton)\n",
    "# Reviso jugadoras\n",
    "jugadoras"
   ]
  },
  {
   "cell_type": "code",
   "execution_count": 8,
   "metadata": {},
   "outputs": [
    {
     "name": "stdout",
     "output_type": "stream",
     "text": [
      "1636\n"
     ]
    }
   ],
   "source": [
    "# Me fijo qué sucede si le hago realizar 100 tiros libres a las 100 jugadoras\n",
    "\n",
    "# vectorizo la funcion  ftirar\n",
    "vec_ftirar = np.vectorize(ftirar)\n",
    "\n",
    "# hago que las 100 jugadoras tiren 100 veces cada una\n",
    "vec_ftirar(jugadoras, 100)\n",
    "\n",
    "primera_ganadora = 0\n",
    "\n",
    "for i in range(10000): # diez mil experimentos\n",
    "  vaciertos = vec_ftirar(jugadoras, 10) # 10 tiros libres cada jugadora\n",
    "  mejor_ronda = np.argmax(vaciertos)\n",
    "  if mejor_ronda == 0:\n",
    "    primera_ganadora += 1\n",
    "\n",
    "\n",
    "\n",
    "\n",
    "print(primera_ganadora)"
   ]
  },
  {
   "cell_type": "markdown",
   "metadata": {},
   "source": [
    "En 10.000 experimentos, sólo en 1.636 casos la mejor jugadora que eligió la cazatalento 1 fue la mejor..."
   ]
  },
  {
   "cell_type": "markdown",
   "metadata": {},
   "source": [
    "- **Cazatalentos 2**: Llegué a una pequeña ciudad y habían 200 adolescentes en el gimnasio, hice tirar\n",
    "a cada una 100 tiros, sólo una obtuvo 80 aciertos, seis 79, cinco 78, y así descendían."
   ]
  },
  {
   "cell_type": "code",
   "execution_count": null,
   "metadata": {},
   "outputs": [],
   "source": [
    "Caso análogo al primero"
   ]
  },
  {
   "cell_type": "code",
   "execution_count": null,
   "metadata": {},
   "outputs": [],
   "source": []
  }
 ],
 "metadata": {
  "kernelspec": {
   "display_name": "base",
   "language": "python",
   "name": "python3"
  },
  "language_info": {
   "codemirror_mode": {
    "name": "ipython",
    "version": 3
   },
   "file_extension": ".py",
   "mimetype": "text/x-python",
   "name": "python",
   "nbconvert_exporter": "python",
   "pygments_lexer": "ipython3",
   "version": "3.8.5"
  },
  "orig_nbformat": 4
 },
 "nbformat": 4,
 "nbformat_minor": 2
}
